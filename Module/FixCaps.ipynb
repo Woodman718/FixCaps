{
 "cells": [
  {
   "cell_type": "code",
   "execution_count": 1,
   "metadata": {
    "execution": {
     "iopub.execute_input": "2022-04-29T23:48:44.151686Z",
     "iopub.status.busy": "2022-04-29T23:48:44.151686Z",
     "iopub.status.idle": "2022-04-29T23:48:44.192206Z",
     "shell.execute_reply": "2022-04-29T23:48:44.192206Z",
     "shell.execute_reply.started": "2022-04-29T23:48:44.151686Z"
    },
    "tags": []
   },
   "outputs": [],
   "source": [
    "%load_ext autoreload\n",
    "%autoreload 2"
   ]
  },
  {
   "cell_type": "code",
   "execution_count": 2,
   "metadata": {
    "execution": {
     "iopub.execute_input": "2022-04-29T23:48:44.193103Z",
     "iopub.status.busy": "2022-04-29T23:48:44.193103Z",
     "iopub.status.idle": "2022-04-29T23:48:45.879315Z",
     "shell.execute_reply": "2022-04-29T23:48:45.879315Z",
     "shell.execute_reply.started": "2022-04-29T23:48:44.193103Z"
    },
    "tags": [],
    "uuid": "5cde640c-432f-4f8a-9f00-017bf8c65e34"
   },
   "outputs": [],
   "source": [
    "import torch\n",
    "import sys, os\n",
    "import json\n",
    "import torch.nn as nn  \n",
    "import numpy as np\n",
    "import pandas as pd\n",
    "import matplotlib.pyplot as plt\n",
    "import torch.optim as optim\n",
    "\n",
    "import prettytable\n",
    "import time\n",
    "import sys\n",
    "sys.setrecursionlimit(18000)\n",
    "\n",
    "from PIL import Image\n",
    "from torch.optim import lr_scheduler\n",
    "from sklearn.metrics import roc_auc_score\n",
    "from torch.autograd import Variable\n",
    "from torchvision import datasets, transforms\n",
    "from torchsummary import summary\n",
    "from tqdm.notebook import tqdm\n",
    "from torch.utils.data import random_split\n",
    "\n",
    "from model0409 import FixCapsNet\n",
    "from images_show import ImageShow"
   ]
  },
  {
   "cell_type": "code",
   "execution_count": 3,
   "metadata": {
    "execution": {
     "iopub.execute_input": "2022-04-29T23:48:45.881191Z",
     "iopub.status.busy": "2022-04-29T23:48:45.880227Z",
     "iopub.status.idle": "2022-04-29T23:48:45.946209Z",
     "shell.execute_reply": "2022-04-29T23:48:45.943241Z",
     "shell.execute_reply.started": "2022-04-29T23:48:45.881191Z"
    },
    "tags": [],
    "uuid": "a391afe8-e37b-4ef6-ab2e-c0bdbb7849ee"
   },
   "outputs": [],
   "source": [
    "# Settings.\n",
    "sys.path.append(os.pardir)\n",
    "device = torch.device('cuda' if torch.cuda.is_available() else \"cpu\")\n",
    "img_title = \"HAM10000\"\n",
    "best_acc= 0.\n",
    "#defined \n",
    "try:\n",
    "    print(len(test_acc_list))\n",
    "except NameError:\n",
    "    train_loss_list = []\n",
    "    train_acc_list = []\n",
    "    test_loss_list = []\n",
    "    test_acc_list = []\n",
    "    test_auc_list = []\n",
    "    val_loss_list = []\n",
    "    val_acc_list = []\n",
    "#activate ImageShow\n",
    "show = ImageShow(train_loss_list=train_loss_list,\n",
    "                train_acc_list=train_acc_list,\n",
    "                test_loss_list=test_loss_list,\n",
    "                test_acc_list=test_acc_list,\n",
    "                test_auc_list=test_auc_list,\n",
    "                val_loss_list=val_loss_list,\n",
    "                val_acc_list=val_acc_list,\n",
    "                )"
   ]
  },
  {
   "cell_type": "code",
   "execution_count": 4,
   "metadata": {
    "execution": {
     "iopub.execute_input": "2022-04-29T23:48:45.947192Z",
     "iopub.status.busy": "2022-04-29T23:48:45.947192Z",
     "iopub.status.idle": "2022-04-29T23:48:46.009230Z",
     "shell.execute_reply": "2022-04-29T23:48:46.007200Z",
     "shell.execute_reply.started": "2022-04-29T23:48:45.947192Z"
    },
    "tags": []
   },
   "outputs": [],
   "source": [
    "data_transform = {\n",
    "    \"train\": transforms.Compose([transforms.RandomResizedCrop((299, 299)),\n",
    "                                 transforms.RandomVerticalFlip(),\n",
    "                                 transforms.ToTensor(),\n",
    "                                 transforms.Normalize((0.5, 0.5, 0.5), (0.5, 0.5, 0.5))]),\n",
    "    \"val\": transforms.Compose([transforms.Resize((308,308)),\n",
    "                               transforms.CenterCrop((299, 299)),\n",
    "                               transforms.ToTensor(),\n",
    "                               transforms.Normalize((0.5, 0.5, 0.5), (0.5, 0.5, 0.5))\n",
    "                              ])\n",
    "    }"
   ]
  },
  {
   "cell_type": "code",
   "execution_count": 37,
   "metadata": {
    "execution": {
     "iopub.execute_input": "2022-04-30T04:04:42.079169Z",
     "iopub.status.busy": "2022-04-30T04:04:42.079169Z",
     "iopub.status.idle": "2022-04-30T04:04:42.413424Z",
     "shell.execute_reply": "2022-04-30T04:04:42.413424Z",
     "shell.execute_reply.started": "2022-04-30T04:04:42.079169Z"
    },
    "tags": []
   },
   "outputs": [
    {
     "name": "stdout",
     "output_type": "stream",
     "text": [
      "Using 7 types.\n",
      "Using 8 dataloader workers every process.\n",
      "using 51699 images for training, 828 images for validation.\n"
     ]
    }
   ],
   "source": [
    "root_path = os.path.abspath(os.path.join(os.getcwd(), \"..\"))\n",
    "image_path = os.path.abspath(os.path.join(root_path,\"skin_lesion\"))\n",
    "assert os.path.exists(image_path), \"{} path does not exist.\".format(image_path)\n",
    "\n",
    "train_dataset = datasets.ImageFolder(root=os.path.join(image_path, \"train\"),\n",
    "                                     transform=data_transform[\"train\"])\n",
    "test_dataset = datasets.ImageFolder(root=os.path.join(image_path,\"test\"),\n",
    "                                      transform=data_transform[\"val\"])\n",
    "train_num = len(train_dataset)\n",
    "test_num = len(test_dataset)\n",
    "\n",
    "img_sample = Image.open(test_dataset.imgs[1][0])\n",
    "n_channels = np.array(img_sample).shape[2]#(H,W,C)\n",
    "\n",
    "data_list = train_dataset.class_to_idx #\n",
    "cla_dict = dict((val, key) for key, val in data_list.items())\n",
    "n_classes  = len(data_list)\n",
    "print(f'Using {n_classes} types.')\n",
    "\n",
    "# write dict into json file\n",
    "json_str = json.dumps(cla_dict, indent=4)\n",
    "with open(f'{img_title}.json', 'w') as json_file:#class_indices\n",
    "    json_file.write(json_str)\n",
    "\n",
    "BatchSize = 168\n",
    "T_size = 31\n",
    "nw = min([os.cpu_count(), BatchSize if BatchSize > 1 else 0, 8]) \n",
    "print(f'Using {nw} dataloader workers every process.')\n",
    "pin_memory = True\n",
    "train_loader = torch.utils.data.DataLoader(train_dataset, batch_size=BatchSize,pin_memory=pin_memory,\n",
    "                                           shuffle=True, num_workers=nw)\n",
    "test_loader = torch.utils.data.DataLoader(test_dataset,batch_size=T_size,pin_memory=pin_memory,\n",
    "                                          shuffle=False, num_workers=nw)\n",
    "\n",
    "print(\"using {} images for training, {} images for validation.\".format(train_num, test_num))"
   ]
  },
  {
   "cell_type": "code",
   "execution_count": 6,
   "metadata": {
    "execution": {
     "iopub.execute_input": "2022-04-29T23:48:46.391886Z",
     "iopub.status.busy": "2022-04-29T23:48:46.391886Z",
     "iopub.status.idle": "2022-04-29T23:48:52.926871Z",
     "shell.execute_reply": "2022-04-29T23:48:52.926871Z",
     "shell.execute_reply.started": "2022-04-29T23:48:46.391886Z"
    },
    "scrolled": true,
    "tags": [],
    "uuid": "35479142-bb8f-4c72-b31f-04bed7bf7c10"
   },
   "outputs": [
    {
     "name": "stdout",
     "output_type": "stream",
     "text": [
      "----------------------------------------------------------------\n",
      "        Layer (type)               Output Shape         Param #\n",
      "================================================================\n",
      "            Conv2d-1        [-1, 128, 135, 135]         369,152\n",
      "              ReLU-2        [-1, 128, 135, 135]               0\n",
      "FractionalMaxPool2d-3          [-1, 128, 20, 20]               0\n",
      "            Conv2d-4          [-1, 128, 20, 20]          16,384\n",
      "       BatchNorm2d-5          [-1, 128, 20, 20]             256\n",
      "         Hardswish-6          [-1, 128, 20, 20]               0\n",
      " AdaptiveAvgPool2d-7            [-1, 128, 1, 1]               0\n",
      "            Conv2d-8            [-1, 128, 1, 1]          16,384\n",
      "              ReLU-9            [-1, 128, 1, 1]               0\n",
      "           Conv2d-10            [-1, 128, 1, 1]          16,384\n",
      "AdaptiveMaxPool2d-11            [-1, 128, 1, 1]               0\n",
      "           Conv2d-12            [-1, 128, 1, 1]          16,384\n",
      "             ReLU-13            [-1, 128, 1, 1]               0\n",
      "           Conv2d-14            [-1, 128, 1, 1]          16,384\n",
      "          Sigmoid-15            [-1, 128, 1, 1]               0\n",
      " ChannelAttention-16            [-1, 128, 1, 1]               0\n",
      "           Conv2d-17            [-1, 1, 20, 20]              18\n",
      "          Sigmoid-18            [-1, 1, 20, 20]               0\n",
      " SpatialAttention-19            [-1, 1, 20, 20]               0\n",
      "        Conv_CBAM-20          [-1, 128, 20, 20]               0\n",
      "           Conv2d-21             [-1, 16, 6, 6]          10,384\n",
      "         ConvUnit-22             [-1, 16, 6, 6]               0\n",
      "           Conv2d-23             [-1, 16, 6, 6]          10,384\n",
      "         ConvUnit-24             [-1, 16, 6, 6]               0\n",
      "           Conv2d-25             [-1, 16, 6, 6]          10,384\n",
      "         ConvUnit-26             [-1, 16, 6, 6]               0\n",
      "           Conv2d-27             [-1, 16, 6, 6]          10,384\n",
      "         ConvUnit-28             [-1, 16, 6, 6]               0\n",
      "           Conv2d-29             [-1, 16, 6, 6]          10,384\n",
      "         ConvUnit-30             [-1, 16, 6, 6]               0\n",
      "           Conv2d-31             [-1, 16, 6, 6]          10,384\n",
      "         ConvUnit-32             [-1, 16, 6, 6]               0\n",
      "           Conv2d-33             [-1, 16, 6, 6]          10,384\n",
      "         ConvUnit-34             [-1, 16, 6, 6]               0\n",
      "           Conv2d-35             [-1, 16, 6, 6]          10,384\n",
      "         ConvUnit-36             [-1, 16, 6, 6]               0\n",
      "     Primary_Caps-37               [-1, 8, 576]               0\n",
      "      Digits_Caps-38             [-1, 7, 16, 1]               0\n",
      "================================================================\n",
      "Total params: 534,418\n",
      "Trainable params: 534,418\n",
      "Non-trainable params: 0\n",
      "----------------------------------------------------------------\n",
      "Input size (MB): 1.02\n",
      "Forward/backward pass size (MB): 37.67\n",
      "Params size (MB): 2.04\n",
      "Estimated Total Size (MB): 40.74\n",
      "----------------------------------------------------------------\n"
     ]
    }
   ],
   "source": [
    "# Create capsule network.\n",
    "conv_outputs = 128 #128_Feature_map\n",
    "num_primary_units = 8\n",
    "primary_unit_size = 16 * 6 * 6\n",
    "output_unit_size = 16\n",
    "img_size = 299\n",
    "network = FixCapsNet(conv_inputs= n_channels,\n",
    "                     conv_outputs=conv_outputs,\n",
    "                     num_primary_units=num_primary_units,\n",
    "                     primary_unit_size=primary_unit_size,\n",
    "                     output_unit_size=output_unit_size,\n",
    "                     num_classes=n_classes,\n",
    "                     init_weights=True)\n",
    "\n",
    "network = network.to(device)\n",
    "summary(network,(n_channels,img_size,img_size))\n",
    "# network"
   ]
  },
  {
   "cell_type": "code",
   "execution_count": 7,
   "metadata": {
    "execution": {
     "iopub.execute_input": "2022-04-29T23:48:52.927848Z",
     "iopub.status.busy": "2022-04-29T23:48:52.927848Z",
     "iopub.status.idle": "2022-04-29T23:48:52.990036Z",
     "shell.execute_reply": "2022-04-29T23:48:52.990036Z",
     "shell.execute_reply.started": "2022-04-29T23:48:52.927848Z"
    },
    "tags": []
   },
   "outputs": [],
   "source": [
    "learning_rate = 0.123\n",
    "optimizer = optim.Adam(network.parameters(), lr=learning_rate)\n",
    "scheduler = lr_scheduler.CosineAnnealingLR(optimizer, 5, eta_min=1e-8, last_epoch=-1)"
   ]
  },
  {
   "cell_type": "code",
   "execution_count": 8,
   "metadata": {
    "execution": {
     "iopub.execute_input": "2022-04-29T23:48:52.990919Z",
     "iopub.status.busy": "2022-04-29T23:48:52.990919Z",
     "iopub.status.idle": "2022-04-29T23:48:53.053572Z",
     "shell.execute_reply": "2022-04-29T23:48:53.053572Z",
     "shell.execute_reply.started": "2022-04-29T23:48:52.990919Z"
    },
    "tags": []
   },
   "outputs": [],
   "source": [
    "def confusion_matrix(evl_result):\n",
    "\n",
    "    plt.style.use(\"seaborn\")#classic\n",
    "    plt.yticks(range(n_classes),cla_dict.values())\n",
    "    plt.xticks(range(n_classes),cla_dict.values())    \n",
    "    plt.title(\"Confusion Matrix\")\n",
    "    plt.imshow(evl_result,cmap=plt.cm.Greens)\n",
    "    for i in range(len(evl_result)):\n",
    "        for j in range(len(evl_result[i])):\n",
    "            plt.text(j,i,int(evl_result[i][j]))\n",
    "\n",
    "    plt.colorbar()\n",
    "    plt.savefig(f\"./tmp/{img_title}/{suf}/Confusion Matrix.png\",dpi=128)"
   ]
  },
  {
   "cell_type": "code",
   "execution_count": 9,
   "metadata": {
    "execution": {
     "iopub.execute_input": "2022-04-29T23:48:53.054564Z",
     "iopub.status.busy": "2022-04-29T23:48:53.054564Z",
     "iopub.status.idle": "2022-04-29T23:48:53.117349Z",
     "shell.execute_reply": "2022-04-29T23:48:53.117349Z",
     "shell.execute_reply.started": "2022-04-29T23:48:53.054564Z"
    },
    "tags": []
   },
   "outputs": [],
   "source": [
    "def self_scores(opt=\"scores\"):\n",
    "    result_table = prettytable.PrettyTable()\n",
    "    result_table.field_names = ['Type','Precision', 'Recall', 'F1','Accuracy']    \n",
    "    accuracy = float(torch.sum(evl_result.diagonal())/torch.sum(evl_result))\n",
    "\n",
    "    for i in range(n_classes):\n",
    "        pre = float(evl_result[i][i] / torch.sum(evl_result,0)[i])#\n",
    "        recal = float(evl_result[i][i] / torch.sum(evl_result,1)[i])#torch.sum(result_table[i])\n",
    "        F1 = pre * recal * 2 / (pre + recal + 1e-7)\n",
    "        result_table.add_row([cla_dict[i], round(pre, 4), round(recal, 3), round(F1, 3),\" \"])\n",
    "\n",
    "    result_table.add_row([\"Total:\", \" \", \" \", \" \",round(accuracy,4)])\n",
    "    print(result_table)"
   ]
  },
  {
   "cell_type": "code",
   "execution_count": 10,
   "metadata": {
    "execution": {
     "iopub.execute_input": "2022-04-29T23:48:53.118342Z",
     "iopub.status.busy": "2022-04-29T23:48:53.118342Z",
     "iopub.status.idle": "2022-04-29T23:48:53.165343Z",
     "shell.execute_reply": "2022-04-29T23:48:53.165343Z",
     "shell.execute_reply.started": "2022-04-29T23:48:53.118342Z"
    },
    "tags": []
   },
   "outputs": [],
   "source": [
    "# Converts batches of class indices to classes of one-hot vectors.\n",
    "def to_one_hot(x, length):\n",
    "    batch_size = x.size(0)\n",
    "    x_one_hot = torch.zeros(batch_size, length)\n",
    "    for i in range(batch_size):\n",
    "        x_one_hot[i, x[i]] = 1.0\n",
    "    return x_one_hot"
   ]
  },
  {
   "cell_type": "code",
   "execution_count": 11,
   "metadata": {
    "execution": {
     "iopub.execute_input": "2022-04-29T23:48:53.166347Z",
     "iopub.status.busy": "2022-04-29T23:48:53.166347Z",
     "iopub.status.idle": "2022-04-29T23:48:53.229473Z",
     "shell.execute_reply": "2022-04-29T23:48:53.229473Z",
     "shell.execute_reply.started": "2022-04-29T23:48:53.166347Z"
    },
    "tags": [],
    "uuid": "86f92f63-16e2-4ca6-b5da-d848546a391e"
   },
   "outputs": [],
   "source": [
    "def train(epoch):\n",
    "    network.train()\n",
    "    running_loss,r_pre = 0., 0.\n",
    "    print_step = len(train_loader)//2\n",
    "    print(f'Epoch: [{epoch}] {img_title} ==> Training ...')\n",
    "    \n",
    "    for batch_idx, (data, target) in enumerate(tqdm(train_loader)):        \n",
    "        # target = torch.as_tensor(target, dtype=torch.int64)#for windows\n",
    "\n",
    "        batch_idx += 1\n",
    "        target_indices = target\n",
    "        target_one_hot = to_one_hot(target, length=n_classes)\n",
    "        data, target = Variable(data).to(device), Variable(target_one_hot).to(device)\n",
    "        optimizer.zero_grad()\n",
    "        output = network(data)\n",
    "\n",
    "        v_mag = torch.sqrt(torch.sum(output**2, dim=2, keepdim=True)) \n",
    "        pred = v_mag.data.max(1, keepdim=True)[1].cpu().squeeze()\n",
    "        r_pre += pred.eq(target_indices.view_as(pred)).squeeze().sum()\n",
    "        \n",
    "        loss = network.loss(output, target)\n",
    "        loss.backward()\n",
    "        optimizer.step()\n",
    "        running_loss += loss.item()\n",
    "        if batch_idx % print_step == 0:\n",
    "            print(\"[{}/{}] Loss{:.5f}, ACC:{:.5f}%\".format(batch_idx,len(train_loader),\n",
    "                                                           loss,\n",
    "                                                           r_pre/(batch_idx*BatchSize),))\n",
    "    epoch_acc = r_pre / train_num\n",
    "    epoch_loss = running_loss / len(train_loader)    \n",
    "    train_loss_list.append(epoch_loss)\n",
    "    train_acc_list.append(epoch_acc)\n",
    "    \n",
    "    print(f'Train_Loss: {epoch_loss},ACC:{round(float(epoch_acc),3)}%')   \n",
    "    scheduler.step()"
   ]
  },
  {
   "cell_type": "code",
   "execution_count": 12,
   "metadata": {
    "execution": {
     "iopub.execute_input": "2022-04-29T23:48:53.232342Z",
     "iopub.status.busy": "2022-04-29T23:48:53.231342Z",
     "iopub.status.idle": "2022-04-29T23:48:53.293471Z",
     "shell.execute_reply": "2022-04-29T23:48:53.293471Z",
     "shell.execute_reply.started": "2022-04-29T23:48:53.232342Z"
    },
    "tags": [],
    "uuid": "f010e769-677f-416b-8ce8-9f4186dce054"
   },
   "outputs": [],
   "source": [
    "def test():\n",
    "    network.eval()\n",
    "    global best_acc,evl_result,evl_tmp_result,net_parameters\n",
    "    cor_loss,correct,tmp_size, Acc=  0, 0, 0, 0\n",
    "    evl_tmp_result = torch.zeros(n_classes,n_classes)\n",
    "    steps_num = len(test_loader)#len(test_loader) * T_size\n",
    "    tmp_size = T_size\n",
    "    print(f'\\033[66m{img_title} ==> testing ...\\033[0m')\n",
    "    with torch.no_grad():\n",
    "        for batch_idx, (data, target) in enumerate(tqdm(test_loader)):\n",
    "\n",
    "            batch_idx +=1\n",
    "            target_indices = target\n",
    "            #torch.Size([128, 7]),tensor([[0., 0., 0., 0., 0., 1., 0.],...,[0., 0., 0., 0., 0., 1., 0.]])\n",
    "            target_one_hot = to_one_hot(target_indices, length=n_classes)            \n",
    "            data, target = Variable(data).to(device), Variable(target_one_hot).to(device)\n",
    "\n",
    "            output = network(data)#torch.Size([batch_size, 7, 16, 1])        \n",
    "            v_mag = torch.sqrt(torch.sum(output**2, dim=2, keepdim=True)) \n",
    "            pred = v_mag.data.max(1, keepdim=True)[1].cpu()#[9, 2, 1, 1, 6,..., 1, 4, 6, 5, 7,]  \n",
    "               \n",
    "            if batch_idx % steps_num == 0 and test_num % T_size != 0:\n",
    "                tmp_size = test_num % T_size\n",
    "\n",
    "            for i in range(tmp_size):\n",
    "                pred_y = pred.numpy()         \n",
    "                evl_tmp_result[target_indices[i]][pred[i]] +=1 \n",
    "    \n",
    "    diag_sum = torch.sum(evl_tmp_result.diagonal())\n",
    "    all_sum = torch.sum(evl_tmp_result)   \n",
    "    accuracy = 100. * float(torch.div(diag_sum,all_sum)) \n",
    "    test_acc_list.append(accuracy)\n",
    "    \n",
    "    print(f\"Test_Acc:\\033[1;32m{round(float(accuracy),3)}%\\033[0m\")\n",
    "\n",
    "    if accuracy > best_acc:\n",
    "        best_acc = accuracy\n",
    "        evl_result = evl_tmp_result.clone()#copy.deepcopy(input)\n",
    "        torch.save(network.state_dict(), save_PATH)\n",
    "        torch.save(evl_result, f'./tmp/{img_title}/{suf}/best_evl_result.pt')\n",
    "        \n",
    "    print(f'Best_ACC[\\033[1;32m{round(float(best_acc),3)}%\\033[0m]')"
   ]
  },
  {
   "cell_type": "code",
   "execution_count": 13,
   "metadata": {
    "execution": {
     "iopub.execute_input": "2022-04-29T23:48:53.294344Z",
     "iopub.status.busy": "2022-04-29T23:48:53.294344Z",
     "iopub.status.idle": "2022-04-29T23:48:53.372466Z",
     "shell.execute_reply": "2022-04-29T23:48:53.372466Z",
     "shell.execute_reply.started": "2022-04-29T23:48:53.294344Z"
    },
    "tags": []
   },
   "outputs": [
    {
     "name": "stdout",
     "output_type": "stream",
     "text": [
      "suf:0430_074853\n",
      "./tmp/HAM10000/0430_074853/best_HAM10000_0430_074853.pth\n"
     ]
    },
    {
     "name": "stderr",
     "output_type": "stream",
     "text": [
      "子目录或文件 #windows 已经存在。\n",
      "处理: #windows 时出错。\n"
     ]
    }
   ],
   "source": [
    "#create store\n",
    "try:\n",
    "    print(f\"suf:{suf}\")\n",
    "except NameError:\n",
    "    suf = time.strftime(\"%m%d_%H%M%S\", time.localtime())\n",
    "    print(f\"suf:{suf}\")\n",
    "if os.path.exists(f'./tmp/{img_title}/{suf}'):\n",
    "    print (f'Store: ./tmp/{img_title}/{suf}')\n",
    "else:\n",
    "#     !mkdir -p ./tmp/{img_title}/{suf} #linux\n",
    "    !md E:\\Jupyter\\woodman\\Caps\\FixCaps\\tmp\\{img_title}\\{suf} #windows\n",
    "save_PATH = f'./tmp/{img_title}/{suf}/best_{img_title}_{suf}.pth'\n",
    "print(save_PATH)"
   ]
  },
  {
   "cell_type": "code",
   "execution_count": 14,
   "metadata": {
    "execution": {
     "iopub.execute_input": "2022-04-29T23:48:53.373372Z",
     "iopub.status.busy": "2022-04-29T23:48:53.373372Z",
     "iopub.status.idle": "2022-04-29T23:48:53.436371Z",
     "shell.execute_reply": "2022-04-29T23:48:53.436371Z",
     "shell.execute_reply.started": "2022-04-29T23:48:53.373372Z"
    },
    "scrolled": true,
    "tags": [],
    "uuid": "edaf3774-de76-44a5-aabd-fb52532ea36e"
   },
   "outputs": [],
   "source": [
    "num_epochs = 100"
   ]
  },
  {
   "cell_type": "code",
   "execution_count": 15,
   "metadata": {
    "execution": {
     "iopub.execute_input": "2022-04-29T23:48:53.437343Z",
     "iopub.status.busy": "2022-04-29T23:48:53.437343Z",
     "iopub.status.idle": "2022-04-30T03:43:10.619151Z",
     "shell.execute_reply": "2022-04-30T03:43:10.610904Z",
     "shell.execute_reply.started": "2022-04-29T23:48:53.437343Z"
    },
    "scrolled": true,
    "tags": [],
    "uuid": "edaf3774-de76-44a5-aabd-fb52532ea36e"
   },
   "outputs": [
    {
     "name": "stdout",
     "output_type": "stream",
     "text": [
      "Epoch: [1] HAM10000 ==> Training ...\n"
     ]
    },
    {
     "data": {
      "application/vnd.jupyter.widget-view+json": {
       "model_id": "7160aa4da1e14f368441e32dd196dc83",
       "version_major": 2,
       "version_minor": 0
      },
      "text/plain": [
       "  0%|          | 0/308 [00:00<?, ?it/s]"
      ]
     },
     "metadata": {},
     "output_type": "display_data"
    },
    {
     "name": "stdout",
     "output_type": "stream",
     "text": [
      "[154/308] Loss0.40259, ACC:0.31807%\n",
      "[308/308] Loss0.38982, ACC:0.36727%\n",
      "Train_Loss: 0.4071033077387067,ACC:0.368%\n",
      "\u001b[66mHAM10000 ==> testing ...\u001b[0m\n"
     ]
    },
    {
     "data": {
      "application/vnd.jupyter.widget-view+json": {
       "model_id": "27d9d2ef26da4621afa34ec679f9e973",
       "version_major": 2,
       "version_minor": 0
      },
      "text/plain": [
       "  0%|          | 0/26 [00:00<?, ?it/s]"
      ]
     },
     "metadata": {},
     "output_type": "display_data"
    },
    {
     "name": "stdout",
     "output_type": "stream",
     "text": [
      "Test_Acc:\u001b[1;32m81.159%\u001b[0m\n",
      "Best_ACC[\u001b[1;32m81.159%\u001b[0m]\n",
      "Epoch: [2] HAM10000 ==> Training ...\n"
     ]
    },
    {
     "data": {
      "application/vnd.jupyter.widget-view+json": {
       "model_id": "dd0d6c79abf84159a2317f30d4fe8646",
       "version_major": 2,
       "version_minor": 0
      },
      "text/plain": [
       "  0%|          | 0/308 [00:00<?, ?it/s]"
      ]
     },
     "metadata": {},
     "output_type": "display_data"
    },
    {
     "name": "stdout",
     "output_type": "stream",
     "text": [
      "[154/308] Loss0.36998, ACC:0.46347%\n",
      "[308/308] Loss0.31959, ACC:0.48164%\n",
      "Train_Loss: 0.33896152829969084,ACC:0.482%\n",
      "\u001b[66mHAM10000 ==> testing ...\u001b[0m\n"
     ]
    },
    {
     "data": {
      "application/vnd.jupyter.widget-view+json": {
       "model_id": "22fa486695f94d588313fd3570a25a6c",
       "version_major": 2,
       "version_minor": 0
      },
      "text/plain": [
       "  0%|          | 0/26 [00:00<?, ?it/s]"
      ]
     },
     "metadata": {},
     "output_type": "display_data"
    },
    {
     "name": "stdout",
     "output_type": "stream",
     "text": [
      "Test_Acc:\u001b[1;32m83.213%\u001b[0m\n",
      "Best_ACC[\u001b[1;32m83.213%\u001b[0m]\n",
      "Epoch: [3] HAM10000 ==> Training ...\n"
     ]
    },
    {
     "data": {
      "application/vnd.jupyter.widget-view+json": {
       "model_id": "2b7a073f239c44a7a55cbaff6ac21c1d",
       "version_major": 2,
       "version_minor": 0
      },
      "text/plain": [
       "  0%|          | 0/308 [00:00<?, ?it/s]"
      ]
     },
     "metadata": {},
     "output_type": "display_data"
    },
    {
     "name": "stdout",
     "output_type": "stream",
     "text": [
      "[154/308] Loss0.31056, ACC:0.51998%\n",
      "[308/308] Loss0.30951, ACC:0.53237%\n",
      "Train_Loss: 0.3098358253573442,ACC:0.533%\n",
      "\u001b[66mHAM10000 ==> testing ...\u001b[0m\n"
     ]
    },
    {
     "data": {
      "application/vnd.jupyter.widget-view+json": {
       "model_id": "534e3846edf44352b646f6ad843e82a5",
       "version_major": 2,
       "version_minor": 0
      },
      "text/plain": [
       "  0%|          | 0/26 [00:00<?, ?it/s]"
      ]
     },
     "metadata": {},
     "output_type": "display_data"
    },
    {
     "name": "stdout",
     "output_type": "stream",
     "text": [
      "Test_Acc:\u001b[1;32m86.232%\u001b[0m\n",
      "Best_ACC[\u001b[1;32m86.232%\u001b[0m]\n",
      "Epoch: [4] HAM10000 ==> Training ...\n"
     ]
    },
    {
     "data": {
      "application/vnd.jupyter.widget-view+json": {
       "model_id": "7d44406d7cb44d73a413ef01f99d1832",
       "version_major": 2,
       "version_minor": 0
      },
      "text/plain": [
       "  0%|          | 0/308 [00:00<?, ?it/s]"
      ]
     },
     "metadata": {},
     "output_type": "display_data"
    },
    {
     "name": "stdout",
     "output_type": "stream",
     "text": [
      "[154/308] Loss0.29325, ACC:0.55543%\n",
      "[308/308] Loss0.30013, ACC:0.55933%\n",
      "Train_Loss: 0.2929197248410095,ACC:0.56%\n",
      "\u001b[66mHAM10000 ==> testing ...\u001b[0m\n"
     ]
    },
    {
     "data": {
      "application/vnd.jupyter.widget-view+json": {
       "model_id": "8c7ffa08f17549e0a7448653d552a608",
       "version_major": 2,
       "version_minor": 0
      },
      "text/plain": [
       "  0%|          | 0/26 [00:00<?, ?it/s]"
      ]
     },
     "metadata": {},
     "output_type": "display_data"
    },
    {
     "name": "stdout",
     "output_type": "stream",
     "text": [
      "Test_Acc:\u001b[1;32m85.386%\u001b[0m\n",
      "Best_ACC[\u001b[1;32m86.232%\u001b[0m]\n",
      "Epoch: [5] HAM10000 ==> Training ...\n"
     ]
    },
    {
     "data": {
      "application/vnd.jupyter.widget-view+json": {
       "model_id": "edef7d365a984707891d999687589518",
       "version_major": 2,
       "version_minor": 0
      },
      "text/plain": [
       "  0%|          | 0/308 [00:00<?, ?it/s]"
      ]
     },
     "metadata": {},
     "output_type": "display_data"
    },
    {
     "name": "stdout",
     "output_type": "stream",
     "text": [
      "[154/308] Loss0.27699, ACC:0.57939%\n",
      "[308/308] Loss0.28060, ACC:0.57864%\n",
      "Train_Loss: 0.282022031096669,ACC:0.579%\n",
      "\u001b[66mHAM10000 ==> testing ...\u001b[0m\n"
     ]
    },
    {
     "data": {
      "application/vnd.jupyter.widget-view+json": {
       "model_id": "7404e67678c149cd99d663e91a9cd345",
       "version_major": 2,
       "version_minor": 0
      },
      "text/plain": [
       "  0%|          | 0/26 [00:00<?, ?it/s]"
      ]
     },
     "metadata": {},
     "output_type": "display_data"
    },
    {
     "name": "stdout",
     "output_type": "stream",
     "text": [
      "Test_Acc:\u001b[1;32m86.473%\u001b[0m\n",
      "Best_ACC[\u001b[1;32m86.473%\u001b[0m]\n",
      "Epoch: [6] HAM10000 ==> Training ...\n"
     ]
    },
    {
     "data": {
      "application/vnd.jupyter.widget-view+json": {
       "model_id": "d3582664624745819e871efb222c2be4",
       "version_major": 2,
       "version_minor": 0
      },
      "text/plain": [
       "  0%|          | 0/308 [00:00<?, ?it/s]"
      ]
     },
     "metadata": {},
     "output_type": "display_data"
    },
    {
     "name": "stdout",
     "output_type": "stream",
     "text": [
      "[154/308] Loss0.30028, ACC:0.57815%\n",
      "[308/308] Loss0.27570, ACC:0.57841%\n",
      "Train_Loss: 0.2802017117282013,ACC:0.579%\n",
      "\u001b[66mHAM10000 ==> testing ...\u001b[0m\n"
     ]
    },
    {
     "data": {
      "application/vnd.jupyter.widget-view+json": {
       "model_id": "67dc765ac39c4dc68da715679a0cec4c",
       "version_major": 2,
       "version_minor": 0
      },
      "text/plain": [
       "  0%|          | 0/26 [00:00<?, ?it/s]"
      ]
     },
     "metadata": {},
     "output_type": "display_data"
    },
    {
     "name": "stdout",
     "output_type": "stream",
     "text": [
      "Test_Acc:\u001b[1;32m87.077%\u001b[0m\n",
      "Best_ACC[\u001b[1;32m87.077%\u001b[0m]\n",
      "Epoch: [7] HAM10000 ==> Training ...\n"
     ]
    },
    {
     "data": {
      "application/vnd.jupyter.widget-view+json": {
       "model_id": "09992b2fe4594dde9540f27fae3550af",
       "version_major": 2,
       "version_minor": 0
      },
      "text/plain": [
       "  0%|          | 0/308 [00:00<?, ?it/s]"
      ]
     },
     "metadata": {},
     "output_type": "display_data"
    },
    {
     "name": "stdout",
     "output_type": "stream",
     "text": [
      "[154/308] Loss0.27024, ACC:0.58221%\n",
      "[308/308] Loss0.28844, ACC:0.58409%\n",
      "Train_Loss: 0.27906402181108275,ACC:0.585%\n",
      "\u001b[66mHAM10000 ==> testing ...\u001b[0m\n"
     ]
    },
    {
     "data": {
      "application/vnd.jupyter.widget-view+json": {
       "model_id": "388e4af4e0714473bfa37894bd25c82c",
       "version_major": 2,
       "version_minor": 0
      },
      "text/plain": [
       "  0%|          | 0/26 [00:00<?, ?it/s]"
      ]
     },
     "metadata": {},
     "output_type": "display_data"
    },
    {
     "name": "stdout",
     "output_type": "stream",
     "text": [
      "Test_Acc:\u001b[1;32m86.594%\u001b[0m\n",
      "Best_ACC[\u001b[1;32m87.077%\u001b[0m]\n",
      "Epoch: [8] HAM10000 ==> Training ...\n"
     ]
    },
    {
     "data": {
      "application/vnd.jupyter.widget-view+json": {
       "model_id": "57536f33540c405d83b51a5ae4984976",
       "version_major": 2,
       "version_minor": 0
      },
      "text/plain": [
       "  0%|          | 0/308 [00:00<?, ?it/s]"
      ]
     },
     "metadata": {},
     "output_type": "display_data"
    },
    {
     "name": "stdout",
     "output_type": "stream",
     "text": [
      "[154/308] Loss0.27700, ACC:0.57784%\n",
      "[308/308] Loss0.27876, ACC:0.57879%\n",
      "Train_Loss: 0.2823703786866231,ACC:0.579%\n",
      "\u001b[66mHAM10000 ==> testing ...\u001b[0m\n"
     ]
    },
    {
     "data": {
      "application/vnd.jupyter.widget-view+json": {
       "model_id": "0e74aeb1e70749b3b572e443590c8afc",
       "version_major": 2,
       "version_minor": 0
      },
      "text/plain": [
       "  0%|          | 0/26 [00:00<?, ?it/s]"
      ]
     },
     "metadata": {},
     "output_type": "display_data"
    },
    {
     "name": "stdout",
     "output_type": "stream",
     "text": [
      "Test_Acc:\u001b[1;32m87.077%\u001b[0m\n",
      "Best_ACC[\u001b[1;32m87.077%\u001b[0m]\n",
      "Epoch: [9] HAM10000 ==> Training ...\n"
     ]
    },
    {
     "data": {
      "application/vnd.jupyter.widget-view+json": {
       "model_id": "0d968c3d82304d5f94bb9f88f93fed89",
       "version_major": 2,
       "version_minor": 0
      },
      "text/plain": [
       "  0%|          | 0/308 [00:00<?, ?it/s]"
      ]
     },
     "metadata": {},
     "output_type": "display_data"
    },
    {
     "name": "stdout",
     "output_type": "stream",
     "text": [
      "[154/308] Loss0.26353, ACC:0.57491%\n",
      "[308/308] Loss0.28558, ACC:0.57746%\n",
      "Train_Loss: 0.2817112553332533,ACC:0.578%\n",
      "\u001b[66mHAM10000 ==> testing ...\u001b[0m\n"
     ]
    },
    {
     "data": {
      "application/vnd.jupyter.widget-view+json": {
       "model_id": "f298bf542bd44405893222d6558752f5",
       "version_major": 2,
       "version_minor": 0
      },
      "text/plain": [
       "  0%|          | 0/26 [00:00<?, ?it/s]"
      ]
     },
     "metadata": {},
     "output_type": "display_data"
    },
    {
     "name": "stdout",
     "output_type": "stream",
     "text": [
      "Test_Acc:\u001b[1;32m81.763%\u001b[0m\n",
      "Best_ACC[\u001b[1;32m87.077%\u001b[0m]\n",
      "Epoch: [10] HAM10000 ==> Training ...\n"
     ]
    },
    {
     "data": {
      "application/vnd.jupyter.widget-view+json": {
       "model_id": "032fd2faa51746e7b568fef74325708a",
       "version_major": 2,
       "version_minor": 0
      },
      "text/plain": [
       "  0%|          | 0/308 [00:00<?, ?it/s]"
      ]
     },
     "metadata": {},
     "output_type": "display_data"
    },
    {
     "name": "stdout",
     "output_type": "stream",
     "text": [
      "[154/308] Loss0.27512, ACC:0.57854%\n",
      "[308/308] Loss0.27013, ACC:0.58295%\n",
      "Train_Loss: 0.2795225598595359,ACC:0.583%\n",
      "\u001b[66mHAM10000 ==> testing ...\u001b[0m\n"
     ]
    },
    {
     "data": {
      "application/vnd.jupyter.widget-view+json": {
       "model_id": "5cca098dee464d49b5dbf1870b7188c4",
       "version_major": 2,
       "version_minor": 0
      },
      "text/plain": [
       "  0%|          | 0/26 [00:00<?, ?it/s]"
      ]
     },
     "metadata": {},
     "output_type": "display_data"
    },
    {
     "name": "stdout",
     "output_type": "stream",
     "text": [
      "Test_Acc:\u001b[1;32m84.3%\u001b[0m\n",
      "Best_ACC[\u001b[1;32m87.077%\u001b[0m]\n",
      "Epoch: [11] HAM10000 ==> Training ...\n"
     ]
    },
    {
     "data": {
      "application/vnd.jupyter.widget-view+json": {
       "model_id": "e910c06cd96542c6acd04c2a7f803540",
       "version_major": 2,
       "version_minor": 0
      },
      "text/plain": [
       "  0%|          | 0/308 [00:00<?, ?it/s]"
      ]
     },
     "metadata": {},
     "output_type": "display_data"
    },
    {
     "name": "stdout",
     "output_type": "stream",
     "text": [
      "[154/308] Loss0.29006, ACC:0.59373%\n",
      "[308/308] Loss0.29130, ACC:0.59501%\n",
      "Train_Loss: 0.273121959638673,ACC:0.596%\n",
      "\u001b[66mHAM10000 ==> testing ...\u001b[0m\n"
     ]
    },
    {
     "data": {
      "application/vnd.jupyter.widget-view+json": {
       "model_id": "a617c760b84f4ca0b83849c24212dc5c",
       "version_major": 2,
       "version_minor": 0
      },
      "text/plain": [
       "  0%|          | 0/26 [00:00<?, ?it/s]"
      ]
     },
     "metadata": {},
     "output_type": "display_data"
    },
    {
     "name": "stdout",
     "output_type": "stream",
     "text": [
      "Test_Acc:\u001b[1;32m43.841%\u001b[0m\n",
      "Best_ACC[\u001b[1;32m87.077%\u001b[0m]\n",
      "Epoch: [12] HAM10000 ==> Training ...\n"
     ]
    },
    {
     "data": {
      "application/vnd.jupyter.widget-view+json": {
       "model_id": "18c06b11a4ed40e682ee9b247ee5725d",
       "version_major": 2,
       "version_minor": 0
      },
      "text/plain": [
       "  0%|          | 0/308 [00:00<?, ?it/s]"
      ]
     },
     "metadata": {},
     "output_type": "display_data"
    },
    {
     "name": "stdout",
     "output_type": "stream",
     "text": [
      "[154/308] Loss0.24481, ACC:0.60509%\n",
      "[308/308] Loss0.26539, ACC:0.60610%\n",
      "Train_Loss: 0.26583634752344776,ACC:0.607%\n",
      "\u001b[66mHAM10000 ==> testing ...\u001b[0m\n"
     ]
    },
    {
     "data": {
      "application/vnd.jupyter.widget-view+json": {
       "model_id": "2355ebe7e4d44ba6b465a345b4d37e03",
       "version_major": 2,
       "version_minor": 0
      },
      "text/plain": [
       "  0%|          | 0/26 [00:00<?, ?it/s]"
      ]
     },
     "metadata": {},
     "output_type": "display_data"
    },
    {
     "name": "stdout",
     "output_type": "stream",
     "text": [
      "Test_Acc:\u001b[1;32m85.024%\u001b[0m\n",
      "Best_ACC[\u001b[1;32m87.077%\u001b[0m]\n",
      "Epoch: [13] HAM10000 ==> Training ...\n"
     ]
    },
    {
     "data": {
      "application/vnd.jupyter.widget-view+json": {
       "model_id": "b9052e4ee6e04624afa04ad46100aa07",
       "version_major": 2,
       "version_minor": 0
      },
      "text/plain": [
       "  0%|          | 0/308 [00:00<?, ?it/s]"
      ]
     },
     "metadata": {},
     "output_type": "display_data"
    },
    {
     "name": "stdout",
     "output_type": "stream",
     "text": [
      "[154/308] Loss0.25041, ACC:0.62113%\n",
      "[308/308] Loss0.25118, ACC:0.62384%\n",
      "Train_Loss: 0.25593816440600853,ACC:0.624%\n",
      "\u001b[66mHAM10000 ==> testing ...\u001b[0m\n"
     ]
    },
    {
     "data": {
      "application/vnd.jupyter.widget-view+json": {
       "model_id": "e8656035da0546b79515326de034345c",
       "version_major": 2,
       "version_minor": 0
      },
      "text/plain": [
       "  0%|          | 0/26 [00:00<?, ?it/s]"
      ]
     },
     "metadata": {},
     "output_type": "display_data"
    },
    {
     "name": "stdout",
     "output_type": "stream",
     "text": [
      "Test_Acc:\u001b[1;32m77.899%\u001b[0m\n",
      "Best_ACC[\u001b[1;32m87.077%\u001b[0m]\n",
      "Epoch: [14] HAM10000 ==> Training ...\n"
     ]
    },
    {
     "data": {
      "application/vnd.jupyter.widget-view+json": {
       "model_id": "c950ec19cb7244189ca450872cbe3654",
       "version_major": 2,
       "version_minor": 0
      },
      "text/plain": [
       "  0%|          | 0/308 [00:00<?, ?it/s]"
      ]
     },
     "metadata": {},
     "output_type": "display_data"
    },
    {
     "name": "stdout",
     "output_type": "stream",
     "text": [
      "[154/308] Loss0.25837, ACC:0.63663%\n",
      "[308/308] Loss0.24575, ACC:0.63615%\n",
      "Train_Loss: 0.24791936668289172,ACC:0.637%\n",
      "\u001b[66mHAM10000 ==> testing ...\u001b[0m\n"
     ]
    },
    {
     "data": {
      "application/vnd.jupyter.widget-view+json": {
       "model_id": "a4d097a05ac643859c3a561687fc33aa",
       "version_major": 2,
       "version_minor": 0
      },
      "text/plain": [
       "  0%|          | 0/26 [00:00<?, ?it/s]"
      ]
     },
     "metadata": {},
     "output_type": "display_data"
    },
    {
     "name": "stdout",
     "output_type": "stream",
     "text": [
      "Test_Acc:\u001b[1;32m87.198%\u001b[0m\n",
      "Best_ACC[\u001b[1;32m87.198%\u001b[0m]\n",
      "Epoch: [15] HAM10000 ==> Training ...\n"
     ]
    },
    {
     "data": {
      "application/vnd.jupyter.widget-view+json": {
       "model_id": "b16be4ea0ebd4fe4913cd0248be03604",
       "version_major": 2,
       "version_minor": 0
      },
      "text/plain": [
       "  0%|          | 0/308 [00:00<?, ?it/s]"
      ]
     },
     "metadata": {},
     "output_type": "display_data"
    },
    {
     "name": "stdout",
     "output_type": "stream",
     "text": [
      "[154/308] Loss0.24921, ACC:0.64564%\n",
      "[308/308] Loss0.21810, ACC:0.64440%\n",
      "Train_Loss: 0.24234179828267594,ACC:0.645%\n",
      "\u001b[66mHAM10000 ==> testing ...\u001b[0m\n"
     ]
    },
    {
     "data": {
      "application/vnd.jupyter.widget-view+json": {
       "model_id": "7e2fcbede9bc4c0d96a9562c3d90d631",
       "version_major": 2,
       "version_minor": 0
      },
      "text/plain": [
       "  0%|          | 0/26 [00:00<?, ?it/s]"
      ]
     },
     "metadata": {},
     "output_type": "display_data"
    },
    {
     "name": "stdout",
     "output_type": "stream",
     "text": [
      "Test_Acc:\u001b[1;32m86.715%\u001b[0m\n",
      "Best_ACC[\u001b[1;32m87.198%\u001b[0m]\n",
      "Epoch: [16] HAM10000 ==> Training ...\n"
     ]
    },
    {
     "data": {
      "application/vnd.jupyter.widget-view+json": {
       "model_id": "84d98769481c46aca52d75869d3a98fb",
       "version_major": 2,
       "version_minor": 0
      },
      "text/plain": [
       "  0%|          | 0/308 [00:00<?, ?it/s]"
      ]
     },
     "metadata": {},
     "output_type": "display_data"
    },
    {
     "name": "stdout",
     "output_type": "stream",
     "text": [
      "[154/308] Loss0.23642, ACC:0.64858%\n",
      "[308/308] Loss0.24281, ACC:0.64815%\n",
      "Train_Loss: 0.2402913709255782,ACC:0.649%\n",
      "\u001b[66mHAM10000 ==> testing ...\u001b[0m\n"
     ]
    },
    {
     "data": {
      "application/vnd.jupyter.widget-view+json": {
       "model_id": "3c8b28d40c85486e8aa87c4bb64cbb77",
       "version_major": 2,
       "version_minor": 0
      },
      "text/plain": [
       "  0%|          | 0/26 [00:00<?, ?it/s]"
      ]
     },
     "metadata": {},
     "output_type": "display_data"
    },
    {
     "name": "stdout",
     "output_type": "stream",
     "text": [
      "Test_Acc:\u001b[1;32m87.077%\u001b[0m\n",
      "Best_ACC[\u001b[1;32m87.198%\u001b[0m]\n",
      "Epoch: [17] HAM10000 ==> Training ...\n"
     ]
    },
    {
     "data": {
      "application/vnd.jupyter.widget-view+json": {
       "model_id": "f30dc2ee9b074640a71f7f489eae934a",
       "version_major": 2,
       "version_minor": 0
      },
      "text/plain": [
       "  0%|          | 0/308 [00:00<?, ?it/s]"
      ]
     },
     "metadata": {},
     "output_type": "display_data"
    },
    {
     "name": "stdout",
     "output_type": "stream",
     "text": [
      "[154/308] Loss0.24062, ACC:0.64777%\n",
      "[308/308] Loss0.22993, ACC:0.64879%\n",
      "Train_Loss: 0.23960885120096145,ACC:0.649%\n",
      "\u001b[66mHAM10000 ==> testing ...\u001b[0m\n"
     ]
    },
    {
     "data": {
      "application/vnd.jupyter.widget-view+json": {
       "model_id": "0fc38381a6ab45ccbdb06fb7f80ce5ad",
       "version_major": 2,
       "version_minor": 0
      },
      "text/plain": [
       "  0%|          | 0/26 [00:00<?, ?it/s]"
      ]
     },
     "metadata": {},
     "output_type": "display_data"
    },
    {
     "name": "stdout",
     "output_type": "stream",
     "text": [
      "Test_Acc:\u001b[1;32m87.923%\u001b[0m\n",
      "Best_ACC[\u001b[1;32m87.923%\u001b[0m]\n",
      "Epoch: [18] HAM10000 ==> Training ...\n"
     ]
    },
    {
     "data": {
      "application/vnd.jupyter.widget-view+json": {
       "model_id": "cf316466c52a45fa80ea04c1167bee16",
       "version_major": 2,
       "version_minor": 0
      },
      "text/plain": [
       "  0%|          | 0/308 [00:00<?, ?it/s]"
      ]
     },
     "metadata": {},
     "output_type": "display_data"
    },
    {
     "name": "stdout",
     "output_type": "stream",
     "text": [
      "[154/308] Loss0.23121, ACC:0.64089%\n",
      "[308/308] Loss0.25280, ACC:0.64346%\n",
      "Train_Loss: 0.24380260962363962,ACC:0.644%\n",
      "\u001b[66mHAM10000 ==> testing ...\u001b[0m\n"
     ]
    },
    {
     "data": {
      "application/vnd.jupyter.widget-view+json": {
       "model_id": "3b7a5e511a8d4547b41428a89378a633",
       "version_major": 2,
       "version_minor": 0
      },
      "text/plain": [
       "  0%|          | 0/26 [00:00<?, ?it/s]"
      ]
     },
     "metadata": {},
     "output_type": "display_data"
    },
    {
     "name": "stdout",
     "output_type": "stream",
     "text": [
      "Test_Acc:\u001b[1;32m88.889%\u001b[0m\n",
      "Best_ACC[\u001b[1;32m88.889%\u001b[0m]\n",
      "Epoch: [19] HAM10000 ==> Training ...\n"
     ]
    },
    {
     "data": {
      "application/vnd.jupyter.widget-view+json": {
       "model_id": "a79fa23c45854314b35f3c7e399df368",
       "version_major": 2,
       "version_minor": 0
      },
      "text/plain": [
       "  0%|          | 0/308 [00:00<?, ?it/s]"
      ]
     },
     "metadata": {},
     "output_type": "display_data"
    },
    {
     "name": "stdout",
     "output_type": "stream",
     "text": [
      "[154/308] Loss0.28041, ACC:0.63919%\n",
      "[308/308] Loss0.23282, ACC:0.63710%\n",
      "Train_Loss: 0.24895956841382114,ACC:0.638%\n",
      "\u001b[66mHAM10000 ==> testing ...\u001b[0m\n"
     ]
    },
    {
     "data": {
      "application/vnd.jupyter.widget-view+json": {
       "model_id": "cadc9ade0c874df59bc583876ccc39e6",
       "version_major": 2,
       "version_minor": 0
      },
      "text/plain": [
       "  0%|          | 0/26 [00:00<?, ?it/s]"
      ]
     },
     "metadata": {},
     "output_type": "display_data"
    },
    {
     "name": "stdout",
     "output_type": "stream",
     "text": [
      "Test_Acc:\u001b[1;32m84.179%\u001b[0m\n",
      "Best_ACC[\u001b[1;32m88.889%\u001b[0m]\n",
      "Epoch: [20] HAM10000 ==> Training ...\n"
     ]
    },
    {
     "data": {
      "application/vnd.jupyter.widget-view+json": {
       "model_id": "0ad5f37c317e443fa4d3a45da2d45460",
       "version_major": 2,
       "version_minor": 0
      },
      "text/plain": [
       "  0%|          | 0/308 [00:00<?, ?it/s]"
      ]
     },
     "metadata": {},
     "output_type": "display_data"
    },
    {
     "name": "stdout",
     "output_type": "stream",
     "text": [
      "[154/308] Loss0.22684, ACC:0.62937%\n",
      "[308/308] Loss0.25506, ACC:0.63211%\n",
      "Train_Loss: 0.2506514453365431,ACC:0.633%\n",
      "\u001b[66mHAM10000 ==> testing ...\u001b[0m\n"
     ]
    },
    {
     "data": {
      "application/vnd.jupyter.widget-view+json": {
       "model_id": "577629ed7014461f9fedf5a132e3a4ec",
       "version_major": 2,
       "version_minor": 0
      },
      "text/plain": [
       "  0%|          | 0/26 [00:00<?, ?it/s]"
      ]
     },
     "metadata": {},
     "output_type": "display_data"
    },
    {
     "name": "stdout",
     "output_type": "stream",
     "text": [
      "Test_Acc:\u001b[1;32m87.44%\u001b[0m\n",
      "Best_ACC[\u001b[1;32m88.889%\u001b[0m]\n",
      "Epoch: [21] HAM10000 ==> Training ...\n"
     ]
    },
    {
     "data": {
      "application/vnd.jupyter.widget-view+json": {
       "model_id": "c9c8a9ee80d24ece8c254b314b6c713e",
       "version_major": 2,
       "version_minor": 0
      },
      "text/plain": [
       "  0%|          | 0/308 [00:00<?, ?it/s]"
      ]
     },
     "metadata": {},
     "output_type": "display_data"
    },
    {
     "name": "stdout",
     "output_type": "stream",
     "text": [
      "[154/308] Loss0.23329, ACC:0.63861%\n",
      "[308/308] Loss0.23989, ACC:0.63627%\n",
      "Train_Loss: 0.24870004340425714,ACC:0.637%\n",
      "\u001b[66mHAM10000 ==> testing ...\u001b[0m\n"
     ]
    },
    {
     "data": {
      "application/vnd.jupyter.widget-view+json": {
       "model_id": "9c3b160002c34e5eb232003745cc3a66",
       "version_major": 2,
       "version_minor": 0
      },
      "text/plain": [
       "  0%|          | 0/26 [00:00<?, ?it/s]"
      ]
     },
     "metadata": {},
     "output_type": "display_data"
    },
    {
     "name": "stdout",
     "output_type": "stream",
     "text": [
      "Test_Acc:\u001b[1;32m87.319%\u001b[0m\n",
      "Best_ACC[\u001b[1;32m88.889%\u001b[0m]\n",
      "Epoch: [22] HAM10000 ==> Training ...\n"
     ]
    },
    {
     "data": {
      "application/vnd.jupyter.widget-view+json": {
       "model_id": "c5e5ba26c8664e939ce54a3ab88ab113",
       "version_major": 2,
       "version_minor": 0
      },
      "text/plain": [
       "  0%|          | 0/308 [00:00<?, ?it/s]"
      ]
     },
     "metadata": {},
     "output_type": "display_data"
    },
    {
     "name": "stdout",
     "output_type": "stream",
     "text": [
      "[154/308] Loss0.25362, ACC:0.64672%\n",
      "[308/308] Loss0.24350, ACC:0.64373%\n",
      "Train_Loss: 0.24378154499383717,ACC:0.644%\n",
      "\u001b[66mHAM10000 ==> testing ...\u001b[0m\n"
     ]
    },
    {
     "data": {
      "application/vnd.jupyter.widget-view+json": {
       "model_id": "f24166e9212847ee9e7fc55e16c3af4a",
       "version_major": 2,
       "version_minor": 0
      },
      "text/plain": [
       "  0%|          | 0/26 [00:00<?, ?it/s]"
      ]
     },
     "metadata": {},
     "output_type": "display_data"
    },
    {
     "name": "stdout",
     "output_type": "stream",
     "text": [
      "Test_Acc:\u001b[1;32m87.077%\u001b[0m\n",
      "Best_ACC[\u001b[1;32m88.889%\u001b[0m]\n",
      "Epoch: [23] HAM10000 ==> Training ...\n"
     ]
    },
    {
     "data": {
      "application/vnd.jupyter.widget-view+json": {
       "model_id": "b33ff01da6b54015b7741632786b7361",
       "version_major": 2,
       "version_minor": 0
      },
      "text/plain": [
       "  0%|          | 0/308 [00:00<?, ?it/s]"
      ]
     },
     "metadata": {},
     "output_type": "display_data"
    },
    {
     "name": "stdout",
     "output_type": "stream",
     "text": [
      "[154/308] Loss0.24200, ACC:0.65113%\n",
      "[308/308] Loss0.22793, ACC:0.65273%\n",
      "Train_Loss: 0.23812312100614821,ACC:0.653%\n",
      "\u001b[66mHAM10000 ==> testing ...\u001b[0m\n"
     ]
    },
    {
     "data": {
      "application/vnd.jupyter.widget-view+json": {
       "model_id": "13a0e82c7aa343e6a3b6f7c9c59b639b",
       "version_major": 2,
       "version_minor": 0
      },
      "text/plain": [
       "  0%|          | 0/26 [00:00<?, ?it/s]"
      ]
     },
     "metadata": {},
     "output_type": "display_data"
    },
    {
     "name": "stdout",
     "output_type": "stream",
     "text": [
      "Test_Acc:\u001b[1;32m90.338%\u001b[0m\n",
      "Best_ACC[\u001b[1;32m90.338%\u001b[0m]\n",
      "Epoch: [24] HAM10000 ==> Training ...\n"
     ]
    },
    {
     "data": {
      "application/vnd.jupyter.widget-view+json": {
       "model_id": "23507ab668be4945b6bfd9609bc4d18f",
       "version_major": 2,
       "version_minor": 0
      },
      "text/plain": [
       "  0%|          | 0/308 [00:00<?, ?it/s]"
      ]
     },
     "metadata": {},
     "output_type": "display_data"
    },
    {
     "name": "stdout",
     "output_type": "stream",
     "text": [
      "[154/308] Loss0.22836, ACC:0.66640%\n",
      "[308/308] Loss0.23962, ACC:0.66676%\n",
      "Train_Loss: 0.22929904861496642,ACC:0.667%\n",
      "\u001b[66mHAM10000 ==> testing ...\u001b[0m\n"
     ]
    },
    {
     "data": {
      "application/vnd.jupyter.widget-view+json": {
       "model_id": "efd42ef86ccf43a3bf143caba67074c2",
       "version_major": 2,
       "version_minor": 0
      },
      "text/plain": [
       "  0%|          | 0/26 [00:00<?, ?it/s]"
      ]
     },
     "metadata": {},
     "output_type": "display_data"
    },
    {
     "name": "stdout",
     "output_type": "stream",
     "text": [
      "Test_Acc:\u001b[1;32m90.459%\u001b[0m\n",
      "Best_ACC[\u001b[1;32m90.459%\u001b[0m]\n",
      "Epoch: [25] HAM10000 ==> Training ...\n"
     ]
    },
    {
     "data": {
      "application/vnd.jupyter.widget-view+json": {
       "model_id": "3e8652f8f4334b708527e7c6a4336356",
       "version_major": 2,
       "version_minor": 0
      },
      "text/plain": [
       "  0%|          | 0/308 [00:00<?, ?it/s]"
      ]
     },
     "metadata": {},
     "output_type": "display_data"
    },
    {
     "name": "stdout",
     "output_type": "stream",
     "text": [
      "[154/308] Loss0.20502, ACC:0.67471%\n",
      "[308/308] Loss0.20761, ACC:0.67430%\n",
      "Train_Loss: 0.22378487991435186,ACC:0.675%\n",
      "\u001b[66mHAM10000 ==> testing ...\u001b[0m\n"
     ]
    },
    {
     "data": {
      "application/vnd.jupyter.widget-view+json": {
       "model_id": "a667327cd17f44269a52af0510fcc89c",
       "version_major": 2,
       "version_minor": 0
      },
      "text/plain": [
       "  0%|          | 0/26 [00:00<?, ?it/s]"
      ]
     },
     "metadata": {},
     "output_type": "display_data"
    },
    {
     "name": "stdout",
     "output_type": "stream",
     "text": [
      "Test_Acc:\u001b[1;32m90.338%\u001b[0m\n",
      "Best_ACC[\u001b[1;32m90.459%\u001b[0m]\n",
      "Epoch: [26] HAM10000 ==> Training ...\n"
     ]
    },
    {
     "data": {
      "application/vnd.jupyter.widget-view+json": {
       "model_id": "45957213d57f4becacaad19eceebdaa8",
       "version_major": 2,
       "version_minor": 0
      },
      "text/plain": [
       "  0%|          | 0/308 [00:00<?, ?it/s]"
      ]
     },
     "metadata": {},
     "output_type": "display_data"
    },
    {
     "name": "stdout",
     "output_type": "stream",
     "text": [
      "[154/308] Loss0.21701, ACC:0.67420%\n",
      "[308/308] Loss0.23275, ACC:0.67536%\n",
      "Train_Loss: 0.22379213111934723,ACC:0.676%\n",
      "\u001b[66mHAM10000 ==> testing ...\u001b[0m\n"
     ]
    },
    {
     "data": {
      "application/vnd.jupyter.widget-view+json": {
       "model_id": "e45968c6369548549daaa1c0b92eb647",
       "version_major": 2,
       "version_minor": 0
      },
      "text/plain": [
       "  0%|          | 0/26 [00:00<?, ?it/s]"
      ]
     },
     "metadata": {},
     "output_type": "display_data"
    },
    {
     "name": "stdout",
     "output_type": "stream",
     "text": [
      "Test_Acc:\u001b[1;32m90.7%\u001b[0m\n",
      "Best_ACC[\u001b[1;32m90.7%\u001b[0m]\n",
      "Epoch: [27] HAM10000 ==> Training ...\n"
     ]
    },
    {
     "data": {
      "application/vnd.jupyter.widget-view+json": {
       "model_id": "7752cc98548e433291b4e88717457552",
       "version_major": 2,
       "version_minor": 0
      },
      "text/plain": [
       "  0%|          | 0/308 [00:00<?, ?it/s]"
      ]
     },
     "metadata": {},
     "output_type": "display_data"
    },
    {
     "name": "stdout",
     "output_type": "stream",
     "text": [
      "[154/308] Loss0.20249, ACC:0.67235%\n",
      "[308/308] Loss0.18818, ACC:0.67722%\n",
      "Train_Loss: 0.22355340605045293,ACC:0.678%\n",
      "\u001b[66mHAM10000 ==> testing ...\u001b[0m\n"
     ]
    },
    {
     "data": {
      "application/vnd.jupyter.widget-view+json": {
       "model_id": "50fe2637136b478ab0f0fd35a00426d6",
       "version_major": 2,
       "version_minor": 0
      },
      "text/plain": [
       "  0%|          | 0/26 [00:00<?, ?it/s]"
      ]
     },
     "metadata": {},
     "output_type": "display_data"
    },
    {
     "name": "stdout",
     "output_type": "stream",
     "text": [
      "Test_Acc:\u001b[1;32m91.063%\u001b[0m\n",
      "Best_ACC[\u001b[1;32m91.063%\u001b[0m]\n",
      "Epoch: [28] HAM10000 ==> Training ...\n"
     ]
    },
    {
     "data": {
      "application/vnd.jupyter.widget-view+json": {
       "model_id": "9612ea7071b4446b92f3558d185cd096",
       "version_major": 2,
       "version_minor": 0
      },
      "text/plain": [
       "  0%|          | 0/308 [00:00<?, ?it/s]"
      ]
     },
     "metadata": {},
     "output_type": "display_data"
    },
    {
     "name": "stdout",
     "output_type": "stream",
     "text": [
      "[154/308] Loss0.24030, ACC:0.67111%\n",
      "[308/308] Loss0.20640, ACC:0.67094%\n",
      "Train_Loss: 0.2269086693111178,ACC:0.672%\n",
      "\u001b[66mHAM10000 ==> testing ...\u001b[0m\n"
     ]
    },
    {
     "data": {
      "application/vnd.jupyter.widget-view+json": {
       "model_id": "8b0c958ad7fc48c787fc4de67becb248",
       "version_major": 2,
       "version_minor": 0
      },
      "text/plain": [
       "  0%|          | 0/26 [00:00<?, ?it/s]"
      ]
     },
     "metadata": {},
     "output_type": "display_data"
    },
    {
     "name": "stdout",
     "output_type": "stream",
     "text": [
      "Test_Acc:\u001b[1;32m91.304%\u001b[0m\n",
      "Best_ACC[\u001b[1;32m91.304%\u001b[0m]\n",
      "Epoch: [29] HAM10000 ==> Training ...\n"
     ]
    },
    {
     "data": {
      "application/vnd.jupyter.widget-view+json": {
       "model_id": "3b5942228b7944a3b7effc726e9a1de6",
       "version_major": 2,
       "version_minor": 0
      },
      "text/plain": [
       "  0%|          | 0/308 [00:00<?, ?it/s]"
      ]
     },
     "metadata": {},
     "output_type": "display_data"
    },
    {
     "name": "stdout",
     "output_type": "stream",
     "text": [
      "[154/308] Loss0.24555, ACC:0.66462%\n",
      "[308/308] Loss0.20899, ACC:0.66354%\n",
      "Train_Loss: 0.2331714838162645,ACC:0.664%\n",
      "\u001b[66mHAM10000 ==> testing ...\u001b[0m\n"
     ]
    },
    {
     "data": {
      "application/vnd.jupyter.widget-view+json": {
       "model_id": "0b20a7c88a6d4d1da62bfd2522675d00",
       "version_major": 2,
       "version_minor": 0
      },
      "text/plain": [
       "  0%|          | 0/26 [00:00<?, ?it/s]"
      ]
     },
     "metadata": {},
     "output_type": "display_data"
    },
    {
     "name": "stdout",
     "output_type": "stream",
     "text": [
      "Test_Acc:\u001b[1;32m89.855%\u001b[0m\n",
      "Best_ACC[\u001b[1;32m91.304%\u001b[0m]\n",
      "Epoch: [30] HAM10000 ==> Training ...\n"
     ]
    },
    {
     "data": {
      "application/vnd.jupyter.widget-view+json": {
       "model_id": "32939c877f434c5196b788135ba705be",
       "version_major": 2,
       "version_minor": 0
      },
      "text/plain": [
       "  0%|          | 0/308 [00:00<?, ?it/s]"
      ]
     },
     "metadata": {},
     "output_type": "display_data"
    },
    {
     "name": "stdout",
     "output_type": "stream",
     "text": [
      "[154/308] Loss0.23372, ACC:0.65167%\n",
      "[308/308] Loss0.20688, ACC:0.65581%\n",
      "Train_Loss: 0.23636906032825444,ACC:0.656%\n",
      "\u001b[66mHAM10000 ==> testing ...\u001b[0m\n"
     ]
    },
    {
     "data": {
      "application/vnd.jupyter.widget-view+json": {
       "model_id": "3fcc016d89724be8bcfe696f7af2f8eb",
       "version_major": 2,
       "version_minor": 0
      },
      "text/plain": [
       "  0%|          | 0/26 [00:00<?, ?it/s]"
      ]
     },
     "metadata": {},
     "output_type": "display_data"
    },
    {
     "name": "stdout",
     "output_type": "stream",
     "text": [
      "Test_Acc:\u001b[1;32m89.372%\u001b[0m\n",
      "Best_ACC[\u001b[1;32m91.304%\u001b[0m]\n",
      "Epoch: [31] HAM10000 ==> Training ...\n"
     ]
    },
    {
     "data": {
      "application/vnd.jupyter.widget-view+json": {
       "model_id": "998f19952551478b9aa72bfd273a2f7b",
       "version_major": 2,
       "version_minor": 0
      },
      "text/plain": [
       "  0%|          | 0/308 [00:00<?, ?it/s]"
      ]
     },
     "metadata": {},
     "output_type": "display_data"
    },
    {
     "name": "stdout",
     "output_type": "stream",
     "text": [
      "[154/308] Loss0.23149, ACC:0.66164%\n",
      "[308/308] Loss0.21351, ACC:0.66118%\n",
      "Train_Loss: 0.23406136563265478,ACC:0.662%\n",
      "\u001b[66mHAM10000 ==> testing ...\u001b[0m\n"
     ]
    },
    {
     "data": {
      "application/vnd.jupyter.widget-view+json": {
       "model_id": "63a793c7b3804eb4862429eb10c772ff",
       "version_major": 2,
       "version_minor": 0
      },
      "text/plain": [
       "  0%|          | 0/26 [00:00<?, ?it/s]"
      ]
     },
     "metadata": {},
     "output_type": "display_data"
    },
    {
     "name": "stdout",
     "output_type": "stream",
     "text": [
      "Test_Acc:\u001b[1;32m89.614%\u001b[0m\n",
      "Best_ACC[\u001b[1;32m91.304%\u001b[0m]\n",
      "Epoch: [32] HAM10000 ==> Training ...\n"
     ]
    },
    {
     "data": {
      "application/vnd.jupyter.widget-view+json": {
       "model_id": "537d5ed0d4f84b3499b28b46903eca6d",
       "version_major": 2,
       "version_minor": 0
      },
      "text/plain": [
       "  0%|          | 0/308 [00:00<?, ?it/s]"
      ]
     },
     "metadata": {},
     "output_type": "display_data"
    },
    {
     "name": "stdout",
     "output_type": "stream",
     "text": [
      "[154/308] Loss0.21030, ACC:0.66995%\n",
      "[308/308] Loss0.22263, ACC:0.66444%\n",
      "Train_Loss: 0.23207259874839287,ACC:0.665%\n",
      "\u001b[66mHAM10000 ==> testing ...\u001b[0m\n"
     ]
    },
    {
     "data": {
      "application/vnd.jupyter.widget-view+json": {
       "model_id": "14c6c41d4d054aa288cc4b0864ddc676",
       "version_major": 2,
       "version_minor": 0
      },
      "text/plain": [
       "  0%|          | 0/26 [00:00<?, ?it/s]"
      ]
     },
     "metadata": {},
     "output_type": "display_data"
    },
    {
     "name": "stdout",
     "output_type": "stream",
     "text": [
      "Test_Acc:\u001b[1;32m89.13%\u001b[0m\n",
      "Best_ACC[\u001b[1;32m91.304%\u001b[0m]\n",
      "Epoch: [33] HAM10000 ==> Training ...\n"
     ]
    },
    {
     "data": {
      "application/vnd.jupyter.widget-view+json": {
       "model_id": "04211e8275bc4d7ca2de5e67cb6b1657",
       "version_major": 2,
       "version_minor": 0
      },
      "text/plain": [
       "  0%|          | 0/308 [00:00<?, ?it/s]"
      ]
     },
     "metadata": {},
     "output_type": "display_data"
    },
    {
     "name": "stdout",
     "output_type": "stream",
     "text": [
      "[154/308] Loss0.22677, ACC:0.67571%\n",
      "[308/308] Loss0.22462, ACC:0.67473%\n",
      "Train_Loss: 0.22489130042203062,ACC:0.675%\n",
      "\u001b[66mHAM10000 ==> testing ...\u001b[0m\n"
     ]
    },
    {
     "data": {
      "application/vnd.jupyter.widget-view+json": {
       "model_id": "17fc42cf4872488081b2836c8a2d30d2",
       "version_major": 2,
       "version_minor": 0
      },
      "text/plain": [
       "  0%|          | 0/26 [00:00<?, ?it/s]"
      ]
     },
     "metadata": {},
     "output_type": "display_data"
    },
    {
     "name": "stdout",
     "output_type": "stream",
     "text": [
      "Test_Acc:\u001b[1;32m92.512%\u001b[0m\n",
      "Best_ACC[\u001b[1;32m92.512%\u001b[0m]\n",
      "Epoch: [34] HAM10000 ==> Training ...\n"
     ]
    },
    {
     "data": {
      "application/vnd.jupyter.widget-view+json": {
       "model_id": "7f27e24a152845cd8306804a7f376c75",
       "version_major": 2,
       "version_minor": 0
      },
      "text/plain": [
       "  0%|          | 0/308 [00:00<?, ?it/s]"
      ]
     },
     "metadata": {},
     "output_type": "display_data"
    },
    {
     "name": "stdout",
     "output_type": "stream",
     "text": [
      "[154/308] Loss0.23701, ACC:0.68147%\n",
      "[308/308] Loss0.22056, ACC:0.68704%\n",
      "Train_Loss: 0.21771797073351873,ACC:0.688%\n",
      "\u001b[66mHAM10000 ==> testing ...\u001b[0m\n"
     ]
    },
    {
     "data": {
      "application/vnd.jupyter.widget-view+json": {
       "model_id": "0db81819a19e402ca61d29bb24707b42",
       "version_major": 2,
       "version_minor": 0
      },
      "text/plain": [
       "  0%|          | 0/26 [00:00<?, ?it/s]"
      ]
     },
     "metadata": {},
     "output_type": "display_data"
    },
    {
     "name": "stdout",
     "output_type": "stream",
     "text": [
      "Test_Acc:\u001b[1;32m89.976%\u001b[0m\n",
      "Best_ACC[\u001b[1;32m92.512%\u001b[0m]\n",
      "Epoch: [35] HAM10000 ==> Training ...\n"
     ]
    },
    {
     "data": {
      "application/vnd.jupyter.widget-view+json": {
       "model_id": "7e70124ba3af471a8a31a7fb018c7064",
       "version_major": 2,
       "version_minor": 0
      },
      "text/plain": [
       "  0%|          | 0/308 [00:00<?, ?it/s]"
      ]
     },
     "metadata": {},
     "output_type": "display_data"
    },
    {
     "name": "stdout",
     "output_type": "stream",
     "text": [
      "[154/308] Loss0.22303, ACC:0.69411%\n",
      "[308/308] Loss0.21245, ACC:0.69531%\n",
      "Train_Loss: 0.2125855116294576,ACC:0.696%\n",
      "\u001b[66mHAM10000 ==> testing ...\u001b[0m\n"
     ]
    },
    {
     "data": {
      "application/vnd.jupyter.widget-view+json": {
       "model_id": "3a643de5da504161a59b6c5676439be1",
       "version_major": 2,
       "version_minor": 0
      },
      "text/plain": [
       "  0%|          | 0/26 [00:00<?, ?it/s]"
      ]
     },
     "metadata": {},
     "output_type": "display_data"
    },
    {
     "name": "stdout",
     "output_type": "stream",
     "text": [
      "Test_Acc:\u001b[1;32m91.908%\u001b[0m\n",
      "Best_ACC[\u001b[1;32m92.512%\u001b[0m]\n",
      "Epoch: [36] HAM10000 ==> Training ...\n"
     ]
    },
    {
     "data": {
      "application/vnd.jupyter.widget-view+json": {
       "model_id": "316b5628a9094e67896ab87f599ffe95",
       "version_major": 2,
       "version_minor": 0
      },
      "text/plain": [
       "  0%|          | 0/308 [00:00<?, ?it/s]"
      ]
     },
     "metadata": {},
     "output_type": "display_data"
    },
    {
     "name": "stdout",
     "output_type": "stream",
     "text": [
      "[154/308] Loss0.19063, ACC:0.69917%\n",
      "[308/308] Loss0.20821, ACC:0.69805%\n",
      "Train_Loss: 0.21076940256473306,ACC:0.699%\n",
      "\u001b[66mHAM10000 ==> testing ...\u001b[0m\n"
     ]
    },
    {
     "data": {
      "application/vnd.jupyter.widget-view+json": {
       "model_id": "42cc2a863ac9415193b6c35ca4efd3cf",
       "version_major": 2,
       "version_minor": 0
      },
      "text/plain": [
       "  0%|          | 0/26 [00:00<?, ?it/s]"
      ]
     },
     "metadata": {},
     "output_type": "display_data"
    },
    {
     "name": "stdout",
     "output_type": "stream",
     "text": [
      "Test_Acc:\u001b[1;32m91.908%\u001b[0m\n",
      "Best_ACC[\u001b[1;32m92.512%\u001b[0m]\n",
      "Epoch: [37] HAM10000 ==> Training ...\n"
     ]
    },
    {
     "data": {
      "application/vnd.jupyter.widget-view+json": {
       "model_id": "3bed5f23a6f245a0b51aa76e67dd35bb",
       "version_major": 2,
       "version_minor": 0
      },
      "text/plain": [
       "  0%|          | 0/308 [00:00<?, ?it/s]"
      ]
     },
     "metadata": {},
     "output_type": "display_data"
    },
    {
     "name": "stdout",
     "output_type": "stream",
     "text": [
      "[154/308] Loss0.21697, ACC:0.70219%\n",
      "[308/308] Loss0.24549, ACC:0.69821%\n",
      "Train_Loss: 0.21132606055055345,ACC:0.699%\n",
      "\u001b[66mHAM10000 ==> testing ...\u001b[0m\n"
     ]
    },
    {
     "data": {
      "application/vnd.jupyter.widget-view+json": {
       "model_id": "cf3c5eb19da84a84a33765fee1732d53",
       "version_major": 2,
       "version_minor": 0
      },
      "text/plain": [
       "  0%|          | 0/26 [00:00<?, ?it/s]"
      ]
     },
     "metadata": {},
     "output_type": "display_data"
    },
    {
     "name": "stdout",
     "output_type": "stream",
     "text": [
      "Test_Acc:\u001b[1;32m91.787%\u001b[0m\n",
      "Best_ACC[\u001b[1;32m92.512%\u001b[0m]\n",
      "Epoch: [38] HAM10000 ==> Training ...\n"
     ]
    },
    {
     "data": {
      "application/vnd.jupyter.widget-view+json": {
       "model_id": "7e4ee1c94d26422e96dae1a7cde5ff2b",
       "version_major": 2,
       "version_minor": 0
      },
      "text/plain": [
       "  0%|          | 0/308 [00:00<?, ?it/s]"
      ]
     },
     "metadata": {},
     "output_type": "display_data"
    },
    {
     "name": "stdout",
     "output_type": "stream",
     "text": [
      "[154/308] Loss0.22237, ACC:0.69218%\n",
      "[308/308] Loss0.20546, ACC:0.69057%\n",
      "Train_Loss: 0.21532449474582424,ACC:0.691%\n",
      "\u001b[66mHAM10000 ==> testing ...\u001b[0m\n"
     ]
    },
    {
     "data": {
      "application/vnd.jupyter.widget-view+json": {
       "model_id": "fd418a525a6d4cacaed0899935da1a67",
       "version_major": 2,
       "version_minor": 0
      },
      "text/plain": [
       "  0%|          | 0/26 [00:00<?, ?it/s]"
      ]
     },
     "metadata": {},
     "output_type": "display_data"
    },
    {
     "name": "stdout",
     "output_type": "stream",
     "text": [
      "Test_Acc:\u001b[1;32m90.942%\u001b[0m\n",
      "Best_ACC[\u001b[1;32m92.512%\u001b[0m]\n",
      "Epoch: [39] HAM10000 ==> Training ...\n"
     ]
    },
    {
     "data": {
      "application/vnd.jupyter.widget-view+json": {
       "model_id": "27d6aceda7bb4b54850e928f627ae53d",
       "version_major": 2,
       "version_minor": 0
      },
      "text/plain": [
       "  0%|          | 0/308 [00:00<?, ?it/s]"
      ]
     },
     "metadata": {},
     "output_type": "display_data"
    },
    {
     "name": "stdout",
     "output_type": "stream",
     "text": [
      "[154/308] Loss0.22956, ACC:0.68850%\n",
      "[308/308] Loss0.19954, ACC:0.68182%\n",
      "Train_Loss: 0.22131848325590034,ACC:0.682%\n",
      "\u001b[66mHAM10000 ==> testing ...\u001b[0m\n"
     ]
    },
    {
     "data": {
      "application/vnd.jupyter.widget-view+json": {
       "model_id": "d6d3f6982b5f46c3bff1d776040a077c",
       "version_major": 2,
       "version_minor": 0
      },
      "text/plain": [
       "  0%|          | 0/26 [00:00<?, ?it/s]"
      ]
     },
     "metadata": {},
     "output_type": "display_data"
    },
    {
     "name": "stdout",
     "output_type": "stream",
     "text": [
      "Test_Acc:\u001b[1;32m88.043%\u001b[0m\n",
      "Best_ACC[\u001b[1;32m92.512%\u001b[0m]\n",
      "Epoch: [40] HAM10000 ==> Training ...\n"
     ]
    },
    {
     "data": {
      "application/vnd.jupyter.widget-view+json": {
       "model_id": "4944492c089f477684e77ebb169ac7e7",
       "version_major": 2,
       "version_minor": 0
      },
      "text/plain": [
       "  0%|          | 0/308 [00:00<?, ?it/s]"
      ]
     },
     "metadata": {},
     "output_type": "display_data"
    },
    {
     "name": "stdout",
     "output_type": "stream",
     "text": [
      "[154/308] Loss0.21755, ACC:0.68336%\n",
      "[308/308] Loss0.20414, ACC:0.67977%\n",
      "Train_Loss: 0.22312420635641395,ACC:0.68%\n",
      "\u001b[66mHAM10000 ==> testing ...\u001b[0m\n"
     ]
    },
    {
     "data": {
      "application/vnd.jupyter.widget-view+json": {
       "model_id": "7a92a753ec844139b2bb6b3adc793f4e",
       "version_major": 2,
       "version_minor": 0
      },
      "text/plain": [
       "  0%|          | 0/26 [00:00<?, ?it/s]"
      ]
     },
     "metadata": {},
     "output_type": "display_data"
    },
    {
     "name": "stdout",
     "output_type": "stream",
     "text": [
      "Test_Acc:\u001b[1;32m90.097%\u001b[0m\n",
      "Best_ACC[\u001b[1;32m92.512%\u001b[0m]\n",
      "Epoch: [41] HAM10000 ==> Training ...\n"
     ]
    },
    {
     "data": {
      "application/vnd.jupyter.widget-view+json": {
       "model_id": "90028fd93bbd4bf689513eaaa7e469b7",
       "version_major": 2,
       "version_minor": 0
      },
      "text/plain": [
       "  0%|          | 0/308 [00:00<?, ?it/s]"
      ]
     },
     "metadata": {},
     "output_type": "display_data"
    },
    {
     "name": "stdout",
     "output_type": "stream",
     "text": [
      "[154/308] Loss0.24466, ACC:0.67710%\n",
      "[308/308] Loss0.28069, ACC:0.67818%\n",
      "Train_Loss: 0.2242294346744364,ACC:0.679%\n",
      "\u001b[66mHAM10000 ==> testing ...\u001b[0m\n"
     ]
    },
    {
     "data": {
      "application/vnd.jupyter.widget-view+json": {
       "model_id": "3ab38f56bed742109b118d681b4d51da",
       "version_major": 2,
       "version_minor": 0
      },
      "text/plain": [
       "  0%|          | 0/26 [00:00<?, ?it/s]"
      ]
     },
     "metadata": {},
     "output_type": "display_data"
    },
    {
     "name": "stdout",
     "output_type": "stream",
     "text": [
      "Test_Acc:\u001b[1;32m85.628%\u001b[0m\n",
      "Best_ACC[\u001b[1;32m92.512%\u001b[0m]\n",
      "Epoch: [42] HAM10000 ==> Training ...\n"
     ]
    },
    {
     "data": {
      "application/vnd.jupyter.widget-view+json": {
       "model_id": "009d88ddb43644329fe32feab088ece4",
       "version_major": 2,
       "version_minor": 0
      },
      "text/plain": [
       "  0%|          | 0/308 [00:00<?, ?it/s]"
      ]
     },
     "metadata": {},
     "output_type": "display_data"
    },
    {
     "name": "stdout",
     "output_type": "stream",
     "text": [
      "[154/308] Loss0.24919, ACC:0.67788%\n",
      "[308/308] Loss0.22826, ACC:0.67929%\n",
      "Train_Loss: 0.22163999095172077,ACC:0.68%\n",
      "\u001b[66mHAM10000 ==> testing ...\u001b[0m\n"
     ]
    },
    {
     "data": {
      "application/vnd.jupyter.widget-view+json": {
       "model_id": "d608feef1ab241ce909cf9263a4ea532",
       "version_major": 2,
       "version_minor": 0
      },
      "text/plain": [
       "  0%|          | 0/26 [00:00<?, ?it/s]"
      ]
     },
     "metadata": {},
     "output_type": "display_data"
    },
    {
     "name": "stdout",
     "output_type": "stream",
     "text": [
      "Test_Acc:\u001b[1;32m91.787%\u001b[0m\n",
      "Best_ACC[\u001b[1;32m92.512%\u001b[0m]\n",
      "Epoch: [43] HAM10000 ==> Training ...\n"
     ]
    },
    {
     "data": {
      "application/vnd.jupyter.widget-view+json": {
       "model_id": "25d9503107e64e36bcca7cc5a8e8179f",
       "version_major": 2,
       "version_minor": 0
      },
      "text/plain": [
       "  0%|          | 0/308 [00:00<?, ?it/s]"
      ]
     },
     "metadata": {},
     "output_type": "display_data"
    },
    {
     "name": "stdout",
     "output_type": "stream",
     "text": [
      "[154/308] Loss0.21128, ACC:0.69067%\n",
      "[308/308] Loss0.22574, ACC:0.69065%\n",
      "Train_Loss: 0.21576094303231735,ACC:0.691%\n",
      "\u001b[66mHAM10000 ==> testing ...\u001b[0m\n"
     ]
    },
    {
     "data": {
      "application/vnd.jupyter.widget-view+json": {
       "model_id": "dfe146b6d3094e6b9880a4fc5c2c03a6",
       "version_major": 2,
       "version_minor": 0
      },
      "text/plain": [
       "  0%|          | 0/26 [00:00<?, ?it/s]"
      ]
     },
     "metadata": {},
     "output_type": "display_data"
    },
    {
     "name": "stdout",
     "output_type": "stream",
     "text": [
      "Test_Acc:\u001b[1;32m91.546%\u001b[0m\n",
      "Best_ACC[\u001b[1;32m92.512%\u001b[0m]\n",
      "Epoch: [44] HAM10000 ==> Training ...\n"
     ]
    },
    {
     "data": {
      "application/vnd.jupyter.widget-view+json": {
       "model_id": "c61fb0b2388548f382220745e77f5983",
       "version_major": 2,
       "version_minor": 0
      },
      "text/plain": [
       "  0%|          | 0/308 [00:00<?, ?it/s]"
      ]
     },
     "metadata": {},
     "output_type": "display_data"
    },
    {
     "name": "stdout",
     "output_type": "stream",
     "text": [
      "[154/308] Loss0.20193, ACC:0.69674%\n",
      "[308/308] Loss0.21046, ACC:0.69969%\n",
      "Train_Loss: 0.20988409496940574,ACC:0.7%\n",
      "\u001b[66mHAM10000 ==> testing ...\u001b[0m\n"
     ]
    },
    {
     "data": {
      "application/vnd.jupyter.widget-view+json": {
       "model_id": "de0ef286adeb4b72a6c64e758b710846",
       "version_major": 2,
       "version_minor": 0
      },
      "text/plain": [
       "  0%|          | 0/26 [00:00<?, ?it/s]"
      ]
     },
     "metadata": {},
     "output_type": "display_data"
    },
    {
     "name": "stdout",
     "output_type": "stream",
     "text": [
      "Test_Acc:\u001b[1;32m90.459%\u001b[0m\n",
      "Best_ACC[\u001b[1;32m92.512%\u001b[0m]\n",
      "Epoch: [45] HAM10000 ==> Training ...\n"
     ]
    },
    {
     "data": {
      "application/vnd.jupyter.widget-view+json": {
       "model_id": "d1ff0b584b7a40fab0c917befa8f7798",
       "version_major": 2,
       "version_minor": 0
      },
      "text/plain": [
       "  0%|          | 0/308 [00:00<?, ?it/s]"
      ]
     },
     "metadata": {},
     "output_type": "display_data"
    },
    {
     "name": "stdout",
     "output_type": "stream",
     "text": [
      "[154/308] Loss0.21093, ACC:0.70725%\n",
      "[308/308] Loss0.21001, ACC:0.71096%\n",
      "Train_Loss: 0.20371972982372558,ACC:0.712%\n",
      "\u001b[66mHAM10000 ==> testing ...\u001b[0m\n"
     ]
    },
    {
     "data": {
      "application/vnd.jupyter.widget-view+json": {
       "model_id": "67368652b501456db63be8f1986fa077",
       "version_major": 2,
       "version_minor": 0
      },
      "text/plain": [
       "  0%|          | 0/26 [00:00<?, ?it/s]"
      ]
     },
     "metadata": {},
     "output_type": "display_data"
    },
    {
     "name": "stdout",
     "output_type": "stream",
     "text": [
      "Test_Acc:\u001b[1;32m91.667%\u001b[0m\n",
      "Best_ACC[\u001b[1;32m92.512%\u001b[0m]\n",
      "Epoch: [46] HAM10000 ==> Training ...\n"
     ]
    },
    {
     "data": {
      "application/vnd.jupyter.widget-view+json": {
       "model_id": "bdb5a291f0c547318ac97aa899bc3094",
       "version_major": 2,
       "version_minor": 0
      },
      "text/plain": [
       "  0%|          | 0/308 [00:00<?, ?it/s]"
      ]
     },
     "metadata": {},
     "output_type": "display_data"
    },
    {
     "name": "stdout",
     "output_type": "stream",
     "text": [
      "[154/308] Loss0.21465, ACC:0.71034%\n",
      "[308/308] Loss0.18066, ACC:0.71419%\n",
      "Train_Loss: 0.20191632506328744,ACC:0.715%\n",
      "\u001b[66mHAM10000 ==> testing ...\u001b[0m\n"
     ]
    },
    {
     "data": {
      "application/vnd.jupyter.widget-view+json": {
       "model_id": "a285cb4caf5f4838b53051186cb0c68f",
       "version_major": 2,
       "version_minor": 0
      },
      "text/plain": [
       "  0%|          | 0/26 [00:00<?, ?it/s]"
      ]
     },
     "metadata": {},
     "output_type": "display_data"
    },
    {
     "name": "stdout",
     "output_type": "stream",
     "text": [
      "Test_Acc:\u001b[1;32m91.546%\u001b[0m\n",
      "Best_ACC[\u001b[1;32m92.512%\u001b[0m]\n",
      "Epoch: [47] HAM10000 ==> Training ...\n"
     ]
    },
    {
     "data": {
      "application/vnd.jupyter.widget-view+json": {
       "model_id": "b9e79e7e1aaa4a328dd988f9afd44f56",
       "version_major": 2,
       "version_minor": 0
      },
      "text/plain": [
       "  0%|          | 0/308 [00:00<?, ?it/s]"
      ]
     },
     "metadata": {},
     "output_type": "display_data"
    },
    {
     "name": "stdout",
     "output_type": "stream",
     "text": [
      "[154/308] Loss0.22362, ACC:0.71313%\n",
      "[308/308] Loss0.18210, ACC:0.71324%\n",
      "Train_Loss: 0.20260773308865435,ACC:0.714%\n",
      "\u001b[66mHAM10000 ==> testing ...\u001b[0m\n"
     ]
    },
    {
     "data": {
      "application/vnd.jupyter.widget-view+json": {
       "model_id": "bb251e913588405e912cb1477786afe0",
       "version_major": 2,
       "version_minor": 0
      },
      "text/plain": [
       "  0%|          | 0/26 [00:00<?, ?it/s]"
      ]
     },
     "metadata": {},
     "output_type": "display_data"
    },
    {
     "name": "stdout",
     "output_type": "stream",
     "text": [
      "Test_Acc:\u001b[1;32m91.667%\u001b[0m\n",
      "Best_ACC[\u001b[1;32m92.512%\u001b[0m]\n",
      "Epoch: [48] HAM10000 ==> Training ...\n"
     ]
    },
    {
     "data": {
      "application/vnd.jupyter.widget-view+json": {
       "model_id": "278885c6a4124e66b0043b0fa1498511",
       "version_major": 2,
       "version_minor": 0
      },
      "text/plain": [
       "  0%|          | 0/308 [00:00<?, ?it/s]"
      ]
     },
     "metadata": {},
     "output_type": "display_data"
    },
    {
     "name": "stdout",
     "output_type": "stream",
     "text": [
      "[154/308] Loss0.17283, ACC:0.70397%\n",
      "[308/308] Loss0.16989, ACC:0.70717%\n",
      "Train_Loss: 0.2061104779313137,ACC:0.708%\n",
      "\u001b[66mHAM10000 ==> testing ...\u001b[0m\n"
     ]
    },
    {
     "data": {
      "application/vnd.jupyter.widget-view+json": {
       "model_id": "d41a1ab97d8748a8965dceceee9fd010",
       "version_major": 2,
       "version_minor": 0
      },
      "text/plain": [
       "  0%|          | 0/26 [00:00<?, ?it/s]"
      ]
     },
     "metadata": {},
     "output_type": "display_data"
    },
    {
     "name": "stdout",
     "output_type": "stream",
     "text": [
      "Test_Acc:\u001b[1;32m90.459%\u001b[0m\n",
      "Best_ACC[\u001b[1;32m92.512%\u001b[0m]\n",
      "Epoch: [49] HAM10000 ==> Training ...\n"
     ]
    },
    {
     "data": {
      "application/vnd.jupyter.widget-view+json": {
       "model_id": "2d16f6ae602d4f689508045d779872b3",
       "version_major": 2,
       "version_minor": 0
      },
      "text/plain": [
       "  0%|          | 0/308 [00:00<?, ?it/s]"
      ]
     },
     "metadata": {},
     "output_type": "display_data"
    },
    {
     "name": "stdout",
     "output_type": "stream",
     "text": [
      "[154/308] Loss0.25045, ACC:0.70126%\n",
      "[308/308] Loss0.19541, ACC:0.70066%\n",
      "Train_Loss: 0.21116279762286644,ACC:0.701%\n",
      "\u001b[66mHAM10000 ==> testing ...\u001b[0m\n"
     ]
    },
    {
     "data": {
      "application/vnd.jupyter.widget-view+json": {
       "model_id": "aecef9ceb8eb4ee9bcb8963fbcb3b49a",
       "version_major": 2,
       "version_minor": 0
      },
      "text/plain": [
       "  0%|          | 0/26 [00:00<?, ?it/s]"
      ]
     },
     "metadata": {},
     "output_type": "display_data"
    },
    {
     "name": "stdout",
     "output_type": "stream",
     "text": [
      "Test_Acc:\u001b[1;32m89.614%\u001b[0m\n",
      "Best_ACC[\u001b[1;32m92.512%\u001b[0m]\n",
      "Epoch: [50] HAM10000 ==> Training ...\n"
     ]
    },
    {
     "data": {
      "application/vnd.jupyter.widget-view+json": {
       "model_id": "db170dafa24d4558968e72c748efdf5a",
       "version_major": 2,
       "version_minor": 0
      },
      "text/plain": [
       "  0%|          | 0/308 [00:00<?, ?it/s]"
      ]
     },
     "metadata": {},
     "output_type": "display_data"
    },
    {
     "name": "stdout",
     "output_type": "stream",
     "text": [
      "[154/308] Loss0.21889, ACC:0.69318%\n",
      "[308/308] Loss0.23434, ACC:0.69332%\n",
      "Train_Loss: 0.21551251783967018,ACC:0.694%\n",
      "\u001b[66mHAM10000 ==> testing ...\u001b[0m\n"
     ]
    },
    {
     "data": {
      "application/vnd.jupyter.widget-view+json": {
       "model_id": "f6fb71feed5d4e8eb6b521a67b3a660d",
       "version_major": 2,
       "version_minor": 0
      },
      "text/plain": [
       "  0%|          | 0/26 [00:00<?, ?it/s]"
      ]
     },
     "metadata": {},
     "output_type": "display_data"
    },
    {
     "name": "stdout",
     "output_type": "stream",
     "text": [
      "Test_Acc:\u001b[1;32m79.106%\u001b[0m\n",
      "Best_ACC[\u001b[1;32m92.512%\u001b[0m]\n",
      "Epoch: [51] HAM10000 ==> Training ...\n"
     ]
    },
    {
     "data": {
      "application/vnd.jupyter.widget-view+json": {
       "model_id": "363c0f99a16c44c6a42ebccb2babc7b0",
       "version_major": 2,
       "version_minor": 0
      },
      "text/plain": [
       "  0%|          | 0/308 [00:00<?, ?it/s]"
      ]
     },
     "metadata": {},
     "output_type": "display_data"
    },
    {
     "name": "stdout",
     "output_type": "stream",
     "text": [
      "[154/308] Loss0.21202, ACC:0.69372%\n",
      "[308/308] Loss0.22293, ACC:0.69109%\n",
      "Train_Loss: 0.21649550317556826,ACC:0.692%\n",
      "\u001b[66mHAM10000 ==> testing ...\u001b[0m\n"
     ]
    },
    {
     "data": {
      "application/vnd.jupyter.widget-view+json": {
       "model_id": "3620aeef2faf4cad8a7654a9fd8b6c16",
       "version_major": 2,
       "version_minor": 0
      },
      "text/plain": [
       "  0%|          | 0/26 [00:00<?, ?it/s]"
      ]
     },
     "metadata": {},
     "output_type": "display_data"
    },
    {
     "name": "stdout",
     "output_type": "stream",
     "text": [
      "Test_Acc:\u001b[1;32m91.304%\u001b[0m\n",
      "Best_ACC[\u001b[1;32m92.512%\u001b[0m]\n",
      "Epoch: [52] HAM10000 ==> Training ...\n"
     ]
    },
    {
     "data": {
      "application/vnd.jupyter.widget-view+json": {
       "model_id": "257e0c92d531486287a78b6cfa9c81d4",
       "version_major": 2,
       "version_minor": 0
      },
      "text/plain": [
       "  0%|          | 0/308 [00:00<?, ?it/s]"
      ]
     },
     "metadata": {},
     "output_type": "display_data"
    },
    {
     "name": "stdout",
     "output_type": "stream",
     "text": [
      "[154/308] Loss0.21445, ACC:0.69059%\n",
      "[308/308] Loss0.19914, ACC:0.69307%\n",
      "Train_Loss: 0.21478657076111088,ACC:0.694%\n",
      "\u001b[66mHAM10000 ==> testing ...\u001b[0m\n"
     ]
    },
    {
     "data": {
      "application/vnd.jupyter.widget-view+json": {
       "model_id": "dff6cf78dcb3440d9dd9fe39ea06b904",
       "version_major": 2,
       "version_minor": 0
      },
      "text/plain": [
       "  0%|          | 0/26 [00:00<?, ?it/s]"
      ]
     },
     "metadata": {},
     "output_type": "display_data"
    },
    {
     "name": "stdout",
     "output_type": "stream",
     "text": [
      "Test_Acc:\u001b[1;32m90.942%\u001b[0m\n",
      "Best_ACC[\u001b[1;32m92.512%\u001b[0m]\n",
      "Epoch: [53] HAM10000 ==> Training ...\n"
     ]
    },
    {
     "data": {
      "application/vnd.jupyter.widget-view+json": {
       "model_id": "29407649d6ca49e2a3d42def99e77870",
       "version_major": 2,
       "version_minor": 0
      },
      "text/plain": [
       "  0%|          | 0/308 [00:00<?, ?it/s]"
      ]
     },
     "metadata": {},
     "output_type": "display_data"
    },
    {
     "name": "stdout",
     "output_type": "stream",
     "text": [
      "[154/308] Loss0.23524, ACC:0.70435%\n",
      "[308/308] Loss0.18957, ACC:0.70513%\n",
      "Train_Loss: 0.20781190093461568,ACC:0.706%\n",
      "\u001b[66mHAM10000 ==> testing ...\u001b[0m\n"
     ]
    },
    {
     "data": {
      "application/vnd.jupyter.widget-view+json": {
       "model_id": "54c2d6a456294eb59988be29ae661e83",
       "version_major": 2,
       "version_minor": 0
      },
      "text/plain": [
       "  0%|          | 0/26 [00:00<?, ?it/s]"
      ]
     },
     "metadata": {},
     "output_type": "display_data"
    },
    {
     "name": "stdout",
     "output_type": "stream",
     "text": [
      "Test_Acc:\u001b[1;32m87.923%\u001b[0m\n",
      "Best_ACC[\u001b[1;32m92.512%\u001b[0m]\n",
      "Epoch: [54] HAM10000 ==> Training ...\n"
     ]
    },
    {
     "data": {
      "application/vnd.jupyter.widget-view+json": {
       "model_id": "ea965ba89439460b9669db16ee7c6d27",
       "version_major": 2,
       "version_minor": 0
      },
      "text/plain": [
       "  0%|          | 0/308 [00:00<?, ?it/s]"
      ]
     },
     "metadata": {},
     "output_type": "display_data"
    },
    {
     "name": "stdout",
     "output_type": "stream",
     "text": [
      "[154/308] Loss0.18513, ACC:0.71131%\n",
      "[308/308] Loss0.19014, ACC:0.71494%\n",
      "Train_Loss: 0.2018558204948128,ACC:0.716%\n",
      "\u001b[66mHAM10000 ==> testing ...\u001b[0m\n"
     ]
    },
    {
     "data": {
      "application/vnd.jupyter.widget-view+json": {
       "model_id": "48382538cd0c4b258fae61597133b64a",
       "version_major": 2,
       "version_minor": 0
      },
      "text/plain": [
       "  0%|          | 0/26 [00:00<?, ?it/s]"
      ]
     },
     "metadata": {},
     "output_type": "display_data"
    },
    {
     "name": "stdout",
     "output_type": "stream",
     "text": [
      "Test_Acc:\u001b[1;32m93.72%\u001b[0m\n",
      "Best_ACC[\u001b[1;32m93.72%\u001b[0m]\n",
      "Epoch: [55] HAM10000 ==> Training ...\n"
     ]
    },
    {
     "data": {
      "application/vnd.jupyter.widget-view+json": {
       "model_id": "68daab23ffe84dd1941116801b847ae0",
       "version_major": 2,
       "version_minor": 0
      },
      "text/plain": [
       "  0%|          | 0/308 [00:00<?, ?it/s]"
      ]
     },
     "metadata": {},
     "output_type": "display_data"
    },
    {
     "name": "stdout",
     "output_type": "stream",
     "text": [
      "[154/308] Loss0.20970, ACC:0.72283%\n",
      "[308/308] Loss0.21288, ACC:0.72296%\n",
      "Train_Loss: 0.19763033672586663,ACC:0.724%\n",
      "\u001b[66mHAM10000 ==> testing ...\u001b[0m\n"
     ]
    },
    {
     "data": {
      "application/vnd.jupyter.widget-view+json": {
       "model_id": "db9342d9e7564ef1963d650f1e9b9e22",
       "version_major": 2,
       "version_minor": 0
      },
      "text/plain": [
       "  0%|          | 0/26 [00:00<?, ?it/s]"
      ]
     },
     "metadata": {},
     "output_type": "display_data"
    },
    {
     "name": "stdout",
     "output_type": "stream",
     "text": [
      "Test_Acc:\u001b[1;32m93.116%\u001b[0m\n",
      "Best_ACC[\u001b[1;32m93.72%\u001b[0m]\n",
      "Epoch: [56] HAM10000 ==> Training ...\n"
     ]
    },
    {
     "data": {
      "application/vnd.jupyter.widget-view+json": {
       "model_id": "1cc5c3783db34a05917909592688dea8",
       "version_major": 2,
       "version_minor": 0
      },
      "text/plain": [
       "  0%|          | 0/308 [00:00<?, ?it/s]"
      ]
     },
     "metadata": {},
     "output_type": "display_data"
    },
    {
     "name": "stdout",
     "output_type": "stream",
     "text": [
      "[154/308] Loss0.21020, ACC:0.72801%\n",
      "[308/308] Loss0.20786, ACC:0.72302%\n",
      "Train_Loss: 0.19574521380391988,ACC:0.724%\n",
      "\u001b[66mHAM10000 ==> testing ...\u001b[0m\n"
     ]
    },
    {
     "data": {
      "application/vnd.jupyter.widget-view+json": {
       "model_id": "e674378e24b1494b91c1e91074746d53",
       "version_major": 2,
       "version_minor": 0
      },
      "text/plain": [
       "  0%|          | 0/26 [00:00<?, ?it/s]"
      ]
     },
     "metadata": {},
     "output_type": "display_data"
    },
    {
     "name": "stdout",
     "output_type": "stream",
     "text": [
      "Test_Acc:\u001b[1;32m93.237%\u001b[0m\n",
      "Best_ACC[\u001b[1;32m93.72%\u001b[0m]\n",
      "Epoch: [57] HAM10000 ==> Training ...\n"
     ]
    },
    {
     "data": {
      "application/vnd.jupyter.widget-view+json": {
       "model_id": "5c9deb6eabf6451ab650c72d726eb9af",
       "version_major": 2,
       "version_minor": 0
      },
      "text/plain": [
       "  0%|          | 0/308 [00:00<?, ?it/s]"
      ]
     },
     "metadata": {},
     "output_type": "display_data"
    },
    {
     "name": "stdout",
     "output_type": "stream",
     "text": [
      "[154/308] Loss0.17243, ACC:0.72596%\n",
      "[308/308] Loss0.20737, ACC:0.72563%\n",
      "Train_Loss: 0.1953891438323182,ACC:0.726%\n",
      "\u001b[66mHAM10000 ==> testing ...\u001b[0m\n"
     ]
    },
    {
     "data": {
      "application/vnd.jupyter.widget-view+json": {
       "model_id": "4feda2bf4c364ca9aa02a65cd79735a9",
       "version_major": 2,
       "version_minor": 0
      },
      "text/plain": [
       "  0%|          | 0/26 [00:00<?, ?it/s]"
      ]
     },
     "metadata": {},
     "output_type": "display_data"
    },
    {
     "name": "stdout",
     "output_type": "stream",
     "text": [
      "Test_Acc:\u001b[1;32m92.512%\u001b[0m\n",
      "Best_ACC[\u001b[1;32m93.72%\u001b[0m]\n",
      "Epoch: [58] HAM10000 ==> Training ...\n"
     ]
    },
    {
     "data": {
      "application/vnd.jupyter.widget-view+json": {
       "model_id": "c56aae97385b41ac971595a9ebeaff86",
       "version_major": 2,
       "version_minor": 0
      },
      "text/plain": [
       "  0%|          | 0/308 [00:00<?, ?it/s]"
      ]
     },
     "metadata": {},
     "output_type": "display_data"
    },
    {
     "name": "stdout",
     "output_type": "stream",
     "text": [
      "[154/308] Loss0.19840, ACC:0.71657%\n",
      "[308/308] Loss0.18486, ACC:0.71672%\n",
      "Train_Loss: 0.2008371152854585,ACC:0.717%\n",
      "\u001b[66mHAM10000 ==> testing ...\u001b[0m\n"
     ]
    },
    {
     "data": {
      "application/vnd.jupyter.widget-view+json": {
       "model_id": "4959fb9e8c74478bbe9006482630112b",
       "version_major": 2,
       "version_minor": 0
      },
      "text/plain": [
       "  0%|          | 0/26 [00:00<?, ?it/s]"
      ]
     },
     "metadata": {},
     "output_type": "display_data"
    },
    {
     "name": "stdout",
     "output_type": "stream",
     "text": [
      "Test_Acc:\u001b[1;32m91.546%\u001b[0m\n",
      "Best_ACC[\u001b[1;32m93.72%\u001b[0m]\n",
      "Epoch: [59] HAM10000 ==> Training ...\n"
     ]
    },
    {
     "data": {
      "application/vnd.jupyter.widget-view+json": {
       "model_id": "76a08d34242749cfa6d21a0471665e70",
       "version_major": 2,
       "version_minor": 0
      },
      "text/plain": [
       "  0%|          | 0/308 [00:00<?, ?it/s]"
      ]
     },
     "metadata": {},
     "output_type": "display_data"
    },
    {
     "name": "stdout",
     "output_type": "stream",
     "text": [
      "[154/308] Loss0.22860, ACC:0.70497%\n",
      "[308/308] Loss0.16772, ACC:0.70777%\n",
      "Train_Loss: 0.20630647764577495,ACC:0.708%\n",
      "\u001b[66mHAM10000 ==> testing ...\u001b[0m\n"
     ]
    },
    {
     "data": {
      "application/vnd.jupyter.widget-view+json": {
       "model_id": "e5ba8ed1e47c4e86a350b3ec169619f2",
       "version_major": 2,
       "version_minor": 0
      },
      "text/plain": [
       "  0%|          | 0/26 [00:00<?, ?it/s]"
      ]
     },
     "metadata": {},
     "output_type": "display_data"
    },
    {
     "name": "stdout",
     "output_type": "stream",
     "text": [
      "Test_Acc:\u001b[1;32m91.063%\u001b[0m\n",
      "Best_ACC[\u001b[1;32m93.72%\u001b[0m]\n",
      "Epoch: [60] HAM10000 ==> Training ...\n"
     ]
    },
    {
     "data": {
      "application/vnd.jupyter.widget-view+json": {
       "model_id": "3e2e6e6bd63a41dba6407cb45ba79c56",
       "version_major": 2,
       "version_minor": 0
      },
      "text/plain": [
       "  0%|          | 0/308 [00:00<?, ?it/s]"
      ]
     },
     "metadata": {},
     "output_type": "display_data"
    },
    {
     "name": "stdout",
     "output_type": "stream",
     "text": [
      "[154/308] Loss0.17851, ACC:0.70628%\n",
      "[308/308] Loss0.20374, ACC:0.70275%\n",
      "Train_Loss: 0.20906068403999528,ACC:0.703%\n",
      "\u001b[66mHAM10000 ==> testing ...\u001b[0m\n"
     ]
    },
    {
     "data": {
      "application/vnd.jupyter.widget-view+json": {
       "model_id": "a9d4c116e472420eb68af5cd3d500c00",
       "version_major": 2,
       "version_minor": 0
      },
      "text/plain": [
       "  0%|          | 0/26 [00:00<?, ?it/s]"
      ]
     },
     "metadata": {},
     "output_type": "display_data"
    },
    {
     "name": "stdout",
     "output_type": "stream",
     "text": [
      "Test_Acc:\u001b[1;32m84.179%\u001b[0m\n",
      "Best_ACC[\u001b[1;32m93.72%\u001b[0m]\n",
      "Epoch: [61] HAM10000 ==> Training ...\n"
     ]
    },
    {
     "data": {
      "application/vnd.jupyter.widget-view+json": {
       "model_id": "e34b1e3cbfcb4bca88162ab4a6bbc617",
       "version_major": 2,
       "version_minor": 0
      },
      "text/plain": [
       "  0%|          | 0/308 [00:00<?, ?it/s]"
      ]
     },
     "metadata": {},
     "output_type": "display_data"
    },
    {
     "name": "stdout",
     "output_type": "stream",
     "text": [
      "[154/308] Loss0.22313, ACC:0.70439%\n",
      "[308/308] Loss0.22034, ACC:0.70186%\n",
      "Train_Loss: 0.21059137157031468,ACC:0.702%\n",
      "\u001b[66mHAM10000 ==> testing ...\u001b[0m\n"
     ]
    },
    {
     "data": {
      "application/vnd.jupyter.widget-view+json": {
       "model_id": "edf92ccd39eb4740bbdfa1db8784d412",
       "version_major": 2,
       "version_minor": 0
      },
      "text/plain": [
       "  0%|          | 0/26 [00:00<?, ?it/s]"
      ]
     },
     "metadata": {},
     "output_type": "display_data"
    },
    {
     "name": "stdout",
     "output_type": "stream",
     "text": [
      "Test_Acc:\u001b[1;32m90.821%\u001b[0m\n",
      "Best_ACC[\u001b[1;32m93.72%\u001b[0m]\n",
      "Epoch: [62] HAM10000 ==> Training ...\n"
     ]
    },
    {
     "data": {
      "application/vnd.jupyter.widget-view+json": {
       "model_id": "3e37437a0a4847fe911b98df871862ca",
       "version_major": 2,
       "version_minor": 0
      },
      "text/plain": [
       "  0%|          | 0/308 [00:00<?, ?it/s]"
      ]
     },
     "metadata": {},
     "output_type": "display_data"
    },
    {
     "name": "stdout",
     "output_type": "stream",
     "text": [
      "[154/308] Loss0.14858, ACC:0.70636%\n",
      "[308/308] Loss0.21342, ACC:0.70230%\n",
      "Train_Loss: 0.20904178428766015,ACC:0.703%\n",
      "\u001b[66mHAM10000 ==> testing ...\u001b[0m\n"
     ]
    },
    {
     "data": {
      "application/vnd.jupyter.widget-view+json": {
       "model_id": "42d9ce9a85ba41719f900b50bc6cf819",
       "version_major": 2,
       "version_minor": 0
      },
      "text/plain": [
       "  0%|          | 0/26 [00:00<?, ?it/s]"
      ]
     },
     "metadata": {},
     "output_type": "display_data"
    },
    {
     "name": "stdout",
     "output_type": "stream",
     "text": [
      "Test_Acc:\u001b[1;32m92.271%\u001b[0m\n",
      "Best_ACC[\u001b[1;32m93.72%\u001b[0m]\n",
      "Epoch: [63] HAM10000 ==> Training ...\n"
     ]
    },
    {
     "data": {
      "application/vnd.jupyter.widget-view+json": {
       "model_id": "672ccba1801c40a282ebcd1b9ca623b9",
       "version_major": 2,
       "version_minor": 0
      },
      "text/plain": [
       "  0%|          | 0/308 [00:00<?, ?it/s]"
      ]
     },
     "metadata": {},
     "output_type": "display_data"
    },
    {
     "name": "stdout",
     "output_type": "stream",
     "text": [
      "[154/308] Loss0.21653, ACC:0.71680%\n",
      "[308/308] Loss0.19987, ACC:0.71529%\n",
      "Train_Loss: 0.20225803186367083,ACC:0.716%\n",
      "\u001b[66mHAM10000 ==> testing ...\u001b[0m\n"
     ]
    },
    {
     "data": {
      "application/vnd.jupyter.widget-view+json": {
       "model_id": "3f511dbaeefc4012884da2c90dad296b",
       "version_major": 2,
       "version_minor": 0
      },
      "text/plain": [
       "  0%|          | 0/26 [00:00<?, ?it/s]"
      ]
     },
     "metadata": {},
     "output_type": "display_data"
    },
    {
     "name": "stdout",
     "output_type": "stream",
     "text": [
      "Test_Acc:\u001b[1;32m92.874%\u001b[0m\n",
      "Best_ACC[\u001b[1;32m93.72%\u001b[0m]\n",
      "Epoch: [64] HAM10000 ==> Training ...\n"
     ]
    },
    {
     "data": {
      "application/vnd.jupyter.widget-view+json": {
       "model_id": "4676fb6909224772a5d5271cd821246b",
       "version_major": 2,
       "version_minor": 0
      },
      "text/plain": [
       "  0%|          | 0/308 [00:00<?, ?it/s]"
      ]
     },
     "metadata": {},
     "output_type": "display_data"
    },
    {
     "name": "stdout",
     "output_type": "stream",
     "text": [
      "[154/308] Loss0.20215, ACC:0.72565%\n",
      "[308/308] Loss0.18240, ACC:0.72557%\n",
      "Train_Loss: 0.1956255729128788,ACC:0.726%\n",
      "\u001b[66mHAM10000 ==> testing ...\u001b[0m\n"
     ]
    },
    {
     "data": {
      "application/vnd.jupyter.widget-view+json": {
       "model_id": "8c38762ff8e0463e9bfd7856b162a71c",
       "version_major": 2,
       "version_minor": 0
      },
      "text/plain": [
       "  0%|          | 0/26 [00:00<?, ?it/s]"
      ]
     },
     "metadata": {},
     "output_type": "display_data"
    },
    {
     "name": "stdout",
     "output_type": "stream",
     "text": [
      "Test_Acc:\u001b[1;32m91.667%\u001b[0m\n",
      "Best_ACC[\u001b[1;32m93.72%\u001b[0m]\n",
      "Epoch: [65] HAM10000 ==> Training ...\n"
     ]
    },
    {
     "data": {
      "application/vnd.jupyter.widget-view+json": {
       "model_id": "023c1d8dd573419880eaa45ac4eceba9",
       "version_major": 2,
       "version_minor": 0
      },
      "text/plain": [
       "  0%|          | 0/308 [00:00<?, ?it/s]"
      ]
     },
     "metadata": {},
     "output_type": "display_data"
    },
    {
     "name": "stdout",
     "output_type": "stream",
     "text": [
      "[154/308] Loss0.21829, ACC:0.73052%\n",
      "[308/308] Loss0.16326, ACC:0.73135%\n",
      "Train_Loss: 0.19064260859574592,ACC:0.732%\n",
      "\u001b[66mHAM10000 ==> testing ...\u001b[0m\n"
     ]
    },
    {
     "data": {
      "application/vnd.jupyter.widget-view+json": {
       "model_id": "956ef6799b9a4387919cb5b10edda012",
       "version_major": 2,
       "version_minor": 0
      },
      "text/plain": [
       "  0%|          | 0/26 [00:00<?, ?it/s]"
      ]
     },
     "metadata": {},
     "output_type": "display_data"
    },
    {
     "name": "stdout",
     "output_type": "stream",
     "text": [
      "Test_Acc:\u001b[1;32m93.116%\u001b[0m\n",
      "Best_ACC[\u001b[1;32m93.72%\u001b[0m]\n",
      "Epoch: [66] HAM10000 ==> Training ...\n"
     ]
    },
    {
     "data": {
      "application/vnd.jupyter.widget-view+json": {
       "model_id": "ad65b123c52a48f3a903501e30913a32",
       "version_major": 2,
       "version_minor": 0
      },
      "text/plain": [
       "  0%|          | 0/308 [00:00<?, ?it/s]"
      ]
     },
     "metadata": {},
     "output_type": "display_data"
    },
    {
     "name": "stdout",
     "output_type": "stream",
     "text": [
      "[154/308] Loss0.21594, ACC:0.73585%\n",
      "[308/308] Loss0.19645, ACC:0.73321%\n",
      "Train_Loss: 0.19013597922665731,ACC:0.734%\n",
      "\u001b[66mHAM10000 ==> testing ...\u001b[0m\n"
     ]
    },
    {
     "data": {
      "application/vnd.jupyter.widget-view+json": {
       "model_id": "51dec811487241c1861e94aaddb3cda9",
       "version_major": 2,
       "version_minor": 0
      },
      "text/plain": [
       "  0%|          | 0/26 [00:00<?, ?it/s]"
      ]
     },
     "metadata": {},
     "output_type": "display_data"
    },
    {
     "name": "stdout",
     "output_type": "stream",
     "text": [
      "Test_Acc:\u001b[1;32m92.391%\u001b[0m\n",
      "Best_ACC[\u001b[1;32m93.72%\u001b[0m]\n",
      "Epoch: [67] HAM10000 ==> Training ...\n"
     ]
    },
    {
     "data": {
      "application/vnd.jupyter.widget-view+json": {
       "model_id": "10fee42addd24bc7bf6803846375473a",
       "version_major": 2,
       "version_minor": 0
      },
      "text/plain": [
       "  0%|          | 0/308 [00:00<?, ?it/s]"
      ]
     },
     "metadata": {},
     "output_type": "display_data"
    },
    {
     "name": "stdout",
     "output_type": "stream",
     "text": [
      "[154/308] Loss0.19033, ACC:0.73326%\n",
      "[308/308] Loss0.22140, ACC:0.73259%\n",
      "Train_Loss: 0.1906967477074691,ACC:0.733%\n",
      "\u001b[66mHAM10000 ==> testing ...\u001b[0m\n"
     ]
    },
    {
     "data": {
      "application/vnd.jupyter.widget-view+json": {
       "model_id": "a0b14f23359d4ad19fe9dfbd97c168cf",
       "version_major": 2,
       "version_minor": 0
      },
      "text/plain": [
       "  0%|          | 0/26 [00:00<?, ?it/s]"
      ]
     },
     "metadata": {},
     "output_type": "display_data"
    },
    {
     "name": "stdout",
     "output_type": "stream",
     "text": [
      "Test_Acc:\u001b[1;32m92.754%\u001b[0m\n",
      "Best_ACC[\u001b[1;32m93.72%\u001b[0m]\n",
      "Epoch: [68] HAM10000 ==> Training ...\n"
     ]
    },
    {
     "data": {
      "application/vnd.jupyter.widget-view+json": {
       "model_id": "1e34124d54294af9bcddafe957c10412",
       "version_major": 2,
       "version_minor": 0
      },
      "text/plain": [
       "  0%|          | 0/308 [00:00<?, ?it/s]"
      ]
     },
     "metadata": {},
     "output_type": "display_data"
    },
    {
     "name": "stdout",
     "output_type": "stream",
     "text": [
      "[154/308] Loss0.20938, ACC:0.72708%\n",
      "[308/308] Loss0.21408, ACC:0.72580%\n",
      "Train_Loss: 0.19505367307113364,ACC:0.726%\n",
      "\u001b[66mHAM10000 ==> testing ...\u001b[0m\n"
     ]
    },
    {
     "data": {
      "application/vnd.jupyter.widget-view+json": {
       "model_id": "59b12e6cef3346beafdbf597ac7e7dbd",
       "version_major": 2,
       "version_minor": 0
      },
      "text/plain": [
       "  0%|          | 0/26 [00:00<?, ?it/s]"
      ]
     },
     "metadata": {},
     "output_type": "display_data"
    },
    {
     "name": "stdout",
     "output_type": "stream",
     "text": [
      "Test_Acc:\u001b[1;32m91.667%\u001b[0m\n",
      "Best_ACC[\u001b[1;32m93.72%\u001b[0m]\n",
      "Epoch: [69] HAM10000 ==> Training ...\n"
     ]
    },
    {
     "data": {
      "application/vnd.jupyter.widget-view+json": {
       "model_id": "76413e1b81ad4830bdd2c89d18f70ed3",
       "version_major": 2,
       "version_minor": 0
      },
      "text/plain": [
       "  0%|          | 0/308 [00:00<?, ?it/s]"
      ]
     },
     "metadata": {},
     "output_type": "display_data"
    },
    {
     "name": "stdout",
     "output_type": "stream",
     "text": [
      "[154/308] Loss0.20411, ACC:0.71212%\n",
      "[308/308] Loss0.17614, ACC:0.71521%\n",
      "Train_Loss: 0.2019208377928703,ACC:0.716%\n",
      "\u001b[66mHAM10000 ==> testing ...\u001b[0m\n"
     ]
    },
    {
     "data": {
      "application/vnd.jupyter.widget-view+json": {
       "model_id": "3ea366d34cf040a8af8f7d3fadb6d1ea",
       "version_major": 2,
       "version_minor": 0
      },
      "text/plain": [
       "  0%|          | 0/26 [00:00<?, ?it/s]"
      ]
     },
     "metadata": {},
     "output_type": "display_data"
    },
    {
     "name": "stdout",
     "output_type": "stream",
     "text": [
      "Test_Acc:\u001b[1;32m58.696%\u001b[0m\n",
      "Best_ACC[\u001b[1;32m93.72%\u001b[0m]\n",
      "Epoch: [70] HAM10000 ==> Training ...\n"
     ]
    },
    {
     "data": {
      "application/vnd.jupyter.widget-view+json": {
       "model_id": "32ae507cc551415c94751f888f86e29a",
       "version_major": 2,
       "version_minor": 0
      },
      "text/plain": [
       "  0%|          | 0/308 [00:00<?, ?it/s]"
      ]
     },
     "metadata": {},
     "output_type": "display_data"
    },
    {
     "name": "stdout",
     "output_type": "stream",
     "text": [
      "[154/308] Loss0.19792, ACC:0.71123%\n",
      "[308/308] Loss0.21687, ACC:0.71243%\n",
      "Train_Loss: 0.20523237853081194,ACC:0.713%\n",
      "\u001b[66mHAM10000 ==> testing ...\u001b[0m\n"
     ]
    },
    {
     "data": {
      "application/vnd.jupyter.widget-view+json": {
       "model_id": "a364a615bde3401b9f1680483fb7b79b",
       "version_major": 2,
       "version_minor": 0
      },
      "text/plain": [
       "  0%|          | 0/26 [00:00<?, ?it/s]"
      ]
     },
     "metadata": {},
     "output_type": "display_data"
    },
    {
     "name": "stdout",
     "output_type": "stream",
     "text": [
      "Test_Acc:\u001b[1;32m92.271%\u001b[0m\n",
      "Best_ACC[\u001b[1;32m93.72%\u001b[0m]\n",
      "Epoch: [71] HAM10000 ==> Training ...\n"
     ]
    },
    {
     "data": {
      "application/vnd.jupyter.widget-view+json": {
       "model_id": "878a99c873bc4a11952a7503f8b3181f",
       "version_major": 2,
       "version_minor": 0
      },
      "text/plain": [
       "  0%|          | 0/308 [00:00<?, ?it/s]"
      ]
     },
     "metadata": {},
     "output_type": "display_data"
    },
    {
     "name": "stdout",
     "output_type": "stream",
     "text": [
      "[154/308] Loss0.18498, ACC:0.70949%\n",
      "[308/308] Loss0.18865, ACC:0.70826%\n",
      "Train_Loss: 0.2061589714381602,ACC:0.709%\n",
      "\u001b[66mHAM10000 ==> testing ...\u001b[0m\n"
     ]
    },
    {
     "data": {
      "application/vnd.jupyter.widget-view+json": {
       "model_id": "6f52da42a6134567ae40740a4a5a2a8d",
       "version_major": 2,
       "version_minor": 0
      },
      "text/plain": [
       "  0%|          | 0/26 [00:00<?, ?it/s]"
      ]
     },
     "metadata": {},
     "output_type": "display_data"
    },
    {
     "name": "stdout",
     "output_type": "stream",
     "text": [
      "Test_Acc:\u001b[1;32m93.72%\u001b[0m\n",
      "Best_ACC[\u001b[1;32m93.72%\u001b[0m]\n",
      "Epoch: [72] HAM10000 ==> Training ...\n"
     ]
    },
    {
     "data": {
      "application/vnd.jupyter.widget-view+json": {
       "model_id": "8574cd66628446c587063a46d21e4bce",
       "version_major": 2,
       "version_minor": 0
      },
      "text/plain": [
       "  0%|          | 0/308 [00:00<?, ?it/s]"
      ]
     },
     "metadata": {},
     "output_type": "display_data"
    },
    {
     "name": "stdout",
     "output_type": "stream",
     "text": [
      "[154/308] Loss0.20159, ACC:0.71456%\n",
      "[308/308] Loss0.24435, ACC:0.71494%\n",
      "Train_Loss: 0.20267553845202768,ACC:0.716%\n",
      "\u001b[66mHAM10000 ==> testing ...\u001b[0m\n"
     ]
    },
    {
     "data": {
      "application/vnd.jupyter.widget-view+json": {
       "model_id": "92c744a504394c5f92403673d75a60ee",
       "version_major": 2,
       "version_minor": 0
      },
      "text/plain": [
       "  0%|          | 0/26 [00:00<?, ?it/s]"
      ]
     },
     "metadata": {},
     "output_type": "display_data"
    },
    {
     "name": "stdout",
     "output_type": "stream",
     "text": [
      "Test_Acc:\u001b[1;32m92.874%\u001b[0m\n",
      "Best_ACC[\u001b[1;32m93.72%\u001b[0m]\n",
      "Epoch: [73] HAM10000 ==> Training ...\n"
     ]
    },
    {
     "data": {
      "application/vnd.jupyter.widget-view+json": {
       "model_id": "e34a035a814d4642ad7aa91327cd7669",
       "version_major": 2,
       "version_minor": 0
      },
      "text/plain": [
       "  0%|          | 0/308 [00:00<?, ?it/s]"
      ]
     },
     "metadata": {},
     "output_type": "display_data"
    },
    {
     "name": "stdout",
     "output_type": "stream",
     "text": [
      "[154/308] Loss0.21539, ACC:0.72418%\n",
      "[308/308] Loss0.18880, ACC:0.72416%\n",
      "Train_Loss: 0.1976410589338123,ACC:0.725%\n",
      "\u001b[66mHAM10000 ==> testing ...\u001b[0m\n"
     ]
    },
    {
     "data": {
      "application/vnd.jupyter.widget-view+json": {
       "model_id": "6df1f82d72cb4c61994459b5170b5b7f",
       "version_major": 2,
       "version_minor": 0
      },
      "text/plain": [
       "  0%|          | 0/26 [00:00<?, ?it/s]"
      ]
     },
     "metadata": {},
     "output_type": "display_data"
    },
    {
     "name": "stdout",
     "output_type": "stream",
     "text": [
      "Test_Acc:\u001b[1;32m92.754%\u001b[0m\n",
      "Best_ACC[\u001b[1;32m93.72%\u001b[0m]\n",
      "Epoch: [74] HAM10000 ==> Training ...\n"
     ]
    },
    {
     "data": {
      "application/vnd.jupyter.widget-view+json": {
       "model_id": "46772ee844c84eae80935f0e4b8c610f",
       "version_major": 2,
       "version_minor": 0
      },
      "text/plain": [
       "  0%|          | 0/308 [00:00<?, ?it/s]"
      ]
     },
     "metadata": {},
     "output_type": "display_data"
    },
    {
     "name": "stdout",
     "output_type": "stream",
     "text": [
      "[154/308] Loss0.19921, ACC:0.73554%\n",
      "[308/308] Loss0.22885, ACC:0.73342%\n",
      "Train_Loss: 0.19155692391387827,ACC:0.734%\n",
      "\u001b[66mHAM10000 ==> testing ...\u001b[0m\n"
     ]
    },
    {
     "data": {
      "application/vnd.jupyter.widget-view+json": {
       "model_id": "63b28e98af2b4104b83e82815af4d851",
       "version_major": 2,
       "version_minor": 0
      },
      "text/plain": [
       "  0%|          | 0/26 [00:00<?, ?it/s]"
      ]
     },
     "metadata": {},
     "output_type": "display_data"
    },
    {
     "name": "stdout",
     "output_type": "stream",
     "text": [
      "Test_Acc:\u001b[1;32m94.082%\u001b[0m\n",
      "Best_ACC[\u001b[1;32m94.082%\u001b[0m]\n",
      "Epoch: [75] HAM10000 ==> Training ...\n"
     ]
    },
    {
     "data": {
      "application/vnd.jupyter.widget-view+json": {
       "model_id": "71cf9e1bef2c4d6f90f00a41fd704226",
       "version_major": 2,
       "version_minor": 0
      },
      "text/plain": [
       "  0%|          | 0/308 [00:00<?, ?it/s]"
      ]
     },
     "metadata": {},
     "output_type": "display_data"
    },
    {
     "name": "stdout",
     "output_type": "stream",
     "text": [
      "[154/308] Loss0.19379, ACC:0.74366%\n",
      "[308/308] Loss0.18956, ACC:0.74163%\n",
      "Train_Loss: 0.1862262569658168,ACC:0.742%\n",
      "\u001b[66mHAM10000 ==> testing ...\u001b[0m\n"
     ]
    },
    {
     "data": {
      "application/vnd.jupyter.widget-view+json": {
       "model_id": "ac9705c7b14b4e6490601122badad5bd",
       "version_major": 2,
       "version_minor": 0
      },
      "text/plain": [
       "  0%|          | 0/26 [00:00<?, ?it/s]"
      ]
     },
     "metadata": {},
     "output_type": "display_data"
    },
    {
     "name": "stdout",
     "output_type": "stream",
     "text": [
      "Test_Acc:\u001b[1;32m94.203%\u001b[0m\n",
      "Best_ACC[\u001b[1;32m94.203%\u001b[0m]\n",
      "Epoch: [76] HAM10000 ==> Training ...\n"
     ]
    },
    {
     "data": {
      "application/vnd.jupyter.widget-view+json": {
       "model_id": "a8a9f93b59b3441796cfb75a4c226715",
       "version_major": 2,
       "version_minor": 0
      },
      "text/plain": [
       "  0%|          | 0/308 [00:00<?, ?it/s]"
      ]
     },
     "metadata": {},
     "output_type": "display_data"
    },
    {
     "name": "stdout",
     "output_type": "stream",
     "text": [
      "[154/308] Loss0.21444, ACC:0.74146%\n",
      "[308/308] Loss0.18233, ACC:0.74074%\n",
      "Train_Loss: 0.18649483535003353,ACC:0.741%\n",
      "\u001b[66mHAM10000 ==> testing ...\u001b[0m\n"
     ]
    },
    {
     "data": {
      "application/vnd.jupyter.widget-view+json": {
       "model_id": "251b4018df0c411dabfe26ac729c84d6",
       "version_major": 2,
       "version_minor": 0
      },
      "text/plain": [
       "  0%|          | 0/26 [00:00<?, ?it/s]"
      ]
     },
     "metadata": {},
     "output_type": "display_data"
    },
    {
     "name": "stdout",
     "output_type": "stream",
     "text": [
      "Test_Acc:\u001b[1;32m94.686%\u001b[0m\n",
      "Best_ACC[\u001b[1;32m94.686%\u001b[0m]\n",
      "Epoch: [77] HAM10000 ==> Training ...\n"
     ]
    },
    {
     "data": {
      "application/vnd.jupyter.widget-view+json": {
       "model_id": "74a370ca4c67412594be50a8aa85b135",
       "version_major": 2,
       "version_minor": 0
      },
      "text/plain": [
       "  0%|          | 0/308 [00:00<?, ?it/s]"
      ]
     },
     "metadata": {},
     "output_type": "display_data"
    },
    {
     "name": "stdout",
     "output_type": "stream",
     "text": [
      "[154/308] Loss0.17040, ACC:0.74223%\n",
      "[308/308] Loss0.17274, ACC:0.74244%\n",
      "Train_Loss: 0.1864108552599882,ACC:0.743%\n",
      "\u001b[66mHAM10000 ==> testing ...\u001b[0m\n"
     ]
    },
    {
     "data": {
      "application/vnd.jupyter.widget-view+json": {
       "model_id": "eadaf19ca2c84acbaaadeae138011bb8",
       "version_major": 2,
       "version_minor": 0
      },
      "text/plain": [
       "  0%|          | 0/26 [00:00<?, ?it/s]"
      ]
     },
     "metadata": {},
     "output_type": "display_data"
    },
    {
     "name": "stdout",
     "output_type": "stream",
     "text": [
      "Test_Acc:\u001b[1;32m95.048%\u001b[0m\n",
      "Best_ACC[\u001b[1;32m95.048%\u001b[0m]\n",
      "Epoch: [78] HAM10000 ==> Training ...\n"
     ]
    },
    {
     "data": {
      "application/vnd.jupyter.widget-view+json": {
       "model_id": "34341c86a78d42cdbd6c47c636902070",
       "version_major": 2,
       "version_minor": 0
      },
      "text/plain": [
       "  0%|          | 0/308 [00:00<?, ?it/s]"
      ]
     },
     "metadata": {},
     "output_type": "display_data"
    },
    {
     "name": "stdout",
     "output_type": "stream",
     "text": [
      "[154/308] Loss0.19141, ACC:0.73624%\n",
      "[308/308] Loss0.19928, ACC:0.73686%\n",
      "Train_Loss: 0.18926094472408295,ACC:0.737%\n",
      "\u001b[66mHAM10000 ==> testing ...\u001b[0m\n"
     ]
    },
    {
     "data": {
      "application/vnd.jupyter.widget-view+json": {
       "model_id": "9917c523757e440893de69e15e3c66d8",
       "version_major": 2,
       "version_minor": 0
      },
      "text/plain": [
       "  0%|          | 0/26 [00:00<?, ?it/s]"
      ]
     },
     "metadata": {},
     "output_type": "display_data"
    },
    {
     "name": "stdout",
     "output_type": "stream",
     "text": [
      "Test_Acc:\u001b[1;32m90.338%\u001b[0m\n",
      "Best_ACC[\u001b[1;32m95.048%\u001b[0m]\n",
      "Epoch: [79] HAM10000 ==> Training ...\n"
     ]
    },
    {
     "data": {
      "application/vnd.jupyter.widget-view+json": {
       "model_id": "2952af3cd89844f0820b55c52674fea4",
       "version_major": 2,
       "version_minor": 0
      },
      "text/plain": [
       "  0%|          | 0/308 [00:00<?, ?it/s]"
      ]
     },
     "metadata": {},
     "output_type": "display_data"
    },
    {
     "name": "stdout",
     "output_type": "stream",
     "text": [
      "[154/308] Loss0.16457, ACC:0.73075%\n",
      "[308/308] Loss0.21293, ACC:0.72658%\n",
      "Train_Loss: 0.195391728651601,ACC:0.727%\n",
      "\u001b[66mHAM10000 ==> testing ...\u001b[0m\n"
     ]
    },
    {
     "data": {
      "application/vnd.jupyter.widget-view+json": {
       "model_id": "1b1f41fe46bc4d418852efa08ac6cd32",
       "version_major": 2,
       "version_minor": 0
      },
      "text/plain": [
       "  0%|          | 0/26 [00:00<?, ?it/s]"
      ]
     },
     "metadata": {},
     "output_type": "display_data"
    },
    {
     "name": "stdout",
     "output_type": "stream",
     "text": [
      "Test_Acc:\u001b[1;32m93.841%\u001b[0m\n",
      "Best_ACC[\u001b[1;32m95.048%\u001b[0m]\n",
      "Epoch: [80] HAM10000 ==> Training ...\n"
     ]
    },
    {
     "data": {
      "application/vnd.jupyter.widget-view+json": {
       "model_id": "2bc83a0e27814133952d8d83b73c4b04",
       "version_major": 2,
       "version_minor": 0
      },
      "text/plain": [
       "  0%|          | 0/308 [00:00<?, ?it/s]"
      ]
     },
     "metadata": {},
     "output_type": "display_data"
    },
    {
     "name": "stdout",
     "output_type": "stream",
     "text": [
      "[154/308] Loss0.22333, ACC:0.72213%\n",
      "[308/308] Loss0.20419, ACC:0.72086%\n",
      "Train_Loss: 0.1998684566903424,ACC:0.721%\n",
      "\u001b[66mHAM10000 ==> testing ...\u001b[0m\n"
     ]
    },
    {
     "data": {
      "application/vnd.jupyter.widget-view+json": {
       "model_id": "86d59c4033b940c8a3b1593bc535b4fd",
       "version_major": 2,
       "version_minor": 0
      },
      "text/plain": [
       "  0%|          | 0/26 [00:00<?, ?it/s]"
      ]
     },
     "metadata": {},
     "output_type": "display_data"
    },
    {
     "name": "stdout",
     "output_type": "stream",
     "text": [
      "Test_Acc:\u001b[1;32m89.734%\u001b[0m\n",
      "Best_ACC[\u001b[1;32m95.048%\u001b[0m]\n",
      "Epoch: [81] HAM10000 ==> Training ...\n"
     ]
    },
    {
     "data": {
      "application/vnd.jupyter.widget-view+json": {
       "model_id": "16f4820542234cff81efce96513cca9e",
       "version_major": 2,
       "version_minor": 0
      },
      "text/plain": [
       "  0%|          | 0/308 [00:00<?, ?it/s]"
      ]
     },
     "metadata": {},
     "output_type": "display_data"
    },
    {
     "name": "stdout",
     "output_type": "stream",
     "text": [
      "[154/308] Loss0.19467, ACC:0.71266%\n",
      "[308/308] Loss0.15273, ACC:0.71492%\n",
      "Train_Loss: 0.202695279103982,ACC:0.716%\n",
      "\u001b[66mHAM10000 ==> testing ...\u001b[0m\n"
     ]
    },
    {
     "data": {
      "application/vnd.jupyter.widget-view+json": {
       "model_id": "9548197a3d1d47e69e2a0c5e1dc007c8",
       "version_major": 2,
       "version_minor": 0
      },
      "text/plain": [
       "  0%|          | 0/26 [00:00<?, ?it/s]"
      ]
     },
     "metadata": {},
     "output_type": "display_data"
    },
    {
     "name": "stdout",
     "output_type": "stream",
     "text": [
      "Test_Acc:\u001b[1;32m90.7%\u001b[0m\n",
      "Best_ACC[\u001b[1;32m95.048%\u001b[0m]\n",
      "Epoch: [82] HAM10000 ==> Training ...\n"
     ]
    },
    {
     "data": {
      "application/vnd.jupyter.widget-view+json": {
       "model_id": "eb2154a0796c4935b78244b08a205a70",
       "version_major": 2,
       "version_minor": 0
      },
      "text/plain": [
       "  0%|          | 0/308 [00:00<?, ?it/s]"
      ]
     },
     "metadata": {},
     "output_type": "display_data"
    },
    {
     "name": "stdout",
     "output_type": "stream",
     "text": [
      "[154/308] Loss0.21122, ACC:0.71850%\n",
      "[308/308] Loss0.22139, ACC:0.71767%\n",
      "Train_Loss: 0.20080541233931268,ACC:0.718%\n",
      "\u001b[66mHAM10000 ==> testing ...\u001b[0m\n"
     ]
    },
    {
     "data": {
      "application/vnd.jupyter.widget-view+json": {
       "model_id": "da3fc02549084923ae4303daaed89060",
       "version_major": 2,
       "version_minor": 0
      },
      "text/plain": [
       "  0%|          | 0/26 [00:00<?, ?it/s]"
      ]
     },
     "metadata": {},
     "output_type": "display_data"
    },
    {
     "name": "stdout",
     "output_type": "stream",
     "text": [
      "Test_Acc:\u001b[1;32m88.527%\u001b[0m\n",
      "Best_ACC[\u001b[1;32m95.048%\u001b[0m]\n",
      "Epoch: [83] HAM10000 ==> Training ...\n"
     ]
    },
    {
     "data": {
      "application/vnd.jupyter.widget-view+json": {
       "model_id": "ebe75a8988fe40ed91db94c49ad6c12f",
       "version_major": 2,
       "version_minor": 0
      },
      "text/plain": [
       "  0%|          | 0/308 [00:00<?, ?it/s]"
      ]
     },
     "metadata": {},
     "output_type": "display_data"
    },
    {
     "name": "stdout",
     "output_type": "stream",
     "text": [
      "[154/308] Loss0.20264, ACC:0.73067%\n",
      "[308/308] Loss0.20113, ACC:0.73087%\n",
      "Train_Loss: 0.19296905693489236,ACC:0.732%\n",
      "\u001b[66mHAM10000 ==> testing ...\u001b[0m\n"
     ]
    },
    {
     "data": {
      "application/vnd.jupyter.widget-view+json": {
       "model_id": "0e2308987d554c6ebf506dc3dd2f9268",
       "version_major": 2,
       "version_minor": 0
      },
      "text/plain": [
       "  0%|          | 0/26 [00:00<?, ?it/s]"
      ]
     },
     "metadata": {},
     "output_type": "display_data"
    },
    {
     "name": "stdout",
     "output_type": "stream",
     "text": [
      "Test_Acc:\u001b[1;32m93.357%\u001b[0m\n",
      "Best_ACC[\u001b[1;32m95.048%\u001b[0m]\n",
      "Epoch: [84] HAM10000 ==> Training ...\n"
     ]
    },
    {
     "data": {
      "application/vnd.jupyter.widget-view+json": {
       "model_id": "d68632c2389b43afa4bb41d383c70d21",
       "version_major": 2,
       "version_minor": 0
      },
      "text/plain": [
       "  0%|          | 0/308 [00:00<?, ?it/s]"
      ]
     },
     "metadata": {},
     "output_type": "display_data"
    },
    {
     "name": "stdout",
     "output_type": "stream",
     "text": [
      "[154/308] Loss0.20356, ACC:0.74130%\n",
      "[308/308] Loss0.18226, ACC:0.73960%\n",
      "Train_Loss: 0.1880745335736058,ACC:0.74%\n",
      "\u001b[66mHAM10000 ==> testing ...\u001b[0m\n"
     ]
    },
    {
     "data": {
      "application/vnd.jupyter.widget-view+json": {
       "model_id": "0aa56bcdb794479dbd9b93419a17112e",
       "version_major": 2,
       "version_minor": 0
      },
      "text/plain": [
       "  0%|          | 0/26 [00:00<?, ?it/s]"
      ]
     },
     "metadata": {},
     "output_type": "display_data"
    },
    {
     "name": "stdout",
     "output_type": "stream",
     "text": [
      "Test_Acc:\u001b[1;32m86.715%\u001b[0m\n",
      "Best_ACC[\u001b[1;32m95.048%\u001b[0m]\n",
      "Epoch: [85] HAM10000 ==> Training ...\n"
     ]
    },
    {
     "data": {
      "application/vnd.jupyter.widget-view+json": {
       "model_id": "9448ec3e482b475aa3bf4402c8682d98",
       "version_major": 2,
       "version_minor": 0
      },
      "text/plain": [
       "  0%|          | 0/308 [00:00<?, ?it/s]"
      ]
     },
     "metadata": {},
     "output_type": "display_data"
    },
    {
     "name": "stdout",
     "output_type": "stream",
     "text": [
      "[154/308] Loss0.16887, ACC:0.74664%\n",
      "[308/308] Loss0.18043, ACC:0.74702%\n",
      "Train_Loss: 0.18259408165301597,ACC:0.748%\n",
      "\u001b[66mHAM10000 ==> testing ...\u001b[0m\n"
     ]
    },
    {
     "data": {
      "application/vnd.jupyter.widget-view+json": {
       "model_id": "e9a975eabbc44e76bc67968bf1294842",
       "version_major": 2,
       "version_minor": 0
      },
      "text/plain": [
       "  0%|          | 0/26 [00:00<?, ?it/s]"
      ]
     },
     "metadata": {},
     "output_type": "display_data"
    },
    {
     "name": "stdout",
     "output_type": "stream",
     "text": [
      "Test_Acc:\u001b[1;32m94.444%\u001b[0m\n",
      "Best_ACC[\u001b[1;32m95.048%\u001b[0m]\n",
      "Epoch: [86] HAM10000 ==> Training ...\n"
     ]
    },
    {
     "data": {
      "application/vnd.jupyter.widget-view+json": {
       "model_id": "9390f606819749fba5fd3bf9829a5dc4",
       "version_major": 2,
       "version_minor": 0
      },
      "text/plain": [
       "  0%|          | 0/308 [00:00<?, ?it/s]"
      ]
     },
     "metadata": {},
     "output_type": "display_data"
    },
    {
     "name": "stdout",
     "output_type": "stream",
     "text": [
      "[154/308] Loss0.17307, ACC:0.74602%\n",
      "[308/308] Loss0.20672, ACC:0.74687%\n",
      "Train_Loss: 0.18273176189947438,ACC:0.748%\n",
      "\u001b[66mHAM10000 ==> testing ...\u001b[0m\n"
     ]
    },
    {
     "data": {
      "application/vnd.jupyter.widget-view+json": {
       "model_id": "1619b4a335a34a8ab1738286c707fa0d",
       "version_major": 2,
       "version_minor": 0
      },
      "text/plain": [
       "  0%|          | 0/26 [00:00<?, ?it/s]"
      ]
     },
     "metadata": {},
     "output_type": "display_data"
    },
    {
     "name": "stdout",
     "output_type": "stream",
     "text": [
      "Test_Acc:\u001b[1;32m94.203%\u001b[0m\n",
      "Best_ACC[\u001b[1;32m95.048%\u001b[0m]\n",
      "Epoch: [87] HAM10000 ==> Training ...\n"
     ]
    },
    {
     "data": {
      "application/vnd.jupyter.widget-view+json": {
       "model_id": "523e65e42bd44865af8de28a5bee0e62",
       "version_major": 2,
       "version_minor": 0
      },
      "text/plain": [
       "  0%|          | 0/308 [00:00<?, ?it/s]"
      ]
     },
     "metadata": {},
     "output_type": "display_data"
    },
    {
     "name": "stdout",
     "output_type": "stream",
     "text": [
      "[154/308] Loss0.18294, ACC:0.74842%\n",
      "[308/308] Loss0.19795, ACC:0.74886%\n",
      "Train_Loss: 0.18173985376760557,ACC:0.75%\n",
      "\u001b[66mHAM10000 ==> testing ...\u001b[0m\n"
     ]
    },
    {
     "data": {
      "application/vnd.jupyter.widget-view+json": {
       "model_id": "25cb868437ed4b2b9b06ed8537439c45",
       "version_major": 2,
       "version_minor": 0
      },
      "text/plain": [
       "  0%|          | 0/26 [00:00<?, ?it/s]"
      ]
     },
     "metadata": {},
     "output_type": "display_data"
    },
    {
     "name": "stdout",
     "output_type": "stream",
     "text": [
      "Test_Acc:\u001b[1;32m94.444%\u001b[0m\n",
      "Best_ACC[\u001b[1;32m95.048%\u001b[0m]\n",
      "Epoch: [88] HAM10000 ==> Training ...\n"
     ]
    },
    {
     "data": {
      "application/vnd.jupyter.widget-view+json": {
       "model_id": "96524390ee5e427f8c6c806792cc0ea1",
       "version_major": 2,
       "version_minor": 0
      },
      "text/plain": [
       "  0%|          | 0/308 [00:00<?, ?it/s]"
      ]
     },
     "metadata": {},
     "output_type": "display_data"
    },
    {
     "name": "stdout",
     "output_type": "stream",
     "text": [
      "[154/308] Loss0.20540, ACC:0.74776%\n",
      "[308/308] Loss0.21992, ACC:0.74318%\n",
      "Train_Loss: 0.18644893309706217,ACC:0.744%\n",
      "\u001b[66mHAM10000 ==> testing ...\u001b[0m\n"
     ]
    },
    {
     "data": {
      "application/vnd.jupyter.widget-view+json": {
       "model_id": "d84a86fd23b54a069888663a942b7f1f",
       "version_major": 2,
       "version_minor": 0
      },
      "text/plain": [
       "  0%|          | 0/26 [00:00<?, ?it/s]"
      ]
     },
     "metadata": {},
     "output_type": "display_data"
    },
    {
     "name": "stdout",
     "output_type": "stream",
     "text": [
      "Test_Acc:\u001b[1;32m89.976%\u001b[0m\n",
      "Best_ACC[\u001b[1;32m95.048%\u001b[0m]\n",
      "Epoch: [89] HAM10000 ==> Training ...\n"
     ]
    },
    {
     "data": {
      "application/vnd.jupyter.widget-view+json": {
       "model_id": "e4a3964888fe4b458acb0f0c787ad6bc",
       "version_major": 2,
       "version_minor": 0
      },
      "text/plain": [
       "  0%|          | 0/308 [00:00<?, ?it/s]"
      ]
     },
     "metadata": {},
     "output_type": "display_data"
    },
    {
     "name": "stdout",
     "output_type": "stream",
     "text": [
      "[154/308] Loss0.19459, ACC:0.73489%\n",
      "[308/308] Loss0.21523, ACC:0.73123%\n",
      "Train_Loss: 0.19214749152397181,ACC:0.732%\n",
      "\u001b[66mHAM10000 ==> testing ...\u001b[0m\n"
     ]
    },
    {
     "data": {
      "application/vnd.jupyter.widget-view+json": {
       "model_id": "ee9e72500daa4fac8397e1645e6c5d7b",
       "version_major": 2,
       "version_minor": 0
      },
      "text/plain": [
       "  0%|          | 0/26 [00:00<?, ?it/s]"
      ]
     },
     "metadata": {},
     "output_type": "display_data"
    },
    {
     "name": "stdout",
     "output_type": "stream",
     "text": [
      "Test_Acc:\u001b[1;32m87.319%\u001b[0m\n",
      "Best_ACC[\u001b[1;32m95.048%\u001b[0m]\n",
      "Epoch: [90] HAM10000 ==> Training ...\n"
     ]
    },
    {
     "data": {
      "application/vnd.jupyter.widget-view+json": {
       "model_id": "db4af343385348d7947615e0359dd2f6",
       "version_major": 2,
       "version_minor": 0
      },
      "text/plain": [
       "  0%|          | 0/308 [00:00<?, ?it/s]"
      ]
     },
     "metadata": {},
     "output_type": "display_data"
    },
    {
     "name": "stdout",
     "output_type": "stream",
     "text": [
      "[154/308] Loss0.19757, ACC:0.72546%\n",
      "[308/308] Loss0.17476, ACC:0.72716%\n",
      "Train_Loss: 0.19671617032258543,ACC:0.728%\n",
      "\u001b[66mHAM10000 ==> testing ...\u001b[0m\n"
     ]
    },
    {
     "data": {
      "application/vnd.jupyter.widget-view+json": {
       "model_id": "3993e38d18564a71be37af38cea15508",
       "version_major": 2,
       "version_minor": 0
      },
      "text/plain": [
       "  0%|          | 0/26 [00:00<?, ?it/s]"
      ]
     },
     "metadata": {},
     "output_type": "display_data"
    },
    {
     "name": "stdout",
     "output_type": "stream",
     "text": [
      "Test_Acc:\u001b[1;32m91.546%\u001b[0m\n",
      "Best_ACC[\u001b[1;32m95.048%\u001b[0m]\n",
      "Epoch: [91] HAM10000 ==> Training ...\n"
     ]
    },
    {
     "data": {
      "application/vnd.jupyter.widget-view+json": {
       "model_id": "6e906f42d29f43db983cafd78879ff23",
       "version_major": 2,
       "version_minor": 0
      },
      "text/plain": [
       "  0%|          | 0/308 [00:00<?, ?it/s]"
      ]
     },
     "metadata": {},
     "output_type": "display_data"
    },
    {
     "name": "stdout",
     "output_type": "stream",
     "text": [
      "[154/308] Loss0.21134, ACC:0.72302%\n",
      "[308/308] Loss0.17853, ACC:0.72449%\n",
      "Train_Loss: 0.19783235529994037,ACC:0.725%\n",
      "\u001b[66mHAM10000 ==> testing ...\u001b[0m\n"
     ]
    },
    {
     "data": {
      "application/vnd.jupyter.widget-view+json": {
       "model_id": "e59186a90ab444fbb9e372a8290f5186",
       "version_major": 2,
       "version_minor": 0
      },
      "text/plain": [
       "  0%|          | 0/26 [00:00<?, ?it/s]"
      ]
     },
     "metadata": {},
     "output_type": "display_data"
    },
    {
     "name": "stdout",
     "output_type": "stream",
     "text": [
      "Test_Acc:\u001b[1;32m88.527%\u001b[0m\n",
      "Best_ACC[\u001b[1;32m95.048%\u001b[0m]\n",
      "Epoch: [92] HAM10000 ==> Training ...\n"
     ]
    },
    {
     "data": {
      "application/vnd.jupyter.widget-view+json": {
       "model_id": "add75f5b59e5445598b8fa471e9bb127",
       "version_major": 2,
       "version_minor": 0
      },
      "text/plain": [
       "  0%|          | 0/308 [00:00<?, ?it/s]"
      ]
     },
     "metadata": {},
     "output_type": "display_data"
    },
    {
     "name": "stdout",
     "output_type": "stream",
     "text": [
      "[154/308] Loss0.18541, ACC:0.72824%\n",
      "[308/308] Loss0.17235, ACC:0.72747%\n",
      "Train_Loss: 0.19457379617280773,ACC:0.728%\n",
      "\u001b[66mHAM10000 ==> testing ...\u001b[0m\n"
     ]
    },
    {
     "data": {
      "application/vnd.jupyter.widget-view+json": {
       "model_id": "76afa329459543af8b8d7aa6d0a3ffd4",
       "version_major": 2,
       "version_minor": 0
      },
      "text/plain": [
       "  0%|          | 0/26 [00:00<?, ?it/s]"
      ]
     },
     "metadata": {},
     "output_type": "display_data"
    },
    {
     "name": "stdout",
     "output_type": "stream",
     "text": [
      "Test_Acc:\u001b[1;32m91.304%\u001b[0m\n",
      "Best_ACC[\u001b[1;32m95.048%\u001b[0m]\n",
      "Epoch: [93] HAM10000 ==> Training ...\n"
     ]
    },
    {
     "data": {
      "application/vnd.jupyter.widget-view+json": {
       "model_id": "131376ea67e34c328f5cc6d3b05eb385",
       "version_major": 2,
       "version_minor": 0
      },
      "text/plain": [
       "  0%|          | 0/308 [00:00<?, ?it/s]"
      ]
     },
     "metadata": {},
     "output_type": "display_data"
    },
    {
     "name": "stdout",
     "output_type": "stream",
     "text": [
      "[154/308] Loss0.18761, ACC:0.73767%\n",
      "[308/308] Loss0.19699, ACC:0.73589%\n",
      "Train_Loss: 0.19014218541515338,ACC:0.737%\n",
      "\u001b[66mHAM10000 ==> testing ...\u001b[0m\n"
     ]
    },
    {
     "data": {
      "application/vnd.jupyter.widget-view+json": {
       "model_id": "aa042dacb9f84d0eb178903c3e4be740",
       "version_major": 2,
       "version_minor": 0
      },
      "text/plain": [
       "  0%|          | 0/26 [00:00<?, ?it/s]"
      ]
     },
     "metadata": {},
     "output_type": "display_data"
    },
    {
     "name": "stdout",
     "output_type": "stream",
     "text": [
      "Test_Acc:\u001b[1;32m91.787%\u001b[0m\n",
      "Best_ACC[\u001b[1;32m95.048%\u001b[0m]\n",
      "Epoch: [94] HAM10000 ==> Training ...\n"
     ]
    },
    {
     "data": {
      "application/vnd.jupyter.widget-view+json": {
       "model_id": "a34d3a8face046cb9e7b9bf35f822bae",
       "version_major": 2,
       "version_minor": 0
      },
      "text/plain": [
       "  0%|          | 0/308 [00:00<?, ?it/s]"
      ]
     },
     "metadata": {},
     "output_type": "display_data"
    },
    {
     "name": "stdout",
     "output_type": "stream",
     "text": [
      "[154/308] Loss0.20823, ACC:0.74528%\n",
      "[308/308] Loss0.15876, ACC:0.74528%\n",
      "Train_Loss: 0.1834062346100033,ACC:0.746%\n",
      "\u001b[66mHAM10000 ==> testing ...\u001b[0m\n"
     ]
    },
    {
     "data": {
      "application/vnd.jupyter.widget-view+json": {
       "model_id": "88494fe8a8254b1c8a274b98772c8e86",
       "version_major": 2,
       "version_minor": 0
      },
      "text/plain": [
       "  0%|          | 0/26 [00:00<?, ?it/s]"
      ]
     },
     "metadata": {},
     "output_type": "display_data"
    },
    {
     "name": "stdout",
     "output_type": "stream",
     "text": [
      "Test_Acc:\u001b[1;32m94.565%\u001b[0m\n",
      "Best_ACC[\u001b[1;32m95.048%\u001b[0m]\n",
      "Epoch: [95] HAM10000 ==> Training ...\n"
     ]
    },
    {
     "data": {
      "application/vnd.jupyter.widget-view+json": {
       "model_id": "1c399f6a7b1642b3b9679a18657fb671",
       "version_major": 2,
       "version_minor": 0
      },
      "text/plain": [
       "  0%|          | 0/308 [00:00<?, ?it/s]"
      ]
     },
     "metadata": {},
     "output_type": "display_data"
    },
    {
     "name": "stdout",
     "output_type": "stream",
     "text": [
      "[154/308] Loss0.18721, ACC:0.75371%\n",
      "[308/308] Loss0.19044, ACC:0.75276%\n",
      "Train_Loss: 0.17940138275553655,ACC:0.753%\n",
      "\u001b[66mHAM10000 ==> testing ...\u001b[0m\n"
     ]
    },
    {
     "data": {
      "application/vnd.jupyter.widget-view+json": {
       "model_id": "b9b5122e60af4da3970a00f72471e13f",
       "version_major": 2,
       "version_minor": 0
      },
      "text/plain": [
       "  0%|          | 0/26 [00:00<?, ?it/s]"
      ]
     },
     "metadata": {},
     "output_type": "display_data"
    },
    {
     "name": "stdout",
     "output_type": "stream",
     "text": [
      "Test_Acc:\u001b[1;32m93.599%\u001b[0m\n",
      "Best_ACC[\u001b[1;32m95.048%\u001b[0m]\n",
      "Epoch: [96] HAM10000 ==> Training ...\n"
     ]
    },
    {
     "data": {
      "application/vnd.jupyter.widget-view+json": {
       "model_id": "5968bb17817c4185bab507023cb1ee81",
       "version_major": 2,
       "version_minor": 0
      },
      "text/plain": [
       "  0%|          | 0/308 [00:00<?, ?it/s]"
      ]
     },
     "metadata": {},
     "output_type": "display_data"
    },
    {
     "name": "stdout",
     "output_type": "stream",
     "text": [
      "[154/308] Loss0.21164, ACC:0.75715%\n",
      "[308/308] Loss0.17297, ACC:0.75586%\n",
      "Train_Loss: 0.17777273542695232,ACC:0.757%\n",
      "\u001b[66mHAM10000 ==> testing ...\u001b[0m\n"
     ]
    },
    {
     "data": {
      "application/vnd.jupyter.widget-view+json": {
       "model_id": "0323e57f93b0432cb800228ac4b884ad",
       "version_major": 2,
       "version_minor": 0
      },
      "text/plain": [
       "  0%|          | 0/26 [00:00<?, ?it/s]"
      ]
     },
     "metadata": {},
     "output_type": "display_data"
    },
    {
     "name": "stdout",
     "output_type": "stream",
     "text": [
      "Test_Acc:\u001b[1;32m93.599%\u001b[0m\n",
      "Best_ACC[\u001b[1;32m95.048%\u001b[0m]\n",
      "Epoch: [97] HAM10000 ==> Training ...\n"
     ]
    },
    {
     "data": {
      "application/vnd.jupyter.widget-view+json": {
       "model_id": "2a9a468302bc4d7d96bc8776ea72a494",
       "version_major": 2,
       "version_minor": 0
      },
      "text/plain": [
       "  0%|          | 0/308 [00:00<?, ?it/s]"
      ]
     },
     "metadata": {},
     "output_type": "display_data"
    },
    {
     "name": "stdout",
     "output_type": "stream",
     "text": [
      "[154/308] Loss0.18624, ACC:0.75294%\n",
      "[308/308] Loss0.18139, ACC:0.75375%\n",
      "Train_Loss: 0.17835827384676253,ACC:0.754%\n",
      "\u001b[66mHAM10000 ==> testing ...\u001b[0m\n"
     ]
    },
    {
     "data": {
      "application/vnd.jupyter.widget-view+json": {
       "model_id": "4f86b4eb14644620a15748d6e490a32a",
       "version_major": 2,
       "version_minor": 0
      },
      "text/plain": [
       "  0%|          | 0/26 [00:00<?, ?it/s]"
      ]
     },
     "metadata": {},
     "output_type": "display_data"
    },
    {
     "name": "stdout",
     "output_type": "stream",
     "text": [
      "Test_Acc:\u001b[1;32m93.237%\u001b[0m\n",
      "Best_ACC[\u001b[1;32m95.048%\u001b[0m]\n",
      "Epoch: [98] HAM10000 ==> Training ...\n"
     ]
    },
    {
     "data": {
      "application/vnd.jupyter.widget-view+json": {
       "model_id": "a4b8166003e646168142c25ff9a8f3cc",
       "version_major": 2,
       "version_minor": 0
      },
      "text/plain": [
       "  0%|          | 0/308 [00:00<?, ?it/s]"
      ]
     },
     "metadata": {},
     "output_type": "display_data"
    },
    {
     "name": "stdout",
     "output_type": "stream",
     "text": [
      "[154/308] Loss0.16652, ACC:0.74540%\n",
      "[308/308] Loss0.18754, ACC:0.74606%\n",
      "Train_Loss: 0.1828176123271515,ACC:0.747%\n",
      "\u001b[66mHAM10000 ==> testing ...\u001b[0m\n"
     ]
    },
    {
     "data": {
      "application/vnd.jupyter.widget-view+json": {
       "model_id": "011f5d77fb044e5187427f9f8c6f92d9",
       "version_major": 2,
       "version_minor": 0
      },
      "text/plain": [
       "  0%|          | 0/26 [00:00<?, ?it/s]"
      ]
     },
     "metadata": {},
     "output_type": "display_data"
    },
    {
     "name": "stdout",
     "output_type": "stream",
     "text": [
      "Test_Acc:\u001b[1;32m94.203%\u001b[0m\n",
      "Best_ACC[\u001b[1;32m95.048%\u001b[0m]\n",
      "Epoch: [99] HAM10000 ==> Training ...\n"
     ]
    },
    {
     "data": {
      "application/vnd.jupyter.widget-view+json": {
       "model_id": "eb5f3adef138490c8abfb8e648b939e7",
       "version_major": 2,
       "version_minor": 0
      },
      "text/plain": [
       "  0%|          | 0/308 [00:00<?, ?it/s]"
      ]
     },
     "metadata": {},
     "output_type": "display_data"
    },
    {
     "name": "stdout",
     "output_type": "stream",
     "text": [
      "[154/308] Loss0.19987, ACC:0.74115%\n",
      "[308/308] Loss0.18346, ACC:0.73931%\n",
      "Train_Loss: 0.18856735000169123,ACC:0.74%\n",
      "\u001b[66mHAM10000 ==> testing ...\u001b[0m\n"
     ]
    },
    {
     "data": {
      "application/vnd.jupyter.widget-view+json": {
       "model_id": "dcb2b97b41054227ac49968b5c06ed25",
       "version_major": 2,
       "version_minor": 0
      },
      "text/plain": [
       "  0%|          | 0/26 [00:00<?, ?it/s]"
      ]
     },
     "metadata": {},
     "output_type": "display_data"
    },
    {
     "name": "stdout",
     "output_type": "stream",
     "text": [
      "Test_Acc:\u001b[1;32m94.444%\u001b[0m\n",
      "Best_ACC[\u001b[1;32m95.048%\u001b[0m]\n",
      "Epoch: [100] HAM10000 ==> Training ...\n"
     ]
    },
    {
     "data": {
      "application/vnd.jupyter.widget-view+json": {
       "model_id": "f7a7960be633410790e7e6a9a12e8683",
       "version_major": 2,
       "version_minor": 0
      },
      "text/plain": [
       "  0%|          | 0/308 [00:00<?, ?it/s]"
      ]
     },
     "metadata": {},
     "output_type": "display_data"
    },
    {
     "name": "stdout",
     "output_type": "stream",
     "text": [
      "[154/308] Loss0.20874, ACC:0.73125%\n",
      "[308/308] Loss0.17410, ACC:0.73085%\n",
      "Train_Loss: 0.1940650385018293,ACC:0.731%\n",
      "\u001b[66mHAM10000 ==> testing ...\u001b[0m\n"
     ]
    },
    {
     "data": {
      "application/vnd.jupyter.widget-view+json": {
       "model_id": "cfc319ff99064e82b8ad812f1e0aebdc",
       "version_major": 2,
       "version_minor": 0
      },
      "text/plain": [
       "  0%|          | 0/26 [00:00<?, ?it/s]"
      ]
     },
     "metadata": {},
     "output_type": "display_data"
    },
    {
     "name": "stdout",
     "output_type": "stream",
     "text": [
      "Test_Acc:\u001b[1;32m92.512%\u001b[0m\n",
      "Best_ACC[\u001b[1;32m95.048%\u001b[0m]\n",
      "Finished Training\n"
     ]
    }
   ],
   "source": [
    "for epoch in range(1, num_epochs + 1):\n",
    "    train(epoch)\n",
    "    test()\n",
    "print('Finished Training')"
   ]
  },
  {
   "cell_type": "code",
   "execution_count": 16,
   "metadata": {
    "execution": {
     "iopub.execute_input": "2022-04-30T03:43:10.683544Z",
     "iopub.status.busy": "2022-04-30T03:43:10.682544Z",
     "iopub.status.idle": "2022-04-30T03:43:10.814631Z",
     "shell.execute_reply": "2022-04-30T03:43:10.814631Z",
     "shell.execute_reply.started": "2022-04-30T03:43:10.683544Z"
    },
    "tags": []
   },
   "outputs": [
    {
     "name": "stdout",
     "output_type": "stream",
     "text": [
      "\u001b[31m=================Conclusion====================\u001b[0m\n",
      "Dataset:[\u001b[1;31mHAM10000\u001b[0m]\n",
      "Best_Epoch [\u001b[1;31m77\u001b[0m]\n",
      "[Test]  \u001b[32mACC:95.05%\u001b[0m.\n"
     ]
    }
   ],
   "source": [
    "show.conclusion(img_title=img_title)"
   ]
  },
  {
   "cell_type": "code",
   "execution_count": 17,
   "metadata": {
    "execution": {
     "iopub.execute_input": "2022-04-30T03:43:10.815632Z",
     "iopub.status.busy": "2022-04-30T03:43:10.815632Z",
     "iopub.status.idle": "2022-04-30T03:43:11.129632Z",
     "shell.execute_reply": "2022-04-30T03:43:11.129632Z",
     "shell.execute_reply.started": "2022-04-30T03:43:10.815632Z"
    },
    "tags": []
   },
   "outputs": [
    {
     "data": {
      "image/png": "[encoded data removed]",
      "text/plain": [
       "<Figure size 432x288 with 1 Axes>"
      ]
     },
     "metadata": {
      "needs_background": "light"
     },
     "output_type": "display_data"
    }
   ],
   "source": [
    "plt.clf()#clear photo\n",
    "show.train(write=True,custom_path='./tmp',img_title=img_title,suf=suf)"
   ]
  },
  {
   "cell_type": "code",
   "execution_count": 18,
   "metadata": {
    "execution": {
     "iopub.execute_input": "2022-04-30T03:43:11.130634Z",
     "iopub.status.busy": "2022-04-30T03:43:11.130634Z",
     "iopub.status.idle": "2022-04-30T03:43:11.334931Z",
     "shell.execute_reply": "2022-04-30T03:43:11.334931Z",
     "shell.execute_reply.started": "2022-04-30T03:43:11.130634Z"
    },
    "tags": []
   },
   "outputs": [
    {
     "data": {
      "image/png": "[encoded data removed]",
      "text/plain": [
       "<Figure size 576x396 with 1 Axes>"
      ]
     },
     "metadata": {},
     "output_type": "display_data"
    }
   ],
   "source": [
    "show.test(write=True,custom_path='./tmp',img_title=img_title,suf=suf)"
   ]
  },
  {
   "cell_type": "code",
   "execution_count": 19,
   "metadata": {
    "execution": {
     "iopub.execute_input": "2022-04-30T03:43:11.335794Z",
     "iopub.status.busy": "2022-04-30T03:43:11.335794Z",
     "iopub.status.idle": "2022-04-30T03:43:11.398173Z",
     "shell.execute_reply": "2022-04-30T03:43:11.398173Z",
     "shell.execute_reply.started": "2022-04-30T03:43:11.335794Z"
    },
    "tags": []
   },
   "outputs": [
    {
     "name": "stdout",
     "output_type": "stream",
     "text": [
      "+--------+-----------+--------+-------+----------+\n",
      "|  Type  | Precision | Recall |   F1  | Accuracy |\n",
      "+--------+-----------+--------+-------+----------+\n",
      "| akiec  |   0.9444  | 0.739  | 0.829 |          |\n",
      "|  bcc   |   0.7027  |  1.0   | 0.825 |          |\n",
      "|  bkl   |   0.8254  | 0.788  | 0.806 |          |\n",
      "|   df   |    0.8    | 0.667  | 0.727 |          |\n",
      "|  mel   |    0.75   | 0.794  | 0.771 |          |\n",
      "|   nv   |   0.9879  | 0.983  | 0.986 |          |\n",
      "|  vasc  |    1.0    |  0.9   | 0.947 |          |\n",
      "| Total: |           |        |       |  0.9505  |\n",
      "+--------+-----------+--------+-------+----------+\n"
     ]
    }
   ],
   "source": [
    "self_scores()"
   ]
  },
  {
   "cell_type": "code",
   "execution_count": 20,
   "metadata": {
    "execution": {
     "iopub.execute_input": "2022-04-30T03:43:11.399096Z",
     "iopub.status.busy": "2022-04-30T03:43:11.399096Z",
     "iopub.status.idle": "2022-04-30T03:43:11.796493Z",
     "shell.execute_reply": "2022-04-30T03:43:11.796493Z",
     "shell.execute_reply.started": "2022-04-30T03:43:11.399096Z"
    },
    "tags": []
   },
   "outputs": [
    {
     "data": {
      "image/png": "[encoded data removed]",
      "text/plain": [
       "<Figure size 576x396 with 2 Axes>"
      ]
     },
     "metadata": {},
     "output_type": "display_data"
    }
   ],
   "source": [
    "confusion_matrix(evl_result)"
   ]
  },
  {
   "cell_type": "code",
   "execution_count": 38,
   "metadata": {
    "execution": {
     "iopub.execute_input": "2022-04-30T04:05:51.791944Z",
     "iopub.status.busy": "2022-04-30T04:05:51.791944Z",
     "iopub.status.idle": "2022-04-30T05:39:23.470038Z",
     "shell.execute_reply": "2022-04-30T05:39:23.456067Z",
     "shell.execute_reply.started": "2022-04-30T04:05:51.791944Z"
    },
    "scrolled": true,
    "tags": []
   },
   "outputs": [
    {
     "name": "stdout",
     "output_type": "stream",
     "text": [
      "Epoch: [1] HAM10000 ==> Training ...\n"
     ]
    },
    {
     "data": {
      "application/vnd.jupyter.widget-view+json": {
       "model_id": "f115394af405438b8b137c69aa9f9223",
       "version_major": 2,
       "version_minor": 0
      },
      "text/plain": [
       "  0%|          | 0/308 [00:00<?, ?it/s]"
      ]
     },
     "metadata": {},
     "output_type": "display_data"
    },
    {
     "name": "stdout",
     "output_type": "stream",
     "text": [
      "[154/308] Loss0.17530, ACC:0.71819%\n",
      "[308/308] Loss0.20560, ACC:0.71485%\n",
      "Train_Loss: 0.2028123978283498,ACC:0.715%\n",
      "\u001b[66mHAM10000 ==> testing ...\u001b[0m\n"
     ]
    },
    {
     "data": {
      "application/vnd.jupyter.widget-view+json": {
       "model_id": "49c52e7b50d14c538f5ec77cc847531d",
       "version_major": 2,
       "version_minor": 0
      },
      "text/plain": [
       "  0%|          | 0/27 [00:00<?, ?it/s]"
      ]
     },
     "metadata": {},
     "output_type": "display_data"
    },
    {
     "name": "stdout",
     "output_type": "stream",
     "text": [
      "Test_Acc:\u001b[1;32m90.58%\u001b[0m\n",
      "Best_ACC[\u001b[1;32m95.29%\u001b[0m]\n",
      "Epoch: [2] HAM10000 ==> Training ...\n"
     ]
    },
    {
     "data": {
      "application/vnd.jupyter.widget-view+json": {
       "model_id": "a7c43a28e6dc446db355b9c4d25732d6",
       "version_major": 2,
       "version_minor": 0
      },
      "text/plain": [
       "  0%|          | 0/308 [00:00<?, ?it/s]"
      ]
     },
     "metadata": {},
     "output_type": "display_data"
    },
    {
     "name": "stdout",
     "output_type": "stream",
     "text": [
      "[154/308] Loss0.18009, ACC:0.71846%\n",
      "[308/308] Loss0.21279, ACC:0.71991%\n",
      "Train_Loss: 0.19927825914187866,ACC:0.721%\n",
      "\u001b[66mHAM10000 ==> testing ...\u001b[0m\n"
     ]
    },
    {
     "data": {
      "application/vnd.jupyter.widget-view+json": {
       "model_id": "d30b5872dfc84caa96764334ea9b52a4",
       "version_major": 2,
       "version_minor": 0
      },
      "text/plain": [
       "  0%|          | 0/27 [00:00<?, ?it/s]"
      ]
     },
     "metadata": {},
     "output_type": "display_data"
    },
    {
     "name": "stdout",
     "output_type": "stream",
     "text": [
      "Test_Acc:\u001b[1;32m89.13%\u001b[0m\n",
      "Best_ACC[\u001b[1;32m95.29%\u001b[0m]\n",
      "Epoch: [3] HAM10000 ==> Training ...\n"
     ]
    },
    {
     "data": {
      "application/vnd.jupyter.widget-view+json": {
       "model_id": "6f68dee50c4d45db87d50030b3c7ec1f",
       "version_major": 2,
       "version_minor": 0
      },
      "text/plain": [
       "  0%|          | 0/308 [00:00<?, ?it/s]"
      ]
     },
     "metadata": {},
     "output_type": "display_data"
    },
    {
     "name": "stdout",
     "output_type": "stream",
     "text": [
      "[154/308] Loss0.21084, ACC:0.73009%\n",
      "[308/308] Loss0.22188, ACC:0.72764%\n",
      "Train_Loss: 0.19479974146400178,ACC:0.728%\n",
      "\u001b[66mHAM10000 ==> testing ...\u001b[0m\n"
     ]
    },
    {
     "data": {
      "application/vnd.jupyter.widget-view+json": {
       "model_id": "9494213a58564a4eafaf61df7f85d802",
       "version_major": 2,
       "version_minor": 0
      },
      "text/plain": [
       "  0%|          | 0/27 [00:00<?, ?it/s]"
      ]
     },
     "metadata": {},
     "output_type": "display_data"
    },
    {
     "name": "stdout",
     "output_type": "stream",
     "text": [
      "Test_Acc:\u001b[1;32m92.391%\u001b[0m\n",
      "Best_ACC[\u001b[1;32m95.29%\u001b[0m]\n",
      "Epoch: [4] HAM10000 ==> Training ...\n"
     ]
    },
    {
     "data": {
      "application/vnd.jupyter.widget-view+json": {
       "model_id": "755e514dfb3644faacef9d3ac70a9269",
       "version_major": 2,
       "version_minor": 0
      },
      "text/plain": [
       "  0%|          | 0/308 [00:00<?, ?it/s]"
      ]
     },
     "metadata": {},
     "output_type": "display_data"
    },
    {
     "name": "stdout",
     "output_type": "stream",
     "text": [
      "[154/308] Loss0.19748, ACC:0.73740%\n",
      "[308/308] Loss0.19373, ACC:0.73678%\n",
      "Train_Loss: 0.1892843394020161,ACC:0.737%\n",
      "\u001b[66mHAM10000 ==> testing ...\u001b[0m\n"
     ]
    },
    {
     "data": {
      "application/vnd.jupyter.widget-view+json": {
       "model_id": "a116f225e7614f9c8b8c677f4c13aa6f",
       "version_major": 2,
       "version_minor": 0
      },
      "text/plain": [
       "  0%|          | 0/27 [00:00<?, ?it/s]"
      ]
     },
     "metadata": {},
     "output_type": "display_data"
    },
    {
     "name": "stdout",
     "output_type": "stream",
     "text": [
      "Test_Acc:\u001b[1;32m93.237%\u001b[0m\n",
      "Best_ACC[\u001b[1;32m95.29%\u001b[0m]\n",
      "Epoch: [5] HAM10000 ==> Training ...\n"
     ]
    },
    {
     "data": {
      "application/vnd.jupyter.widget-view+json": {
       "model_id": "c5e66cbd7acc4b2daf86bee73fa356c4",
       "version_major": 2,
       "version_minor": 0
      },
      "text/plain": [
       "  0%|          | 0/308 [00:00<?, ?it/s]"
      ]
     },
     "metadata": {},
     "output_type": "display_data"
    },
    {
     "name": "stdout",
     "output_type": "stream",
     "text": [
      "[154/308] Loss0.20242, ACC:0.74049%\n",
      "[308/308] Loss0.18937, ACC:0.74345%\n",
      "Train_Loss: 0.18414859652712748,ACC:0.744%\n",
      "\u001b[66mHAM10000 ==> testing ...\u001b[0m\n"
     ]
    },
    {
     "data": {
      "application/vnd.jupyter.widget-view+json": {
       "model_id": "5794889aa30b4a1885a3c53fe235e14d",
       "version_major": 2,
       "version_minor": 0
      },
      "text/plain": [
       "  0%|          | 0/27 [00:00<?, ?it/s]"
      ]
     },
     "metadata": {},
     "output_type": "display_data"
    },
    {
     "name": "stdout",
     "output_type": "stream",
     "text": [
      "Test_Acc:\u001b[1;32m92.874%\u001b[0m\n",
      "Best_ACC[\u001b[1;32m95.29%\u001b[0m]\n",
      "Epoch: [6] HAM10000 ==> Training ...\n"
     ]
    },
    {
     "data": {
      "application/vnd.jupyter.widget-view+json": {
       "model_id": "946cd38efe3a478cb4359e1d6c8a3492",
       "version_major": 2,
       "version_minor": 0
      },
      "text/plain": [
       "  0%|          | 0/308 [00:00<?, ?it/s]"
      ]
     },
     "metadata": {},
     "output_type": "display_data"
    },
    {
     "name": "stdout",
     "output_type": "stream",
     "text": [
      "[154/308] Loss0.19085, ACC:0.74950%\n",
      "[308/308] Loss0.19532, ACC:0.74685%\n",
      "Train_Loss: 0.1831434667594247,ACC:0.747%\n",
      "\u001b[66mHAM10000 ==> testing ...\u001b[0m\n"
     ]
    },
    {
     "data": {
      "application/vnd.jupyter.widget-view+json": {
       "model_id": "25b7f14971424e228935e051a9e89295",
       "version_major": 2,
       "version_minor": 0
      },
      "text/plain": [
       "  0%|          | 0/27 [00:00<?, ?it/s]"
      ]
     },
     "metadata": {},
     "output_type": "display_data"
    },
    {
     "name": "stdout",
     "output_type": "stream",
     "text": [
      "Test_Acc:\u001b[1;32m92.512%\u001b[0m\n",
      "Best_ACC[\u001b[1;32m95.29%\u001b[0m]\n",
      "Epoch: [7] HAM10000 ==> Training ...\n"
     ]
    },
    {
     "data": {
      "application/vnd.jupyter.widget-view+json": {
       "model_id": "120f6ea80236464297db3bd11e6f8309",
       "version_major": 2,
       "version_minor": 0
      },
      "text/plain": [
       "  0%|          | 0/308 [00:00<?, ?it/s]"
      ]
     },
     "metadata": {},
     "output_type": "display_data"
    },
    {
     "name": "stdout",
     "output_type": "stream",
     "text": [
      "[154/308] Loss0.18105, ACC:0.74552%\n",
      "[308/308] Loss0.17423, ACC:0.74581%\n",
      "Train_Loss: 0.18376244740052658,ACC:0.746%\n",
      "\u001b[66mHAM10000 ==> testing ...\u001b[0m\n"
     ]
    },
    {
     "data": {
      "application/vnd.jupyter.widget-view+json": {
       "model_id": "33d5a1d381224d58b1087a5d50138887",
       "version_major": 2,
       "version_minor": 0
      },
      "text/plain": [
       "  0%|          | 0/27 [00:00<?, ?it/s]"
      ]
     },
     "metadata": {},
     "output_type": "display_data"
    },
    {
     "name": "stdout",
     "output_type": "stream",
     "text": [
      "Test_Acc:\u001b[1;32m93.237%\u001b[0m\n",
      "Best_ACC[\u001b[1;32m95.29%\u001b[0m]\n",
      "Epoch: [8] HAM10000 ==> Training ...\n"
     ]
    },
    {
     "data": {
      "application/vnd.jupyter.widget-view+json": {
       "model_id": "8d8278446ff34f3f81a59d15c30d47c4",
       "version_major": 2,
       "version_minor": 0
      },
      "text/plain": [
       "  0%|          | 0/308 [00:00<?, ?it/s]"
      ]
     },
     "metadata": {},
     "output_type": "display_data"
    },
    {
     "name": "stdout",
     "output_type": "stream",
     "text": [
      "[154/308] Loss0.18116, ACC:0.74011%\n",
      "[308/308] Loss0.17233, ACC:0.74084%\n",
      "Train_Loss: 0.18756816231391646,ACC:0.741%\n",
      "\u001b[66mHAM10000 ==> testing ...\u001b[0m\n"
     ]
    },
    {
     "data": {
      "application/vnd.jupyter.widget-view+json": {
       "model_id": "2cf1100a6954479c9a47bd02c6743de2",
       "version_major": 2,
       "version_minor": 0
      },
      "text/plain": [
       "  0%|          | 0/27 [00:00<?, ?it/s]"
      ]
     },
     "metadata": {},
     "output_type": "display_data"
    },
    {
     "name": "stdout",
     "output_type": "stream",
     "text": [
      "Test_Acc:\u001b[1;32m93.478%\u001b[0m\n",
      "Best_ACC[\u001b[1;32m95.29%\u001b[0m]\n",
      "Epoch: [9] HAM10000 ==> Training ...\n"
     ]
    },
    {
     "data": {
      "application/vnd.jupyter.widget-view+json": {
       "model_id": "3406e302de9c42d3bdf410bcc9040ff5",
       "version_major": 2,
       "version_minor": 0
      },
      "text/plain": [
       "  0%|          | 0/308 [00:00<?, ?it/s]"
      ]
     },
     "metadata": {},
     "output_type": "display_data"
    },
    {
     "name": "stdout",
     "output_type": "stream",
     "text": [
      "[154/308] Loss0.17947, ACC:0.73609%\n",
      "[308/308] Loss0.21103, ACC:0.73094%\n",
      "Train_Loss: 0.19376063080770628,ACC:0.732%\n",
      "\u001b[66mHAM10000 ==> testing ...\u001b[0m\n"
     ]
    },
    {
     "data": {
      "application/vnd.jupyter.widget-view+json": {
       "model_id": "e475a91e0cf94377b43711170e24f219",
       "version_major": 2,
       "version_minor": 0
      },
      "text/plain": [
       "  0%|          | 0/27 [00:00<?, ?it/s]"
      ]
     },
     "metadata": {},
     "output_type": "display_data"
    },
    {
     "name": "stdout",
     "output_type": "stream",
     "text": [
      "Test_Acc:\u001b[1;32m92.15%\u001b[0m\n",
      "Best_ACC[\u001b[1;32m95.29%\u001b[0m]\n",
      "Epoch: [10] HAM10000 ==> Training ...\n"
     ]
    },
    {
     "data": {
      "application/vnd.jupyter.widget-view+json": {
       "model_id": "f16d3d5f584d4a18a65c0e62876d4933",
       "version_major": 2,
       "version_minor": 0
      },
      "text/plain": [
       "  0%|          | 0/308 [00:00<?, ?it/s]"
      ]
     },
     "metadata": {},
     "output_type": "display_data"
    },
    {
     "name": "stdout",
     "output_type": "stream",
     "text": [
      "[154/308] Loss0.21028, ACC:0.72522%\n",
      "[308/308] Loss0.18629, ACC:0.72192%\n",
      "Train_Loss: 0.19871490279381926,ACC:0.723%\n",
      "\u001b[66mHAM10000 ==> testing ...\u001b[0m\n"
     ]
    },
    {
     "data": {
      "application/vnd.jupyter.widget-view+json": {
       "model_id": "876e8237c5304433a153837400b05d3e",
       "version_major": 2,
       "version_minor": 0
      },
      "text/plain": [
       "  0%|          | 0/27 [00:00<?, ?it/s]"
      ]
     },
     "metadata": {},
     "output_type": "display_data"
    },
    {
     "name": "stdout",
     "output_type": "stream",
     "text": [
      "Test_Acc:\u001b[1;32m80.918%\u001b[0m\n",
      "Best_ACC[\u001b[1;32m95.29%\u001b[0m]\n",
      "Epoch: [11] HAM10000 ==> Training ...\n"
     ]
    },
    {
     "data": {
      "application/vnd.jupyter.widget-view+json": {
       "model_id": "63942928a43648d7a0398943a35b81e9",
       "version_major": 2,
       "version_minor": 0
      },
      "text/plain": [
       "  0%|          | 0/308 [00:00<?, ?it/s]"
      ]
     },
     "metadata": {},
     "output_type": "display_data"
    },
    {
     "name": "stdout",
     "output_type": "stream",
     "text": [
      "[154/308] Loss0.20259, ACC:0.71877%\n",
      "[308/308] Loss0.20704, ACC:0.72045%\n",
      "Train_Loss: 0.2003338635935412,ACC:0.721%\n",
      "\u001b[66mHAM10000 ==> testing ...\u001b[0m\n"
     ]
    },
    {
     "data": {
      "application/vnd.jupyter.widget-view+json": {
       "model_id": "58641206fd5c495198dc16a0e08b45dc",
       "version_major": 2,
       "version_minor": 0
      },
      "text/plain": [
       "  0%|          | 0/27 [00:00<?, ?it/s]"
      ]
     },
     "metadata": {},
     "output_type": "display_data"
    },
    {
     "name": "stdout",
     "output_type": "stream",
     "text": [
      "Test_Acc:\u001b[1;32m89.734%\u001b[0m\n",
      "Best_ACC[\u001b[1;32m95.29%\u001b[0m]\n",
      "Epoch: [12] HAM10000 ==> Training ...\n"
     ]
    },
    {
     "data": {
      "application/vnd.jupyter.widget-view+json": {
       "model_id": "4c369f04cd30412395b0e511d6d89345",
       "version_major": 2,
       "version_minor": 0
      },
      "text/plain": [
       "  0%|          | 0/308 [00:00<?, ?it/s]"
      ]
     },
     "metadata": {},
     "output_type": "display_data"
    },
    {
     "name": "stdout",
     "output_type": "stream",
     "text": [
      "[154/308] Loss0.20358, ACC:0.72395%\n",
      "[308/308] Loss0.21611, ACC:0.72449%\n",
      "Train_Loss: 0.197522342253428,ACC:0.725%\n",
      "\u001b[66mHAM10000 ==> testing ...\u001b[0m\n"
     ]
    },
    {
     "data": {
      "application/vnd.jupyter.widget-view+json": {
       "model_id": "f7d2a983782044fb8ffa4b70c53189cf",
       "version_major": 2,
       "version_minor": 0
      },
      "text/plain": [
       "  0%|          | 0/27 [00:00<?, ?it/s]"
      ]
     },
     "metadata": {},
     "output_type": "display_data"
    },
    {
     "name": "stdout",
     "output_type": "stream",
     "text": [
      "Test_Acc:\u001b[1;32m32.609%\u001b[0m\n",
      "Best_ACC[\u001b[1;32m95.29%\u001b[0m]\n",
      "Epoch: [13] HAM10000 ==> Training ...\n"
     ]
    },
    {
     "data": {
      "application/vnd.jupyter.widget-view+json": {
       "model_id": "a1d0618418224f10bbac38da01321105",
       "version_major": 2,
       "version_minor": 0
      },
      "text/plain": [
       "  0%|          | 0/308 [00:00<?, ?it/s]"
      ]
     },
     "metadata": {},
     "output_type": "display_data"
    },
    {
     "name": "stdout",
     "output_type": "stream",
     "text": [
      "[154/308] Loss0.18541, ACC:0.73087%\n",
      "[308/308] Loss0.19436, ACC:0.73085%\n",
      "Train_Loss: 0.1926569419538046,ACC:0.731%\n",
      "\u001b[66mHAM10000 ==> testing ...\u001b[0m\n"
     ]
    },
    {
     "data": {
      "application/vnd.jupyter.widget-view+json": {
       "model_id": "3f81291faf934aabbc1e2ed5645f8739",
       "version_major": 2,
       "version_minor": 0
      },
      "text/plain": [
       "  0%|          | 0/27 [00:00<?, ?it/s]"
      ]
     },
     "metadata": {},
     "output_type": "display_data"
    },
    {
     "name": "stdout",
     "output_type": "stream",
     "text": [
      "Test_Acc:\u001b[1;32m92.874%\u001b[0m\n",
      "Best_ACC[\u001b[1;32m95.29%\u001b[0m]\n",
      "Epoch: [14] HAM10000 ==> Training ...\n"
     ]
    },
    {
     "data": {
      "application/vnd.jupyter.widget-view+json": {
       "model_id": "51e145a21f87443c8c65e61dd1b89a6c",
       "version_major": 2,
       "version_minor": 0
      },
      "text/plain": [
       "  0%|          | 0/308 [00:00<?, ?it/s]"
      ]
     },
     "metadata": {},
     "output_type": "display_data"
    },
    {
     "name": "stdout",
     "output_type": "stream",
     "text": [
      "[154/308] Loss0.18035, ACC:0.74648%\n",
      "[308/308] Loss0.17953, ACC:0.74470%\n",
      "Train_Loss: 0.18524163956572484,ACC:0.745%\n",
      "\u001b[66mHAM10000 ==> testing ...\u001b[0m\n"
     ]
    },
    {
     "data": {
      "application/vnd.jupyter.widget-view+json": {
       "model_id": "593b6578b68648abbd2dbb435eb96a7a",
       "version_major": 2,
       "version_minor": 0
      },
      "text/plain": [
       "  0%|          | 0/27 [00:00<?, ?it/s]"
      ]
     },
     "metadata": {},
     "output_type": "display_data"
    },
    {
     "name": "stdout",
     "output_type": "stream",
     "text": [
      "Test_Acc:\u001b[1;32m93.237%\u001b[0m\n",
      "Best_ACC[\u001b[1;32m95.29%\u001b[0m]\n",
      "Epoch: [15] HAM10000 ==> Training ...\n"
     ]
    },
    {
     "data": {
      "application/vnd.jupyter.widget-view+json": {
       "model_id": "157037f7b8dd4b53bdf5d48e12855966",
       "version_major": 2,
       "version_minor": 0
      },
      "text/plain": [
       "  0%|          | 0/308 [00:00<?, ?it/s]"
      ]
     },
     "metadata": {},
     "output_type": "display_data"
    },
    {
     "name": "stdout",
     "output_type": "stream",
     "text": [
      "[154/308] Loss0.17730, ACC:0.75170%\n",
      "[308/308] Loss0.15851, ACC:0.75178%\n",
      "Train_Loss: 0.17938125999523447,ACC:0.752%\n",
      "\u001b[66mHAM10000 ==> testing ...\u001b[0m\n"
     ]
    },
    {
     "data": {
      "application/vnd.jupyter.widget-view+json": {
       "model_id": "d4bb7c56880d4711bb86bb9482dd3b8c",
       "version_major": 2,
       "version_minor": 0
      },
      "text/plain": [
       "  0%|          | 0/27 [00:00<?, ?it/s]"
      ]
     },
     "metadata": {},
     "output_type": "display_data"
    },
    {
     "name": "stdout",
     "output_type": "stream",
     "text": [
      "Test_Acc:\u001b[1;32m92.271%\u001b[0m\n",
      "Best_ACC[\u001b[1;32m95.29%\u001b[0m]\n",
      "Epoch: [16] HAM10000 ==> Training ...\n"
     ]
    },
    {
     "data": {
      "application/vnd.jupyter.widget-view+json": {
       "model_id": "b90212e83ecd41a9952a86ff730b8baf",
       "version_major": 2,
       "version_minor": 0
      },
      "text/plain": [
       "  0%|          | 0/308 [00:00<?, ?it/s]"
      ]
     },
     "metadata": {},
     "output_type": "display_data"
    },
    {
     "name": "stdout",
     "output_type": "stream",
     "text": [
      "[154/308] Loss0.15773, ACC:0.75186%\n",
      "[308/308] Loss0.16954, ACC:0.75008%\n",
      "Train_Loss: 0.18061222261809684,ACC:0.751%\n",
      "\u001b[66mHAM10000 ==> testing ...\u001b[0m\n"
     ]
    },
    {
     "data": {
      "application/vnd.jupyter.widget-view+json": {
       "model_id": "992089a06ea94e5c871fde4152ad7f6f",
       "version_major": 2,
       "version_minor": 0
      },
      "text/plain": [
       "  0%|          | 0/27 [00:00<?, ?it/s]"
      ]
     },
     "metadata": {},
     "output_type": "display_data"
    },
    {
     "name": "stdout",
     "output_type": "stream",
     "text": [
      "Test_Acc:\u001b[1;32m93.357%\u001b[0m\n",
      "Best_ACC[\u001b[1;32m95.29%\u001b[0m]\n",
      "Epoch: [17] HAM10000 ==> Training ...\n"
     ]
    },
    {
     "data": {
      "application/vnd.jupyter.widget-view+json": {
       "model_id": "820324e636724915b8cf010d5bd0e13b",
       "version_major": 2,
       "version_minor": 0
      },
      "text/plain": [
       "  0%|          | 0/308 [00:00<?, ?it/s]"
      ]
     },
     "metadata": {},
     "output_type": "display_data"
    },
    {
     "name": "stdout",
     "output_type": "stream",
     "text": [
      "[154/308] Loss0.18874, ACC:0.75294%\n",
      "[308/308] Loss0.17611, ACC:0.75158%\n",
      "Train_Loss: 0.1804765673330078,ACC:0.752%\n",
      "\u001b[66mHAM10000 ==> testing ...\u001b[0m\n"
     ]
    },
    {
     "data": {
      "application/vnd.jupyter.widget-view+json": {
       "model_id": "8581b729a7fa46128217042c18627b16",
       "version_major": 2,
       "version_minor": 0
      },
      "text/plain": [
       "  0%|          | 0/27 [00:00<?, ?it/s]"
      ]
     },
     "metadata": {},
     "output_type": "display_data"
    },
    {
     "name": "stdout",
     "output_type": "stream",
     "text": [
      "Test_Acc:\u001b[1;32m95.411%\u001b[0m\n",
      "Best_ACC[\u001b[1;32m95.411%\u001b[0m]\n",
      "Epoch: [18] HAM10000 ==> Training ...\n"
     ]
    },
    {
     "data": {
      "application/vnd.jupyter.widget-view+json": {
       "model_id": "d844f1904830404db383f7380707c0b3",
       "version_major": 2,
       "version_minor": 0
      },
      "text/plain": [
       "  0%|          | 0/308 [00:00<?, ?it/s]"
      ]
     },
     "metadata": {},
     "output_type": "display_data"
    },
    {
     "name": "stdout",
     "output_type": "stream",
     "text": [
      "[154/308] Loss0.17408, ACC:0.74776%\n",
      "[308/308] Loss0.22239, ACC:0.74583%\n",
      "Train_Loss: 0.18366137925874104,ACC:0.746%\n",
      "\u001b[66mHAM10000 ==> testing ...\u001b[0m\n"
     ]
    },
    {
     "data": {
      "application/vnd.jupyter.widget-view+json": {
       "model_id": "9234fc9d7b0e40008d9e0b2718d9718d",
       "version_major": 2,
       "version_minor": 0
      },
      "text/plain": [
       "  0%|          | 0/27 [00:00<?, ?it/s]"
      ]
     },
     "metadata": {},
     "output_type": "display_data"
    },
    {
     "name": "stdout",
     "output_type": "stream",
     "text": [
      "Test_Acc:\u001b[1;32m93.237%\u001b[0m\n",
      "Best_ACC[\u001b[1;32m95.411%\u001b[0m]\n",
      "Epoch: [19] HAM10000 ==> Training ...\n"
     ]
    },
    {
     "data": {
      "application/vnd.jupyter.widget-view+json": {
       "model_id": "c10671c8230a401a9340d7945a47917f",
       "version_major": 2,
       "version_minor": 0
      },
      "text/plain": [
       "  0%|          | 0/308 [00:00<?, ?it/s]"
      ]
     },
     "metadata": {},
     "output_type": "display_data"
    },
    {
     "name": "stdout",
     "output_type": "stream",
     "text": [
      "[154/308] Loss0.19833, ACC:0.73651%\n",
      "[308/308] Loss0.17877, ACC:0.73626%\n",
      "Train_Loss: 0.18960372556920174,ACC:0.737%\n",
      "\u001b[66mHAM10000 ==> testing ...\u001b[0m\n"
     ]
    },
    {
     "data": {
      "application/vnd.jupyter.widget-view+json": {
       "model_id": "92d9f94d6f0c48c1b6f3f4bf1558963e",
       "version_major": 2,
       "version_minor": 0
      },
      "text/plain": [
       "  0%|          | 0/27 [00:00<?, ?it/s]"
      ]
     },
     "metadata": {},
     "output_type": "display_data"
    },
    {
     "name": "stdout",
     "output_type": "stream",
     "text": [
      "Test_Acc:\u001b[1;32m92.754%\u001b[0m\n",
      "Best_ACC[\u001b[1;32m95.411%\u001b[0m]\n",
      "Epoch: [20] HAM10000 ==> Training ...\n"
     ]
    },
    {
     "data": {
      "application/vnd.jupyter.widget-view+json": {
       "model_id": "e43f50871c0e4f248cfa93d55d3610c2",
       "version_major": 2,
       "version_minor": 0
      },
      "text/plain": [
       "  0%|          | 0/308 [00:00<?, ?it/s]"
      ]
     },
     "metadata": {},
     "output_type": "display_data"
    },
    {
     "name": "stdout",
     "output_type": "stream",
     "text": [
      "[154/308] Loss0.18709, ACC:0.73338%\n",
      "[308/308] Loss0.14664, ACC:0.72957%\n",
      "Train_Loss: 0.19427736679261381,ACC:0.73%\n",
      "\u001b[66mHAM10000 ==> testing ...\u001b[0m\n"
     ]
    },
    {
     "data": {
      "application/vnd.jupyter.widget-view+json": {
       "model_id": "5b460d95a38d480e804afbb11ca5261b",
       "version_major": 2,
       "version_minor": 0
      },
      "text/plain": [
       "  0%|          | 0/27 [00:00<?, ?it/s]"
      ]
     },
     "metadata": {},
     "output_type": "display_data"
    },
    {
     "name": "stdout",
     "output_type": "stream",
     "text": [
      "Test_Acc:\u001b[1;32m94.324%\u001b[0m\n",
      "Best_ACC[\u001b[1;32m95.411%\u001b[0m]\n",
      "Epoch: [21] HAM10000 ==> Training ...\n"
     ]
    },
    {
     "data": {
      "application/vnd.jupyter.widget-view+json": {
       "model_id": "182e4a79ebec4899b5e9bb50c3199d0b",
       "version_major": 2,
       "version_minor": 0
      },
      "text/plain": [
       "  0%|          | 0/308 [00:00<?, ?it/s]"
      ]
     },
     "metadata": {},
     "output_type": "display_data"
    },
    {
     "name": "stdout",
     "output_type": "stream",
     "text": [
      "[154/308] Loss0.20492, ACC:0.72874%\n",
      "[308/308] Loss0.16147, ACC:0.72712%\n",
      "Train_Loss: 0.19542150997689792,ACC:0.728%\n",
      "\u001b[66mHAM10000 ==> testing ...\u001b[0m\n"
     ]
    },
    {
     "data": {
      "application/vnd.jupyter.widget-view+json": {
       "model_id": "1b88cd8ac57e4176b7da6735ead01e69",
       "version_major": 2,
       "version_minor": 0
      },
      "text/plain": [
       "  0%|          | 0/27 [00:00<?, ?it/s]"
      ]
     },
     "metadata": {},
     "output_type": "display_data"
    },
    {
     "name": "stdout",
     "output_type": "stream",
     "text": [
      "Test_Acc:\u001b[1;32m92.633%\u001b[0m\n",
      "Best_ACC[\u001b[1;32m95.411%\u001b[0m]\n",
      "Epoch: [22] HAM10000 ==> Training ...\n"
     ]
    },
    {
     "data": {
      "application/vnd.jupyter.widget-view+json": {
       "model_id": "70350857fda349a18915f6045aac9365",
       "version_major": 2,
       "version_minor": 0
      },
      "text/plain": [
       "  0%|          | 0/308 [00:00<?, ?it/s]"
      ]
     },
     "metadata": {},
     "output_type": "display_data"
    },
    {
     "name": "stdout",
     "output_type": "stream",
     "text": [
      "[154/308] Loss0.19520, ACC:0.72998%\n",
      "[308/308] Loss0.19918, ACC:0.73120%\n",
      "Train_Loss: 0.1927203985003682,ACC:0.732%\n",
      "\u001b[66mHAM10000 ==> testing ...\u001b[0m\n"
     ]
    },
    {
     "data": {
      "application/vnd.jupyter.widget-view+json": {
       "model_id": "abb88daaa6c944d0bb6e4914c9426686",
       "version_major": 2,
       "version_minor": 0
      },
      "text/plain": [
       "  0%|          | 0/27 [00:00<?, ?it/s]"
      ]
     },
     "metadata": {},
     "output_type": "display_data"
    },
    {
     "name": "stdout",
     "output_type": "stream",
     "text": [
      "Test_Acc:\u001b[1;32m94.686%\u001b[0m\n",
      "Best_ACC[\u001b[1;32m95.411%\u001b[0m]\n",
      "Epoch: [23] HAM10000 ==> Training ...\n"
     ]
    },
    {
     "data": {
      "application/vnd.jupyter.widget-view+json": {
       "model_id": "a8dd047287624428b9062728110a09ce",
       "version_major": 2,
       "version_minor": 0
      },
      "text/plain": [
       "  0%|          | 0/308 [00:00<?, ?it/s]"
      ]
     },
     "metadata": {},
     "output_type": "display_data"
    },
    {
     "name": "stdout",
     "output_type": "stream",
     "text": [
      "[154/308] Loss0.20152, ACC:0.73933%\n",
      "[308/308] Loss0.21323, ACC:0.73875%\n",
      "Train_Loss: 0.18819098387445723,ACC:0.739%\n",
      "\u001b[66mHAM10000 ==> testing ...\u001b[0m\n"
     ]
    },
    {
     "data": {
      "application/vnd.jupyter.widget-view+json": {
       "model_id": "b8bd4cb0c883493f855a79f3a38802f2",
       "version_major": 2,
       "version_minor": 0
      },
      "text/plain": [
       "  0%|          | 0/27 [00:00<?, ?it/s]"
      ]
     },
     "metadata": {},
     "output_type": "display_data"
    },
    {
     "name": "stdout",
     "output_type": "stream",
     "text": [
      "Test_Acc:\u001b[1;32m91.304%\u001b[0m\n",
      "Best_ACC[\u001b[1;32m95.411%\u001b[0m]\n",
      "Epoch: [24] HAM10000 ==> Training ...\n"
     ]
    },
    {
     "data": {
      "application/vnd.jupyter.widget-view+json": {
       "model_id": "2fb783c8b69d47d9841106fcb6e83e65",
       "version_major": 2,
       "version_minor": 0
      },
      "text/plain": [
       "  0%|          | 0/308 [00:00<?, ?it/s]"
      ]
     },
     "metadata": {},
     "output_type": "display_data"
    },
    {
     "name": "stdout",
     "output_type": "stream",
     "text": [
      "[154/308] Loss0.19177, ACC:0.74992%\n",
      "[308/308] Loss0.16766, ACC:0.75029%\n",
      "Train_Loss: 0.181629432824912,ACC:0.751%\n",
      "\u001b[66mHAM10000 ==> testing ...\u001b[0m\n"
     ]
    },
    {
     "data": {
      "application/vnd.jupyter.widget-view+json": {
       "model_id": "e448befa485645e795f4dd8b48e31291",
       "version_major": 2,
       "version_minor": 0
      },
      "text/plain": [
       "  0%|          | 0/27 [00:00<?, ?it/s]"
      ]
     },
     "metadata": {},
     "output_type": "display_data"
    },
    {
     "name": "stdout",
     "output_type": "stream",
     "text": [
      "Test_Acc:\u001b[1;32m93.72%\u001b[0m\n",
      "Best_ACC[\u001b[1;32m95.411%\u001b[0m]\n",
      "Epoch: [25] HAM10000 ==> Training ...\n"
     ]
    },
    {
     "data": {
      "application/vnd.jupyter.widget-view+json": {
       "model_id": "afa881675a84439cad738808ca61ad37",
       "version_major": 2,
       "version_minor": 0
      },
      "text/plain": [
       "  0%|          | 0/308 [00:00<?, ?it/s]"
      ]
     },
     "metadata": {},
     "output_type": "display_data"
    },
    {
     "name": "stdout",
     "output_type": "stream",
     "text": [
      "[154/308] Loss0.18961, ACC:0.75580%\n",
      "[308/308] Loss0.21852, ACC:0.75530%\n",
      "Train_Loss: 0.17745541732806663,ACC:0.756%\n",
      "\u001b[66mHAM10000 ==> testing ...\u001b[0m\n"
     ]
    },
    {
     "data": {
      "application/vnd.jupyter.widget-view+json": {
       "model_id": "4d9ac9c0cabf4a399675d46b592ad248",
       "version_major": 2,
       "version_minor": 0
      },
      "text/plain": [
       "  0%|          | 0/27 [00:00<?, ?it/s]"
      ]
     },
     "metadata": {},
     "output_type": "display_data"
    },
    {
     "name": "stdout",
     "output_type": "stream",
     "text": [
      "Test_Acc:\u001b[1;32m93.116%\u001b[0m\n",
      "Best_ACC[\u001b[1;32m95.411%\u001b[0m]\n",
      "Epoch: [26] HAM10000 ==> Training ...\n"
     ]
    },
    {
     "data": {
      "application/vnd.jupyter.widget-view+json": {
       "model_id": "f66c43505c3440b290b96a1f5143a74b",
       "version_major": 2,
       "version_minor": 0
      },
      "text/plain": [
       "  0%|          | 0/308 [00:00<?, ?it/s]"
      ]
     },
     "metadata": {},
     "output_type": "display_data"
    },
    {
     "name": "stdout",
     "output_type": "stream",
     "text": [
      "[154/308] Loss0.15994, ACC:0.75626%\n",
      "[308/308] Loss0.18405, ACC:0.75698%\n",
      "Train_Loss: 0.1766416315327991,ACC:0.758%\n",
      "\u001b[66mHAM10000 ==> testing ...\u001b[0m\n"
     ]
    },
    {
     "data": {
      "application/vnd.jupyter.widget-view+json": {
       "model_id": "9b295c832be14337b78b6a6dfb67ba78",
       "version_major": 2,
       "version_minor": 0
      },
      "text/plain": [
       "  0%|          | 0/27 [00:00<?, ?it/s]"
      ]
     },
     "metadata": {},
     "output_type": "display_data"
    },
    {
     "name": "stdout",
     "output_type": "stream",
     "text": [
      "Test_Acc:\u001b[1;32m93.72%\u001b[0m\n",
      "Best_ACC[\u001b[1;32m95.411%\u001b[0m]\n",
      "Epoch: [27] HAM10000 ==> Training ...\n"
     ]
    },
    {
     "data": {
      "application/vnd.jupyter.widget-view+json": {
       "model_id": "a8478237e2784d119571cbb879a1a131",
       "version_major": 2,
       "version_minor": 0
      },
      "text/plain": [
       "  0%|          | 0/308 [00:00<?, ?it/s]"
      ]
     },
     "metadata": {},
     "output_type": "display_data"
    },
    {
     "name": "stdout",
     "output_type": "stream",
     "text": [
      "[154/308] Loss0.18046, ACC:0.75819%\n",
      "[308/308] Loss0.15142, ACC:0.75731%\n",
      "Train_Loss: 0.17685728873331824,ACC:0.758%\n",
      "\u001b[66mHAM10000 ==> testing ...\u001b[0m\n"
     ]
    },
    {
     "data": {
      "application/vnd.jupyter.widget-view+json": {
       "model_id": "1aeea56d95914a2797c3394fb5301691",
       "version_major": 2,
       "version_minor": 0
      },
      "text/plain": [
       "  0%|          | 0/27 [00:00<?, ?it/s]"
      ]
     },
     "metadata": {},
     "output_type": "display_data"
    },
    {
     "name": "stdout",
     "output_type": "stream",
     "text": [
      "Test_Acc:\u001b[1;32m92.391%\u001b[0m\n",
      "Best_ACC[\u001b[1;32m95.411%\u001b[0m]\n",
      "Epoch: [28] HAM10000 ==> Training ...\n"
     ]
    },
    {
     "data": {
      "application/vnd.jupyter.widget-view+json": {
       "model_id": "e369728a125c4c9bac06a44c7609369a",
       "version_major": 2,
       "version_minor": 0
      },
      "text/plain": [
       "  0%|          | 0/308 [00:00<?, ?it/s]"
      ]
     },
     "metadata": {},
     "output_type": "display_data"
    },
    {
     "name": "stdout",
     "output_type": "stream",
     "text": [
      "[154/308] Loss0.15736, ACC:0.75421%\n",
      "[308/308] Loss0.15880, ACC:0.75334%\n",
      "Train_Loss: 0.17982033727230964,ACC:0.754%\n",
      "\u001b[66mHAM10000 ==> testing ...\u001b[0m\n"
     ]
    },
    {
     "data": {
      "application/vnd.jupyter.widget-view+json": {
       "model_id": "cbca0b0e1fee4866a3d1cf32cf083d83",
       "version_major": 2,
       "version_minor": 0
      },
      "text/plain": [
       "  0%|          | 0/27 [00:00<?, ?it/s]"
      ]
     },
     "metadata": {},
     "output_type": "display_data"
    },
    {
     "name": "stdout",
     "output_type": "stream",
     "text": [
      "Test_Acc:\u001b[1;32m87.802%\u001b[0m\n",
      "Best_ACC[\u001b[1;32m95.411%\u001b[0m]\n",
      "Epoch: [29] HAM10000 ==> Training ...\n"
     ]
    },
    {
     "data": {
      "application/vnd.jupyter.widget-view+json": {
       "model_id": "67b5f6fc949a421facf8c017195b6b39",
       "version_major": 2,
       "version_minor": 0
      },
      "text/plain": [
       "  0%|          | 0/308 [00:00<?, ?it/s]"
      ]
     },
     "metadata": {},
     "output_type": "display_data"
    },
    {
     "name": "stdout",
     "output_type": "stream",
     "text": [
      "[154/308] Loss0.20117, ACC:0.74571%\n",
      "[308/308] Loss0.19321, ACC:0.74198%\n",
      "Train_Loss: 0.187121393667026,ACC:0.743%\n",
      "\u001b[66mHAM10000 ==> testing ...\u001b[0m\n"
     ]
    },
    {
     "data": {
      "application/vnd.jupyter.widget-view+json": {
       "model_id": "3e5ec7b09e7146a585a9fb5fe677c2bf",
       "version_major": 2,
       "version_minor": 0
      },
      "text/plain": [
       "  0%|          | 0/27 [00:00<?, ?it/s]"
      ]
     },
     "metadata": {},
     "output_type": "display_data"
    },
    {
     "name": "stdout",
     "output_type": "stream",
     "text": [
      "Test_Acc:\u001b[1;32m94.444%\u001b[0m\n",
      "Best_ACC[\u001b[1;32m95.411%\u001b[0m]\n",
      "Epoch: [30] HAM10000 ==> Training ...\n"
     ]
    },
    {
     "data": {
      "application/vnd.jupyter.widget-view+json": {
       "model_id": "5e3476c01bf04cca99956024562eca30",
       "version_major": 2,
       "version_minor": 0
      },
      "text/plain": [
       "  0%|          | 0/308 [00:00<?, ?it/s]"
      ]
     },
     "metadata": {},
     "output_type": "display_data"
    },
    {
     "name": "stdout",
     "output_type": "stream",
     "text": [
      "[154/308] Loss0.20277, ACC:0.73508%\n",
      "[308/308] Loss0.15154, ACC:0.73572%\n",
      "Train_Loss: 0.19067147930527661,ACC:0.736%\n",
      "\u001b[66mHAM10000 ==> testing ...\u001b[0m\n"
     ]
    },
    {
     "data": {
      "application/vnd.jupyter.widget-view+json": {
       "model_id": "c50483664cca4b25bd51735c5a3ef02c",
       "version_major": 2,
       "version_minor": 0
      },
      "text/plain": [
       "  0%|          | 0/27 [00:00<?, ?it/s]"
      ]
     },
     "metadata": {},
     "output_type": "display_data"
    },
    {
     "name": "stdout",
     "output_type": "stream",
     "text": [
      "Test_Acc:\u001b[1;32m92.633%\u001b[0m\n",
      "Best_ACC[\u001b[1;32m95.411%\u001b[0m]\n",
      "Epoch: [31] HAM10000 ==> Training ...\n"
     ]
    },
    {
     "data": {
      "application/vnd.jupyter.widget-view+json": {
       "model_id": "3a5c02805f434df0b3808ef98f49d4e0",
       "version_major": 2,
       "version_minor": 0
      },
      "text/plain": [
       "  0%|          | 0/308 [00:00<?, ?it/s]"
      ]
     },
     "metadata": {},
     "output_type": "display_data"
    },
    {
     "name": "stdout",
     "output_type": "stream",
     "text": [
      "[154/308] Loss0.20964, ACC:0.73160%\n",
      "[308/308] Loss0.18827, ACC:0.73208%\n",
      "Train_Loss: 0.19265532314583853,ACC:0.733%\n",
      "\u001b[66mHAM10000 ==> testing ...\u001b[0m\n"
     ]
    },
    {
     "data": {
      "application/vnd.jupyter.widget-view+json": {
       "model_id": "4887025abbee45d5a23dec242fd9714c",
       "version_major": 2,
       "version_minor": 0
      },
      "text/plain": [
       "  0%|          | 0/27 [00:00<?, ?it/s]"
      ]
     },
     "metadata": {},
     "output_type": "display_data"
    },
    {
     "name": "stdout",
     "output_type": "stream",
     "text": [
      "Test_Acc:\u001b[1;32m89.493%\u001b[0m\n",
      "Best_ACC[\u001b[1;32m95.411%\u001b[0m]\n",
      "Epoch: [32] HAM10000 ==> Training ...\n"
     ]
    },
    {
     "data": {
      "application/vnd.jupyter.widget-view+json": {
       "model_id": "27bb844b838e4642ae039512a98df0c2",
       "version_major": 2,
       "version_minor": 0
      },
      "text/plain": [
       "  0%|          | 0/308 [00:00<?, ?it/s]"
      ]
     },
     "metadata": {},
     "output_type": "display_data"
    },
    {
     "name": "stdout",
     "output_type": "stream",
     "text": [
      "[154/308] Loss0.15322, ACC:0.73937%\n",
      "[308/308] Loss0.18098, ACC:0.73771%\n",
      "Train_Loss: 0.1896606462632681,ACC:0.738%\n",
      "\u001b[66mHAM10000 ==> testing ...\u001b[0m\n"
     ]
    },
    {
     "data": {
      "application/vnd.jupyter.widget-view+json": {
       "model_id": "3eef709b12304acd9fe80c9b3641d356",
       "version_major": 2,
       "version_minor": 0
      },
      "text/plain": [
       "  0%|          | 0/27 [00:00<?, ?it/s]"
      ]
     },
     "metadata": {},
     "output_type": "display_data"
    },
    {
     "name": "stdout",
     "output_type": "stream",
     "text": [
      "Test_Acc:\u001b[1;32m94.203%\u001b[0m\n",
      "Best_ACC[\u001b[1;32m95.411%\u001b[0m]\n",
      "Epoch: [33] HAM10000 ==> Training ...\n"
     ]
    },
    {
     "data": {
      "application/vnd.jupyter.widget-view+json": {
       "model_id": "c9d96c3e52854456964d3a4ac66846c6",
       "version_major": 2,
       "version_minor": 0
      },
      "text/plain": [
       "  0%|          | 0/308 [00:00<?, ?it/s]"
      ]
     },
     "metadata": {},
     "output_type": "display_data"
    },
    {
     "name": "stdout",
     "output_type": "stream",
     "text": [
      "[154/308] Loss0.16172, ACC:0.74934%\n",
      "[308/308] Loss0.16440, ACC:0.74581%\n",
      "Train_Loss: 0.1843233954209786,ACC:0.746%\n",
      "\u001b[66mHAM10000 ==> testing ...\u001b[0m\n"
     ]
    },
    {
     "data": {
      "application/vnd.jupyter.widget-view+json": {
       "model_id": "397e8c33189e4926a0263a8c44ab3658",
       "version_major": 2,
       "version_minor": 0
      },
      "text/plain": [
       "  0%|          | 0/27 [00:00<?, ?it/s]"
      ]
     },
     "metadata": {},
     "output_type": "display_data"
    },
    {
     "name": "stdout",
     "output_type": "stream",
     "text": [
      "Test_Acc:\u001b[1;32m92.391%\u001b[0m\n",
      "Best_ACC[\u001b[1;32m95.411%\u001b[0m]\n",
      "Epoch: [34] HAM10000 ==> Training ...\n"
     ]
    },
    {
     "data": {
      "application/vnd.jupyter.widget-view+json": {
       "model_id": "49afcad870e345be93eb218cea19a743",
       "version_major": 2,
       "version_minor": 0
      },
      "text/plain": [
       "  0%|          | 0/308 [00:00<?, ?it/s]"
      ]
     },
     "metadata": {},
     "output_type": "display_data"
    },
    {
     "name": "stdout",
     "output_type": "stream",
     "text": [
      "[154/308] Loss0.16607, ACC:0.75317%\n",
      "[308/308] Loss0.19822, ACC:0.75406%\n",
      "Train_Loss: 0.17976553017249355,ACC:0.755%\n",
      "\u001b[66mHAM10000 ==> testing ...\u001b[0m\n"
     ]
    },
    {
     "data": {
      "application/vnd.jupyter.widget-view+json": {
       "model_id": "2888b711c1a54bc9a8a800abdb6ace98",
       "version_major": 2,
       "version_minor": 0
      },
      "text/plain": [
       "  0%|          | 0/27 [00:00<?, ?it/s]"
      ]
     },
     "metadata": {},
     "output_type": "display_data"
    },
    {
     "name": "stdout",
     "output_type": "stream",
     "text": [
      "Test_Acc:\u001b[1;32m93.72%\u001b[0m\n",
      "Best_ACC[\u001b[1;32m95.411%\u001b[0m]\n",
      "Epoch: [35] HAM10000 ==> Training ...\n"
     ]
    },
    {
     "data": {
      "application/vnd.jupyter.widget-view+json": {
       "model_id": "cd5d3936fb74435799790ad14953f9a4",
       "version_major": 2,
       "version_minor": 0
      },
      "text/plain": [
       "  0%|          | 0/308 [00:00<?, ?it/s]"
      ]
     },
     "metadata": {},
     "output_type": "display_data"
    },
    {
     "name": "stdout",
     "output_type": "stream",
     "text": [
      "[154/308] Loss0.18435, ACC:0.76245%\n",
      "[308/308] Loss0.16432, ACC:0.76117%\n",
      "Train_Loss: 0.17453493119834304,ACC:0.762%\n",
      "\u001b[66mHAM10000 ==> testing ...\u001b[0m\n"
     ]
    },
    {
     "data": {
      "application/vnd.jupyter.widget-view+json": {
       "model_id": "4ccdd311c62245e3ba1c2308e6560d57",
       "version_major": 2,
       "version_minor": 0
      },
      "text/plain": [
       "  0%|          | 0/27 [00:00<?, ?it/s]"
      ]
     },
     "metadata": {},
     "output_type": "display_data"
    },
    {
     "name": "stdout",
     "output_type": "stream",
     "text": [
      "Test_Acc:\u001b[1;32m91.908%\u001b[0m\n",
      "Best_ACC[\u001b[1;32m95.411%\u001b[0m]\n",
      "Epoch: [36] HAM10000 ==> Training ...\n"
     ]
    },
    {
     "data": {
      "application/vnd.jupyter.widget-view+json": {
       "model_id": "e5617d91a2254faf988434195a4cc704",
       "version_major": 2,
       "version_minor": 0
      },
      "text/plain": [
       "  0%|          | 0/308 [00:00<?, ?it/s]"
      ]
     },
     "metadata": {},
     "output_type": "display_data"
    },
    {
     "name": "stdout",
     "output_type": "stream",
     "text": [
      "[154/308] Loss0.16876, ACC:0.76167%\n",
      "[308/308] Loss0.15178, ACC:0.76063%\n",
      "Train_Loss: 0.17448097031998944,ACC:0.761%\n",
      "\u001b[66mHAM10000 ==> testing ...\u001b[0m\n"
     ]
    },
    {
     "data": {
      "application/vnd.jupyter.widget-view+json": {
       "model_id": "f43fe458a7ce4a9486ef62555c70ea88",
       "version_major": 2,
       "version_minor": 0
      },
      "text/plain": [
       "  0%|          | 0/27 [00:00<?, ?it/s]"
      ]
     },
     "metadata": {},
     "output_type": "display_data"
    },
    {
     "name": "stdout",
     "output_type": "stream",
     "text": [
      "Test_Acc:\u001b[1;32m92.391%\u001b[0m\n",
      "Best_ACC[\u001b[1;32m95.411%\u001b[0m]\n",
      "Epoch: [37] HAM10000 ==> Training ...\n"
     ]
    },
    {
     "data": {
      "application/vnd.jupyter.widget-view+json": {
       "model_id": "90fde144394e4bfa938ebacda07392e5",
       "version_major": 2,
       "version_minor": 0
      },
      "text/plain": [
       "  0%|          | 0/308 [00:00<?, ?it/s]"
      ]
     },
     "metadata": {},
     "output_type": "display_data"
    },
    {
     "name": "stdout",
     "output_type": "stream",
     "text": [
      "[154/308] Loss0.15981, ACC:0.76190%\n",
      "[308/308] Loss0.18218, ACC:0.76229%\n",
      "Train_Loss: 0.17408670044758104,ACC:0.763%\n",
      "\u001b[66mHAM10000 ==> testing ...\u001b[0m\n"
     ]
    },
    {
     "data": {
      "application/vnd.jupyter.widget-view+json": {
       "model_id": "38428750f84a48a0ba1cd314659f555f",
       "version_major": 2,
       "version_minor": 0
      },
      "text/plain": [
       "  0%|          | 0/27 [00:00<?, ?it/s]"
      ]
     },
     "metadata": {},
     "output_type": "display_data"
    },
    {
     "name": "stdout",
     "output_type": "stream",
     "text": [
      "Test_Acc:\u001b[1;32m93.72%\u001b[0m\n",
      "Best_ACC[\u001b[1;32m95.411%\u001b[0m]\n",
      "Epoch: [38] HAM10000 ==> Training ...\n"
     ]
    },
    {
     "data": {
      "application/vnd.jupyter.widget-view+json": {
       "model_id": "efac2fde3e604dae9fee841d9dff7e51",
       "version_major": 2,
       "version_minor": 0
      },
      "text/plain": [
       "  0%|          | 0/308 [00:00<?, ?it/s]"
      ]
     },
     "metadata": {},
     "output_type": "display_data"
    },
    {
     "name": "stdout",
     "output_type": "stream",
     "text": [
      "[154/308] Loss0.19467, ACC:0.75692%\n",
      "[308/308] Loss0.21309, ACC:0.75746%\n",
      "Train_Loss: 0.1773866091842775,ACC:0.758%\n",
      "\u001b[66mHAM10000 ==> testing ...\u001b[0m\n"
     ]
    },
    {
     "data": {
      "application/vnd.jupyter.widget-view+json": {
       "model_id": "4f4e42ea6d4845829783d612f2e1403d",
       "version_major": 2,
       "version_minor": 0
      },
      "text/plain": [
       "  0%|          | 0/27 [00:00<?, ?it/s]"
      ]
     },
     "metadata": {},
     "output_type": "display_data"
    },
    {
     "name": "stdout",
     "output_type": "stream",
     "text": [
      "Test_Acc:\u001b[1;32m94.928%\u001b[0m\n",
      "Best_ACC[\u001b[1;32m95.411%\u001b[0m]\n",
      "Epoch: [39] HAM10000 ==> Training ...\n"
     ]
    },
    {
     "data": {
      "application/vnd.jupyter.widget-view+json": {
       "model_id": "b23dfe3cfd574e8d8df3ca288c5a9738",
       "version_major": 2,
       "version_minor": 0
      },
      "text/plain": [
       "  0%|          | 0/308 [00:00<?, ?it/s]"
      ]
     },
     "metadata": {},
     "output_type": "display_data"
    },
    {
     "name": "stdout",
     "output_type": "stream",
     "text": [
      "[154/308] Loss0.20774, ACC:0.75085%\n",
      "[308/308] Loss0.19206, ACC:0.74778%\n",
      "Train_Loss: 0.18373886640969808,ACC:0.748%\n",
      "\u001b[66mHAM10000 ==> testing ...\u001b[0m\n"
     ]
    },
    {
     "data": {
      "application/vnd.jupyter.widget-view+json": {
       "model_id": "c786d152b0a343038a8b8dfd8eb90f34",
       "version_major": 2,
       "version_minor": 0
      },
      "text/plain": [
       "  0%|          | 0/27 [00:00<?, ?it/s]"
      ]
     },
     "metadata": {},
     "output_type": "display_data"
    },
    {
     "name": "stdout",
     "output_type": "stream",
     "text": [
      "Test_Acc:\u001b[1;32m96.135%\u001b[0m\n",
      "Best_ACC[\u001b[1;32m96.135%\u001b[0m]\n",
      "Epoch: [40] HAM10000 ==> Training ...\n"
     ]
    },
    {
     "data": {
      "application/vnd.jupyter.widget-view+json": {
       "model_id": "6dd3012bae054ff49a1bbb03b5e46feb",
       "version_major": 2,
       "version_minor": 0
      },
      "text/plain": [
       "  0%|          | 0/308 [00:00<?, ?it/s]"
      ]
     },
     "metadata": {},
     "output_type": "display_data"
    },
    {
     "name": "stdout",
     "output_type": "stream",
     "text": [
      "[154/308] Loss0.17560, ACC:0.74304%\n",
      "[308/308] Loss0.17906, ACC:0.74186%\n",
      "Train_Loss: 0.18781698117782544,ACC:0.743%\n",
      "\u001b[66mHAM10000 ==> testing ...\u001b[0m\n"
     ]
    },
    {
     "data": {
      "application/vnd.jupyter.widget-view+json": {
       "model_id": "5b9817b2e3444118a3330c715b1a9101",
       "version_major": 2,
       "version_minor": 0
      },
      "text/plain": [
       "  0%|          | 0/27 [00:00<?, ?it/s]"
      ]
     },
     "metadata": {},
     "output_type": "display_data"
    },
    {
     "name": "stdout",
     "output_type": "stream",
     "text": [
      "Test_Acc:\u001b[1;32m90.942%\u001b[0m\n",
      "Best_ACC[\u001b[1;32m96.135%\u001b[0m]\n",
      "Finished Training\n"
     ]
    }
   ],
   "source": [
    "num_epochs = 40\n",
    "network.load_state_dict(torch.load(save_PATH))\n",
    "for epoch in range(1, num_epochs + 1):\n",
    "    train(epoch)\n",
    "    test()\n",
    "print('Finished Training')"
   ]
  },
  {
   "cell_type": "code",
   "execution_count": 40,
   "metadata": {
    "execution": {
     "iopub.execute_input": "2022-04-30T05:39:37.368985Z",
     "iopub.status.busy": "2022-04-30T05:39:37.368985Z",
     "iopub.status.idle": "2022-04-30T05:39:37.430992Z",
     "shell.execute_reply": "2022-04-30T05:39:37.430992Z",
     "shell.execute_reply.started": "2022-04-30T05:39:37.368985Z"
    },
    "tags": []
   },
   "outputs": [
    {
     "name": "stdout",
     "output_type": "stream",
     "text": [
      "+--------+-----------+--------+-------+----------+\n",
      "|  Type  | Precision | Recall |   F1  | Accuracy |\n",
      "+--------+-----------+--------+-------+----------+\n",
      "| akiec  |   0.8333  |  0.87  | 0.851 |          |\n",
      "|  bcc   |   0.875   | 0.808  |  0.84 |          |\n",
      "|  bkl   |   0.8788  | 0.879  | 0.879 |          |\n",
      "|   df   |   0.5714  | 0.667  | 0.615 |          |\n",
      "|  mel   |   0.9118  | 0.912  | 0.912 |          |\n",
      "|   nv   |   0.9835  | 0.988  | 0.986 |          |\n",
      "|  vasc  |    1.0    |  0.7   | 0.824 |          |\n",
      "| Total: |           |        |       |  0.9614  |\n",
      "+--------+-----------+--------+-------+----------+\n"
     ]
    }
   ],
   "source": [
    "self_scores()"
   ]
  },
  {
   "cell_type": "code",
   "execution_count": 41,
   "metadata": {
    "execution": {
     "iopub.execute_input": "2022-04-30T05:39:37.432984Z",
     "iopub.status.busy": "2022-04-30T05:39:37.432984Z",
     "iopub.status.idle": "2022-04-30T05:39:38.016256Z",
     "shell.execute_reply": "2022-04-30T05:39:38.016256Z",
     "shell.execute_reply.started": "2022-04-30T05:39:37.432984Z"
    },
    "tags": []
   },
   "outputs": [
    {
     "data": {
      "image/png": "[encoded data removed]",
      "text/plain": [
       "<Figure size 576x396 with 2 Axes>"
      ]
     },
     "metadata": {},
     "output_type": "display_data"
    }
   ],
   "source": [
    "confusion_matrix(evl_result)"
   ]
  },
  {
   "cell_type": "code",
   "execution_count": 42,
   "metadata": {
    "execution": {
     "iopub.execute_input": "2022-04-30T05:39:38.017257Z",
     "iopub.status.busy": "2022-04-30T05:39:38.017257Z",
     "iopub.status.idle": "2022-04-30T05:39:38.239366Z",
     "shell.execute_reply": "2022-04-30T05:39:38.239366Z",
     "shell.execute_reply.started": "2022-04-30T05:39:38.017257Z"
    },
    "tags": []
   },
   "outputs": [
    {
     "data": {
      "image/png": "[encoded data removed]",
      "text/plain": [
       "<Figure size 576x396 with 1 Axes>"
      ]
     },
     "metadata": {},
     "output_type": "display_data"
    }
   ],
   "source": [
    "show.test(write=True,custom_path='./tmp',img_title=img_title,suf=suf)"
   ]
  },
  {
   "cell_type": "code",
   "execution_count": 43,
   "metadata": {
    "execution": {
     "iopub.execute_input": "2022-04-30T05:39:38.240335Z",
     "iopub.status.busy": "2022-04-30T05:39:38.240335Z",
     "iopub.status.idle": "2022-04-30T05:39:38.447040Z",
     "shell.execute_reply": "2022-04-30T05:39:38.447040Z",
     "shell.execute_reply.started": "2022-04-30T05:39:38.240335Z"
    },
    "tags": []
   },
   "outputs": [
    {
     "data": {
      "image/png": "[encoded data removed]",
      "text/plain": [
       "<Figure size 576x396 with 1 Axes>"
      ]
     },
     "metadata": {},
     "output_type": "display_data"
    }
   ],
   "source": [
    "plt.clf()#clear photo\n",
    "show.train(write=True,custom_path='./tmp',img_title=img_title,suf=suf)"
   ]
  },
  {
   "cell_type": "code",
   "execution_count": 44,
   "metadata": {
    "execution": {
     "iopub.execute_input": "2022-04-30T05:39:38.448015Z",
     "iopub.status.busy": "2022-04-30T05:39:38.448015Z",
     "iopub.status.idle": "2022-04-30T05:39:38.511044Z",
     "shell.execute_reply": "2022-04-30T05:39:38.511044Z",
     "shell.execute_reply.started": "2022-04-30T05:39:38.448015Z"
    },
    "tags": []
   },
   "outputs": [],
   "source": [
    "# #save\n",
    "s1 = np.array(test_acc_list)\n",
    "np.save(f'./tmp/{img_title}/{suf}/{img_title}_test_acc_{suf}.npy', s1)\n",
    "s2 = np.array(train_loss_list)\n",
    "np.save(f'./tmp/{img_title}/{suf}/{img_title}_train_loss_{suf}.npy', s2)"
   ]
  },
  {
   "cell_type": "raw",
   "metadata": {
    "execution": {
     "iopub.execute_input": "2022-04-22T16:17:23.519658Z",
     "iopub.status.busy": "2022-04-22T16:17:23.518635Z",
     "iopub.status.idle": "2022-04-22T16:17:23.581698Z",
     "shell.execute_reply": "2022-04-22T16:17:23.581698Z",
     "shell.execute_reply.started": "2022-04-22T16:17:23.519658Z"
    },
    "tags": []
   },
   "source": [
    "+--------+-----------+--------+-------+----------+\n",
    "|  Type  | Precision | Recall |   F1  | Accuracy |\n",
    "+--------+-----------+--------+-------+----------+\n",
    "| akiec  |   0.8333  |  0.87  | 0.851 |          |\n",
    "|  bcc   |   0.875   | 0.808  |  0.84 |          |\n",
    "|  bkl   |   0.8788  | 0.879  | 0.879 |          |\n",
    "|   df   |   0.5714  | 0.667  | 0.615 |          |\n",
    "|  mel   |   0.9118  | 0.912  | 0.912 |          |\n",
    "|   nv   |   0.9835  | 0.988  | 0.986 |          |\n",
    "|  vasc  |    1.0    |  0.7   | 0.824 |          |\n",
    "| Total: |           |        |       |  0.9614  |\n",
    "+--------+-----------+--------+-------+----------+"
   ]
  },
  {
   "cell_type": "raw",
   "metadata": {},
   "source": [
    "+--------+-----------+--------+-------+----------+\n",
    "|  Type  | Precision | Recall |   F1  | Accuracy |\n",
    "+--------+-----------+--------+-------+----------+\n",
    "| akiec  |   0.7778  | 0.913  |  0.84 |          |\n",
    "|  bcc   |   0.8077  | 0.808  | 0.808 |          |\n",
    "|  bkl   |   0.9219  | 0.894  | 0.908 |          |\n",
    "|   df   |   0.4545  | 0.833  | 0.588 |          |\n",
    "|  mel   |   0.9062  | 0.853  | 0.879 |          |\n",
    "|   nv   |   0.9864  | 0.983  | 0.985 |          |\n",
    "|  vasc  |    1.0    |  0.7   | 0.824 |          |\n",
    "| Total: |           |        |       |  0.9589  |\n",
    "+--------+-----------+--------+-------+----------+"
   ]
  },
  {
   "cell_type": "code",
   "execution_count": 45,
   "metadata": {
    "execution": {
     "iopub.execute_input": "2022-04-30T05:39:38.512019Z",
     "iopub.status.busy": "2022-04-30T05:39:38.512019Z",
     "iopub.status.idle": "2022-04-30T05:39:38.607009Z",
     "shell.execute_reply": "2022-04-30T05:39:38.607009Z",
     "shell.execute_reply.started": "2022-04-30T05:39:38.512019Z"
    },
    "tags": []
   },
   "outputs": [],
   "source": [
    "torch.cuda.memory.empty_cache()"
   ]
  },
  {
   "cell_type": "code",
   "execution_count": 28,
   "metadata": {
    "execution": {
     "iopub.execute_input": "2022-04-30T03:43:26.860477Z",
     "iopub.status.busy": "2022-04-30T03:43:26.860477Z",
     "iopub.status.idle": "2022-04-30T03:43:26.922611Z",
     "shell.execute_reply": "2022-04-30T03:43:26.922611Z",
     "shell.execute_reply.started": "2022-04-30T03:43:26.860477Z"
    },
    "scrolled": true,
    "tags": []
   },
   "outputs": [],
   "source": [
    "# num_epochs = 45\n",
    "# network.load_state_dict(torch.load(save_PATH))\n",
    "# for epoch in range(1, num_epochs + 1):\n",
    "#     train(epoch)\n",
    "#     test()\n",
    "# print('Finished Training')"
   ]
  },
  {
   "cell_type": "code",
   "execution_count": 29,
   "metadata": {
    "execution": {
     "iopub.execute_input": "2022-04-30T03:43:26.923484Z",
     "iopub.status.busy": "2022-04-30T03:43:26.923484Z",
     "iopub.status.idle": "2022-04-30T03:43:26.985607Z",
     "shell.execute_reply": "2022-04-30T03:43:26.985607Z",
     "shell.execute_reply.started": "2022-04-30T03:43:26.923484Z"
    }
   },
   "outputs": [],
   "source": [
    "# self_scores()"
   ]
  },
  {
   "cell_type": "code",
   "execution_count": 30,
   "metadata": {
    "execution": {
     "iopub.execute_input": "2022-04-30T03:43:26.986484Z",
     "iopub.status.busy": "2022-04-30T03:43:26.986484Z",
     "iopub.status.idle": "2022-04-30T03:43:27.048788Z",
     "shell.execute_reply": "2022-04-30T03:43:27.048788Z",
     "shell.execute_reply.started": "2022-04-30T03:43:26.986484Z"
    }
   },
   "outputs": [],
   "source": [
    "# confusion_matrix(evl_result)"
   ]
  },
  {
   "cell_type": "code",
   "execution_count": 31,
   "metadata": {
    "execution": {
     "iopub.execute_input": "2022-04-30T03:43:27.049782Z",
     "iopub.status.busy": "2022-04-30T03:43:27.049782Z",
     "iopub.status.idle": "2022-04-30T03:43:27.112001Z",
     "shell.execute_reply": "2022-04-30T03:43:27.112001Z",
     "shell.execute_reply.started": "2022-04-30T03:43:27.049782Z"
    }
   },
   "outputs": [],
   "source": [
    "# show.conclusion(img_title=img_title)"
   ]
  },
  {
   "cell_type": "code",
   "execution_count": 32,
   "metadata": {
    "execution": {
     "iopub.execute_input": "2022-04-30T03:43:27.112877Z",
     "iopub.status.busy": "2022-04-30T03:43:27.112877Z",
     "iopub.status.idle": "2022-04-30T03:43:27.176427Z",
     "shell.execute_reply": "2022-04-30T03:43:27.175475Z",
     "shell.execute_reply.started": "2022-04-30T03:43:27.112877Z"
    }
   },
   "outputs": [],
   "source": [
    "# torch.cuda.memory.empty_cache()"
   ]
  },
  {
   "cell_type": "code",
   "execution_count": 33,
   "metadata": {
    "execution": {
     "iopub.execute_input": "2022-04-30T03:43:27.177449Z",
     "iopub.status.busy": "2022-04-30T03:43:27.177449Z",
     "iopub.status.idle": "2022-04-30T03:43:27.239229Z",
     "shell.execute_reply": "2022-04-30T03:43:27.239229Z",
     "shell.execute_reply.started": "2022-04-30T03:43:27.177449Z"
    }
   },
   "outputs": [],
   "source": [
    "# # #save\n",
    "# s1 = np.array(test_acc_list)\n",
    "# np.save(f'./tmp/{img_title}/{suf}/{img_title}_test_acc_{suf}.npy', s1)\n",
    "# s2 = np.array(train_loss_list)\n",
    "# np.save(f'./tmp/{img_title}/{suf}/{img_title}_train_loss_{suf}.npy', s2)"
   ]
  }
 ],
 "metadata": {
  "kernelspec": {
   "display_name": "torch1.8",
   "language": "python",
   "name": "woodman"
  },
  "language_info": {
   "codemirror_mode": {
    "name": "ipython",
    "version": 3
   },
   "file_extension": ".py",
   "mimetype": "text/x-python",
   "name": "python",
   "nbconvert_exporter": "python",
   "pygments_lexer": "ipython3",
   "version": "3.8.12"
  },
  "toc-autonumbering": true,
  "toc-showmarkdowntxt": true
 },
 "nbformat": 4,
 "nbformat_minor": 4
}
