{
 "cells": [
  {
   "cell_type": "code",
   "execution_count": 1,
   "metadata": {
    "execution": {
     "iopub.execute_input": "2022-05-01T16:04:03.144272Z",
     "iopub.status.busy": "2022-05-01T16:04:03.144272Z",
     "iopub.status.idle": "2022-05-01T16:04:03.188079Z",
     "shell.execute_reply": "2022-05-01T16:04:03.188079Z",
     "shell.execute_reply.started": "2022-05-01T16:04:03.144272Z"
    },
    "tags": []
   },
   "outputs": [],
   "source": [
    "%load_ext autoreload\n",
    "%autoreload 2"
   ]
  },
  {
   "cell_type": "code",
   "execution_count": 2,
   "metadata": {
    "execution": {
     "iopub.execute_input": "2022-05-01T16:04:03.188582Z",
     "iopub.status.busy": "2022-05-01T16:04:03.188582Z",
     "iopub.status.idle": "2022-05-01T16:04:04.542249Z",
     "shell.execute_reply": "2022-05-01T16:04:04.542249Z",
     "shell.execute_reply.started": "2022-05-01T16:04:03.188582Z"
    },
    "tags": [],
    "uuid": "5cde640c-432f-4f8a-9f00-017bf8c65e34"
   },
   "outputs": [],
   "source": [
    "import torch\n",
    "import sys, os\n",
    "import json\n",
    "import torch.nn as nn  \n",
    "import numpy as np\n",
    "import pandas as pd\n",
    "import matplotlib.pyplot as plt\n",
    "import torch.optim as optim\n",
    "\n",
    "import prettytable\n",
    "import time\n",
    "import sys\n",
    "sys.setrecursionlimit(18000)\n",
    "\n",
    "from PIL import Image\n",
    "from torch.optim import lr_scheduler\n",
    "from sklearn.metrics import roc_auc_score\n",
    "from torch.autograd import Variable\n",
    "from torchvision import datasets, transforms\n",
    "from torchsummary import summary\n",
    "from tqdm.notebook import tqdm\n",
    "from torch.utils.data import random_split\n",
    "\n",
    "from model501 import FixCapsNet\n",
    "from images_show import ImageShow"
   ]
  },
  {
   "cell_type": "code",
   "execution_count": 3,
   "metadata": {
    "execution": {
     "iopub.execute_input": "2022-05-01T16:04:04.542249Z",
     "iopub.status.busy": "2022-05-01T16:04:04.542249Z",
     "iopub.status.idle": "2022-05-01T16:04:04.608751Z",
     "shell.execute_reply": "2022-05-01T16:04:04.608751Z",
     "shell.execute_reply.started": "2022-05-01T16:04:04.542249Z"
    },
    "tags": [],
    "uuid": "a391afe8-e37b-4ef6-ab2e-c0bdbb7849ee"
   },
   "outputs": [],
   "source": [
    "# Settings.\n",
    "sys.path.append(os.pardir)\n",
    "device = torch.device('cuda' if torch.cuda.is_available() else \"cpu\")\n",
    "img_title = \"HAM10000\"\n",
    "best_acc= 0.\n",
    "#defined \n",
    "try:\n",
    "    print(len(test_acc_list))\n",
    "except NameError:\n",
    "    train_loss_list = []\n",
    "    train_acc_list = []\n",
    "    test_loss_list = []\n",
    "    test_acc_list = []\n",
    "    test_auc_list = []\n",
    "    val_loss_list = []\n",
    "    val_acc_list = []\n",
    "#activate ImageShow\n",
    "show = ImageShow(train_loss_list=train_loss_list,\n",
    "                train_acc_list=train_acc_list,\n",
    "                test_loss_list=test_loss_list,\n",
    "                test_acc_list=test_acc_list,\n",
    "                test_auc_list=test_auc_list,\n",
    "                val_loss_list=val_loss_list,\n",
    "                val_acc_list=val_acc_list,\n",
    "                )"
   ]
  },
  {
   "cell_type": "code",
   "execution_count": 4,
   "metadata": {
    "execution": {
     "iopub.execute_input": "2022-05-01T16:04:04.608751Z",
     "iopub.status.busy": "2022-05-01T16:04:04.608751Z",
     "iopub.status.idle": "2022-05-01T16:04:04.671202Z",
     "shell.execute_reply": "2022-05-01T16:04:04.671202Z",
     "shell.execute_reply.started": "2022-05-01T16:04:04.608751Z"
    },
    "tags": []
   },
   "outputs": [],
   "source": [
    "data_transform = {\n",
    "    \"train\": transforms.Compose([transforms.RandomResizedCrop((299, 299)),\n",
    "                                 transforms.RandomVerticalFlip(),\n",
    "                                 transforms.ToTensor(),\n",
    "                                 transforms.Normalize((0.5, 0.5, 0.5), (0.5, 0.5, 0.5))]),\n",
    "    \"val\": transforms.Compose([transforms.Resize((308,308)),\n",
    "                               transforms.CenterCrop((299, 299)),\n",
    "                               transforms.ToTensor(),\n",
    "                               transforms.Normalize((0.5, 0.5, 0.5), (0.5, 0.5, 0.5))\n",
    "                              ])\n",
    "    }"
   ]
  },
  {
   "cell_type": "code",
   "execution_count": 5,
   "metadata": {
    "execution": {
     "iopub.execute_input": "2022-05-01T16:04:04.671202Z",
     "iopub.status.busy": "2022-05-01T16:04:04.671202Z",
     "iopub.status.idle": "2022-05-01T16:04:05.030628Z",
     "shell.execute_reply": "2022-05-01T16:04:05.030628Z",
     "shell.execute_reply.started": "2022-05-01T16:04:04.671202Z"
    },
    "tags": []
   },
   "outputs": [
    {
     "name": "stdout",
     "output_type": "stream",
     "text": [
      "Using 7 types.\n",
      "Using 8 dataloader workers every process.\n",
      "using 51699 images for training, 828 images for validation.\n"
     ]
    }
   ],
   "source": [
    "root_path = os.path.abspath(os.path.join(os.getcwd(), \"..\"))\n",
    "image_path = os.path.abspath(os.path.join(root_path,\"skin_lesion\"))\n",
    "assert os.path.exists(image_path), \"{} path does not exist.\".format(image_path)\n",
    "\n",
    "train_dataset = datasets.ImageFolder(root=os.path.join(image_path, \"train\"),\n",
    "                                     transform=data_transform[\"train\"])\n",
    "test_dataset = datasets.ImageFolder(root=os.path.join(image_path,\"test\"),\n",
    "                                      transform=data_transform[\"val\"])\n",
    "train_num = len(train_dataset)\n",
    "test_num = len(test_dataset)\n",
    "\n",
    "img_sample = Image.open(test_dataset.imgs[1][0])\n",
    "n_channels = np.array(img_sample).shape[2]#(H,W,C)\n",
    "\n",
    "data_list = train_dataset.class_to_idx #\n",
    "cla_dict = dict((val, key) for key, val in data_list.items())\n",
    "n_classes  = len(data_list)\n",
    "print(f'Using {n_classes} types.')\n",
    "\n",
    "# write dict into json file\n",
    "json_str = json.dumps(cla_dict, indent=4)\n",
    "with open(f'{img_title}.json', 'w') as json_file:#class_indices\n",
    "    json_file.write(json_str)\n",
    "\n",
    "BatchSize = 188\n",
    "T_size = 31\n",
    "nw = min([os.cpu_count(), BatchSize if BatchSize > 1 else 0, 8]) \n",
    "print(f'Using {nw} dataloader workers every process.')\n",
    "pin_memory = True\n",
    "train_loader = torch.utils.data.DataLoader(train_dataset, batch_size=BatchSize,pin_memory=pin_memory,\n",
    "                                           shuffle=True, num_workers=nw)\n",
    "test_loader = torch.utils.data.DataLoader(test_dataset,batch_size=T_size,pin_memory=pin_memory,\n",
    "                                          shuffle=False, num_workers=nw)\n",
    "\n",
    "print(\"using {} images for training, {} images for validation.\".format(train_num, test_num))"
   ]
  },
  {
   "cell_type": "code",
   "execution_count": 6,
   "metadata": {
    "execution": {
     "iopub.execute_input": "2022-05-01T16:04:05.030628Z",
     "iopub.status.busy": "2022-05-01T16:04:05.030628Z",
     "iopub.status.idle": "2022-05-01T16:04:07.452834Z",
     "shell.execute_reply": "2022-05-01T16:04:07.452834Z",
     "shell.execute_reply.started": "2022-05-01T16:04:05.030628Z"
    },
    "scrolled": true,
    "tags": [],
    "uuid": "35479142-bb8f-4c72-b31f-04bed7bf7c10"
   },
   "outputs": [
    {
     "name": "stdout",
     "output_type": "stream",
     "text": [
      "----------------------------------------------------------------\n",
      "        Layer (type)               Output Shape         Param #\n",
      "================================================================\n",
      "            Conv2d-1          [-1, 3, 135, 135]           2,886\n",
      "            Conv2d-2        [-1, 128, 135, 135]             512\n",
      "       BatchNorm2d-3        [-1, 128, 135, 135]             256\n",
      "              ReLU-4        [-1, 128, 135, 135]               0\n",
      "FractionalMaxPool2d-5          [-1, 128, 20, 20]               0\n",
      "            Conv2d-6          [-1, 128, 20, 20]          16,384\n",
      "       BatchNorm2d-7          [-1, 128, 20, 20]             256\n",
      "         Hardswish-8          [-1, 128, 20, 20]               0\n",
      " AdaptiveAvgPool2d-9            [-1, 128, 1, 1]               0\n",
      "           Conv2d-10            [-1, 128, 1, 1]          16,384\n",
      "             ReLU-11            [-1, 128, 1, 1]               0\n",
      "           Conv2d-12            [-1, 128, 1, 1]          16,384\n",
      "AdaptiveMaxPool2d-13            [-1, 128, 1, 1]               0\n",
      "           Conv2d-14            [-1, 128, 1, 1]          16,384\n",
      "             ReLU-15            [-1, 128, 1, 1]               0\n",
      "           Conv2d-16            [-1, 128, 1, 1]          16,384\n",
      "          Sigmoid-17            [-1, 128, 1, 1]               0\n",
      " ChannelAttention-18            [-1, 128, 1, 1]               0\n",
      "           Conv2d-19            [-1, 1, 20, 20]              18\n",
      "          Sigmoid-20            [-1, 1, 20, 20]               0\n",
      " SpatialAttention-21            [-1, 1, 20, 20]               0\n",
      "        Conv_CBAM-22          [-1, 128, 20, 20]               0\n",
      "           Conv2d-23             [-1, 16, 6, 6]          10,384\n",
      "         ConvUnit-24             [-1, 16, 6, 6]               0\n",
      "           Conv2d-25             [-1, 16, 6, 6]          10,384\n",
      "         ConvUnit-26             [-1, 16, 6, 6]               0\n",
      "           Conv2d-27             [-1, 16, 6, 6]          10,384\n",
      "         ConvUnit-28             [-1, 16, 6, 6]               0\n",
      "           Conv2d-29             [-1, 16, 6, 6]          10,384\n",
      "         ConvUnit-30             [-1, 16, 6, 6]               0\n",
      "           Conv2d-31             [-1, 16, 6, 6]          10,384\n",
      "         ConvUnit-32             [-1, 16, 6, 6]               0\n",
      "           Conv2d-33             [-1, 16, 6, 6]          10,384\n",
      "         ConvUnit-34             [-1, 16, 6, 6]               0\n",
      "           Conv2d-35             [-1, 16, 6, 6]          10,384\n",
      "         ConvUnit-36             [-1, 16, 6, 6]               0\n",
      "           Conv2d-37             [-1, 16, 6, 6]          10,384\n",
      "         ConvUnit-38             [-1, 16, 6, 6]               0\n",
      "     Primary_Caps-39               [-1, 8, 576]               0\n",
      "      Digits_Caps-40             [-1, 7, 16, 1]               0\n",
      "================================================================\n",
      "Total params: 168,920\n",
      "Trainable params: 168,920\n",
      "Non-trainable params: 0\n",
      "----------------------------------------------------------------\n",
      "Input size (MB): 1.02\n",
      "Forward/backward pass size (MB): 55.89\n",
      "Params size (MB): 0.64\n",
      "Estimated Total Size (MB): 57.56\n",
      "----------------------------------------------------------------\n"
     ]
    }
   ],
   "source": [
    "# Create capsule network.\n",
    "conv_outputs = 128 #128_Feature_map\n",
    "num_primary_units = 8\n",
    "primary_unit_size = 16 * 6 * 6\n",
    "output_unit_size = 16\n",
    "img_size = 299\n",
    "network = FixCapsNet(conv_inputs= n_channels,\n",
    "                     conv_outputs=conv_outputs,\n",
    "                     num_primary_units=num_primary_units,\n",
    "                     primary_unit_size=primary_unit_size,\n",
    "                     output_unit_size=output_unit_size,\n",
    "                     num_classes=n_classes,\n",
    "                     init_weights=True)\n",
    "\n",
    "network = network.to(device)\n",
    "summary(network,(n_channels,img_size,img_size))\n",
    "# network"
   ]
  },
  {
   "cell_type": "code",
   "execution_count": 7,
   "metadata": {
    "execution": {
     "iopub.execute_input": "2022-05-01T16:04:07.452834Z",
     "iopub.status.busy": "2022-05-01T16:04:07.452834Z",
     "iopub.status.idle": "2022-05-01T16:04:07.517824Z",
     "shell.execute_reply": "2022-05-01T16:04:07.517824Z",
     "shell.execute_reply.started": "2022-05-01T16:04:07.452834Z"
    },
    "tags": []
   },
   "outputs": [],
   "source": [
    "learning_rate = 0.123\n",
    "optimizer = optim.Adam(network.parameters(), lr=learning_rate)\n",
    "scheduler = lr_scheduler.CosineAnnealingLR(optimizer, 5, eta_min=1e-8, last_epoch=-1)"
   ]
  },
  {
   "cell_type": "code",
   "execution_count": 8,
   "metadata": {
    "execution": {
     "iopub.execute_input": "2022-05-01T16:04:07.517824Z",
     "iopub.status.busy": "2022-05-01T16:04:07.517824Z",
     "iopub.status.idle": "2022-05-01T16:04:07.580345Z",
     "shell.execute_reply": "2022-05-01T16:04:07.580345Z",
     "shell.execute_reply.started": "2022-05-01T16:04:07.517824Z"
    },
    "tags": []
   },
   "outputs": [],
   "source": [
    "def confusion_matrix(evl_result):\n",
    "\n",
    "    plt.style.use(\"seaborn\")#classic\n",
    "    plt.yticks(range(n_classes),cla_dict.values())\n",
    "    plt.xticks(range(n_classes),cla_dict.values())    \n",
    "    plt.title(\"Confusion Matrix\")\n",
    "    plt.imshow(evl_result,cmap=plt.cm.Greens)\n",
    "    for i in range(len(evl_result)):\n",
    "        for j in range(len(evl_result[i])):\n",
    "            plt.text(j,i,int(evl_result[i][j]))\n",
    "\n",
    "    plt.colorbar()\n",
    "    plt.savefig(f\"./tmp/{img_title}/{suf}/Confusion Matrix.png\",dpi=128)"
   ]
  },
  {
   "cell_type": "code",
   "execution_count": 9,
   "metadata": {
    "execution": {
     "iopub.execute_input": "2022-05-01T16:04:07.580345Z",
     "iopub.status.busy": "2022-05-01T16:04:07.580345Z",
     "iopub.status.idle": "2022-05-01T16:04:07.642851Z",
     "shell.execute_reply": "2022-05-01T16:04:07.642851Z",
     "shell.execute_reply.started": "2022-05-01T16:04:07.580345Z"
    },
    "tags": []
   },
   "outputs": [],
   "source": [
    "def self_scores(opt=\"scores\"):\n",
    "    result_table = prettytable.PrettyTable()\n",
    "    result_table.field_names = ['Type','Precision', 'Recall', 'F1','Accuracy']    \n",
    "    accuracy = float(torch.sum(evl_result.diagonal())/torch.sum(evl_result))\n",
    "\n",
    "    for i in range(n_classes):\n",
    "        pre = float(evl_result[i][i] / torch.sum(evl_result,0)[i])#\n",
    "        recal = float(evl_result[i][i] / torch.sum(evl_result,1)[i])#torch.sum(result_table[i])\n",
    "        F1 = pre * recal * 2 / (pre + recal + 1e-7)\n",
    "        result_table.add_row([cla_dict[i], round(pre, 4), round(recal, 3), round(F1, 3),\" \"])\n",
    "\n",
    "    result_table.add_row([\"Total:\", \" \", \" \", \" \",round(accuracy,4)])\n",
    "    print(result_table)"
   ]
  },
  {
   "cell_type": "code",
   "execution_count": 10,
   "metadata": {
    "execution": {
     "iopub.execute_input": "2022-05-01T16:04:07.642851Z",
     "iopub.status.busy": "2022-05-01T16:04:07.642851Z",
     "iopub.status.idle": "2022-05-01T16:04:07.689671Z",
     "shell.execute_reply": "2022-05-01T16:04:07.689671Z",
     "shell.execute_reply.started": "2022-05-01T16:04:07.642851Z"
    },
    "tags": []
   },
   "outputs": [],
   "source": [
    "# Converts batches of class indices to classes of one-hot vectors.\n",
    "def to_one_hot(x, length):\n",
    "    batch_size = x.size(0)\n",
    "    x_one_hot = torch.zeros(batch_size, length)\n",
    "    for i in range(batch_size):\n",
    "        x_one_hot[i, x[i]] = 1.0\n",
    "    return x_one_hot"
   ]
  },
  {
   "cell_type": "code",
   "execution_count": 11,
   "metadata": {
    "execution": {
     "iopub.execute_input": "2022-05-01T16:04:07.689671Z",
     "iopub.status.busy": "2022-05-01T16:04:07.689671Z",
     "iopub.status.idle": "2022-05-01T16:04:07.752238Z",
     "shell.execute_reply": "2022-05-01T16:04:07.752238Z",
     "shell.execute_reply.started": "2022-05-01T16:04:07.689671Z"
    },
    "tags": [],
    "uuid": "86f92f63-16e2-4ca6-b5da-d848546a391e"
   },
   "outputs": [],
   "source": [
    "def train(epoch):\n",
    "    network.train()\n",
    "    running_loss,r_pre = 0., 0.\n",
    "    print_step = len(train_loader)//2\n",
    "    print(f'Epoch: [{epoch}] {img_title} ==> Training ...')\n",
    "    \n",
    "    for batch_idx, (data, target) in enumerate(tqdm(train_loader)):        \n",
    "        # target = torch.as_tensor(target, dtype=torch.int64)#for windows\n",
    "\n",
    "        batch_idx += 1\n",
    "        target_indices = target\n",
    "        target_one_hot = to_one_hot(target, length=n_classes)\n",
    "        data, target = Variable(data).to(device), Variable(target_one_hot).to(device)\n",
    "        optimizer.zero_grad()\n",
    "        output = network(data)\n",
    "\n",
    "        v_mag = torch.sqrt(torch.sum(output**2, dim=2, keepdim=True)) \n",
    "        pred = v_mag.data.max(1, keepdim=True)[1].cpu().squeeze()\n",
    "        r_pre += pred.eq(target_indices.view_as(pred)).squeeze().sum()\n",
    "        \n",
    "        loss = network.loss(output, target)\n",
    "        loss.backward()\n",
    "        optimizer.step()\n",
    "        running_loss += loss.item()\n",
    "        if batch_idx % print_step == 0:\n",
    "            print(\"[{}/{}] Loss{:.5f}, ACC:{:.5f}%\".format(batch_idx,len(train_loader),\n",
    "                                                           loss,\n",
    "                                                           r_pre/(batch_idx*BatchSize),))\n",
    "    epoch_acc = r_pre / train_num\n",
    "    epoch_loss = running_loss / len(train_loader)    \n",
    "    train_loss_list.append(epoch_loss)\n",
    "    train_acc_list.append(epoch_acc)\n",
    "    \n",
    "    print(f'Train_Loss: {epoch_loss},ACC:{round(float(epoch_acc),3)}%')   \n",
    "    scheduler.step()"
   ]
  },
  {
   "cell_type": "code",
   "execution_count": 12,
   "metadata": {
    "execution": {
     "iopub.execute_input": "2022-05-01T16:04:07.752238Z",
     "iopub.status.busy": "2022-05-01T16:04:07.752238Z",
     "iopub.status.idle": "2022-05-01T16:04:07.814703Z",
     "shell.execute_reply": "2022-05-01T16:04:07.814703Z",
     "shell.execute_reply.started": "2022-05-01T16:04:07.752238Z"
    },
    "tags": [],
    "uuid": "f010e769-677f-416b-8ce8-9f4186dce054"
   },
   "outputs": [],
   "source": [
    "def test():\n",
    "    network.eval()\n",
    "    global best_acc,evl_result,evl_tmp_result,net_parameters\n",
    "    cor_loss,correct,tmp_size, Acc=  0, 0, 0, 0\n",
    "    evl_tmp_result = torch.zeros(n_classes,n_classes)\n",
    "    steps_num = len(test_loader)#len(test_loader) * T_size\n",
    "    tmp_size = T_size\n",
    "    print(f'\\033[66m{img_title} ==> testing ...\\033[0m')\n",
    "    with torch.no_grad():\n",
    "        for batch_idx, (data, target) in enumerate(tqdm(test_loader)):\n",
    "\n",
    "            batch_idx +=1\n",
    "            target_indices = target\n",
    "            #torch.Size([128, 7]),tensor([[0., 0., 0., 0., 0., 1., 0.],...,[0., 0., 0., 0., 0., 1., 0.]])\n",
    "            target_one_hot = to_one_hot(target_indices, length=n_classes)            \n",
    "            data, target = Variable(data).to(device), Variable(target_one_hot).to(device)\n",
    "\n",
    "            output = network(data)#torch.Size([batch_size, 7, 16, 1])        \n",
    "            v_mag = torch.sqrt(torch.sum(output**2, dim=2, keepdim=True)) \n",
    "            pred = v_mag.data.max(1, keepdim=True)[1].cpu()#[9, 2, 1, 1, 6,..., 1, 4, 6, 5, 7,]  \n",
    "               \n",
    "            if batch_idx % steps_num == 0 and test_num % T_size != 0:\n",
    "                tmp_size = test_num % T_size\n",
    "\n",
    "            for i in range(tmp_size):\n",
    "                pred_y = pred.numpy()         \n",
    "                evl_tmp_result[target_indices[i]][pred[i]] +=1 \n",
    "    \n",
    "    diag_sum = torch.sum(evl_tmp_result.diagonal())\n",
    "    all_sum = torch.sum(evl_tmp_result)   \n",
    "    accuracy = 100. * float(torch.div(diag_sum,all_sum)) \n",
    "    test_acc_list.append(accuracy)\n",
    "    \n",
    "    print(f\"Test_Acc:\\033[1;32m{round(float(accuracy),3)}%\\033[0m\")\n",
    "\n",
    "    if accuracy > best_acc:\n",
    "        best_acc = accuracy\n",
    "        evl_result = evl_tmp_result.clone()#copy.deepcopy(input)\n",
    "        torch.save(network.state_dict(), save_PATH)\n",
    "        torch.save(evl_result, f'./tmp/{img_title}/{suf}/best_evl_result.pt')\n",
    "        \n",
    "    print(f'Best_ACC[\\033[1;32m{round(float(best_acc),3)}%\\033[0m]')"
   ]
  },
  {
   "cell_type": "code",
   "execution_count": 13,
   "metadata": {
    "execution": {
     "iopub.execute_input": "2022-05-01T16:04:07.814703Z",
     "iopub.status.busy": "2022-05-01T16:04:07.814703Z",
     "iopub.status.idle": "2022-05-01T16:04:07.892554Z",
     "shell.execute_reply": "2022-05-01T16:04:07.892554Z",
     "shell.execute_reply.started": "2022-05-01T16:04:07.814703Z"
    },
    "tags": []
   },
   "outputs": [
    {
     "name": "stdout",
     "output_type": "stream",
     "text": [
      "suf:0502_000407\n",
      "./tmp/HAM10000/0502_000407/best_HAM10000_0502_000407.pth\n"
     ]
    },
    {
     "name": "stderr",
     "output_type": "stream",
     "text": [
      "子目录或文件 #windows 已经存在。\n",
      "处理: #windows 时出错。\n"
     ]
    }
   ],
   "source": [
    "#create store\n",
    "try:\n",
    "    print(f\"suf:{suf}\")\n",
    "except NameError:\n",
    "    suf = time.strftime(\"%m%d_%H%M%S\", time.localtime())\n",
    "    print(f\"suf:{suf}\")\n",
    "if os.path.exists(f'./tmp/{img_title}/{suf}'):\n",
    "    print (f'Store: ./tmp/{img_title}/{suf}')\n",
    "else:\n",
    "#     !mkdir -p ./tmp/{img_title}/{suf} #linux\n",
    "    !md E:\\Jupyter\\woodman\\Caps\\FixCaps\\tmp\\{img_title}\\{suf} #windows\n",
    "save_PATH = f'./tmp/{img_title}/{suf}/best_{img_title}_{suf}.pth'\n",
    "print(save_PATH)"
   ]
  },
  {
   "cell_type": "code",
   "execution_count": 14,
   "metadata": {
    "execution": {
     "iopub.execute_input": "2022-05-01T16:04:07.892554Z",
     "iopub.status.busy": "2022-05-01T16:04:07.892554Z",
     "iopub.status.idle": "2022-05-01T16:04:07.955051Z",
     "shell.execute_reply": "2022-05-01T16:04:07.955051Z",
     "shell.execute_reply.started": "2022-05-01T16:04:07.892554Z"
    },
    "scrolled": true,
    "tags": [],
    "uuid": "edaf3774-de76-44a5-aabd-fb52532ea36e"
   },
   "outputs": [],
   "source": [
    "num_epochs = 150"
   ]
  },
  {
   "cell_type": "code",
   "execution_count": 15,
   "metadata": {
    "execution": {
     "iopub.execute_input": "2022-05-01T16:04:07.955051Z",
     "iopub.status.busy": "2022-05-01T16:04:07.955051Z",
     "iopub.status.idle": "2022-05-01T18:49:11.474291Z",
     "shell.execute_reply": "2022-05-01T18:49:11.474291Z",
     "shell.execute_reply.started": "2022-05-01T16:04:07.955051Z"
    },
    "scrolled": true,
    "tags": [],
    "uuid": "edaf3774-de76-44a5-aabd-fb52532ea36e"
   },
   "outputs": [
    {
     "name": "stdout",
     "output_type": "stream",
     "text": [
      "Epoch: [1] HAM10000 ==> Training ...\n"
     ]
    },
    {
     "data": {
      "application/vnd.jupyter.widget-view+json": {
       "model_id": "13600b3961e0480fb080dac44107b2a2",
       "version_major": 2,
       "version_minor": 0
      },
      "text/plain": [
       "  0%|          | 0/275 [00:00<?, ?it/s]"
      ]
     },
     "metadata": {},
     "output_type": "display_data"
    },
    {
     "name": "stdout",
     "output_type": "stream",
     "text": [
      "[137/275] Loss0.38900, ACC:0.31833%\n",
      "[274/275] Loss0.38110, ACC:0.37246%\n",
      "Train_Loss: 0.4051975733583624,ACC:0.373%\n",
      "\u001b[66mHAM10000 ==> testing ...\u001b[0m\n"
     ]
    },
    {
     "data": {
      "application/vnd.jupyter.widget-view+json": {
       "model_id": "5f254551aedb4550a8c6a761db359677",
       "version_major": 2,
       "version_minor": 0
      },
      "text/plain": [
       "  0%|          | 0/27 [00:00<?, ?it/s]"
      ]
     },
     "metadata": {},
     "output_type": "display_data"
    },
    {
     "name": "stdout",
     "output_type": "stream",
     "text": [
      "Test_Acc:\u001b[1;32m78.261%\u001b[0m\n",
      "Best_ACC[\u001b[1;32m78.261%\u001b[0m]\n",
      "Epoch: [2] HAM10000 ==> Training ...\n"
     ]
    },
    {
     "data": {
      "application/vnd.jupyter.widget-view+json": {
       "model_id": "1035221ad5a44eadab06a5293c18d293",
       "version_major": 2,
       "version_minor": 0
      },
      "text/plain": [
       "  0%|          | 0/275 [00:00<?, ?it/s]"
      ]
     },
     "metadata": {},
     "output_type": "display_data"
    },
    {
     "name": "stdout",
     "output_type": "stream",
     "text": [
      "[137/275] Loss0.32512, ACC:0.45640%\n",
      "[274/275] Loss0.33855, ACC:0.46148%\n",
      "Train_Loss: 0.3492355242642489,ACC:0.462%\n",
      "\u001b[66mHAM10000 ==> testing ...\u001b[0m\n"
     ]
    },
    {
     "data": {
      "application/vnd.jupyter.widget-view+json": {
       "model_id": "19971c57b6fa44d7a94db120896431f7",
       "version_major": 2,
       "version_minor": 0
      },
      "text/plain": [
       "  0%|          | 0/27 [00:00<?, ?it/s]"
      ]
     },
     "metadata": {},
     "output_type": "display_data"
    },
    {
     "name": "stdout",
     "output_type": "stream",
     "text": [
      "Test_Acc:\u001b[1;32m61.594%\u001b[0m\n",
      "Best_ACC[\u001b[1;32m78.261%\u001b[0m]\n",
      "Epoch: [3] HAM10000 ==> Training ...\n"
     ]
    },
    {
     "data": {
      "application/vnd.jupyter.widget-view+json": {
       "model_id": "0150611bebaf49ae9c59395aea6f918c",
       "version_major": 2,
       "version_minor": 0
      },
      "text/plain": [
       "  0%|          | 0/275 [00:00<?, ?it/s]"
      ]
     },
     "metadata": {},
     "output_type": "display_data"
    },
    {
     "name": "stdout",
     "output_type": "stream",
     "text": [
      "[137/275] Loss0.32908, ACC:0.48874%\n",
      "[274/275] Loss0.32721, ACC:0.49227%\n",
      "Train_Loss: 0.33107150782238354,ACC:0.492%\n",
      "\u001b[66mHAM10000 ==> testing ...\u001b[0m\n"
     ]
    },
    {
     "data": {
      "application/vnd.jupyter.widget-view+json": {
       "model_id": "6a18ab3cff66403aa398125aa084c759",
       "version_major": 2,
       "version_minor": 0
      },
      "text/plain": [
       "  0%|          | 0/27 [00:00<?, ?it/s]"
      ]
     },
     "metadata": {},
     "output_type": "display_data"
    },
    {
     "name": "stdout",
     "output_type": "stream",
     "text": [
      "Test_Acc:\u001b[1;32m64.734%\u001b[0m\n",
      "Best_ACC[\u001b[1;32m78.261%\u001b[0m]\n",
      "Epoch: [4] HAM10000 ==> Training ...\n"
     ]
    },
    {
     "data": {
      "application/vnd.jupyter.widget-view+json": {
       "model_id": "d5e95332c25b4357abcd74b12fd9d494",
       "version_major": 2,
       "version_minor": 0
      },
      "text/plain": [
       "  0%|          | 0/275 [00:00<?, ?it/s]"
      ]
     },
     "metadata": {},
     "output_type": "display_data"
    },
    {
     "name": "stdout",
     "output_type": "stream",
     "text": [
      "[137/275] Loss0.30874, ACC:0.51273%\n",
      "[274/275] Loss0.33111, ACC:0.51349%\n",
      "Train_Loss: 0.3166305586424741,ACC:0.513%\n",
      "\u001b[66mHAM10000 ==> testing ...\u001b[0m\n"
     ]
    },
    {
     "data": {
      "application/vnd.jupyter.widget-view+json": {
       "model_id": "b5fb6fbf84d645679417f261a57a9f25",
       "version_major": 2,
       "version_minor": 0
      },
      "text/plain": [
       "  0%|          | 0/27 [00:00<?, ?it/s]"
      ]
     },
     "metadata": {},
     "output_type": "display_data"
    },
    {
     "name": "stdout",
     "output_type": "stream",
     "text": [
      "Test_Acc:\u001b[1;32m81.159%\u001b[0m\n",
      "Best_ACC[\u001b[1;32m81.159%\u001b[0m]\n",
      "Epoch: [5] HAM10000 ==> Training ...\n"
     ]
    },
    {
     "data": {
      "application/vnd.jupyter.widget-view+json": {
       "model_id": "bd4925035d8f4486a87ecdc19085232f",
       "version_major": 2,
       "version_minor": 0
      },
      "text/plain": [
       "  0%|          | 0/275 [00:00<?, ?it/s]"
      ]
     },
     "metadata": {},
     "output_type": "display_data"
    },
    {
     "name": "stdout",
     "output_type": "stream",
     "text": [
      "[137/275] Loss0.32146, ACC:0.52873%\n",
      "[274/275] Loss0.29695, ACC:0.53232%\n",
      "Train_Loss: 0.3061523549123244,ACC:0.532%\n",
      "\u001b[66mHAM10000 ==> testing ...\u001b[0m\n"
     ]
    },
    {
     "data": {
      "application/vnd.jupyter.widget-view+json": {
       "model_id": "3c6062df4a7c4f7680665074f8010ddf",
       "version_major": 2,
       "version_minor": 0
      },
      "text/plain": [
       "  0%|          | 0/27 [00:00<?, ?it/s]"
      ]
     },
     "metadata": {},
     "output_type": "display_data"
    },
    {
     "name": "stdout",
     "output_type": "stream",
     "text": [
      "Test_Acc:\u001b[1;32m82.367%\u001b[0m\n",
      "Best_ACC[\u001b[1;32m82.367%\u001b[0m]\n",
      "Epoch: [6] HAM10000 ==> Training ...\n"
     ]
    },
    {
     "data": {
      "application/vnd.jupyter.widget-view+json": {
       "model_id": "888e3958f2ce4f109ebad6ff21ab7fdc",
       "version_major": 2,
       "version_minor": 0
      },
      "text/plain": [
       "  0%|          | 0/275 [00:00<?, ?it/s]"
      ]
     },
     "metadata": {},
     "output_type": "display_data"
    },
    {
     "name": "stdout",
     "output_type": "stream",
     "text": [
      "[137/275] Loss0.30214, ACC:0.53351%\n",
      "[274/275] Loss0.33160, ACC:0.53469%\n",
      "Train_Loss: 0.3044995746829293,ACC:0.535%\n",
      "\u001b[66mHAM10000 ==> testing ...\u001b[0m\n"
     ]
    },
    {
     "data": {
      "application/vnd.jupyter.widget-view+json": {
       "model_id": "6a673103eca94773ac9c31aaa3704d9d",
       "version_major": 2,
       "version_minor": 0
      },
      "text/plain": [
       "  0%|          | 0/27 [00:00<?, ?it/s]"
      ]
     },
     "metadata": {},
     "output_type": "display_data"
    },
    {
     "name": "stdout",
     "output_type": "stream",
     "text": [
      "Test_Acc:\u001b[1;32m83.816%\u001b[0m\n",
      "Best_ACC[\u001b[1;32m83.816%\u001b[0m]\n",
      "Epoch: [7] HAM10000 ==> Training ...\n"
     ]
    },
    {
     "data": {
      "application/vnd.jupyter.widget-view+json": {
       "model_id": "db5de443825d4e45973850b3eea242b8",
       "version_major": 2,
       "version_minor": 0
      },
      "text/plain": [
       "  0%|          | 0/275 [00:00<?, ?it/s]"
      ]
     },
     "metadata": {},
     "output_type": "display_data"
    },
    {
     "name": "stdout",
     "output_type": "stream",
     "text": [
      "[137/275] Loss0.28870, ACC:0.54158%\n",
      "[274/275] Loss0.30168, ACC:0.54020%\n",
      "Train_Loss: 0.3020496980710463,ACC:0.54%\n",
      "\u001b[66mHAM10000 ==> testing ...\u001b[0m\n"
     ]
    },
    {
     "data": {
      "application/vnd.jupyter.widget-view+json": {
       "model_id": "6fc1bd035c144a1dbe75eb6f2daa73ba",
       "version_major": 2,
       "version_minor": 0
      },
      "text/plain": [
       "  0%|          | 0/27 [00:00<?, ?it/s]"
      ]
     },
     "metadata": {},
     "output_type": "display_data"
    },
    {
     "name": "stdout",
     "output_type": "stream",
     "text": [
      "Test_Acc:\u001b[1;32m80.072%\u001b[0m\n",
      "Best_ACC[\u001b[1;32m83.816%\u001b[0m]\n",
      "Epoch: [8] HAM10000 ==> Training ...\n"
     ]
    },
    {
     "data": {
      "application/vnd.jupyter.widget-view+json": {
       "model_id": "239cf9fe974a4eb1a7159f57941aa0b2",
       "version_major": 2,
       "version_minor": 0
      },
      "text/plain": [
       "  0%|          | 0/275 [00:00<?, ?it/s]"
      ]
     },
     "metadata": {},
     "output_type": "display_data"
    },
    {
     "name": "stdout",
     "output_type": "stream",
     "text": [
      "[137/275] Loss0.27331, ACC:0.53541%\n",
      "[274/275] Loss0.30311, ACC:0.53840%\n",
      "Train_Loss: 0.30260888088833204,ACC:0.539%\n",
      "\u001b[66mHAM10000 ==> testing ...\u001b[0m\n"
     ]
    },
    {
     "data": {
      "application/vnd.jupyter.widget-view+json": {
       "model_id": "b69ddc8e321d44e8b40a582d91ac95d5",
       "version_major": 2,
       "version_minor": 0
      },
      "text/plain": [
       "  0%|          | 0/27 [00:00<?, ?it/s]"
      ]
     },
     "metadata": {},
     "output_type": "display_data"
    },
    {
     "name": "stdout",
     "output_type": "stream",
     "text": [
      "Test_Acc:\u001b[1;32m78.382%\u001b[0m\n",
      "Best_ACC[\u001b[1;32m83.816%\u001b[0m]\n",
      "Epoch: [9] HAM10000 ==> Training ...\n"
     ]
    },
    {
     "data": {
      "application/vnd.jupyter.widget-view+json": {
       "model_id": "086925e3ec53483f8bc9736f3b71670b",
       "version_major": 2,
       "version_minor": 0
      },
      "text/plain": [
       "  0%|          | 0/275 [00:00<?, ?it/s]"
      ]
     },
     "metadata": {},
     "output_type": "display_data"
    },
    {
     "name": "stdout",
     "output_type": "stream",
     "text": [
      "[137/275] Loss0.29996, ACC:0.54636%\n",
      "[274/275] Loss0.27910, ACC:0.55195%\n",
      "Train_Loss: 0.298932567726482,ACC:0.552%\n",
      "\u001b[66mHAM10000 ==> testing ...\u001b[0m\n"
     ]
    },
    {
     "data": {
      "application/vnd.jupyter.widget-view+json": {
       "model_id": "f4119586b4894e5a83d118a3a6a73579",
       "version_major": 2,
       "version_minor": 0
      },
      "text/plain": [
       "  0%|          | 0/27 [00:00<?, ?it/s]"
      ]
     },
     "metadata": {},
     "output_type": "display_data"
    },
    {
     "name": "stdout",
     "output_type": "stream",
     "text": [
      "Test_Acc:\u001b[1;32m81.763%\u001b[0m\n",
      "Best_ACC[\u001b[1;32m83.816%\u001b[0m]\n",
      "Epoch: [10] HAM10000 ==> Training ...\n"
     ]
    },
    {
     "data": {
      "application/vnd.jupyter.widget-view+json": {
       "model_id": "ffb675ff165447d2906e72cdb6fc9618",
       "version_major": 2,
       "version_minor": 0
      },
      "text/plain": [
       "  0%|          | 0/275 [00:00<?, ?it/s]"
      ]
     },
     "metadata": {},
     "output_type": "display_data"
    },
    {
     "name": "stdout",
     "output_type": "stream",
     "text": [
      "[137/275] Loss0.28199, ACC:0.55921%\n",
      "[274/275] Loss0.28293, ACC:0.56554%\n",
      "Train_Loss: 0.2896763958714225,ACC:0.566%\n",
      "\u001b[66mHAM10000 ==> testing ...\u001b[0m\n"
     ]
    },
    {
     "data": {
      "application/vnd.jupyter.widget-view+json": {
       "model_id": "9c00546e66704c9b90b4f4074bc79baf",
       "version_major": 2,
       "version_minor": 0
      },
      "text/plain": [
       "  0%|          | 0/27 [00:00<?, ?it/s]"
      ]
     },
     "metadata": {},
     "output_type": "display_data"
    },
    {
     "name": "stdout",
     "output_type": "stream",
     "text": [
      "Test_Acc:\u001b[1;32m83.575%\u001b[0m\n",
      "Best_ACC[\u001b[1;32m83.816%\u001b[0m]\n",
      "Epoch: [11] HAM10000 ==> Training ...\n"
     ]
    },
    {
     "data": {
      "application/vnd.jupyter.widget-view+json": {
       "model_id": "658e13e0e9e049ea950b023db275f67e",
       "version_major": 2,
       "version_minor": 0
      },
      "text/plain": [
       "  0%|          | 0/275 [00:00<?, ?it/s]"
      ]
     },
     "metadata": {},
     "output_type": "display_data"
    },
    {
     "name": "stdout",
     "output_type": "stream",
     "text": [
      "[137/275] Loss0.27987, ACC:0.58196%\n",
      "[274/275] Loss0.28665, ACC:0.58309%\n",
      "Train_Loss: 0.28041763349012894,ACC:0.583%\n",
      "\u001b[66mHAM10000 ==> testing ...\u001b[0m\n"
     ]
    },
    {
     "data": {
      "application/vnd.jupyter.widget-view+json": {
       "model_id": "c62c73de414c490382773039d676a579",
       "version_major": 2,
       "version_minor": 0
      },
      "text/plain": [
       "  0%|          | 0/27 [00:00<?, ?it/s]"
      ]
     },
     "metadata": {},
     "output_type": "display_data"
    },
    {
     "name": "stdout",
     "output_type": "stream",
     "text": [
      "Test_Acc:\u001b[1;32m62.319%\u001b[0m\n",
      "Best_ACC[\u001b[1;32m83.816%\u001b[0m]\n",
      "Epoch: [12] HAM10000 ==> Training ...\n"
     ]
    },
    {
     "data": {
      "application/vnd.jupyter.widget-view+json": {
       "model_id": "22c68237eb0e454d9fe8be8c737686dc",
       "version_major": 2,
       "version_minor": 0
      },
      "text/plain": [
       "  0%|          | 0/275 [00:00<?, ?it/s]"
      ]
     },
     "metadata": {},
     "output_type": "display_data"
    },
    {
     "name": "stdout",
     "output_type": "stream",
     "text": [
      "[137/275] Loss0.26719, ACC:0.59376%\n",
      "[274/275] Loss0.28177, ACC:0.59598%\n",
      "Train_Loss: 0.27273339618336073,ACC:0.596%\n",
      "\u001b[66mHAM10000 ==> testing ...\u001b[0m\n"
     ]
    },
    {
     "data": {
      "application/vnd.jupyter.widget-view+json": {
       "model_id": "8aba01b5e3c94a16bef7d66f8c8742b7",
       "version_major": 2,
       "version_minor": 0
      },
      "text/plain": [
       "  0%|          | 0/27 [00:00<?, ?it/s]"
      ]
     },
     "metadata": {},
     "output_type": "display_data"
    },
    {
     "name": "stdout",
     "output_type": "stream",
     "text": [
      "Test_Acc:\u001b[1;32m62.44%\u001b[0m\n",
      "Best_ACC[\u001b[1;32m83.816%\u001b[0m]\n",
      "Epoch: [13] HAM10000 ==> Training ...\n"
     ]
    },
    {
     "data": {
      "application/vnd.jupyter.widget-view+json": {
       "model_id": "36c97d00c34b4d989595a337aefeed38",
       "version_major": 2,
       "version_minor": 0
      },
      "text/plain": [
       "  0%|          | 0/275 [00:00<?, ?it/s]"
      ]
     },
     "metadata": {},
     "output_type": "display_data"
    },
    {
     "name": "stdout",
     "output_type": "stream",
     "text": [
      "[137/275] Loss0.28019, ACC:0.61046%\n",
      "[274/275] Loss0.25284, ACC:0.61215%\n",
      "Train_Loss: 0.26338164773854345,ACC:0.612%\n",
      "\u001b[66mHAM10000 ==> testing ...\u001b[0m\n"
     ]
    },
    {
     "data": {
      "application/vnd.jupyter.widget-view+json": {
       "model_id": "ed720f8791fa4240979cf016667fb9de",
       "version_major": 2,
       "version_minor": 0
      },
      "text/plain": [
       "  0%|          | 0/27 [00:00<?, ?it/s]"
      ]
     },
     "metadata": {},
     "output_type": "display_data"
    },
    {
     "name": "stdout",
     "output_type": "stream",
     "text": [
      "Test_Acc:\u001b[1;32m80.918%\u001b[0m\n",
      "Best_ACC[\u001b[1;32m83.816%\u001b[0m]\n",
      "Epoch: [14] HAM10000 ==> Training ...\n"
     ]
    },
    {
     "data": {
      "application/vnd.jupyter.widget-view+json": {
       "model_id": "9138594713db47218494f8c983911c16",
       "version_major": 2,
       "version_minor": 0
      },
      "text/plain": [
       "  0%|          | 0/275 [00:00<?, ?it/s]"
      ]
     },
     "metadata": {},
     "output_type": "display_data"
    },
    {
     "name": "stdout",
     "output_type": "stream",
     "text": [
      "[137/275] Loss0.26984, ACC:0.62230%\n",
      "[274/275] Loss0.26943, ACC:0.62566%\n",
      "Train_Loss: 0.25493517436764457,ACC:0.626%\n",
      "\u001b[66mHAM10000 ==> testing ...\u001b[0m\n"
     ]
    },
    {
     "data": {
      "application/vnd.jupyter.widget-view+json": {
       "model_id": "b66c0bf6601b4dd3bc303fb27171d93e",
       "version_major": 2,
       "version_minor": 0
      },
      "text/plain": [
       "  0%|          | 0/27 [00:00<?, ?it/s]"
      ]
     },
     "metadata": {},
     "output_type": "display_data"
    },
    {
     "name": "stdout",
     "output_type": "stream",
     "text": [
      "Test_Acc:\u001b[1;32m78.382%\u001b[0m\n",
      "Best_ACC[\u001b[1;32m83.816%\u001b[0m]\n",
      "Epoch: [15] HAM10000 ==> Training ...\n"
     ]
    },
    {
     "data": {
      "application/vnd.jupyter.widget-view+json": {
       "model_id": "177f1197cdc54b6db8a74b303cdb02e4",
       "version_major": 2,
       "version_minor": 0
      },
      "text/plain": [
       "  0%|          | 0/275 [00:00<?, ?it/s]"
      ]
     },
     "metadata": {},
     "output_type": "display_data"
    },
    {
     "name": "stdout",
     "output_type": "stream",
     "text": [
      "[137/275] Loss0.22863, ACC:0.63476%\n",
      "[274/275] Loss0.24742, ACC:0.63377%\n",
      "Train_Loss: 0.24874085783958436,ACC:0.634%\n",
      "\u001b[66mHAM10000 ==> testing ...\u001b[0m\n"
     ]
    },
    {
     "data": {
      "application/vnd.jupyter.widget-view+json": {
       "model_id": "110b6c7e840b48b09b757eb9b1674a38",
       "version_major": 2,
       "version_minor": 0
      },
      "text/plain": [
       "  0%|          | 0/27 [00:00<?, ?it/s]"
      ]
     },
     "metadata": {},
     "output_type": "display_data"
    },
    {
     "name": "stdout",
     "output_type": "stream",
     "text": [
      "Test_Acc:\u001b[1;32m81.28%\u001b[0m\n",
      "Best_ACC[\u001b[1;32m83.816%\u001b[0m]\n",
      "Epoch: [16] HAM10000 ==> Training ...\n"
     ]
    },
    {
     "data": {
      "application/vnd.jupyter.widget-view+json": {
       "model_id": "b51d3841fc7043e991008f1da2256c2f",
       "version_major": 2,
       "version_minor": 0
      },
      "text/plain": [
       "  0%|          | 0/275 [00:00<?, ?it/s]"
      ]
     },
     "metadata": {},
     "output_type": "display_data"
    },
    {
     "name": "stdout",
     "output_type": "stream",
     "text": [
      "[137/275] Loss0.24876, ACC:0.63224%\n",
      "[274/275] Loss0.26162, ACC:0.63665%\n",
      "Train_Loss: 0.24742356430400503,ACC:0.637%\n",
      "\u001b[66mHAM10000 ==> testing ...\u001b[0m\n"
     ]
    },
    {
     "data": {
      "application/vnd.jupyter.widget-view+json": {
       "model_id": "7a68895f74fd498792cc61dbbe66cc77",
       "version_major": 2,
       "version_minor": 0
      },
      "text/plain": [
       "  0%|          | 0/27 [00:00<?, ?it/s]"
      ]
     },
     "metadata": {},
     "output_type": "display_data"
    },
    {
     "name": "stdout",
     "output_type": "stream",
     "text": [
      "Test_Acc:\u001b[1;32m81.401%\u001b[0m\n",
      "Best_ACC[\u001b[1;32m83.816%\u001b[0m]\n",
      "Epoch: [17] HAM10000 ==> Training ...\n"
     ]
    },
    {
     "data": {
      "application/vnd.jupyter.widget-view+json": {
       "model_id": "b9d7b343cb654318abceb000079543bc",
       "version_major": 2,
       "version_minor": 0
      },
      "text/plain": [
       "  0%|          | 0/275 [00:00<?, ?it/s]"
      ]
     },
     "metadata": {},
     "output_type": "display_data"
    },
    {
     "name": "stdout",
     "output_type": "stream",
     "text": [
      "[137/275] Loss0.25286, ACC:0.63197%\n",
      "[274/275] Loss0.25643, ACC:0.63432%\n",
      "Train_Loss: 0.24806237166578118,ACC:0.634%\n",
      "\u001b[66mHAM10000 ==> testing ...\u001b[0m\n"
     ]
    },
    {
     "data": {
      "application/vnd.jupyter.widget-view+json": {
       "model_id": "59936c3abba44a239cbaa69bcac366f0",
       "version_major": 2,
       "version_minor": 0
      },
      "text/plain": [
       "  0%|          | 0/27 [00:00<?, ?it/s]"
      ]
     },
     "metadata": {},
     "output_type": "display_data"
    },
    {
     "name": "stdout",
     "output_type": "stream",
     "text": [
      "Test_Acc:\u001b[1;32m73.671%\u001b[0m\n",
      "Best_ACC[\u001b[1;32m83.816%\u001b[0m]\n",
      "Epoch: [18] HAM10000 ==> Training ...\n"
     ]
    },
    {
     "data": {
      "application/vnd.jupyter.widget-view+json": {
       "model_id": "68a54a82918541828108a9da55e19288",
       "version_major": 2,
       "version_minor": 0
      },
      "text/plain": [
       "  0%|          | 0/275 [00:00<?, ?it/s]"
      ]
     },
     "metadata": {},
     "output_type": "display_data"
    },
    {
     "name": "stdout",
     "output_type": "stream",
     "text": [
      "[137/275] Loss0.24152, ACC:0.63546%\n",
      "[274/275] Loss0.23352, ACC:0.63391%\n",
      "Train_Loss: 0.25108244023539805,ACC:0.634%\n",
      "\u001b[66mHAM10000 ==> testing ...\u001b[0m\n"
     ]
    },
    {
     "data": {
      "application/vnd.jupyter.widget-view+json": {
       "model_id": "338a28ed1bb24b40816b2847d70d12b8",
       "version_major": 2,
       "version_minor": 0
      },
      "text/plain": [
       "  0%|          | 0/27 [00:00<?, ?it/s]"
      ]
     },
     "metadata": {},
     "output_type": "display_data"
    },
    {
     "name": "stdout",
     "output_type": "stream",
     "text": [
      "Test_Acc:\u001b[1;32m38.889%\u001b[0m\n",
      "Best_ACC[\u001b[1;32m83.816%\u001b[0m]\n",
      "Epoch: [19] HAM10000 ==> Training ...\n"
     ]
    },
    {
     "data": {
      "application/vnd.jupyter.widget-view+json": {
       "model_id": "1363d7630162409a9185bd404fed1584",
       "version_major": 2,
       "version_minor": 0
      },
      "text/plain": [
       "  0%|          | 0/275 [00:00<?, ?it/s]"
      ]
     },
     "metadata": {},
     "output_type": "display_data"
    },
    {
     "name": "stdout",
     "output_type": "stream",
     "text": [
      "[137/275] Loss0.26742, ACC:0.63096%\n",
      "[274/275] Loss0.25779, ACC:0.63086%\n",
      "Train_Loss: 0.2533131429823962,ACC:0.631%\n",
      "\u001b[66mHAM10000 ==> testing ...\u001b[0m\n"
     ]
    },
    {
     "data": {
      "application/vnd.jupyter.widget-view+json": {
       "model_id": "d9407ad2ed39482eb293408539040b6f",
       "version_major": 2,
       "version_minor": 0
      },
      "text/plain": [
       "  0%|          | 0/27 [00:00<?, ?it/s]"
      ]
     },
     "metadata": {},
     "output_type": "display_data"
    },
    {
     "name": "stdout",
     "output_type": "stream",
     "text": [
      "Test_Acc:\u001b[1;32m85.145%\u001b[0m\n",
      "Best_ACC[\u001b[1;32m85.145%\u001b[0m]\n",
      "Epoch: [20] HAM10000 ==> Training ...\n"
     ]
    },
    {
     "data": {
      "application/vnd.jupyter.widget-view+json": {
       "model_id": "0ad49e53eeb94c5c9379368e91638351",
       "version_major": 2,
       "version_minor": 0
      },
      "text/plain": [
       "  0%|          | 0/275 [00:00<?, ?it/s]"
      ]
     },
     "metadata": {},
     "output_type": "display_data"
    },
    {
     "name": "stdout",
     "output_type": "stream",
     "text": [
      "[137/275] Loss0.25928, ACC:0.62230%\n",
      "[274/275] Loss0.27245, ACC:0.62601%\n",
      "Train_Loss: 0.256608796173876,ACC:0.626%\n",
      "\u001b[66mHAM10000 ==> testing ...\u001b[0m\n"
     ]
    },
    {
     "data": {
      "application/vnd.jupyter.widget-view+json": {
       "model_id": "0506cd35641e4b33b0a63cae15a186e4",
       "version_major": 2,
       "version_minor": 0
      },
      "text/plain": [
       "  0%|          | 0/27 [00:00<?, ?it/s]"
      ]
     },
     "metadata": {},
     "output_type": "display_data"
    },
    {
     "name": "stdout",
     "output_type": "stream",
     "text": [
      "Test_Acc:\u001b[1;32m72.585%\u001b[0m\n",
      "Best_ACC[\u001b[1;32m85.145%\u001b[0m]\n",
      "Epoch: [21] HAM10000 ==> Training ...\n"
     ]
    },
    {
     "data": {
      "application/vnd.jupyter.widget-view+json": {
       "model_id": "b09a619ef2284dea909a1860552c71d7",
       "version_major": 2,
       "version_minor": 0
      },
      "text/plain": [
       "  0%|          | 0/275 [00:00<?, ?it/s]"
      ]
     },
     "metadata": {},
     "output_type": "display_data"
    },
    {
     "name": "stdout",
     "output_type": "stream",
     "text": [
      "[137/275] Loss0.24171, ACC:0.62715%\n",
      "[274/275] Loss0.25429, ACC:0.62828%\n",
      "Train_Loss: 0.2534500502998179,ACC:0.628%\n",
      "\u001b[66mHAM10000 ==> testing ...\u001b[0m\n"
     ]
    },
    {
     "data": {
      "application/vnd.jupyter.widget-view+json": {
       "model_id": "378d6b826296463d8b06b19489f81352",
       "version_major": 2,
       "version_minor": 0
      },
      "text/plain": [
       "  0%|          | 0/27 [00:00<?, ?it/s]"
      ]
     },
     "metadata": {},
     "output_type": "display_data"
    },
    {
     "name": "stdout",
     "output_type": "stream",
     "text": [
      "Test_Acc:\u001b[1;32m65.7%\u001b[0m\n",
      "Best_ACC[\u001b[1;32m85.145%\u001b[0m]\n",
      "Epoch: [22] HAM10000 ==> Training ...\n"
     ]
    },
    {
     "data": {
      "application/vnd.jupyter.widget-view+json": {
       "model_id": "087598df532043df92400fa247a3625f",
       "version_major": 2,
       "version_minor": 0
      },
      "text/plain": [
       "  0%|          | 0/275 [00:00<?, ?it/s]"
      ]
     },
     "metadata": {},
     "output_type": "display_data"
    },
    {
     "name": "stdout",
     "output_type": "stream",
     "text": [
      "[137/275] Loss0.24812, ACC:0.63709%\n",
      "[274/275] Loss0.25978, ACC:0.63645%\n",
      "Train_Loss: 0.2501041978055781,ACC:0.636%\n",
      "\u001b[66mHAM10000 ==> testing ...\u001b[0m\n"
     ]
    },
    {
     "data": {
      "application/vnd.jupyter.widget-view+json": {
       "model_id": "51a4f4c48a1e41a384809d7a5fa3e9eb",
       "version_major": 2,
       "version_minor": 0
      },
      "text/plain": [
       "  0%|          | 0/27 [00:00<?, ?it/s]"
      ]
     },
     "metadata": {},
     "output_type": "display_data"
    },
    {
     "name": "stdout",
     "output_type": "stream",
     "text": [
      "Test_Acc:\u001b[1;32m31.884%\u001b[0m\n",
      "Best_ACC[\u001b[1;32m85.145%\u001b[0m]\n",
      "Epoch: [23] HAM10000 ==> Training ...\n"
     ]
    },
    {
     "data": {
      "application/vnd.jupyter.widget-view+json": {
       "model_id": "f428685c7c5b4b72b540f10fe245aca1",
       "version_major": 2,
       "version_minor": 0
      },
      "text/plain": [
       "  0%|          | 0/275 [00:00<?, ?it/s]"
      ]
     },
     "metadata": {},
     "output_type": "display_data"
    },
    {
     "name": "stdout",
     "output_type": "stream",
     "text": [
      "[137/275] Loss0.26963, ACC:0.65262%\n",
      "[274/275] Loss0.25303, ACC:0.64800%\n",
      "Train_Loss: 0.24221336267211221,ACC:0.648%\n",
      "\u001b[66mHAM10000 ==> testing ...\u001b[0m\n"
     ]
    },
    {
     "data": {
      "application/vnd.jupyter.widget-view+json": {
       "model_id": "b14e65a7c39f41d1b2a1a63973795a05",
       "version_major": 2,
       "version_minor": 0
      },
      "text/plain": [
       "  0%|          | 0/27 [00:00<?, ?it/s]"
      ]
     },
     "metadata": {},
     "output_type": "display_data"
    },
    {
     "name": "stdout",
     "output_type": "stream",
     "text": [
      "Test_Acc:\u001b[1;32m15.459%\u001b[0m\n",
      "Best_ACC[\u001b[1;32m85.145%\u001b[0m]\n",
      "Epoch: [24] HAM10000 ==> Training ...\n"
     ]
    },
    {
     "data": {
      "application/vnd.jupyter.widget-view+json": {
       "model_id": "ad2487a576d74b68b0804a98644487dc",
       "version_major": 2,
       "version_minor": 0
      },
      "text/plain": [
       "  0%|          | 0/275 [00:00<?, ?it/s]"
      ]
     },
     "metadata": {},
     "output_type": "display_data"
    },
    {
     "name": "stdout",
     "output_type": "stream",
     "text": [
      "[137/275] Loss0.24155, ACC:0.65775%\n",
      "[274/275] Loss0.23571, ACC:0.65752%\n",
      "Train_Loss: 0.23639845403757961,ACC:0.657%\n",
      "\u001b[66mHAM10000 ==> testing ...\u001b[0m\n"
     ]
    },
    {
     "data": {
      "application/vnd.jupyter.widget-view+json": {
       "model_id": "b8564bacb32d4cdba39d738891c7a623",
       "version_major": 2,
       "version_minor": 0
      },
      "text/plain": [
       "  0%|          | 0/27 [00:00<?, ?it/s]"
      ]
     },
     "metadata": {},
     "output_type": "display_data"
    },
    {
     "name": "stdout",
     "output_type": "stream",
     "text": [
      "Test_Acc:\u001b[1;32m62.198%\u001b[0m\n",
      "Best_ACC[\u001b[1;32m85.145%\u001b[0m]\n",
      "Epoch: [25] HAM10000 ==> Training ...\n"
     ]
    },
    {
     "data": {
      "application/vnd.jupyter.widget-view+json": {
       "model_id": "889c514bb1a74701b6930184ba3279b9",
       "version_major": 2,
       "version_minor": 0
      },
      "text/plain": [
       "  0%|          | 0/275 [00:00<?, ?it/s]"
      ]
     },
     "metadata": {},
     "output_type": "display_data"
    },
    {
     "name": "stdout",
     "output_type": "stream",
     "text": [
      "[137/275] Loss0.24451, ACC:0.66392%\n",
      "[274/275] Loss0.22323, ACC:0.66431%\n",
      "Train_Loss: 0.23224358336492018,ACC:0.664%\n",
      "\u001b[66mHAM10000 ==> testing ...\u001b[0m\n"
     ]
    },
    {
     "data": {
      "application/vnd.jupyter.widget-view+json": {
       "model_id": "e8ea37a5d7d44732a52463e20ab9e82f",
       "version_major": 2,
       "version_minor": 0
      },
      "text/plain": [
       "  0%|          | 0/27 [00:00<?, ?it/s]"
      ]
     },
     "metadata": {},
     "output_type": "display_data"
    },
    {
     "name": "stdout",
     "output_type": "stream",
     "text": [
      "Test_Acc:\u001b[1;32m85.145%\u001b[0m\n",
      "Best_ACC[\u001b[1;32m85.145%\u001b[0m]\n",
      "Epoch: [26] HAM10000 ==> Training ...\n"
     ]
    },
    {
     "data": {
      "application/vnd.jupyter.widget-view+json": {
       "model_id": "c9572d3681494060a43e242679a8194f",
       "version_major": 2,
       "version_minor": 0
      },
      "text/plain": [
       "  0%|          | 0/275 [00:00<?, ?it/s]"
      ]
     },
     "metadata": {},
     "output_type": "display_data"
    },
    {
     "name": "stdout",
     "output_type": "stream",
     "text": [
      "[137/275] Loss0.22419, ACC:0.66715%\n",
      "[274/275] Loss0.20657, ACC:0.66798%\n",
      "Train_Loss: 0.22940539235418492,ACC:0.668%\n",
      "\u001b[66mHAM10000 ==> testing ...\u001b[0m\n"
     ]
    },
    {
     "data": {
      "application/vnd.jupyter.widget-view+json": {
       "model_id": "69f8c1812b834cd39a84c80d6eb0cea4",
       "version_major": 2,
       "version_minor": 0
      },
      "text/plain": [
       "  0%|          | 0/27 [00:00<?, ?it/s]"
      ]
     },
     "metadata": {},
     "output_type": "display_data"
    },
    {
     "name": "stdout",
     "output_type": "stream",
     "text": [
      "Test_Acc:\u001b[1;32m76.208%\u001b[0m\n",
      "Best_ACC[\u001b[1;32m85.145%\u001b[0m]\n",
      "Epoch: [27] HAM10000 ==> Training ...\n"
     ]
    },
    {
     "data": {
      "application/vnd.jupyter.widget-view+json": {
       "model_id": "ab55689051444182a41ad7bc3868ace5",
       "version_major": 2,
       "version_minor": 0
      },
      "text/plain": [
       "  0%|          | 0/275 [00:00<?, ?it/s]"
      ]
     },
     "metadata": {},
     "output_type": "display_data"
    },
    {
     "name": "stdout",
     "output_type": "stream",
     "text": [
      "[137/275] Loss0.20958, ACC:0.66540%\n",
      "[274/275] Loss0.24183, ACC:0.66746%\n",
      "Train_Loss: 0.23082742149179633,ACC:0.668%\n",
      "\u001b[66mHAM10000 ==> testing ...\u001b[0m\n"
     ]
    },
    {
     "data": {
      "application/vnd.jupyter.widget-view+json": {
       "model_id": "3b6e4a7fd8a040d0a68cb5aa680ebe76",
       "version_major": 2,
       "version_minor": 0
      },
      "text/plain": [
       "  0%|          | 0/27 [00:00<?, ?it/s]"
      ]
     },
     "metadata": {},
     "output_type": "display_data"
    },
    {
     "name": "stdout",
     "output_type": "stream",
     "text": [
      "Test_Acc:\u001b[1;32m76.691%\u001b[0m\n",
      "Best_ACC[\u001b[1;32m85.145%\u001b[0m]\n",
      "Epoch: [28] HAM10000 ==> Training ...\n"
     ]
    },
    {
     "data": {
      "application/vnd.jupyter.widget-view+json": {
       "model_id": "68474deb202a4d2c9687e8c60b7786c6",
       "version_major": 2,
       "version_minor": 0
      },
      "text/plain": [
       "  0%|          | 0/275 [00:00<?, ?it/s]"
      ]
     },
     "metadata": {},
     "output_type": "display_data"
    },
    {
     "name": "stdout",
     "output_type": "stream",
     "text": [
      "[137/275] Loss0.24890, ACC:0.66676%\n",
      "[274/275] Loss0.23180, ACC:0.66485%\n",
      "Train_Loss: 0.23322895456444134,ACC:0.665%\n",
      "\u001b[66mHAM10000 ==> testing ...\u001b[0m\n"
     ]
    },
    {
     "data": {
      "application/vnd.jupyter.widget-view+json": {
       "model_id": "7c89b29243ce4ee7a8798046a4440e5e",
       "version_major": 2,
       "version_minor": 0
      },
      "text/plain": [
       "  0%|          | 0/27 [00:00<?, ?it/s]"
      ]
     },
     "metadata": {},
     "output_type": "display_data"
    },
    {
     "name": "stdout",
     "output_type": "stream",
     "text": [
      "Test_Acc:\u001b[1;32m88.164%\u001b[0m\n",
      "Best_ACC[\u001b[1;32m88.164%\u001b[0m]\n",
      "Epoch: [29] HAM10000 ==> Training ...\n"
     ]
    },
    {
     "data": {
      "application/vnd.jupyter.widget-view+json": {
       "model_id": "84b28c46b5574a67b28971bcccdf6ea6",
       "version_major": 2,
       "version_minor": 0
      },
      "text/plain": [
       "  0%|          | 0/275 [00:00<?, ?it/s]"
      ]
     },
     "metadata": {},
     "output_type": "display_data"
    },
    {
     "name": "stdout",
     "output_type": "stream",
     "text": [
      "[137/275] Loss0.20955, ACC:0.65635%\n",
      "[274/275] Loss0.23849, ACC:0.65501%\n",
      "Train_Loss: 0.2393397432565689,ACC:0.655%\n",
      "\u001b[66mHAM10000 ==> testing ...\u001b[0m\n"
     ]
    },
    {
     "data": {
      "application/vnd.jupyter.widget-view+json": {
       "model_id": "16af7035d9e54ad086bb7a12ef3e6450",
       "version_major": 2,
       "version_minor": 0
      },
      "text/plain": [
       "  0%|          | 0/27 [00:00<?, ?it/s]"
      ]
     },
     "metadata": {},
     "output_type": "display_data"
    },
    {
     "name": "stdout",
     "output_type": "stream",
     "text": [
      "Test_Acc:\u001b[1;32m88.406%\u001b[0m\n",
      "Best_ACC[\u001b[1;32m88.406%\u001b[0m]\n",
      "Epoch: [30] HAM10000 ==> Training ...\n"
     ]
    },
    {
     "data": {
      "application/vnd.jupyter.widget-view+json": {
       "model_id": "6cc93eeeb27646f7bd932146f1f0e679",
       "version_major": 2,
       "version_minor": 0
      },
      "text/plain": [
       "  0%|          | 0/275 [00:00<?, ?it/s]"
      ]
     },
     "metadata": {},
     "output_type": "display_data"
    },
    {
     "name": "stdout",
     "output_type": "stream",
     "text": [
      "[137/275] Loss0.21558, ACC:0.64804%\n",
      "[274/275] Loss0.22655, ACC:0.64991%\n",
      "Train_Loss: 0.2418495763431896,ACC:0.65%\n",
      "\u001b[66mHAM10000 ==> testing ...\u001b[0m\n"
     ]
    },
    {
     "data": {
      "application/vnd.jupyter.widget-view+json": {
       "model_id": "d6f48c15a3374287a7baf4c2b8a41a5a",
       "version_major": 2,
       "version_minor": 0
      },
      "text/plain": [
       "  0%|          | 0/27 [00:00<?, ?it/s]"
      ]
     },
     "metadata": {},
     "output_type": "display_data"
    },
    {
     "name": "stdout",
     "output_type": "stream",
     "text": [
      "Test_Acc:\u001b[1;32m61.715%\u001b[0m\n",
      "Best_ACC[\u001b[1;32m88.406%\u001b[0m]\n",
      "Epoch: [31] HAM10000 ==> Training ...\n"
     ]
    },
    {
     "data": {
      "application/vnd.jupyter.widget-view+json": {
       "model_id": "3aa0c7a78d0842d3b222c892cd12b3f9",
       "version_major": 2,
       "version_minor": 0
      },
      "text/plain": [
       "  0%|          | 0/275 [00:00<?, ?it/s]"
      ]
     },
     "metadata": {},
     "output_type": "display_data"
    },
    {
     "name": "stdout",
     "output_type": "stream",
     "text": [
      "[137/275] Loss0.23822, ACC:0.65651%\n",
      "[274/275] Loss0.22170, ACC:0.65492%\n",
      "Train_Loss: 0.23971706953915684,ACC:0.655%\n",
      "\u001b[66mHAM10000 ==> testing ...\u001b[0m\n"
     ]
    },
    {
     "data": {
      "application/vnd.jupyter.widget-view+json": {
       "model_id": "c8b5275171944140a1d555a94ba080b8",
       "version_major": 2,
       "version_minor": 0
      },
      "text/plain": [
       "  0%|          | 0/27 [00:00<?, ?it/s]"
      ]
     },
     "metadata": {},
     "output_type": "display_data"
    },
    {
     "name": "stdout",
     "output_type": "stream",
     "text": [
      "Test_Acc:\u001b[1;32m63.768%\u001b[0m\n",
      "Best_ACC[\u001b[1;32m88.406%\u001b[0m]\n",
      "Epoch: [32] HAM10000 ==> Training ...\n"
     ]
    },
    {
     "data": {
      "application/vnd.jupyter.widget-view+json": {
       "model_id": "c4a648356a7c453da8d3e57c3d7b324f",
       "version_major": 2,
       "version_minor": 0
      },
      "text/plain": [
       "  0%|          | 0/275 [00:00<?, ?it/s]"
      ]
     },
     "metadata": {},
     "output_type": "display_data"
    },
    {
     "name": "stdout",
     "output_type": "stream",
     "text": [
      "[137/275] Loss0.22603, ACC:0.65899%\n",
      "[274/275] Loss0.24489, ACC:0.65825%\n",
      "Train_Loss: 0.23725209301168268,ACC:0.658%\n",
      "\u001b[66mHAM10000 ==> testing ...\u001b[0m\n"
     ]
    },
    {
     "data": {
      "application/vnd.jupyter.widget-view+json": {
       "model_id": "3a0b401771624e2585f88a9e4182c33d",
       "version_major": 2,
       "version_minor": 0
      },
      "text/plain": [
       "  0%|          | 0/27 [00:00<?, ?it/s]"
      ]
     },
     "metadata": {},
     "output_type": "display_data"
    },
    {
     "name": "stdout",
     "output_type": "stream",
     "text": [
      "Test_Acc:\u001b[1;32m44.686%\u001b[0m\n",
      "Best_ACC[\u001b[1;32m88.406%\u001b[0m]\n",
      "Epoch: [33] HAM10000 ==> Training ...\n"
     ]
    },
    {
     "data": {
      "application/vnd.jupyter.widget-view+json": {
       "model_id": "468ae04eccf948fea25aa3977097ada5",
       "version_major": 2,
       "version_minor": 0
      },
      "text/plain": [
       "  0%|          | 0/275 [00:00<?, ?it/s]"
      ]
     },
     "metadata": {},
     "output_type": "display_data"
    },
    {
     "name": "stdout",
     "output_type": "stream",
     "text": [
      "[137/275] Loss0.21647, ACC:0.66773%\n",
      "[274/275] Loss0.21764, ACC:0.66678%\n",
      "Train_Loss: 0.23214637230743063,ACC:0.667%\n",
      "\u001b[66mHAM10000 ==> testing ...\u001b[0m\n"
     ]
    },
    {
     "data": {
      "application/vnd.jupyter.widget-view+json": {
       "model_id": "c8cce0e0913649829cda0ecac4a3e9b3",
       "version_major": 2,
       "version_minor": 0
      },
      "text/plain": [
       "  0%|          | 0/27 [00:00<?, ?it/s]"
      ]
     },
     "metadata": {},
     "output_type": "display_data"
    },
    {
     "name": "stdout",
     "output_type": "stream",
     "text": [
      "Test_Acc:\u001b[1;32m83.333%\u001b[0m\n",
      "Best_ACC[\u001b[1;32m88.406%\u001b[0m]\n",
      "Epoch: [34] HAM10000 ==> Training ...\n"
     ]
    },
    {
     "data": {
      "application/vnd.jupyter.widget-view+json": {
       "model_id": "377ef1fd0a4043caac13a3430d97e7b4",
       "version_major": 2,
       "version_minor": 0
      },
      "text/plain": [
       "  0%|          | 0/275 [00:00<?, ?it/s]"
      ]
     },
     "metadata": {},
     "output_type": "display_data"
    },
    {
     "name": "stdout",
     "output_type": "stream",
     "text": [
      "[137/275] Loss0.21767, ACC:0.67398%\n",
      "[274/275] Loss0.23195, ACC:0.67782%\n",
      "Train_Loss: 0.22598366704854098,ACC:0.678%\n",
      "\u001b[66mHAM10000 ==> testing ...\u001b[0m\n"
     ]
    },
    {
     "data": {
      "application/vnd.jupyter.widget-view+json": {
       "model_id": "67724a4b845942308bbc23712313152e",
       "version_major": 2,
       "version_minor": 0
      },
      "text/plain": [
       "  0%|          | 0/27 [00:00<?, ?it/s]"
      ]
     },
     "metadata": {},
     "output_type": "display_data"
    },
    {
     "name": "stdout",
     "output_type": "stream",
     "text": [
      "Test_Acc:\u001b[1;32m85.87%\u001b[0m\n",
      "Best_ACC[\u001b[1;32m88.406%\u001b[0m]\n",
      "Epoch: [35] HAM10000 ==> Training ...\n"
     ]
    },
    {
     "data": {
      "application/vnd.jupyter.widget-view+json": {
       "model_id": "63b6534e25844919b322929680452f0e",
       "version_major": 2,
       "version_minor": 0
      },
      "text/plain": [
       "  0%|          | 0/275 [00:00<?, ?it/s]"
      ]
     },
     "metadata": {},
     "output_type": "display_data"
    },
    {
     "name": "stdout",
     "output_type": "stream",
     "text": [
      "[137/275] Loss0.20344, ACC:0.68279%\n",
      "[274/275] Loss0.22853, ACC:0.68528%\n",
      "Train_Loss: 0.2213291408257051,ACC:0.685%\n",
      "\u001b[66mHAM10000 ==> testing ...\u001b[0m\n"
     ]
    },
    {
     "data": {
      "application/vnd.jupyter.widget-view+json": {
       "model_id": "486e192aafa94438bcb2b30d3889daf6",
       "version_major": 2,
       "version_minor": 0
      },
      "text/plain": [
       "  0%|          | 0/27 [00:00<?, ?it/s]"
      ]
     },
     "metadata": {},
     "output_type": "display_data"
    },
    {
     "name": "stdout",
     "output_type": "stream",
     "text": [
      "Test_Acc:\u001b[1;32m67.15%\u001b[0m\n",
      "Best_ACC[\u001b[1;32m88.406%\u001b[0m]\n",
      "Epoch: [36] HAM10000 ==> Training ...\n"
     ]
    },
    {
     "data": {
      "application/vnd.jupyter.widget-view+json": {
       "model_id": "1a143b1e94064e53823526f45ff4bd07",
       "version_major": 2,
       "version_minor": 0
      },
      "text/plain": [
       "  0%|          | 0/275 [00:00<?, ?it/s]"
      ]
     },
     "metadata": {},
     "output_type": "display_data"
    },
    {
     "name": "stdout",
     "output_type": "stream",
     "text": [
      "[137/275] Loss0.22910, ACC:0.68640%\n",
      "[274/275] Loss0.22164, ACC:0.68656%\n",
      "Train_Loss: 0.22119017140431838,ACC:0.687%\n",
      "\u001b[66mHAM10000 ==> testing ...\u001b[0m\n"
     ]
    },
    {
     "data": {
      "application/vnd.jupyter.widget-view+json": {
       "model_id": "a598287cdc7845d9b392148b7f9ce025",
       "version_major": 2,
       "version_minor": 0
      },
      "text/plain": [
       "  0%|          | 0/27 [00:00<?, ?it/s]"
      ]
     },
     "metadata": {},
     "output_type": "display_data"
    },
    {
     "name": "stdout",
     "output_type": "stream",
     "text": [
      "Test_Acc:\u001b[1;32m77.899%\u001b[0m\n",
      "Best_ACC[\u001b[1;32m88.406%\u001b[0m]\n",
      "Epoch: [37] HAM10000 ==> Training ...\n"
     ]
    },
    {
     "data": {
      "application/vnd.jupyter.widget-view+json": {
       "model_id": "0d078550144143b19b57e248e9094d68",
       "version_major": 2,
       "version_minor": 0
      },
      "text/plain": [
       "  0%|          | 0/275 [00:00<?, ?it/s]"
      ]
     },
     "metadata": {},
     "output_type": "display_data"
    },
    {
     "name": "stdout",
     "output_type": "stream",
     "text": [
      "[137/275] Loss0.22164, ACC:0.68687%\n",
      "[274/275] Loss0.21516, ACC:0.68372%\n",
      "Train_Loss: 0.22123075691136446,ACC:0.684%\n",
      "\u001b[66mHAM10000 ==> testing ...\u001b[0m\n"
     ]
    },
    {
     "data": {
      "application/vnd.jupyter.widget-view+json": {
       "model_id": "ee8adcade1514b2b8e1b2e76d8a39855",
       "version_major": 2,
       "version_minor": 0
      },
      "text/plain": [
       "  0%|          | 0/27 [00:00<?, ?it/s]"
      ]
     },
     "metadata": {},
     "output_type": "display_data"
    },
    {
     "name": "stdout",
     "output_type": "stream",
     "text": [
      "Test_Acc:\u001b[1;32m88.043%\u001b[0m\n",
      "Best_ACC[\u001b[1;32m88.406%\u001b[0m]\n",
      "Epoch: [38] HAM10000 ==> Training ...\n"
     ]
    },
    {
     "data": {
      "application/vnd.jupyter.widget-view+json": {
       "model_id": "f9019ea9f7ee4700b66a0522faff3668",
       "version_major": 2,
       "version_minor": 0
      },
      "text/plain": [
       "  0%|          | 0/275 [00:00<?, ?it/s]"
      ]
     },
     "metadata": {},
     "output_type": "display_data"
    },
    {
     "name": "stdout",
     "output_type": "stream",
     "text": [
      "[137/275] Loss0.22758, ACC:0.68050%\n",
      "[274/275] Loss0.19307, ACC:0.68023%\n",
      "Train_Loss: 0.2241890034350482,ACC:0.68%\n",
      "\u001b[66mHAM10000 ==> testing ...\u001b[0m\n"
     ]
    },
    {
     "data": {
      "application/vnd.jupyter.widget-view+json": {
       "model_id": "b9344a47f3684ee39ef8dbe233fd9085",
       "version_major": 2,
       "version_minor": 0
      },
      "text/plain": [
       "  0%|          | 0/27 [00:00<?, ?it/s]"
      ]
     },
     "metadata": {},
     "output_type": "display_data"
    },
    {
     "name": "stdout",
     "output_type": "stream",
     "text": [
      "Test_Acc:\u001b[1;32m60.87%\u001b[0m\n",
      "Best_ACC[\u001b[1;32m88.406%\u001b[0m]\n",
      "Epoch: [39] HAM10000 ==> Training ...\n"
     ]
    },
    {
     "data": {
      "application/vnd.jupyter.widget-view+json": {
       "model_id": "d4a9bc474c104b6ab830e74a84b7fe5f",
       "version_major": 2,
       "version_minor": 0
      },
      "text/plain": [
       "  0%|          | 0/275 [00:00<?, ?it/s]"
      ]
     },
     "metadata": {},
     "output_type": "display_data"
    },
    {
     "name": "stdout",
     "output_type": "stream",
     "text": [
      "[137/275] Loss0.20466, ACC:0.67611%\n",
      "[274/275] Loss0.23395, ACC:0.67522%\n",
      "Train_Loss: 0.2285563404451717,ACC:0.675%\n",
      "\u001b[66mHAM10000 ==> testing ...\u001b[0m\n"
     ]
    },
    {
     "data": {
      "application/vnd.jupyter.widget-view+json": {
       "model_id": "9a2e3203cd8c4fa0bfa035a1b6b1cbed",
       "version_major": 2,
       "version_minor": 0
      },
      "text/plain": [
       "  0%|          | 0/27 [00:00<?, ?it/s]"
      ]
     },
     "metadata": {},
     "output_type": "display_data"
    },
    {
     "name": "stdout",
     "output_type": "stream",
     "text": [
      "Test_Acc:\u001b[1;32m84.541%\u001b[0m\n",
      "Best_ACC[\u001b[1;32m88.406%\u001b[0m]\n",
      "Epoch: [40] HAM10000 ==> Training ...\n"
     ]
    },
    {
     "data": {
      "application/vnd.jupyter.widget-view+json": {
       "model_id": "47da395a46074f7fbbb37868d2ac2c6c",
       "version_major": 2,
       "version_minor": 0
      },
      "text/plain": [
       "  0%|          | 0/275 [00:00<?, ?it/s]"
      ]
     },
     "metadata": {},
     "output_type": "display_data"
    },
    {
     "name": "stdout",
     "output_type": "stream",
     "text": [
      "[137/275] Loss0.24090, ACC:0.67083%\n",
      "[274/275] Loss0.22998, ACC:0.66940%\n",
      "Train_Loss: 0.23167976569045673,ACC:0.669%\n",
      "\u001b[66mHAM10000 ==> testing ...\u001b[0m\n"
     ]
    },
    {
     "data": {
      "application/vnd.jupyter.widget-view+json": {
       "model_id": "6031b133126e4fb8bb131e2b50ee4dea",
       "version_major": 2,
       "version_minor": 0
      },
      "text/plain": [
       "  0%|          | 0/27 [00:00<?, ?it/s]"
      ]
     },
     "metadata": {},
     "output_type": "display_data"
    },
    {
     "name": "stdout",
     "output_type": "stream",
     "text": [
      "Test_Acc:\u001b[1;32m63.647%\u001b[0m\n",
      "Best_ACC[\u001b[1;32m88.406%\u001b[0m]\n",
      "Epoch: [41] HAM10000 ==> Training ...\n"
     ]
    },
    {
     "data": {
      "application/vnd.jupyter.widget-view+json": {
       "model_id": "c7591279e13c4b82bd6670b967cd9357",
       "version_major": 2,
       "version_minor": 0
      },
      "text/plain": [
       "  0%|          | 0/275 [00:00<?, ?it/s]"
      ]
     },
     "metadata": {},
     "output_type": "display_data"
    },
    {
     "name": "stdout",
     "output_type": "stream",
     "text": [
      "[137/275] Loss0.20995, ACC:0.66874%\n",
      "[274/275] Loss0.26133, ACC:0.66924%\n",
      "Train_Loss: 0.2312473787502809,ACC:0.669%\n",
      "\u001b[66mHAM10000 ==> testing ...\u001b[0m\n"
     ]
    },
    {
     "data": {
      "application/vnd.jupyter.widget-view+json": {
       "model_id": "c9b71a96cdeb46cdb4e1e4a7095e444c",
       "version_major": 2,
       "version_minor": 0
      },
      "text/plain": [
       "  0%|          | 0/27 [00:00<?, ?it/s]"
      ]
     },
     "metadata": {},
     "output_type": "display_data"
    },
    {
     "name": "stdout",
     "output_type": "stream",
     "text": [
      "Test_Acc:\u001b[1;32m72.101%\u001b[0m\n",
      "Best_ACC[\u001b[1;32m88.406%\u001b[0m]\n",
      "Epoch: [42] HAM10000 ==> Training ...\n"
     ]
    },
    {
     "data": {
      "application/vnd.jupyter.widget-view+json": {
       "model_id": "7bb816beb23d4d9fa11a38d8f4d93e93",
       "version_major": 2,
       "version_minor": 0
      },
      "text/plain": [
       "  0%|          | 0/275 [00:00<?, ?it/s]"
      ]
     },
     "metadata": {},
     "output_type": "display_data"
    },
    {
     "name": "stdout",
     "output_type": "stream",
     "text": [
      "[137/275] Loss0.22600, ACC:0.66777%\n",
      "[274/275] Loss0.24544, ACC:0.67043%\n",
      "Train_Loss: 0.23020711026408455,ACC:0.671%\n",
      "\u001b[66mHAM10000 ==> testing ...\u001b[0m\n"
     ]
    },
    {
     "data": {
      "application/vnd.jupyter.widget-view+json": {
       "model_id": "565aef1e5ce44d469eed971db72c6bd6",
       "version_major": 2,
       "version_minor": 0
      },
      "text/plain": [
       "  0%|          | 0/27 [00:00<?, ?it/s]"
      ]
     },
     "metadata": {},
     "output_type": "display_data"
    },
    {
     "name": "stdout",
     "output_type": "stream",
     "text": [
      "Test_Acc:\u001b[1;32m90.58%\u001b[0m\n",
      "Best_ACC[\u001b[1;32m90.58%\u001b[0m]\n",
      "Epoch: [43] HAM10000 ==> Training ...\n"
     ]
    },
    {
     "data": {
      "application/vnd.jupyter.widget-view+json": {
       "model_id": "5f5c09b8a3d0465687f7509a29702db9",
       "version_major": 2,
       "version_minor": 0
      },
      "text/plain": [
       "  0%|          | 0/275 [00:00<?, ?it/s]"
      ]
     },
     "metadata": {},
     "output_type": "display_data"
    },
    {
     "name": "stdout",
     "output_type": "stream",
     "text": [
      "[137/275] Loss0.21920, ACC:0.68143%\n",
      "[274/275] Loss0.24202, ACC:0.68136%\n",
      "Train_Loss: 0.22450107319788498,ACC:0.681%\n",
      "\u001b[66mHAM10000 ==> testing ...\u001b[0m\n"
     ]
    },
    {
     "data": {
      "application/vnd.jupyter.widget-view+json": {
       "model_id": "5f62f3f03143462d91f29622cb5dad26",
       "version_major": 2,
       "version_minor": 0
      },
      "text/plain": [
       "  0%|          | 0/27 [00:00<?, ?it/s]"
      ]
     },
     "metadata": {},
     "output_type": "display_data"
    },
    {
     "name": "stdout",
     "output_type": "stream",
     "text": [
      "Test_Acc:\u001b[1;32m87.802%\u001b[0m\n",
      "Best_ACC[\u001b[1;32m90.58%\u001b[0m]\n",
      "Epoch: [44] HAM10000 ==> Training ...\n"
     ]
    },
    {
     "data": {
      "application/vnd.jupyter.widget-view+json": {
       "model_id": "2655da415db34caba2e8f251ef84a7c1",
       "version_major": 2,
       "version_minor": 0
      },
      "text/plain": [
       "  0%|          | 0/275 [00:00<?, ?it/s]"
      ]
     },
     "metadata": {},
     "output_type": "display_data"
    },
    {
     "name": "stdout",
     "output_type": "stream",
     "text": [
      "[137/275] Loss0.21972, ACC:0.69370%\n",
      "[274/275] Loss0.18644, ACC:0.69434%\n",
      "Train_Loss: 0.21787877868522298,ACC:0.694%\n",
      "\u001b[66mHAM10000 ==> testing ...\u001b[0m\n"
     ]
    },
    {
     "data": {
      "application/vnd.jupyter.widget-view+json": {
       "model_id": "b06ac7dbc56a4c028c5b382eefa448a2",
       "version_major": 2,
       "version_minor": 0
      },
      "text/plain": [
       "  0%|          | 0/27 [00:00<?, ?it/s]"
      ]
     },
     "metadata": {},
     "output_type": "display_data"
    },
    {
     "name": "stdout",
     "output_type": "stream",
     "text": [
      "Test_Acc:\u001b[1;32m90.097%\u001b[0m\n",
      "Best_ACC[\u001b[1;32m90.58%\u001b[0m]\n",
      "Epoch: [45] HAM10000 ==> Training ...\n"
     ]
    },
    {
     "data": {
      "application/vnd.jupyter.widget-view+json": {
       "model_id": "8dc9c711c7434b7880ccbf1482c97ea2",
       "version_major": 2,
       "version_minor": 0
      },
      "text/plain": [
       "  0%|          | 0/275 [00:00<?, ?it/s]"
      ]
     },
     "metadata": {},
     "output_type": "display_data"
    },
    {
     "name": "stdout",
     "output_type": "stream",
     "text": [
      "[137/275] Loss0.21932, ACC:0.69463%\n",
      "[274/275] Loss0.22568, ACC:0.69696%\n",
      "Train_Loss: 0.21444884500720285,ACC:0.697%\n",
      "\u001b[66mHAM10000 ==> testing ...\u001b[0m\n"
     ]
    },
    {
     "data": {
      "application/vnd.jupyter.widget-view+json": {
       "model_id": "dff53216d40e400a8f5145ae45fd5362",
       "version_major": 2,
       "version_minor": 0
      },
      "text/plain": [
       "  0%|          | 0/27 [00:00<?, ?it/s]"
      ]
     },
     "metadata": {},
     "output_type": "display_data"
    },
    {
     "name": "stdout",
     "output_type": "stream",
     "text": [
      "Test_Acc:\u001b[1;32m91.184%\u001b[0m\n",
      "Best_ACC[\u001b[1;32m91.184%\u001b[0m]\n",
      "Epoch: [46] HAM10000 ==> Training ...\n"
     ]
    },
    {
     "data": {
      "application/vnd.jupyter.widget-view+json": {
       "model_id": "3d034e382c774318a4748f5f524c197a",
       "version_major": 2,
       "version_minor": 0
      },
      "text/plain": [
       "  0%|          | 0/275 [00:00<?, ?it/s]"
      ]
     },
     "metadata": {},
     "output_type": "display_data"
    },
    {
     "name": "stdout",
     "output_type": "stream",
     "text": [
      "[137/275] Loss0.20614, ACC:0.69984%\n",
      "[274/275] Loss0.20042, ACC:0.69910%\n",
      "Train_Loss: 0.21347852116281335,ACC:0.699%\n",
      "\u001b[66mHAM10000 ==> testing ...\u001b[0m\n"
     ]
    },
    {
     "data": {
      "application/vnd.jupyter.widget-view+json": {
       "model_id": "6b6f8000a16a411d9883acb6075a8dec",
       "version_major": 2,
       "version_minor": 0
      },
      "text/plain": [
       "  0%|          | 0/27 [00:00<?, ?it/s]"
      ]
     },
     "metadata": {},
     "output_type": "display_data"
    },
    {
     "name": "stdout",
     "output_type": "stream",
     "text": [
      "Test_Acc:\u001b[1;32m91.787%\u001b[0m\n",
      "Best_ACC[\u001b[1;32m91.787%\u001b[0m]\n",
      "Epoch: [47] HAM10000 ==> Training ...\n"
     ]
    },
    {
     "data": {
      "application/vnd.jupyter.widget-view+json": {
       "model_id": "5d6814c8fe1f457e95d07dd3d72d270a",
       "version_major": 2,
       "version_minor": 0
      },
      "text/plain": [
       "  0%|          | 0/275 [00:00<?, ?it/s]"
      ]
     },
     "metadata": {},
     "output_type": "display_data"
    },
    {
     "name": "stdout",
     "output_type": "stream",
     "text": [
      "[137/275] Loss0.20238, ACC:0.70085%\n",
      "[274/275] Loss0.19995, ACC:0.69914%\n",
      "Train_Loss: 0.21364539623260498,ACC:0.699%\n",
      "\u001b[66mHAM10000 ==> testing ...\u001b[0m\n"
     ]
    },
    {
     "data": {
      "application/vnd.jupyter.widget-view+json": {
       "model_id": "017fea5b70594d69ad9c7a23a5de9d5e",
       "version_major": 2,
       "version_minor": 0
      },
      "text/plain": [
       "  0%|          | 0/27 [00:00<?, ?it/s]"
      ]
     },
     "metadata": {},
     "output_type": "display_data"
    },
    {
     "name": "stdout",
     "output_type": "stream",
     "text": [
      "Test_Acc:\u001b[1;32m92.271%\u001b[0m\n",
      "Best_ACC[\u001b[1;32m92.271%\u001b[0m]\n",
      "Epoch: [48] HAM10000 ==> Training ...\n"
     ]
    },
    {
     "data": {
      "application/vnd.jupyter.widget-view+json": {
       "model_id": "c2b334ef7a054ae0a6e8f1b5f83ba724",
       "version_major": 2,
       "version_minor": 0
      },
      "text/plain": [
       "  0%|          | 0/275 [00:00<?, ?it/s]"
      ]
     },
     "metadata": {},
     "output_type": "display_data"
    },
    {
     "name": "stdout",
     "output_type": "stream",
     "text": [
      "[137/275] Loss0.21920, ACC:0.69199%\n",
      "[274/275] Loss0.20258, ACC:0.69469%\n",
      "Train_Loss: 0.2162558383291418,ACC:0.695%\n",
      "\u001b[66mHAM10000 ==> testing ...\u001b[0m\n"
     ]
    },
    {
     "data": {
      "application/vnd.jupyter.widget-view+json": {
       "model_id": "c231f1ae562245d8b5b17be8d8151359",
       "version_major": 2,
       "version_minor": 0
      },
      "text/plain": [
       "  0%|          | 0/27 [00:00<?, ?it/s]"
      ]
     },
     "metadata": {},
     "output_type": "display_data"
    },
    {
     "name": "stdout",
     "output_type": "stream",
     "text": [
      "Test_Acc:\u001b[1;32m85.749%\u001b[0m\n",
      "Best_ACC[\u001b[1;32m92.271%\u001b[0m]\n",
      "Epoch: [49] HAM10000 ==> Training ...\n"
     ]
    },
    {
     "data": {
      "application/vnd.jupyter.widget-view+json": {
       "model_id": "906f8fe140ce4a69bacd01b6269193dd",
       "version_major": 2,
       "version_minor": 0
      },
      "text/plain": [
       "  0%|          | 0/275 [00:00<?, ?it/s]"
      ]
     },
     "metadata": {},
     "output_type": "display_data"
    },
    {
     "name": "stdout",
     "output_type": "stream",
     "text": [
      "[137/275] Loss0.23382, ACC:0.68275%\n",
      "[274/275] Loss0.22020, ACC:0.68343%\n",
      "Train_Loss: 0.22355421949516643,ACC:0.683%\n",
      "\u001b[66mHAM10000 ==> testing ...\u001b[0m\n"
     ]
    },
    {
     "data": {
      "application/vnd.jupyter.widget-view+json": {
       "model_id": "960948b39f874a70a7dff7501b6a7a50",
       "version_major": 2,
       "version_minor": 0
      },
      "text/plain": [
       "  0%|          | 0/27 [00:00<?, ?it/s]"
      ]
     },
     "metadata": {},
     "output_type": "display_data"
    },
    {
     "name": "stdout",
     "output_type": "stream",
     "text": [
      "Test_Acc:\u001b[1;32m35.749%\u001b[0m\n",
      "Best_ACC[\u001b[1;32m92.271%\u001b[0m]\n",
      "Epoch: [50] HAM10000 ==> Training ...\n"
     ]
    },
    {
     "data": {
      "application/vnd.jupyter.widget-view+json": {
       "model_id": "70620e749373467eb1163abc5ed95ac4",
       "version_major": 2,
       "version_minor": 0
      },
      "text/plain": [
       "  0%|          | 0/275 [00:00<?, ?it/s]"
      ]
     },
     "metadata": {},
     "output_type": "display_data"
    },
    {
     "name": "stdout",
     "output_type": "stream",
     "text": [
      "[137/275] Loss0.21840, ACC:0.68147%\n",
      "[274/275] Loss0.20355, ACC:0.68105%\n",
      "Train_Loss: 0.22518647508187728,ACC:0.681%\n",
      "\u001b[66mHAM10000 ==> testing ...\u001b[0m\n"
     ]
    },
    {
     "data": {
      "application/vnd.jupyter.widget-view+json": {
       "model_id": "c385664b6faa415091309767ecdbf286",
       "version_major": 2,
       "version_minor": 0
      },
      "text/plain": [
       "  0%|          | 0/27 [00:00<?, ?it/s]"
      ]
     },
     "metadata": {},
     "output_type": "display_data"
    },
    {
     "name": "stdout",
     "output_type": "stream",
     "text": [
      "Test_Acc:\u001b[1;32m90.217%\u001b[0m\n",
      "Best_ACC[\u001b[1;32m92.271%\u001b[0m]\n",
      "Epoch: [51] HAM10000 ==> Training ...\n"
     ]
    },
    {
     "data": {
      "application/vnd.jupyter.widget-view+json": {
       "model_id": "07bb415bf6a242249abe5c0de710d152",
       "version_major": 2,
       "version_minor": 0
      },
      "text/plain": [
       "  0%|          | 0/275 [00:00<?, ?it/s]"
      ]
     },
     "metadata": {},
     "output_type": "display_data"
    },
    {
     "name": "stdout",
     "output_type": "stream",
     "text": [
      "[137/275] Loss0.22669, ACC:0.68454%\n",
      "[274/275] Loss0.23877, ACC:0.68306%\n",
      "Train_Loss: 0.22434652496467938,ACC:0.683%\n",
      "\u001b[66mHAM10000 ==> testing ...\u001b[0m\n"
     ]
    },
    {
     "data": {
      "application/vnd.jupyter.widget-view+json": {
       "model_id": "de9e8b1f3d544db49b21e020c68ce057",
       "version_major": 2,
       "version_minor": 0
      },
      "text/plain": [
       "  0%|          | 0/27 [00:00<?, ?it/s]"
      ]
     },
     "metadata": {},
     "output_type": "display_data"
    },
    {
     "name": "stdout",
     "output_type": "stream",
     "text": [
      "Test_Acc:\u001b[1;32m85.628%\u001b[0m\n",
      "Best_ACC[\u001b[1;32m92.271%\u001b[0m]\n",
      "Epoch: [52] HAM10000 ==> Training ...\n"
     ]
    },
    {
     "data": {
      "application/vnd.jupyter.widget-view+json": {
       "model_id": "32a6e201d12d40d79429b9754335dd93",
       "version_major": 2,
       "version_minor": 0
      },
      "text/plain": [
       "  0%|          | 0/275 [00:00<?, ?it/s]"
      ]
     },
     "metadata": {},
     "output_type": "display_data"
    },
    {
     "name": "stdout",
     "output_type": "stream",
     "text": [
      "[137/275] Loss0.21896, ACC:0.68687%\n",
      "[274/275] Loss0.21630, ACC:0.68629%\n",
      "Train_Loss: 0.22278961566361513,ACC:0.686%\n",
      "\u001b[66mHAM10000 ==> testing ...\u001b[0m\n"
     ]
    },
    {
     "data": {
      "application/vnd.jupyter.widget-view+json": {
       "model_id": "8aa602ff72474113ac6c708e1609cc7c",
       "version_major": 2,
       "version_minor": 0
      },
      "text/plain": [
       "  0%|          | 0/27 [00:00<?, ?it/s]"
      ]
     },
     "metadata": {},
     "output_type": "display_data"
    },
    {
     "name": "stdout",
     "output_type": "stream",
     "text": [
      "Test_Acc:\u001b[1;32m89.01%\u001b[0m\n",
      "Best_ACC[\u001b[1;32m92.271%\u001b[0m]\n",
      "Epoch: [53] HAM10000 ==> Training ...\n"
     ]
    },
    {
     "data": {
      "application/vnd.jupyter.widget-view+json": {
       "model_id": "9106b36ada284d629ee0271d6f00a4a8",
       "version_major": 2,
       "version_minor": 0
      },
      "text/plain": [
       "  0%|          | 0/275 [00:00<?, ?it/s]"
      ]
     },
     "metadata": {},
     "output_type": "display_data"
    },
    {
     "name": "stdout",
     "output_type": "stream",
     "text": [
      "[137/275] Loss0.21845, ACC:0.68714%\n",
      "[274/275] Loss0.25481, ACC:0.68949%\n",
      "Train_Loss: 0.2198174248500304,ACC:0.689%\n",
      "\u001b[66mHAM10000 ==> testing ...\u001b[0m\n"
     ]
    },
    {
     "data": {
      "application/vnd.jupyter.widget-view+json": {
       "model_id": "e194fcd4fd104709abccedfc89650ca9",
       "version_major": 2,
       "version_minor": 0
      },
      "text/plain": [
       "  0%|          | 0/27 [00:00<?, ?it/s]"
      ]
     },
     "metadata": {},
     "output_type": "display_data"
    },
    {
     "name": "stdout",
     "output_type": "stream",
     "text": [
      "Test_Acc:\u001b[1;32m84.058%\u001b[0m\n",
      "Best_ACC[\u001b[1;32m92.271%\u001b[0m]\n",
      "Epoch: [54] HAM10000 ==> Training ...\n"
     ]
    },
    {
     "data": {
      "application/vnd.jupyter.widget-view+json": {
       "model_id": "62f364c5474347318c2e9222c207b101",
       "version_major": 2,
       "version_minor": 0
      },
      "text/plain": [
       "  0%|          | 0/275 [00:00<?, ?it/s]"
      ]
     },
     "metadata": {},
     "output_type": "display_data"
    },
    {
     "name": "stdout",
     "output_type": "stream",
     "text": [
      "[137/275] Loss0.20793, ACC:0.70116%\n",
      "[274/275] Loss0.22680, ACC:0.69986%\n",
      "Train_Loss: 0.2129684245044535,ACC:0.7%\n",
      "\u001b[66mHAM10000 ==> testing ...\u001b[0m\n"
     ]
    },
    {
     "data": {
      "application/vnd.jupyter.widget-view+json": {
       "model_id": "e176f5a0a13647bfb51647d90b168878",
       "version_major": 2,
       "version_minor": 0
      },
      "text/plain": [
       "  0%|          | 0/27 [00:00<?, ?it/s]"
      ]
     },
     "metadata": {},
     "output_type": "display_data"
    },
    {
     "name": "stdout",
     "output_type": "stream",
     "text": [
      "Test_Acc:\u001b[1;32m79.589%\u001b[0m\n",
      "Best_ACC[\u001b[1;32m92.271%\u001b[0m]\n",
      "Epoch: [55] HAM10000 ==> Training ...\n"
     ]
    },
    {
     "data": {
      "application/vnd.jupyter.widget-view+json": {
       "model_id": "6554496a338e424fa4d01573b38082d1",
       "version_major": 2,
       "version_minor": 0
      },
      "text/plain": [
       "  0%|          | 0/275 [00:00<?, ?it/s]"
      ]
     },
     "metadata": {},
     "output_type": "display_data"
    },
    {
     "name": "stdout",
     "output_type": "stream",
     "text": [
      "[137/275] Loss0.22214, ACC:0.70853%\n",
      "[274/275] Loss0.19293, ACC:0.70822%\n",
      "Train_Loss: 0.20878601025451313,ACC:0.708%\n",
      "\u001b[66mHAM10000 ==> testing ...\u001b[0m\n"
     ]
    },
    {
     "data": {
      "application/vnd.jupyter.widget-view+json": {
       "model_id": "79f9d7f474f149d7b87c6b3c51721e11",
       "version_major": 2,
       "version_minor": 0
      },
      "text/plain": [
       "  0%|          | 0/27 [00:00<?, ?it/s]"
      ]
     },
     "metadata": {},
     "output_type": "display_data"
    },
    {
     "name": "stdout",
     "output_type": "stream",
     "text": [
      "Test_Acc:\u001b[1;32m92.271%\u001b[0m\n",
      "Best_ACC[\u001b[1;32m92.271%\u001b[0m]\n",
      "Epoch: [56] HAM10000 ==> Training ...\n"
     ]
    },
    {
     "data": {
      "application/vnd.jupyter.widget-view+json": {
       "model_id": "ded3b6fd37004ba1b7192d64c793c8a9",
       "version_major": 2,
       "version_minor": 0
      },
      "text/plain": [
       "  0%|          | 0/275 [00:00<?, ?it/s]"
      ]
     },
     "metadata": {},
     "output_type": "display_data"
    },
    {
     "name": "stdout",
     "output_type": "stream",
     "text": [
      "[137/275] Loss0.20519, ACC:0.70838%\n",
      "[274/275] Loss0.17697, ACC:0.70867%\n",
      "Train_Loss: 0.2067682668837634,ACC:0.709%\n",
      "\u001b[66mHAM10000 ==> testing ...\u001b[0m\n"
     ]
    },
    {
     "data": {
      "application/vnd.jupyter.widget-view+json": {
       "model_id": "c4ad3d0829824533bf0c83b7106fc6a6",
       "version_major": 2,
       "version_minor": 0
      },
      "text/plain": [
       "  0%|          | 0/27 [00:00<?, ?it/s]"
      ]
     },
     "metadata": {},
     "output_type": "display_data"
    },
    {
     "name": "stdout",
     "output_type": "stream",
     "text": [
      "Test_Acc:\u001b[1;32m92.995%\u001b[0m\n",
      "Best_ACC[\u001b[1;32m92.995%\u001b[0m]\n",
      "Epoch: [57] HAM10000 ==> Training ...\n"
     ]
    },
    {
     "data": {
      "application/vnd.jupyter.widget-view+json": {
       "model_id": "ad817dc505c84890802a365fa4228f75",
       "version_major": 2,
       "version_minor": 0
      },
      "text/plain": [
       "  0%|          | 0/275 [00:00<?, ?it/s]"
      ]
     },
     "metadata": {},
     "output_type": "display_data"
    },
    {
     "name": "stdout",
     "output_type": "stream",
     "text": [
      "[137/275] Loss0.21402, ACC:0.71292%\n",
      "[274/275] Loss0.20999, ACC:0.71288%\n",
      "Train_Loss: 0.2078528732061386,ACC:0.713%\n",
      "\u001b[66mHAM10000 ==> testing ...\u001b[0m\n"
     ]
    },
    {
     "data": {
      "application/vnd.jupyter.widget-view+json": {
       "model_id": "df424b57d5ca493382e61c471f6b056d",
       "version_major": 2,
       "version_minor": 0
      },
      "text/plain": [
       "  0%|          | 0/27 [00:00<?, ?it/s]"
      ]
     },
     "metadata": {},
     "output_type": "display_data"
    },
    {
     "name": "stdout",
     "output_type": "stream",
     "text": [
      "Test_Acc:\u001b[1;32m91.184%\u001b[0m\n",
      "Best_ACC[\u001b[1;32m92.995%\u001b[0m]\n",
      "Epoch: [58] HAM10000 ==> Training ...\n"
     ]
    },
    {
     "data": {
      "application/vnd.jupyter.widget-view+json": {
       "model_id": "9d8c1a13293548f3a576250728effb5a",
       "version_major": 2,
       "version_minor": 0
      },
      "text/plain": [
       "  0%|          | 0/275 [00:00<?, ?it/s]"
      ]
     },
     "metadata": {},
     "output_type": "display_data"
    },
    {
     "name": "stdout",
     "output_type": "stream",
     "text": [
      "[137/275] Loss0.25392, ACC:0.70224%\n",
      "[274/275] Loss0.21272, ACC:0.70224%\n",
      "Train_Loss: 0.2123010404543443,ACC:0.702%\n",
      "\u001b[66mHAM10000 ==> testing ...\u001b[0m\n"
     ]
    },
    {
     "data": {
      "application/vnd.jupyter.widget-view+json": {
       "model_id": "4e5c704fd6694836ae4d5aad39550a40",
       "version_major": 2,
       "version_minor": 0
      },
      "text/plain": [
       "  0%|          | 0/27 [00:00<?, ?it/s]"
      ]
     },
     "metadata": {},
     "output_type": "display_data"
    },
    {
     "name": "stdout",
     "output_type": "stream",
     "text": [
      "Test_Acc:\u001b[1;32m89.976%\u001b[0m\n",
      "Best_ACC[\u001b[1;32m92.995%\u001b[0m]\n",
      "Epoch: [59] HAM10000 ==> Training ...\n"
     ]
    },
    {
     "data": {
      "application/vnd.jupyter.widget-view+json": {
       "model_id": "35bf13ef6d384979a02d4ef66dc29911",
       "version_major": 2,
       "version_minor": 0
      },
      "text/plain": [
       "  0%|          | 0/275 [00:00<?, ?it/s]"
      ]
     },
     "metadata": {},
     "output_type": "display_data"
    },
    {
     "name": "stdout",
     "output_type": "stream",
     "text": [
      "[137/275] Loss0.22568, ACC:0.69102%\n",
      "[274/275] Loss0.21000, ACC:0.69461%\n",
      "Train_Loss: 0.21697722429578956,ACC:0.694%\n",
      "\u001b[66mHAM10000 ==> testing ...\u001b[0m\n"
     ]
    },
    {
     "data": {
      "application/vnd.jupyter.widget-view+json": {
       "model_id": "15cbc5b79efd4d8f89b886ca6cf6e8a6",
       "version_major": 2,
       "version_minor": 0
      },
      "text/plain": [
       "  0%|          | 0/27 [00:00<?, ?it/s]"
      ]
     },
     "metadata": {},
     "output_type": "display_data"
    },
    {
     "name": "stdout",
     "output_type": "stream",
     "text": [
      "Test_Acc:\u001b[1;32m89.13%\u001b[0m\n",
      "Best_ACC[\u001b[1;32m92.995%\u001b[0m]\n",
      "Epoch: [60] HAM10000 ==> Training ...\n"
     ]
    },
    {
     "data": {
      "application/vnd.jupyter.widget-view+json": {
       "model_id": "15022e417dca4be883a99635ab4ef6cd",
       "version_major": 2,
       "version_minor": 0
      },
      "text/plain": [
       "  0%|          | 0/275 [00:00<?, ?it/s]"
      ]
     },
     "metadata": {},
     "output_type": "display_data"
    },
    {
     "name": "stdout",
     "output_type": "stream",
     "text": [
      "[137/275] Loss0.23606, ACC:0.69005%\n",
      "[274/275] Loss0.21712, ACC:0.69071%\n",
      "Train_Loss: 0.21931094911965457,ACC:0.691%\n",
      "\u001b[66mHAM10000 ==> testing ...\u001b[0m\n"
     ]
    },
    {
     "data": {
      "application/vnd.jupyter.widget-view+json": {
       "model_id": "3dc962fcb1704eeb9aaac5ffef338932",
       "version_major": 2,
       "version_minor": 0
      },
      "text/plain": [
       "  0%|          | 0/27 [00:00<?, ?it/s]"
      ]
     },
     "metadata": {},
     "output_type": "display_data"
    },
    {
     "name": "stdout",
     "output_type": "stream",
     "text": [
      "Test_Acc:\u001b[1;32m56.28%\u001b[0m\n",
      "Best_ACC[\u001b[1;32m92.995%\u001b[0m]\n",
      "Epoch: [61] HAM10000 ==> Training ...\n"
     ]
    },
    {
     "data": {
      "application/vnd.jupyter.widget-view+json": {
       "model_id": "843dc9b6b9514f609bf41aefc0133115",
       "version_major": 2,
       "version_minor": 0
      },
      "text/plain": [
       "  0%|          | 0/275 [00:00<?, ?it/s]"
      ]
     },
     "metadata": {},
     "output_type": "display_data"
    },
    {
     "name": "stdout",
     "output_type": "stream",
     "text": [
      "[137/275] Loss0.22162, ACC:0.69397%\n",
      "[274/275] Loss0.23058, ACC:0.68949%\n",
      "Train_Loss: 0.2205604178797115,ACC:0.689%\n",
      "\u001b[66mHAM10000 ==> testing ...\u001b[0m\n"
     ]
    },
    {
     "data": {
      "application/vnd.jupyter.widget-view+json": {
       "model_id": "1a3ae6ecb0874f9e9d76750623bc081f",
       "version_major": 2,
       "version_minor": 0
      },
      "text/plain": [
       "  0%|          | 0/27 [00:00<?, ?it/s]"
      ]
     },
     "metadata": {},
     "output_type": "display_data"
    },
    {
     "name": "stdout",
     "output_type": "stream",
     "text": [
      "Test_Acc:\u001b[1;32m88.285%\u001b[0m\n",
      "Best_ACC[\u001b[1;32m92.995%\u001b[0m]\n",
      "Epoch: [62] HAM10000 ==> Training ...\n"
     ]
    },
    {
     "data": {
      "application/vnd.jupyter.widget-view+json": {
       "model_id": "39833e934b174d7890f2652abaf2c177",
       "version_major": 2,
       "version_minor": 0
      },
      "text/plain": [
       "  0%|          | 0/275 [00:00<?, ?it/s]"
      ]
     },
     "metadata": {},
     "output_type": "display_data"
    },
    {
     "name": "stdout",
     "output_type": "stream",
     "text": [
      "[137/275] Loss0.22005, ACC:0.69518%\n",
      "[274/275] Loss0.22245, ACC:0.69460%\n",
      "Train_Loss: 0.2176104243777015,ACC:0.695%\n",
      "\u001b[66mHAM10000 ==> testing ...\u001b[0m\n"
     ]
    },
    {
     "data": {
      "application/vnd.jupyter.widget-view+json": {
       "model_id": "5ba268d8167149f794aef653e86bd417",
       "version_major": 2,
       "version_minor": 0
      },
      "text/plain": [
       "  0%|          | 0/27 [00:00<?, ?it/s]"
      ]
     },
     "metadata": {},
     "output_type": "display_data"
    },
    {
     "name": "stdout",
     "output_type": "stream",
     "text": [
      "Test_Acc:\u001b[1;32m91.304%\u001b[0m\n",
      "Best_ACC[\u001b[1;32m92.995%\u001b[0m]\n",
      "Epoch: [63] HAM10000 ==> Training ...\n"
     ]
    },
    {
     "data": {
      "application/vnd.jupyter.widget-view+json": {
       "model_id": "adec74c02aa24bba8df183dc77917a03",
       "version_major": 2,
       "version_minor": 0
      },
      "text/plain": [
       "  0%|          | 0/275 [00:00<?, ?it/s]"
      ]
     },
     "metadata": {},
     "output_type": "display_data"
    },
    {
     "name": "stdout",
     "output_type": "stream",
     "text": [
      "[137/275] Loss0.22505, ACC:0.69506%\n",
      "[274/275] Loss0.25142, ACC:0.69832%\n",
      "Train_Loss: 0.21345201340588657,ACC:0.698%\n",
      "\u001b[66mHAM10000 ==> testing ...\u001b[0m\n"
     ]
    },
    {
     "data": {
      "application/vnd.jupyter.widget-view+json": {
       "model_id": "bc4599845e0549f6b0fd09dd249b8c2d",
       "version_major": 2,
       "version_minor": 0
      },
      "text/plain": [
       "  0%|          | 0/27 [00:00<?, ?it/s]"
      ]
     },
     "metadata": {},
     "output_type": "display_data"
    },
    {
     "name": "stdout",
     "output_type": "stream",
     "text": [
      "Test_Acc:\u001b[1;32m87.198%\u001b[0m\n",
      "Best_ACC[\u001b[1;32m92.995%\u001b[0m]\n",
      "Epoch: [64] HAM10000 ==> Training ...\n"
     ]
    },
    {
     "data": {
      "application/vnd.jupyter.widget-view+json": {
       "model_id": "cfbe1ea6c5bb400c9e670a35b2d23b73",
       "version_major": 2,
       "version_minor": 0
      },
      "text/plain": [
       "  0%|          | 0/275 [00:00<?, ?it/s]"
      ]
     },
     "metadata": {},
     "output_type": "display_data"
    },
    {
     "name": "stdout",
     "output_type": "stream",
     "text": [
      "[137/275] Loss0.20023, ACC:0.71001%\n",
      "[274/275] Loss0.22462, ACC:0.70968%\n",
      "Train_Loss: 0.2086771793798967,ACC:0.71%\n",
      "\u001b[66mHAM10000 ==> testing ...\u001b[0m\n"
     ]
    },
    {
     "data": {
      "application/vnd.jupyter.widget-view+json": {
       "model_id": "ef1e83b1355b42ab87bf1380361719f8",
       "version_major": 2,
       "version_minor": 0
      },
      "text/plain": [
       "  0%|          | 0/27 [00:00<?, ?it/s]"
      ]
     },
     "metadata": {},
     "output_type": "display_data"
    },
    {
     "name": "stdout",
     "output_type": "stream",
     "text": [
      "Test_Acc:\u001b[1;32m91.304%\u001b[0m\n",
      "Best_ACC[\u001b[1;32m92.995%\u001b[0m]\n",
      "Epoch: [65] HAM10000 ==> Training ...\n"
     ]
    },
    {
     "data": {
      "application/vnd.jupyter.widget-view+json": {
       "model_id": "cddd1578e1b0454795a86d26a1ea90af",
       "version_major": 2,
       "version_minor": 0
      },
      "text/plain": [
       "  0%|          | 0/275 [00:00<?, ?it/s]"
      ]
     },
     "metadata": {},
     "output_type": "display_data"
    },
    {
     "name": "stdout",
     "output_type": "stream",
     "text": [
      "[137/275] Loss0.19465, ACC:0.71583%\n",
      "[274/275] Loss0.18197, ACC:0.71688%\n",
      "Train_Loss: 0.20428574399514632,ACC:0.717%\n",
      "\u001b[66mHAM10000 ==> testing ...\u001b[0m\n"
     ]
    },
    {
     "data": {
      "application/vnd.jupyter.widget-view+json": {
       "model_id": "d44dc82cc9c9475fbb4b4e04616773b9",
       "version_major": 2,
       "version_minor": 0
      },
      "text/plain": [
       "  0%|          | 0/27 [00:00<?, ?it/s]"
      ]
     },
     "metadata": {},
     "output_type": "display_data"
    },
    {
     "name": "stdout",
     "output_type": "stream",
     "text": [
      "Test_Acc:\u001b[1;32m93.116%\u001b[0m\n",
      "Best_ACC[\u001b[1;32m93.116%\u001b[0m]\n",
      "Epoch: [66] HAM10000 ==> Training ...\n"
     ]
    },
    {
     "data": {
      "application/vnd.jupyter.widget-view+json": {
       "model_id": "4337c8dc33b94776ba86e19a087c379d",
       "version_major": 2,
       "version_minor": 0
      },
      "text/plain": [
       "  0%|          | 0/275 [00:00<?, ?it/s]"
      ]
     },
     "metadata": {},
     "output_type": "display_data"
    },
    {
     "name": "stdout",
     "output_type": "stream",
     "text": [
      "[137/275] Loss0.22267, ACC:0.71719%\n",
      "[274/275] Loss0.21032, ACC:0.71892%\n",
      "Train_Loss: 0.20419263113628736,ACC:0.719%\n",
      "\u001b[66mHAM10000 ==> testing ...\u001b[0m\n"
     ]
    },
    {
     "data": {
      "application/vnd.jupyter.widget-view+json": {
       "model_id": "e31748340d36466192a0015938c1b5f9",
       "version_major": 2,
       "version_minor": 0
      },
      "text/plain": [
       "  0%|          | 0/27 [00:00<?, ?it/s]"
      ]
     },
     "metadata": {},
     "output_type": "display_data"
    },
    {
     "name": "stdout",
     "output_type": "stream",
     "text": [
      "Test_Acc:\u001b[1;32m91.546%\u001b[0m\n",
      "Best_ACC[\u001b[1;32m93.116%\u001b[0m]\n",
      "Epoch: [67] HAM10000 ==> Training ...\n"
     ]
    },
    {
     "data": {
      "application/vnd.jupyter.widget-view+json": {
       "model_id": "a7eaa8384235476c97200248f43482b4",
       "version_major": 2,
       "version_minor": 0
      },
      "text/plain": [
       "  0%|          | 0/275 [00:00<?, ?it/s]"
      ]
     },
     "metadata": {},
     "output_type": "display_data"
    },
    {
     "name": "stdout",
     "output_type": "stream",
     "text": [
      "[137/275] Loss0.19842, ACC:0.71548%\n",
      "[274/275] Loss0.19254, ACC:0.71426%\n",
      "Train_Loss: 0.20429753964597527,ACC:0.714%\n",
      "\u001b[66mHAM10000 ==> testing ...\u001b[0m\n"
     ]
    },
    {
     "data": {
      "application/vnd.jupyter.widget-view+json": {
       "model_id": "3d1a93fadb6b44a38443b41359cd3ba3",
       "version_major": 2,
       "version_minor": 0
      },
      "text/plain": [
       "  0%|          | 0/27 [00:00<?, ?it/s]"
      ]
     },
     "metadata": {},
     "output_type": "display_data"
    },
    {
     "name": "stdout",
     "output_type": "stream",
     "text": [
      "Test_Acc:\u001b[1;32m90.58%\u001b[0m\n",
      "Best_ACC[\u001b[1;32m93.116%\u001b[0m]\n",
      "Epoch: [68] HAM10000 ==> Training ...\n"
     ]
    },
    {
     "data": {
      "application/vnd.jupyter.widget-view+json": {
       "model_id": "aae0f6aba3864267bba279aa52fe931c",
       "version_major": 2,
       "version_minor": 0
      },
      "text/plain": [
       "  0%|          | 0/275 [00:00<?, ?it/s]"
      ]
     },
     "metadata": {},
     "output_type": "display_data"
    },
    {
     "name": "stdout",
     "output_type": "stream",
     "text": [
      "[137/275] Loss0.21786, ACC:0.70768%\n",
      "[274/275] Loss0.20025, ACC:0.71170%\n",
      "Train_Loss: 0.20752941050312737,ACC:0.712%\n",
      "\u001b[66mHAM10000 ==> testing ...\u001b[0m\n"
     ]
    },
    {
     "data": {
      "application/vnd.jupyter.widget-view+json": {
       "model_id": "bfd82b23990b4d3ebb45e8c23a1ac643",
       "version_major": 2,
       "version_minor": 0
      },
      "text/plain": [
       "  0%|          | 0/27 [00:00<?, ?it/s]"
      ]
     },
     "metadata": {},
     "output_type": "display_data"
    },
    {
     "name": "stdout",
     "output_type": "stream",
     "text": [
      "Test_Acc:\u001b[1;32m82.729%\u001b[0m\n",
      "Best_ACC[\u001b[1;32m93.116%\u001b[0m]\n",
      "Epoch: [69] HAM10000 ==> Training ...\n"
     ]
    },
    {
     "data": {
      "application/vnd.jupyter.widget-view+json": {
       "model_id": "8987ae2d1bf942ab850bcf669b25918c",
       "version_major": 2,
       "version_minor": 0
      },
      "text/plain": [
       "  0%|          | 0/275 [00:00<?, ?it/s]"
      ]
     },
     "metadata": {},
     "output_type": "display_data"
    },
    {
     "name": "stdout",
     "output_type": "stream",
     "text": [
      "[137/275] Loss0.21214, ACC:0.70147%\n",
      "[274/275] Loss0.23992, ACC:0.70327%\n",
      "Train_Loss: 0.21189124036918988,ACC:0.703%\n",
      "\u001b[66mHAM10000 ==> testing ...\u001b[0m\n"
     ]
    },
    {
     "data": {
      "application/vnd.jupyter.widget-view+json": {
       "model_id": "9d3f03cc6685464eb6c7dd933906cc6a",
       "version_major": 2,
       "version_minor": 0
      },
      "text/plain": [
       "  0%|          | 0/27 [00:00<?, ?it/s]"
      ]
     },
     "metadata": {},
     "output_type": "display_data"
    },
    {
     "name": "stdout",
     "output_type": "stream",
     "text": [
      "Test_Acc:\u001b[1;32m94.686%\u001b[0m\n",
      "Best_ACC[\u001b[1;32m94.686%\u001b[0m]\n",
      "Epoch: [70] HAM10000 ==> Training ...\n"
     ]
    },
    {
     "data": {
      "application/vnd.jupyter.widget-view+json": {
       "model_id": "a8c43ce2ec13433a94e78a0d38f494e0",
       "version_major": 2,
       "version_minor": 0
      },
      "text/plain": [
       "  0%|          | 0/275 [00:00<?, ?it/s]"
      ]
     },
     "metadata": {},
     "output_type": "display_data"
    },
    {
     "name": "stdout",
     "output_type": "stream",
     "text": [
      "[137/275] Loss0.17327, ACC:0.69953%\n",
      "[274/275] Loss0.21282, ACC:0.69708%\n",
      "Train_Loss: 0.21608708435838872,ACC:0.697%\n",
      "\u001b[66mHAM10000 ==> testing ...\u001b[0m\n"
     ]
    },
    {
     "data": {
      "application/vnd.jupyter.widget-view+json": {
       "model_id": "08c4dfbbf7f34c92896072c1773a7bde",
       "version_major": 2,
       "version_minor": 0
      },
      "text/plain": [
       "  0%|          | 0/27 [00:00<?, ?it/s]"
      ]
     },
     "metadata": {},
     "output_type": "display_data"
    },
    {
     "name": "stdout",
     "output_type": "stream",
     "text": [
      "Test_Acc:\u001b[1;32m85.749%\u001b[0m\n",
      "Best_ACC[\u001b[1;32m94.686%\u001b[0m]\n",
      "Epoch: [71] HAM10000 ==> Training ...\n"
     ]
    },
    {
     "data": {
      "application/vnd.jupyter.widget-view+json": {
       "model_id": "042e01763f2747fe9ec1a39c7aa4a4ac",
       "version_major": 2,
       "version_minor": 0
      },
      "text/plain": [
       "  0%|          | 0/275 [00:00<?, ?it/s]"
      ]
     },
     "metadata": {},
     "output_type": "display_data"
    },
    {
     "name": "stdout",
     "output_type": "stream",
     "text": [
      "[137/275] Loss0.23888, ACC:0.69642%\n",
      "[274/275] Loss0.22586, ACC:0.69790%\n",
      "Train_Loss: 0.21663711537014355,ACC:0.698%\n",
      "\u001b[66mHAM10000 ==> testing ...\u001b[0m\n"
     ]
    },
    {
     "data": {
      "application/vnd.jupyter.widget-view+json": {
       "model_id": "123cc7e43f674c05a07ccd1d1be82e82",
       "version_major": 2,
       "version_minor": 0
      },
      "text/plain": [
       "  0%|          | 0/27 [00:00<?, ?it/s]"
      ]
     },
     "metadata": {},
     "output_type": "display_data"
    },
    {
     "name": "stdout",
     "output_type": "stream",
     "text": [
      "Test_Acc:\u001b[1;32m91.304%\u001b[0m\n",
      "Best_ACC[\u001b[1;32m94.686%\u001b[0m]\n",
      "Epoch: [72] HAM10000 ==> Training ...\n"
     ]
    },
    {
     "data": {
      "application/vnd.jupyter.widget-view+json": {
       "model_id": "11186fdbff004ffd9a64b3da486eca64",
       "version_major": 2,
       "version_minor": 0
      },
      "text/plain": [
       "  0%|          | 0/275 [00:00<?, ?it/s]"
      ]
     },
     "metadata": {},
     "output_type": "display_data"
    },
    {
     "name": "stdout",
     "output_type": "stream",
     "text": [
      "[137/275] Loss0.20720, ACC:0.69692%\n",
      "[274/275] Loss0.21436, ACC:0.70067%\n",
      "Train_Loss: 0.2136327084086158,ACC:0.701%\n",
      "\u001b[66mHAM10000 ==> testing ...\u001b[0m\n"
     ]
    },
    {
     "data": {
      "application/vnd.jupyter.widget-view+json": {
       "model_id": "7a74193b25754fadb48758ae924681e8",
       "version_major": 2,
       "version_minor": 0
      },
      "text/plain": [
       "  0%|          | 0/27 [00:00<?, ?it/s]"
      ]
     },
     "metadata": {},
     "output_type": "display_data"
    },
    {
     "name": "stdout",
     "output_type": "stream",
     "text": [
      "Test_Acc:\u001b[1;32m82.367%\u001b[0m\n",
      "Best_ACC[\u001b[1;32m94.686%\u001b[0m]\n",
      "Epoch: [73] HAM10000 ==> Training ...\n"
     ]
    },
    {
     "data": {
      "application/vnd.jupyter.widget-view+json": {
       "model_id": "83253f7bdff540a68f6a95872156a2d4",
       "version_major": 2,
       "version_minor": 0
      },
      "text/plain": [
       "  0%|          | 0/275 [00:00<?, ?it/s]"
      ]
     },
     "metadata": {},
     "output_type": "display_data"
    },
    {
     "name": "stdout",
     "output_type": "stream",
     "text": [
      "[137/275] Loss0.22264, ACC:0.70519%\n",
      "[274/275] Loss0.19138, ACC:0.70756%\n",
      "Train_Loss: 0.2100738171013919,ACC:0.708%\n",
      "\u001b[66mHAM10000 ==> testing ...\u001b[0m\n"
     ]
    },
    {
     "data": {
      "application/vnd.jupyter.widget-view+json": {
       "model_id": "e0070982b8654a0786b31f40f56e8fb0",
       "version_major": 2,
       "version_minor": 0
      },
      "text/plain": [
       "  0%|          | 0/27 [00:00<?, ?it/s]"
      ]
     },
     "metadata": {},
     "output_type": "display_data"
    },
    {
     "name": "stdout",
     "output_type": "stream",
     "text": [
      "Test_Acc:\u001b[1;32m92.15%\u001b[0m\n",
      "Best_ACC[\u001b[1;32m94.686%\u001b[0m]\n",
      "Epoch: [74] HAM10000 ==> Training ...\n"
     ]
    },
    {
     "data": {
      "application/vnd.jupyter.widget-view+json": {
       "model_id": "7e97e5e24ab94ebfa0678c4ee4248cce",
       "version_major": 2,
       "version_minor": 0
      },
      "text/plain": [
       "  0%|          | 0/275 [00:00<?, ?it/s]"
      ]
     },
     "metadata": {},
     "output_type": "display_data"
    },
    {
     "name": "stdout",
     "output_type": "stream",
     "text": [
      "[137/275] Loss0.18976, ACC:0.71929%\n",
      "[274/275] Loss0.18907, ACC:0.71622%\n",
      "Train_Loss: 0.20497491332617673,ACC:0.716%\n",
      "\u001b[66mHAM10000 ==> testing ...\u001b[0m\n"
     ]
    },
    {
     "data": {
      "application/vnd.jupyter.widget-view+json": {
       "model_id": "f6371d4c8bf64fd3ae73fa8fe681c0d0",
       "version_major": 2,
       "version_minor": 0
      },
      "text/plain": [
       "  0%|          | 0/27 [00:00<?, ?it/s]"
      ]
     },
     "metadata": {},
     "output_type": "display_data"
    },
    {
     "name": "stdout",
     "output_type": "stream",
     "text": [
      "Test_Acc:\u001b[1;32m92.995%\u001b[0m\n",
      "Best_ACC[\u001b[1;32m94.686%\u001b[0m]\n",
      "Epoch: [75] HAM10000 ==> Training ...\n"
     ]
    },
    {
     "data": {
      "application/vnd.jupyter.widget-view+json": {
       "model_id": "594f44b78f7e41f6b8f89082127c079e",
       "version_major": 2,
       "version_minor": 0
      },
      "text/plain": [
       "  0%|          | 0/275 [00:00<?, ?it/s]"
      ]
     },
     "metadata": {},
     "output_type": "display_data"
    },
    {
     "name": "stdout",
     "output_type": "stream",
     "text": [
      "[137/275] Loss0.18664, ACC:0.72158%\n",
      "[274/275] Loss0.20617, ACC:0.72140%\n",
      "Train_Loss: 0.20121001801707528,ACC:0.721%\n",
      "\u001b[66mHAM10000 ==> testing ...\u001b[0m\n"
     ]
    },
    {
     "data": {
      "application/vnd.jupyter.widget-view+json": {
       "model_id": "f025f0cabbb54b76b8d5d96accff6d33",
       "version_major": 2,
       "version_minor": 0
      },
      "text/plain": [
       "  0%|          | 0/27 [00:00<?, ?it/s]"
      ]
     },
     "metadata": {},
     "output_type": "display_data"
    },
    {
     "name": "stdout",
     "output_type": "stream",
     "text": [
      "Test_Acc:\u001b[1;32m94.807%\u001b[0m\n",
      "Best_ACC[\u001b[1;32m94.807%\u001b[0m]\n",
      "Epoch: [76] HAM10000 ==> Training ...\n"
     ]
    },
    {
     "data": {
      "application/vnd.jupyter.widget-view+json": {
       "model_id": "516dce7f6e8a417d95774c6e97b4388d",
       "version_major": 2,
       "version_minor": 0
      },
      "text/plain": [
       "  0%|          | 0/275 [00:00<?, ?it/s]"
      ]
     },
     "metadata": {},
     "output_type": "display_data"
    },
    {
     "name": "stdout",
     "output_type": "stream",
     "text": [
      "[137/275] Loss0.18435, ACC:0.72065%\n",
      "[274/275] Loss0.18157, ACC:0.72352%\n",
      "Train_Loss: 0.20019183500246568,ACC:0.724%\n",
      "\u001b[66mHAM10000 ==> testing ...\u001b[0m\n"
     ]
    },
    {
     "data": {
      "application/vnd.jupyter.widget-view+json": {
       "model_id": "a6d0ed5088644f17b7ac4a3c072da27f",
       "version_major": 2,
       "version_minor": 0
      },
      "text/plain": [
       "  0%|          | 0/27 [00:00<?, ?it/s]"
      ]
     },
     "metadata": {},
     "output_type": "display_data"
    },
    {
     "name": "stdout",
     "output_type": "stream",
     "text": [
      "Test_Acc:\u001b[1;32m93.72%\u001b[0m\n",
      "Best_ACC[\u001b[1;32m94.807%\u001b[0m]\n",
      "Epoch: [77] HAM10000 ==> Training ...\n"
     ]
    },
    {
     "data": {
      "application/vnd.jupyter.widget-view+json": {
       "model_id": "96e21117097a4dc7ad2993d2858a81d9",
       "version_major": 2,
       "version_minor": 0
      },
      "text/plain": [
       "  0%|          | 0/275 [00:00<?, ?it/s]"
      ]
     },
     "metadata": {},
     "output_type": "display_data"
    },
    {
     "name": "stdout",
     "output_type": "stream",
     "text": [
      "[137/275] Loss0.22115, ACC:0.72515%\n",
      "[274/275] Loss0.20438, ACC:0.72465%\n",
      "Train_Loss: 0.20055250996893104,ACC:0.725%\n",
      "\u001b[66mHAM10000 ==> testing ...\u001b[0m\n"
     ]
    },
    {
     "data": {
      "application/vnd.jupyter.widget-view+json": {
       "model_id": "e6ef26f78614440ca9ceb18b7e118c7b",
       "version_major": 2,
       "version_minor": 0
      },
      "text/plain": [
       "  0%|          | 0/27 [00:00<?, ?it/s]"
      ]
     },
     "metadata": {},
     "output_type": "display_data"
    },
    {
     "name": "stdout",
     "output_type": "stream",
     "text": [
      "Test_Acc:\u001b[1;32m93.237%\u001b[0m\n",
      "Best_ACC[\u001b[1;32m94.807%\u001b[0m]\n",
      "Epoch: [78] HAM10000 ==> Training ...\n"
     ]
    },
    {
     "data": {
      "application/vnd.jupyter.widget-view+json": {
       "model_id": "90503b7b3dd74230bf79d5dcdce2a4a9",
       "version_major": 2,
       "version_minor": 0
      },
      "text/plain": [
       "  0%|          | 0/275 [00:00<?, ?it/s]"
      ]
     },
     "metadata": {},
     "output_type": "display_data"
    },
    {
     "name": "stdout",
     "output_type": "stream",
     "text": [
      "[137/275] Loss0.20249, ACC:0.71948%\n",
      "[274/275] Loss0.19549, ACC:0.71719%\n",
      "Train_Loss: 0.2037500503388318,ACC:0.717%\n",
      "\u001b[66mHAM10000 ==> testing ...\u001b[0m\n"
     ]
    },
    {
     "data": {
      "application/vnd.jupyter.widget-view+json": {
       "model_id": "189990178e154f81b301f73c1fe91cd1",
       "version_major": 2,
       "version_minor": 0
      },
      "text/plain": [
       "  0%|          | 0/27 [00:00<?, ?it/s]"
      ]
     },
     "metadata": {},
     "output_type": "display_data"
    },
    {
     "name": "stdout",
     "output_type": "stream",
     "text": [
      "Test_Acc:\u001b[1;32m92.754%\u001b[0m\n",
      "Best_ACC[\u001b[1;32m94.807%\u001b[0m]\n",
      "Epoch: [79] HAM10000 ==> Training ...\n"
     ]
    },
    {
     "data": {
      "application/vnd.jupyter.widget-view+json": {
       "model_id": "7316874d3c394fffaad0304bd55965fa",
       "version_major": 2,
       "version_minor": 0
      },
      "text/plain": [
       "  0%|          | 0/275 [00:00<?, ?it/s]"
      ]
     },
     "metadata": {},
     "output_type": "display_data"
    },
    {
     "name": "stdout",
     "output_type": "stream",
     "text": [
      "[137/275] Loss0.20393, ACC:0.71191%\n",
      "[274/275] Loss0.20824, ACC:0.71001%\n",
      "Train_Loss: 0.20941085224801845,ACC:0.71%\n",
      "\u001b[66mHAM10000 ==> testing ...\u001b[0m\n"
     ]
    },
    {
     "data": {
      "application/vnd.jupyter.widget-view+json": {
       "model_id": "c8c041596d54430cbf732714e6adc824",
       "version_major": 2,
       "version_minor": 0
      },
      "text/plain": [
       "  0%|          | 0/27 [00:00<?, ?it/s]"
      ]
     },
     "metadata": {},
     "output_type": "display_data"
    },
    {
     "name": "stdout",
     "output_type": "stream",
     "text": [
      "Test_Acc:\u001b[1;32m69.928%\u001b[0m\n",
      "Best_ACC[\u001b[1;32m94.807%\u001b[0m]\n",
      "Epoch: [80] HAM10000 ==> Training ...\n"
     ]
    },
    {
     "data": {
      "application/vnd.jupyter.widget-view+json": {
       "model_id": "6b3dab5f1d544185a56049c53e25ea7c",
       "version_major": 2,
       "version_minor": 0
      },
      "text/plain": [
       "  0%|          | 0/275 [00:00<?, ?it/s]"
      ]
     },
     "metadata": {},
     "output_type": "display_data"
    },
    {
     "name": "stdout",
     "output_type": "stream",
     "text": [
      "[137/275] Loss0.21983, ACC:0.70438%\n",
      "[274/275] Loss0.21287, ACC:0.70609%\n",
      "Train_Loss: 0.2124623283472928,ACC:0.706%\n",
      "\u001b[66mHAM10000 ==> testing ...\u001b[0m\n"
     ]
    },
    {
     "data": {
      "application/vnd.jupyter.widget-view+json": {
       "model_id": "3ac9f9a5aeb642769eccd0ee1a2fb65d",
       "version_major": 2,
       "version_minor": 0
      },
      "text/plain": [
       "  0%|          | 0/27 [00:00<?, ?it/s]"
      ]
     },
     "metadata": {},
     "output_type": "display_data"
    },
    {
     "name": "stdout",
     "output_type": "stream",
     "text": [
      "Test_Acc:\u001b[1;32m91.667%\u001b[0m\n",
      "Best_ACC[\u001b[1;32m94.807%\u001b[0m]\n",
      "Epoch: [81] HAM10000 ==> Training ...\n"
     ]
    },
    {
     "data": {
      "application/vnd.jupyter.widget-view+json": {
       "model_id": "a22d29eb16fc4e4d97d38eb371cc5b5c",
       "version_major": 2,
       "version_minor": 0
      },
      "text/plain": [
       "  0%|          | 0/275 [00:00<?, ?it/s]"
      ]
     },
     "metadata": {},
     "output_type": "display_data"
    },
    {
     "name": "stdout",
     "output_type": "stream",
     "text": [
      "[137/275] Loss0.20522, ACC:0.70108%\n",
      "[274/275] Loss0.18421, ACC:0.70300%\n",
      "Train_Loss: 0.2124186878854578,ACC:0.703%\n",
      "\u001b[66mHAM10000 ==> testing ...\u001b[0m\n"
     ]
    },
    {
     "data": {
      "application/vnd.jupyter.widget-view+json": {
       "model_id": "0ae272522d4744029079e3ad94016c7d",
       "version_major": 2,
       "version_minor": 0
      },
      "text/plain": [
       "  0%|          | 0/27 [00:00<?, ?it/s]"
      ]
     },
     "metadata": {},
     "output_type": "display_data"
    },
    {
     "name": "stdout",
     "output_type": "stream",
     "text": [
      "Test_Acc:\u001b[1;32m35.628%\u001b[0m\n",
      "Best_ACC[\u001b[1;32m94.807%\u001b[0m]\n",
      "Epoch: [82] HAM10000 ==> Training ...\n"
     ]
    },
    {
     "data": {
      "application/vnd.jupyter.widget-view+json": {
       "model_id": "12f8c581b5fa4ca9b8cbc04e2727c6e9",
       "version_major": 2,
       "version_minor": 0
      },
      "text/plain": [
       "  0%|          | 0/275 [00:00<?, ?it/s]"
      ]
     },
     "metadata": {},
     "output_type": "display_data"
    },
    {
     "name": "stdout",
     "output_type": "stream",
     "text": [
      "[137/275] Loss0.22623, ACC:0.70364%\n",
      "[274/275] Loss0.22913, ACC:0.70632%\n",
      "Train_Loss: 0.21156743038784373,ACC:0.706%\n",
      "\u001b[66mHAM10000 ==> testing ...\u001b[0m\n"
     ]
    },
    {
     "data": {
      "application/vnd.jupyter.widget-view+json": {
       "model_id": "c74d6aa6ef28447288885b8545819a69",
       "version_major": 2,
       "version_minor": 0
      },
      "text/plain": [
       "  0%|          | 0/27 [00:00<?, ?it/s]"
      ]
     },
     "metadata": {},
     "output_type": "display_data"
    },
    {
     "name": "stdout",
     "output_type": "stream",
     "text": [
      "Test_Acc:\u001b[1;32m89.493%\u001b[0m\n",
      "Best_ACC[\u001b[1;32m94.807%\u001b[0m]\n",
      "Epoch: [83] HAM10000 ==> Training ...\n"
     ]
    },
    {
     "data": {
      "application/vnd.jupyter.widget-view+json": {
       "model_id": "8a81e3498ed443a680e3838ab3fc801a",
       "version_major": 2,
       "version_minor": 0
      },
      "text/plain": [
       "  0%|          | 0/275 [00:00<?, ?it/s]"
      ]
     },
     "metadata": {},
     "output_type": "display_data"
    },
    {
     "name": "stdout",
     "output_type": "stream",
     "text": [
      "[137/275] Loss0.19967, ACC:0.71005%\n",
      "[274/275] Loss0.20761, ACC:0.71065%\n",
      "Train_Loss: 0.20799800038337707,ACC:0.711%\n",
      "\u001b[66mHAM10000 ==> testing ...\u001b[0m\n"
     ]
    },
    {
     "data": {
      "application/vnd.jupyter.widget-view+json": {
       "model_id": "d57f851c58f14b3a84a59dbbc99c07fc",
       "version_major": 2,
       "version_minor": 0
      },
      "text/plain": [
       "  0%|          | 0/27 [00:00<?, ?it/s]"
      ]
     },
     "metadata": {},
     "output_type": "display_data"
    },
    {
     "name": "stdout",
     "output_type": "stream",
     "text": [
      "Test_Acc:\u001b[1;32m89.251%\u001b[0m\n",
      "Best_ACC[\u001b[1;32m94.807%\u001b[0m]\n",
      "Epoch: [84] HAM10000 ==> Training ...\n"
     ]
    },
    {
     "data": {
      "application/vnd.jupyter.widget-view+json": {
       "model_id": "bf4ce4035f0242588f4c6d6e3a076b7e",
       "version_major": 2,
       "version_minor": 0
      },
      "text/plain": [
       "  0%|          | 0/275 [00:00<?, ?it/s]"
      ]
     },
     "metadata": {},
     "output_type": "display_data"
    },
    {
     "name": "stdout",
     "output_type": "stream",
     "text": [
      "[137/275] Loss0.19842, ACC:0.72371%\n",
      "[274/275] Loss0.20024, ACC:0.72414%\n",
      "Train_Loss: 0.20119628543203527,ACC:0.724%\n",
      "\u001b[66mHAM10000 ==> testing ...\u001b[0m\n"
     ]
    },
    {
     "data": {
      "application/vnd.jupyter.widget-view+json": {
       "model_id": "e9e741729a8f4c70b351bd868c20f544",
       "version_major": 2,
       "version_minor": 0
      },
      "text/plain": [
       "  0%|          | 0/27 [00:00<?, ?it/s]"
      ]
     },
     "metadata": {},
     "output_type": "display_data"
    },
    {
     "name": "stdout",
     "output_type": "stream",
     "text": [
      "Test_Acc:\u001b[1;32m93.72%\u001b[0m\n",
      "Best_ACC[\u001b[1;32m94.807%\u001b[0m]\n",
      "Epoch: [85] HAM10000 ==> Training ...\n"
     ]
    },
    {
     "data": {
      "application/vnd.jupyter.widget-view+json": {
       "model_id": "01f1611a9e6445bea6e90529e329ebbe",
       "version_major": 2,
       "version_minor": 0
      },
      "text/plain": [
       "  0%|          | 0/275 [00:00<?, ?it/s]"
      ]
     },
     "metadata": {},
     "output_type": "display_data"
    },
    {
     "name": "stdout",
     "output_type": "stream",
     "text": [
      "[137/275] Loss0.21933, ACC:0.72519%\n",
      "[274/275] Loss0.19580, ACC:0.72746%\n",
      "Train_Loss: 0.19784325220368126,ACC:0.728%\n",
      "\u001b[66mHAM10000 ==> testing ...\u001b[0m\n"
     ]
    },
    {
     "data": {
      "application/vnd.jupyter.widget-view+json": {
       "model_id": "3f007e9e85da4ed1bfdc7e5f287c68a5",
       "version_major": 2,
       "version_minor": 0
      },
      "text/plain": [
       "  0%|          | 0/27 [00:00<?, ?it/s]"
      ]
     },
     "metadata": {},
     "output_type": "display_data"
    },
    {
     "name": "stdout",
     "output_type": "stream",
     "text": [
      "Test_Acc:\u001b[1;32m93.841%\u001b[0m\n",
      "Best_ACC[\u001b[1;32m94.807%\u001b[0m]\n",
      "Epoch: [86] HAM10000 ==> Training ...\n"
     ]
    },
    {
     "data": {
      "application/vnd.jupyter.widget-view+json": {
       "model_id": "5c29899e6db4446487fdedefea0e8e02",
       "version_major": 2,
       "version_minor": 0
      },
      "text/plain": [
       "  0%|          | 0/275 [00:00<?, ?it/s]"
      ]
     },
     "metadata": {},
     "output_type": "display_data"
    },
    {
     "name": "stdout",
     "output_type": "stream",
     "text": [
      "[137/275] Loss0.22503, ACC:0.72760%\n",
      "[274/275] Loss0.20308, ACC:0.72822%\n",
      "Train_Loss: 0.19725848225030032,ACC:0.728%\n",
      "\u001b[66mHAM10000 ==> testing ...\u001b[0m\n"
     ]
    },
    {
     "data": {
      "application/vnd.jupyter.widget-view+json": {
       "model_id": "216af76a77c14324ba0245bb675dd4a2",
       "version_major": 2,
       "version_minor": 0
      },
      "text/plain": [
       "  0%|          | 0/27 [00:00<?, ?it/s]"
      ]
     },
     "metadata": {},
     "output_type": "display_data"
    },
    {
     "name": "stdout",
     "output_type": "stream",
     "text": [
      "Test_Acc:\u001b[1;32m94.444%\u001b[0m\n",
      "Best_ACC[\u001b[1;32m94.807%\u001b[0m]\n",
      "Epoch: [87] HAM10000 ==> Training ...\n"
     ]
    },
    {
     "data": {
      "application/vnd.jupyter.widget-view+json": {
       "model_id": "6347bfc06158428baa4d5b5e03234db5",
       "version_major": 2,
       "version_minor": 0
      },
      "text/plain": [
       "  0%|          | 0/275 [00:00<?, ?it/s]"
      ]
     },
     "metadata": {},
     "output_type": "display_data"
    },
    {
     "name": "stdout",
     "output_type": "stream",
     "text": [
      "[137/275] Loss0.20988, ACC:0.72884%\n",
      "[274/275] Loss0.21837, ACC:0.72601%\n",
      "Train_Loss: 0.19840731301090933,ACC:0.726%\n",
      "\u001b[66mHAM10000 ==> testing ...\u001b[0m\n"
     ]
    },
    {
     "data": {
      "application/vnd.jupyter.widget-view+json": {
       "model_id": "1f1379ccb49b4522af139a667b818784",
       "version_major": 2,
       "version_minor": 0
      },
      "text/plain": [
       "  0%|          | 0/27 [00:00<?, ?it/s]"
      ]
     },
     "metadata": {},
     "output_type": "display_data"
    },
    {
     "name": "stdout",
     "output_type": "stream",
     "text": [
      "Test_Acc:\u001b[1;32m94.565%\u001b[0m\n",
      "Best_ACC[\u001b[1;32m94.807%\u001b[0m]\n",
      "Epoch: [88] HAM10000 ==> Training ...\n"
     ]
    },
    {
     "data": {
      "application/vnd.jupyter.widget-view+json": {
       "model_id": "c9daff09a85248e9a3300075f4ded3f9",
       "version_major": 2,
       "version_minor": 0
      },
      "text/plain": [
       "  0%|          | 0/275 [00:00<?, ?it/s]"
      ]
     },
     "metadata": {},
     "output_type": "display_data"
    },
    {
     "name": "stdout",
     "output_type": "stream",
     "text": [
      "[137/275] Loss0.19929, ACC:0.72620%\n",
      "[274/275] Loss0.23326, ACC:0.72502%\n",
      "Train_Loss: 0.20093507241119038,ACC:0.725%\n",
      "\u001b[66mHAM10000 ==> testing ...\u001b[0m\n"
     ]
    },
    {
     "data": {
      "application/vnd.jupyter.widget-view+json": {
       "model_id": "4dc17c0129e144b8a9fcb365d44deec4",
       "version_major": 2,
       "version_minor": 0
      },
      "text/plain": [
       "  0%|          | 0/27 [00:00<?, ?it/s]"
      ]
     },
     "metadata": {},
     "output_type": "display_data"
    },
    {
     "name": "stdout",
     "output_type": "stream",
     "text": [
      "Test_Acc:\u001b[1;32m89.01%\u001b[0m\n",
      "Best_ACC[\u001b[1;32m94.807%\u001b[0m]\n",
      "Epoch: [89] HAM10000 ==> Training ...\n"
     ]
    },
    {
     "data": {
      "application/vnd.jupyter.widget-view+json": {
       "model_id": "002eed7a189144c5a5288896a1ce0252",
       "version_major": 2,
       "version_minor": 0
      },
      "text/plain": [
       "  0%|          | 0/275 [00:00<?, ?it/s]"
      ]
     },
     "metadata": {},
     "output_type": "display_data"
    },
    {
     "name": "stdout",
     "output_type": "stream",
     "text": [
      "[137/275] Loss0.19769, ACC:0.71944%\n",
      "[274/275] Loss0.18544, ACC:0.71906%\n",
      "Train_Loss: 0.20499819825996052,ACC:0.719%\n",
      "\u001b[66mHAM10000 ==> testing ...\u001b[0m\n"
     ]
    },
    {
     "data": {
      "application/vnd.jupyter.widget-view+json": {
       "model_id": "96915b8ffb1e404386afc6b9be238e74",
       "version_major": 2,
       "version_minor": 0
      },
      "text/plain": [
       "  0%|          | 0/27 [00:00<?, ?it/s]"
      ]
     },
     "metadata": {},
     "output_type": "display_data"
    },
    {
     "name": "stdout",
     "output_type": "stream",
     "text": [
      "Test_Acc:\u001b[1;32m93.237%\u001b[0m\n",
      "Best_ACC[\u001b[1;32m94.807%\u001b[0m]\n",
      "Epoch: [90] HAM10000 ==> Training ...\n"
     ]
    },
    {
     "data": {
      "application/vnd.jupyter.widget-view+json": {
       "model_id": "43c832958b814855aef1b6716bb00e9c",
       "version_major": 2,
       "version_minor": 0
      },
      "text/plain": [
       "  0%|          | 0/275 [00:00<?, ?it/s]"
      ]
     },
     "metadata": {},
     "output_type": "display_data"
    },
    {
     "name": "stdout",
     "output_type": "stream",
     "text": [
      "[137/275] Loss0.22535, ACC:0.70884%\n",
      "[274/275] Loss0.22798, ACC:0.70916%\n",
      "Train_Loss: 0.2095198870788921,ACC:0.709%\n",
      "\u001b[66mHAM10000 ==> testing ...\u001b[0m\n"
     ]
    },
    {
     "data": {
      "application/vnd.jupyter.widget-view+json": {
       "model_id": "7210ec320521464896fc0cb337afafd1",
       "version_major": 2,
       "version_minor": 0
      },
      "text/plain": [
       "  0%|          | 0/27 [00:00<?, ?it/s]"
      ]
     },
     "metadata": {},
     "output_type": "display_data"
    },
    {
     "name": "stdout",
     "output_type": "stream",
     "text": [
      "Test_Acc:\u001b[1;32m91.184%\u001b[0m\n",
      "Best_ACC[\u001b[1;32m94.807%\u001b[0m]\n",
      "Epoch: [91] HAM10000 ==> Training ...\n"
     ]
    },
    {
     "data": {
      "application/vnd.jupyter.widget-view+json": {
       "model_id": "f5ded59f3b35484282173f1026fe13e2",
       "version_major": 2,
       "version_minor": 0
      },
      "text/plain": [
       "  0%|          | 0/275 [00:00<?, ?it/s]"
      ]
     },
     "metadata": {},
     "output_type": "display_data"
    },
    {
     "name": "stdout",
     "output_type": "stream",
     "text": [
      "[137/275] Loss0.20569, ACC:0.70764%\n",
      "[274/275] Loss0.18420, ACC:0.70883%\n",
      "Train_Loss: 0.21025339831005443,ACC:0.709%\n",
      "\u001b[66mHAM10000 ==> testing ...\u001b[0m\n"
     ]
    },
    {
     "data": {
      "application/vnd.jupyter.widget-view+json": {
       "model_id": "c398f4f4e5704aaaa32235c68e9d841a",
       "version_major": 2,
       "version_minor": 0
      },
      "text/plain": [
       "  0%|          | 0/27 [00:00<?, ?it/s]"
      ]
     },
     "metadata": {},
     "output_type": "display_data"
    },
    {
     "name": "stdout",
     "output_type": "stream",
     "text": [
      "Test_Acc:\u001b[1;32m60.628%\u001b[0m\n",
      "Best_ACC[\u001b[1;32m94.807%\u001b[0m]\n",
      "Epoch: [92] HAM10000 ==> Training ...\n"
     ]
    },
    {
     "data": {
      "application/vnd.jupyter.widget-view+json": {
       "model_id": "989cd015eb1845708900fe0568da701c",
       "version_major": 2,
       "version_minor": 0
      },
      "text/plain": [
       "  0%|          | 0/275 [00:00<?, ?it/s]"
      ]
     },
     "metadata": {},
     "output_type": "display_data"
    },
    {
     "name": "stdout",
     "output_type": "stream",
     "text": [
      "[137/275] Loss0.22193, ACC:0.71292%\n",
      "[274/275] Loss0.20462, ACC:0.71333%\n",
      "Train_Loss: 0.2079419746724042,ACC:0.713%\n",
      "\u001b[66mHAM10000 ==> testing ...\u001b[0m\n"
     ]
    },
    {
     "data": {
      "application/vnd.jupyter.widget-view+json": {
       "model_id": "73f906697e6c46fca478212d5319c237",
       "version_major": 2,
       "version_minor": 0
      },
      "text/plain": [
       "  0%|          | 0/27 [00:00<?, ?it/s]"
      ]
     },
     "metadata": {},
     "output_type": "display_data"
    },
    {
     "name": "stdout",
     "output_type": "stream",
     "text": [
      "Test_Acc:\u001b[1;32m90.7%\u001b[0m\n",
      "Best_ACC[\u001b[1;32m94.807%\u001b[0m]\n",
      "Epoch: [93] HAM10000 ==> Training ...\n"
     ]
    },
    {
     "data": {
      "application/vnd.jupyter.widget-view+json": {
       "model_id": "ab0d1499d9004d5eb9998e04800d7e9d",
       "version_major": 2,
       "version_minor": 0
      },
      "text/plain": [
       "  0%|          | 0/275 [00:00<?, ?it/s]"
      ]
     },
     "metadata": {},
     "output_type": "display_data"
    },
    {
     "name": "stdout",
     "output_type": "stream",
     "text": [
      "[137/275] Loss0.18453, ACC:0.71781%\n",
      "[274/275] Loss0.21847, ACC:0.71680%\n",
      "Train_Loss: 0.2046926811066541,ACC:0.717%\n",
      "\u001b[66mHAM10000 ==> testing ...\u001b[0m\n"
     ]
    },
    {
     "data": {
      "application/vnd.jupyter.widget-view+json": {
       "model_id": "5b8a8f37320f447c9812280d8ed7b51d",
       "version_major": 2,
       "version_minor": 0
      },
      "text/plain": [
       "  0%|          | 0/27 [00:00<?, ?it/s]"
      ]
     },
     "metadata": {},
     "output_type": "display_data"
    },
    {
     "name": "stdout",
     "output_type": "stream",
     "text": [
      "Test_Acc:\u001b[1;32m85.87%\u001b[0m\n",
      "Best_ACC[\u001b[1;32m94.807%\u001b[0m]\n",
      "Epoch: [94] HAM10000 ==> Training ...\n"
     ]
    },
    {
     "data": {
      "application/vnd.jupyter.widget-view+json": {
       "model_id": "1c69ef76ab454024a5572379cff37461",
       "version_major": 2,
       "version_minor": 0
      },
      "text/plain": [
       "  0%|          | 0/275 [00:00<?, ?it/s]"
      ]
     },
     "metadata": {},
     "output_type": "display_data"
    },
    {
     "name": "stdout",
     "output_type": "stream",
     "text": [
      "[137/275] Loss0.19661, ACC:0.72395%\n",
      "[274/275] Loss0.21668, ACC:0.72550%\n",
      "Train_Loss: 0.19974130814725702,ACC:0.725%\n",
      "\u001b[66mHAM10000 ==> testing ...\u001b[0m\n"
     ]
    },
    {
     "data": {
      "application/vnd.jupyter.widget-view+json": {
       "model_id": "b88a65b67ebe44b18c2b64b6fb996b0f",
       "version_major": 2,
       "version_minor": 0
      },
      "text/plain": [
       "  0%|          | 0/27 [00:00<?, ?it/s]"
      ]
     },
     "metadata": {},
     "output_type": "display_data"
    },
    {
     "name": "stdout",
     "output_type": "stream",
     "text": [
      "Test_Acc:\u001b[1;32m94.203%\u001b[0m\n",
      "Best_ACC[\u001b[1;32m94.807%\u001b[0m]\n",
      "Epoch: [95] HAM10000 ==> Training ...\n"
     ]
    },
    {
     "data": {
      "application/vnd.jupyter.widget-view+json": {
       "model_id": "a565d899e2874577b2aee8f145cbea6a",
       "version_major": 2,
       "version_minor": 0
      },
      "text/plain": [
       "  0%|          | 0/275 [00:00<?, ?it/s]"
      ]
     },
     "metadata": {},
     "output_type": "display_data"
    },
    {
     "name": "stdout",
     "output_type": "stream",
     "text": [
      "[137/275] Loss0.19172, ACC:0.73024%\n",
      "[274/275] Loss0.21655, ACC:0.72966%\n",
      "Train_Loss: 0.19649032603610644,ACC:0.73%\n",
      "\u001b[66mHAM10000 ==> testing ...\u001b[0m\n"
     ]
    },
    {
     "data": {
      "application/vnd.jupyter.widget-view+json": {
       "model_id": "6d47d0d3aa3b4bf8818fd0447e4f0a36",
       "version_major": 2,
       "version_minor": 0
      },
      "text/plain": [
       "  0%|          | 0/27 [00:00<?, ?it/s]"
      ]
     },
     "metadata": {},
     "output_type": "display_data"
    },
    {
     "name": "stdout",
     "output_type": "stream",
     "text": [
      "Test_Acc:\u001b[1;32m95.29%\u001b[0m\n",
      "Best_ACC[\u001b[1;32m95.29%\u001b[0m]\n",
      "Epoch: [96] HAM10000 ==> Training ...\n"
     ]
    },
    {
     "data": {
      "application/vnd.jupyter.widget-view+json": {
       "model_id": "32d4a724905a45d69d3ae59ada175e88",
       "version_major": 2,
       "version_minor": 0
      },
      "text/plain": [
       "  0%|          | 0/275 [00:00<?, ?it/s]"
      ]
     },
     "metadata": {},
     "output_type": "display_data"
    },
    {
     "name": "stdout",
     "output_type": "stream",
     "text": [
      "[137/275] Loss0.22765, ACC:0.73210%\n",
      "[274/275] Loss0.21359, ACC:0.73426%\n",
      "Train_Loss: 0.1952324425090443,ACC:0.734%\n",
      "\u001b[66mHAM10000 ==> testing ...\u001b[0m\n"
     ]
    },
    {
     "data": {
      "application/vnd.jupyter.widget-view+json": {
       "model_id": "87bd186f374f4007b8053ca2a9a6fdb5",
       "version_major": 2,
       "version_minor": 0
      },
      "text/plain": [
       "  0%|          | 0/27 [00:00<?, ?it/s]"
      ]
     },
     "metadata": {},
     "output_type": "display_data"
    },
    {
     "name": "stdout",
     "output_type": "stream",
     "text": [
      "Test_Acc:\u001b[1;32m95.652%\u001b[0m\n",
      "Best_ACC[\u001b[1;32m95.652%\u001b[0m]\n",
      "Epoch: [97] HAM10000 ==> Training ...\n"
     ]
    },
    {
     "data": {
      "application/vnd.jupyter.widget-view+json": {
       "model_id": "5a5108c9605d4e2cbe9ae113eba12627",
       "version_major": 2,
       "version_minor": 0
      },
      "text/plain": [
       "  0%|          | 0/275 [00:00<?, ?it/s]"
      ]
     },
     "metadata": {},
     "output_type": "display_data"
    },
    {
     "name": "stdout",
     "output_type": "stream",
     "text": [
      "[137/275] Loss0.17297, ACC:0.73369%\n",
      "[274/275] Loss0.18612, ACC:0.73210%\n",
      "Train_Loss: 0.19638272556391628,ACC:0.732%\n",
      "\u001b[66mHAM10000 ==> testing ...\u001b[0m\n"
     ]
    },
    {
     "data": {
      "application/vnd.jupyter.widget-view+json": {
       "model_id": "6bd3676d2d654e95ac08dc7af1d51e11",
       "version_major": 2,
       "version_minor": 0
      },
      "text/plain": [
       "  0%|          | 0/27 [00:00<?, ?it/s]"
      ]
     },
     "metadata": {},
     "output_type": "display_data"
    },
    {
     "name": "stdout",
     "output_type": "stream",
     "text": [
      "Test_Acc:\u001b[1;32m95.169%\u001b[0m\n",
      "Best_ACC[\u001b[1;32m95.652%\u001b[0m]\n",
      "Epoch: [98] HAM10000 ==> Training ...\n"
     ]
    },
    {
     "data": {
      "application/vnd.jupyter.widget-view+json": {
       "model_id": "4c976cd7b8264c1abec3fb457571727c",
       "version_major": 2,
       "version_minor": 0
      },
      "text/plain": [
       "  0%|          | 0/275 [00:00<?, ?it/s]"
      ]
     },
     "metadata": {},
     "output_type": "display_data"
    },
    {
     "name": "stdout",
     "output_type": "stream",
     "text": [
      "[137/275] Loss0.19383, ACC:0.73094%\n",
      "[274/275] Loss0.20417, ACC:0.72764%\n",
      "Train_Loss: 0.19891217361796987,ACC:0.728%\n",
      "\u001b[66mHAM10000 ==> testing ...\u001b[0m\n"
     ]
    },
    {
     "data": {
      "application/vnd.jupyter.widget-view+json": {
       "model_id": "7eb6757c2dfb4f16bb9fd0e852d24b1a",
       "version_major": 2,
       "version_minor": 0
      },
      "text/plain": [
       "  0%|          | 0/27 [00:00<?, ?it/s]"
      ]
     },
     "metadata": {},
     "output_type": "display_data"
    },
    {
     "name": "stdout",
     "output_type": "stream",
     "text": [
      "Test_Acc:\u001b[1;32m94.565%\u001b[0m\n",
      "Best_ACC[\u001b[1;32m95.652%\u001b[0m]\n",
      "Epoch: [99] HAM10000 ==> Training ...\n"
     ]
    },
    {
     "data": {
      "application/vnd.jupyter.widget-view+json": {
       "model_id": "957bf54cc5ca42bcbec554ead69e984c",
       "version_major": 2,
       "version_minor": 0
      },
      "text/plain": [
       "  0%|          | 0/275 [00:00<?, ?it/s]"
      ]
     },
     "metadata": {},
     "output_type": "display_data"
    },
    {
     "name": "stdout",
     "output_type": "stream",
     "text": [
      "[137/275] Loss0.19286, ACC:0.71677%\n",
      "[274/275] Loss0.18797, ACC:0.71875%\n",
      "Train_Loss: 0.2032735760645433,ACC:0.719%\n",
      "\u001b[66mHAM10000 ==> testing ...\u001b[0m\n"
     ]
    },
    {
     "data": {
      "application/vnd.jupyter.widget-view+json": {
       "model_id": "6beea436d1e943b7a78e9c20ce729305",
       "version_major": 2,
       "version_minor": 0
      },
      "text/plain": [
       "  0%|          | 0/27 [00:00<?, ?it/s]"
      ]
     },
     "metadata": {},
     "output_type": "display_data"
    },
    {
     "name": "stdout",
     "output_type": "stream",
     "text": [
      "Test_Acc:\u001b[1;32m90.942%\u001b[0m\n",
      "Best_ACC[\u001b[1;32m95.652%\u001b[0m]\n",
      "Epoch: [100] HAM10000 ==> Training ...\n"
     ]
    },
    {
     "data": {
      "application/vnd.jupyter.widget-view+json": {
       "model_id": "fc47b10a680f45f6875e2ac1f4b4459c",
       "version_major": 2,
       "version_minor": 0
      },
      "text/plain": [
       "  0%|          | 0/275 [00:00<?, ?it/s]"
      ]
     },
     "metadata": {},
     "output_type": "display_data"
    },
    {
     "name": "stdout",
     "output_type": "stream",
     "text": [
      "[137/275] Loss0.19356, ACC:0.71824%\n",
      "[274/275] Loss0.22671, ACC:0.71199%\n",
      "Train_Loss: 0.20849250262433833,ACC:0.712%\n",
      "\u001b[66mHAM10000 ==> testing ...\u001b[0m\n"
     ]
    },
    {
     "data": {
      "application/vnd.jupyter.widget-view+json": {
       "model_id": "9a527f30d6de4676b61dc26cd4fc825e",
       "version_major": 2,
       "version_minor": 0
      },
      "text/plain": [
       "  0%|          | 0/27 [00:00<?, ?it/s]"
      ]
     },
     "metadata": {},
     "output_type": "display_data"
    },
    {
     "name": "stdout",
     "output_type": "stream",
     "text": [
      "Test_Acc:\u001b[1;32m86.594%\u001b[0m\n",
      "Best_ACC[\u001b[1;32m95.652%\u001b[0m]\n",
      "Epoch: [101] HAM10000 ==> Training ...\n"
     ]
    },
    {
     "data": {
      "application/vnd.jupyter.widget-view+json": {
       "model_id": "88a0f599ccf04a41bdcf7318c48629fe",
       "version_major": 2,
       "version_minor": 0
      },
      "text/plain": [
       "  0%|          | 0/275 [00:00<?, ?it/s]"
      ]
     },
     "metadata": {},
     "output_type": "display_data"
    },
    {
     "name": "stdout",
     "output_type": "stream",
     "text": [
      "[137/275] Loss0.19056, ACC:0.71397%\n",
      "[274/275] Loss0.21723, ACC:0.71230%\n",
      "Train_Loss: 0.20824505719271574,ACC:0.712%\n",
      "\u001b[66mHAM10000 ==> testing ...\u001b[0m\n"
     ]
    },
    {
     "data": {
      "application/vnd.jupyter.widget-view+json": {
       "model_id": "7fb8862d912c4921b9e5367c9900db66",
       "version_major": 2,
       "version_minor": 0
      },
      "text/plain": [
       "  0%|          | 0/27 [00:00<?, ?it/s]"
      ]
     },
     "metadata": {},
     "output_type": "display_data"
    },
    {
     "name": "stdout",
     "output_type": "stream",
     "text": [
      "Test_Acc:\u001b[1;32m94.082%\u001b[0m\n",
      "Best_ACC[\u001b[1;32m95.652%\u001b[0m]\n",
      "Epoch: [102] HAM10000 ==> Training ...\n"
     ]
    },
    {
     "data": {
      "application/vnd.jupyter.widget-view+json": {
       "model_id": "dd3657082ea4459e8a78c00b75d543aa",
       "version_major": 2,
       "version_minor": 0
      },
      "text/plain": [
       "  0%|          | 0/275 [00:00<?, ?it/s]"
      ]
     },
     "metadata": {},
     "output_type": "display_data"
    },
    {
     "name": "stdout",
     "output_type": "stream",
     "text": [
      "[137/275] Loss0.21649, ACC:0.71432%\n",
      "[274/275] Loss0.18731, ACC:0.71764%\n",
      "Train_Loss: 0.20552018918774345,ACC:0.717%\n",
      "\u001b[66mHAM10000 ==> testing ...\u001b[0m\n"
     ]
    },
    {
     "data": {
      "application/vnd.jupyter.widget-view+json": {
       "model_id": "533f77b5a49441b3b37e9d6bf1111d2a",
       "version_major": 2,
       "version_minor": 0
      },
      "text/plain": [
       "  0%|          | 0/27 [00:00<?, ?it/s]"
      ]
     },
     "metadata": {},
     "output_type": "display_data"
    },
    {
     "name": "stdout",
     "output_type": "stream",
     "text": [
      "Test_Acc:\u001b[1;32m90.942%\u001b[0m\n",
      "Best_ACC[\u001b[1;32m95.652%\u001b[0m]\n",
      "Epoch: [103] HAM10000 ==> Training ...\n"
     ]
    },
    {
     "data": {
      "application/vnd.jupyter.widget-view+json": {
       "model_id": "09acd9a57d5545208804c0497d47812e",
       "version_major": 2,
       "version_minor": 0
      },
      "text/plain": [
       "  0%|          | 0/275 [00:00<?, ?it/s]"
      ]
     },
     "metadata": {},
     "output_type": "display_data"
    },
    {
     "name": "stdout",
     "output_type": "stream",
     "text": [
      "[137/275] Loss0.18371, ACC:0.72158%\n",
      "[274/275] Loss0.20040, ACC:0.72224%\n",
      "Train_Loss: 0.2019405497746034,ACC:0.722%\n",
      "\u001b[66mHAM10000 ==> testing ...\u001b[0m\n"
     ]
    },
    {
     "data": {
      "application/vnd.jupyter.widget-view+json": {
       "model_id": "11cdba38405247ed8ba85ba7dfecddf8",
       "version_major": 2,
       "version_minor": 0
      },
      "text/plain": [
       "  0%|          | 0/27 [00:00<?, ?it/s]"
      ]
     },
     "metadata": {},
     "output_type": "display_data"
    },
    {
     "name": "stdout",
     "output_type": "stream",
     "text": [
      "Test_Acc:\u001b[1;32m80.797%\u001b[0m\n",
      "Best_ACC[\u001b[1;32m95.652%\u001b[0m]\n",
      "Epoch: [104] HAM10000 ==> Training ...\n"
     ]
    },
    {
     "data": {
      "application/vnd.jupyter.widget-view+json": {
       "model_id": "7ec9d5cd1ea24b949fd0e28283121990",
       "version_major": 2,
       "version_minor": 0
      },
      "text/plain": [
       "  0%|          | 0/275 [00:00<?, ?it/s]"
      ]
     },
     "metadata": {},
     "output_type": "display_data"
    },
    {
     "name": "stdout",
     "output_type": "stream",
     "text": [
      "[137/275] Loss0.19964, ACC:0.72880%\n",
      "[274/275] Loss0.18303, ACC:0.73004%\n",
      "Train_Loss: 0.1971447559378364,ACC:0.73%\n",
      "\u001b[66mHAM10000 ==> testing ...\u001b[0m\n"
     ]
    },
    {
     "data": {
      "application/vnd.jupyter.widget-view+json": {
       "model_id": "34da881751a944229f944f6922ca27ca",
       "version_major": 2,
       "version_minor": 0
      },
      "text/plain": [
       "  0%|          | 0/27 [00:00<?, ?it/s]"
      ]
     },
     "metadata": {},
     "output_type": "display_data"
    },
    {
     "name": "stdout",
     "output_type": "stream",
     "text": [
      "Test_Acc:\u001b[1;32m92.633%\u001b[0m\n",
      "Best_ACC[\u001b[1;32m95.652%\u001b[0m]\n",
      "Epoch: [105] HAM10000 ==> Training ...\n"
     ]
    },
    {
     "data": {
      "application/vnd.jupyter.widget-view+json": {
       "model_id": "18561d7463e5444d8b227074f8f77139",
       "version_major": 2,
       "version_minor": 0
      },
      "text/plain": [
       "  0%|          | 0/275 [00:00<?, ?it/s]"
      ]
     },
     "metadata": {},
     "output_type": "display_data"
    },
    {
     "name": "stdout",
     "output_type": "stream",
     "text": [
      "[137/275] Loss0.20094, ACC:0.73579%\n",
      "[274/275] Loss0.19865, ACC:0.73490%\n",
      "Train_Loss: 0.19433500457893718,ACC:0.735%\n",
      "\u001b[66mHAM10000 ==> testing ...\u001b[0m\n"
     ]
    },
    {
     "data": {
      "application/vnd.jupyter.widget-view+json": {
       "model_id": "bad91db10ba04cbdb6c6012dac461d83",
       "version_major": 2,
       "version_minor": 0
      },
      "text/plain": [
       "  0%|          | 0/27 [00:00<?, ?it/s]"
      ]
     },
     "metadata": {},
     "output_type": "display_data"
    },
    {
     "name": "stdout",
     "output_type": "stream",
     "text": [
      "Test_Acc:\u001b[1;32m95.29%\u001b[0m\n",
      "Best_ACC[\u001b[1;32m95.652%\u001b[0m]\n",
      "Epoch: [106] HAM10000 ==> Training ...\n"
     ]
    },
    {
     "data": {
      "application/vnd.jupyter.widget-view+json": {
       "model_id": "112137aaff534f33a341f99df651d17a",
       "version_major": 2,
       "version_minor": 0
      },
      "text/plain": [
       "  0%|          | 0/275 [00:00<?, ?it/s]"
      ]
     },
     "metadata": {},
     "output_type": "display_data"
    },
    {
     "name": "stdout",
     "output_type": "stream",
     "text": [
      "[137/275] Loss0.18171, ACC:0.74025%\n",
      "[274/275] Loss0.19251, ACC:0.73672%\n",
      "Train_Loss: 0.1928256046772003,ACC:0.737%\n",
      "\u001b[66mHAM10000 ==> testing ...\u001b[0m\n"
     ]
    },
    {
     "data": {
      "application/vnd.jupyter.widget-view+json": {
       "model_id": "b874ff485c4f416387f36bf1014e8e25",
       "version_major": 2,
       "version_minor": 0
      },
      "text/plain": [
       "  0%|          | 0/27 [00:00<?, ?it/s]"
      ]
     },
     "metadata": {},
     "output_type": "display_data"
    },
    {
     "name": "stdout",
     "output_type": "stream",
     "text": [
      "Test_Acc:\u001b[1;32m95.531%\u001b[0m\n",
      "Best_ACC[\u001b[1;32m95.652%\u001b[0m]\n",
      "Epoch: [107] HAM10000 ==> Training ...\n"
     ]
    },
    {
     "data": {
      "application/vnd.jupyter.widget-view+json": {
       "model_id": "63b10f3327094f5080d9483b88186132",
       "version_major": 2,
       "version_minor": 0
      },
      "text/plain": [
       "  0%|          | 0/275 [00:00<?, ?it/s]"
      ]
     },
     "metadata": {},
     "output_type": "display_data"
    },
    {
     "name": "stdout",
     "output_type": "stream",
     "text": [
      "[137/275] Loss0.19393, ACC:0.73637%\n",
      "[274/275] Loss0.21104, ACC:0.73629%\n",
      "Train_Loss: 0.19393050020391292,ACC:0.736%\n",
      "\u001b[66mHAM10000 ==> testing ...\u001b[0m\n"
     ]
    },
    {
     "data": {
      "application/vnd.jupyter.widget-view+json": {
       "model_id": "3467031f1165473287bbf55c85eb23a3",
       "version_major": 2,
       "version_minor": 0
      },
      "text/plain": [
       "  0%|          | 0/27 [00:00<?, ?it/s]"
      ]
     },
     "metadata": {},
     "output_type": "display_data"
    },
    {
     "name": "stdout",
     "output_type": "stream",
     "text": [
      "Test_Acc:\u001b[1;32m95.411%\u001b[0m\n",
      "Best_ACC[\u001b[1;32m95.652%\u001b[0m]\n",
      "Epoch: [108] HAM10000 ==> Training ...\n"
     ]
    },
    {
     "data": {
      "application/vnd.jupyter.widget-view+json": {
       "model_id": "95275031b0884cf99e7cc1e5ddff194b",
       "version_major": 2,
       "version_minor": 0
      },
      "text/plain": [
       "  0%|          | 0/275 [00:00<?, ?it/s]"
      ]
     },
     "metadata": {},
     "output_type": "display_data"
    },
    {
     "name": "stdout",
     "output_type": "stream",
     "text": [
      "[137/275] Loss0.23516, ACC:0.73998%\n",
      "[274/275] Loss0.19997, ACC:0.73387%\n",
      "Train_Loss: 0.19582874823700297,ACC:0.734%\n",
      "\u001b[66mHAM10000 ==> testing ...\u001b[0m\n"
     ]
    },
    {
     "data": {
      "application/vnd.jupyter.widget-view+json": {
       "model_id": "af83134f5c164e6c889205531d0ce750",
       "version_major": 2,
       "version_minor": 0
      },
      "text/plain": [
       "  0%|          | 0/27 [00:00<?, ?it/s]"
      ]
     },
     "metadata": {},
     "output_type": "display_data"
    },
    {
     "name": "stdout",
     "output_type": "stream",
     "text": [
      "Test_Acc:\u001b[1;32m92.271%\u001b[0m\n",
      "Best_ACC[\u001b[1;32m95.652%\u001b[0m]\n",
      "Epoch: [109] HAM10000 ==> Training ...\n"
     ]
    },
    {
     "data": {
      "application/vnd.jupyter.widget-view+json": {
       "model_id": "74b28f87ff62469a95334c41eb3e997b",
       "version_major": 2,
       "version_minor": 0
      },
      "text/plain": [
       "  0%|          | 0/275 [00:00<?, ?it/s]"
      ]
     },
     "metadata": {},
     "output_type": "display_data"
    },
    {
     "name": "stdout",
     "output_type": "stream",
     "text": [
      "[137/275] Loss0.19868, ACC:0.72597%\n",
      "[274/275] Loss0.19868, ACC:0.72758%\n",
      "Train_Loss: 0.20044361450455406,ACC:0.728%\n",
      "\u001b[66mHAM10000 ==> testing ...\u001b[0m\n"
     ]
    },
    {
     "data": {
      "application/vnd.jupyter.widget-view+json": {
       "model_id": "d7b7bf755b404c4ab8e496d30ad17db2",
       "version_major": 2,
       "version_minor": 0
      },
      "text/plain": [
       "  0%|          | 0/27 [00:00<?, ?it/s]"
      ]
     },
     "metadata": {},
     "output_type": "display_data"
    },
    {
     "name": "stdout",
     "output_type": "stream",
     "text": [
      "Test_Acc:\u001b[1;32m84.662%\u001b[0m\n",
      "Best_ACC[\u001b[1;32m95.652%\u001b[0m]\n",
      "Epoch: [110] HAM10000 ==> Training ...\n"
     ]
    },
    {
     "data": {
      "application/vnd.jupyter.widget-view+json": {
       "model_id": "4d73f49b30cc467a907404f6ae03f89e",
       "version_major": 2,
       "version_minor": 0
      },
      "text/plain": [
       "  0%|          | 0/275 [00:00<?, ?it/s]"
      ]
     },
     "metadata": {},
     "output_type": "display_data"
    },
    {
     "name": "stdout",
     "output_type": "stream",
     "text": [
      "[137/275] Loss0.21640, ACC:0.72232%\n",
      "[274/275] Loss0.21482, ACC:0.71921%\n",
      "Train_Loss: 0.20411223037676376,ACC:0.719%\n",
      "\u001b[66mHAM10000 ==> testing ...\u001b[0m\n"
     ]
    },
    {
     "data": {
      "application/vnd.jupyter.widget-view+json": {
       "model_id": "5375f52ca85c4e4282d9a3d35b2502cb",
       "version_major": 2,
       "version_minor": 0
      },
      "text/plain": [
       "  0%|          | 0/27 [00:00<?, ?it/s]"
      ]
     },
     "metadata": {},
     "output_type": "display_data"
    },
    {
     "name": "stdout",
     "output_type": "stream",
     "text": [
      "Test_Acc:\u001b[1;32m64.855%\u001b[0m\n",
      "Best_ACC[\u001b[1;32m95.652%\u001b[0m]\n",
      "Epoch: [111] HAM10000 ==> Training ...\n"
     ]
    },
    {
     "data": {
      "application/vnd.jupyter.widget-view+json": {
       "model_id": "97cf41ac44cf48ce8e5ed38560104d88",
       "version_major": 2,
       "version_minor": 0
      },
      "text/plain": [
       "  0%|          | 0/275 [00:00<?, ?it/s]"
      ]
     },
     "metadata": {},
     "output_type": "display_data"
    },
    {
     "name": "stdout",
     "output_type": "stream",
     "text": [
      "[137/275] Loss0.19814, ACC:0.71591%\n",
      "[274/275] Loss0.21395, ACC:0.71713%\n",
      "Train_Loss: 0.2057541651617397,ACC:0.717%\n",
      "\u001b[66mHAM10000 ==> testing ...\u001b[0m\n"
     ]
    },
    {
     "data": {
      "application/vnd.jupyter.widget-view+json": {
       "model_id": "2d4d11f23f18496ebd9ae52eae7551ed",
       "version_major": 2,
       "version_minor": 0
      },
      "text/plain": [
       "  0%|          | 0/27 [00:00<?, ?it/s]"
      ]
     },
     "metadata": {},
     "output_type": "display_data"
    },
    {
     "name": "stdout",
     "output_type": "stream",
     "text": [
      "Test_Acc:\u001b[1;32m93.961%\u001b[0m\n",
      "Best_ACC[\u001b[1;32m95.652%\u001b[0m]\n",
      "Epoch: [112] HAM10000 ==> Training ...\n"
     ]
    },
    {
     "data": {
      "application/vnd.jupyter.widget-view+json": {
       "model_id": "58da0a0b8da342b5b359c995647a1f7e",
       "version_major": 2,
       "version_minor": 0
      },
      "text/plain": [
       "  0%|          | 0/275 [00:00<?, ?it/s]"
      ]
     },
     "metadata": {},
     "output_type": "display_data"
    },
    {
     "name": "stdout",
     "output_type": "stream",
     "text": [
      "[137/275] Loss0.17709, ACC:0.72325%\n",
      "[274/275] Loss0.20384, ACC:0.72206%\n",
      "Train_Loss: 0.2038360812989148,ACC:0.722%\n",
      "\u001b[66mHAM10000 ==> testing ...\u001b[0m\n"
     ]
    },
    {
     "data": {
      "application/vnd.jupyter.widget-view+json": {
       "model_id": "a8f1cb623fca4653b2a76e5c726f3249",
       "version_major": 2,
       "version_minor": 0
      },
      "text/plain": [
       "  0%|          | 0/27 [00:00<?, ?it/s]"
      ]
     },
     "metadata": {},
     "output_type": "display_data"
    },
    {
     "name": "stdout",
     "output_type": "stream",
     "text": [
      "Test_Acc:\u001b[1;32m89.855%\u001b[0m\n",
      "Best_ACC[\u001b[1;32m95.652%\u001b[0m]\n",
      "Epoch: [113] HAM10000 ==> Training ...\n"
     ]
    },
    {
     "data": {
      "application/vnd.jupyter.widget-view+json": {
       "model_id": "7e205b80f22544eda6701b33802d3cea",
       "version_major": 2,
       "version_minor": 0
      },
      "text/plain": [
       "  0%|          | 0/275 [00:00<?, ?it/s]"
      ]
     },
     "metadata": {},
     "output_type": "display_data"
    },
    {
     "name": "stdout",
     "output_type": "stream",
     "text": [
      "[137/275] Loss0.19045, ACC:0.72678%\n",
      "[274/275] Loss0.19989, ACC:0.72622%\n",
      "Train_Loss: 0.20039527936415238,ACC:0.726%\n",
      "\u001b[66mHAM10000 ==> testing ...\u001b[0m\n"
     ]
    },
    {
     "data": {
      "application/vnd.jupyter.widget-view+json": {
       "model_id": "623620dfa5564c2ebf4d50d29f8260f2",
       "version_major": 2,
       "version_minor": 0
      },
      "text/plain": [
       "  0%|          | 0/27 [00:00<?, ?it/s]"
      ]
     },
     "metadata": {},
     "output_type": "display_data"
    },
    {
     "name": "stdout",
     "output_type": "stream",
     "text": [
      "Test_Acc:\u001b[1;32m92.874%\u001b[0m\n",
      "Best_ACC[\u001b[1;32m95.652%\u001b[0m]\n",
      "Epoch: [114] HAM10000 ==> Training ...\n"
     ]
    },
    {
     "data": {
      "application/vnd.jupyter.widget-view+json": {
       "model_id": "13c39e80e35d4a2281edccbc6aeea625",
       "version_major": 2,
       "version_minor": 0
      },
      "text/plain": [
       "  0%|          | 0/275 [00:00<?, ?it/s]"
      ]
     },
     "metadata": {},
     "output_type": "display_data"
    },
    {
     "name": "stdout",
     "output_type": "stream",
     "text": [
      "[137/275] Loss0.19788, ACC:0.73020%\n",
      "[274/275] Loss0.19900, ACC:0.73136%\n",
      "Train_Loss: 0.1961994070898403,ACC:0.731%\n",
      "\u001b[66mHAM10000 ==> testing ...\u001b[0m\n"
     ]
    },
    {
     "data": {
      "application/vnd.jupyter.widget-view+json": {
       "model_id": "fa6ae5ad9c4248709daeefcd7ec4fead",
       "version_major": 2,
       "version_minor": 0
      },
      "text/plain": [
       "  0%|          | 0/27 [00:00<?, ?it/s]"
      ]
     },
     "metadata": {},
     "output_type": "display_data"
    },
    {
     "name": "stdout",
     "output_type": "stream",
     "text": [
      "Test_Acc:\u001b[1;32m94.807%\u001b[0m\n",
      "Best_ACC[\u001b[1;32m95.652%\u001b[0m]\n",
      "Epoch: [115] HAM10000 ==> Training ...\n"
     ]
    },
    {
     "data": {
      "application/vnd.jupyter.widget-view+json": {
       "model_id": "222b77bdc4b94fdab788c908c2fde409",
       "version_major": 2,
       "version_minor": 0
      },
      "text/plain": [
       "  0%|          | 0/275 [00:00<?, ?it/s]"
      ]
     },
     "metadata": {},
     "output_type": "display_data"
    },
    {
     "name": "stdout",
     "output_type": "stream",
     "text": [
      "[137/275] Loss0.20918, ACC:0.73901%\n",
      "[274/275] Loss0.18093, ACC:0.74014%\n",
      "Train_Loss: 0.1920201214877042,ACC:0.74%\n",
      "\u001b[66mHAM10000 ==> testing ...\u001b[0m\n"
     ]
    },
    {
     "data": {
      "application/vnd.jupyter.widget-view+json": {
       "model_id": "1991c151b7b64998ba3bded5f352bfdc",
       "version_major": 2,
       "version_minor": 0
      },
      "text/plain": [
       "  0%|          | 0/27 [00:00<?, ?it/s]"
      ]
     },
     "metadata": {},
     "output_type": "display_data"
    },
    {
     "name": "stdout",
     "output_type": "stream",
     "text": [
      "Test_Acc:\u001b[1;32m95.652%\u001b[0m\n",
      "Best_ACC[\u001b[1;32m95.652%\u001b[0m]\n",
      "Epoch: [116] HAM10000 ==> Training ...\n"
     ]
    },
    {
     "data": {
      "application/vnd.jupyter.widget-view+json": {
       "model_id": "f20d23a33fc54e0db4552f71dafa3081",
       "version_major": 2,
       "version_minor": 0
      },
      "text/plain": [
       "  0%|          | 0/275 [00:00<?, ?it/s]"
      ]
     },
     "metadata": {},
     "output_type": "display_data"
    },
    {
     "name": "stdout",
     "output_type": "stream",
     "text": [
      "[137/275] Loss0.16750, ACC:0.74192%\n",
      "[274/275] Loss0.19938, ACC:0.74202%\n",
      "Train_Loss: 0.190730311924761,ACC:0.742%\n",
      "\u001b[66mHAM10000 ==> testing ...\u001b[0m\n"
     ]
    },
    {
     "data": {
      "application/vnd.jupyter.widget-view+json": {
       "model_id": "6a66f8cfdf2f4763b1ae6deecf14c0dc",
       "version_major": 2,
       "version_minor": 0
      },
      "text/plain": [
       "  0%|          | 0/27 [00:00<?, ?it/s]"
      ]
     },
     "metadata": {},
     "output_type": "display_data"
    },
    {
     "name": "stdout",
     "output_type": "stream",
     "text": [
      "Test_Acc:\u001b[1;32m95.652%\u001b[0m\n",
      "Best_ACC[\u001b[1;32m95.652%\u001b[0m]\n",
      "Epoch: [117] HAM10000 ==> Training ...\n"
     ]
    },
    {
     "data": {
      "application/vnd.jupyter.widget-view+json": {
       "model_id": "06138527d7cc40c48f03e6cddadda144",
       "version_major": 2,
       "version_minor": 0
      },
      "text/plain": [
       "  0%|          | 0/275 [00:00<?, ?it/s]"
      ]
     },
     "metadata": {},
     "output_type": "display_data"
    },
    {
     "name": "stdout",
     "output_type": "stream",
     "text": [
      "[137/275] Loss0.17812, ACC:0.73940%\n",
      "[274/275] Loss0.18549, ACC:0.73971%\n",
      "Train_Loss: 0.19143144607543947,ACC:0.74%\n",
      "\u001b[66mHAM10000 ==> testing ...\u001b[0m\n"
     ]
    },
    {
     "data": {
      "application/vnd.jupyter.widget-view+json": {
       "model_id": "d4a76eebdbc74f79b9e839d131943f83",
       "version_major": 2,
       "version_minor": 0
      },
      "text/plain": [
       "  0%|          | 0/27 [00:00<?, ?it/s]"
      ]
     },
     "metadata": {},
     "output_type": "display_data"
    },
    {
     "name": "stdout",
     "output_type": "stream",
     "text": [
      "Test_Acc:\u001b[1;32m96.014%\u001b[0m\n",
      "Best_ACC[\u001b[1;32m96.014%\u001b[0m]\n",
      "Epoch: [118] HAM10000 ==> Training ...\n"
     ]
    },
    {
     "data": {
      "application/vnd.jupyter.widget-view+json": {
       "model_id": "abd3801c44934f179fe64ab71a54052c",
       "version_major": 2,
       "version_minor": 0
      },
      "text/plain": [
       "  0%|          | 0/275 [00:00<?, ?it/s]"
      ]
     },
     "metadata": {},
     "output_type": "display_data"
    },
    {
     "name": "stdout",
     "output_type": "stream",
     "text": [
      "[137/275] Loss0.18604, ACC:0.73447%\n",
      "[274/275] Loss0.20573, ACC:0.73470%\n",
      "Train_Loss: 0.19446021909063513,ACC:0.735%\n",
      "\u001b[66mHAM10000 ==> testing ...\u001b[0m\n"
     ]
    },
    {
     "data": {
      "application/vnd.jupyter.widget-view+json": {
       "model_id": "f27953c33120486aa47952f4cf8bc3e1",
       "version_major": 2,
       "version_minor": 0
      },
      "text/plain": [
       "  0%|          | 0/27 [00:00<?, ?it/s]"
      ]
     },
     "metadata": {},
     "output_type": "display_data"
    },
    {
     "name": "stdout",
     "output_type": "stream",
     "text": [
      "Test_Acc:\u001b[1;32m95.29%\u001b[0m\n",
      "Best_ACC[\u001b[1;32m96.014%\u001b[0m]\n",
      "Epoch: [119] HAM10000 ==> Training ...\n"
     ]
    },
    {
     "data": {
      "application/vnd.jupyter.widget-view+json": {
       "model_id": "8f6a7123a6e447c989720cfab9ec7048",
       "version_major": 2,
       "version_minor": 0
      },
      "text/plain": [
       "  0%|          | 0/275 [00:00<?, ?it/s]"
      ]
     },
     "metadata": {},
     "output_type": "display_data"
    },
    {
     "name": "stdout",
     "output_type": "stream",
     "text": [
      "[137/275] Loss0.20271, ACC:0.72818%\n",
      "[274/275] Loss0.19668, ACC:0.72591%\n",
      "Train_Loss: 0.19927783234552904,ACC:0.726%\n",
      "\u001b[66mHAM10000 ==> testing ...\u001b[0m\n"
     ]
    },
    {
     "data": {
      "application/vnd.jupyter.widget-view+json": {
       "model_id": "e9d2ce525dbc47a2b88bb1c7bf676778",
       "version_major": 2,
       "version_minor": 0
      },
      "text/plain": [
       "  0%|          | 0/27 [00:00<?, ?it/s]"
      ]
     },
     "metadata": {},
     "output_type": "display_data"
    },
    {
     "name": "stdout",
     "output_type": "stream",
     "text": [
      "Test_Acc:\u001b[1;32m93.478%\u001b[0m\n",
      "Best_ACC[\u001b[1;32m96.014%\u001b[0m]\n",
      "Epoch: [120] HAM10000 ==> Training ...\n"
     ]
    },
    {
     "data": {
      "application/vnd.jupyter.widget-view+json": {
       "model_id": "5b16372032404a8ca9d1e59d8c1e5872",
       "version_major": 2,
       "version_minor": 0
      },
      "text/plain": [
       "  0%|          | 0/275 [00:00<?, ?it/s]"
      ]
     },
     "metadata": {},
     "output_type": "display_data"
    },
    {
     "name": "stdout",
     "output_type": "stream",
     "text": [
      "[137/275] Loss0.20975, ACC:0.72375%\n",
      "[274/275] Loss0.17789, ACC:0.72125%\n",
      "Train_Loss: 0.20349769505587492,ACC:0.721%\n",
      "\u001b[66mHAM10000 ==> testing ...\u001b[0m\n"
     ]
    },
    {
     "data": {
      "application/vnd.jupyter.widget-view+json": {
       "model_id": "78e8f14aac0a40bd88b6e15a957af4e0",
       "version_major": 2,
       "version_minor": 0
      },
      "text/plain": [
       "  0%|          | 0/27 [00:00<?, ?it/s]"
      ]
     },
     "metadata": {},
     "output_type": "display_data"
    },
    {
     "name": "stdout",
     "output_type": "stream",
     "text": [
      "Test_Acc:\u001b[1;32m61.353%\u001b[0m\n",
      "Best_ACC[\u001b[1;32m96.014%\u001b[0m]\n",
      "Epoch: [121] HAM10000 ==> Training ...\n"
     ]
    },
    {
     "data": {
      "application/vnd.jupyter.widget-view+json": {
       "model_id": "e0650dadcab0457585e815be3129a572",
       "version_major": 2,
       "version_minor": 0
      },
      "text/plain": [
       "  0%|          | 0/275 [00:00<?, ?it/s]"
      ]
     },
     "metadata": {},
     "output_type": "display_data"
    },
    {
     "name": "stdout",
     "output_type": "stream",
     "text": [
      "[137/275] Loss0.18000, ACC:0.71991%\n",
      "[274/275] Loss0.21714, ACC:0.72150%\n",
      "Train_Loss: 0.20306940588084135,ACC:0.722%\n",
      "\u001b[66mHAM10000 ==> testing ...\u001b[0m\n"
     ]
    },
    {
     "data": {
      "application/vnd.jupyter.widget-view+json": {
       "model_id": "658453068d1c48a69df0a205c7994b24",
       "version_major": 2,
       "version_minor": 0
      },
      "text/plain": [
       "  0%|          | 0/27 [00:00<?, ?it/s]"
      ]
     },
     "metadata": {},
     "output_type": "display_data"
    },
    {
     "name": "stdout",
     "output_type": "stream",
     "text": [
      "Test_Acc:\u001b[1;32m43.237%\u001b[0m\n",
      "Best_ACC[\u001b[1;32m96.014%\u001b[0m]\n",
      "Epoch: [122] HAM10000 ==> Training ...\n"
     ]
    },
    {
     "data": {
      "application/vnd.jupyter.widget-view+json": {
       "model_id": "428c854203a14650add161dfbb31966a",
       "version_major": 2,
       "version_minor": 0
      },
      "text/plain": [
       "  0%|          | 0/275 [00:00<?, ?it/s]"
      ]
     },
     "metadata": {},
     "output_type": "display_data"
    },
    {
     "name": "stdout",
     "output_type": "stream",
     "text": [
      "[137/275] Loss0.20557, ACC:0.72682%\n",
      "[274/275] Loss0.19492, ACC:0.72560%\n",
      "Train_Loss: 0.20145122278820385,ACC:0.726%\n",
      "\u001b[66mHAM10000 ==> testing ...\u001b[0m\n"
     ]
    },
    {
     "data": {
      "application/vnd.jupyter.widget-view+json": {
       "model_id": "998c5a7cefb44e96bf8fe6baf4b320d3",
       "version_major": 2,
       "version_minor": 0
      },
      "text/plain": [
       "  0%|          | 0/27 [00:00<?, ?it/s]"
      ]
     },
     "metadata": {},
     "output_type": "display_data"
    },
    {
     "name": "stdout",
     "output_type": "stream",
     "text": [
      "Test_Acc:\u001b[1;32m95.048%\u001b[0m\n",
      "Best_ACC[\u001b[1;32m96.014%\u001b[0m]\n",
      "Epoch: [123] HAM10000 ==> Training ...\n"
     ]
    },
    {
     "data": {
      "application/vnd.jupyter.widget-view+json": {
       "model_id": "dc87bf16643744499e39d4a9c63e26a1",
       "version_major": 2,
       "version_minor": 0
      },
      "text/plain": [
       "  0%|          | 0/275 [00:00<?, ?it/s]"
      ]
     },
     "metadata": {},
     "output_type": "display_data"
    },
    {
     "name": "stdout",
     "output_type": "stream",
     "text": [
      "[137/275] Loss0.20089, ACC:0.73253%\n",
      "[274/275] Loss0.20089, ACC:0.73020%\n",
      "Train_Loss: 0.19837163117798892,ACC:0.73%\n",
      "\u001b[66mHAM10000 ==> testing ...\u001b[0m\n"
     ]
    },
    {
     "data": {
      "application/vnd.jupyter.widget-view+json": {
       "model_id": "7748936756ef42c2994b4639e1701809",
       "version_major": 2,
       "version_minor": 0
      },
      "text/plain": [
       "  0%|          | 0/27 [00:00<?, ?it/s]"
      ]
     },
     "metadata": {},
     "output_type": "display_data"
    },
    {
     "name": "stdout",
     "output_type": "stream",
     "text": [
      "Test_Acc:\u001b[1;32m94.565%\u001b[0m\n",
      "Best_ACC[\u001b[1;32m96.014%\u001b[0m]\n",
      "Epoch: [124] HAM10000 ==> Training ...\n"
     ]
    },
    {
     "data": {
      "application/vnd.jupyter.widget-view+json": {
       "model_id": "151e355643634ced934f52f94505d8dc",
       "version_major": 2,
       "version_minor": 0
      },
      "text/plain": [
       "  0%|          | 0/275 [00:00<?, ?it/s]"
      ]
     },
     "metadata": {},
     "output_type": "display_data"
    },
    {
     "name": "stdout",
     "output_type": "stream",
     "text": [
      "[137/275] Loss0.20313, ACC:0.73327%\n",
      "[274/275] Loss0.20744, ACC:0.73595%\n",
      "Train_Loss: 0.19504673903638667,ACC:0.736%\n",
      "\u001b[66mHAM10000 ==> testing ...\u001b[0m\n"
     ]
    },
    {
     "data": {
      "application/vnd.jupyter.widget-view+json": {
       "model_id": "82e445fa057443cd9b2b0d3868a4f683",
       "version_major": 2,
       "version_minor": 0
      },
      "text/plain": [
       "  0%|          | 0/27 [00:00<?, ?it/s]"
      ]
     },
     "metadata": {},
     "output_type": "display_data"
    },
    {
     "name": "stdout",
     "output_type": "stream",
     "text": [
      "Test_Acc:\u001b[1;32m87.923%\u001b[0m\n",
      "Best_ACC[\u001b[1;32m96.014%\u001b[0m]\n",
      "Epoch: [125] HAM10000 ==> Training ...\n"
     ]
    },
    {
     "data": {
      "application/vnd.jupyter.widget-view+json": {
       "model_id": "096bc6e4e6554611a8353160195d6d1e",
       "version_major": 2,
       "version_minor": 0
      },
      "text/plain": [
       "  0%|          | 0/275 [00:00<?, ?it/s]"
      ]
     },
     "metadata": {},
     "output_type": "display_data"
    },
    {
     "name": "stdout",
     "output_type": "stream",
     "text": [
      "[137/275] Loss0.18937, ACC:0.73936%\n",
      "[274/275] Loss0.20523, ACC:0.74123%\n",
      "Train_Loss: 0.19018135867335578,ACC:0.741%\n",
      "\u001b[66mHAM10000 ==> testing ...\u001b[0m\n"
     ]
    },
    {
     "data": {
      "application/vnd.jupyter.widget-view+json": {
       "model_id": "85e5c36a29c84552b6cf38a0afdd17e6",
       "version_major": 2,
       "version_minor": 0
      },
      "text/plain": [
       "  0%|          | 0/27 [00:00<?, ?it/s]"
      ]
     },
     "metadata": {},
     "output_type": "display_data"
    },
    {
     "name": "stdout",
     "output_type": "stream",
     "text": [
      "Test_Acc:\u001b[1;32m96.135%\u001b[0m\n",
      "Best_ACC[\u001b[1;32m96.135%\u001b[0m]\n",
      "Epoch: [126] HAM10000 ==> Training ...\n"
     ]
    },
    {
     "data": {
      "application/vnd.jupyter.widget-view+json": {
       "model_id": "be2f302794c242df936a5514594694c8",
       "version_major": 2,
       "version_minor": 0
      },
      "text/plain": [
       "  0%|          | 0/275 [00:00<?, ?it/s]"
      ]
     },
     "metadata": {},
     "output_type": "display_data"
    },
    {
     "name": "stdout",
     "output_type": "stream",
     "text": [
      "[137/275] Loss0.17718, ACC:0.74464%\n",
      "[274/275] Loss0.17739, ACC:0.74470%\n",
      "Train_Loss: 0.18973640468987552,ACC:0.745%\n",
      "\u001b[66mHAM10000 ==> testing ...\u001b[0m\n"
     ]
    },
    {
     "data": {
      "application/vnd.jupyter.widget-view+json": {
       "model_id": "82ba64b5fe0e4a72976fafaa0f7a646f",
       "version_major": 2,
       "version_minor": 0
      },
      "text/plain": [
       "  0%|          | 0/27 [00:00<?, ?it/s]"
      ]
     },
     "metadata": {},
     "output_type": "display_data"
    },
    {
     "name": "stdout",
     "output_type": "stream",
     "text": [
      "Test_Acc:\u001b[1;32m96.014%\u001b[0m\n",
      "Best_ACC[\u001b[1;32m96.135%\u001b[0m]\n",
      "Epoch: [127] HAM10000 ==> Training ...\n"
     ]
    },
    {
     "data": {
      "application/vnd.jupyter.widget-view+json": {
       "model_id": "3e32c18e5f08449e81cc74a05579cb41",
       "version_major": 2,
       "version_minor": 0
      },
      "text/plain": [
       "  0%|          | 0/275 [00:00<?, ?it/s]"
      ]
     },
     "metadata": {},
     "output_type": "display_data"
    },
    {
     "name": "stdout",
     "output_type": "stream",
     "text": [
      "[137/275] Loss0.19873, ACC:0.74585%\n",
      "[274/275] Loss0.17925, ACC:0.74433%\n",
      "Train_Loss: 0.18964260773225264,ACC:0.744%\n",
      "\u001b[66mHAM10000 ==> testing ...\u001b[0m\n"
     ]
    },
    {
     "data": {
      "application/vnd.jupyter.widget-view+json": {
       "model_id": "c5283bce1fe349088d53c92641acbedb",
       "version_major": 2,
       "version_minor": 0
      },
      "text/plain": [
       "  0%|          | 0/27 [00:00<?, ?it/s]"
      ]
     },
     "metadata": {},
     "output_type": "display_data"
    },
    {
     "name": "stdout",
     "output_type": "stream",
     "text": [
      "Test_Acc:\u001b[1;32m95.652%\u001b[0m\n",
      "Best_ACC[\u001b[1;32m96.135%\u001b[0m]\n",
      "Epoch: [128] HAM10000 ==> Training ...\n"
     ]
    },
    {
     "data": {
      "application/vnd.jupyter.widget-view+json": {
       "model_id": "167ecc83a3694905a8d1ba15dc629b80",
       "version_major": 2,
       "version_minor": 0
      },
      "text/plain": [
       "  0%|          | 0/275 [00:00<?, ?it/s]"
      ]
     },
     "metadata": {},
     "output_type": "display_data"
    },
    {
     "name": "stdout",
     "output_type": "stream",
     "text": [
      "[137/275] Loss0.16437, ACC:0.73824%\n",
      "[274/275] Loss0.19951, ACC:0.73973%\n",
      "Train_Loss: 0.19290027976036073,ACC:0.74%\n",
      "\u001b[66mHAM10000 ==> testing ...\u001b[0m\n"
     ]
    },
    {
     "data": {
      "application/vnd.jupyter.widget-view+json": {
       "model_id": "02ff08bd44214e77819420713c90f8f4",
       "version_major": 2,
       "version_minor": 0
      },
      "text/plain": [
       "  0%|          | 0/27 [00:00<?, ?it/s]"
      ]
     },
     "metadata": {},
     "output_type": "display_data"
    },
    {
     "name": "stdout",
     "output_type": "stream",
     "text": [
      "Test_Acc:\u001b[1;32m95.531%\u001b[0m\n",
      "Best_ACC[\u001b[1;32m96.135%\u001b[0m]\n",
      "Epoch: [129] HAM10000 ==> Training ...\n"
     ]
    },
    {
     "data": {
      "application/vnd.jupyter.widget-view+json": {
       "model_id": "ab0961a6c2f84a88b06b20df84dc1b88",
       "version_major": 2,
       "version_minor": 0
      },
      "text/plain": [
       "  0%|          | 0/275 [00:00<?, ?it/s]"
      ]
     },
     "metadata": {},
     "output_type": "display_data"
    },
    {
     "name": "stdout",
     "output_type": "stream",
     "text": [
      "[137/275] Loss0.20028, ACC:0.73090%\n",
      "[274/275] Loss0.20622, ACC:0.73082%\n",
      "Train_Loss: 0.19881393280896273,ACC:0.731%\n",
      "\u001b[66mHAM10000 ==> testing ...\u001b[0m\n"
     ]
    },
    {
     "data": {
      "application/vnd.jupyter.widget-view+json": {
       "model_id": "7b1cf402c1e545adb1fb775208fe2550",
       "version_major": 2,
       "version_minor": 0
      },
      "text/plain": [
       "  0%|          | 0/27 [00:00<?, ?it/s]"
      ]
     },
     "metadata": {},
     "output_type": "display_data"
    },
    {
     "name": "stdout",
     "output_type": "stream",
     "text": [
      "Test_Acc:\u001b[1;32m86.473%\u001b[0m\n",
      "Best_ACC[\u001b[1;32m96.135%\u001b[0m]\n",
      "Epoch: [130] HAM10000 ==> Training ...\n"
     ]
    },
    {
     "data": {
      "application/vnd.jupyter.widget-view+json": {
       "model_id": "900aaf2e7e8f421ca3d3ce4d69ae7d78",
       "version_major": 2,
       "version_minor": 0
      },
      "text/plain": [
       "  0%|          | 0/275 [00:00<?, ?it/s]"
      ]
     },
     "metadata": {},
     "output_type": "display_data"
    },
    {
     "name": "stdout",
     "output_type": "stream",
     "text": [
      "[137/275] Loss0.20204, ACC:0.72678%\n",
      "[274/275] Loss0.19845, ACC:0.72855%\n",
      "Train_Loss: 0.2006012918732383,ACC:0.728%\n",
      "\u001b[66mHAM10000 ==> testing ...\u001b[0m\n"
     ]
    },
    {
     "data": {
      "application/vnd.jupyter.widget-view+json": {
       "model_id": "af4383714a44422392bde0da782ee45d",
       "version_major": 2,
       "version_minor": 0
      },
      "text/plain": [
       "  0%|          | 0/27 [00:00<?, ?it/s]"
      ]
     },
     "metadata": {},
     "output_type": "display_data"
    },
    {
     "name": "stdout",
     "output_type": "stream",
     "text": [
      "Test_Acc:\u001b[1;32m74.517%\u001b[0m\n",
      "Best_ACC[\u001b[1;32m96.135%\u001b[0m]\n",
      "Epoch: [131] HAM10000 ==> Training ...\n"
     ]
    },
    {
     "data": {
      "application/vnd.jupyter.widget-view+json": {
       "model_id": "5e4b69d25ddc4a84bf307685691e0e3e",
       "version_major": 2,
       "version_minor": 0
      },
      "text/plain": [
       "  0%|          | 0/275 [00:00<?, ?it/s]"
      ]
     },
     "metadata": {},
     "output_type": "display_data"
    },
    {
     "name": "stdout",
     "output_type": "stream",
     "text": [
      "[137/275] Loss0.21098, ACC:0.72764%\n",
      "[274/275] Loss0.19980, ACC:0.72309%\n",
      "Train_Loss: 0.20260698751969772,ACC:0.723%\n",
      "\u001b[66mHAM10000 ==> testing ...\u001b[0m\n"
     ]
    },
    {
     "data": {
      "application/vnd.jupyter.widget-view+json": {
       "model_id": "8f73e09184674b07a6a6680ab0260a57",
       "version_major": 2,
       "version_minor": 0
      },
      "text/plain": [
       "  0%|          | 0/27 [00:00<?, ?it/s]"
      ]
     },
     "metadata": {},
     "output_type": "display_data"
    },
    {
     "name": "stdout",
     "output_type": "stream",
     "text": [
      "Test_Acc:\u001b[1;32m90.821%\u001b[0m\n",
      "Best_ACC[\u001b[1;32m96.135%\u001b[0m]\n",
      "Epoch: [132] HAM10000 ==> Training ...\n"
     ]
    },
    {
     "data": {
      "application/vnd.jupyter.widget-view+json": {
       "model_id": "b5109e080bb94728858e5ddaec9d335d",
       "version_major": 2,
       "version_minor": 0
      },
      "text/plain": [
       "  0%|          | 0/275 [00:00<?, ?it/s]"
      ]
     },
     "metadata": {},
     "output_type": "display_data"
    },
    {
     "name": "stdout",
     "output_type": "stream",
     "text": [
      "[137/275] Loss0.20129, ACC:0.72853%\n",
      "[274/275] Loss0.21901, ACC:0.72651%\n",
      "Train_Loss: 0.20062479533932426,ACC:0.727%\n",
      "\u001b[66mHAM10000 ==> testing ...\u001b[0m\n"
     ]
    },
    {
     "data": {
      "application/vnd.jupyter.widget-view+json": {
       "model_id": "2e7d609e75704912ba0a1c419d6349fc",
       "version_major": 2,
       "version_minor": 0
      },
      "text/plain": [
       "  0%|          | 0/27 [00:00<?, ?it/s]"
      ]
     },
     "metadata": {},
     "output_type": "display_data"
    },
    {
     "name": "stdout",
     "output_type": "stream",
     "text": [
      "Test_Acc:\u001b[1;32m81.28%\u001b[0m\n",
      "Best_ACC[\u001b[1;32m96.135%\u001b[0m]\n",
      "Epoch: [133] HAM10000 ==> Training ...\n"
     ]
    },
    {
     "data": {
      "application/vnd.jupyter.widget-view+json": {
       "model_id": "5c5bfbcd44364af88d28856d0ad3564b",
       "version_major": 2,
       "version_minor": 0
      },
      "text/plain": [
       "  0%|          | 0/275 [00:00<?, ?it/s]"
      ]
     },
     "metadata": {},
     "output_type": "display_data"
    },
    {
     "name": "stdout",
     "output_type": "stream",
     "text": [
      "[137/275] Loss0.18830, ACC:0.73132%\n",
      "[274/275] Loss0.20656, ACC:0.73406%\n",
      "Train_Loss: 0.19553690444339406,ACC:0.734%\n",
      "\u001b[66mHAM10000 ==> testing ...\u001b[0m\n"
     ]
    },
    {
     "data": {
      "application/vnd.jupyter.widget-view+json": {
       "model_id": "eb556121c34e46f9a13981f16e7e48f3",
       "version_major": 2,
       "version_minor": 0
      },
      "text/plain": [
       "  0%|          | 0/27 [00:00<?, ?it/s]"
      ]
     },
     "metadata": {},
     "output_type": "display_data"
    },
    {
     "name": "stdout",
     "output_type": "stream",
     "text": [
      "Test_Acc:\u001b[1;32m91.063%\u001b[0m\n",
      "Best_ACC[\u001b[1;32m96.135%\u001b[0m]\n",
      "Epoch: [134] HAM10000 ==> Training ...\n"
     ]
    },
    {
     "data": {
      "application/vnd.jupyter.widget-view+json": {
       "model_id": "6865a3d8588f4e9f9d4637302cdd0f4e",
       "version_major": 2,
       "version_minor": 0
      },
      "text/plain": [
       "  0%|          | 0/275 [00:00<?, ?it/s]"
      ]
     },
     "metadata": {},
     "output_type": "display_data"
    },
    {
     "name": "stdout",
     "output_type": "stream",
     "text": [
      "[137/275] Loss0.19776, ACC:0.73987%\n",
      "[274/275] Loss0.20747, ACC:0.74031%\n",
      "Train_Loss: 0.19208009367639367,ACC:0.74%\n",
      "\u001b[66mHAM10000 ==> testing ...\u001b[0m\n"
     ]
    },
    {
     "data": {
      "application/vnd.jupyter.widget-view+json": {
       "model_id": "2b95dbdbaf544e84bf0ca82fdc42276b",
       "version_major": 2,
       "version_minor": 0
      },
      "text/plain": [
       "  0%|          | 0/27 [00:00<?, ?it/s]"
      ]
     },
     "metadata": {},
     "output_type": "display_data"
    },
    {
     "name": "stdout",
     "output_type": "stream",
     "text": [
      "Test_Acc:\u001b[1;32m94.686%\u001b[0m\n",
      "Best_ACC[\u001b[1;32m96.135%\u001b[0m]\n",
      "Epoch: [135] HAM10000 ==> Training ...\n"
     ]
    },
    {
     "data": {
      "application/vnd.jupyter.widget-view+json": {
       "model_id": "8f53f309f85841b88a7f9b9732f29230",
       "version_major": 2,
       "version_minor": 0
      },
      "text/plain": [
       "  0%|          | 0/275 [00:00<?, ?it/s]"
      ]
     },
     "metadata": {},
     "output_type": "display_data"
    },
    {
     "name": "stdout",
     "output_type": "stream",
     "text": [
      "[137/275] Loss0.18407, ACC:0.74286%\n",
      "[274/275] Loss0.19725, ACC:0.74412%\n",
      "Train_Loss: 0.1900480722839182,ACC:0.744%\n",
      "\u001b[66mHAM10000 ==> testing ...\u001b[0m\n"
     ]
    },
    {
     "data": {
      "application/vnd.jupyter.widget-view+json": {
       "model_id": "448ecd858be54551ba904eacb7b82a01",
       "version_major": 2,
       "version_minor": 0
      },
      "text/plain": [
       "  0%|          | 0/27 [00:00<?, ?it/s]"
      ]
     },
     "metadata": {},
     "output_type": "display_data"
    },
    {
     "name": "stdout",
     "output_type": "stream",
     "text": [
      "Test_Acc:\u001b[1;32m95.531%\u001b[0m\n",
      "Best_ACC[\u001b[1;32m96.135%\u001b[0m]\n",
      "Epoch: [136] HAM10000 ==> Training ...\n"
     ]
    },
    {
     "data": {
      "application/vnd.jupyter.widget-view+json": {
       "model_id": "0f8e42f877fd424a93ef712f07470abb",
       "version_major": 2,
       "version_minor": 0
      },
      "text/plain": [
       "  0%|          | 0/275 [00:00<?, ?it/s]"
      ]
     },
     "metadata": {},
     "output_type": "display_data"
    },
    {
     "name": "stdout",
     "output_type": "stream",
     "text": [
      "[137/275] Loss0.21581, ACC:0.74414%\n",
      "[274/275] Loss0.19412, ACC:0.74618%\n",
      "Train_Loss: 0.18839969445358623,ACC:0.747%\n",
      "\u001b[66mHAM10000 ==> testing ...\u001b[0m\n"
     ]
    },
    {
     "data": {
      "application/vnd.jupyter.widget-view+json": {
       "model_id": "66a786d0c13d4053883068621209b4ae",
       "version_major": 2,
       "version_minor": 0
      },
      "text/plain": [
       "  0%|          | 0/27 [00:00<?, ?it/s]"
      ]
     },
     "metadata": {},
     "output_type": "display_data"
    },
    {
     "name": "stdout",
     "output_type": "stream",
     "text": [
      "Test_Acc:\u001b[1;32m95.531%\u001b[0m\n",
      "Best_ACC[\u001b[1;32m96.135%\u001b[0m]\n",
      "Epoch: [137] HAM10000 ==> Training ...\n"
     ]
    },
    {
     "data": {
      "application/vnd.jupyter.widget-view+json": {
       "model_id": "eb66e5800b974f7784da8262f6f7a204",
       "version_major": 2,
       "version_minor": 0
      },
      "text/plain": [
       "  0%|          | 0/275 [00:00<?, ?it/s]"
      ]
     },
     "metadata": {},
     "output_type": "display_data"
    },
    {
     "name": "stdout",
     "output_type": "stream",
     "text": [
      "[137/275] Loss0.20252, ACC:0.74592%\n",
      "[274/275] Loss0.18380, ACC:0.74649%\n",
      "Train_Loss: 0.18842820590192622,ACC:0.746%\n",
      "\u001b[66mHAM10000 ==> testing ...\u001b[0m\n"
     ]
    },
    {
     "data": {
      "application/vnd.jupyter.widget-view+json": {
       "model_id": "796149e378af45e4bd0f27ded51c56b0",
       "version_major": 2,
       "version_minor": 0
      },
      "text/plain": [
       "  0%|          | 0/27 [00:00<?, ?it/s]"
      ]
     },
     "metadata": {},
     "output_type": "display_data"
    },
    {
     "name": "stdout",
     "output_type": "stream",
     "text": [
      "Test_Acc:\u001b[1;32m96.135%\u001b[0m\n",
      "Best_ACC[\u001b[1;32m96.135%\u001b[0m]\n",
      "Epoch: [138] HAM10000 ==> Training ...\n"
     ]
    },
    {
     "data": {
      "application/vnd.jupyter.widget-view+json": {
       "model_id": "5df41620486443aeadb5ef307f601e26",
       "version_major": 2,
       "version_minor": 0
      },
      "text/plain": [
       "  0%|          | 0/275 [00:00<?, ?it/s]"
      ]
     },
     "metadata": {},
     "output_type": "display_data"
    },
    {
     "name": "stdout",
     "output_type": "stream",
     "text": [
      "[137/275] Loss0.21218, ACC:0.74410%\n",
      "[274/275] Loss0.17510, ACC:0.74140%\n",
      "Train_Loss: 0.1913875016299161,ACC:0.742%\n",
      "\u001b[66mHAM10000 ==> testing ...\u001b[0m\n"
     ]
    },
    {
     "data": {
      "application/vnd.jupyter.widget-view+json": {
       "model_id": "6995d498f509452cb693bfbd78722494",
       "version_major": 2,
       "version_minor": 0
      },
      "text/plain": [
       "  0%|          | 0/27 [00:00<?, ?it/s]"
      ]
     },
     "metadata": {},
     "output_type": "display_data"
    },
    {
     "name": "stdout",
     "output_type": "stream",
     "text": [
      "Test_Acc:\u001b[1;32m89.734%\u001b[0m\n",
      "Best_ACC[\u001b[1;32m96.135%\u001b[0m]\n",
      "Epoch: [139] HAM10000 ==> Training ...\n"
     ]
    },
    {
     "data": {
      "application/vnd.jupyter.widget-view+json": {
       "model_id": "93148e7be4194028bfd73d02a225135c",
       "version_major": 2,
       "version_minor": 0
      },
      "text/plain": [
       "  0%|          | 0/275 [00:00<?, ?it/s]"
      ]
     },
     "metadata": {},
     "output_type": "display_data"
    },
    {
     "name": "stdout",
     "output_type": "stream",
     "text": [
      "[137/275] Loss0.20829, ACC:0.73039%\n",
      "[274/275] Loss0.20882, ACC:0.73317%\n",
      "Train_Loss: 0.196370178677819,ACC:0.733%\n",
      "\u001b[66mHAM10000 ==> testing ...\u001b[0m\n"
     ]
    },
    {
     "data": {
      "application/vnd.jupyter.widget-view+json": {
       "model_id": "b0db57e670284ebd9570db60373099e6",
       "version_major": 2,
       "version_minor": 0
      },
      "text/plain": [
       "  0%|          | 0/27 [00:00<?, ?it/s]"
      ]
     },
     "metadata": {},
     "output_type": "display_data"
    },
    {
     "name": "stdout",
     "output_type": "stream",
     "text": [
      "Test_Acc:\u001b[1;32m85.507%\u001b[0m\n",
      "Best_ACC[\u001b[1;32m96.135%\u001b[0m]\n",
      "Epoch: [140] HAM10000 ==> Training ...\n"
     ]
    },
    {
     "data": {
      "application/vnd.jupyter.widget-view+json": {
       "model_id": "4bc887499a4d4d59ab540e1231f3c61e",
       "version_major": 2,
       "version_minor": 0
      },
      "text/plain": [
       "  0%|          | 0/275 [00:00<?, ?it/s]"
      ]
     },
     "metadata": {},
     "output_type": "display_data"
    },
    {
     "name": "stdout",
     "output_type": "stream",
     "text": [
      "[137/275] Loss0.16157, ACC:0.72791%\n",
      "[274/275] Loss0.18201, ACC:0.72703%\n",
      "Train_Loss: 0.19985690013928847,ACC:0.727%\n",
      "\u001b[66mHAM10000 ==> testing ...\u001b[0m\n"
     ]
    },
    {
     "data": {
      "application/vnd.jupyter.widget-view+json": {
       "model_id": "ae67839c74014d9384533d3e04278dc2",
       "version_major": 2,
       "version_minor": 0
      },
      "text/plain": [
       "  0%|          | 0/27 [00:00<?, ?it/s]"
      ]
     },
     "metadata": {},
     "output_type": "display_data"
    },
    {
     "name": "stdout",
     "output_type": "stream",
     "text": [
      "Test_Acc:\u001b[1;32m63.768%\u001b[0m\n",
      "Best_ACC[\u001b[1;32m96.135%\u001b[0m]\n",
      "Epoch: [141] HAM10000 ==> Training ...\n"
     ]
    },
    {
     "data": {
      "application/vnd.jupyter.widget-view+json": {
       "model_id": "56d16076e1344f09b02ba150c4483fb8",
       "version_major": 2,
       "version_minor": 0
      },
      "text/plain": [
       "  0%|          | 0/275 [00:00<?, ?it/s]"
      ]
     },
     "metadata": {},
     "output_type": "display_data"
    },
    {
     "name": "stdout",
     "output_type": "stream",
     "text": [
      "[137/275] Loss0.19172, ACC:0.72942%\n",
      "[274/275] Loss0.20109, ACC:0.72888%\n",
      "Train_Loss: 0.1994917789372531,ACC:0.729%\n",
      "\u001b[66mHAM10000 ==> testing ...\u001b[0m\n"
     ]
    },
    {
     "data": {
      "application/vnd.jupyter.widget-view+json": {
       "model_id": "fa3b1688352b4aadbf768eb75cab1c1b",
       "version_major": 2,
       "version_minor": 0
      },
      "text/plain": [
       "  0%|          | 0/27 [00:00<?, ?it/s]"
      ]
     },
     "metadata": {},
     "output_type": "display_data"
    },
    {
     "name": "stdout",
     "output_type": "stream",
     "text": [
      "Test_Acc:\u001b[1;32m91.908%\u001b[0m\n",
      "Best_ACC[\u001b[1;32m96.135%\u001b[0m]\n",
      "Epoch: [142] HAM10000 ==> Training ...\n"
     ]
    },
    {
     "data": {
      "application/vnd.jupyter.widget-view+json": {
       "model_id": "fac04e2fd2464db8be8b49177a8f5d71",
       "version_major": 2,
       "version_minor": 0
      },
      "text/plain": [
       "  0%|          | 0/275 [00:00<?, ?it/s]"
      ]
     },
     "metadata": {},
     "output_type": "display_data"
    },
    {
     "name": "stdout",
     "output_type": "stream",
     "text": [
      "[137/275] Loss0.18068, ACC:0.72919%\n",
      "[274/275] Loss0.19290, ACC:0.72956%\n",
      "Train_Loss: 0.19868890420957044,ACC:0.73%\n",
      "\u001b[66mHAM10000 ==> testing ...\u001b[0m\n"
     ]
    },
    {
     "data": {
      "application/vnd.jupyter.widget-view+json": {
       "model_id": "3350144e19ce4a7ea059e87f985335ae",
       "version_major": 2,
       "version_minor": 0
      },
      "text/plain": [
       "  0%|          | 0/27 [00:00<?, ?it/s]"
      ]
     },
     "metadata": {},
     "output_type": "display_data"
    },
    {
     "name": "stdout",
     "output_type": "stream",
     "text": [
      "Test_Acc:\u001b[1;32m92.271%\u001b[0m\n",
      "Best_ACC[\u001b[1;32m96.135%\u001b[0m]\n",
      "Epoch: [143] HAM10000 ==> Training ...\n"
     ]
    },
    {
     "data": {
      "application/vnd.jupyter.widget-view+json": {
       "model_id": "cd3b351816ae4be9b51176112529ede9",
       "version_major": 2,
       "version_minor": 0
      },
      "text/plain": [
       "  0%|          | 0/275 [00:00<?, ?it/s]"
      ]
     },
     "metadata": {},
     "output_type": "display_data"
    },
    {
     "name": "stdout",
     "output_type": "stream",
     "text": [
      "[137/275] Loss0.19807, ACC:0.73354%\n",
      "[274/275] Loss0.19489, ACC:0.73414%\n",
      "Train_Loss: 0.19608571377667514,ACC:0.734%\n",
      "\u001b[66mHAM10000 ==> testing ...\u001b[0m\n"
     ]
    },
    {
     "data": {
      "application/vnd.jupyter.widget-view+json": {
       "model_id": "acfd0349f2b94249b096205b53a813d6",
       "version_major": 2,
       "version_minor": 0
      },
      "text/plain": [
       "  0%|          | 0/27 [00:00<?, ?it/s]"
      ]
     },
     "metadata": {},
     "output_type": "display_data"
    },
    {
     "name": "stdout",
     "output_type": "stream",
     "text": [
      "Test_Acc:\u001b[1;32m87.319%\u001b[0m\n",
      "Best_ACC[\u001b[1;32m96.135%\u001b[0m]\n",
      "Epoch: [144] HAM10000 ==> Training ...\n"
     ]
    },
    {
     "data": {
      "application/vnd.jupyter.widget-view+json": {
       "model_id": "6a521fe534f34872b273b0a86ed2224e",
       "version_major": 2,
       "version_minor": 0
      },
      "text/plain": [
       "  0%|          | 0/275 [00:00<?, ?it/s]"
      ]
     },
     "metadata": {},
     "output_type": "display_data"
    },
    {
     "name": "stdout",
     "output_type": "stream",
     "text": [
      "[137/275] Loss0.18895, ACC:0.74068%\n",
      "[274/275] Loss0.19312, ACC:0.74173%\n",
      "Train_Loss: 0.19130917337807743,ACC:0.742%\n",
      "\u001b[66mHAM10000 ==> testing ...\u001b[0m\n"
     ]
    },
    {
     "data": {
      "application/vnd.jupyter.widget-view+json": {
       "model_id": "3a97d8c3e1644d359d3ed18772a96714",
       "version_major": 2,
       "version_minor": 0
      },
      "text/plain": [
       "  0%|          | 0/27 [00:00<?, ?it/s]"
      ]
     },
     "metadata": {},
     "output_type": "display_data"
    },
    {
     "name": "stdout",
     "output_type": "stream",
     "text": [
      "Test_Acc:\u001b[1;32m92.512%\u001b[0m\n",
      "Best_ACC[\u001b[1;32m96.135%\u001b[0m]\n",
      "Epoch: [145] HAM10000 ==> Training ...\n"
     ]
    },
    {
     "data": {
      "application/vnd.jupyter.widget-view+json": {
       "model_id": "bf0afe9fdb054179b15b7acae09ad543",
       "version_major": 2,
       "version_minor": 0
      },
      "text/plain": [
       "  0%|          | 0/275 [00:00<?, ?it/s]"
      ]
     },
     "metadata": {},
     "output_type": "display_data"
    },
    {
     "name": "stdout",
     "output_type": "stream",
     "text": [
      "[137/275] Loss0.20362, ACC:0.74759%\n",
      "[274/275] Loss0.15434, ACC:0.74656%\n",
      "Train_Loss: 0.18780507559126072,ACC:0.747%\n",
      "\u001b[66mHAM10000 ==> testing ...\u001b[0m\n"
     ]
    },
    {
     "data": {
      "application/vnd.jupyter.widget-view+json": {
       "model_id": "5edca7f3be0743e7b992dff57afc958d",
       "version_major": 2,
       "version_minor": 0
      },
      "text/plain": [
       "  0%|          | 0/27 [00:00<?, ?it/s]"
      ]
     },
     "metadata": {},
     "output_type": "display_data"
    },
    {
     "name": "stdout",
     "output_type": "stream",
     "text": [
      "Test_Acc:\u001b[1;32m94.686%\u001b[0m\n",
      "Best_ACC[\u001b[1;32m96.135%\u001b[0m]\n",
      "Epoch: [146] HAM10000 ==> Training ...\n"
     ]
    },
    {
     "data": {
      "application/vnd.jupyter.widget-view+json": {
       "model_id": "fb6eb71752304ff89c2ff9ece89821c6",
       "version_major": 2,
       "version_minor": 0
      },
      "text/plain": [
       "  0%|          | 0/275 [00:00<?, ?it/s]"
      ]
     },
     "metadata": {},
     "output_type": "display_data"
    },
    {
     "name": "stdout",
     "output_type": "stream",
     "text": [
      "[137/275] Loss0.16983, ACC:0.75194%\n",
      "[274/275] Loss0.18857, ACC:0.75062%\n",
      "Train_Loss: 0.18610223748467186,ACC:0.751%\n",
      "\u001b[66mHAM10000 ==> testing ...\u001b[0m\n"
     ]
    },
    {
     "data": {
      "application/vnd.jupyter.widget-view+json": {
       "model_id": "9cb24e6504434e449f6705c30129641b",
       "version_major": 2,
       "version_minor": 0
      },
      "text/plain": [
       "  0%|          | 0/27 [00:00<?, ?it/s]"
      ]
     },
     "metadata": {},
     "output_type": "display_data"
    },
    {
     "name": "stdout",
     "output_type": "stream",
     "text": [
      "Test_Acc:\u001b[1;32m95.411%\u001b[0m\n",
      "Best_ACC[\u001b[1;32m96.135%\u001b[0m]\n",
      "Epoch: [147] HAM10000 ==> Training ...\n"
     ]
    },
    {
     "data": {
      "application/vnd.jupyter.widget-view+json": {
       "model_id": "e33f440c334248ffaae8ccf8b31a0e57",
       "version_major": 2,
       "version_minor": 0
      },
      "text/plain": [
       "  0%|          | 0/275 [00:00<?, ?it/s]"
      ]
     },
     "metadata": {},
     "output_type": "display_data"
    },
    {
     "name": "stdout",
     "output_type": "stream",
     "text": [
      "[137/275] Loss0.20617, ACC:0.74783%\n",
      "[274/275] Loss0.21022, ACC:0.74841%\n",
      "Train_Loss: 0.18655016416853124,ACC:0.748%\n",
      "\u001b[66mHAM10000 ==> testing ...\u001b[0m\n"
     ]
    },
    {
     "data": {
      "application/vnd.jupyter.widget-view+json": {
       "model_id": "e8cdbf31df3d4f3c8d04c9a2a0fb38aa",
       "version_major": 2,
       "version_minor": 0
      },
      "text/plain": [
       "  0%|          | 0/27 [00:00<?, ?it/s]"
      ]
     },
     "metadata": {},
     "output_type": "display_data"
    },
    {
     "name": "stdout",
     "output_type": "stream",
     "text": [
      "Test_Acc:\u001b[1;32m95.531%\u001b[0m\n",
      "Best_ACC[\u001b[1;32m96.135%\u001b[0m]\n",
      "Epoch: [148] HAM10000 ==> Training ...\n"
     ]
    },
    {
     "data": {
      "application/vnd.jupyter.widget-view+json": {
       "model_id": "d925fe26814e4d61be135f13cbc50141",
       "version_major": 2,
       "version_minor": 0
      },
      "text/plain": [
       "  0%|          | 0/275 [00:00<?, ?it/s]"
      ]
     },
     "metadata": {},
     "output_type": "display_data"
    },
    {
     "name": "stdout",
     "output_type": "stream",
     "text": [
      "[137/275] Loss0.19564, ACC:0.74084%\n",
      "[274/275] Loss0.19973, ACC:0.74307%\n",
      "Train_Loss: 0.19065517230467363,ACC:0.743%\n",
      "\u001b[66mHAM10000 ==> testing ...\u001b[0m\n"
     ]
    },
    {
     "data": {
      "application/vnd.jupyter.widget-view+json": {
       "model_id": "1b096ca2d7cf431bba857ea934c9adc4",
       "version_major": 2,
       "version_minor": 0
      },
      "text/plain": [
       "  0%|          | 0/27 [00:00<?, ?it/s]"
      ]
     },
     "metadata": {},
     "output_type": "display_data"
    },
    {
     "name": "stdout",
     "output_type": "stream",
     "text": [
      "Test_Acc:\u001b[1;32m94.686%\u001b[0m\n",
      "Best_ACC[\u001b[1;32m96.135%\u001b[0m]\n",
      "Epoch: [149] HAM10000 ==> Training ...\n"
     ]
    },
    {
     "data": {
      "application/vnd.jupyter.widget-view+json": {
       "model_id": "444db28c1bf342659e78bc5255679e22",
       "version_major": 2,
       "version_minor": 0
      },
      "text/plain": [
       "  0%|          | 0/275 [00:00<?, ?it/s]"
      ]
     },
     "metadata": {},
     "output_type": "display_data"
    },
    {
     "name": "stdout",
     "output_type": "stream",
     "text": [
      "[137/275] Loss0.19950, ACC:0.73536%\n",
      "[274/275] Loss0.19126, ACC:0.73614%\n",
      "Train_Loss: 0.195446413917975,ACC:0.736%\n",
      "\u001b[66mHAM10000 ==> testing ...\u001b[0m\n"
     ]
    },
    {
     "data": {
      "application/vnd.jupyter.widget-view+json": {
       "model_id": "e8c1ace0a78b4abeb511c9dffb8a9b7b",
       "version_major": 2,
       "version_minor": 0
      },
      "text/plain": [
       "  0%|          | 0/27 [00:00<?, ?it/s]"
      ]
     },
     "metadata": {},
     "output_type": "display_data"
    },
    {
     "name": "stdout",
     "output_type": "stream",
     "text": [
      "Test_Acc:\u001b[1;32m90.58%\u001b[0m\n",
      "Best_ACC[\u001b[1;32m96.135%\u001b[0m]\n",
      "Epoch: [150] HAM10000 ==> Training ...\n"
     ]
    },
    {
     "data": {
      "application/vnd.jupyter.widget-view+json": {
       "model_id": "6147a5a767c34efca6274eaebd14ccc5",
       "version_major": 2,
       "version_minor": 0
      },
      "text/plain": [
       "  0%|          | 0/275 [00:00<?, ?it/s]"
      ]
     },
     "metadata": {},
     "output_type": "display_data"
    },
    {
     "name": "stdout",
     "output_type": "stream",
     "text": [
      "[137/275] Loss0.20303, ACC:0.72752%\n",
      "[274/275] Loss0.20382, ACC:0.73076%\n",
      "Train_Loss: 0.1982794442501935,ACC:0.731%\n",
      "\u001b[66mHAM10000 ==> testing ...\u001b[0m\n"
     ]
    },
    {
     "data": {
      "application/vnd.jupyter.widget-view+json": {
       "model_id": "0c2d62a2c37243e891e4f0c5dd4df3d8",
       "version_major": 2,
       "version_minor": 0
      },
      "text/plain": [
       "  0%|          | 0/27 [00:00<?, ?it/s]"
      ]
     },
     "metadata": {},
     "output_type": "display_data"
    },
    {
     "name": "stdout",
     "output_type": "stream",
     "text": [
      "Test_Acc:\u001b[1;32m87.077%\u001b[0m\n",
      "Best_ACC[\u001b[1;32m96.135%\u001b[0m]\n",
      "Finished Training\n"
     ]
    }
   ],
   "source": [
    "for epoch in range(1, num_epochs + 1):\n",
    "    train(epoch)\n",
    "    test()\n",
    "print('Finished Training')"
   ]
  },
  {
   "cell_type": "code",
   "execution_count": 16,
   "metadata": {
    "execution": {
     "iopub.execute_input": "2022-05-01T18:49:11.474291Z",
     "iopub.status.busy": "2022-05-01T18:49:11.474291Z",
     "iopub.status.idle": "2022-05-01T18:49:23.671651Z",
     "shell.execute_reply": "2022-05-01T18:49:23.671651Z",
     "shell.execute_reply.started": "2022-05-01T18:49:11.474291Z"
    },
    "tags": []
   },
   "outputs": [
    {
     "name": "stdout",
     "output_type": "stream",
     "text": [
      "\u001b[66mHAM10000 ==> testing ...\u001b[0m\n"
     ]
    },
    {
     "data": {
      "application/vnd.jupyter.widget-view+json": {
       "model_id": "d50f90c8b4524b2383c54c7b98f5ef17",
       "version_major": 2,
       "version_minor": 0
      },
      "text/plain": [
       "  0%|          | 0/27 [00:00<?, ?it/s]"
      ]
     },
     "metadata": {},
     "output_type": "display_data"
    },
    {
     "name": "stdout",
     "output_type": "stream",
     "text": [
      "Test_Acc:\u001b[1;32m96.135%\u001b[0m\n",
      "Best_ACC[\u001b[1;32m96.135%\u001b[0m]\n",
      "\u001b[66mHAM10000 ==> testing ...\u001b[0m\n"
     ]
    },
    {
     "data": {
      "application/vnd.jupyter.widget-view+json": {
       "model_id": "eabfe545ea364fde98a83353c913f904",
       "version_major": 2,
       "version_minor": 0
      },
      "text/plain": [
       "  0%|          | 0/27 [00:00<?, ?it/s]"
      ]
     },
     "metadata": {},
     "output_type": "display_data"
    },
    {
     "name": "stdout",
     "output_type": "stream",
     "text": [
      "Test_Acc:\u001b[1;32m96.135%\u001b[0m\n",
      "Best_ACC[\u001b[1;32m96.135%\u001b[0m]\n",
      "\u001b[66mHAM10000 ==> testing ...\u001b[0m\n"
     ]
    },
    {
     "data": {
      "application/vnd.jupyter.widget-view+json": {
       "model_id": "d1805a1cbc174477b9623de7a405e891",
       "version_major": 2,
       "version_minor": 0
      },
      "text/plain": [
       "  0%|          | 0/27 [00:00<?, ?it/s]"
      ]
     },
     "metadata": {},
     "output_type": "display_data"
    },
    {
     "name": "stdout",
     "output_type": "stream",
     "text": [
      "Test_Acc:\u001b[1;32m96.135%\u001b[0m\n",
      "Best_ACC[\u001b[1;32m96.135%\u001b[0m]\n",
      "\u001b[66mHAM10000 ==> testing ...\u001b[0m\n"
     ]
    },
    {
     "data": {
      "application/vnd.jupyter.widget-view+json": {
       "model_id": "4d1d2ccd6b4a4955b36e0ada25a83b98",
       "version_major": 2,
       "version_minor": 0
      },
      "text/plain": [
       "  0%|          | 0/27 [00:00<?, ?it/s]"
      ]
     },
     "metadata": {},
     "output_type": "display_data"
    },
    {
     "name": "stdout",
     "output_type": "stream",
     "text": [
      "Test_Acc:\u001b[1;32m96.135%\u001b[0m\n",
      "Best_ACC[\u001b[1;32m96.135%\u001b[0m]\n",
      "\u001b[66mHAM10000 ==> testing ...\u001b[0m\n"
     ]
    },
    {
     "data": {
      "application/vnd.jupyter.widget-view+json": {
       "model_id": "0b645344e4574e4497e5212bbf172eb8",
       "version_major": 2,
       "version_minor": 0
      },
      "text/plain": [
       "  0%|          | 0/27 [00:00<?, ?it/s]"
      ]
     },
     "metadata": {},
     "output_type": "display_data"
    },
    {
     "name": "stdout",
     "output_type": "stream",
     "text": [
      "Test_Acc:\u001b[1;32m96.135%\u001b[0m\n",
      "Best_ACC[\u001b[1;32m96.135%\u001b[0m]\n"
     ]
    }
   ],
   "source": [
    "network.load_state_dict(torch.load(save_PATH))\n",
    "for i in range(5):\n",
    "    test()"
   ]
  },
  {
   "cell_type": "code",
   "execution_count": 17,
   "metadata": {
    "execution": {
     "iopub.execute_input": "2022-05-01T18:49:23.671651Z",
     "iopub.status.busy": "2022-05-01T18:49:23.671651Z",
     "iopub.status.idle": "2022-05-01T18:49:23.732174Z",
     "shell.execute_reply": "2022-05-01T18:49:23.731964Z",
     "shell.execute_reply.started": "2022-05-01T18:49:23.671651Z"
    },
    "tags": []
   },
   "outputs": [
    {
     "name": "stdout",
     "output_type": "stream",
     "text": [
      "\u001b[31m=================Conclusion====================\u001b[0m\n",
      "Dataset:[\u001b[1;31mHAM10000\u001b[0m]\n",
      "Best_Epoch [\u001b[1;31m125\u001b[0m]\n",
      "[Test]  \u001b[32mACC:96.14%\u001b[0m.\n"
     ]
    }
   ],
   "source": [
    "show.conclusion(img_title=img_title)"
   ]
  },
  {
   "cell_type": "code",
   "execution_count": 18,
   "metadata": {
    "execution": {
     "iopub.execute_input": "2022-05-01T18:49:23.732174Z",
     "iopub.status.busy": "2022-05-01T18:49:23.732174Z",
     "iopub.status.idle": "2022-05-01T18:49:23.986729Z",
     "shell.execute_reply": "2022-05-01T18:49:23.986729Z",
     "shell.execute_reply.started": "2022-05-01T18:49:23.732174Z"
    },
    "tags": []
   },
   "outputs": [
    {
     "data": {
      "image/png": "[encoded data removed]",
      "text/plain": [
       "<Figure size 432x288 with 1 Axes>"
      ]
     },
     "metadata": {
      "needs_background": "light"
     },
     "output_type": "display_data"
    }
   ],
   "source": [
    "plt.clf()#clear photo\n",
    "show.train(write=True,custom_path='./tmp',img_title=img_title,suf=suf)"
   ]
  },
  {
   "cell_type": "code",
   "execution_count": 19,
   "metadata": {
    "execution": {
     "iopub.execute_input": "2022-05-01T18:49:23.986729Z",
     "iopub.status.busy": "2022-05-01T18:49:23.986729Z",
     "iopub.status.idle": "2022-05-01T18:49:24.221051Z",
     "shell.execute_reply": "2022-05-01T18:49:24.221051Z",
     "shell.execute_reply.started": "2022-05-01T18:49:23.986729Z"
    },
    "tags": []
   },
   "outputs": [
    {
     "data": {
      "image/png": "[encoded data removed]",
      "text/plain": [
       "<Figure size 576x396 with 1 Axes>"
      ]
     },
     "metadata": {},
     "output_type": "display_data"
    }
   ],
   "source": [
    "show.test(write=True,custom_path='./tmp',img_title=img_title,suf=suf)"
   ]
  },
  {
   "cell_type": "code",
   "execution_count": 20,
   "metadata": {
    "execution": {
     "iopub.execute_input": "2022-05-01T18:49:24.221051Z",
     "iopub.status.busy": "2022-05-01T18:49:24.221051Z",
     "iopub.status.idle": "2022-05-01T18:49:24.283594Z",
     "shell.execute_reply": "2022-05-01T18:49:24.283594Z",
     "shell.execute_reply.started": "2022-05-01T18:49:24.221051Z"
    },
    "tags": []
   },
   "outputs": [
    {
     "name": "stdout",
     "output_type": "stream",
     "text": [
      "+--------+-----------+--------+-------+----------+\n",
      "|  Type  | Precision | Recall |   F1  | Accuracy |\n",
      "+--------+-----------+--------+-------+----------+\n",
      "| akiec  |    0.84   | 0.913  | 0.875 |          |\n",
      "|  bcc   |   0.7692  | 0.769  | 0.769 |          |\n",
      "|  bkl   |   0.9464  | 0.803  | 0.869 |          |\n",
      "|   df   |   0.7143  | 0.833  | 0.769 |          |\n",
      "|  mel   |   0.9062  | 0.853  | 0.879 |          |\n",
      "|   nv   |   0.9792  | 0.992  | 0.986 |          |\n",
      "|  vasc  |    1.0    |  1.0   |  1.0  |          |\n",
      "| Total: |           |        |       |  0.9614  |\n",
      "+--------+-----------+--------+-------+----------+\n"
     ]
    }
   ],
   "source": [
    "self_scores()"
   ]
  },
  {
   "cell_type": "code",
   "execution_count": 21,
   "metadata": {
    "execution": {
     "iopub.execute_input": "2022-05-01T18:49:24.283594Z",
     "iopub.status.busy": "2022-05-01T18:49:24.283594Z",
     "iopub.status.idle": "2022-05-01T18:49:24.721185Z",
     "shell.execute_reply": "2022-05-01T18:49:24.721185Z",
     "shell.execute_reply.started": "2022-05-01T18:49:24.283594Z"
    },
    "tags": []
   },
   "outputs": [
    {
     "data": {
      "image/png": "[encoded data removed]",
      "text/plain": [
       "<Figure size 576x396 with 2 Axes>"
      ]
     },
     "metadata": {},
     "output_type": "display_data"
    }
   ],
   "source": [
    "confusion_matrix(evl_result)"
   ]
  },
  {
   "cell_type": "code",
   "execution_count": 22,
   "metadata": {
    "execution": {
     "iopub.execute_input": "2022-05-01T18:49:24.721185Z",
     "iopub.status.busy": "2022-05-01T18:49:24.721185Z",
     "iopub.status.idle": "2022-05-01T18:49:24.783591Z",
     "shell.execute_reply": "2022-05-01T18:49:24.783591Z",
     "shell.execute_reply.started": "2022-05-01T18:49:24.721185Z"
    },
    "tags": []
   },
   "outputs": [],
   "source": [
    "# #save\n",
    "s1 = np.array(test_acc_list)\n",
    "np.save(f'./tmp/{img_title}/{suf}/{img_title}_test_acc_{suf}.npy', s1)\n",
    "s2 = np.array(train_loss_list)\n",
    "np.save(f'./tmp/{img_title}/{suf}/{img_title}_train_loss_{suf}.npy', s2)"
   ]
  },
  {
   "cell_type": "code",
   "execution_count": 23,
   "metadata": {
    "execution": {
     "iopub.execute_input": "2022-05-01T18:49:24.783591Z",
     "iopub.status.busy": "2022-05-01T18:49:24.783591Z",
     "iopub.status.idle": "2022-05-01T18:49:24.908591Z",
     "shell.execute_reply": "2022-05-01T18:49:24.908591Z",
     "shell.execute_reply.started": "2022-05-01T18:49:24.783591Z"
    },
    "tags": []
   },
   "outputs": [],
   "source": [
    "torch.cuda.memory.empty_cache()"
   ]
  }
 ],
 "metadata": {
  "kernelspec": {
   "display_name": "torch1.8",
   "language": "python",
   "name": "woodman"
  },
  "language_info": {
   "codemirror_mode": {
    "name": "ipython",
    "version": 3
   },
   "file_extension": ".py",
   "mimetype": "text/x-python",
   "name": "python",
   "nbconvert_exporter": "python",
   "pygments_lexer": "ipython3",
   "version": "3.8.11"
  },
  "toc-autonumbering": true,
  "toc-showmarkdowntxt": true
 },
 "nbformat": 4,
 "nbformat_minor": 4
}
