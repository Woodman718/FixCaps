{
 "cells": [
  {
   "cell_type": "code",
   "execution_count": 1,
   "metadata": {
    "execution": {
     "iopub.execute_input": "2022-06-10T05:07:52.892395Z",
     "iopub.status.busy": "2022-06-10T05:07:52.892395Z",
     "iopub.status.idle": "2022-06-10T05:07:52.929719Z",
     "shell.execute_reply": "2022-06-10T05:07:52.929719Z",
     "shell.execute_reply.started": "2022-06-10T05:07:52.892395Z"
    },
    "tags": []
   },
   "outputs": [],
   "source": [
    "%load_ext autoreload\n",
    "%autoreload 2"
   ]
  },
  {
   "cell_type": "code",
   "execution_count": 2,
   "metadata": {
    "execution": {
     "iopub.execute_input": "2022-06-10T05:07:52.930723Z",
     "iopub.status.busy": "2022-06-10T05:07:52.930723Z",
     "iopub.status.idle": "2022-06-10T05:07:54.299147Z",
     "shell.execute_reply": "2022-06-10T05:07:54.299147Z",
     "shell.execute_reply.started": "2022-06-10T05:07:52.930723Z"
    },
    "tags": [],
    "uuid": "5cde640c-432f-4f8a-9f00-017bf8c65e34"
   },
   "outputs": [],
   "source": [
    "import torch\n",
    "import sys, os\n",
    "import json\n",
    "import torch.nn as nn  \n",
    "import numpy as np\n",
    "import pandas as pd\n",
    "import matplotlib.pyplot as plt\n",
    "import torch.optim as optim\n",
    "\n",
    "import prettytable\n",
    "import time\n",
    "import sys\n",
    "sys.setrecursionlimit(15000)\n",
    "\n",
    "from PIL import Image\n",
    "from torch.optim import lr_scheduler\n",
    "from sklearn.metrics import roc_auc_score\n",
    "from torch.autograd import Variable\n",
    "from torchvision import datasets, transforms\n",
    "from torchsummary import summary\n",
    "from tqdm.notebook import tqdm\n",
    "from torch.utils.data import random_split\n",
    "\n",
    "from model9698 import FixCapsNet\n",
    "from images_show import ImageShow"
   ]
  },
  {
   "cell_type": "code",
   "execution_count": 3,
   "metadata": {
    "execution": {
     "iopub.execute_input": "2022-06-10T05:07:54.301182Z",
     "iopub.status.busy": "2022-06-10T05:07:54.300153Z",
     "iopub.status.idle": "2022-06-10T05:07:54.361820Z",
     "shell.execute_reply": "2022-06-10T05:07:54.361820Z",
     "shell.execute_reply.started": "2022-06-10T05:07:54.301182Z"
    },
    "tags": [],
    "uuid": "a391afe8-e37b-4ef6-ab2e-c0bdbb7849ee"
   },
   "outputs": [],
   "source": [
    "# Settings.\n",
    "sys.path.append(os.pardir)\n",
    "device = torch.device('cuda' if torch.cuda.is_available() else \"cpu\")\n",
    "img_title = \"HAM10000\"\n",
    "best_acc= 0.\n",
    "#defined \n",
    "try:\n",
    "    print(len(test_acc_list))\n",
    "except NameError:\n",
    "    train_loss_list = []\n",
    "    train_acc_list = []\n",
    "    test_loss_list = []\n",
    "    test_acc_list = []\n",
    "    test_auc_list = []\n",
    "    val_loss_list = []\n",
    "    val_acc_list = []\n",
    "#activate ImageShow\n",
    "show = ImageShow(train_loss_list=train_loss_list,\n",
    "                train_acc_list=train_acc_list,\n",
    "                test_loss_list=test_loss_list,\n",
    "                test_acc_list=test_acc_list,\n",
    "                test_auc_list=test_auc_list,\n",
    "                val_loss_list=val_loss_list,\n",
    "                val_acc_list=val_acc_list,\n",
    "                )"
   ]
  },
  {
   "cell_type": "code",
   "execution_count": 4,
   "metadata": {
    "execution": {
     "iopub.execute_input": "2022-06-10T05:07:54.362699Z",
     "iopub.status.busy": "2022-06-10T05:07:54.362699Z",
     "iopub.status.idle": "2022-06-10T05:07:54.425817Z",
     "shell.execute_reply": "2022-06-10T05:07:54.425817Z",
     "shell.execute_reply.started": "2022-06-10T05:07:54.362699Z"
    },
    "tags": []
   },
   "outputs": [],
   "source": [
    "data_transform = {\n",
    "    \"train\": transforms.Compose([transforms.RandomResizedCrop((299, 299)),\n",
    "                                 transforms.RandomVerticalFlip(),\n",
    "                                 transforms.ToTensor(),\n",
    "                                 transforms.Normalize((0.5, 0.5, 0.5), (0.5, 0.5, 0.5))]),\n",
    "    \"val\": transforms.Compose([transforms.Resize((308,308)),\n",
    "                               transforms.CenterCrop((299, 299)),\n",
    "                               transforms.ToTensor(),\n",
    "                               transforms.Normalize((0.5, 0.5, 0.5), (0.5, 0.5, 0.5))\n",
    "                              ])\n",
    "    }"
   ]
  },
  {
   "cell_type": "code",
   "execution_count": 5,
   "metadata": {
    "execution": {
     "iopub.execute_input": "2022-06-10T05:07:54.426684Z",
     "iopub.status.busy": "2022-06-10T05:07:54.426684Z",
     "iopub.status.idle": "2022-06-10T05:07:54.792637Z",
     "shell.execute_reply": "2022-06-10T05:07:54.792637Z",
     "shell.execute_reply.started": "2022-06-10T05:07:54.426684Z"
    },
    "tags": []
   },
   "outputs": [
    {
     "name": "stdout",
     "output_type": "stream",
     "text": [
      "Using 7 types.\n",
      "Using 10 dataloader workers every process.\n",
      "using 51699 images for training, 828 images for validation.\n"
     ]
    }
   ],
   "source": [
    "root_path = os.path.abspath(os.path.join(os.getcwd(), \"..\"))\n",
    "image_path = os.path.abspath(os.path.join(root_path,\"skin_lesion\"))\n",
    "assert os.path.exists(image_path), \"{} path does not exist.\".format(image_path)\n",
    "\n",
    "train_dataset = datasets.ImageFolder(root=os.path.join(image_path, \"train\"),\n",
    "                                     transform=data_transform[\"train\"])\n",
    "test_dataset = datasets.ImageFolder(root=os.path.join(image_path,\"test\"),\n",
    "                                      transform=data_transform[\"val\"])\n",
    "train_num = len(train_dataset)\n",
    "test_num = len(test_dataset)\n",
    "\n",
    "img_sample = Image.open(test_dataset.imgs[1][0])\n",
    "n_channels = np.array(img_sample).shape[2]#(H,W,C)\n",
    "\n",
    "data_list = train_dataset.class_to_idx #\n",
    "cla_dict = dict((val, key) for key, val in data_list.items())\n",
    "n_classes  = len(data_list)\n",
    "print(f'Using {n_classes} types.')\n",
    "\n",
    "# write dict into json file\n",
    "json_str = json.dumps(cla_dict, indent=4)\n",
    "with open(f'{img_title}.json', 'w') as json_file:#class_indices\n",
    "    json_file.write(json_str)\n",
    "\n",
    "BatchSize = 168\n",
    "T_size = 31\n",
    "nw = min([os.cpu_count(), BatchSize if BatchSize > 1 else 0, 10]) \n",
    "print(f'Using {nw} dataloader workers every process.')\n",
    "pin_memory = True\n",
    "train_loader = torch.utils.data.DataLoader(train_dataset, batch_size=BatchSize,pin_memory=pin_memory,\n",
    "                                           shuffle=True, num_workers=nw)\n",
    "test_loader = torch.utils.data.DataLoader(test_dataset,batch_size=T_size,pin_memory=pin_memory,\n",
    "                                          shuffle=False, num_workers=nw)\n",
    "\n",
    "print(\"using {} images for training, {} images for validation.\".format(train_num, test_num))"
   ]
  },
  {
   "cell_type": "code",
   "execution_count": 6,
   "metadata": {
    "execution": {
     "iopub.execute_input": "2022-06-10T05:07:54.793524Z",
     "iopub.status.busy": "2022-06-10T05:07:54.793524Z",
     "iopub.status.idle": "2022-06-10T05:07:57.281985Z",
     "shell.execute_reply": "2022-06-10T05:07:57.281985Z",
     "shell.execute_reply.started": "2022-06-10T05:07:54.793524Z"
    },
    "scrolled": true,
    "tags": [],
    "uuid": "35479142-bb8f-4c72-b31f-04bed7bf7c10"
   },
   "outputs": [
    {
     "name": "stdout",
     "output_type": "stream",
     "text": [
      "----------------------------------------------------------------\n",
      "        Layer (type)               Output Shape         Param #\n",
      "================================================================\n",
      "            Conv2d-1        [-1, 128, 135, 135]         369,024\n",
      "              ReLU-2        [-1, 128, 135, 135]               0\n",
      "FractionalMaxPool2d-3          [-1, 128, 20, 20]               0\n",
      "            Conv2d-4          [-1, 128, 20, 20]          16,384\n",
      "       BatchNorm2d-5          [-1, 128, 20, 20]             256\n",
      "         Hardswish-6          [-1, 128, 20, 20]               0\n",
      " AdaptiveAvgPool2d-7            [-1, 128, 1, 1]               0\n",
      "            Conv2d-8            [-1, 128, 1, 1]          16,384\n",
      "              ReLU-9            [-1, 128, 1, 1]               0\n",
      "           Conv2d-10            [-1, 128, 1, 1]          16,384\n",
      "AdaptiveMaxPool2d-11            [-1, 128, 1, 1]               0\n",
      "           Conv2d-12            [-1, 128, 1, 1]          16,384\n",
      "             ReLU-13            [-1, 128, 1, 1]               0\n",
      "           Conv2d-14            [-1, 128, 1, 1]          16,384\n",
      "          Sigmoid-15            [-1, 128, 1, 1]               0\n",
      " ChannelAttention-16            [-1, 128, 1, 1]               0\n",
      "           Conv2d-17            [-1, 1, 20, 20]              18\n",
      "          Sigmoid-18            [-1, 1, 20, 20]               0\n",
      " SpatialAttention-19            [-1, 1, 20, 20]               0\n",
      "        Conv_CBAM-20          [-1, 128, 20, 20]               0\n",
      "           Conv2d-21             [-1, 16, 6, 6]          10,384\n",
      "         ConvUnit-22             [-1, 16, 6, 6]               0\n",
      "           Conv2d-23             [-1, 16, 6, 6]          10,384\n",
      "         ConvUnit-24             [-1, 16, 6, 6]               0\n",
      "           Conv2d-25             [-1, 16, 6, 6]          10,384\n",
      "         ConvUnit-26             [-1, 16, 6, 6]               0\n",
      "           Conv2d-27             [-1, 16, 6, 6]          10,384\n",
      "         ConvUnit-28             [-1, 16, 6, 6]               0\n",
      "           Conv2d-29             [-1, 16, 6, 6]          10,384\n",
      "         ConvUnit-30             [-1, 16, 6, 6]               0\n",
      "           Conv2d-31             [-1, 16, 6, 6]          10,384\n",
      "         ConvUnit-32             [-1, 16, 6, 6]               0\n",
      "           Conv2d-33             [-1, 16, 6, 6]          10,384\n",
      "         ConvUnit-34             [-1, 16, 6, 6]               0\n",
      "           Conv2d-35             [-1, 16, 6, 6]          10,384\n",
      "         ConvUnit-36             [-1, 16, 6, 6]               0\n",
      "     Primary_Caps-37               [-1, 8, 576]               0\n",
      "      Digits_Caps-38             [-1, 7, 16, 1]               0\n",
      "================================================================\n",
      "Total params: 534,290\n",
      "Trainable params: 534,290\n",
      "Non-trainable params: 0\n",
      "----------------------------------------------------------------\n",
      "Input size (MB): 1.02\n",
      "Forward/backward pass size (MB): 37.67\n",
      "Params size (MB): 2.04\n",
      "Estimated Total Size (MB): 40.74\n",
      "----------------------------------------------------------------\n"
     ]
    }
   ],
   "source": [
    "# Create capsule network.\n",
    "conv_outputs = 128 #128_Feature_map\n",
    "num_primary_units = 8\n",
    "primary_unit_size = 16 * 6 * 6\n",
    "output_unit_size = 16\n",
    "img_size = 299\n",
    "network = FixCapsNet(conv_inputs= n_channels,\n",
    "                     conv_outputs=conv_outputs,\n",
    "                     num_primary_units=num_primary_units,\n",
    "                     primary_unit_size=primary_unit_size,\n",
    "                     output_unit_size=output_unit_size,\n",
    "                     num_classes=n_classes,\n",
    "                     init_weights=True,mode=\"128\")\n",
    "\n",
    "network = network.to(device)\n",
    "summary(network,(n_channels,img_size,img_size))\n",
    "# network"
   ]
  },
  {
   "cell_type": "code",
   "execution_count": 7,
   "metadata": {
    "execution": {
     "iopub.execute_input": "2022-06-10T05:07:57.282931Z",
     "iopub.status.busy": "2022-06-10T05:07:57.282931Z",
     "iopub.status.idle": "2022-06-10T05:07:57.345960Z",
     "shell.execute_reply": "2022-06-10T05:07:57.345960Z",
     "shell.execute_reply.started": "2022-06-10T05:07:57.282931Z"
    },
    "tags": []
   },
   "outputs": [
    {
     "data": {
      "text/plain": [
       "Sequential(\n",
       "  (0): Conv2d(3, 128, kernel_size=(31, 31), stride=(2, 2), bias=False)\n",
       "  (1): ReLU(inplace=True)\n",
       "  (2): FractionalMaxPool2d()\n",
       ")"
      ]
     },
     "execution_count": 7,
     "metadata": {},
     "output_type": "execute_result"
    }
   ],
   "source": [
    "network.Convolution"
   ]
  },
  {
   "cell_type": "code",
   "execution_count": 8,
   "metadata": {
    "execution": {
     "iopub.execute_input": "2022-06-10T05:07:57.346839Z",
     "iopub.status.busy": "2022-06-10T05:07:57.346839Z",
     "iopub.status.idle": "2022-06-10T05:07:57.409837Z",
     "shell.execute_reply": "2022-06-10T05:07:57.409837Z",
     "shell.execute_reply.started": "2022-06-10T05:07:57.346839Z"
    },
    "tags": []
   },
   "outputs": [],
   "source": [
    "learning_rate = 0.123\n",
    "optimizer = optim.Adam(network.parameters(), lr=learning_rate)\n",
    "scheduler = lr_scheduler.CosineAnnealingLR(optimizer, 5, eta_min=1e-8, last_epoch=-1)"
   ]
  },
  {
   "cell_type": "code",
   "execution_count": 9,
   "metadata": {
    "execution": {
     "iopub.execute_input": "2022-06-10T05:07:57.410838Z",
     "iopub.status.busy": "2022-06-10T05:07:57.410838Z",
     "iopub.status.idle": "2022-06-10T05:07:57.473562Z",
     "shell.execute_reply": "2022-06-10T05:07:57.473562Z",
     "shell.execute_reply.started": "2022-06-10T05:07:57.410838Z"
    },
    "tags": []
   },
   "outputs": [],
   "source": [
    "def confusion_matrix(evl_result):\n",
    "\n",
    "    plt.style.use(\"seaborn\")#classic\n",
    "    plt.yticks(range(n_classes),cla_dict.values())\n",
    "    plt.xticks(range(n_classes),cla_dict.values())    \n",
    "    plt.title(\"Confusion Matrix\")\n",
    "    plt.imshow(evl_result,cmap=plt.cm.Greens)\n",
    "    for i in range(len(evl_result)):\n",
    "        for j in range(len(evl_result[i])):\n",
    "            plt.text(j,i,int(evl_result[i][j]))\n",
    "\n",
    "    plt.colorbar()\n",
    "    plt.savefig(f\"./tmp/{img_title}/{suf}/Confusion Matrix.png\",dpi=128)"
   ]
  },
  {
   "cell_type": "code",
   "execution_count": 10,
   "metadata": {
    "execution": {
     "iopub.execute_input": "2022-06-10T05:07:57.474550Z",
     "iopub.status.busy": "2022-06-10T05:07:57.474550Z",
     "iopub.status.idle": "2022-06-10T05:07:57.537672Z",
     "shell.execute_reply": "2022-06-10T05:07:57.537672Z",
     "shell.execute_reply.started": "2022-06-10T05:07:57.474550Z"
    },
    "tags": []
   },
   "outputs": [],
   "source": [
    "def self_scores(opt=\"scores\"):\n",
    "    result_table = prettytable.PrettyTable()\n",
    "    result_table.field_names = ['Type','Precision', 'Recall', 'F1','Accuracy']    \n",
    "    accuracy = float(torch.sum(evl_result.diagonal())/torch.sum(evl_result))\n",
    "\n",
    "    for i in range(n_classes):\n",
    "        pre = float(evl_result[i][i] / torch.sum(evl_result,0)[i])#\n",
    "        recal = float(evl_result[i][i] / torch.sum(evl_result,1)[i])#torch.sum(result_table[i])\n",
    "        F1 = pre * recal * 2 / (pre + recal + 1e-7)\n",
    "        result_table.add_row([cla_dict[i], round(pre, 4), round(recal, 3), round(F1, 3),\" \"])\n",
    "\n",
    "    result_table.add_row([\"Total:\", \" \", \" \", \" \",round(accuracy,4)])\n",
    "    print(result_table)"
   ]
  },
  {
   "cell_type": "code",
   "execution_count": 11,
   "metadata": {
    "execution": {
     "iopub.execute_input": "2022-06-10T05:07:57.538551Z",
     "iopub.status.busy": "2022-06-10T05:07:57.538551Z",
     "iopub.status.idle": "2022-06-10T05:07:57.585551Z",
     "shell.execute_reply": "2022-06-10T05:07:57.585551Z",
     "shell.execute_reply.started": "2022-06-10T05:07:57.538551Z"
    },
    "tags": []
   },
   "outputs": [],
   "source": [
    "# Converts batches of class indices to classes of one-hot vectors.\n",
    "def to_one_hot(x, length):\n",
    "    batch_size = x.size(0)\n",
    "    x_one_hot = torch.zeros(batch_size, length)\n",
    "    for i in range(batch_size):\n",
    "        x_one_hot[i, x[i]] = 1.0\n",
    "    return x_one_hot"
   ]
  },
  {
   "cell_type": "code",
   "execution_count": 12,
   "metadata": {
    "execution": {
     "iopub.execute_input": "2022-06-10T05:07:57.587550Z",
     "iopub.status.busy": "2022-06-10T05:07:57.587550Z",
     "iopub.status.idle": "2022-06-10T05:07:57.650730Z",
     "shell.execute_reply": "2022-06-10T05:07:57.648673Z",
     "shell.execute_reply.started": "2022-06-10T05:07:57.587550Z"
    },
    "tags": [],
    "uuid": "86f92f63-16e2-4ca6-b5da-d848546a391e"
   },
   "outputs": [],
   "source": [
    "def train(epoch):\n",
    "    network.train()\n",
    "    running_loss,r_pre = 0., 0.\n",
    "    print_step = len(train_loader)//2\n",
    "    print(f'Epoch: [{epoch}] {img_title} ==> Training ...')\n",
    "    \n",
    "    for batch_idx, (data, target) in enumerate(tqdm(train_loader)):        \n",
    "        # target = torch.as_tensor(target, dtype=torch.int64)#for windows\n",
    "\n",
    "        batch_idx += 1\n",
    "        target_indices = target\n",
    "        target_one_hot = to_one_hot(target, length=n_classes)\n",
    "        data, target = Variable(data).to(device), Variable(target_one_hot).to(device)\n",
    "        optimizer.zero_grad()\n",
    "        output = network(data)\n",
    "\n",
    "        v_mag = torch.sqrt(torch.sum(output**2, dim=2, keepdim=True)) \n",
    "        pred = v_mag.data.max(1, keepdim=True)[1].cpu().squeeze()\n",
    "        r_pre += pred.eq(target_indices.view_as(pred)).squeeze().sum()\n",
    "        \n",
    "        loss = network.loss(output, target)\n",
    "        loss.backward()\n",
    "        optimizer.step()\n",
    "        running_loss += loss.item()\n",
    "        if batch_idx % print_step == 0:\n",
    "            print(\"[{}/{}] Loss{:.5f}, ACC:{:.5f}%\".format(batch_idx,len(train_loader),\n",
    "                                                           loss,\n",
    "                                                           r_pre/(batch_idx*BatchSize),))\n",
    "    epoch_acc = r_pre / train_num\n",
    "    epoch_loss = running_loss / len(train_loader)    \n",
    "    train_loss_list.append(epoch_loss)\n",
    "    train_acc_list.append(epoch_acc)\n",
    "    \n",
    "    print(f'Train_Loss: {epoch_loss},ACC:{round(float(epoch_acc),3)}%')   \n",
    "    scheduler.step()"
   ]
  },
  {
   "cell_type": "code",
   "execution_count": 13,
   "metadata": {
    "execution": {
     "iopub.execute_input": "2022-06-10T05:07:57.652669Z",
     "iopub.status.busy": "2022-06-10T05:07:57.652669Z",
     "iopub.status.idle": "2022-06-10T05:07:57.712669Z",
     "shell.execute_reply": "2022-06-10T05:07:57.712669Z",
     "shell.execute_reply.started": "2022-06-10T05:07:57.652669Z"
    },
    "tags": [],
    "uuid": "f010e769-677f-416b-8ce8-9f4186dce054"
   },
   "outputs": [],
   "source": [
    "def test():\n",
    "    network.eval()\n",
    "    global best_acc,evl_result,evl_tmp_result,net_parameters\n",
    "    cor_loss,correct,tmp_size, Acc=  0, 0, 0, 0\n",
    "    evl_tmp_result = torch.zeros(n_classes,n_classes)\n",
    "    steps_num = len(test_loader)#len(test_loader) * T_size\n",
    "    tmp_size = T_size\n",
    "    print(f'\\033[66m{img_title} ==> testing ...\\033[0m')\n",
    "    with torch.no_grad():\n",
    "        for batch_idx, (data, target) in enumerate(tqdm(test_loader)):\n",
    "\n",
    "            batch_idx +=1\n",
    "            target_indices = target\n",
    "            #torch.Size([128, 7]),tensor([[0., 0., 0., 0., 0., 1., 0.],...,[0., 0., 0., 0., 0., 1., 0.]])\n",
    "            target_one_hot = to_one_hot(target_indices, length=n_classes)            \n",
    "            data, target = Variable(data).to(device), Variable(target_one_hot).to(device)\n",
    "            output = network(data)#torch.Size([batch_size, 7, 16, 1])        \n",
    "            v_mag = torch.sqrt(torch.sum(output**2, dim=2, keepdim=True)) \n",
    "            pred = v_mag.data.max(1, keepdim=True)[1].cpu()#[9, 2, 1, 1, 6,..., 1, 4, 6, 5, 7,]  \n",
    "               \n",
    "            if batch_idx % steps_num == 0 and test_num % T_size != 0:\n",
    "                tmp_size = test_num % T_size\n",
    "\n",
    "            for i in range(tmp_size):\n",
    "                pred_y = pred.numpy()         \n",
    "                evl_tmp_result[target_indices[i]][pred[i]] +=1 \n",
    "    \n",
    "    diag_sum = torch.sum(evl_tmp_result.diagonal())\n",
    "    all_sum = torch.sum(evl_tmp_result)   \n",
    "    accuracy = 100. * float(torch.div(diag_sum,all_sum)) \n",
    "    test_acc_list.append(accuracy)\n",
    "    \n",
    "    print(f\"Test_Acc:\\033[1;32m{round(float(accuracy),3)}%\\033[0m\")\n",
    "\n",
    "    if accuracy > best_acc:\n",
    "        best_acc = accuracy\n",
    "        evl_result = evl_tmp_result.clone()#copy.deepcopy(input)\n",
    "        torch.save(network.state_dict(), save_PATH)\n",
    "        torch.save(evl_result, f'./tmp/{img_title}/{suf}/best_evl_result.pt')\n",
    "        \n",
    "    print(f'Best_ACC[\\033[1;32m{round(float(best_acc),3)}%\\033[0m]')"
   ]
  },
  {
   "cell_type": "code",
   "execution_count": 14,
   "metadata": {
    "execution": {
     "iopub.execute_input": "2022-06-10T05:07:57.713661Z",
     "iopub.status.busy": "2022-06-10T05:07:57.713661Z",
     "iopub.status.idle": "2022-06-10T05:07:57.795518Z",
     "shell.execute_reply": "2022-06-10T05:07:57.792552Z",
     "shell.execute_reply.started": "2022-06-10T05:07:57.713661Z"
    },
    "tags": []
   },
   "outputs": [
    {
     "name": "stdout",
     "output_type": "stream",
     "text": [
      "suf:0610_130757\n",
      "./tmp/HAM10000/0610_130757/best_HAM10000_0610_130757.pth\n"
     ]
    },
    {
     "name": "stderr",
     "output_type": "stream",
     "text": [
      "子目录或文件 #windows 已经存在。\n",
      "处理: #windows 时出错。\n"
     ]
    }
   ],
   "source": [
    "#create store\n",
    "try:\n",
    "    print(f\"suf:{suf}\")\n",
    "except NameError:\n",
    "    suf = time.strftime(\"%m%d_%H%M%S\", time.localtime())\n",
    "    print(f\"suf:{suf}\")\n",
    "if os.path.exists(f'./tmp/{img_title}/{suf}'):\n",
    "    print (f'Store: ./tmp/{img_title}/{suf}')\n",
    "else:\n",
    "#     !mkdir -p ./tmp/{img_title}/{suf} #linux\n",
    "    !md E:\\Jupyter\\woodman\\Caps\\FixCaps\\tmp\\{img_title}\\{suf} #windows\n",
    "save_PATH = f'./tmp/{img_title}/{suf}/best_{img_title}_{suf}.pth'\n",
    "print(save_PATH)"
   ]
  },
  {
   "cell_type": "code",
   "execution_count": 15,
   "metadata": {
    "execution": {
     "iopub.execute_input": "2022-06-10T05:07:57.799523Z",
     "iopub.status.busy": "2022-06-10T05:07:57.798526Z",
     "iopub.status.idle": "2022-06-10T05:07:57.856658Z",
     "shell.execute_reply": "2022-06-10T05:07:57.856658Z",
     "shell.execute_reply.started": "2022-06-10T05:07:57.799523Z"
    },
    "scrolled": true,
    "tags": [],
    "uuid": "edaf3774-de76-44a5-aabd-fb52532ea36e"
   },
   "outputs": [],
   "source": [
    "num_epochs = 150"
   ]
  },
  {
   "cell_type": "code",
   "execution_count": 16,
   "metadata": {
    "execution": {
     "iopub.execute_input": "2022-06-10T05:07:57.857637Z",
     "iopub.status.busy": "2022-06-10T05:07:57.857637Z",
     "iopub.status.idle": "2022-06-10T11:00:47.217696Z",
     "shell.execute_reply": "2022-06-10T11:00:47.217696Z",
     "shell.execute_reply.started": "2022-06-10T05:07:57.857637Z"
    },
    "scrolled": true,
    "tags": [],
    "uuid": "edaf3774-de76-44a5-aabd-fb52532ea36e"
   },
   "outputs": [
    {
     "name": "stdout",
     "output_type": "stream",
     "text": [
      "Epoch: [1] HAM10000 ==> Training ...\n"
     ]
    },
    {
     "data": {
      "application/vnd.jupyter.widget-view+json": {
       "model_id": "c078f9df06ca480ab0576738093b74c7",
       "version_major": 2,
       "version_minor": 0
      },
      "text/plain": [
       "  0%|          | 0/308 [00:00<?, ?it/s]"
      ]
     },
     "metadata": {},
     "output_type": "display_data"
    },
    {
     "name": "stdout",
     "output_type": "stream",
     "text": [
      "[154/308] Loss0.35861, ACC:0.31142%\n",
      "[308/308] Loss0.35865, ACC:0.36887%\n",
      "Train_Loss: 0.40739963435894483,ACC:0.369%\n",
      "\u001b[66mHAM10000 ==> testing ...\u001b[0m\n"
     ]
    },
    {
     "data": {
      "application/vnd.jupyter.widget-view+json": {
       "model_id": "4e6c75587350467ebeda899c347f9140",
       "version_major": 2,
       "version_minor": 0
      },
      "text/plain": [
       "  0%|          | 0/27 [00:00<?, ?it/s]"
      ]
     },
     "metadata": {},
     "output_type": "display_data"
    },
    {
     "name": "stdout",
     "output_type": "stream",
     "text": [
      "Test_Acc:\u001b[1;32m74.517%\u001b[0m\n",
      "Best_ACC[\u001b[1;32m74.517%\u001b[0m]\n",
      "Epoch: [2] HAM10000 ==> Training ...\n"
     ]
    },
    {
     "data": {
      "application/vnd.jupyter.widget-view+json": {
       "model_id": "bcf37198230e4ab0bf3464734f003a00",
       "version_major": 2,
       "version_minor": 0
      },
      "text/plain": [
       "  0%|          | 0/308 [00:00<?, ?it/s]"
      ]
     },
     "metadata": {},
     "output_type": "display_data"
    },
    {
     "name": "stdout",
     "output_type": "stream",
     "text": [
      "[154/308] Loss0.33117, ACC:0.46846%\n",
      "[308/308] Loss0.31596, ACC:0.48071%\n",
      "Train_Loss: 0.3391864743906182,ACC:0.481%\n",
      "\u001b[66mHAM10000 ==> testing ...\u001b[0m\n"
     ]
    },
    {
     "data": {
      "application/vnd.jupyter.widget-view+json": {
       "model_id": "3e337dc2a25549088bf3496a318b71d2",
       "version_major": 2,
       "version_minor": 0
      },
      "text/plain": [
       "  0%|          | 0/27 [00:00<?, ?it/s]"
      ]
     },
     "metadata": {},
     "output_type": "display_data"
    },
    {
     "name": "stdout",
     "output_type": "stream",
     "text": [
      "Test_Acc:\u001b[1;32m81.28%\u001b[0m\n",
      "Best_ACC[\u001b[1;32m81.28%\u001b[0m]\n",
      "Epoch: [3] HAM10000 ==> Training ...\n"
     ]
    },
    {
     "data": {
      "application/vnd.jupyter.widget-view+json": {
       "model_id": "f806fd360f6b4f65aa6cbf85886687ba",
       "version_major": 2,
       "version_minor": 0
      },
      "text/plain": [
       "  0%|          | 0/308 [00:00<?, ?it/s]"
      ]
     },
     "metadata": {},
     "output_type": "display_data"
    },
    {
     "name": "stdout",
     "output_type": "stream",
     "text": [
      "[154/308] Loss0.32213, ACC:0.52420%\n",
      "[308/308] Loss0.30330, ACC:0.52733%\n",
      "Train_Loss: 0.3112957640127702,ACC:0.528%\n",
      "\u001b[66mHAM10000 ==> testing ...\u001b[0m\n"
     ]
    },
    {
     "data": {
      "application/vnd.jupyter.widget-view+json": {
       "model_id": "e36107e94a684abeac0cbead7295236a",
       "version_major": 2,
       "version_minor": 0
      },
      "text/plain": [
       "  0%|          | 0/27 [00:00<?, ?it/s]"
      ]
     },
     "metadata": {},
     "output_type": "display_data"
    },
    {
     "name": "stdout",
     "output_type": "stream",
     "text": [
      "Test_Acc:\u001b[1;32m87.198%\u001b[0m\n",
      "Best_ACC[\u001b[1;32m87.198%\u001b[0m]\n",
      "Epoch: [4] HAM10000 ==> Training ...\n"
     ]
    },
    {
     "data": {
      "application/vnd.jupyter.widget-view+json": {
       "model_id": "e7a05ee75eac4b739ca4d196d313aa04",
       "version_major": 2,
       "version_minor": 0
      },
      "text/plain": [
       "  0%|          | 0/308 [00:00<?, ?it/s]"
      ]
     },
     "metadata": {},
     "output_type": "display_data"
    },
    {
     "name": "stdout",
     "output_type": "stream",
     "text": [
      "[154/308] Loss0.25276, ACC:0.55786%\n",
      "[308/308] Loss0.30709, ACC:0.56111%\n",
      "Train_Loss: 0.29176309341927625,ACC:0.562%\n",
      "\u001b[66mHAM10000 ==> testing ...\u001b[0m\n"
     ]
    },
    {
     "data": {
      "application/vnd.jupyter.widget-view+json": {
       "model_id": "afc52cd339d74542ac22ef2e56d214c9",
       "version_major": 2,
       "version_minor": 0
      },
      "text/plain": [
       "  0%|          | 0/27 [00:00<?, ?it/s]"
      ]
     },
     "metadata": {},
     "output_type": "display_data"
    },
    {
     "name": "stdout",
     "output_type": "stream",
     "text": [
      "Test_Acc:\u001b[1;32m85.507%\u001b[0m\n",
      "Best_ACC[\u001b[1;32m87.198%\u001b[0m]\n",
      "Epoch: [5] HAM10000 ==> Training ...\n"
     ]
    },
    {
     "data": {
      "application/vnd.jupyter.widget-view+json": {
       "model_id": "16541007552545c0b5818d234919099b",
       "version_major": 2,
       "version_minor": 0
      },
      "text/plain": [
       "  0%|          | 0/308 [00:00<?, ?it/s]"
      ]
     },
     "metadata": {},
     "output_type": "display_data"
    },
    {
     "name": "stdout",
     "output_type": "stream",
     "text": [
      "[154/308] Loss0.26993, ACC:0.58252%\n",
      "[308/308] Loss0.28661, ACC:0.58171%\n",
      "Train_Loss: 0.28137343439769436,ACC:0.582%\n",
      "\u001b[66mHAM10000 ==> testing ...\u001b[0m\n"
     ]
    },
    {
     "data": {
      "application/vnd.jupyter.widget-view+json": {
       "model_id": "6dc0ba2e4ebc47fe95e1ea91715e3b06",
       "version_major": 2,
       "version_minor": 0
      },
      "text/plain": [
       "  0%|          | 0/27 [00:00<?, ?it/s]"
      ]
     },
     "metadata": {},
     "output_type": "display_data"
    },
    {
     "name": "stdout",
     "output_type": "stream",
     "text": [
      "Test_Acc:\u001b[1;32m86.957%\u001b[0m\n",
      "Best_ACC[\u001b[1;32m87.198%\u001b[0m]\n",
      "Epoch: [6] HAM10000 ==> Training ...\n"
     ]
    },
    {
     "data": {
      "application/vnd.jupyter.widget-view+json": {
       "model_id": "db763539386943d594933297f74a40fe",
       "version_major": 2,
       "version_minor": 0
      },
      "text/plain": [
       "  0%|          | 0/308 [00:00<?, ?it/s]"
      ]
     },
     "metadata": {},
     "output_type": "display_data"
    },
    {
     "name": "stdout",
     "output_type": "stream",
     "text": [
      "[154/308] Loss0.28284, ACC:0.58387%\n",
      "[308/308] Loss0.25688, ACC:0.58440%\n",
      "Train_Loss: 0.27927359241943855,ACC:0.585%\n",
      "\u001b[66mHAM10000 ==> testing ...\u001b[0m\n"
     ]
    },
    {
     "data": {
      "application/vnd.jupyter.widget-view+json": {
       "model_id": "d1d5a75f8dd94f15ade32c407c64426f",
       "version_major": 2,
       "version_minor": 0
      },
      "text/plain": [
       "  0%|          | 0/27 [00:00<?, ?it/s]"
      ]
     },
     "metadata": {},
     "output_type": "display_data"
    },
    {
     "name": "stdout",
     "output_type": "stream",
     "text": [
      "Test_Acc:\u001b[1;32m88.527%\u001b[0m\n",
      "Best_ACC[\u001b[1;32m88.527%\u001b[0m]\n",
      "Epoch: [7] HAM10000 ==> Training ...\n"
     ]
    },
    {
     "data": {
      "application/vnd.jupyter.widget-view+json": {
       "model_id": "fca4f6c72dc94cd19907afeb3141e424",
       "version_major": 2,
       "version_minor": 0
      },
      "text/plain": [
       "  0%|          | 0/308 [00:00<?, ?it/s]"
      ]
     },
     "metadata": {},
     "output_type": "display_data"
    },
    {
     "name": "stdout",
     "output_type": "stream",
     "text": [
      "[154/308] Loss0.28300, ACC:0.58851%\n",
      "[308/308] Loss0.30376, ACC:0.58704%\n",
      "Train_Loss: 0.2774091969159516,ACC:0.588%\n",
      "\u001b[66mHAM10000 ==> testing ...\u001b[0m\n"
     ]
    },
    {
     "data": {
      "application/vnd.jupyter.widget-view+json": {
       "model_id": "5a96f2bced864d6697144a3d43303b7d",
       "version_major": 2,
       "version_minor": 0
      },
      "text/plain": [
       "  0%|          | 0/27 [00:00<?, ?it/s]"
      ]
     },
     "metadata": {},
     "output_type": "display_data"
    },
    {
     "name": "stdout",
     "output_type": "stream",
     "text": [
      "Test_Acc:\u001b[1;32m89.13%\u001b[0m\n",
      "Best_ACC[\u001b[1;32m89.13%\u001b[0m]\n",
      "Epoch: [8] HAM10000 ==> Training ...\n"
     ]
    },
    {
     "data": {
      "application/vnd.jupyter.widget-view+json": {
       "model_id": "250ba3c763b44b6aa1bb77fec6b8160b",
       "version_major": 2,
       "version_minor": 0
      },
      "text/plain": [
       "  0%|          | 0/308 [00:00<?, ?it/s]"
      ]
     },
     "metadata": {},
     "output_type": "display_data"
    },
    {
     "name": "stdout",
     "output_type": "stream",
     "text": [
      "[154/308] Loss0.26896, ACC:0.58588%\n",
      "[308/308] Loss0.30023, ACC:0.58521%\n",
      "Train_Loss: 0.2789771883905708,ACC:0.586%\n",
      "\u001b[66mHAM10000 ==> testing ...\u001b[0m\n"
     ]
    },
    {
     "data": {
      "application/vnd.jupyter.widget-view+json": {
       "model_id": "9e94fd6f00ce483484096158149c3010",
       "version_major": 2,
       "version_minor": 0
      },
      "text/plain": [
       "  0%|          | 0/27 [00:00<?, ?it/s]"
      ]
     },
     "metadata": {},
     "output_type": "display_data"
    },
    {
     "name": "stdout",
     "output_type": "stream",
     "text": [
      "Test_Acc:\u001b[1;32m86.111%\u001b[0m\n",
      "Best_ACC[\u001b[1;32m89.13%\u001b[0m]\n",
      "Epoch: [9] HAM10000 ==> Training ...\n"
     ]
    },
    {
     "data": {
      "application/vnd.jupyter.widget-view+json": {
       "model_id": "1ce822f537a74462bab8e6f71e35148a",
       "version_major": 2,
       "version_minor": 0
      },
      "text/plain": [
       "  0%|          | 0/308 [00:00<?, ?it/s]"
      ]
     },
     "metadata": {},
     "output_type": "display_data"
    },
    {
     "name": "stdout",
     "output_type": "stream",
     "text": [
      "[154/308] Loss0.28259, ACC:0.58592%\n",
      "[308/308] Loss0.28589, ACC:0.58559%\n",
      "Train_Loss: 0.27963376229072545,ACC:0.586%\n",
      "\u001b[66mHAM10000 ==> testing ...\u001b[0m\n"
     ]
    },
    {
     "data": {
      "application/vnd.jupyter.widget-view+json": {
       "model_id": "a07eaa287168459fb8e01e27809df337",
       "version_major": 2,
       "version_minor": 0
      },
      "text/plain": [
       "  0%|          | 0/27 [00:00<?, ?it/s]"
      ]
     },
     "metadata": {},
     "output_type": "display_data"
    },
    {
     "name": "stdout",
     "output_type": "stream",
     "text": [
      "Test_Acc:\u001b[1;32m86.473%\u001b[0m\n",
      "Best_ACC[\u001b[1;32m89.13%\u001b[0m]\n",
      "Epoch: [10] HAM10000 ==> Training ...\n"
     ]
    },
    {
     "data": {
      "application/vnd.jupyter.widget-view+json": {
       "model_id": "363ec38c7457471a9314537326194624",
       "version_major": 2,
       "version_minor": 0
      },
      "text/plain": [
       "  0%|          | 0/308 [00:00<?, ?it/s]"
      ]
     },
     "metadata": {},
     "output_type": "display_data"
    },
    {
     "name": "stdout",
     "output_type": "stream",
     "text": [
      "[154/308] Loss0.29124, ACC:0.58948%\n",
      "[308/308] Loss0.28372, ACC:0.59232%\n",
      "Train_Loss: 0.27549461899446204,ACC:0.593%\n",
      "\u001b[66mHAM10000 ==> testing ...\u001b[0m\n"
     ]
    },
    {
     "data": {
      "application/vnd.jupyter.widget-view+json": {
       "model_id": "d437b40bf2204770a1abbb76e560d516",
       "version_major": 2,
       "version_minor": 0
      },
      "text/plain": [
       "  0%|          | 0/27 [00:00<?, ?it/s]"
      ]
     },
     "metadata": {},
     "output_type": "display_data"
    },
    {
     "name": "stdout",
     "output_type": "stream",
     "text": [
      "Test_Acc:\u001b[1;32m84.058%\u001b[0m\n",
      "Best_ACC[\u001b[1;32m89.13%\u001b[0m]\n",
      "Epoch: [11] HAM10000 ==> Training ...\n"
     ]
    },
    {
     "data": {
      "application/vnd.jupyter.widget-view+json": {
       "model_id": "545e7d93dc2e4c5c86c3988a2b339d38",
       "version_major": 2,
       "version_minor": 0
      },
      "text/plain": [
       "  0%|          | 0/308 [00:00<?, ?it/s]"
      ]
     },
     "metadata": {},
     "output_type": "display_data"
    },
    {
     "name": "stdout",
     "output_type": "stream",
     "text": [
      "[154/308] Loss0.27528, ACC:0.59848%\n",
      "[308/308] Loss0.25169, ACC:0.60171%\n",
      "Train_Loss: 0.26906870102340524,ACC:0.602%\n",
      "\u001b[66mHAM10000 ==> testing ...\u001b[0m\n"
     ]
    },
    {
     "data": {
      "application/vnd.jupyter.widget-view+json": {
       "model_id": "579d2d1fdb234e4a883a2e800d8dd08f",
       "version_major": 2,
       "version_minor": 0
      },
      "text/plain": [
       "  0%|          | 0/27 [00:00<?, ?it/s]"
      ]
     },
     "metadata": {},
     "output_type": "display_data"
    },
    {
     "name": "stdout",
     "output_type": "stream",
     "text": [
      "Test_Acc:\u001b[1;32m83.213%\u001b[0m\n",
      "Best_ACC[\u001b[1;32m89.13%\u001b[0m]\n",
      "Epoch: [12] HAM10000 ==> Training ...\n"
     ]
    },
    {
     "data": {
      "application/vnd.jupyter.widget-view+json": {
       "model_id": "1d8c55e6da9e4098b106f25ce0fd6b47",
       "version_major": 2,
       "version_minor": 0
      },
      "text/plain": [
       "  0%|          | 0/308 [00:00<?, ?it/s]"
      ]
     },
     "metadata": {},
     "output_type": "display_data"
    },
    {
     "name": "stdout",
     "output_type": "stream",
     "text": [
      "[154/308] Loss0.24991, ACC:0.61340%\n",
      "[308/308] Loss0.27650, ACC:0.61739%\n",
      "Train_Loss: 0.2602846985319992,ACC:0.618%\n",
      "\u001b[66mHAM10000 ==> testing ...\u001b[0m\n"
     ]
    },
    {
     "data": {
      "application/vnd.jupyter.widget-view+json": {
       "model_id": "4033ba82de474c9292012918ae59ba75",
       "version_major": 2,
       "version_minor": 0
      },
      "text/plain": [
       "  0%|          | 0/27 [00:00<?, ?it/s]"
      ]
     },
     "metadata": {},
     "output_type": "display_data"
    },
    {
     "name": "stdout",
     "output_type": "stream",
     "text": [
      "Test_Acc:\u001b[1;32m84.3%\u001b[0m\n",
      "Best_ACC[\u001b[1;32m89.13%\u001b[0m]\n",
      "Epoch: [13] HAM10000 ==> Training ...\n"
     ]
    },
    {
     "data": {
      "application/vnd.jupyter.widget-view+json": {
       "model_id": "21f6894d2c7b4f22b76091bb2c290c2c",
       "version_major": 2,
       "version_minor": 0
      },
      "text/plain": [
       "  0%|          | 0/308 [00:00<?, ?it/s]"
      ]
     },
     "metadata": {},
     "output_type": "display_data"
    },
    {
     "name": "stdout",
     "output_type": "stream",
     "text": [
      "[154/308] Loss0.25743, ACC:0.62380%\n",
      "[308/308] Loss0.19751, ACC:0.62873%\n",
      "Train_Loss: 0.252311817721113,ACC:0.629%\n",
      "\u001b[66mHAM10000 ==> testing ...\u001b[0m\n"
     ]
    },
    {
     "data": {
      "application/vnd.jupyter.widget-view+json": {
       "model_id": "640684cb24ce48f89e8fdf1244b7abcf",
       "version_major": 2,
       "version_minor": 0
      },
      "text/plain": [
       "  0%|          | 0/27 [00:00<?, ?it/s]"
      ]
     },
     "metadata": {},
     "output_type": "display_data"
    },
    {
     "name": "stdout",
     "output_type": "stream",
     "text": [
      "Test_Acc:\u001b[1;32m82.367%\u001b[0m\n",
      "Best_ACC[\u001b[1;32m89.13%\u001b[0m]\n",
      "Epoch: [14] HAM10000 ==> Training ...\n"
     ]
    },
    {
     "data": {
      "application/vnd.jupyter.widget-view+json": {
       "model_id": "54ed09fe523c44b299edd7efe96a95fb",
       "version_major": 2,
       "version_minor": 0
      },
      "text/plain": [
       "  0%|          | 0/308 [00:00<?, ?it/s]"
      ]
     },
     "metadata": {},
     "output_type": "display_data"
    },
    {
     "name": "stdout",
     "output_type": "stream",
     "text": [
      "[154/308] Loss0.25945, ACC:0.64073%\n",
      "[308/308] Loss0.25763, ACC:0.64340%\n",
      "Train_Loss: 0.24500782618468459,ACC:0.644%\n",
      "\u001b[66mHAM10000 ==> testing ...\u001b[0m\n"
     ]
    },
    {
     "data": {
      "application/vnd.jupyter.widget-view+json": {
       "model_id": "a9f87f23b3724a34aad439af7d142635",
       "version_major": 2,
       "version_minor": 0
      },
      "text/plain": [
       "  0%|          | 0/27 [00:00<?, ?it/s]"
      ]
     },
     "metadata": {},
     "output_type": "display_data"
    },
    {
     "name": "stdout",
     "output_type": "stream",
     "text": [
      "Test_Acc:\u001b[1;32m88.527%\u001b[0m\n",
      "Best_ACC[\u001b[1;32m89.13%\u001b[0m]\n",
      "Epoch: [15] HAM10000 ==> Training ...\n"
     ]
    },
    {
     "data": {
      "application/vnd.jupyter.widget-view+json": {
       "model_id": "5672a0f3e97540bfa148c68e2db1c085",
       "version_major": 2,
       "version_minor": 0
      },
      "text/plain": [
       "  0%|          | 0/308 [00:00<?, ?it/s]"
      ]
     },
     "metadata": {},
     "output_type": "display_data"
    },
    {
     "name": "stdout",
     "output_type": "stream",
     "text": [
      "[154/308] Loss0.27040, ACC:0.65399%\n",
      "[308/308] Loss0.24600, ACC:0.65316%\n",
      "Train_Loss: 0.23784689493961148,ACC:0.654%\n",
      "\u001b[66mHAM10000 ==> testing ...\u001b[0m\n"
     ]
    },
    {
     "data": {
      "application/vnd.jupyter.widget-view+json": {
       "model_id": "04614367658b4646b03a7f52f08dbd90",
       "version_major": 2,
       "version_minor": 0
      },
      "text/plain": [
       "  0%|          | 0/27 [00:00<?, ?it/s]"
      ]
     },
     "metadata": {},
     "output_type": "display_data"
    },
    {
     "name": "stdout",
     "output_type": "stream",
     "text": [
      "Test_Acc:\u001b[1;32m85.99%\u001b[0m\n",
      "Best_ACC[\u001b[1;32m89.13%\u001b[0m]\n",
      "Epoch: [16] HAM10000 ==> Training ...\n"
     ]
    },
    {
     "data": {
      "application/vnd.jupyter.widget-view+json": {
       "model_id": "db16f8b7d412420383b578d37462c1c2",
       "version_major": 2,
       "version_minor": 0
      },
      "text/plain": [
       "  0%|          | 0/308 [00:00<?, ?it/s]"
      ]
     },
     "metadata": {},
     "output_type": "display_data"
    },
    {
     "name": "stdout",
     "output_type": "stream",
     "text": [
      "[154/308] Loss0.23874, ACC:0.65136%\n",
      "[308/308] Loss0.23025, ACC:0.65602%\n",
      "Train_Loss: 0.23575306664426604,ACC:0.657%\n",
      "\u001b[66mHAM10000 ==> testing ...\u001b[0m\n"
     ]
    },
    {
     "data": {
      "application/vnd.jupyter.widget-view+json": {
       "model_id": "edab06fff99c41e0b25952e8efef1fd4",
       "version_major": 2,
       "version_minor": 0
      },
      "text/plain": [
       "  0%|          | 0/27 [00:00<?, ?it/s]"
      ]
     },
     "metadata": {},
     "output_type": "display_data"
    },
    {
     "name": "stdout",
     "output_type": "stream",
     "text": [
      "Test_Acc:\u001b[1;32m87.319%\u001b[0m\n",
      "Best_ACC[\u001b[1;32m89.13%\u001b[0m]\n",
      "Epoch: [17] HAM10000 ==> Training ...\n"
     ]
    },
    {
     "data": {
      "application/vnd.jupyter.widget-view+json": {
       "model_id": "ccc1663bb5c24344bcb041c32305534f",
       "version_major": 2,
       "version_minor": 0
      },
      "text/plain": [
       "  0%|          | 0/308 [00:00<?, ?it/s]"
      ]
     },
     "metadata": {},
     "output_type": "display_data"
    },
    {
     "name": "stdout",
     "output_type": "stream",
     "text": [
      "[154/308] Loss0.23981, ACC:0.65438%\n",
      "[308/308] Loss0.21403, ACC:0.65546%\n",
      "Train_Loss: 0.23605298458949311,ACC:0.656%\n",
      "\u001b[66mHAM10000 ==> testing ...\u001b[0m\n"
     ]
    },
    {
     "data": {
      "application/vnd.jupyter.widget-view+json": {
       "model_id": "4ee4cd4d3ff847a98f07c56d935674d3",
       "version_major": 2,
       "version_minor": 0
      },
      "text/plain": [
       "  0%|          | 0/27 [00:00<?, ?it/s]"
      ]
     },
     "metadata": {},
     "output_type": "display_data"
    },
    {
     "name": "stdout",
     "output_type": "stream",
     "text": [
      "Test_Acc:\u001b[1;32m89.13%\u001b[0m\n",
      "Best_ACC[\u001b[1;32m89.13%\u001b[0m]\n",
      "Epoch: [18] HAM10000 ==> Training ...\n"
     ]
    },
    {
     "data": {
      "application/vnd.jupyter.widget-view+json": {
       "model_id": "3f53d6aa32a243cebd94950dbb176609",
       "version_major": 2,
       "version_minor": 0
      },
      "text/plain": [
       "  0%|          | 0/308 [00:00<?, ?it/s]"
      ]
     },
     "metadata": {},
     "output_type": "display_data"
    },
    {
     "name": "stdout",
     "output_type": "stream",
     "text": [
      "[154/308] Loss0.24699, ACC:0.64800%\n",
      "[308/308] Loss0.23984, ACC:0.64813%\n",
      "Train_Loss: 0.24087838209294654,ACC:0.649%\n",
      "\u001b[66mHAM10000 ==> testing ...\u001b[0m\n"
     ]
    },
    {
     "data": {
      "application/vnd.jupyter.widget-view+json": {
       "model_id": "b280eb9327f14bd4b3ce5c968a0d108e",
       "version_major": 2,
       "version_minor": 0
      },
      "text/plain": [
       "  0%|          | 0/27 [00:00<?, ?it/s]"
      ]
     },
     "metadata": {},
     "output_type": "display_data"
    },
    {
     "name": "stdout",
     "output_type": "stream",
     "text": [
      "Test_Acc:\u001b[1;32m86.473%\u001b[0m\n",
      "Best_ACC[\u001b[1;32m89.13%\u001b[0m]\n",
      "Epoch: [19] HAM10000 ==> Training ...\n"
     ]
    },
    {
     "data": {
      "application/vnd.jupyter.widget-view+json": {
       "model_id": "845616ce13e84f1aaaac84050bb322d1",
       "version_major": 2,
       "version_minor": 0
      },
      "text/plain": [
       "  0%|          | 0/308 [00:00<?, ?it/s]"
      ]
     },
     "metadata": {},
     "output_type": "display_data"
    },
    {
     "name": "stdout",
     "output_type": "stream",
     "text": [
      "[154/308] Loss0.23153, ACC:0.64537%\n",
      "[308/308] Loss0.19840, ACC:0.64293%\n",
      "Train_Loss: 0.24397683603229461,ACC:0.643%\n",
      "\u001b[66mHAM10000 ==> testing ...\u001b[0m\n"
     ]
    },
    {
     "data": {
      "application/vnd.jupyter.widget-view+json": {
       "model_id": "697cbef68fa14cb7b3b1ba8b42cf7d87",
       "version_major": 2,
       "version_minor": 0
      },
      "text/plain": [
       "  0%|          | 0/27 [00:00<?, ?it/s]"
      ]
     },
     "metadata": {},
     "output_type": "display_data"
    },
    {
     "name": "stdout",
     "output_type": "stream",
     "text": [
      "Test_Acc:\u001b[1;32m83.575%\u001b[0m\n",
      "Best_ACC[\u001b[1;32m89.13%\u001b[0m]\n",
      "Epoch: [20] HAM10000 ==> Training ...\n"
     ]
    },
    {
     "data": {
      "application/vnd.jupyter.widget-view+json": {
       "model_id": "2daa09f00ed14a14a102d43299c768e6",
       "version_major": 2,
       "version_minor": 0
      },
      "text/plain": [
       "  0%|          | 0/308 [00:00<?, ?it/s]"
      ]
     },
     "metadata": {},
     "output_type": "display_data"
    },
    {
     "name": "stdout",
     "output_type": "stream",
     "text": [
      "[154/308] Loss0.22767, ACC:0.64015%\n",
      "[308/308] Loss0.24985, ACC:0.64195%\n",
      "Train_Loss: 0.24626691160457476,ACC:0.643%\n",
      "\u001b[66mHAM10000 ==> testing ...\u001b[0m\n"
     ]
    },
    {
     "data": {
      "application/vnd.jupyter.widget-view+json": {
       "model_id": "ad23aa4525af4013b1b99977bd9a6361",
       "version_major": 2,
       "version_minor": 0
      },
      "text/plain": [
       "  0%|          | 0/27 [00:00<?, ?it/s]"
      ]
     },
     "metadata": {},
     "output_type": "display_data"
    },
    {
     "name": "stdout",
     "output_type": "stream",
     "text": [
      "Test_Acc:\u001b[1;32m83.575%\u001b[0m\n",
      "Best_ACC[\u001b[1;32m89.13%\u001b[0m]\n",
      "Epoch: [21] HAM10000 ==> Training ...\n"
     ]
    },
    {
     "data": {
      "application/vnd.jupyter.widget-view+json": {
       "model_id": "3eea16793849407ea1b92f05d7932294",
       "version_major": 2,
       "version_minor": 0
      },
      "text/plain": [
       "  0%|          | 0/308 [00:00<?, ?it/s]"
      ]
     },
     "metadata": {},
     "output_type": "display_data"
    },
    {
     "name": "stdout",
     "output_type": "stream",
     "text": [
      "[154/308] Loss0.23510, ACC:0.64742%\n",
      "[308/308] Loss0.22737, ACC:0.64547%\n",
      "Train_Loss: 0.24453208372964488,ACC:0.646%\n",
      "\u001b[66mHAM10000 ==> testing ...\u001b[0m\n"
     ]
    },
    {
     "data": {
      "application/vnd.jupyter.widget-view+json": {
       "model_id": "85e31d7949434862b80fcc36f92382be",
       "version_major": 2,
       "version_minor": 0
      },
      "text/plain": [
       "  0%|          | 0/27 [00:00<?, ?it/s]"
      ]
     },
     "metadata": {},
     "output_type": "display_data"
    },
    {
     "name": "stdout",
     "output_type": "stream",
     "text": [
      "Test_Acc:\u001b[1;32m83.575%\u001b[0m\n",
      "Best_ACC[\u001b[1;32m89.13%\u001b[0m]\n",
      "Epoch: [22] HAM10000 ==> Training ...\n"
     ]
    },
    {
     "data": {
      "application/vnd.jupyter.widget-view+json": {
       "model_id": "7b2f652041fc4aa7833d7d5774362de5",
       "version_major": 2,
       "version_minor": 0
      },
      "text/plain": [
       "  0%|          | 0/308 [00:00<?, ?it/s]"
      ]
     },
     "metadata": {},
     "output_type": "display_data"
    },
    {
     "name": "stdout",
     "output_type": "stream",
     "text": [
      "[154/308] Loss0.27054, ACC:0.64823%\n",
      "[308/308] Loss0.25223, ACC:0.65194%\n",
      "Train_Loss: 0.23907191151535356,ACC:0.653%\n",
      "\u001b[66mHAM10000 ==> testing ...\u001b[0m\n"
     ]
    },
    {
     "data": {
      "application/vnd.jupyter.widget-view+json": {
       "model_id": "62ab6cf13ba54ee98ef7941bcabba9ba",
       "version_major": 2,
       "version_minor": 0
      },
      "text/plain": [
       "  0%|          | 0/27 [00:00<?, ?it/s]"
      ]
     },
     "metadata": {},
     "output_type": "display_data"
    },
    {
     "name": "stdout",
     "output_type": "stream",
     "text": [
      "Test_Acc:\u001b[1;32m87.077%\u001b[0m\n",
      "Best_ACC[\u001b[1;32m89.13%\u001b[0m]\n",
      "Epoch: [23] HAM10000 ==> Training ...\n"
     ]
    },
    {
     "data": {
      "application/vnd.jupyter.widget-view+json": {
       "model_id": "d100ededc040495c9f11b7662e840786",
       "version_major": 2,
       "version_minor": 0
      },
      "text/plain": [
       "  0%|          | 0/308 [00:00<?, ?it/s]"
      ]
     },
     "metadata": {},
     "output_type": "display_data"
    },
    {
     "name": "stdout",
     "output_type": "stream",
     "text": [
      "[154/308] Loss0.23831, ACC:0.66245%\n",
      "[308/308] Loss0.25086, ACC:0.66385%\n",
      "Train_Loss: 0.232106185868963,ACC:0.664%\n",
      "\u001b[66mHAM10000 ==> testing ...\u001b[0m\n"
     ]
    },
    {
     "data": {
      "application/vnd.jupyter.widget-view+json": {
       "model_id": "10c4da9b9bfa479b980db9ed487f0f3f",
       "version_major": 2,
       "version_minor": 0
      },
      "text/plain": [
       "  0%|          | 0/27 [00:00<?, ?it/s]"
      ]
     },
     "metadata": {},
     "output_type": "display_data"
    },
    {
     "name": "stdout",
     "output_type": "stream",
     "text": [
      "Test_Acc:\u001b[1;32m89.01%\u001b[0m\n",
      "Best_ACC[\u001b[1;32m89.13%\u001b[0m]\n",
      "Epoch: [24] HAM10000 ==> Training ...\n"
     ]
    },
    {
     "data": {
      "application/vnd.jupyter.widget-view+json": {
       "model_id": "7cf20d2259394b31be061e9d911b91d6",
       "version_major": 2,
       "version_minor": 0
      },
      "text/plain": [
       "  0%|          | 0/308 [00:00<?, ?it/s]"
      ]
     },
     "metadata": {},
     "output_type": "display_data"
    },
    {
     "name": "stdout",
     "output_type": "stream",
     "text": [
      "[154/308] Loss0.23544, ACC:0.67432%\n",
      "[308/308] Loss0.19944, ACC:0.67434%\n",
      "Train_Loss: 0.22514148738670658,ACC:0.675%\n",
      "\u001b[66mHAM10000 ==> testing ...\u001b[0m\n"
     ]
    },
    {
     "data": {
      "application/vnd.jupyter.widget-view+json": {
       "model_id": "d89a76c8ec654a70807af41b9d152827",
       "version_major": 2,
       "version_minor": 0
      },
      "text/plain": [
       "  0%|          | 0/27 [00:00<?, ?it/s]"
      ]
     },
     "metadata": {},
     "output_type": "display_data"
    },
    {
     "name": "stdout",
     "output_type": "stream",
     "text": [
      "Test_Acc:\u001b[1;32m76.691%\u001b[0m\n",
      "Best_ACC[\u001b[1;32m89.13%\u001b[0m]\n",
      "Epoch: [25] HAM10000 ==> Training ...\n"
     ]
    },
    {
     "data": {
      "application/vnd.jupyter.widget-view+json": {
       "model_id": "2be87bdcfb314115abd1cdf97f435af4",
       "version_major": 2,
       "version_minor": 0
      },
      "text/plain": [
       "  0%|          | 0/308 [00:00<?, ?it/s]"
      ]
     },
     "metadata": {},
     "output_type": "display_data"
    },
    {
     "name": "stdout",
     "output_type": "stream",
     "text": [
      "[154/308] Loss0.21864, ACC:0.68936%\n",
      "[308/308] Loss0.22569, ACC:0.68512%\n",
      "Train_Loss: 0.21889916541320936,ACC:0.686%\n",
      "\u001b[66mHAM10000 ==> testing ...\u001b[0m\n"
     ]
    },
    {
     "data": {
      "application/vnd.jupyter.widget-view+json": {
       "model_id": "a0c9e0887c8e49009b8123169b1dcc74",
       "version_major": 2,
       "version_minor": 0
      },
      "text/plain": [
       "  0%|          | 0/27 [00:00<?, ?it/s]"
      ]
     },
     "metadata": {},
     "output_type": "display_data"
    },
    {
     "name": "stdout",
     "output_type": "stream",
     "text": [
      "Test_Acc:\u001b[1;32m84.783%\u001b[0m\n",
      "Best_ACC[\u001b[1;32m89.13%\u001b[0m]\n",
      "Epoch: [26] HAM10000 ==> Training ...\n"
     ]
    },
    {
     "data": {
      "application/vnd.jupyter.widget-view+json": {
       "model_id": "ec36b0bd9f624717a55c85829de0f4eb",
       "version_major": 2,
       "version_minor": 0
      },
      "text/plain": [
       "  0%|          | 0/308 [00:00<?, ?it/s]"
      ]
     },
     "metadata": {},
     "output_type": "display_data"
    },
    {
     "name": "stdout",
     "output_type": "stream",
     "text": [
      "[154/308] Loss0.23202, ACC:0.68731%\n",
      "[308/308] Loss0.23359, ACC:0.68621%\n",
      "Train_Loss: 0.218171736249676,ACC:0.687%\n",
      "\u001b[66mHAM10000 ==> testing ...\u001b[0m\n"
     ]
    },
    {
     "data": {
      "application/vnd.jupyter.widget-view+json": {
       "model_id": "5c61ae0f22504988a553ffee861d3122",
       "version_major": 2,
       "version_minor": 0
      },
      "text/plain": [
       "  0%|          | 0/27 [00:00<?, ?it/s]"
      ]
     },
     "metadata": {},
     "output_type": "display_data"
    },
    {
     "name": "stdout",
     "output_type": "stream",
     "text": [
      "Test_Acc:\u001b[1;32m84.3%\u001b[0m\n",
      "Best_ACC[\u001b[1;32m89.13%\u001b[0m]\n",
      "Epoch: [27] HAM10000 ==> Training ...\n"
     ]
    },
    {
     "data": {
      "application/vnd.jupyter.widget-view+json": {
       "model_id": "38dbd66224fe4e7ab82a5359f62bb30d",
       "version_major": 2,
       "version_minor": 0
      },
      "text/plain": [
       "  0%|          | 0/308 [00:00<?, ?it/s]"
      ]
     },
     "metadata": {},
     "output_type": "display_data"
    },
    {
     "name": "stdout",
     "output_type": "stream",
     "text": [
      "[154/308] Loss0.20683, ACC:0.68557%\n",
      "[308/308] Loss0.27117, ACC:0.68700%\n",
      "Train_Loss: 0.21811677583239295,ACC:0.688%\n",
      "\u001b[66mHAM10000 ==> testing ...\u001b[0m\n"
     ]
    },
    {
     "data": {
      "application/vnd.jupyter.widget-view+json": {
       "model_id": "46c11993b052412e9dff3d163804cf5a",
       "version_major": 2,
       "version_minor": 0
      },
      "text/plain": [
       "  0%|          | 0/27 [00:00<?, ?it/s]"
      ]
     },
     "metadata": {},
     "output_type": "display_data"
    },
    {
     "name": "stdout",
     "output_type": "stream",
     "text": [
      "Test_Acc:\u001b[1;32m83.333%\u001b[0m\n",
      "Best_ACC[\u001b[1;32m89.13%\u001b[0m]\n",
      "Epoch: [28] HAM10000 ==> Training ...\n"
     ]
    },
    {
     "data": {
      "application/vnd.jupyter.widget-view+json": {
       "model_id": "333773a6852247a1ac050c87b53248ac",
       "version_major": 2,
       "version_minor": 0
      },
      "text/plain": [
       "  0%|          | 0/308 [00:00<?, ?it/s]"
      ]
     },
     "metadata": {},
     "output_type": "display_data"
    },
    {
     "name": "stdout",
     "output_type": "stream",
     "text": [
      "[154/308] Loss0.21693, ACC:0.68248%\n",
      "[308/308] Loss0.21255, ACC:0.67780%\n",
      "Train_Loss: 0.22260087655929775,ACC:0.678%\n",
      "\u001b[66mHAM10000 ==> testing ...\u001b[0m\n"
     ]
    },
    {
     "data": {
      "application/vnd.jupyter.widget-view+json": {
       "model_id": "8b837de1320c4944ae68380e2df648ae",
       "version_major": 2,
       "version_minor": 0
      },
      "text/plain": [
       "  0%|          | 0/27 [00:00<?, ?it/s]"
      ]
     },
     "metadata": {},
     "output_type": "display_data"
    },
    {
     "name": "stdout",
     "output_type": "stream",
     "text": [
      "Test_Acc:\u001b[1;32m77.053%\u001b[0m\n",
      "Best_ACC[\u001b[1;32m89.13%\u001b[0m]\n",
      "Epoch: [29] HAM10000 ==> Training ...\n"
     ]
    },
    {
     "data": {
      "application/vnd.jupyter.widget-view+json": {
       "model_id": "211550150c0d4979ad5ab5741c034749",
       "version_major": 2,
       "version_minor": 0
      },
      "text/plain": [
       "  0%|          | 0/308 [00:00<?, ?it/s]"
      ]
     },
     "metadata": {},
     "output_type": "display_data"
    },
    {
     "name": "stdout",
     "output_type": "stream",
     "text": [
      "[154/308] Loss0.24115, ACC:0.67134%\n",
      "[308/308] Loss0.18275, ACC:0.67270%\n",
      "Train_Loss: 0.22838908641949876,ACC:0.673%\n",
      "\u001b[66mHAM10000 ==> testing ...\u001b[0m\n"
     ]
    },
    {
     "data": {
      "application/vnd.jupyter.widget-view+json": {
       "model_id": "c0af60a69b9142dbaad2530ef79a233c",
       "version_major": 2,
       "version_minor": 0
      },
      "text/plain": [
       "  0%|          | 0/27 [00:00<?, ?it/s]"
      ]
     },
     "metadata": {},
     "output_type": "display_data"
    },
    {
     "name": "stdout",
     "output_type": "stream",
     "text": [
      "Test_Acc:\u001b[1;32m90.7%\u001b[0m\n",
      "Best_ACC[\u001b[1;32m90.7%\u001b[0m]\n",
      "Epoch: [30] HAM10000 ==> Training ...\n"
     ]
    },
    {
     "data": {
      "application/vnd.jupyter.widget-view+json": {
       "model_id": "f08afad3693643aeba6104adbda6d87f",
       "version_major": 2,
       "version_minor": 0
      },
      "text/plain": [
       "  0%|          | 0/308 [00:00<?, ?it/s]"
      ]
     },
     "metadata": {},
     "output_type": "display_data"
    },
    {
     "name": "stdout",
     "output_type": "stream",
     "text": [
      "[154/308] Loss0.23525, ACC:0.66578%\n",
      "[308/308] Loss0.23298, ACC:0.66452%\n",
      "Train_Loss: 0.23177625243733455,ACC:0.665%\n",
      "\u001b[66mHAM10000 ==> testing ...\u001b[0m\n"
     ]
    },
    {
     "data": {
      "application/vnd.jupyter.widget-view+json": {
       "model_id": "a2de8d7188f8484b8eef642c6265d178",
       "version_major": 2,
       "version_minor": 0
      },
      "text/plain": [
       "  0%|          | 0/27 [00:00<?, ?it/s]"
      ]
     },
     "metadata": {},
     "output_type": "display_data"
    },
    {
     "name": "stdout",
     "output_type": "stream",
     "text": [
      "Test_Acc:\u001b[1;32m88.768%\u001b[0m\n",
      "Best_ACC[\u001b[1;32m90.7%\u001b[0m]\n",
      "Epoch: [31] HAM10000 ==> Training ...\n"
     ]
    },
    {
     "data": {
      "application/vnd.jupyter.widget-view+json": {
       "model_id": "f7bb6ac1309b49e0ad135a562db9a7b9",
       "version_major": 2,
       "version_minor": 0
      },
      "text/plain": [
       "  0%|          | 0/308 [00:00<?, ?it/s]"
      ]
     },
     "metadata": {},
     "output_type": "display_data"
    },
    {
     "name": "stdout",
     "output_type": "stream",
     "text": [
      "[154/308] Loss0.20982, ACC:0.66957%\n",
      "[308/308] Loss0.24072, ACC:0.66935%\n",
      "Train_Loss: 0.23013384959527425,ACC:0.67%\n",
      "\u001b[66mHAM10000 ==> testing ...\u001b[0m\n"
     ]
    },
    {
     "data": {
      "application/vnd.jupyter.widget-view+json": {
       "model_id": "ececec2b824440e99ba9a7d15ef56132",
       "version_major": 2,
       "version_minor": 0
      },
      "text/plain": [
       "  0%|          | 0/27 [00:00<?, ?it/s]"
      ]
     },
     "metadata": {},
     "output_type": "display_data"
    },
    {
     "name": "stdout",
     "output_type": "stream",
     "text": [
      "Test_Acc:\u001b[1;32m85.024%\u001b[0m\n",
      "Best_ACC[\u001b[1;32m90.7%\u001b[0m]\n",
      "Epoch: [32] HAM10000 ==> Training ...\n"
     ]
    },
    {
     "data": {
      "application/vnd.jupyter.widget-view+json": {
       "model_id": "2fa7b9862cbf488caad27d2bf2ec2cc1",
       "version_major": 2,
       "version_minor": 0
      },
      "text/plain": [
       "  0%|          | 0/308 [00:00<?, ?it/s]"
      ]
     },
     "metadata": {},
     "output_type": "display_data"
    },
    {
     "name": "stdout",
     "output_type": "stream",
     "text": [
      "[154/308] Loss0.23092, ACC:0.67397%\n",
      "[308/308] Loss0.27086, ACC:0.67308%\n",
      "Train_Loss: 0.22664789037851543,ACC:0.674%\n",
      "\u001b[66mHAM10000 ==> testing ...\u001b[0m\n"
     ]
    },
    {
     "data": {
      "application/vnd.jupyter.widget-view+json": {
       "model_id": "3ebaa0a76cc1487f881b8256ff044a8c",
       "version_major": 2,
       "version_minor": 0
      },
      "text/plain": [
       "  0%|          | 0/27 [00:00<?, ?it/s]"
      ]
     },
     "metadata": {},
     "output_type": "display_data"
    },
    {
     "name": "stdout",
     "output_type": "stream",
     "text": [
      "Test_Acc:\u001b[1;32m83.213%\u001b[0m\n",
      "Best_ACC[\u001b[1;32m90.7%\u001b[0m]\n",
      "Epoch: [33] HAM10000 ==> Training ...\n"
     ]
    },
    {
     "data": {
      "application/vnd.jupyter.widget-view+json": {
       "model_id": "0a5567f2d39747e29f5b5bdde6593a82",
       "version_major": 2,
       "version_minor": 0
      },
      "text/plain": [
       "  0%|          | 0/308 [00:00<?, ?it/s]"
      ]
     },
     "metadata": {},
     "output_type": "display_data"
    },
    {
     "name": "stdout",
     "output_type": "stream",
     "text": [
      "[154/308] Loss0.23063, ACC:0.68205%\n",
      "[308/308] Loss0.23333, ACC:0.68222%\n",
      "Train_Loss: 0.22091530640790988,ACC:0.683%\n",
      "\u001b[66mHAM10000 ==> testing ...\u001b[0m\n"
     ]
    },
    {
     "data": {
      "application/vnd.jupyter.widget-view+json": {
       "model_id": "83eaf4dd82fe40a2a7fdfcc5b278adb2",
       "version_major": 2,
       "version_minor": 0
      },
      "text/plain": [
       "  0%|          | 0/27 [00:00<?, ?it/s]"
      ]
     },
     "metadata": {},
     "output_type": "display_data"
    },
    {
     "name": "stdout",
     "output_type": "stream",
     "text": [
      "Test_Acc:\u001b[1;32m87.198%\u001b[0m\n",
      "Best_ACC[\u001b[1;32m90.7%\u001b[0m]\n",
      "Epoch: [34] HAM10000 ==> Training ...\n"
     ]
    },
    {
     "data": {
      "application/vnd.jupyter.widget-view+json": {
       "model_id": "dc794d32376d4356aea3205a99f38327",
       "version_major": 2,
       "version_minor": 0
      },
      "text/plain": [
       "  0%|          | 0/308 [00:00<?, ?it/s]"
      ]
     },
     "metadata": {},
     "output_type": "display_data"
    },
    {
     "name": "stdout",
     "output_type": "stream",
     "text": [
      "[154/308] Loss0.21110, ACC:0.69685%\n",
      "[308/308] Loss0.23234, ACC:0.69728%\n",
      "Train_Loss: 0.21350615626418745,ACC:0.698%\n",
      "\u001b[66mHAM10000 ==> testing ...\u001b[0m\n"
     ]
    },
    {
     "data": {
      "application/vnd.jupyter.widget-view+json": {
       "model_id": "6fe77d3b18914a1ebdaa5c6c344f3847",
       "version_major": 2,
       "version_minor": 0
      },
      "text/plain": [
       "  0%|          | 0/27 [00:00<?, ?it/s]"
      ]
     },
     "metadata": {},
     "output_type": "display_data"
    },
    {
     "name": "stdout",
     "output_type": "stream",
     "text": [
      "Test_Acc:\u001b[1;32m87.198%\u001b[0m\n",
      "Best_ACC[\u001b[1;32m90.7%\u001b[0m]\n",
      "Epoch: [35] HAM10000 ==> Training ...\n"
     ]
    },
    {
     "data": {
      "application/vnd.jupyter.widget-view+json": {
       "model_id": "92f675eca2394bbd9f215b692d0afe5e",
       "version_major": 2,
       "version_minor": 0
      },
      "text/plain": [
       "  0%|          | 0/308 [00:00<?, ?it/s]"
      ]
     },
     "metadata": {},
     "output_type": "display_data"
    },
    {
     "name": "stdout",
     "output_type": "stream",
     "text": [
      "[154/308] Loss0.22698, ACC:0.70876%\n",
      "[308/308] Loss0.20512, ACC:0.70636%\n",
      "Train_Loss: 0.20677841624075716,ACC:0.707%\n",
      "\u001b[66mHAM10000 ==> testing ...\u001b[0m\n"
     ]
    },
    {
     "data": {
      "application/vnd.jupyter.widget-view+json": {
       "model_id": "88a70e10242145179f923b56d8609828",
       "version_major": 2,
       "version_minor": 0
      },
      "text/plain": [
       "  0%|          | 0/27 [00:00<?, ?it/s]"
      ]
     },
     "metadata": {},
     "output_type": "display_data"
    },
    {
     "name": "stdout",
     "output_type": "stream",
     "text": [
      "Test_Acc:\u001b[1;32m87.923%\u001b[0m\n",
      "Best_ACC[\u001b[1;32m90.7%\u001b[0m]\n",
      "Epoch: [36] HAM10000 ==> Training ...\n"
     ]
    },
    {
     "data": {
      "application/vnd.jupyter.widget-view+json": {
       "model_id": "198698c7cd7d42fe99daed28648e4f4a",
       "version_major": 2,
       "version_minor": 0
      },
      "text/plain": [
       "  0%|          | 0/308 [00:00<?, ?it/s]"
      ]
     },
     "metadata": {},
     "output_type": "display_data"
    },
    {
     "name": "stdout",
     "output_type": "stream",
     "text": [
      "[154/308] Loss0.19501, ACC:0.70799%\n",
      "[308/308] Loss0.19869, ACC:0.70903%\n",
      "Train_Loss: 0.20581004875046865,ACC:0.71%\n",
      "\u001b[66mHAM10000 ==> testing ...\u001b[0m\n"
     ]
    },
    {
     "data": {
      "application/vnd.jupyter.widget-view+json": {
       "model_id": "db17e3cdf25c45cb95697c870fe7996a",
       "version_major": 2,
       "version_minor": 0
      },
      "text/plain": [
       "  0%|          | 0/27 [00:00<?, ?it/s]"
      ]
     },
     "metadata": {},
     "output_type": "display_data"
    },
    {
     "name": "stdout",
     "output_type": "stream",
     "text": [
      "Test_Acc:\u001b[1;32m87.56%\u001b[0m\n",
      "Best_ACC[\u001b[1;32m90.7%\u001b[0m]\n",
      "Epoch: [37] HAM10000 ==> Training ...\n"
     ]
    },
    {
     "data": {
      "application/vnd.jupyter.widget-view+json": {
       "model_id": "819727242a7f4078b85ef78b12186fc5",
       "version_major": 2,
       "version_minor": 0
      },
      "text/plain": [
       "  0%|          | 0/308 [00:00<?, ?it/s]"
      ]
     },
     "metadata": {},
     "output_type": "display_data"
    },
    {
     "name": "stdout",
     "output_type": "stream",
     "text": [
      "[154/308] Loss0.20635, ACC:0.70779%\n",
      "[308/308] Loss0.21902, ACC:0.70654%\n",
      "Train_Loss: 0.2063810294614984,ACC:0.707%\n",
      "\u001b[66mHAM10000 ==> testing ...\u001b[0m\n"
     ]
    },
    {
     "data": {
      "application/vnd.jupyter.widget-view+json": {
       "model_id": "a71ed8bf4ca7486298951d2338c09f87",
       "version_major": 2,
       "version_minor": 0
      },
      "text/plain": [
       "  0%|          | 0/27 [00:00<?, ?it/s]"
      ]
     },
     "metadata": {},
     "output_type": "display_data"
    },
    {
     "name": "stdout",
     "output_type": "stream",
     "text": [
      "Test_Acc:\u001b[1;32m85.87%\u001b[0m\n",
      "Best_ACC[\u001b[1;32m90.7%\u001b[0m]\n",
      "Epoch: [38] HAM10000 ==> Training ...\n"
     ]
    },
    {
     "data": {
      "application/vnd.jupyter.widget-view+json": {
       "model_id": "d853b12d610f4e32883b3fa687ab3c96",
       "version_major": 2,
       "version_minor": 0
      },
      "text/plain": [
       "  0%|          | 0/308 [00:00<?, ?it/s]"
      ]
     },
     "metadata": {},
     "output_type": "display_data"
    },
    {
     "name": "stdout",
     "output_type": "stream",
     "text": [
      "[154/308] Loss0.20156, ACC:0.70192%\n",
      "[308/308] Loss0.21889, ACC:0.70296%\n",
      "Train_Loss: 0.2100342982388162,ACC:0.704%\n",
      "\u001b[66mHAM10000 ==> testing ...\u001b[0m\n"
     ]
    },
    {
     "data": {
      "application/vnd.jupyter.widget-view+json": {
       "model_id": "fa476b29ee714f20a97a61c48b9ff5f6",
       "version_major": 2,
       "version_minor": 0
      },
      "text/plain": [
       "  0%|          | 0/27 [00:00<?, ?it/s]"
      ]
     },
     "metadata": {},
     "output_type": "display_data"
    },
    {
     "name": "stdout",
     "output_type": "stream",
     "text": [
      "Test_Acc:\u001b[1;32m91.184%\u001b[0m\n",
      "Best_ACC[\u001b[1;32m91.184%\u001b[0m]\n",
      "Epoch: [39] HAM10000 ==> Training ...\n"
     ]
    },
    {
     "data": {
      "application/vnd.jupyter.widget-view+json": {
       "model_id": "4b83046c54e34e588ec545e26878dc1b",
       "version_major": 2,
       "version_minor": 0
      },
      "text/plain": [
       "  0%|          | 0/308 [00:00<?, ?it/s]"
      ]
     },
     "metadata": {},
     "output_type": "display_data"
    },
    {
     "name": "stdout",
     "output_type": "stream",
     "text": [
      "[154/308] Loss0.23449, ACC:0.69326%\n",
      "[308/308] Loss0.21947, ACC:0.69094%\n",
      "Train_Loss: 0.21658240040981924,ACC:0.692%\n",
      "\u001b[66mHAM10000 ==> testing ...\u001b[0m\n"
     ]
    },
    {
     "data": {
      "application/vnd.jupyter.widget-view+json": {
       "model_id": "a5bd03c41fab41dfa0c2e7b99452357f",
       "version_major": 2,
       "version_minor": 0
      },
      "text/plain": [
       "  0%|          | 0/27 [00:00<?, ?it/s]"
      ]
     },
     "metadata": {},
     "output_type": "display_data"
    },
    {
     "name": "stdout",
     "output_type": "stream",
     "text": [
      "Test_Acc:\u001b[1;32m78.261%\u001b[0m\n",
      "Best_ACC[\u001b[1;32m91.184%\u001b[0m]\n",
      "Epoch: [40] HAM10000 ==> Training ...\n"
     ]
    },
    {
     "data": {
      "application/vnd.jupyter.widget-view+json": {
       "model_id": "d0de30eab1f74c7181a822d9bcdea68d",
       "version_major": 2,
       "version_minor": 0
      },
      "text/plain": [
       "  0%|          | 0/308 [00:00<?, ?it/s]"
      ]
     },
     "metadata": {},
     "output_type": "display_data"
    },
    {
     "name": "stdout",
     "output_type": "stream",
     "text": [
      "[154/308] Loss0.22398, ACC:0.68530%\n",
      "[308/308] Loss0.20649, ACC:0.68534%\n",
      "Train_Loss: 0.22165603137442044,ACC:0.686%\n",
      "\u001b[66mHAM10000 ==> testing ...\u001b[0m\n"
     ]
    },
    {
     "data": {
      "application/vnd.jupyter.widget-view+json": {
       "model_id": "ed45881d4d14417a927494380fea8e46",
       "version_major": 2,
       "version_minor": 0
      },
      "text/plain": [
       "  0%|          | 0/27 [00:00<?, ?it/s]"
      ]
     },
     "metadata": {},
     "output_type": "display_data"
    },
    {
     "name": "stdout",
     "output_type": "stream",
     "text": [
      "Test_Acc:\u001b[1;32m89.855%\u001b[0m\n",
      "Best_ACC[\u001b[1;32m91.184%\u001b[0m]\n",
      "Epoch: [41] HAM10000 ==> Training ...\n"
     ]
    },
    {
     "data": {
      "application/vnd.jupyter.widget-view+json": {
       "model_id": "ff56a4f0a6e3453491b3d65dcecc0111",
       "version_major": 2,
       "version_minor": 0
      },
      "text/plain": [
       "  0%|          | 0/308 [00:00<?, ?it/s]"
      ]
     },
     "metadata": {},
     "output_type": "display_data"
    },
    {
     "name": "stdout",
     "output_type": "stream",
     "text": [
      "[154/308] Loss0.19806, ACC:0.67958%\n",
      "[308/308] Loss0.25263, ACC:0.68385%\n",
      "Train_Loss: 0.22111199075331936,ACC:0.684%\n",
      "\u001b[66mHAM10000 ==> testing ...\u001b[0m\n"
     ]
    },
    {
     "data": {
      "application/vnd.jupyter.widget-view+json": {
       "model_id": "c24f4d14c06e4e40a2eb7a1086f249fb",
       "version_major": 2,
       "version_minor": 0
      },
      "text/plain": [
       "  0%|          | 0/27 [00:00<?, ?it/s]"
      ]
     },
     "metadata": {},
     "output_type": "display_data"
    },
    {
     "name": "stdout",
     "output_type": "stream",
     "text": [
      "Test_Acc:\u001b[1;32m89.251%\u001b[0m\n",
      "Best_ACC[\u001b[1;32m91.184%\u001b[0m]\n",
      "Epoch: [42] HAM10000 ==> Training ...\n"
     ]
    },
    {
     "data": {
      "application/vnd.jupyter.widget-view+json": {
       "model_id": "0beba5a12a5f4f2c9a65e1af7ed6f382",
       "version_major": 2,
       "version_minor": 0
      },
      "text/plain": [
       "  0%|          | 0/308 [00:00<?, ?it/s]"
      ]
     },
     "metadata": {},
     "output_type": "display_data"
    },
    {
     "name": "stdout",
     "output_type": "stream",
     "text": [
      "[154/308] Loss0.19271, ACC:0.69299%\n",
      "[308/308] Loss0.19748, ACC:0.69343%\n",
      "Train_Loss: 0.2158484480694517,ACC:0.694%\n",
      "\u001b[66mHAM10000 ==> testing ...\u001b[0m\n"
     ]
    },
    {
     "data": {
      "application/vnd.jupyter.widget-view+json": {
       "model_id": "690ebdf246354a558e0ba50a04db7d3f",
       "version_major": 2,
       "version_minor": 0
      },
      "text/plain": [
       "  0%|          | 0/27 [00:00<?, ?it/s]"
      ]
     },
     "metadata": {},
     "output_type": "display_data"
    },
    {
     "name": "stdout",
     "output_type": "stream",
     "text": [
      "Test_Acc:\u001b[1;32m88.889%\u001b[0m\n",
      "Best_ACC[\u001b[1;32m91.184%\u001b[0m]\n",
      "Epoch: [43] HAM10000 ==> Training ...\n"
     ]
    },
    {
     "data": {
      "application/vnd.jupyter.widget-view+json": {
       "model_id": "585903c63c7b40ae882b6a230f7cb246",
       "version_major": 2,
       "version_minor": 0
      },
      "text/plain": [
       "  0%|          | 0/308 [00:00<?, ?it/s]"
      ]
     },
     "metadata": {},
     "output_type": "display_data"
    },
    {
     "name": "stdout",
     "output_type": "stream",
     "text": [
      "[154/308] Loss0.20960, ACC:0.70118%\n",
      "[308/308] Loss0.20291, ACC:0.69954%\n",
      "Train_Loss: 0.2111075423754655,ACC:0.7%\n",
      "\u001b[66mHAM10000 ==> testing ...\u001b[0m\n"
     ]
    },
    {
     "data": {
      "application/vnd.jupyter.widget-view+json": {
       "model_id": "e0d2e9e6a6164ac684bed5ae40476843",
       "version_major": 2,
       "version_minor": 0
      },
      "text/plain": [
       "  0%|          | 0/27 [00:00<?, ?it/s]"
      ]
     },
     "metadata": {},
     "output_type": "display_data"
    },
    {
     "name": "stdout",
     "output_type": "stream",
     "text": [
      "Test_Acc:\u001b[1;32m85.266%\u001b[0m\n",
      "Best_ACC[\u001b[1;32m91.184%\u001b[0m]\n",
      "Epoch: [44] HAM10000 ==> Training ...\n"
     ]
    },
    {
     "data": {
      "application/vnd.jupyter.widget-view+json": {
       "model_id": "ccd6ba991a2b42298c70f6e02ab52d5e",
       "version_major": 2,
       "version_minor": 0
      },
      "text/plain": [
       "  0%|          | 0/308 [00:00<?, ?it/s]"
      ]
     },
     "metadata": {},
     "output_type": "display_data"
    },
    {
     "name": "stdout",
     "output_type": "stream",
     "text": [
      "[154/308] Loss0.20719, ACC:0.71112%\n",
      "[308/308] Loss0.18565, ACC:0.71272%\n",
      "Train_Loss: 0.20357894703939364,ACC:0.713%\n",
      "\u001b[66mHAM10000 ==> testing ...\u001b[0m\n"
     ]
    },
    {
     "data": {
      "application/vnd.jupyter.widget-view+json": {
       "model_id": "92e5d4fe082145d495a3f72e6b68f0e4",
       "version_major": 2,
       "version_minor": 0
      },
      "text/plain": [
       "  0%|          | 0/27 [00:00<?, ?it/s]"
      ]
     },
     "metadata": {},
     "output_type": "display_data"
    },
    {
     "name": "stdout",
     "output_type": "stream",
     "text": [
      "Test_Acc:\u001b[1;32m92.512%\u001b[0m\n",
      "Best_ACC[\u001b[1;32m92.512%\u001b[0m]\n",
      "Epoch: [45] HAM10000 ==> Training ...\n"
     ]
    },
    {
     "data": {
      "application/vnd.jupyter.widget-view+json": {
       "model_id": "b980b133ea564e2aa3715cdbed56da30",
       "version_major": 2,
       "version_minor": 0
      },
      "text/plain": [
       "  0%|          | 0/308 [00:00<?, ?it/s]"
      ]
     },
     "metadata": {},
     "output_type": "display_data"
    },
    {
     "name": "stdout",
     "output_type": "stream",
     "text": [
      "[154/308] Loss0.19994, ACC:0.71564%\n",
      "[308/308] Loss0.20934, ACC:0.71912%\n",
      "Train_Loss: 0.19873140529765712,ACC:0.72%\n",
      "\u001b[66mHAM10000 ==> testing ...\u001b[0m\n"
     ]
    },
    {
     "data": {
      "application/vnd.jupyter.widget-view+json": {
       "model_id": "80ed9841e7ff4371bc4bb636b58c2149",
       "version_major": 2,
       "version_minor": 0
      },
      "text/plain": [
       "  0%|          | 0/27 [00:00<?, ?it/s]"
      ]
     },
     "metadata": {},
     "output_type": "display_data"
    },
    {
     "name": "stdout",
     "output_type": "stream",
     "text": [
      "Test_Acc:\u001b[1;32m93.357%\u001b[0m\n",
      "Best_ACC[\u001b[1;32m93.357%\u001b[0m]\n",
      "Epoch: [46] HAM10000 ==> Training ...\n"
     ]
    },
    {
     "data": {
      "application/vnd.jupyter.widget-view+json": {
       "model_id": "dc6163da17c1438e827228ced0dcdbaa",
       "version_major": 2,
       "version_minor": 0
      },
      "text/plain": [
       "  0%|          | 0/308 [00:00<?, ?it/s]"
      ]
     },
     "metadata": {},
     "output_type": "display_data"
    },
    {
     "name": "stdout",
     "output_type": "stream",
     "text": [
      "[154/308] Loss0.19096, ACC:0.72302%\n",
      "[308/308] Loss0.20367, ACC:0.72319%\n",
      "Train_Loss: 0.19797185203665263,ACC:0.724%\n",
      "\u001b[66mHAM10000 ==> testing ...\u001b[0m\n"
     ]
    },
    {
     "data": {
      "application/vnd.jupyter.widget-view+json": {
       "model_id": "9469681bff614909b894e76f0dedc903",
       "version_major": 2,
       "version_minor": 0
      },
      "text/plain": [
       "  0%|          | 0/27 [00:00<?, ?it/s]"
      ]
     },
     "metadata": {},
     "output_type": "display_data"
    },
    {
     "name": "stdout",
     "output_type": "stream",
     "text": [
      "Test_Acc:\u001b[1;32m93.72%\u001b[0m\n",
      "Best_ACC[\u001b[1;32m93.72%\u001b[0m]\n",
      "Epoch: [47] HAM10000 ==> Training ...\n"
     ]
    },
    {
     "data": {
      "application/vnd.jupyter.widget-view+json": {
       "model_id": "f8b7e27e88be4135a3064f0d1c33275a",
       "version_major": 2,
       "version_minor": 0
      },
      "text/plain": [
       "  0%|          | 0/308 [00:00<?, ?it/s]"
      ]
     },
     "metadata": {},
     "output_type": "display_data"
    },
    {
     "name": "stdout",
     "output_type": "stream",
     "text": [
      "[154/308] Loss0.21161, ACC:0.71970%\n",
      "[308/308] Loss0.20750, ACC:0.72134%\n",
      "Train_Loss: 0.1974876858777814,ACC:0.722%\n",
      "\u001b[66mHAM10000 ==> testing ...\u001b[0m\n"
     ]
    },
    {
     "data": {
      "application/vnd.jupyter.widget-view+json": {
       "model_id": "92a223e4e0ff4ea29182fdbe35d4d571",
       "version_major": 2,
       "version_minor": 0
      },
      "text/plain": [
       "  0%|          | 0/27 [00:00<?, ?it/s]"
      ]
     },
     "metadata": {},
     "output_type": "display_data"
    },
    {
     "name": "stdout",
     "output_type": "stream",
     "text": [
      "Test_Acc:\u001b[1;32m87.681%\u001b[0m\n",
      "Best_ACC[\u001b[1;32m93.72%\u001b[0m]\n",
      "Epoch: [48] HAM10000 ==> Training ...\n"
     ]
    },
    {
     "data": {
      "application/vnd.jupyter.widget-view+json": {
       "model_id": "b2d0505f33694937926afab105fa3884",
       "version_major": 2,
       "version_minor": 0
      },
      "text/plain": [
       "  0%|          | 0/308 [00:00<?, ?it/s]"
      ]
     },
     "metadata": {},
     "output_type": "display_data"
    },
    {
     "name": "stdout",
     "output_type": "stream",
     "text": [
      "[154/308] Loss0.24091, ACC:0.71784%\n",
      "[308/308] Loss0.23743, ACC:0.71419%\n",
      "Train_Loss: 0.20170319370635145,ACC:0.715%\n",
      "\u001b[66mHAM10000 ==> testing ...\u001b[0m\n"
     ]
    },
    {
     "data": {
      "application/vnd.jupyter.widget-view+json": {
       "model_id": "81ae13afc73c41d1b9a090666203484f",
       "version_major": 2,
       "version_minor": 0
      },
      "text/plain": [
       "  0%|          | 0/27 [00:00<?, ?it/s]"
      ]
     },
     "metadata": {},
     "output_type": "display_data"
    },
    {
     "name": "stdout",
     "output_type": "stream",
     "text": [
      "Test_Acc:\u001b[1;32m90.58%\u001b[0m\n",
      "Best_ACC[\u001b[1;32m93.72%\u001b[0m]\n",
      "Epoch: [49] HAM10000 ==> Training ...\n"
     ]
    },
    {
     "data": {
      "application/vnd.jupyter.widget-view+json": {
       "model_id": "e4ec438b37924f9dbc75815e87cc48fc",
       "version_major": 2,
       "version_minor": 0
      },
      "text/plain": [
       "  0%|          | 0/308 [00:00<?, ?it/s]"
      ]
     },
     "metadata": {},
     "output_type": "display_data"
    },
    {
     "name": "stdout",
     "output_type": "stream",
     "text": [
      "[154/308] Loss0.22399, ACC:0.70362%\n",
      "[308/308] Loss0.24147, ACC:0.70542%\n",
      "Train_Loss: 0.20780409262938934,ACC:0.706%\n",
      "\u001b[66mHAM10000 ==> testing ...\u001b[0m\n"
     ]
    },
    {
     "data": {
      "application/vnd.jupyter.widget-view+json": {
       "model_id": "38f602e3d7ab4cd6a7e57c640bf1983d",
       "version_major": 2,
       "version_minor": 0
      },
      "text/plain": [
       "  0%|          | 0/27 [00:00<?, ?it/s]"
      ]
     },
     "metadata": {},
     "output_type": "display_data"
    },
    {
     "name": "stdout",
     "output_type": "stream",
     "text": [
      "Test_Acc:\u001b[1;32m85.145%\u001b[0m\n",
      "Best_ACC[\u001b[1;32m93.72%\u001b[0m]\n",
      "Epoch: [50] HAM10000 ==> Training ...\n"
     ]
    },
    {
     "data": {
      "application/vnd.jupyter.widget-view+json": {
       "model_id": "8af3e4c4f1354d8a995419d8a9421e7d",
       "version_major": 2,
       "version_minor": 0
      },
      "text/plain": [
       "  0%|          | 0/308 [00:00<?, ?it/s]"
      ]
     },
     "metadata": {},
     "output_type": "display_data"
    },
    {
     "name": "stdout",
     "output_type": "stream",
     "text": [
      "[154/308] Loss0.21018, ACC:0.69948%\n",
      "[308/308] Loss0.26224, ACC:0.70225%\n",
      "Train_Loss: 0.21095256067135118,ACC:0.703%\n",
      "\u001b[66mHAM10000 ==> testing ...\u001b[0m\n"
     ]
    },
    {
     "data": {
      "application/vnd.jupyter.widget-view+json": {
       "model_id": "3e7cfc49998f4403ad01ae64fa329f0e",
       "version_major": 2,
       "version_minor": 0
      },
      "text/plain": [
       "  0%|          | 0/27 [00:00<?, ?it/s]"
      ]
     },
     "metadata": {},
     "output_type": "display_data"
    },
    {
     "name": "stdout",
     "output_type": "stream",
     "text": [
      "Test_Acc:\u001b[1;32m86.353%\u001b[0m\n",
      "Best_ACC[\u001b[1;32m93.72%\u001b[0m]\n",
      "Epoch: [51] HAM10000 ==> Training ...\n"
     ]
    },
    {
     "data": {
      "application/vnd.jupyter.widget-view+json": {
       "model_id": "7a28fbfaf9774bf89aa11d44747903b9",
       "version_major": 2,
       "version_minor": 0
      },
      "text/plain": [
       "  0%|          | 0/308 [00:00<?, ?it/s]"
      ]
     },
     "metadata": {},
     "output_type": "display_data"
    },
    {
     "name": "stdout",
     "output_type": "stream",
     "text": [
      "[154/308] Loss0.21223, ACC:0.69867%\n",
      "[308/308] Loss0.18587, ACC:0.69975%\n",
      "Train_Loss: 0.21110052417044517,ACC:0.7%\n",
      "\u001b[66mHAM10000 ==> testing ...\u001b[0m\n"
     ]
    },
    {
     "data": {
      "application/vnd.jupyter.widget-view+json": {
       "model_id": "9f3bf088b8f446688469561b971b87b9",
       "version_major": 2,
       "version_minor": 0
      },
      "text/plain": [
       "  0%|          | 0/27 [00:00<?, ?it/s]"
      ]
     },
     "metadata": {},
     "output_type": "display_data"
    },
    {
     "name": "stdout",
     "output_type": "stream",
     "text": [
      "Test_Acc:\u001b[1;32m72.705%\u001b[0m\n",
      "Best_ACC[\u001b[1;32m93.72%\u001b[0m]\n",
      "Epoch: [52] HAM10000 ==> Training ...\n"
     ]
    },
    {
     "data": {
      "application/vnd.jupyter.widget-view+json": {
       "model_id": "c5148d85ab574922b5f8ea7f78d63169",
       "version_major": 2,
       "version_minor": 0
      },
      "text/plain": [
       "  0%|          | 0/308 [00:00<?, ?it/s]"
      ]
     },
     "metadata": {},
     "output_type": "display_data"
    },
    {
     "name": "stdout",
     "output_type": "stream",
     "text": [
      "[154/308] Loss0.20945, ACC:0.70319%\n",
      "[308/308] Loss0.21083, ACC:0.70261%\n",
      "Train_Loss: 0.20999874222975273,ACC:0.703%\n",
      "\u001b[66mHAM10000 ==> testing ...\u001b[0m\n"
     ]
    },
    {
     "data": {
      "application/vnd.jupyter.widget-view+json": {
       "model_id": "bae7e5320eb44aa6993be3ec8af16dac",
       "version_major": 2,
       "version_minor": 0
      },
      "text/plain": [
       "  0%|          | 0/27 [00:00<?, ?it/s]"
      ]
     },
     "metadata": {},
     "output_type": "display_data"
    },
    {
     "name": "stdout",
     "output_type": "stream",
     "text": [
      "Test_Acc:\u001b[1;32m54.71%\u001b[0m\n",
      "Best_ACC[\u001b[1;32m93.72%\u001b[0m]\n",
      "Epoch: [53] HAM10000 ==> Training ...\n"
     ]
    },
    {
     "data": {
      "application/vnd.jupyter.widget-view+json": {
       "model_id": "884d44f5e9384eff9b5732f850dc1e56",
       "version_major": 2,
       "version_minor": 0
      },
      "text/plain": [
       "  0%|          | 0/308 [00:00<?, ?it/s]"
      ]
     },
     "metadata": {},
     "output_type": "display_data"
    },
    {
     "name": "stdout",
     "output_type": "stream",
     "text": [
      "[154/308] Loss0.22762, ACC:0.71166%\n",
      "[308/308] Loss0.21214, ACC:0.71392%\n",
      "Train_Loss: 0.20336332704339707,ACC:0.715%\n",
      "\u001b[66mHAM10000 ==> testing ...\u001b[0m\n"
     ]
    },
    {
     "data": {
      "application/vnd.jupyter.widget-view+json": {
       "model_id": "465922d659624a60989292a26a7a3908",
       "version_major": 2,
       "version_minor": 0
      },
      "text/plain": [
       "  0%|          | 0/27 [00:00<?, ?it/s]"
      ]
     },
     "metadata": {},
     "output_type": "display_data"
    },
    {
     "name": "stdout",
     "output_type": "stream",
     "text": [
      "Test_Acc:\u001b[1;32m86.111%\u001b[0m\n",
      "Best_ACC[\u001b[1;32m93.72%\u001b[0m]\n",
      "Epoch: [54] HAM10000 ==> Training ...\n"
     ]
    },
    {
     "data": {
      "application/vnd.jupyter.widget-view+json": {
       "model_id": "982075216358437dafc8f801fadc51cc",
       "version_major": 2,
       "version_minor": 0
      },
      "text/plain": [
       "  0%|          | 0/308 [00:00<?, ?it/s]"
      ]
     },
     "metadata": {},
     "output_type": "display_data"
    },
    {
     "name": "stdout",
     "output_type": "stream",
     "text": [
      "[154/308] Loss0.19198, ACC:0.72310%\n",
      "[308/308] Loss0.21140, ACC:0.72428%\n",
      "Train_Loss: 0.1966321197423068,ACC:0.725%\n",
      "\u001b[66mHAM10000 ==> testing ...\u001b[0m\n"
     ]
    },
    {
     "data": {
      "application/vnd.jupyter.widget-view+json": {
       "model_id": "297b65956d2241cdb404b6f576096975",
       "version_major": 2,
       "version_minor": 0
      },
      "text/plain": [
       "  0%|          | 0/27 [00:00<?, ?it/s]"
      ]
     },
     "metadata": {},
     "output_type": "display_data"
    },
    {
     "name": "stdout",
     "output_type": "stream",
     "text": [
      "Test_Acc:\u001b[1;32m92.271%\u001b[0m\n",
      "Best_ACC[\u001b[1;32m93.72%\u001b[0m]\n",
      "Epoch: [55] HAM10000 ==> Training ...\n"
     ]
    },
    {
     "data": {
      "application/vnd.jupyter.widget-view+json": {
       "model_id": "5f6a0fa352514c08926d5f3f638426df",
       "version_major": 2,
       "version_minor": 0
      },
      "text/plain": [
       "  0%|          | 0/308 [00:00<?, ?it/s]"
      ]
     },
     "metadata": {},
     "output_type": "display_data"
    },
    {
     "name": "stdout",
     "output_type": "stream",
     "text": [
      "[154/308] Loss0.20004, ACC:0.73210%\n",
      "[308/308] Loss0.18836, ACC:0.73270%\n",
      "Train_Loss: 0.19196926720150106,ACC:0.733%\n",
      "\u001b[66mHAM10000 ==> testing ...\u001b[0m\n"
     ]
    },
    {
     "data": {
      "application/vnd.jupyter.widget-view+json": {
       "model_id": "68590a31bf4a48a08fc9d9a201ae9781",
       "version_major": 2,
       "version_minor": 0
      },
      "text/plain": [
       "  0%|          | 0/27 [00:00<?, ?it/s]"
      ]
     },
     "metadata": {},
     "output_type": "display_data"
    },
    {
     "name": "stdout",
     "output_type": "stream",
     "text": [
      "Test_Acc:\u001b[1;32m87.56%\u001b[0m\n",
      "Best_ACC[\u001b[1;32m93.72%\u001b[0m]\n",
      "Epoch: [56] HAM10000 ==> Training ...\n"
     ]
    },
    {
     "data": {
      "application/vnd.jupyter.widget-view+json": {
       "model_id": "875267dcc61e4d2d94d9821df5fd6822",
       "version_major": 2,
       "version_minor": 0
      },
      "text/plain": [
       "  0%|          | 0/308 [00:00<?, ?it/s]"
      ]
     },
     "metadata": {},
     "output_type": "display_data"
    },
    {
     "name": "stdout",
     "output_type": "stream",
     "text": [
      "[154/308] Loss0.21719, ACC:0.73512%\n",
      "[308/308] Loss0.21572, ACC:0.73263%\n",
      "Train_Loss: 0.19122393545392272,ACC:0.733%\n",
      "\u001b[66mHAM10000 ==> testing ...\u001b[0m\n"
     ]
    },
    {
     "data": {
      "application/vnd.jupyter.widget-view+json": {
       "model_id": "3200f387d9164c6ebc5dbde14de10636",
       "version_major": 2,
       "version_minor": 0
      },
      "text/plain": [
       "  0%|          | 0/27 [00:00<?, ?it/s]"
      ]
     },
     "metadata": {},
     "output_type": "display_data"
    },
    {
     "name": "stdout",
     "output_type": "stream",
     "text": [
      "Test_Acc:\u001b[1;32m88.768%\u001b[0m\n",
      "Best_ACC[\u001b[1;32m93.72%\u001b[0m]\n",
      "Epoch: [57] HAM10000 ==> Training ...\n"
     ]
    },
    {
     "data": {
      "application/vnd.jupyter.widget-view+json": {
       "model_id": "d3b647aabf1b4606b3f5feb4e4865592",
       "version_major": 2,
       "version_minor": 0
      },
      "text/plain": [
       "  0%|          | 0/308 [00:00<?, ?it/s]"
      ]
     },
     "metadata": {},
     "output_type": "display_data"
    },
    {
     "name": "stdout",
     "output_type": "stream",
     "text": [
      "[154/308] Loss0.18515, ACC:0.74034%\n",
      "[308/308] Loss0.17787, ACC:0.73877%\n",
      "Train_Loss: 0.18956953204877966,ACC:0.739%\n",
      "\u001b[66mHAM10000 ==> testing ...\u001b[0m\n"
     ]
    },
    {
     "data": {
      "application/vnd.jupyter.widget-view+json": {
       "model_id": "08afa3165ceb43babe0afa0f6165d1c2",
       "version_major": 2,
       "version_minor": 0
      },
      "text/plain": [
       "  0%|          | 0/27 [00:00<?, ?it/s]"
      ]
     },
     "metadata": {},
     "output_type": "display_data"
    },
    {
     "name": "stdout",
     "output_type": "stream",
     "text": [
      "Test_Acc:\u001b[1;32m92.15%\u001b[0m\n",
      "Best_ACC[\u001b[1;32m93.72%\u001b[0m]\n",
      "Epoch: [58] HAM10000 ==> Training ...\n"
     ]
    },
    {
     "data": {
      "application/vnd.jupyter.widget-view+json": {
       "model_id": "c79d165c11a64f2080953fc7ef669b71",
       "version_major": 2,
       "version_minor": 0
      },
      "text/plain": [
       "  0%|          | 0/308 [00:00<?, ?it/s]"
      ]
     },
     "metadata": {},
     "output_type": "display_data"
    },
    {
     "name": "stdout",
     "output_type": "stream",
     "text": [
      "[154/308] Loss0.18245, ACC:0.72689%\n",
      "[308/308] Loss0.19393, ACC:0.72621%\n",
      "Train_Loss: 0.1959389043705804,ACC:0.727%\n",
      "\u001b[66mHAM10000 ==> testing ...\u001b[0m\n"
     ]
    },
    {
     "data": {
      "application/vnd.jupyter.widget-view+json": {
       "model_id": "609e4b1b56554fdfa497c8af42a34067",
       "version_major": 2,
       "version_minor": 0
      },
      "text/plain": [
       "  0%|          | 0/27 [00:00<?, ?it/s]"
      ]
     },
     "metadata": {},
     "output_type": "display_data"
    },
    {
     "name": "stdout",
     "output_type": "stream",
     "text": [
      "Test_Acc:\u001b[1;32m93.478%\u001b[0m\n",
      "Best_ACC[\u001b[1;32m93.72%\u001b[0m]\n",
      "Epoch: [59] HAM10000 ==> Training ...\n"
     ]
    },
    {
     "data": {
      "application/vnd.jupyter.widget-view+json": {
       "model_id": "36c6b0c46915490fb2a71864dc8981e5",
       "version_major": 2,
       "version_minor": 0
      },
      "text/plain": [
       "  0%|          | 0/308 [00:00<?, ?it/s]"
      ]
     },
     "metadata": {},
     "output_type": "display_data"
    },
    {
     "name": "stdout",
     "output_type": "stream",
     "text": [
      "[154/308] Loss0.20910, ACC:0.71603%\n",
      "[308/308] Loss0.20620, ACC:0.71562%\n",
      "Train_Loss: 0.20247203890572896,ACC:0.716%\n",
      "\u001b[66mHAM10000 ==> testing ...\u001b[0m\n"
     ]
    },
    {
     "data": {
      "application/vnd.jupyter.widget-view+json": {
       "model_id": "bd9eefe33806488492981282840aca90",
       "version_major": 2,
       "version_minor": 0
      },
      "text/plain": [
       "  0%|          | 0/27 [00:00<?, ?it/s]"
      ]
     },
     "metadata": {},
     "output_type": "display_data"
    },
    {
     "name": "stdout",
     "output_type": "stream",
     "text": [
      "Test_Acc:\u001b[1;32m90.58%\u001b[0m\n",
      "Best_ACC[\u001b[1;32m93.72%\u001b[0m]\n",
      "Epoch: [60] HAM10000 ==> Training ...\n"
     ]
    },
    {
     "data": {
      "application/vnd.jupyter.widget-view+json": {
       "model_id": "6be73bbcbe2a4e23b4154b50f114a9aa",
       "version_major": 2,
       "version_minor": 0
      },
      "text/plain": [
       "  0%|          | 0/308 [00:00<?, ?it/s]"
      ]
     },
     "metadata": {},
     "output_type": "display_data"
    },
    {
     "name": "stdout",
     "output_type": "stream",
     "text": [
      "[154/308] Loss0.19420, ACC:0.71459%\n",
      "[308/308] Loss0.21525, ACC:0.71195%\n",
      "Train_Loss: 0.20524700387538253,ACC:0.713%\n",
      "\u001b[66mHAM10000 ==> testing ...\u001b[0m\n"
     ]
    },
    {
     "data": {
      "application/vnd.jupyter.widget-view+json": {
       "model_id": "ff114a346f564aaea09a4c0a066d096b",
       "version_major": 2,
       "version_minor": 0
      },
      "text/plain": [
       "  0%|          | 0/27 [00:00<?, ?it/s]"
      ]
     },
     "metadata": {},
     "output_type": "display_data"
    },
    {
     "name": "stdout",
     "output_type": "stream",
     "text": [
      "Test_Acc:\u001b[1;32m85.145%\u001b[0m\n",
      "Best_ACC[\u001b[1;32m93.72%\u001b[0m]\n",
      "Epoch: [61] HAM10000 ==> Training ...\n"
     ]
    },
    {
     "data": {
      "application/vnd.jupyter.widget-view+json": {
       "model_id": "610be0cece1949db9af891b0eb300e87",
       "version_major": 2,
       "version_minor": 0
      },
      "text/plain": [
       "  0%|          | 0/308 [00:00<?, ?it/s]"
      ]
     },
     "metadata": {},
     "output_type": "display_data"
    },
    {
     "name": "stdout",
     "output_type": "stream",
     "text": [
      "[154/308] Loss0.21996, ACC:0.70810%\n",
      "[308/308] Loss0.22281, ACC:0.71048%\n",
      "Train_Loss: 0.2059089881065604,ACC:0.711%\n",
      "\u001b[66mHAM10000 ==> testing ...\u001b[0m\n"
     ]
    },
    {
     "data": {
      "application/vnd.jupyter.widget-view+json": {
       "model_id": "400e779e9f2b4da88cdbe1ae0c053bb8",
       "version_major": 2,
       "version_minor": 0
      },
      "text/plain": [
       "  0%|          | 0/27 [00:00<?, ?it/s]"
      ]
     },
     "metadata": {},
     "output_type": "display_data"
    },
    {
     "name": "stdout",
     "output_type": "stream",
     "text": [
      "Test_Acc:\u001b[1;32m85.145%\u001b[0m\n",
      "Best_ACC[\u001b[1;32m93.72%\u001b[0m]\n",
      "Epoch: [62] HAM10000 ==> Training ...\n"
     ]
    },
    {
     "data": {
      "application/vnd.jupyter.widget-view+json": {
       "model_id": "f06b491b9b2f4242a981030b90f2fe14",
       "version_major": 2,
       "version_minor": 0
      },
      "text/plain": [
       "  0%|          | 0/308 [00:00<?, ?it/s]"
      ]
     },
     "metadata": {},
     "output_type": "display_data"
    },
    {
     "name": "stdout",
     "output_type": "stream",
     "text": [
      "[154/308] Loss0.21092, ACC:0.71359%\n",
      "[308/308] Loss0.19756, ACC:0.71342%\n",
      "Train_Loss: 0.20342624676111457,ACC:0.714%\n",
      "\u001b[66mHAM10000 ==> testing ...\u001b[0m\n"
     ]
    },
    {
     "data": {
      "application/vnd.jupyter.widget-view+json": {
       "model_id": "99c02be18a484d1c8822eb24812b7458",
       "version_major": 2,
       "version_minor": 0
      },
      "text/plain": [
       "  0%|          | 0/27 [00:00<?, ?it/s]"
      ]
     },
     "metadata": {},
     "output_type": "display_data"
    },
    {
     "name": "stdout",
     "output_type": "stream",
     "text": [
      "Test_Acc:\u001b[1;32m85.99%\u001b[0m\n",
      "Best_ACC[\u001b[1;32m93.72%\u001b[0m]\n",
      "Epoch: [63] HAM10000 ==> Training ...\n"
     ]
    },
    {
     "data": {
      "application/vnd.jupyter.widget-view+json": {
       "model_id": "6b192f6245234aa9bf17ecf9ac2f4d42",
       "version_major": 2,
       "version_minor": 0
      },
      "text/plain": [
       "  0%|          | 0/308 [00:00<?, ?it/s]"
      ]
     },
     "metadata": {},
     "output_type": "display_data"
    },
    {
     "name": "stdout",
     "output_type": "stream",
     "text": [
      "[154/308] Loss0.18961, ACC:0.72692%\n",
      "[308/308] Loss0.18254, ACC:0.72470%\n",
      "Train_Loss: 0.1973885947523953,ACC:0.725%\n",
      "\u001b[66mHAM10000 ==> testing ...\u001b[0m\n"
     ]
    },
    {
     "data": {
      "application/vnd.jupyter.widget-view+json": {
       "model_id": "c9fea4a43d05460c99ae75a4f5b0fd4e",
       "version_major": 2,
       "version_minor": 0
      },
      "text/plain": [
       "  0%|          | 0/27 [00:00<?, ?it/s]"
      ]
     },
     "metadata": {},
     "output_type": "display_data"
    },
    {
     "name": "stdout",
     "output_type": "stream",
     "text": [
      "Test_Acc:\u001b[1;32m90.942%\u001b[0m\n",
      "Best_ACC[\u001b[1;32m93.72%\u001b[0m]\n",
      "Epoch: [64] HAM10000 ==> Training ...\n"
     ]
    },
    {
     "data": {
      "application/vnd.jupyter.widget-view+json": {
       "model_id": "ac5db812c31242cdb82c74fe2080c729",
       "version_major": 2,
       "version_minor": 0
      },
      "text/plain": [
       "  0%|          | 0/308 [00:00<?, ?it/s]"
      ]
     },
     "metadata": {},
     "output_type": "display_data"
    },
    {
     "name": "stdout",
     "output_type": "stream",
     "text": [
      "[154/308] Loss0.18178, ACC:0.73025%\n",
      "[308/308] Loss0.17255, ACC:0.73460%\n",
      "Train_Loss: 0.19125704626951898,ACC:0.735%\n",
      "\u001b[66mHAM10000 ==> testing ...\u001b[0m\n"
     ]
    },
    {
     "data": {
      "application/vnd.jupyter.widget-view+json": {
       "model_id": "dd1d43aeeba9433d8e331611d06424de",
       "version_major": 2,
       "version_minor": 0
      },
      "text/plain": [
       "  0%|          | 0/27 [00:00<?, ?it/s]"
      ]
     },
     "metadata": {},
     "output_type": "display_data"
    },
    {
     "name": "stdout",
     "output_type": "stream",
     "text": [
      "Test_Acc:\u001b[1;32m90.459%\u001b[0m\n",
      "Best_ACC[\u001b[1;32m93.72%\u001b[0m]\n",
      "Epoch: [65] HAM10000 ==> Training ...\n"
     ]
    },
    {
     "data": {
      "application/vnd.jupyter.widget-view+json": {
       "model_id": "a4a351b5c2ee4e4580522c8ee568a6fb",
       "version_major": 2,
       "version_minor": 0
      },
      "text/plain": [
       "  0%|          | 0/308 [00:00<?, ?it/s]"
      ]
     },
     "metadata": {},
     "output_type": "display_data"
    },
    {
     "name": "stdout",
     "output_type": "stream",
     "text": [
      "[154/308] Loss0.16521, ACC:0.74366%\n",
      "[308/308] Loss0.17992, ACC:0.74078%\n",
      "Train_Loss: 0.18606165230467722,ACC:0.741%\n",
      "\u001b[66mHAM10000 ==> testing ...\u001b[0m\n"
     ]
    },
    {
     "data": {
      "application/vnd.jupyter.widget-view+json": {
       "model_id": "c1ab161767e14ccc9f0e6c4612a44279",
       "version_major": 2,
       "version_minor": 0
      },
      "text/plain": [
       "  0%|          | 0/27 [00:00<?, ?it/s]"
      ]
     },
     "metadata": {},
     "output_type": "display_data"
    },
    {
     "name": "stdout",
     "output_type": "stream",
     "text": [
      "Test_Acc:\u001b[1;32m91.546%\u001b[0m\n",
      "Best_ACC[\u001b[1;32m93.72%\u001b[0m]\n",
      "Epoch: [66] HAM10000 ==> Training ...\n"
     ]
    },
    {
     "data": {
      "application/vnd.jupyter.widget-view+json": {
       "model_id": "e961ff83f5fd4ff99cfa9a0617639f9a",
       "version_major": 2,
       "version_minor": 0
      },
      "text/plain": [
       "  0%|          | 0/308 [00:00<?, ?it/s]"
      ]
     },
     "metadata": {},
     "output_type": "display_data"
    },
    {
     "name": "stdout",
     "output_type": "stream",
     "text": [
      "[154/308] Loss0.17621, ACC:0.74675%\n",
      "[308/308] Loss0.17959, ACC:0.74538%\n",
      "Train_Loss: 0.1849325600672852,ACC:0.746%\n",
      "\u001b[66mHAM10000 ==> testing ...\u001b[0m\n"
     ]
    },
    {
     "data": {
      "application/vnd.jupyter.widget-view+json": {
       "model_id": "9ef0ca98716c44b28b10b1f1dfe383a4",
       "version_major": 2,
       "version_minor": 0
      },
      "text/plain": [
       "  0%|          | 0/27 [00:00<?, ?it/s]"
      ]
     },
     "metadata": {},
     "output_type": "display_data"
    },
    {
     "name": "stdout",
     "output_type": "stream",
     "text": [
      "Test_Acc:\u001b[1;32m91.667%\u001b[0m\n",
      "Best_ACC[\u001b[1;32m93.72%\u001b[0m]\n",
      "Epoch: [67] HAM10000 ==> Training ...\n"
     ]
    },
    {
     "data": {
      "application/vnd.jupyter.widget-view+json": {
       "model_id": "f58142f541864780b27d88ecae04df4c",
       "version_major": 2,
       "version_minor": 0
      },
      "text/plain": [
       "  0%|          | 0/308 [00:00<?, ?it/s]"
      ]
     },
     "metadata": {},
     "output_type": "display_data"
    },
    {
     "name": "stdout",
     "output_type": "stream",
     "text": [
      "[154/308] Loss0.17888, ACC:0.74374%\n",
      "[308/308] Loss0.20866, ACC:0.74482%\n",
      "Train_Loss: 0.18577809989839406,ACC:0.745%\n",
      "\u001b[66mHAM10000 ==> testing ...\u001b[0m\n"
     ]
    },
    {
     "data": {
      "application/vnd.jupyter.widget-view+json": {
       "model_id": "78f34e3ca4444c858b20623153cb1c12",
       "version_major": 2,
       "version_minor": 0
      },
      "text/plain": [
       "  0%|          | 0/27 [00:00<?, ?it/s]"
      ]
     },
     "metadata": {},
     "output_type": "display_data"
    },
    {
     "name": "stdout",
     "output_type": "stream",
     "text": [
      "Test_Acc:\u001b[1;32m90.459%\u001b[0m\n",
      "Best_ACC[\u001b[1;32m93.72%\u001b[0m]\n",
      "Epoch: [68] HAM10000 ==> Training ...\n"
     ]
    },
    {
     "data": {
      "application/vnd.jupyter.widget-view+json": {
       "model_id": "5f6c9c6d771c46c7baf3621804e7a541",
       "version_major": 2,
       "version_minor": 0
      },
      "text/plain": [
       "  0%|          | 0/308 [00:00<?, ?it/s]"
      ]
     },
     "metadata": {},
     "output_type": "display_data"
    },
    {
     "name": "stdout",
     "output_type": "stream",
     "text": [
      "[154/308] Loss0.18408, ACC:0.73581%\n",
      "[308/308] Loss0.18782, ACC:0.73574%\n",
      "Train_Loss: 0.19021876378879918,ACC:0.736%\n",
      "\u001b[66mHAM10000 ==> testing ...\u001b[0m\n"
     ]
    },
    {
     "data": {
      "application/vnd.jupyter.widget-view+json": {
       "model_id": "af428755574345bbb615332796db29b4",
       "version_major": 2,
       "version_minor": 0
      },
      "text/plain": [
       "  0%|          | 0/27 [00:00<?, ?it/s]"
      ]
     },
     "metadata": {},
     "output_type": "display_data"
    },
    {
     "name": "stdout",
     "output_type": "stream",
     "text": [
      "Test_Acc:\u001b[1;32m91.667%\u001b[0m\n",
      "Best_ACC[\u001b[1;32m93.72%\u001b[0m]\n",
      "Epoch: [69] HAM10000 ==> Training ...\n"
     ]
    },
    {
     "data": {
      "application/vnd.jupyter.widget-view+json": {
       "model_id": "7fb8c9e44ad54372b4a65fa042212fc5",
       "version_major": 2,
       "version_minor": 0
      },
      "text/plain": [
       "  0%|          | 0/308 [00:00<?, ?it/s]"
      ]
     },
     "metadata": {},
     "output_type": "display_data"
    },
    {
     "name": "stdout",
     "output_type": "stream",
     "text": [
      "[154/308] Loss0.19940, ACC:0.72886%\n",
      "[308/308] Loss0.17911, ACC:0.72669%\n",
      "Train_Loss: 0.1961584043289934,ACC:0.727%\n",
      "\u001b[66mHAM10000 ==> testing ...\u001b[0m\n"
     ]
    },
    {
     "data": {
      "application/vnd.jupyter.widget-view+json": {
       "model_id": "6d2eeb79e0a14937854e6baac75fd274",
       "version_major": 2,
       "version_minor": 0
      },
      "text/plain": [
       "  0%|          | 0/27 [00:00<?, ?it/s]"
      ]
     },
     "metadata": {},
     "output_type": "display_data"
    },
    {
     "name": "stdout",
     "output_type": "stream",
     "text": [
      "Test_Acc:\u001b[1;32m92.512%\u001b[0m\n",
      "Best_ACC[\u001b[1;32m93.72%\u001b[0m]\n",
      "Epoch: [70] HAM10000 ==> Training ...\n"
     ]
    },
    {
     "data": {
      "application/vnd.jupyter.widget-view+json": {
       "model_id": "1f520338935d4ac09200a7f0abab8dbc",
       "version_major": 2,
       "version_minor": 0
      },
      "text/plain": [
       "  0%|          | 0/308 [00:00<?, ?it/s]"
      ]
     },
     "metadata": {},
     "output_type": "display_data"
    },
    {
     "name": "stdout",
     "output_type": "stream",
     "text": [
      "[154/308] Loss0.23010, ACC:0.71970%\n",
      "[308/308] Loss0.18706, ACC:0.71935%\n",
      "Train_Loss: 0.20039878945265496,ACC:0.72%\n",
      "\u001b[66mHAM10000 ==> testing ...\u001b[0m\n"
     ]
    },
    {
     "data": {
      "application/vnd.jupyter.widget-view+json": {
       "model_id": "2310776552684580a3e3f33148093872",
       "version_major": 2,
       "version_minor": 0
      },
      "text/plain": [
       "  0%|          | 0/27 [00:00<?, ?it/s]"
      ]
     },
     "metadata": {},
     "output_type": "display_data"
    },
    {
     "name": "stdout",
     "output_type": "stream",
     "text": [
      "Test_Acc:\u001b[1;32m90.217%\u001b[0m\n",
      "Best_ACC[\u001b[1;32m93.72%\u001b[0m]\n",
      "Epoch: [71] HAM10000 ==> Training ...\n"
     ]
    },
    {
     "data": {
      "application/vnd.jupyter.widget-view+json": {
       "model_id": "bdb70302ad074d109d34f41a84e51541",
       "version_major": 2,
       "version_minor": 0
      },
      "text/plain": [
       "  0%|          | 0/308 [00:00<?, ?it/s]"
      ]
     },
     "metadata": {},
     "output_type": "display_data"
    },
    {
     "name": "stdout",
     "output_type": "stream",
     "text": [
      "[154/308] Loss0.22463, ACC:0.71943%\n",
      "[308/308] Loss0.20759, ACC:0.71887%\n",
      "Train_Loss: 0.2008315594262117,ACC:0.719%\n",
      "\u001b[66mHAM10000 ==> testing ...\u001b[0m\n"
     ]
    },
    {
     "data": {
      "application/vnd.jupyter.widget-view+json": {
       "model_id": "087312fb55d14011b212c944bdb92dcf",
       "version_major": 2,
       "version_minor": 0
      },
      "text/plain": [
       "  0%|          | 0/27 [00:00<?, ?it/s]"
      ]
     },
     "metadata": {},
     "output_type": "display_data"
    },
    {
     "name": "stdout",
     "output_type": "stream",
     "text": [
      "Test_Acc:\u001b[1;32m91.667%\u001b[0m\n",
      "Best_ACC[\u001b[1;32m93.72%\u001b[0m]\n",
      "Epoch: [72] HAM10000 ==> Training ...\n"
     ]
    },
    {
     "data": {
      "application/vnd.jupyter.widget-view+json": {
       "model_id": "89f8aed05d90484e8a58d7bb09a1fd2d",
       "version_major": 2,
       "version_minor": 0
      },
      "text/plain": [
       "  0%|          | 0/308 [00:00<?, ?it/s]"
      ]
     },
     "metadata": {},
     "output_type": "display_data"
    },
    {
     "name": "stdout",
     "output_type": "stream",
     "text": [
      "[154/308] Loss0.18802, ACC:0.72325%\n",
      "[308/308] Loss0.18861, ACC:0.72200%\n",
      "Train_Loss: 0.19841646862688003,ACC:0.723%\n",
      "\u001b[66mHAM10000 ==> testing ...\u001b[0m\n"
     ]
    },
    {
     "data": {
      "application/vnd.jupyter.widget-view+json": {
       "model_id": "7f6ab246febc40c99128bbb2f074b15d",
       "version_major": 2,
       "version_minor": 0
      },
      "text/plain": [
       "  0%|          | 0/27 [00:00<?, ?it/s]"
      ]
     },
     "metadata": {},
     "output_type": "display_data"
    },
    {
     "name": "stdout",
     "output_type": "stream",
     "text": [
      "Test_Acc:\u001b[1;32m39.493%\u001b[0m\n",
      "Best_ACC[\u001b[1;32m93.72%\u001b[0m]\n",
      "Epoch: [73] HAM10000 ==> Training ...\n"
     ]
    },
    {
     "data": {
      "application/vnd.jupyter.widget-view+json": {
       "model_id": "4af6b9e0808240c2a7c091ed5448d0a9",
       "version_major": 2,
       "version_minor": 0
      },
      "text/plain": [
       "  0%|          | 0/308 [00:00<?, ?it/s]"
      ]
     },
     "metadata": {},
     "output_type": "display_data"
    },
    {
     "name": "stdout",
     "output_type": "stream",
     "text": [
      "[154/308] Loss0.18466, ACC:0.73353%\n",
      "[308/308] Loss0.21431, ACC:0.73253%\n",
      "Train_Loss: 0.1925180112676961,ACC:0.733%\n",
      "\u001b[66mHAM10000 ==> testing ...\u001b[0m\n"
     ]
    },
    {
     "data": {
      "application/vnd.jupyter.widget-view+json": {
       "model_id": "3f1cd7f6444a4877b8ba380d22626ab6",
       "version_major": 2,
       "version_minor": 0
      },
      "text/plain": [
       "  0%|          | 0/27 [00:00<?, ?it/s]"
      ]
     },
     "metadata": {},
     "output_type": "display_data"
    },
    {
     "name": "stdout",
     "output_type": "stream",
     "text": [
      "Test_Acc:\u001b[1;32m87.56%\u001b[0m\n",
      "Best_ACC[\u001b[1;32m93.72%\u001b[0m]\n",
      "Epoch: [74] HAM10000 ==> Training ...\n"
     ]
    },
    {
     "data": {
      "application/vnd.jupyter.widget-view+json": {
       "model_id": "e336e2cd24fe4bf684800fdc2d475777",
       "version_major": 2,
       "version_minor": 0
      },
      "text/plain": [
       "  0%|          | 0/308 [00:00<?, ?it/s]"
      ]
     },
     "metadata": {},
     "output_type": "display_data"
    },
    {
     "name": "stdout",
     "output_type": "stream",
     "text": [
      "[154/308] Loss0.18933, ACC:0.73898%\n",
      "[308/308] Loss0.17946, ACC:0.74161%\n",
      "Train_Loss: 0.18666232251501702,ACC:0.742%\n",
      "\u001b[66mHAM10000 ==> testing ...\u001b[0m\n"
     ]
    },
    {
     "data": {
      "application/vnd.jupyter.widget-view+json": {
       "model_id": "4bd57aac1b2840db85fb9e856c7c58f2",
       "version_major": 2,
       "version_minor": 0
      },
      "text/plain": [
       "  0%|          | 0/27 [00:00<?, ?it/s]"
      ]
     },
     "metadata": {},
     "output_type": "display_data"
    },
    {
     "name": "stdout",
     "output_type": "stream",
     "text": [
      "Test_Acc:\u001b[1;32m93.961%\u001b[0m\n",
      "Best_ACC[\u001b[1;32m93.961%\u001b[0m]\n",
      "Epoch: [75] HAM10000 ==> Training ...\n"
     ]
    },
    {
     "data": {
      "application/vnd.jupyter.widget-view+json": {
       "model_id": "fad9305352ab4e77913c7a68ec3c373f",
       "version_major": 2,
       "version_minor": 0
      },
      "text/plain": [
       "  0%|          | 0/308 [00:00<?, ?it/s]"
      ]
     },
     "metadata": {},
     "output_type": "display_data"
    },
    {
     "name": "stdout",
     "output_type": "stream",
     "text": [
      "[154/308] Loss0.16753, ACC:0.75108%\n",
      "[308/308] Loss0.15988, ACC:0.75029%\n",
      "Train_Loss: 0.1816873552350255,ACC:0.751%\n",
      "\u001b[66mHAM10000 ==> testing ...\u001b[0m\n"
     ]
    },
    {
     "data": {
      "application/vnd.jupyter.widget-view+json": {
       "model_id": "80f9439a18184b93bfa610d12e4ef521",
       "version_major": 2,
       "version_minor": 0
      },
      "text/plain": [
       "  0%|          | 0/27 [00:00<?, ?it/s]"
      ]
     },
     "metadata": {},
     "output_type": "display_data"
    },
    {
     "name": "stdout",
     "output_type": "stream",
     "text": [
      "Test_Acc:\u001b[1;32m93.478%\u001b[0m\n",
      "Best_ACC[\u001b[1;32m93.961%\u001b[0m]\n",
      "Epoch: [76] HAM10000 ==> Training ...\n"
     ]
    },
    {
     "data": {
      "application/vnd.jupyter.widget-view+json": {
       "model_id": "d97fd220ab794126884f8566a7886ef7",
       "version_major": 2,
       "version_minor": 0
      },
      "text/plain": [
       "  0%|          | 0/308 [00:00<?, ?it/s]"
      ]
     },
     "metadata": {},
     "output_type": "display_data"
    },
    {
     "name": "stdout",
     "output_type": "stream",
     "text": [
      "[154/308] Loss0.17567, ACC:0.75348%\n",
      "[308/308] Loss0.18004, ACC:0.75234%\n",
      "Train_Loss: 0.18017712211260548,ACC:0.753%\n",
      "\u001b[66mHAM10000 ==> testing ...\u001b[0m\n"
     ]
    },
    {
     "data": {
      "application/vnd.jupyter.widget-view+json": {
       "model_id": "8a965b7db4e944f78b1705c9bbaf4847",
       "version_major": 2,
       "version_minor": 0
      },
      "text/plain": [
       "  0%|          | 0/27 [00:00<?, ?it/s]"
      ]
     },
     "metadata": {},
     "output_type": "display_data"
    },
    {
     "name": "stdout",
     "output_type": "stream",
     "text": [
      "Test_Acc:\u001b[1;32m93.237%\u001b[0m\n",
      "Best_ACC[\u001b[1;32m93.961%\u001b[0m]\n",
      "Epoch: [77] HAM10000 ==> Training ...\n"
     ]
    },
    {
     "data": {
      "application/vnd.jupyter.widget-view+json": {
       "model_id": "1e99a22666b2466e9f9d21c35fc543cb",
       "version_major": 2,
       "version_minor": 0
      },
      "text/plain": [
       "  0%|          | 0/308 [00:00<?, ?it/s]"
      ]
     },
     "metadata": {},
     "output_type": "display_data"
    },
    {
     "name": "stdout",
     "output_type": "stream",
     "text": [
      "[154/308] Loss0.18816, ACC:0.75220%\n",
      "[308/308] Loss0.18995, ACC:0.75126%\n",
      "Train_Loss: 0.18062785645196963,ACC:0.752%\n",
      "\u001b[66mHAM10000 ==> testing ...\u001b[0m\n"
     ]
    },
    {
     "data": {
      "application/vnd.jupyter.widget-view+json": {
       "model_id": "e5c55b46b21a4bbb9ceb55bc10b6331c",
       "version_major": 2,
       "version_minor": 0
      },
      "text/plain": [
       "  0%|          | 0/27 [00:00<?, ?it/s]"
      ]
     },
     "metadata": {},
     "output_type": "display_data"
    },
    {
     "name": "stdout",
     "output_type": "stream",
     "text": [
      "Test_Acc:\u001b[1;32m92.874%\u001b[0m\n",
      "Best_ACC[\u001b[1;32m93.961%\u001b[0m]\n",
      "Epoch: [78] HAM10000 ==> Training ...\n"
     ]
    },
    {
     "data": {
      "application/vnd.jupyter.widget-view+json": {
       "model_id": "f819648a54f14d59b891b2a55c103d9d",
       "version_major": 2,
       "version_minor": 0
      },
      "text/plain": [
       "  0%|          | 0/308 [00:00<?, ?it/s]"
      ]
     },
     "metadata": {},
     "output_type": "display_data"
    },
    {
     "name": "stdout",
     "output_type": "stream",
     "text": [
      "[154/308] Loss0.18673, ACC:0.74637%\n",
      "[308/308] Loss0.22823, ACC:0.74488%\n",
      "Train_Loss: 0.18477827441189196,ACC:0.746%\n",
      "\u001b[66mHAM10000 ==> testing ...\u001b[0m\n"
     ]
    },
    {
     "data": {
      "application/vnd.jupyter.widget-view+json": {
       "model_id": "cb9e2d407b2a44a1944c6d33bf1accb0",
       "version_major": 2,
       "version_minor": 0
      },
      "text/plain": [
       "  0%|          | 0/27 [00:00<?, ?it/s]"
      ]
     },
     "metadata": {},
     "output_type": "display_data"
    },
    {
     "name": "stdout",
     "output_type": "stream",
     "text": [
      "Test_Acc:\u001b[1;32m92.15%\u001b[0m\n",
      "Best_ACC[\u001b[1;32m93.961%\u001b[0m]\n",
      "Epoch: [79] HAM10000 ==> Training ...\n"
     ]
    },
    {
     "data": {
      "application/vnd.jupyter.widget-view+json": {
       "model_id": "facd4021359f4ac39872baff68e58017",
       "version_major": 2,
       "version_minor": 0
      },
      "text/plain": [
       "  0%|          | 0/308 [00:00<?, ?it/s]"
      ]
     },
     "metadata": {},
     "output_type": "display_data"
    },
    {
     "name": "stdout",
     "output_type": "stream",
     "text": [
      "[154/308] Loss0.20140, ACC:0.73643%\n",
      "[308/308] Loss0.20287, ACC:0.73323%\n",
      "Train_Loss: 0.19214414805173874,ACC:0.734%\n",
      "\u001b[66mHAM10000 ==> testing ...\u001b[0m\n"
     ]
    },
    {
     "data": {
      "application/vnd.jupyter.widget-view+json": {
       "model_id": "d78d7b23a7d8431daa698cdba46f86e4",
       "version_major": 2,
       "version_minor": 0
      },
      "text/plain": [
       "  0%|          | 0/27 [00:00<?, ?it/s]"
      ]
     },
     "metadata": {},
     "output_type": "display_data"
    },
    {
     "name": "stdout",
     "output_type": "stream",
     "text": [
      "Test_Acc:\u001b[1;32m89.734%\u001b[0m\n",
      "Best_ACC[\u001b[1;32m93.961%\u001b[0m]\n",
      "Epoch: [80] HAM10000 ==> Training ...\n"
     ]
    },
    {
     "data": {
      "application/vnd.jupyter.widget-view+json": {
       "model_id": "743c81b40dc247c8ae216c2bf1a8559a",
       "version_major": 2,
       "version_minor": 0
      },
      "text/plain": [
       "  0%|          | 0/308 [00:00<?, ?it/s]"
      ]
     },
     "metadata": {},
     "output_type": "display_data"
    },
    {
     "name": "stdout",
     "output_type": "stream",
     "text": [
      "[154/308] Loss0.19878, ACC:0.72623%\n",
      "[308/308] Loss0.16882, ACC:0.72644%\n",
      "Train_Loss: 0.1968594953514539,ACC:0.727%\n",
      "\u001b[66mHAM10000 ==> testing ...\u001b[0m\n"
     ]
    },
    {
     "data": {
      "application/vnd.jupyter.widget-view+json": {
       "model_id": "797db5d596dd4cad9a524cbe4ea39b8e",
       "version_major": 2,
       "version_minor": 0
      },
      "text/plain": [
       "  0%|          | 0/27 [00:00<?, ?it/s]"
      ]
     },
     "metadata": {},
     "output_type": "display_data"
    },
    {
     "name": "stdout",
     "output_type": "stream",
     "text": [
      "Test_Acc:\u001b[1;32m84.179%\u001b[0m\n",
      "Best_ACC[\u001b[1;32m93.961%\u001b[0m]\n",
      "Epoch: [81] HAM10000 ==> Training ...\n"
     ]
    },
    {
     "data": {
      "application/vnd.jupyter.widget-view+json": {
       "model_id": "2e74e31bf4ca46a38a2d5d8444cc8d8a",
       "version_major": 2,
       "version_minor": 0
      },
      "text/plain": [
       "  0%|          | 0/308 [00:00<?, ?it/s]"
      ]
     },
     "metadata": {},
     "output_type": "display_data"
    },
    {
     "name": "stdout",
     "output_type": "stream",
     "text": [
      "[154/308] Loss0.17472, ACC:0.72982%\n",
      "[308/308] Loss0.20511, ACC:0.72832%\n",
      "Train_Loss: 0.19588361066076662,ACC:0.729%\n",
      "\u001b[66mHAM10000 ==> testing ...\u001b[0m\n"
     ]
    },
    {
     "data": {
      "application/vnd.jupyter.widget-view+json": {
       "model_id": "2da6ee62f1cb47cabf47c7f879312135",
       "version_major": 2,
       "version_minor": 0
      },
      "text/plain": [
       "  0%|          | 0/27 [00:00<?, ?it/s]"
      ]
     },
     "metadata": {},
     "output_type": "display_data"
    },
    {
     "name": "stdout",
     "output_type": "stream",
     "text": [
      "Test_Acc:\u001b[1;32m90.217%\u001b[0m\n",
      "Best_ACC[\u001b[1;32m93.961%\u001b[0m]\n",
      "Epoch: [82] HAM10000 ==> Training ...\n"
     ]
    },
    {
     "data": {
      "application/vnd.jupyter.widget-view+json": {
       "model_id": "a383d1ca295c4bb8a3312422af1da25e",
       "version_major": 2,
       "version_minor": 0
      },
      "text/plain": [
       "  0%|          | 0/308 [00:00<?, ?it/s]"
      ]
     },
     "metadata": {},
     "output_type": "display_data"
    },
    {
     "name": "stdout",
     "output_type": "stream",
     "text": [
      "[154/308] Loss0.17945, ACC:0.73079%\n",
      "[308/308] Loss0.18154, ACC:0.73152%\n",
      "Train_Loss: 0.19355155058301887,ACC:0.732%\n",
      "\u001b[66mHAM10000 ==> testing ...\u001b[0m\n"
     ]
    },
    {
     "data": {
      "application/vnd.jupyter.widget-view+json": {
       "model_id": "c531df6f204b41d180a95b6273e56b01",
       "version_major": 2,
       "version_minor": 0
      },
      "text/plain": [
       "  0%|          | 0/27 [00:00<?, ?it/s]"
      ]
     },
     "metadata": {},
     "output_type": "display_data"
    },
    {
     "name": "stdout",
     "output_type": "stream",
     "text": [
      "Test_Acc:\u001b[1;32m71.498%\u001b[0m\n",
      "Best_ACC[\u001b[1;32m93.961%\u001b[0m]\n",
      "Epoch: [83] HAM10000 ==> Training ...\n"
     ]
    },
    {
     "data": {
      "application/vnd.jupyter.widget-view+json": {
       "model_id": "18f10e8159764f37a796eec651454095",
       "version_major": 2,
       "version_minor": 0
      },
      "text/plain": [
       "  0%|          | 0/308 [00:00<?, ?it/s]"
      ]
     },
     "metadata": {},
     "output_type": "display_data"
    },
    {
     "name": "stdout",
     "output_type": "stream",
     "text": [
      "[154/308] Loss0.14396, ACC:0.73987%\n",
      "[308/308] Loss0.15480, ACC:0.73817%\n",
      "Train_Loss: 0.18900961491775203,ACC:0.739%\n",
      "\u001b[66mHAM10000 ==> testing ...\u001b[0m\n"
     ]
    },
    {
     "data": {
      "application/vnd.jupyter.widget-view+json": {
       "model_id": "c8c1255cf4664d76a449b5eda9430d0e",
       "version_major": 2,
       "version_minor": 0
      },
      "text/plain": [
       "  0%|          | 0/27 [00:00<?, ?it/s]"
      ]
     },
     "metadata": {},
     "output_type": "display_data"
    },
    {
     "name": "stdout",
     "output_type": "stream",
     "text": [
      "Test_Acc:\u001b[1;32m83.092%\u001b[0m\n",
      "Best_ACC[\u001b[1;32m93.961%\u001b[0m]\n",
      "Epoch: [84] HAM10000 ==> Training ...\n"
     ]
    },
    {
     "data": {
      "application/vnd.jupyter.widget-view+json": {
       "model_id": "ecc99638328a4b3f9fc67d1649f87abd",
       "version_major": 2,
       "version_minor": 0
      },
      "text/plain": [
       "  0%|          | 0/308 [00:00<?, ?it/s]"
      ]
     },
     "metadata": {},
     "output_type": "display_data"
    },
    {
     "name": "stdout",
     "output_type": "stream",
     "text": [
      "[154/308] Loss0.18683, ACC:0.74598%\n",
      "[308/308] Loss0.19538, ACC:0.74851%\n",
      "Train_Loss: 0.1825000966427388,ACC:0.749%\n",
      "\u001b[66mHAM10000 ==> testing ...\u001b[0m\n"
     ]
    },
    {
     "data": {
      "application/vnd.jupyter.widget-view+json": {
       "model_id": "3c2b21d404ab433f8154759f111fec9e",
       "version_major": 2,
       "version_minor": 0
      },
      "text/plain": [
       "  0%|          | 0/27 [00:00<?, ?it/s]"
      ]
     },
     "metadata": {},
     "output_type": "display_data"
    },
    {
     "name": "stdout",
     "output_type": "stream",
     "text": [
      "Test_Acc:\u001b[1;32m91.667%\u001b[0m\n",
      "Best_ACC[\u001b[1;32m93.961%\u001b[0m]\n",
      "Epoch: [85] HAM10000 ==> Training ...\n"
     ]
    },
    {
     "data": {
      "application/vnd.jupyter.widget-view+json": {
       "model_id": "45f8a5699f5f4980a0005d52ed741fce",
       "version_major": 2,
       "version_minor": 0
      },
      "text/plain": [
       "  0%|          | 0/308 [00:00<?, ?it/s]"
      ]
     },
     "metadata": {},
     "output_type": "display_data"
    },
    {
     "name": "stdout",
     "output_type": "stream",
     "text": [
      "[154/308] Loss0.15167, ACC:0.75804%\n",
      "[308/308] Loss0.18219, ACC:0.75570%\n",
      "Train_Loss: 0.17715640757958612,ACC:0.756%\n",
      "\u001b[66mHAM10000 ==> testing ...\u001b[0m\n"
     ]
    },
    {
     "data": {
      "application/vnd.jupyter.widget-view+json": {
       "model_id": "5d1a0fb6af8442918c541c08d3ec14db",
       "version_major": 2,
       "version_minor": 0
      },
      "text/plain": [
       "  0%|          | 0/27 [00:00<?, ?it/s]"
      ]
     },
     "metadata": {},
     "output_type": "display_data"
    },
    {
     "name": "stdout",
     "output_type": "stream",
     "text": [
      "Test_Acc:\u001b[1;32m95.531%\u001b[0m\n",
      "Best_ACC[\u001b[1;32m95.531%\u001b[0m]\n",
      "Epoch: [86] HAM10000 ==> Training ...\n"
     ]
    },
    {
     "data": {
      "application/vnd.jupyter.widget-view+json": {
       "model_id": "882f3717af024b99bdf4f72d6100f63c",
       "version_major": 2,
       "version_minor": 0
      },
      "text/plain": [
       "  0%|          | 0/308 [00:00<?, ?it/s]"
      ]
     },
     "metadata": {},
     "output_type": "display_data"
    },
    {
     "name": "stdout",
     "output_type": "stream",
     "text": [
      "[154/308] Loss0.18624, ACC:0.76051%\n",
      "[308/308] Loss0.18891, ACC:0.75957%\n",
      "Train_Loss: 0.1756285663161959,ACC:0.76%\n",
      "\u001b[66mHAM10000 ==> testing ...\u001b[0m\n"
     ]
    },
    {
     "data": {
      "application/vnd.jupyter.widget-view+json": {
       "model_id": "5c33280b411c43349323e257c3af3232",
       "version_major": 2,
       "version_minor": 0
      },
      "text/plain": [
       "  0%|          | 0/27 [00:00<?, ?it/s]"
      ]
     },
     "metadata": {},
     "output_type": "display_data"
    },
    {
     "name": "stdout",
     "output_type": "stream",
     "text": [
      "Test_Acc:\u001b[1;32m94.928%\u001b[0m\n",
      "Best_ACC[\u001b[1;32m95.531%\u001b[0m]\n",
      "Epoch: [87] HAM10000 ==> Training ...\n"
     ]
    },
    {
     "data": {
      "application/vnd.jupyter.widget-view+json": {
       "model_id": "8ffe009696b74190a98d3b5e2987337c",
       "version_major": 2,
       "version_minor": 0
      },
      "text/plain": [
       "  0%|          | 0/308 [00:00<?, ?it/s]"
      ]
     },
     "metadata": {},
     "output_type": "display_data"
    },
    {
     "name": "stdout",
     "output_type": "stream",
     "text": [
      "[154/308] Loss0.18564, ACC:0.76218%\n",
      "[308/308] Loss0.17182, ACC:0.76059%\n",
      "Train_Loss: 0.17596813712220688,ACC:0.761%\n",
      "\u001b[66mHAM10000 ==> testing ...\u001b[0m\n"
     ]
    },
    {
     "data": {
      "application/vnd.jupyter.widget-view+json": {
       "model_id": "9ed6502ddb054d9495958bf5138b045a",
       "version_major": 2,
       "version_minor": 0
      },
      "text/plain": [
       "  0%|          | 0/27 [00:00<?, ?it/s]"
      ]
     },
     "metadata": {},
     "output_type": "display_data"
    },
    {
     "name": "stdout",
     "output_type": "stream",
     "text": [
      "Test_Acc:\u001b[1;32m91.908%\u001b[0m\n",
      "Best_ACC[\u001b[1;32m95.531%\u001b[0m]\n",
      "Epoch: [88] HAM10000 ==> Training ...\n"
     ]
    },
    {
     "data": {
      "application/vnd.jupyter.widget-view+json": {
       "model_id": "660466250028472eb5bda67b5b6ab85c",
       "version_major": 2,
       "version_minor": 0
      },
      "text/plain": [
       "  0%|          | 0/308 [00:00<?, ?it/s]"
      ]
     },
     "metadata": {},
     "output_type": "display_data"
    },
    {
     "name": "stdout",
     "output_type": "stream",
     "text": [
      "[154/308] Loss0.18467, ACC:0.75301%\n",
      "[308/308] Loss0.16278, ACC:0.75139%\n",
      "Train_Loss: 0.1810214048759504,ACC:0.752%\n",
      "\u001b[66mHAM10000 ==> testing ...\u001b[0m\n"
     ]
    },
    {
     "data": {
      "application/vnd.jupyter.widget-view+json": {
       "model_id": "255529fb6ac047038ca2d2a9e6786c5d",
       "version_major": 2,
       "version_minor": 0
      },
      "text/plain": [
       "  0%|          | 0/27 [00:00<?, ?it/s]"
      ]
     },
     "metadata": {},
     "output_type": "display_data"
    },
    {
     "name": "stdout",
     "output_type": "stream",
     "text": [
      "Test_Acc:\u001b[1;32m92.754%\u001b[0m\n",
      "Best_ACC[\u001b[1;32m95.531%\u001b[0m]\n",
      "Epoch: [89] HAM10000 ==> Training ...\n"
     ]
    },
    {
     "data": {
      "application/vnd.jupyter.widget-view+json": {
       "model_id": "9e4da9d63e1444c6846fcaefe2cd4306",
       "version_major": 2,
       "version_minor": 0
      },
      "text/plain": [
       "  0%|          | 0/308 [00:00<?, ?it/s]"
      ]
     },
     "metadata": {},
     "output_type": "display_data"
    },
    {
     "name": "stdout",
     "output_type": "stream",
     "text": [
      "[154/308] Loss0.18550, ACC:0.74239%\n",
      "[308/308] Loss0.17235, ACC:0.74190%\n",
      "Train_Loss: 0.1869032248951398,ACC:0.743%\n",
      "\u001b[66mHAM10000 ==> testing ...\u001b[0m\n"
     ]
    },
    {
     "data": {
      "application/vnd.jupyter.widget-view+json": {
       "model_id": "a6b315d993f843e39c719576ceaa2815",
       "version_major": 2,
       "version_minor": 0
      },
      "text/plain": [
       "  0%|          | 0/27 [00:00<?, ?it/s]"
      ]
     },
     "metadata": {},
     "output_type": "display_data"
    },
    {
     "name": "stdout",
     "output_type": "stream",
     "text": [
      "Test_Acc:\u001b[1;32m93.599%\u001b[0m\n",
      "Best_ACC[\u001b[1;32m95.531%\u001b[0m]\n",
      "Epoch: [90] HAM10000 ==> Training ...\n"
     ]
    },
    {
     "data": {
      "application/vnd.jupyter.widget-view+json": {
       "model_id": "61b10740f9c841e593b9703017b1e9f2",
       "version_major": 2,
       "version_minor": 0
      },
      "text/plain": [
       "  0%|          | 0/308 [00:00<?, ?it/s]"
      ]
     },
     "metadata": {},
     "output_type": "display_data"
    },
    {
     "name": "stdout",
     "output_type": "stream",
     "text": [
      "[154/308] Loss0.18914, ACC:0.73315%\n",
      "[308/308] Loss0.20634, ACC:0.73319%\n",
      "Train_Loss: 0.1920654679370391,ACC:0.734%\n",
      "\u001b[66mHAM10000 ==> testing ...\u001b[0m\n"
     ]
    },
    {
     "data": {
      "application/vnd.jupyter.widget-view+json": {
       "model_id": "fdebcd6f46354282a44868c4bc4fcecf",
       "version_major": 2,
       "version_minor": 0
      },
      "text/plain": [
       "  0%|          | 0/27 [00:00<?, ?it/s]"
      ]
     },
     "metadata": {},
     "output_type": "display_data"
    },
    {
     "name": "stdout",
     "output_type": "stream",
     "text": [
      "Test_Acc:\u001b[1;32m69.565%\u001b[0m\n",
      "Best_ACC[\u001b[1;32m95.531%\u001b[0m]\n",
      "Epoch: [91] HAM10000 ==> Training ...\n"
     ]
    },
    {
     "data": {
      "application/vnd.jupyter.widget-view+json": {
       "model_id": "7464b7cf56a84f9c96e70f8716999059",
       "version_major": 2,
       "version_minor": 0
      },
      "text/plain": [
       "  0%|          | 0/308 [00:00<?, ?it/s]"
      ]
     },
     "metadata": {},
     "output_type": "display_data"
    },
    {
     "name": "stdout",
     "output_type": "stream",
     "text": [
      "[154/308] Loss0.18084, ACC:0.73265%\n",
      "[308/308] Loss0.14809, ACC:0.73359%\n",
      "Train_Loss: 0.19214809647241196,ACC:0.734%\n",
      "\u001b[66mHAM10000 ==> testing ...\u001b[0m\n"
     ]
    },
    {
     "data": {
      "application/vnd.jupyter.widget-view+json": {
       "model_id": "46c8379dc3424f92b03dbfc86e02e52c",
       "version_major": 2,
       "version_minor": 0
      },
      "text/plain": [
       "  0%|          | 0/27 [00:00<?, ?it/s]"
      ]
     },
     "metadata": {},
     "output_type": "display_data"
    },
    {
     "name": "stdout",
     "output_type": "stream",
     "text": [
      "Test_Acc:\u001b[1;32m90.459%\u001b[0m\n",
      "Best_ACC[\u001b[1;32m95.531%\u001b[0m]\n",
      "Epoch: [92] HAM10000 ==> Training ...\n"
     ]
    },
    {
     "data": {
      "application/vnd.jupyter.widget-view+json": {
       "model_id": "70c2ee06f5504fcea85d11f93a2b86b5",
       "version_major": 2,
       "version_minor": 0
      },
      "text/plain": [
       "  0%|          | 0/308 [00:00<?, ?it/s]"
      ]
     },
     "metadata": {},
     "output_type": "display_data"
    },
    {
     "name": "stdout",
     "output_type": "stream",
     "text": [
      "[154/308] Loss0.21694, ACC:0.73276%\n",
      "[308/308] Loss0.21740, ACC:0.73390%\n",
      "Train_Loss: 0.19090494392560675,ACC:0.735%\n",
      "\u001b[66mHAM10000 ==> testing ...\u001b[0m\n"
     ]
    },
    {
     "data": {
      "application/vnd.jupyter.widget-view+json": {
       "model_id": "1f868c3a2dcb4cb1b7012cb393dfe1ec",
       "version_major": 2,
       "version_minor": 0
      },
      "text/plain": [
       "  0%|          | 0/27 [00:00<?, ?it/s]"
      ]
     },
     "metadata": {},
     "output_type": "display_data"
    },
    {
     "name": "stdout",
     "output_type": "stream",
     "text": [
      "Test_Acc:\u001b[1;32m92.874%\u001b[0m\n",
      "Best_ACC[\u001b[1;32m95.531%\u001b[0m]\n",
      "Epoch: [93] HAM10000 ==> Training ...\n"
     ]
    },
    {
     "data": {
      "application/vnd.jupyter.widget-view+json": {
       "model_id": "15a2fb93b1e24f5691ede1303e0a4f86",
       "version_major": 2,
       "version_minor": 0
      },
      "text/plain": [
       "  0%|          | 0/308 [00:00<?, ?it/s]"
      ]
     },
     "metadata": {},
     "output_type": "display_data"
    },
    {
     "name": "stdout",
     "output_type": "stream",
     "text": [
      "[154/308] Loss0.21288, ACC:0.74737%\n",
      "[308/308] Loss0.18003, ACC:0.74546%\n",
      "Train_Loss: 0.18482846640921258,ACC:0.746%\n",
      "\u001b[66mHAM10000 ==> testing ...\u001b[0m\n"
     ]
    },
    {
     "data": {
      "application/vnd.jupyter.widget-view+json": {
       "model_id": "71722c9486aa49778bfa6966493adb3b",
       "version_major": 2,
       "version_minor": 0
      },
      "text/plain": [
       "  0%|          | 0/27 [00:00<?, ?it/s]"
      ]
     },
     "metadata": {},
     "output_type": "display_data"
    },
    {
     "name": "stdout",
     "output_type": "stream",
     "text": [
      "Test_Acc:\u001b[1;32m90.217%\u001b[0m\n",
      "Best_ACC[\u001b[1;32m95.531%\u001b[0m]\n",
      "Epoch: [94] HAM10000 ==> Training ...\n"
     ]
    },
    {
     "data": {
      "application/vnd.jupyter.widget-view+json": {
       "model_id": "eacde39fb81d472b8461ca59a64e9fe0",
       "version_major": 2,
       "version_minor": 0
      },
      "text/plain": [
       "  0%|          | 0/308 [00:00<?, ?it/s]"
      ]
     },
     "metadata": {},
     "output_type": "display_data"
    },
    {
     "name": "stdout",
     "output_type": "stream",
     "text": [
      "[154/308] Loss0.16118, ACC:0.75816%\n",
      "[308/308] Loss0.18742, ACC:0.75551%\n",
      "Train_Loss: 0.17884615832915554,ACC:0.756%\n",
      "\u001b[66mHAM10000 ==> testing ...\u001b[0m\n"
     ]
    },
    {
     "data": {
      "application/vnd.jupyter.widget-view+json": {
       "model_id": "135a43ccdb8448668dd7da951e8323d0",
       "version_major": 2,
       "version_minor": 0
      },
      "text/plain": [
       "  0%|          | 0/27 [00:00<?, ?it/s]"
      ]
     },
     "metadata": {},
     "output_type": "display_data"
    },
    {
     "name": "stdout",
     "output_type": "stream",
     "text": [
      "Test_Acc:\u001b[1;32m92.15%\u001b[0m\n",
      "Best_ACC[\u001b[1;32m95.531%\u001b[0m]\n",
      "Epoch: [95] HAM10000 ==> Training ...\n"
     ]
    },
    {
     "data": {
      "application/vnd.jupyter.widget-view+json": {
       "model_id": "458dceaf69c54252b7746f75ca4b2fb3",
       "version_major": 2,
       "version_minor": 0
      },
      "text/plain": [
       "  0%|          | 0/308 [00:00<?, ?it/s]"
      ]
     },
     "metadata": {},
     "output_type": "display_data"
    },
    {
     "name": "stdout",
     "output_type": "stream",
     "text": [
      "[154/308] Loss0.17292, ACC:0.76770%\n",
      "[308/308] Loss0.18070, ACC:0.76417%\n",
      "Train_Loss: 0.17371575795597843,ACC:0.765%\n",
      "\u001b[66mHAM10000 ==> testing ...\u001b[0m\n"
     ]
    },
    {
     "data": {
      "application/vnd.jupyter.widget-view+json": {
       "model_id": "e6a6b1a543b94699aaefebe566a504d7",
       "version_major": 2,
       "version_minor": 0
      },
      "text/plain": [
       "  0%|          | 0/27 [00:00<?, ?it/s]"
      ]
     },
     "metadata": {},
     "output_type": "display_data"
    },
    {
     "name": "stdout",
     "output_type": "stream",
     "text": [
      "Test_Acc:\u001b[1;32m93.478%\u001b[0m\n",
      "Best_ACC[\u001b[1;32m95.531%\u001b[0m]\n",
      "Epoch: [96] HAM10000 ==> Training ...\n"
     ]
    },
    {
     "data": {
      "application/vnd.jupyter.widget-view+json": {
       "model_id": "bd4459d6aaa0492f917498327e384161",
       "version_major": 2,
       "version_minor": 0
      },
      "text/plain": [
       "  0%|          | 0/308 [00:00<?, ?it/s]"
      ]
     },
     "metadata": {},
     "output_type": "display_data"
    },
    {
     "name": "stdout",
     "output_type": "stream",
     "text": [
      "[154/308] Loss0.14199, ACC:0.76333%\n",
      "[308/308] Loss0.20116, ACC:0.76312%\n",
      "Train_Loss: 0.17347441512075337,ACC:0.764%\n",
      "\u001b[66mHAM10000 ==> testing ...\u001b[0m\n"
     ]
    },
    {
     "data": {
      "application/vnd.jupyter.widget-view+json": {
       "model_id": "32c831aed9bc4e59b76faa69523c8944",
       "version_major": 2,
       "version_minor": 0
      },
      "text/plain": [
       "  0%|          | 0/27 [00:00<?, ?it/s]"
      ]
     },
     "metadata": {},
     "output_type": "display_data"
    },
    {
     "name": "stdout",
     "output_type": "stream",
     "text": [
      "Test_Acc:\u001b[1;32m93.72%\u001b[0m\n",
      "Best_ACC[\u001b[1;32m95.531%\u001b[0m]\n",
      "Epoch: [97] HAM10000 ==> Training ...\n"
     ]
    },
    {
     "data": {
      "application/vnd.jupyter.widget-view+json": {
       "model_id": "62b2fff67d1b491d9346de8d066cd898",
       "version_major": 2,
       "version_minor": 0
      },
      "text/plain": [
       "  0%|          | 0/308 [00:00<?, ?it/s]"
      ]
     },
     "metadata": {},
     "output_type": "display_data"
    },
    {
     "name": "stdout",
     "output_type": "stream",
     "text": [
      "[154/308] Loss0.18792, ACC:0.76890%\n",
      "[308/308] Loss0.15236, ACC:0.76333%\n",
      "Train_Loss: 0.17277250598583901,ACC:0.764%\n",
      "\u001b[66mHAM10000 ==> testing ...\u001b[0m\n"
     ]
    },
    {
     "data": {
      "application/vnd.jupyter.widget-view+json": {
       "model_id": "83a4d4c4f8ac45c3ba098570f92461c1",
       "version_major": 2,
       "version_minor": 0
      },
      "text/plain": [
       "  0%|          | 0/27 [00:00<?, ?it/s]"
      ]
     },
     "metadata": {},
     "output_type": "display_data"
    },
    {
     "name": "stdout",
     "output_type": "stream",
     "text": [
      "Test_Acc:\u001b[1;32m93.72%\u001b[0m\n",
      "Best_ACC[\u001b[1;32m95.531%\u001b[0m]\n",
      "Epoch: [98] HAM10000 ==> Training ...\n"
     ]
    },
    {
     "data": {
      "application/vnd.jupyter.widget-view+json": {
       "model_id": "c5520d7608c547c488c07e3ac30f6a27",
       "version_major": 2,
       "version_minor": 0
      },
      "text/plain": [
       "  0%|          | 0/308 [00:00<?, ?it/s]"
      ]
     },
     "metadata": {},
     "output_type": "display_data"
    },
    {
     "name": "stdout",
     "output_type": "stream",
     "text": [
      "[154/308] Loss0.16747, ACC:0.75572%\n",
      "[308/308] Loss0.19263, ACC:0.75624%\n",
      "Train_Loss: 0.17831401604336578,ACC:0.757%\n",
      "\u001b[66mHAM10000 ==> testing ...\u001b[0m\n"
     ]
    },
    {
     "data": {
      "application/vnd.jupyter.widget-view+json": {
       "model_id": "5551ac2b5eac4008994987e79e5d265d",
       "version_major": 2,
       "version_minor": 0
      },
      "text/plain": [
       "  0%|          | 0/27 [00:00<?, ?it/s]"
      ]
     },
     "metadata": {},
     "output_type": "display_data"
    },
    {
     "name": "stdout",
     "output_type": "stream",
     "text": [
      "Test_Acc:\u001b[1;32m94.324%\u001b[0m\n",
      "Best_ACC[\u001b[1;32m95.531%\u001b[0m]\n",
      "Epoch: [99] HAM10000 ==> Training ...\n"
     ]
    },
    {
     "data": {
      "application/vnd.jupyter.widget-view+json": {
       "model_id": "059a2ab351a846be859f94fed7be7c70",
       "version_major": 2,
       "version_minor": 0
      },
      "text/plain": [
       "  0%|          | 0/308 [00:00<?, ?it/s]"
      ]
     },
     "metadata": {},
     "output_type": "display_data"
    },
    {
     "name": "stdout",
     "output_type": "stream",
     "text": [
      "[154/308] Loss0.17971, ACC:0.74768%\n",
      "[308/308] Loss0.18537, ACC:0.74584%\n",
      "Train_Loss: 0.18456460559716473,ACC:0.746%\n",
      "\u001b[66mHAM10000 ==> testing ...\u001b[0m\n"
     ]
    },
    {
     "data": {
      "application/vnd.jupyter.widget-view+json": {
       "model_id": "3b2d8e9a467d4ca18f49683e84ad74f1",
       "version_major": 2,
       "version_minor": 0
      },
      "text/plain": [
       "  0%|          | 0/27 [00:00<?, ?it/s]"
      ]
     },
     "metadata": {},
     "output_type": "display_data"
    },
    {
     "name": "stdout",
     "output_type": "stream",
     "text": [
      "Test_Acc:\u001b[1;32m90.821%\u001b[0m\n",
      "Best_ACC[\u001b[1;32m95.531%\u001b[0m]\n",
      "Epoch: [100] HAM10000 ==> Training ...\n"
     ]
    },
    {
     "data": {
      "application/vnd.jupyter.widget-view+json": {
       "model_id": "df0626e7ea9145d7a0805765606dbead",
       "version_major": 2,
       "version_minor": 0
      },
      "text/plain": [
       "  0%|          | 0/308 [00:00<?, ?it/s]"
      ]
     },
     "metadata": {},
     "output_type": "display_data"
    },
    {
     "name": "stdout",
     "output_type": "stream",
     "text": [
      "[154/308] Loss0.17243, ACC:0.74300%\n",
      "[308/308] Loss0.16171, ACC:0.74192%\n",
      "Train_Loss: 0.18813308734785428,ACC:0.743%\n",
      "\u001b[66mHAM10000 ==> testing ...\u001b[0m\n"
     ]
    },
    {
     "data": {
      "application/vnd.jupyter.widget-view+json": {
       "model_id": "edc7056d59ed450eb853172522052ce6",
       "version_major": 2,
       "version_minor": 0
      },
      "text/plain": [
       "  0%|          | 0/27 [00:00<?, ?it/s]"
      ]
     },
     "metadata": {},
     "output_type": "display_data"
    },
    {
     "name": "stdout",
     "output_type": "stream",
     "text": [
      "Test_Acc:\u001b[1;32m94.928%\u001b[0m\n",
      "Best_ACC[\u001b[1;32m95.531%\u001b[0m]\n",
      "Epoch: [101] HAM10000 ==> Training ...\n"
     ]
    },
    {
     "data": {
      "application/vnd.jupyter.widget-view+json": {
       "model_id": "f51107d10e2c411db56458dfb9206970",
       "version_major": 2,
       "version_minor": 0
      },
      "text/plain": [
       "  0%|          | 0/308 [00:00<?, ?it/s]"
      ]
     },
     "metadata": {},
     "output_type": "display_data"
    },
    {
     "name": "stdout",
     "output_type": "stream",
     "text": [
      "[154/308] Loss0.21651, ACC:0.73871%\n",
      "[308/308] Loss0.17636, ACC:0.73993%\n",
      "Train_Loss: 0.1890992181641715,ACC:0.741%\n",
      "\u001b[66mHAM10000 ==> testing ...\u001b[0m\n"
     ]
    },
    {
     "data": {
      "application/vnd.jupyter.widget-view+json": {
       "model_id": "b482f582aa9541f4829ae83d4558d362",
       "version_major": 2,
       "version_minor": 0
      },
      "text/plain": [
       "  0%|          | 0/27 [00:00<?, ?it/s]"
      ]
     },
     "metadata": {},
     "output_type": "display_data"
    },
    {
     "name": "stdout",
     "output_type": "stream",
     "text": [
      "Test_Acc:\u001b[1;32m95.169%\u001b[0m\n",
      "Best_ACC[\u001b[1;32m95.531%\u001b[0m]\n",
      "Epoch: [102] HAM10000 ==> Training ...\n"
     ]
    },
    {
     "data": {
      "application/vnd.jupyter.widget-view+json": {
       "model_id": "6c07233884654b65b14b7b355e3e5c4d",
       "version_major": 2,
       "version_minor": 0
      },
      "text/plain": [
       "  0%|          | 0/308 [00:00<?, ?it/s]"
      ]
     },
     "metadata": {},
     "output_type": "display_data"
    },
    {
     "name": "stdout",
     "output_type": "stream",
     "text": [
      "[154/308] Loss0.15967, ACC:0.74200%\n",
      "[308/308] Loss0.19153, ACC:0.74329%\n",
      "Train_Loss: 0.1867433429344908,ACC:0.744%\n",
      "\u001b[66mHAM10000 ==> testing ...\u001b[0m\n"
     ]
    },
    {
     "data": {
      "application/vnd.jupyter.widget-view+json": {
       "model_id": "faace1bf7cb84e3ba684465d578ef0f3",
       "version_major": 2,
       "version_minor": 0
      },
      "text/plain": [
       "  0%|          | 0/27 [00:00<?, ?it/s]"
      ]
     },
     "metadata": {},
     "output_type": "display_data"
    },
    {
     "name": "stdout",
     "output_type": "stream",
     "text": [
      "Test_Acc:\u001b[1;32m94.324%\u001b[0m\n",
      "Best_ACC[\u001b[1;32m95.531%\u001b[0m]\n",
      "Epoch: [103] HAM10000 ==> Training ...\n"
     ]
    },
    {
     "data": {
      "application/vnd.jupyter.widget-view+json": {
       "model_id": "35a004d95fb1419fafcc4c85cbbe79d5",
       "version_major": 2,
       "version_minor": 0
      },
      "text/plain": [
       "  0%|          | 0/308 [00:00<?, ?it/s]"
      ]
     },
     "metadata": {},
     "output_type": "display_data"
    },
    {
     "name": "stdout",
     "output_type": "stream",
     "text": [
      "[154/308] Loss0.15495, ACC:0.75375%\n",
      "[308/308] Loss0.19911, ACC:0.75300%\n",
      "Train_Loss: 0.1810441104719391,ACC:0.754%\n",
      "\u001b[66mHAM10000 ==> testing ...\u001b[0m\n"
     ]
    },
    {
     "data": {
      "application/vnd.jupyter.widget-view+json": {
       "model_id": "9fc04460b3144d2f96425ac32c58168a",
       "version_major": 2,
       "version_minor": 0
      },
      "text/plain": [
       "  0%|          | 0/27 [00:00<?, ?it/s]"
      ]
     },
     "metadata": {},
     "output_type": "display_data"
    },
    {
     "name": "stdout",
     "output_type": "stream",
     "text": [
      "Test_Acc:\u001b[1;32m95.652%\u001b[0m\n",
      "Best_ACC[\u001b[1;32m95.652%\u001b[0m]\n",
      "Epoch: [104] HAM10000 ==> Training ...\n"
     ]
    },
    {
     "data": {
      "application/vnd.jupyter.widget-view+json": {
       "model_id": "6ce77949f7714f8a9f61af19cddbee3b",
       "version_major": 2,
       "version_minor": 0
      },
      "text/plain": [
       "  0%|          | 0/308 [00:00<?, ?it/s]"
      ]
     },
     "metadata": {},
     "output_type": "display_data"
    },
    {
     "name": "stdout",
     "output_type": "stream",
     "text": [
      "[154/308] Loss0.15949, ACC:0.76098%\n",
      "[308/308] Loss0.16154, ACC:0.75937%\n",
      "Train_Loss: 0.17634682028324572,ACC:0.76%\n",
      "\u001b[66mHAM10000 ==> testing ...\u001b[0m\n"
     ]
    },
    {
     "data": {
      "application/vnd.jupyter.widget-view+json": {
       "model_id": "960cf73404914962acf4c179ef42c4c3",
       "version_major": 2,
       "version_minor": 0
      },
      "text/plain": [
       "  0%|          | 0/27 [00:00<?, ?it/s]"
      ]
     },
     "metadata": {},
     "output_type": "display_data"
    },
    {
     "name": "stdout",
     "output_type": "stream",
     "text": [
      "Test_Acc:\u001b[1;32m91.184%\u001b[0m\n",
      "Best_ACC[\u001b[1;32m95.652%\u001b[0m]\n",
      "Epoch: [105] HAM10000 ==> Training ...\n"
     ]
    },
    {
     "data": {
      "application/vnd.jupyter.widget-view+json": {
       "model_id": "fe8f89f135c8400684ccb2e84672e973",
       "version_major": 2,
       "version_minor": 0
      },
      "text/plain": [
       "  0%|          | 0/308 [00:00<?, ?it/s]"
      ]
     },
     "metadata": {},
     "output_type": "display_data"
    },
    {
     "name": "stdout",
     "output_type": "stream",
     "text": [
      "[154/308] Loss0.16274, ACC:0.77165%\n",
      "[308/308] Loss0.17243, ACC:0.76788%\n",
      "Train_Loss: 0.17074382798625276,ACC:0.769%\n",
      "\u001b[66mHAM10000 ==> testing ...\u001b[0m\n"
     ]
    },
    {
     "data": {
      "application/vnd.jupyter.widget-view+json": {
       "model_id": "3cf91c2d6b56469b831df7514bf49dd8",
       "version_major": 2,
       "version_minor": 0
      },
      "text/plain": [
       "  0%|          | 0/27 [00:00<?, ?it/s]"
      ]
     },
     "metadata": {},
     "output_type": "display_data"
    },
    {
     "name": "stdout",
     "output_type": "stream",
     "text": [
      "Test_Acc:\u001b[1;32m96.256%\u001b[0m\n",
      "Best_ACC[\u001b[1;32m96.256%\u001b[0m]\n",
      "Epoch: [106] HAM10000 ==> Training ...\n"
     ]
    },
    {
     "data": {
      "application/vnd.jupyter.widget-view+json": {
       "model_id": "fd7efb8bdd94456da5c32f4c90406a35",
       "version_major": 2,
       "version_minor": 0
      },
      "text/plain": [
       "  0%|          | 0/308 [00:00<?, ?it/s]"
      ]
     },
     "metadata": {},
     "output_type": "display_data"
    },
    {
     "name": "stdout",
     "output_type": "stream",
     "text": [
      "[154/308] Loss0.15600, ACC:0.76987%\n",
      "[308/308] Loss0.21082, ACC:0.77097%\n",
      "Train_Loss: 0.16877575871812833,ACC:0.772%\n",
      "\u001b[66mHAM10000 ==> testing ...\u001b[0m\n"
     ]
    },
    {
     "data": {
      "application/vnd.jupyter.widget-view+json": {
       "model_id": "35741b3e74a64d03bd475fcc0c8a1cc2",
       "version_major": 2,
       "version_minor": 0
      },
      "text/plain": [
       "  0%|          | 0/27 [00:00<?, ?it/s]"
      ]
     },
     "metadata": {},
     "output_type": "display_data"
    },
    {
     "name": "stdout",
     "output_type": "stream",
     "text": [
      "Test_Acc:\u001b[1;32m95.773%\u001b[0m\n",
      "Best_ACC[\u001b[1;32m96.256%\u001b[0m]\n",
      "Epoch: [107] HAM10000 ==> Training ...\n"
     ]
    },
    {
     "data": {
      "application/vnd.jupyter.widget-view+json": {
       "model_id": "c36ee0a72f4b4692b2d50b6bd61d81e6",
       "version_major": 2,
       "version_minor": 0
      },
      "text/plain": [
       "  0%|          | 0/308 [00:00<?, ?it/s]"
      ]
     },
     "metadata": {},
     "output_type": "display_data"
    },
    {
     "name": "stdout",
     "output_type": "stream",
     "text": [
      "[154/308] Loss0.17761, ACC:0.76751%\n",
      "[308/308] Loss0.14615, ACC:0.76693%\n",
      "Train_Loss: 0.17129497452602757,ACC:0.768%\n",
      "\u001b[66mHAM10000 ==> testing ...\u001b[0m\n"
     ]
    },
    {
     "data": {
      "application/vnd.jupyter.widget-view+json": {
       "model_id": "7cd08490ca874e8b92cfb2994d97afd8",
       "version_major": 2,
       "version_minor": 0
      },
      "text/plain": [
       "  0%|          | 0/27 [00:00<?, ?it/s]"
      ]
     },
     "metadata": {},
     "output_type": "display_data"
    },
    {
     "name": "stdout",
     "output_type": "stream",
     "text": [
      "Test_Acc:\u001b[1;32m95.773%\u001b[0m\n",
      "Best_ACC[\u001b[1;32m96.256%\u001b[0m]\n",
      "Epoch: [108] HAM10000 ==> Training ...\n"
     ]
    },
    {
     "data": {
      "application/vnd.jupyter.widget-view+json": {
       "model_id": "ad653fb143cf4ed596ee87466f9ee3b8",
       "version_major": 2,
       "version_minor": 0
      },
      "text/plain": [
       "  0%|          | 0/308 [00:00<?, ?it/s]"
      ]
     },
     "metadata": {},
     "output_type": "display_data"
    },
    {
     "name": "stdout",
     "output_type": "stream",
     "text": [
      "[154/308] Loss0.17236, ACC:0.76349%\n",
      "[308/308] Loss0.17889, ACC:0.76355%\n",
      "Train_Loss: 0.1742568990433371,ACC:0.764%\n",
      "\u001b[66mHAM10000 ==> testing ...\u001b[0m\n"
     ]
    },
    {
     "data": {
      "application/vnd.jupyter.widget-view+json": {
       "model_id": "66f97e97453c477bb3eca1de64ae1d4a",
       "version_major": 2,
       "version_minor": 0
      },
      "text/plain": [
       "  0%|          | 0/27 [00:00<?, ?it/s]"
      ]
     },
     "metadata": {},
     "output_type": "display_data"
    },
    {
     "name": "stdout",
     "output_type": "stream",
     "text": [
      "Test_Acc:\u001b[1;32m96.739%\u001b[0m\n",
      "Best_ACC[\u001b[1;32m96.739%\u001b[0m]\n",
      "Epoch: [109] HAM10000 ==> Training ...\n"
     ]
    },
    {
     "data": {
      "application/vnd.jupyter.widget-view+json": {
       "model_id": "11cfeef547f64000ab16c66853709872",
       "version_major": 2,
       "version_minor": 0
      },
      "text/plain": [
       "  0%|          | 0/308 [00:00<?, ?it/s]"
      ]
     },
     "metadata": {},
     "output_type": "display_data"
    },
    {
     "name": "stdout",
     "output_type": "stream",
     "text": [
      "[154/308] Loss0.17370, ACC:0.75216%\n",
      "[308/308] Loss0.19364, ACC:0.75066%\n",
      "Train_Loss: 0.18190927682565405,ACC:0.751%\n",
      "\u001b[66mHAM10000 ==> testing ...\u001b[0m\n"
     ]
    },
    {
     "data": {
      "application/vnd.jupyter.widget-view+json": {
       "model_id": "2808862b0c86494cb0f4c441b76fe173",
       "version_major": 2,
       "version_minor": 0
      },
      "text/plain": [
       "  0%|          | 0/27 [00:00<?, ?it/s]"
      ]
     },
     "metadata": {},
     "output_type": "display_data"
    },
    {
     "name": "stdout",
     "output_type": "stream",
     "text": [
      "Test_Acc:\u001b[1;32m89.734%\u001b[0m\n",
      "Best_ACC[\u001b[1;32m96.739%\u001b[0m]\n",
      "Epoch: [110] HAM10000 ==> Training ...\n"
     ]
    },
    {
     "data": {
      "application/vnd.jupyter.widget-view+json": {
       "model_id": "9ab67454546148949463e2696142dae3",
       "version_major": 2,
       "version_minor": 0
      },
      "text/plain": [
       "  0%|          | 0/308 [00:00<?, ?it/s]"
      ]
     },
     "metadata": {},
     "output_type": "display_data"
    },
    {
     "name": "stdout",
     "output_type": "stream",
     "text": [
      "[154/308] Loss0.20075, ACC:0.74598%\n",
      "[308/308] Loss0.18825, ACC:0.74525%\n",
      "Train_Loss: 0.1854896020966691,ACC:0.746%\n",
      "\u001b[66mHAM10000 ==> testing ...\u001b[0m\n"
     ]
    },
    {
     "data": {
      "application/vnd.jupyter.widget-view+json": {
       "model_id": "0069af1b976648aabbc312119c0675da",
       "version_major": 2,
       "version_minor": 0
      },
      "text/plain": [
       "  0%|          | 0/27 [00:00<?, ?it/s]"
      ]
     },
     "metadata": {},
     "output_type": "display_data"
    },
    {
     "name": "stdout",
     "output_type": "stream",
     "text": [
      "Test_Acc:\u001b[1;32m92.391%\u001b[0m\n",
      "Best_ACC[\u001b[1;32m96.739%\u001b[0m]\n",
      "Epoch: [111] HAM10000 ==> Training ...\n"
     ]
    },
    {
     "data": {
      "application/vnd.jupyter.widget-view+json": {
       "model_id": "fd46fc4417894fb4a9ff9952354827ca",
       "version_major": 2,
       "version_minor": 0
      },
      "text/plain": [
       "  0%|          | 0/308 [00:00<?, ?it/s]"
      ]
     },
     "metadata": {},
     "output_type": "display_data"
    },
    {
     "name": "stdout",
     "output_type": "stream",
     "text": [
      "[154/308] Loss0.22184, ACC:0.74099%\n",
      "[308/308] Loss0.17462, ACC:0.74266%\n",
      "Train_Loss: 0.1870960020399713,ACC:0.743%\n",
      "\u001b[66mHAM10000 ==> testing ...\u001b[0m\n"
     ]
    },
    {
     "data": {
      "application/vnd.jupyter.widget-view+json": {
       "model_id": "6517094dbf294c13af6df510052cf511",
       "version_major": 2,
       "version_minor": 0
      },
      "text/plain": [
       "  0%|          | 0/27 [00:00<?, ?it/s]"
      ]
     },
     "metadata": {},
     "output_type": "display_data"
    },
    {
     "name": "stdout",
     "output_type": "stream",
     "text": [
      "Test_Acc:\u001b[1;32m94.686%\u001b[0m\n",
      "Best_ACC[\u001b[1;32m96.739%\u001b[0m]\n",
      "Epoch: [112] HAM10000 ==> Training ...\n"
     ]
    },
    {
     "data": {
      "application/vnd.jupyter.widget-view+json": {
       "model_id": "e5d669cbac85406b964db452c6554004",
       "version_major": 2,
       "version_minor": 0
      },
      "text/plain": [
       "  0%|          | 0/308 [00:00<?, ?it/s]"
      ]
     },
     "metadata": {},
     "output_type": "display_data"
    },
    {
     "name": "stdout",
     "output_type": "stream",
     "text": [
      "[154/308] Loss0.16184, ACC:0.74455%\n",
      "[308/308] Loss0.20530, ACC:0.74389%\n",
      "Train_Loss: 0.18530251792111954,ACC:0.745%\n",
      "\u001b[66mHAM10000 ==> testing ...\u001b[0m\n"
     ]
    },
    {
     "data": {
      "application/vnd.jupyter.widget-view+json": {
       "model_id": "d01bde7129f6455a9dfec0f241187a4d",
       "version_major": 2,
       "version_minor": 0
      },
      "text/plain": [
       "  0%|          | 0/27 [00:00<?, ?it/s]"
      ]
     },
     "metadata": {},
     "output_type": "display_data"
    },
    {
     "name": "stdout",
     "output_type": "stream",
     "text": [
      "Test_Acc:\u001b[1;32m22.101%\u001b[0m\n",
      "Best_ACC[\u001b[1;32m96.739%\u001b[0m]\n",
      "Epoch: [113] HAM10000 ==> Training ...\n"
     ]
    },
    {
     "data": {
      "application/vnd.jupyter.widget-view+json": {
       "model_id": "789f0bae2b484892b4e92b8263187519",
       "version_major": 2,
       "version_minor": 0
      },
      "text/plain": [
       "  0%|          | 0/308 [00:00<?, ?it/s]"
      ]
     },
     "metadata": {},
     "output_type": "display_data"
    },
    {
     "name": "stdout",
     "output_type": "stream",
     "text": [
      "[154/308] Loss0.16782, ACC:0.75139%\n",
      "[308/308] Loss0.17122, ACC:0.75475%\n",
      "Train_Loss: 0.17921657468397895,ACC:0.755%\n",
      "\u001b[66mHAM10000 ==> testing ...\u001b[0m\n"
     ]
    },
    {
     "data": {
      "application/vnd.jupyter.widget-view+json": {
       "model_id": "74c8d38250c644daa4271bcb8981db20",
       "version_major": 2,
       "version_minor": 0
      },
      "text/plain": [
       "  0%|          | 0/27 [00:00<?, ?it/s]"
      ]
     },
     "metadata": {},
     "output_type": "display_data"
    },
    {
     "name": "stdout",
     "output_type": "stream",
     "text": [
      "Test_Acc:\u001b[1;32m94.565%\u001b[0m\n",
      "Best_ACC[\u001b[1;32m96.739%\u001b[0m]\n",
      "Epoch: [114] HAM10000 ==> Training ...\n"
     ]
    },
    {
     "data": {
      "application/vnd.jupyter.widget-view+json": {
       "model_id": "64d9f30de2844dc796ce9cd673caf76e",
       "version_major": 2,
       "version_minor": 0
      },
      "text/plain": [
       "  0%|          | 0/308 [00:00<?, ?it/s]"
      ]
     },
     "metadata": {},
     "output_type": "display_data"
    },
    {
     "name": "stdout",
     "output_type": "stream",
     "text": [
      "[154/308] Loss0.16744, ACC:0.76581%\n",
      "[308/308] Loss0.16344, ACC:0.76637%\n",
      "Train_Loss: 0.1717695440468076,ACC:0.767%\n",
      "\u001b[66mHAM10000 ==> testing ...\u001b[0m\n"
     ]
    },
    {
     "data": {
      "application/vnd.jupyter.widget-view+json": {
       "model_id": "3dc5d658340a4727a2351abb96d24b2e",
       "version_major": 2,
       "version_minor": 0
      },
      "text/plain": [
       "  0%|          | 0/27 [00:00<?, ?it/s]"
      ]
     },
     "metadata": {},
     "output_type": "display_data"
    },
    {
     "name": "stdout",
     "output_type": "stream",
     "text": [
      "Test_Acc:\u001b[1;32m94.082%\u001b[0m\n",
      "Best_ACC[\u001b[1;32m96.739%\u001b[0m]\n",
      "Epoch: [115] HAM10000 ==> Training ...\n"
     ]
    },
    {
     "data": {
      "application/vnd.jupyter.widget-view+json": {
       "model_id": "ba120bae576b4bdb8ccbb9729dc14913",
       "version_major": 2,
       "version_minor": 0
      },
      "text/plain": [
       "  0%|          | 0/308 [00:00<?, ?it/s]"
      ]
     },
     "metadata": {},
     "output_type": "display_data"
    },
    {
     "name": "stdout",
     "output_type": "stream",
     "text": [
      "[154/308] Loss0.15177, ACC:0.76956%\n",
      "[308/308] Loss0.17401, ACC:0.77165%\n",
      "Train_Loss: 0.16824389674833842,ACC:0.772%\n",
      "\u001b[66mHAM10000 ==> testing ...\u001b[0m\n"
     ]
    },
    {
     "data": {
      "application/vnd.jupyter.widget-view+json": {
       "model_id": "d15f50bb47f4466193dcba771a2fbd23",
       "version_major": 2,
       "version_minor": 0
      },
      "text/plain": [
       "  0%|          | 0/27 [00:00<?, ?it/s]"
      ]
     },
     "metadata": {},
     "output_type": "display_data"
    },
    {
     "name": "stdout",
     "output_type": "stream",
     "text": [
      "Test_Acc:\u001b[1;32m95.531%\u001b[0m\n",
      "Best_ACC[\u001b[1;32m96.739%\u001b[0m]\n",
      "Epoch: [116] HAM10000 ==> Training ...\n"
     ]
    },
    {
     "data": {
      "application/vnd.jupyter.widget-view+json": {
       "model_id": "71cac620cace40f788d37c04b9a387df",
       "version_major": 2,
       "version_minor": 0
      },
      "text/plain": [
       "  0%|          | 0/308 [00:00<?, ?it/s]"
      ]
     },
     "metadata": {},
     "output_type": "display_data"
    },
    {
     "name": "stdout",
     "output_type": "stream",
     "text": [
      "[154/308] Loss0.17492, ACC:0.77605%\n",
      "[308/308] Loss0.16177, ACC:0.77396%\n",
      "Train_Loss: 0.16754312290773762,ACC:0.775%\n",
      "\u001b[66mHAM10000 ==> testing ...\u001b[0m\n"
     ]
    },
    {
     "data": {
      "application/vnd.jupyter.widget-view+json": {
       "model_id": "40c836c148d941908eef11bbb8205354",
       "version_major": 2,
       "version_minor": 0
      },
      "text/plain": [
       "  0%|          | 0/27 [00:00<?, ?it/s]"
      ]
     },
     "metadata": {},
     "output_type": "display_data"
    },
    {
     "name": "stdout",
     "output_type": "stream",
     "text": [
      "Test_Acc:\u001b[1;32m95.531%\u001b[0m\n",
      "Best_ACC[\u001b[1;32m96.739%\u001b[0m]\n",
      "Epoch: [117] HAM10000 ==> Training ...\n"
     ]
    },
    {
     "data": {
      "application/vnd.jupyter.widget-view+json": {
       "model_id": "41354f5ebc6b4bb68295a575e674a736",
       "version_major": 2,
       "version_minor": 0
      },
      "text/plain": [
       "  0%|          | 0/308 [00:00<?, ?it/s]"
      ]
     },
     "metadata": {},
     "output_type": "display_data"
    },
    {
     "name": "stdout",
     "output_type": "stream",
     "text": [
      "[154/308] Loss0.14664, ACC:0.77690%\n",
      "[308/308] Loss0.14991, ACC:0.77526%\n",
      "Train_Loss: 0.16685257905295917,ACC:0.776%\n",
      "\u001b[66mHAM10000 ==> testing ...\u001b[0m\n"
     ]
    },
    {
     "data": {
      "application/vnd.jupyter.widget-view+json": {
       "model_id": "75e03ed8a80c4ecb8edb5af52ab521a0",
       "version_major": 2,
       "version_minor": 0
      },
      "text/plain": [
       "  0%|          | 0/27 [00:00<?, ?it/s]"
      ]
     },
     "metadata": {},
     "output_type": "display_data"
    },
    {
     "name": "stdout",
     "output_type": "stream",
     "text": [
      "Test_Acc:\u001b[1;32m95.411%\u001b[0m\n",
      "Best_ACC[\u001b[1;32m96.739%\u001b[0m]\n",
      "Epoch: [118] HAM10000 ==> Training ...\n"
     ]
    },
    {
     "data": {
      "application/vnd.jupyter.widget-view+json": {
       "model_id": "5e100f357d444aa6bde3c7a23fadb3c9",
       "version_major": 2,
       "version_minor": 0
      },
      "text/plain": [
       "  0%|          | 0/308 [00:00<?, ?it/s]"
      ]
     },
     "metadata": {},
     "output_type": "display_data"
    },
    {
     "name": "stdout",
     "output_type": "stream",
     "text": [
      "[154/308] Loss0.17967, ACC:0.77141%\n",
      "[308/308] Loss0.15769, ACC:0.76734%\n",
      "Train_Loss: 0.17180823844361615,ACC:0.768%\n",
      "\u001b[66mHAM10000 ==> testing ...\u001b[0m\n"
     ]
    },
    {
     "data": {
      "application/vnd.jupyter.widget-view+json": {
       "model_id": "75c7d175c7de438dbfe5c402724c801b",
       "version_major": 2,
       "version_minor": 0
      },
      "text/plain": [
       "  0%|          | 0/27 [00:00<?, ?it/s]"
      ]
     },
     "metadata": {},
     "output_type": "display_data"
    },
    {
     "name": "stdout",
     "output_type": "stream",
     "text": [
      "Test_Acc:\u001b[1;32m94.444%\u001b[0m\n",
      "Best_ACC[\u001b[1;32m96.739%\u001b[0m]\n",
      "Epoch: [119] HAM10000 ==> Training ...\n"
     ]
    },
    {
     "data": {
      "application/vnd.jupyter.widget-view+json": {
       "model_id": "35095b9bca2146059f464df60abf7de0",
       "version_major": 2,
       "version_minor": 0
      },
      "text/plain": [
       "  0%|          | 0/308 [00:00<?, ?it/s]"
      ]
     },
     "metadata": {},
     "output_type": "display_data"
    },
    {
     "name": "stdout",
     "output_type": "stream",
     "text": [
      "[154/308] Loss0.20456, ACC:0.76094%\n",
      "[308/308] Loss0.14750, ACC:0.75756%\n",
      "Train_Loss: 0.17805787045266722,ACC:0.758%\n",
      "\u001b[66mHAM10000 ==> testing ...\u001b[0m\n"
     ]
    },
    {
     "data": {
      "application/vnd.jupyter.widget-view+json": {
       "model_id": "151178d188e14ce796977811c9b85c06",
       "version_major": 2,
       "version_minor": 0
      },
      "text/plain": [
       "  0%|          | 0/27 [00:00<?, ?it/s]"
      ]
     },
     "metadata": {},
     "output_type": "display_data"
    },
    {
     "name": "stdout",
     "output_type": "stream",
     "text": [
      "Test_Acc:\u001b[1;32m40.459%\u001b[0m\n",
      "Best_ACC[\u001b[1;32m96.739%\u001b[0m]\n",
      "Epoch: [120] HAM10000 ==> Training ...\n"
     ]
    },
    {
     "data": {
      "application/vnd.jupyter.widget-view+json": {
       "model_id": "cc58194092c647a3b5a061c2f8bdf886",
       "version_major": 2,
       "version_minor": 0
      },
      "text/plain": [
       "  0%|          | 0/308 [00:00<?, ?it/s]"
      ]
     },
     "metadata": {},
     "output_type": "display_data"
    },
    {
     "name": "stdout",
     "output_type": "stream",
     "text": [
      "[154/308] Loss0.17241, ACC:0.75429%\n",
      "[308/308] Loss0.15269, ACC:0.75180%\n",
      "Train_Loss: 0.18259723024902405,ACC:0.752%\n",
      "\u001b[66mHAM10000 ==> testing ...\u001b[0m\n"
     ]
    },
    {
     "data": {
      "application/vnd.jupyter.widget-view+json": {
       "model_id": "49aba8f05302447f9bfc29cd3daaa1e2",
       "version_major": 2,
       "version_minor": 0
      },
      "text/plain": [
       "  0%|          | 0/27 [00:00<?, ?it/s]"
      ]
     },
     "metadata": {},
     "output_type": "display_data"
    },
    {
     "name": "stdout",
     "output_type": "stream",
     "text": [
      "Test_Acc:\u001b[1;32m96.981%\u001b[0m\n",
      "Best_ACC[\u001b[1;32m96.981%\u001b[0m]\n",
      "Epoch: [121] HAM10000 ==> Training ...\n"
     ]
    },
    {
     "data": {
      "application/vnd.jupyter.widget-view+json": {
       "model_id": "73c60db5c7134b8f8d6b60516cf47881",
       "version_major": 2,
       "version_minor": 0
      },
      "text/plain": [
       "  0%|          | 0/308 [00:00<?, ?it/s]"
      ]
     },
     "metadata": {},
     "output_type": "display_data"
    },
    {
     "name": "stdout",
     "output_type": "stream",
     "text": [
      "[154/308] Loss0.18271, ACC:0.74691%\n",
      "[308/308] Loss0.16794, ACC:0.74818%\n",
      "Train_Loss: 0.18413761674196688,ACC:0.749%\n",
      "\u001b[66mHAM10000 ==> testing ...\u001b[0m\n"
     ]
    },
    {
     "data": {
      "application/vnd.jupyter.widget-view+json": {
       "model_id": "dca73ccf713d400fb0f992f4cacf0c7c",
       "version_major": 2,
       "version_minor": 0
      },
      "text/plain": [
       "  0%|          | 0/27 [00:00<?, ?it/s]"
      ]
     },
     "metadata": {},
     "output_type": "display_data"
    },
    {
     "name": "stdout",
     "output_type": "stream",
     "text": [
      "Test_Acc:\u001b[1;32m90.58%\u001b[0m\n",
      "Best_ACC[\u001b[1;32m96.981%\u001b[0m]\n",
      "Epoch: [122] HAM10000 ==> Training ...\n"
     ]
    },
    {
     "data": {
      "application/vnd.jupyter.widget-view+json": {
       "model_id": "2d0c4efe7d5e4d1f999424ca9ef79c15",
       "version_major": 2,
       "version_minor": 0
      },
      "text/plain": [
       "  0%|          | 0/308 [00:00<?, ?it/s]"
      ]
     },
     "metadata": {},
     "output_type": "display_data"
    },
    {
     "name": "stdout",
     "output_type": "stream",
     "text": [
      "[154/308] Loss0.18472, ACC:0.75015%\n",
      "[308/308] Loss0.18102, ACC:0.75017%\n",
      "Train_Loss: 0.182040533945932,ACC:0.751%\n",
      "\u001b[66mHAM10000 ==> testing ...\u001b[0m\n"
     ]
    },
    {
     "data": {
      "application/vnd.jupyter.widget-view+json": {
       "model_id": "7ce0f2a129ed41b895d6e683bd9aa294",
       "version_major": 2,
       "version_minor": 0
      },
      "text/plain": [
       "  0%|          | 0/27 [00:00<?, ?it/s]"
      ]
     },
     "metadata": {},
     "output_type": "display_data"
    },
    {
     "name": "stdout",
     "output_type": "stream",
     "text": [
      "Test_Acc:\u001b[1;32m92.995%\u001b[0m\n",
      "Best_ACC[\u001b[1;32m96.981%\u001b[0m]\n",
      "Epoch: [123] HAM10000 ==> Training ...\n"
     ]
    },
    {
     "data": {
      "application/vnd.jupyter.widget-view+json": {
       "model_id": "0a7e39a7fda1450a81737cc3d0d78890",
       "version_major": 2,
       "version_minor": 0
      },
      "text/plain": [
       "  0%|          | 0/308 [00:00<?, ?it/s]"
      ]
     },
     "metadata": {},
     "output_type": "display_data"
    },
    {
     "name": "stdout",
     "output_type": "stream",
     "text": [
      "[154/308] Loss0.18668, ACC:0.76067%\n",
      "[308/308] Loss0.15872, ACC:0.75765%\n",
      "Train_Loss: 0.17716370885828872,ACC:0.758%\n",
      "\u001b[66mHAM10000 ==> testing ...\u001b[0m\n"
     ]
    },
    {
     "data": {
      "application/vnd.jupyter.widget-view+json": {
       "model_id": "39ca3e3414844f6e804f2b8eb4dc3085",
       "version_major": 2,
       "version_minor": 0
      },
      "text/plain": [
       "  0%|          | 0/27 [00:00<?, ?it/s]"
      ]
     },
     "metadata": {},
     "output_type": "display_data"
    },
    {
     "name": "stdout",
     "output_type": "stream",
     "text": [
      "Test_Acc:\u001b[1;32m94.928%\u001b[0m\n",
      "Best_ACC[\u001b[1;32m96.981%\u001b[0m]\n",
      "Epoch: [124] HAM10000 ==> Training ...\n"
     ]
    },
    {
     "data": {
      "application/vnd.jupyter.widget-view+json": {
       "model_id": "f99af06b0af94acea7ebec53d0e0560b",
       "version_major": 2,
       "version_minor": 0
      },
      "text/plain": [
       "  0%|          | 0/308 [00:00<?, ?it/s]"
      ]
     },
     "metadata": {},
     "output_type": "display_data"
    },
    {
     "name": "stdout",
     "output_type": "stream",
     "text": [
      "[154/308] Loss0.16900, ACC:0.76759%\n",
      "[308/308] Loss0.17996, ACC:0.76826%\n",
      "Train_Loss: 0.17109164503681196,ACC:0.769%\n",
      "\u001b[66mHAM10000 ==> testing ...\u001b[0m\n"
     ]
    },
    {
     "data": {
      "application/vnd.jupyter.widget-view+json": {
       "model_id": "ff01cb1ae60b4504a8a08f2993a47885",
       "version_major": 2,
       "version_minor": 0
      },
      "text/plain": [
       "  0%|          | 0/27 [00:00<?, ?it/s]"
      ]
     },
     "metadata": {},
     "output_type": "display_data"
    },
    {
     "name": "stdout",
     "output_type": "stream",
     "text": [
      "Test_Acc:\u001b[1;32m94.203%\u001b[0m\n",
      "Best_ACC[\u001b[1;32m96.981%\u001b[0m]\n",
      "Epoch: [125] HAM10000 ==> Training ...\n"
     ]
    },
    {
     "data": {
      "application/vnd.jupyter.widget-view+json": {
       "model_id": "07e2588b2a624fd798ba4990a49a0058",
       "version_major": 2,
       "version_minor": 0
      },
      "text/plain": [
       "  0%|          | 0/308 [00:00<?, ?it/s]"
      ]
     },
     "metadata": {},
     "output_type": "display_data"
    },
    {
     "name": "stdout",
     "output_type": "stream",
     "text": [
      "[154/308] Loss0.15828, ACC:0.77725%\n",
      "[308/308] Loss0.16562, ACC:0.77541%\n",
      "Train_Loss: 0.1658858357408604,ACC:0.776%\n",
      "\u001b[66mHAM10000 ==> testing ...\u001b[0m\n"
     ]
    },
    {
     "data": {
      "application/vnd.jupyter.widget-view+json": {
       "model_id": "6e56884fe54b4915a647b332fb5b8d90",
       "version_major": 2,
       "version_minor": 0
      },
      "text/plain": [
       "  0%|          | 0/27 [00:00<?, ?it/s]"
      ]
     },
     "metadata": {},
     "output_type": "display_data"
    },
    {
     "name": "stdout",
     "output_type": "stream",
     "text": [
      "Test_Acc:\u001b[1;32m95.652%\u001b[0m\n",
      "Best_ACC[\u001b[1;32m96.981%\u001b[0m]\n",
      "Epoch: [126] HAM10000 ==> Training ...\n"
     ]
    },
    {
     "data": {
      "application/vnd.jupyter.widget-view+json": {
       "model_id": "387405ea349f4e70880e97b0ecbd3fd5",
       "version_major": 2,
       "version_minor": 0
      },
      "text/plain": [
       "  0%|          | 0/308 [00:00<?, ?it/s]"
      ]
     },
     "metadata": {},
     "output_type": "display_data"
    },
    {
     "name": "stdout",
     "output_type": "stream",
     "text": [
      "[154/308] Loss0.17278, ACC:0.78019%\n",
      "[308/308] Loss0.17702, ACC:0.77723%\n",
      "Train_Loss: 0.1647700284692374,ACC:0.778%\n",
      "\u001b[66mHAM10000 ==> testing ...\u001b[0m\n"
     ]
    },
    {
     "data": {
      "application/vnd.jupyter.widget-view+json": {
       "model_id": "d5486bb256e44251a40caa65531df121",
       "version_major": 2,
       "version_minor": 0
      },
      "text/plain": [
       "  0%|          | 0/27 [00:00<?, ?it/s]"
      ]
     },
     "metadata": {},
     "output_type": "display_data"
    },
    {
     "name": "stdout",
     "output_type": "stream",
     "text": [
      "Test_Acc:\u001b[1;32m95.652%\u001b[0m\n",
      "Best_ACC[\u001b[1;32m96.981%\u001b[0m]\n",
      "Epoch: [127] HAM10000 ==> Training ...\n"
     ]
    },
    {
     "data": {
      "application/vnd.jupyter.widget-view+json": {
       "model_id": "e0524df19ca840638204aa3bee596d36",
       "version_major": 2,
       "version_minor": 0
      },
      "text/plain": [
       "  0%|          | 0/308 [00:00<?, ?it/s]"
      ]
     },
     "metadata": {},
     "output_type": "display_data"
    },
    {
     "name": "stdout",
     "output_type": "stream",
     "text": [
      "[154/308] Loss0.15601, ACC:0.77918%\n",
      "[308/308] Loss0.16124, ACC:0.77779%\n",
      "Train_Loss: 0.16509768695800336,ACC:0.778%\n",
      "\u001b[66mHAM10000 ==> testing ...\u001b[0m\n"
     ]
    },
    {
     "data": {
      "application/vnd.jupyter.widget-view+json": {
       "model_id": "9645fd42de4a4f1aa221adef9d0fd549",
       "version_major": 2,
       "version_minor": 0
      },
      "text/plain": [
       "  0%|          | 0/27 [00:00<?, ?it/s]"
      ]
     },
     "metadata": {},
     "output_type": "display_data"
    },
    {
     "name": "stdout",
     "output_type": "stream",
     "text": [
      "Test_Acc:\u001b[1;32m95.531%\u001b[0m\n",
      "Best_ACC[\u001b[1;32m96.981%\u001b[0m]\n",
      "Epoch: [128] HAM10000 ==> Training ...\n"
     ]
    },
    {
     "data": {
      "application/vnd.jupyter.widget-view+json": {
       "model_id": "06432a7226804fa193e0b7682c7d1bdd",
       "version_major": 2,
       "version_minor": 0
      },
      "text/plain": [
       "  0%|          | 0/308 [00:00<?, ?it/s]"
      ]
     },
     "metadata": {},
     "output_type": "display_data"
    },
    {
     "name": "stdout",
     "output_type": "stream",
     "text": [
      "[154/308] Loss0.19213, ACC:0.77250%\n",
      "[308/308] Loss0.15209, ACC:0.77101%\n",
      "Train_Loss: 0.16978097179686868,ACC:0.772%\n",
      "\u001b[66mHAM10000 ==> testing ...\u001b[0m\n"
     ]
    },
    {
     "data": {
      "application/vnd.jupyter.widget-view+json": {
       "model_id": "099e2a89a9644991b0572c947bef9aa5",
       "version_major": 2,
       "version_minor": 0
      },
      "text/plain": [
       "  0%|          | 0/27 [00:00<?, ?it/s]"
      ]
     },
     "metadata": {},
     "output_type": "display_data"
    },
    {
     "name": "stdout",
     "output_type": "stream",
     "text": [
      "Test_Acc:\u001b[1;32m96.498%\u001b[0m\n",
      "Best_ACC[\u001b[1;32m96.981%\u001b[0m]\n",
      "Epoch: [129] HAM10000 ==> Training ...\n"
     ]
    },
    {
     "data": {
      "application/vnd.jupyter.widget-view+json": {
       "model_id": "d39918b8af7a4dd981b849572e44453c",
       "version_major": 2,
       "version_minor": 0
      },
      "text/plain": [
       "  0%|          | 0/308 [00:00<?, ?it/s]"
      ]
     },
     "metadata": {},
     "output_type": "display_data"
    },
    {
     "name": "stdout",
     "output_type": "stream",
     "text": [
      "[154/308] Loss0.17122, ACC:0.76171%\n",
      "[308/308] Loss0.16468, ACC:0.75951%\n",
      "Train_Loss: 0.17677632424157935,ACC:0.76%\n",
      "\u001b[66mHAM10000 ==> testing ...\u001b[0m\n"
     ]
    },
    {
     "data": {
      "application/vnd.jupyter.widget-view+json": {
       "model_id": "96be1c72cfb3431cbf8b534fb11d64d3",
       "version_major": 2,
       "version_minor": 0
      },
      "text/plain": [
       "  0%|          | 0/27 [00:00<?, ?it/s]"
      ]
     },
     "metadata": {},
     "output_type": "display_data"
    },
    {
     "name": "stdout",
     "output_type": "stream",
     "text": [
      "Test_Acc:\u001b[1;32m84.179%\u001b[0m\n",
      "Best_ACC[\u001b[1;32m96.981%\u001b[0m]\n",
      "Epoch: [130] HAM10000 ==> Training ...\n"
     ]
    },
    {
     "data": {
      "application/vnd.jupyter.widget-view+json": {
       "model_id": "dff7ab2120d84a6ca48e49bf772b3c87",
       "version_major": 2,
       "version_minor": 0
      },
      "text/plain": [
       "  0%|          | 0/308 [00:00<?, ?it/s]"
      ]
     },
     "metadata": {},
     "output_type": "display_data"
    },
    {
     "name": "stdout",
     "output_type": "stream",
     "text": [
      "[154/308] Loss0.18389, ACC:0.75383%\n",
      "[308/308] Loss0.19247, ACC:0.75454%\n",
      "Train_Loss: 0.18037729023338914,ACC:0.755%\n",
      "\u001b[66mHAM10000 ==> testing ...\u001b[0m\n"
     ]
    },
    {
     "data": {
      "application/vnd.jupyter.widget-view+json": {
       "model_id": "540576d2d6e14d2b908e8e54813e1850",
       "version_major": 2,
       "version_minor": 0
      },
      "text/plain": [
       "  0%|          | 0/27 [00:00<?, ?it/s]"
      ]
     },
     "metadata": {},
     "output_type": "display_data"
    },
    {
     "name": "stdout",
     "output_type": "stream",
     "text": [
      "Test_Acc:\u001b[1;32m95.773%\u001b[0m\n",
      "Best_ACC[\u001b[1;32m96.981%\u001b[0m]\n",
      "Epoch: [131] HAM10000 ==> Training ...\n"
     ]
    },
    {
     "data": {
      "application/vnd.jupyter.widget-view+json": {
       "model_id": "b91dcc094952405ab5ea1832334f2330",
       "version_major": 2,
       "version_minor": 0
      },
      "text/plain": [
       "  0%|          | 0/308 [00:00<?, ?it/s]"
      ]
     },
     "metadata": {},
     "output_type": "display_data"
    },
    {
     "name": "stdout",
     "output_type": "stream",
     "text": [
      "[154/308] Loss0.17975, ACC:0.75158%\n",
      "[308/308] Loss0.15005, ACC:0.75158%\n",
      "Train_Loss: 0.1817197339101271,ACC:0.752%\n",
      "\u001b[66mHAM10000 ==> testing ...\u001b[0m\n"
     ]
    },
    {
     "data": {
      "application/vnd.jupyter.widget-view+json": {
       "model_id": "ec2f8dee5cac48d49f36de95114d7d96",
       "version_major": 2,
       "version_minor": 0
      },
      "text/plain": [
       "  0%|          | 0/27 [00:00<?, ?it/s]"
      ]
     },
     "metadata": {},
     "output_type": "display_data"
    },
    {
     "name": "stdout",
     "output_type": "stream",
     "text": [
      "Test_Acc:\u001b[1;32m90.7%\u001b[0m\n",
      "Best_ACC[\u001b[1;32m96.981%\u001b[0m]\n",
      "Epoch: [132] HAM10000 ==> Training ...\n"
     ]
    },
    {
     "data": {
      "application/vnd.jupyter.widget-view+json": {
       "model_id": "166a3daf68394a1ca5cd6aa0c2343a0c",
       "version_major": 2,
       "version_minor": 0
      },
      "text/plain": [
       "  0%|          | 0/308 [00:00<?, ?it/s]"
      ]
     },
     "metadata": {},
     "output_type": "display_data"
    },
    {
     "name": "stdout",
     "output_type": "stream",
     "text": [
      "[154/308] Loss0.20203, ACC:0.75816%\n",
      "[308/308] Loss0.15249, ACC:0.75723%\n",
      "Train_Loss: 0.1781396692159114,ACC:0.758%\n",
      "\u001b[66mHAM10000 ==> testing ...\u001b[0m\n"
     ]
    },
    {
     "data": {
      "application/vnd.jupyter.widget-view+json": {
       "model_id": "fff930f291c94cec955b56c96fefa7e7",
       "version_major": 2,
       "version_minor": 0
      },
      "text/plain": [
       "  0%|          | 0/27 [00:00<?, ?it/s]"
      ]
     },
     "metadata": {},
     "output_type": "display_data"
    },
    {
     "name": "stdout",
     "output_type": "stream",
     "text": [
      "Test_Acc:\u001b[1;32m92.754%\u001b[0m\n",
      "Best_ACC[\u001b[1;32m96.981%\u001b[0m]\n",
      "Epoch: [133] HAM10000 ==> Training ...\n"
     ]
    },
    {
     "data": {
      "application/vnd.jupyter.widget-view+json": {
       "model_id": "8abf25a4807645dca1780210ce5e74c0",
       "version_major": 2,
       "version_minor": 0
      },
      "text/plain": [
       "  0%|          | 0/308 [00:00<?, ?it/s]"
      ]
     },
     "metadata": {},
     "output_type": "display_data"
    },
    {
     "name": "stdout",
     "output_type": "stream",
     "text": [
      "[154/308] Loss0.15311, ACC:0.76310%\n",
      "[308/308] Loss0.20872, ACC:0.76341%\n",
      "Train_Loss: 0.17496010056370265,ACC:0.764%\n",
      "\u001b[66mHAM10000 ==> testing ...\u001b[0m\n"
     ]
    },
    {
     "data": {
      "application/vnd.jupyter.widget-view+json": {
       "model_id": "424c49403ea9470988cb075872b8eee9",
       "version_major": 2,
       "version_minor": 0
      },
      "text/plain": [
       "  0%|          | 0/27 [00:00<?, ?it/s]"
      ]
     },
     "metadata": {},
     "output_type": "display_data"
    },
    {
     "name": "stdout",
     "output_type": "stream",
     "text": [
      "Test_Acc:\u001b[1;32m85.87%\u001b[0m\n",
      "Best_ACC[\u001b[1;32m96.981%\u001b[0m]\n",
      "Epoch: [134] HAM10000 ==> Training ...\n"
     ]
    },
    {
     "data": {
      "application/vnd.jupyter.widget-view+json": {
       "model_id": "386c317cd6164a02a415efdcbd7fb7d1",
       "version_major": 2,
       "version_minor": 0
      },
      "text/plain": [
       "  0%|          | 0/308 [00:00<?, ?it/s]"
      ]
     },
     "metadata": {},
     "output_type": "display_data"
    },
    {
     "name": "stdout",
     "output_type": "stream",
     "text": [
      "[154/308] Loss0.15387, ACC:0.76867%\n",
      "[308/308] Loss0.17462, ACC:0.76921%\n",
      "Train_Loss: 0.16944433898701297,ACC:0.77%\n",
      "\u001b[66mHAM10000 ==> testing ...\u001b[0m\n"
     ]
    },
    {
     "data": {
      "application/vnd.jupyter.widget-view+json": {
       "model_id": "3bc826d2c6f94e0eaf71cfb9a0749dc1",
       "version_major": 2,
       "version_minor": 0
      },
      "text/plain": [
       "  0%|          | 0/27 [00:00<?, ?it/s]"
      ]
     },
     "metadata": {},
     "output_type": "display_data"
    },
    {
     "name": "stdout",
     "output_type": "stream",
     "text": [
      "Test_Acc:\u001b[1;32m95.29%\u001b[0m\n",
      "Best_ACC[\u001b[1;32m96.981%\u001b[0m]\n",
      "Epoch: [135] HAM10000 ==> Training ...\n"
     ]
    },
    {
     "data": {
      "application/vnd.jupyter.widget-view+json": {
       "model_id": "7da50789904e425e890d703da87d34e7",
       "version_major": 2,
       "version_minor": 0
      },
      "text/plain": [
       "  0%|          | 0/308 [00:00<?, ?it/s]"
      ]
     },
     "metadata": {},
     "output_type": "display_data"
    },
    {
     "name": "stdout",
     "output_type": "stream",
     "text": [
      "[154/308] Loss0.14449, ACC:0.77806%\n",
      "[308/308] Loss0.16742, ACC:0.78003%\n",
      "Train_Loss: 0.1635763267079344,ACC:0.781%\n",
      "\u001b[66mHAM10000 ==> testing ...\u001b[0m\n"
     ]
    },
    {
     "data": {
      "application/vnd.jupyter.widget-view+json": {
       "model_id": "56b199ebcc9845ca96c5a7e1e26e6c44",
       "version_major": 2,
       "version_minor": 0
      },
      "text/plain": [
       "  0%|          | 0/27 [00:00<?, ?it/s]"
      ]
     },
     "metadata": {},
     "output_type": "display_data"
    },
    {
     "name": "stdout",
     "output_type": "stream",
     "text": [
      "Test_Acc:\u001b[1;32m68.478%\u001b[0m\n",
      "Best_ACC[\u001b[1;32m96.981%\u001b[0m]\n",
      "Epoch: [136] HAM10000 ==> Training ...\n"
     ]
    },
    {
     "data": {
      "application/vnd.jupyter.widget-view+json": {
       "model_id": "fee755c2d3d945d586c908f5887b448f",
       "version_major": 2,
       "version_minor": 0
      },
      "text/plain": [
       "  0%|          | 0/308 [00:00<?, ?it/s]"
      ]
     },
     "metadata": {},
     "output_type": "display_data"
    },
    {
     "name": "stdout",
     "output_type": "stream",
     "text": [
      "[154/308] Loss0.17547, ACC:0.78320%\n",
      "[308/308] Loss0.16347, ACC:0.77997%\n",
      "Train_Loss: 0.16370944325606546,ACC:0.781%\n",
      "\u001b[66mHAM10000 ==> testing ...\u001b[0m\n"
     ]
    },
    {
     "data": {
      "application/vnd.jupyter.widget-view+json": {
       "model_id": "4b1ecd05793249b0950b77007080c1b3",
       "version_major": 2,
       "version_minor": 0
      },
      "text/plain": [
       "  0%|          | 0/27 [00:00<?, ?it/s]"
      ]
     },
     "metadata": {},
     "output_type": "display_data"
    },
    {
     "name": "stdout",
     "output_type": "stream",
     "text": [
      "Test_Acc:\u001b[1;32m65.942%\u001b[0m\n",
      "Best_ACC[\u001b[1;32m96.981%\u001b[0m]\n",
      "Epoch: [137] HAM10000 ==> Training ...\n"
     ]
    },
    {
     "data": {
      "application/vnd.jupyter.widget-view+json": {
       "model_id": "b0399370779e4a18841263ca007b06d6",
       "version_major": 2,
       "version_minor": 0
      },
      "text/plain": [
       "  0%|          | 0/308 [00:00<?, ?it/s]"
      ]
     },
     "metadata": {},
     "output_type": "display_data"
    },
    {
     "name": "stdout",
     "output_type": "stream",
     "text": [
      "[154/308] Loss0.16586, ACC:0.78019%\n",
      "[308/308] Loss0.19101, ACC:0.78038%\n",
      "Train_Loss: 0.16347048223599212,ACC:0.781%\n",
      "\u001b[66mHAM10000 ==> testing ...\u001b[0m\n"
     ]
    },
    {
     "data": {
      "application/vnd.jupyter.widget-view+json": {
       "model_id": "cae1b2c7ae43445389f0aaa06812a713",
       "version_major": 2,
       "version_minor": 0
      },
      "text/plain": [
       "  0%|          | 0/27 [00:00<?, ?it/s]"
      ]
     },
     "metadata": {},
     "output_type": "display_data"
    },
    {
     "name": "stdout",
     "output_type": "stream",
     "text": [
      "Test_Acc:\u001b[1;32m73.671%\u001b[0m\n",
      "Best_ACC[\u001b[1;32m96.981%\u001b[0m]\n",
      "Epoch: [138] HAM10000 ==> Training ...\n"
     ]
    },
    {
     "data": {
      "application/vnd.jupyter.widget-view+json": {
       "model_id": "0d06d9269507434c87940f7875a19407",
       "version_major": 2,
       "version_minor": 0
      },
      "text/plain": [
       "  0%|          | 0/308 [00:00<?, ?it/s]"
      ]
     },
     "metadata": {},
     "output_type": "display_data"
    },
    {
     "name": "stdout",
     "output_type": "stream",
     "text": [
      "[154/308] Loss0.16713, ACC:0.77648%\n",
      "[308/308] Loss0.15029, ACC:0.77592%\n",
      "Train_Loss: 0.16716738412906598,ACC:0.777%\n",
      "\u001b[66mHAM10000 ==> testing ...\u001b[0m\n"
     ]
    },
    {
     "data": {
      "application/vnd.jupyter.widget-view+json": {
       "model_id": "cf8e14d16e934f9ca95e746cb0d6606b",
       "version_major": 2,
       "version_minor": 0
      },
      "text/plain": [
       "  0%|          | 0/27 [00:00<?, ?it/s]"
      ]
     },
     "metadata": {},
     "output_type": "display_data"
    },
    {
     "name": "stdout",
     "output_type": "stream",
     "text": [
      "Test_Acc:\u001b[1;32m39.855%\u001b[0m\n",
      "Best_ACC[\u001b[1;32m96.981%\u001b[0m]\n",
      "Epoch: [139] HAM10000 ==> Training ...\n"
     ]
    },
    {
     "data": {
      "application/vnd.jupyter.widget-view+json": {
       "model_id": "1390677d998a48508c30e46b10d900e7",
       "version_major": 2,
       "version_minor": 0
      },
      "text/plain": [
       "  0%|          | 0/308 [00:00<?, ?it/s]"
      ]
     },
     "metadata": {},
     "output_type": "display_data"
    },
    {
     "name": "stdout",
     "output_type": "stream",
     "text": [
      "[154/308] Loss0.16462, ACC:0.76886%\n",
      "[308/308] Loss0.17777, ACC:0.76610%\n",
      "Train_Loss: 0.17332043861607452,ACC:0.767%\n",
      "\u001b[66mHAM10000 ==> testing ...\u001b[0m\n"
     ]
    },
    {
     "data": {
      "application/vnd.jupyter.widget-view+json": {
       "model_id": "473b2172a21147e281bdae5301ad764a",
       "version_major": 2,
       "version_minor": 0
      },
      "text/plain": [
       "  0%|          | 0/27 [00:00<?, ?it/s]"
      ]
     },
     "metadata": {},
     "output_type": "display_data"
    },
    {
     "name": "stdout",
     "output_type": "stream",
     "text": [
      "Test_Acc:\u001b[1;32m61.957%\u001b[0m\n",
      "Best_ACC[\u001b[1;32m96.981%\u001b[0m]\n",
      "Epoch: [140] HAM10000 ==> Training ...\n"
     ]
    },
    {
     "data": {
      "application/vnd.jupyter.widget-view+json": {
       "model_id": "9d8e7856daef4a2da643837639d0aeac",
       "version_major": 2,
       "version_minor": 0
      },
      "text/plain": [
       "  0%|          | 0/308 [00:00<?, ?it/s]"
      ]
     },
     "metadata": {},
     "output_type": "display_data"
    },
    {
     "name": "stdout",
     "output_type": "stream",
     "text": [
      "[154/308] Loss0.17681, ACC:0.75750%\n",
      "[308/308] Loss0.19138, ACC:0.75661%\n",
      "Train_Loss: 0.17843840014818427,ACC:0.757%\n",
      "\u001b[66mHAM10000 ==> testing ...\u001b[0m\n"
     ]
    },
    {
     "data": {
      "application/vnd.jupyter.widget-view+json": {
       "model_id": "9bc498b3099044189505cddfb0630682",
       "version_major": 2,
       "version_minor": 0
      },
      "text/plain": [
       "  0%|          | 0/27 [00:00<?, ?it/s]"
      ]
     },
     "metadata": {},
     "output_type": "display_data"
    },
    {
     "name": "stdout",
     "output_type": "stream",
     "text": [
      "Test_Acc:\u001b[1;32m85.386%\u001b[0m\n",
      "Best_ACC[\u001b[1;32m96.981%\u001b[0m]\n",
      "Epoch: [141] HAM10000 ==> Training ...\n"
     ]
    },
    {
     "data": {
      "application/vnd.jupyter.widget-view+json": {
       "model_id": "f79cdc2a3ef44b0a9d1e096e1bf2bfce",
       "version_major": 2,
       "version_minor": 0
      },
      "text/plain": [
       "  0%|          | 0/308 [00:00<?, ?it/s]"
      ]
     },
     "metadata": {},
     "output_type": "display_data"
    },
    {
     "name": "stdout",
     "output_type": "stream",
     "text": [
      "[154/308] Loss0.16176, ACC:0.75700%\n",
      "[308/308] Loss0.15842, ACC:0.75439%\n",
      "Train_Loss: 0.17994654705965674,ACC:0.755%\n",
      "\u001b[66mHAM10000 ==> testing ...\u001b[0m\n"
     ]
    },
    {
     "data": {
      "application/vnd.jupyter.widget-view+json": {
       "model_id": "776ff476294645a78822a63af46c36c9",
       "version_major": 2,
       "version_minor": 0
      },
      "text/plain": [
       "  0%|          | 0/27 [00:00<?, ?it/s]"
      ]
     },
     "metadata": {},
     "output_type": "display_data"
    },
    {
     "name": "stdout",
     "output_type": "stream",
     "text": [
      "Test_Acc:\u001b[1;32m44.807%\u001b[0m\n",
      "Best_ACC[\u001b[1;32m96.981%\u001b[0m]\n",
      "Epoch: [142] HAM10000 ==> Training ...\n"
     ]
    },
    {
     "data": {
      "application/vnd.jupyter.widget-view+json": {
       "model_id": "6c9cf2139bf34d37a137b127fc0a9ba8",
       "version_major": 2,
       "version_minor": 0
      },
      "text/plain": [
       "  0%|          | 0/308 [00:00<?, ?it/s]"
      ]
     },
     "metadata": {},
     "output_type": "display_data"
    },
    {
     "name": "stdout",
     "output_type": "stream",
     "text": [
      "[154/308] Loss0.16190, ACC:0.76117%\n",
      "[308/308] Loss0.18628, ACC:0.76017%\n",
      "Train_Loss: 0.1770845769674747,ACC:0.761%\n",
      "\u001b[66mHAM10000 ==> testing ...\u001b[0m\n"
     ]
    },
    {
     "data": {
      "application/vnd.jupyter.widget-view+json": {
       "model_id": "7409251032eb442eb88f4dc80b5b985f",
       "version_major": 2,
       "version_minor": 0
      },
      "text/plain": [
       "  0%|          | 0/27 [00:00<?, ?it/s]"
      ]
     },
     "metadata": {},
     "output_type": "display_data"
    },
    {
     "name": "stdout",
     "output_type": "stream",
     "text": [
      "Test_Acc:\u001b[1;32m86.594%\u001b[0m\n",
      "Best_ACC[\u001b[1;32m96.981%\u001b[0m]\n",
      "Epoch: [143] HAM10000 ==> Training ...\n"
     ]
    },
    {
     "data": {
      "application/vnd.jupyter.widget-view+json": {
       "model_id": "724d1c30c1e240ba9367c49d02db033c",
       "version_major": 2,
       "version_minor": 0
      },
      "text/plain": [
       "  0%|          | 0/308 [00:00<?, ?it/s]"
      ]
     },
     "metadata": {},
     "output_type": "display_data"
    },
    {
     "name": "stdout",
     "output_type": "stream",
     "text": [
      "[154/308] Loss0.17662, ACC:0.76755%\n",
      "[308/308] Loss0.17277, ACC:0.76749%\n",
      "Train_Loss: 0.17184820127758113,ACC:0.768%\n",
      "\u001b[66mHAM10000 ==> testing ...\u001b[0m\n"
     ]
    },
    {
     "data": {
      "application/vnd.jupyter.widget-view+json": {
       "model_id": "dcf389fe6d904888b1c6083a5f947dbd",
       "version_major": 2,
       "version_minor": 0
      },
      "text/plain": [
       "  0%|          | 0/27 [00:00<?, ?it/s]"
      ]
     },
     "metadata": {},
     "output_type": "display_data"
    },
    {
     "name": "stdout",
     "output_type": "stream",
     "text": [
      "Test_Acc:\u001b[1;32m60.99%\u001b[0m\n",
      "Best_ACC[\u001b[1;32m96.981%\u001b[0m]\n",
      "Epoch: [144] HAM10000 ==> Training ...\n"
     ]
    },
    {
     "data": {
      "application/vnd.jupyter.widget-view+json": {
       "model_id": "80fb0ecc2e024057a6fcac32cf22308e",
       "version_major": 2,
       "version_minor": 0
      },
      "text/plain": [
       "  0%|          | 0/308 [00:00<?, ?it/s]"
      ]
     },
     "metadata": {},
     "output_type": "display_data"
    },
    {
     "name": "stdout",
     "output_type": "stream",
     "text": [
      "[154/308] Loss0.13910, ACC:0.78100%\n",
      "[308/308] Loss0.14350, ACC:0.77628%\n",
      "Train_Loss: 0.1662856095603534,ACC:0.777%\n",
      "\u001b[66mHAM10000 ==> testing ...\u001b[0m\n"
     ]
    },
    {
     "data": {
      "application/vnd.jupyter.widget-view+json": {
       "model_id": "985a5065adad46e4912fda58a440319c",
       "version_major": 2,
       "version_minor": 0
      },
      "text/plain": [
       "  0%|          | 0/27 [00:00<?, ?it/s]"
      ]
     },
     "metadata": {},
     "output_type": "display_data"
    },
    {
     "name": "stdout",
     "output_type": "stream",
     "text": [
      "Test_Acc:\u001b[1;32m30.797%\u001b[0m\n",
      "Best_ACC[\u001b[1;32m96.981%\u001b[0m]\n",
      "Epoch: [145] HAM10000 ==> Training ...\n"
     ]
    },
    {
     "data": {
      "application/vnd.jupyter.widget-view+json": {
       "model_id": "2aa8dff56af74d93a3ac0a07ea455555",
       "version_major": 2,
       "version_minor": 0
      },
      "text/plain": [
       "  0%|          | 0/308 [00:00<?, ?it/s]"
      ]
     },
     "metadata": {},
     "output_type": "display_data"
    },
    {
     "name": "stdout",
     "output_type": "stream",
     "text": [
      "[154/308] Loss0.16984, ACC:0.78571%\n",
      "[308/308] Loss0.14540, ACC:0.78316%\n",
      "Train_Loss: 0.16223971751312932,ACC:0.784%\n",
      "\u001b[66mHAM10000 ==> testing ...\u001b[0m\n"
     ]
    },
    {
     "data": {
      "application/vnd.jupyter.widget-view+json": {
       "model_id": "256b763ce5364cdeb23fc6eb71f5cf46",
       "version_major": 2,
       "version_minor": 0
      },
      "text/plain": [
       "  0%|          | 0/27 [00:00<?, ?it/s]"
      ]
     },
     "metadata": {},
     "output_type": "display_data"
    },
    {
     "name": "stdout",
     "output_type": "stream",
     "text": [
      "Test_Acc:\u001b[1;32m42.271%\u001b[0m\n",
      "Best_ACC[\u001b[1;32m96.981%\u001b[0m]\n",
      "Epoch: [146] HAM10000 ==> Training ...\n"
     ]
    },
    {
     "data": {
      "application/vnd.jupyter.widget-view+json": {
       "model_id": "d21c3183bdad4f3aa02849b1af250b0d",
       "version_major": 2,
       "version_minor": 0
      },
      "text/plain": [
       "  0%|          | 0/308 [00:00<?, ?it/s]"
      ]
     },
     "metadata": {},
     "output_type": "display_data"
    },
    {
     "name": "stdout",
     "output_type": "stream",
     "text": [
      "[154/308] Loss0.17785, ACC:0.78525%\n",
      "[308/308] Loss0.15480, ACC:0.78504%\n",
      "Train_Loss: 0.1604347001616057,ACC:0.786%\n",
      "\u001b[66mHAM10000 ==> testing ...\u001b[0m\n"
     ]
    },
    {
     "data": {
      "application/vnd.jupyter.widget-view+json": {
       "model_id": "fe8b52be1150403998dbb27d59a7b0b6",
       "version_major": 2,
       "version_minor": 0
      },
      "text/plain": [
       "  0%|          | 0/27 [00:00<?, ?it/s]"
      ]
     },
     "metadata": {},
     "output_type": "display_data"
    },
    {
     "name": "stdout",
     "output_type": "stream",
     "text": [
      "Test_Acc:\u001b[1;32m43.961%\u001b[0m\n",
      "Best_ACC[\u001b[1;32m96.981%\u001b[0m]\n",
      "Epoch: [147] HAM10000 ==> Training ...\n"
     ]
    },
    {
     "data": {
      "application/vnd.jupyter.widget-view+json": {
       "model_id": "b301d6308a764ca89f2a91ee68c10527",
       "version_major": 2,
       "version_minor": 0
      },
      "text/plain": [
       "  0%|          | 0/308 [00:00<?, ?it/s]"
      ]
     },
     "metadata": {},
     "output_type": "display_data"
    },
    {
     "name": "stdout",
     "output_type": "stream",
     "text": [
      "[154/308] Loss0.18851, ACC:0.78684%\n",
      "[308/308] Loss0.17925, ACC:0.78459%\n",
      "Train_Loss: 0.16158614883368666,ACC:0.785%\n",
      "\u001b[66mHAM10000 ==> testing ...\u001b[0m\n"
     ]
    },
    {
     "data": {
      "application/vnd.jupyter.widget-view+json": {
       "model_id": "463910b6e9804fc08d06f9c731566462",
       "version_major": 2,
       "version_minor": 0
      },
      "text/plain": [
       "  0%|          | 0/27 [00:00<?, ?it/s]"
      ]
     },
     "metadata": {},
     "output_type": "display_data"
    },
    {
     "name": "stdout",
     "output_type": "stream",
     "text": [
      "Test_Acc:\u001b[1;32m44.565%\u001b[0m\n",
      "Best_ACC[\u001b[1;32m96.981%\u001b[0m]\n",
      "Epoch: [148] HAM10000 ==> Training ...\n"
     ]
    },
    {
     "data": {
      "application/vnd.jupyter.widget-view+json": {
       "model_id": "acfb6b5ad3d143a0af91fc235603b6e9",
       "version_major": 2,
       "version_minor": 0
      },
      "text/plain": [
       "  0%|          | 0/308 [00:00<?, ?it/s]"
      ]
     },
     "metadata": {},
     "output_type": "display_data"
    },
    {
     "name": "stdout",
     "output_type": "stream",
     "text": [
      "[154/308] Loss0.18380, ACC:0.77992%\n",
      "[308/308] Loss0.18595, ACC:0.77899%\n",
      "Train_Loss: 0.16507267039994916,ACC:0.78%\n",
      "\u001b[66mHAM10000 ==> testing ...\u001b[0m\n"
     ]
    },
    {
     "data": {
      "application/vnd.jupyter.widget-view+json": {
       "model_id": "a40239c001f1423cbd4d578e17a8d43a",
       "version_major": 2,
       "version_minor": 0
      },
      "text/plain": [
       "  0%|          | 0/27 [00:00<?, ?it/s]"
      ]
     },
     "metadata": {},
     "output_type": "display_data"
    },
    {
     "name": "stdout",
     "output_type": "stream",
     "text": [
      "Test_Acc:\u001b[1;32m29.589%\u001b[0m\n",
      "Best_ACC[\u001b[1;32m96.981%\u001b[0m]\n",
      "Epoch: [149] HAM10000 ==> Training ...\n"
     ]
    },
    {
     "data": {
      "application/vnd.jupyter.widget-view+json": {
       "model_id": "5df2e995af18469f9f189f7b954177d4",
       "version_major": 2,
       "version_minor": 0
      },
      "text/plain": [
       "  0%|          | 0/308 [00:00<?, ?it/s]"
      ]
     },
     "metadata": {},
     "output_type": "display_data"
    },
    {
     "name": "stdout",
     "output_type": "stream",
     "text": [
      "[154/308] Loss0.17918, ACC:0.76677%\n",
      "[308/308] Loss0.18676, ACC:0.76838%\n",
      "Train_Loss: 0.17224394568762222,ACC:0.769%\n",
      "\u001b[66mHAM10000 ==> testing ...\u001b[0m\n"
     ]
    },
    {
     "data": {
      "application/vnd.jupyter.widget-view+json": {
       "model_id": "6cef4bdd72264a54864398326d8ca949",
       "version_major": 2,
       "version_minor": 0
      },
      "text/plain": [
       "  0%|          | 0/27 [00:00<?, ?it/s]"
      ]
     },
     "metadata": {},
     "output_type": "display_data"
    },
    {
     "name": "stdout",
     "output_type": "stream",
     "text": [
      "Test_Acc:\u001b[1;32m20.048%\u001b[0m\n",
      "Best_ACC[\u001b[1;32m96.981%\u001b[0m]\n",
      "Epoch: [150] HAM10000 ==> Training ...\n"
     ]
    },
    {
     "data": {
      "application/vnd.jupyter.widget-view+json": {
       "model_id": "790d1137a6d14c578ed30d0b3b417424",
       "version_major": 2,
       "version_minor": 0
      },
      "text/plain": [
       "  0%|          | 0/308 [00:00<?, ?it/s]"
      ]
     },
     "metadata": {},
     "output_type": "display_data"
    },
    {
     "name": "stdout",
     "output_type": "stream",
     "text": [
      "[154/308] Loss0.17080, ACC:0.75978%\n",
      "[308/308] Loss0.17903, ACC:0.76146%\n",
      "Train_Loss: 0.1754766314157418,ACC:0.762%\n",
      "\u001b[66mHAM10000 ==> testing ...\u001b[0m\n"
     ]
    },
    {
     "data": {
      "application/vnd.jupyter.widget-view+json": {
       "model_id": "e2ef1942abfa48a08c61cabea63ab941",
       "version_major": 2,
       "version_minor": 0
      },
      "text/plain": [
       "  0%|          | 0/27 [00:00<?, ?it/s]"
      ]
     },
     "metadata": {},
     "output_type": "display_data"
    },
    {
     "name": "stdout",
     "output_type": "stream",
     "text": [
      "Test_Acc:\u001b[1;32m93.841%\u001b[0m\n",
      "Best_ACC[\u001b[1;32m96.981%\u001b[0m]\n",
      "Finished Training\n"
     ]
    }
   ],
   "source": [
    "for epoch in range(1, num_epochs + 1):\n",
    "    train(epoch)\n",
    "    test()\n",
    "print('Finished Training')"
   ]
  },
  {
   "cell_type": "code",
   "execution_count": 17,
   "metadata": {
    "execution": {
     "iopub.execute_input": "2022-06-10T11:00:47.218694Z",
     "iopub.status.busy": "2022-06-10T11:00:47.218694Z",
     "iopub.status.idle": "2022-06-10T11:00:47.297723Z",
     "shell.execute_reply": "2022-06-10T11:00:47.297723Z",
     "shell.execute_reply.started": "2022-06-10T11:00:47.218694Z"
    },
    "tags": []
   },
   "outputs": [
    {
     "name": "stdout",
     "output_type": "stream",
     "text": [
      "\u001b[31m=================Conclusion====================\u001b[0m\n",
      "Dataset:[\u001b[1;31mHAM10000\u001b[0m]\n",
      "Best_Epoch [\u001b[1;31m120\u001b[0m]\n",
      "[Test]  \u001b[32mACC:96.98%\u001b[0m.\n"
     ]
    }
   ],
   "source": [
    "show.conclusion(img_title=img_title)"
   ]
  },
  {
   "cell_type": "code",
   "execution_count": 18,
   "metadata": {
    "execution": {
     "iopub.execute_input": "2022-06-10T11:00:47.298696Z",
     "iopub.status.busy": "2022-06-10T11:00:47.298696Z",
     "iopub.status.idle": "2022-06-10T11:00:47.537811Z",
     "shell.execute_reply": "2022-06-10T11:00:47.537811Z",
     "shell.execute_reply.started": "2022-06-10T11:00:47.298696Z"
    },
    "tags": []
   },
   "outputs": [
    {
     "data": {
      "image/png": "[encoded data removed]",
      "text/plain": [
       "<Figure size 432x288 with 1 Axes>"
      ]
     },
     "metadata": {
      "needs_background": "light"
     },
     "output_type": "display_data"
    }
   ],
   "source": [
    "plt.clf()#clear photo\n",
    "show.train(write=True,custom_path='./tmp',img_title=img_title,suf=suf)"
   ]
  },
  {
   "cell_type": "code",
   "execution_count": 19,
   "metadata": {
    "execution": {
     "iopub.execute_input": "2022-06-10T11:00:47.538713Z",
     "iopub.status.busy": "2022-06-10T11:00:47.538713Z",
     "iopub.status.idle": "2022-06-10T11:00:47.760813Z",
     "shell.execute_reply": "2022-06-10T11:00:47.760813Z",
     "shell.execute_reply.started": "2022-06-10T11:00:47.538713Z"
    },
    "tags": []
   },
   "outputs": [
    {
     "data": {
      "image/png": "[encoded data removed]",
      "text/plain": [
       "<Figure size 576x396 with 1 Axes>"
      ]
     },
     "metadata": {},
     "output_type": "display_data"
    }
   ],
   "source": [
    "show.test(write=True,custom_path='./tmp',img_title=img_title,suf=suf)"
   ]
  },
  {
   "cell_type": "code",
   "execution_count": 20,
   "metadata": {
    "execution": {
     "iopub.execute_input": "2022-06-10T11:00:47.761674Z",
     "iopub.status.busy": "2022-06-10T11:00:47.761674Z",
     "iopub.status.idle": "2022-06-10T11:01:02.815118Z",
     "shell.execute_reply": "2022-06-10T11:01:02.815118Z",
     "shell.execute_reply.started": "2022-06-10T11:00:47.761674Z"
    },
    "scrolled": true,
    "tags": []
   },
   "outputs": [
    {
     "name": "stdout",
     "output_type": "stream",
     "text": [
      "\u001b[66mHAM10000 ==> testing ...\u001b[0m\n"
     ]
    },
    {
     "data": {
      "application/vnd.jupyter.widget-view+json": {
       "model_id": "e281edf2c6b345e98c26003fbd7365f5",
       "version_major": 2,
       "version_minor": 0
      },
      "text/plain": [
       "  0%|          | 0/27 [00:00<?, ?it/s]"
      ]
     },
     "metadata": {},
     "output_type": "display_data"
    },
    {
     "name": "stdout",
     "output_type": "stream",
     "text": [
      "Test_Acc:\u001b[1;32m96.981%\u001b[0m\n",
      "Best_ACC[\u001b[1;32m96.981%\u001b[0m]\n",
      "\u001b[66mHAM10000 ==> testing ...\u001b[0m\n"
     ]
    },
    {
     "data": {
      "application/vnd.jupyter.widget-view+json": {
       "model_id": "3d107755c8ee4ac190179def049bf43b",
       "version_major": 2,
       "version_minor": 0
      },
      "text/plain": [
       "  0%|          | 0/27 [00:00<?, ?it/s]"
      ]
     },
     "metadata": {},
     "output_type": "display_data"
    },
    {
     "name": "stdout",
     "output_type": "stream",
     "text": [
      "Test_Acc:\u001b[1;32m96.981%\u001b[0m\n",
      "Best_ACC[\u001b[1;32m96.981%\u001b[0m]\n",
      "\u001b[66mHAM10000 ==> testing ...\u001b[0m\n"
     ]
    },
    {
     "data": {
      "application/vnd.jupyter.widget-view+json": {
       "model_id": "523651c00b604f2787f4fd79aef0f711",
       "version_major": 2,
       "version_minor": 0
      },
      "text/plain": [
       "  0%|          | 0/27 [00:00<?, ?it/s]"
      ]
     },
     "metadata": {},
     "output_type": "display_data"
    },
    {
     "name": "stdout",
     "output_type": "stream",
     "text": [
      "Test_Acc:\u001b[1;32m96.981%\u001b[0m\n",
      "Best_ACC[\u001b[1;32m96.981%\u001b[0m]\n",
      "\u001b[66mHAM10000 ==> testing ...\u001b[0m\n"
     ]
    },
    {
     "data": {
      "application/vnd.jupyter.widget-view+json": {
       "model_id": "3ba6381f1acd40c9ad6452d6d4dab577",
       "version_major": 2,
       "version_minor": 0
      },
      "text/plain": [
       "  0%|          | 0/27 [00:00<?, ?it/s]"
      ]
     },
     "metadata": {},
     "output_type": "display_data"
    },
    {
     "name": "stdout",
     "output_type": "stream",
     "text": [
      "Test_Acc:\u001b[1;32m96.981%\u001b[0m\n",
      "Best_ACC[\u001b[1;32m96.981%\u001b[0m]\n",
      "\u001b[66mHAM10000 ==> testing ...\u001b[0m\n"
     ]
    },
    {
     "data": {
      "application/vnd.jupyter.widget-view+json": {
       "model_id": "c12f9a261df6447bb754021454cb004e",
       "version_major": 2,
       "version_minor": 0
      },
      "text/plain": [
       "  0%|          | 0/27 [00:00<?, ?it/s]"
      ]
     },
     "metadata": {},
     "output_type": "display_data"
    },
    {
     "name": "stdout",
     "output_type": "stream",
     "text": [
      "Test_Acc:\u001b[1;32m96.981%\u001b[0m\n",
      "Best_ACC[\u001b[1;32m96.981%\u001b[0m]\n"
     ]
    }
   ],
   "source": [
    "network.load_state_dict(torch.load(save_PATH))\n",
    "for i in range(5):\n",
    "    test()"
   ]
  },
  {
   "cell_type": "code",
   "execution_count": 21,
   "metadata": {
    "execution": {
     "iopub.execute_input": "2022-06-10T11:01:02.816119Z",
     "iopub.status.busy": "2022-06-10T11:01:02.816119Z",
     "iopub.status.idle": "2022-06-10T11:01:02.878117Z",
     "shell.execute_reply": "2022-06-10T11:01:02.878117Z",
     "shell.execute_reply.started": "2022-06-10T11:01:02.816119Z"
    },
    "tags": []
   },
   "outputs": [
    {
     "name": "stdout",
     "output_type": "stream",
     "text": [
      "+--------+-----------+--------+-------+----------+\n",
      "|  Type  | Precision | Recall |   F1  | Accuracy |\n",
      "+--------+-----------+--------+-------+----------+\n",
      "| akiec  |    1.0    | 0.826  | 0.905 |          |\n",
      "|  bcc   |   0.8214  | 0.885  | 0.852 |          |\n",
      "|  bkl   |   0.8714  | 0.924  | 0.897 |          |\n",
      "|   df   |   0.4286  |  0.5   | 0.462 |          |\n",
      "|  mel   |   0.9677  | 0.882  | 0.923 |          |\n",
      "|   nv   |   0.9925  | 0.994  | 0.993 |          |\n",
      "|  vasc  |   0.8889  |  0.8   | 0.842 |          |\n",
      "| Total: |           |        |       |  0.9698  |\n",
      "+--------+-----------+--------+-------+----------+\n"
     ]
    }
   ],
   "source": [
    "self_scores()"
   ]
  },
  {
   "cell_type": "code",
   "execution_count": 22,
   "metadata": {
    "execution": {
     "iopub.execute_input": "2022-06-10T11:01:02.879118Z",
     "iopub.status.busy": "2022-06-10T11:01:02.879118Z",
     "iopub.status.idle": "2022-06-10T11:01:03.324258Z",
     "shell.execute_reply": "2022-06-10T11:01:03.324258Z",
     "shell.execute_reply.started": "2022-06-10T11:01:02.879118Z"
    },
    "tags": []
   },
   "outputs": [
    {
     "data": {
      "image/png": "[encoded data removed]",
      "text/plain": [
       "<Figure size 576x396 with 2 Axes>"
      ]
     },
     "metadata": {},
     "output_type": "display_data"
    }
   ],
   "source": [
    "confusion_matrix(evl_result)"
   ]
  },
  {
   "cell_type": "code",
   "execution_count": 23,
   "metadata": {
    "execution": {
     "iopub.execute_input": "2022-06-10T11:01:03.325119Z",
     "iopub.status.busy": "2022-06-10T11:01:03.325119Z",
     "iopub.status.idle": "2022-06-10T11:01:03.387740Z",
     "shell.execute_reply": "2022-06-10T11:01:03.387740Z",
     "shell.execute_reply.started": "2022-06-10T11:01:03.325119Z"
    },
    "tags": []
   },
   "outputs": [],
   "source": [
    "# #save\n",
    "s1 = np.array(test_acc_list)\n",
    "np.save(f'./tmp/{img_title}/{suf}/{img_title}_test_acc_{suf}.npy', s1)\n",
    "s2 = np.array(train_loss_list)\n",
    "np.save(f'./tmp/{img_title}/{suf}/{img_title}_train_loss_{suf}.npy', s2)"
   ]
  },
  {
   "cell_type": "code",
   "execution_count": 24,
   "metadata": {
    "execution": {
     "iopub.execute_input": "2022-06-10T11:01:03.388731Z",
     "iopub.status.busy": "2022-06-10T11:01:03.388731Z",
     "iopub.status.idle": "2022-06-10T11:01:03.483730Z",
     "shell.execute_reply": "2022-06-10T11:01:03.483730Z",
     "shell.execute_reply.started": "2022-06-10T11:01:03.388731Z"
    }
   },
   "outputs": [],
   "source": [
    "torch.cuda.memory.empty_cache()"
   ]
  },
  {
   "cell_type": "raw",
   "metadata": {},
   "source": [
    "BatchSize = 168, LR = 0.123\n",
    "+--------+-----------+--------+-------+----------+\n",
    "|  Type  | Precision | Recall |   F1  | Accuracy |\n",
    "+--------+-----------+--------+-------+----------+\n",
    "| akiec  |    1.0    | 0.826  | 0.905 |          |\n",
    "|  bcc   |   0.8214  | 0.885  | 0.852 |          |\n",
    "|  bkl   |   0.8714  | 0.924  | 0.897 |          |\n",
    "|   df   |   0.4286  |  0.5   | 0.462 |          |\n",
    "|  mel   |   0.9677  | 0.882  | 0.923 |          |\n",
    "|   nv   |   0.9925  | 0.994  | 0.993 |          |\n",
    "|  vasc  |   0.8889  |  0.8   | 0.842 |          |\n",
    "| Total: |           |        |       |  0.9698  |\n",
    "+--------+-----------+--------+-------+----------+"
   ]
  },
  {
   "cell_type": "raw",
   "metadata": {},
   "source": [
    "BatchSize = 128, LR = 0.123\n",
    "+--------+-----------+--------+-------+----------+\n",
    "|  Type  | Precision | Recall |   F1  | Accuracy |\n",
    "+--------+-----------+--------+-------+----------+\n",
    "| akiec  |   0.9091  |  0.87  | 0.889 |          |\n",
    "|  bcc   |   0.7742  | 0.923  | 0.842 |          |\n",
    "|  bkl   |   0.875   | 0.848  | 0.862 |          |\n",
    "|   df   |    0.6    |  0.5   | 0.545 |          |\n",
    "|  mel   |   0.8889  | 0.941  | 0.914 |          |\n",
    "|   nv   |   0.9924  | 0.988  |  0.99 |          |\n",
    "|  vasc  |    0.9    |  0.9   |  0.9  |          |\n",
    "| Total: |           |        |       |  0.965   |\n",
    "+--------+-----------+--------+-------+----------+"
   ]
  },
  {
   "cell_type": "raw",
   "metadata": {
    "execution": {
     "iopub.execute_input": "2022-04-22T16:17:23.519658Z",
     "iopub.status.busy": "2022-04-22T16:17:23.518635Z",
     "iopub.status.idle": "2022-04-22T16:17:23.581698Z",
     "shell.execute_reply": "2022-04-22T16:17:23.581698Z",
     "shell.execute_reply.started": "2022-04-22T16:17:23.519658Z"
    },
    "tags": []
   },
   "source": [
    "+--------+-----------+--------+-------+----------+\n",
    "|  Type  | Precision | Recall |   F1  | Accuracy |\n",
    "+--------+-----------+--------+-------+----------+\n",
    "| akiec  |    0.88   | 0.957  | 0.917 |          |\n",
    "|  bcc   |   0.9565  | 0.846  | 0.898 |          |\n",
    "|  bkl   |   0.8676  | 0.894  | 0.881 |          |\n",
    "|   df   |   0.5714  | 0.667  | 0.615 |          |\n",
    "|  mel   |   0.9394  | 0.912  | 0.925 |          |\n",
    "|   nv   |   0.9835  | 0.986  | 0.985 |          |\n",
    "|  vasc  |    1.0    |  0.7   | 0.824 |          |\n",
    "| Total: |           |        |       |  0.965   |\n",
    "+--------+-----------+--------+-------+----------+"
   ]
  },
  {
   "cell_type": "code",
   "execution_count": 25,
   "metadata": {
    "execution": {
     "iopub.execute_input": "2022-06-10T14:05:42.414792Z",
     "iopub.status.busy": "2022-06-10T14:05:42.413797Z",
     "iopub.status.idle": "2022-06-10T14:05:42.485477Z",
     "shell.execute_reply": "2022-06-10T14:05:42.485477Z",
     "shell.execute_reply.started": "2022-06-10T14:05:42.414792Z"
    }
   },
   "outputs": [],
   "source": [
    "data_transform = {\n",
    "    \"train\": transforms.Compose([transforms.RandomResizedCrop((299, 299)),\n",
    "                                 transforms.RandomVerticalFlip(),\n",
    "                                 transforms.ToTensor(),\n",
    "                                 transforms.Normalize((0.5, 0.5, 0.5), (0.5, 0.5, 0.5))]),\n",
    "    \"val\": transforms.Compose([transforms.Resize((312,312)),\n",
    "                               transforms.CenterCrop((299, 299)),\n",
    "                               transforms.ToTensor(),\n",
    "                               transforms.Normalize((0.5, 0.5, 0.5), (0.5, 0.5, 0.5))\n",
    "                              ])\n",
    "    }"
   ]
  },
  {
   "cell_type": "code",
   "execution_count": 26,
   "metadata": {
    "execution": {
     "iopub.execute_input": "2022-06-10T14:05:43.042181Z",
     "iopub.status.busy": "2022-06-10T14:05:43.041161Z",
     "iopub.status.idle": "2022-06-10T14:05:43.378404Z",
     "shell.execute_reply": "2022-06-10T14:05:43.378404Z",
     "shell.execute_reply.started": "2022-06-10T14:05:43.042181Z"
    }
   },
   "outputs": [
    {
     "name": "stdout",
     "output_type": "stream",
     "text": [
      "Using 7 types.\n",
      "Using 10 dataloader workers every process.\n",
      "using 51699 images for training, 828 images for validation.\n"
     ]
    }
   ],
   "source": [
    "root_path = os.path.abspath(os.path.join(os.getcwd(), \"..\"))\n",
    "image_path = os.path.abspath(os.path.join(root_path,\"skin_lesion\"))\n",
    "assert os.path.exists(image_path), \"{} path does not exist.\".format(image_path)\n",
    "\n",
    "train_dataset = datasets.ImageFolder(root=os.path.join(image_path, \"train\"),\n",
    "                                     transform=data_transform[\"train\"])\n",
    "test_dataset = datasets.ImageFolder(root=os.path.join(image_path,\"test\"),\n",
    "                                      transform=data_transform[\"val\"])\n",
    "train_num = len(train_dataset)\n",
    "test_num = len(test_dataset)\n",
    "\n",
    "img_sample = Image.open(test_dataset.imgs[1][0])\n",
    "n_channels = np.array(img_sample).shape[2]#(H,W,C)\n",
    "\n",
    "data_list = train_dataset.class_to_idx #\n",
    "cla_dict = dict((val, key) for key, val in data_list.items())\n",
    "n_classes  = len(data_list)\n",
    "print(f'Using {n_classes} types.')\n",
    "\n",
    "# write dict into json file\n",
    "json_str = json.dumps(cla_dict, indent=4)\n",
    "with open(f'{img_title}.json', 'w') as json_file:#class_indices\n",
    "    json_file.write(json_str)\n",
    "\n",
    "BatchSize = 168\n",
    "T_size = 31\n",
    "nw = min([os.cpu_count(), BatchSize if BatchSize > 1 else 0, 10]) \n",
    "print(f'Using {nw} dataloader workers every process.')\n",
    "pin_memory = True\n",
    "train_loader = torch.utils.data.DataLoader(train_dataset, batch_size=BatchSize,pin_memory=pin_memory,\n",
    "                                           shuffle=True, num_workers=nw)\n",
    "test_loader = torch.utils.data.DataLoader(test_dataset,batch_size=T_size,pin_memory=pin_memory,\n",
    "                                          shuffle=False, num_workers=nw)\n",
    "\n",
    "print(\"using {} images for training, {} images for validation.\".format(train_num, test_num))"
   ]
  },
  {
   "cell_type": "code",
   "execution_count": 27,
   "metadata": {
    "execution": {
     "iopub.execute_input": "2022-06-10T14:05:44.986069Z",
     "iopub.status.busy": "2022-06-10T14:05:44.985090Z",
     "iopub.status.idle": "2022-06-10T14:06:00.128758Z",
     "shell.execute_reply": "2022-06-10T14:06:00.128758Z",
     "shell.execute_reply.started": "2022-06-10T14:05:44.986069Z"
    },
    "scrolled": true,
    "tags": []
   },
   "outputs": [
    {
     "name": "stdout",
     "output_type": "stream",
     "text": [
      "\u001b[66mHAM10000 ==> testing ...\u001b[0m\n"
     ]
    },
    {
     "data": {
      "application/vnd.jupyter.widget-view+json": {
       "model_id": "83f5adc28c0e46278ee0c3c973b9fd71",
       "version_major": 2,
       "version_minor": 0
      },
      "text/plain": [
       "  0%|          | 0/27 [00:00<?, ?it/s]"
      ]
     },
     "metadata": {},
     "output_type": "display_data"
    },
    {
     "name": "stdout",
     "output_type": "stream",
     "text": [
      "Test_Acc:\u001b[1;32m97.343%\u001b[0m\n",
      "Best_ACC[\u001b[1;32m97.343%\u001b[0m]\n",
      "\u001b[66mHAM10000 ==> testing ...\u001b[0m\n"
     ]
    },
    {
     "data": {
      "application/vnd.jupyter.widget-view+json": {
       "model_id": "6d0461f36bb64b71a2b3b8e33c12ed93",
       "version_major": 2,
       "version_minor": 0
      },
      "text/plain": [
       "  0%|          | 0/27 [00:00<?, ?it/s]"
      ]
     },
     "metadata": {},
     "output_type": "display_data"
    },
    {
     "name": "stdout",
     "output_type": "stream",
     "text": [
      "Test_Acc:\u001b[1;32m97.343%\u001b[0m\n",
      "Best_ACC[\u001b[1;32m97.343%\u001b[0m]\n",
      "\u001b[66mHAM10000 ==> testing ...\u001b[0m\n"
     ]
    },
    {
     "data": {
      "application/vnd.jupyter.widget-view+json": {
       "model_id": "ac738a2650f74b989385962c1f99973b",
       "version_major": 2,
       "version_minor": 0
      },
      "text/plain": [
       "  0%|          | 0/27 [00:00<?, ?it/s]"
      ]
     },
     "metadata": {},
     "output_type": "display_data"
    },
    {
     "name": "stdout",
     "output_type": "stream",
     "text": [
      "Test_Acc:\u001b[1;32m97.343%\u001b[0m\n",
      "Best_ACC[\u001b[1;32m97.343%\u001b[0m]\n",
      "\u001b[66mHAM10000 ==> testing ...\u001b[0m\n"
     ]
    },
    {
     "data": {
      "application/vnd.jupyter.widget-view+json": {
       "model_id": "da4a0d2872684b69960d0d195c078c13",
       "version_major": 2,
       "version_minor": 0
      },
      "text/plain": [
       "  0%|          | 0/27 [00:00<?, ?it/s]"
      ]
     },
     "metadata": {},
     "output_type": "display_data"
    },
    {
     "name": "stdout",
     "output_type": "stream",
     "text": [
      "Test_Acc:\u001b[1;32m97.343%\u001b[0m\n",
      "Best_ACC[\u001b[1;32m97.343%\u001b[0m]\n",
      "\u001b[66mHAM10000 ==> testing ...\u001b[0m\n"
     ]
    },
    {
     "data": {
      "application/vnd.jupyter.widget-view+json": {
       "model_id": "121d2953332541988a71c743462dd9e9",
       "version_major": 2,
       "version_minor": 0
      },
      "text/plain": [
       "  0%|          | 0/27 [00:00<?, ?it/s]"
      ]
     },
     "metadata": {},
     "output_type": "display_data"
    },
    {
     "name": "stdout",
     "output_type": "stream",
     "text": [
      "Test_Acc:\u001b[1;32m97.343%\u001b[0m\n",
      "Best_ACC[\u001b[1;32m97.343%\u001b[0m]\n"
     ]
    }
   ],
   "source": [
    "network.load_state_dict(torch.load(save_PATH))\n",
    "for i in range(5):\n",
    "    test()"
   ]
  },
  {
   "cell_type": "code",
   "execution_count": 28,
   "metadata": {
    "execution": {
     "iopub.execute_input": "2022-06-10T14:06:34.439845Z",
     "iopub.status.busy": "2022-06-10T14:06:34.438841Z",
     "iopub.status.idle": "2022-06-10T14:06:34.494357Z",
     "shell.execute_reply": "2022-06-10T14:06:34.494357Z",
     "shell.execute_reply.started": "2022-06-10T14:06:34.439845Z"
    }
   },
   "outputs": [
    {
     "name": "stdout",
     "output_type": "stream",
     "text": [
      "+--------+-----------+--------+-------+----------+\n",
      "|  Type  | Precision | Recall |   F1  | Accuracy |\n",
      "+--------+-----------+--------+-------+----------+\n",
      "| akiec  |    1.0    | 0.826  | 0.905 |          |\n",
      "|  bcc   |   0.8621  | 0.962  | 0.909 |          |\n",
      "|  bkl   |   0.8841  | 0.924  | 0.904 |          |\n",
      "|   df   |   0.4286  |  0.5   | 0.462 |          |\n",
      "|  mel   |   0.9677  | 0.882  | 0.923 |          |\n",
      "|   nv   |   0.9925  | 0.995  | 0.994 |          |\n",
      "|  vasc  |    1.0    |  0.8   | 0.889 |          |\n",
      "| Total: |           |        |       |  0.9734  |\n",
      "+--------+-----------+--------+-------+----------+\n"
     ]
    }
   ],
   "source": [
    "self_scores()"
   ]
  },
  {
   "cell_type": "code",
   "execution_count": 29,
   "metadata": {
    "execution": {
     "iopub.execute_input": "2022-06-10T14:07:46.928025Z",
     "iopub.status.busy": "2022-06-10T14:07:46.927009Z",
     "iopub.status.idle": "2022-06-10T14:07:47.314154Z",
     "shell.execute_reply": "2022-06-10T14:07:47.314154Z",
     "shell.execute_reply.started": "2022-06-10T14:07:46.928025Z"
    }
   },
   "outputs": [
    {
     "data": {
      "image/png": "[encoded data removed]",
      "text/plain": [
       "<Figure size 576x396 with 2 Axes>"
      ]
     },
     "metadata": {},
     "output_type": "display_data"
    }
   ],
   "source": [
    "confusion_matrix(evl_result)"
   ]
  },
  {
   "cell_type": "code",
   "execution_count": null,
   "metadata": {},
   "outputs": [],
   "source": []
  }
 ],
 "metadata": {
  "kernelspec": {
   "display_name": "torch1.8",
   "language": "python",
   "name": "woodman"
  },
  "language_info": {
   "codemirror_mode": {
    "name": "ipython",
    "version": 3
   },
   "file_extension": ".py",
   "mimetype": "text/x-python",
   "name": "python",
   "nbconvert_exporter": "python",
   "pygments_lexer": "ipython3",
   "version": "3.8.11"
  },
  "toc-autonumbering": true,
  "toc-showmarkdowntxt": true
 },
 "nbformat": 4,
 "nbformat_minor": 4
}
