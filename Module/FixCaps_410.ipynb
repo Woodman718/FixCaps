{
 "cells": [
  {
   "cell_type": "code",
   "execution_count": 1,
   "metadata": {
    "execution": {
     "iopub.execute_input": "2022-06-09T17:54:31.440780Z",
     "iopub.status.busy": "2022-06-09T17:54:31.438775Z",
     "iopub.status.idle": "2022-06-09T17:54:31.484734Z",
     "shell.execute_reply": "2022-06-09T17:54:31.484734Z",
     "shell.execute_reply.started": "2022-06-09T17:54:31.440780Z"
    },
    "tags": []
   },
   "outputs": [],
   "source": [
    "%load_ext autoreload\n",
    "%autoreload 2"
   ]
  },
  {
   "cell_type": "code",
   "execution_count": 2,
   "metadata": {
    "execution": {
     "iopub.execute_input": "2022-06-09T17:54:31.853403Z",
     "iopub.status.busy": "2022-06-09T17:54:31.852780Z",
     "iopub.status.idle": "2022-06-09T17:54:34.656175Z",
     "shell.execute_reply": "2022-06-09T17:54:34.656175Z",
     "shell.execute_reply.started": "2022-06-09T17:54:31.853403Z"
    },
    "tags": [],
    "uuid": "5cde640c-432f-4f8a-9f00-017bf8c65e34"
   },
   "outputs": [],
   "source": [
    "import torch\n",
    "import sys, os\n",
    "import json\n",
    "import torch.nn as nn  \n",
    "import numpy as np\n",
    "import pandas as pd\n",
    "import matplotlib.pyplot as plt\n",
    "import torch.optim as optim\n",
    "\n",
    "import prettytable\n",
    "import time\n",
    "import sys\n",
    "sys.setrecursionlimit(15000)\n",
    "\n",
    "from PIL import Image\n",
    "from torch.optim import lr_scheduler\n",
    "from sklearn.metrics import roc_auc_score\n",
    "from torch.autograd import Variable\n",
    "from torchvision import datasets, transforms\n",
    "from torchsummary import summary\n",
    "from tqdm.notebook import tqdm\n",
    "from torch.utils.data import random_split\n",
    "\n",
    "from model410 import FixCapsNet\n",
    "from images_show import ImageShow"
   ]
  },
  {
   "cell_type": "code",
   "execution_count": 3,
   "metadata": {
    "execution": {
     "iopub.execute_input": "2022-06-09T17:54:34.657193Z",
     "iopub.status.busy": "2022-06-09T17:54:34.657193Z",
     "iopub.status.idle": "2022-06-09T17:54:34.723149Z",
     "shell.execute_reply": "2022-06-09T17:54:34.720187Z",
     "shell.execute_reply.started": "2022-06-09T17:54:34.657193Z"
    },
    "tags": [],
    "uuid": "a391afe8-e37b-4ef6-ab2e-c0bdbb7849ee"
   },
   "outputs": [],
   "source": [
    "# Settings.\n",
    "sys.path.append(os.pardir)\n",
    "device = torch.device('cuda' if torch.cuda.is_available() else \"cpu\")\n",
    "img_title = \"HAM10000\"\n",
    "best_acc= 0.\n",
    "#defined \n",
    "try:\n",
    "    print(len(test_acc_list))\n",
    "except NameError:\n",
    "    train_loss_list = []\n",
    "    train_acc_list = []\n",
    "    test_loss_list = []\n",
    "    test_acc_list = []\n",
    "    test_auc_list = []\n",
    "    val_loss_list = []\n",
    "    val_acc_list = []\n",
    "#activate ImageShow\n",
    "show = ImageShow(train_loss_list=train_loss_list,\n",
    "                train_acc_list=train_acc_list,\n",
    "                test_loss_list=test_loss_list,\n",
    "                test_acc_list=test_acc_list,\n",
    "                test_auc_list=test_auc_list,\n",
    "                val_loss_list=val_loss_list,\n",
    "                val_acc_list=val_acc_list,\n",
    "                )"
   ]
  },
  {
   "cell_type": "code",
   "execution_count": 4,
   "metadata": {
    "execution": {
     "iopub.execute_input": "2022-06-09T17:54:34.726134Z",
     "iopub.status.busy": "2022-06-09T17:54:34.726134Z",
     "iopub.status.idle": "2022-06-09T17:54:34.783999Z",
     "shell.execute_reply": "2022-06-09T17:54:34.783999Z",
     "shell.execute_reply.started": "2022-06-09T17:54:34.726134Z"
    },
    "tags": []
   },
   "outputs": [],
   "source": [
    "data_transform = {\n",
    "    \"train\": transforms.Compose([transforms.RandomResizedCrop((299, 299)),\n",
    "                                 transforms.RandomVerticalFlip(),\n",
    "                                 transforms.ToTensor(),\n",
    "                                 transforms.Normalize((0.5, 0.5, 0.5), (0.5, 0.5, 0.5))]),\n",
    "    \"val\": transforms.Compose([transforms.Resize((308,308)),\n",
    "                               transforms.CenterCrop((299, 299)),\n",
    "                               transforms.ToTensor(),\n",
    "                               transforms.Normalize((0.5, 0.5, 0.5), (0.5, 0.5, 0.5))\n",
    "                              ])\n",
    "    }"
   ]
  },
  {
   "cell_type": "code",
   "execution_count": 5,
   "metadata": {
    "execution": {
     "iopub.execute_input": "2022-06-09T17:54:34.784992Z",
     "iopub.status.busy": "2022-06-09T17:54:34.784992Z",
     "iopub.status.idle": "2022-06-09T17:54:35.153596Z",
     "shell.execute_reply": "2022-06-09T17:54:35.151635Z",
     "shell.execute_reply.started": "2022-06-09T17:54:34.784992Z"
    },
    "tags": []
   },
   "outputs": [
    {
     "name": "stdout",
     "output_type": "stream",
     "text": [
      "Using 7 types.\n",
      "Using 10 dataloader workers every process.\n",
      "using 51699 images for training, 828 images for validation.\n"
     ]
    }
   ],
   "source": [
    "root_path = os.path.abspath(os.path.join(os.getcwd(), \"..\"))\n",
    "image_path = os.path.abspath(os.path.join(root_path,\"skin_lesion\"))\n",
    "assert os.path.exists(image_path), \"{} path does not exist.\".format(image_path)\n",
    "\n",
    "train_dataset = datasets.ImageFolder(root=os.path.join(image_path, \"train\"),\n",
    "                                     transform=data_transform[\"train\"])\n",
    "test_dataset = datasets.ImageFolder(root=os.path.join(image_path,\"test\"),\n",
    "                                      transform=data_transform[\"val\"])\n",
    "train_num = len(train_dataset)\n",
    "test_num = len(test_dataset)\n",
    "\n",
    "img_sample = Image.open(test_dataset.imgs[1][0])\n",
    "n_channels = np.array(img_sample).shape[2]#(H,W,C)\n",
    "\n",
    "data_list = train_dataset.class_to_idx #\n",
    "cla_dict = dict((val, key) for key, val in data_list.items())\n",
    "n_classes  = len(data_list)\n",
    "print(f'Using {n_classes} types.')\n",
    "\n",
    "# write dict into json file\n",
    "json_str = json.dumps(cla_dict, indent=4)\n",
    "with open(f'{img_title}.json', 'w') as json_file:#class_indices\n",
    "    json_file.write(json_str)\n",
    "\n",
    "BatchSize = 128\n",
    "T_size = 31\n",
    "nw = min([os.cpu_count(), BatchSize if BatchSize > 1 else 0, 10]) \n",
    "print(f'Using {nw} dataloader workers every process.')\n",
    "pin_memory = True\n",
    "train_loader = torch.utils.data.DataLoader(train_dataset, batch_size=BatchSize,pin_memory=pin_memory,\n",
    "                                           shuffle=True, num_workers=nw)\n",
    "test_loader = torch.utils.data.DataLoader(test_dataset,batch_size=T_size,pin_memory=pin_memory,\n",
    "                                          shuffle=False, num_workers=nw)\n",
    "\n",
    "print(\"using {} images for training, {} images for validation.\".format(train_num, test_num))"
   ]
  },
  {
   "cell_type": "code",
   "execution_count": 6,
   "metadata": {
    "execution": {
     "iopub.execute_input": "2022-06-09T17:54:38.214169Z",
     "iopub.status.busy": "2022-06-09T17:54:38.213194Z",
     "iopub.status.idle": "2022-06-09T17:54:40.663584Z",
     "shell.execute_reply": "2022-06-09T17:54:40.663584Z",
     "shell.execute_reply.started": "2022-06-09T17:54:38.214169Z"
    },
    "scrolled": true,
    "tags": [],
    "uuid": "35479142-bb8f-4c72-b31f-04bed7bf7c10"
   },
   "outputs": [
    {
     "name": "stdout",
     "output_type": "stream",
     "text": [
      "----------------------------------------------------------------\n",
      "        Layer (type)               Output Shape         Param #\n",
      "================================================================\n",
      "            Conv2d-1        [-1, 128, 135, 135]         369,024\n",
      "              ReLU-2        [-1, 128, 135, 135]               0\n",
      "FractionalMaxPool2d-3          [-1, 128, 20, 20]               0\n",
      "            Conv2d-4          [-1, 128, 20, 20]          16,384\n",
      "       BatchNorm2d-5          [-1, 128, 20, 20]             256\n",
      "         Hardswish-6          [-1, 128, 20, 20]               0\n",
      " AdaptiveAvgPool2d-7            [-1, 128, 1, 1]               0\n",
      "            Conv2d-8            [-1, 128, 1, 1]          16,384\n",
      "              ReLU-9            [-1, 128, 1, 1]               0\n",
      "           Conv2d-10            [-1, 128, 1, 1]          16,384\n",
      "AdaptiveMaxPool2d-11            [-1, 128, 1, 1]               0\n",
      "           Conv2d-12            [-1, 128, 1, 1]          16,384\n",
      "             ReLU-13            [-1, 128, 1, 1]               0\n",
      "           Conv2d-14            [-1, 128, 1, 1]          16,384\n",
      "          Sigmoid-15            [-1, 128, 1, 1]               0\n",
      " ChannelAttention-16            [-1, 128, 1, 1]               0\n",
      "           Conv2d-17            [-1, 1, 20, 20]              18\n",
      "          Sigmoid-18            [-1, 1, 20, 20]               0\n",
      " SpatialAttention-19            [-1, 1, 20, 20]               0\n",
      "        Conv_CBAM-20          [-1, 128, 20, 20]               0\n",
      "           Conv2d-21             [-1, 16, 6, 6]          10,384\n",
      "         ConvUnit-22             [-1, 16, 6, 6]               0\n",
      "           Conv2d-23             [-1, 16, 6, 6]          10,384\n",
      "         ConvUnit-24             [-1, 16, 6, 6]               0\n",
      "           Conv2d-25             [-1, 16, 6, 6]          10,384\n",
      "         ConvUnit-26             [-1, 16, 6, 6]               0\n",
      "           Conv2d-27             [-1, 16, 6, 6]          10,384\n",
      "         ConvUnit-28             [-1, 16, 6, 6]               0\n",
      "           Conv2d-29             [-1, 16, 6, 6]          10,384\n",
      "         ConvUnit-30             [-1, 16, 6, 6]               0\n",
      "           Conv2d-31             [-1, 16, 6, 6]          10,384\n",
      "         ConvUnit-32             [-1, 16, 6, 6]               0\n",
      "           Conv2d-33             [-1, 16, 6, 6]          10,384\n",
      "         ConvUnit-34             [-1, 16, 6, 6]               0\n",
      "           Conv2d-35             [-1, 16, 6, 6]          10,384\n",
      "         ConvUnit-36             [-1, 16, 6, 6]               0\n",
      "     Primary_Caps-37               [-1, 8, 576]               0\n",
      "      Digits_Caps-38             [-1, 7, 16, 1]               0\n",
      "================================================================\n",
      "Total params: 534,290\n",
      "Trainable params: 534,290\n",
      "Non-trainable params: 0\n",
      "----------------------------------------------------------------\n",
      "Input size (MB): 1.02\n",
      "Forward/backward pass size (MB): 37.67\n",
      "Params size (MB): 2.04\n",
      "Estimated Total Size (MB): 40.74\n",
      "----------------------------------------------------------------\n"
     ]
    }
   ],
   "source": [
    "# Create capsule network.\n",
    "conv_outputs = 128 #128_Feature_map\n",
    "num_primary_units = 8\n",
    "primary_unit_size = 16 * 6 * 6\n",
    "output_unit_size = 16\n",
    "img_size = 299\n",
    "network = FixCapsNet(conv_inputs= n_channels,\n",
    "                     conv_outputs=conv_outputs,\n",
    "                     num_primary_units=num_primary_units,\n",
    "                     primary_unit_size=primary_unit_size,\n",
    "                     output_unit_size=output_unit_size,\n",
    "                     num_classes=n_classes,\n",
    "                     init_weights=True,mode=\"128\")\n",
    "\n",
    "network = network.to(device)\n",
    "summary(network,(n_channels,img_size,img_size))\n",
    "# network"
   ]
  },
  {
   "cell_type": "code",
   "execution_count": 7,
   "metadata": {
    "execution": {
     "iopub.execute_input": "2022-06-09T17:54:42.377646Z",
     "iopub.status.busy": "2022-06-09T17:54:42.377646Z",
     "iopub.status.idle": "2022-06-09T17:54:42.433659Z",
     "shell.execute_reply": "2022-06-09T17:54:42.433659Z",
     "shell.execute_reply.started": "2022-06-09T17:54:42.377646Z"
    },
    "tags": []
   },
   "outputs": [
    {
     "data": {
      "text/plain": [
       "Sequential(\n",
       "  (0): Conv2d(3, 128, kernel_size=(31, 31), stride=(2, 2), bias=False)\n",
       "  (1): ReLU(inplace=True)\n",
       "  (2): FractionalMaxPool2d()\n",
       ")"
      ]
     },
     "execution_count": 7,
     "metadata": {},
     "output_type": "execute_result"
    }
   ],
   "source": [
    "network.Convolution"
   ]
  },
  {
   "cell_type": "code",
   "execution_count": 8,
   "metadata": {
    "execution": {
     "iopub.execute_input": "2022-06-09T17:54:42.921280Z",
     "iopub.status.busy": "2022-06-09T17:54:42.919278Z",
     "iopub.status.idle": "2022-06-09T17:54:42.992166Z",
     "shell.execute_reply": "2022-06-09T17:54:42.992166Z",
     "shell.execute_reply.started": "2022-06-09T17:54:42.921280Z"
    },
    "tags": []
   },
   "outputs": [],
   "source": [
    "learning_rate = 0.123\n",
    "optimizer = optim.Adam(network.parameters(), lr=learning_rate)\n",
    "scheduler = lr_scheduler.CosineAnnealingLR(optimizer, 5, eta_min=1e-8, last_epoch=-1)"
   ]
  },
  {
   "cell_type": "code",
   "execution_count": 9,
   "metadata": {
    "execution": {
     "iopub.execute_input": "2022-06-09T17:54:49.062734Z",
     "iopub.status.busy": "2022-06-09T17:54:49.061736Z",
     "iopub.status.idle": "2022-06-09T17:54:49.128984Z",
     "shell.execute_reply": "2022-06-09T17:54:49.128984Z",
     "shell.execute_reply.started": "2022-06-09T17:54:49.062734Z"
    },
    "tags": []
   },
   "outputs": [],
   "source": [
    "def confusion_matrix(evl_result):\n",
    "\n",
    "    plt.style.use(\"seaborn\")#classic\n",
    "    plt.yticks(range(n_classes),cla_dict.values())\n",
    "    plt.xticks(range(n_classes),cla_dict.values())    \n",
    "    plt.title(\"Confusion Matrix\")\n",
    "    plt.imshow(evl_result,cmap=plt.cm.Greens)\n",
    "    for i in range(len(evl_result)):\n",
    "        for j in range(len(evl_result[i])):\n",
    "            plt.text(j,i,int(evl_result[i][j]))\n",
    "\n",
    "    plt.colorbar()\n",
    "    plt.savefig(f\"./tmp/{img_title}/{suf}/Confusion Matrix.png\",dpi=128)"
   ]
  },
  {
   "cell_type": "code",
   "execution_count": 10,
   "metadata": {
    "execution": {
     "iopub.execute_input": "2022-06-09T17:54:49.589463Z",
     "iopub.status.busy": "2022-06-09T17:54:49.589463Z",
     "iopub.status.idle": "2022-06-09T17:54:49.659898Z",
     "shell.execute_reply": "2022-06-09T17:54:49.656851Z",
     "shell.execute_reply.started": "2022-06-09T17:54:49.589463Z"
    },
    "tags": []
   },
   "outputs": [],
   "source": [
    "def self_scores(opt=\"scores\"):\n",
    "    result_table = prettytable.PrettyTable()\n",
    "    result_table.field_names = ['Type','Precision', 'Recall', 'F1','Accuracy']    \n",
    "    accuracy = float(torch.sum(evl_result.diagonal())/torch.sum(evl_result))\n",
    "\n",
    "    for i in range(n_classes):\n",
    "        pre = float(evl_result[i][i] / torch.sum(evl_result,0)[i])#\n",
    "        recal = float(evl_result[i][i] / torch.sum(evl_result,1)[i])#torch.sum(result_table[i])\n",
    "        F1 = pre * recal * 2 / (pre + recal + 1e-7)\n",
    "        result_table.add_row([cla_dict[i], round(pre, 4), round(recal, 3), round(F1, 3),\" \"])\n",
    "\n",
    "    result_table.add_row([\"Total:\", \" \", \" \", \" \",round(accuracy,4)])\n",
    "    print(result_table)"
   ]
  },
  {
   "cell_type": "code",
   "execution_count": 11,
   "metadata": {
    "execution": {
     "iopub.execute_input": "2022-06-09T17:54:50.154001Z",
     "iopub.status.busy": "2022-06-09T17:54:50.152567Z",
     "iopub.status.idle": "2022-06-09T17:54:50.215235Z",
     "shell.execute_reply": "2022-06-09T17:54:50.215235Z",
     "shell.execute_reply.started": "2022-06-09T17:54:50.154001Z"
    },
    "tags": []
   },
   "outputs": [],
   "source": [
    "# Converts batches of class indices to classes of one-hot vectors.\n",
    "def to_one_hot(x, length):\n",
    "    batch_size = x.size(0)\n",
    "    x_one_hot = torch.zeros(batch_size, length)\n",
    "    for i in range(batch_size):\n",
    "        x_one_hot[i, x[i]] = 1.0\n",
    "    return x_one_hot"
   ]
  },
  {
   "cell_type": "code",
   "execution_count": 12,
   "metadata": {
    "execution": {
     "iopub.execute_input": "2022-06-09T17:54:50.905882Z",
     "iopub.status.busy": "2022-06-09T17:54:50.905882Z",
     "iopub.status.idle": "2022-06-09T17:54:50.974390Z",
     "shell.execute_reply": "2022-06-09T17:54:50.974390Z",
     "shell.execute_reply.started": "2022-06-09T17:54:50.905882Z"
    },
    "tags": [],
    "uuid": "86f92f63-16e2-4ca6-b5da-d848546a391e"
   },
   "outputs": [],
   "source": [
    "def train(epoch):\n",
    "    network.train()\n",
    "    running_loss,r_pre = 0., 0.\n",
    "    print_step = len(train_loader)//2\n",
    "    print(f'Epoch: [{epoch}] {img_title} ==> Training ...')\n",
    "    \n",
    "    for batch_idx, (data, target) in enumerate(tqdm(train_loader)):        \n",
    "        # target = torch.as_tensor(target, dtype=torch.int64)#for windows\n",
    "\n",
    "        batch_idx += 1\n",
    "        target_indices = target\n",
    "        target_one_hot = to_one_hot(target, length=n_classes)\n",
    "        data, target = Variable(data).to(device), Variable(target_one_hot).to(device)\n",
    "        optimizer.zero_grad()\n",
    "        output = network(data)\n",
    "\n",
    "        v_mag = torch.sqrt(torch.sum(output**2, dim=2, keepdim=True)) \n",
    "        pred = v_mag.data.max(1, keepdim=True)[1].cpu().squeeze()\n",
    "        r_pre += pred.eq(target_indices.view_as(pred)).squeeze().sum()\n",
    "        \n",
    "        loss = network.loss(output, target)\n",
    "        loss.backward()\n",
    "        optimizer.step()\n",
    "        running_loss += loss.item()\n",
    "        if batch_idx % print_step == 0:\n",
    "            print(\"[{}/{}] Loss{:.5f}, ACC:{:.5f}%\".format(batch_idx,len(train_loader),\n",
    "                                                           loss,\n",
    "                                                           r_pre/(batch_idx*BatchSize),))\n",
    "    epoch_acc = r_pre / train_num\n",
    "    epoch_loss = running_loss / len(train_loader)    \n",
    "    train_loss_list.append(epoch_loss)\n",
    "    train_acc_list.append(epoch_acc)\n",
    "    \n",
    "    print(f'Train_Loss: {epoch_loss},ACC:{round(float(epoch_acc),3)}%')   \n",
    "    scheduler.step()"
   ]
  },
  {
   "cell_type": "code",
   "execution_count": 13,
   "metadata": {
    "execution": {
     "iopub.execute_input": "2022-06-09T17:54:52.346424Z",
     "iopub.status.busy": "2022-06-09T17:54:52.346424Z",
     "iopub.status.idle": "2022-06-09T17:54:52.400638Z",
     "shell.execute_reply": "2022-06-09T17:54:52.400638Z",
     "shell.execute_reply.started": "2022-06-09T17:54:52.346424Z"
    },
    "tags": [],
    "uuid": "f010e769-677f-416b-8ce8-9f4186dce054"
   },
   "outputs": [],
   "source": [
    "def test():\n",
    "    network.eval()\n",
    "    global best_acc,evl_result,evl_tmp_result,net_parameters\n",
    "    cor_loss,correct,tmp_size, Acc=  0, 0, 0, 0\n",
    "    evl_tmp_result = torch.zeros(n_classes,n_classes)\n",
    "    steps_num = len(test_loader)#len(test_loader) * T_size\n",
    "    tmp_size = T_size\n",
    "    print(f'\\033[66m{img_title} ==> testing ...\\033[0m')\n",
    "    with torch.no_grad():\n",
    "        for batch_idx, (data, target) in enumerate(tqdm(test_loader)):\n",
    "\n",
    "            batch_idx +=1\n",
    "            target_indices = target\n",
    "            #torch.Size([128, 7]),tensor([[0., 0., 0., 0., 0., 1., 0.],...,[0., 0., 0., 0., 0., 1., 0.]])\n",
    "            target_one_hot = to_one_hot(target_indices, length=n_classes)            \n",
    "            data, target = Variable(data).to(device), Variable(target_one_hot).to(device)\n",
    "            output = network(data)#torch.Size([batch_size, 7, 16, 1])        \n",
    "            v_mag = torch.sqrt(torch.sum(output**2, dim=2, keepdim=True)) \n",
    "            pred = v_mag.data.max(1, keepdim=True)[1].cpu()#[9, 2, 1, 1, 6,..., 1, 4, 6, 5, 7,]  \n",
    "               \n",
    "            if batch_idx % steps_num == 0 and test_num % T_size != 0:\n",
    "                tmp_size = test_num % T_size\n",
    "\n",
    "            for i in range(tmp_size):\n",
    "                pred_y = pred.numpy()         \n",
    "                evl_tmp_result[target_indices[i]][pred[i]] +=1 \n",
    "    \n",
    "    diag_sum = torch.sum(evl_tmp_result.diagonal())\n",
    "    all_sum = torch.sum(evl_tmp_result)   \n",
    "    accuracy = 100. * float(torch.div(diag_sum,all_sum)) \n",
    "    test_acc_list.append(accuracy)\n",
    "    \n",
    "    print(f\"Test_Acc:\\033[1;32m{round(float(accuracy),3)}%\\033[0m\")\n",
    "\n",
    "    if accuracy > best_acc:\n",
    "        best_acc = accuracy\n",
    "        evl_result = evl_tmp_result.clone()#copy.deepcopy(input)\n",
    "        torch.save(network.state_dict(), save_PATH)\n",
    "        torch.save(evl_result, f'./tmp/{img_title}/{suf}/best_evl_result.pt')\n",
    "        \n",
    "    print(f'Best_ACC[\\033[1;32m{round(float(best_acc),3)}%\\033[0m]')"
   ]
  },
  {
   "cell_type": "code",
   "execution_count": 14,
   "metadata": {
    "execution": {
     "iopub.execute_input": "2022-06-09T17:54:54.202625Z",
     "iopub.status.busy": "2022-06-09T17:54:54.202625Z",
     "iopub.status.idle": "2022-06-09T17:54:54.288159Z",
     "shell.execute_reply": "2022-06-09T17:54:54.287868Z",
     "shell.execute_reply.started": "2022-06-09T17:54:54.202625Z"
    },
    "tags": []
   },
   "outputs": [
    {
     "name": "stdout",
     "output_type": "stream",
     "text": [
      "suf:0610_015454\n",
      "./tmp/HAM10000/0610_015454/best_HAM10000_0610_015454.pth\n"
     ]
    },
    {
     "name": "stderr",
     "output_type": "stream",
     "text": [
      "子目录或文件 #windows 已经存在。\n",
      "处理: #windows 时出错。\n"
     ]
    }
   ],
   "source": [
    "#create store\n",
    "try:\n",
    "    print(f\"suf:{suf}\")\n",
    "except NameError:\n",
    "    suf = time.strftime(\"%m%d_%H%M%S\", time.localtime())\n",
    "    print(f\"suf:{suf}\")\n",
    "if os.path.exists(f'./tmp/{img_title}/{suf}'):\n",
    "    print (f'Store: ./tmp/{img_title}/{suf}')\n",
    "else:\n",
    "#     !mkdir -p ./tmp/{img_title}/{suf} #linux\n",
    "    !md E:\\Jupyter\\woodman\\Caps\\FixCaps\\tmp\\{img_title}\\{suf} #windows\n",
    "save_PATH = f'./tmp/{img_title}/{suf}/best_{img_title}_{suf}.pth'\n",
    "print(save_PATH)"
   ]
  },
  {
   "cell_type": "code",
   "execution_count": 15,
   "metadata": {
    "execution": {
     "iopub.execute_input": "2022-06-09T17:54:58.920189Z",
     "iopub.status.busy": "2022-06-09T17:54:58.919194Z",
     "iopub.status.idle": "2022-06-09T17:54:58.970174Z",
     "shell.execute_reply": "2022-06-09T17:54:58.970174Z",
     "shell.execute_reply.started": "2022-06-09T17:54:58.920189Z"
    },
    "scrolled": true,
    "tags": [],
    "uuid": "edaf3774-de76-44a5-aabd-fb52532ea36e"
   },
   "outputs": [],
   "source": [
    "num_epochs = 200"
   ]
  },
  {
   "cell_type": "code",
   "execution_count": 16,
   "metadata": {
    "execution": {
     "iopub.execute_input": "2022-06-09T17:54:59.430602Z",
     "iopub.status.busy": "2022-06-09T17:54:59.429604Z",
     "iopub.status.idle": "2022-06-10T01:52:57.897306Z",
     "shell.execute_reply": "2022-06-10T01:52:57.897306Z",
     "shell.execute_reply.started": "2022-06-09T17:54:59.430602Z"
    },
    "scrolled": true,
    "tags": [],
    "uuid": "edaf3774-de76-44a5-aabd-fb52532ea36e"
   },
   "outputs": [
    {
     "name": "stdout",
     "output_type": "stream",
     "text": [
      "Epoch: [1] HAM10000 ==> Training ...\n"
     ]
    },
    {
     "data": {
      "application/vnd.jupyter.widget-view+json": {
       "model_id": "5f0565bf6e514f9aabde2a8109b108b9",
       "version_major": 2,
       "version_minor": 0
      },
      "text/plain": [
       "  0%|          | 0/404 [00:00<?, ?it/s]"
      ]
     },
     "metadata": {},
     "output_type": "display_data"
    },
    {
     "name": "stdout",
     "output_type": "stream",
     "text": [
      "[202/404] Loss0.45381, ACC:0.16611%\n",
      "[404/404] Loss0.35907, ACC:0.27123%\n",
      "Train_Loss: 0.44279162917691883,ACC:0.271%\n",
      "\u001b[66mHAM10000 ==> testing ...\u001b[0m\n"
     ]
    },
    {
     "data": {
      "application/vnd.jupyter.widget-view+json": {
       "model_id": "64360c58016e442ab736a72b993a2463",
       "version_major": 2,
       "version_minor": 0
      },
      "text/plain": [
       "  0%|          | 0/27 [00:00<?, ?it/s]"
      ]
     },
     "metadata": {},
     "output_type": "display_data"
    },
    {
     "name": "stdout",
     "output_type": "stream",
     "text": [
      "Test_Acc:\u001b[1;32m58.213%\u001b[0m\n",
      "Best_ACC[\u001b[1;32m58.213%\u001b[0m]\n",
      "Epoch: [2] HAM10000 ==> Training ...\n"
     ]
    },
    {
     "data": {
      "application/vnd.jupyter.widget-view+json": {
       "model_id": "5fcfa469362b4488832121aa413fc5d4",
       "version_major": 2,
       "version_minor": 0
      },
      "text/plain": [
       "  0%|          | 0/404 [00:00<?, ?it/s]"
      ]
     },
     "metadata": {},
     "output_type": "display_data"
    },
    {
     "name": "stdout",
     "output_type": "stream",
     "text": [
      "[202/404] Loss0.31982, ACC:0.45757%\n",
      "[404/404] Loss0.33147, ACC:0.47532%\n",
      "Train_Loss: 0.3426041427520242,ACC:0.475%\n",
      "\u001b[66mHAM10000 ==> testing ...\u001b[0m\n"
     ]
    },
    {
     "data": {
      "application/vnd.jupyter.widget-view+json": {
       "model_id": "6b377b6c26634832af80a810321d173c",
       "version_major": 2,
       "version_minor": 0
      },
      "text/plain": [
       "  0%|          | 0/27 [00:00<?, ?it/s]"
      ]
     },
     "metadata": {},
     "output_type": "display_data"
    },
    {
     "name": "stdout",
     "output_type": "stream",
     "text": [
      "Test_Acc:\u001b[1;32m85.266%\u001b[0m\n",
      "Best_ACC[\u001b[1;32m85.266%\u001b[0m]\n",
      "Epoch: [3] HAM10000 ==> Training ...\n"
     ]
    },
    {
     "data": {
      "application/vnd.jupyter.widget-view+json": {
       "model_id": "f47f1a672ff34113810b6c08967a03fd",
       "version_major": 2,
       "version_minor": 0
      },
      "text/plain": [
       "  0%|          | 0/404 [00:00<?, ?it/s]"
      ]
     },
     "metadata": {},
     "output_type": "display_data"
    },
    {
     "name": "stdout",
     "output_type": "stream",
     "text": [
      "[202/404] Loss0.31989, ACC:0.51586%\n",
      "[404/404] Loss0.30012, ACC:0.52027%\n",
      "Train_Loss: 0.3162578745643691,ACC:0.52%\n",
      "\u001b[66mHAM10000 ==> testing ...\u001b[0m\n"
     ]
    },
    {
     "data": {
      "application/vnd.jupyter.widget-view+json": {
       "model_id": "9718409996f548b8adbd454a394fb2cc",
       "version_major": 2,
       "version_minor": 0
      },
      "text/plain": [
       "  0%|          | 0/27 [00:00<?, ?it/s]"
      ]
     },
     "metadata": {},
     "output_type": "display_data"
    },
    {
     "name": "stdout",
     "output_type": "stream",
     "text": [
      "Test_Acc:\u001b[1;32m85.749%\u001b[0m\n",
      "Best_ACC[\u001b[1;32m85.749%\u001b[0m]\n",
      "Epoch: [4] HAM10000 ==> Training ...\n"
     ]
    },
    {
     "data": {
      "application/vnd.jupyter.widget-view+json": {
       "model_id": "cb5844ec117c421893a6b3656274fb4f",
       "version_major": 2,
       "version_minor": 0
      },
      "text/plain": [
       "  0%|          | 0/404 [00:00<?, ?it/s]"
      ]
     },
     "metadata": {},
     "output_type": "display_data"
    },
    {
     "name": "stdout",
     "output_type": "stream",
     "text": [
      "[202/404] Loss0.31646, ACC:0.54773%\n",
      "[404/404] Loss0.29024, ACC:0.55094%\n",
      "Train_Loss: 0.29905215665550516,ACC:0.551%\n",
      "\u001b[66mHAM10000 ==> testing ...\u001b[0m\n"
     ]
    },
    {
     "data": {
      "application/vnd.jupyter.widget-view+json": {
       "model_id": "c9ea8ca55d52498b9908c3cbcd3e8fa3",
       "version_major": 2,
       "version_minor": 0
      },
      "text/plain": [
       "  0%|          | 0/27 [00:00<?, ?it/s]"
      ]
     },
     "metadata": {},
     "output_type": "display_data"
    },
    {
     "name": "stdout",
     "output_type": "stream",
     "text": [
      "Test_Acc:\u001b[1;32m84.783%\u001b[0m\n",
      "Best_ACC[\u001b[1;32m85.749%\u001b[0m]\n",
      "Epoch: [5] HAM10000 ==> Training ...\n"
     ]
    },
    {
     "data": {
      "application/vnd.jupyter.widget-view+json": {
       "model_id": "b77821e3ad6d457ea270eaef58b7d919",
       "version_major": 2,
       "version_minor": 0
      },
      "text/plain": [
       "  0%|          | 0/404 [00:00<?, ?it/s]"
      ]
     },
     "metadata": {},
     "output_type": "display_data"
    },
    {
     "name": "stdout",
     "output_type": "stream",
     "text": [
      "[202/404] Loss0.27567, ACC:0.56482%\n",
      "[404/404] Loss0.29188, ACC:0.56403%\n",
      "Train_Loss: 0.29043580163823496,ACC:0.564%\n",
      "\u001b[66mHAM10000 ==> testing ...\u001b[0m\n"
     ]
    },
    {
     "data": {
      "application/vnd.jupyter.widget-view+json": {
       "model_id": "4a85c5c3b99b46929efd3226d22f7f97",
       "version_major": 2,
       "version_minor": 0
      },
      "text/plain": [
       "  0%|          | 0/27 [00:00<?, ?it/s]"
      ]
     },
     "metadata": {},
     "output_type": "display_data"
    },
    {
     "name": "stdout",
     "output_type": "stream",
     "text": [
      "Test_Acc:\u001b[1;32m86.715%\u001b[0m\n",
      "Best_ACC[\u001b[1;32m86.715%\u001b[0m]\n",
      "Epoch: [6] HAM10000 ==> Training ...\n"
     ]
    },
    {
     "data": {
      "application/vnd.jupyter.widget-view+json": {
       "model_id": "17539284282744c184b72497ffda31fe",
       "version_major": 2,
       "version_minor": 0
      },
      "text/plain": [
       "  0%|          | 0/404 [00:00<?, ?it/s]"
      ]
     },
     "metadata": {},
     "output_type": "display_data"
    },
    {
     "name": "stdout",
     "output_type": "stream",
     "text": [
      "[202/404] Loss0.28765, ACC:0.56409%\n",
      "[404/404] Loss0.26921, ACC:0.56656%\n",
      "Train_Loss: 0.2874802616194333,ACC:0.567%\n",
      "\u001b[66mHAM10000 ==> testing ...\u001b[0m\n"
     ]
    },
    {
     "data": {
      "application/vnd.jupyter.widget-view+json": {
       "model_id": "861cbfd0748c42d383f455a3aa3c72e9",
       "version_major": 2,
       "version_minor": 0
      },
      "text/plain": [
       "  0%|          | 0/27 [00:00<?, ?it/s]"
      ]
     },
     "metadata": {},
     "output_type": "display_data"
    },
    {
     "name": "stdout",
     "output_type": "stream",
     "text": [
      "Test_Acc:\u001b[1;32m86.594%\u001b[0m\n",
      "Best_ACC[\u001b[1;32m86.715%\u001b[0m]\n",
      "Epoch: [7] HAM10000 ==> Training ...\n"
     ]
    },
    {
     "data": {
      "application/vnd.jupyter.widget-view+json": {
       "model_id": "bb893d80a9e04edd99006dca9bb64fc0",
       "version_major": 2,
       "version_minor": 0
      },
      "text/plain": [
       "  0%|          | 0/404 [00:00<?, ?it/s]"
      ]
     },
     "metadata": {},
     "output_type": "display_data"
    },
    {
     "name": "stdout",
     "output_type": "stream",
     "text": [
      "[202/404] Loss0.28121, ACC:0.57654%\n",
      "[404/404] Loss0.31756, ACC:0.57310%\n",
      "Train_Loss: 0.28571631965955885,ACC:0.573%\n",
      "\u001b[66mHAM10000 ==> testing ...\u001b[0m\n"
     ]
    },
    {
     "data": {
      "application/vnd.jupyter.widget-view+json": {
       "model_id": "9cdc3d8637df4eb586df70b023786135",
       "version_major": 2,
       "version_minor": 0
      },
      "text/plain": [
       "  0%|          | 0/27 [00:00<?, ?it/s]"
      ]
     },
     "metadata": {},
     "output_type": "display_data"
    },
    {
     "name": "stdout",
     "output_type": "stream",
     "text": [
      "Test_Acc:\u001b[1;32m85.87%\u001b[0m\n",
      "Best_ACC[\u001b[1;32m86.715%\u001b[0m]\n",
      "Epoch: [8] HAM10000 ==> Training ...\n"
     ]
    },
    {
     "data": {
      "application/vnd.jupyter.widget-view+json": {
       "model_id": "18378527d3394b79b7806e7bd565ce2c",
       "version_major": 2,
       "version_minor": 0
      },
      "text/plain": [
       "  0%|          | 0/404 [00:00<?, ?it/s]"
      ]
     },
     "metadata": {},
     "output_type": "display_data"
    },
    {
     "name": "stdout",
     "output_type": "stream",
     "text": [
      "[202/404] Loss0.28586, ACC:0.56888%\n",
      "[404/404] Loss0.26088, ACC:0.57103%\n",
      "Train_Loss: 0.2869263879290902,ACC:0.571%\n",
      "\u001b[66mHAM10000 ==> testing ...\u001b[0m\n"
     ]
    },
    {
     "data": {
      "application/vnd.jupyter.widget-view+json": {
       "model_id": "ee863c4c6d6845dcb2f237e3e12011b1",
       "version_major": 2,
       "version_minor": 0
      },
      "text/plain": [
       "  0%|          | 0/27 [00:00<?, ?it/s]"
      ]
     },
     "metadata": {},
     "output_type": "display_data"
    },
    {
     "name": "stdout",
     "output_type": "stream",
     "text": [
      "Test_Acc:\u001b[1;32m80.314%\u001b[0m\n",
      "Best_ACC[\u001b[1;32m86.715%\u001b[0m]\n",
      "Epoch: [9] HAM10000 ==> Training ...\n"
     ]
    },
    {
     "data": {
      "application/vnd.jupyter.widget-view+json": {
       "model_id": "d48e406bfd0948898c7b9d38806dc1d4",
       "version_major": 2,
       "version_minor": 0
      },
      "text/plain": [
       "  0%|          | 0/404 [00:00<?, ?it/s]"
      ]
     },
     "metadata": {},
     "output_type": "display_data"
    },
    {
     "name": "stdout",
     "output_type": "stream",
     "text": [
      "[202/404] Loss0.32650, ACC:0.57232%\n",
      "[404/404] Loss0.28923, ACC:0.57321%\n",
      "Train_Loss: 0.2855691477508828,ACC:0.573%\n",
      "\u001b[66mHAM10000 ==> testing ...\u001b[0m\n"
     ]
    },
    {
     "data": {
      "application/vnd.jupyter.widget-view+json": {
       "model_id": "3eac682e0f4449a48977d6ab4debb3e6",
       "version_major": 2,
       "version_minor": 0
      },
      "text/plain": [
       "  0%|          | 0/27 [00:00<?, ?it/s]"
      ]
     },
     "metadata": {},
     "output_type": "display_data"
    },
    {
     "name": "stdout",
     "output_type": "stream",
     "text": [
      "Test_Acc:\u001b[1;32m80.435%\u001b[0m\n",
      "Best_ACC[\u001b[1;32m86.715%\u001b[0m]\n",
      "Epoch: [10] HAM10000 ==> Training ...\n"
     ]
    },
    {
     "data": {
      "application/vnd.jupyter.widget-view+json": {
       "model_id": "e7e8430f808149ebb78c29bb6ddaf5e0",
       "version_major": 2,
       "version_minor": 0
      },
      "text/plain": [
       "  0%|          | 0/404 [00:00<?, ?it/s]"
      ]
     },
     "metadata": {},
     "output_type": "display_data"
    },
    {
     "name": "stdout",
     "output_type": "stream",
     "text": [
      "[202/404] Loss0.27522, ACC:0.57449%\n",
      "[404/404] Loss0.25561, ACC:0.58000%\n",
      "Train_Loss: 0.28192953038776275,ACC:0.58%\n",
      "\u001b[66mHAM10000 ==> testing ...\u001b[0m\n"
     ]
    },
    {
     "data": {
      "application/vnd.jupyter.widget-view+json": {
       "model_id": "a95a8a87058b432498a57489731a8ec0",
       "version_major": 2,
       "version_minor": 0
      },
      "text/plain": [
       "  0%|          | 0/27 [00:00<?, ?it/s]"
      ]
     },
     "metadata": {},
     "output_type": "display_data"
    },
    {
     "name": "stdout",
     "output_type": "stream",
     "text": [
      "Test_Acc:\u001b[1;32m84.783%\u001b[0m\n",
      "Best_ACC[\u001b[1;32m86.715%\u001b[0m]\n",
      "Epoch: [11] HAM10000 ==> Training ...\n"
     ]
    },
    {
     "data": {
      "application/vnd.jupyter.widget-view+json": {
       "model_id": "3496e29155dc4d4fb76c21dafb3acdaa",
       "version_major": 2,
       "version_minor": 0
      },
      "text/plain": [
       "  0%|          | 0/404 [00:00<?, ?it/s]"
      ]
     },
     "metadata": {},
     "output_type": "display_data"
    },
    {
     "name": "stdout",
     "output_type": "stream",
     "text": [
      "[202/404] Loss0.25197, ACC:0.58582%\n",
      "[404/404] Loss0.30773, ACC:0.59207%\n",
      "Train_Loss: 0.2746907652604698,ACC:0.592%\n",
      "\u001b[66mHAM10000 ==> testing ...\u001b[0m\n"
     ]
    },
    {
     "data": {
      "application/vnd.jupyter.widget-view+json": {
       "model_id": "fbac3aa7a34b44bb8d1d17659c260334",
       "version_major": 2,
       "version_minor": 0
      },
      "text/plain": [
       "  0%|          | 0/27 [00:00<?, ?it/s]"
      ]
     },
     "metadata": {},
     "output_type": "display_data"
    },
    {
     "name": "stdout",
     "output_type": "stream",
     "text": [
      "Test_Acc:\u001b[1;32m85.749%\u001b[0m\n",
      "Best_ACC[\u001b[1;32m86.715%\u001b[0m]\n",
      "Epoch: [12] HAM10000 ==> Training ...\n"
     ]
    },
    {
     "data": {
      "application/vnd.jupyter.widget-view+json": {
       "model_id": "93614e0b95e74fb98fd9b67f69d5f1bf",
       "version_major": 2,
       "version_minor": 0
      },
      "text/plain": [
       "  0%|          | 0/404 [00:00<?, ?it/s]"
      ]
     },
     "metadata": {},
     "output_type": "display_data"
    },
    {
     "name": "stdout",
     "output_type": "stream",
     "text": [
      "[202/404] Loss0.26513, ACC:0.60644%\n",
      "[404/404] Loss0.24992, ACC:0.60765%\n",
      "Train_Loss: 0.26558673964573604,ACC:0.608%\n",
      "\u001b[66mHAM10000 ==> testing ...\u001b[0m\n"
     ]
    },
    {
     "data": {
      "application/vnd.jupyter.widget-view+json": {
       "model_id": "fcbed7a9380e47e6824cb52ff172556f",
       "version_major": 2,
       "version_minor": 0
      },
      "text/plain": [
       "  0%|          | 0/27 [00:00<?, ?it/s]"
      ]
     },
     "metadata": {},
     "output_type": "display_data"
    },
    {
     "name": "stdout",
     "output_type": "stream",
     "text": [
      "Test_Acc:\u001b[1;32m76.812%\u001b[0m\n",
      "Best_ACC[\u001b[1;32m86.715%\u001b[0m]\n",
      "Epoch: [13] HAM10000 ==> Training ...\n"
     ]
    },
    {
     "data": {
      "application/vnd.jupyter.widget-view+json": {
       "model_id": "bc70fce957a94ef7ba5f0894062b04cd",
       "version_major": 2,
       "version_minor": 0
      },
      "text/plain": [
       "  0%|          | 0/404 [00:00<?, ?it/s]"
      ]
     },
     "metadata": {},
     "output_type": "display_data"
    },
    {
     "name": "stdout",
     "output_type": "stream",
     "text": [
      "[202/404] Loss0.24219, ACC:0.62369%\n",
      "[404/404] Loss0.25551, ACC:0.62423%\n",
      "Train_Loss: 0.2556986235598526,ACC:0.624%\n",
      "\u001b[66mHAM10000 ==> testing ...\u001b[0m\n"
     ]
    },
    {
     "data": {
      "application/vnd.jupyter.widget-view+json": {
       "model_id": "05a1b5e2d1e645bd8c28b053d5584909",
       "version_major": 2,
       "version_minor": 0
      },
      "text/plain": [
       "  0%|          | 0/27 [00:00<?, ?it/s]"
      ]
     },
     "metadata": {},
     "output_type": "display_data"
    },
    {
     "name": "stdout",
     "output_type": "stream",
     "text": [
      "Test_Acc:\u001b[1;32m85.145%\u001b[0m\n",
      "Best_ACC[\u001b[1;32m86.715%\u001b[0m]\n",
      "Epoch: [14] HAM10000 ==> Training ...\n"
     ]
    },
    {
     "data": {
      "application/vnd.jupyter.widget-view+json": {
       "model_id": "bf807b168651426ebbf9c61eadbe2005",
       "version_major": 2,
       "version_minor": 0
      },
      "text/plain": [
       "  0%|          | 0/404 [00:00<?, ?it/s]"
      ]
     },
     "metadata": {},
     "output_type": "display_data"
    },
    {
     "name": "stdout",
     "output_type": "stream",
     "text": [
      "[202/404] Loss0.25347, ACC:0.63803%\n",
      "[404/404] Loss0.22354, ACC:0.63763%\n",
      "Train_Loss: 0.24714718504559877,ACC:0.638%\n",
      "\u001b[66mHAM10000 ==> testing ...\u001b[0m\n"
     ]
    },
    {
     "data": {
      "application/vnd.jupyter.widget-view+json": {
       "model_id": "e5f8d01b546b4e72954b7801ce91eb04",
       "version_major": 2,
       "version_minor": 0
      },
      "text/plain": [
       "  0%|          | 0/27 [00:00<?, ?it/s]"
      ]
     },
     "metadata": {},
     "output_type": "display_data"
    },
    {
     "name": "stdout",
     "output_type": "stream",
     "text": [
      "Test_Acc:\u001b[1;32m87.56%\u001b[0m\n",
      "Best_ACC[\u001b[1;32m87.56%\u001b[0m]\n",
      "Epoch: [15] HAM10000 ==> Training ...\n"
     ]
    },
    {
     "data": {
      "application/vnd.jupyter.widget-view+json": {
       "model_id": "9991832b6d1847ff81b3284b53403215",
       "version_major": 2,
       "version_minor": 0
      },
      "text/plain": [
       "  0%|          | 0/404 [00:00<?, ?it/s]"
      ]
     },
     "metadata": {},
     "output_type": "display_data"
    },
    {
     "name": "stdout",
     "output_type": "stream",
     "text": [
      "[202/404] Loss0.22536, ACC:0.64616%\n",
      "[404/404] Loss0.20471, ACC:0.64851%\n",
      "Train_Loss: 0.23973354516495574,ACC:0.649%\n",
      "\u001b[66mHAM10000 ==> testing ...\u001b[0m\n"
     ]
    },
    {
     "data": {
      "application/vnd.jupyter.widget-view+json": {
       "model_id": "02ff17ea2fda45b6807b38afc84418a4",
       "version_major": 2,
       "version_minor": 0
      },
      "text/plain": [
       "  0%|          | 0/27 [00:00<?, ?it/s]"
      ]
     },
     "metadata": {},
     "output_type": "display_data"
    },
    {
     "name": "stdout",
     "output_type": "stream",
     "text": [
      "Test_Acc:\u001b[1;32m87.681%\u001b[0m\n",
      "Best_ACC[\u001b[1;32m87.681%\u001b[0m]\n",
      "Epoch: [16] HAM10000 ==> Training ...\n"
     ]
    },
    {
     "data": {
      "application/vnd.jupyter.widget-view+json": {
       "model_id": "2b8207227e5345ddb47435a9959d66c7",
       "version_major": 2,
       "version_minor": 0
      },
      "text/plain": [
       "  0%|          | 0/404 [00:00<?, ?it/s]"
      ]
     },
     "metadata": {},
     "output_type": "display_data"
    },
    {
     "name": "stdout",
     "output_type": "stream",
     "text": [
      "[202/404] Loss0.23605, ACC:0.65223%\n",
      "[404/404] Loss0.23257, ACC:0.65335%\n",
      "Train_Loss: 0.23790476176113184,ACC:0.654%\n",
      "\u001b[66mHAM10000 ==> testing ...\u001b[0m\n"
     ]
    },
    {
     "data": {
      "application/vnd.jupyter.widget-view+json": {
       "model_id": "a4b55cefb953439ebf0335f2c6b9bb89",
       "version_major": 2,
       "version_minor": 0
      },
      "text/plain": [
       "  0%|          | 0/27 [00:00<?, ?it/s]"
      ]
     },
     "metadata": {},
     "output_type": "display_data"
    },
    {
     "name": "stdout",
     "output_type": "stream",
     "text": [
      "Test_Acc:\u001b[1;32m88.043%\u001b[0m\n",
      "Best_ACC[\u001b[1;32m88.043%\u001b[0m]\n",
      "Epoch: [17] HAM10000 ==> Training ...\n"
     ]
    },
    {
     "data": {
      "application/vnd.jupyter.widget-view+json": {
       "model_id": "9755cc18cb7e4828886a803bd0ae9c14",
       "version_major": 2,
       "version_minor": 0
      },
      "text/plain": [
       "  0%|          | 0/404 [00:00<?, ?it/s]"
      ]
     },
     "metadata": {},
     "output_type": "display_data"
    },
    {
     "name": "stdout",
     "output_type": "stream",
     "text": [
      "[202/404] Loss0.22896, ACC:0.65347%\n",
      "[404/404] Loss0.23116, ACC:0.65443%\n",
      "Train_Loss: 0.23824163939398113,ACC:0.655%\n",
      "\u001b[66mHAM10000 ==> testing ...\u001b[0m\n"
     ]
    },
    {
     "data": {
      "application/vnd.jupyter.widget-view+json": {
       "model_id": "9521ba2606164be88c8a185b5c934ed3",
       "version_major": 2,
       "version_minor": 0
      },
      "text/plain": [
       "  0%|          | 0/27 [00:00<?, ?it/s]"
      ]
     },
     "metadata": {},
     "output_type": "display_data"
    },
    {
     "name": "stdout",
     "output_type": "stream",
     "text": [
      "Test_Acc:\u001b[1;32m85.99%\u001b[0m\n",
      "Best_ACC[\u001b[1;32m88.043%\u001b[0m]\n",
      "Epoch: [18] HAM10000 ==> Training ...\n"
     ]
    },
    {
     "data": {
      "application/vnd.jupyter.widget-view+json": {
       "model_id": "12eae03eb62d4f09b9612573761420fd",
       "version_major": 2,
       "version_minor": 0
      },
      "text/plain": [
       "  0%|          | 0/404 [00:00<?, ?it/s]"
      ]
     },
     "metadata": {},
     "output_type": "display_data"
    },
    {
     "name": "stdout",
     "output_type": "stream",
     "text": [
      "[202/404] Loss0.22700, ACC:0.64975%\n",
      "[404/404] Loss0.23685, ACC:0.64815%\n",
      "Train_Loss: 0.24127607416398456,ACC:0.648%\n",
      "\u001b[66mHAM10000 ==> testing ...\u001b[0m\n"
     ]
    },
    {
     "data": {
      "application/vnd.jupyter.widget-view+json": {
       "model_id": "8025392a9f2445a99b2d3968535e9c3d",
       "version_major": 2,
       "version_minor": 0
      },
      "text/plain": [
       "  0%|          | 0/27 [00:00<?, ?it/s]"
      ]
     },
     "metadata": {},
     "output_type": "display_data"
    },
    {
     "name": "stdout",
     "output_type": "stream",
     "text": [
      "Test_Acc:\u001b[1;32m86.957%\u001b[0m\n",
      "Best_ACC[\u001b[1;32m88.043%\u001b[0m]\n",
      "Epoch: [19] HAM10000 ==> Training ...\n"
     ]
    },
    {
     "data": {
      "application/vnd.jupyter.widget-view+json": {
       "model_id": "8d25035293da4600afae7892de65f299",
       "version_major": 2,
       "version_minor": 0
      },
      "text/plain": [
       "  0%|          | 0/404 [00:00<?, ?it/s]"
      ]
     },
     "metadata": {},
     "output_type": "display_data"
    },
    {
     "name": "stdout",
     "output_type": "stream",
     "text": [
      "[202/404] Loss0.24433, ACC:0.64287%\n",
      "[404/404] Loss0.24474, ACC:0.64399%\n",
      "Train_Loss: 0.24546628072857857,ACC:0.644%\n",
      "\u001b[66mHAM10000 ==> testing ...\u001b[0m\n"
     ]
    },
    {
     "data": {
      "application/vnd.jupyter.widget-view+json": {
       "model_id": "163f7034d1854a18b76e9c48518cd99f",
       "version_major": 2,
       "version_minor": 0
      },
      "text/plain": [
       "  0%|          | 0/27 [00:00<?, ?it/s]"
      ]
     },
     "metadata": {},
     "output_type": "display_data"
    },
    {
     "name": "stdout",
     "output_type": "stream",
     "text": [
      "Test_Acc:\u001b[1;32m88.285%\u001b[0m\n",
      "Best_ACC[\u001b[1;32m88.285%\u001b[0m]\n",
      "Epoch: [20] HAM10000 ==> Training ...\n"
     ]
    },
    {
     "data": {
      "application/vnd.jupyter.widget-view+json": {
       "model_id": "0608f148812b4df4bf39338e979314e8",
       "version_major": 2,
       "version_minor": 0
      },
      "text/plain": [
       "  0%|          | 0/404 [00:00<?, ?it/s]"
      ]
     },
     "metadata": {},
     "output_type": "display_data"
    },
    {
     "name": "stdout",
     "output_type": "stream",
     "text": [
      "[202/404] Loss0.24814, ACC:0.64121%\n",
      "[404/404] Loss0.27060, ACC:0.64059%\n",
      "Train_Loss: 0.24678545832486437,ACC:0.641%\n",
      "\u001b[66mHAM10000 ==> testing ...\u001b[0m\n"
     ]
    },
    {
     "data": {
      "application/vnd.jupyter.widget-view+json": {
       "model_id": "c39ab21adc3e4a7593898bcf892b8dbc",
       "version_major": 2,
       "version_minor": 0
      },
      "text/plain": [
       "  0%|          | 0/27 [00:00<?, ?it/s]"
      ]
     },
     "metadata": {},
     "output_type": "display_data"
    },
    {
     "name": "stdout",
     "output_type": "stream",
     "text": [
      "Test_Acc:\u001b[1;32m89.734%\u001b[0m\n",
      "Best_ACC[\u001b[1;32m89.734%\u001b[0m]\n",
      "Epoch: [21] HAM10000 ==> Training ...\n"
     ]
    },
    {
     "data": {
      "application/vnd.jupyter.widget-view+json": {
       "model_id": "a4ca89c9952c49e9a09459b48efb5cb3",
       "version_major": 2,
       "version_minor": 0
      },
      "text/plain": [
       "  0%|          | 0/404 [00:00<?, ?it/s]"
      ]
     },
     "metadata": {},
     "output_type": "display_data"
    },
    {
     "name": "stdout",
     "output_type": "stream",
     "text": [
      "[202/404] Loss0.23639, ACC:0.63904%\n",
      "[404/404] Loss0.24637, ACC:0.64049%\n",
      "Train_Loss: 0.24636975026661806,ACC:0.641%\n",
      "\u001b[66mHAM10000 ==> testing ...\u001b[0m\n"
     ]
    },
    {
     "data": {
      "application/vnd.jupyter.widget-view+json": {
       "model_id": "2d14207a34d64dee9eb7071ee3b37264",
       "version_major": 2,
       "version_minor": 0
      },
      "text/plain": [
       "  0%|          | 0/27 [00:00<?, ?it/s]"
      ]
     },
     "metadata": {},
     "output_type": "display_data"
    },
    {
     "name": "stdout",
     "output_type": "stream",
     "text": [
      "Test_Acc:\u001b[1;32m82.246%\u001b[0m\n",
      "Best_ACC[\u001b[1;32m89.734%\u001b[0m]\n",
      "Epoch: [22] HAM10000 ==> Training ...\n"
     ]
    },
    {
     "data": {
      "application/vnd.jupyter.widget-view+json": {
       "model_id": "498bcef2ffcb4e67b727bdd4dda5ba3d",
       "version_major": 2,
       "version_minor": 0
      },
      "text/plain": [
       "  0%|          | 0/404 [00:00<?, ?it/s]"
      ]
     },
     "metadata": {},
     "output_type": "display_data"
    },
    {
     "name": "stdout",
     "output_type": "stream",
     "text": [
      "[202/404] Loss0.21301, ACC:0.65219%\n",
      "[404/404] Loss0.19775, ACC:0.65325%\n",
      "Train_Loss: 0.23962497843964264,ACC:0.653%\n",
      "\u001b[66mHAM10000 ==> testing ...\u001b[0m\n"
     ]
    },
    {
     "data": {
      "application/vnd.jupyter.widget-view+json": {
       "model_id": "41928af01d0644d3953b3c028535e373",
       "version_major": 2,
       "version_minor": 0
      },
      "text/plain": [
       "  0%|          | 0/27 [00:00<?, ?it/s]"
      ]
     },
     "metadata": {},
     "output_type": "display_data"
    },
    {
     "name": "stdout",
     "output_type": "stream",
     "text": [
      "Test_Acc:\u001b[1;32m89.614%\u001b[0m\n",
      "Best_ACC[\u001b[1;32m89.734%\u001b[0m]\n",
      "Epoch: [23] HAM10000 ==> Training ...\n"
     ]
    },
    {
     "data": {
      "application/vnd.jupyter.widget-view+json": {
       "model_id": "e1c57becd0204baebcaa73f294243516",
       "version_major": 2,
       "version_minor": 0
      },
      "text/plain": [
       "  0%|          | 0/404 [00:00<?, ?it/s]"
      ]
     },
     "metadata": {},
     "output_type": "display_data"
    },
    {
     "name": "stdout",
     "output_type": "stream",
     "text": [
      "[202/404] Loss0.25184, ACC:0.66236%\n",
      "[404/404] Loss0.24444, ACC:0.66472%\n",
      "Train_Loss: 0.23338860627448205,ACC:0.665%\n",
      "\u001b[66mHAM10000 ==> testing ...\u001b[0m\n"
     ]
    },
    {
     "data": {
      "application/vnd.jupyter.widget-view+json": {
       "model_id": "b0b27c1ec8564947b3c535ab9676efb8",
       "version_major": 2,
       "version_minor": 0
      },
      "text/plain": [
       "  0%|          | 0/27 [00:00<?, ?it/s]"
      ]
     },
     "metadata": {},
     "output_type": "display_data"
    },
    {
     "name": "stdout",
     "output_type": "stream",
     "text": [
      "Test_Acc:\u001b[1;32m84.903%\u001b[0m\n",
      "Best_ACC[\u001b[1;32m89.734%\u001b[0m]\n",
      "Epoch: [24] HAM10000 ==> Training ...\n"
     ]
    },
    {
     "data": {
      "application/vnd.jupyter.widget-view+json": {
       "model_id": "f0663652e4cf4760b469598f6c03a0c3",
       "version_major": 2,
       "version_minor": 0
      },
      "text/plain": [
       "  0%|          | 0/404 [00:00<?, ?it/s]"
      ]
     },
     "metadata": {},
     "output_type": "display_data"
    },
    {
     "name": "stdout",
     "output_type": "stream",
     "text": [
      "[202/404] Loss0.23492, ACC:0.67729%\n",
      "[404/404] Loss0.23000, ACC:0.67584%\n",
      "Train_Loss: 0.22547805419947842,ACC:0.676%\n",
      "\u001b[66mHAM10000 ==> testing ...\u001b[0m\n"
     ]
    },
    {
     "data": {
      "application/vnd.jupyter.widget-view+json": {
       "model_id": "0166c0bd365e44b5950004ef08123b89",
       "version_major": 2,
       "version_minor": 0
      },
      "text/plain": [
       "  0%|          | 0/27 [00:00<?, ?it/s]"
      ]
     },
     "metadata": {},
     "output_type": "display_data"
    },
    {
     "name": "stdout",
     "output_type": "stream",
     "text": [
      "Test_Acc:\u001b[1;32m87.802%\u001b[0m\n",
      "Best_ACC[\u001b[1;32m89.734%\u001b[0m]\n",
      "Epoch: [25] HAM10000 ==> Training ...\n"
     ]
    },
    {
     "data": {
      "application/vnd.jupyter.widget-view+json": {
       "model_id": "9e4b52cfb1c64990afc8802532e85f1b",
       "version_major": 2,
       "version_minor": 0
      },
      "text/plain": [
       "  0%|          | 0/404 [00:00<?, ?it/s]"
      ]
     },
     "metadata": {},
     "output_type": "display_data"
    },
    {
     "name": "stdout",
     "output_type": "stream",
     "text": [
      "[202/404] Loss0.22617, ACC:0.68220%\n",
      "[404/404] Loss0.20925, ACC:0.68562%\n",
      "Train_Loss: 0.21909468790682235,ACC:0.686%\n",
      "\u001b[66mHAM10000 ==> testing ...\u001b[0m\n"
     ]
    },
    {
     "data": {
      "application/vnd.jupyter.widget-view+json": {
       "model_id": "dfd74b6a5fa3492b86b322751ed67e65",
       "version_major": 2,
       "version_minor": 0
      },
      "text/plain": [
       "  0%|          | 0/27 [00:00<?, ?it/s]"
      ]
     },
     "metadata": {},
     "output_type": "display_data"
    },
    {
     "name": "stdout",
     "output_type": "stream",
     "text": [
      "Test_Acc:\u001b[1;32m88.406%\u001b[0m\n",
      "Best_ACC[\u001b[1;32m89.734%\u001b[0m]\n",
      "Epoch: [26] HAM10000 ==> Training ...\n"
     ]
    },
    {
     "data": {
      "application/vnd.jupyter.widget-view+json": {
       "model_id": "b28508faedd445b186d130b632eac4cc",
       "version_major": 2,
       "version_minor": 0
      },
      "text/plain": [
       "  0%|          | 0/404 [00:00<?, ?it/s]"
      ]
     },
     "metadata": {},
     "output_type": "display_data"
    },
    {
     "name": "stdout",
     "output_type": "stream",
     "text": [
      "[202/404] Loss0.24298, ACC:0.68441%\n",
      "[404/404] Loss0.22806, ACC:0.68607%\n",
      "Train_Loss: 0.2179318208726916,ACC:0.686%\n",
      "\u001b[66mHAM10000 ==> testing ...\u001b[0m\n"
     ]
    },
    {
     "data": {
      "application/vnd.jupyter.widget-view+json": {
       "model_id": "68a08991b08c4b16b3afc1182aea3e1c",
       "version_major": 2,
       "version_minor": 0
      },
      "text/plain": [
       "  0%|          | 0/27 [00:00<?, ?it/s]"
      ]
     },
     "metadata": {},
     "output_type": "display_data"
    },
    {
     "name": "stdout",
     "output_type": "stream",
     "text": [
      "Test_Acc:\u001b[1;32m89.493%\u001b[0m\n",
      "Best_ACC[\u001b[1;32m89.734%\u001b[0m]\n",
      "Epoch: [27] HAM10000 ==> Training ...\n"
     ]
    },
    {
     "data": {
      "application/vnd.jupyter.widget-view+json": {
       "model_id": "7d050e0ca14240599b7182c5e6a1f14a",
       "version_major": 2,
       "version_minor": 0
      },
      "text/plain": [
       "  0%|          | 0/404 [00:00<?, ?it/s]"
      ]
     },
     "metadata": {},
     "output_type": "display_data"
    },
    {
     "name": "stdout",
     "output_type": "stream",
     "text": [
      "[202/404] Loss0.20029, ACC:0.68557%\n",
      "[404/404] Loss0.23191, ACC:0.68649%\n",
      "Train_Loss: 0.21835600783919343,ACC:0.687%\n",
      "\u001b[66mHAM10000 ==> testing ...\u001b[0m\n"
     ]
    },
    {
     "data": {
      "application/vnd.jupyter.widget-view+json": {
       "model_id": "bb84a35bf746460d9cbb38b65bffb23f",
       "version_major": 2,
       "version_minor": 0
      },
      "text/plain": [
       "  0%|          | 0/27 [00:00<?, ?it/s]"
      ]
     },
     "metadata": {},
     "output_type": "display_data"
    },
    {
     "name": "stdout",
     "output_type": "stream",
     "text": [
      "Test_Acc:\u001b[1;32m88.647%\u001b[0m\n",
      "Best_ACC[\u001b[1;32m89.734%\u001b[0m]\n",
      "Epoch: [28] HAM10000 ==> Training ...\n"
     ]
    },
    {
     "data": {
      "application/vnd.jupyter.widget-view+json": {
       "model_id": "b2e84dac1cd84b65b59f2e02d9cf46b9",
       "version_major": 2,
       "version_minor": 0
      },
      "text/plain": [
       "  0%|          | 0/404 [00:00<?, ?it/s]"
      ]
     },
     "metadata": {},
     "output_type": "display_data"
    },
    {
     "name": "stdout",
     "output_type": "stream",
     "text": [
      "[202/404] Loss0.23408, ACC:0.67868%\n",
      "[404/404] Loss0.23144, ACC:0.68038%\n",
      "Train_Loss: 0.22231632559606346,ACC:0.681%\n",
      "\u001b[66mHAM10000 ==> testing ...\u001b[0m\n"
     ]
    },
    {
     "data": {
      "application/vnd.jupyter.widget-view+json": {
       "model_id": "30dec767838e4503bf6e135907bcb087",
       "version_major": 2,
       "version_minor": 0
      },
      "text/plain": [
       "  0%|          | 0/27 [00:00<?, ?it/s]"
      ]
     },
     "metadata": {},
     "output_type": "display_data"
    },
    {
     "name": "stdout",
     "output_type": "stream",
     "text": [
      "Test_Acc:\u001b[1;32m85.507%\u001b[0m\n",
      "Best_ACC[\u001b[1;32m89.734%\u001b[0m]\n",
      "Epoch: [29] HAM10000 ==> Training ...\n"
     ]
    },
    {
     "data": {
      "application/vnd.jupyter.widget-view+json": {
       "model_id": "af6b12698f2543499a30fd39f101ea7e",
       "version_major": 2,
       "version_minor": 0
      },
      "text/plain": [
       "  0%|          | 0/404 [00:00<?, ?it/s]"
      ]
     },
     "metadata": {},
     "output_type": "display_data"
    },
    {
     "name": "stdout",
     "output_type": "stream",
     "text": [
      "[202/404] Loss0.23883, ACC:0.66816%\n",
      "[404/404] Loss0.24837, ACC:0.67327%\n",
      "Train_Loss: 0.22782145820484304,ACC:0.673%\n",
      "\u001b[66mHAM10000 ==> testing ...\u001b[0m\n"
     ]
    },
    {
     "data": {
      "application/vnd.jupyter.widget-view+json": {
       "model_id": "26ba8276eab0467c8b7c2bb9430da27b",
       "version_major": 2,
       "version_minor": 0
      },
      "text/plain": [
       "  0%|          | 0/27 [00:00<?, ?it/s]"
      ]
     },
     "metadata": {},
     "output_type": "display_data"
    },
    {
     "name": "stdout",
     "output_type": "stream",
     "text": [
      "Test_Acc:\u001b[1;32m87.077%\u001b[0m\n",
      "Best_ACC[\u001b[1;32m89.734%\u001b[0m]\n",
      "Epoch: [30] HAM10000 ==> Training ...\n"
     ]
    },
    {
     "data": {
      "application/vnd.jupyter.widget-view+json": {
       "model_id": "b780054d39bd4986987a5923b65fc10e",
       "version_major": 2,
       "version_minor": 0
      },
      "text/plain": [
       "  0%|          | 0/404 [00:00<?, ?it/s]"
      ]
     },
     "metadata": {},
     "output_type": "display_data"
    },
    {
     "name": "stdout",
     "output_type": "stream",
     "text": [
      "[202/404] Loss0.23433, ACC:0.66723%\n",
      "[404/404] Loss0.25504, ACC:0.66770%\n",
      "Train_Loss: 0.23076722450037995,ACC:0.668%\n",
      "\u001b[66mHAM10000 ==> testing ...\u001b[0m\n"
     ]
    },
    {
     "data": {
      "application/vnd.jupyter.widget-view+json": {
       "model_id": "cd4426aa977a4993b28553500118d88d",
       "version_major": 2,
       "version_minor": 0
      },
      "text/plain": [
       "  0%|          | 0/27 [00:00<?, ?it/s]"
      ]
     },
     "metadata": {},
     "output_type": "display_data"
    },
    {
     "name": "stdout",
     "output_type": "stream",
     "text": [
      "Test_Acc:\u001b[1;32m89.251%\u001b[0m\n",
      "Best_ACC[\u001b[1;32m89.734%\u001b[0m]\n",
      "Epoch: [31] HAM10000 ==> Training ...\n"
     ]
    },
    {
     "data": {
      "application/vnd.jupyter.widget-view+json": {
       "model_id": "6b9cccf579e0495e8841619195e30118",
       "version_major": 2,
       "version_minor": 0
      },
      "text/plain": [
       "  0%|          | 0/404 [00:00<?, ?it/s]"
      ]
     },
     "metadata": {},
     "output_type": "display_data"
    },
    {
     "name": "stdout",
     "output_type": "stream",
     "text": [
      "[202/404] Loss0.22448, ACC:0.66441%\n",
      "[404/404] Loss0.23358, ACC:0.66826%\n",
      "Train_Loss: 0.22962878740364961,ACC:0.668%\n",
      "\u001b[66mHAM10000 ==> testing ...\u001b[0m\n"
     ]
    },
    {
     "data": {
      "application/vnd.jupyter.widget-view+json": {
       "model_id": "33671467f33541ce9ab83f0d62110c9f",
       "version_major": 2,
       "version_minor": 0
      },
      "text/plain": [
       "  0%|          | 0/27 [00:00<?, ?it/s]"
      ]
     },
     "metadata": {},
     "output_type": "display_data"
    },
    {
     "name": "stdout",
     "output_type": "stream",
     "text": [
      "Test_Acc:\u001b[1;32m89.493%\u001b[0m\n",
      "Best_ACC[\u001b[1;32m89.734%\u001b[0m]\n",
      "Epoch: [32] HAM10000 ==> Training ...\n"
     ]
    },
    {
     "data": {
      "application/vnd.jupyter.widget-view+json": {
       "model_id": "0b12d8b99a0a418fb875c9dec6107bee",
       "version_major": 2,
       "version_minor": 0
      },
      "text/plain": [
       "  0%|          | 0/404 [00:00<?, ?it/s]"
      ]
     },
     "metadata": {},
     "output_type": "display_data"
    },
    {
     "name": "stdout",
     "output_type": "stream",
     "text": [
      "[202/404] Loss0.20946, ACC:0.67300%\n",
      "[404/404] Loss0.20047, ACC:0.67435%\n",
      "Train_Loss: 0.2270810857857808,ACC:0.675%\n",
      "\u001b[66mHAM10000 ==> testing ...\u001b[0m\n"
     ]
    },
    {
     "data": {
      "application/vnd.jupyter.widget-view+json": {
       "model_id": "65e60462ceb54091b72ba8755369dc53",
       "version_major": 2,
       "version_minor": 0
      },
      "text/plain": [
       "  0%|          | 0/27 [00:00<?, ?it/s]"
      ]
     },
     "metadata": {},
     "output_type": "display_data"
    },
    {
     "name": "stdout",
     "output_type": "stream",
     "text": [
      "Test_Acc:\u001b[1;32m91.304%\u001b[0m\n",
      "Best_ACC[\u001b[1;32m91.304%\u001b[0m]\n",
      "Epoch: [33] HAM10000 ==> Training ...\n"
     ]
    },
    {
     "data": {
      "application/vnd.jupyter.widget-view+json": {
       "model_id": "bd65660105fc4548a992d0a18dcb8247",
       "version_major": 2,
       "version_minor": 0
      },
      "text/plain": [
       "  0%|          | 0/404 [00:00<?, ?it/s]"
      ]
     },
     "metadata": {},
     "output_type": "display_data"
    },
    {
     "name": "stdout",
     "output_type": "stream",
     "text": [
      "[202/404] Loss0.22952, ACC:0.68885%\n",
      "[404/404] Loss0.23853, ACC:0.68655%\n",
      "Train_Loss: 0.2203769079676949,ACC:0.687%\n",
      "\u001b[66mHAM10000 ==> testing ...\u001b[0m\n"
     ]
    },
    {
     "data": {
      "application/vnd.jupyter.widget-view+json": {
       "model_id": "8b767edd755c4cc5b348281f7b35cc46",
       "version_major": 2,
       "version_minor": 0
      },
      "text/plain": [
       "  0%|          | 0/27 [00:00<?, ?it/s]"
      ]
     },
     "metadata": {},
     "output_type": "display_data"
    },
    {
     "name": "stdout",
     "output_type": "stream",
     "text": [
      "Test_Acc:\u001b[1;32m87.198%\u001b[0m\n",
      "Best_ACC[\u001b[1;32m91.304%\u001b[0m]\n",
      "Epoch: [34] HAM10000 ==> Training ...\n"
     ]
    },
    {
     "data": {
      "application/vnd.jupyter.widget-view+json": {
       "model_id": "7180e7f62eac4186aafa6b233b0d1ef4",
       "version_major": 2,
       "version_minor": 0
      },
      "text/plain": [
       "  0%|          | 0/404 [00:00<?, ?it/s]"
      ]
     },
     "metadata": {},
     "output_type": "display_data"
    },
    {
     "name": "stdout",
     "output_type": "stream",
     "text": [
      "[202/404] Loss0.19243, ACC:0.69674%\n",
      "[404/404] Loss0.22021, ACC:0.69773%\n",
      "Train_Loss: 0.2132733156259107,ACC:0.698%\n",
      "\u001b[66mHAM10000 ==> testing ...\u001b[0m\n"
     ]
    },
    {
     "data": {
      "application/vnd.jupyter.widget-view+json": {
       "model_id": "baa3a9a28b3243f2bd5aae754a08de43",
       "version_major": 2,
       "version_minor": 0
      },
      "text/plain": [
       "  0%|          | 0/27 [00:00<?, ?it/s]"
      ]
     },
     "metadata": {},
     "output_type": "display_data"
    },
    {
     "name": "stdout",
     "output_type": "stream",
     "text": [
      "Test_Acc:\u001b[1;32m87.319%\u001b[0m\n",
      "Best_ACC[\u001b[1;32m91.304%\u001b[0m]\n",
      "Epoch: [35] HAM10000 ==> Training ...\n"
     ]
    },
    {
     "data": {
      "application/vnd.jupyter.widget-view+json": {
       "model_id": "92741d4e3f7a4b068b7dea4f7c50a59e",
       "version_major": 2,
       "version_minor": 0
      },
      "text/plain": [
       "  0%|          | 0/404 [00:00<?, ?it/s]"
      ]
     },
     "metadata": {},
     "output_type": "display_data"
    },
    {
     "name": "stdout",
     "output_type": "stream",
     "text": [
      "[202/404] Loss0.24253, ACC:0.70595%\n",
      "[404/404] Loss0.18448, ACC:0.70724%\n",
      "Train_Loss: 0.20737424072357688,ACC:0.707%\n",
      "\u001b[66mHAM10000 ==> testing ...\u001b[0m\n"
     ]
    },
    {
     "data": {
      "application/vnd.jupyter.widget-view+json": {
       "model_id": "c9dcf1681edb47b09f681f5c0ca653ae",
       "version_major": 2,
       "version_minor": 0
      },
      "text/plain": [
       "  0%|          | 0/27 [00:00<?, ?it/s]"
      ]
     },
     "metadata": {},
     "output_type": "display_data"
    },
    {
     "name": "stdout",
     "output_type": "stream",
     "text": [
      "Test_Acc:\u001b[1;32m90.338%\u001b[0m\n",
      "Best_ACC[\u001b[1;32m91.304%\u001b[0m]\n",
      "Epoch: [36] HAM10000 ==> Training ...\n"
     ]
    },
    {
     "data": {
      "application/vnd.jupyter.widget-view+json": {
       "model_id": "0555cd09ec1a476d8ba2e47568360780",
       "version_major": 2,
       "version_minor": 0
      },
      "text/plain": [
       "  0%|          | 0/404 [00:00<?, ?it/s]"
      ]
     },
     "metadata": {},
     "output_type": "display_data"
    },
    {
     "name": "stdout",
     "output_type": "stream",
     "text": [
      "[202/404] Loss0.19353, ACC:0.71245%\n",
      "[404/404] Loss0.20376, ACC:0.70937%\n",
      "Train_Loss: 0.20608138174998877,ACC:0.71%\n",
      "\u001b[66mHAM10000 ==> testing ...\u001b[0m\n"
     ]
    },
    {
     "data": {
      "application/vnd.jupyter.widget-view+json": {
       "model_id": "52037b56bac64ceeb282248f2523be17",
       "version_major": 2,
       "version_minor": 0
      },
      "text/plain": [
       "  0%|          | 0/27 [00:00<?, ?it/s]"
      ]
     },
     "metadata": {},
     "output_type": "display_data"
    },
    {
     "name": "stdout",
     "output_type": "stream",
     "text": [
      "Test_Acc:\u001b[1;32m90.217%\u001b[0m\n",
      "Best_ACC[\u001b[1;32m91.304%\u001b[0m]\n",
      "Epoch: [37] HAM10000 ==> Training ...\n"
     ]
    },
    {
     "data": {
      "application/vnd.jupyter.widget-view+json": {
       "model_id": "baa89d1c8d1541caa4fe865b41919ab2",
       "version_major": 2,
       "version_minor": 0
      },
      "text/plain": [
       "  0%|          | 0/404 [00:00<?, ?it/s]"
      ]
     },
     "metadata": {},
     "output_type": "display_data"
    },
    {
     "name": "stdout",
     "output_type": "stream",
     "text": [
      "[202/404] Loss0.19703, ACC:0.71159%\n",
      "[404/404] Loss0.21623, ACC:0.71036%\n",
      "Train_Loss: 0.20582144534086236,ACC:0.711%\n",
      "\u001b[66mHAM10000 ==> testing ...\u001b[0m\n"
     ]
    },
    {
     "data": {
      "application/vnd.jupyter.widget-view+json": {
       "model_id": "2bf2ee4b58284c80962d445737a6092b",
       "version_major": 2,
       "version_minor": 0
      },
      "text/plain": [
       "  0%|          | 0/27 [00:00<?, ?it/s]"
      ]
     },
     "metadata": {},
     "output_type": "display_data"
    },
    {
     "name": "stdout",
     "output_type": "stream",
     "text": [
      "Test_Acc:\u001b[1;32m89.01%\u001b[0m\n",
      "Best_ACC[\u001b[1;32m91.304%\u001b[0m]\n",
      "Epoch: [38] HAM10000 ==> Training ...\n"
     ]
    },
    {
     "data": {
      "application/vnd.jupyter.widget-view+json": {
       "model_id": "fda54adfa8a047df830ac93024681c40",
       "version_major": 2,
       "version_minor": 0
      },
      "text/plain": [
       "  0%|          | 0/404 [00:00<?, ?it/s]"
      ]
     },
     "metadata": {},
     "output_type": "display_data"
    },
    {
     "name": "stdout",
     "output_type": "stream",
     "text": [
      "[202/404] Loss0.18522, ACC:0.70208%\n",
      "[404/404] Loss0.18012, ACC:0.70069%\n",
      "Train_Loss: 0.21088565731107597,ACC:0.701%\n",
      "\u001b[66mHAM10000 ==> testing ...\u001b[0m\n"
     ]
    },
    {
     "data": {
      "application/vnd.jupyter.widget-view+json": {
       "model_id": "61ccdcfb7cfa430bb500d4ad91fd6dda",
       "version_major": 2,
       "version_minor": 0
      },
      "text/plain": [
       "  0%|          | 0/27 [00:00<?, ?it/s]"
      ]
     },
     "metadata": {},
     "output_type": "display_data"
    },
    {
     "name": "stdout",
     "output_type": "stream",
     "text": [
      "Test_Acc:\u001b[1;32m90.821%\u001b[0m\n",
      "Best_ACC[\u001b[1;32m91.304%\u001b[0m]\n",
      "Epoch: [39] HAM10000 ==> Training ...\n"
     ]
    },
    {
     "data": {
      "application/vnd.jupyter.widget-view+json": {
       "model_id": "e12a3163e2e3447d93b2dc7c1d702e6b",
       "version_major": 2,
       "version_minor": 0
      },
      "text/plain": [
       "  0%|          | 0/404 [00:00<?, ?it/s]"
      ]
     },
     "metadata": {},
     "output_type": "display_data"
    },
    {
     "name": "stdout",
     "output_type": "stream",
     "text": [
      "[202/404] Loss0.20863, ACC:0.69222%\n",
      "[404/404] Loss0.19821, ACC:0.69342%\n",
      "Train_Loss: 0.21547527858378865,ACC:0.694%\n",
      "\u001b[66mHAM10000 ==> testing ...\u001b[0m\n"
     ]
    },
    {
     "data": {
      "application/vnd.jupyter.widget-view+json": {
       "model_id": "2f4462c40b7c4edd9b1cb4283a981c49",
       "version_major": 2,
       "version_minor": 0
      },
      "text/plain": [
       "  0%|          | 0/27 [00:00<?, ?it/s]"
      ]
     },
     "metadata": {},
     "output_type": "display_data"
    },
    {
     "name": "stdout",
     "output_type": "stream",
     "text": [
      "Test_Acc:\u001b[1;32m90.821%\u001b[0m\n",
      "Best_ACC[\u001b[1;32m91.304%\u001b[0m]\n",
      "Epoch: [40] HAM10000 ==> Training ...\n"
     ]
    },
    {
     "data": {
      "application/vnd.jupyter.widget-view+json": {
       "model_id": "3380e2e61fad4a2b9c8d8b0f48a5e97b",
       "version_major": 2,
       "version_minor": 0
      },
      "text/plain": [
       "  0%|          | 0/404 [00:00<?, ?it/s]"
      ]
     },
     "metadata": {},
     "output_type": "display_data"
    },
    {
     "name": "stdout",
     "output_type": "stream",
     "text": [
      "[202/404] Loss0.23566, ACC:0.68599%\n",
      "[404/404] Loss0.21161, ACC:0.68640%\n",
      "Train_Loss: 0.22044416435874334,ACC:0.687%\n",
      "\u001b[66mHAM10000 ==> testing ...\u001b[0m\n"
     ]
    },
    {
     "data": {
      "application/vnd.jupyter.widget-view+json": {
       "model_id": "627bd77c2e8544828d34d6a8ec52d8f8",
       "version_major": 2,
       "version_minor": 0
      },
      "text/plain": [
       "  0%|          | 0/27 [00:00<?, ?it/s]"
      ]
     },
     "metadata": {},
     "output_type": "display_data"
    },
    {
     "name": "stdout",
     "output_type": "stream",
     "text": [
      "Test_Acc:\u001b[1;32m89.614%\u001b[0m\n",
      "Best_ACC[\u001b[1;32m91.304%\u001b[0m]\n",
      "Epoch: [41] HAM10000 ==> Training ...\n"
     ]
    },
    {
     "data": {
      "application/vnd.jupyter.widget-view+json": {
       "model_id": "73f5d1e4c9ac40da9ff7b2bdd82121f8",
       "version_major": 2,
       "version_minor": 0
      },
      "text/plain": [
       "  0%|          | 0/404 [00:00<?, ?it/s]"
      ]
     },
     "metadata": {},
     "output_type": "display_data"
    },
    {
     "name": "stdout",
     "output_type": "stream",
     "text": [
      "[202/404] Loss0.22548, ACC:0.68847%\n",
      "[404/404] Loss0.19604, ACC:0.68632%\n",
      "Train_Loss: 0.2204587804430192,ACC:0.686%\n",
      "\u001b[66mHAM10000 ==> testing ...\u001b[0m\n"
     ]
    },
    {
     "data": {
      "application/vnd.jupyter.widget-view+json": {
       "model_id": "686f434a2605410ca5224d4191d9958e",
       "version_major": 2,
       "version_minor": 0
      },
      "text/plain": [
       "  0%|          | 0/27 [00:00<?, ?it/s]"
      ]
     },
     "metadata": {},
     "output_type": "display_data"
    },
    {
     "name": "stdout",
     "output_type": "stream",
     "text": [
      "Test_Acc:\u001b[1;32m87.198%\u001b[0m\n",
      "Best_ACC[\u001b[1;32m91.304%\u001b[0m]\n",
      "Epoch: [42] HAM10000 ==> Training ...\n"
     ]
    },
    {
     "data": {
      "application/vnd.jupyter.widget-view+json": {
       "model_id": "a53dc02c3bfc401785e0b79638f6e171",
       "version_major": 2,
       "version_minor": 0
      },
      "text/plain": [
       "  0%|          | 0/404 [00:00<?, ?it/s]"
      ]
     },
     "metadata": {},
     "output_type": "display_data"
    },
    {
     "name": "stdout",
     "output_type": "stream",
     "text": [
      "[202/404] Loss0.25323, ACC:0.68998%\n",
      "[404/404] Loss0.20996, ACC:0.69303%\n",
      "Train_Loss: 0.21630709810127127,ACC:0.693%\n",
      "\u001b[66mHAM10000 ==> testing ...\u001b[0m\n"
     ]
    },
    {
     "data": {
      "application/vnd.jupyter.widget-view+json": {
       "model_id": "695e6fcfcb5145aea466e5595c6d2d12",
       "version_major": 2,
       "version_minor": 0
      },
      "text/plain": [
       "  0%|          | 0/27 [00:00<?, ?it/s]"
      ]
     },
     "metadata": {},
     "output_type": "display_data"
    },
    {
     "name": "stdout",
     "output_type": "stream",
     "text": [
      "Test_Acc:\u001b[1;32m87.56%\u001b[0m\n",
      "Best_ACC[\u001b[1;32m91.304%\u001b[0m]\n",
      "Epoch: [43] HAM10000 ==> Training ...\n"
     ]
    },
    {
     "data": {
      "application/vnd.jupyter.widget-view+json": {
       "model_id": "616f0c7424bb4147b4c5d3479844c0a5",
       "version_major": 2,
       "version_minor": 0
      },
      "text/plain": [
       "  0%|          | 0/404 [00:00<?, ?it/s]"
      ]
     },
     "metadata": {},
     "output_type": "display_data"
    },
    {
     "name": "stdout",
     "output_type": "stream",
     "text": [
      "[202/404] Loss0.19560, ACC:0.70289%\n",
      "[404/404] Loss0.20081, ACC:0.70303%\n",
      "Train_Loss: 0.2104721176668559,ACC:0.703%\n",
      "\u001b[66mHAM10000 ==> testing ...\u001b[0m\n"
     ]
    },
    {
     "data": {
      "application/vnd.jupyter.widget-view+json": {
       "model_id": "2f80e2ef911047689ab8450ddfc05a34",
       "version_major": 2,
       "version_minor": 0
      },
      "text/plain": [
       "  0%|          | 0/27 [00:00<?, ?it/s]"
      ]
     },
     "metadata": {},
     "output_type": "display_data"
    },
    {
     "name": "stdout",
     "output_type": "stream",
     "text": [
      "Test_Acc:\u001b[1;32m91.063%\u001b[0m\n",
      "Best_ACC[\u001b[1;32m91.304%\u001b[0m]\n",
      "Epoch: [44] HAM10000 ==> Training ...\n"
     ]
    },
    {
     "data": {
      "application/vnd.jupyter.widget-view+json": {
       "model_id": "bb5f9c2ca18d4d4ba5914bae91c01b6d",
       "version_major": 2,
       "version_minor": 0
      },
      "text/plain": [
       "  0%|          | 0/404 [00:00<?, ?it/s]"
      ]
     },
     "metadata": {},
     "output_type": "display_data"
    },
    {
     "name": "stdout",
     "output_type": "stream",
     "text": [
      "[202/404] Loss0.22008, ACC:0.71086%\n",
      "[404/404] Loss0.20565, ACC:0.71210%\n",
      "Train_Loss: 0.20474415372061258,ACC:0.712%\n",
      "\u001b[66mHAM10000 ==> testing ...\u001b[0m\n"
     ]
    },
    {
     "data": {
      "application/vnd.jupyter.widget-view+json": {
       "model_id": "091347525e3646f09026388747399d8a",
       "version_major": 2,
       "version_minor": 0
      },
      "text/plain": [
       "  0%|          | 0/27 [00:00<?, ?it/s]"
      ]
     },
     "metadata": {},
     "output_type": "display_data"
    },
    {
     "name": "stdout",
     "output_type": "stream",
     "text": [
      "Test_Acc:\u001b[1;32m91.787%\u001b[0m\n",
      "Best_ACC[\u001b[1;32m91.787%\u001b[0m]\n",
      "Epoch: [45] HAM10000 ==> Training ...\n"
     ]
    },
    {
     "data": {
      "application/vnd.jupyter.widget-view+json": {
       "model_id": "721b20ed4da7433a8937a85fdbb4cdb1",
       "version_major": 2,
       "version_minor": 0
      },
      "text/plain": [
       "  0%|          | 0/404 [00:00<?, ?it/s]"
      ]
     },
     "metadata": {},
     "output_type": "display_data"
    },
    {
     "name": "stdout",
     "output_type": "stream",
     "text": [
      "[202/404] Loss0.21166, ACC:0.72092%\n",
      "[404/404] Loss0.20421, ACC:0.71972%\n",
      "Train_Loss: 0.19885059560437013,ACC:0.72%\n",
      "\u001b[66mHAM10000 ==> testing ...\u001b[0m\n"
     ]
    },
    {
     "data": {
      "application/vnd.jupyter.widget-view+json": {
       "model_id": "f818cb7ea77946e3b1b6094d239c5c7a",
       "version_major": 2,
       "version_minor": 0
      },
      "text/plain": [
       "  0%|          | 0/27 [00:00<?, ?it/s]"
      ]
     },
     "metadata": {},
     "output_type": "display_data"
    },
    {
     "name": "stdout",
     "output_type": "stream",
     "text": [
      "Test_Acc:\u001b[1;32m89.614%\u001b[0m\n",
      "Best_ACC[\u001b[1;32m91.787%\u001b[0m]\n",
      "Epoch: [46] HAM10000 ==> Training ...\n"
     ]
    },
    {
     "data": {
      "application/vnd.jupyter.widget-view+json": {
       "model_id": "14aad61c8f9e417889f4485a75ea474b",
       "version_major": 2,
       "version_minor": 0
      },
      "text/plain": [
       "  0%|          | 0/404 [00:00<?, ?it/s]"
      ]
     },
     "metadata": {},
     "output_type": "display_data"
    },
    {
     "name": "stdout",
     "output_type": "stream",
     "text": [
      "[202/404] Loss0.18911, ACC:0.72618%\n",
      "[404/404] Loss0.19117, ACC:0.72577%\n",
      "Train_Loss: 0.19794797056382246,ACC:0.726%\n",
      "\u001b[66mHAM10000 ==> testing ...\u001b[0m\n"
     ]
    },
    {
     "data": {
      "application/vnd.jupyter.widget-view+json": {
       "model_id": "3d30b8374f81456e8123519b6eb01ee8",
       "version_major": 2,
       "version_minor": 0
      },
      "text/plain": [
       "  0%|          | 0/27 [00:00<?, ?it/s]"
      ]
     },
     "metadata": {},
     "output_type": "display_data"
    },
    {
     "name": "stdout",
     "output_type": "stream",
     "text": [
      "Test_Acc:\u001b[1;32m91.063%\u001b[0m\n",
      "Best_ACC[\u001b[1;32m91.787%\u001b[0m]\n",
      "Epoch: [47] HAM10000 ==> Training ...\n"
     ]
    },
    {
     "data": {
      "application/vnd.jupyter.widget-view+json": {
       "model_id": "1a523ddfe0af409b81c2bd3f923fbcc2",
       "version_major": 2,
       "version_minor": 0
      },
      "text/plain": [
       "  0%|          | 0/404 [00:00<?, ?it/s]"
      ]
     },
     "metadata": {},
     "output_type": "display_data"
    },
    {
     "name": "stdout",
     "output_type": "stream",
     "text": [
      "[202/404] Loss0.20046, ACC:0.71983%\n",
      "[404/404] Loss0.20835, ACC:0.72295%\n",
      "Train_Loss: 0.19748411792339665,ACC:0.723%\n",
      "\u001b[66mHAM10000 ==> testing ...\u001b[0m\n"
     ]
    },
    {
     "data": {
      "application/vnd.jupyter.widget-view+json": {
       "model_id": "e0ff2e85156140e784c22eb276914407",
       "version_major": 2,
       "version_minor": 0
      },
      "text/plain": [
       "  0%|          | 0/27 [00:00<?, ?it/s]"
      ]
     },
     "metadata": {},
     "output_type": "display_data"
    },
    {
     "name": "stdout",
     "output_type": "stream",
     "text": [
      "Test_Acc:\u001b[1;32m89.01%\u001b[0m\n",
      "Best_ACC[\u001b[1;32m91.787%\u001b[0m]\n",
      "Epoch: [48] HAM10000 ==> Training ...\n"
     ]
    },
    {
     "data": {
      "application/vnd.jupyter.widget-view+json": {
       "model_id": "2a81e2423ee94a18ab150b78f1cf2db3",
       "version_major": 2,
       "version_minor": 0
      },
      "text/plain": [
       "  0%|          | 0/404 [00:00<?, ?it/s]"
      ]
     },
     "metadata": {},
     "output_type": "display_data"
    },
    {
     "name": "stdout",
     "output_type": "stream",
     "text": [
      "[202/404] Loss0.17677, ACC:0.72277%\n",
      "[404/404] Loss0.18434, ACC:0.71910%\n",
      "Train_Loss: 0.20113976026820665,ACC:0.719%\n",
      "\u001b[66mHAM10000 ==> testing ...\u001b[0m\n"
     ]
    },
    {
     "data": {
      "application/vnd.jupyter.widget-view+json": {
       "model_id": "c6caf471f80a48ba93d417cf4bfd7d19",
       "version_major": 2,
       "version_minor": 0
      },
      "text/plain": [
       "  0%|          | 0/27 [00:00<?, ?it/s]"
      ]
     },
     "metadata": {},
     "output_type": "display_data"
    },
    {
     "name": "stdout",
     "output_type": "stream",
     "text": [
      "Test_Acc:\u001b[1;32m92.391%\u001b[0m\n",
      "Best_ACC[\u001b[1;32m92.391%\u001b[0m]\n",
      "Epoch: [49] HAM10000 ==> Training ...\n"
     ]
    },
    {
     "data": {
      "application/vnd.jupyter.widget-view+json": {
       "model_id": "df764e1cc92a45b490c63904ecda08be",
       "version_major": 2,
       "version_minor": 0
      },
      "text/plain": [
       "  0%|          | 0/404 [00:00<?, ?it/s]"
      ]
     },
     "metadata": {},
     "output_type": "display_data"
    },
    {
     "name": "stdout",
     "output_type": "stream",
     "text": [
      "[202/404] Loss0.20714, ACC:0.70413%\n",
      "[404/404] Loss0.21508, ACC:0.70784%\n",
      "Train_Loss: 0.20786094886831719,ACC:0.708%\n",
      "\u001b[66mHAM10000 ==> testing ...\u001b[0m\n"
     ]
    },
    {
     "data": {
      "application/vnd.jupyter.widget-view+json": {
       "model_id": "02b5f791584d43248570edea698763d7",
       "version_major": 2,
       "version_minor": 0
      },
      "text/plain": [
       "  0%|          | 0/27 [00:00<?, ?it/s]"
      ]
     },
     "metadata": {},
     "output_type": "display_data"
    },
    {
     "name": "stdout",
     "output_type": "stream",
     "text": [
      "Test_Acc:\u001b[1;32m92.271%\u001b[0m\n",
      "Best_ACC[\u001b[1;32m92.391%\u001b[0m]\n",
      "Epoch: [50] HAM10000 ==> Training ...\n"
     ]
    },
    {
     "data": {
      "application/vnd.jupyter.widget-view+json": {
       "model_id": "68ab8129fd324b3eb358ceb91ba6660c",
       "version_major": 2,
       "version_minor": 0
      },
      "text/plain": [
       "  0%|          | 0/404 [00:00<?, ?it/s]"
      ]
     },
     "metadata": {},
     "output_type": "display_data"
    },
    {
     "name": "stdout",
     "output_type": "stream",
     "text": [
      "[202/404] Loss0.23102, ACC:0.70096%\n",
      "[404/404] Loss0.22606, ACC:0.70073%\n",
      "Train_Loss: 0.2125960176091383,ACC:0.701%\n",
      "\u001b[66mHAM10000 ==> testing ...\u001b[0m\n"
     ]
    },
    {
     "data": {
      "application/vnd.jupyter.widget-view+json": {
       "model_id": "a15d44116d904baa8a078a9762747d2f",
       "version_major": 2,
       "version_minor": 0
      },
      "text/plain": [
       "  0%|          | 0/27 [00:00<?, ?it/s]"
      ]
     },
     "metadata": {},
     "output_type": "display_data"
    },
    {
     "name": "stdout",
     "output_type": "stream",
     "text": [
      "Test_Acc:\u001b[1;32m87.56%\u001b[0m\n",
      "Best_ACC[\u001b[1;32m92.391%\u001b[0m]\n",
      "Epoch: [51] HAM10000 ==> Training ...\n"
     ]
    },
    {
     "data": {
      "application/vnd.jupyter.widget-view+json": {
       "model_id": "ce29e5324bdb443b8d752049cf106429",
       "version_major": 2,
       "version_minor": 0
      },
      "text/plain": [
       "  0%|          | 0/404 [00:00<?, ?it/s]"
      ]
     },
     "metadata": {},
     "output_type": "display_data"
    },
    {
     "name": "stdout",
     "output_type": "stream",
     "text": [
      "[202/404] Loss0.23373, ACC:0.70746%\n",
      "[404/404] Loss0.18948, ACC:0.70419%\n",
      "Train_Loss: 0.21142685715809906,ACC:0.704%\n",
      "\u001b[66mHAM10000 ==> testing ...\u001b[0m\n"
     ]
    },
    {
     "data": {
      "application/vnd.jupyter.widget-view+json": {
       "model_id": "fd708fee53fb471ca4b44bce1a677770",
       "version_major": 2,
       "version_minor": 0
      },
      "text/plain": [
       "  0%|          | 0/27 [00:00<?, ?it/s]"
      ]
     },
     "metadata": {},
     "output_type": "display_data"
    },
    {
     "name": "stdout",
     "output_type": "stream",
     "text": [
      "Test_Acc:\u001b[1;32m88.889%\u001b[0m\n",
      "Best_ACC[\u001b[1;32m92.391%\u001b[0m]\n",
      "Epoch: [52] HAM10000 ==> Training ...\n"
     ]
    },
    {
     "data": {
      "application/vnd.jupyter.widget-view+json": {
       "model_id": "fa8798bf43d443079e7b3586194aea55",
       "version_major": 2,
       "version_minor": 0
      },
      "text/plain": [
       "  0%|          | 0/404 [00:00<?, ?it/s]"
      ]
     },
     "metadata": {},
     "output_type": "display_data"
    },
    {
     "name": "stdout",
     "output_type": "stream",
     "text": [
      "[202/404] Loss0.21176, ACC:0.70583%\n",
      "[404/404] Loss0.21584, ACC:0.70546%\n",
      "Train_Loss: 0.2094826630436548,ACC:0.706%\n",
      "\u001b[66mHAM10000 ==> testing ...\u001b[0m\n"
     ]
    },
    {
     "data": {
      "application/vnd.jupyter.widget-view+json": {
       "model_id": "7b680b8554ff423caee91428c48b6e43",
       "version_major": 2,
       "version_minor": 0
      },
      "text/plain": [
       "  0%|          | 0/27 [00:00<?, ?it/s]"
      ]
     },
     "metadata": {},
     "output_type": "display_data"
    },
    {
     "name": "stdout",
     "output_type": "stream",
     "text": [
      "Test_Acc:\u001b[1;32m88.285%\u001b[0m\n",
      "Best_ACC[\u001b[1;32m92.391%\u001b[0m]\n",
      "Epoch: [53] HAM10000 ==> Training ...\n"
     ]
    },
    {
     "data": {
      "application/vnd.jupyter.widget-view+json": {
       "model_id": "9b40c59f56fb4ae284dabb624213bb30",
       "version_major": 2,
       "version_minor": 0
      },
      "text/plain": [
       "  0%|          | 0/404 [00:00<?, ?it/s]"
      ]
     },
     "metadata": {},
     "output_type": "display_data"
    },
    {
     "name": "stdout",
     "output_type": "stream",
     "text": [
      "[202/404] Loss0.18636, ACC:0.71531%\n",
      "[404/404] Loss0.23241, ACC:0.71564%\n",
      "Train_Loss: 0.20389977237670728,ACC:0.716%\n",
      "\u001b[66mHAM10000 ==> testing ...\u001b[0m\n"
     ]
    },
    {
     "data": {
      "application/vnd.jupyter.widget-view+json": {
       "model_id": "ec566ea8e3aa466e9cdaee513b870610",
       "version_major": 2,
       "version_minor": 0
      },
      "text/plain": [
       "  0%|          | 0/27 [00:00<?, ?it/s]"
      ]
     },
     "metadata": {},
     "output_type": "display_data"
    },
    {
     "name": "stdout",
     "output_type": "stream",
     "text": [
      "Test_Acc:\u001b[1;32m90.338%\u001b[0m\n",
      "Best_ACC[\u001b[1;32m92.391%\u001b[0m]\n",
      "Epoch: [54] HAM10000 ==> Training ...\n"
     ]
    },
    {
     "data": {
      "application/vnd.jupyter.widget-view+json": {
       "model_id": "9bce913eba10440ca37f255416664be6",
       "version_major": 2,
       "version_minor": 0
      },
      "text/plain": [
       "  0%|          | 0/404 [00:00<?, ?it/s]"
      ]
     },
     "metadata": {},
     "output_type": "display_data"
    },
    {
     "name": "stdout",
     "output_type": "stream",
     "text": [
      "[202/404] Loss0.19453, ACC:0.72343%\n",
      "[404/404] Loss0.17272, ACC:0.72442%\n",
      "Train_Loss: 0.19777656464588525,ACC:0.725%\n",
      "\u001b[66mHAM10000 ==> testing ...\u001b[0m\n"
     ]
    },
    {
     "data": {
      "application/vnd.jupyter.widget-view+json": {
       "model_id": "224dce0a20734b34bfe4cdf1ebb1f2c3",
       "version_major": 2,
       "version_minor": 0
      },
      "text/plain": [
       "  0%|          | 0/27 [00:00<?, ?it/s]"
      ]
     },
     "metadata": {},
     "output_type": "display_data"
    },
    {
     "name": "stdout",
     "output_type": "stream",
     "text": [
      "Test_Acc:\u001b[1;32m92.391%\u001b[0m\n",
      "Best_ACC[\u001b[1;32m92.391%\u001b[0m]\n",
      "Epoch: [55] HAM10000 ==> Training ...\n"
     ]
    },
    {
     "data": {
      "application/vnd.jupyter.widget-view+json": {
       "model_id": "ee283ed01ca54f2392e82e6495a7a391",
       "version_major": 2,
       "version_minor": 0
      },
      "text/plain": [
       "  0%|          | 0/404 [00:00<?, ?it/s]"
      ]
     },
     "metadata": {},
     "output_type": "display_data"
    },
    {
     "name": "stdout",
     "output_type": "stream",
     "text": [
      "[202/404] Loss0.20551, ACC:0.73113%\n",
      "[404/404] Loss0.16324, ACC:0.73281%\n",
      "Train_Loss: 0.1933583916340134,ACC:0.733%\n",
      "\u001b[66mHAM10000 ==> testing ...\u001b[0m\n"
     ]
    },
    {
     "data": {
      "application/vnd.jupyter.widget-view+json": {
       "model_id": "2fcb20046bc3434cbf27e87f7d06d45c",
       "version_major": 2,
       "version_minor": 0
      },
      "text/plain": [
       "  0%|          | 0/27 [00:00<?, ?it/s]"
      ]
     },
     "metadata": {},
     "output_type": "display_data"
    },
    {
     "name": "stdout",
     "output_type": "stream",
     "text": [
      "Test_Acc:\u001b[1;32m93.72%\u001b[0m\n",
      "Best_ACC[\u001b[1;32m93.72%\u001b[0m]\n",
      "Epoch: [56] HAM10000 ==> Training ...\n"
     ]
    },
    {
     "data": {
      "application/vnd.jupyter.widget-view+json": {
       "model_id": "727e368c73b54d09af8a920cc50deb5c",
       "version_major": 2,
       "version_minor": 0
      },
      "text/plain": [
       "  0%|          | 0/404 [00:00<?, ?it/s]"
      ]
     },
     "metadata": {},
     "output_type": "display_data"
    },
    {
     "name": "stdout",
     "output_type": "stream",
     "text": [
      "[202/404] Loss0.20330, ACC:0.73534%\n",
      "[404/404] Loss0.17497, ACC:0.73619%\n",
      "Train_Loss: 0.19067916749875144,ACC:0.736%\n",
      "\u001b[66mHAM10000 ==> testing ...\u001b[0m\n"
     ]
    },
    {
     "data": {
      "application/vnd.jupyter.widget-view+json": {
       "model_id": "f0aded8a7d6a4cf3b8455759c9a9219f",
       "version_major": 2,
       "version_minor": 0
      },
      "text/plain": [
       "  0%|          | 0/27 [00:00<?, ?it/s]"
      ]
     },
     "metadata": {},
     "output_type": "display_data"
    },
    {
     "name": "stdout",
     "output_type": "stream",
     "text": [
      "Test_Acc:\u001b[1;32m93.841%\u001b[0m\n",
      "Best_ACC[\u001b[1;32m93.841%\u001b[0m]\n",
      "Epoch: [57] HAM10000 ==> Training ...\n"
     ]
    },
    {
     "data": {
      "application/vnd.jupyter.widget-view+json": {
       "model_id": "5e0dd7304d994b17b903060915ea8f10",
       "version_major": 2,
       "version_minor": 0
      },
      "text/plain": [
       "  0%|          | 0/404 [00:00<?, ?it/s]"
      ]
     },
     "metadata": {},
     "output_type": "display_data"
    },
    {
     "name": "stdout",
     "output_type": "stream",
     "text": [
      "[202/404] Loss0.18130, ACC:0.73608%\n",
      "[404/404] Loss0.18425, ACC:0.73526%\n",
      "Train_Loss: 0.19070914660645003,ACC:0.735%\n",
      "\u001b[66mHAM10000 ==> testing ...\u001b[0m\n"
     ]
    },
    {
     "data": {
      "application/vnd.jupyter.widget-view+json": {
       "model_id": "432ecf0932b04c89a3fb19533e859212",
       "version_major": 2,
       "version_minor": 0
      },
      "text/plain": [
       "  0%|          | 0/27 [00:00<?, ?it/s]"
      ]
     },
     "metadata": {},
     "output_type": "display_data"
    },
    {
     "name": "stdout",
     "output_type": "stream",
     "text": [
      "Test_Acc:\u001b[1;32m92.512%\u001b[0m\n",
      "Best_ACC[\u001b[1;32m93.841%\u001b[0m]\n",
      "Epoch: [58] HAM10000 ==> Training ...\n"
     ]
    },
    {
     "data": {
      "application/vnd.jupyter.widget-view+json": {
       "model_id": "4a811d9f269c4a7389f60d97629f1465",
       "version_major": 2,
       "version_minor": 0
      },
      "text/plain": [
       "  0%|          | 0/404 [00:00<?, ?it/s]"
      ]
     },
     "metadata": {},
     "output_type": "display_data"
    },
    {
     "name": "stdout",
     "output_type": "stream",
     "text": [
      "[202/404] Loss0.21460, ACC:0.72931%\n",
      "[404/404] Loss0.19065, ACC:0.72921%\n",
      "Train_Loss: 0.19530934357259533,ACC:0.729%\n",
      "\u001b[66mHAM10000 ==> testing ...\u001b[0m\n"
     ]
    },
    {
     "data": {
      "application/vnd.jupyter.widget-view+json": {
       "model_id": "cb57c1fbb99b409e8071e6737ef8a1b4",
       "version_major": 2,
       "version_minor": 0
      },
      "text/plain": [
       "  0%|          | 0/27 [00:00<?, ?it/s]"
      ]
     },
     "metadata": {},
     "output_type": "display_data"
    },
    {
     "name": "stdout",
     "output_type": "stream",
     "text": [
      "Test_Acc:\u001b[1;32m89.251%\u001b[0m\n",
      "Best_ACC[\u001b[1;32m93.841%\u001b[0m]\n",
      "Epoch: [59] HAM10000 ==> Training ...\n"
     ]
    },
    {
     "data": {
      "application/vnd.jupyter.widget-view+json": {
       "model_id": "661eeb72b7c34d2e84c7a49777feeebb",
       "version_major": 2,
       "version_minor": 0
      },
      "text/plain": [
       "  0%|          | 0/404 [00:00<?, ?it/s]"
      ]
     },
     "metadata": {},
     "output_type": "display_data"
    },
    {
     "name": "stdout",
     "output_type": "stream",
     "text": [
      "[202/404] Loss0.19106, ACC:0.72177%\n",
      "[404/404] Loss0.20549, ACC:0.72090%\n",
      "Train_Loss: 0.20142351618350143,ACC:0.721%\n",
      "\u001b[66mHAM10000 ==> testing ...\u001b[0m\n"
     ]
    },
    {
     "data": {
      "application/vnd.jupyter.widget-view+json": {
       "model_id": "7acaeb7ba38e42c490112e906d4d5b66",
       "version_major": 2,
       "version_minor": 0
      },
      "text/plain": [
       "  0%|          | 0/27 [00:00<?, ?it/s]"
      ]
     },
     "metadata": {},
     "output_type": "display_data"
    },
    {
     "name": "stdout",
     "output_type": "stream",
     "text": [
      "Test_Acc:\u001b[1;32m92.15%\u001b[0m\n",
      "Best_ACC[\u001b[1;32m93.841%\u001b[0m]\n",
      "Epoch: [60] HAM10000 ==> Training ...\n"
     ]
    },
    {
     "data": {
      "application/vnd.jupyter.widget-view+json": {
       "model_id": "aeb0c3d4f5d0459cb710ed6394b72617",
       "version_major": 2,
       "version_minor": 0
      },
      "text/plain": [
       "  0%|          | 0/404 [00:00<?, ?it/s]"
      ]
     },
     "metadata": {},
     "output_type": "display_data"
    },
    {
     "name": "stdout",
     "output_type": "stream",
     "text": [
      "[202/404] Loss0.23110, ACC:0.71009%\n",
      "[404/404] Loss0.20945, ACC:0.71105%\n",
      "Train_Loss: 0.2065237257076372,ACC:0.711%\n",
      "\u001b[66mHAM10000 ==> testing ...\u001b[0m\n"
     ]
    },
    {
     "data": {
      "application/vnd.jupyter.widget-view+json": {
       "model_id": "dd84de391dea4be18a22b5dae9d88317",
       "version_major": 2,
       "version_minor": 0
      },
      "text/plain": [
       "  0%|          | 0/27 [00:00<?, ?it/s]"
      ]
     },
     "metadata": {},
     "output_type": "display_data"
    },
    {
     "name": "stdout",
     "output_type": "stream",
     "text": [
      "Test_Acc:\u001b[1;32m91.787%\u001b[0m\n",
      "Best_ACC[\u001b[1;32m93.841%\u001b[0m]\n",
      "Epoch: [61] HAM10000 ==> Training ...\n"
     ]
    },
    {
     "data": {
      "application/vnd.jupyter.widget-view+json": {
       "model_id": "c13ebd4f840149a390aa20aa121ed34c",
       "version_major": 2,
       "version_minor": 0
      },
      "text/plain": [
       "  0%|          | 0/404 [00:00<?, ?it/s]"
      ]
     },
     "metadata": {},
     "output_type": "display_data"
    },
    {
     "name": "stdout",
     "output_type": "stream",
     "text": [
      "[202/404] Loss0.18973, ACC:0.71948%\n",
      "[404/404] Loss0.23669, ACC:0.71508%\n",
      "Train_Loss: 0.2058229529769114,ACC:0.715%\n",
      "\u001b[66mHAM10000 ==> testing ...\u001b[0m\n"
     ]
    },
    {
     "data": {
      "application/vnd.jupyter.widget-view+json": {
       "model_id": "168ecfa956504107a54812a888423459",
       "version_major": 2,
       "version_minor": 0
      },
      "text/plain": [
       "  0%|          | 0/27 [00:00<?, ?it/s]"
      ]
     },
     "metadata": {},
     "output_type": "display_data"
    },
    {
     "name": "stdout",
     "output_type": "stream",
     "text": [
      "Test_Acc:\u001b[1;32m89.734%\u001b[0m\n",
      "Best_ACC[\u001b[1;32m93.841%\u001b[0m]\n",
      "Epoch: [62] HAM10000 ==> Training ...\n"
     ]
    },
    {
     "data": {
      "application/vnd.jupyter.widget-view+json": {
       "model_id": "d25215adb3bc42f0b4bb80574c31c3e3",
       "version_major": 2,
       "version_minor": 0
      },
      "text/plain": [
       "  0%|          | 0/404 [00:00<?, ?it/s]"
      ]
     },
     "metadata": {},
     "output_type": "display_data"
    },
    {
     "name": "stdout",
     "output_type": "stream",
     "text": [
      "[202/404] Loss0.18043, ACC:0.72196%\n",
      "[404/404] Loss0.19615, ACC:0.71651%\n",
      "Train_Loss: 0.2035810907214585,ACC:0.717%\n",
      "\u001b[66mHAM10000 ==> testing ...\u001b[0m\n"
     ]
    },
    {
     "data": {
      "application/vnd.jupyter.widget-view+json": {
       "model_id": "4dd13e6b30e540b2be85ded45a95c791",
       "version_major": 2,
       "version_minor": 0
      },
      "text/plain": [
       "  0%|          | 0/27 [00:00<?, ?it/s]"
      ]
     },
     "metadata": {},
     "output_type": "display_data"
    },
    {
     "name": "stdout",
     "output_type": "stream",
     "text": [
      "Test_Acc:\u001b[1;32m93.72%\u001b[0m\n",
      "Best_ACC[\u001b[1;32m93.841%\u001b[0m]\n",
      "Epoch: [63] HAM10000 ==> Training ...\n"
     ]
    },
    {
     "data": {
      "application/vnd.jupyter.widget-view+json": {
       "model_id": "881dc4fc27274f9dba8b754f10779606",
       "version_major": 2,
       "version_minor": 0
      },
      "text/plain": [
       "  0%|          | 0/404 [00:00<?, ?it/s]"
      ]
     },
     "metadata": {},
     "output_type": "display_data"
    },
    {
     "name": "stdout",
     "output_type": "stream",
     "text": [
      "[202/404] Loss0.18966, ACC:0.72258%\n",
      "[404/404] Loss0.17491, ACC:0.72393%\n",
      "Train_Loss: 0.19903670837826068,ACC:0.724%\n",
      "\u001b[66mHAM10000 ==> testing ...\u001b[0m\n"
     ]
    },
    {
     "data": {
      "application/vnd.jupyter.widget-view+json": {
       "model_id": "20e228bfd77f43d1b8afd9af60ba61dd",
       "version_major": 2,
       "version_minor": 0
      },
      "text/plain": [
       "  0%|          | 0/27 [00:00<?, ?it/s]"
      ]
     },
     "metadata": {},
     "output_type": "display_data"
    },
    {
     "name": "stdout",
     "output_type": "stream",
     "text": [
      "Test_Acc:\u001b[1;32m65.58%\u001b[0m\n",
      "Best_ACC[\u001b[1;32m93.841%\u001b[0m]\n",
      "Epoch: [64] HAM10000 ==> Training ...\n"
     ]
    },
    {
     "data": {
      "application/vnd.jupyter.widget-view+json": {
       "model_id": "cf3551e9ddaa46acb6fd37ceceb870da",
       "version_major": 2,
       "version_minor": 0
      },
      "text/plain": [
       "  0%|          | 0/404 [00:00<?, ?it/s]"
      ]
     },
     "metadata": {},
     "output_type": "display_data"
    },
    {
     "name": "stdout",
     "output_type": "stream",
     "text": [
      "[202/404] Loss0.19103, ACC:0.73000%\n",
      "[404/404] Loss0.20078, ACC:0.73291%\n",
      "Train_Loss: 0.1925983907341367,ACC:0.733%\n",
      "\u001b[66mHAM10000 ==> testing ...\u001b[0m\n"
     ]
    },
    {
     "data": {
      "application/vnd.jupyter.widget-view+json": {
       "model_id": "27b9ec43acf6427e94b5e51688b8c623",
       "version_major": 2,
       "version_minor": 0
      },
      "text/plain": [
       "  0%|          | 0/27 [00:00<?, ?it/s]"
      ]
     },
     "metadata": {},
     "output_type": "display_data"
    },
    {
     "name": "stdout",
     "output_type": "stream",
     "text": [
      "Test_Acc:\u001b[1;32m92.754%\u001b[0m\n",
      "Best_ACC[\u001b[1;32m93.841%\u001b[0m]\n",
      "Epoch: [65] HAM10000 ==> Training ...\n"
     ]
    },
    {
     "data": {
      "application/vnd.jupyter.widget-view+json": {
       "model_id": "38c1ae203b244aae8e9d6b5f833c5fbc",
       "version_major": 2,
       "version_minor": 0
      },
      "text/plain": [
       "  0%|          | 0/404 [00:00<?, ?it/s]"
      ]
     },
     "metadata": {},
     "output_type": "display_data"
    },
    {
     "name": "stdout",
     "output_type": "stream",
     "text": [
      "[202/404] Loss0.16976, ACC:0.73875%\n",
      "[404/404] Loss0.16945, ACC:0.73942%\n",
      "Train_Loss: 0.1877136000312201,ACC:0.74%\n",
      "\u001b[66mHAM10000 ==> testing ...\u001b[0m\n"
     ]
    },
    {
     "data": {
      "application/vnd.jupyter.widget-view+json": {
       "model_id": "3157aef103294bcca6c0fb0d019f53d2",
       "version_major": 2,
       "version_minor": 0
      },
      "text/plain": [
       "  0%|          | 0/27 [00:00<?, ?it/s]"
      ]
     },
     "metadata": {},
     "output_type": "display_data"
    },
    {
     "name": "stdout",
     "output_type": "stream",
     "text": [
      "Test_Acc:\u001b[1;32m93.841%\u001b[0m\n",
      "Best_ACC[\u001b[1;32m93.841%\u001b[0m]\n",
      "Epoch: [66] HAM10000 ==> Training ...\n"
     ]
    },
    {
     "data": {
      "application/vnd.jupyter.widget-view+json": {
       "model_id": "7c18f2b8518648b2afb2fbd77977bec0",
       "version_major": 2,
       "version_minor": 0
      },
      "text/plain": [
       "  0%|          | 0/404 [00:00<?, ?it/s]"
      ]
     },
     "metadata": {},
     "output_type": "display_data"
    },
    {
     "name": "stdout",
     "output_type": "stream",
     "text": [
      "[202/404] Loss0.18020, ACC:0.74664%\n",
      "[404/404] Loss0.19759, ACC:0.74414%\n",
      "Train_Loss: 0.18567971464726005,ACC:0.744%\n",
      "\u001b[66mHAM10000 ==> testing ...\u001b[0m\n"
     ]
    },
    {
     "data": {
      "application/vnd.jupyter.widget-view+json": {
       "model_id": "a3895abc4c15459aa2a028301c05a09b",
       "version_major": 2,
       "version_minor": 0
      },
      "text/plain": [
       "  0%|          | 0/27 [00:00<?, ?it/s]"
      ]
     },
     "metadata": {},
     "output_type": "display_data"
    },
    {
     "name": "stdout",
     "output_type": "stream",
     "text": [
      "Test_Acc:\u001b[1;32m93.72%\u001b[0m\n",
      "Best_ACC[\u001b[1;32m93.841%\u001b[0m]\n",
      "Epoch: [67] HAM10000 ==> Training ...\n"
     ]
    },
    {
     "data": {
      "application/vnd.jupyter.widget-view+json": {
       "model_id": "35b0d456fdf14ac38d3ab22f046407d2",
       "version_major": 2,
       "version_minor": 0
      },
      "text/plain": [
       "  0%|          | 0/404 [00:00<?, ?it/s]"
      ]
     },
     "metadata": {},
     "output_type": "display_data"
    },
    {
     "name": "stdout",
     "output_type": "stream",
     "text": [
      "[202/404] Loss0.16608, ACC:0.74671%\n",
      "[404/404] Loss0.16459, ACC:0.74524%\n",
      "Train_Loss: 0.18629349059987776,ACC:0.745%\n",
      "\u001b[66mHAM10000 ==> testing ...\u001b[0m\n"
     ]
    },
    {
     "data": {
      "application/vnd.jupyter.widget-view+json": {
       "model_id": "f21eaa3fc7b5418193dee43e4f27f2b7",
       "version_major": 2,
       "version_minor": 0
      },
      "text/plain": [
       "  0%|          | 0/27 [00:00<?, ?it/s]"
      ]
     },
     "metadata": {},
     "output_type": "display_data"
    },
    {
     "name": "stdout",
     "output_type": "stream",
     "text": [
      "Test_Acc:\u001b[1;32m93.961%\u001b[0m\n",
      "Best_ACC[\u001b[1;32m93.961%\u001b[0m]\n",
      "Epoch: [68] HAM10000 ==> Training ...\n"
     ]
    },
    {
     "data": {
      "application/vnd.jupyter.widget-view+json": {
       "model_id": "a46bceabeba74d5e96c843dce982fd56",
       "version_major": 2,
       "version_minor": 0
      },
      "text/plain": [
       "  0%|          | 0/404 [00:00<?, ?it/s]"
      ]
     },
     "metadata": {},
     "output_type": "display_data"
    },
    {
     "name": "stdout",
     "output_type": "stream",
     "text": [
      "[202/404] Loss0.19384, ACC:0.73813%\n",
      "[404/404] Loss0.21246, ACC:0.73592%\n",
      "Train_Loss: 0.19095696649043867,ACC:0.736%\n",
      "\u001b[66mHAM10000 ==> testing ...\u001b[0m\n"
     ]
    },
    {
     "data": {
      "application/vnd.jupyter.widget-view+json": {
       "model_id": "6904d5654fd9484c99521135aed45f2a",
       "version_major": 2,
       "version_minor": 0
      },
      "text/plain": [
       "  0%|          | 0/27 [00:00<?, ?it/s]"
      ]
     },
     "metadata": {},
     "output_type": "display_data"
    },
    {
     "name": "stdout",
     "output_type": "stream",
     "text": [
      "Test_Acc:\u001b[1;32m93.237%\u001b[0m\n",
      "Best_ACC[\u001b[1;32m93.961%\u001b[0m]\n",
      "Epoch: [69] HAM10000 ==> Training ...\n"
     ]
    },
    {
     "data": {
      "application/vnd.jupyter.widget-view+json": {
       "model_id": "84b888ee4a1e445b835731d1f61760e5",
       "version_major": 2,
       "version_minor": 0
      },
      "text/plain": [
       "  0%|          | 0/404 [00:00<?, ?it/s]"
      ]
     },
     "metadata": {},
     "output_type": "display_data"
    },
    {
     "name": "stdout",
     "output_type": "stream",
     "text": [
      "[202/404] Loss0.17268, ACC:0.73016%\n",
      "[404/404] Loss0.17903, ACC:0.73010%\n",
      "Train_Loss: 0.19585078659624156,ACC:0.73%\n",
      "\u001b[66mHAM10000 ==> testing ...\u001b[0m\n"
     ]
    },
    {
     "data": {
      "application/vnd.jupyter.widget-view+json": {
       "model_id": "7cc42b44cc1b480184ef715c0866d0d5",
       "version_major": 2,
       "version_minor": 0
      },
      "text/plain": [
       "  0%|          | 0/27 [00:00<?, ?it/s]"
      ]
     },
     "metadata": {},
     "output_type": "display_data"
    },
    {
     "name": "stdout",
     "output_type": "stream",
     "text": [
      "Test_Acc:\u001b[1;32m86.836%\u001b[0m\n",
      "Best_ACC[\u001b[1;32m93.961%\u001b[0m]\n",
      "Epoch: [70] HAM10000 ==> Training ...\n"
     ]
    },
    {
     "data": {
      "application/vnd.jupyter.widget-view+json": {
       "model_id": "271f63126d9448879439ae490f6252a2",
       "version_major": 2,
       "version_minor": 0
      },
      "text/plain": [
       "  0%|          | 0/404 [00:00<?, ?it/s]"
      ]
     },
     "metadata": {},
     "output_type": "display_data"
    },
    {
     "name": "stdout",
     "output_type": "stream",
     "text": [
      "[202/404] Loss0.20615, ACC:0.71832%\n",
      "[404/404] Loss0.19476, ACC:0.71950%\n",
      "Train_Loss: 0.20140320888840327,ACC:0.72%\n",
      "\u001b[66mHAM10000 ==> testing ...\u001b[0m\n"
     ]
    },
    {
     "data": {
      "application/vnd.jupyter.widget-view+json": {
       "model_id": "61b7991375ef46f8b89f402468bb1dd7",
       "version_major": 2,
       "version_minor": 0
      },
      "text/plain": [
       "  0%|          | 0/27 [00:00<?, ?it/s]"
      ]
     },
     "metadata": {},
     "output_type": "display_data"
    },
    {
     "name": "stdout",
     "output_type": "stream",
     "text": [
      "Test_Acc:\u001b[1;32m92.271%\u001b[0m\n",
      "Best_ACC[\u001b[1;32m93.961%\u001b[0m]\n",
      "Epoch: [71] HAM10000 ==> Training ...\n"
     ]
    },
    {
     "data": {
      "application/vnd.jupyter.widget-view+json": {
       "model_id": "e63bee67229248c59873f0376477e53e",
       "version_major": 2,
       "version_minor": 0
      },
      "text/plain": [
       "  0%|          | 0/404 [00:00<?, ?it/s]"
      ]
     },
     "metadata": {},
     "output_type": "display_data"
    },
    {
     "name": "stdout",
     "output_type": "stream",
     "text": [
      "[202/404] Loss0.24506, ACC:0.71631%\n",
      "[404/404] Loss0.19436, ACC:0.71782%\n",
      "Train_Loss: 0.20171066550630154,ACC:0.718%\n",
      "\u001b[66mHAM10000 ==> testing ...\u001b[0m\n"
     ]
    },
    {
     "data": {
      "application/vnd.jupyter.widget-view+json": {
       "model_id": "7d86b24d973641b393752574ebc03e05",
       "version_major": 2,
       "version_minor": 0
      },
      "text/plain": [
       "  0%|          | 0/27 [00:00<?, ?it/s]"
      ]
     },
     "metadata": {},
     "output_type": "display_data"
    },
    {
     "name": "stdout",
     "output_type": "stream",
     "text": [
      "Test_Acc:\u001b[1;32m91.667%\u001b[0m\n",
      "Best_ACC[\u001b[1;32m93.961%\u001b[0m]\n",
      "Epoch: [72] HAM10000 ==> Training ...\n"
     ]
    },
    {
     "data": {
      "application/vnd.jupyter.widget-view+json": {
       "model_id": "a6feaa7b5fc440e8810d27b599ccfbc1",
       "version_major": 2,
       "version_minor": 0
      },
      "text/plain": [
       "  0%|          | 0/404 [00:00<?, ?it/s]"
      ]
     },
     "metadata": {},
     "output_type": "display_data"
    },
    {
     "name": "stdout",
     "output_type": "stream",
     "text": [
      "[202/404] Loss0.22215, ACC:0.72401%\n",
      "[404/404] Loss0.20628, ACC:0.72471%\n",
      "Train_Loss: 0.19903706762902806,ACC:0.725%\n",
      "\u001b[66mHAM10000 ==> testing ...\u001b[0m\n"
     ]
    },
    {
     "data": {
      "application/vnd.jupyter.widget-view+json": {
       "model_id": "d1f576444cb4486abd974546bcce2cc3",
       "version_major": 2,
       "version_minor": 0
      },
      "text/plain": [
       "  0%|          | 0/27 [00:00<?, ?it/s]"
      ]
     },
     "metadata": {},
     "output_type": "display_data"
    },
    {
     "name": "stdout",
     "output_type": "stream",
     "text": [
      "Test_Acc:\u001b[1;32m93.116%\u001b[0m\n",
      "Best_ACC[\u001b[1;32m93.961%\u001b[0m]\n",
      "Epoch: [73] HAM10000 ==> Training ...\n"
     ]
    },
    {
     "data": {
      "application/vnd.jupyter.widget-view+json": {
       "model_id": "d32333d25db34ce8a56a568ce63a16e8",
       "version_major": 2,
       "version_minor": 0
      },
      "text/plain": [
       "  0%|          | 0/404 [00:00<?, ?it/s]"
      ]
     },
     "metadata": {},
     "output_type": "display_data"
    },
    {
     "name": "stdout",
     "output_type": "stream",
     "text": [
      "[202/404] Loss0.21839, ACC:0.73356%\n",
      "[404/404] Loss0.16991, ACC:0.73147%\n",
      "Train_Loss: 0.1940179888417225,ACC:0.732%\n",
      "\u001b[66mHAM10000 ==> testing ...\u001b[0m\n"
     ]
    },
    {
     "data": {
      "application/vnd.jupyter.widget-view+json": {
       "model_id": "8263ea84ef4e4dfd8239fe2ecef657db",
       "version_major": 2,
       "version_minor": 0
      },
      "text/plain": [
       "  0%|          | 0/27 [00:00<?, ?it/s]"
      ]
     },
     "metadata": {},
     "output_type": "display_data"
    },
    {
     "name": "stdout",
     "output_type": "stream",
     "text": [
      "Test_Acc:\u001b[1;32m95.169%\u001b[0m\n",
      "Best_ACC[\u001b[1;32m95.169%\u001b[0m]\n",
      "Epoch: [74] HAM10000 ==> Training ...\n"
     ]
    },
    {
     "data": {
      "application/vnd.jupyter.widget-view+json": {
       "model_id": "879b7690b54849479de828d369952d14",
       "version_major": 2,
       "version_minor": 0
      },
      "text/plain": [
       "  0%|          | 0/404 [00:00<?, ?it/s]"
      ]
     },
     "metadata": {},
     "output_type": "display_data"
    },
    {
     "name": "stdout",
     "output_type": "stream",
     "text": [
      "[202/404] Loss0.15687, ACC:0.74114%\n",
      "[404/404] Loss0.21948, ACC:0.74033%\n",
      "Train_Loss: 0.18835171902238732,ACC:0.741%\n",
      "\u001b[66mHAM10000 ==> testing ...\u001b[0m\n"
     ]
    },
    {
     "data": {
      "application/vnd.jupyter.widget-view+json": {
       "model_id": "c7962aa1abf14cc8b3d0c43913d158ca",
       "version_major": 2,
       "version_minor": 0
      },
      "text/plain": [
       "  0%|          | 0/27 [00:00<?, ?it/s]"
      ]
     },
     "metadata": {},
     "output_type": "display_data"
    },
    {
     "name": "stdout",
     "output_type": "stream",
     "text": [
      "Test_Acc:\u001b[1;32m94.807%\u001b[0m\n",
      "Best_ACC[\u001b[1;32m95.169%\u001b[0m]\n",
      "Epoch: [75] HAM10000 ==> Training ...\n"
     ]
    },
    {
     "data": {
      "application/vnd.jupyter.widget-view+json": {
       "model_id": "05d0c09257364fb69c82e6f0ca794d35",
       "version_major": 2,
       "version_minor": 0
      },
      "text/plain": [
       "  0%|          | 0/404 [00:00<?, ?it/s]"
      ]
     },
     "metadata": {},
     "output_type": "display_data"
    },
    {
     "name": "stdout",
     "output_type": "stream",
     "text": [
      "[202/404] Loss0.19491, ACC:0.74807%\n",
      "[404/404] Loss0.18814, ACC:0.75070%\n",
      "Train_Loss: 0.18246798235738632,ACC:0.751%\n",
      "\u001b[66mHAM10000 ==> testing ...\u001b[0m\n"
     ]
    },
    {
     "data": {
      "application/vnd.jupyter.widget-view+json": {
       "model_id": "50e5c4b3835c49fb807dcce08d8796a3",
       "version_major": 2,
       "version_minor": 0
      },
      "text/plain": [
       "  0%|          | 0/27 [00:00<?, ?it/s]"
      ]
     },
     "metadata": {},
     "output_type": "display_data"
    },
    {
     "name": "stdout",
     "output_type": "stream",
     "text": [
      "Test_Acc:\u001b[1;32m94.444%\u001b[0m\n",
      "Best_ACC[\u001b[1;32m95.169%\u001b[0m]\n",
      "Epoch: [76] HAM10000 ==> Training ...\n"
     ]
    },
    {
     "data": {
      "application/vnd.jupyter.widget-view+json": {
       "model_id": "88eaa0426ca24ceb860906ed355ea646",
       "version_major": 2,
       "version_minor": 0
      },
      "text/plain": [
       "  0%|          | 0/404 [00:00<?, ?it/s]"
      ]
     },
     "metadata": {},
     "output_type": "display_data"
    },
    {
     "name": "stdout",
     "output_type": "stream",
     "text": [
      "[202/404] Loss0.18226, ACC:0.75762%\n",
      "[404/404] Loss0.19006, ACC:0.75350%\n",
      "Train_Loss: 0.1817261288219159,ACC:0.754%\n",
      "\u001b[66mHAM10000 ==> testing ...\u001b[0m\n"
     ]
    },
    {
     "data": {
      "application/vnd.jupyter.widget-view+json": {
       "model_id": "8f1180a11fb0435bb32d0264ad991dea",
       "version_major": 2,
       "version_minor": 0
      },
      "text/plain": [
       "  0%|          | 0/27 [00:00<?, ?it/s]"
      ]
     },
     "metadata": {},
     "output_type": "display_data"
    },
    {
     "name": "stdout",
     "output_type": "stream",
     "text": [
      "Test_Acc:\u001b[1;32m95.048%\u001b[0m\n",
      "Best_ACC[\u001b[1;32m95.169%\u001b[0m]\n",
      "Epoch: [77] HAM10000 ==> Training ...\n"
     ]
    },
    {
     "data": {
      "application/vnd.jupyter.widget-view+json": {
       "model_id": "63012d060eaa428d9542089fb1fe7029",
       "version_major": 2,
       "version_minor": 0
      },
      "text/plain": [
       "  0%|          | 0/404 [00:00<?, ?it/s]"
      ]
     },
     "metadata": {},
     "output_type": "display_data"
    },
    {
     "name": "stdout",
     "output_type": "stream",
     "text": [
      "[202/404] Loss0.18143, ACC:0.75336%\n",
      "[404/404] Loss0.18424, ACC:0.75178%\n",
      "Train_Loss: 0.18178496144638204,ACC:0.752%\n",
      "\u001b[66mHAM10000 ==> testing ...\u001b[0m\n"
     ]
    },
    {
     "data": {
      "application/vnd.jupyter.widget-view+json": {
       "model_id": "c3891522e2274dd7917317cfbe07f31f",
       "version_major": 2,
       "version_minor": 0
      },
      "text/plain": [
       "  0%|          | 0/27 [00:00<?, ?it/s]"
      ]
     },
     "metadata": {},
     "output_type": "display_data"
    },
    {
     "name": "stdout",
     "output_type": "stream",
     "text": [
      "Test_Acc:\u001b[1;32m95.169%\u001b[0m\n",
      "Best_ACC[\u001b[1;32m95.169%\u001b[0m]\n",
      "Epoch: [78] HAM10000 ==> Training ...\n"
     ]
    },
    {
     "data": {
      "application/vnd.jupyter.widget-view+json": {
       "model_id": "cf3fb6057142415daeab717c39ad427f",
       "version_major": 2,
       "version_minor": 0
      },
      "text/plain": [
       "  0%|          | 0/404 [00:00<?, ?it/s]"
      ]
     },
     "metadata": {},
     "output_type": "display_data"
    },
    {
     "name": "stdout",
     "output_type": "stream",
     "text": [
      "[202/404] Loss0.19788, ACC:0.74459%\n",
      "[404/404] Loss0.20451, ACC:0.74350%\n",
      "Train_Loss: 0.18698296013592494,ACC:0.744%\n",
      "\u001b[66mHAM10000 ==> testing ...\u001b[0m\n"
     ]
    },
    {
     "data": {
      "application/vnd.jupyter.widget-view+json": {
       "model_id": "001556f3773b44288544758a43d97e3f",
       "version_major": 2,
       "version_minor": 0
      },
      "text/plain": [
       "  0%|          | 0/27 [00:00<?, ?it/s]"
      ]
     },
     "metadata": {},
     "output_type": "display_data"
    },
    {
     "name": "stdout",
     "output_type": "stream",
     "text": [
      "Test_Acc:\u001b[1;32m93.116%\u001b[0m\n",
      "Best_ACC[\u001b[1;32m95.169%\u001b[0m]\n",
      "Epoch: [79] HAM10000 ==> Training ...\n"
     ]
    },
    {
     "data": {
      "application/vnd.jupyter.widget-view+json": {
       "model_id": "729f6d60d0ed40068d358eae5205658e",
       "version_major": 2,
       "version_minor": 0
      },
      "text/plain": [
       "  0%|          | 0/404 [00:00<?, ?it/s]"
      ]
     },
     "metadata": {},
     "output_type": "display_data"
    },
    {
     "name": "stdout",
     "output_type": "stream",
     "text": [
      "[202/404] Loss0.23168, ACC:0.73221%\n",
      "[404/404] Loss0.16969, ACC:0.73573%\n",
      "Train_Loss: 0.1921062228260654,ACC:0.736%\n",
      "\u001b[66mHAM10000 ==> testing ...\u001b[0m\n"
     ]
    },
    {
     "data": {
      "application/vnd.jupyter.widget-view+json": {
       "model_id": "85d7f9955f914091ac8fc1af94e8631f",
       "version_major": 2,
       "version_minor": 0
      },
      "text/plain": [
       "  0%|          | 0/27 [00:00<?, ?it/s]"
      ]
     },
     "metadata": {},
     "output_type": "display_data"
    },
    {
     "name": "stdout",
     "output_type": "stream",
     "text": [
      "Test_Acc:\u001b[1;32m93.116%\u001b[0m\n",
      "Best_ACC[\u001b[1;32m95.169%\u001b[0m]\n",
      "Epoch: [80] HAM10000 ==> Training ...\n"
     ]
    },
    {
     "data": {
      "application/vnd.jupyter.widget-view+json": {
       "model_id": "0b610a2947ce4e7baca64d8b7a59621e",
       "version_major": 2,
       "version_minor": 0
      },
      "text/plain": [
       "  0%|          | 0/404 [00:00<?, ?it/s]"
      ]
     },
     "metadata": {},
     "output_type": "display_data"
    },
    {
     "name": "stdout",
     "output_type": "stream",
     "text": [
      "[202/404] Loss0.18380, ACC:0.72815%\n",
      "[404/404] Loss0.18975, ACC:0.72888%\n",
      "Train_Loss: 0.1961926914899066,ACC:0.729%\n",
      "\u001b[66mHAM10000 ==> testing ...\u001b[0m\n"
     ]
    },
    {
     "data": {
      "application/vnd.jupyter.widget-view+json": {
       "model_id": "3bd91a17eab44272aad809d2dd0be769",
       "version_major": 2,
       "version_minor": 0
      },
      "text/plain": [
       "  0%|          | 0/27 [00:00<?, ?it/s]"
      ]
     },
     "metadata": {},
     "output_type": "display_data"
    },
    {
     "name": "stdout",
     "output_type": "stream",
     "text": [
      "Test_Acc:\u001b[1;32m90.942%\u001b[0m\n",
      "Best_ACC[\u001b[1;32m95.169%\u001b[0m]\n",
      "Epoch: [81] HAM10000 ==> Training ...\n"
     ]
    },
    {
     "data": {
      "application/vnd.jupyter.widget-view+json": {
       "model_id": "7a6530ff5d974697a9aca1648b3f0b69",
       "version_major": 2,
       "version_minor": 0
      },
      "text/plain": [
       "  0%|          | 0/404 [00:00<?, ?it/s]"
      ]
     },
     "metadata": {},
     "output_type": "display_data"
    },
    {
     "name": "stdout",
     "output_type": "stream",
     "text": [
      "[202/404] Loss0.21785, ACC:0.72053%\n",
      "[404/404] Loss0.22038, ACC:0.72633%\n",
      "Train_Loss: 0.1976405526373056,ACC:0.727%\n",
      "\u001b[66mHAM10000 ==> testing ...\u001b[0m\n"
     ]
    },
    {
     "data": {
      "application/vnd.jupyter.widget-view+json": {
       "model_id": "55991963f5eb42c7a9add41bbd474a59",
       "version_major": 2,
       "version_minor": 0
      },
      "text/plain": [
       "  0%|          | 0/27 [00:00<?, ?it/s]"
      ]
     },
     "metadata": {},
     "output_type": "display_data"
    },
    {
     "name": "stdout",
     "output_type": "stream",
     "text": [
      "Test_Acc:\u001b[1;32m94.444%\u001b[0m\n",
      "Best_ACC[\u001b[1;32m95.169%\u001b[0m]\n",
      "Epoch: [82] HAM10000 ==> Training ...\n"
     ]
    },
    {
     "data": {
      "application/vnd.jupyter.widget-view+json": {
       "model_id": "ef8d87780f024099b949f48c637668fe",
       "version_major": 2,
       "version_minor": 0
      },
      "text/plain": [
       "  0%|          | 0/404 [00:00<?, ?it/s]"
      ]
     },
     "metadata": {},
     "output_type": "display_data"
    },
    {
     "name": "stdout",
     "output_type": "stream",
     "text": [
      "[202/404] Loss0.20272, ACC:0.73167%\n",
      "[404/404] Loss0.21844, ACC:0.73070%\n",
      "Train_Loss: 0.1952961235869639,ACC:0.731%\n",
      "\u001b[66mHAM10000 ==> testing ...\u001b[0m\n"
     ]
    },
    {
     "data": {
      "application/vnd.jupyter.widget-view+json": {
       "model_id": "e688e32430214271a92dae70a020b903",
       "version_major": 2,
       "version_minor": 0
      },
      "text/plain": [
       "  0%|          | 0/27 [00:00<?, ?it/s]"
      ]
     },
     "metadata": {},
     "output_type": "display_data"
    },
    {
     "name": "stdout",
     "output_type": "stream",
     "text": [
      "Test_Acc:\u001b[1;32m89.614%\u001b[0m\n",
      "Best_ACC[\u001b[1;32m95.169%\u001b[0m]\n",
      "Epoch: [83] HAM10000 ==> Training ...\n"
     ]
    },
    {
     "data": {
      "application/vnd.jupyter.widget-view+json": {
       "model_id": "3be7585d992e4af2866008caa1e34f3a",
       "version_major": 2,
       "version_minor": 0
      },
      "text/plain": [
       "  0%|          | 0/404 [00:00<?, ?it/s]"
      ]
     },
     "metadata": {},
     "output_type": "display_data"
    },
    {
     "name": "stdout",
     "output_type": "stream",
     "text": [
      "[202/404] Loss0.17600, ACC:0.73859%\n",
      "[404/404] Loss0.20547, ACC:0.73784%\n",
      "Train_Loss: 0.19072807170819528,ACC:0.738%\n",
      "\u001b[66mHAM10000 ==> testing ...\u001b[0m\n"
     ]
    },
    {
     "data": {
      "application/vnd.jupyter.widget-view+json": {
       "model_id": "7262b4c7f23644f4aa9476a9bad25a86",
       "version_major": 2,
       "version_minor": 0
      },
      "text/plain": [
       "  0%|          | 0/27 [00:00<?, ?it/s]"
      ]
     },
     "metadata": {},
     "output_type": "display_data"
    },
    {
     "name": "stdout",
     "output_type": "stream",
     "text": [
      "Test_Acc:\u001b[1;32m92.633%\u001b[0m\n",
      "Best_ACC[\u001b[1;32m95.169%\u001b[0m]\n",
      "Epoch: [84] HAM10000 ==> Training ...\n"
     ]
    },
    {
     "data": {
      "application/vnd.jupyter.widget-view+json": {
       "model_id": "fb95fab570fa49669ccfeb99f7da3334",
       "version_major": 2,
       "version_minor": 0
      },
      "text/plain": [
       "  0%|          | 0/404 [00:00<?, ?it/s]"
      ]
     },
     "metadata": {},
     "output_type": "display_data"
    },
    {
     "name": "stdout",
     "output_type": "stream",
     "text": [
      "[202/404] Loss0.16513, ACC:0.74791%\n",
      "[404/404] Loss0.18884, ACC:0.74849%\n",
      "Train_Loss: 0.18403724927713375,ACC:0.749%\n",
      "\u001b[66mHAM10000 ==> testing ...\u001b[0m\n"
     ]
    },
    {
     "data": {
      "application/vnd.jupyter.widget-view+json": {
       "model_id": "563ab9ee63dd4abb9001a697d2d86ab4",
       "version_major": 2,
       "version_minor": 0
      },
      "text/plain": [
       "  0%|          | 0/27 [00:00<?, ?it/s]"
      ]
     },
     "metadata": {},
     "output_type": "display_data"
    },
    {
     "name": "stdout",
     "output_type": "stream",
     "text": [
      "Test_Acc:\u001b[1;32m93.961%\u001b[0m\n",
      "Best_ACC[\u001b[1;32m95.169%\u001b[0m]\n",
      "Epoch: [85] HAM10000 ==> Training ...\n"
     ]
    },
    {
     "data": {
      "application/vnd.jupyter.widget-view+json": {
       "model_id": "f7be99b97af443179666cc22bb6b7267",
       "version_major": 2,
       "version_minor": 0
      },
      "text/plain": [
       "  0%|          | 0/404 [00:00<?, ?it/s]"
      ]
     },
     "metadata": {},
     "output_type": "display_data"
    },
    {
     "name": "stdout",
     "output_type": "stream",
     "text": [
      "[202/404] Loss0.19150, ACC:0.75398%\n",
      "[404/404] Loss0.22541, ACC:0.75607%\n",
      "Train_Loss: 0.17984325215589292,ACC:0.756%\n",
      "\u001b[66mHAM10000 ==> testing ...\u001b[0m\n"
     ]
    },
    {
     "data": {
      "application/vnd.jupyter.widget-view+json": {
       "model_id": "af102517e8bc44eda212f46559af6c04",
       "version_major": 2,
       "version_minor": 0
      },
      "text/plain": [
       "  0%|          | 0/27 [00:00<?, ?it/s]"
      ]
     },
     "metadata": {},
     "output_type": "display_data"
    },
    {
     "name": "stdout",
     "output_type": "stream",
     "text": [
      "Test_Acc:\u001b[1;32m93.599%\u001b[0m\n",
      "Best_ACC[\u001b[1;32m95.169%\u001b[0m]\n",
      "Epoch: [86] HAM10000 ==> Training ...\n"
     ]
    },
    {
     "data": {
      "application/vnd.jupyter.widget-view+json": {
       "model_id": "4b963ff0c01f4362aa7a1f1bcb238573",
       "version_major": 2,
       "version_minor": 0
      },
      "text/plain": [
       "  0%|          | 0/404 [00:00<?, ?it/s]"
      ]
     },
     "metadata": {},
     "output_type": "display_data"
    },
    {
     "name": "stdout",
     "output_type": "stream",
     "text": [
      "[202/404] Loss0.16062, ACC:0.75623%\n",
      "[404/404] Loss0.18122, ACC:0.75652%\n",
      "Train_Loss: 0.1788846267995858,ACC:0.757%\n",
      "\u001b[66mHAM10000 ==> testing ...\u001b[0m\n"
     ]
    },
    {
     "data": {
      "application/vnd.jupyter.widget-view+json": {
       "model_id": "9df6b7d75e30463b83bd9af57aec1c9e",
       "version_major": 2,
       "version_minor": 0
      },
      "text/plain": [
       "  0%|          | 0/27 [00:00<?, ?it/s]"
      ]
     },
     "metadata": {},
     "output_type": "display_data"
    },
    {
     "name": "stdout",
     "output_type": "stream",
     "text": [
      "Test_Acc:\u001b[1;32m92.874%\u001b[0m\n",
      "Best_ACC[\u001b[1;32m95.169%\u001b[0m]\n",
      "Epoch: [87] HAM10000 ==> Training ...\n"
     ]
    },
    {
     "data": {
      "application/vnd.jupyter.widget-view+json": {
       "model_id": "ba521dc8b5044be5a80f6a001da659bd",
       "version_major": 2,
       "version_minor": 0
      },
      "text/plain": [
       "  0%|          | 0/404 [00:00<?, ?it/s]"
      ]
     },
     "metadata": {},
     "output_type": "display_data"
    },
    {
     "name": "stdout",
     "output_type": "stream",
     "text": [
      "[202/404] Loss0.14565, ACC:0.75565%\n",
      "[404/404] Loss0.18718, ACC:0.75611%\n",
      "Train_Loss: 0.17831527404855974,ACC:0.756%\n",
      "\u001b[66mHAM10000 ==> testing ...\u001b[0m\n"
     ]
    },
    {
     "data": {
      "application/vnd.jupyter.widget-view+json": {
       "model_id": "322e9d15b191434996e48730aa3be9a5",
       "version_major": 2,
       "version_minor": 0
      },
      "text/plain": [
       "  0%|          | 0/27 [00:00<?, ?it/s]"
      ]
     },
     "metadata": {},
     "output_type": "display_data"
    },
    {
     "name": "stdout",
     "output_type": "stream",
     "text": [
      "Test_Acc:\u001b[1;32m93.357%\u001b[0m\n",
      "Best_ACC[\u001b[1;32m95.169%\u001b[0m]\n",
      "Epoch: [88] HAM10000 ==> Training ...\n"
     ]
    },
    {
     "data": {
      "application/vnd.jupyter.widget-view+json": {
       "model_id": "0291b3d9970a458ab3c62ef01efe0063",
       "version_major": 2,
       "version_minor": 0
      },
      "text/plain": [
       "  0%|          | 0/404 [00:00<?, ?it/s]"
      ]
     },
     "metadata": {},
     "output_type": "display_data"
    },
    {
     "name": "stdout",
     "output_type": "stream",
     "text": [
      "[202/404] Loss0.17443, ACC:0.75101%\n",
      "[404/404] Loss0.14879, ACC:0.75072%\n",
      "Train_Loss: 0.18319414345787302,ACC:0.751%\n",
      "\u001b[66mHAM10000 ==> testing ...\u001b[0m\n"
     ]
    },
    {
     "data": {
      "application/vnd.jupyter.widget-view+json": {
       "model_id": "2764216e7c184c6aab60e8ae3e2afcbf",
       "version_major": 2,
       "version_minor": 0
      },
      "text/plain": [
       "  0%|          | 0/27 [00:00<?, ?it/s]"
      ]
     },
     "metadata": {},
     "output_type": "display_data"
    },
    {
     "name": "stdout",
     "output_type": "stream",
     "text": [
      "Test_Acc:\u001b[1;32m95.048%\u001b[0m\n",
      "Best_ACC[\u001b[1;32m95.169%\u001b[0m]\n",
      "Epoch: [89] HAM10000 ==> Training ...\n"
     ]
    },
    {
     "data": {
      "application/vnd.jupyter.widget-view+json": {
       "model_id": "4a60ad743ec847708d12158aee038de1",
       "version_major": 2,
       "version_minor": 0
      },
      "text/plain": [
       "  0%|          | 0/404 [00:00<?, ?it/s]"
      ]
     },
     "metadata": {},
     "output_type": "display_data"
    },
    {
     "name": "stdout",
     "output_type": "stream",
     "text": [
      "[202/404] Loss0.18577, ACC:0.74292%\n",
      "[404/404] Loss0.17406, ACC:0.74199%\n",
      "Train_Loss: 0.18876824981652865,ACC:0.742%\n",
      "\u001b[66mHAM10000 ==> testing ...\u001b[0m\n"
     ]
    },
    {
     "data": {
      "application/vnd.jupyter.widget-view+json": {
       "model_id": "02074e141cd449adb8d74387363d917c",
       "version_major": 2,
       "version_minor": 0
      },
      "text/plain": [
       "  0%|          | 0/27 [00:00<?, ?it/s]"
      ]
     },
     "metadata": {},
     "output_type": "display_data"
    },
    {
     "name": "stdout",
     "output_type": "stream",
     "text": [
      "Test_Acc:\u001b[1;32m92.754%\u001b[0m\n",
      "Best_ACC[\u001b[1;32m95.169%\u001b[0m]\n",
      "Epoch: [90] HAM10000 ==> Training ...\n"
     ]
    },
    {
     "data": {
      "application/vnd.jupyter.widget-view+json": {
       "model_id": "61f68a9c241e43b7bd1fed281f8e53e8",
       "version_major": 2,
       "version_minor": 0
      },
      "text/plain": [
       "  0%|          | 0/404 [00:00<?, ?it/s]"
      ]
     },
     "metadata": {},
     "output_type": "display_data"
    },
    {
     "name": "stdout",
     "output_type": "stream",
     "text": [
      "[202/404] Loss0.19288, ACC:0.73430%\n",
      "[404/404] Loss0.22971, ACC:0.73318%\n",
      "Train_Loss: 0.19319042972851508,ACC:0.733%\n",
      "\u001b[66mHAM10000 ==> testing ...\u001b[0m\n"
     ]
    },
    {
     "data": {
      "application/vnd.jupyter.widget-view+json": {
       "model_id": "653fc7b77e2449b9aeb764a919c7b5e5",
       "version_major": 2,
       "version_minor": 0
      },
      "text/plain": [
       "  0%|          | 0/27 [00:00<?, ?it/s]"
      ]
     },
     "metadata": {},
     "output_type": "display_data"
    },
    {
     "name": "stdout",
     "output_type": "stream",
     "text": [
      "Test_Acc:\u001b[1;32m93.599%\u001b[0m\n",
      "Best_ACC[\u001b[1;32m95.169%\u001b[0m]\n",
      "Epoch: [91] HAM10000 ==> Training ...\n"
     ]
    },
    {
     "data": {
      "application/vnd.jupyter.widget-view+json": {
       "model_id": "ff4901a58c3945b499d2b1084391b04b",
       "version_major": 2,
       "version_minor": 0
      },
      "text/plain": [
       "  0%|          | 0/404 [00:00<?, ?it/s]"
      ]
     },
     "metadata": {},
     "output_type": "display_data"
    },
    {
     "name": "stdout",
     "output_type": "stream",
     "text": [
      "[202/404] Loss0.20395, ACC:0.73058%\n",
      "[404/404] Loss0.19606, ACC:0.73275%\n",
      "Train_Loss: 0.19439885861212663,ACC:0.733%\n",
      "\u001b[66mHAM10000 ==> testing ...\u001b[0m\n"
     ]
    },
    {
     "data": {
      "application/vnd.jupyter.widget-view+json": {
       "model_id": "e9abe8bd48c7465fa9b550d7aece41fd",
       "version_major": 2,
       "version_minor": 0
      },
      "text/plain": [
       "  0%|          | 0/27 [00:00<?, ?it/s]"
      ]
     },
     "metadata": {},
     "output_type": "display_data"
    },
    {
     "name": "stdout",
     "output_type": "stream",
     "text": [
      "Test_Acc:\u001b[1;32m91.787%\u001b[0m\n",
      "Best_ACC[\u001b[1;32m95.169%\u001b[0m]\n",
      "Epoch: [92] HAM10000 ==> Training ...\n"
     ]
    },
    {
     "data": {
      "application/vnd.jupyter.widget-view+json": {
       "model_id": "306a9764d707451cbbe5c40afb49f687",
       "version_major": 2,
       "version_minor": 0
      },
      "text/plain": [
       "  0%|          | 0/404 [00:00<?, ?it/s]"
      ]
     },
     "metadata": {},
     "output_type": "display_data"
    },
    {
     "name": "stdout",
     "output_type": "stream",
     "text": [
      "[202/404] Loss0.17624, ACC:0.73426%\n",
      "[404/404] Loss0.18522, ACC:0.73786%\n",
      "Train_Loss: 0.19074196674593605,ACC:0.738%\n",
      "\u001b[66mHAM10000 ==> testing ...\u001b[0m\n"
     ]
    },
    {
     "data": {
      "application/vnd.jupyter.widget-view+json": {
       "model_id": "8a5ab97d1f7b4236a655318d0a6ded87",
       "version_major": 2,
       "version_minor": 0
      },
      "text/plain": [
       "  0%|          | 0/27 [00:00<?, ?it/s]"
      ]
     },
     "metadata": {},
     "output_type": "display_data"
    },
    {
     "name": "stdout",
     "output_type": "stream",
     "text": [
      "Test_Acc:\u001b[1;32m93.72%\u001b[0m\n",
      "Best_ACC[\u001b[1;32m95.169%\u001b[0m]\n",
      "Epoch: [93] HAM10000 ==> Training ...\n"
     ]
    },
    {
     "data": {
      "application/vnd.jupyter.widget-view+json": {
       "model_id": "da75c5e613b349bd807b4ec1d4f08578",
       "version_major": 2,
       "version_minor": 0
      },
      "text/plain": [
       "  0%|          | 0/404 [00:00<?, ?it/s]"
      ]
     },
     "metadata": {},
     "output_type": "display_data"
    },
    {
     "name": "stdout",
     "output_type": "stream",
     "text": [
      "[202/404] Loss0.19242, ACC:0.74373%\n",
      "[404/404] Loss0.17293, ACC:0.74433%\n",
      "Train_Loss: 0.18649130794081356,ACC:0.745%\n",
      "\u001b[66mHAM10000 ==> testing ...\u001b[0m\n"
     ]
    },
    {
     "data": {
      "application/vnd.jupyter.widget-view+json": {
       "model_id": "2e637ea197394c359631be9163be1b6e",
       "version_major": 2,
       "version_minor": 0
      },
      "text/plain": [
       "  0%|          | 0/27 [00:00<?, ?it/s]"
      ]
     },
     "metadata": {},
     "output_type": "display_data"
    },
    {
     "name": "stdout",
     "output_type": "stream",
     "text": [
      "Test_Acc:\u001b[1;32m92.391%\u001b[0m\n",
      "Best_ACC[\u001b[1;32m95.169%\u001b[0m]\n",
      "Epoch: [94] HAM10000 ==> Training ...\n"
     ]
    },
    {
     "data": {
      "application/vnd.jupyter.widget-view+json": {
       "model_id": "54366761c54e4b54ad07ded236b13bab",
       "version_major": 2,
       "version_minor": 0
      },
      "text/plain": [
       "  0%|          | 0/404 [00:00<?, ?it/s]"
      ]
     },
     "metadata": {},
     "output_type": "display_data"
    },
    {
     "name": "stdout",
     "output_type": "stream",
     "text": [
      "[202/404] Loss0.17718, ACC:0.75646%\n",
      "[404/404] Loss0.16666, ACC:0.75514%\n",
      "Train_Loss: 0.18025300294013308,ACC:0.755%\n",
      "\u001b[66mHAM10000 ==> testing ...\u001b[0m\n"
     ]
    },
    {
     "data": {
      "application/vnd.jupyter.widget-view+json": {
       "model_id": "4bd9e0fd82624093bbbf6d7d97449dc7",
       "version_major": 2,
       "version_minor": 0
      },
      "text/plain": [
       "  0%|          | 0/27 [00:00<?, ?it/s]"
      ]
     },
     "metadata": {},
     "output_type": "display_data"
    },
    {
     "name": "stdout",
     "output_type": "stream",
     "text": [
      "Test_Acc:\u001b[1;32m93.841%\u001b[0m\n",
      "Best_ACC[\u001b[1;32m95.169%\u001b[0m]\n",
      "Epoch: [95] HAM10000 ==> Training ...\n"
     ]
    },
    {
     "data": {
      "application/vnd.jupyter.widget-view+json": {
       "model_id": "ea50959cfcdb425c8d065981d3c97712",
       "version_major": 2,
       "version_minor": 0
      },
      "text/plain": [
       "  0%|          | 0/404 [00:00<?, ?it/s]"
      ]
     },
     "metadata": {},
     "output_type": "display_data"
    },
    {
     "name": "stdout",
     "output_type": "stream",
     "text": [
      "[202/404] Loss0.18049, ACC:0.76481%\n",
      "[404/404] Loss0.18674, ACC:0.76209%\n",
      "Train_Loss: 0.1758545001249502,ACC:0.762%\n",
      "\u001b[66mHAM10000 ==> testing ...\u001b[0m\n"
     ]
    },
    {
     "data": {
      "application/vnd.jupyter.widget-view+json": {
       "model_id": "944dda75c4e04c55a016b947c29ab445",
       "version_major": 2,
       "version_minor": 0
      },
      "text/plain": [
       "  0%|          | 0/27 [00:00<?, ?it/s]"
      ]
     },
     "metadata": {},
     "output_type": "display_data"
    },
    {
     "name": "stdout",
     "output_type": "stream",
     "text": [
      "Test_Acc:\u001b[1;32m95.531%\u001b[0m\n",
      "Best_ACC[\u001b[1;32m95.531%\u001b[0m]\n",
      "Epoch: [96] HAM10000 ==> Training ...\n"
     ]
    },
    {
     "data": {
      "application/vnd.jupyter.widget-view+json": {
       "model_id": "1db62401be634658b9b1ff593a3066d1",
       "version_major": 2,
       "version_minor": 0
      },
      "text/plain": [
       "  0%|          | 0/404 [00:00<?, ?it/s]"
      ]
     },
     "metadata": {},
     "output_type": "display_data"
    },
    {
     "name": "stdout",
     "output_type": "stream",
     "text": [
      "[202/404] Loss0.18991, ACC:0.75851%\n",
      "[404/404] Loss0.18892, ACC:0.76002%\n",
      "Train_Loss: 0.17669044287488012,ACC:0.76%\n",
      "\u001b[66mHAM10000 ==> testing ...\u001b[0m\n"
     ]
    },
    {
     "data": {
      "application/vnd.jupyter.widget-view+json": {
       "model_id": "bb75100aa6674f74a456a96fdcd716b0",
       "version_major": 2,
       "version_minor": 0
      },
      "text/plain": [
       "  0%|          | 0/27 [00:00<?, ?it/s]"
      ]
     },
     "metadata": {},
     "output_type": "display_data"
    },
    {
     "name": "stdout",
     "output_type": "stream",
     "text": [
      "Test_Acc:\u001b[1;32m95.652%\u001b[0m\n",
      "Best_ACC[\u001b[1;32m95.652%\u001b[0m]\n",
      "Epoch: [97] HAM10000 ==> Training ...\n"
     ]
    },
    {
     "data": {
      "application/vnd.jupyter.widget-view+json": {
       "model_id": "99dcdfe961d34cb8a50953fe2e1792ad",
       "version_major": 2,
       "version_minor": 0
      },
      "text/plain": [
       "  0%|          | 0/404 [00:00<?, ?it/s]"
      ]
     },
     "metadata": {},
     "output_type": "display_data"
    },
    {
     "name": "stdout",
     "output_type": "stream",
     "text": [
      "[202/404] Loss0.18233, ACC:0.76412%\n",
      "[404/404] Loss0.15444, ACC:0.76303%\n",
      "Train_Loss: 0.17529446343974311,ACC:0.763%\n",
      "\u001b[66mHAM10000 ==> testing ...\u001b[0m\n"
     ]
    },
    {
     "data": {
      "application/vnd.jupyter.widget-view+json": {
       "model_id": "431c9efe83f340cc959b1cd6dbeddf03",
       "version_major": 2,
       "version_minor": 0
      },
      "text/plain": [
       "  0%|          | 0/27 [00:00<?, ?it/s]"
      ]
     },
     "metadata": {},
     "output_type": "display_data"
    },
    {
     "name": "stdout",
     "output_type": "stream",
     "text": [
      "Test_Acc:\u001b[1;32m94.203%\u001b[0m\n",
      "Best_ACC[\u001b[1;32m95.652%\u001b[0m]\n",
      "Epoch: [98] HAM10000 ==> Training ...\n"
     ]
    },
    {
     "data": {
      "application/vnd.jupyter.widget-view+json": {
       "model_id": "63bef9d479084d00a10b82b2daef1e39",
       "version_major": 2,
       "version_minor": 0
      },
      "text/plain": [
       "  0%|          | 0/404 [00:00<?, ?it/s]"
      ]
     },
     "metadata": {},
     "output_type": "display_data"
    },
    {
     "name": "stdout",
     "output_type": "stream",
     "text": [
      "[202/404] Loss0.19458, ACC:0.75630%\n",
      "[404/404] Loss0.20211, ACC:0.75642%\n",
      "Train_Loss: 0.18001075561093813,ACC:0.757%\n",
      "\u001b[66mHAM10000 ==> testing ...\u001b[0m\n"
     ]
    },
    {
     "data": {
      "application/vnd.jupyter.widget-view+json": {
       "model_id": "f83445c741134e719da3623bfc6f1506",
       "version_major": 2,
       "version_minor": 0
      },
      "text/plain": [
       "  0%|          | 0/27 [00:00<?, ?it/s]"
      ]
     },
     "metadata": {},
     "output_type": "display_data"
    },
    {
     "name": "stdout",
     "output_type": "stream",
     "text": [
      "Test_Acc:\u001b[1;32m93.961%\u001b[0m\n",
      "Best_ACC[\u001b[1;32m95.652%\u001b[0m]\n",
      "Epoch: [99] HAM10000 ==> Training ...\n"
     ]
    },
    {
     "data": {
      "application/vnd.jupyter.widget-view+json": {
       "model_id": "998d48b8985e47d885ea24f477acdf44",
       "version_major": 2,
       "version_minor": 0
      },
      "text/plain": [
       "  0%|          | 0/404 [00:00<?, ?it/s]"
      ]
     },
     "metadata": {},
     "output_type": "display_data"
    },
    {
     "name": "stdout",
     "output_type": "stream",
     "text": [
      "[202/404] Loss0.18789, ACC:0.74598%\n",
      "[404/404] Loss0.19026, ACC:0.74772%\n",
      "Train_Loss: 0.18560081559906502,ACC:0.748%\n",
      "\u001b[66mHAM10000 ==> testing ...\u001b[0m\n"
     ]
    },
    {
     "data": {
      "application/vnd.jupyter.widget-view+json": {
       "model_id": "bb71a5ad0c994d2199f22e5123fe2d00",
       "version_major": 2,
       "version_minor": 0
      },
      "text/plain": [
       "  0%|          | 0/27 [00:00<?, ?it/s]"
      ]
     },
     "metadata": {},
     "output_type": "display_data"
    },
    {
     "name": "stdout",
     "output_type": "stream",
     "text": [
      "Test_Acc:\u001b[1;32m93.72%\u001b[0m\n",
      "Best_ACC[\u001b[1;32m95.652%\u001b[0m]\n",
      "Epoch: [100] HAM10000 ==> Training ...\n"
     ]
    },
    {
     "data": {
      "application/vnd.jupyter.widget-view+json": {
       "model_id": "2a9e905657cf40cbbb6311fe67e2b263",
       "version_major": 2,
       "version_minor": 0
      },
      "text/plain": [
       "  0%|          | 0/404 [00:00<?, ?it/s]"
      ]
     },
     "metadata": {},
     "output_type": "display_data"
    },
    {
     "name": "stdout",
     "output_type": "stream",
     "text": [
      "[202/404] Loss0.19953, ACC:0.74045%\n",
      "[404/404] Loss0.21764, ACC:0.74109%\n",
      "Train_Loss: 0.1894421732735516,ACC:0.741%\n",
      "\u001b[66mHAM10000 ==> testing ...\u001b[0m\n"
     ]
    },
    {
     "data": {
      "application/vnd.jupyter.widget-view+json": {
       "model_id": "a56650277f6849cb805257bb442cc615",
       "version_major": 2,
       "version_minor": 0
      },
      "text/plain": [
       "  0%|          | 0/27 [00:00<?, ?it/s]"
      ]
     },
     "metadata": {},
     "output_type": "display_data"
    },
    {
     "name": "stdout",
     "output_type": "stream",
     "text": [
      "Test_Acc:\u001b[1;32m90.7%\u001b[0m\n",
      "Best_ACC[\u001b[1;32m95.652%\u001b[0m]\n",
      "Epoch: [101] HAM10000 ==> Training ...\n"
     ]
    },
    {
     "data": {
      "application/vnd.jupyter.widget-view+json": {
       "model_id": "862ee0cf1bdf4f30a16c66f3e16de5d8",
       "version_major": 2,
       "version_minor": 0
      },
      "text/plain": [
       "  0%|          | 0/404 [00:00<?, ?it/s]"
      ]
     },
     "metadata": {},
     "output_type": "display_data"
    },
    {
     "name": "stdout",
     "output_type": "stream",
     "text": [
      "[202/404] Loss0.19475, ACC:0.74126%\n",
      "[404/404] Loss0.17875, ACC:0.74010%\n",
      "Train_Loss: 0.19114421990395772,ACC:0.74%\n",
      "\u001b[66mHAM10000 ==> testing ...\u001b[0m\n"
     ]
    },
    {
     "data": {
      "application/vnd.jupyter.widget-view+json": {
       "model_id": "cec6c0a4ae6740b98697950c24ecf182",
       "version_major": 2,
       "version_minor": 0
      },
      "text/plain": [
       "  0%|          | 0/27 [00:00<?, ?it/s]"
      ]
     },
     "metadata": {},
     "output_type": "display_data"
    },
    {
     "name": "stdout",
     "output_type": "stream",
     "text": [
      "Test_Acc:\u001b[1;32m89.976%\u001b[0m\n",
      "Best_ACC[\u001b[1;32m95.652%\u001b[0m]\n",
      "Epoch: [102] HAM10000 ==> Training ...\n"
     ]
    },
    {
     "data": {
      "application/vnd.jupyter.widget-view+json": {
       "model_id": "efdd1476111f412eafc231552759940e",
       "version_major": 2,
       "version_minor": 0
      },
      "text/plain": [
       "  0%|          | 0/404 [00:00<?, ?it/s]"
      ]
     },
     "metadata": {},
     "output_type": "display_data"
    },
    {
     "name": "stdout",
     "output_type": "stream",
     "text": [
      "[202/404] Loss0.14950, ACC:0.74281%\n",
      "[404/404] Loss0.18468, ACC:0.74194%\n",
      "Train_Loss: 0.18874272464378045,ACC:0.742%\n",
      "\u001b[66mHAM10000 ==> testing ...\u001b[0m\n"
     ]
    },
    {
     "data": {
      "application/vnd.jupyter.widget-view+json": {
       "model_id": "9753dee3ae814f459ab04294f8f217c8",
       "version_major": 2,
       "version_minor": 0
      },
      "text/plain": [
       "  0%|          | 0/27 [00:00<?, ?it/s]"
      ]
     },
     "metadata": {},
     "output_type": "display_data"
    },
    {
     "name": "stdout",
     "output_type": "stream",
     "text": [
      "Test_Acc:\u001b[1;32m93.961%\u001b[0m\n",
      "Best_ACC[\u001b[1;32m95.652%\u001b[0m]\n",
      "Epoch: [103] HAM10000 ==> Training ...\n"
     ]
    },
    {
     "data": {
      "application/vnd.jupyter.widget-view+json": {
       "model_id": "c670079cb80a4f9d94c26f396e344550",
       "version_major": 2,
       "version_minor": 0
      },
      "text/plain": [
       "  0%|          | 0/404 [00:00<?, ?it/s]"
      ]
     },
     "metadata": {},
     "output_type": "display_data"
    },
    {
     "name": "stdout",
     "output_type": "stream",
     "text": [
      "[202/404] Loss0.16734, ACC:0.75062%\n",
      "[404/404] Loss0.19382, ACC:0.74797%\n",
      "Train_Loss: 0.185133201134677,ACC:0.748%\n",
      "\u001b[66mHAM10000 ==> testing ...\u001b[0m\n"
     ]
    },
    {
     "data": {
      "application/vnd.jupyter.widget-view+json": {
       "model_id": "c342af1668034b308672c80d4ebca370",
       "version_major": 2,
       "version_minor": 0
      },
      "text/plain": [
       "  0%|          | 0/27 [00:00<?, ?it/s]"
      ]
     },
     "metadata": {},
     "output_type": "display_data"
    },
    {
     "name": "stdout",
     "output_type": "stream",
     "text": [
      "Test_Acc:\u001b[1;32m94.565%\u001b[0m\n",
      "Best_ACC[\u001b[1;32m95.652%\u001b[0m]\n",
      "Epoch: [104] HAM10000 ==> Training ...\n"
     ]
    },
    {
     "data": {
      "application/vnd.jupyter.widget-view+json": {
       "model_id": "b9fc92194bc749c68ca5bc7320400b47",
       "version_major": 2,
       "version_minor": 0
      },
      "text/plain": [
       "  0%|          | 0/404 [00:00<?, ?it/s]"
      ]
     },
     "metadata": {},
     "output_type": "display_data"
    },
    {
     "name": "stdout",
     "output_type": "stream",
     "text": [
      "[202/404] Loss0.16403, ACC:0.75959%\n",
      "[404/404] Loss0.15942, ACC:0.75915%\n",
      "Train_Loss: 0.1782217870401864,ACC:0.759%\n",
      "\u001b[66mHAM10000 ==> testing ...\u001b[0m\n"
     ]
    },
    {
     "data": {
      "application/vnd.jupyter.widget-view+json": {
       "model_id": "4a385abe40b04a0fab657d57d1f3fcb1",
       "version_major": 2,
       "version_minor": 0
      },
      "text/plain": [
       "  0%|          | 0/27 [00:00<?, ?it/s]"
      ]
     },
     "metadata": {},
     "output_type": "display_data"
    },
    {
     "name": "stdout",
     "output_type": "stream",
     "text": [
      "Test_Acc:\u001b[1;32m93.841%\u001b[0m\n",
      "Best_ACC[\u001b[1;32m95.652%\u001b[0m]\n",
      "Epoch: [105] HAM10000 ==> Training ...\n"
     ]
    },
    {
     "data": {
      "application/vnd.jupyter.widget-view+json": {
       "model_id": "b649b637dfc9434e9d45772d2b68eeec",
       "version_major": 2,
       "version_minor": 0
      },
      "text/plain": [
       "  0%|          | 0/404 [00:00<?, ?it/s]"
      ]
     },
     "metadata": {},
     "output_type": "display_data"
    },
    {
     "name": "stdout",
     "output_type": "stream",
     "text": [
      "[202/404] Loss0.18646, ACC:0.77011%\n",
      "[404/404] Loss0.19451, ACC:0.76634%\n",
      "Train_Loss: 0.17376230387847022,ACC:0.767%\n",
      "\u001b[66mHAM10000 ==> testing ...\u001b[0m\n"
     ]
    },
    {
     "data": {
      "application/vnd.jupyter.widget-view+json": {
       "model_id": "71f83e9730924ad68ea146f70af8d9b4",
       "version_major": 2,
       "version_minor": 0
      },
      "text/plain": [
       "  0%|          | 0/27 [00:00<?, ?it/s]"
      ]
     },
     "metadata": {},
     "output_type": "display_data"
    },
    {
     "name": "stdout",
     "output_type": "stream",
     "text": [
      "Test_Acc:\u001b[1;32m94.807%\u001b[0m\n",
      "Best_ACC[\u001b[1;32m95.652%\u001b[0m]\n",
      "Epoch: [106] HAM10000 ==> Training ...\n"
     ]
    },
    {
     "data": {
      "application/vnd.jupyter.widget-view+json": {
       "model_id": "9ec6b5bef94742c99f5ac3b8e454436d",
       "version_major": 2,
       "version_minor": 0
      },
      "text/plain": [
       "  0%|          | 0/404 [00:00<?, ?it/s]"
      ]
     },
     "metadata": {},
     "output_type": "display_data"
    },
    {
     "name": "stdout",
     "output_type": "stream",
     "text": [
      "[202/404] Loss0.20665, ACC:0.76377%\n",
      "[404/404] Loss0.18149, ACC:0.76700%\n",
      "Train_Loss: 0.17314950882060692,ACC:0.767%\n",
      "\u001b[66mHAM10000 ==> testing ...\u001b[0m\n"
     ]
    },
    {
     "data": {
      "application/vnd.jupyter.widget-view+json": {
       "model_id": "25c8c98d79a649f5b9da68a08f5c438b",
       "version_major": 2,
       "version_minor": 0
      },
      "text/plain": [
       "  0%|          | 0/27 [00:00<?, ?it/s]"
      ]
     },
     "metadata": {},
     "output_type": "display_data"
    },
    {
     "name": "stdout",
     "output_type": "stream",
     "text": [
      "Test_Acc:\u001b[1;32m95.048%\u001b[0m\n",
      "Best_ACC[\u001b[1;32m95.652%\u001b[0m]\n",
      "Epoch: [107] HAM10000 ==> Training ...\n"
     ]
    },
    {
     "data": {
      "application/vnd.jupyter.widget-view+json": {
       "model_id": "46e25df1dd4d4419ac9e055c930b4bdc",
       "version_major": 2,
       "version_minor": 0
      },
      "text/plain": [
       "  0%|          | 0/404 [00:00<?, ?it/s]"
      ]
     },
     "metadata": {},
     "output_type": "display_data"
    },
    {
     "name": "stdout",
     "output_type": "stream",
     "text": [
      "[202/404] Loss0.13368, ACC:0.76798%\n",
      "[404/404] Loss0.17570, ACC:0.76622%\n",
      "Train_Loss: 0.17301372173103954,ACC:0.766%\n",
      "\u001b[66mHAM10000 ==> testing ...\u001b[0m\n"
     ]
    },
    {
     "data": {
      "application/vnd.jupyter.widget-view+json": {
       "model_id": "465a70a7dc7d4cf3958ddf118a89e0f4",
       "version_major": 2,
       "version_minor": 0
      },
      "text/plain": [
       "  0%|          | 0/27 [00:00<?, ?it/s]"
      ]
     },
     "metadata": {},
     "output_type": "display_data"
    },
    {
     "name": "stdout",
     "output_type": "stream",
     "text": [
      "Test_Acc:\u001b[1;32m95.29%\u001b[0m\n",
      "Best_ACC[\u001b[1;32m95.652%\u001b[0m]\n",
      "Epoch: [108] HAM10000 ==> Training ...\n"
     ]
    },
    {
     "data": {
      "application/vnd.jupyter.widget-view+json": {
       "model_id": "1c38d20ed9c945d68288af3aa01c79b7",
       "version_major": 2,
       "version_minor": 0
      },
      "text/plain": [
       "  0%|          | 0/404 [00:00<?, ?it/s]"
      ]
     },
     "metadata": {},
     "output_type": "display_data"
    },
    {
     "name": "stdout",
     "output_type": "stream",
     "text": [
      "[202/404] Loss0.16616, ACC:0.76648%\n",
      "[404/404] Loss0.19854, ACC:0.76365%\n",
      "Train_Loss: 0.17631454295524868,ACC:0.764%\n",
      "\u001b[66mHAM10000 ==> testing ...\u001b[0m\n"
     ]
    },
    {
     "data": {
      "application/vnd.jupyter.widget-view+json": {
       "model_id": "3ab7bf424a354daf9276978393201e4c",
       "version_major": 2,
       "version_minor": 0
      },
      "text/plain": [
       "  0%|          | 0/27 [00:00<?, ?it/s]"
      ]
     },
     "metadata": {},
     "output_type": "display_data"
    },
    {
     "name": "stdout",
     "output_type": "stream",
     "text": [
      "Test_Acc:\u001b[1;32m95.773%\u001b[0m\n",
      "Best_ACC[\u001b[1;32m95.773%\u001b[0m]\n",
      "Epoch: [109] HAM10000 ==> Training ...\n"
     ]
    },
    {
     "data": {
      "application/vnd.jupyter.widget-view+json": {
       "model_id": "40ab06b8bf644c28b3e717c8d2b097b5",
       "version_major": 2,
       "version_minor": 0
      },
      "text/plain": [
       "  0%|          | 0/404 [00:00<?, ?it/s]"
      ]
     },
     "metadata": {},
     "output_type": "display_data"
    },
    {
     "name": "stdout",
     "output_type": "stream",
     "text": [
      "[202/404] Loss0.18101, ACC:0.74927%\n",
      "[404/404] Loss0.16637, ACC:0.75414%\n",
      "Train_Loss: 0.1822974890618041,ACC:0.754%\n",
      "\u001b[66mHAM10000 ==> testing ...\u001b[0m\n"
     ]
    },
    {
     "data": {
      "application/vnd.jupyter.widget-view+json": {
       "model_id": "b834a46511114ea3a7eccc0048e08cf7",
       "version_major": 2,
       "version_minor": 0
      },
      "text/plain": [
       "  0%|          | 0/27 [00:00<?, ?it/s]"
      ]
     },
     "metadata": {},
     "output_type": "display_data"
    },
    {
     "name": "stdout",
     "output_type": "stream",
     "text": [
      "Test_Acc:\u001b[1;32m93.357%\u001b[0m\n",
      "Best_ACC[\u001b[1;32m95.773%\u001b[0m]\n",
      "Epoch: [110] HAM10000 ==> Training ...\n"
     ]
    },
    {
     "data": {
      "application/vnd.jupyter.widget-view+json": {
       "model_id": "a8f5faede372433296f728014b0306a9",
       "version_major": 2,
       "version_minor": 0
      },
      "text/plain": [
       "  0%|          | 0/404 [00:00<?, ?it/s]"
      ]
     },
     "metadata": {},
     "output_type": "display_data"
    },
    {
     "name": "stdout",
     "output_type": "stream",
     "text": [
      "[202/404] Loss0.18758, ACC:0.74435%\n",
      "[404/404] Loss0.17471, ACC:0.74476%\n",
      "Train_Loss: 0.18797535829172277,ACC:0.745%\n",
      "\u001b[66mHAM10000 ==> testing ...\u001b[0m\n"
     ]
    },
    {
     "data": {
      "application/vnd.jupyter.widget-view+json": {
       "model_id": "931ed1aa1ff1497da081f51965afc5d1",
       "version_major": 2,
       "version_minor": 0
      },
      "text/plain": [
       "  0%|          | 0/27 [00:00<?, ?it/s]"
      ]
     },
     "metadata": {},
     "output_type": "display_data"
    },
    {
     "name": "stdout",
     "output_type": "stream",
     "text": [
      "Test_Acc:\u001b[1;32m91.787%\u001b[0m\n",
      "Best_ACC[\u001b[1;32m95.773%\u001b[0m]\n",
      "Epoch: [111] HAM10000 ==> Training ...\n"
     ]
    },
    {
     "data": {
      "application/vnd.jupyter.widget-view+json": {
       "model_id": "486407044b04453c86c0de76056aca35",
       "version_major": 2,
       "version_minor": 0
      },
      "text/plain": [
       "  0%|          | 0/404 [00:00<?, ?it/s]"
      ]
     },
     "metadata": {},
     "output_type": "display_data"
    },
    {
     "name": "stdout",
     "output_type": "stream",
     "text": [
      "[202/404] Loss0.18618, ACC:0.74501%\n",
      "[404/404] Loss0.16858, ACC:0.74304%\n",
      "Train_Loss: 0.1884237138720432,ACC:0.743%\n",
      "\u001b[66mHAM10000 ==> testing ...\u001b[0m\n"
     ]
    },
    {
     "data": {
      "application/vnd.jupyter.widget-view+json": {
       "model_id": "95a1d4d25db449868fb66653e21187d3",
       "version_major": 2,
       "version_minor": 0
      },
      "text/plain": [
       "  0%|          | 0/27 [00:00<?, ?it/s]"
      ]
     },
     "metadata": {},
     "output_type": "display_data"
    },
    {
     "name": "stdout",
     "output_type": "stream",
     "text": [
      "Test_Acc:\u001b[1;32m41.787%\u001b[0m\n",
      "Best_ACC[\u001b[1;32m95.773%\u001b[0m]\n",
      "Epoch: [112] HAM10000 ==> Training ...\n"
     ]
    },
    {
     "data": {
      "application/vnd.jupyter.widget-view+json": {
       "model_id": "e4d852b15d5f40b8a76c77c540d2c5db",
       "version_major": 2,
       "version_minor": 0
      },
      "text/plain": [
       "  0%|          | 0/404 [00:00<?, ?it/s]"
      ]
     },
     "metadata": {},
     "output_type": "display_data"
    },
    {
     "name": "stdout",
     "output_type": "stream",
     "text": [
      "[202/404] Loss0.20321, ACC:0.74571%\n",
      "[404/404] Loss0.16507, ACC:0.74542%\n",
      "Train_Loss: 0.18645954534116357,ACC:0.746%\n",
      "\u001b[66mHAM10000 ==> testing ...\u001b[0m\n"
     ]
    },
    {
     "data": {
      "application/vnd.jupyter.widget-view+json": {
       "model_id": "7ef466aeccd84152a4d3d81fe2de54e0",
       "version_major": 2,
       "version_minor": 0
      },
      "text/plain": [
       "  0%|          | 0/27 [00:00<?, ?it/s]"
      ]
     },
     "metadata": {},
     "output_type": "display_data"
    },
    {
     "name": "stdout",
     "output_type": "stream",
     "text": [
      "Test_Acc:\u001b[1;32m92.754%\u001b[0m\n",
      "Best_ACC[\u001b[1;32m95.773%\u001b[0m]\n",
      "Epoch: [113] HAM10000 ==> Training ...\n"
     ]
    },
    {
     "data": {
      "application/vnd.jupyter.widget-view+json": {
       "model_id": "fbdd0d5271d2450490eb44f1e14ab31a",
       "version_major": 2,
       "version_minor": 0
      },
      "text/plain": [
       "  0%|          | 0/404 [00:00<?, ?it/s]"
      ]
     },
     "metadata": {},
     "output_type": "display_data"
    },
    {
     "name": "stdout",
     "output_type": "stream",
     "text": [
      "[202/404] Loss0.19519, ACC:0.75182%\n",
      "[404/404] Loss0.16226, ACC:0.75251%\n",
      "Train_Loss: 0.18132161566674118,ACC:0.753%\n",
      "\u001b[66mHAM10000 ==> testing ...\u001b[0m\n"
     ]
    },
    {
     "data": {
      "application/vnd.jupyter.widget-view+json": {
       "model_id": "becdcc35bc2147568da09a39631caee2",
       "version_major": 2,
       "version_minor": 0
      },
      "text/plain": [
       "  0%|          | 0/27 [00:00<?, ?it/s]"
      ]
     },
     "metadata": {},
     "output_type": "display_data"
    },
    {
     "name": "stdout",
     "output_type": "stream",
     "text": [
      "Test_Acc:\u001b[1;32m95.29%\u001b[0m\n",
      "Best_ACC[\u001b[1;32m95.773%\u001b[0m]\n",
      "Epoch: [114] HAM10000 ==> Training ...\n"
     ]
    },
    {
     "data": {
      "application/vnd.jupyter.widget-view+json": {
       "model_id": "42ba05bcd9c44240b35f193459a58db1",
       "version_major": 2,
       "version_minor": 0
      },
      "text/plain": [
       "  0%|          | 0/404 [00:00<?, ?it/s]"
      ]
     },
     "metadata": {},
     "output_type": "display_data"
    },
    {
     "name": "stdout",
     "output_type": "stream",
     "text": [
      "[202/404] Loss0.17647, ACC:0.75975%\n",
      "[404/404] Loss0.19353, ACC:0.76205%\n",
      "Train_Loss: 0.17570630586383365,ACC:0.762%\n",
      "\u001b[66mHAM10000 ==> testing ...\u001b[0m\n"
     ]
    },
    {
     "data": {
      "application/vnd.jupyter.widget-view+json": {
       "model_id": "78b40a23776c44d7b6c4bb0669a9e178",
       "version_major": 2,
       "version_minor": 0
      },
      "text/plain": [
       "  0%|          | 0/27 [00:00<?, ?it/s]"
      ]
     },
     "metadata": {},
     "output_type": "display_data"
    },
    {
     "name": "stdout",
     "output_type": "stream",
     "text": [
      "Test_Acc:\u001b[1;32m93.961%\u001b[0m\n",
      "Best_ACC[\u001b[1;32m95.773%\u001b[0m]\n",
      "Epoch: [115] HAM10000 ==> Training ...\n"
     ]
    },
    {
     "data": {
      "application/vnd.jupyter.widget-view+json": {
       "model_id": "62f1e75e56094d6d80c14e5fdcecfa41",
       "version_major": 2,
       "version_minor": 0
      },
      "text/plain": [
       "  0%|          | 0/404 [00:00<?, ?it/s]"
      ]
     },
     "metadata": {},
     "output_type": "display_data"
    },
    {
     "name": "stdout",
     "output_type": "stream",
     "text": [
      "[202/404] Loss0.16485, ACC:0.76682%\n",
      "[404/404] Loss0.16876, ACC:0.76930%\n",
      "Train_Loss: 0.17144222148131616,ACC:0.769%\n",
      "\u001b[66mHAM10000 ==> testing ...\u001b[0m\n"
     ]
    },
    {
     "data": {
      "application/vnd.jupyter.widget-view+json": {
       "model_id": "ffe084e1dac64ae58275a4addeda886f",
       "version_major": 2,
       "version_minor": 0
      },
      "text/plain": [
       "  0%|          | 0/27 [00:00<?, ?it/s]"
      ]
     },
     "metadata": {},
     "output_type": "display_data"
    },
    {
     "name": "stdout",
     "output_type": "stream",
     "text": [
      "Test_Acc:\u001b[1;32m94.686%\u001b[0m\n",
      "Best_ACC[\u001b[1;32m95.773%\u001b[0m]\n",
      "Epoch: [116] HAM10000 ==> Training ...\n"
     ]
    },
    {
     "data": {
      "application/vnd.jupyter.widget-view+json": {
       "model_id": "2f2f3094b7354098a08f074b7eb05d92",
       "version_major": 2,
       "version_minor": 0
      },
      "text/plain": [
       "  0%|          | 0/404 [00:00<?, ?it/s]"
      ]
     },
     "metadata": {},
     "output_type": "display_data"
    },
    {
     "name": "stdout",
     "output_type": "stream",
     "text": [
      "[202/404] Loss0.17176, ACC:0.77433%\n",
      "[404/404] Loss0.17046, ACC:0.77417%\n",
      "Train_Loss: 0.16960944670556796,ACC:0.774%\n",
      "\u001b[66mHAM10000 ==> testing ...\u001b[0m\n"
     ]
    },
    {
     "data": {
      "application/vnd.jupyter.widget-view+json": {
       "model_id": "508b216e1db344ac826c389a1d07eef7",
       "version_major": 2,
       "version_minor": 0
      },
      "text/plain": [
       "  0%|          | 0/27 [00:00<?, ?it/s]"
      ]
     },
     "metadata": {},
     "output_type": "display_data"
    },
    {
     "name": "stdout",
     "output_type": "stream",
     "text": [
      "Test_Acc:\u001b[1;32m95.169%\u001b[0m\n",
      "Best_ACC[\u001b[1;32m95.773%\u001b[0m]\n",
      "Epoch: [117] HAM10000 ==> Training ...\n"
     ]
    },
    {
     "data": {
      "application/vnd.jupyter.widget-view+json": {
       "model_id": "8404ef9d651941c3adcf1049ef468f4a",
       "version_major": 2,
       "version_minor": 0
      },
      "text/plain": [
       "  0%|          | 0/404 [00:00<?, ?it/s]"
      ]
     },
     "metadata": {},
     "output_type": "display_data"
    },
    {
     "name": "stdout",
     "output_type": "stream",
     "text": [
      "[202/404] Loss0.14853, ACC:0.76756%\n",
      "[404/404] Loss0.14601, ACC:0.77121%\n",
      "Train_Loss: 0.17125126774800886,ACC:0.771%\n",
      "\u001b[66mHAM10000 ==> testing ...\u001b[0m\n"
     ]
    },
    {
     "data": {
      "application/vnd.jupyter.widget-view+json": {
       "model_id": "3ee25bdf0acf49bf850e023e903b51c5",
       "version_major": 2,
       "version_minor": 0
      },
      "text/plain": [
       "  0%|          | 0/27 [00:00<?, ?it/s]"
      ]
     },
     "metadata": {},
     "output_type": "display_data"
    },
    {
     "name": "stdout",
     "output_type": "stream",
     "text": [
      "Test_Acc:\u001b[1;32m95.169%\u001b[0m\n",
      "Best_ACC[\u001b[1;32m95.773%\u001b[0m]\n",
      "Epoch: [118] HAM10000 ==> Training ...\n"
     ]
    },
    {
     "data": {
      "application/vnd.jupyter.widget-view+json": {
       "model_id": "8901d5146e0b4104a48c326751fa4b5a",
       "version_major": 2,
       "version_minor": 0
      },
      "text/plain": [
       "  0%|          | 0/404 [00:00<?, ?it/s]"
      ]
     },
     "metadata": {},
     "output_type": "display_data"
    },
    {
     "name": "stdout",
     "output_type": "stream",
     "text": [
      "[202/404] Loss0.16414, ACC:0.76628%\n",
      "[404/404] Loss0.19614, ACC:0.76388%\n",
      "Train_Loss: 0.17516485712315777,ACC:0.764%\n",
      "\u001b[66mHAM10000 ==> testing ...\u001b[0m\n"
     ]
    },
    {
     "data": {
      "application/vnd.jupyter.widget-view+json": {
       "model_id": "fd2f0c1751224eb98ef77f70285a2a6c",
       "version_major": 2,
       "version_minor": 0
      },
      "text/plain": [
       "  0%|          | 0/27 [00:00<?, ?it/s]"
      ]
     },
     "metadata": {},
     "output_type": "display_data"
    },
    {
     "name": "stdout",
     "output_type": "stream",
     "text": [
      "Test_Acc:\u001b[1;32m95.411%\u001b[0m\n",
      "Best_ACC[\u001b[1;32m95.773%\u001b[0m]\n",
      "Epoch: [119] HAM10000 ==> Training ...\n"
     ]
    },
    {
     "data": {
      "application/vnd.jupyter.widget-view+json": {
       "model_id": "ac0aef9c160a444186e32376bc7c0479",
       "version_major": 2,
       "version_minor": 0
      },
      "text/plain": [
       "  0%|          | 0/404 [00:00<?, ?it/s]"
      ]
     },
     "metadata": {},
     "output_type": "display_data"
    },
    {
     "name": "stdout",
     "output_type": "stream",
     "text": [
      "[202/404] Loss0.16063, ACC:0.75580%\n",
      "[404/404] Loss0.19940, ACC:0.75851%\n",
      "Train_Loss: 0.1793913601869994,ACC:0.759%\n",
      "\u001b[66mHAM10000 ==> testing ...\u001b[0m\n"
     ]
    },
    {
     "data": {
      "application/vnd.jupyter.widget-view+json": {
       "model_id": "457edb0a937d4dbcb6eea6256351eea4",
       "version_major": 2,
       "version_minor": 0
      },
      "text/plain": [
       "  0%|          | 0/27 [00:00<?, ?it/s]"
      ]
     },
     "metadata": {},
     "output_type": "display_data"
    },
    {
     "name": "stdout",
     "output_type": "stream",
     "text": [
      "Test_Acc:\u001b[1;32m93.72%\u001b[0m\n",
      "Best_ACC[\u001b[1;32m95.773%\u001b[0m]\n",
      "Epoch: [120] HAM10000 ==> Training ...\n"
     ]
    },
    {
     "data": {
      "application/vnd.jupyter.widget-view+json": {
       "model_id": "4f1c7e941b4a4d8aa2b1dce76cb410ea",
       "version_major": 2,
       "version_minor": 0
      },
      "text/plain": [
       "  0%|          | 0/404 [00:00<?, ?it/s]"
      ]
     },
     "metadata": {},
     "output_type": "display_data"
    },
    {
     "name": "stdout",
     "output_type": "stream",
     "text": [
      "[202/404] Loss0.20792, ACC:0.74702%\n",
      "[404/404] Loss0.20802, ACC:0.74785%\n",
      "Train_Loss: 0.18585491766876513,ACC:0.748%\n",
      "\u001b[66mHAM10000 ==> testing ...\u001b[0m\n"
     ]
    },
    {
     "data": {
      "application/vnd.jupyter.widget-view+json": {
       "model_id": "acc3b84fb3c84b878210854a82378203",
       "version_major": 2,
       "version_minor": 0
      },
      "text/plain": [
       "  0%|          | 0/27 [00:00<?, ?it/s]"
      ]
     },
     "metadata": {},
     "output_type": "display_data"
    },
    {
     "name": "stdout",
     "output_type": "stream",
     "text": [
      "Test_Acc:\u001b[1;32m94.807%\u001b[0m\n",
      "Best_ACC[\u001b[1;32m95.773%\u001b[0m]\n",
      "Epoch: [121] HAM10000 ==> Training ...\n"
     ]
    },
    {
     "data": {
      "application/vnd.jupyter.widget-view+json": {
       "model_id": "83767ddd1f7e4e4f9489c604ec5c6f21",
       "version_major": 2,
       "version_minor": 0
      },
      "text/plain": [
       "  0%|          | 0/404 [00:00<?, ?it/s]"
      ]
     },
     "metadata": {},
     "output_type": "display_data"
    },
    {
     "name": "stdout",
     "output_type": "stream",
     "text": [
      "[202/404] Loss0.17505, ACC:0.74420%\n",
      "[404/404] Loss0.22733, ACC:0.74638%\n",
      "Train_Loss: 0.18665844947099686,ACC:0.747%\n",
      "\u001b[66mHAM10000 ==> testing ...\u001b[0m\n"
     ]
    },
    {
     "data": {
      "application/vnd.jupyter.widget-view+json": {
       "model_id": "07fb7c5983fb462191a8cde781afc410",
       "version_major": 2,
       "version_minor": 0
      },
      "text/plain": [
       "  0%|          | 0/27 [00:00<?, ?it/s]"
      ]
     },
     "metadata": {},
     "output_type": "display_data"
    },
    {
     "name": "stdout",
     "output_type": "stream",
     "text": [
      "Test_Acc:\u001b[1;32m96.014%\u001b[0m\n",
      "Best_ACC[\u001b[1;32m96.014%\u001b[0m]\n",
      "Epoch: [122] HAM10000 ==> Training ...\n"
     ]
    },
    {
     "data": {
      "application/vnd.jupyter.widget-view+json": {
       "model_id": "b9f30e20a70b431cae6371577b8b42e1",
       "version_major": 2,
       "version_minor": 0
      },
      "text/plain": [
       "  0%|          | 0/404 [00:00<?, ?it/s]"
      ]
     },
     "metadata": {},
     "output_type": "display_data"
    },
    {
     "name": "stdout",
     "output_type": "stream",
     "text": [
      "[202/404] Loss0.16493, ACC:0.74954%\n",
      "[404/404] Loss0.17920, ACC:0.74994%\n",
      "Train_Loss: 0.1849158178314124,ACC:0.75%\n",
      "\u001b[66mHAM10000 ==> testing ...\u001b[0m\n"
     ]
    },
    {
     "data": {
      "application/vnd.jupyter.widget-view+json": {
       "model_id": "e6760ef636854e75a54934f0d815719d",
       "version_major": 2,
       "version_minor": 0
      },
      "text/plain": [
       "  0%|          | 0/27 [00:00<?, ?it/s]"
      ]
     },
     "metadata": {},
     "output_type": "display_data"
    },
    {
     "name": "stdout",
     "output_type": "stream",
     "text": [
      "Test_Acc:\u001b[1;32m93.237%\u001b[0m\n",
      "Best_ACC[\u001b[1;32m96.014%\u001b[0m]\n",
      "Epoch: [123] HAM10000 ==> Training ...\n"
     ]
    },
    {
     "data": {
      "application/vnd.jupyter.widget-view+json": {
       "model_id": "aed75b503d124d489d05667ca1a5b88c",
       "version_major": 2,
       "version_minor": 0
      },
      "text/plain": [
       "  0%|          | 0/404 [00:00<?, ?it/s]"
      ]
     },
     "metadata": {},
     "output_type": "display_data"
    },
    {
     "name": "stdout",
     "output_type": "stream",
     "text": [
      "[202/404] Loss0.17843, ACC:0.75735%\n",
      "[404/404] Loss0.17518, ACC:0.75721%\n",
      "Train_Loss: 0.17937194987541377,ACC:0.757%\n",
      "\u001b[66mHAM10000 ==> testing ...\u001b[0m\n"
     ]
    },
    {
     "data": {
      "application/vnd.jupyter.widget-view+json": {
       "model_id": "afd6e93b4da34a928c32af4da69c290f",
       "version_major": 2,
       "version_minor": 0
      },
      "text/plain": [
       "  0%|          | 0/27 [00:00<?, ?it/s]"
      ]
     },
     "metadata": {},
     "output_type": "display_data"
    },
    {
     "name": "stdout",
     "output_type": "stream",
     "text": [
      "Test_Acc:\u001b[1;32m93.841%\u001b[0m\n",
      "Best_ACC[\u001b[1;32m96.014%\u001b[0m]\n",
      "Epoch: [124] HAM10000 ==> Training ...\n"
     ]
    },
    {
     "data": {
      "application/vnd.jupyter.widget-view+json": {
       "model_id": "142dd4e42378402b97556c1cbe104411",
       "version_major": 2,
       "version_minor": 0
      },
      "text/plain": [
       "  0%|          | 0/404 [00:00<?, ?it/s]"
      ]
     },
     "metadata": {},
     "output_type": "display_data"
    },
    {
     "name": "stdout",
     "output_type": "stream",
     "text": [
      "[202/404] Loss0.17945, ACC:0.76443%\n",
      "[404/404] Loss0.18546, ACC:0.76622%\n",
      "Train_Loss: 0.17359057657125562,ACC:0.766%\n",
      "\u001b[66mHAM10000 ==> testing ...\u001b[0m\n"
     ]
    },
    {
     "data": {
      "application/vnd.jupyter.widget-view+json": {
       "model_id": "b803804a178d445ab52af152ac9410e7",
       "version_major": 2,
       "version_minor": 0
      },
      "text/plain": [
       "  0%|          | 0/27 [00:00<?, ?it/s]"
      ]
     },
     "metadata": {},
     "output_type": "display_data"
    },
    {
     "name": "stdout",
     "output_type": "stream",
     "text": [
      "Test_Acc:\u001b[1;32m95.652%\u001b[0m\n",
      "Best_ACC[\u001b[1;32m96.014%\u001b[0m]\n",
      "Epoch: [125] HAM10000 ==> Training ...\n"
     ]
    },
    {
     "data": {
      "application/vnd.jupyter.widget-view+json": {
       "model_id": "6a8bf9c90906497486000d9c079d67e0",
       "version_major": 2,
       "version_minor": 0
      },
      "text/plain": [
       "  0%|          | 0/404 [00:00<?, ?it/s]"
      ]
     },
     "metadata": {},
     "output_type": "display_data"
    },
    {
     "name": "stdout",
     "output_type": "stream",
     "text": [
      "[202/404] Loss0.16316, ACC:0.77394%\n",
      "[404/404] Loss0.16689, ACC:0.77324%\n",
      "Train_Loss: 0.16908280558810376,ACC:0.773%\n",
      "\u001b[66mHAM10000 ==> testing ...\u001b[0m\n"
     ]
    },
    {
     "data": {
      "application/vnd.jupyter.widget-view+json": {
       "model_id": "39e9f68ebf5b43d78b7889cf64e1cf36",
       "version_major": 2,
       "version_minor": 0
      },
      "text/plain": [
       "  0%|          | 0/27 [00:00<?, ?it/s]"
      ]
     },
     "metadata": {},
     "output_type": "display_data"
    },
    {
     "name": "stdout",
     "output_type": "stream",
     "text": [
      "Test_Acc:\u001b[1;32m95.773%\u001b[0m\n",
      "Best_ACC[\u001b[1;32m96.014%\u001b[0m]\n",
      "Epoch: [126] HAM10000 ==> Training ...\n"
     ]
    },
    {
     "data": {
      "application/vnd.jupyter.widget-view+json": {
       "model_id": "fed3554fcef34e2b89a129a845216aef",
       "version_major": 2,
       "version_minor": 0
      },
      "text/plain": [
       "  0%|          | 0/404 [00:00<?, ?it/s]"
      ]
     },
     "metadata": {},
     "output_type": "display_data"
    },
    {
     "name": "stdout",
     "output_type": "stream",
     "text": [
      "[202/404] Loss0.18709, ACC:0.77147%\n",
      "[404/404] Loss0.18403, ACC:0.77448%\n",
      "Train_Loss: 0.16843947642805554,ACC:0.775%\n",
      "\u001b[66mHAM10000 ==> testing ...\u001b[0m\n"
     ]
    },
    {
     "data": {
      "application/vnd.jupyter.widget-view+json": {
       "model_id": "bd3a7e6903ea404ebc27c0626fcd4bf2",
       "version_major": 2,
       "version_minor": 0
      },
      "text/plain": [
       "  0%|          | 0/27 [00:00<?, ?it/s]"
      ]
     },
     "metadata": {},
     "output_type": "display_data"
    },
    {
     "name": "stdout",
     "output_type": "stream",
     "text": [
      "Test_Acc:\u001b[1;32m96.498%\u001b[0m\n",
      "Best_ACC[\u001b[1;32m96.498%\u001b[0m]\n",
      "Epoch: [127] HAM10000 ==> Training ...\n"
     ]
    },
    {
     "data": {
      "application/vnd.jupyter.widget-view+json": {
       "model_id": "9cdfb39092e049d7867a9c73f45cdd09",
       "version_major": 2,
       "version_minor": 0
      },
      "text/plain": [
       "  0%|          | 0/404 [00:00<?, ?it/s]"
      ]
     },
     "metadata": {},
     "output_type": "display_data"
    },
    {
     "name": "stdout",
     "output_type": "stream",
     "text": [
      "[202/404] Loss0.17070, ACC:0.77433%\n",
      "[404/404] Loss0.16617, ACC:0.77363%\n",
      "Train_Loss: 0.16868444576416866,ACC:0.774%\n",
      "\u001b[66mHAM10000 ==> testing ...\u001b[0m\n"
     ]
    },
    {
     "data": {
      "application/vnd.jupyter.widget-view+json": {
       "model_id": "2bb1798d3c0b4c1ea0431d4ae2d81498",
       "version_major": 2,
       "version_minor": 0
      },
      "text/plain": [
       "  0%|          | 0/27 [00:00<?, ?it/s]"
      ]
     },
     "metadata": {},
     "output_type": "display_data"
    },
    {
     "name": "stdout",
     "output_type": "stream",
     "text": [
      "Test_Acc:\u001b[1;32m95.048%\u001b[0m\n",
      "Best_ACC[\u001b[1;32m96.498%\u001b[0m]\n",
      "Epoch: [128] HAM10000 ==> Training ...\n"
     ]
    },
    {
     "data": {
      "application/vnd.jupyter.widget-view+json": {
       "model_id": "4de2f24c36a547bea546dfe36071a9f3",
       "version_major": 2,
       "version_minor": 0
      },
      "text/plain": [
       "  0%|          | 0/404 [00:00<?, ?it/s]"
      ]
     },
     "metadata": {},
     "output_type": "display_data"
    },
    {
     "name": "stdout",
     "output_type": "stream",
     "text": [
      "[202/404] Loss0.17071, ACC:0.76837%\n",
      "[404/404] Loss0.16481, ACC:0.76971%\n",
      "Train_Loss: 0.17311037473823174,ACC:0.77%\n",
      "\u001b[66mHAM10000 ==> testing ...\u001b[0m\n"
     ]
    },
    {
     "data": {
      "application/vnd.jupyter.widget-view+json": {
       "model_id": "f177fae32e724fee83a6e242ac0a29dc",
       "version_major": 2,
       "version_minor": 0
      },
      "text/plain": [
       "  0%|          | 0/27 [00:00<?, ?it/s]"
      ]
     },
     "metadata": {},
     "output_type": "display_data"
    },
    {
     "name": "stdout",
     "output_type": "stream",
     "text": [
      "Test_Acc:\u001b[1;32m96.377%\u001b[0m\n",
      "Best_ACC[\u001b[1;32m96.498%\u001b[0m]\n",
      "Epoch: [129] HAM10000 ==> Training ...\n"
     ]
    },
    {
     "data": {
      "application/vnd.jupyter.widget-view+json": {
       "model_id": "2571cc4e077649708027e7757db4b342",
       "version_major": 2,
       "version_minor": 0
      },
      "text/plain": [
       "  0%|          | 0/404 [00:00<?, ?it/s]"
      ]
     },
     "metadata": {},
     "output_type": "display_data"
    },
    {
     "name": "stdout",
     "output_type": "stream",
     "text": [
      "[202/404] Loss0.17829, ACC:0.76373%\n",
      "[404/404] Loss0.17534, ACC:0.76228%\n",
      "Train_Loss: 0.1774447896324172,ACC:0.762%\n",
      "\u001b[66mHAM10000 ==> testing ...\u001b[0m\n"
     ]
    },
    {
     "data": {
      "application/vnd.jupyter.widget-view+json": {
       "model_id": "395ea5ab9adb4d45affd59b4f64a67e8",
       "version_major": 2,
       "version_minor": 0
      },
      "text/plain": [
       "  0%|          | 0/27 [00:00<?, ?it/s]"
      ]
     },
     "metadata": {},
     "output_type": "display_data"
    },
    {
     "name": "stdout",
     "output_type": "stream",
     "text": [
      "Test_Acc:\u001b[1;32m95.169%\u001b[0m\n",
      "Best_ACC[\u001b[1;32m96.498%\u001b[0m]\n",
      "Epoch: [130] HAM10000 ==> Training ...\n"
     ]
    },
    {
     "data": {
      "application/vnd.jupyter.widget-view+json": {
       "model_id": "b941dd462bf147a0bfe45ee5ed0005b8",
       "version_major": 2,
       "version_minor": 0
      },
      "text/plain": [
       "  0%|          | 0/404 [00:00<?, ?it/s]"
      ]
     },
     "metadata": {},
     "output_type": "display_data"
    },
    {
     "name": "stdout",
     "output_type": "stream",
     "text": [
      "[202/404] Loss0.22186, ACC:0.75476%\n",
      "[404/404] Loss0.19953, ACC:0.75398%\n",
      "Train_Loss: 0.18233421142443573,ACC:0.754%\n",
      "\u001b[66mHAM10000 ==> testing ...\u001b[0m\n"
     ]
    },
    {
     "data": {
      "application/vnd.jupyter.widget-view+json": {
       "model_id": "62135d3e14f74aa8b6f0bfc244bc8b80",
       "version_major": 2,
       "version_minor": 0
      },
      "text/plain": [
       "  0%|          | 0/27 [00:00<?, ?it/s]"
      ]
     },
     "metadata": {},
     "output_type": "display_data"
    },
    {
     "name": "stdout",
     "output_type": "stream",
     "text": [
      "Test_Acc:\u001b[1;32m91.787%\u001b[0m\n",
      "Best_ACC[\u001b[1;32m96.498%\u001b[0m]\n",
      "Epoch: [131] HAM10000 ==> Training ...\n"
     ]
    },
    {
     "data": {
      "application/vnd.jupyter.widget-view+json": {
       "model_id": "a79a8ff7819b42419b8d24871ca07731",
       "version_major": 2,
       "version_minor": 0
      },
      "text/plain": [
       "  0%|          | 0/404 [00:00<?, ?it/s]"
      ]
     },
     "metadata": {},
     "output_type": "display_data"
    },
    {
     "name": "stdout",
     "output_type": "stream",
     "text": [
      "[202/404] Loss0.20668, ACC:0.74733%\n",
      "[404/404] Loss0.17066, ACC:0.74890%\n",
      "Train_Loss: 0.1854196763643534,ACC:0.749%\n",
      "\u001b[66mHAM10000 ==> testing ...\u001b[0m\n"
     ]
    },
    {
     "data": {
      "application/vnd.jupyter.widget-view+json": {
       "model_id": "c9bcb2ab1262430cb46409f0bfc8c60f",
       "version_major": 2,
       "version_minor": 0
      },
      "text/plain": [
       "  0%|          | 0/27 [00:00<?, ?it/s]"
      ]
     },
     "metadata": {},
     "output_type": "display_data"
    },
    {
     "name": "stdout",
     "output_type": "stream",
     "text": [
      "Test_Acc:\u001b[1;32m92.995%\u001b[0m\n",
      "Best_ACC[\u001b[1;32m96.498%\u001b[0m]\n",
      "Epoch: [132] HAM10000 ==> Training ...\n"
     ]
    },
    {
     "data": {
      "application/vnd.jupyter.widget-view+json": {
       "model_id": "3ea6fcf3c0e54fb180160f24f6921cb4",
       "version_major": 2,
       "version_minor": 0
      },
      "text/plain": [
       "  0%|          | 0/404 [00:00<?, ?it/s]"
      ]
     },
     "metadata": {},
     "output_type": "display_data"
    },
    {
     "name": "stdout",
     "output_type": "stream",
     "text": [
      "[202/404] Loss0.18778, ACC:0.75464%\n",
      "[404/404] Loss0.17993, ACC:0.75284%\n",
      "Train_Loss: 0.18143621323132278,ACC:0.753%\n",
      "\u001b[66mHAM10000 ==> testing ...\u001b[0m\n"
     ]
    },
    {
     "data": {
      "application/vnd.jupyter.widget-view+json": {
       "model_id": "6c256de6ee664eed8350ac0684477bf2",
       "version_major": 2,
       "version_minor": 0
      },
      "text/plain": [
       "  0%|          | 0/27 [00:00<?, ?it/s]"
      ]
     },
     "metadata": {},
     "output_type": "display_data"
    },
    {
     "name": "stdout",
     "output_type": "stream",
     "text": [
      "Test_Acc:\u001b[1;32m92.754%\u001b[0m\n",
      "Best_ACC[\u001b[1;32m96.498%\u001b[0m]\n",
      "Epoch: [133] HAM10000 ==> Training ...\n"
     ]
    },
    {
     "data": {
      "application/vnd.jupyter.widget-view+json": {
       "model_id": "01fd734ae2a74097967ee2e0fcb30231",
       "version_major": 2,
       "version_minor": 0
      },
      "text/plain": [
       "  0%|          | 0/404 [00:00<?, ?it/s]"
      ]
     },
     "metadata": {},
     "output_type": "display_data"
    },
    {
     "name": "stdout",
     "output_type": "stream",
     "text": [
      "[202/404] Loss0.18047, ACC:0.76470%\n",
      "[404/404] Loss0.17517, ACC:0.76348%\n",
      "Train_Loss: 0.17682085182554652,ACC:0.764%\n",
      "\u001b[66mHAM10000 ==> testing ...\u001b[0m\n"
     ]
    },
    {
     "data": {
      "application/vnd.jupyter.widget-view+json": {
       "model_id": "626edf9f2cf44a8f9ecaf262df02830d",
       "version_major": 2,
       "version_minor": 0
      },
      "text/plain": [
       "  0%|          | 0/27 [00:00<?, ?it/s]"
      ]
     },
     "metadata": {},
     "output_type": "display_data"
    },
    {
     "name": "stdout",
     "output_type": "stream",
     "text": [
      "Test_Acc:\u001b[1;32m93.961%\u001b[0m\n",
      "Best_ACC[\u001b[1;32m96.498%\u001b[0m]\n",
      "Epoch: [134] HAM10000 ==> Training ...\n"
     ]
    },
    {
     "data": {
      "application/vnd.jupyter.widget-view+json": {
       "model_id": "e93d6538bc5c4c71b3fe0ccedf5776b4",
       "version_major": 2,
       "version_minor": 0
      },
      "text/plain": [
       "  0%|          | 0/404 [00:00<?, ?it/s]"
      ]
     },
     "metadata": {},
     "output_type": "display_data"
    },
    {
     "name": "stdout",
     "output_type": "stream",
     "text": [
      "[202/404] Loss0.20860, ACC:0.76621%\n",
      "[404/404] Loss0.17573, ACC:0.76806%\n",
      "Train_Loss: 0.17203921584947274,ACC:0.768%\n",
      "\u001b[66mHAM10000 ==> testing ...\u001b[0m\n"
     ]
    },
    {
     "data": {
      "application/vnd.jupyter.widget-view+json": {
       "model_id": "2861e52ed86c4f719069d5a8edd5b89d",
       "version_major": 2,
       "version_minor": 0
      },
      "text/plain": [
       "  0%|          | 0/27 [00:00<?, ?it/s]"
      ]
     },
     "metadata": {},
     "output_type": "display_data"
    },
    {
     "name": "stdout",
     "output_type": "stream",
     "text": [
      "Test_Acc:\u001b[1;32m95.29%\u001b[0m\n",
      "Best_ACC[\u001b[1;32m96.498%\u001b[0m]\n",
      "Epoch: [135] HAM10000 ==> Training ...\n"
     ]
    },
    {
     "data": {
      "application/vnd.jupyter.widget-view+json": {
       "model_id": "40c15518a542427799a5388f39792064",
       "version_major": 2,
       "version_minor": 0
      },
      "text/plain": [
       "  0%|          | 0/404 [00:00<?, ?it/s]"
      ]
     },
     "metadata": {},
     "output_type": "display_data"
    },
    {
     "name": "stdout",
     "output_type": "stream",
     "text": [
      "[202/404] Loss0.13705, ACC:0.77599%\n",
      "[404/404] Loss0.18138, ACC:0.77495%\n",
      "Train_Loss: 0.16812283656384686,ACC:0.775%\n",
      "\u001b[66mHAM10000 ==> testing ...\u001b[0m\n"
     ]
    },
    {
     "data": {
      "application/vnd.jupyter.widget-view+json": {
       "model_id": "97225d1370a443709b927f070668b00f",
       "version_major": 2,
       "version_minor": 0
      },
      "text/plain": [
       "  0%|          | 0/27 [00:00<?, ?it/s]"
      ]
     },
     "metadata": {},
     "output_type": "display_data"
    },
    {
     "name": "stdout",
     "output_type": "stream",
     "text": [
      "Test_Acc:\u001b[1;32m95.29%\u001b[0m\n",
      "Best_ACC[\u001b[1;32m96.498%\u001b[0m]\n",
      "Epoch: [136] HAM10000 ==> Training ...\n"
     ]
    },
    {
     "data": {
      "application/vnd.jupyter.widget-view+json": {
       "model_id": "7b15ce8c41df46ff858bdc4f0245b8c1",
       "version_major": 2,
       "version_minor": 0
      },
      "text/plain": [
       "  0%|          | 0/404 [00:00<?, ?it/s]"
      ]
     },
     "metadata": {},
     "output_type": "display_data"
    },
    {
     "name": "stdout",
     "output_type": "stream",
     "text": [
      "[202/404] Loss0.15140, ACC:0.78125%\n",
      "[404/404] Loss0.15550, ACC:0.77978%\n",
      "Train_Loss: 0.16648487211896643,ACC:0.78%\n",
      "\u001b[66mHAM10000 ==> testing ...\u001b[0m\n"
     ]
    },
    {
     "data": {
      "application/vnd.jupyter.widget-view+json": {
       "model_id": "ff221b78475144ca854e6988d1312724",
       "version_major": 2,
       "version_minor": 0
      },
      "text/plain": [
       "  0%|          | 0/27 [00:00<?, ?it/s]"
      ]
     },
     "metadata": {},
     "output_type": "display_data"
    },
    {
     "name": "stdout",
     "output_type": "stream",
     "text": [
      "Test_Acc:\u001b[1;32m94.807%\u001b[0m\n",
      "Best_ACC[\u001b[1;32m96.498%\u001b[0m]\n",
      "Epoch: [137] HAM10000 ==> Training ...\n"
     ]
    },
    {
     "data": {
      "application/vnd.jupyter.widget-view+json": {
       "model_id": "ae51a564db5e4b4b836e1de577c6aa4c",
       "version_major": 2,
       "version_minor": 0
      },
      "text/plain": [
       "  0%|          | 0/404 [00:00<?, ?it/s]"
      ]
     },
     "metadata": {},
     "output_type": "display_data"
    },
    {
     "name": "stdout",
     "output_type": "stream",
     "text": [
      "[202/404] Loss0.16209, ACC:0.77924%\n",
      "[404/404] Loss0.15173, ACC:0.77852%\n",
      "Train_Loss: 0.1666840476786146,ACC:0.779%\n",
      "\u001b[66mHAM10000 ==> testing ...\u001b[0m\n"
     ]
    },
    {
     "data": {
      "application/vnd.jupyter.widget-view+json": {
       "model_id": "05010f847dbd4a33a43dd72e7756eac0",
       "version_major": 2,
       "version_minor": 0
      },
      "text/plain": [
       "  0%|          | 0/27 [00:00<?, ?it/s]"
      ]
     },
     "metadata": {},
     "output_type": "display_data"
    },
    {
     "name": "stdout",
     "output_type": "stream",
     "text": [
      "Test_Acc:\u001b[1;32m94.928%\u001b[0m\n",
      "Best_ACC[\u001b[1;32m96.498%\u001b[0m]\n",
      "Epoch: [138] HAM10000 ==> Training ...\n"
     ]
    },
    {
     "data": {
      "application/vnd.jupyter.widget-view+json": {
       "model_id": "6805ee59127041aab8843c866469663a",
       "version_major": 2,
       "version_minor": 0
      },
      "text/plain": [
       "  0%|          | 0/404 [00:00<?, ?it/s]"
      ]
     },
     "metadata": {},
     "output_type": "display_data"
    },
    {
     "name": "stdout",
     "output_type": "stream",
     "text": [
      "[202/404] Loss0.16414, ACC:0.77123%\n",
      "[404/404] Loss0.17005, ACC:0.77351%\n",
      "Train_Loss: 0.17051925930646386,ACC:0.774%\n",
      "\u001b[66mHAM10000 ==> testing ...\u001b[0m\n"
     ]
    },
    {
     "data": {
      "application/vnd.jupyter.widget-view+json": {
       "model_id": "46e7b798837b425da9be54f353138b30",
       "version_major": 2,
       "version_minor": 0
      },
      "text/plain": [
       "  0%|          | 0/27 [00:00<?, ?it/s]"
      ]
     },
     "metadata": {},
     "output_type": "display_data"
    },
    {
     "name": "stdout",
     "output_type": "stream",
     "text": [
      "Test_Acc:\u001b[1;32m94.928%\u001b[0m\n",
      "Best_ACC[\u001b[1;32m96.498%\u001b[0m]\n",
      "Epoch: [139] HAM10000 ==> Training ...\n"
     ]
    },
    {
     "data": {
      "application/vnd.jupyter.widget-view+json": {
       "model_id": "32d5db874ed5418188820558f29e124c",
       "version_major": 2,
       "version_minor": 0
      },
      "text/plain": [
       "  0%|          | 0/404 [00:00<?, ?it/s]"
      ]
     },
     "metadata": {},
     "output_type": "display_data"
    },
    {
     "name": "stdout",
     "output_type": "stream",
     "text": [
      "[202/404] Loss0.16925, ACC:0.76535%\n",
      "[404/404] Loss0.16644, ACC:0.76363%\n",
      "Train_Loss: 0.17634863465434253,ACC:0.764%\n",
      "\u001b[66mHAM10000 ==> testing ...\u001b[0m\n"
     ]
    },
    {
     "data": {
      "application/vnd.jupyter.widget-view+json": {
       "model_id": "919d48b7341c4ae589204973fde3a21c",
       "version_major": 2,
       "version_minor": 0
      },
      "text/plain": [
       "  0%|          | 0/27 [00:00<?, ?it/s]"
      ]
     },
     "metadata": {},
     "output_type": "display_data"
    },
    {
     "name": "stdout",
     "output_type": "stream",
     "text": [
      "Test_Acc:\u001b[1;32m93.72%\u001b[0m\n",
      "Best_ACC[\u001b[1;32m96.498%\u001b[0m]\n",
      "Epoch: [140] HAM10000 ==> Training ...\n"
     ]
    },
    {
     "data": {
      "application/vnd.jupyter.widget-view+json": {
       "model_id": "0b41e699bcaf451599f24195cedd3e62",
       "version_major": 2,
       "version_minor": 0
      },
      "text/plain": [
       "  0%|          | 0/404 [00:00<?, ?it/s]"
      ]
     },
     "metadata": {},
     "output_type": "display_data"
    },
    {
     "name": "stdout",
     "output_type": "stream",
     "text": [
      "[202/404] Loss0.17034, ACC:0.75638%\n",
      "[404/404] Loss0.18146, ACC:0.75646%\n",
      "Train_Loss: 0.18140019753044195,ACC:0.757%\n",
      "\u001b[66mHAM10000 ==> testing ...\u001b[0m\n"
     ]
    },
    {
     "data": {
      "application/vnd.jupyter.widget-view+json": {
       "model_id": "7daec5f3478e46359c53128174dffa01",
       "version_major": 2,
       "version_minor": 0
      },
      "text/plain": [
       "  0%|          | 0/27 [00:00<?, ?it/s]"
      ]
     },
     "metadata": {},
     "output_type": "display_data"
    },
    {
     "name": "stdout",
     "output_type": "stream",
     "text": [
      "Test_Acc:\u001b[1;32m91.063%\u001b[0m\n",
      "Best_ACC[\u001b[1;32m96.498%\u001b[0m]\n",
      "Epoch: [141] HAM10000 ==> Training ...\n"
     ]
    },
    {
     "data": {
      "application/vnd.jupyter.widget-view+json": {
       "model_id": "4b44acd9b39c49ce84ebebe9ab49a0bb",
       "version_major": 2,
       "version_minor": 0
      },
      "text/plain": [
       "  0%|          | 0/404 [00:00<?, ?it/s]"
      ]
     },
     "metadata": {},
     "output_type": "display_data"
    },
    {
     "name": "stdout",
     "output_type": "stream",
     "text": [
      "[202/404] Loss0.16132, ACC:0.75700%\n",
      "[404/404] Loss0.17394, ACC:0.75342%\n",
      "Train_Loss: 0.1830264238068963,ACC:0.754%\n",
      "\u001b[66mHAM10000 ==> testing ...\u001b[0m\n"
     ]
    },
    {
     "data": {
      "application/vnd.jupyter.widget-view+json": {
       "model_id": "e8d399ed669842b0b75518b6b507145c",
       "version_major": 2,
       "version_minor": 0
      },
      "text/plain": [
       "  0%|          | 0/27 [00:00<?, ?it/s]"
      ]
     },
     "metadata": {},
     "output_type": "display_data"
    },
    {
     "name": "stdout",
     "output_type": "stream",
     "text": [
      "Test_Acc:\u001b[1;32m89.976%\u001b[0m\n",
      "Best_ACC[\u001b[1;32m96.498%\u001b[0m]\n",
      "Epoch: [142] HAM10000 ==> Training ...\n"
     ]
    },
    {
     "data": {
      "application/vnd.jupyter.widget-view+json": {
       "model_id": "f5c302de1eca46fcb9adf20962213efa",
       "version_major": 2,
       "version_minor": 0
      },
      "text/plain": [
       "  0%|          | 0/404 [00:00<?, ?it/s]"
      ]
     },
     "metadata": {},
     "output_type": "display_data"
    },
    {
     "name": "stdout",
     "output_type": "stream",
     "text": [
      "[202/404] Loss0.16525, ACC:0.75816%\n",
      "[404/404] Loss0.15373, ACC:0.75832%\n",
      "Train_Loss: 0.1799516951536188,ACC:0.759%\n",
      "\u001b[66mHAM10000 ==> testing ...\u001b[0m\n"
     ]
    },
    {
     "data": {
      "application/vnd.jupyter.widget-view+json": {
       "model_id": "f1d21fbfbff3437197e0e59e5ff891fb",
       "version_major": 2,
       "version_minor": 0
      },
      "text/plain": [
       "  0%|          | 0/27 [00:00<?, ?it/s]"
      ]
     },
     "metadata": {},
     "output_type": "display_data"
    },
    {
     "name": "stdout",
     "output_type": "stream",
     "text": [
      "Test_Acc:\u001b[1;32m96.014%\u001b[0m\n",
      "Best_ACC[\u001b[1;32m96.498%\u001b[0m]\n",
      "Epoch: [143] HAM10000 ==> Training ...\n"
     ]
    },
    {
     "data": {
      "application/vnd.jupyter.widget-view+json": {
       "model_id": "46059fcbc78b4a519c3c1fbcd432b15a",
       "version_major": 2,
       "version_minor": 0
      },
      "text/plain": [
       "  0%|          | 0/404 [00:00<?, ?it/s]"
      ]
     },
     "metadata": {},
     "output_type": "display_data"
    },
    {
     "name": "stdout",
     "output_type": "stream",
     "text": [
      "[202/404] Loss0.14346, ACC:0.76276%\n",
      "[404/404] Loss0.19908, ACC:0.76230%\n",
      "Train_Loss: 0.1763489026908237,ACC:0.762%\n",
      "\u001b[66mHAM10000 ==> testing ...\u001b[0m\n"
     ]
    },
    {
     "data": {
      "application/vnd.jupyter.widget-view+json": {
       "model_id": "b123870aa59c45c78ef4d477611a7b80",
       "version_major": 2,
       "version_minor": 0
      },
      "text/plain": [
       "  0%|          | 0/27 [00:00<?, ?it/s]"
      ]
     },
     "metadata": {},
     "output_type": "display_data"
    },
    {
     "name": "stdout",
     "output_type": "stream",
     "text": [
      "Test_Acc:\u001b[1;32m92.391%\u001b[0m\n",
      "Best_ACC[\u001b[1;32m96.498%\u001b[0m]\n",
      "Epoch: [144] HAM10000 ==> Training ...\n"
     ]
    },
    {
     "data": {
      "application/vnd.jupyter.widget-view+json": {
       "model_id": "856c673a1eb74652b3fa31bd722bf8f9",
       "version_major": 2,
       "version_minor": 0
      },
      "text/plain": [
       "  0%|          | 0/404 [00:00<?, ?it/s]"
      ]
     },
     "metadata": {},
     "output_type": "display_data"
    },
    {
     "name": "stdout",
     "output_type": "stream",
     "text": [
      "[202/404] Loss0.15583, ACC:0.77235%\n",
      "[404/404] Loss0.18579, ACC:0.77197%\n",
      "Train_Loss: 0.16948730653465385,ACC:0.772%\n",
      "\u001b[66mHAM10000 ==> testing ...\u001b[0m\n"
     ]
    },
    {
     "data": {
      "application/vnd.jupyter.widget-view+json": {
       "model_id": "ae125b0f539c4233b7e3a39b8c559900",
       "version_major": 2,
       "version_minor": 0
      },
      "text/plain": [
       "  0%|          | 0/27 [00:00<?, ?it/s]"
      ]
     },
     "metadata": {},
     "output_type": "display_data"
    },
    {
     "name": "stdout",
     "output_type": "stream",
     "text": [
      "Test_Acc:\u001b[1;32m92.754%\u001b[0m\n",
      "Best_ACC[\u001b[1;32m96.498%\u001b[0m]\n",
      "Epoch: [145] HAM10000 ==> Training ...\n"
     ]
    },
    {
     "data": {
      "application/vnd.jupyter.widget-view+json": {
       "model_id": "a37a5e37114d46df9e980287ae66422a",
       "version_major": 2,
       "version_minor": 0
      },
      "text/plain": [
       "  0%|          | 0/404 [00:00<?, ?it/s]"
      ]
     },
     "metadata": {},
     "output_type": "display_data"
    },
    {
     "name": "stdout",
     "output_type": "stream",
     "text": [
      "[202/404] Loss0.16187, ACC:0.77951%\n",
      "[404/404] Loss0.17621, ACC:0.77874%\n",
      "Train_Loss: 0.16563335337703772,ACC:0.779%\n",
      "\u001b[66mHAM10000 ==> testing ...\u001b[0m\n"
     ]
    },
    {
     "data": {
      "application/vnd.jupyter.widget-view+json": {
       "model_id": "b6e2e9ae22bc46df8bcb3461f1c99eba",
       "version_major": 2,
       "version_minor": 0
      },
      "text/plain": [
       "  0%|          | 0/27 [00:00<?, ?it/s]"
      ]
     },
     "metadata": {},
     "output_type": "display_data"
    },
    {
     "name": "stdout",
     "output_type": "stream",
     "text": [
      "Test_Acc:\u001b[1;32m94.324%\u001b[0m\n",
      "Best_ACC[\u001b[1;32m96.498%\u001b[0m]\n",
      "Epoch: [146] HAM10000 ==> Training ...\n"
     ]
    },
    {
     "data": {
      "application/vnd.jupyter.widget-view+json": {
       "model_id": "2183afefa3da4211bc45f421270ca089",
       "version_major": 2,
       "version_minor": 0
      },
      "text/plain": [
       "  0%|          | 0/404 [00:00<?, ?it/s]"
      ]
     },
     "metadata": {},
     "output_type": "display_data"
    },
    {
     "name": "stdout",
     "output_type": "stream",
     "text": [
      "[202/404] Loss0.18099, ACC:0.78311%\n",
      "[404/404] Loss0.17481, ACC:0.78100%\n",
      "Train_Loss: 0.16452009649486235,ACC:0.781%\n",
      "\u001b[66mHAM10000 ==> testing ...\u001b[0m\n"
     ]
    },
    {
     "data": {
      "application/vnd.jupyter.widget-view+json": {
       "model_id": "3768715c9e3e4385b35642e988605791",
       "version_major": 2,
       "version_minor": 0
      },
      "text/plain": [
       "  0%|          | 0/27 [00:00<?, ?it/s]"
      ]
     },
     "metadata": {},
     "output_type": "display_data"
    },
    {
     "name": "stdout",
     "output_type": "stream",
     "text": [
      "Test_Acc:\u001b[1;32m94.444%\u001b[0m\n",
      "Best_ACC[\u001b[1;32m96.498%\u001b[0m]\n",
      "Epoch: [147] HAM10000 ==> Training ...\n"
     ]
    },
    {
     "data": {
      "application/vnd.jupyter.widget-view+json": {
       "model_id": "192d3bfc55994c3384ce41324346c74a",
       "version_major": 2,
       "version_minor": 0
      },
      "text/plain": [
       "  0%|          | 0/404 [00:00<?, ?it/s]"
      ]
     },
     "metadata": {},
     "output_type": "display_data"
    },
    {
     "name": "stdout",
     "output_type": "stream",
     "text": [
      "[202/404] Loss0.15652, ACC:0.77877%\n",
      "[404/404] Loss0.14589, ACC:0.78061%\n",
      "Train_Loss: 0.1648254899658484,ACC:0.781%\n",
      "\u001b[66mHAM10000 ==> testing ...\u001b[0m\n"
     ]
    },
    {
     "data": {
      "application/vnd.jupyter.widget-view+json": {
       "model_id": "a6fa14a22b19421387b85ef8fc6322d1",
       "version_major": 2,
       "version_minor": 0
      },
      "text/plain": [
       "  0%|          | 0/27 [00:00<?, ?it/s]"
      ]
     },
     "metadata": {},
     "output_type": "display_data"
    },
    {
     "name": "stdout",
     "output_type": "stream",
     "text": [
      "Test_Acc:\u001b[1;32m94.324%\u001b[0m\n",
      "Best_ACC[\u001b[1;32m96.498%\u001b[0m]\n",
      "Epoch: [148] HAM10000 ==> Training ...\n"
     ]
    },
    {
     "data": {
      "application/vnd.jupyter.widget-view+json": {
       "model_id": "df4eff4737f94d1593b25290ef8dc577",
       "version_major": 2,
       "version_minor": 0
      },
      "text/plain": [
       "  0%|          | 0/404 [00:00<?, ?it/s]"
      ]
     },
     "metadata": {},
     "output_type": "display_data"
    },
    {
     "name": "stdout",
     "output_type": "stream",
     "text": [
      "[202/404] Loss0.15865, ACC:0.77147%\n",
      "[404/404] Loss0.18156, ACC:0.77529%\n",
      "Train_Loss: 0.1684795972881931,ACC:0.775%\n",
      "\u001b[66mHAM10000 ==> testing ...\u001b[0m\n"
     ]
    },
    {
     "data": {
      "application/vnd.jupyter.widget-view+json": {
       "model_id": "7bd44f62fb994d3c8e3c7ce181a348ef",
       "version_major": 2,
       "version_minor": 0
      },
      "text/plain": [
       "  0%|          | 0/27 [00:00<?, ?it/s]"
      ]
     },
     "metadata": {},
     "output_type": "display_data"
    },
    {
     "name": "stdout",
     "output_type": "stream",
     "text": [
      "Test_Acc:\u001b[1;32m91.787%\u001b[0m\n",
      "Best_ACC[\u001b[1;32m96.498%\u001b[0m]\n",
      "Epoch: [149] HAM10000 ==> Training ...\n"
     ]
    },
    {
     "data": {
      "application/vnd.jupyter.widget-view+json": {
       "model_id": "e1cff67ff08642298f090f2501656cbb",
       "version_major": 2,
       "version_minor": 0
      },
      "text/plain": [
       "  0%|          | 0/404 [00:00<?, ?it/s]"
      ]
     },
     "metadata": {},
     "output_type": "display_data"
    },
    {
     "name": "stdout",
     "output_type": "stream",
     "text": [
      "[202/404] Loss0.16630, ACC:0.76640%\n",
      "[404/404] Loss0.15642, ACC:0.76367%\n",
      "Train_Loss: 0.17493054776055977,ACC:0.764%\n",
      "\u001b[66mHAM10000 ==> testing ...\u001b[0m\n"
     ]
    },
    {
     "data": {
      "application/vnd.jupyter.widget-view+json": {
       "model_id": "dedab4ea531e4e42aa2b11cf0f830d5e",
       "version_major": 2,
       "version_minor": 0
      },
      "text/plain": [
       "  0%|          | 0/27 [00:00<?, ?it/s]"
      ]
     },
     "metadata": {},
     "output_type": "display_data"
    },
    {
     "name": "stdout",
     "output_type": "stream",
     "text": [
      "Test_Acc:\u001b[1;32m92.874%\u001b[0m\n",
      "Best_ACC[\u001b[1;32m96.498%\u001b[0m]\n",
      "Epoch: [150] HAM10000 ==> Training ...\n"
     ]
    },
    {
     "data": {
      "application/vnd.jupyter.widget-view+json": {
       "model_id": "9862bd0f78d44103a0a15624dbcc74bd",
       "version_major": 2,
       "version_minor": 0
      },
      "text/plain": [
       "  0%|          | 0/404 [00:00<?, ?it/s]"
      ]
     },
     "metadata": {},
     "output_type": "display_data"
    },
    {
     "name": "stdout",
     "output_type": "stream",
     "text": [
      "[202/404] Loss0.18041, ACC:0.76029%\n",
      "[404/404] Loss0.18311, ACC:0.75955%\n",
      "Train_Loss: 0.1789347566664219,ACC:0.76%\n",
      "\u001b[66mHAM10000 ==> testing ...\u001b[0m\n"
     ]
    },
    {
     "data": {
      "application/vnd.jupyter.widget-view+json": {
       "model_id": "709f598d452a42b98b2e5bfdae967d0a",
       "version_major": 2,
       "version_minor": 0
      },
      "text/plain": [
       "  0%|          | 0/27 [00:00<?, ?it/s]"
      ]
     },
     "metadata": {},
     "output_type": "display_data"
    },
    {
     "name": "stdout",
     "output_type": "stream",
     "text": [
      "Test_Acc:\u001b[1;32m92.15%\u001b[0m\n",
      "Best_ACC[\u001b[1;32m96.498%\u001b[0m]\n",
      "Epoch: [151] HAM10000 ==> Training ...\n"
     ]
    },
    {
     "data": {
      "application/vnd.jupyter.widget-view+json": {
       "model_id": "03e07fb7e77646739416bbfb71fec98d",
       "version_major": 2,
       "version_minor": 0
      },
      "text/plain": [
       "  0%|          | 0/404 [00:00<?, ?it/s]"
      ]
     },
     "metadata": {},
     "output_type": "display_data"
    },
    {
     "name": "stdout",
     "output_type": "stream",
     "text": [
      "[202/404] Loss0.15450, ACC:0.75302%\n",
      "[404/404] Loss0.17557, ACC:0.75474%\n",
      "Train_Loss: 0.18101950299621808,ACC:0.755%\n",
      "\u001b[66mHAM10000 ==> testing ...\u001b[0m\n"
     ]
    },
    {
     "data": {
      "application/vnd.jupyter.widget-view+json": {
       "model_id": "ee00bfa3057c45779691fdafaa7275c9",
       "version_major": 2,
       "version_minor": 0
      },
      "text/plain": [
       "  0%|          | 0/27 [00:00<?, ?it/s]"
      ]
     },
     "metadata": {},
     "output_type": "display_data"
    },
    {
     "name": "stdout",
     "output_type": "stream",
     "text": [
      "Test_Acc:\u001b[1;32m92.029%\u001b[0m\n",
      "Best_ACC[\u001b[1;32m96.498%\u001b[0m]\n",
      "Epoch: [152] HAM10000 ==> Training ...\n"
     ]
    },
    {
     "data": {
      "application/vnd.jupyter.widget-view+json": {
       "model_id": "0ff5b26a189548118f7bffa3136e263d",
       "version_major": 2,
       "version_minor": 0
      },
      "text/plain": [
       "  0%|          | 0/404 [00:00<?, ?it/s]"
      ]
     },
     "metadata": {},
     "output_type": "display_data"
    },
    {
     "name": "stdout",
     "output_type": "stream",
     "text": [
      "[202/404] Loss0.17141, ACC:0.75971%\n",
      "[404/404] Loss0.20330, ACC:0.76058%\n",
      "Train_Loss: 0.1789349443509732,ACC:0.761%\n",
      "\u001b[66mHAM10000 ==> testing ...\u001b[0m\n"
     ]
    },
    {
     "data": {
      "application/vnd.jupyter.widget-view+json": {
       "model_id": "7bb87a14602d44aaafdfdbca693137ee",
       "version_major": 2,
       "version_minor": 0
      },
      "text/plain": [
       "  0%|          | 0/27 [00:00<?, ?it/s]"
      ]
     },
     "metadata": {},
     "output_type": "display_data"
    },
    {
     "name": "stdout",
     "output_type": "stream",
     "text": [
      "Test_Acc:\u001b[1;32m92.874%\u001b[0m\n",
      "Best_ACC[\u001b[1;32m96.498%\u001b[0m]\n",
      "Epoch: [153] HAM10000 ==> Training ...\n"
     ]
    },
    {
     "data": {
      "application/vnd.jupyter.widget-view+json": {
       "model_id": "f8a6b98dadc144c5ba75fb9d6ba1389a",
       "version_major": 2,
       "version_minor": 0
      },
      "text/plain": [
       "  0%|          | 0/404 [00:00<?, ?it/s]"
      ]
     },
     "metadata": {},
     "output_type": "display_data"
    },
    {
     "name": "stdout",
     "output_type": "stream",
     "text": [
      "[202/404] Loss0.20204, ACC:0.76520%\n",
      "[404/404] Loss0.14328, ACC:0.76543%\n",
      "Train_Loss: 0.17426139879787322,ACC:0.766%\n",
      "\u001b[66mHAM10000 ==> testing ...\u001b[0m\n"
     ]
    },
    {
     "data": {
      "application/vnd.jupyter.widget-view+json": {
       "model_id": "98101758c7014660ac08845bf0ace5ec",
       "version_major": 2,
       "version_minor": 0
      },
      "text/plain": [
       "  0%|          | 0/27 [00:00<?, ?it/s]"
      ]
     },
     "metadata": {},
     "output_type": "display_data"
    },
    {
     "name": "stdout",
     "output_type": "stream",
     "text": [
      "Test_Acc:\u001b[1;32m88.768%\u001b[0m\n",
      "Best_ACC[\u001b[1;32m96.498%\u001b[0m]\n",
      "Epoch: [154] HAM10000 ==> Training ...\n"
     ]
    },
    {
     "data": {
      "application/vnd.jupyter.widget-view+json": {
       "model_id": "dbebdb15eda64ddc921e1afc0c2efb17",
       "version_major": 2,
       "version_minor": 0
      },
      "text/plain": [
       "  0%|          | 0/404 [00:00<?, ?it/s]"
      ]
     },
     "metadata": {},
     "output_type": "display_data"
    },
    {
     "name": "stdout",
     "output_type": "stream",
     "text": [
      "[202/404] Loss0.17026, ACC:0.77355%\n",
      "[404/404] Loss0.14869, ACC:0.77468%\n",
      "Train_Loss: 0.16864978293381114,ACC:0.775%\n",
      "\u001b[66mHAM10000 ==> testing ...\u001b[0m\n"
     ]
    },
    {
     "data": {
      "application/vnd.jupyter.widget-view+json": {
       "model_id": "7a976e6b788e4a0f95197d8054280a76",
       "version_major": 2,
       "version_minor": 0
      },
      "text/plain": [
       "  0%|          | 0/27 [00:00<?, ?it/s]"
      ]
     },
     "metadata": {},
     "output_type": "display_data"
    },
    {
     "name": "stdout",
     "output_type": "stream",
     "text": [
      "Test_Acc:\u001b[1;32m80.797%\u001b[0m\n",
      "Best_ACC[\u001b[1;32m96.498%\u001b[0m]\n",
      "Epoch: [155] HAM10000 ==> Training ...\n"
     ]
    },
    {
     "data": {
      "application/vnd.jupyter.widget-view+json": {
       "model_id": "55530dd77c804ddb88a6926adf36b4bb",
       "version_major": 2,
       "version_minor": 0
      },
      "text/plain": [
       "  0%|          | 0/404 [00:00<?, ?it/s]"
      ]
     },
     "metadata": {},
     "output_type": "display_data"
    },
    {
     "name": "stdout",
     "output_type": "stream",
     "text": [
      "[202/404] Loss0.14344, ACC:0.78291%\n",
      "[404/404] Loss0.16784, ACC:0.78048%\n",
      "Train_Loss: 0.16487203027573552,ACC:0.781%\n",
      "\u001b[66mHAM10000 ==> testing ...\u001b[0m\n"
     ]
    },
    {
     "data": {
      "application/vnd.jupyter.widget-view+json": {
       "model_id": "102fd233a6154cecbf17bb1e0b1b0170",
       "version_major": 2,
       "version_minor": 0
      },
      "text/plain": [
       "  0%|          | 0/27 [00:00<?, ?it/s]"
      ]
     },
     "metadata": {},
     "output_type": "display_data"
    },
    {
     "name": "stdout",
     "output_type": "stream",
     "text": [
      "Test_Acc:\u001b[1;32m94.444%\u001b[0m\n",
      "Best_ACC[\u001b[1;32m96.498%\u001b[0m]\n",
      "Epoch: [156] HAM10000 ==> Training ...\n"
     ]
    },
    {
     "data": {
      "application/vnd.jupyter.widget-view+json": {
       "model_id": "628e54832a6348b991cbf15acfc63011",
       "version_major": 2,
       "version_minor": 0
      },
      "text/plain": [
       "  0%|          | 0/404 [00:00<?, ?it/s]"
      ]
     },
     "metadata": {},
     "output_type": "display_data"
    },
    {
     "name": "stdout",
     "output_type": "stream",
     "text": [
      "[202/404] Loss0.17608, ACC:0.78241%\n",
      "[404/404] Loss0.18260, ACC:0.78481%\n",
      "Train_Loss: 0.16345321315128614,ACC:0.785%\n",
      "\u001b[66mHAM10000 ==> testing ...\u001b[0m\n"
     ]
    },
    {
     "data": {
      "application/vnd.jupyter.widget-view+json": {
       "model_id": "b14cba61f72f4c839f378ae1c961824d",
       "version_major": 2,
       "version_minor": 0
      },
      "text/plain": [
       "  0%|          | 0/27 [00:00<?, ?it/s]"
      ]
     },
     "metadata": {},
     "output_type": "display_data"
    },
    {
     "name": "stdout",
     "output_type": "stream",
     "text": [
      "Test_Acc:\u001b[1;32m94.203%\u001b[0m\n",
      "Best_ACC[\u001b[1;32m96.498%\u001b[0m]\n",
      "Epoch: [157] HAM10000 ==> Training ...\n"
     ]
    },
    {
     "data": {
      "application/vnd.jupyter.widget-view+json": {
       "model_id": "7c131a2db75e4ed595af1666e879ba53",
       "version_major": 2,
       "version_minor": 0
      },
      "text/plain": [
       "  0%|          | 0/404 [00:00<?, ?it/s]"
      ]
     },
     "metadata": {},
     "output_type": "display_data"
    },
    {
     "name": "stdout",
     "output_type": "stream",
     "text": [
      "[202/404] Loss0.19261, ACC:0.78179%\n",
      "[404/404] Loss0.18743, ACC:0.78297%\n",
      "Train_Loss: 0.16329271073388582,ACC:0.783%\n",
      "\u001b[66mHAM10000 ==> testing ...\u001b[0m\n"
     ]
    },
    {
     "data": {
      "application/vnd.jupyter.widget-view+json": {
       "model_id": "fd6e3f26bbbb469489f28e7d2630d243",
       "version_major": 2,
       "version_minor": 0
      },
      "text/plain": [
       "  0%|          | 0/27 [00:00<?, ?it/s]"
      ]
     },
     "metadata": {},
     "output_type": "display_data"
    },
    {
     "name": "stdout",
     "output_type": "stream",
     "text": [
      "Test_Acc:\u001b[1;32m92.029%\u001b[0m\n",
      "Best_ACC[\u001b[1;32m96.498%\u001b[0m]\n",
      "Epoch: [158] HAM10000 ==> Training ...\n"
     ]
    },
    {
     "data": {
      "application/vnd.jupyter.widget-view+json": {
       "model_id": "fd1264f6305e444a93000ada842e505f",
       "version_major": 2,
       "version_minor": 0
      },
      "text/plain": [
       "  0%|          | 0/404 [00:00<?, ?it/s]"
      ]
     },
     "metadata": {},
     "output_type": "display_data"
    },
    {
     "name": "stdout",
     "output_type": "stream",
     "text": [
      "[202/404] Loss0.19582, ACC:0.77908%\n",
      "[404/404] Loss0.16973, ACC:0.77742%\n",
      "Train_Loss: 0.1669270855254761,ACC:0.778%\n",
      "\u001b[66mHAM10000 ==> testing ...\u001b[0m\n"
     ]
    },
    {
     "data": {
      "application/vnd.jupyter.widget-view+json": {
       "model_id": "cfabcdc3bc0641f297b1f0bb6eacd028",
       "version_major": 2,
       "version_minor": 0
      },
      "text/plain": [
       "  0%|          | 0/27 [00:00<?, ?it/s]"
      ]
     },
     "metadata": {},
     "output_type": "display_data"
    },
    {
     "name": "stdout",
     "output_type": "stream",
     "text": [
      "Test_Acc:\u001b[1;32m92.271%\u001b[0m\n",
      "Best_ACC[\u001b[1;32m96.498%\u001b[0m]\n",
      "Epoch: [159] HAM10000 ==> Training ...\n"
     ]
    },
    {
     "data": {
      "application/vnd.jupyter.widget-view+json": {
       "model_id": "fbb9e1151ef843a2b7d73253e9d9cf0b",
       "version_major": 2,
       "version_minor": 0
      },
      "text/plain": [
       "  0%|          | 0/404 [00:00<?, ?it/s]"
      ]
     },
     "metadata": {},
     "output_type": "display_data"
    },
    {
     "name": "stdout",
     "output_type": "stream",
     "text": [
      "[202/404] Loss0.17388, ACC:0.77154%\n",
      "[404/404] Loss0.17214, ACC:0.76882%\n",
      "Train_Loss: 0.17341020802902704,ACC:0.769%\n",
      "\u001b[66mHAM10000 ==> testing ...\u001b[0m\n"
     ]
    },
    {
     "data": {
      "application/vnd.jupyter.widget-view+json": {
       "model_id": "4ea6d61da404400fa1099148f4d28011",
       "version_major": 2,
       "version_minor": 0
      },
      "text/plain": [
       "  0%|          | 0/27 [00:00<?, ?it/s]"
      ]
     },
     "metadata": {},
     "output_type": "display_data"
    },
    {
     "name": "stdout",
     "output_type": "stream",
     "text": [
      "Test_Acc:\u001b[1;32m91.184%\u001b[0m\n",
      "Best_ACC[\u001b[1;32m96.498%\u001b[0m]\n",
      "Epoch: [160] HAM10000 ==> Training ...\n"
     ]
    },
    {
     "data": {
      "application/vnd.jupyter.widget-view+json": {
       "model_id": "5874192eae29475abc8c6499bd984ab9",
       "version_major": 2,
       "version_minor": 0
      },
      "text/plain": [
       "  0%|          | 0/404 [00:00<?, ?it/s]"
      ]
     },
     "metadata": {},
     "output_type": "display_data"
    },
    {
     "name": "stdout",
     "output_type": "stream",
     "text": [
      "[202/404] Loss0.17968, ACC:0.76013%\n",
      "[404/404] Loss0.18760, ACC:0.75837%\n",
      "Train_Loss: 0.17829001691229274,ACC:0.759%\n",
      "\u001b[66mHAM10000 ==> testing ...\u001b[0m\n"
     ]
    },
    {
     "data": {
      "application/vnd.jupyter.widget-view+json": {
       "model_id": "6c15d847a815452c977f216ba1452b2e",
       "version_major": 2,
       "version_minor": 0
      },
      "text/plain": [
       "  0%|          | 0/27 [00:00<?, ?it/s]"
      ]
     },
     "metadata": {},
     "output_type": "display_data"
    },
    {
     "name": "stdout",
     "output_type": "stream",
     "text": [
      "Test_Acc:\u001b[1;32m85.99%\u001b[0m\n",
      "Best_ACC[\u001b[1;32m96.498%\u001b[0m]\n",
      "Epoch: [161] HAM10000 ==> Training ...\n"
     ]
    },
    {
     "data": {
      "application/vnd.jupyter.widget-view+json": {
       "model_id": "d7fdc95ddbde454a9f6de07dba6df6d2",
       "version_major": 2,
       "version_minor": 0
      },
      "text/plain": [
       "  0%|          | 0/404 [00:00<?, ?it/s]"
      ]
     },
     "metadata": {},
     "output_type": "display_data"
    },
    {
     "name": "stdout",
     "output_type": "stream",
     "text": [
      "[202/404] Loss0.17250, ACC:0.76141%\n",
      "[404/404] Loss0.18877, ACC:0.75996%\n",
      "Train_Loss: 0.17878821193434224,ACC:0.76%\n",
      "\u001b[66mHAM10000 ==> testing ...\u001b[0m\n"
     ]
    },
    {
     "data": {
      "application/vnd.jupyter.widget-view+json": {
       "model_id": "b29e727e92f741ff8b29105edef6e926",
       "version_major": 2,
       "version_minor": 0
      },
      "text/plain": [
       "  0%|          | 0/27 [00:00<?, ?it/s]"
      ]
     },
     "metadata": {},
     "output_type": "display_data"
    },
    {
     "name": "stdout",
     "output_type": "stream",
     "text": [
      "Test_Acc:\u001b[1;32m87.319%\u001b[0m\n",
      "Best_ACC[\u001b[1;32m96.498%\u001b[0m]\n",
      "Epoch: [162] HAM10000 ==> Training ...\n"
     ]
    },
    {
     "data": {
      "application/vnd.jupyter.widget-view+json": {
       "model_id": "d0c0e83aae3e40ef938254e186566ac3",
       "version_major": 2,
       "version_minor": 0
      },
      "text/plain": [
       "  0%|          | 0/404 [00:00<?, ?it/s]"
      ]
     },
     "metadata": {},
     "output_type": "display_data"
    },
    {
     "name": "stdout",
     "output_type": "stream",
     "text": [
      "[202/404] Loss0.15197, ACC:0.75832%\n",
      "[404/404] Loss0.16872, ACC:0.76044%\n",
      "Train_Loss: 0.17738428582796956,ACC:0.761%\n",
      "\u001b[66mHAM10000 ==> testing ...\u001b[0m\n"
     ]
    },
    {
     "data": {
      "application/vnd.jupyter.widget-view+json": {
       "model_id": "9d64608a2eb1443c8244990affe1825f",
       "version_major": 2,
       "version_minor": 0
      },
      "text/plain": [
       "  0%|          | 0/27 [00:00<?, ?it/s]"
      ]
     },
     "metadata": {},
     "output_type": "display_data"
    },
    {
     "name": "stdout",
     "output_type": "stream",
     "text": [
      "Test_Acc:\u001b[1;32m80.797%\u001b[0m\n",
      "Best_ACC[\u001b[1;32m96.498%\u001b[0m]\n",
      "Epoch: [163] HAM10000 ==> Training ...\n"
     ]
    },
    {
     "data": {
      "application/vnd.jupyter.widget-view+json": {
       "model_id": "c79b619ddb714528bfac3fbd4c40604d",
       "version_major": 2,
       "version_minor": 0
      },
      "text/plain": [
       "  0%|          | 0/404 [00:00<?, ?it/s]"
      ]
     },
     "metadata": {},
     "output_type": "display_data"
    },
    {
     "name": "stdout",
     "output_type": "stream",
     "text": [
      "[202/404] Loss0.20126, ACC:0.77166%\n",
      "[404/404] Loss0.17826, ACC:0.76940%\n",
      "Train_Loss: 0.17212934131817062,ACC:0.77%\n",
      "\u001b[66mHAM10000 ==> testing ...\u001b[0m\n"
     ]
    },
    {
     "data": {
      "application/vnd.jupyter.widget-view+json": {
       "model_id": "607799fee9004488a8ab3826792111cb",
       "version_major": 2,
       "version_minor": 0
      },
      "text/plain": [
       "  0%|          | 0/27 [00:00<?, ?it/s]"
      ]
     },
     "metadata": {},
     "output_type": "display_data"
    },
    {
     "name": "stdout",
     "output_type": "stream",
     "text": [
      "Test_Acc:\u001b[1;32m88.164%\u001b[0m\n",
      "Best_ACC[\u001b[1;32m96.498%\u001b[0m]\n",
      "Epoch: [164] HAM10000 ==> Training ...\n"
     ]
    },
    {
     "data": {
      "application/vnd.jupyter.widget-view+json": {
       "model_id": "ff3e1fb5b25446b2ae9cb5c78d4dfbb6",
       "version_major": 2,
       "version_minor": 0
      },
      "text/plain": [
       "  0%|          | 0/404 [00:00<?, ?it/s]"
      ]
     },
     "metadata": {},
     "output_type": "display_data"
    },
    {
     "name": "stdout",
     "output_type": "stream",
     "text": [
      "[202/404] Loss0.16970, ACC:0.77611%\n",
      "[404/404] Loss0.15896, ACC:0.77653%\n",
      "Train_Loss: 0.16720517208375554,ACC:0.777%\n",
      "\u001b[66mHAM10000 ==> testing ...\u001b[0m\n"
     ]
    },
    {
     "data": {
      "application/vnd.jupyter.widget-view+json": {
       "model_id": "2f3e84c955554105ba520d2ba084e583",
       "version_major": 2,
       "version_minor": 0
      },
      "text/plain": [
       "  0%|          | 0/27 [00:00<?, ?it/s]"
      ]
     },
     "metadata": {},
     "output_type": "display_data"
    },
    {
     "name": "stdout",
     "output_type": "stream",
     "text": [
      "Test_Acc:\u001b[1;32m89.13%\u001b[0m\n",
      "Best_ACC[\u001b[1;32m96.498%\u001b[0m]\n",
      "Epoch: [165] HAM10000 ==> Training ...\n"
     ]
    },
    {
     "data": {
      "application/vnd.jupyter.widget-view+json": {
       "model_id": "c5519340bd43437ebbd5c3360b5e83ee",
       "version_major": 2,
       "version_minor": 0
      },
      "text/plain": [
       "  0%|          | 0/404 [00:00<?, ?it/s]"
      ]
     },
     "metadata": {},
     "output_type": "display_data"
    },
    {
     "name": "stdout",
     "output_type": "stream",
     "text": [
      "[202/404] Loss0.16580, ACC:0.78218%\n",
      "[404/404] Loss0.15107, ACC:0.78355%\n",
      "Train_Loss: 0.1629074321746236,ACC:0.784%\n",
      "\u001b[66mHAM10000 ==> testing ...\u001b[0m\n"
     ]
    },
    {
     "data": {
      "application/vnd.jupyter.widget-view+json": {
       "model_id": "c564887e450645659bb9e996c19fffd9",
       "version_major": 2,
       "version_minor": 0
      },
      "text/plain": [
       "  0%|          | 0/27 [00:00<?, ?it/s]"
      ]
     },
     "metadata": {},
     "output_type": "display_data"
    },
    {
     "name": "stdout",
     "output_type": "stream",
     "text": [
      "Test_Acc:\u001b[1;32m88.164%\u001b[0m\n",
      "Best_ACC[\u001b[1;32m96.498%\u001b[0m]\n",
      "Epoch: [166] HAM10000 ==> Training ...\n"
     ]
    },
    {
     "data": {
      "application/vnd.jupyter.widget-view+json": {
       "model_id": "5b62eba718844607a63f90a0e26d1bb9",
       "version_major": 2,
       "version_minor": 0
      },
      "text/plain": [
       "  0%|          | 0/404 [00:00<?, ?it/s]"
      ]
     },
     "metadata": {},
     "output_type": "display_data"
    },
    {
     "name": "stdout",
     "output_type": "stream",
     "text": [
      "[202/404] Loss0.11721, ACC:0.79080%\n",
      "[404/404] Loss0.15519, ACC:0.78763%\n",
      "Train_Loss: 0.16102497180057043,ACC:0.788%\n",
      "\u001b[66mHAM10000 ==> testing ...\u001b[0m\n"
     ]
    },
    {
     "data": {
      "application/vnd.jupyter.widget-view+json": {
       "model_id": "ad8112750a34455cb69aea7247ec79f8",
       "version_major": 2,
       "version_minor": 0
      },
      "text/plain": [
       "  0%|          | 0/27 [00:00<?, ?it/s]"
      ]
     },
     "metadata": {},
     "output_type": "display_data"
    },
    {
     "name": "stdout",
     "output_type": "stream",
     "text": [
      "Test_Acc:\u001b[1;32m88.043%\u001b[0m\n",
      "Best_ACC[\u001b[1;32m96.498%\u001b[0m]\n",
      "Epoch: [167] HAM10000 ==> Training ...\n"
     ]
    },
    {
     "data": {
      "application/vnd.jupyter.widget-view+json": {
       "model_id": "95eaf76c9bb04b24ae0d8be5e4adbf1b",
       "version_major": 2,
       "version_minor": 0
      },
      "text/plain": [
       "  0%|          | 0/404 [00:00<?, ?it/s]"
      ]
     },
     "metadata": {},
     "output_type": "display_data"
    },
    {
     "name": "stdout",
     "output_type": "stream",
     "text": [
      "[202/404] Loss0.15827, ACC:0.78233%\n",
      "[404/404] Loss0.16070, ACC:0.78398%\n",
      "Train_Loss: 0.16236074396067918,ACC:0.784%\n",
      "\u001b[66mHAM10000 ==> testing ...\u001b[0m\n"
     ]
    },
    {
     "data": {
      "application/vnd.jupyter.widget-view+json": {
       "model_id": "99124eb982374cadbf23a517fe22c2ce",
       "version_major": 2,
       "version_minor": 0
      },
      "text/plain": [
       "  0%|          | 0/27 [00:00<?, ?it/s]"
      ]
     },
     "metadata": {},
     "output_type": "display_data"
    },
    {
     "name": "stdout",
     "output_type": "stream",
     "text": [
      "Test_Acc:\u001b[1;32m93.478%\u001b[0m\n",
      "Best_ACC[\u001b[1;32m96.498%\u001b[0m]\n",
      "Epoch: [168] HAM10000 ==> Training ...\n"
     ]
    },
    {
     "data": {
      "application/vnd.jupyter.widget-view+json": {
       "model_id": "0ac105c736214596ae79ab5d4b9f0eb7",
       "version_major": 2,
       "version_minor": 0
      },
      "text/plain": [
       "  0%|          | 0/404 [00:00<?, ?it/s]"
      ]
     },
     "metadata": {},
     "output_type": "display_data"
    },
    {
     "name": "stdout",
     "output_type": "stream",
     "text": [
      "[202/404] Loss0.17416, ACC:0.78117%\n",
      "[404/404] Loss0.13440, ACC:0.77910%\n",
      "Train_Loss: 0.16620699899031385,ACC:0.779%\n",
      "\u001b[66mHAM10000 ==> testing ...\u001b[0m\n"
     ]
    },
    {
     "data": {
      "application/vnd.jupyter.widget-view+json": {
       "model_id": "2a6f474093644efb9b28f70f753bb193",
       "version_major": 2,
       "version_minor": 0
      },
      "text/plain": [
       "  0%|          | 0/27 [00:00<?, ?it/s]"
      ]
     },
     "metadata": {},
     "output_type": "display_data"
    },
    {
     "name": "stdout",
     "output_type": "stream",
     "text": [
      "Test_Acc:\u001b[1;32m83.937%\u001b[0m\n",
      "Best_ACC[\u001b[1;32m96.498%\u001b[0m]\n",
      "Epoch: [169] HAM10000 ==> Training ...\n"
     ]
    },
    {
     "data": {
      "application/vnd.jupyter.widget-view+json": {
       "model_id": "1d9a050c9d2e47d6a15ff7401186cfc2",
       "version_major": 2,
       "version_minor": 0
      },
      "text/plain": [
       "  0%|          | 0/404 [00:00<?, ?it/s]"
      ]
     },
     "metadata": {},
     "output_type": "display_data"
    },
    {
     "name": "stdout",
     "output_type": "stream",
     "text": [
      "[202/404] Loss0.14123, ACC:0.77247%\n",
      "[404/404] Loss0.21346, ACC:0.77232%\n",
      "Train_Loss: 0.17194341305680205,ACC:0.773%\n",
      "\u001b[66mHAM10000 ==> testing ...\u001b[0m\n"
     ]
    },
    {
     "data": {
      "application/vnd.jupyter.widget-view+json": {
       "model_id": "97e0eee0c372491fb31987b6b47185e2",
       "version_major": 2,
       "version_minor": 0
      },
      "text/plain": [
       "  0%|          | 0/27 [00:00<?, ?it/s]"
      ]
     },
     "metadata": {},
     "output_type": "display_data"
    },
    {
     "name": "stdout",
     "output_type": "stream",
     "text": [
      "Test_Acc:\u001b[1;32m93.357%\u001b[0m\n",
      "Best_ACC[\u001b[1;32m96.498%\u001b[0m]\n",
      "Epoch: [170] HAM10000 ==> Training ...\n"
     ]
    },
    {
     "data": {
      "application/vnd.jupyter.widget-view+json": {
       "model_id": "ffc298a3ea324e269f30711b6e58fd1e",
       "version_major": 2,
       "version_minor": 0
      },
      "text/plain": [
       "  0%|          | 0/404 [00:00<?, ?it/s]"
      ]
     },
     "metadata": {},
     "output_type": "display_data"
    },
    {
     "name": "stdout",
     "output_type": "stream",
     "text": [
      "[202/404] Loss0.17302, ACC:0.76787%\n",
      "[404/404] Loss0.17138, ACC:0.76771%\n",
      "Train_Loss: 0.1744729407721817,ACC:0.768%\n",
      "\u001b[66mHAM10000 ==> testing ...\u001b[0m\n"
     ]
    },
    {
     "data": {
      "application/vnd.jupyter.widget-view+json": {
       "model_id": "7b6aa4d561974b9dab97bc7ba5370818",
       "version_major": 2,
       "version_minor": 0
      },
      "text/plain": [
       "  0%|          | 0/27 [00:00<?, ?it/s]"
      ]
     },
     "metadata": {},
     "output_type": "display_data"
    },
    {
     "name": "stdout",
     "output_type": "stream",
     "text": [
      "Test_Acc:\u001b[1;32m84.42%\u001b[0m\n",
      "Best_ACC[\u001b[1;32m96.498%\u001b[0m]\n",
      "Epoch: [171] HAM10000 ==> Training ...\n"
     ]
    },
    {
     "data": {
      "application/vnd.jupyter.widget-view+json": {
       "model_id": "52dec57ac4bf4c40b0d78fa0385bb3eb",
       "version_major": 2,
       "version_minor": 0
      },
      "text/plain": [
       "  0%|          | 0/404 [00:00<?, ?it/s]"
      ]
     },
     "metadata": {},
     "output_type": "display_data"
    },
    {
     "name": "stdout",
     "output_type": "stream",
     "text": [
      "[202/404] Loss0.15425, ACC:0.76767%\n",
      "[404/404] Loss0.14910, ACC:0.76470%\n",
      "Train_Loss: 0.17582006376273562,ACC:0.765%\n",
      "\u001b[66mHAM10000 ==> testing ...\u001b[0m\n"
     ]
    },
    {
     "data": {
      "application/vnd.jupyter.widget-view+json": {
       "model_id": "89553571731149678dbc650e02e233ab",
       "version_major": 2,
       "version_minor": 0
      },
      "text/plain": [
       "  0%|          | 0/27 [00:00<?, ?it/s]"
      ]
     },
     "metadata": {},
     "output_type": "display_data"
    },
    {
     "name": "stdout",
     "output_type": "stream",
     "text": [
      "Test_Acc:\u001b[1;32m90.459%\u001b[0m\n",
      "Best_ACC[\u001b[1;32m96.498%\u001b[0m]\n",
      "Epoch: [172] HAM10000 ==> Training ...\n"
     ]
    },
    {
     "data": {
      "application/vnd.jupyter.widget-view+json": {
       "model_id": "7d56e19fad874d0daf40a073a598fa86",
       "version_major": 2,
       "version_minor": 0
      },
      "text/plain": [
       "  0%|          | 0/404 [00:00<?, ?it/s]"
      ]
     },
     "metadata": {},
     "output_type": "display_data"
    },
    {
     "name": "stdout",
     "output_type": "stream",
     "text": [
      "[202/404] Loss0.20980, ACC:0.76412%\n",
      "[404/404] Loss0.15401, ACC:0.76319%\n",
      "Train_Loss: 0.1756916297323043,ACC:0.763%\n",
      "\u001b[66mHAM10000 ==> testing ...\u001b[0m\n"
     ]
    },
    {
     "data": {
      "application/vnd.jupyter.widget-view+json": {
       "model_id": "f0cdb56bd76041dc94d1b16368174976",
       "version_major": 2,
       "version_minor": 0
      },
      "text/plain": [
       "  0%|          | 0/27 [00:00<?, ?it/s]"
      ]
     },
     "metadata": {},
     "output_type": "display_data"
    },
    {
     "name": "stdout",
     "output_type": "stream",
     "text": [
      "Test_Acc:\u001b[1;32m87.44%\u001b[0m\n",
      "Best_ACC[\u001b[1;32m96.498%\u001b[0m]\n",
      "Epoch: [173] HAM10000 ==> Training ...\n"
     ]
    },
    {
     "data": {
      "application/vnd.jupyter.widget-view+json": {
       "model_id": "b29b3f34f8cf4d8aaeaf7c19e83408dd",
       "version_major": 2,
       "version_minor": 0
      },
      "text/plain": [
       "  0%|          | 0/404 [00:00<?, ?it/s]"
      ]
     },
     "metadata": {},
     "output_type": "display_data"
    },
    {
     "name": "stdout",
     "output_type": "stream",
     "text": [
      "[202/404] Loss0.18600, ACC:0.76961%\n",
      "[404/404] Loss0.18001, ACC:0.77201%\n",
      "Train_Loss: 0.17066315502518475,ACC:0.772%\n",
      "\u001b[66mHAM10000 ==> testing ...\u001b[0m\n"
     ]
    },
    {
     "data": {
      "application/vnd.jupyter.widget-view+json": {
       "model_id": "d59e95221ff14b5d8e2a23631ac02cf4",
       "version_major": 2,
       "version_minor": 0
      },
      "text/plain": [
       "  0%|          | 0/27 [00:00<?, ?it/s]"
      ]
     },
     "metadata": {},
     "output_type": "display_data"
    },
    {
     "name": "stdout",
     "output_type": "stream",
     "text": [
      "Test_Acc:\u001b[1;32m83.454%\u001b[0m\n",
      "Best_ACC[\u001b[1;32m96.498%\u001b[0m]\n",
      "Epoch: [174] HAM10000 ==> Training ...\n"
     ]
    },
    {
     "data": {
      "application/vnd.jupyter.widget-view+json": {
       "model_id": "640a06d7af914573baca60175c7fa312",
       "version_major": 2,
       "version_minor": 0
      },
      "text/plain": [
       "  0%|          | 0/404 [00:00<?, ?it/s]"
      ]
     },
     "metadata": {},
     "output_type": "display_data"
    },
    {
     "name": "stdout",
     "output_type": "stream",
     "text": [
      "[202/404] Loss0.15378, ACC:0.78075%\n",
      "[404/404] Loss0.14974, ACC:0.78171%\n",
      "Train_Loss: 0.16493005132173547,ACC:0.782%\n",
      "\u001b[66mHAM10000 ==> testing ...\u001b[0m\n"
     ]
    },
    {
     "data": {
      "application/vnd.jupyter.widget-view+json": {
       "model_id": "3d9535e176fb41d6b3a6dd550d005a01",
       "version_major": 2,
       "version_minor": 0
      },
      "text/plain": [
       "  0%|          | 0/27 [00:00<?, ?it/s]"
      ]
     },
     "metadata": {},
     "output_type": "display_data"
    },
    {
     "name": "stdout",
     "output_type": "stream",
     "text": [
      "Test_Acc:\u001b[1;32m82.126%\u001b[0m\n",
      "Best_ACC[\u001b[1;32m96.498%\u001b[0m]\n",
      "Epoch: [175] HAM10000 ==> Training ...\n"
     ]
    },
    {
     "data": {
      "application/vnd.jupyter.widget-view+json": {
       "model_id": "5a18c8dbba484d1b9c3ef86e308f8748",
       "version_major": 2,
       "version_minor": 0
      },
      "text/plain": [
       "  0%|          | 0/404 [00:00<?, ?it/s]"
      ]
     },
     "metadata": {},
     "output_type": "display_data"
    },
    {
     "name": "stdout",
     "output_type": "stream",
     "text": [
      "[202/404] Loss0.18813, ACC:0.78481%\n",
      "[404/404] Loss0.16418, ACC:0.78721%\n",
      "Train_Loss: 0.16065084281386716,ACC:0.787%\n",
      "\u001b[66mHAM10000 ==> testing ...\u001b[0m\n"
     ]
    },
    {
     "data": {
      "application/vnd.jupyter.widget-view+json": {
       "model_id": "eaf806e9efe2450292cc99465d5ff787",
       "version_major": 2,
       "version_minor": 0
      },
      "text/plain": [
       "  0%|          | 0/27 [00:00<?, ?it/s]"
      ]
     },
     "metadata": {},
     "output_type": "display_data"
    },
    {
     "name": "stdout",
     "output_type": "stream",
     "text": [
      "Test_Acc:\u001b[1;32m83.454%\u001b[0m\n",
      "Best_ACC[\u001b[1;32m96.498%\u001b[0m]\n",
      "Epoch: [176] HAM10000 ==> Training ...\n"
     ]
    },
    {
     "data": {
      "application/vnd.jupyter.widget-view+json": {
       "model_id": "e6b40b2bd27e4880b0d22d1f3642d729",
       "version_major": 2,
       "version_minor": 0
      },
      "text/plain": [
       "  0%|          | 0/404 [00:00<?, ?it/s]"
      ]
     },
     "metadata": {},
     "output_type": "display_data"
    },
    {
     "name": "stdout",
     "output_type": "stream",
     "text": [
      "[202/404] Loss0.13955, ACC:0.78566%\n",
      "[404/404] Loss0.14817, ACC:0.78899%\n",
      "Train_Loss: 0.15948852072331574,ACC:0.789%\n",
      "\u001b[66mHAM10000 ==> testing ...\u001b[0m\n"
     ]
    },
    {
     "data": {
      "application/vnd.jupyter.widget-view+json": {
       "model_id": "283954561d0a4f88b5fc29d79e3aca6e",
       "version_major": 2,
       "version_minor": 0
      },
      "text/plain": [
       "  0%|          | 0/27 [00:00<?, ?it/s]"
      ]
     },
     "metadata": {},
     "output_type": "display_data"
    },
    {
     "name": "stdout",
     "output_type": "stream",
     "text": [
      "Test_Acc:\u001b[1;32m82.729%\u001b[0m\n",
      "Best_ACC[\u001b[1;32m96.498%\u001b[0m]\n",
      "Epoch: [177] HAM10000 ==> Training ...\n"
     ]
    },
    {
     "data": {
      "application/vnd.jupyter.widget-view+json": {
       "model_id": "ee62da842ce443b7b1865d6248c9fbe6",
       "version_major": 2,
       "version_minor": 0
      },
      "text/plain": [
       "  0%|          | 0/404 [00:00<?, ?it/s]"
      ]
     },
     "metadata": {},
     "output_type": "display_data"
    },
    {
     "name": "stdout",
     "output_type": "stream",
     "text": [
      "[202/404] Loss0.13967, ACC:0.78782%\n",
      "[404/404] Loss0.17038, ACC:0.78752%\n",
      "Train_Loss: 0.16078187202536823,ACC:0.788%\n",
      "\u001b[66mHAM10000 ==> testing ...\u001b[0m\n"
     ]
    },
    {
     "data": {
      "application/vnd.jupyter.widget-view+json": {
       "model_id": "5eaa1299a44046eeb8d91d0f7e5a6159",
       "version_major": 2,
       "version_minor": 0
      },
      "text/plain": [
       "  0%|          | 0/27 [00:00<?, ?it/s]"
      ]
     },
     "metadata": {},
     "output_type": "display_data"
    },
    {
     "name": "stdout",
     "output_type": "stream",
     "text": [
      "Test_Acc:\u001b[1;32m85.99%\u001b[0m\n",
      "Best_ACC[\u001b[1;32m96.498%\u001b[0m]\n",
      "Epoch: [178] HAM10000 ==> Training ...\n"
     ]
    },
    {
     "data": {
      "application/vnd.jupyter.widget-view+json": {
       "model_id": "4da9d811b05e4c03b2fd7336e61ed0b5",
       "version_major": 2,
       "version_minor": 0
      },
      "text/plain": [
       "  0%|          | 0/404 [00:00<?, ?it/s]"
      ]
     },
     "metadata": {},
     "output_type": "display_data"
    },
    {
     "name": "stdout",
     "output_type": "stream",
     "text": [
      "[202/404] Loss0.16824, ACC:0.78040%\n",
      "[404/404] Loss0.15305, ACC:0.77934%\n",
      "Train_Loss: 0.16614099248948663,ACC:0.78%\n",
      "\u001b[66mHAM10000 ==> testing ...\u001b[0m\n"
     ]
    },
    {
     "data": {
      "application/vnd.jupyter.widget-view+json": {
       "model_id": "f6419d4f3b804f049608e94f623857a5",
       "version_major": 2,
       "version_minor": 0
      },
      "text/plain": [
       "  0%|          | 0/27 [00:00<?, ?it/s]"
      ]
     },
     "metadata": {},
     "output_type": "display_data"
    },
    {
     "name": "stdout",
     "output_type": "stream",
     "text": [
      "Test_Acc:\u001b[1;32m86.473%\u001b[0m\n",
      "Best_ACC[\u001b[1;32m96.498%\u001b[0m]\n",
      "Epoch: [179] HAM10000 ==> Training ...\n"
     ]
    },
    {
     "data": {
      "application/vnd.jupyter.widget-view+json": {
       "model_id": "82224b41fdf2498686c7d10c8a6c39ea",
       "version_major": 2,
       "version_minor": 0
      },
      "text/plain": [
       "  0%|          | 0/404 [00:00<?, ?it/s]"
      ]
     },
     "metadata": {},
     "output_type": "display_data"
    },
    {
     "name": "stdout",
     "output_type": "stream",
     "text": [
      "[202/404] Loss0.16910, ACC:0.77297%\n",
      "[404/404] Loss0.17238, ACC:0.77224%\n",
      "Train_Loss: 0.17042763400269617,ACC:0.772%\n",
      "\u001b[66mHAM10000 ==> testing ...\u001b[0m\n"
     ]
    },
    {
     "data": {
      "application/vnd.jupyter.widget-view+json": {
       "model_id": "2d64b48da5e54c2b8671f6fdd7518b68",
       "version_major": 2,
       "version_minor": 0
      },
      "text/plain": [
       "  0%|          | 0/27 [00:00<?, ?it/s]"
      ]
     },
     "metadata": {},
     "output_type": "display_data"
    },
    {
     "name": "stdout",
     "output_type": "stream",
     "text": [
      "Test_Acc:\u001b[1;32m77.899%\u001b[0m\n",
      "Best_ACC[\u001b[1;32m96.498%\u001b[0m]\n",
      "Epoch: [180] HAM10000 ==> Training ...\n"
     ]
    },
    {
     "data": {
      "application/vnd.jupyter.widget-view+json": {
       "model_id": "65fd826047654c779a693ae37e68de46",
       "version_major": 2,
       "version_minor": 0
      },
      "text/plain": [
       "  0%|          | 0/404 [00:00<?, ?it/s]"
      ]
     },
     "metadata": {},
     "output_type": "display_data"
    },
    {
     "name": "stdout",
     "output_type": "stream",
     "text": [
      "[202/404] Loss0.16656, ACC:0.76547%\n",
      "[404/404] Loss0.20864, ACC:0.76609%\n",
      "Train_Loss: 0.1743889647618969,ACC:0.766%\n",
      "\u001b[66mHAM10000 ==> testing ...\u001b[0m\n"
     ]
    },
    {
     "data": {
      "application/vnd.jupyter.widget-view+json": {
       "model_id": "0655a5346cb147938e566a9a1eea5765",
       "version_major": 2,
       "version_minor": 0
      },
      "text/plain": [
       "  0%|          | 0/27 [00:00<?, ?it/s]"
      ]
     },
     "metadata": {},
     "output_type": "display_data"
    },
    {
     "name": "stdout",
     "output_type": "stream",
     "text": [
      "Test_Acc:\u001b[1;32m87.802%\u001b[0m\n",
      "Best_ACC[\u001b[1;32m96.498%\u001b[0m]\n",
      "Epoch: [181] HAM10000 ==> Training ...\n"
     ]
    },
    {
     "data": {
      "application/vnd.jupyter.widget-view+json": {
       "model_id": "b6b4caa87c0345a4961b99b78d730f88",
       "version_major": 2,
       "version_minor": 0
      },
      "text/plain": [
       "  0%|          | 0/404 [00:00<?, ?it/s]"
      ]
     },
     "metadata": {},
     "output_type": "display_data"
    },
    {
     "name": "stdout",
     "output_type": "stream",
     "text": [
      "[202/404] Loss0.16248, ACC:0.76373%\n",
      "[404/404] Loss0.16596, ACC:0.76501%\n",
      "Train_Loss: 0.17527088401193666,ACC:0.765%\n",
      "\u001b[66mHAM10000 ==> testing ...\u001b[0m\n"
     ]
    },
    {
     "data": {
      "application/vnd.jupyter.widget-view+json": {
       "model_id": "30244a0abc994af098446228edbaacbf",
       "version_major": 2,
       "version_minor": 0
      },
      "text/plain": [
       "  0%|          | 0/27 [00:00<?, ?it/s]"
      ]
     },
     "metadata": {},
     "output_type": "display_data"
    },
    {
     "name": "stdout",
     "output_type": "stream",
     "text": [
      "Test_Acc:\u001b[1;32m78.14%\u001b[0m\n",
      "Best_ACC[\u001b[1;32m96.498%\u001b[0m]\n",
      "Epoch: [182] HAM10000 ==> Training ...\n"
     ]
    },
    {
     "data": {
      "application/vnd.jupyter.widget-view+json": {
       "model_id": "3dd1985b38d24990a5adac4098587233",
       "version_major": 2,
       "version_minor": 0
      },
      "text/plain": [
       "  0%|          | 0/404 [00:00<?, ?it/s]"
      ]
     },
     "metadata": {},
     "output_type": "display_data"
    },
    {
     "name": "stdout",
     "output_type": "stream",
     "text": [
      "[202/404] Loss0.17301, ACC:0.77166%\n",
      "[404/404] Loss0.16355, ACC:0.76978%\n",
      "Train_Loss: 0.1731323650346534,ACC:0.77%\n",
      "\u001b[66mHAM10000 ==> testing ...\u001b[0m\n"
     ]
    },
    {
     "data": {
      "application/vnd.jupyter.widget-view+json": {
       "model_id": "777db68d80dd442183313cd03492a3d0",
       "version_major": 2,
       "version_minor": 0
      },
      "text/plain": [
       "  0%|          | 0/27 [00:00<?, ?it/s]"
      ]
     },
     "metadata": {},
     "output_type": "display_data"
    },
    {
     "name": "stdout",
     "output_type": "stream",
     "text": [
      "Test_Acc:\u001b[1;32m90.942%\u001b[0m\n",
      "Best_ACC[\u001b[1;32m96.498%\u001b[0m]\n",
      "Epoch: [183] HAM10000 ==> Training ...\n"
     ]
    },
    {
     "data": {
      "application/vnd.jupyter.widget-view+json": {
       "model_id": "4dd071b1ad874d64b62dfa5f2f113ced",
       "version_major": 2,
       "version_minor": 0
      },
      "text/plain": [
       "  0%|          | 0/404 [00:00<?, ?it/s]"
      ]
     },
     "metadata": {},
     "output_type": "display_data"
    },
    {
     "name": "stdout",
     "output_type": "stream",
     "text": [
      "[202/404] Loss0.17789, ACC:0.77479%\n",
      "[404/404] Loss0.17443, ACC:0.77402%\n",
      "Train_Loss: 0.16967982632836492,ACC:0.774%\n",
      "\u001b[66mHAM10000 ==> testing ...\u001b[0m\n"
     ]
    },
    {
     "data": {
      "application/vnd.jupyter.widget-view+json": {
       "model_id": "eefd082aa2a24bf2b6bc82b99d1a651c",
       "version_major": 2,
       "version_minor": 0
      },
      "text/plain": [
       "  0%|          | 0/27 [00:00<?, ?it/s]"
      ]
     },
     "metadata": {},
     "output_type": "display_data"
    },
    {
     "name": "stdout",
     "output_type": "stream",
     "text": [
      "Test_Acc:\u001b[1;32m91.787%\u001b[0m\n",
      "Best_ACC[\u001b[1;32m96.498%\u001b[0m]\n",
      "Epoch: [184] HAM10000 ==> Training ...\n"
     ]
    },
    {
     "data": {
      "application/vnd.jupyter.widget-view+json": {
       "model_id": "4edc72326e5949ac89062c7f0b2125c3",
       "version_major": 2,
       "version_minor": 0
      },
      "text/plain": [
       "  0%|          | 0/404 [00:00<?, ?it/s]"
      ]
     },
     "metadata": {},
     "output_type": "display_data"
    },
    {
     "name": "stdout",
     "output_type": "stream",
     "text": [
      "[202/404] Loss0.19405, ACC:0.78469%\n",
      "[404/404] Loss0.15942, ACC:0.78446%\n",
      "Train_Loss: 0.1635885736582303,ACC:0.785%\n",
      "\u001b[66mHAM10000 ==> testing ...\u001b[0m\n"
     ]
    },
    {
     "data": {
      "application/vnd.jupyter.widget-view+json": {
       "model_id": "3867ac4ebbc54192858c93ccb04a2566",
       "version_major": 2,
       "version_minor": 0
      },
      "text/plain": [
       "  0%|          | 0/27 [00:00<?, ?it/s]"
      ]
     },
     "metadata": {},
     "output_type": "display_data"
    },
    {
     "name": "stdout",
     "output_type": "stream",
     "text": [
      "Test_Acc:\u001b[1;32m78.019%\u001b[0m\n",
      "Best_ACC[\u001b[1;32m96.498%\u001b[0m]\n",
      "Epoch: [185] HAM10000 ==> Training ...\n"
     ]
    },
    {
     "data": {
      "application/vnd.jupyter.widget-view+json": {
       "model_id": "40b71fed3594452bb7ce30bb7545f07c",
       "version_major": 2,
       "version_minor": 0
      },
      "text/plain": [
       "  0%|          | 0/404 [00:00<?, ?it/s]"
      ]
     },
     "metadata": {},
     "output_type": "display_data"
    },
    {
     "name": "stdout",
     "output_type": "stream",
     "text": [
      "[202/404] Loss0.11490, ACC:0.78891%\n",
      "[404/404] Loss0.15000, ACC:0.78846%\n",
      "Train_Loss: 0.1597907601643612,ACC:0.789%\n",
      "\u001b[66mHAM10000 ==> testing ...\u001b[0m\n"
     ]
    },
    {
     "data": {
      "application/vnd.jupyter.widget-view+json": {
       "model_id": "01c8b342cab9495ca860830d52928a8d",
       "version_major": 2,
       "version_minor": 0
      },
      "text/plain": [
       "  0%|          | 0/27 [00:00<?, ?it/s]"
      ]
     },
     "metadata": {},
     "output_type": "display_data"
    },
    {
     "name": "stdout",
     "output_type": "stream",
     "text": [
      "Test_Acc:\u001b[1;32m88.164%\u001b[0m\n",
      "Best_ACC[\u001b[1;32m96.498%\u001b[0m]\n",
      "Epoch: [186] HAM10000 ==> Training ...\n"
     ]
    },
    {
     "data": {
      "application/vnd.jupyter.widget-view+json": {
       "model_id": "5775bd61e9a7469d9192b9fa45eef90d",
       "version_major": 2,
       "version_minor": 0
      },
      "text/plain": [
       "  0%|          | 0/404 [00:00<?, ?it/s]"
      ]
     },
     "metadata": {},
     "output_type": "display_data"
    },
    {
     "name": "stdout",
     "output_type": "stream",
     "text": [
      "[202/404] Loss0.18286, ACC:0.78972%\n",
      "[404/404] Loss0.14733, ACC:0.78804%\n",
      "Train_Loss: 0.15974848568070643,ACC:0.788%\n",
      "\u001b[66mHAM10000 ==> testing ...\u001b[0m\n"
     ]
    },
    {
     "data": {
      "application/vnd.jupyter.widget-view+json": {
       "model_id": "cb04e7fd0f944d19bb098ac9274488e3",
       "version_major": 2,
       "version_minor": 0
      },
      "text/plain": [
       "  0%|          | 0/27 [00:00<?, ?it/s]"
      ]
     },
     "metadata": {},
     "output_type": "display_data"
    },
    {
     "name": "stdout",
     "output_type": "stream",
     "text": [
      "Test_Acc:\u001b[1;32m86.957%\u001b[0m\n",
      "Best_ACC[\u001b[1;32m96.498%\u001b[0m]\n",
      "Epoch: [187] HAM10000 ==> Training ...\n"
     ]
    },
    {
     "data": {
      "application/vnd.jupyter.widget-view+json": {
       "model_id": "031110c39ead4166828d177246cb4620",
       "version_major": 2,
       "version_minor": 0
      },
      "text/plain": [
       "  0%|          | 0/404 [00:00<?, ?it/s]"
      ]
     },
     "metadata": {},
     "output_type": "display_data"
    },
    {
     "name": "stdout",
     "output_type": "stream",
     "text": [
      "[202/404] Loss0.16628, ACC:0.79467%\n",
      "[404/404] Loss0.19591, ACC:0.79080%\n",
      "Train_Loss: 0.15896554868483898,ACC:0.791%\n",
      "\u001b[66mHAM10000 ==> testing ...\u001b[0m\n"
     ]
    },
    {
     "data": {
      "application/vnd.jupyter.widget-view+json": {
       "model_id": "22e295bbb3f94cbba24929412990a7f5",
       "version_major": 2,
       "version_minor": 0
      },
      "text/plain": [
       "  0%|          | 0/27 [00:00<?, ?it/s]"
      ]
     },
     "metadata": {},
     "output_type": "display_data"
    },
    {
     "name": "stdout",
     "output_type": "stream",
     "text": [
      "Test_Acc:\u001b[1;32m85.386%\u001b[0m\n",
      "Best_ACC[\u001b[1;32m96.498%\u001b[0m]\n",
      "Epoch: [188] HAM10000 ==> Training ...\n"
     ]
    },
    {
     "data": {
      "application/vnd.jupyter.widget-view+json": {
       "model_id": "8e087891c5774af68466a1110d32e898",
       "version_major": 2,
       "version_minor": 0
      },
      "text/plain": [
       "  0%|          | 0/404 [00:00<?, ?it/s]"
      ]
     },
     "metadata": {},
     "output_type": "display_data"
    },
    {
     "name": "stdout",
     "output_type": "stream",
     "text": [
      "[202/404] Loss0.16020, ACC:0.78272%\n",
      "[404/404] Loss0.13847, ACC:0.78438%\n",
      "Train_Loss: 0.16301849655954553,ACC:0.785%\n",
      "\u001b[66mHAM10000 ==> testing ...\u001b[0m\n"
     ]
    },
    {
     "data": {
      "application/vnd.jupyter.widget-view+json": {
       "model_id": "ef96acdb7fd54d08918aaef1c32c005d",
       "version_major": 2,
       "version_minor": 0
      },
      "text/plain": [
       "  0%|          | 0/27 [00:00<?, ?it/s]"
      ]
     },
     "metadata": {},
     "output_type": "display_data"
    },
    {
     "name": "stdout",
     "output_type": "stream",
     "text": [
      "Test_Acc:\u001b[1;32m81.522%\u001b[0m\n",
      "Best_ACC[\u001b[1;32m96.498%\u001b[0m]\n",
      "Epoch: [189] HAM10000 ==> Training ...\n"
     ]
    },
    {
     "data": {
      "application/vnd.jupyter.widget-view+json": {
       "model_id": "31a532ffbf6a49c783d05cd582c53716",
       "version_major": 2,
       "version_minor": 0
      },
      "text/plain": [
       "  0%|          | 0/404 [00:00<?, ?it/s]"
      ]
     },
     "metadata": {},
     "output_type": "display_data"
    },
    {
     "name": "stdout",
     "output_type": "stream",
     "text": [
      "[202/404] Loss0.16392, ACC:0.77746%\n",
      "[404/404] Loss0.16864, ACC:0.77574%\n",
      "Train_Loss: 0.16880853959165587,ACC:0.776%\n",
      "\u001b[66mHAM10000 ==> testing ...\u001b[0m\n"
     ]
    },
    {
     "data": {
      "application/vnd.jupyter.widget-view+json": {
       "model_id": "fca60837bb3545189ac4bb9d23d6761e",
       "version_major": 2,
       "version_minor": 0
      },
      "text/plain": [
       "  0%|          | 0/27 [00:00<?, ?it/s]"
      ]
     },
     "metadata": {},
     "output_type": "display_data"
    },
    {
     "name": "stdout",
     "output_type": "stream",
     "text": [
      "Test_Acc:\u001b[1;32m83.937%\u001b[0m\n",
      "Best_ACC[\u001b[1;32m96.498%\u001b[0m]\n",
      "Epoch: [190] HAM10000 ==> Training ...\n"
     ]
    },
    {
     "data": {
      "application/vnd.jupyter.widget-view+json": {
       "model_id": "2d83f223a79e477f8e535f0ccfad5933",
       "version_major": 2,
       "version_minor": 0
      },
      "text/plain": [
       "  0%|          | 0/404 [00:00<?, ?it/s]"
      ]
     },
     "metadata": {},
     "output_type": "display_data"
    },
    {
     "name": "stdout",
     "output_type": "stream",
     "text": [
      "[202/404] Loss0.18532, ACC:0.77073%\n",
      "[404/404] Loss0.18430, ACC:0.76998%\n",
      "Train_Loss: 0.17211281220511634,ACC:0.77%\n",
      "\u001b[66mHAM10000 ==> testing ...\u001b[0m\n"
     ]
    },
    {
     "data": {
      "application/vnd.jupyter.widget-view+json": {
       "model_id": "b742f47f485943a493901d4766f036e8",
       "version_major": 2,
       "version_minor": 0
      },
      "text/plain": [
       "  0%|          | 0/27 [00:00<?, ?it/s]"
      ]
     },
     "metadata": {},
     "output_type": "display_data"
    },
    {
     "name": "stdout",
     "output_type": "stream",
     "text": [
      "Test_Acc:\u001b[1;32m75.242%\u001b[0m\n",
      "Best_ACC[\u001b[1;32m96.498%\u001b[0m]\n",
      "Epoch: [191] HAM10000 ==> Training ...\n"
     ]
    },
    {
     "data": {
      "application/vnd.jupyter.widget-view+json": {
       "model_id": "bd9c1a66464e4e469f7eca0d43d158d6",
       "version_major": 2,
       "version_minor": 0
      },
      "text/plain": [
       "  0%|          | 0/404 [00:00<?, ?it/s]"
      ]
     },
     "metadata": {},
     "output_type": "display_data"
    },
    {
     "name": "stdout",
     "output_type": "stream",
     "text": [
      "[202/404] Loss0.19519, ACC:0.77417%\n",
      "[404/404] Loss0.16613, ACC:0.76955%\n",
      "Train_Loss: 0.1741252706413812,ACC:0.77%\n",
      "\u001b[66mHAM10000 ==> testing ...\u001b[0m\n"
     ]
    },
    {
     "data": {
      "application/vnd.jupyter.widget-view+json": {
       "model_id": "4e85d4c94f29403097fdff0c1df694cd",
       "version_major": 2,
       "version_minor": 0
      },
      "text/plain": [
       "  0%|          | 0/27 [00:00<?, ?it/s]"
      ]
     },
     "metadata": {},
     "output_type": "display_data"
    },
    {
     "name": "stdout",
     "output_type": "stream",
     "text": [
      "Test_Acc:\u001b[1;32m74.758%\u001b[0m\n",
      "Best_ACC[\u001b[1;32m96.498%\u001b[0m]\n",
      "Epoch: [192] HAM10000 ==> Training ...\n"
     ]
    },
    {
     "data": {
      "application/vnd.jupyter.widget-view+json": {
       "model_id": "a848b98c7a7140c99a7336ca6a20d326",
       "version_major": 2,
       "version_minor": 0
      },
      "text/plain": [
       "  0%|          | 0/404 [00:00<?, ?it/s]"
      ]
     },
     "metadata": {},
     "output_type": "display_data"
    },
    {
     "name": "stdout",
     "output_type": "stream",
     "text": [
      "[202/404] Loss0.16044, ACC:0.76926%\n",
      "[404/404] Loss0.18085, ACC:0.76870%\n",
      "Train_Loss: 0.1724204952173894,ACC:0.769%\n",
      "\u001b[66mHAM10000 ==> testing ...\u001b[0m\n"
     ]
    },
    {
     "data": {
      "application/vnd.jupyter.widget-view+json": {
       "model_id": "fc47258549424b9792aff58492f70e87",
       "version_major": 2,
       "version_minor": 0
      },
      "text/plain": [
       "  0%|          | 0/27 [00:00<?, ?it/s]"
      ]
     },
     "metadata": {},
     "output_type": "display_data"
    },
    {
     "name": "stdout",
     "output_type": "stream",
     "text": [
      "Test_Acc:\u001b[1;32m79.831%\u001b[0m\n",
      "Best_ACC[\u001b[1;32m96.498%\u001b[0m]\n",
      "Epoch: [193] HAM10000 ==> Training ...\n"
     ]
    },
    {
     "data": {
      "application/vnd.jupyter.widget-view+json": {
       "model_id": "f49f35f6261d405893261b64be6ec15f",
       "version_major": 2,
       "version_minor": 0
      },
      "text/plain": [
       "  0%|          | 0/404 [00:00<?, ?it/s]"
      ]
     },
     "metadata": {},
     "output_type": "display_data"
    },
    {
     "name": "stdout",
     "output_type": "stream",
     "text": [
      "[202/404] Loss0.14315, ACC:0.77572%\n",
      "[404/404] Loss0.16102, ACC:0.77599%\n",
      "Train_Loss: 0.16806644678927293,ACC:0.776%\n",
      "\u001b[66mHAM10000 ==> testing ...\u001b[0m\n"
     ]
    },
    {
     "data": {
      "application/vnd.jupyter.widget-view+json": {
       "model_id": "f4b2f21782384af58ca2b6290f3c7a47",
       "version_major": 2,
       "version_minor": 0
      },
      "text/plain": [
       "  0%|          | 0/27 [00:00<?, ?it/s]"
      ]
     },
     "metadata": {},
     "output_type": "display_data"
    },
    {
     "name": "stdout",
     "output_type": "stream",
     "text": [
      "Test_Acc:\u001b[1;32m83.937%\u001b[0m\n",
      "Best_ACC[\u001b[1;32m96.498%\u001b[0m]\n",
      "Epoch: [194] HAM10000 ==> Training ...\n"
     ]
    },
    {
     "data": {
      "application/vnd.jupyter.widget-view+json": {
       "model_id": "c8a769a022ad437b84c219576c380b93",
       "version_major": 2,
       "version_minor": 0
      },
      "text/plain": [
       "  0%|          | 0/404 [00:00<?, ?it/s]"
      ]
     },
     "metadata": {},
     "output_type": "display_data"
    },
    {
     "name": "stdout",
     "output_type": "stream",
     "text": [
      "[202/404] Loss0.12931, ACC:0.78322%\n",
      "[404/404] Loss0.19881, ACC:0.78396%\n",
      "Train_Loss: 0.1632835540441003,ACC:0.784%\n",
      "\u001b[66mHAM10000 ==> testing ...\u001b[0m\n"
     ]
    },
    {
     "data": {
      "application/vnd.jupyter.widget-view+json": {
       "model_id": "34c71f1dfbe249ecb4c9d7009a3d879d",
       "version_major": 2,
       "version_minor": 0
      },
      "text/plain": [
       "  0%|          | 0/27 [00:00<?, ?it/s]"
      ]
     },
     "metadata": {},
     "output_type": "display_data"
    },
    {
     "name": "stdout",
     "output_type": "stream",
     "text": [
      "Test_Acc:\u001b[1;32m68.72%\u001b[0m\n",
      "Best_ACC[\u001b[1;32m96.498%\u001b[0m]\n",
      "Epoch: [195] HAM10000 ==> Training ...\n"
     ]
    },
    {
     "data": {
      "application/vnd.jupyter.widget-view+json": {
       "model_id": "f807b92c13504ce7ad0a9fbd354d0b29",
       "version_major": 2,
       "version_minor": 0
      },
      "text/plain": [
       "  0%|          | 0/404 [00:00<?, ?it/s]"
      ]
     },
     "metadata": {},
     "output_type": "display_data"
    },
    {
     "name": "stdout",
     "output_type": "stream",
     "text": [
      "[202/404] Loss0.16636, ACC:0.79165%\n",
      "[404/404] Loss0.14548, ACC:0.79262%\n",
      "Train_Loss: 0.1579852098469982,ACC:0.793%\n",
      "\u001b[66mHAM10000 ==> testing ...\u001b[0m\n"
     ]
    },
    {
     "data": {
      "application/vnd.jupyter.widget-view+json": {
       "model_id": "d24aa8645fcc4ae3bfc62498b9f54e96",
       "version_major": 2,
       "version_minor": 0
      },
      "text/plain": [
       "  0%|          | 0/27 [00:00<?, ?it/s]"
      ]
     },
     "metadata": {},
     "output_type": "display_data"
    },
    {
     "name": "stdout",
     "output_type": "stream",
     "text": [
      "Test_Acc:\u001b[1;32m85.024%\u001b[0m\n",
      "Best_ACC[\u001b[1;32m96.498%\u001b[0m]\n",
      "Epoch: [196] HAM10000 ==> Training ...\n"
     ]
    },
    {
     "data": {
      "application/vnd.jupyter.widget-view+json": {
       "model_id": "632929b306bb48cea108f434dd117384",
       "version_major": 2,
       "version_minor": 0
      },
      "text/plain": [
       "  0%|          | 0/404 [00:00<?, ?it/s]"
      ]
     },
     "metadata": {},
     "output_type": "display_data"
    },
    {
     "name": "stdout",
     "output_type": "stream",
     "text": [
      "[202/404] Loss0.17421, ACC:0.79196%\n",
      "[404/404] Loss0.13528, ACC:0.79370%\n",
      "Train_Loss: 0.15711533634158054,ACC:0.794%\n",
      "\u001b[66mHAM10000 ==> testing ...\u001b[0m\n"
     ]
    },
    {
     "data": {
      "application/vnd.jupyter.widget-view+json": {
       "model_id": "8c9587ffed9d4bb2ae97ee84a91d1b4e",
       "version_major": 2,
       "version_minor": 0
      },
      "text/plain": [
       "  0%|          | 0/27 [00:00<?, ?it/s]"
      ]
     },
     "metadata": {},
     "output_type": "display_data"
    },
    {
     "name": "stdout",
     "output_type": "stream",
     "text": [
      "Test_Acc:\u001b[1;32m87.077%\u001b[0m\n",
      "Best_ACC[\u001b[1;32m96.498%\u001b[0m]\n",
      "Epoch: [197] HAM10000 ==> Training ...\n"
     ]
    },
    {
     "data": {
      "application/vnd.jupyter.widget-view+json": {
       "model_id": "c95b13022645437c811c0ae613357083",
       "version_major": 2,
       "version_minor": 0
      },
      "text/plain": [
       "  0%|          | 0/404 [00:00<?, ?it/s]"
      ]
     },
     "metadata": {},
     "output_type": "display_data"
    },
    {
     "name": "stdout",
     "output_type": "stream",
     "text": [
      "[202/404] Loss0.15674, ACC:0.79073%\n",
      "[404/404] Loss0.19132, ACC:0.79133%\n",
      "Train_Loss: 0.15764097338265712,ACC:0.792%\n",
      "\u001b[66mHAM10000 ==> testing ...\u001b[0m\n"
     ]
    },
    {
     "data": {
      "application/vnd.jupyter.widget-view+json": {
       "model_id": "cd67f6effe374d269ba17b8ae929c5e5",
       "version_major": 2,
       "version_minor": 0
      },
      "text/plain": [
       "  0%|          | 0/27 [00:00<?, ?it/s]"
      ]
     },
     "metadata": {},
     "output_type": "display_data"
    },
    {
     "name": "stdout",
     "output_type": "stream",
     "text": [
      "Test_Acc:\u001b[1;32m84.662%\u001b[0m\n",
      "Best_ACC[\u001b[1;32m96.498%\u001b[0m]\n",
      "Epoch: [198] HAM10000 ==> Training ...\n"
     ]
    },
    {
     "data": {
      "application/vnd.jupyter.widget-view+json": {
       "model_id": "6f58ce41e1a6462f82c4a3545b3b8679",
       "version_major": 2,
       "version_minor": 0
      },
      "text/plain": [
       "  0%|          | 0/404 [00:00<?, ?it/s]"
      ]
     },
     "metadata": {},
     "output_type": "display_data"
    },
    {
     "name": "stdout",
     "output_type": "stream",
     "text": [
      "[202/404] Loss0.17369, ACC:0.78953%\n",
      "[404/404] Loss0.16297, ACC:0.78742%\n",
      "Train_Loss: 0.1610884369526169,ACC:0.788%\n",
      "\u001b[66mHAM10000 ==> testing ...\u001b[0m\n"
     ]
    },
    {
     "data": {
      "application/vnd.jupyter.widget-view+json": {
       "model_id": "9348833eeb754b64905ae01c0c7e2cb6",
       "version_major": 2,
       "version_minor": 0
      },
      "text/plain": [
       "  0%|          | 0/27 [00:00<?, ?it/s]"
      ]
     },
     "metadata": {},
     "output_type": "display_data"
    },
    {
     "name": "stdout",
     "output_type": "stream",
     "text": [
      "Test_Acc:\u001b[1;32m82.126%\u001b[0m\n",
      "Best_ACC[\u001b[1;32m96.498%\u001b[0m]\n",
      "Epoch: [199] HAM10000 ==> Training ...\n"
     ]
    },
    {
     "data": {
      "application/vnd.jupyter.widget-view+json": {
       "model_id": "cf289f0310fd4b288a89c20ced9edbd9",
       "version_major": 2,
       "version_minor": 0
      },
      "text/plain": [
       "  0%|          | 0/404 [00:00<?, ?it/s]"
      ]
     },
     "metadata": {},
     "output_type": "display_data"
    },
    {
     "name": "stdout",
     "output_type": "stream",
     "text": [
      "[202/404] Loss0.18269, ACC:0.78284%\n",
      "[404/404] Loss0.18437, ACC:0.78160%\n",
      "Train_Loss: 0.16565062861778948,ACC:0.782%\n",
      "\u001b[66mHAM10000 ==> testing ...\u001b[0m\n"
     ]
    },
    {
     "data": {
      "application/vnd.jupyter.widget-view+json": {
       "model_id": "82f85e074f81410fb91dbbca5f41f050",
       "version_major": 2,
       "version_minor": 0
      },
      "text/plain": [
       "  0%|          | 0/27 [00:00<?, ?it/s]"
      ]
     },
     "metadata": {},
     "output_type": "display_data"
    },
    {
     "name": "stdout",
     "output_type": "stream",
     "text": [
      "Test_Acc:\u001b[1;32m89.251%\u001b[0m\n",
      "Best_ACC[\u001b[1;32m96.498%\u001b[0m]\n",
      "Epoch: [200] HAM10000 ==> Training ...\n"
     ]
    },
    {
     "data": {
      "application/vnd.jupyter.widget-view+json": {
       "model_id": "e449b7ddc51e4a5398da16169997b55a",
       "version_major": 2,
       "version_minor": 0
      },
      "text/plain": [
       "  0%|          | 0/404 [00:00<?, ?it/s]"
      ]
     },
     "metadata": {},
     "output_type": "display_data"
    },
    {
     "name": "stdout",
     "output_type": "stream",
     "text": [
      "[202/404] Loss0.17189, ACC:0.76980%\n",
      "[404/404] Loss0.16059, ACC:0.77176%\n",
      "Train_Loss: 0.1712784629388906,ACC:0.772%\n",
      "\u001b[66mHAM10000 ==> testing ...\u001b[0m\n"
     ]
    },
    {
     "data": {
      "application/vnd.jupyter.widget-view+json": {
       "model_id": "0ac9ec6426164949b8461d24c082cdc3",
       "version_major": 2,
       "version_minor": 0
      },
      "text/plain": [
       "  0%|          | 0/27 [00:00<?, ?it/s]"
      ]
     },
     "metadata": {},
     "output_type": "display_data"
    },
    {
     "name": "stdout",
     "output_type": "stream",
     "text": [
      "Test_Acc:\u001b[1;32m81.28%\u001b[0m\n",
      "Best_ACC[\u001b[1;32m96.498%\u001b[0m]\n",
      "Finished Training\n"
     ]
    }
   ],
   "source": [
    "for epoch in range(1, num_epochs + 1):\n",
    "    train(epoch)\n",
    "    test()\n",
    "print('Finished Training')"
   ]
  },
  {
   "cell_type": "code",
   "execution_count": 17,
   "metadata": {
    "execution": {
     "iopub.execute_input": "2022-06-10T01:52:57.899274Z",
     "iopub.status.busy": "2022-06-10T01:52:57.899274Z",
     "iopub.status.idle": "2022-06-10T01:52:58.041304Z",
     "shell.execute_reply": "2022-06-10T01:52:58.041304Z",
     "shell.execute_reply.started": "2022-06-10T01:52:57.899274Z"
    },
    "tags": []
   },
   "outputs": [
    {
     "name": "stdout",
     "output_type": "stream",
     "text": [
      "\u001b[31m=================Conclusion====================\u001b[0m\n",
      "Dataset:[\u001b[1;31mHAM10000\u001b[0m]\n",
      "Best_Epoch [\u001b[1;31m126\u001b[0m]\n",
      "[Test]  \u001b[32mACC:96.5%\u001b[0m.\n"
     ]
    }
   ],
   "source": [
    "show.conclusion(img_title=img_title)"
   ]
  },
  {
   "cell_type": "code",
   "execution_count": 18,
   "metadata": {
    "execution": {
     "iopub.execute_input": "2022-06-10T01:52:58.042272Z",
     "iopub.status.busy": "2022-06-10T01:52:58.042272Z",
     "iopub.status.idle": "2022-06-10T01:52:58.264004Z",
     "shell.execute_reply": "2022-06-10T01:52:58.264004Z",
     "shell.execute_reply.started": "2022-06-10T01:52:58.042272Z"
    },
    "tags": []
   },
   "outputs": [
    {
     "data": {
      "image/png": "[encoded data removed]",
      "text/plain": [
       "<Figure size 432x288 with 1 Axes>"
      ]
     },
     "metadata": {
      "needs_background": "light"
     },
     "output_type": "display_data"
    }
   ],
   "source": [
    "plt.clf()#clear photo\n",
    "show.train(write=True,custom_path='./tmp',img_title=img_title,suf=suf)"
   ]
  },
  {
   "cell_type": "code",
   "execution_count": 19,
   "metadata": {
    "execution": {
     "iopub.execute_input": "2022-06-10T01:52:58.265866Z",
     "iopub.status.busy": "2022-06-10T01:52:58.265866Z",
     "iopub.status.idle": "2022-06-10T01:52:58.471865Z",
     "shell.execute_reply": "2022-06-10T01:52:58.471865Z",
     "shell.execute_reply.started": "2022-06-10T01:52:58.265866Z"
    },
    "tags": []
   },
   "outputs": [
    {
     "data": {
      "image/png": "[encoded data removed]",
      "text/plain": [
       "<Figure size 576x396 with 1 Axes>"
      ]
     },
     "metadata": {},
     "output_type": "display_data"
    }
   ],
   "source": [
    "show.test(write=True,custom_path='./tmp',img_title=img_title,suf=suf)"
   ]
  },
  {
   "cell_type": "code",
   "execution_count": 20,
   "metadata": {
    "execution": {
     "iopub.execute_input": "2022-06-10T01:52:58.472865Z",
     "iopub.status.busy": "2022-06-10T01:52:58.472865Z",
     "iopub.status.idle": "2022-06-10T01:53:13.485602Z",
     "shell.execute_reply": "2022-06-10T01:53:13.485602Z",
     "shell.execute_reply.started": "2022-06-10T01:52:58.472865Z"
    },
    "scrolled": true,
    "tags": []
   },
   "outputs": [
    {
     "name": "stdout",
     "output_type": "stream",
     "text": [
      "\u001b[66mHAM10000 ==> testing ...\u001b[0m\n"
     ]
    },
    {
     "data": {
      "application/vnd.jupyter.widget-view+json": {
       "model_id": "b13db3d6960941c5be5795f690f7527b",
       "version_major": 2,
       "version_minor": 0
      },
      "text/plain": [
       "  0%|          | 0/27 [00:00<?, ?it/s]"
      ]
     },
     "metadata": {},
     "output_type": "display_data"
    },
    {
     "name": "stdout",
     "output_type": "stream",
     "text": [
      "Test_Acc:\u001b[1;32m96.498%\u001b[0m\n",
      "Best_ACC[\u001b[1;32m96.498%\u001b[0m]\n",
      "\u001b[66mHAM10000 ==> testing ...\u001b[0m\n"
     ]
    },
    {
     "data": {
      "application/vnd.jupyter.widget-view+json": {
       "model_id": "133474480a9f46b585d846cc40ec5034",
       "version_major": 2,
       "version_minor": 0
      },
      "text/plain": [
       "  0%|          | 0/27 [00:00<?, ?it/s]"
      ]
     },
     "metadata": {},
     "output_type": "display_data"
    },
    {
     "name": "stdout",
     "output_type": "stream",
     "text": [
      "Test_Acc:\u001b[1;32m96.498%\u001b[0m\n",
      "Best_ACC[\u001b[1;32m96.498%\u001b[0m]\n",
      "\u001b[66mHAM10000 ==> testing ...\u001b[0m\n"
     ]
    },
    {
     "data": {
      "application/vnd.jupyter.widget-view+json": {
       "model_id": "2f040fc3575d4a32a882a8eba2686b46",
       "version_major": 2,
       "version_minor": 0
      },
      "text/plain": [
       "  0%|          | 0/27 [00:00<?, ?it/s]"
      ]
     },
     "metadata": {},
     "output_type": "display_data"
    },
    {
     "name": "stdout",
     "output_type": "stream",
     "text": [
      "Test_Acc:\u001b[1;32m96.498%\u001b[0m\n",
      "Best_ACC[\u001b[1;32m96.498%\u001b[0m]\n",
      "\u001b[66mHAM10000 ==> testing ...\u001b[0m\n"
     ]
    },
    {
     "data": {
      "application/vnd.jupyter.widget-view+json": {
       "model_id": "5333efedb7744518b2fc860e3e745475",
       "version_major": 2,
       "version_minor": 0
      },
      "text/plain": [
       "  0%|          | 0/27 [00:00<?, ?it/s]"
      ]
     },
     "metadata": {},
     "output_type": "display_data"
    },
    {
     "name": "stdout",
     "output_type": "stream",
     "text": [
      "Test_Acc:\u001b[1;32m96.498%\u001b[0m\n",
      "Best_ACC[\u001b[1;32m96.498%\u001b[0m]\n",
      "\u001b[66mHAM10000 ==> testing ...\u001b[0m\n"
     ]
    },
    {
     "data": {
      "application/vnd.jupyter.widget-view+json": {
       "model_id": "8d5ceeb0968f48a68d0a21c3b413bd54",
       "version_major": 2,
       "version_minor": 0
      },
      "text/plain": [
       "  0%|          | 0/27 [00:00<?, ?it/s]"
      ]
     },
     "metadata": {},
     "output_type": "display_data"
    },
    {
     "name": "stdout",
     "output_type": "stream",
     "text": [
      "Test_Acc:\u001b[1;32m96.498%\u001b[0m\n",
      "Best_ACC[\u001b[1;32m96.498%\u001b[0m]\n"
     ]
    }
   ],
   "source": [
    "network.load_state_dict(torch.load(save_PATH))\n",
    "for i in range(5):\n",
    "    test()"
   ]
  },
  {
   "cell_type": "code",
   "execution_count": 21,
   "metadata": {
    "execution": {
     "iopub.execute_input": "2022-06-10T01:53:13.486603Z",
     "iopub.status.busy": "2022-06-10T01:53:13.486603Z",
     "iopub.status.idle": "2022-06-10T01:53:13.548601Z",
     "shell.execute_reply": "2022-06-10T01:53:13.548601Z",
     "shell.execute_reply.started": "2022-06-10T01:53:13.486603Z"
    },
    "tags": []
   },
   "outputs": [
    {
     "name": "stdout",
     "output_type": "stream",
     "text": [
      "+--------+-----------+--------+-------+----------+\n",
      "|  Type  | Precision | Recall |   F1  | Accuracy |\n",
      "+--------+-----------+--------+-------+----------+\n",
      "| akiec  |   0.9091  |  0.87  | 0.889 |          |\n",
      "|  bcc   |   0.7742  | 0.923  | 0.842 |          |\n",
      "|  bkl   |   0.875   | 0.848  | 0.862 |          |\n",
      "|   df   |    0.6    |  0.5   | 0.545 |          |\n",
      "|  mel   |   0.8889  | 0.941  | 0.914 |          |\n",
      "|   nv   |   0.9924  | 0.988  |  0.99 |          |\n",
      "|  vasc  |    0.9    |  0.9   |  0.9  |          |\n",
      "| Total: |           |        |       |  0.965   |\n",
      "+--------+-----------+--------+-------+----------+\n"
     ]
    }
   ],
   "source": [
    "self_scores()"
   ]
  },
  {
   "cell_type": "code",
   "execution_count": 22,
   "metadata": {
    "execution": {
     "iopub.execute_input": "2022-06-10T01:53:13.549601Z",
     "iopub.status.busy": "2022-06-10T01:53:13.549601Z",
     "iopub.status.idle": "2022-06-10T01:53:13.930314Z",
     "shell.execute_reply": "2022-06-10T01:53:13.930314Z",
     "shell.execute_reply.started": "2022-06-10T01:53:13.549601Z"
    },
    "tags": []
   },
   "outputs": [
    {
     "data": {
      "image/png": "[encoded data removed]",
      "text/plain": [
       "<Figure size 576x396 with 2 Axes>"
      ]
     },
     "metadata": {},
     "output_type": "display_data"
    }
   ],
   "source": [
    "confusion_matrix(evl_result)"
   ]
  },
  {
   "cell_type": "code",
   "execution_count": 23,
   "metadata": {
    "execution": {
     "iopub.execute_input": "2022-06-10T01:53:13.931175Z",
     "iopub.status.busy": "2022-06-10T01:53:13.931175Z",
     "iopub.status.idle": "2022-06-10T01:53:13.994035Z",
     "shell.execute_reply": "2022-06-10T01:53:13.994035Z",
     "shell.execute_reply.started": "2022-06-10T01:53:13.931175Z"
    },
    "tags": []
   },
   "outputs": [],
   "source": [
    "# #save\n",
    "s1 = np.array(test_acc_list)\n",
    "np.save(f'./tmp/{img_title}/{suf}/{img_title}_test_acc_{suf}.npy', s1)\n",
    "s2 = np.array(train_loss_list)\n",
    "np.save(f'./tmp/{img_title}/{suf}/{img_title}_train_loss_{suf}.npy', s2)"
   ]
  },
  {
   "cell_type": "code",
   "execution_count": null,
   "metadata": {},
   "outputs": [],
   "source": [
    "torch.cuda.memory.empty_cache()"
   ]
  }
 ],
 "metadata": {
  "kernelspec": {
   "display_name": "torch1.8",
   "language": "python",
   "name": "woodman"
  },
  "language_info": {
   "codemirror_mode": {
    "name": "ipython",
    "version": 3
   },
   "file_extension": ".py",
   "mimetype": "text/x-python",
   "name": "python",
   "nbconvert_exporter": "python",
   "pygments_lexer": "ipython3",
   "version": "3.8.11"
  },
  "toc-autonumbering": true,
  "toc-showmarkdowntxt": true
 },
 "nbformat": 4,
 "nbformat_minor": 4
}
