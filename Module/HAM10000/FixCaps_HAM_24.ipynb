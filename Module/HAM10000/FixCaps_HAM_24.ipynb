{
 "cells": [
  {
   "cell_type": "code",
   "execution_count": null,
   "metadata": {
    "tags": []
   },
   "outputs": [],
   "source": [
    "%load_ext autoreload\n",
    "%autoreload 2"
   ]
  },
  {
   "cell_type": "code",
   "execution_count": null,
   "metadata": {
    "tags": [],
    "uuid": "5cde640c-432f-4f8a-9f00-017bf8c65e34"
   },
   "outputs": [],
   "source": [
    "import torch\n",
    "import sys, os\n",
    "import json\n",
    "import torch.nn as nn  \n",
    "import numpy as np\n",
    "import matplotlib.pyplot as plt\n",
    "import torch.nn.functional as F\n",
    "import torch.optim as optim\n",
    "\n",
    "# from torch.utils.tensorboard import SummaryWriter\n",
    "import prettytable\n",
    "import time\n",
    "sys.setrecursionlimit(15000)\n",
    "from thop.profile import profile\n",
    "\n",
    "from PIL import Image\n",
    "from torch.optim import lr_scheduler\n",
    "from torch.autograd import Variable\n",
    "from torch.utils.data import DataLoader\n",
    "from torchvision import datasets, transforms\n",
    "from torchsummary import summary\n",
    "from tqdm.notebook import tqdm\n",
    "import seaborn as sns\n",
    "\n",
    "from utils import ImageShow,draw_size_acc,one_hot\n",
    "from utils import confusion_matrix,metrics_scores,pff\n",
    "\n",
    "from model import FixCapsNet"
   ]
  },
  {
   "cell_type": "code",
   "execution_count": null,
   "metadata": {
    "tags": [],
    "uuid": "a391afe8-e37b-4ef6-ab2e-c0bdbb7849ee"
   },
   "outputs": [],
   "source": [
    "# Settings.\n",
    "sys.path.append(os.pardir)\n",
    "device = torch.device('cuda' if torch.cuda.is_available() else \"cpu\")\n",
    "img_title = \"HAM10000\"#\"COVID-19\"#\"ISIC2019\"#\"skin_lesion\"#\n",
    "best_acc = 0.\n",
    "eval_acc = 0.\n",
    "best_train = 0.\n",
    "dict_batch = {}\n",
    "dict_imgSize = {}\n",
    "# write = SummaryWriter()\n",
    "#defined \n",
    "try:\n",
    "    print(len(train_acc_list))\n",
    "except NameError:\n",
    "    train_loss_list = []\n",
    "    train_acc_list = []\n",
    "    test_loss_list = []\n",
    "    test_acc_list = []\n",
    "    test_auc_list = []\n",
    "    val_loss_list = []\n",
    "    val_acc_list = []\n",
    "#activate ImageShow\n",
    "show = ImageShow(train_loss_list = train_loss_list,\n",
    "                 train_acc_list = train_acc_list,\n",
    "                test_loss_list = test_loss_list,\n",
    "                test_acc_list = test_acc_list,\n",
    "                test_auc_list = test_auc_list,\n",
    "                val_loss_list = val_loss_list,\n",
    "                val_acc_list = val_acc_list,\n",
    "                )"
   ]
  },
  {
   "cell_type": "code",
   "execution_count": null,
   "metadata": {
    "tags": []
   },
   "outputs": [],
   "source": [
    "def get_data(trans_test='312'):\n",
    "    global test_dataset,train_loader,val_loader,test_loader\n",
    "    global train_num,val_num,test_num,n_classes,cla_dict\n",
    "    data_transform = {\n",
    "        \"train\": transforms.Compose([transforms.RandomResizedCrop((299, 299)),\n",
    "                                     transforms.RandomVerticalFlip(),\n",
    "                                     transforms.ToTensor(),\n",
    "                                     transforms.Normalize((0.5, 0.5, 0.5), (0.5, 0.5, 0.5))]),\n",
    "        \"val\": transforms.Compose([transforms.Resize((302,302)),\n",
    "                                   transforms.CenterCrop((299, 299)),\n",
    "                                   transforms.ToTensor(),\n",
    "                                   transforms.Normalize((0.5, 0.5, 0.5), (0.5, 0.5, 0.5))\n",
    "                                  ]),\n",
    "        \"test\": transforms.Compose([transforms.Resize((trans_test,trans_test)),\n",
    "                                   transforms.CenterCrop((299, 299)),\n",
    "                                   transforms.ToTensor(),\n",
    "                                   transforms.Normalize((0.5, 0.5, 0.5), (0.5, 0.5, 0.5))\n",
    "                                  ])\n",
    "        }\n",
    "\n",
    "    data_root = os.path.abspath(os.path.join(os.getcwd(),\"..\"))  # get data root path\n",
    "    image_path = os.path.join(data_root, \"datasets\",\"HAM10000\")#\n",
    "    assert os.path.exists(image_path), \"{} path does not exist.\".format(image_path)\n",
    "\n",
    "    train_dataset = datasets.ImageFolder(root=os.path.join(image_path,train_doc),#\n",
    "                                         transform=data_transform[\"train\"])\n",
    "    val_dataset = datasets.ImageFolder(root=os.path.join(image_path,val_doc),\n",
    "                                            transform=data_transform[\"val\"])\n",
    "    test_dataset = datasets.ImageFolder(root=os.path.join(image_path,test_doc),\n",
    "                                            transform=data_transform[\"test\"])\n",
    "\n",
    "    train_num = len(train_dataset)\n",
    "    val_num = len(val_dataset)\n",
    "    test_num = len(test_dataset)\n",
    "    \n",
    "    data_list = train_dataset.class_to_idx\n",
    "    cla_dict = dict((val, key) for key, val in data_list.items())\n",
    "    n_classes  = len(data_list)\n",
    "    print(f'Using {n_classes } classes.')\n",
    "    # write dict into json file\n",
    "    json_str = json.dumps(cla_dict, indent=4)\n",
    "    with open(f'{img_title}.json', 'w') as json_file:#class_indices\n",
    "        json_file.write(json_str)\n",
    "        \n",
    "    pin_memory = True\n",
    "    train_loader = DataLoader(train_dataset,batch_size=BatchSize,\n",
    "                                               pin_memory=pin_memory,\n",
    "                                               shuffle=True,num_workers=nw)\n",
    "    val_loader = DataLoader(val_dataset,batch_size=V_size,\n",
    "                                               pin_memory=pin_memory,\n",
    "                                               shuffle=False,num_workers=nw)\n",
    "    test_loader = DataLoader(test_dataset,batch_size=T_size,\n",
    "                                              pin_memory=pin_memory,\n",
    "                                              shuffle=False,num_workers=nw)\n",
    "\n",
    "    print(\"using {} images for training, {} images for validation, {} images for testing.\".format(train_num,\n",
    "                                                                                                  val_num,\n",
    "                                                                                                  test_num))"
   ]
  },
  {
   "cell_type": "code",
   "execution_count": null,
   "metadata": {
    "tags": []
   },
   "outputs": [],
   "source": [
    "BatchSize = 168#128#168\n",
    "V_size = 31 #30#64\n",
    "T_size = 31 \n",
    "train_doc = \"train525e384\"\n",
    "val_doc = \"val525png384\"\n",
    "test_doc = \"test525png384\"\n",
    "learning_rate = 0.123\n",
    "nw = min([os.cpu_count(), BatchSize if BatchSize > 1 else 0, 6]) \n",
    "print(f'Using {nw} dataloader workers every process.')\n",
    "get_data()"
   ]
  },
  {
   "cell_type": "code",
   "execution_count": null,
   "metadata": {
    "scrolled": true,
    "tags": []
   },
   "outputs": [],
   "source": [
    "# Create capsule network.\n",
    "n_channels = 3\n",
    "conv_outputs = 128 #Feature_map\n",
    "num_primary_units = 8\n",
    "primary_unit_size = 16 * 6 * 6  # fixme get from conv2d\n",
    "output_unit_size = 16\n",
    "img_size = 299\n",
    "mode='128'\n",
    "network = FixCapsNet(conv_inputs=n_channels,\n",
    "                     conv_outputs=conv_outputs,\n",
    "                     primary_units=num_primary_units,\n",
    "                     primary_unit_size=primary_unit_size,\n",
    "                     num_classes=n_classes,\n",
    "                     output_unit_size=16,\n",
    "                     init_weights=True,\n",
    "                     mode=mode)\n",
    "network = network.to(device)\n",
    "summary(network,(n_channels,img_size,img_size))"
   ]
  },
  {
   "cell_type": "code",
   "execution_count": null,
   "metadata": {
    "tags": []
   },
   "outputs": [],
   "source": [
    "dsize = (1, 3, 299, 299)\n",
    "input_data = torch.randn(dsize).to(device)\n",
    "pff(m_name=\"FixCaps\",model=network,inputes=input_data)"
   ]
  },
  {
   "cell_type": "code",
   "execution_count": null,
   "metadata": {
    "tags": []
   },
   "outputs": [],
   "source": [
    "network.Convolution"
   ]
  },
  {
   "cell_type": "code",
   "execution_count": null,
   "metadata": {
    "tags": []
   },
   "outputs": [],
   "source": [
    "# def_betas=(0.9, 0.999)\n",
    "optimizer = optim.Adam(network.parameters(), lr=learning_rate)\n",
    "scheduler = lr_scheduler.CosineAnnealingLR(optimizer, 5, eta_min=1e-8, last_epoch=-1)\n",
    "# optimizer = optim.AdamW(network.parameters(), lr=learning_rate, weight_decay=0.01)\n",
    "#base_momentum=0.85, max_momentum=0.95, div_factor=25.0, final_div_factor=10000.0,\n",
    "# scheduler = lr_scheduler.OneCycleLR(optimizer, max_lr=learning_rate,\n",
    "#                         steps_per_epoch=len(train_loader),\n",
    "#                         epochs=num_epochs)"
   ]
  },
  {
   "cell_type": "code",
   "execution_count": null,
   "metadata": {
    "tags": [],
    "uuid": "86f92f63-16e2-4ca6-b5da-d848546a391e"
   },
   "outputs": [],
   "source": [
    "def train(epoch):\n",
    "    network.train()\n",
    "    global best_train,train_evl_result#,evl_tmp_result\n",
    "    running_loss,r_pre = 0., 0.\n",
    "    print_step = len(train_loader)//2\n",
    "    steps_num = len(train_loader)\n",
    "    tmp_size = BatchSize\n",
    "    print(f'\\033[1;32m[Train Epoch:[{epoch}]{img_title} ==> Training]\\033[0m ...')\n",
    "    optimizer.zero_grad()\n",
    "    train_tmp_result = torch.zeros(n_classes,n_classes)\n",
    "    # scaler = torch.cuda.amp.GradScaler()\n",
    "    \n",
    "    for batch_idx, (data, target) in enumerate(tqdm(train_loader)):        \n",
    "\n",
    "        batch_idx += 1\n",
    "        target_indices = target\n",
    "        target_one_hot = one_hot(target, length=n_classes)\n",
    "        data, target = Variable(data).to(device), Variable(target_one_hot).to(device)\n",
    "        # data, target =data.to(device), target_one_hot.to(device)\n",
    "        # with torch.cuda.amp.autocast():\n",
    "        output = network(data)\n",
    "        loss = network.loss(output, target, size_average=True)       \n",
    "        loss.backward()\n",
    "        # scaler.scale(loss).backward()\n",
    "        # scaler.step(optimizer)\n",
    "        # scaler.update()        \n",
    "        optimizer.step()\n",
    "        optimizer.zero_grad()\n",
    "        # scheduler.step()#AdamW            \n",
    "        running_loss += loss.item()\n",
    "        \n",
    "        v_mag = torch.sqrt(torch.sum(output**2, dim=2, keepdim=True)) \n",
    "        pred = v_mag.data.max(1, keepdim=True)[1].cpu().squeeze()\n",
    "        r_pre += pred.eq(target_indices.view_as(pred)).squeeze().sum()\n",
    "        tmp_pre = r_pre/(batch_idx*BatchSize)\n",
    "        \n",
    "        if batch_idx % print_step == 0:\n",
    "            print(\"[{}/{}] Loss{:.5f},ACC:{:.5f}\".format(batch_idx,len(train_loader),\n",
    "                                                         loss,tmp_pre))\n",
    "        if batch_idx % steps_num == 0 and train_num % tmp_size != 0:\n",
    "            tmp_size = train_num % tmp_size\n",
    "                          \n",
    "        for i in range(tmp_size):\n",
    "            pred_x = pred.numpy()\n",
    "            train_tmp_result[target_indices[i]][pred_x[i]] +=1\n",
    "\n",
    "        if best_train < tmp_pre and tmp_pre >= 80: \n",
    "            torch.save(network.state_dict(), iter_path)\n",
    "        \n",
    "    epoch_acc = r_pre / train_num\n",
    "    epoch_loss = running_loss / len(train_loader)  \n",
    "    train_loss_list.append(epoch_loss)\n",
    "    train_acc_list.append(epoch_acc) \n",
    "    scheduler.step()\n",
    "    if best_train < epoch_acc:\n",
    "        best_train = epoch_acc\n",
    "        train_evl_result = train_tmp_result.clone()\n",
    "        torch.save(network.state_dict(), last_path)\n",
    "        torch.save(train_evl_result, f'./tmp/{img_title}/{suf}/train_evl_result.pth')\n",
    "    \n",
    "    print(\"Train Epoch:[{}] Loss:{:.5f},Acc:{:.5f},Best_train:{:.5f}\".format(epoch,epoch_loss,\n",
    "                                                                     epoch_acc,best_train))"
   ]
  },
  {
   "cell_type": "code",
   "execution_count": null,
   "metadata": {
    "tags": [],
    "uuid": "f010e769-677f-416b-8ce8-9f4186dce054"
   },
   "outputs": [],
   "source": [
    "def test(split=\"test\"):\n",
    "    network.eval()\n",
    "    global test_acc,eval_acc,best_acc,net_parameters\n",
    "    global test_evl_result,val_evl_result#,evl_tmp_result\n",
    "    cor_loss,correct,Auc, Acc= 0, 0, 0, 0\n",
    "    evl_tmp_result = torch.zeros(n_classes,n_classes)\n",
    "    \n",
    "    if split == 'val':\n",
    "        data_loader = val_loader\n",
    "        tmp_size = V_size\n",
    "        data_num = val_num\n",
    "    else:\n",
    "        data_loader = test_loader\n",
    "        tmp_size = T_size\n",
    "        data_num = test_num\n",
    "        \n",
    "    steps_num = len(data_loader)\n",
    "    print(f'\\033[35m{img_title} ==> {split} ...\\033[0m')\n",
    "    \n",
    "    with torch.no_grad():\n",
    "        for batch_idx, (data, target) in enumerate(tqdm(data_loader)):\n",
    "            batch_idx +=1\n",
    "            target_indices = target#torch.Size([batch, 7])  \n",
    "            target_one_hot = one_hot(target, length=n_classes)            \n",
    "            data, target = Variable(data).to(device), Variable(target_one_hot).to(device)\n",
    "\n",
    "            output= network(data)#torch.Size([batch_size, 7, 16, 1])         \n",
    "            v_mag = torch.sqrt(torch.sum(output**2, dim=2, keepdim=True))\n",
    "            pred = v_mag.data.max(1, keepdim=True)[1].cpu()#[9, 2, 1, 1, 6,..., 1, 4, 6, 5, 7,]\n",
    "            \n",
    "            if batch_idx % steps_num == 0 and data_num % tmp_size != 0:\n",
    "                tmp_size = data_num % tmp_size\n",
    "                          \n",
    "            for i in range(tmp_size):\n",
    "                pred_y = pred.numpy()\n",
    "                evl_tmp_result[target_indices[i]][pred_y[i]] +=1 \n",
    "\n",
    "        diag_sum = torch.sum(evl_tmp_result.diagonal())\n",
    "        all_sum = torch.sum(evl_tmp_result) \n",
    "        test_acc = 100. * float(torch.div(diag_sum,all_sum)) \n",
    "        print(f\"{split}_Acc:\\033[1;32m{round(float(test_acc),3)}%\\033[0m\")\n",
    "\n",
    "        if split == 'val':\n",
    "            val_acc_list.append(test_acc)\n",
    "            if test_acc >= best_acc:\n",
    "                best_acc = test_acc\n",
    "                val_evl_result = evl_tmp_result.clone()#copy.deepcopy(input)\n",
    "                torch.save(network.state_dict(), save_PATH)\n",
    "                torch.save(val_evl_result, f'./tmp/{img_title}/{suf}/best_evl_result.pth')\n",
    "            print(f\"Best_val:\\033[1;32m[{round(float(best_acc),3)}%]\\033[0m\")\n",
    "        else:\n",
    "            test_acc_list.append(test_acc)\n",
    "            if test_acc >= eval_acc:\n",
    "                eval_acc = test_acc\n",
    "                test_evl_result = evl_tmp_result.clone()#copy.deepcopy(input)\n",
    "                torch.save(network.state_dict(), f'./tmp/{img_title}/{suf}/{split}_best_{img_title}_{suf}.pth')\n",
    "                torch.save(test_evl_result, f'./tmp/{img_title}/{suf}/{split}_evl_result.pth')\n",
    "            print(f\"Best_eval:\\033[1;32m[{round(float(eval_acc),3)}%]\\033[0m\")\n",
    "    "
   ]
  },
  {
   "cell_type": "code",
   "execution_count": null,
   "metadata": {
    "tags": []
   },
   "outputs": [],
   "source": [
    "#create store\n",
    "try:\n",
    "    print(f\"suf:{suf}\")\n",
    "except NameError:\n",
    "    suf = time.strftime(\"%m%d_%H%M%S\", time.localtime())\n",
    "    print(f\"suf:{suf}\")   \n",
    "if os.path.exists(f'./tmp/{img_title}/{suf}'):\n",
    "    print (f'Store: \"./tmp/{img_title}/{suf}\"')\n",
    "else:\n",
    "    !mkdir -p ./tmp/{img_title}/{suf} \n",
    "iter_path = f'./tmp/{img_title}/{suf}/train_{img_title}_{suf}.pth'\n",
    "save_PATH = f'./tmp/{img_title}/{suf}/best_{img_title}_{suf}.pth'\n",
    "last_path = f'./tmp/{img_title}/{suf}/last_{img_title}_{suf}.pth'\n",
    "print(save_PATH)"
   ]
  },
  {
   "cell_type": "code",
   "execution_count": null,
   "metadata": {
    "scrolled": true,
    "tags": [],
    "uuid": "edaf3774-de76-44a5-aabd-fb52532ea36e"
   },
   "outputs": [],
   "source": [
    "num_epochs = 150"
   ]
  },
  {
   "cell_type": "code",
   "execution_count": null,
   "metadata": {
    "scrolled": true,
    "tags": [],
    "uuid": "edaf3774-de76-44a5-aabd-fb52532ea36e"
   },
   "outputs": [],
   "source": [
    "for epoch in range(1, num_epochs + 1): \n",
    "    train(epoch)\n",
    "    test('val')\n",
    "    \n",
    "print('Finished Training')"
   ]
  },
  {
   "cell_type": "code",
   "execution_count": null,
   "metadata": {
    "tags": []
   },
   "outputs": [],
   "source": [
    "show.conclusion(opt='val',img_title=img_title)"
   ]
  },
  {
   "cell_type": "code",
   "execution_count": null,
   "metadata": {
    "scrolled": true,
    "tags": []
   },
   "outputs": [],
   "source": [
    "network.load_state_dict(torch.load(save_PATH))\n",
    "\n",
    "for k in range(21,32):\n",
    "    T_size = k\n",
    "    print(f\"T_size:{k}\")\n",
    "    for i in range(300,325):\n",
    "        get_data(i)\n",
    "        print(f\"size:{i}\")\n",
    "        for j in range(5):\n",
    "            test()\n",
    "            if dict_imgSize.get(i) is None or dict_imgSize[i] < test_acc:\n",
    "                dict_imgSize[i] = test_acc\n",
    "\n",
    "                if dict_batch.get(k) is None or dict_batch[k] < test_acc:\n",
    "                    dict_batch[k] = test_acc\n",
    "                    \n",
    "            elif dict_batch.get(k) is None or dict_batch[k] < test_acc:\n",
    "                    dict_batch[k] = test_acc                 "
   ]
  },
  {
   "cell_type": "code",
   "execution_count": 44,
   "metadata": {
    "execution": {
     "iopub.execute_input": "2022-07-01T00:48:26.172908Z",
     "iopub.status.busy": "2022-07-01T00:48:26.172420Z",
     "iopub.status.idle": "2022-07-01T00:48:26.191855Z",
     "shell.execute_reply": "2022-07-01T00:48:26.191623Z",
     "shell.execute_reply.started": "2022-07-01T00:48:26.172849Z"
    },
    "tags": []
   },
   "outputs": [
    {
     "name": "stdout",
     "output_type": "stream",
     "text": [
      "\u001b[31m=================Conclusion====================\u001b[0m\n",
      "Dataset:[\u001b[1;31mHAM10000\u001b[0m]\n",
      "Best_Epoch [\u001b[1;31m1887\u001b[0m]\n",
      "[Test] \u001b[31mACC:96.01%\u001b[0m.\n"
     ]
    },
    {
     "data": {
      "text/plain": [
       "[(315, 95.89372277259827),\n",
       " (317, 95.89372277259827),\n",
       " (314, 95.77294588088989),\n",
       " (316, 95.77294588088989),\n",
       " (319, 95.77294588088989),\n",
       " (320, 95.77294588088989),\n",
       " (321, 95.77294588088989),\n",
       " (324, 95.77294588088989),\n",
       " (313, 95.652174949646),\n",
       " (318, 95.652174949646),\n",
       " (323, 95.652174949646),\n",
       " (310, 95.53139805793762),\n",
       " (311, 95.53139805793762),\n",
       " (322, 95.53139805793762),\n",
       " (312, 95.41062712669373)]"
      ]
     },
     "execution_count": 44,
     "metadata": {},
     "output_type": "execute_result"
    }
   ],
   "source": [
    "show.conclusion(img_title=img_title) \n",
    "sorted(dict_imgSize.items(), key=lambda x: x[1] ,reverse=True)[0:15]"
   ]
  },
  {
   "cell_type": "code",
   "execution_count": 45,
   "metadata": {
    "execution": {
     "iopub.execute_input": "2022-07-01T00:48:26.783152Z",
     "iopub.status.busy": "2022-07-01T00:48:26.782652Z",
     "iopub.status.idle": "2022-07-01T00:48:26.800631Z",
     "shell.execute_reply": "2022-07-01T00:48:26.800279Z",
     "shell.execute_reply.started": "2022-07-01T00:48:26.783094Z"
    },
    "tags": []
   },
   "outputs": [
    {
     "data": {
      "text/plain": [
       "[(24, 95.89372277259827),\n",
       " (22, 95.77294588088989),\n",
       " (25, 95.04830837249756),\n",
       " (21, 94.68598961830139),\n",
       " (23, 94.68598961830139),\n",
       " (30, 94.20289993286133),\n",
       " (26, 94.08212304115295),\n",
       " (28, 94.08212304115295),\n",
       " (31, 93.96135210990906)]"
      ]
     },
     "execution_count": 45,
     "metadata": {},
     "output_type": "execute_result"
    }
   ],
   "source": [
    "sorted(dict_batch.items(), key=lambda x: x[1], reverse=True)[0:9]"
   ]
  },
  {
   "cell_type": "code",
   "execution_count": null,
   "metadata": {
    "tags": []
   },
   "outputs": [],
   "source": [
    "draw_size_acc(dict_imgSize,custom_path='./tmp',img_title=img_title,suf=suf)"
   ]
  },
  {
   "cell_type": "code",
   "execution_count": null,
   "metadata": {
    "tags": []
   },
   "outputs": [],
   "source": [
    "metrics_scores(test_evl_result,n_classes,cla_dict)"
   ]
  },
  {
   "cell_type": "code",
   "execution_count": null,
   "metadata": {
    "tags": []
   },
   "outputs": [],
   "source": [
    "# #save\n",
    "s0 = np.array(train_acc_list)\n",
    "np.save(f'./tmp/{img_title}/{suf}/{img_title}_train_acc_{suf}.npy', s0)\n",
    "s1 = np.array(train_loss_list)\n",
    "np.save(f'./tmp/{img_title}/{suf}/{img_title}_train_loss_{suf}.npy', s1)\n",
    "s2 = np.array(test_acc_list)\n",
    "np.save(f'./tmp/{img_title}/{suf}/{img_title}_test_acc_{suf}.npy', s2)\n",
    "s3 = np.array(val_acc_list)\n",
    "np.save(f'./tmp/{img_title}/{suf}/{img_title}_val_acc_{suf}.npy', s2)\n",
    "s4 = np.array(dict_batch)\n",
    "np.save(f'./tmp/{img_title}/{suf}/{img_title}_dict_batch_{suf}.npy', s2)"
   ]
  },
  {
   "cell_type": "code",
   "execution_count": null,
   "metadata": {
    "tags": []
   },
   "outputs": [],
   "source": [
    "torch.cuda.memory.empty_cache()\n",
    "time.sleep(300)"
   ]
  },
  {
   "cell_type": "code",
   "execution_count": 51,
   "metadata": {
    "execution": {
     "iopub.execute_input": "2022-07-01T01:13:10.658758Z",
     "iopub.status.busy": "2022-07-01T01:13:10.658273Z",
     "iopub.status.idle": "2022-07-01T01:20:21.082269Z",
     "shell.execute_reply": "2022-07-01T01:20:21.081989Z",
     "shell.execute_reply.started": "2022-07-01T01:13:10.658700Z"
    },
    "scrolled": true,
    "tags": []
   },
   "outputs": [
    {
     "name": "stdout",
     "output_type": "stream",
     "text": [
      "Using 7 classes.\n",
      "using 51646 images for training, 1006 images for validation, 828 images for testing.\n",
      "size:310\n",
      "\u001b[35mHAM10000 ==> test ...\u001b[0m\n"
     ]
    },
    {
     "data": {
      "application/vnd.jupyter.widget-view+json": {
       "model_id": "e59bd5e89fb443389e8ba168d34fbc5a",
       "version_major": 2,
       "version_minor": 0
      },
      "text/plain": [
       "  0%|          | 0/35 [00:00<?, ?it/s]"
      ]
     },
     "metadata": {},
     "output_type": "display_data"
    },
    {
     "name": "stdout",
     "output_type": "stream",
     "text": [
      "test_Acc:\u001b[1;32m95.048%\u001b[0m\n",
      "Best_eval:\u001b[1;32m[96.014%]\u001b[0m\n",
      "\u001b[35mHAM10000 ==> test ...\u001b[0m\n"
     ]
    },
    {
     "data": {
      "application/vnd.jupyter.widget-view+json": {
       "model_id": "b4aa2c973ae64dc98b7bcef98c6f755f",
       "version_major": 2,
       "version_minor": 0
      },
      "text/plain": [
       "  0%|          | 0/35 [00:00<?, ?it/s]"
      ]
     },
     "metadata": {},
     "output_type": "display_data"
    },
    {
     "name": "stdout",
     "output_type": "stream",
     "text": [
      "test_Acc:\u001b[1;32m95.531%\u001b[0m\n",
      "Best_eval:\u001b[1;32m[96.014%]\u001b[0m\n",
      "\u001b[35mHAM10000 ==> test ...\u001b[0m\n"
     ]
    },
    {
     "data": {
      "application/vnd.jupyter.widget-view+json": {
       "model_id": "7f78b2c960bd46589bced895caf06090",
       "version_major": 2,
       "version_minor": 0
      },
      "text/plain": [
       "  0%|          | 0/35 [00:00<?, ?it/s]"
      ]
     },
     "metadata": {},
     "output_type": "display_data"
    },
    {
     "name": "stdout",
     "output_type": "stream",
     "text": [
      "test_Acc:\u001b[1;32m95.29%\u001b[0m\n",
      "Best_eval:\u001b[1;32m[96.014%]\u001b[0m\n",
      "\u001b[35mHAM10000 ==> test ...\u001b[0m\n"
     ]
    },
    {
     "data": {
      "application/vnd.jupyter.widget-view+json": {
       "model_id": "b619c7713f6a47479c495781636e8907",
       "version_major": 2,
       "version_minor": 0
      },
      "text/plain": [
       "  0%|          | 0/35 [00:00<?, ?it/s]"
      ]
     },
     "metadata": {},
     "output_type": "display_data"
    },
    {
     "name": "stdout",
     "output_type": "stream",
     "text": [
      "test_Acc:\u001b[1;32m95.531%\u001b[0m\n",
      "Best_eval:\u001b[1;32m[96.014%]\u001b[0m\n",
      "\u001b[35mHAM10000 ==> test ...\u001b[0m\n"
     ]
    },
    {
     "data": {
      "application/vnd.jupyter.widget-view+json": {
       "model_id": "e99ce6af2c7a485aaba9f17c7330ef04",
       "version_major": 2,
       "version_minor": 0
      },
      "text/plain": [
       "  0%|          | 0/35 [00:00<?, ?it/s]"
      ]
     },
     "metadata": {},
     "output_type": "display_data"
    },
    {
     "name": "stdout",
     "output_type": "stream",
     "text": [
      "test_Acc:\u001b[1;32m95.169%\u001b[0m\n",
      "Best_eval:\u001b[1;32m[96.014%]\u001b[0m\n",
      "\u001b[35mHAM10000 ==> test ...\u001b[0m\n"
     ]
    },
    {
     "data": {
      "application/vnd.jupyter.widget-view+json": {
       "model_id": "ee25b2e8808b49ecb7d8f5ae440eb234",
       "version_major": 2,
       "version_minor": 0
      },
      "text/plain": [
       "  0%|          | 0/35 [00:00<?, ?it/s]"
      ]
     },
     "metadata": {},
     "output_type": "display_data"
    },
    {
     "name": "stdout",
     "output_type": "stream",
     "text": [
      "test_Acc:\u001b[1;32m95.169%\u001b[0m\n",
      "Best_eval:\u001b[1;32m[96.014%]\u001b[0m\n",
      "\u001b[35mHAM10000 ==> test ...\u001b[0m\n"
     ]
    },
    {
     "data": {
      "application/vnd.jupyter.widget-view+json": {
       "model_id": "8312f91ff66742d091ff93fae4991ebb",
       "version_major": 2,
       "version_minor": 0
      },
      "text/plain": [
       "  0%|          | 0/35 [00:00<?, ?it/s]"
      ]
     },
     "metadata": {},
     "output_type": "display_data"
    },
    {
     "name": "stdout",
     "output_type": "stream",
     "text": [
      "test_Acc:\u001b[1;32m95.169%\u001b[0m\n",
      "Best_eval:\u001b[1;32m[96.014%]\u001b[0m\n",
      "\u001b[35mHAM10000 ==> test ...\u001b[0m\n"
     ]
    },
    {
     "data": {
      "application/vnd.jupyter.widget-view+json": {
       "model_id": "e45410aa13e740c89ebc7d23a67838e5",
       "version_major": 2,
       "version_minor": 0
      },
      "text/plain": [
       "  0%|          | 0/35 [00:00<?, ?it/s]"
      ]
     },
     "metadata": {},
     "output_type": "display_data"
    },
    {
     "name": "stdout",
     "output_type": "stream",
     "text": [
      "test_Acc:\u001b[1;32m95.411%\u001b[0m\n",
      "Best_eval:\u001b[1;32m[96.014%]\u001b[0m\n",
      "\u001b[35mHAM10000 ==> test ...\u001b[0m\n"
     ]
    },
    {
     "data": {
      "application/vnd.jupyter.widget-view+json": {
       "model_id": "bfb93ab76bd843d98855bc92d9233cfa",
       "version_major": 2,
       "version_minor": 0
      },
      "text/plain": [
       "  0%|          | 0/35 [00:00<?, ?it/s]"
      ]
     },
     "metadata": {},
     "output_type": "display_data"
    },
    {
     "name": "stdout",
     "output_type": "stream",
     "text": [
      "test_Acc:\u001b[1;32m95.169%\u001b[0m\n",
      "Best_eval:\u001b[1;32m[96.014%]\u001b[0m\n",
      "Using 7 classes.\n",
      "using 51646 images for training, 1006 images for validation, 828 images for testing.\n",
      "size:311\n",
      "\u001b[35mHAM10000 ==> test ...\u001b[0m\n"
     ]
    },
    {
     "data": {
      "application/vnd.jupyter.widget-view+json": {
       "model_id": "1f4949832a434aa18d8ca42365a01fd7",
       "version_major": 2,
       "version_minor": 0
      },
      "text/plain": [
       "  0%|          | 0/35 [00:00<?, ?it/s]"
      ]
     },
     "metadata": {},
     "output_type": "display_data"
    },
    {
     "name": "stdout",
     "output_type": "stream",
     "text": [
      "test_Acc:\u001b[1;32m95.048%\u001b[0m\n",
      "Best_eval:\u001b[1;32m[96.014%]\u001b[0m\n",
      "\u001b[35mHAM10000 ==> test ...\u001b[0m\n"
     ]
    },
    {
     "data": {
      "application/vnd.jupyter.widget-view+json": {
       "model_id": "57e12147573f4b28a0fbd8cbfe8585a2",
       "version_major": 2,
       "version_minor": 0
      },
      "text/plain": [
       "  0%|          | 0/35 [00:00<?, ?it/s]"
      ]
     },
     "metadata": {},
     "output_type": "display_data"
    },
    {
     "name": "stdout",
     "output_type": "stream",
     "text": [
      "test_Acc:\u001b[1;32m95.29%\u001b[0m\n",
      "Best_eval:\u001b[1;32m[96.014%]\u001b[0m\n",
      "\u001b[35mHAM10000 ==> test ...\u001b[0m\n"
     ]
    },
    {
     "data": {
      "application/vnd.jupyter.widget-view+json": {
       "model_id": "3c4cbaf522b748a496e2ce163390268c",
       "version_major": 2,
       "version_minor": 0
      },
      "text/plain": [
       "  0%|          | 0/35 [00:00<?, ?it/s]"
      ]
     },
     "metadata": {},
     "output_type": "display_data"
    },
    {
     "name": "stdout",
     "output_type": "stream",
     "text": [
      "test_Acc:\u001b[1;32m95.169%\u001b[0m\n",
      "Best_eval:\u001b[1;32m[96.014%]\u001b[0m\n",
      "\u001b[35mHAM10000 ==> test ...\u001b[0m\n"
     ]
    },
    {
     "data": {
      "application/vnd.jupyter.widget-view+json": {
       "model_id": "65931757c3d54508bc1d1c9394dff926",
       "version_major": 2,
       "version_minor": 0
      },
      "text/plain": [
       "  0%|          | 0/35 [00:00<?, ?it/s]"
      ]
     },
     "metadata": {},
     "output_type": "display_data"
    },
    {
     "name": "stdout",
     "output_type": "stream",
     "text": [
      "test_Acc:\u001b[1;32m95.531%\u001b[0m\n",
      "Best_eval:\u001b[1;32m[96.014%]\u001b[0m\n",
      "\u001b[35mHAM10000 ==> test ...\u001b[0m\n"
     ]
    },
    {
     "data": {
      "application/vnd.jupyter.widget-view+json": {
       "model_id": "020a58cc18b34cada697f743231246a1",
       "version_major": 2,
       "version_minor": 0
      },
      "text/plain": [
       "  0%|          | 0/35 [00:00<?, ?it/s]"
      ]
     },
     "metadata": {},
     "output_type": "display_data"
    },
    {
     "name": "stdout",
     "output_type": "stream",
     "text": [
      "test_Acc:\u001b[1;32m95.048%\u001b[0m\n",
      "Best_eval:\u001b[1;32m[96.014%]\u001b[0m\n",
      "\u001b[35mHAM10000 ==> test ...\u001b[0m\n"
     ]
    },
    {
     "data": {
      "application/vnd.jupyter.widget-view+json": {
       "model_id": "8e0973beaec04e51aad50976015f8e77",
       "version_major": 2,
       "version_minor": 0
      },
      "text/plain": [
       "  0%|          | 0/35 [00:00<?, ?it/s]"
      ]
     },
     "metadata": {},
     "output_type": "display_data"
    },
    {
     "name": "stdout",
     "output_type": "stream",
     "text": [
      "test_Acc:\u001b[1;32m95.048%\u001b[0m\n",
      "Best_eval:\u001b[1;32m[96.014%]\u001b[0m\n",
      "\u001b[35mHAM10000 ==> test ...\u001b[0m\n"
     ]
    },
    {
     "data": {
      "application/vnd.jupyter.widget-view+json": {
       "model_id": "b0ec86a9909b428d9fb1936e3ee0dea8",
       "version_major": 2,
       "version_minor": 0
      },
      "text/plain": [
       "  0%|          | 0/35 [00:00<?, ?it/s]"
      ]
     },
     "metadata": {},
     "output_type": "display_data"
    },
    {
     "name": "stdout",
     "output_type": "stream",
     "text": [
      "test_Acc:\u001b[1;32m95.531%\u001b[0m\n",
      "Best_eval:\u001b[1;32m[96.014%]\u001b[0m\n",
      "\u001b[35mHAM10000 ==> test ...\u001b[0m\n"
     ]
    },
    {
     "data": {
      "application/vnd.jupyter.widget-view+json": {
       "model_id": "42864287cc43426195eaa113bd674fde",
       "version_major": 2,
       "version_minor": 0
      },
      "text/plain": [
       "  0%|          | 0/35 [00:00<?, ?it/s]"
      ]
     },
     "metadata": {},
     "output_type": "display_data"
    },
    {
     "name": "stdout",
     "output_type": "stream",
     "text": [
      "test_Acc:\u001b[1;32m95.169%\u001b[0m\n",
      "Best_eval:\u001b[1;32m[96.014%]\u001b[0m\n",
      "\u001b[35mHAM10000 ==> test ...\u001b[0m\n"
     ]
    },
    {
     "data": {
      "application/vnd.jupyter.widget-view+json": {
       "model_id": "fcbbb42aa20847a2a45db3be24ffa93d",
       "version_major": 2,
       "version_minor": 0
      },
      "text/plain": [
       "  0%|          | 0/35 [00:00<?, ?it/s]"
      ]
     },
     "metadata": {},
     "output_type": "display_data"
    },
    {
     "name": "stdout",
     "output_type": "stream",
     "text": [
      "test_Acc:\u001b[1;32m95.169%\u001b[0m\n",
      "Best_eval:\u001b[1;32m[96.014%]\u001b[0m\n",
      "Using 7 classes.\n",
      "using 51646 images for training, 1006 images for validation, 828 images for testing.\n",
      "size:312\n",
      "\u001b[35mHAM10000 ==> test ...\u001b[0m\n"
     ]
    },
    {
     "data": {
      "application/vnd.jupyter.widget-view+json": {
       "model_id": "8cf1df4aa2ae4ddd85b457146be2c70e",
       "version_major": 2,
       "version_minor": 0
      },
      "text/plain": [
       "  0%|          | 0/35 [00:00<?, ?it/s]"
      ]
     },
     "metadata": {},
     "output_type": "display_data"
    },
    {
     "name": "stdout",
     "output_type": "stream",
     "text": [
      "test_Acc:\u001b[1;32m95.29%\u001b[0m\n",
      "Best_eval:\u001b[1;32m[96.014%]\u001b[0m\n",
      "\u001b[35mHAM10000 ==> test ...\u001b[0m\n"
     ]
    },
    {
     "data": {
      "application/vnd.jupyter.widget-view+json": {
       "model_id": "16ac62d3e42249da95cb4392f4aabae2",
       "version_major": 2,
       "version_minor": 0
      },
      "text/plain": [
       "  0%|          | 0/35 [00:00<?, ?it/s]"
      ]
     },
     "metadata": {},
     "output_type": "display_data"
    },
    {
     "name": "stdout",
     "output_type": "stream",
     "text": [
      "test_Acc:\u001b[1;32m95.048%\u001b[0m\n",
      "Best_eval:\u001b[1;32m[96.014%]\u001b[0m\n",
      "\u001b[35mHAM10000 ==> test ...\u001b[0m\n"
     ]
    },
    {
     "data": {
      "application/vnd.jupyter.widget-view+json": {
       "model_id": "2845d75c69764d9787b26f2718fa6e85",
       "version_major": 2,
       "version_minor": 0
      },
      "text/plain": [
       "  0%|          | 0/35 [00:00<?, ?it/s]"
      ]
     },
     "metadata": {},
     "output_type": "display_data"
    },
    {
     "name": "stdout",
     "output_type": "stream",
     "text": [
      "test_Acc:\u001b[1;32m95.411%\u001b[0m\n",
      "Best_eval:\u001b[1;32m[96.014%]\u001b[0m\n",
      "\u001b[35mHAM10000 ==> test ...\u001b[0m\n"
     ]
    },
    {
     "data": {
      "application/vnd.jupyter.widget-view+json": {
       "model_id": "1d64648a01644dfcb3ce1eccae6ca7a7",
       "version_major": 2,
       "version_minor": 0
      },
      "text/plain": [
       "  0%|          | 0/35 [00:00<?, ?it/s]"
      ]
     },
     "metadata": {},
     "output_type": "display_data"
    },
    {
     "name": "stdout",
     "output_type": "stream",
     "text": [
      "test_Acc:\u001b[1;32m95.411%\u001b[0m\n",
      "Best_eval:\u001b[1;32m[96.014%]\u001b[0m\n",
      "\u001b[35mHAM10000 ==> test ...\u001b[0m\n"
     ]
    },
    {
     "data": {
      "application/vnd.jupyter.widget-view+json": {
       "model_id": "e1549eea1e1541e681f25bb21c50e9e1",
       "version_major": 2,
       "version_minor": 0
      },
      "text/plain": [
       "  0%|          | 0/35 [00:00<?, ?it/s]"
      ]
     },
     "metadata": {},
     "output_type": "display_data"
    },
    {
     "name": "stdout",
     "output_type": "stream",
     "text": [
      "test_Acc:\u001b[1;32m95.411%\u001b[0m\n",
      "Best_eval:\u001b[1;32m[96.014%]\u001b[0m\n",
      "\u001b[35mHAM10000 ==> test ...\u001b[0m\n"
     ]
    },
    {
     "data": {
      "application/vnd.jupyter.widget-view+json": {
       "model_id": "7f2db25c9f504f1a84dc65dabfe52379",
       "version_major": 2,
       "version_minor": 0
      },
      "text/plain": [
       "  0%|          | 0/35 [00:00<?, ?it/s]"
      ]
     },
     "metadata": {},
     "output_type": "display_data"
    },
    {
     "name": "stdout",
     "output_type": "stream",
     "text": [
      "test_Acc:\u001b[1;32m95.411%\u001b[0m\n",
      "Best_eval:\u001b[1;32m[96.014%]\u001b[0m\n",
      "\u001b[35mHAM10000 ==> test ...\u001b[0m\n"
     ]
    },
    {
     "data": {
      "application/vnd.jupyter.widget-view+json": {
       "model_id": "fa5a49a1e93a4e96931a6c04960a761b",
       "version_major": 2,
       "version_minor": 0
      },
      "text/plain": [
       "  0%|          | 0/35 [00:00<?, ?it/s]"
      ]
     },
     "metadata": {},
     "output_type": "display_data"
    },
    {
     "name": "stdout",
     "output_type": "stream",
     "text": [
      "test_Acc:\u001b[1;32m95.169%\u001b[0m\n",
      "Best_eval:\u001b[1;32m[96.014%]\u001b[0m\n",
      "\u001b[35mHAM10000 ==> test ...\u001b[0m\n"
     ]
    },
    {
     "data": {
      "application/vnd.jupyter.widget-view+json": {
       "model_id": "4c2d08220617410dbd198f216f252656",
       "version_major": 2,
       "version_minor": 0
      },
      "text/plain": [
       "  0%|          | 0/35 [00:00<?, ?it/s]"
      ]
     },
     "metadata": {},
     "output_type": "display_data"
    },
    {
     "name": "stdout",
     "output_type": "stream",
     "text": [
      "test_Acc:\u001b[1;32m95.411%\u001b[0m\n",
      "Best_eval:\u001b[1;32m[96.014%]\u001b[0m\n",
      "\u001b[35mHAM10000 ==> test ...\u001b[0m\n"
     ]
    },
    {
     "data": {
      "application/vnd.jupyter.widget-view+json": {
       "model_id": "ff391494c1a34f379f34d62fa3871b90",
       "version_major": 2,
       "version_minor": 0
      },
      "text/plain": [
       "  0%|          | 0/35 [00:00<?, ?it/s]"
      ]
     },
     "metadata": {},
     "output_type": "display_data"
    },
    {
     "name": "stdout",
     "output_type": "stream",
     "text": [
      "test_Acc:\u001b[1;32m95.531%\u001b[0m\n",
      "Best_eval:\u001b[1;32m[96.014%]\u001b[0m\n",
      "Using 7 classes.\n",
      "using 51646 images for training, 1006 images for validation, 828 images for testing.\n",
      "size:313\n",
      "\u001b[35mHAM10000 ==> test ...\u001b[0m\n"
     ]
    },
    {
     "data": {
      "application/vnd.jupyter.widget-view+json": {
       "model_id": "5dea77875dad40358012f7894d61fa44",
       "version_major": 2,
       "version_minor": 0
      },
      "text/plain": [
       "  0%|          | 0/35 [00:00<?, ?it/s]"
      ]
     },
     "metadata": {},
     "output_type": "display_data"
    },
    {
     "name": "stdout",
     "output_type": "stream",
     "text": [
      "test_Acc:\u001b[1;32m95.29%\u001b[0m\n",
      "Best_eval:\u001b[1;32m[96.014%]\u001b[0m\n",
      "\u001b[35mHAM10000 ==> test ...\u001b[0m\n"
     ]
    },
    {
     "data": {
      "application/vnd.jupyter.widget-view+json": {
       "model_id": "2125ed09fd494578bd0b3d04fc6ed785",
       "version_major": 2,
       "version_minor": 0
      },
      "text/plain": [
       "  0%|          | 0/35 [00:00<?, ?it/s]"
      ]
     },
     "metadata": {},
     "output_type": "display_data"
    },
    {
     "name": "stdout",
     "output_type": "stream",
     "text": [
      "test_Acc:\u001b[1;32m95.531%\u001b[0m\n",
      "Best_eval:\u001b[1;32m[96.014%]\u001b[0m\n",
      "\u001b[35mHAM10000 ==> test ...\u001b[0m\n"
     ]
    },
    {
     "data": {
      "application/vnd.jupyter.widget-view+json": {
       "model_id": "6c9b89cb45a64558b82f05e9b9ce2e99",
       "version_major": 2,
       "version_minor": 0
      },
      "text/plain": [
       "  0%|          | 0/35 [00:00<?, ?it/s]"
      ]
     },
     "metadata": {},
     "output_type": "display_data"
    },
    {
     "name": "stdout",
     "output_type": "stream",
     "text": [
      "test_Acc:\u001b[1;32m94.928%\u001b[0m\n",
      "Best_eval:\u001b[1;32m[96.014%]\u001b[0m\n",
      "\u001b[35mHAM10000 ==> test ...\u001b[0m\n"
     ]
    },
    {
     "data": {
      "application/vnd.jupyter.widget-view+json": {
       "model_id": "7dcc45aae31445f787d203dcb0f956e3",
       "version_major": 2,
       "version_minor": 0
      },
      "text/plain": [
       "  0%|          | 0/35 [00:00<?, ?it/s]"
      ]
     },
     "metadata": {},
     "output_type": "display_data"
    },
    {
     "name": "stdout",
     "output_type": "stream",
     "text": [
      "test_Acc:\u001b[1;32m95.048%\u001b[0m\n",
      "Best_eval:\u001b[1;32m[96.014%]\u001b[0m\n",
      "\u001b[35mHAM10000 ==> test ...\u001b[0m\n"
     ]
    },
    {
     "data": {
      "application/vnd.jupyter.widget-view+json": {
       "model_id": "43a01a15a8f142648ca89ce35c7b5a69",
       "version_major": 2,
       "version_minor": 0
      },
      "text/plain": [
       "  0%|          | 0/35 [00:00<?, ?it/s]"
      ]
     },
     "metadata": {},
     "output_type": "display_data"
    },
    {
     "name": "stdout",
     "output_type": "stream",
     "text": [
      "test_Acc:\u001b[1;32m95.531%\u001b[0m\n",
      "Best_eval:\u001b[1;32m[96.014%]\u001b[0m\n",
      "\u001b[35mHAM10000 ==> test ...\u001b[0m\n"
     ]
    },
    {
     "data": {
      "application/vnd.jupyter.widget-view+json": {
       "model_id": "7fec34e3f45b49b7a0e39a8845027c69",
       "version_major": 2,
       "version_minor": 0
      },
      "text/plain": [
       "  0%|          | 0/35 [00:00<?, ?it/s]"
      ]
     },
     "metadata": {},
     "output_type": "display_data"
    },
    {
     "name": "stdout",
     "output_type": "stream",
     "text": [
      "test_Acc:\u001b[1;32m95.531%\u001b[0m\n",
      "Best_eval:\u001b[1;32m[96.014%]\u001b[0m\n",
      "\u001b[35mHAM10000 ==> test ...\u001b[0m\n"
     ]
    },
    {
     "data": {
      "application/vnd.jupyter.widget-view+json": {
       "model_id": "67365451c9224aac93a7f832417793f3",
       "version_major": 2,
       "version_minor": 0
      },
      "text/plain": [
       "  0%|          | 0/35 [00:00<?, ?it/s]"
      ]
     },
     "metadata": {},
     "output_type": "display_data"
    },
    {
     "name": "stdout",
     "output_type": "stream",
     "text": [
      "test_Acc:\u001b[1;32m95.652%\u001b[0m\n",
      "Best_eval:\u001b[1;32m[96.014%]\u001b[0m\n",
      "\u001b[35mHAM10000 ==> test ...\u001b[0m\n"
     ]
    },
    {
     "data": {
      "application/vnd.jupyter.widget-view+json": {
       "model_id": "395e8a6f6cfa47f384a2a0ab3c088ab0",
       "version_major": 2,
       "version_minor": 0
      },
      "text/plain": [
       "  0%|          | 0/35 [00:00<?, ?it/s]"
      ]
     },
     "metadata": {},
     "output_type": "display_data"
    },
    {
     "name": "stdout",
     "output_type": "stream",
     "text": [
      "test_Acc:\u001b[1;32m95.652%\u001b[0m\n",
      "Best_eval:\u001b[1;32m[96.014%]\u001b[0m\n",
      "\u001b[35mHAM10000 ==> test ...\u001b[0m\n"
     ]
    },
    {
     "data": {
      "application/vnd.jupyter.widget-view+json": {
       "model_id": "c2d5a1223da14fedbece11a37d542cc6",
       "version_major": 2,
       "version_minor": 0
      },
      "text/plain": [
       "  0%|          | 0/35 [00:00<?, ?it/s]"
      ]
     },
     "metadata": {},
     "output_type": "display_data"
    },
    {
     "name": "stdout",
     "output_type": "stream",
     "text": [
      "test_Acc:\u001b[1;32m95.411%\u001b[0m\n",
      "Best_eval:\u001b[1;32m[96.014%]\u001b[0m\n",
      "Using 7 classes.\n",
      "using 51646 images for training, 1006 images for validation, 828 images for testing.\n",
      "size:314\n",
      "\u001b[35mHAM10000 ==> test ...\u001b[0m\n"
     ]
    },
    {
     "data": {
      "application/vnd.jupyter.widget-view+json": {
       "model_id": "c7646e77f98641ab9a5609f2e6cbf225",
       "version_major": 2,
       "version_minor": 0
      },
      "text/plain": [
       "  0%|          | 0/35 [00:00<?, ?it/s]"
      ]
     },
     "metadata": {},
     "output_type": "display_data"
    },
    {
     "name": "stdout",
     "output_type": "stream",
     "text": [
      "test_Acc:\u001b[1;32m95.531%\u001b[0m\n",
      "Best_eval:\u001b[1;32m[96.014%]\u001b[0m\n",
      "\u001b[35mHAM10000 ==> test ...\u001b[0m\n"
     ]
    },
    {
     "data": {
      "application/vnd.jupyter.widget-view+json": {
       "model_id": "1475affd90554a4095ec113bd1648ed3",
       "version_major": 2,
       "version_minor": 0
      },
      "text/plain": [
       "  0%|          | 0/35 [00:00<?, ?it/s]"
      ]
     },
     "metadata": {},
     "output_type": "display_data"
    },
    {
     "name": "stdout",
     "output_type": "stream",
     "text": [
      "test_Acc:\u001b[1;32m95.531%\u001b[0m\n",
      "Best_eval:\u001b[1;32m[96.014%]\u001b[0m\n",
      "\u001b[35mHAM10000 ==> test ...\u001b[0m\n"
     ]
    },
    {
     "data": {
      "application/vnd.jupyter.widget-view+json": {
       "model_id": "8087119ec64c4d7894ce652b1ae143d4",
       "version_major": 2,
       "version_minor": 0
      },
      "text/plain": [
       "  0%|          | 0/35 [00:00<?, ?it/s]"
      ]
     },
     "metadata": {},
     "output_type": "display_data"
    },
    {
     "name": "stdout",
     "output_type": "stream",
     "text": [
      "test_Acc:\u001b[1;32m95.773%\u001b[0m\n",
      "Best_eval:\u001b[1;32m[96.014%]\u001b[0m\n",
      "\u001b[35mHAM10000 ==> test ...\u001b[0m\n"
     ]
    },
    {
     "data": {
      "application/vnd.jupyter.widget-view+json": {
       "model_id": "5aa4cd191eeb45758e3effba31e7b8e6",
       "version_major": 2,
       "version_minor": 0
      },
      "text/plain": [
       "  0%|          | 0/35 [00:00<?, ?it/s]"
      ]
     },
     "metadata": {},
     "output_type": "display_data"
    },
    {
     "name": "stdout",
     "output_type": "stream",
     "text": [
      "test_Acc:\u001b[1;32m95.652%\u001b[0m\n",
      "Best_eval:\u001b[1;32m[96.014%]\u001b[0m\n",
      "\u001b[35mHAM10000 ==> test ...\u001b[0m\n"
     ]
    },
    {
     "data": {
      "application/vnd.jupyter.widget-view+json": {
       "model_id": "6b0ae51d574548708505a6701d7dcbee",
       "version_major": 2,
       "version_minor": 0
      },
      "text/plain": [
       "  0%|          | 0/35 [00:00<?, ?it/s]"
      ]
     },
     "metadata": {},
     "output_type": "display_data"
    },
    {
     "name": "stdout",
     "output_type": "stream",
     "text": [
      "test_Acc:\u001b[1;32m95.652%\u001b[0m\n",
      "Best_eval:\u001b[1;32m[96.014%]\u001b[0m\n",
      "\u001b[35mHAM10000 ==> test ...\u001b[0m\n"
     ]
    },
    {
     "data": {
      "application/vnd.jupyter.widget-view+json": {
       "model_id": "2f4a258dba96478aa6b382b9fc718de8",
       "version_major": 2,
       "version_minor": 0
      },
      "text/plain": [
       "  0%|          | 0/35 [00:00<?, ?it/s]"
      ]
     },
     "metadata": {},
     "output_type": "display_data"
    },
    {
     "name": "stdout",
     "output_type": "stream",
     "text": [
      "test_Acc:\u001b[1;32m95.652%\u001b[0m\n",
      "Best_eval:\u001b[1;32m[96.014%]\u001b[0m\n",
      "\u001b[35mHAM10000 ==> test ...\u001b[0m\n"
     ]
    },
    {
     "data": {
      "application/vnd.jupyter.widget-view+json": {
       "model_id": "3e2d5540cc994d42a9c2f0e32078117f",
       "version_major": 2,
       "version_minor": 0
      },
      "text/plain": [
       "  0%|          | 0/35 [00:00<?, ?it/s]"
      ]
     },
     "metadata": {},
     "output_type": "display_data"
    },
    {
     "name": "stdout",
     "output_type": "stream",
     "text": [
      "test_Acc:\u001b[1;32m95.411%\u001b[0m\n",
      "Best_eval:\u001b[1;32m[96.014%]\u001b[0m\n",
      "\u001b[35mHAM10000 ==> test ...\u001b[0m\n"
     ]
    },
    {
     "data": {
      "application/vnd.jupyter.widget-view+json": {
       "model_id": "d0bd75492a7a451eb74a79d4c0d13711",
       "version_major": 2,
       "version_minor": 0
      },
      "text/plain": [
       "  0%|          | 0/35 [00:00<?, ?it/s]"
      ]
     },
     "metadata": {},
     "output_type": "display_data"
    },
    {
     "name": "stdout",
     "output_type": "stream",
     "text": [
      "test_Acc:\u001b[1;32m95.531%\u001b[0m\n",
      "Best_eval:\u001b[1;32m[96.014%]\u001b[0m\n",
      "\u001b[35mHAM10000 ==> test ...\u001b[0m\n"
     ]
    },
    {
     "data": {
      "application/vnd.jupyter.widget-view+json": {
       "model_id": "16974798cf2448d181e4b8ce85531a4e",
       "version_major": 2,
       "version_minor": 0
      },
      "text/plain": [
       "  0%|          | 0/35 [00:00<?, ?it/s]"
      ]
     },
     "metadata": {},
     "output_type": "display_data"
    },
    {
     "name": "stdout",
     "output_type": "stream",
     "text": [
      "test_Acc:\u001b[1;32m95.531%\u001b[0m\n",
      "Best_eval:\u001b[1;32m[96.014%]\u001b[0m\n",
      "Using 7 classes.\n",
      "using 51646 images for training, 1006 images for validation, 828 images for testing.\n",
      "size:315\n",
      "\u001b[35mHAM10000 ==> test ...\u001b[0m\n"
     ]
    },
    {
     "data": {
      "application/vnd.jupyter.widget-view+json": {
       "model_id": "8a45e2e78dbe4079b50416dc8f60207f",
       "version_major": 2,
       "version_minor": 0
      },
      "text/plain": [
       "  0%|          | 0/35 [00:00<?, ?it/s]"
      ]
     },
     "metadata": {},
     "output_type": "display_data"
    },
    {
     "name": "stdout",
     "output_type": "stream",
     "text": [
      "test_Acc:\u001b[1;32m95.894%\u001b[0m\n",
      "Best_eval:\u001b[1;32m[96.014%]\u001b[0m\n",
      "\u001b[35mHAM10000 ==> test ...\u001b[0m\n"
     ]
    },
    {
     "data": {
      "application/vnd.jupyter.widget-view+json": {
       "model_id": "237a353ca12b44fd99b9afdc7fe28310",
       "version_major": 2,
       "version_minor": 0
      },
      "text/plain": [
       "  0%|          | 0/35 [00:00<?, ?it/s]"
      ]
     },
     "metadata": {},
     "output_type": "display_data"
    },
    {
     "name": "stdout",
     "output_type": "stream",
     "text": [
      "test_Acc:\u001b[1;32m95.531%\u001b[0m\n",
      "Best_eval:\u001b[1;32m[96.014%]\u001b[0m\n",
      "\u001b[35mHAM10000 ==> test ...\u001b[0m\n"
     ]
    },
    {
     "data": {
      "application/vnd.jupyter.widget-view+json": {
       "model_id": "34131419dbf647d6b5e7d9e2a8fc60d2",
       "version_major": 2,
       "version_minor": 0
      },
      "text/plain": [
       "  0%|          | 0/35 [00:00<?, ?it/s]"
      ]
     },
     "metadata": {},
     "output_type": "display_data"
    },
    {
     "name": "stdout",
     "output_type": "stream",
     "text": [
      "test_Acc:\u001b[1;32m95.773%\u001b[0m\n",
      "Best_eval:\u001b[1;32m[96.014%]\u001b[0m\n",
      "\u001b[35mHAM10000 ==> test ...\u001b[0m\n"
     ]
    },
    {
     "data": {
      "application/vnd.jupyter.widget-view+json": {
       "model_id": "0048fa43cf634cd8afdd3f30573cae38",
       "version_major": 2,
       "version_minor": 0
      },
      "text/plain": [
       "  0%|          | 0/35 [00:00<?, ?it/s]"
      ]
     },
     "metadata": {},
     "output_type": "display_data"
    },
    {
     "name": "stdout",
     "output_type": "stream",
     "text": [
      "test_Acc:\u001b[1;32m95.531%\u001b[0m\n",
      "Best_eval:\u001b[1;32m[96.014%]\u001b[0m\n",
      "\u001b[35mHAM10000 ==> test ...\u001b[0m\n"
     ]
    },
    {
     "data": {
      "application/vnd.jupyter.widget-view+json": {
       "model_id": "b914a26874f94f5b810fcb7d99091441",
       "version_major": 2,
       "version_minor": 0
      },
      "text/plain": [
       "  0%|          | 0/35 [00:00<?, ?it/s]"
      ]
     },
     "metadata": {},
     "output_type": "display_data"
    },
    {
     "name": "stdout",
     "output_type": "stream",
     "text": [
      "test_Acc:\u001b[1;32m95.652%\u001b[0m\n",
      "Best_eval:\u001b[1;32m[96.014%]\u001b[0m\n",
      "\u001b[35mHAM10000 ==> test ...\u001b[0m\n"
     ]
    },
    {
     "data": {
      "application/vnd.jupyter.widget-view+json": {
       "model_id": "f03537851ffb44a2b83f27843feef652",
       "version_major": 2,
       "version_minor": 0
      },
      "text/plain": [
       "  0%|          | 0/35 [00:00<?, ?it/s]"
      ]
     },
     "metadata": {},
     "output_type": "display_data"
    },
    {
     "name": "stdout",
     "output_type": "stream",
     "text": [
      "test_Acc:\u001b[1;32m95.29%\u001b[0m\n",
      "Best_eval:\u001b[1;32m[96.014%]\u001b[0m\n",
      "\u001b[35mHAM10000 ==> test ...\u001b[0m\n"
     ]
    },
    {
     "data": {
      "application/vnd.jupyter.widget-view+json": {
       "model_id": "e367cddafaff4e138209262b8039f9ac",
       "version_major": 2,
       "version_minor": 0
      },
      "text/plain": [
       "  0%|          | 0/35 [00:00<?, ?it/s]"
      ]
     },
     "metadata": {},
     "output_type": "display_data"
    },
    {
     "name": "stdout",
     "output_type": "stream",
     "text": [
      "test_Acc:\u001b[1;32m95.652%\u001b[0m\n",
      "Best_eval:\u001b[1;32m[96.014%]\u001b[0m\n",
      "\u001b[35mHAM10000 ==> test ...\u001b[0m\n"
     ]
    },
    {
     "data": {
      "application/vnd.jupyter.widget-view+json": {
       "model_id": "a4bcf4b060fb4e988c7fa35076c75dae",
       "version_major": 2,
       "version_minor": 0
      },
      "text/plain": [
       "  0%|          | 0/35 [00:00<?, ?it/s]"
      ]
     },
     "metadata": {},
     "output_type": "display_data"
    },
    {
     "name": "stdout",
     "output_type": "stream",
     "text": [
      "test_Acc:\u001b[1;32m95.411%\u001b[0m\n",
      "Best_eval:\u001b[1;32m[96.014%]\u001b[0m\n",
      "\u001b[35mHAM10000 ==> test ...\u001b[0m\n"
     ]
    },
    {
     "data": {
      "application/vnd.jupyter.widget-view+json": {
       "model_id": "c770cfb08217433084074b68df6dacb7",
       "version_major": 2,
       "version_minor": 0
      },
      "text/plain": [
       "  0%|          | 0/35 [00:00<?, ?it/s]"
      ]
     },
     "metadata": {},
     "output_type": "display_data"
    },
    {
     "name": "stdout",
     "output_type": "stream",
     "text": [
      "test_Acc:\u001b[1;32m95.169%\u001b[0m\n",
      "Best_eval:\u001b[1;32m[96.014%]\u001b[0m\n",
      "Using 7 classes.\n",
      "using 51646 images for training, 1006 images for validation, 828 images for testing.\n",
      "size:316\n",
      "\u001b[35mHAM10000 ==> test ...\u001b[0m\n"
     ]
    },
    {
     "data": {
      "application/vnd.jupyter.widget-view+json": {
       "model_id": "98592c0378db4bc0a9decd39464ee410",
       "version_major": 2,
       "version_minor": 0
      },
      "text/plain": [
       "  0%|          | 0/35 [00:00<?, ?it/s]"
      ]
     },
     "metadata": {},
     "output_type": "display_data"
    },
    {
     "name": "stdout",
     "output_type": "stream",
     "text": [
      "test_Acc:\u001b[1;32m95.652%\u001b[0m\n",
      "Best_eval:\u001b[1;32m[96.014%]\u001b[0m\n",
      "\u001b[35mHAM10000 ==> test ...\u001b[0m\n"
     ]
    },
    {
     "data": {
      "application/vnd.jupyter.widget-view+json": {
       "model_id": "4e2c61142f484a1088d4f09957349b72",
       "version_major": 2,
       "version_minor": 0
      },
      "text/plain": [
       "  0%|          | 0/35 [00:00<?, ?it/s]"
      ]
     },
     "metadata": {},
     "output_type": "display_data"
    },
    {
     "name": "stdout",
     "output_type": "stream",
     "text": [
      "test_Acc:\u001b[1;32m95.773%\u001b[0m\n",
      "Best_eval:\u001b[1;32m[96.014%]\u001b[0m\n",
      "\u001b[35mHAM10000 ==> test ...\u001b[0m\n"
     ]
    },
    {
     "data": {
      "application/vnd.jupyter.widget-view+json": {
       "model_id": "bbd3212501bd40148619e54f462d4567",
       "version_major": 2,
       "version_minor": 0
      },
      "text/plain": [
       "  0%|          | 0/35 [00:00<?, ?it/s]"
      ]
     },
     "metadata": {},
     "output_type": "display_data"
    },
    {
     "name": "stdout",
     "output_type": "stream",
     "text": [
      "test_Acc:\u001b[1;32m95.652%\u001b[0m\n",
      "Best_eval:\u001b[1;32m[96.014%]\u001b[0m\n",
      "\u001b[35mHAM10000 ==> test ...\u001b[0m\n"
     ]
    },
    {
     "data": {
      "application/vnd.jupyter.widget-view+json": {
       "model_id": "ae13938a53244753a9a742b97e584f70",
       "version_major": 2,
       "version_minor": 0
      },
      "text/plain": [
       "  0%|          | 0/35 [00:00<?, ?it/s]"
      ]
     },
     "metadata": {},
     "output_type": "display_data"
    },
    {
     "name": "stdout",
     "output_type": "stream",
     "text": [
      "test_Acc:\u001b[1;32m95.652%\u001b[0m\n",
      "Best_eval:\u001b[1;32m[96.014%]\u001b[0m\n",
      "\u001b[35mHAM10000 ==> test ...\u001b[0m\n"
     ]
    },
    {
     "data": {
      "application/vnd.jupyter.widget-view+json": {
       "model_id": "6fde49b8e4174f2291b47dee93042777",
       "version_major": 2,
       "version_minor": 0
      },
      "text/plain": [
       "  0%|          | 0/35 [00:00<?, ?it/s]"
      ]
     },
     "metadata": {},
     "output_type": "display_data"
    },
    {
     "name": "stdout",
     "output_type": "stream",
     "text": [
      "test_Acc:\u001b[1;32m94.928%\u001b[0m\n",
      "Best_eval:\u001b[1;32m[96.014%]\u001b[0m\n",
      "\u001b[35mHAM10000 ==> test ...\u001b[0m\n"
     ]
    },
    {
     "data": {
      "application/vnd.jupyter.widget-view+json": {
       "model_id": "1ad1c1e89baa45b2af5d4c52452d3396",
       "version_major": 2,
       "version_minor": 0
      },
      "text/plain": [
       "  0%|          | 0/35 [00:00<?, ?it/s]"
      ]
     },
     "metadata": {},
     "output_type": "display_data"
    },
    {
     "name": "stdout",
     "output_type": "stream",
     "text": [
      "test_Acc:\u001b[1;32m95.29%\u001b[0m\n",
      "Best_eval:\u001b[1;32m[96.014%]\u001b[0m\n",
      "\u001b[35mHAM10000 ==> test ...\u001b[0m\n"
     ]
    },
    {
     "data": {
      "application/vnd.jupyter.widget-view+json": {
       "model_id": "871cb0fd940741e5b812a9a84b74b543",
       "version_major": 2,
       "version_minor": 0
      },
      "text/plain": [
       "  0%|          | 0/35 [00:00<?, ?it/s]"
      ]
     },
     "metadata": {},
     "output_type": "display_data"
    },
    {
     "name": "stdout",
     "output_type": "stream",
     "text": [
      "test_Acc:\u001b[1;32m95.169%\u001b[0m\n",
      "Best_eval:\u001b[1;32m[96.014%]\u001b[0m\n",
      "\u001b[35mHAM10000 ==> test ...\u001b[0m\n"
     ]
    },
    {
     "data": {
      "application/vnd.jupyter.widget-view+json": {
       "model_id": "0c8f049eef1e4061a276bd8005952b31",
       "version_major": 2,
       "version_minor": 0
      },
      "text/plain": [
       "  0%|          | 0/35 [00:00<?, ?it/s]"
      ]
     },
     "metadata": {},
     "output_type": "display_data"
    },
    {
     "name": "stdout",
     "output_type": "stream",
     "text": [
      "test_Acc:\u001b[1;32m95.652%\u001b[0m\n",
      "Best_eval:\u001b[1;32m[96.014%]\u001b[0m\n",
      "\u001b[35mHAM10000 ==> test ...\u001b[0m\n"
     ]
    },
    {
     "data": {
      "application/vnd.jupyter.widget-view+json": {
       "model_id": "6562a70f6d55438fa83b08851b9b2cfa",
       "version_major": 2,
       "version_minor": 0
      },
      "text/plain": [
       "  0%|          | 0/35 [00:00<?, ?it/s]"
      ]
     },
     "metadata": {},
     "output_type": "display_data"
    },
    {
     "name": "stdout",
     "output_type": "stream",
     "text": [
      "test_Acc:\u001b[1;32m96.256%\u001b[0m\n",
      "Best_eval:\u001b[1;32m[96.256%]\u001b[0m\n",
      "Using 7 classes.\n",
      "using 51646 images for training, 1006 images for validation, 828 images for testing.\n",
      "size:317\n",
      "\u001b[35mHAM10000 ==> test ...\u001b[0m\n"
     ]
    },
    {
     "data": {
      "application/vnd.jupyter.widget-view+json": {
       "model_id": "3ad9b0c9f69640a581353ab681940bb6",
       "version_major": 2,
       "version_minor": 0
      },
      "text/plain": [
       "  0%|          | 0/35 [00:00<?, ?it/s]"
      ]
     },
     "metadata": {},
     "output_type": "display_data"
    },
    {
     "name": "stdout",
     "output_type": "stream",
     "text": [
      "test_Acc:\u001b[1;32m95.773%\u001b[0m\n",
      "Best_eval:\u001b[1;32m[96.256%]\u001b[0m\n",
      "\u001b[35mHAM10000 ==> test ...\u001b[0m\n"
     ]
    },
    {
     "data": {
      "application/vnd.jupyter.widget-view+json": {
       "model_id": "668b2253052c4eb78abf7a4841701120",
       "version_major": 2,
       "version_minor": 0
      },
      "text/plain": [
       "  0%|          | 0/35 [00:00<?, ?it/s]"
      ]
     },
     "metadata": {},
     "output_type": "display_data"
    },
    {
     "name": "stdout",
     "output_type": "stream",
     "text": [
      "test_Acc:\u001b[1;32m95.411%\u001b[0m\n",
      "Best_eval:\u001b[1;32m[96.256%]\u001b[0m\n",
      "\u001b[35mHAM10000 ==> test ...\u001b[0m\n"
     ]
    },
    {
     "data": {
      "application/vnd.jupyter.widget-view+json": {
       "model_id": "eebedccffe8c416cbd7b8f9778a9e399",
       "version_major": 2,
       "version_minor": 0
      },
      "text/plain": [
       "  0%|          | 0/35 [00:00<?, ?it/s]"
      ]
     },
     "metadata": {},
     "output_type": "display_data"
    },
    {
     "name": "stdout",
     "output_type": "stream",
     "text": [
      "test_Acc:\u001b[1;32m95.411%\u001b[0m\n",
      "Best_eval:\u001b[1;32m[96.256%]\u001b[0m\n",
      "\u001b[35mHAM10000 ==> test ...\u001b[0m\n"
     ]
    },
    {
     "data": {
      "application/vnd.jupyter.widget-view+json": {
       "model_id": "707d058718e84bf58eca9b5920a4b900",
       "version_major": 2,
       "version_minor": 0
      },
      "text/plain": [
       "  0%|          | 0/35 [00:00<?, ?it/s]"
      ]
     },
     "metadata": {},
     "output_type": "display_data"
    },
    {
     "name": "stdout",
     "output_type": "stream",
     "text": [
      "test_Acc:\u001b[1;32m95.652%\u001b[0m\n",
      "Best_eval:\u001b[1;32m[96.256%]\u001b[0m\n",
      "\u001b[35mHAM10000 ==> test ...\u001b[0m\n"
     ]
    },
    {
     "data": {
      "application/vnd.jupyter.widget-view+json": {
       "model_id": "c92aa59f885e47e39809bab617f3e842",
       "version_major": 2,
       "version_minor": 0
      },
      "text/plain": [
       "  0%|          | 0/35 [00:00<?, ?it/s]"
      ]
     },
     "metadata": {},
     "output_type": "display_data"
    },
    {
     "name": "stdout",
     "output_type": "stream",
     "text": [
      "test_Acc:\u001b[1;32m95.411%\u001b[0m\n",
      "Best_eval:\u001b[1;32m[96.256%]\u001b[0m\n",
      "\u001b[35mHAM10000 ==> test ...\u001b[0m\n"
     ]
    },
    {
     "data": {
      "application/vnd.jupyter.widget-view+json": {
       "model_id": "95309bb2d04c47fcabf8fc7df349f937",
       "version_major": 2,
       "version_minor": 0
      },
      "text/plain": [
       "  0%|          | 0/35 [00:00<?, ?it/s]"
      ]
     },
     "metadata": {},
     "output_type": "display_data"
    },
    {
     "name": "stdout",
     "output_type": "stream",
     "text": [
      "test_Acc:\u001b[1;32m95.29%\u001b[0m\n",
      "Best_eval:\u001b[1;32m[96.256%]\u001b[0m\n",
      "\u001b[35mHAM10000 ==> test ...\u001b[0m\n"
     ]
    },
    {
     "data": {
      "application/vnd.jupyter.widget-view+json": {
       "model_id": "b8f1cbe72405460d9e5a659cfccc70e7",
       "version_major": 2,
       "version_minor": 0
      },
      "text/plain": [
       "  0%|          | 0/35 [00:00<?, ?it/s]"
      ]
     },
     "metadata": {},
     "output_type": "display_data"
    },
    {
     "name": "stdout",
     "output_type": "stream",
     "text": [
      "test_Acc:\u001b[1;32m95.411%\u001b[0m\n",
      "Best_eval:\u001b[1;32m[96.256%]\u001b[0m\n",
      "\u001b[35mHAM10000 ==> test ...\u001b[0m\n"
     ]
    },
    {
     "data": {
      "application/vnd.jupyter.widget-view+json": {
       "model_id": "2f59d153c6244923bb8d74ed0633bf3a",
       "version_major": 2,
       "version_minor": 0
      },
      "text/plain": [
       "  0%|          | 0/35 [00:00<?, ?it/s]"
      ]
     },
     "metadata": {},
     "output_type": "display_data"
    },
    {
     "name": "stdout",
     "output_type": "stream",
     "text": [
      "test_Acc:\u001b[1;32m95.29%\u001b[0m\n",
      "Best_eval:\u001b[1;32m[96.256%]\u001b[0m\n",
      "\u001b[35mHAM10000 ==> test ...\u001b[0m\n"
     ]
    },
    {
     "data": {
      "application/vnd.jupyter.widget-view+json": {
       "model_id": "18993cd64dd1494aa0f427caa54f8b56",
       "version_major": 2,
       "version_minor": 0
      },
      "text/plain": [
       "  0%|          | 0/35 [00:00<?, ?it/s]"
      ]
     },
     "metadata": {},
     "output_type": "display_data"
    },
    {
     "name": "stdout",
     "output_type": "stream",
     "text": [
      "test_Acc:\u001b[1;32m95.169%\u001b[0m\n",
      "Best_eval:\u001b[1;32m[96.256%]\u001b[0m\n",
      "Using 7 classes.\n",
      "using 51646 images for training, 1006 images for validation, 828 images for testing.\n",
      "size:318\n",
      "\u001b[35mHAM10000 ==> test ...\u001b[0m\n"
     ]
    },
    {
     "data": {
      "application/vnd.jupyter.widget-view+json": {
       "model_id": "282267229e7d46e9899f8697ab4d85ac",
       "version_major": 2,
       "version_minor": 0
      },
      "text/plain": [
       "  0%|          | 0/35 [00:00<?, ?it/s]"
      ]
     },
     "metadata": {},
     "output_type": "display_data"
    },
    {
     "name": "stdout",
     "output_type": "stream",
     "text": [
      "test_Acc:\u001b[1;32m95.411%\u001b[0m\n",
      "Best_eval:\u001b[1;32m[96.256%]\u001b[0m\n",
      "\u001b[35mHAM10000 ==> test ...\u001b[0m\n"
     ]
    },
    {
     "data": {
      "application/vnd.jupyter.widget-view+json": {
       "model_id": "5f97aee709f94a37bd226811cff3f99a",
       "version_major": 2,
       "version_minor": 0
      },
      "text/plain": [
       "  0%|          | 0/35 [00:00<?, ?it/s]"
      ]
     },
     "metadata": {},
     "output_type": "display_data"
    },
    {
     "name": "stdout",
     "output_type": "stream",
     "text": [
      "test_Acc:\u001b[1;32m95.29%\u001b[0m\n",
      "Best_eval:\u001b[1;32m[96.256%]\u001b[0m\n",
      "\u001b[35mHAM10000 ==> test ...\u001b[0m\n"
     ]
    },
    {
     "data": {
      "application/vnd.jupyter.widget-view+json": {
       "model_id": "dfa0e4a091044c129ebae26811a26823",
       "version_major": 2,
       "version_minor": 0
      },
      "text/plain": [
       "  0%|          | 0/35 [00:00<?, ?it/s]"
      ]
     },
     "metadata": {},
     "output_type": "display_data"
    },
    {
     "name": "stdout",
     "output_type": "stream",
     "text": [
      "test_Acc:\u001b[1;32m95.411%\u001b[0m\n",
      "Best_eval:\u001b[1;32m[96.256%]\u001b[0m\n",
      "\u001b[35mHAM10000 ==> test ...\u001b[0m\n"
     ]
    },
    {
     "data": {
      "application/vnd.jupyter.widget-view+json": {
       "model_id": "a5a582b134464413aee14cd761a0f09f",
       "version_major": 2,
       "version_minor": 0
      },
      "text/plain": [
       "  0%|          | 0/35 [00:00<?, ?it/s]"
      ]
     },
     "metadata": {},
     "output_type": "display_data"
    },
    {
     "name": "stdout",
     "output_type": "stream",
     "text": [
      "test_Acc:\u001b[1;32m95.411%\u001b[0m\n",
      "Best_eval:\u001b[1;32m[96.256%]\u001b[0m\n",
      "\u001b[35mHAM10000 ==> test ...\u001b[0m\n"
     ]
    },
    {
     "data": {
      "application/vnd.jupyter.widget-view+json": {
       "model_id": "25eca6bbe05e4c5ca1c3600b48b2f039",
       "version_major": 2,
       "version_minor": 0
      },
      "text/plain": [
       "  0%|          | 0/35 [00:00<?, ?it/s]"
      ]
     },
     "metadata": {},
     "output_type": "display_data"
    },
    {
     "name": "stdout",
     "output_type": "stream",
     "text": [
      "test_Acc:\u001b[1;32m95.531%\u001b[0m\n",
      "Best_eval:\u001b[1;32m[96.256%]\u001b[0m\n",
      "\u001b[35mHAM10000 ==> test ...\u001b[0m\n"
     ]
    },
    {
     "data": {
      "application/vnd.jupyter.widget-view+json": {
       "model_id": "aa8bcf8f719646b6a001b6043223ae98",
       "version_major": 2,
       "version_minor": 0
      },
      "text/plain": [
       "  0%|          | 0/35 [00:00<?, ?it/s]"
      ]
     },
     "metadata": {},
     "output_type": "display_data"
    },
    {
     "name": "stdout",
     "output_type": "stream",
     "text": [
      "test_Acc:\u001b[1;32m95.411%\u001b[0m\n",
      "Best_eval:\u001b[1;32m[96.256%]\u001b[0m\n",
      "\u001b[35mHAM10000 ==> test ...\u001b[0m\n"
     ]
    },
    {
     "data": {
      "application/vnd.jupyter.widget-view+json": {
       "model_id": "db5896d3ce0340458c0c1951b6db198b",
       "version_major": 2,
       "version_minor": 0
      },
      "text/plain": [
       "  0%|          | 0/35 [00:00<?, ?it/s]"
      ]
     },
     "metadata": {},
     "output_type": "display_data"
    },
    {
     "name": "stdout",
     "output_type": "stream",
     "text": [
      "test_Acc:\u001b[1;32m95.773%\u001b[0m\n",
      "Best_eval:\u001b[1;32m[96.256%]\u001b[0m\n",
      "\u001b[35mHAM10000 ==> test ...\u001b[0m\n"
     ]
    },
    {
     "data": {
      "application/vnd.jupyter.widget-view+json": {
       "model_id": "10a102e2b36d4fdcaf2114e18c42befc",
       "version_major": 2,
       "version_minor": 0
      },
      "text/plain": [
       "  0%|          | 0/35 [00:00<?, ?it/s]"
      ]
     },
     "metadata": {},
     "output_type": "display_data"
    },
    {
     "name": "stdout",
     "output_type": "stream",
     "text": [
      "test_Acc:\u001b[1;32m95.411%\u001b[0m\n",
      "Best_eval:\u001b[1;32m[96.256%]\u001b[0m\n",
      "\u001b[35mHAM10000 ==> test ...\u001b[0m\n"
     ]
    },
    {
     "data": {
      "application/vnd.jupyter.widget-view+json": {
       "model_id": "f8cde3c284cb4775ac48f5d384c768c5",
       "version_major": 2,
       "version_minor": 0
      },
      "text/plain": [
       "  0%|          | 0/35 [00:00<?, ?it/s]"
      ]
     },
     "metadata": {},
     "output_type": "display_data"
    },
    {
     "name": "stdout",
     "output_type": "stream",
     "text": [
      "test_Acc:\u001b[1;32m95.411%\u001b[0m\n",
      "Best_eval:\u001b[1;32m[96.256%]\u001b[0m\n",
      "Using 7 classes.\n",
      "using 51646 images for training, 1006 images for validation, 828 images for testing.\n",
      "size:319\n",
      "\u001b[35mHAM10000 ==> test ...\u001b[0m\n"
     ]
    },
    {
     "data": {
      "application/vnd.jupyter.widget-view+json": {
       "model_id": "d7845a6e345b42b48fa094db9ccfa856",
       "version_major": 2,
       "version_minor": 0
      },
      "text/plain": [
       "  0%|          | 0/35 [00:00<?, ?it/s]"
      ]
     },
     "metadata": {},
     "output_type": "display_data"
    },
    {
     "name": "stdout",
     "output_type": "stream",
     "text": [
      "test_Acc:\u001b[1;32m95.29%\u001b[0m\n",
      "Best_eval:\u001b[1;32m[96.256%]\u001b[0m\n",
      "\u001b[35mHAM10000 ==> test ...\u001b[0m\n"
     ]
    },
    {
     "data": {
      "application/vnd.jupyter.widget-view+json": {
       "model_id": "9e0bed6c19764ca59cf0d41c97a7290c",
       "version_major": 2,
       "version_minor": 0
      },
      "text/plain": [
       "  0%|          | 0/35 [00:00<?, ?it/s]"
      ]
     },
     "metadata": {},
     "output_type": "display_data"
    },
    {
     "name": "stdout",
     "output_type": "stream",
     "text": [
      "test_Acc:\u001b[1;32m95.29%\u001b[0m\n",
      "Best_eval:\u001b[1;32m[96.256%]\u001b[0m\n",
      "\u001b[35mHAM10000 ==> test ...\u001b[0m\n"
     ]
    },
    {
     "data": {
      "application/vnd.jupyter.widget-view+json": {
       "model_id": "4f64d621a4384f8d87b672df9cc3b9a5",
       "version_major": 2,
       "version_minor": 0
      },
      "text/plain": [
       "  0%|          | 0/35 [00:00<?, ?it/s]"
      ]
     },
     "metadata": {},
     "output_type": "display_data"
    },
    {
     "name": "stdout",
     "output_type": "stream",
     "text": [
      "test_Acc:\u001b[1;32m95.29%\u001b[0m\n",
      "Best_eval:\u001b[1;32m[96.256%]\u001b[0m\n",
      "\u001b[35mHAM10000 ==> test ...\u001b[0m\n"
     ]
    },
    {
     "data": {
      "application/vnd.jupyter.widget-view+json": {
       "model_id": "37bd75e9781e4a0eacb764bc3f5f84e5",
       "version_major": 2,
       "version_minor": 0
      },
      "text/plain": [
       "  0%|          | 0/35 [00:00<?, ?it/s]"
      ]
     },
     "metadata": {},
     "output_type": "display_data"
    },
    {
     "name": "stdout",
     "output_type": "stream",
     "text": [
      "test_Acc:\u001b[1;32m95.048%\u001b[0m\n",
      "Best_eval:\u001b[1;32m[96.256%]\u001b[0m\n",
      "\u001b[35mHAM10000 ==> test ...\u001b[0m\n"
     ]
    },
    {
     "data": {
      "application/vnd.jupyter.widget-view+json": {
       "model_id": "35fff8d650a540798c65f0a4e8b9073b",
       "version_major": 2,
       "version_minor": 0
      },
      "text/plain": [
       "  0%|          | 0/35 [00:00<?, ?it/s]"
      ]
     },
     "metadata": {},
     "output_type": "display_data"
    },
    {
     "name": "stdout",
     "output_type": "stream",
     "text": [
      "test_Acc:\u001b[1;32m95.652%\u001b[0m\n",
      "Best_eval:\u001b[1;32m[96.256%]\u001b[0m\n",
      "\u001b[35mHAM10000 ==> test ...\u001b[0m\n"
     ]
    },
    {
     "data": {
      "application/vnd.jupyter.widget-view+json": {
       "model_id": "11ef9fcc95264cb3acf8b49e71a99d4d",
       "version_major": 2,
       "version_minor": 0
      },
      "text/plain": [
       "  0%|          | 0/35 [00:00<?, ?it/s]"
      ]
     },
     "metadata": {},
     "output_type": "display_data"
    },
    {
     "name": "stdout",
     "output_type": "stream",
     "text": [
      "test_Acc:\u001b[1;32m95.773%\u001b[0m\n",
      "Best_eval:\u001b[1;32m[96.256%]\u001b[0m\n",
      "\u001b[35mHAM10000 ==> test ...\u001b[0m\n"
     ]
    },
    {
     "data": {
      "application/vnd.jupyter.widget-view+json": {
       "model_id": "f31726dd7d624c91ab902c15636591a9",
       "version_major": 2,
       "version_minor": 0
      },
      "text/plain": [
       "  0%|          | 0/35 [00:00<?, ?it/s]"
      ]
     },
     "metadata": {},
     "output_type": "display_data"
    },
    {
     "name": "stdout",
     "output_type": "stream",
     "text": [
      "test_Acc:\u001b[1;32m95.29%\u001b[0m\n",
      "Best_eval:\u001b[1;32m[96.256%]\u001b[0m\n",
      "\u001b[35mHAM10000 ==> test ...\u001b[0m\n"
     ]
    },
    {
     "data": {
      "application/vnd.jupyter.widget-view+json": {
       "model_id": "de4639b306e345a4bc6eab8f114928f8",
       "version_major": 2,
       "version_minor": 0
      },
      "text/plain": [
       "  0%|          | 0/35 [00:00<?, ?it/s]"
      ]
     },
     "metadata": {},
     "output_type": "display_data"
    },
    {
     "name": "stdout",
     "output_type": "stream",
     "text": [
      "test_Acc:\u001b[1;32m95.169%\u001b[0m\n",
      "Best_eval:\u001b[1;32m[96.256%]\u001b[0m\n",
      "\u001b[35mHAM10000 ==> test ...\u001b[0m\n"
     ]
    },
    {
     "data": {
      "application/vnd.jupyter.widget-view+json": {
       "model_id": "359fcae9b8f84677b509221e1a003a6b",
       "version_major": 2,
       "version_minor": 0
      },
      "text/plain": [
       "  0%|          | 0/35 [00:00<?, ?it/s]"
      ]
     },
     "metadata": {},
     "output_type": "display_data"
    },
    {
     "name": "stdout",
     "output_type": "stream",
     "text": [
      "test_Acc:\u001b[1;32m95.411%\u001b[0m\n",
      "Best_eval:\u001b[1;32m[96.256%]\u001b[0m\n",
      "Using 7 classes.\n",
      "using 51646 images for training, 1006 images for validation, 828 images for testing.\n",
      "size:320\n",
      "\u001b[35mHAM10000 ==> test ...\u001b[0m\n"
     ]
    },
    {
     "data": {
      "application/vnd.jupyter.widget-view+json": {
       "model_id": "857ed07824774d91912ea8166f04de72",
       "version_major": 2,
       "version_minor": 0
      },
      "text/plain": [
       "  0%|          | 0/35 [00:00<?, ?it/s]"
      ]
     },
     "metadata": {},
     "output_type": "display_data"
    },
    {
     "name": "stdout",
     "output_type": "stream",
     "text": [
      "test_Acc:\u001b[1;32m95.29%\u001b[0m\n",
      "Best_eval:\u001b[1;32m[96.256%]\u001b[0m\n",
      "\u001b[35mHAM10000 ==> test ...\u001b[0m\n"
     ]
    },
    {
     "data": {
      "application/vnd.jupyter.widget-view+json": {
       "model_id": "1332c26cf4b34c5e822e4450bbefc7f6",
       "version_major": 2,
       "version_minor": 0
      },
      "text/plain": [
       "  0%|          | 0/35 [00:00<?, ?it/s]"
      ]
     },
     "metadata": {},
     "output_type": "display_data"
    },
    {
     "name": "stdout",
     "output_type": "stream",
     "text": [
      "test_Acc:\u001b[1;32m95.169%\u001b[0m\n",
      "Best_eval:\u001b[1;32m[96.256%]\u001b[0m\n",
      "\u001b[35mHAM10000 ==> test ...\u001b[0m\n"
     ]
    },
    {
     "data": {
      "application/vnd.jupyter.widget-view+json": {
       "model_id": "5274f9cc32e942e8a5b9e60a64f237ab",
       "version_major": 2,
       "version_minor": 0
      },
      "text/plain": [
       "  0%|          | 0/35 [00:00<?, ?it/s]"
      ]
     },
     "metadata": {},
     "output_type": "display_data"
    },
    {
     "name": "stdout",
     "output_type": "stream",
     "text": [
      "test_Acc:\u001b[1;32m94.928%\u001b[0m\n",
      "Best_eval:\u001b[1;32m[96.256%]\u001b[0m\n",
      "\u001b[35mHAM10000 ==> test ...\u001b[0m\n"
     ]
    },
    {
     "data": {
      "application/vnd.jupyter.widget-view+json": {
       "model_id": "bed5d778bc2a49ae85f48b4e0ca03ee3",
       "version_major": 2,
       "version_minor": 0
      },
      "text/plain": [
       "  0%|          | 0/35 [00:00<?, ?it/s]"
      ]
     },
     "metadata": {},
     "output_type": "display_data"
    },
    {
     "name": "stdout",
     "output_type": "stream",
     "text": [
      "test_Acc:\u001b[1;32m95.048%\u001b[0m\n",
      "Best_eval:\u001b[1;32m[96.256%]\u001b[0m\n",
      "\u001b[35mHAM10000 ==> test ...\u001b[0m\n"
     ]
    },
    {
     "data": {
      "application/vnd.jupyter.widget-view+json": {
       "model_id": "fee57daa449d4d2caf408d2329c337f2",
       "version_major": 2,
       "version_minor": 0
      },
      "text/plain": [
       "  0%|          | 0/35 [00:00<?, ?it/s]"
      ]
     },
     "metadata": {},
     "output_type": "display_data"
    },
    {
     "name": "stdout",
     "output_type": "stream",
     "text": [
      "test_Acc:\u001b[1;32m95.29%\u001b[0m\n",
      "Best_eval:\u001b[1;32m[96.256%]\u001b[0m\n",
      "\u001b[35mHAM10000 ==> test ...\u001b[0m\n"
     ]
    },
    {
     "data": {
      "application/vnd.jupyter.widget-view+json": {
       "model_id": "24a5f837e17e42889a2a2a32220ea3a5",
       "version_major": 2,
       "version_minor": 0
      },
      "text/plain": [
       "  0%|          | 0/35 [00:00<?, ?it/s]"
      ]
     },
     "metadata": {},
     "output_type": "display_data"
    },
    {
     "name": "stdout",
     "output_type": "stream",
     "text": [
      "test_Acc:\u001b[1;32m95.048%\u001b[0m\n",
      "Best_eval:\u001b[1;32m[96.256%]\u001b[0m\n",
      "\u001b[35mHAM10000 ==> test ...\u001b[0m\n"
     ]
    },
    {
     "data": {
      "application/vnd.jupyter.widget-view+json": {
       "model_id": "d992dd0ccc1e4f9e839a6fecd0a26407",
       "version_major": 2,
       "version_minor": 0
      },
      "text/plain": [
       "  0%|          | 0/35 [00:00<?, ?it/s]"
      ]
     },
     "metadata": {},
     "output_type": "display_data"
    },
    {
     "name": "stdout",
     "output_type": "stream",
     "text": [
      "test_Acc:\u001b[1;32m94.807%\u001b[0m\n",
      "Best_eval:\u001b[1;32m[96.256%]\u001b[0m\n",
      "\u001b[35mHAM10000 ==> test ...\u001b[0m\n"
     ]
    },
    {
     "data": {
      "application/vnd.jupyter.widget-view+json": {
       "model_id": "ed2ee2d8e8ad4044bfb2228d71662e61",
       "version_major": 2,
       "version_minor": 0
      },
      "text/plain": [
       "  0%|          | 0/35 [00:00<?, ?it/s]"
      ]
     },
     "metadata": {},
     "output_type": "display_data"
    },
    {
     "name": "stdout",
     "output_type": "stream",
     "text": [
      "test_Acc:\u001b[1;32m95.773%\u001b[0m\n",
      "Best_eval:\u001b[1;32m[96.256%]\u001b[0m\n",
      "\u001b[35mHAM10000 ==> test ...\u001b[0m\n"
     ]
    },
    {
     "data": {
      "application/vnd.jupyter.widget-view+json": {
       "model_id": "8c9bf8389c134d5f8d92bbe4ac3b9f99",
       "version_major": 2,
       "version_minor": 0
      },
      "text/plain": [
       "  0%|          | 0/35 [00:00<?, ?it/s]"
      ]
     },
     "metadata": {},
     "output_type": "display_data"
    },
    {
     "name": "stdout",
     "output_type": "stream",
     "text": [
      "test_Acc:\u001b[1;32m95.652%\u001b[0m\n",
      "Best_eval:\u001b[1;32m[96.256%]\u001b[0m\n",
      "Using 7 classes.\n",
      "using 51646 images for training, 1006 images for validation, 828 images for testing.\n",
      "size:321\n",
      "\u001b[35mHAM10000 ==> test ...\u001b[0m\n"
     ]
    },
    {
     "data": {
      "application/vnd.jupyter.widget-view+json": {
       "model_id": "47d1b8d4279a461face6f14b408b0757",
       "version_major": 2,
       "version_minor": 0
      },
      "text/plain": [
       "  0%|          | 0/35 [00:00<?, ?it/s]"
      ]
     },
     "metadata": {},
     "output_type": "display_data"
    },
    {
     "name": "stdout",
     "output_type": "stream",
     "text": [
      "test_Acc:\u001b[1;32m94.807%\u001b[0m\n",
      "Best_eval:\u001b[1;32m[96.256%]\u001b[0m\n",
      "\u001b[35mHAM10000 ==> test ...\u001b[0m\n"
     ]
    },
    {
     "data": {
      "application/vnd.jupyter.widget-view+json": {
       "model_id": "79ea3129c8184634b32668bb429cc0b6",
       "version_major": 2,
       "version_minor": 0
      },
      "text/plain": [
       "  0%|          | 0/35 [00:00<?, ?it/s]"
      ]
     },
     "metadata": {},
     "output_type": "display_data"
    },
    {
     "name": "stdout",
     "output_type": "stream",
     "text": [
      "test_Acc:\u001b[1;32m95.531%\u001b[0m\n",
      "Best_eval:\u001b[1;32m[96.256%]\u001b[0m\n",
      "\u001b[35mHAM10000 ==> test ...\u001b[0m\n"
     ]
    },
    {
     "data": {
      "application/vnd.jupyter.widget-view+json": {
       "model_id": "56d1ee6937e2433eb716a405a1d93d6f",
       "version_major": 2,
       "version_minor": 0
      },
      "text/plain": [
       "  0%|          | 0/35 [00:00<?, ?it/s]"
      ]
     },
     "metadata": {},
     "output_type": "display_data"
    },
    {
     "name": "stdout",
     "output_type": "stream",
     "text": [
      "test_Acc:\u001b[1;32m95.29%\u001b[0m\n",
      "Best_eval:\u001b[1;32m[96.256%]\u001b[0m\n",
      "\u001b[35mHAM10000 ==> test ...\u001b[0m\n"
     ]
    },
    {
     "data": {
      "application/vnd.jupyter.widget-view+json": {
       "model_id": "16dfed7fbae14aeeb8bf59c73ed94cb5",
       "version_major": 2,
       "version_minor": 0
      },
      "text/plain": [
       "  0%|          | 0/35 [00:00<?, ?it/s]"
      ]
     },
     "metadata": {},
     "output_type": "display_data"
    },
    {
     "name": "stdout",
     "output_type": "stream",
     "text": [
      "test_Acc:\u001b[1;32m95.29%\u001b[0m\n",
      "Best_eval:\u001b[1;32m[96.256%]\u001b[0m\n",
      "\u001b[35mHAM10000 ==> test ...\u001b[0m\n"
     ]
    },
    {
     "data": {
      "application/vnd.jupyter.widget-view+json": {
       "model_id": "f4c78137d3434a0d9464be132a302f66",
       "version_major": 2,
       "version_minor": 0
      },
      "text/plain": [
       "  0%|          | 0/35 [00:00<?, ?it/s]"
      ]
     },
     "metadata": {},
     "output_type": "display_data"
    },
    {
     "name": "stdout",
     "output_type": "stream",
     "text": [
      "test_Acc:\u001b[1;32m95.531%\u001b[0m\n",
      "Best_eval:\u001b[1;32m[96.256%]\u001b[0m\n",
      "\u001b[35mHAM10000 ==> test ...\u001b[0m\n"
     ]
    },
    {
     "data": {
      "application/vnd.jupyter.widget-view+json": {
       "model_id": "09f393620dc4433cb2566232b7484811",
       "version_major": 2,
       "version_minor": 0
      },
      "text/plain": [
       "  0%|          | 0/35 [00:00<?, ?it/s]"
      ]
     },
     "metadata": {},
     "output_type": "display_data"
    },
    {
     "name": "stdout",
     "output_type": "stream",
     "text": [
      "test_Acc:\u001b[1;32m95.894%\u001b[0m\n",
      "Best_eval:\u001b[1;32m[96.256%]\u001b[0m\n",
      "\u001b[35mHAM10000 ==> test ...\u001b[0m\n"
     ]
    },
    {
     "data": {
      "application/vnd.jupyter.widget-view+json": {
       "model_id": "4c0dca673e0c40b9bfe8aecf91518280",
       "version_major": 2,
       "version_minor": 0
      },
      "text/plain": [
       "  0%|          | 0/35 [00:00<?, ?it/s]"
      ]
     },
     "metadata": {},
     "output_type": "display_data"
    },
    {
     "name": "stdout",
     "output_type": "stream",
     "text": [
      "test_Acc:\u001b[1;32m95.652%\u001b[0m\n",
      "Best_eval:\u001b[1;32m[96.256%]\u001b[0m\n",
      "\u001b[35mHAM10000 ==> test ...\u001b[0m\n"
     ]
    },
    {
     "data": {
      "application/vnd.jupyter.widget-view+json": {
       "model_id": "be38d58d9ce547fca78d24a9e0573bad",
       "version_major": 2,
       "version_minor": 0
      },
      "text/plain": [
       "  0%|          | 0/35 [00:00<?, ?it/s]"
      ]
     },
     "metadata": {},
     "output_type": "display_data"
    },
    {
     "name": "stdout",
     "output_type": "stream",
     "text": [
      "test_Acc:\u001b[1;32m95.652%\u001b[0m\n",
      "Best_eval:\u001b[1;32m[96.256%]\u001b[0m\n",
      "\u001b[35mHAM10000 ==> test ...\u001b[0m\n"
     ]
    },
    {
     "data": {
      "application/vnd.jupyter.widget-view+json": {
       "model_id": "d09b99371314411d86e644ca38b74942",
       "version_major": 2,
       "version_minor": 0
      },
      "text/plain": [
       "  0%|          | 0/35 [00:00<?, ?it/s]"
      ]
     },
     "metadata": {},
     "output_type": "display_data"
    },
    {
     "name": "stdout",
     "output_type": "stream",
     "text": [
      "test_Acc:\u001b[1;32m95.169%\u001b[0m\n",
      "Best_eval:\u001b[1;32m[96.256%]\u001b[0m\n",
      "Using 7 classes.\n",
      "using 51646 images for training, 1006 images for validation, 828 images for testing.\n",
      "size:322\n",
      "\u001b[35mHAM10000 ==> test ...\u001b[0m\n"
     ]
    },
    {
     "data": {
      "application/vnd.jupyter.widget-view+json": {
       "model_id": "0e616a37073e4016ab1bab22af9a3b94",
       "version_major": 2,
       "version_minor": 0
      },
      "text/plain": [
       "  0%|          | 0/35 [00:00<?, ?it/s]"
      ]
     },
     "metadata": {},
     "output_type": "display_data"
    },
    {
     "name": "stdout",
     "output_type": "stream",
     "text": [
      "test_Acc:\u001b[1;32m95.773%\u001b[0m\n",
      "Best_eval:\u001b[1;32m[96.256%]\u001b[0m\n",
      "\u001b[35mHAM10000 ==> test ...\u001b[0m\n"
     ]
    },
    {
     "data": {
      "application/vnd.jupyter.widget-view+json": {
       "model_id": "211d73f9022f4091b5faaa4afad35d4e",
       "version_major": 2,
       "version_minor": 0
      },
      "text/plain": [
       "  0%|          | 0/35 [00:00<?, ?it/s]"
      ]
     },
     "metadata": {},
     "output_type": "display_data"
    },
    {
     "name": "stdout",
     "output_type": "stream",
     "text": [
      "test_Acc:\u001b[1;32m95.169%\u001b[0m\n",
      "Best_eval:\u001b[1;32m[96.256%]\u001b[0m\n",
      "\u001b[35mHAM10000 ==> test ...\u001b[0m\n"
     ]
    },
    {
     "data": {
      "application/vnd.jupyter.widget-view+json": {
       "model_id": "118b59ab9c8a48a8a19e73598db2abbe",
       "version_major": 2,
       "version_minor": 0
      },
      "text/plain": [
       "  0%|          | 0/35 [00:00<?, ?it/s]"
      ]
     },
     "metadata": {},
     "output_type": "display_data"
    },
    {
     "name": "stdout",
     "output_type": "stream",
     "text": [
      "test_Acc:\u001b[1;32m94.928%\u001b[0m\n",
      "Best_eval:\u001b[1;32m[96.256%]\u001b[0m\n",
      "\u001b[35mHAM10000 ==> test ...\u001b[0m\n"
     ]
    },
    {
     "data": {
      "application/vnd.jupyter.widget-view+json": {
       "model_id": "91b0e26201054b7594fb06e06fdaac4c",
       "version_major": 2,
       "version_minor": 0
      },
      "text/plain": [
       "  0%|          | 0/35 [00:00<?, ?it/s]"
      ]
     },
     "metadata": {},
     "output_type": "display_data"
    },
    {
     "name": "stdout",
     "output_type": "stream",
     "text": [
      "test_Acc:\u001b[1;32m95.29%\u001b[0m\n",
      "Best_eval:\u001b[1;32m[96.256%]\u001b[0m\n",
      "\u001b[35mHAM10000 ==> test ...\u001b[0m\n"
     ]
    },
    {
     "data": {
      "application/vnd.jupyter.widget-view+json": {
       "model_id": "c8ba0dfcae374b28b18cecbc9b422cee",
       "version_major": 2,
       "version_minor": 0
      },
      "text/plain": [
       "  0%|          | 0/35 [00:00<?, ?it/s]"
      ]
     },
     "metadata": {},
     "output_type": "display_data"
    },
    {
     "name": "stdout",
     "output_type": "stream",
     "text": [
      "test_Acc:\u001b[1;32m95.411%\u001b[0m\n",
      "Best_eval:\u001b[1;32m[96.256%]\u001b[0m\n",
      "\u001b[35mHAM10000 ==> test ...\u001b[0m\n"
     ]
    },
    {
     "data": {
      "application/vnd.jupyter.widget-view+json": {
       "model_id": "135b4fb248bd435b8701244246969e6e",
       "version_major": 2,
       "version_minor": 0
      },
      "text/plain": [
       "  0%|          | 0/35 [00:00<?, ?it/s]"
      ]
     },
     "metadata": {},
     "output_type": "display_data"
    },
    {
     "name": "stdout",
     "output_type": "stream",
     "text": [
      "test_Acc:\u001b[1;32m95.894%\u001b[0m\n",
      "Best_eval:\u001b[1;32m[96.256%]\u001b[0m\n",
      "\u001b[35mHAM10000 ==> test ...\u001b[0m\n"
     ]
    },
    {
     "data": {
      "application/vnd.jupyter.widget-view+json": {
       "model_id": "9b0ea7fb1773496e920f22b96eb2830b",
       "version_major": 2,
       "version_minor": 0
      },
      "text/plain": [
       "  0%|          | 0/35 [00:00<?, ?it/s]"
      ]
     },
     "metadata": {},
     "output_type": "display_data"
    },
    {
     "name": "stdout",
     "output_type": "stream",
     "text": [
      "test_Acc:\u001b[1;32m95.048%\u001b[0m\n",
      "Best_eval:\u001b[1;32m[96.256%]\u001b[0m\n",
      "\u001b[35mHAM10000 ==> test ...\u001b[0m\n"
     ]
    },
    {
     "data": {
      "application/vnd.jupyter.widget-view+json": {
       "model_id": "579ea064c76c4383b1bc6d9eabf35da5",
       "version_major": 2,
       "version_minor": 0
      },
      "text/plain": [
       "  0%|          | 0/35 [00:00<?, ?it/s]"
      ]
     },
     "metadata": {},
     "output_type": "display_data"
    },
    {
     "name": "stdout",
     "output_type": "stream",
     "text": [
      "test_Acc:\u001b[1;32m95.652%\u001b[0m\n",
      "Best_eval:\u001b[1;32m[96.256%]\u001b[0m\n",
      "\u001b[35mHAM10000 ==> test ...\u001b[0m\n"
     ]
    },
    {
     "data": {
      "application/vnd.jupyter.widget-view+json": {
       "model_id": "86c9a983cdce468390b5858b8fcdb227",
       "version_major": 2,
       "version_minor": 0
      },
      "text/plain": [
       "  0%|          | 0/35 [00:00<?, ?it/s]"
      ]
     },
     "metadata": {},
     "output_type": "display_data"
    },
    {
     "name": "stdout",
     "output_type": "stream",
     "text": [
      "test_Acc:\u001b[1;32m95.411%\u001b[0m\n",
      "Best_eval:\u001b[1;32m[96.256%]\u001b[0m\n",
      "Using 7 classes.\n",
      "using 51646 images for training, 1006 images for validation, 828 images for testing.\n",
      "size:323\n",
      "\u001b[35mHAM10000 ==> test ...\u001b[0m\n"
     ]
    },
    {
     "data": {
      "application/vnd.jupyter.widget-view+json": {
       "model_id": "beebe3bd1f47462185b2052d29ddc3dc",
       "version_major": 2,
       "version_minor": 0
      },
      "text/plain": [
       "  0%|          | 0/35 [00:00<?, ?it/s]"
      ]
     },
     "metadata": {},
     "output_type": "display_data"
    },
    {
     "name": "stdout",
     "output_type": "stream",
     "text": [
      "test_Acc:\u001b[1;32m95.169%\u001b[0m\n",
      "Best_eval:\u001b[1;32m[96.256%]\u001b[0m\n",
      "\u001b[35mHAM10000 ==> test ...\u001b[0m\n"
     ]
    },
    {
     "data": {
      "application/vnd.jupyter.widget-view+json": {
       "model_id": "a56559212f10443ea3faac81202b3ec2",
       "version_major": 2,
       "version_minor": 0
      },
      "text/plain": [
       "  0%|          | 0/35 [00:00<?, ?it/s]"
      ]
     },
     "metadata": {},
     "output_type": "display_data"
    },
    {
     "name": "stdout",
     "output_type": "stream",
     "text": [
      "test_Acc:\u001b[1;32m94.928%\u001b[0m\n",
      "Best_eval:\u001b[1;32m[96.256%]\u001b[0m\n",
      "\u001b[35mHAM10000 ==> test ...\u001b[0m\n"
     ]
    },
    {
     "data": {
      "application/vnd.jupyter.widget-view+json": {
       "model_id": "50307ce3d299470780161f64a2e47678",
       "version_major": 2,
       "version_minor": 0
      },
      "text/plain": [
       "  0%|          | 0/35 [00:00<?, ?it/s]"
      ]
     },
     "metadata": {},
     "output_type": "display_data"
    },
    {
     "name": "stdout",
     "output_type": "stream",
     "text": [
      "test_Acc:\u001b[1;32m95.652%\u001b[0m\n",
      "Best_eval:\u001b[1;32m[96.256%]\u001b[0m\n",
      "\u001b[35mHAM10000 ==> test ...\u001b[0m\n"
     ]
    },
    {
     "data": {
      "application/vnd.jupyter.widget-view+json": {
       "model_id": "5be2f6e00251485c9bd4ba09df8806e8",
       "version_major": 2,
       "version_minor": 0
      },
      "text/plain": [
       "  0%|          | 0/35 [00:00<?, ?it/s]"
      ]
     },
     "metadata": {},
     "output_type": "display_data"
    },
    {
     "name": "stdout",
     "output_type": "stream",
     "text": [
      "test_Acc:\u001b[1;32m95.652%\u001b[0m\n",
      "Best_eval:\u001b[1;32m[96.256%]\u001b[0m\n",
      "\u001b[35mHAM10000 ==> test ...\u001b[0m\n"
     ]
    },
    {
     "data": {
      "application/vnd.jupyter.widget-view+json": {
       "model_id": "92e536c9fb2c428a874423148736e73b",
       "version_major": 2,
       "version_minor": 0
      },
      "text/plain": [
       "  0%|          | 0/35 [00:00<?, ?it/s]"
      ]
     },
     "metadata": {},
     "output_type": "display_data"
    },
    {
     "name": "stdout",
     "output_type": "stream",
     "text": [
      "test_Acc:\u001b[1;32m94.807%\u001b[0m\n",
      "Best_eval:\u001b[1;32m[96.256%]\u001b[0m\n",
      "\u001b[35mHAM10000 ==> test ...\u001b[0m\n"
     ]
    },
    {
     "data": {
      "application/vnd.jupyter.widget-view+json": {
       "model_id": "f7318988545449ae991450f30bffcadd",
       "version_major": 2,
       "version_minor": 0
      },
      "text/plain": [
       "  0%|          | 0/35 [00:00<?, ?it/s]"
      ]
     },
     "metadata": {},
     "output_type": "display_data"
    },
    {
     "name": "stdout",
     "output_type": "stream",
     "text": [
      "test_Acc:\u001b[1;32m95.411%\u001b[0m\n",
      "Best_eval:\u001b[1;32m[96.256%]\u001b[0m\n",
      "\u001b[35mHAM10000 ==> test ...\u001b[0m\n"
     ]
    },
    {
     "data": {
      "application/vnd.jupyter.widget-view+json": {
       "model_id": "6867a5bf31ac4ad9b0cee48a30c09ab6",
       "version_major": 2,
       "version_minor": 0
      },
      "text/plain": [
       "  0%|          | 0/35 [00:00<?, ?it/s]"
      ]
     },
     "metadata": {},
     "output_type": "display_data"
    },
    {
     "name": "stdout",
     "output_type": "stream",
     "text": [
      "test_Acc:\u001b[1;32m94.928%\u001b[0m\n",
      "Best_eval:\u001b[1;32m[96.256%]\u001b[0m\n",
      "\u001b[35mHAM10000 ==> test ...\u001b[0m\n"
     ]
    },
    {
     "data": {
      "application/vnd.jupyter.widget-view+json": {
       "model_id": "5a61db136b82434ea1ef05cfac8a191f",
       "version_major": 2,
       "version_minor": 0
      },
      "text/plain": [
       "  0%|          | 0/35 [00:00<?, ?it/s]"
      ]
     },
     "metadata": {},
     "output_type": "display_data"
    },
    {
     "name": "stdout",
     "output_type": "stream",
     "text": [
      "test_Acc:\u001b[1;32m95.531%\u001b[0m\n",
      "Best_eval:\u001b[1;32m[96.256%]\u001b[0m\n",
      "\u001b[35mHAM10000 ==> test ...\u001b[0m\n"
     ]
    },
    {
     "data": {
      "application/vnd.jupyter.widget-view+json": {
       "model_id": "e6d2c3c5340544289d9295218aa40e09",
       "version_major": 2,
       "version_minor": 0
      },
      "text/plain": [
       "  0%|          | 0/35 [00:00<?, ?it/s]"
      ]
     },
     "metadata": {},
     "output_type": "display_data"
    },
    {
     "name": "stdout",
     "output_type": "stream",
     "text": [
      "test_Acc:\u001b[1;32m95.894%\u001b[0m\n",
      "Best_eval:\u001b[1;32m[96.256%]\u001b[0m\n",
      "Using 7 classes.\n",
      "using 51646 images for training, 1006 images for validation, 828 images for testing.\n",
      "size:324\n",
      "\u001b[35mHAM10000 ==> test ...\u001b[0m\n"
     ]
    },
    {
     "data": {
      "application/vnd.jupyter.widget-view+json": {
       "model_id": "cfde6807ec4447a6adf1b015a9e4fceb",
       "version_major": 2,
       "version_minor": 0
      },
      "text/plain": [
       "  0%|          | 0/35 [00:00<?, ?it/s]"
      ]
     },
     "metadata": {},
     "output_type": "display_data"
    },
    {
     "name": "stdout",
     "output_type": "stream",
     "text": [
      "test_Acc:\u001b[1;32m95.29%\u001b[0m\n",
      "Best_eval:\u001b[1;32m[96.256%]\u001b[0m\n",
      "\u001b[35mHAM10000 ==> test ...\u001b[0m\n"
     ]
    },
    {
     "data": {
      "application/vnd.jupyter.widget-view+json": {
       "model_id": "ce12bdd3852646a1ae9e1a688554dcdb",
       "version_major": 2,
       "version_minor": 0
      },
      "text/plain": [
       "  0%|          | 0/35 [00:00<?, ?it/s]"
      ]
     },
     "metadata": {},
     "output_type": "display_data"
    },
    {
     "name": "stdout",
     "output_type": "stream",
     "text": [
      "test_Acc:\u001b[1;32m95.29%\u001b[0m\n",
      "Best_eval:\u001b[1;32m[96.256%]\u001b[0m\n",
      "\u001b[35mHAM10000 ==> test ...\u001b[0m\n"
     ]
    },
    {
     "data": {
      "application/vnd.jupyter.widget-view+json": {
       "model_id": "065f633a8dab4a8d82ce484660efb1f4",
       "version_major": 2,
       "version_minor": 0
      },
      "text/plain": [
       "  0%|          | 0/35 [00:00<?, ?it/s]"
      ]
     },
     "metadata": {},
     "output_type": "display_data"
    },
    {
     "name": "stdout",
     "output_type": "stream",
     "text": [
      "test_Acc:\u001b[1;32m95.048%\u001b[0m\n",
      "Best_eval:\u001b[1;32m[96.256%]\u001b[0m\n",
      "\u001b[35mHAM10000 ==> test ...\u001b[0m\n"
     ]
    },
    {
     "data": {
      "application/vnd.jupyter.widget-view+json": {
       "model_id": "1b0c12bf15154931ab58cb8234c44225",
       "version_major": 2,
       "version_minor": 0
      },
      "text/plain": [
       "  0%|          | 0/35 [00:00<?, ?it/s]"
      ]
     },
     "metadata": {},
     "output_type": "display_data"
    },
    {
     "name": "stdout",
     "output_type": "stream",
     "text": [
      "test_Acc:\u001b[1;32m94.928%\u001b[0m\n",
      "Best_eval:\u001b[1;32m[96.256%]\u001b[0m\n",
      "\u001b[35mHAM10000 ==> test ...\u001b[0m\n"
     ]
    },
    {
     "data": {
      "application/vnd.jupyter.widget-view+json": {
       "model_id": "9779f2889b9d47d1b844c7309daf300e",
       "version_major": 2,
       "version_minor": 0
      },
      "text/plain": [
       "  0%|          | 0/35 [00:00<?, ?it/s]"
      ]
     },
     "metadata": {},
     "output_type": "display_data"
    },
    {
     "name": "stdout",
     "output_type": "stream",
     "text": [
      "test_Acc:\u001b[1;32m95.531%\u001b[0m\n",
      "Best_eval:\u001b[1;32m[96.256%]\u001b[0m\n",
      "\u001b[35mHAM10000 ==> test ...\u001b[0m\n"
     ]
    },
    {
     "data": {
      "application/vnd.jupyter.widget-view+json": {
       "model_id": "855f102a18644c139112b3481498038d",
       "version_major": 2,
       "version_minor": 0
      },
      "text/plain": [
       "  0%|          | 0/35 [00:00<?, ?it/s]"
      ]
     },
     "metadata": {},
     "output_type": "display_data"
    },
    {
     "name": "stdout",
     "output_type": "stream",
     "text": [
      "test_Acc:\u001b[1;32m95.048%\u001b[0m\n",
      "Best_eval:\u001b[1;32m[96.256%]\u001b[0m\n",
      "\u001b[35mHAM10000 ==> test ...\u001b[0m\n"
     ]
    },
    {
     "data": {
      "application/vnd.jupyter.widget-view+json": {
       "model_id": "190f4dba708a44b1935638890bd26937",
       "version_major": 2,
       "version_minor": 0
      },
      "text/plain": [
       "  0%|          | 0/35 [00:00<?, ?it/s]"
      ]
     },
     "metadata": {},
     "output_type": "display_data"
    },
    {
     "name": "stdout",
     "output_type": "stream",
     "text": [
      "test_Acc:\u001b[1;32m95.048%\u001b[0m\n",
      "Best_eval:\u001b[1;32m[96.256%]\u001b[0m\n",
      "\u001b[35mHAM10000 ==> test ...\u001b[0m\n"
     ]
    },
    {
     "data": {
      "application/vnd.jupyter.widget-view+json": {
       "model_id": "a76413befd804f89b2e93efec465a5e0",
       "version_major": 2,
       "version_minor": 0
      },
      "text/plain": [
       "  0%|          | 0/35 [00:00<?, ?it/s]"
      ]
     },
     "metadata": {},
     "output_type": "display_data"
    },
    {
     "name": "stdout",
     "output_type": "stream",
     "text": [
      "test_Acc:\u001b[1;32m95.169%\u001b[0m\n",
      "Best_eval:\u001b[1;32m[96.256%]\u001b[0m\n",
      "\u001b[35mHAM10000 ==> test ...\u001b[0m\n"
     ]
    },
    {
     "data": {
      "application/vnd.jupyter.widget-view+json": {
       "model_id": "b8a181b383064a8d81735b43bfca9779",
       "version_major": 2,
       "version_minor": 0
      },
      "text/plain": [
       "  0%|          | 0/35 [00:00<?, ?it/s]"
      ]
     },
     "metadata": {},
     "output_type": "display_data"
    },
    {
     "name": "stdout",
     "output_type": "stream",
     "text": [
      "test_Acc:\u001b[1;32m95.048%\u001b[0m\n",
      "Best_eval:\u001b[1;32m[96.256%]\u001b[0m\n",
      "Using 7 classes.\n",
      "using 51646 images for training, 1006 images for validation, 828 images for testing.\n",
      "size:310\n",
      "\u001b[35mHAM10000 ==> test ...\u001b[0m\n"
     ]
    },
    {
     "data": {
      "application/vnd.jupyter.widget-view+json": {
       "model_id": "fcc74bee74cc4fc2b4de4022977e628d",
       "version_major": 2,
       "version_minor": 0
      },
      "text/plain": [
       "  0%|          | 0/34 [00:00<?, ?it/s]"
      ]
     },
     "metadata": {},
     "output_type": "display_data"
    },
    {
     "name": "stdout",
     "output_type": "stream",
     "text": [
      "test_Acc:\u001b[1;32m93.599%\u001b[0m\n",
      "Best_eval:\u001b[1;32m[96.256%]\u001b[0m\n",
      "\u001b[35mHAM10000 ==> test ...\u001b[0m\n"
     ]
    },
    {
     "data": {
      "application/vnd.jupyter.widget-view+json": {
       "model_id": "b6766f13de5447d98b556acc8c08acdf",
       "version_major": 2,
       "version_minor": 0
      },
      "text/plain": [
       "  0%|          | 0/34 [00:00<?, ?it/s]"
      ]
     },
     "metadata": {},
     "output_type": "display_data"
    },
    {
     "name": "stdout",
     "output_type": "stream",
     "text": [
      "test_Acc:\u001b[1;32m93.961%\u001b[0m\n",
      "Best_eval:\u001b[1;32m[96.256%]\u001b[0m\n",
      "\u001b[35mHAM10000 ==> test ...\u001b[0m\n"
     ]
    },
    {
     "data": {
      "application/vnd.jupyter.widget-view+json": {
       "model_id": "ea3f9c2b6c8a44eb8b36de811119c1a1",
       "version_major": 2,
       "version_minor": 0
      },
      "text/plain": [
       "  0%|          | 0/34 [00:00<?, ?it/s]"
      ]
     },
     "metadata": {},
     "output_type": "display_data"
    },
    {
     "name": "stdout",
     "output_type": "stream",
     "text": [
      "test_Acc:\u001b[1;32m93.72%\u001b[0m\n",
      "Best_eval:\u001b[1;32m[96.256%]\u001b[0m\n",
      "\u001b[35mHAM10000 ==> test ...\u001b[0m\n"
     ]
    },
    {
     "data": {
      "application/vnd.jupyter.widget-view+json": {
       "model_id": "1ccd07d8304d41efa50c8712a01bd30e",
       "version_major": 2,
       "version_minor": 0
      },
      "text/plain": [
       "  0%|          | 0/34 [00:00<?, ?it/s]"
      ]
     },
     "metadata": {},
     "output_type": "display_data"
    },
    {
     "name": "stdout",
     "output_type": "stream",
     "text": [
      "test_Acc:\u001b[1;32m93.72%\u001b[0m\n",
      "Best_eval:\u001b[1;32m[96.256%]\u001b[0m\n",
      "\u001b[35mHAM10000 ==> test ...\u001b[0m\n"
     ]
    },
    {
     "data": {
      "application/vnd.jupyter.widget-view+json": {
       "model_id": "3eefdb1c56ed4836ab6aea0c1769f3b9",
       "version_major": 2,
       "version_minor": 0
      },
      "text/plain": [
       "  0%|          | 0/34 [00:00<?, ?it/s]"
      ]
     },
     "metadata": {},
     "output_type": "display_data"
    },
    {
     "name": "stdout",
     "output_type": "stream",
     "text": [
      "test_Acc:\u001b[1;32m94.324%\u001b[0m\n",
      "Best_eval:\u001b[1;32m[96.256%]\u001b[0m\n",
      "\u001b[35mHAM10000 ==> test ...\u001b[0m\n"
     ]
    },
    {
     "data": {
      "application/vnd.jupyter.widget-view+json": {
       "model_id": "1ad6f0198f804426b8c6e38c758e7780",
       "version_major": 2,
       "version_minor": 0
      },
      "text/plain": [
       "  0%|          | 0/34 [00:00<?, ?it/s]"
      ]
     },
     "metadata": {},
     "output_type": "display_data"
    },
    {
     "name": "stdout",
     "output_type": "stream",
     "text": [
      "test_Acc:\u001b[1;32m93.841%\u001b[0m\n",
      "Best_eval:\u001b[1;32m[96.256%]\u001b[0m\n",
      "\u001b[35mHAM10000 ==> test ...\u001b[0m\n"
     ]
    },
    {
     "data": {
      "application/vnd.jupyter.widget-view+json": {
       "model_id": "94fab898cdea42a099064bc7b79040a7",
       "version_major": 2,
       "version_minor": 0
      },
      "text/plain": [
       "  0%|          | 0/34 [00:00<?, ?it/s]"
      ]
     },
     "metadata": {},
     "output_type": "display_data"
    },
    {
     "name": "stdout",
     "output_type": "stream",
     "text": [
      "test_Acc:\u001b[1;32m94.203%\u001b[0m\n",
      "Best_eval:\u001b[1;32m[96.256%]\u001b[0m\n",
      "\u001b[35mHAM10000 ==> test ...\u001b[0m\n"
     ]
    },
    {
     "data": {
      "application/vnd.jupyter.widget-view+json": {
       "model_id": "27ea5d8cabd842509c440618601b257c",
       "version_major": 2,
       "version_minor": 0
      },
      "text/plain": [
       "  0%|          | 0/34 [00:00<?, ?it/s]"
      ]
     },
     "metadata": {},
     "output_type": "display_data"
    },
    {
     "name": "stdout",
     "output_type": "stream",
     "text": [
      "test_Acc:\u001b[1;32m94.082%\u001b[0m\n",
      "Best_eval:\u001b[1;32m[96.256%]\u001b[0m\n",
      "\u001b[35mHAM10000 ==> test ...\u001b[0m\n"
     ]
    },
    {
     "data": {
      "application/vnd.jupyter.widget-view+json": {
       "model_id": "85f7d49d416849ee8e72c4632cdf9477",
       "version_major": 2,
       "version_minor": 0
      },
      "text/plain": [
       "  0%|          | 0/34 [00:00<?, ?it/s]"
      ]
     },
     "metadata": {},
     "output_type": "display_data"
    },
    {
     "name": "stdout",
     "output_type": "stream",
     "text": [
      "test_Acc:\u001b[1;32m93.841%\u001b[0m\n",
      "Best_eval:\u001b[1;32m[96.256%]\u001b[0m\n",
      "Using 7 classes.\n",
      "using 51646 images for training, 1006 images for validation, 828 images for testing.\n",
      "size:311\n",
      "\u001b[35mHAM10000 ==> test ...\u001b[0m\n"
     ]
    },
    {
     "data": {
      "application/vnd.jupyter.widget-view+json": {
       "model_id": "c4f6b3cbcf7340dd884ab59da53f0cfe",
       "version_major": 2,
       "version_minor": 0
      },
      "text/plain": [
       "  0%|          | 0/34 [00:00<?, ?it/s]"
      ]
     },
     "metadata": {},
     "output_type": "display_data"
    },
    {
     "name": "stdout",
     "output_type": "stream",
     "text": [
      "test_Acc:\u001b[1;32m93.961%\u001b[0m\n",
      "Best_eval:\u001b[1;32m[96.256%]\u001b[0m\n",
      "\u001b[35mHAM10000 ==> test ...\u001b[0m\n"
     ]
    },
    {
     "data": {
      "application/vnd.jupyter.widget-view+json": {
       "model_id": "6d44c4a22c354be3ae092496deed87cc",
       "version_major": 2,
       "version_minor": 0
      },
      "text/plain": [
       "  0%|          | 0/34 [00:00<?, ?it/s]"
      ]
     },
     "metadata": {},
     "output_type": "display_data"
    },
    {
     "name": "stdout",
     "output_type": "stream",
     "text": [
      "test_Acc:\u001b[1;32m93.116%\u001b[0m\n",
      "Best_eval:\u001b[1;32m[96.256%]\u001b[0m\n",
      "\u001b[35mHAM10000 ==> test ...\u001b[0m\n"
     ]
    },
    {
     "data": {
      "application/vnd.jupyter.widget-view+json": {
       "model_id": "2d4fbf8fc6504e50bb09ccc58016ff23",
       "version_major": 2,
       "version_minor": 0
      },
      "text/plain": [
       "  0%|          | 0/34 [00:00<?, ?it/s]"
      ]
     },
     "metadata": {},
     "output_type": "display_data"
    },
    {
     "name": "stdout",
     "output_type": "stream",
     "text": [
      "test_Acc:\u001b[1;32m93.357%\u001b[0m\n",
      "Best_eval:\u001b[1;32m[96.256%]\u001b[0m\n",
      "\u001b[35mHAM10000 ==> test ...\u001b[0m\n"
     ]
    },
    {
     "data": {
      "application/vnd.jupyter.widget-view+json": {
       "model_id": "ad662829e9324f8396550c1afa177e14",
       "version_major": 2,
       "version_minor": 0
      },
      "text/plain": [
       "  0%|          | 0/34 [00:00<?, ?it/s]"
      ]
     },
     "metadata": {},
     "output_type": "display_data"
    },
    {
     "name": "stdout",
     "output_type": "stream",
     "text": [
      "test_Acc:\u001b[1;32m93.599%\u001b[0m\n",
      "Best_eval:\u001b[1;32m[96.256%]\u001b[0m\n",
      "\u001b[35mHAM10000 ==> test ...\u001b[0m\n"
     ]
    },
    {
     "data": {
      "application/vnd.jupyter.widget-view+json": {
       "model_id": "7e9b8433f36b422d9fa9445d24d52b13",
       "version_major": 2,
       "version_minor": 0
      },
      "text/plain": [
       "  0%|          | 0/34 [00:00<?, ?it/s]"
      ]
     },
     "metadata": {},
     "output_type": "display_data"
    },
    {
     "name": "stdout",
     "output_type": "stream",
     "text": [
      "test_Acc:\u001b[1;32m93.599%\u001b[0m\n",
      "Best_eval:\u001b[1;32m[96.256%]\u001b[0m\n",
      "\u001b[35mHAM10000 ==> test ...\u001b[0m\n"
     ]
    },
    {
     "data": {
      "application/vnd.jupyter.widget-view+json": {
       "model_id": "44bd896b405b4f5ba21f0d57735c12db",
       "version_major": 2,
       "version_minor": 0
      },
      "text/plain": [
       "  0%|          | 0/34 [00:00<?, ?it/s]"
      ]
     },
     "metadata": {},
     "output_type": "display_data"
    },
    {
     "name": "stdout",
     "output_type": "stream",
     "text": [
      "test_Acc:\u001b[1;32m93.72%\u001b[0m\n",
      "Best_eval:\u001b[1;32m[96.256%]\u001b[0m\n",
      "\u001b[35mHAM10000 ==> test ...\u001b[0m\n"
     ]
    },
    {
     "data": {
      "application/vnd.jupyter.widget-view+json": {
       "model_id": "f8b05f26741e473183fa00473abd6038",
       "version_major": 2,
       "version_minor": 0
      },
      "text/plain": [
       "  0%|          | 0/34 [00:00<?, ?it/s]"
      ]
     },
     "metadata": {},
     "output_type": "display_data"
    },
    {
     "name": "stdout",
     "output_type": "stream",
     "text": [
      "test_Acc:\u001b[1;32m93.478%\u001b[0m\n",
      "Best_eval:\u001b[1;32m[96.256%]\u001b[0m\n",
      "\u001b[35mHAM10000 ==> test ...\u001b[0m\n"
     ]
    },
    {
     "data": {
      "application/vnd.jupyter.widget-view+json": {
       "model_id": "f2045fed397a441b9a220f3dea01ffc9",
       "version_major": 2,
       "version_minor": 0
      },
      "text/plain": [
       "  0%|          | 0/34 [00:00<?, ?it/s]"
      ]
     },
     "metadata": {},
     "output_type": "display_data"
    },
    {
     "name": "stdout",
     "output_type": "stream",
     "text": [
      "test_Acc:\u001b[1;32m93.72%\u001b[0m\n",
      "Best_eval:\u001b[1;32m[96.256%]\u001b[0m\n",
      "\u001b[35mHAM10000 ==> test ...\u001b[0m\n"
     ]
    },
    {
     "data": {
      "application/vnd.jupyter.widget-view+json": {
       "model_id": "07991bd2e00447f6a8a392c312a5ac83",
       "version_major": 2,
       "version_minor": 0
      },
      "text/plain": [
       "  0%|          | 0/34 [00:00<?, ?it/s]"
      ]
     },
     "metadata": {},
     "output_type": "display_data"
    },
    {
     "name": "stdout",
     "output_type": "stream",
     "text": [
      "test_Acc:\u001b[1;32m93.72%\u001b[0m\n",
      "Best_eval:\u001b[1;32m[96.256%]\u001b[0m\n",
      "Using 7 classes.\n",
      "using 51646 images for training, 1006 images for validation, 828 images for testing.\n",
      "size:312\n",
      "\u001b[35mHAM10000 ==> test ...\u001b[0m\n"
     ]
    },
    {
     "data": {
      "application/vnd.jupyter.widget-view+json": {
       "model_id": "a01ef462dbc841dfaafe3d4ba76b09b0",
       "version_major": 2,
       "version_minor": 0
      },
      "text/plain": [
       "  0%|          | 0/34 [00:00<?, ?it/s]"
      ]
     },
     "metadata": {},
     "output_type": "display_data"
    },
    {
     "name": "stdout",
     "output_type": "stream",
     "text": [
      "test_Acc:\u001b[1;32m93.116%\u001b[0m\n",
      "Best_eval:\u001b[1;32m[96.256%]\u001b[0m\n",
      "\u001b[35mHAM10000 ==> test ...\u001b[0m\n"
     ]
    },
    {
     "data": {
      "application/vnd.jupyter.widget-view+json": {
       "model_id": "c47fb3e70c6b4222acc3c9b1cbe62850",
       "version_major": 2,
       "version_minor": 0
      },
      "text/plain": [
       "  0%|          | 0/34 [00:00<?, ?it/s]"
      ]
     },
     "metadata": {},
     "output_type": "display_data"
    },
    {
     "name": "stdout",
     "output_type": "stream",
     "text": [
      "test_Acc:\u001b[1;32m94.565%\u001b[0m\n",
      "Best_eval:\u001b[1;32m[96.256%]\u001b[0m\n",
      "\u001b[35mHAM10000 ==> test ...\u001b[0m\n"
     ]
    },
    {
     "data": {
      "application/vnd.jupyter.widget-view+json": {
       "model_id": "16b56a4d60dc41e8afd25826aca2df69",
       "version_major": 2,
       "version_minor": 0
      },
      "text/plain": [
       "  0%|          | 0/34 [00:00<?, ?it/s]"
      ]
     },
     "metadata": {},
     "output_type": "display_data"
    },
    {
     "name": "stdout",
     "output_type": "stream",
     "text": [
      "test_Acc:\u001b[1;32m93.357%\u001b[0m\n",
      "Best_eval:\u001b[1;32m[96.256%]\u001b[0m\n",
      "\u001b[35mHAM10000 ==> test ...\u001b[0m\n"
     ]
    },
    {
     "data": {
      "application/vnd.jupyter.widget-view+json": {
       "model_id": "c02734caa4514699adb5725439ff0009",
       "version_major": 2,
       "version_minor": 0
      },
      "text/plain": [
       "  0%|          | 0/34 [00:00<?, ?it/s]"
      ]
     },
     "metadata": {},
     "output_type": "display_data"
    },
    {
     "name": "stdout",
     "output_type": "stream",
     "text": [
      "test_Acc:\u001b[1;32m93.478%\u001b[0m\n",
      "Best_eval:\u001b[1;32m[96.256%]\u001b[0m\n",
      "\u001b[35mHAM10000 ==> test ...\u001b[0m\n"
     ]
    },
    {
     "data": {
      "application/vnd.jupyter.widget-view+json": {
       "model_id": "1d12908f69d44eda80c49f00c27abd37",
       "version_major": 2,
       "version_minor": 0
      },
      "text/plain": [
       "  0%|          | 0/34 [00:00<?, ?it/s]"
      ]
     },
     "metadata": {},
     "output_type": "display_data"
    },
    {
     "name": "stdout",
     "output_type": "stream",
     "text": [
      "test_Acc:\u001b[1;32m93.961%\u001b[0m\n",
      "Best_eval:\u001b[1;32m[96.256%]\u001b[0m\n",
      "\u001b[35mHAM10000 ==> test ...\u001b[0m\n"
     ]
    },
    {
     "data": {
      "application/vnd.jupyter.widget-view+json": {
       "model_id": "ba86a91d11a14c53a09a1977bba583c1",
       "version_major": 2,
       "version_minor": 0
      },
      "text/plain": [
       "  0%|          | 0/34 [00:00<?, ?it/s]"
      ]
     },
     "metadata": {},
     "output_type": "display_data"
    },
    {
     "name": "stdout",
     "output_type": "stream",
     "text": [
      "test_Acc:\u001b[1;32m93.72%\u001b[0m\n",
      "Best_eval:\u001b[1;32m[96.256%]\u001b[0m\n",
      "\u001b[35mHAM10000 ==> test ...\u001b[0m\n"
     ]
    },
    {
     "data": {
      "application/vnd.jupyter.widget-view+json": {
       "model_id": "44211a9726354482ad456b188e624f3e",
       "version_major": 2,
       "version_minor": 0
      },
      "text/plain": [
       "  0%|          | 0/34 [00:00<?, ?it/s]"
      ]
     },
     "metadata": {},
     "output_type": "display_data"
    },
    {
     "name": "stdout",
     "output_type": "stream",
     "text": [
      "test_Acc:\u001b[1;32m93.599%\u001b[0m\n",
      "Best_eval:\u001b[1;32m[96.256%]\u001b[0m\n",
      "\u001b[35mHAM10000 ==> test ...\u001b[0m\n"
     ]
    },
    {
     "data": {
      "application/vnd.jupyter.widget-view+json": {
       "model_id": "1a6c97f225484da4aa295ee69bc39847",
       "version_major": 2,
       "version_minor": 0
      },
      "text/plain": [
       "  0%|          | 0/34 [00:00<?, ?it/s]"
      ]
     },
     "metadata": {},
     "output_type": "display_data"
    },
    {
     "name": "stdout",
     "output_type": "stream",
     "text": [
      "test_Acc:\u001b[1;32m93.357%\u001b[0m\n",
      "Best_eval:\u001b[1;32m[96.256%]\u001b[0m\n",
      "\u001b[35mHAM10000 ==> test ...\u001b[0m\n"
     ]
    },
    {
     "data": {
      "application/vnd.jupyter.widget-view+json": {
       "model_id": "132eecc2e8474dd2b76710874db560dc",
       "version_major": 2,
       "version_minor": 0
      },
      "text/plain": [
       "  0%|          | 0/34 [00:00<?, ?it/s]"
      ]
     },
     "metadata": {},
     "output_type": "display_data"
    },
    {
     "name": "stdout",
     "output_type": "stream",
     "text": [
      "test_Acc:\u001b[1;32m93.599%\u001b[0m\n",
      "Best_eval:\u001b[1;32m[96.256%]\u001b[0m\n",
      "Using 7 classes.\n",
      "using 51646 images for training, 1006 images for validation, 828 images for testing.\n",
      "size:313\n",
      "\u001b[35mHAM10000 ==> test ...\u001b[0m\n"
     ]
    },
    {
     "data": {
      "application/vnd.jupyter.widget-view+json": {
       "model_id": "84d3c9133045463a8ce554a1a493030a",
       "version_major": 2,
       "version_minor": 0
      },
      "text/plain": [
       "  0%|          | 0/34 [00:00<?, ?it/s]"
      ]
     },
     "metadata": {},
     "output_type": "display_data"
    },
    {
     "name": "stdout",
     "output_type": "stream",
     "text": [
      "test_Acc:\u001b[1;32m93.72%\u001b[0m\n",
      "Best_eval:\u001b[1;32m[96.256%]\u001b[0m\n",
      "\u001b[35mHAM10000 ==> test ...\u001b[0m\n"
     ]
    },
    {
     "data": {
      "application/vnd.jupyter.widget-view+json": {
       "model_id": "3611607056b6499a81469109dc5e02b8",
       "version_major": 2,
       "version_minor": 0
      },
      "text/plain": [
       "  0%|          | 0/34 [00:00<?, ?it/s]"
      ]
     },
     "metadata": {},
     "output_type": "display_data"
    },
    {
     "name": "stdout",
     "output_type": "stream",
     "text": [
      "test_Acc:\u001b[1;32m93.841%\u001b[0m\n",
      "Best_eval:\u001b[1;32m[96.256%]\u001b[0m\n",
      "\u001b[35mHAM10000 ==> test ...\u001b[0m\n"
     ]
    },
    {
     "data": {
      "application/vnd.jupyter.widget-view+json": {
       "model_id": "d868e705b70542e7993395cfa558c49e",
       "version_major": 2,
       "version_minor": 0
      },
      "text/plain": [
       "  0%|          | 0/34 [00:00<?, ?it/s]"
      ]
     },
     "metadata": {},
     "output_type": "display_data"
    },
    {
     "name": "stdout",
     "output_type": "stream",
     "text": [
      "test_Acc:\u001b[1;32m94.082%\u001b[0m\n",
      "Best_eval:\u001b[1;32m[96.256%]\u001b[0m\n",
      "\u001b[35mHAM10000 ==> test ...\u001b[0m\n"
     ]
    },
    {
     "data": {
      "application/vnd.jupyter.widget-view+json": {
       "model_id": "5a87a8ba31b948adb4b0e0351f12693a",
       "version_major": 2,
       "version_minor": 0
      },
      "text/plain": [
       "  0%|          | 0/34 [00:00<?, ?it/s]"
      ]
     },
     "metadata": {},
     "output_type": "display_data"
    },
    {
     "name": "stdout",
     "output_type": "stream",
     "text": [
      "test_Acc:\u001b[1;32m93.841%\u001b[0m\n",
      "Best_eval:\u001b[1;32m[96.256%]\u001b[0m\n",
      "\u001b[35mHAM10000 ==> test ...\u001b[0m\n"
     ]
    },
    {
     "data": {
      "application/vnd.jupyter.widget-view+json": {
       "model_id": "1019c6d03b7742cca814a922d7b1ab21",
       "version_major": 2,
       "version_minor": 0
      },
      "text/plain": [
       "  0%|          | 0/34 [00:00<?, ?it/s]"
      ]
     },
     "metadata": {},
     "output_type": "display_data"
    },
    {
     "name": "stdout",
     "output_type": "stream",
     "text": [
      "test_Acc:\u001b[1;32m94.203%\u001b[0m\n",
      "Best_eval:\u001b[1;32m[96.256%]\u001b[0m\n",
      "\u001b[35mHAM10000 ==> test ...\u001b[0m\n"
     ]
    },
    {
     "data": {
      "application/vnd.jupyter.widget-view+json": {
       "model_id": "176457bf64f34b6db1c541dc004b8c29",
       "version_major": 2,
       "version_minor": 0
      },
      "text/plain": [
       "  0%|          | 0/34 [00:00<?, ?it/s]"
      ]
     },
     "metadata": {},
     "output_type": "display_data"
    },
    {
     "name": "stdout",
     "output_type": "stream",
     "text": [
      "test_Acc:\u001b[1;32m93.72%\u001b[0m\n",
      "Best_eval:\u001b[1;32m[96.256%]\u001b[0m\n",
      "\u001b[35mHAM10000 ==> test ...\u001b[0m\n"
     ]
    },
    {
     "data": {
      "application/vnd.jupyter.widget-view+json": {
       "model_id": "277fe73aef894aeaa014e648810e47d8",
       "version_major": 2,
       "version_minor": 0
      },
      "text/plain": [
       "  0%|          | 0/34 [00:00<?, ?it/s]"
      ]
     },
     "metadata": {},
     "output_type": "display_data"
    },
    {
     "name": "stdout",
     "output_type": "stream",
     "text": [
      "test_Acc:\u001b[1;32m93.841%\u001b[0m\n",
      "Best_eval:\u001b[1;32m[96.256%]\u001b[0m\n",
      "\u001b[35mHAM10000 ==> test ...\u001b[0m\n"
     ]
    },
    {
     "data": {
      "application/vnd.jupyter.widget-view+json": {
       "model_id": "ec4fcabef2aa4dd2911a69231f292b20",
       "version_major": 2,
       "version_minor": 0
      },
      "text/plain": [
       "  0%|          | 0/34 [00:00<?, ?it/s]"
      ]
     },
     "metadata": {},
     "output_type": "display_data"
    },
    {
     "name": "stdout",
     "output_type": "stream",
     "text": [
      "test_Acc:\u001b[1;32m93.357%\u001b[0m\n",
      "Best_eval:\u001b[1;32m[96.256%]\u001b[0m\n",
      "\u001b[35mHAM10000 ==> test ...\u001b[0m\n"
     ]
    },
    {
     "data": {
      "application/vnd.jupyter.widget-view+json": {
       "model_id": "aec58db9f40e4b9b9c82a525a1bce5b0",
       "version_major": 2,
       "version_minor": 0
      },
      "text/plain": [
       "  0%|          | 0/34 [00:00<?, ?it/s]"
      ]
     },
     "metadata": {},
     "output_type": "display_data"
    },
    {
     "name": "stdout",
     "output_type": "stream",
     "text": [
      "test_Acc:\u001b[1;32m94.082%\u001b[0m\n",
      "Best_eval:\u001b[1;32m[96.256%]\u001b[0m\n",
      "Using 7 classes.\n",
      "using 51646 images for training, 1006 images for validation, 828 images for testing.\n",
      "size:314\n",
      "\u001b[35mHAM10000 ==> test ...\u001b[0m\n"
     ]
    },
    {
     "data": {
      "application/vnd.jupyter.widget-view+json": {
       "model_id": "12f732caf31f42a3a2d8a823b38150e5",
       "version_major": 2,
       "version_minor": 0
      },
      "text/plain": [
       "  0%|          | 0/34 [00:00<?, ?it/s]"
      ]
     },
     "metadata": {},
     "output_type": "display_data"
    },
    {
     "name": "stdout",
     "output_type": "stream",
     "text": [
      "test_Acc:\u001b[1;32m93.478%\u001b[0m\n",
      "Best_eval:\u001b[1;32m[96.256%]\u001b[0m\n",
      "\u001b[35mHAM10000 ==> test ...\u001b[0m\n"
     ]
    },
    {
     "data": {
      "application/vnd.jupyter.widget-view+json": {
       "model_id": "efe02ac83e764cc09fda36787115f21d",
       "version_major": 2,
       "version_minor": 0
      },
      "text/plain": [
       "  0%|          | 0/34 [00:00<?, ?it/s]"
      ]
     },
     "metadata": {},
     "output_type": "display_data"
    },
    {
     "name": "stdout",
     "output_type": "stream",
     "text": [
      "test_Acc:\u001b[1;32m93.478%\u001b[0m\n",
      "Best_eval:\u001b[1;32m[96.256%]\u001b[0m\n",
      "\u001b[35mHAM10000 ==> test ...\u001b[0m\n"
     ]
    },
    {
     "data": {
      "application/vnd.jupyter.widget-view+json": {
       "model_id": "8bf550e203af421099042fee1d00857d",
       "version_major": 2,
       "version_minor": 0
      },
      "text/plain": [
       "  0%|          | 0/34 [00:00<?, ?it/s]"
      ]
     },
     "metadata": {},
     "output_type": "display_data"
    },
    {
     "name": "stdout",
     "output_type": "stream",
     "text": [
      "test_Acc:\u001b[1;32m94.203%\u001b[0m\n",
      "Best_eval:\u001b[1;32m[96.256%]\u001b[0m\n",
      "\u001b[35mHAM10000 ==> test ...\u001b[0m\n"
     ]
    },
    {
     "data": {
      "application/vnd.jupyter.widget-view+json": {
       "model_id": "cf4897c16da64521841ba0919037de56",
       "version_major": 2,
       "version_minor": 0
      },
      "text/plain": [
       "  0%|          | 0/34 [00:00<?, ?it/s]"
      ]
     },
     "metadata": {},
     "output_type": "display_data"
    },
    {
     "name": "stdout",
     "output_type": "stream",
     "text": [
      "test_Acc:\u001b[1;32m94.082%\u001b[0m\n",
      "Best_eval:\u001b[1;32m[96.256%]\u001b[0m\n",
      "\u001b[35mHAM10000 ==> test ...\u001b[0m\n"
     ]
    },
    {
     "data": {
      "application/vnd.jupyter.widget-view+json": {
       "model_id": "f62a2a58420f4dc2ac53f44ecd2a6372",
       "version_major": 2,
       "version_minor": 0
      },
      "text/plain": [
       "  0%|          | 0/34 [00:00<?, ?it/s]"
      ]
     },
     "metadata": {},
     "output_type": "display_data"
    },
    {
     "name": "stdout",
     "output_type": "stream",
     "text": [
      "test_Acc:\u001b[1;32m94.324%\u001b[0m\n",
      "Best_eval:\u001b[1;32m[96.256%]\u001b[0m\n",
      "\u001b[35mHAM10000 ==> test ...\u001b[0m\n"
     ]
    },
    {
     "data": {
      "application/vnd.jupyter.widget-view+json": {
       "model_id": "32736fbe092443c191de43bef7b45597",
       "version_major": 2,
       "version_minor": 0
      },
      "text/plain": [
       "  0%|          | 0/34 [00:00<?, ?it/s]"
      ]
     },
     "metadata": {},
     "output_type": "display_data"
    },
    {
     "name": "stdout",
     "output_type": "stream",
     "text": [
      "test_Acc:\u001b[1;32m94.203%\u001b[0m\n",
      "Best_eval:\u001b[1;32m[96.256%]\u001b[0m\n",
      "\u001b[35mHAM10000 ==> test ...\u001b[0m\n"
     ]
    },
    {
     "data": {
      "application/vnd.jupyter.widget-view+json": {
       "model_id": "5ac5590af7d9471f96b54307e9d559cc",
       "version_major": 2,
       "version_minor": 0
      },
      "text/plain": [
       "  0%|          | 0/34 [00:00<?, ?it/s]"
      ]
     },
     "metadata": {},
     "output_type": "display_data"
    },
    {
     "name": "stdout",
     "output_type": "stream",
     "text": [
      "test_Acc:\u001b[1;32m94.082%\u001b[0m\n",
      "Best_eval:\u001b[1;32m[96.256%]\u001b[0m\n",
      "\u001b[35mHAM10000 ==> test ...\u001b[0m\n"
     ]
    },
    {
     "data": {
      "application/vnd.jupyter.widget-view+json": {
       "model_id": "fe84e29af7fe46d8b2a3d38d199ea964",
       "version_major": 2,
       "version_minor": 0
      },
      "text/plain": [
       "  0%|          | 0/34 [00:00<?, ?it/s]"
      ]
     },
     "metadata": {},
     "output_type": "display_data"
    },
    {
     "name": "stdout",
     "output_type": "stream",
     "text": [
      "test_Acc:\u001b[1;32m93.961%\u001b[0m\n",
      "Best_eval:\u001b[1;32m[96.256%]\u001b[0m\n",
      "\u001b[35mHAM10000 ==> test ...\u001b[0m\n"
     ]
    },
    {
     "data": {
      "application/vnd.jupyter.widget-view+json": {
       "model_id": "963f25be6abc4e26861b7e4b5629f224",
       "version_major": 2,
       "version_minor": 0
      },
      "text/plain": [
       "  0%|          | 0/34 [00:00<?, ?it/s]"
      ]
     },
     "metadata": {},
     "output_type": "display_data"
    },
    {
     "name": "stdout",
     "output_type": "stream",
     "text": [
      "test_Acc:\u001b[1;32m94.082%\u001b[0m\n",
      "Best_eval:\u001b[1;32m[96.256%]\u001b[0m\n",
      "Using 7 classes.\n",
      "using 51646 images for training, 1006 images for validation, 828 images for testing.\n",
      "size:315\n",
      "\u001b[35mHAM10000 ==> test ...\u001b[0m\n"
     ]
    },
    {
     "data": {
      "application/vnd.jupyter.widget-view+json": {
       "model_id": "c36ff69d9c1e48b6a6cba8ce75633ecb",
       "version_major": 2,
       "version_minor": 0
      },
      "text/plain": [
       "  0%|          | 0/34 [00:00<?, ?it/s]"
      ]
     },
     "metadata": {},
     "output_type": "display_data"
    },
    {
     "name": "stdout",
     "output_type": "stream",
     "text": [
      "test_Acc:\u001b[1;32m94.203%\u001b[0m\n",
      "Best_eval:\u001b[1;32m[96.256%]\u001b[0m\n",
      "\u001b[35mHAM10000 ==> test ...\u001b[0m\n"
     ]
    },
    {
     "data": {
      "application/vnd.jupyter.widget-view+json": {
       "model_id": "8ff16364a72f4401952dff3fdab3af73",
       "version_major": 2,
       "version_minor": 0
      },
      "text/plain": [
       "  0%|          | 0/34 [00:00<?, ?it/s]"
      ]
     },
     "metadata": {},
     "output_type": "display_data"
    },
    {
     "name": "stdout",
     "output_type": "stream",
     "text": [
      "test_Acc:\u001b[1;32m93.841%\u001b[0m\n",
      "Best_eval:\u001b[1;32m[96.256%]\u001b[0m\n",
      "\u001b[35mHAM10000 ==> test ...\u001b[0m\n"
     ]
    },
    {
     "data": {
      "application/vnd.jupyter.widget-view+json": {
       "model_id": "5ce6de35969f4f1b8e36bedc8709c86c",
       "version_major": 2,
       "version_minor": 0
      },
      "text/plain": [
       "  0%|          | 0/34 [00:00<?, ?it/s]"
      ]
     },
     "metadata": {},
     "output_type": "display_data"
    },
    {
     "name": "stdout",
     "output_type": "stream",
     "text": [
      "test_Acc:\u001b[1;32m94.082%\u001b[0m\n",
      "Best_eval:\u001b[1;32m[96.256%]\u001b[0m\n",
      "\u001b[35mHAM10000 ==> test ...\u001b[0m\n"
     ]
    },
    {
     "data": {
      "application/vnd.jupyter.widget-view+json": {
       "model_id": "a644b5958871451fa0d693342790d182",
       "version_major": 2,
       "version_minor": 0
      },
      "text/plain": [
       "  0%|          | 0/34 [00:00<?, ?it/s]"
      ]
     },
     "metadata": {},
     "output_type": "display_data"
    },
    {
     "name": "stdout",
     "output_type": "stream",
     "text": [
      "test_Acc:\u001b[1;32m94.082%\u001b[0m\n",
      "Best_eval:\u001b[1;32m[96.256%]\u001b[0m\n",
      "\u001b[35mHAM10000 ==> test ...\u001b[0m\n"
     ]
    },
    {
     "data": {
      "application/vnd.jupyter.widget-view+json": {
       "model_id": "97065acaf1394a5c98aef70344f6048c",
       "version_major": 2,
       "version_minor": 0
      },
      "text/plain": [
       "  0%|          | 0/34 [00:00<?, ?it/s]"
      ]
     },
     "metadata": {},
     "output_type": "display_data"
    },
    {
     "name": "stdout",
     "output_type": "stream",
     "text": [
      "test_Acc:\u001b[1;32m93.961%\u001b[0m\n",
      "Best_eval:\u001b[1;32m[96.256%]\u001b[0m\n",
      "\u001b[35mHAM10000 ==> test ...\u001b[0m\n"
     ]
    },
    {
     "data": {
      "application/vnd.jupyter.widget-view+json": {
       "model_id": "55f430a60e1f48fd863fc30d6fbcee95",
       "version_major": 2,
       "version_minor": 0
      },
      "text/plain": [
       "  0%|          | 0/34 [00:00<?, ?it/s]"
      ]
     },
     "metadata": {},
     "output_type": "display_data"
    },
    {
     "name": "stdout",
     "output_type": "stream",
     "text": [
      "test_Acc:\u001b[1;32m93.961%\u001b[0m\n",
      "Best_eval:\u001b[1;32m[96.256%]\u001b[0m\n",
      "\u001b[35mHAM10000 ==> test ...\u001b[0m\n"
     ]
    },
    {
     "data": {
      "application/vnd.jupyter.widget-view+json": {
       "model_id": "87793e21986d44748e02b2d540c53b67",
       "version_major": 2,
       "version_minor": 0
      },
      "text/plain": [
       "  0%|          | 0/34 [00:00<?, ?it/s]"
      ]
     },
     "metadata": {},
     "output_type": "display_data"
    },
    {
     "name": "stdout",
     "output_type": "stream",
     "text": [
      "test_Acc:\u001b[1;32m94.203%\u001b[0m\n",
      "Best_eval:\u001b[1;32m[96.256%]\u001b[0m\n",
      "\u001b[35mHAM10000 ==> test ...\u001b[0m\n"
     ]
    },
    {
     "data": {
      "application/vnd.jupyter.widget-view+json": {
       "model_id": "5c807db7f92d47518bcb2f6311fa5b67",
       "version_major": 2,
       "version_minor": 0
      },
      "text/plain": [
       "  0%|          | 0/34 [00:00<?, ?it/s]"
      ]
     },
     "metadata": {},
     "output_type": "display_data"
    },
    {
     "name": "stdout",
     "output_type": "stream",
     "text": [
      "test_Acc:\u001b[1;32m94.203%\u001b[0m\n",
      "Best_eval:\u001b[1;32m[96.256%]\u001b[0m\n",
      "\u001b[35mHAM10000 ==> test ...\u001b[0m\n"
     ]
    },
    {
     "data": {
      "application/vnd.jupyter.widget-view+json": {
       "model_id": "c5af7407ac744c20ae519f753fb4ffd8",
       "version_major": 2,
       "version_minor": 0
      },
      "text/plain": [
       "  0%|          | 0/34 [00:00<?, ?it/s]"
      ]
     },
     "metadata": {},
     "output_type": "display_data"
    },
    {
     "name": "stdout",
     "output_type": "stream",
     "text": [
      "test_Acc:\u001b[1;32m93.961%\u001b[0m\n",
      "Best_eval:\u001b[1;32m[96.256%]\u001b[0m\n",
      "Using 7 classes.\n",
      "using 51646 images for training, 1006 images for validation, 828 images for testing.\n",
      "size:316\n",
      "\u001b[35mHAM10000 ==> test ...\u001b[0m\n"
     ]
    },
    {
     "data": {
      "application/vnd.jupyter.widget-view+json": {
       "model_id": "73e17002a7494e1d96a335a8d0807880",
       "version_major": 2,
       "version_minor": 0
      },
      "text/plain": [
       "  0%|          | 0/34 [00:00<?, ?it/s]"
      ]
     },
     "metadata": {},
     "output_type": "display_data"
    },
    {
     "name": "stdout",
     "output_type": "stream",
     "text": [
      "test_Acc:\u001b[1;32m94.203%\u001b[0m\n",
      "Best_eval:\u001b[1;32m[96.256%]\u001b[0m\n",
      "\u001b[35mHAM10000 ==> test ...\u001b[0m\n"
     ]
    },
    {
     "data": {
      "application/vnd.jupyter.widget-view+json": {
       "model_id": "b3fa087093394f70be9af214a708cf1e",
       "version_major": 2,
       "version_minor": 0
      },
      "text/plain": [
       "  0%|          | 0/34 [00:00<?, ?it/s]"
      ]
     },
     "metadata": {},
     "output_type": "display_data"
    },
    {
     "name": "stdout",
     "output_type": "stream",
     "text": [
      "test_Acc:\u001b[1;32m94.203%\u001b[0m\n",
      "Best_eval:\u001b[1;32m[96.256%]\u001b[0m\n",
      "\u001b[35mHAM10000 ==> test ...\u001b[0m\n"
     ]
    },
    {
     "data": {
      "application/vnd.jupyter.widget-view+json": {
       "model_id": "001b9dc51e794fab9a9b92a1077ae0d0",
       "version_major": 2,
       "version_minor": 0
      },
      "text/plain": [
       "  0%|          | 0/34 [00:00<?, ?it/s]"
      ]
     },
     "metadata": {},
     "output_type": "display_data"
    },
    {
     "name": "stdout",
     "output_type": "stream",
     "text": [
      "test_Acc:\u001b[1;32m94.324%\u001b[0m\n",
      "Best_eval:\u001b[1;32m[96.256%]\u001b[0m\n",
      "\u001b[35mHAM10000 ==> test ...\u001b[0m\n"
     ]
    },
    {
     "data": {
      "application/vnd.jupyter.widget-view+json": {
       "model_id": "c267f68db933490ca09362a950fc04f5",
       "version_major": 2,
       "version_minor": 0
      },
      "text/plain": [
       "  0%|          | 0/34 [00:00<?, ?it/s]"
      ]
     },
     "metadata": {},
     "output_type": "display_data"
    },
    {
     "name": "stdout",
     "output_type": "stream",
     "text": [
      "test_Acc:\u001b[1;32m94.203%\u001b[0m\n",
      "Best_eval:\u001b[1;32m[96.256%]\u001b[0m\n",
      "\u001b[35mHAM10000 ==> test ...\u001b[0m\n"
     ]
    },
    {
     "data": {
      "application/vnd.jupyter.widget-view+json": {
       "model_id": "e3be2a64f2b34745a6edd38603ab8b96",
       "version_major": 2,
       "version_minor": 0
      },
      "text/plain": [
       "  0%|          | 0/34 [00:00<?, ?it/s]"
      ]
     },
     "metadata": {},
     "output_type": "display_data"
    },
    {
     "name": "stdout",
     "output_type": "stream",
     "text": [
      "test_Acc:\u001b[1;32m94.324%\u001b[0m\n",
      "Best_eval:\u001b[1;32m[96.256%]\u001b[0m\n",
      "\u001b[35mHAM10000 ==> test ...\u001b[0m\n"
     ]
    },
    {
     "data": {
      "application/vnd.jupyter.widget-view+json": {
       "model_id": "599c3a48e93b46e280be6951d7673d54",
       "version_major": 2,
       "version_minor": 0
      },
      "text/plain": [
       "  0%|          | 0/34 [00:00<?, ?it/s]"
      ]
     },
     "metadata": {},
     "output_type": "display_data"
    },
    {
     "name": "stdout",
     "output_type": "stream",
     "text": [
      "test_Acc:\u001b[1;32m93.478%\u001b[0m\n",
      "Best_eval:\u001b[1;32m[96.256%]\u001b[0m\n",
      "\u001b[35mHAM10000 ==> test ...\u001b[0m\n"
     ]
    },
    {
     "data": {
      "application/vnd.jupyter.widget-view+json": {
       "model_id": "728f8128153b484091cbaa6976be01f0",
       "version_major": 2,
       "version_minor": 0
      },
      "text/plain": [
       "  0%|          | 0/34 [00:00<?, ?it/s]"
      ]
     },
     "metadata": {},
     "output_type": "display_data"
    },
    {
     "name": "stdout",
     "output_type": "stream",
     "text": [
      "test_Acc:\u001b[1;32m93.72%\u001b[0m\n",
      "Best_eval:\u001b[1;32m[96.256%]\u001b[0m\n",
      "\u001b[35mHAM10000 ==> test ...\u001b[0m\n"
     ]
    },
    {
     "data": {
      "application/vnd.jupyter.widget-view+json": {
       "model_id": "173421224eb34646b95570dfbee4dee8",
       "version_major": 2,
       "version_minor": 0
      },
      "text/plain": [
       "  0%|          | 0/34 [00:00<?, ?it/s]"
      ]
     },
     "metadata": {},
     "output_type": "display_data"
    },
    {
     "name": "stdout",
     "output_type": "stream",
     "text": [
      "test_Acc:\u001b[1;32m93.961%\u001b[0m\n",
      "Best_eval:\u001b[1;32m[96.256%]\u001b[0m\n",
      "\u001b[35mHAM10000 ==> test ...\u001b[0m\n"
     ]
    },
    {
     "data": {
      "application/vnd.jupyter.widget-view+json": {
       "model_id": "5c52482385874cd086113b3434749f2b",
       "version_major": 2,
       "version_minor": 0
      },
      "text/plain": [
       "  0%|          | 0/34 [00:00<?, ?it/s]"
      ]
     },
     "metadata": {},
     "output_type": "display_data"
    },
    {
     "name": "stdout",
     "output_type": "stream",
     "text": [
      "test_Acc:\u001b[1;32m93.841%\u001b[0m\n",
      "Best_eval:\u001b[1;32m[96.256%]\u001b[0m\n",
      "Using 7 classes.\n",
      "using 51646 images for training, 1006 images for validation, 828 images for testing.\n",
      "size:317\n",
      "\u001b[35mHAM10000 ==> test ...\u001b[0m\n"
     ]
    },
    {
     "data": {
      "application/vnd.jupyter.widget-view+json": {
       "model_id": "e6cc88b90cda4604882cdc85006474e4",
       "version_major": 2,
       "version_minor": 0
      },
      "text/plain": [
       "  0%|          | 0/34 [00:00<?, ?it/s]"
      ]
     },
     "metadata": {},
     "output_type": "display_data"
    },
    {
     "name": "stdout",
     "output_type": "stream",
     "text": [
      "test_Acc:\u001b[1;32m93.72%\u001b[0m\n",
      "Best_eval:\u001b[1;32m[96.256%]\u001b[0m\n",
      "\u001b[35mHAM10000 ==> test ...\u001b[0m\n"
     ]
    },
    {
     "data": {
      "application/vnd.jupyter.widget-view+json": {
       "model_id": "77a08298b616461ca36cf34bd93efbfb",
       "version_major": 2,
       "version_minor": 0
      },
      "text/plain": [
       "  0%|          | 0/34 [00:00<?, ?it/s]"
      ]
     },
     "metadata": {},
     "output_type": "display_data"
    },
    {
     "name": "stdout",
     "output_type": "stream",
     "text": [
      "test_Acc:\u001b[1;32m94.324%\u001b[0m\n",
      "Best_eval:\u001b[1;32m[96.256%]\u001b[0m\n",
      "\u001b[35mHAM10000 ==> test ...\u001b[0m\n"
     ]
    },
    {
     "data": {
      "application/vnd.jupyter.widget-view+json": {
       "model_id": "07a0fb18dd9d4cc1b62a8146d5cde95c",
       "version_major": 2,
       "version_minor": 0
      },
      "text/plain": [
       "  0%|          | 0/34 [00:00<?, ?it/s]"
      ]
     },
     "metadata": {},
     "output_type": "display_data"
    },
    {
     "name": "stdout",
     "output_type": "stream",
     "text": [
      "test_Acc:\u001b[1;32m94.324%\u001b[0m\n",
      "Best_eval:\u001b[1;32m[96.256%]\u001b[0m\n",
      "\u001b[35mHAM10000 ==> test ...\u001b[0m\n"
     ]
    },
    {
     "data": {
      "application/vnd.jupyter.widget-view+json": {
       "model_id": "236741a9c21a4f98b7f4cffdff71062f",
       "version_major": 2,
       "version_minor": 0
      },
      "text/plain": [
       "  0%|          | 0/34 [00:00<?, ?it/s]"
      ]
     },
     "metadata": {},
     "output_type": "display_data"
    },
    {
     "name": "stdout",
     "output_type": "stream",
     "text": [
      "test_Acc:\u001b[1;32m93.841%\u001b[0m\n",
      "Best_eval:\u001b[1;32m[96.256%]\u001b[0m\n",
      "\u001b[35mHAM10000 ==> test ...\u001b[0m\n"
     ]
    },
    {
     "data": {
      "application/vnd.jupyter.widget-view+json": {
       "model_id": "b8e2663fcbad4270a9ee3fa9fe4994c7",
       "version_major": 2,
       "version_minor": 0
      },
      "text/plain": [
       "  0%|          | 0/34 [00:00<?, ?it/s]"
      ]
     },
     "metadata": {},
     "output_type": "display_data"
    },
    {
     "name": "stdout",
     "output_type": "stream",
     "text": [
      "test_Acc:\u001b[1;32m94.444%\u001b[0m\n",
      "Best_eval:\u001b[1;32m[96.256%]\u001b[0m\n",
      "\u001b[35mHAM10000 ==> test ...\u001b[0m\n"
     ]
    },
    {
     "data": {
      "application/vnd.jupyter.widget-view+json": {
       "model_id": "b3e3c2f51d1a49f6b9868a7f45b69c44",
       "version_major": 2,
       "version_minor": 0
      },
      "text/plain": [
       "  0%|          | 0/34 [00:00<?, ?it/s]"
      ]
     },
     "metadata": {},
     "output_type": "display_data"
    },
    {
     "name": "stdout",
     "output_type": "stream",
     "text": [
      "test_Acc:\u001b[1;32m93.478%\u001b[0m\n",
      "Best_eval:\u001b[1;32m[96.256%]\u001b[0m\n",
      "\u001b[35mHAM10000 ==> test ...\u001b[0m\n"
     ]
    },
    {
     "data": {
      "application/vnd.jupyter.widget-view+json": {
       "model_id": "48357ecc0ec54aa79d09d9d72b76ec7b",
       "version_major": 2,
       "version_minor": 0
      },
      "text/plain": [
       "  0%|          | 0/34 [00:00<?, ?it/s]"
      ]
     },
     "metadata": {},
     "output_type": "display_data"
    },
    {
     "name": "stdout",
     "output_type": "stream",
     "text": [
      "test_Acc:\u001b[1;32m94.444%\u001b[0m\n",
      "Best_eval:\u001b[1;32m[96.256%]\u001b[0m\n",
      "\u001b[35mHAM10000 ==> test ...\u001b[0m\n"
     ]
    },
    {
     "data": {
      "application/vnd.jupyter.widget-view+json": {
       "model_id": "cf012b5f176547e092a93fee3f944396",
       "version_major": 2,
       "version_minor": 0
      },
      "text/plain": [
       "  0%|          | 0/34 [00:00<?, ?it/s]"
      ]
     },
     "metadata": {},
     "output_type": "display_data"
    },
    {
     "name": "stdout",
     "output_type": "stream",
     "text": [
      "test_Acc:\u001b[1;32m94.203%\u001b[0m\n",
      "Best_eval:\u001b[1;32m[96.256%]\u001b[0m\n",
      "\u001b[35mHAM10000 ==> test ...\u001b[0m\n"
     ]
    },
    {
     "data": {
      "application/vnd.jupyter.widget-view+json": {
       "model_id": "1bc7c58802d74f32b44c04070fd9f301",
       "version_major": 2,
       "version_minor": 0
      },
      "text/plain": [
       "  0%|          | 0/34 [00:00<?, ?it/s]"
      ]
     },
     "metadata": {},
     "output_type": "display_data"
    },
    {
     "name": "stdout",
     "output_type": "stream",
     "text": [
      "test_Acc:\u001b[1;32m94.807%\u001b[0m\n",
      "Best_eval:\u001b[1;32m[96.256%]\u001b[0m\n",
      "Using 7 classes.\n",
      "using 51646 images for training, 1006 images for validation, 828 images for testing.\n",
      "size:318\n",
      "\u001b[35mHAM10000 ==> test ...\u001b[0m\n"
     ]
    },
    {
     "data": {
      "application/vnd.jupyter.widget-view+json": {
       "model_id": "315a2cb836a94d5d96171a0dcc71e741",
       "version_major": 2,
       "version_minor": 0
      },
      "text/plain": [
       "  0%|          | 0/34 [00:00<?, ?it/s]"
      ]
     },
     "metadata": {},
     "output_type": "display_data"
    },
    {
     "name": "stdout",
     "output_type": "stream",
     "text": [
      "test_Acc:\u001b[1;32m93.841%\u001b[0m\n",
      "Best_eval:\u001b[1;32m[96.256%]\u001b[0m\n",
      "\u001b[35mHAM10000 ==> test ...\u001b[0m\n"
     ]
    },
    {
     "data": {
      "application/vnd.jupyter.widget-view+json": {
       "model_id": "4ff5f01ddf604ec68157fefef08fbc8f",
       "version_major": 2,
       "version_minor": 0
      },
      "text/plain": [
       "  0%|          | 0/34 [00:00<?, ?it/s]"
      ]
     },
     "metadata": {},
     "output_type": "display_data"
    },
    {
     "name": "stdout",
     "output_type": "stream",
     "text": [
      "test_Acc:\u001b[1;32m94.807%\u001b[0m\n",
      "Best_eval:\u001b[1;32m[96.256%]\u001b[0m\n",
      "\u001b[35mHAM10000 ==> test ...\u001b[0m\n"
     ]
    },
    {
     "data": {
      "application/vnd.jupyter.widget-view+json": {
       "model_id": "59c87f2f08a245c193e1d1ac9ffa40e5",
       "version_major": 2,
       "version_minor": 0
      },
      "text/plain": [
       "  0%|          | 0/34 [00:00<?, ?it/s]"
      ]
     },
     "metadata": {},
     "output_type": "display_data"
    },
    {
     "name": "stdout",
     "output_type": "stream",
     "text": [
      "test_Acc:\u001b[1;32m94.203%\u001b[0m\n",
      "Best_eval:\u001b[1;32m[96.256%]\u001b[0m\n",
      "\u001b[35mHAM10000 ==> test ...\u001b[0m\n"
     ]
    },
    {
     "data": {
      "application/vnd.jupyter.widget-view+json": {
       "model_id": "5153876dbcba421f86e715a3a3e6f496",
       "version_major": 2,
       "version_minor": 0
      },
      "text/plain": [
       "  0%|          | 0/34 [00:00<?, ?it/s]"
      ]
     },
     "metadata": {},
     "output_type": "display_data"
    },
    {
     "name": "stdout",
     "output_type": "stream",
     "text": [
      "test_Acc:\u001b[1;32m94.203%\u001b[0m\n",
      "Best_eval:\u001b[1;32m[96.256%]\u001b[0m\n",
      "\u001b[35mHAM10000 ==> test ...\u001b[0m\n"
     ]
    },
    {
     "data": {
      "application/vnd.jupyter.widget-view+json": {
       "model_id": "9bc8bb55e0d84ba7b133e7236272fb94",
       "version_major": 2,
       "version_minor": 0
      },
      "text/plain": [
       "  0%|          | 0/34 [00:00<?, ?it/s]"
      ]
     },
     "metadata": {},
     "output_type": "display_data"
    },
    {
     "name": "stdout",
     "output_type": "stream",
     "text": [
      "test_Acc:\u001b[1;32m94.203%\u001b[0m\n",
      "Best_eval:\u001b[1;32m[96.256%]\u001b[0m\n",
      "\u001b[35mHAM10000 ==> test ...\u001b[0m\n"
     ]
    },
    {
     "data": {
      "application/vnd.jupyter.widget-view+json": {
       "model_id": "d0d9f11f0eb1428e9855d6af4aa26a9c",
       "version_major": 2,
       "version_minor": 0
      },
      "text/plain": [
       "  0%|          | 0/34 [00:00<?, ?it/s]"
      ]
     },
     "metadata": {},
     "output_type": "display_data"
    },
    {
     "name": "stdout",
     "output_type": "stream",
     "text": [
      "test_Acc:\u001b[1;32m94.324%\u001b[0m\n",
      "Best_eval:\u001b[1;32m[96.256%]\u001b[0m\n",
      "\u001b[35mHAM10000 ==> test ...\u001b[0m\n"
     ]
    },
    {
     "data": {
      "application/vnd.jupyter.widget-view+json": {
       "model_id": "32a71ad4b3bd40968452ddd6e2f92dcc",
       "version_major": 2,
       "version_minor": 0
      },
      "text/plain": [
       "  0%|          | 0/34 [00:00<?, ?it/s]"
      ]
     },
     "metadata": {},
     "output_type": "display_data"
    },
    {
     "name": "stdout",
     "output_type": "stream",
     "text": [
      "test_Acc:\u001b[1;32m94.686%\u001b[0m\n",
      "Best_eval:\u001b[1;32m[96.256%]\u001b[0m\n",
      "\u001b[35mHAM10000 ==> test ...\u001b[0m\n"
     ]
    },
    {
     "data": {
      "application/vnd.jupyter.widget-view+json": {
       "model_id": "582895ada2b84081bed193fefea461e5",
       "version_major": 2,
       "version_minor": 0
      },
      "text/plain": [
       "  0%|          | 0/34 [00:00<?, ?it/s]"
      ]
     },
     "metadata": {},
     "output_type": "display_data"
    },
    {
     "name": "stdout",
     "output_type": "stream",
     "text": [
      "test_Acc:\u001b[1;32m94.444%\u001b[0m\n",
      "Best_eval:\u001b[1;32m[96.256%]\u001b[0m\n",
      "\u001b[35mHAM10000 ==> test ...\u001b[0m\n"
     ]
    },
    {
     "data": {
      "application/vnd.jupyter.widget-view+json": {
       "model_id": "c7f6690974ad4fdd822607c89381bdb5",
       "version_major": 2,
       "version_minor": 0
      },
      "text/plain": [
       "  0%|          | 0/34 [00:00<?, ?it/s]"
      ]
     },
     "metadata": {},
     "output_type": "display_data"
    },
    {
     "name": "stdout",
     "output_type": "stream",
     "text": [
      "test_Acc:\u001b[1;32m93.478%\u001b[0m\n",
      "Best_eval:\u001b[1;32m[96.256%]\u001b[0m\n",
      "Using 7 classes.\n",
      "using 51646 images for training, 1006 images for validation, 828 images for testing.\n",
      "size:319\n",
      "\u001b[35mHAM10000 ==> test ...\u001b[0m\n"
     ]
    },
    {
     "data": {
      "application/vnd.jupyter.widget-view+json": {
       "model_id": "34ca592ec90043b6a36dc592466f249b",
       "version_major": 2,
       "version_minor": 0
      },
      "text/plain": [
       "  0%|          | 0/34 [00:00<?, ?it/s]"
      ]
     },
     "metadata": {},
     "output_type": "display_data"
    },
    {
     "name": "stdout",
     "output_type": "stream",
     "text": [
      "test_Acc:\u001b[1;32m93.841%\u001b[0m\n",
      "Best_eval:\u001b[1;32m[96.256%]\u001b[0m\n",
      "\u001b[35mHAM10000 ==> test ...\u001b[0m\n"
     ]
    },
    {
     "data": {
      "application/vnd.jupyter.widget-view+json": {
       "model_id": "b3e1bdc8865e48239029f75d9f197c40",
       "version_major": 2,
       "version_minor": 0
      },
      "text/plain": [
       "  0%|          | 0/34 [00:00<?, ?it/s]"
      ]
     },
     "metadata": {},
     "output_type": "display_data"
    },
    {
     "name": "stdout",
     "output_type": "stream",
     "text": [
      "test_Acc:\u001b[1;32m93.478%\u001b[0m\n",
      "Best_eval:\u001b[1;32m[96.256%]\u001b[0m\n",
      "\u001b[35mHAM10000 ==> test ...\u001b[0m\n"
     ]
    },
    {
     "data": {
      "application/vnd.jupyter.widget-view+json": {
       "model_id": "ccb55962ce734989ac0b926558670326",
       "version_major": 2,
       "version_minor": 0
      },
      "text/plain": [
       "  0%|          | 0/34 [00:00<?, ?it/s]"
      ]
     },
     "metadata": {},
     "output_type": "display_data"
    },
    {
     "name": "stdout",
     "output_type": "stream",
     "text": [
      "test_Acc:\u001b[1;32m94.203%\u001b[0m\n",
      "Best_eval:\u001b[1;32m[96.256%]\u001b[0m\n",
      "\u001b[35mHAM10000 ==> test ...\u001b[0m\n"
     ]
    },
    {
     "data": {
      "application/vnd.jupyter.widget-view+json": {
       "model_id": "36742f2f01f846c6b28b1bd2db54e0e2",
       "version_major": 2,
       "version_minor": 0
      },
      "text/plain": [
       "  0%|          | 0/34 [00:00<?, ?it/s]"
      ]
     },
     "metadata": {},
     "output_type": "display_data"
    },
    {
     "name": "stdout",
     "output_type": "stream",
     "text": [
      "test_Acc:\u001b[1;32m94.324%\u001b[0m\n",
      "Best_eval:\u001b[1;32m[96.256%]\u001b[0m\n",
      "\u001b[35mHAM10000 ==> test ...\u001b[0m\n"
     ]
    },
    {
     "data": {
      "application/vnd.jupyter.widget-view+json": {
       "model_id": "362f2de2c2b141eabb5675f6eff8e1ae",
       "version_major": 2,
       "version_minor": 0
      },
      "text/plain": [
       "  0%|          | 0/34 [00:00<?, ?it/s]"
      ]
     },
     "metadata": {},
     "output_type": "display_data"
    },
    {
     "name": "stdout",
     "output_type": "stream",
     "text": [
      "test_Acc:\u001b[1;32m94.686%\u001b[0m\n",
      "Best_eval:\u001b[1;32m[96.256%]\u001b[0m\n",
      "\u001b[35mHAM10000 ==> test ...\u001b[0m\n"
     ]
    },
    {
     "data": {
      "application/vnd.jupyter.widget-view+json": {
       "model_id": "5b40ea7007a14c0ead65945a94cf939c",
       "version_major": 2,
       "version_minor": 0
      },
      "text/plain": [
       "  0%|          | 0/34 [00:00<?, ?it/s]"
      ]
     },
     "metadata": {},
     "output_type": "display_data"
    },
    {
     "name": "stdout",
     "output_type": "stream",
     "text": [
      "test_Acc:\u001b[1;32m95.048%\u001b[0m\n",
      "Best_eval:\u001b[1;32m[96.256%]\u001b[0m\n",
      "\u001b[35mHAM10000 ==> test ...\u001b[0m\n"
     ]
    },
    {
     "data": {
      "application/vnd.jupyter.widget-view+json": {
       "model_id": "178ed8ac84ca4e209ad19c126c34b270",
       "version_major": 2,
       "version_minor": 0
      },
      "text/plain": [
       "  0%|          | 0/34 [00:00<?, ?it/s]"
      ]
     },
     "metadata": {},
     "output_type": "display_data"
    },
    {
     "name": "stdout",
     "output_type": "stream",
     "text": [
      "test_Acc:\u001b[1;32m94.686%\u001b[0m\n",
      "Best_eval:\u001b[1;32m[96.256%]\u001b[0m\n",
      "\u001b[35mHAM10000 ==> test ...\u001b[0m\n"
     ]
    },
    {
     "data": {
      "application/vnd.jupyter.widget-view+json": {
       "model_id": "225ae5ad7c184de686e05ec8179cf5ab",
       "version_major": 2,
       "version_minor": 0
      },
      "text/plain": [
       "  0%|          | 0/34 [00:00<?, ?it/s]"
      ]
     },
     "metadata": {},
     "output_type": "display_data"
    },
    {
     "name": "stdout",
     "output_type": "stream",
     "text": [
      "test_Acc:\u001b[1;32m94.565%\u001b[0m\n",
      "Best_eval:\u001b[1;32m[96.256%]\u001b[0m\n",
      "\u001b[35mHAM10000 ==> test ...\u001b[0m\n"
     ]
    },
    {
     "data": {
      "application/vnd.jupyter.widget-view+json": {
       "model_id": "876f541e244849549b94788036193c24",
       "version_major": 2,
       "version_minor": 0
      },
      "text/plain": [
       "  0%|          | 0/34 [00:00<?, ?it/s]"
      ]
     },
     "metadata": {},
     "output_type": "display_data"
    },
    {
     "name": "stdout",
     "output_type": "stream",
     "text": [
      "test_Acc:\u001b[1;32m94.203%\u001b[0m\n",
      "Best_eval:\u001b[1;32m[96.256%]\u001b[0m\n",
      "Using 7 classes.\n",
      "using 51646 images for training, 1006 images for validation, 828 images for testing.\n",
      "size:320\n",
      "\u001b[35mHAM10000 ==> test ...\u001b[0m\n"
     ]
    },
    {
     "data": {
      "application/vnd.jupyter.widget-view+json": {
       "model_id": "cd331af74abf4841bcc390924687399f",
       "version_major": 2,
       "version_minor": 0
      },
      "text/plain": [
       "  0%|          | 0/34 [00:00<?, ?it/s]"
      ]
     },
     "metadata": {},
     "output_type": "display_data"
    },
    {
     "name": "stdout",
     "output_type": "stream",
     "text": [
      "test_Acc:\u001b[1;32m94.203%\u001b[0m\n",
      "Best_eval:\u001b[1;32m[96.256%]\u001b[0m\n",
      "\u001b[35mHAM10000 ==> test ...\u001b[0m\n"
     ]
    },
    {
     "data": {
      "application/vnd.jupyter.widget-view+json": {
       "model_id": "04616add94f74a9ea123a33b34835176",
       "version_major": 2,
       "version_minor": 0
      },
      "text/plain": [
       "  0%|          | 0/34 [00:00<?, ?it/s]"
      ]
     },
     "metadata": {},
     "output_type": "display_data"
    },
    {
     "name": "stdout",
     "output_type": "stream",
     "text": [
      "test_Acc:\u001b[1;32m94.686%\u001b[0m\n",
      "Best_eval:\u001b[1;32m[96.256%]\u001b[0m\n",
      "\u001b[35mHAM10000 ==> test ...\u001b[0m\n"
     ]
    },
    {
     "data": {
      "application/vnd.jupyter.widget-view+json": {
       "model_id": "52472260e72e4dde9a0c62997fa781f1",
       "version_major": 2,
       "version_minor": 0
      },
      "text/plain": [
       "  0%|          | 0/34 [00:00<?, ?it/s]"
      ]
     },
     "metadata": {},
     "output_type": "display_data"
    },
    {
     "name": "stdout",
     "output_type": "stream",
     "text": [
      "test_Acc:\u001b[1;32m93.961%\u001b[0m\n",
      "Best_eval:\u001b[1;32m[96.256%]\u001b[0m\n",
      "\u001b[35mHAM10000 ==> test ...\u001b[0m\n"
     ]
    },
    {
     "data": {
      "application/vnd.jupyter.widget-view+json": {
       "model_id": "70747f72003d4c6b9c54138f7b541472",
       "version_major": 2,
       "version_minor": 0
      },
      "text/plain": [
       "  0%|          | 0/34 [00:00<?, ?it/s]"
      ]
     },
     "metadata": {},
     "output_type": "display_data"
    },
    {
     "name": "stdout",
     "output_type": "stream",
     "text": [
      "test_Acc:\u001b[1;32m93.599%\u001b[0m\n",
      "Best_eval:\u001b[1;32m[96.256%]\u001b[0m\n",
      "\u001b[35mHAM10000 ==> test ...\u001b[0m\n"
     ]
    },
    {
     "data": {
      "application/vnd.jupyter.widget-view+json": {
       "model_id": "36d1a97b9a8143bdaffb70827eebfaed",
       "version_major": 2,
       "version_minor": 0
      },
      "text/plain": [
       "  0%|          | 0/34 [00:00<?, ?it/s]"
      ]
     },
     "metadata": {},
     "output_type": "display_data"
    },
    {
     "name": "stdout",
     "output_type": "stream",
     "text": [
      "test_Acc:\u001b[1;32m93.599%\u001b[0m\n",
      "Best_eval:\u001b[1;32m[96.256%]\u001b[0m\n",
      "\u001b[35mHAM10000 ==> test ...\u001b[0m\n"
     ]
    },
    {
     "data": {
      "application/vnd.jupyter.widget-view+json": {
       "model_id": "b4d7bb8f094249c3bb1b38bf8c9ee497",
       "version_major": 2,
       "version_minor": 0
      },
      "text/plain": [
       "  0%|          | 0/34 [00:00<?, ?it/s]"
      ]
     },
     "metadata": {},
     "output_type": "display_data"
    },
    {
     "name": "stdout",
     "output_type": "stream",
     "text": [
      "test_Acc:\u001b[1;32m93.599%\u001b[0m\n",
      "Best_eval:\u001b[1;32m[96.256%]\u001b[0m\n",
      "\u001b[35mHAM10000 ==> test ...\u001b[0m\n"
     ]
    },
    {
     "data": {
      "application/vnd.jupyter.widget-view+json": {
       "model_id": "e2e324676c0641f584fc6ce848f4be48",
       "version_major": 2,
       "version_minor": 0
      },
      "text/plain": [
       "  0%|          | 0/34 [00:00<?, ?it/s]"
      ]
     },
     "metadata": {},
     "output_type": "display_data"
    },
    {
     "name": "stdout",
     "output_type": "stream",
     "text": [
      "test_Acc:\u001b[1;32m93.961%\u001b[0m\n",
      "Best_eval:\u001b[1;32m[96.256%]\u001b[0m\n",
      "\u001b[35mHAM10000 ==> test ...\u001b[0m\n"
     ]
    },
    {
     "data": {
      "application/vnd.jupyter.widget-view+json": {
       "model_id": "827e084faa444f0c914e9905dc34501e",
       "version_major": 2,
       "version_minor": 0
      },
      "text/plain": [
       "  0%|          | 0/34 [00:00<?, ?it/s]"
      ]
     },
     "metadata": {},
     "output_type": "display_data"
    },
    {
     "name": "stdout",
     "output_type": "stream",
     "text": [
      "test_Acc:\u001b[1;32m94.444%\u001b[0m\n",
      "Best_eval:\u001b[1;32m[96.256%]\u001b[0m\n",
      "\u001b[35mHAM10000 ==> test ...\u001b[0m\n"
     ]
    },
    {
     "data": {
      "application/vnd.jupyter.widget-view+json": {
       "model_id": "415b9db532d048569bb7146c0f8707b2",
       "version_major": 2,
       "version_minor": 0
      },
      "text/plain": [
       "  0%|          | 0/34 [00:00<?, ?it/s]"
      ]
     },
     "metadata": {},
     "output_type": "display_data"
    },
    {
     "name": "stdout",
     "output_type": "stream",
     "text": [
      "test_Acc:\u001b[1;32m94.203%\u001b[0m\n",
      "Best_eval:\u001b[1;32m[96.256%]\u001b[0m\n",
      "Using 7 classes.\n",
      "using 51646 images for training, 1006 images for validation, 828 images for testing.\n",
      "size:321\n",
      "\u001b[35mHAM10000 ==> test ...\u001b[0m\n"
     ]
    },
    {
     "data": {
      "application/vnd.jupyter.widget-view+json": {
       "model_id": "2d74e47a160349c5ad4c33e4b810d97e",
       "version_major": 2,
       "version_minor": 0
      },
      "text/plain": [
       "  0%|          | 0/34 [00:00<?, ?it/s]"
      ]
     },
     "metadata": {},
     "output_type": "display_data"
    },
    {
     "name": "stdout",
     "output_type": "stream",
     "text": [
      "test_Acc:\u001b[1;32m94.565%\u001b[0m\n",
      "Best_eval:\u001b[1;32m[96.256%]\u001b[0m\n",
      "\u001b[35mHAM10000 ==> test ...\u001b[0m\n"
     ]
    },
    {
     "data": {
      "application/vnd.jupyter.widget-view+json": {
       "model_id": "6130f2eac2554ce5b608f1bf12610ada",
       "version_major": 2,
       "version_minor": 0
      },
      "text/plain": [
       "  0%|          | 0/34 [00:00<?, ?it/s]"
      ]
     },
     "metadata": {},
     "output_type": "display_data"
    },
    {
     "name": "stdout",
     "output_type": "stream",
     "text": [
      "test_Acc:\u001b[1;32m94.082%\u001b[0m\n",
      "Best_eval:\u001b[1;32m[96.256%]\u001b[0m\n",
      "\u001b[35mHAM10000 ==> test ...\u001b[0m\n"
     ]
    },
    {
     "data": {
      "application/vnd.jupyter.widget-view+json": {
       "model_id": "5529719e64c84e7dbd19661df1f59462",
       "version_major": 2,
       "version_minor": 0
      },
      "text/plain": [
       "  0%|          | 0/34 [00:00<?, ?it/s]"
      ]
     },
     "metadata": {},
     "output_type": "display_data"
    },
    {
     "name": "stdout",
     "output_type": "stream",
     "text": [
      "test_Acc:\u001b[1;32m94.203%\u001b[0m\n",
      "Best_eval:\u001b[1;32m[96.256%]\u001b[0m\n",
      "\u001b[35mHAM10000 ==> test ...\u001b[0m\n"
     ]
    },
    {
     "data": {
      "application/vnd.jupyter.widget-view+json": {
       "model_id": "dda16627a7f9498da58fa212c429110e",
       "version_major": 2,
       "version_minor": 0
      },
      "text/plain": [
       "  0%|          | 0/34 [00:00<?, ?it/s]"
      ]
     },
     "metadata": {},
     "output_type": "display_data"
    },
    {
     "name": "stdout",
     "output_type": "stream",
     "text": [
      "test_Acc:\u001b[1;32m94.444%\u001b[0m\n",
      "Best_eval:\u001b[1;32m[96.256%]\u001b[0m\n",
      "\u001b[35mHAM10000 ==> test ...\u001b[0m\n"
     ]
    },
    {
     "data": {
      "application/vnd.jupyter.widget-view+json": {
       "model_id": "f1046d3b82314b92a8cae2aa19f3125b",
       "version_major": 2,
       "version_minor": 0
      },
      "text/plain": [
       "  0%|          | 0/34 [00:00<?, ?it/s]"
      ]
     },
     "metadata": {},
     "output_type": "display_data"
    },
    {
     "name": "stdout",
     "output_type": "stream",
     "text": [
      "test_Acc:\u001b[1;32m94.565%\u001b[0m\n",
      "Best_eval:\u001b[1;32m[96.256%]\u001b[0m\n",
      "\u001b[35mHAM10000 ==> test ...\u001b[0m\n"
     ]
    },
    {
     "data": {
      "application/vnd.jupyter.widget-view+json": {
       "model_id": "809f07720e9249b5815fc29642addc37",
       "version_major": 2,
       "version_minor": 0
      },
      "text/plain": [
       "  0%|          | 0/34 [00:00<?, ?it/s]"
      ]
     },
     "metadata": {},
     "output_type": "display_data"
    },
    {
     "name": "stdout",
     "output_type": "stream",
     "text": [
      "test_Acc:\u001b[1;32m94.203%\u001b[0m\n",
      "Best_eval:\u001b[1;32m[96.256%]\u001b[0m\n",
      "\u001b[35mHAM10000 ==> test ...\u001b[0m\n"
     ]
    },
    {
     "data": {
      "application/vnd.jupyter.widget-view+json": {
       "model_id": "5e477234d5564bf09c0453333bfaf8e2",
       "version_major": 2,
       "version_minor": 0
      },
      "text/plain": [
       "  0%|          | 0/34 [00:00<?, ?it/s]"
      ]
     },
     "metadata": {},
     "output_type": "display_data"
    },
    {
     "name": "stdout",
     "output_type": "stream",
     "text": [
      "test_Acc:\u001b[1;32m93.961%\u001b[0m\n",
      "Best_eval:\u001b[1;32m[96.256%]\u001b[0m\n",
      "\u001b[35mHAM10000 ==> test ...\u001b[0m\n"
     ]
    },
    {
     "data": {
      "application/vnd.jupyter.widget-view+json": {
       "model_id": "d9e0a3bda15343a889986c24eb70154f",
       "version_major": 2,
       "version_minor": 0
      },
      "text/plain": [
       "  0%|          | 0/34 [00:00<?, ?it/s]"
      ]
     },
     "metadata": {},
     "output_type": "display_data"
    },
    {
     "name": "stdout",
     "output_type": "stream",
     "text": [
      "test_Acc:\u001b[1;32m93.599%\u001b[0m\n",
      "Best_eval:\u001b[1;32m[96.256%]\u001b[0m\n",
      "\u001b[35mHAM10000 ==> test ...\u001b[0m\n"
     ]
    },
    {
     "data": {
      "application/vnd.jupyter.widget-view+json": {
       "model_id": "31682c80925d4a8eb1329af767b1cfbe",
       "version_major": 2,
       "version_minor": 0
      },
      "text/plain": [
       "  0%|          | 0/34 [00:00<?, ?it/s]"
      ]
     },
     "metadata": {},
     "output_type": "display_data"
    },
    {
     "name": "stdout",
     "output_type": "stream",
     "text": [
      "test_Acc:\u001b[1;32m93.841%\u001b[0m\n",
      "Best_eval:\u001b[1;32m[96.256%]\u001b[0m\n",
      "Using 7 classes.\n",
      "using 51646 images for training, 1006 images for validation, 828 images for testing.\n",
      "size:322\n",
      "\u001b[35mHAM10000 ==> test ...\u001b[0m\n"
     ]
    },
    {
     "data": {
      "application/vnd.jupyter.widget-view+json": {
       "model_id": "111b0699c8f34d39bc51969eac00deb7",
       "version_major": 2,
       "version_minor": 0
      },
      "text/plain": [
       "  0%|          | 0/34 [00:00<?, ?it/s]"
      ]
     },
     "metadata": {},
     "output_type": "display_data"
    },
    {
     "name": "stdout",
     "output_type": "stream",
     "text": [
      "test_Acc:\u001b[1;32m93.841%\u001b[0m\n",
      "Best_eval:\u001b[1;32m[96.256%]\u001b[0m\n",
      "\u001b[35mHAM10000 ==> test ...\u001b[0m\n"
     ]
    },
    {
     "data": {
      "application/vnd.jupyter.widget-view+json": {
       "model_id": "70382f6e6027426191634d533153cb4f",
       "version_major": 2,
       "version_minor": 0
      },
      "text/plain": [
       "  0%|          | 0/34 [00:00<?, ?it/s]"
      ]
     },
     "metadata": {},
     "output_type": "display_data"
    },
    {
     "name": "stdout",
     "output_type": "stream",
     "text": [
      "test_Acc:\u001b[1;32m94.928%\u001b[0m\n",
      "Best_eval:\u001b[1;32m[96.256%]\u001b[0m\n",
      "\u001b[35mHAM10000 ==> test ...\u001b[0m\n"
     ]
    },
    {
     "data": {
      "application/vnd.jupyter.widget-view+json": {
       "model_id": "af55bdf1708f40cc9dfc5551db2dd1cf",
       "version_major": 2,
       "version_minor": 0
      },
      "text/plain": [
       "  0%|          | 0/34 [00:00<?, ?it/s]"
      ]
     },
     "metadata": {},
     "output_type": "display_data"
    },
    {
     "name": "stdout",
     "output_type": "stream",
     "text": [
      "test_Acc:\u001b[1;32m94.444%\u001b[0m\n",
      "Best_eval:\u001b[1;32m[96.256%]\u001b[0m\n",
      "\u001b[35mHAM10000 ==> test ...\u001b[0m\n"
     ]
    },
    {
     "data": {
      "application/vnd.jupyter.widget-view+json": {
       "model_id": "09083c3549c14857bb7883ae0b18140c",
       "version_major": 2,
       "version_minor": 0
      },
      "text/plain": [
       "  0%|          | 0/34 [00:00<?, ?it/s]"
      ]
     },
     "metadata": {},
     "output_type": "display_data"
    },
    {
     "name": "stdout",
     "output_type": "stream",
     "text": [
      "test_Acc:\u001b[1;32m94.203%\u001b[0m\n",
      "Best_eval:\u001b[1;32m[96.256%]\u001b[0m\n",
      "\u001b[35mHAM10000 ==> test ...\u001b[0m\n"
     ]
    },
    {
     "data": {
      "application/vnd.jupyter.widget-view+json": {
       "model_id": "8a748d1c110a41debfce75ca71d469f5",
       "version_major": 2,
       "version_minor": 0
      },
      "text/plain": [
       "  0%|          | 0/34 [00:00<?, ?it/s]"
      ]
     },
     "metadata": {},
     "output_type": "display_data"
    },
    {
     "name": "stdout",
     "output_type": "stream",
     "text": [
      "test_Acc:\u001b[1;32m93.72%\u001b[0m\n",
      "Best_eval:\u001b[1;32m[96.256%]\u001b[0m\n",
      "\u001b[35mHAM10000 ==> test ...\u001b[0m\n"
     ]
    },
    {
     "data": {
      "application/vnd.jupyter.widget-view+json": {
       "model_id": "47dc1b312f384455ba814f28616a1ec2",
       "version_major": 2,
       "version_minor": 0
      },
      "text/plain": [
       "  0%|          | 0/34 [00:00<?, ?it/s]"
      ]
     },
     "metadata": {},
     "output_type": "display_data"
    },
    {
     "name": "stdout",
     "output_type": "stream",
     "text": [
      "test_Acc:\u001b[1;32m94.324%\u001b[0m\n",
      "Best_eval:\u001b[1;32m[96.256%]\u001b[0m\n",
      "\u001b[35mHAM10000 ==> test ...\u001b[0m\n"
     ]
    },
    {
     "data": {
      "application/vnd.jupyter.widget-view+json": {
       "model_id": "83ebd71aea974f14b9638391de2ea7ee",
       "version_major": 2,
       "version_minor": 0
      },
      "text/plain": [
       "  0%|          | 0/34 [00:00<?, ?it/s]"
      ]
     },
     "metadata": {},
     "output_type": "display_data"
    },
    {
     "name": "stdout",
     "output_type": "stream",
     "text": [
      "test_Acc:\u001b[1;32m94.203%\u001b[0m\n",
      "Best_eval:\u001b[1;32m[96.256%]\u001b[0m\n",
      "\u001b[35mHAM10000 ==> test ...\u001b[0m\n"
     ]
    },
    {
     "data": {
      "application/vnd.jupyter.widget-view+json": {
       "model_id": "32242e7c54c34668b04b492cb326cb42",
       "version_major": 2,
       "version_minor": 0
      },
      "text/plain": [
       "  0%|          | 0/34 [00:00<?, ?it/s]"
      ]
     },
     "metadata": {},
     "output_type": "display_data"
    },
    {
     "name": "stdout",
     "output_type": "stream",
     "text": [
      "test_Acc:\u001b[1;32m94.928%\u001b[0m\n",
      "Best_eval:\u001b[1;32m[96.256%]\u001b[0m\n",
      "\u001b[35mHAM10000 ==> test ...\u001b[0m\n"
     ]
    },
    {
     "data": {
      "application/vnd.jupyter.widget-view+json": {
       "model_id": "b8790660cea94642a6d798928499726c",
       "version_major": 2,
       "version_minor": 0
      },
      "text/plain": [
       "  0%|          | 0/34 [00:00<?, ?it/s]"
      ]
     },
     "metadata": {},
     "output_type": "display_data"
    },
    {
     "name": "stdout",
     "output_type": "stream",
     "text": [
      "test_Acc:\u001b[1;32m94.203%\u001b[0m\n",
      "Best_eval:\u001b[1;32m[96.256%]\u001b[0m\n",
      "Using 7 classes.\n",
      "using 51646 images for training, 1006 images for validation, 828 images for testing.\n",
      "size:323\n",
      "\u001b[35mHAM10000 ==> test ...\u001b[0m\n"
     ]
    },
    {
     "data": {
      "application/vnd.jupyter.widget-view+json": {
       "model_id": "d5d2efa42572477a9a77e6d34f738621",
       "version_major": 2,
       "version_minor": 0
      },
      "text/plain": [
       "  0%|          | 0/34 [00:00<?, ?it/s]"
      ]
     },
     "metadata": {},
     "output_type": "display_data"
    },
    {
     "name": "stdout",
     "output_type": "stream",
     "text": [
      "test_Acc:\u001b[1;32m94.203%\u001b[0m\n",
      "Best_eval:\u001b[1;32m[96.256%]\u001b[0m\n",
      "\u001b[35mHAM10000 ==> test ...\u001b[0m\n"
     ]
    },
    {
     "data": {
      "application/vnd.jupyter.widget-view+json": {
       "model_id": "61093d747d0345c78fc64097fd7ada94",
       "version_major": 2,
       "version_minor": 0
      },
      "text/plain": [
       "  0%|          | 0/34 [00:00<?, ?it/s]"
      ]
     },
     "metadata": {},
     "output_type": "display_data"
    },
    {
     "name": "stdout",
     "output_type": "stream",
     "text": [
      "test_Acc:\u001b[1;32m94.203%\u001b[0m\n",
      "Best_eval:\u001b[1;32m[96.256%]\u001b[0m\n",
      "\u001b[35mHAM10000 ==> test ...\u001b[0m\n"
     ]
    },
    {
     "data": {
      "application/vnd.jupyter.widget-view+json": {
       "model_id": "b536aa84a8104872aad6df581b82d2e9",
       "version_major": 2,
       "version_minor": 0
      },
      "text/plain": [
       "  0%|          | 0/34 [00:00<?, ?it/s]"
      ]
     },
     "metadata": {},
     "output_type": "display_data"
    },
    {
     "name": "stdout",
     "output_type": "stream",
     "text": [
      "test_Acc:\u001b[1;32m94.444%\u001b[0m\n",
      "Best_eval:\u001b[1;32m[96.256%]\u001b[0m\n",
      "\u001b[35mHAM10000 ==> test ...\u001b[0m\n"
     ]
    },
    {
     "data": {
      "application/vnd.jupyter.widget-view+json": {
       "model_id": "85af57d2a3d244be937ff74f764843cf",
       "version_major": 2,
       "version_minor": 0
      },
      "text/plain": [
       "  0%|          | 0/34 [00:00<?, ?it/s]"
      ]
     },
     "metadata": {},
     "output_type": "display_data"
    },
    {
     "name": "stdout",
     "output_type": "stream",
     "text": [
      "test_Acc:\u001b[1;32m94.203%\u001b[0m\n",
      "Best_eval:\u001b[1;32m[96.256%]\u001b[0m\n",
      "\u001b[35mHAM10000 ==> test ...\u001b[0m\n"
     ]
    },
    {
     "data": {
      "application/vnd.jupyter.widget-view+json": {
       "model_id": "81d06b57a6164a5a8494c54746eb1a6d",
       "version_major": 2,
       "version_minor": 0
      },
      "text/plain": [
       "  0%|          | 0/34 [00:00<?, ?it/s]"
      ]
     },
     "metadata": {},
     "output_type": "display_data"
    },
    {
     "name": "stdout",
     "output_type": "stream",
     "text": [
      "test_Acc:\u001b[1;32m94.444%\u001b[0m\n",
      "Best_eval:\u001b[1;32m[96.256%]\u001b[0m\n",
      "\u001b[35mHAM10000 ==> test ...\u001b[0m\n"
     ]
    },
    {
     "data": {
      "application/vnd.jupyter.widget-view+json": {
       "model_id": "75452bed2da74e52bda358e21dca9f3c",
       "version_major": 2,
       "version_minor": 0
      },
      "text/plain": [
       "  0%|          | 0/34 [00:00<?, ?it/s]"
      ]
     },
     "metadata": {},
     "output_type": "display_data"
    },
    {
     "name": "stdout",
     "output_type": "stream",
     "text": [
      "test_Acc:\u001b[1;32m93.599%\u001b[0m\n",
      "Best_eval:\u001b[1;32m[96.256%]\u001b[0m\n",
      "\u001b[35mHAM10000 ==> test ...\u001b[0m\n"
     ]
    },
    {
     "data": {
      "application/vnd.jupyter.widget-view+json": {
       "model_id": "52e6801cde584fd48fe35f2bba563a10",
       "version_major": 2,
       "version_minor": 0
      },
      "text/plain": [
       "  0%|          | 0/34 [00:00<?, ?it/s]"
      ]
     },
     "metadata": {},
     "output_type": "display_data"
    },
    {
     "name": "stdout",
     "output_type": "stream",
     "text": [
      "test_Acc:\u001b[1;32m94.565%\u001b[0m\n",
      "Best_eval:\u001b[1;32m[96.256%]\u001b[0m\n",
      "\u001b[35mHAM10000 ==> test ...\u001b[0m\n"
     ]
    },
    {
     "data": {
      "application/vnd.jupyter.widget-view+json": {
       "model_id": "02392c48812042958144c05193f57d51",
       "version_major": 2,
       "version_minor": 0
      },
      "text/plain": [
       "  0%|          | 0/34 [00:00<?, ?it/s]"
      ]
     },
     "metadata": {},
     "output_type": "display_data"
    },
    {
     "name": "stdout",
     "output_type": "stream",
     "text": [
      "test_Acc:\u001b[1;32m93.599%\u001b[0m\n",
      "Best_eval:\u001b[1;32m[96.256%]\u001b[0m\n",
      "\u001b[35mHAM10000 ==> test ...\u001b[0m\n"
     ]
    },
    {
     "data": {
      "application/vnd.jupyter.widget-view+json": {
       "model_id": "22a979084295467f91fe67eb4a9dc081",
       "version_major": 2,
       "version_minor": 0
      },
      "text/plain": [
       "  0%|          | 0/34 [00:00<?, ?it/s]"
      ]
     },
     "metadata": {},
     "output_type": "display_data"
    },
    {
     "name": "stdout",
     "output_type": "stream",
     "text": [
      "test_Acc:\u001b[1;32m93.237%\u001b[0m\n",
      "Best_eval:\u001b[1;32m[96.256%]\u001b[0m\n",
      "Using 7 classes.\n",
      "using 51646 images for training, 1006 images for validation, 828 images for testing.\n",
      "size:324\n",
      "\u001b[35mHAM10000 ==> test ...\u001b[0m\n"
     ]
    },
    {
     "data": {
      "application/vnd.jupyter.widget-view+json": {
       "model_id": "6fb1d13cbdc14b13ae36eeeb25e7888d",
       "version_major": 2,
       "version_minor": 0
      },
      "text/plain": [
       "  0%|          | 0/34 [00:00<?, ?it/s]"
      ]
     },
     "metadata": {},
     "output_type": "display_data"
    },
    {
     "name": "stdout",
     "output_type": "stream",
     "text": [
      "test_Acc:\u001b[1;32m94.807%\u001b[0m\n",
      "Best_eval:\u001b[1;32m[96.256%]\u001b[0m\n",
      "\u001b[35mHAM10000 ==> test ...\u001b[0m\n"
     ]
    },
    {
     "data": {
      "application/vnd.jupyter.widget-view+json": {
       "model_id": "5479a9012d5c420f87f405b25c21e87d",
       "version_major": 2,
       "version_minor": 0
      },
      "text/plain": [
       "  0%|          | 0/34 [00:00<?, ?it/s]"
      ]
     },
     "metadata": {},
     "output_type": "display_data"
    },
    {
     "name": "stdout",
     "output_type": "stream",
     "text": [
      "test_Acc:\u001b[1;32m94.444%\u001b[0m\n",
      "Best_eval:\u001b[1;32m[96.256%]\u001b[0m\n",
      "\u001b[35mHAM10000 ==> test ...\u001b[0m\n"
     ]
    },
    {
     "data": {
      "application/vnd.jupyter.widget-view+json": {
       "model_id": "c1e465186a974a04b6beb93452cc71ef",
       "version_major": 2,
       "version_minor": 0
      },
      "text/plain": [
       "  0%|          | 0/34 [00:00<?, ?it/s]"
      ]
     },
     "metadata": {},
     "output_type": "display_data"
    },
    {
     "name": "stdout",
     "output_type": "stream",
     "text": [
      "test_Acc:\u001b[1;32m93.841%\u001b[0m\n",
      "Best_eval:\u001b[1;32m[96.256%]\u001b[0m\n",
      "\u001b[35mHAM10000 ==> test ...\u001b[0m\n"
     ]
    },
    {
     "data": {
      "application/vnd.jupyter.widget-view+json": {
       "model_id": "7ee8a2186bd74233bd4b82cfb7b3f9a0",
       "version_major": 2,
       "version_minor": 0
      },
      "text/plain": [
       "  0%|          | 0/34 [00:00<?, ?it/s]"
      ]
     },
     "metadata": {},
     "output_type": "display_data"
    },
    {
     "name": "stdout",
     "output_type": "stream",
     "text": [
      "test_Acc:\u001b[1;32m94.324%\u001b[0m\n",
      "Best_eval:\u001b[1;32m[96.256%]\u001b[0m\n",
      "\u001b[35mHAM10000 ==> test ...\u001b[0m\n"
     ]
    },
    {
     "data": {
      "application/vnd.jupyter.widget-view+json": {
       "model_id": "a5124b640e3d439a9c9ae015bba4a0b9",
       "version_major": 2,
       "version_minor": 0
      },
      "text/plain": [
       "  0%|          | 0/34 [00:00<?, ?it/s]"
      ]
     },
     "metadata": {},
     "output_type": "display_data"
    },
    {
     "name": "stdout",
     "output_type": "stream",
     "text": [
      "test_Acc:\u001b[1;32m94.324%\u001b[0m\n",
      "Best_eval:\u001b[1;32m[96.256%]\u001b[0m\n",
      "\u001b[35mHAM10000 ==> test ...\u001b[0m\n"
     ]
    },
    {
     "data": {
      "application/vnd.jupyter.widget-view+json": {
       "model_id": "7d6ad3075ea2462796b84807c7ed613f",
       "version_major": 2,
       "version_minor": 0
      },
      "text/plain": [
       "  0%|          | 0/34 [00:00<?, ?it/s]"
      ]
     },
     "metadata": {},
     "output_type": "display_data"
    },
    {
     "name": "stdout",
     "output_type": "stream",
     "text": [
      "test_Acc:\u001b[1;32m93.961%\u001b[0m\n",
      "Best_eval:\u001b[1;32m[96.256%]\u001b[0m\n",
      "\u001b[35mHAM10000 ==> test ...\u001b[0m\n"
     ]
    },
    {
     "data": {
      "application/vnd.jupyter.widget-view+json": {
       "model_id": "93ff5799adba4f0daf4ee566a5a07a19",
       "version_major": 2,
       "version_minor": 0
      },
      "text/plain": [
       "  0%|          | 0/34 [00:00<?, ?it/s]"
      ]
     },
     "metadata": {},
     "output_type": "display_data"
    },
    {
     "name": "stdout",
     "output_type": "stream",
     "text": [
      "test_Acc:\u001b[1;32m94.444%\u001b[0m\n",
      "Best_eval:\u001b[1;32m[96.256%]\u001b[0m\n",
      "\u001b[35mHAM10000 ==> test ...\u001b[0m\n"
     ]
    },
    {
     "data": {
      "application/vnd.jupyter.widget-view+json": {
       "model_id": "f22f7664bdc64d93816741c55ca3540c",
       "version_major": 2,
       "version_minor": 0
      },
      "text/plain": [
       "  0%|          | 0/34 [00:00<?, ?it/s]"
      ]
     },
     "metadata": {},
     "output_type": "display_data"
    },
    {
     "name": "stdout",
     "output_type": "stream",
     "text": [
      "test_Acc:\u001b[1;32m94.203%\u001b[0m\n",
      "Best_eval:\u001b[1;32m[96.256%]\u001b[0m\n",
      "\u001b[35mHAM10000 ==> test ...\u001b[0m\n"
     ]
    },
    {
     "data": {
      "application/vnd.jupyter.widget-view+json": {
       "model_id": "32ac1056612c43b8b4f7457d26cadbe8",
       "version_major": 2,
       "version_minor": 0
      },
      "text/plain": [
       "  0%|          | 0/34 [00:00<?, ?it/s]"
      ]
     },
     "metadata": {},
     "output_type": "display_data"
    },
    {
     "name": "stdout",
     "output_type": "stream",
     "text": [
      "test_Acc:\u001b[1;32m94.444%\u001b[0m\n",
      "Best_eval:\u001b[1;32m[96.256%]\u001b[0m\n"
     ]
    }
   ],
   "source": [
    "network.load_state_dict(torch.load(save_PATH))\n",
    "# dict_test = {}\n",
    "# dict_size = {}\n",
    "test_doc = \"test525png299\"\n",
    "for k in range(24,26):\n",
    "    T_size = k\n",
    "    for i in range(310,325):      \n",
    "        get_data(i)\n",
    "        print(f\"size:{i}\")\n",
    "        for j in range(9):\n",
    "            test()\n",
    "            if dict_size.get(i) is None or dict_size[i] < test_acc:\n",
    "                dict_size[i] = test_acc\n",
    "\n",
    "                if dict_test.get(k) is None or dict_test[k] < test_acc:\n",
    "                    dict_test[k] = test_acc\n",
    "\n",
    "            elif dict_test.get(k) is None or dict_test[k] < test_acc:\n",
    "                    dict_test[k] = test_acc"
   ]
  },
  {
   "cell_type": "code",
   "execution_count": 52,
   "metadata": {
    "execution": {
     "iopub.execute_input": "2022-07-01T01:20:21.153030Z",
     "iopub.status.busy": "2022-07-01T01:20:21.152947Z",
     "iopub.status.idle": "2022-07-01T01:20:21.163407Z",
     "shell.execute_reply": "2022-07-01T01:20:21.163161Z",
     "shell.execute_reply.started": "2022-07-01T01:20:21.153019Z"
    },
    "scrolled": true,
    "tags": []
   },
   "outputs": [
    {
     "name": "stdout",
     "output_type": "stream",
     "text": [
      "\u001b[31m=================Conclusion====================\u001b[0m\n",
      "Dataset:[\u001b[1;31mHAM10000\u001b[0m]\n",
      "Best_Epoch [\u001b[1;31m2428\u001b[0m]\n",
      "[Test] \u001b[31mACC:96.26%\u001b[0m.\n",
      "[(24, 96.25604152679443), (25, 95.04830837249756)]\n",
      "[(316, 96.25604152679443), (315, 95.89372277259827), (318, 95.89372277259827), (319, 95.89372277259827), (321, 95.89372277259827), (322, 95.89372277259827), (323, 95.89372277259827), (313, 95.77294588088989), (314, 95.77294588088989)]\n"
     ]
    }
   ],
   "source": [
    "show.conclusion(img_title=img_title) \n",
    "print(sorted(dict_test.items(), key=lambda x: x[1], reverse=True)[0:9])\n",
    "print(sorted(dict_size.items(), key=lambda x: x[1], reverse=True)[0:9])"
   ]
  },
  {
   "cell_type": "code",
   "execution_count": 53,
   "metadata": {
    "execution": {
     "iopub.execute_input": "2022-07-01T01:20:21.164165Z",
     "iopub.status.busy": "2022-07-01T01:20:21.164012Z",
     "iopub.status.idle": "2022-07-01T01:20:21.555907Z",
     "shell.execute_reply": "2022-07-01T01:20:21.555650Z",
     "shell.execute_reply.started": "2022-07-01T01:20:21.164152Z"
    },
    "tags": []
   },
   "outputs": [
    {
     "data": {
      "image/png": "[encoded data removed]",
      "text/plain": [
       "<Figure size 576x396 with 1 Axes>"
      ]
     },
     "metadata": {},
     "output_type": "display_data"
    }
   ],
   "source": [
    "draw_size_acc(dict_size,custom_path='./tmp',img_title=img_title,suf=suf)"
   ]
  },
  {
   "cell_type": "code",
   "execution_count": 54,
   "metadata": {
    "execution": {
     "iopub.execute_input": "2022-07-01T01:20:21.556447Z",
     "iopub.status.busy": "2022-07-01T01:20:21.556329Z",
     "iopub.status.idle": "2022-07-01T01:20:21.566393Z",
     "shell.execute_reply": "2022-07-01T01:20:21.566021Z",
     "shell.execute_reply.started": "2022-07-01T01:20:21.556434Z"
    },
    "tags": []
   },
   "outputs": [
    {
     "name": "stdout",
     "output_type": "stream",
     "text": [
      "+--------+-----------+--------+-------+----------+\n",
      "|  Type  | Precision | Recall |   F1  | Accuracy |\n",
      "+--------+-----------+--------+-------+----------+\n",
      "| akiec  |   0.8462  | 0.957  | 0.898 |          |\n",
      "|  bcc   |    0.84   | 0.808  | 0.824 |          |\n",
      "|  bkl   |   0.9014  |  0.97  | 0.934 |          |\n",
      "|   df   |    1.0    | 0.167  | 0.286 |          |\n",
      "|  mel   |   0.7714  | 0.794  | 0.783 |          |\n",
      "|   nv   |   0.9894  | 0.983  | 0.986 |          |\n",
      "|  vasc  |   0.9091  |  1.0   | 0.952 |          |\n",
      "| Total: |           |        |       |  0.9626  |\n",
      "+--------+-----------+--------+-------+----------+\n"
     ]
    }
   ],
   "source": [
    "metrics_scores(test_evl_result,n_classes,cla_dict)"
   ]
  },
  {
   "cell_type": "code",
   "execution_count": null,
   "metadata": {
    "tags": []
   },
   "outputs": [],
   "source": [
    "show.train(opt='Acc',write=True,custom_path='./tmp',img_title=img_title,suf=suf)"
   ]
  },
  {
   "cell_type": "code",
   "execution_count": null,
   "metadata": {
    "tags": []
   },
   "outputs": [],
   "source": [
    "show.val(write=True,custom_path='./tmp',img_title=img_title,suf=suf)"
   ]
  },
  {
   "cell_type": "code",
   "execution_count": null,
   "metadata": {
    "tags": []
   },
   "outputs": [],
   "source": [
    "confusion_matrix(val_evl_result,n_classes,cla_dict,test_dataset,img_title=img_title,suf=suf)"
   ]
  },
  {
   "cell_type": "code",
   "execution_count": null,
   "metadata": {
    "tags": []
   },
   "outputs": [],
   "source": [
    "show.test(write=True,custom_path='./tmp',img_title=img_title,suf=suf)"
   ]
  },
  {
   "cell_type": "code",
   "execution_count": null,
   "metadata": {
    "tags": []
   },
   "outputs": [],
   "source": [
    "confusion_matrix(test_evl_result,n_classes,cla_dict,test_dataset,img_title=img_title,suf=suf)"
   ]
  },
  {
   "cell_type": "code",
   "execution_count": null,
   "metadata": {
    "tags": []
   },
   "outputs": [],
   "source": [
    "plt.clf()#clear photo\n",
    "show.train(write=True,custom_path='./tmp',img_title=img_title,suf=suf)"
   ]
  },
  {
   "cell_type": "code",
   "execution_count": null,
   "metadata": {
    "tags": []
   },
   "outputs": [],
   "source": [
    "# network.load_state_dict(torch.load(save_PATH))\n",
    "# dummy_input = torch.randn(1, 3, 299, 299,dtype=torch.float).to(device)\n",
    "# starter, ender = torch.cuda.Event(enable_timing=True), torch.cuda.Event(enable_timing=True)\n",
    "# repetitions = 300\n",
    "# timings=np.zeros((repetitions,1))\n",
    "# #GPU-WARM-UP\n",
    "# for _ in range(10):\n",
    "#     _ = network(dummy_input)\n",
    "#     # MEASURE PERFORMANCE\n",
    "#     with torch.no_grad():\n",
    "#         for rep in range(repetitions):\n",
    "#             starter.record()\n",
    "#             _ = network(dummy_input)\n",
    "#             ender.record()\n",
    "#             # WAIT FOR GPU SYNC\n",
    "#             torch.cuda.synchronize()\n",
    "#             curr_time = starter.elapsed_time(ender)\n",
    "#             timings[rep] = curr_time\n",
    "#     mean_syn = np.sum(timings) / repetitions\n",
    "#     std_syn = np.std(timings)\n",
    "#     mean_fps = 1000. / mean_syn\n",
    "#     print(' * Mean@1 {mean_syn:.3f}ms Std@5 {std_syn:.3f}ms FPS@1 {mean_fps:.2f}'.format(mean_syn=mean_syn, std_syn=std_syn, mean_fps=mean_fps))\n",
    "#     print(mean_syn)"
   ]
  }
 ],
 "metadata": {
  "kernelspec": {
   "display_name": "torch1.8",
   "language": "python",
   "name": "woodman"
  },
  "language_info": {
   "codemirror_mode": {
    "name": "ipython",
    "version": 3
   },
   "file_extension": ".py",
   "mimetype": "text/x-python",
   "name": "python",
   "nbconvert_exporter": "python",
   "pygments_lexer": "ipython3",
   "version": "3.8.12"
  },
  "toc-autonumbering": true,
  "toc-showmarkdowntxt": true
 },
 "nbformat": 4,
 "nbformat_minor": 4
}
