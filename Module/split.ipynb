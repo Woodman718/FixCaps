{
 "cells": [
  {
   "cell_type": "code",
   "execution_count": 3,
   "id": "5a2f24a0-f5a4-4a7f-86b6-d9852c2d24e6",
   "metadata": {
    "execution": {
     "iopub.execute_input": "2022-06-17T03:51:13.282010Z",
     "iopub.status.busy": "2022-06-17T03:51:13.281475Z",
     "iopub.status.idle": "2022-06-17T03:51:13.289961Z",
     "shell.execute_reply": "2022-06-17T03:51:13.288183Z",
     "shell.execute_reply.started": "2022-06-17T03:51:13.281948Z"
    },
    "tags": []
   },
   "outputs": [],
   "source": [
    "import os\n",
    "from shutil import copy, rmtree\n",
    "import random"
   ]
  },
  {
   "cell_type": "code",
   "execution_count": 4,
   "id": "2bf3046f-5635-453b-81bd-6f2bc913b342",
   "metadata": {
    "execution": {
     "iopub.execute_input": "2022-06-17T03:51:13.655589Z",
     "iopub.status.busy": "2022-06-17T03:51:13.655104Z",
     "iopub.status.idle": "2022-06-17T03:51:13.664124Z",
     "shell.execute_reply": "2022-06-17T03:51:13.662688Z",
     "shell.execute_reply.started": "2022-06-17T03:51:13.655529Z"
    },
    "tags": []
   },
   "outputs": [],
   "source": [
    "def mk_file(file_path: str):\n",
    "    if os.path.exists(file_path):\n",
    "        # 如果文件夹存在，则先删除原文件夹在重新创建\n",
    "        rmtree(file_path)\n",
    "    os.makedirs(file_path)"
   ]
  },
  {
   "cell_type": "code",
   "execution_count": 19,
   "id": "d4d6ed3a-0f0c-41ac-a64a-6d801fb3d06f",
   "metadata": {
    "execution": {
     "iopub.execute_input": "2022-06-17T04:08:54.464381Z",
     "iopub.status.busy": "2022-06-17T04:08:54.464080Z",
     "iopub.status.idle": "2022-06-17T04:08:54.470497Z",
     "shell.execute_reply": "2022-06-17T04:08:54.469703Z",
     "shell.execute_reply.started": "2022-06-17T04:08:54.464350Z"
    },
    "tags": []
   },
   "outputs": [],
   "source": [
    "# 保证随机可复现\n",
    "random.seed(0)\n",
    "\n",
    "# 将数据集中10%的数据划分到验证集中\n",
    "split_rate = 0.11\n",
    "\n",
    "# 指向你解压后的data文件夹\n",
    "cwd = os.getcwd()\n",
    "# data_root = os.path.join(cwd, \"data_data\")#win_powershell\n",
    "data_root = os.path.abspath(os.path.join(cwd))\n",
    "origin_data_path = os.path.join(data_root, \"train525orig\")\n",
    "assert os.path.exists(origin_data_path), \"path '{}' does not exist.\".format(origin_data_path)"
   ]
  },
  {
   "cell_type": "code",
   "execution_count": 20,
   "id": "94787de7-548b-44db-8aaf-8d7061c0d58e",
   "metadata": {
    "execution": {
     "iopub.execute_input": "2022-06-17T04:09:05.677297Z",
     "iopub.status.busy": "2022-06-17T04:09:05.676996Z",
     "iopub.status.idle": "2022-06-17T04:09:05.685669Z",
     "shell.execute_reply": "2022-06-17T04:09:05.685004Z",
     "shell.execute_reply.started": "2022-06-17T04:09:05.677265Z"
    },
    "tags": []
   },
   "outputs": [],
   "source": [
    "data_class = [cla for cla in os.listdir(origin_data_path)\n",
    "                if os.path.isdir(os.path.join(origin_data_path, cla))]\n",
    "\n",
    "# 建立保存训练集的文件夹\n",
    "train_root = os.path.join(data_root, \"train525s8\")\n",
    "mk_file(train_root)\n",
    "for cla in data_class:\n",
    "    # 建立每个类别对应的文件夹\n",
    "    mk_file(os.path.join(train_root, cla))\n",
    "\n",
    "# 建立保存验证集的文件夹\n",
    "val_root = os.path.join(data_root, \"val525s8\")\n",
    "mk_file(val_root)\n",
    "for cla in data_class:\n",
    "    # 建立每个类别对应的文件夹\n",
    "    mk_file(os.path.join(val_root, cla))"
   ]
  },
  {
   "cell_type": "code",
   "execution_count": 21,
   "id": "288fa080-aa81-4bb2-8153-cedafdc7e016",
   "metadata": {
    "execution": {
     "iopub.execute_input": "2022-06-17T04:09:10.907655Z",
     "iopub.status.busy": "2022-06-17T04:09:10.907343Z",
     "iopub.status.idle": "2022-06-17T04:09:17.561443Z",
     "shell.execute_reply": "2022-06-17T04:09:17.560564Z",
     "shell.execute_reply.started": "2022-06-17T04:09:10.907623Z"
    },
    "tags": []
   },
   "outputs": [
    {
     "name": "stdout",
     "output_type": "stream",
     "text": [
      "[vasc] processing [132/132]\n",
      "[nv] processing [6042/6042]\n",
      "[bkl] processing [1033/1033]\n",
      "[akiec] processing [304/304]\n",
      "[mel] processing [1079/1079]\n",
      "[df] processing [109/109]\n",
      "[bcc] processing [488/488]\n",
      "processing 9187 done!\n"
     ]
    }
   ],
   "source": [
    "total_num = 0\n",
    "for cla in data_class:\n",
    "    cla_path = os.path.join(origin_data_path, cla)\n",
    "    images = os.listdir(cla_path)\n",
    "    num = len(images)\n",
    "    total_num += num\n",
    "    # 随机采样验证集的索引\n",
    "    eval_index = random.sample(images, k=int(num*split_rate))\n",
    "    for index, image in enumerate(images):\n",
    "        if image in eval_index:\n",
    "            # 将分配至验证集中的文件复制到相应目录\n",
    "            image_path = os.path.join(cla_path, image)\n",
    "            new_path = os.path.join(val_root, cla)\n",
    "            copy(image_path, new_path)\n",
    "        else:\n",
    "            # 将分配至训练集中的文件复制到相应目录\n",
    "            image_path = os.path.join(cla_path, image)\n",
    "            new_path = os.path.join(train_root, cla)\n",
    "            copy(image_path, new_path)\n",
    "        print(\"\\r[{}] processing [{}/{}]\".format(cla, index+1, num), end=\"\")  # processing bar\n",
    "    print()\n",
    "\n",
    "print(f\"processing {total_num} done!\")"
   ]
  },
  {
   "cell_type": "code",
   "execution_count": 22,
   "id": "0ac90863-c2f9-42b1-8fd8-31f734d45287",
   "metadata": {
    "execution": {
     "iopub.execute_input": "2022-06-17T04:09:17.563677Z",
     "iopub.status.busy": "2022-06-17T04:09:17.563444Z",
     "iopub.status.idle": "2022-06-17T04:09:18.180982Z",
     "shell.execute_reply": "2022-06-17T04:09:18.180033Z",
     "shell.execute_reply.started": "2022-06-17T04:09:17.563646Z"
    },
    "tags": []
   },
   "outputs": [
    {
     "name": "stdout",
     "output_type": "stream",
     "text": [
      "==train525s8==\n",
      "\u001b[33makiec:\u001b[0m \t271\n",
      "\u001b[33mbcc:\u001b[0m \t435\n",
      "\u001b[33mbkl:\u001b[0m \t920\n",
      "\u001b[33mdf:\u001b[0m \t98\n",
      "\u001b[33mmel:\u001b[0m \t961\n",
      "\u001b[33mnv:\u001b[0m \t5378\n",
      "\u001b[33mvasc:\u001b[0m \t118\n",
      "total:8181\n"
     ]
    }
   ],
   "source": [
    "! bash echo_num.sh train525s8 #0.816"
   ]
  },
  {
   "cell_type": "code",
   "execution_count": 23,
   "id": "958c866c-0dca-4e9a-b05b-dfd4210400ce",
   "metadata": {
    "execution": {
     "iopub.execute_input": "2022-06-17T04:09:22.975333Z",
     "iopub.status.busy": "2022-06-17T04:09:22.972611Z",
     "iopub.status.idle": "2022-06-17T04:09:23.130407Z",
     "shell.execute_reply": "2022-06-17T04:09:23.128518Z",
     "shell.execute_reply.started": "2022-06-17T04:09:22.975255Z"
    },
    "tags": []
   },
   "outputs": [
    {
     "name": "stdout",
     "output_type": "stream",
     "text": [
      "==val525s8==\n",
      "\u001b[33makiec:\u001b[0m \t33\n",
      "\u001b[33mbcc:\u001b[0m \t53\n",
      "\u001b[33mbkl:\u001b[0m \t113\n",
      "\u001b[33mdf:\u001b[0m \t11\n",
      "\u001b[33mmel:\u001b[0m \t118\n",
      "\u001b[33mnv:\u001b[0m \t664\n",
      "\u001b[33mvasc:\u001b[0m \t14\n",
      "total:1006\n"
     ]
    }
   ],
   "source": [
    "! bash echo_num.sh val525s8 #0.100"
   ]
  },
  {
   "cell_type": "code",
   "execution_count": 18,
   "id": "c2f32ce0-952e-433d-a4ba-2738d45f67c0",
   "metadata": {
    "execution": {
     "iopub.execute_input": "2022-06-17T03:59:10.236925Z",
     "iopub.status.busy": "2022-06-17T03:59:10.236380Z",
     "iopub.status.idle": "2022-06-17T03:59:10.384762Z",
     "shell.execute_reply": "2022-06-17T03:59:10.383062Z",
     "shell.execute_reply.started": "2022-06-17T03:59:10.236870Z"
    },
    "tags": []
   },
   "outputs": [
    {
     "name": "stdout",
     "output_type": "stream",
     "text": [
      "==test525==\n",
      "\u001b[33makiec:\u001b[0m \t23\n",
      "\u001b[33mbcc:\u001b[0m \t26\n",
      "\u001b[33mbkl:\u001b[0m \t66\n",
      "\u001b[33mdf:\u001b[0m \t6\n",
      "\u001b[33mmel:\u001b[0m \t34\n",
      "\u001b[33mnv:\u001b[0m \t663\n",
      "\u001b[33mvasc:\u001b[0m \t10\n",
      "total:828\n"
     ]
    }
   ],
   "source": [
    "! ./echo_num.sh test525 #0.082"
   ]
  }
 ],
 "metadata": {
  "kernelspec": {
   "display_name": "Python 3 (ipykernel)",
   "language": "python",
   "name": "python3"
  },
  "language_info": {
   "codemirror_mode": {
    "name": "ipython",
    "version": 3
   },
   "file_extension": ".py",
   "mimetype": "text/x-python",
   "name": "python",
   "nbconvert_exporter": "python",
   "pygments_lexer": "ipython3",
   "version": "3.8.11"
  }
 },
 "nbformat": 4,
 "nbformat_minor": 5
}
