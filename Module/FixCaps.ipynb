{
 "cells": [
  {
   "cell_type": "code",
   "execution_count": 1,
   "metadata": {
    "execution": {
     "iopub.execute_input": "2022-04-28T15:58:00.315067Z",
     "iopub.status.busy": "2022-04-28T15:58:00.314067Z",
     "iopub.status.idle": "2022-04-28T15:58:00.356468Z",
     "shell.execute_reply": "2022-04-28T15:58:00.356468Z",
     "shell.execute_reply.started": "2022-04-28T15:58:00.314067Z"
    },
    "tags": []
   },
   "outputs": [],
   "source": [
    "%load_ext autoreload\n",
    "%autoreload 2"
   ]
  },
  {
   "cell_type": "code",
   "execution_count": 2,
   "metadata": {
    "execution": {
     "iopub.execute_input": "2022-04-28T15:58:00.357397Z",
     "iopub.status.busy": "2022-04-28T15:58:00.357397Z",
     "iopub.status.idle": "2022-04-28T15:58:06.849108Z",
     "shell.execute_reply": "2022-04-28T15:58:06.848623Z",
     "shell.execute_reply.started": "2022-04-28T15:58:00.357397Z"
    },
    "tags": [],
    "uuid": "5cde640c-432f-4f8a-9f00-017bf8c65e34"
   },
   "outputs": [],
   "source": [
    "import torch\n",
    "import sys, os\n",
    "import json\n",
    "import torch.nn as nn  \n",
    "import numpy as np\n",
    "import pandas as pd\n",
    "import matplotlib.pyplot as plt\n",
    "import torch.optim as optim\n",
    "\n",
    "import prettytable\n",
    "import time\n",
    "import sys\n",
    "sys.setrecursionlimit(18000)\n",
    "\n",
    "from PIL import Image\n",
    "from torch.optim import lr_scheduler\n",
    "from sklearn.metrics import roc_auc_score\n",
    "from torch.autograd import Variable\n",
    "from torchvision import datasets, transforms\n",
    "from torchsummary import summary\n",
    "from tqdm.notebook import tqdm\n",
    "from torch.utils.data import random_split\n",
    "\n",
    "from model0409 import FixCapsNet\n",
    "from images_show import ImageShow"
   ]
  },
  {
   "cell_type": "code",
   "execution_count": 3,
   "metadata": {
    "execution": {
     "iopub.execute_input": "2022-04-28T15:58:06.850115Z",
     "iopub.status.busy": "2022-04-28T15:58:06.850115Z",
     "iopub.status.idle": "2022-04-28T15:58:06.911549Z",
     "shell.execute_reply": "2022-04-28T15:58:06.911549Z",
     "shell.execute_reply.started": "2022-04-28T15:58:06.850115Z"
    },
    "tags": [],
    "uuid": "a391afe8-e37b-4ef6-ab2e-c0bdbb7849ee"
   },
   "outputs": [],
   "source": [
    "# Settings.\n",
    "sys.path.append(os.pardir)\n",
    "device = torch.device('cuda' if torch.cuda.is_available() else \"cpu\")\n",
    "img_title = \"HAM10000\"\n",
    "best_acc= 0.\n",
    "#defined \n",
    "try:\n",
    "    print(len(test_acc_list))\n",
    "except NameError:\n",
    "    train_loss_list = []\n",
    "    train_acc_list = []\n",
    "    test_loss_list = []\n",
    "    test_acc_list = []\n",
    "    test_auc_list = []\n",
    "    val_loss_list = []\n",
    "    val_acc_list = []\n",
    "#activate ImageShow\n",
    "show = ImageShow(train_loss_list=train_loss_list,\n",
    "                train_acc_list=train_acc_list,\n",
    "                test_loss_list=test_loss_list,\n",
    "                test_acc_list=test_acc_list,\n",
    "                test_auc_list=test_auc_list,\n",
    "                val_loss_list=val_loss_list,\n",
    "                val_acc_list=val_acc_list,\n",
    "                )"
   ]
  },
  {
   "cell_type": "code",
   "execution_count": 4,
   "metadata": {
    "execution": {
     "iopub.execute_input": "2022-04-28T15:58:06.912419Z",
     "iopub.status.busy": "2022-04-28T15:58:06.912419Z",
     "iopub.status.idle": "2022-04-28T15:58:06.974629Z",
     "shell.execute_reply": "2022-04-28T15:58:06.974629Z",
     "shell.execute_reply.started": "2022-04-28T15:58:06.912419Z"
    },
    "tags": []
   },
   "outputs": [],
   "source": [
    "data_transform = {\n",
    "    \"train\": transforms.Compose([transforms.RandomResizedCrop((299, 299)),\n",
    "                                 transforms.RandomVerticalFlip(),\n",
    "                                 transforms.ToTensor(),\n",
    "                                 transforms.Normalize((0.5, 0.5, 0.5), (0.5, 0.5, 0.5))]),\n",
    "    \"val\": transforms.Compose([transforms.Resize((308,308)),\n",
    "                               transforms.CenterCrop((299, 299)),\n",
    "                               transforms.ToTensor(),\n",
    "                               transforms.Normalize((0.5, 0.5, 0.5), (0.5, 0.5, 0.5))\n",
    "                              ])\n",
    "    }"
   ]
  },
  {
   "cell_type": "code",
   "execution_count": 5,
   "metadata": {
    "execution": {
     "iopub.execute_input": "2022-04-28T15:58:06.975658Z",
     "iopub.status.busy": "2022-04-28T15:58:06.975658Z",
     "iopub.status.idle": "2022-04-28T15:58:08.997378Z",
     "shell.execute_reply": "2022-04-28T15:58:08.997378Z",
     "shell.execute_reply.started": "2022-04-28T15:58:06.975658Z"
    },
    "tags": []
   },
   "outputs": [
    {
     "name": "stdout",
     "output_type": "stream",
     "text": [
      "Using 7 types.\n",
      "Using 10 dataloader workers every process.\n",
      "using 51699 images for training, 828 images for validation.\n"
     ]
    }
   ],
   "source": [
    "root_path = os.path.abspath(os.path.join(os.getcwd(), \"..\"))\n",
    "image_path = os.path.abspath(os.path.join(root_path,\"skin_lesion\"))\n",
    "assert os.path.exists(image_path), \"{} path does not exist.\".format(image_path)\n",
    "\n",
    "train_dataset = datasets.ImageFolder(root=os.path.join(image_path, \"train\"),\n",
    "                                     transform=data_transform[\"train\"])\n",
    "test_dataset = datasets.ImageFolder(root=os.path.join(image_path,\"test\"),\n",
    "                                      transform=data_transform[\"val\"])\n",
    "train_num = len(train_dataset)\n",
    "test_num = len(test_dataset)\n",
    "\n",
    "img_sample = Image.open(test_dataset.imgs[1][0])\n",
    "n_channels = np.array(img_sample).shape[2]#(H,W,C)\n",
    "\n",
    "data_list = train_dataset.class_to_idx #\n",
    "cla_dict = dict((val, key) for key, val in data_list.items())\n",
    "n_classes  = len(data_list)\n",
    "print(f'Using {n_classes} types.')\n",
    "\n",
    "# write dict into json file\n",
    "json_str = json.dumps(cla_dict, indent=4)\n",
    "with open(f'{img_title}.json', 'w') as json_file:#class_indices\n",
    "    json_file.write(json_str)\n",
    "\n",
    "BatchSize = 128\n",
    "T_size = 31\n",
    "nw = min([os.cpu_count(), BatchSize if BatchSize > 1 else 0, 10]) \n",
    "print(f'Using {nw} dataloader workers every process.')\n",
    "pin_memory = True\n",
    "train_loader = torch.utils.data.DataLoader(train_dataset, batch_size=BatchSize,pin_memory=pin_memory,\n",
    "                                           shuffle=True, num_workers=nw)\n",
    "test_loader = torch.utils.data.DataLoader(test_dataset,batch_size=T_size,pin_memory=pin_memory,\n",
    "                                          shuffle=False, num_workers=nw)\n",
    "\n",
    "print(\"using {} images for training, {} images for validation.\".format(train_num, test_num))"
   ]
  },
  {
   "cell_type": "code",
   "execution_count": 6,
   "metadata": {
    "execution": {
     "iopub.execute_input": "2022-04-28T15:58:08.998380Z",
     "iopub.status.busy": "2022-04-28T15:58:08.998380Z",
     "iopub.status.idle": "2022-04-28T15:58:15.720977Z",
     "shell.execute_reply": "2022-04-28T15:58:15.720977Z",
     "shell.execute_reply.started": "2022-04-28T15:58:08.998380Z"
    },
    "scrolled": true,
    "tags": [],
    "uuid": "35479142-bb8f-4c72-b31f-04bed7bf7c10"
   },
   "outputs": [
    {
     "name": "stdout",
     "output_type": "stream",
     "text": [
      "----------------------------------------------------------------\n",
      "        Layer (type)               Output Shape         Param #\n",
      "================================================================\n",
      "            Conv2d-1        [-1, 128, 135, 135]         369,152\n",
      "              ReLU-2        [-1, 128, 135, 135]               0\n",
      "FractionalMaxPool2d-3          [-1, 128, 20, 20]               0\n",
      "            Conv2d-4          [-1, 128, 20, 20]          16,384\n",
      "       BatchNorm2d-5          [-1, 128, 20, 20]             256\n",
      "         Hardswish-6          [-1, 128, 20, 20]               0\n",
      " AdaptiveAvgPool2d-7            [-1, 128, 1, 1]               0\n",
      "            Conv2d-8            [-1, 128, 1, 1]          16,384\n",
      "              ReLU-9            [-1, 128, 1, 1]               0\n",
      "           Conv2d-10            [-1, 128, 1, 1]          16,384\n",
      "AdaptiveMaxPool2d-11            [-1, 128, 1, 1]               0\n",
      "           Conv2d-12            [-1, 128, 1, 1]          16,384\n",
      "             ReLU-13            [-1, 128, 1, 1]               0\n",
      "           Conv2d-14            [-1, 128, 1, 1]          16,384\n",
      "          Sigmoid-15            [-1, 128, 1, 1]               0\n",
      " ChannelAttention-16            [-1, 128, 1, 1]               0\n",
      "           Conv2d-17            [-1, 1, 20, 20]              18\n",
      "          Sigmoid-18            [-1, 1, 20, 20]               0\n",
      " SpatialAttention-19            [-1, 1, 20, 20]               0\n",
      "        Conv_CBAM-20          [-1, 128, 20, 20]               0\n",
      "           Conv2d-21             [-1, 16, 6, 6]          10,384\n",
      "         ConvUnit-22             [-1, 16, 6, 6]               0\n",
      "           Conv2d-23             [-1, 16, 6, 6]          10,384\n",
      "         ConvUnit-24             [-1, 16, 6, 6]               0\n",
      "           Conv2d-25             [-1, 16, 6, 6]          10,384\n",
      "         ConvUnit-26             [-1, 16, 6, 6]               0\n",
      "           Conv2d-27             [-1, 16, 6, 6]          10,384\n",
      "         ConvUnit-28             [-1, 16, 6, 6]               0\n",
      "           Conv2d-29             [-1, 16, 6, 6]          10,384\n",
      "         ConvUnit-30             [-1, 16, 6, 6]               0\n",
      "           Conv2d-31             [-1, 16, 6, 6]          10,384\n",
      "         ConvUnit-32             [-1, 16, 6, 6]               0\n",
      "           Conv2d-33             [-1, 16, 6, 6]          10,384\n",
      "         ConvUnit-34             [-1, 16, 6, 6]               0\n",
      "           Conv2d-35             [-1, 16, 6, 6]          10,384\n",
      "         ConvUnit-36             [-1, 16, 6, 6]               0\n",
      "     Primary_Caps-37               [-1, 8, 576]               0\n",
      "      Digits_Caps-38             [-1, 7, 16, 1]               0\n",
      "================================================================\n",
      "Total params: 534,418\n",
      "Trainable params: 534,418\n",
      "Non-trainable params: 0\n",
      "----------------------------------------------------------------\n",
      "Input size (MB): 1.02\n",
      "Forward/backward pass size (MB): 37.67\n",
      "Params size (MB): 2.04\n",
      "Estimated Total Size (MB): 40.74\n",
      "----------------------------------------------------------------\n"
     ]
    }
   ],
   "source": [
    "# Create capsule network.\n",
    "conv_outputs = 128 #128_Feature_map\n",
    "num_primary_units = 8\n",
    "primary_unit_size = 16 * 6 * 6\n",
    "output_unit_size = 16\n",
    "img_size = 299\n",
    "network = FixCapsNet(conv_inputs= n_channels,\n",
    "                     conv_outputs=conv_outputs,\n",
    "                     num_primary_units=num_primary_units,\n",
    "                     primary_unit_size=primary_unit_size,\n",
    "                     output_unit_size=output_unit_size,\n",
    "                     num_classes=n_classes,\n",
    "                     init_weights=True)\n",
    "\n",
    "network = network.to(device)\n",
    "summary(network,(n_channels,img_size,img_size))\n",
    "# network"
   ]
  },
  {
   "cell_type": "code",
   "execution_count": 7,
   "metadata": {
    "execution": {
     "iopub.execute_input": "2022-04-28T15:58:15.721958Z",
     "iopub.status.busy": "2022-04-28T15:58:15.721958Z",
     "iopub.status.idle": "2022-04-28T15:58:15.785063Z",
     "shell.execute_reply": "2022-04-28T15:58:15.785063Z",
     "shell.execute_reply.started": "2022-04-28T15:58:15.721958Z"
    },
    "tags": []
   },
   "outputs": [],
   "source": [
    "learning_rate = 0.123\n",
    "optimizer = optim.Adam(network.parameters(), lr=learning_rate)\n",
    "scheduler = lr_scheduler.CosineAnnealingLR(optimizer, 5, eta_min=1e-8, last_epoch=-1)"
   ]
  },
  {
   "cell_type": "code",
   "execution_count": 8,
   "metadata": {
    "execution": {
     "iopub.execute_input": "2022-04-28T15:58:15.785972Z",
     "iopub.status.busy": "2022-04-28T15:58:15.785972Z",
     "iopub.status.idle": "2022-04-28T15:58:15.846364Z",
     "shell.execute_reply": "2022-04-28T15:58:15.846364Z",
     "shell.execute_reply.started": "2022-04-28T15:58:15.785972Z"
    },
    "tags": []
   },
   "outputs": [],
   "source": [
    "def confusion_matrix(evl_result):\n",
    "\n",
    "    plt.style.use(\"seaborn\")#classic\n",
    "    plt.yticks(range(n_classes),cla_dict.values())\n",
    "    plt.xticks(range(n_classes),cla_dict.values())    \n",
    "    plt.title(\"Confusion Matrix\")\n",
    "    plt.imshow(evl_result,cmap=plt.cm.Greens)\n",
    "    for i in range(len(evl_result)):\n",
    "        for j in range(len(evl_result[i])):\n",
    "            plt.text(j,i,int(evl_result[i][j]))\n",
    "\n",
    "    plt.colorbar()\n",
    "    plt.savefig(f\"./tmp/{img_title}/{suf}/Confusion Matrix.png\",dpi=128)"
   ]
  },
  {
   "cell_type": "code",
   "execution_count": 9,
   "metadata": {
    "execution": {
     "iopub.execute_input": "2022-04-28T15:58:15.847230Z",
     "iopub.status.busy": "2022-04-28T15:58:15.847230Z",
     "iopub.status.idle": "2022-04-28T15:58:15.909579Z",
     "shell.execute_reply": "2022-04-28T15:58:15.909579Z",
     "shell.execute_reply.started": "2022-04-28T15:58:15.847230Z"
    },
    "tags": []
   },
   "outputs": [],
   "source": [
    "def self_scores(opt=\"scores\"):\n",
    "    result_table = prettytable.PrettyTable()\n",
    "    result_table.field_names = ['Type','Precision', 'Recall', 'F1','Accuracy']    \n",
    "    accuracy = float(torch.sum(evl_result.diagonal())/torch.sum(evl_result))\n",
    "\n",
    "    for i in range(n_classes):\n",
    "        pre = float(evl_result[i][i] / torch.sum(evl_result,0)[i])#\n",
    "        recal = float(evl_result[i][i] / torch.sum(evl_result,1)[i])#torch.sum(result_table[i])\n",
    "        F1 = pre * recal * 2 / (pre + recal + 1e-7)\n",
    "        result_table.add_row([cla_dict[i], round(pre, 4), round(recal, 3), round(F1, 3),\" \"])\n",
    "\n",
    "    result_table.add_row([\"Total:\", \" \", \" \", \" \",round(accuracy,4)])\n",
    "    print(result_table)"
   ]
  },
  {
   "cell_type": "code",
   "execution_count": 10,
   "metadata": {
    "execution": {
     "iopub.execute_input": "2022-04-28T15:58:15.910598Z",
     "iopub.status.busy": "2022-04-28T15:58:15.910598Z",
     "iopub.status.idle": "2022-04-28T15:58:15.971945Z",
     "shell.execute_reply": "2022-04-28T15:58:15.971945Z",
     "shell.execute_reply.started": "2022-04-28T15:58:15.910598Z"
    },
    "tags": []
   },
   "outputs": [],
   "source": [
    "# Converts batches of class indices to classes of one-hot vectors.\n",
    "def to_one_hot(x, length):\n",
    "    batch_size = x.size(0)\n",
    "    x_one_hot = torch.zeros(batch_size, length)\n",
    "    for i in range(batch_size):\n",
    "        x_one_hot[i, x[i]] = 1.0\n",
    "    return x_one_hot"
   ]
  },
  {
   "cell_type": "code",
   "execution_count": 11,
   "metadata": {
    "execution": {
     "iopub.execute_input": "2022-04-28T15:58:15.972844Z",
     "iopub.status.busy": "2022-04-28T15:58:15.972844Z",
     "iopub.status.idle": "2022-04-28T15:58:16.035945Z",
     "shell.execute_reply": "2022-04-28T15:58:16.035945Z",
     "shell.execute_reply.started": "2022-04-28T15:58:15.972844Z"
    },
    "tags": [],
    "uuid": "86f92f63-16e2-4ca6-b5da-d848546a391e"
   },
   "outputs": [],
   "source": [
    "def train(epoch):\n",
    "    network.train()\n",
    "    running_loss,r_pre = 0., 0.\n",
    "    print_step = len(train_loader)//2\n",
    "    print(f'Epoch: [{epoch}] {img_title} ==> Training ...')\n",
    "    \n",
    "    for batch_idx, (data, target) in enumerate(tqdm(train_loader)):        \n",
    "        # target = torch.as_tensor(target, dtype=torch.int64)#for windows\n",
    "\n",
    "        batch_idx += 1\n",
    "        target_indices = target\n",
    "        target_one_hot = to_one_hot(target, length=n_classes)\n",
    "        data, target = Variable(data).to(device), Variable(target_one_hot).to(device)\n",
    "        optimizer.zero_grad()\n",
    "        output = network(data)\n",
    "\n",
    "        v_mag = torch.sqrt(torch.sum(output**2, dim=2, keepdim=True)) \n",
    "        pred = v_mag.data.max(1, keepdim=True)[1].cpu().squeeze()\n",
    "        r_pre += pred.eq(target_indices.view_as(pred)).squeeze().sum()\n",
    "        \n",
    "        loss = network.loss(output, target)\n",
    "        loss.backward()\n",
    "        optimizer.step()\n",
    "        running_loss += loss.item()\n",
    "        if batch_idx % print_step == 0:\n",
    "            print(\"[{}/{}] Loss{:.5f}, ACC:{:.5f}%\".format(batch_idx,len(train_loader),\n",
    "                                                           loss,\n",
    "                                                           r_pre/(batch_idx*BatchSize),))\n",
    "    epoch_acc = r_pre / train_num\n",
    "    epoch_loss = running_loss / len(train_loader)    \n",
    "    train_loss_list.append(epoch_loss)\n",
    "    train_acc_list.append(epoch_acc)\n",
    "    \n",
    "    print(f'Train_Loss: {epoch_loss},ACC:{round(float(epoch_acc),3)}%')   \n",
    "    scheduler.step()"
   ]
  },
  {
   "cell_type": "code",
   "execution_count": 12,
   "metadata": {
    "execution": {
     "iopub.execute_input": "2022-04-28T15:58:16.037862Z",
     "iopub.status.busy": "2022-04-28T15:58:16.037862Z",
     "iopub.status.idle": "2022-04-28T15:58:16.099605Z",
     "shell.execute_reply": "2022-04-28T15:58:16.099605Z",
     "shell.execute_reply.started": "2022-04-28T15:58:16.037862Z"
    },
    "tags": [],
    "uuid": "f010e769-677f-416b-8ce8-9f4186dce054"
   },
   "outputs": [],
   "source": [
    "def test():\n",
    "    network.eval()\n",
    "    global best_acc,evl_result,evl_tmp_result,net_parameters\n",
    "    cor_loss,correct,tmp_size, Acc=  0, 0, 0, 0\n",
    "    evl_tmp_result = torch.zeros(n_classes,n_classes)\n",
    "    steps_num = len(test_loader)#len(test_loader) * T_size\n",
    "    tmp_size = T_size\n",
    "    print(f'\\033[66m{img_title} ==> testing ...\\033[0m')\n",
    "    with torch.no_grad():\n",
    "        for batch_idx, (data, target) in enumerate(tqdm(test_loader)):\n",
    "\n",
    "            batch_idx +=1\n",
    "            target_indices = target\n",
    "            #torch.Size([128, 7]),tensor([[0., 0., 0., 0., 0., 1., 0.],...,[0., 0., 0., 0., 0., 1., 0.]])\n",
    "            target_one_hot = to_one_hot(target_indices, length=n_classes)            \n",
    "            data, target = Variable(data).to(device), Variable(target_one_hot).to(device)\n",
    "\n",
    "            output = network(data)#torch.Size([batch_size, 7, 16, 1])        \n",
    "            v_mag = torch.sqrt(torch.sum(output**2, dim=2, keepdim=True)) \n",
    "            pred = v_mag.data.max(1, keepdim=True)[1].cpu()#[9, 2, 1, 1, 6,..., 1, 4, 6, 5, 7,]  \n",
    "               \n",
    "            if batch_idx % steps_num == 0 and test_num % T_size != 0:\n",
    "                tmp_size = test_num % T_size\n",
    "\n",
    "            for i in range(tmp_size):\n",
    "                pred_y = pred.numpy()         \n",
    "                evl_tmp_result[target_indices[i]][pred[i]] +=1 \n",
    "    \n",
    "    diag_sum = torch.sum(evl_tmp_result.diagonal())\n",
    "    all_sum = torch.sum(evl_tmp_result)   \n",
    "    accuracy = 100. * float(torch.div(diag_sum,all_sum)) \n",
    "    test_acc_list.append(accuracy)\n",
    "    \n",
    "    print(f\"Test_Acc:\\033[1;32m{round(float(accuracy),3)}%\\033[0m\")\n",
    "\n",
    "    if accuracy > best_acc:\n",
    "        best_acc = accuracy\n",
    "        evl_result = evl_tmp_result.clone()#copy.deepcopy(input)\n",
    "        torch.save(network.state_dict(), save_PATH)\n",
    "        torch.save(evl_result, f'./tmp/{img_title}/{suf}/best_evl_result.pt')\n",
    "        \n",
    "    print(f'Best_ACC[\\033[1;32m{round(float(best_acc),3)}%\\033[0m]')"
   ]
  },
  {
   "cell_type": "code",
   "execution_count": 13,
   "metadata": {
    "execution": {
     "iopub.execute_input": "2022-04-28T15:58:16.100508Z",
     "iopub.status.busy": "2022-04-28T15:58:16.100508Z",
     "iopub.status.idle": "2022-04-28T15:58:16.179505Z",
     "shell.execute_reply": "2022-04-28T15:58:16.179505Z",
     "shell.execute_reply.started": "2022-04-28T15:58:16.100508Z"
    },
    "tags": []
   },
   "outputs": [
    {
     "name": "stdout",
     "output_type": "stream",
     "text": [
      "suf:0428_235816\n",
      "./tmp/HAM10000/0428_235816/best_HAM10000_0428_235816.pth\n"
     ]
    },
    {
     "name": "stderr",
     "output_type": "stream",
     "text": [
      "子目录或文件 #windows 已经存在。\n",
      "处理: #windows 时出错。\n"
     ]
    }
   ],
   "source": [
    "#create store\n",
    "try:\n",
    "    print(f\"suf:{suf}\")\n",
    "except NameError:\n",
    "    suf = time.strftime(\"%m%d_%H%M%S\", time.localtime())\n",
    "    print(f\"suf:{suf}\")\n",
    "if os.path.exists(f'./tmp/{img_title}/{suf}'):\n",
    "    print (f'Store: ./tmp/{img_title}/{suf}')\n",
    "else:\n",
    "#     !mkdir -p ./tmp/{img_title}/{suf} #linux\n",
    "    !md E:\\Jupyter\\woodman\\Caps\\FixCaps\\tmp\\{img_title}\\{suf} #windows\n",
    "save_PATH = f'./tmp/{img_title}/{suf}/best_{img_title}_{suf}.pth'\n",
    "print(save_PATH)"
   ]
  },
  {
   "cell_type": "code",
   "execution_count": 14,
   "metadata": {
    "execution": {
     "iopub.execute_input": "2022-04-28T15:58:16.180476Z",
     "iopub.status.busy": "2022-04-28T15:58:16.180476Z",
     "iopub.status.idle": "2022-04-28T15:58:16.227476Z",
     "shell.execute_reply": "2022-04-28T15:58:16.227476Z",
     "shell.execute_reply.started": "2022-04-28T15:58:16.180476Z"
    },
    "scrolled": true,
    "tags": [],
    "uuid": "edaf3774-de76-44a5-aabd-fb52532ea36e"
   },
   "outputs": [],
   "source": [
    "num_epochs = 100"
   ]
  },
  {
   "cell_type": "code",
   "execution_count": 15,
   "metadata": {
    "execution": {
     "iopub.execute_input": "2022-04-28T15:58:16.228476Z",
     "iopub.status.busy": "2022-04-28T15:58:16.228476Z",
     "iopub.status.idle": "2022-04-28T19:59:35.137119Z",
     "shell.execute_reply": "2022-04-28T19:59:35.137119Z",
     "shell.execute_reply.started": "2022-04-28T15:58:16.228476Z"
    },
    "scrolled": true,
    "tags": [],
    "uuid": "edaf3774-de76-44a5-aabd-fb52532ea36e"
   },
   "outputs": [
    {
     "name": "stdout",
     "output_type": "stream",
     "text": [
      "Epoch: [1] HAM10000 ==> Training ...\n"
     ]
    },
    {
     "data": {
      "application/vnd.jupyter.widget-view+json": {
       "model_id": "f0afb6c6f1f64ee0898a100ce9878c52",
       "version_major": 2,
       "version_minor": 0
      },
      "text/plain": [
       "  0%|          | 0/404 [00:00<?, ?it/s]"
      ]
     },
     "metadata": {},
     "output_type": "display_data"
    },
    {
     "name": "stdout",
     "output_type": "stream",
     "text": [
      "[202/404] Loss0.38601, ACC:0.33284%\n",
      "[404/404] Loss0.32642, ACC:0.38324%\n",
      "Train_Loss: 0.39728353120902976,ACC:0.383%\n",
      "\u001b[66mHAM10000 ==> testing ...\u001b[0m\n"
     ]
    },
    {
     "data": {
      "application/vnd.jupyter.widget-view+json": {
       "model_id": "67a4060403064a5db406f5596b8999f4",
       "version_major": 2,
       "version_minor": 0
      },
      "text/plain": [
       "  0%|          | 0/27 [00:00<?, ?it/s]"
      ]
     },
     "metadata": {},
     "output_type": "display_data"
    },
    {
     "name": "stdout",
     "output_type": "stream",
     "text": [
      "Test_Acc:\u001b[1;32m83.696%\u001b[0m\n",
      "Best_ACC[\u001b[1;32m83.696%\u001b[0m]\n",
      "Epoch: [2] HAM10000 ==> Training ...\n"
     ]
    },
    {
     "data": {
      "application/vnd.jupyter.widget-view+json": {
       "model_id": "8406ece121dc46d89b9428735ca0f00e",
       "version_major": 2,
       "version_minor": 0
      },
      "text/plain": [
       "  0%|          | 0/404 [00:00<?, ?it/s]"
      ]
     },
     "metadata": {},
     "output_type": "display_data"
    },
    {
     "name": "stdout",
     "output_type": "stream",
     "text": [
      "[202/404] Loss0.32718, ACC:0.46515%\n",
      "[404/404] Loss0.33495, ACC:0.48434%\n",
      "Train_Loss: 0.33715239041807626,ACC:0.484%\n",
      "\u001b[66mHAM10000 ==> testing ...\u001b[0m\n"
     ]
    },
    {
     "data": {
      "application/vnd.jupyter.widget-view+json": {
       "model_id": "a25f6b49580f47dc97a393fa6b597841",
       "version_major": 2,
       "version_minor": 0
      },
      "text/plain": [
       "  0%|          | 0/27 [00:00<?, ?it/s]"
      ]
     },
     "metadata": {},
     "output_type": "display_data"
    },
    {
     "name": "stdout",
     "output_type": "stream",
     "text": [
      "Test_Acc:\u001b[1;32m84.42%\u001b[0m\n",
      "Best_ACC[\u001b[1;32m84.42%\u001b[0m]\n",
      "Epoch: [3] HAM10000 ==> Training ...\n"
     ]
    },
    {
     "data": {
      "application/vnd.jupyter.widget-view+json": {
       "model_id": "78f37b8cef5846f8843c62fec48526c6",
       "version_major": 2,
       "version_minor": 0
      },
      "text/plain": [
       "  0%|          | 0/404 [00:00<?, ?it/s]"
      ]
     },
     "metadata": {},
     "output_type": "display_data"
    },
    {
     "name": "stdout",
     "output_type": "stream",
     "text": [
      "[202/404] Loss0.29290, ACC:0.52479%\n",
      "[404/404] Loss0.29852, ACC:0.53084%\n",
      "Train_Loss: 0.3112286090260685,ACC:0.531%\n",
      "\u001b[66mHAM10000 ==> testing ...\u001b[0m\n"
     ]
    },
    {
     "data": {
      "application/vnd.jupyter.widget-view+json": {
       "model_id": "78b52af2323f4fbd9cfcdac4d941ac27",
       "version_major": 2,
       "version_minor": 0
      },
      "text/plain": [
       "  0%|          | 0/27 [00:00<?, ?it/s]"
      ]
     },
     "metadata": {},
     "output_type": "display_data"
    },
    {
     "name": "stdout",
     "output_type": "stream",
     "text": [
      "Test_Acc:\u001b[1;32m83.092%\u001b[0m\n",
      "Best_ACC[\u001b[1;32m84.42%\u001b[0m]\n",
      "Epoch: [4] HAM10000 ==> Training ...\n"
     ]
    },
    {
     "data": {
      "application/vnd.jupyter.widget-view+json": {
       "model_id": "f2c0452b001b4ce3b797b39b190480a4",
       "version_major": 2,
       "version_minor": 0
      },
      "text/plain": [
       "  0%|          | 0/404 [00:00<?, ?it/s]"
      ]
     },
     "metadata": {},
     "output_type": "display_data"
    },
    {
     "name": "stdout",
     "output_type": "stream",
     "text": [
      "[202/404] Loss0.30838, ACC:0.56111%\n",
      "[404/404] Loss0.27565, ACC:0.55914%\n",
      "Train_Loss: 0.29435441683572117,ACC:0.559%\n",
      "\u001b[66mHAM10000 ==> testing ...\u001b[0m\n"
     ]
    },
    {
     "data": {
      "application/vnd.jupyter.widget-view+json": {
       "model_id": "71aa7362c18e4069a39ee7bef9b891e4",
       "version_major": 2,
       "version_minor": 0
      },
      "text/plain": [
       "  0%|          | 0/27 [00:00<?, ?it/s]"
      ]
     },
     "metadata": {},
     "output_type": "display_data"
    },
    {
     "name": "stdout",
     "output_type": "stream",
     "text": [
      "Test_Acc:\u001b[1;32m84.903%\u001b[0m\n",
      "Best_ACC[\u001b[1;32m84.903%\u001b[0m]\n",
      "Epoch: [5] HAM10000 ==> Training ...\n"
     ]
    },
    {
     "data": {
      "application/vnd.jupyter.widget-view+json": {
       "model_id": "cc6c80574e944efda30400e6dbf2f669",
       "version_major": 2,
       "version_minor": 0
      },
      "text/plain": [
       "  0%|          | 0/404 [00:00<?, ?it/s]"
      ]
     },
     "metadata": {},
     "output_type": "display_data"
    },
    {
     "name": "stdout",
     "output_type": "stream",
     "text": [
      "[202/404] Loss0.28852, ACC:0.57387%\n",
      "[404/404] Loss0.30127, ACC:0.57408%\n",
      "Train_Loss: 0.2848170110494784,ACC:0.574%\n",
      "\u001b[66mHAM10000 ==> testing ...\u001b[0m\n"
     ]
    },
    {
     "data": {
      "application/vnd.jupyter.widget-view+json": {
       "model_id": "76917a7232414ed38f91175803c0c5aa",
       "version_major": 2,
       "version_minor": 0
      },
      "text/plain": [
       "  0%|          | 0/27 [00:00<?, ?it/s]"
      ]
     },
     "metadata": {},
     "output_type": "display_data"
    },
    {
     "name": "stdout",
     "output_type": "stream",
     "text": [
      "Test_Acc:\u001b[1;32m85.386%\u001b[0m\n",
      "Best_ACC[\u001b[1;32m85.386%\u001b[0m]\n",
      "Epoch: [6] HAM10000 ==> Training ...\n"
     ]
    },
    {
     "data": {
      "application/vnd.jupyter.widget-view+json": {
       "model_id": "051e932b8c5a4e46b5628b83a6448809",
       "version_major": 2,
       "version_minor": 0
      },
      "text/plain": [
       "  0%|          | 0/404 [00:00<?, ?it/s]"
      ]
     },
     "metadata": {},
     "output_type": "display_data"
    },
    {
     "name": "stdout",
     "output_type": "stream",
     "text": [
      "[202/404] Loss0.25047, ACC:0.57925%\n",
      "[404/404] Loss0.25580, ACC:0.57909%\n",
      "Train_Loss: 0.28245305336347903,ACC:0.579%\n",
      "\u001b[66mHAM10000 ==> testing ...\u001b[0m\n"
     ]
    },
    {
     "data": {
      "application/vnd.jupyter.widget-view+json": {
       "model_id": "9bbbfaf78ab04bac94a02b263e12f252",
       "version_major": 2,
       "version_minor": 0
      },
      "text/plain": [
       "  0%|          | 0/27 [00:00<?, ?it/s]"
      ]
     },
     "metadata": {},
     "output_type": "display_data"
    },
    {
     "name": "stdout",
     "output_type": "stream",
     "text": [
      "Test_Acc:\u001b[1;32m85.145%\u001b[0m\n",
      "Best_ACC[\u001b[1;32m85.386%\u001b[0m]\n",
      "Epoch: [7] HAM10000 ==> Training ...\n"
     ]
    },
    {
     "data": {
      "application/vnd.jupyter.widget-view+json": {
       "model_id": "2788e03ad2d34528bebb8441f4fb118d",
       "version_major": 2,
       "version_minor": 0
      },
      "text/plain": [
       "  0%|          | 0/404 [00:00<?, ?it/s]"
      ]
     },
     "metadata": {},
     "output_type": "display_data"
    },
    {
     "name": "stdout",
     "output_type": "stream",
     "text": [
      "[202/404] Loss0.25415, ACC:0.58006%\n",
      "[404/404] Loss0.26100, ACC:0.57886%\n",
      "Train_Loss: 0.2820235600713456,ACC:0.579%\n",
      "\u001b[66mHAM10000 ==> testing ...\u001b[0m\n"
     ]
    },
    {
     "data": {
      "application/vnd.jupyter.widget-view+json": {
       "model_id": "d1917e1202e446a88abf3c3246533509",
       "version_major": 2,
       "version_minor": 0
      },
      "text/plain": [
       "  0%|          | 0/27 [00:00<?, ?it/s]"
      ]
     },
     "metadata": {},
     "output_type": "display_data"
    },
    {
     "name": "stdout",
     "output_type": "stream",
     "text": [
      "Test_Acc:\u001b[1;32m83.816%\u001b[0m\n",
      "Best_ACC[\u001b[1;32m85.386%\u001b[0m]\n",
      "Epoch: [8] HAM10000 ==> Training ...\n"
     ]
    },
    {
     "data": {
      "application/vnd.jupyter.widget-view+json": {
       "model_id": "eaab9b3708414fd99e94958d2fe2f707",
       "version_major": 2,
       "version_minor": 0
      },
      "text/plain": [
       "  0%|          | 0/404 [00:00<?, ?it/s]"
      ]
     },
     "metadata": {},
     "output_type": "display_data"
    },
    {
     "name": "stdout",
     "output_type": "stream",
     "text": [
      "[202/404] Loss0.30287, ACC:0.57468%\n",
      "[404/404] Loss0.27813, ACC:0.57586%\n",
      "Train_Loss: 0.284078134943058,ACC:0.576%\n",
      "\u001b[66mHAM10000 ==> testing ...\u001b[0m\n"
     ]
    },
    {
     "data": {
      "application/vnd.jupyter.widget-view+json": {
       "model_id": "febfa7e9c9d449b08fb14e2421779173",
       "version_major": 2,
       "version_minor": 0
      },
      "text/plain": [
       "  0%|          | 0/27 [00:00<?, ?it/s]"
      ]
     },
     "metadata": {},
     "output_type": "display_data"
    },
    {
     "name": "stdout",
     "output_type": "stream",
     "text": [
      "Test_Acc:\u001b[1;32m84.541%\u001b[0m\n",
      "Best_ACC[\u001b[1;32m85.386%\u001b[0m]\n",
      "Epoch: [9] HAM10000 ==> Training ...\n"
     ]
    },
    {
     "data": {
      "application/vnd.jupyter.widget-view+json": {
       "model_id": "ed2761bea204422eabfbb910507bf874",
       "version_major": 2,
       "version_minor": 0
      },
      "text/plain": [
       "  0%|          | 0/404 [00:00<?, ?it/s]"
      ]
     },
     "metadata": {},
     "output_type": "display_data"
    },
    {
     "name": "stdout",
     "output_type": "stream",
     "text": [
      "[202/404] Loss0.28808, ACC:0.56962%\n",
      "[404/404] Loss0.28273, ACC:0.57300%\n",
      "Train_Loss: 0.2860040833233016,ACC:0.573%\n",
      "\u001b[66mHAM10000 ==> testing ...\u001b[0m\n"
     ]
    },
    {
     "data": {
      "application/vnd.jupyter.widget-view+json": {
       "model_id": "ed4d7f06eed6419e93ee2faf6abd9e60",
       "version_major": 2,
       "version_minor": 0
      },
      "text/plain": [
       "  0%|          | 0/27 [00:00<?, ?it/s]"
      ]
     },
     "metadata": {},
     "output_type": "display_data"
    },
    {
     "name": "stdout",
     "output_type": "stream",
     "text": [
      "Test_Acc:\u001b[1;32m85.628%\u001b[0m\n",
      "Best_ACC[\u001b[1;32m85.628%\u001b[0m]\n",
      "Epoch: [10] HAM10000 ==> Training ...\n"
     ]
    },
    {
     "data": {
      "application/vnd.jupyter.widget-view+json": {
       "model_id": "bca9124f03784b91bf4f16545c0b508f",
       "version_major": 2,
       "version_minor": 0
      },
      "text/plain": [
       "  0%|          | 0/404 [00:00<?, ?it/s]"
      ]
     },
     "metadata": {},
     "output_type": "display_data"
    },
    {
     "name": "stdout",
     "output_type": "stream",
     "text": [
      "[202/404] Loss0.28282, ACC:0.57851%\n",
      "[404/404] Loss0.30446, ACC:0.58308%\n",
      "Train_Loss: 0.2817313224814906,ACC:0.583%\n",
      "\u001b[66mHAM10000 ==> testing ...\u001b[0m\n"
     ]
    },
    {
     "data": {
      "application/vnd.jupyter.widget-view+json": {
       "model_id": "acfe6305b8474842a8ddd2ce67a54046",
       "version_major": 2,
       "version_minor": 0
      },
      "text/plain": [
       "  0%|          | 0/27 [00:00<?, ?it/s]"
      ]
     },
     "metadata": {},
     "output_type": "display_data"
    },
    {
     "name": "stdout",
     "output_type": "stream",
     "text": [
      "Test_Acc:\u001b[1;32m85.386%\u001b[0m\n",
      "Best_ACC[\u001b[1;32m85.628%\u001b[0m]\n",
      "Epoch: [11] HAM10000 ==> Training ...\n"
     ]
    },
    {
     "data": {
      "application/vnd.jupyter.widget-view+json": {
       "model_id": "f2f5bad275ff47ca8bbc46008d66b8f2",
       "version_major": 2,
       "version_minor": 0
      },
      "text/plain": [
       "  0%|          | 0/404 [00:00<?, ?it/s]"
      ]
     },
     "metadata": {},
     "output_type": "display_data"
    },
    {
     "name": "stdout",
     "output_type": "stream",
     "text": [
      "[202/404] Loss0.27241, ACC:0.58555%\n",
      "[404/404] Loss0.27235, ACC:0.58789%\n",
      "Train_Loss: 0.27744386647597397,ACC:0.588%\n",
      "\u001b[66mHAM10000 ==> testing ...\u001b[0m\n"
     ]
    },
    {
     "data": {
      "application/vnd.jupyter.widget-view+json": {
       "model_id": "8977e4dccc9340cf8763282dfe60edda",
       "version_major": 2,
       "version_minor": 0
      },
      "text/plain": [
       "  0%|          | 0/27 [00:00<?, ?it/s]"
      ]
     },
     "metadata": {},
     "output_type": "display_data"
    },
    {
     "name": "stdout",
     "output_type": "stream",
     "text": [
      "Test_Acc:\u001b[1;32m86.957%\u001b[0m\n",
      "Best_ACC[\u001b[1;32m86.957%\u001b[0m]\n",
      "Epoch: [12] HAM10000 ==> Training ...\n"
     ]
    },
    {
     "data": {
      "application/vnd.jupyter.widget-view+json": {
       "model_id": "3994f3d6f8fb460db059973c4cfd6b68",
       "version_major": 2,
       "version_minor": 0
      },
      "text/plain": [
       "  0%|          | 0/404 [00:00<?, ?it/s]"
      ]
     },
     "metadata": {},
     "output_type": "display_data"
    },
    {
     "name": "stdout",
     "output_type": "stream",
     "text": [
      "[202/404] Loss0.26207, ACC:0.60427%\n",
      "[404/404] Loss0.25296, ACC:0.60423%\n",
      "Train_Loss: 0.26806541119176563,ACC:0.604%\n",
      "\u001b[66mHAM10000 ==> testing ...\u001b[0m\n"
     ]
    },
    {
     "data": {
      "application/vnd.jupyter.widget-view+json": {
       "model_id": "8b8a763e3ab341608c0627d01c1a1691",
       "version_major": 2,
       "version_minor": 0
      },
      "text/plain": [
       "  0%|          | 0/27 [00:00<?, ?it/s]"
      ]
     },
     "metadata": {},
     "output_type": "display_data"
    },
    {
     "name": "stdout",
     "output_type": "stream",
     "text": [
      "Test_Acc:\u001b[1;32m89.614%\u001b[0m\n",
      "Best_ACC[\u001b[1;32m89.614%\u001b[0m]\n",
      "Epoch: [13] HAM10000 ==> Training ...\n"
     ]
    },
    {
     "data": {
      "application/vnd.jupyter.widget-view+json": {
       "model_id": "d16a566ba6234d0c90f61806c6b1ecf9",
       "version_major": 2,
       "version_minor": 0
      },
      "text/plain": [
       "  0%|          | 0/404 [00:00<?, ?it/s]"
      ]
     },
     "metadata": {},
     "output_type": "display_data"
    },
    {
     "name": "stdout",
     "output_type": "stream",
     "text": [
      "[202/404] Loss0.26833, ACC:0.61228%\n",
      "[404/404] Loss0.25733, ACC:0.61510%\n",
      "Train_Loss: 0.26004862412810326,ACC:0.615%\n",
      "\u001b[66mHAM10000 ==> testing ...\u001b[0m\n"
     ]
    },
    {
     "data": {
      "application/vnd.jupyter.widget-view+json": {
       "model_id": "addefa67abf64d10b625388af07951ab",
       "version_major": 2,
       "version_minor": 0
      },
      "text/plain": [
       "  0%|          | 0/27 [00:00<?, ?it/s]"
      ]
     },
     "metadata": {},
     "output_type": "display_data"
    },
    {
     "name": "stdout",
     "output_type": "stream",
     "text": [
      "Test_Acc:\u001b[1;32m87.923%\u001b[0m\n",
      "Best_ACC[\u001b[1;32m89.614%\u001b[0m]\n",
      "Epoch: [14] HAM10000 ==> Training ...\n"
     ]
    },
    {
     "data": {
      "application/vnd.jupyter.widget-view+json": {
       "model_id": "2796f22742744777925401e221923630",
       "version_major": 2,
       "version_minor": 0
      },
      "text/plain": [
       "  0%|          | 0/404 [00:00<?, ?it/s]"
      ]
     },
     "metadata": {},
     "output_type": "display_data"
    },
    {
     "name": "stdout",
     "output_type": "stream",
     "text": [
      "[202/404] Loss0.22701, ACC:0.62724%\n",
      "[404/404] Loss0.24479, ACC:0.63067%\n",
      "Train_Loss: 0.25177712937687885,ACC:0.631%\n",
      "\u001b[66mHAM10000 ==> testing ...\u001b[0m\n"
     ]
    },
    {
     "data": {
      "application/vnd.jupyter.widget-view+json": {
       "model_id": "064cb68b5f43436aa5b0dbbc0aa8a5d0",
       "version_major": 2,
       "version_minor": 0
      },
      "text/plain": [
       "  0%|          | 0/27 [00:00<?, ?it/s]"
      ]
     },
     "metadata": {},
     "output_type": "display_data"
    },
    {
     "name": "stdout",
     "output_type": "stream",
     "text": [
      "Test_Acc:\u001b[1;32m83.575%\u001b[0m\n",
      "Best_ACC[\u001b[1;32m89.614%\u001b[0m]\n",
      "Epoch: [15] HAM10000 ==> Training ...\n"
     ]
    },
    {
     "data": {
      "application/vnd.jupyter.widget-view+json": {
       "model_id": "c1bee86aafd44fd9a8a953515ad35452",
       "version_major": 2,
       "version_minor": 0
      },
      "text/plain": [
       "  0%|          | 0/404 [00:00<?, ?it/s]"
      ]
     },
     "metadata": {},
     "output_type": "display_data"
    },
    {
     "name": "stdout",
     "output_type": "stream",
     "text": [
      "[202/404] Loss0.25353, ACC:0.63765%\n",
      "[404/404] Loss0.25042, ACC:0.64103%\n",
      "Train_Loss: 0.24399326678992497,ACC:0.641%\n",
      "\u001b[66mHAM10000 ==> testing ...\u001b[0m\n"
     ]
    },
    {
     "data": {
      "application/vnd.jupyter.widget-view+json": {
       "model_id": "10db25b7f14c41218bf6254c64b0c76a",
       "version_major": 2,
       "version_minor": 0
      },
      "text/plain": [
       "  0%|          | 0/27 [00:00<?, ?it/s]"
      ]
     },
     "metadata": {},
     "output_type": "display_data"
    },
    {
     "name": "stdout",
     "output_type": "stream",
     "text": [
      "Test_Acc:\u001b[1;32m87.681%\u001b[0m\n",
      "Best_ACC[\u001b[1;32m89.614%\u001b[0m]\n",
      "Epoch: [16] HAM10000 ==> Training ...\n"
     ]
    },
    {
     "data": {
      "application/vnd.jupyter.widget-view+json": {
       "model_id": "a39fb6cd99c1424c9054e854fba57367",
       "version_major": 2,
       "version_minor": 0
      },
      "text/plain": [
       "  0%|          | 0/404 [00:00<?, ?it/s]"
      ]
     },
     "metadata": {},
     "output_type": "display_data"
    },
    {
     "name": "stdout",
     "output_type": "stream",
     "text": [
      "[202/404] Loss0.23905, ACC:0.64585%\n",
      "[404/404] Loss0.23673, ACC:0.64569%\n",
      "Train_Loss: 0.24284195837260472,ACC:0.646%\n",
      "\u001b[66mHAM10000 ==> testing ...\u001b[0m\n"
     ]
    },
    {
     "data": {
      "application/vnd.jupyter.widget-view+json": {
       "model_id": "4a05254d95c34390947d270b2bb35e3f",
       "version_major": 2,
       "version_minor": 0
      },
      "text/plain": [
       "  0%|          | 0/27 [00:00<?, ?it/s]"
      ]
     },
     "metadata": {},
     "output_type": "display_data"
    },
    {
     "name": "stdout",
     "output_type": "stream",
     "text": [
      "Test_Acc:\u001b[1;32m88.164%\u001b[0m\n",
      "Best_ACC[\u001b[1;32m89.614%\u001b[0m]\n",
      "Epoch: [17] HAM10000 ==> Training ...\n"
     ]
    },
    {
     "data": {
      "application/vnd.jupyter.widget-view+json": {
       "model_id": "e26c324c89da4cf29014a26ded844622",
       "version_major": 2,
       "version_minor": 0
      },
      "text/plain": [
       "  0%|          | 0/404 [00:00<?, ?it/s]"
      ]
     },
     "metadata": {},
     "output_type": "display_data"
    },
    {
     "name": "stdout",
     "output_type": "stream",
     "text": [
      "[202/404] Loss0.26852, ACC:0.64082%\n",
      "[404/404] Loss0.23214, ACC:0.64639%\n",
      "Train_Loss: 0.24222742010018614,ACC:0.647%\n",
      "\u001b[66mHAM10000 ==> testing ...\u001b[0m\n"
     ]
    },
    {
     "data": {
      "application/vnd.jupyter.widget-view+json": {
       "model_id": "01b892bdf36f454085012767b9372271",
       "version_major": 2,
       "version_minor": 0
      },
      "text/plain": [
       "  0%|          | 0/27 [00:00<?, ?it/s]"
      ]
     },
     "metadata": {},
     "output_type": "display_data"
    },
    {
     "name": "stdout",
     "output_type": "stream",
     "text": [
      "Test_Acc:\u001b[1;32m88.527%\u001b[0m\n",
      "Best_ACC[\u001b[1;32m89.614%\u001b[0m]\n",
      "Epoch: [18] HAM10000 ==> Training ...\n"
     ]
    },
    {
     "data": {
      "application/vnd.jupyter.widget-view+json": {
       "model_id": "d1206672d688481581d2e9ae07820c53",
       "version_major": 2,
       "version_minor": 0
      },
      "text/plain": [
       "  0%|          | 0/404 [00:00<?, ?it/s]"
      ]
     },
     "metadata": {},
     "output_type": "display_data"
    },
    {
     "name": "stdout",
     "output_type": "stream",
     "text": [
      "[202/404] Loss0.26589, ACC:0.63981%\n",
      "[404/404] Loss0.26241, ACC:0.63989%\n",
      "Train_Loss: 0.24650706409817874,ACC:0.64%\n",
      "\u001b[66mHAM10000 ==> testing ...\u001b[0m\n"
     ]
    },
    {
     "data": {
      "application/vnd.jupyter.widget-view+json": {
       "model_id": "9ab5ac93697d4e93a3474b438c3174b6",
       "version_major": 2,
       "version_minor": 0
      },
      "text/plain": [
       "  0%|          | 0/27 [00:00<?, ?it/s]"
      ]
     },
     "metadata": {},
     "output_type": "display_data"
    },
    {
     "name": "stdout",
     "output_type": "stream",
     "text": [
      "Test_Acc:\u001b[1;32m89.855%\u001b[0m\n",
      "Best_ACC[\u001b[1;32m89.855%\u001b[0m]\n",
      "Epoch: [19] HAM10000 ==> Training ...\n"
     ]
    },
    {
     "data": {
      "application/vnd.jupyter.widget-view+json": {
       "model_id": "ba8884513dd64ae5a34b3a7bec24f4ec",
       "version_major": 2,
       "version_minor": 0
      },
      "text/plain": [
       "  0%|          | 0/404 [00:00<?, ?it/s]"
      ]
     },
     "metadata": {},
     "output_type": "display_data"
    },
    {
     "name": "stdout",
     "output_type": "stream",
     "text": [
      "[202/404] Loss0.27994, ACC:0.63142%\n",
      "[404/404] Loss0.23856, ACC:0.63101%\n",
      "Train_Loss: 0.2515410181171823,ACC:0.631%\n",
      "\u001b[66mHAM10000 ==> testing ...\u001b[0m\n"
     ]
    },
    {
     "data": {
      "application/vnd.jupyter.widget-view+json": {
       "model_id": "050cbcbe6ceb46fcb79e23f612b9b535",
       "version_major": 2,
       "version_minor": 0
      },
      "text/plain": [
       "  0%|          | 0/27 [00:00<?, ?it/s]"
      ]
     },
     "metadata": {},
     "output_type": "display_data"
    },
    {
     "name": "stdout",
     "output_type": "stream",
     "text": [
      "Test_Acc:\u001b[1;32m89.614%\u001b[0m\n",
      "Best_ACC[\u001b[1;32m89.855%\u001b[0m]\n",
      "Epoch: [20] HAM10000 ==> Training ...\n"
     ]
    },
    {
     "data": {
      "application/vnd.jupyter.widget-view+json": {
       "model_id": "3c1e1679e15f4d9ca78fe481bd5c0baf",
       "version_major": 2,
       "version_minor": 0
      },
      "text/plain": [
       "  0%|          | 0/404 [00:00<?, ?it/s]"
      ]
     },
     "metadata": {},
     "output_type": "display_data"
    },
    {
     "name": "stdout",
     "output_type": "stream",
     "text": [
      "[202/404] Loss0.24630, ACC:0.62937%\n",
      "[404/404] Loss0.22811, ACC:0.63022%\n",
      "Train_Loss: 0.25211083619753916,ACC:0.63%\n",
      "\u001b[66mHAM10000 ==> testing ...\u001b[0m\n"
     ]
    },
    {
     "data": {
      "application/vnd.jupyter.widget-view+json": {
       "model_id": "ebedc36433b443f1bd944d737406a46c",
       "version_major": 2,
       "version_minor": 0
      },
      "text/plain": [
       "  0%|          | 0/27 [00:00<?, ?it/s]"
      ]
     },
     "metadata": {},
     "output_type": "display_data"
    },
    {
     "name": "stdout",
     "output_type": "stream",
     "text": [
      "Test_Acc:\u001b[1;32m85.749%\u001b[0m\n",
      "Best_ACC[\u001b[1;32m89.855%\u001b[0m]\n",
      "Epoch: [21] HAM10000 ==> Training ...\n"
     ]
    },
    {
     "data": {
      "application/vnd.jupyter.widget-view+json": {
       "model_id": "98f300c725a141148ef10c20c5c896e7",
       "version_major": 2,
       "version_minor": 0
      },
      "text/plain": [
       "  0%|          | 0/404 [00:00<?, ?it/s]"
      ]
     },
     "metadata": {},
     "output_type": "display_data"
    },
    {
     "name": "stdout",
     "output_type": "stream",
     "text": [
      "[202/404] Loss0.26438, ACC:0.63022%\n",
      "[404/404] Loss0.20319, ACC:0.63337%\n",
      "Train_Loss: 0.2517137300997677,ACC:0.634%\n",
      "\u001b[66mHAM10000 ==> testing ...\u001b[0m\n"
     ]
    },
    {
     "data": {
      "application/vnd.jupyter.widget-view+json": {
       "model_id": "52c94d513096488d959efc17c8a87877",
       "version_major": 2,
       "version_minor": 0
      },
      "text/plain": [
       "  0%|          | 0/27 [00:00<?, ?it/s]"
      ]
     },
     "metadata": {},
     "output_type": "display_data"
    },
    {
     "name": "stdout",
     "output_type": "stream",
     "text": [
      "Test_Acc:\u001b[1;32m85.87%\u001b[0m\n",
      "Best_ACC[\u001b[1;32m89.855%\u001b[0m]\n",
      "Epoch: [22] HAM10000 ==> Training ...\n"
     ]
    },
    {
     "data": {
      "application/vnd.jupyter.widget-view+json": {
       "model_id": "bb54c34885b949db98dc6dc4825807b3",
       "version_major": 2,
       "version_minor": 0
      },
      "text/plain": [
       "  0%|          | 0/404 [00:00<?, ?it/s]"
      ]
     },
     "metadata": {},
     "output_type": "display_data"
    },
    {
     "name": "stdout",
     "output_type": "stream",
     "text": [
      "[202/404] Loss0.25765, ACC:0.63796%\n",
      "[404/404] Loss0.23110, ACC:0.63964%\n",
      "Train_Loss: 0.24704446794815582,ACC:0.64%\n",
      "\u001b[66mHAM10000 ==> testing ...\u001b[0m\n"
     ]
    },
    {
     "data": {
      "application/vnd.jupyter.widget-view+json": {
       "model_id": "fe86ab7517454d579bd4076a77c85107",
       "version_major": 2,
       "version_minor": 0
      },
      "text/plain": [
       "  0%|          | 0/27 [00:00<?, ?it/s]"
      ]
     },
     "metadata": {},
     "output_type": "display_data"
    },
    {
     "name": "stdout",
     "output_type": "stream",
     "text": [
      "Test_Acc:\u001b[1;32m86.473%\u001b[0m\n",
      "Best_ACC[\u001b[1;32m89.855%\u001b[0m]\n",
      "Epoch: [23] HAM10000 ==> Training ...\n"
     ]
    },
    {
     "data": {
      "application/vnd.jupyter.widget-view+json": {
       "model_id": "567587ecba4341b397d0d7790cffde1a",
       "version_major": 2,
       "version_minor": 0
      },
      "text/plain": [
       "  0%|          | 0/404 [00:00<?, ?it/s]"
      ]
     },
     "metadata": {},
     "output_type": "display_data"
    },
    {
     "name": "stdout",
     "output_type": "stream",
     "text": [
      "[202/404] Loss0.24881, ACC:0.65130%\n",
      "[404/404] Loss0.23969, ACC:0.65167%\n",
      "Train_Loss: 0.23958229505927256,ACC:0.652%\n",
      "\u001b[66mHAM10000 ==> testing ...\u001b[0m\n"
     ]
    },
    {
     "data": {
      "application/vnd.jupyter.widget-view+json": {
       "model_id": "21e465aa9dac46a78c9e7fb8635d8dd9",
       "version_major": 2,
       "version_minor": 0
      },
      "text/plain": [
       "  0%|          | 0/27 [00:00<?, ?it/s]"
      ]
     },
     "metadata": {},
     "output_type": "display_data"
    },
    {
     "name": "stdout",
     "output_type": "stream",
     "text": [
      "Test_Acc:\u001b[1;32m88.647%\u001b[0m\n",
      "Best_ACC[\u001b[1;32m89.855%\u001b[0m]\n",
      "Epoch: [24] HAM10000 ==> Training ...\n"
     ]
    },
    {
     "data": {
      "application/vnd.jupyter.widget-view+json": {
       "model_id": "0dd55425fc2f4c31a12bc7115034cc06",
       "version_major": 2,
       "version_minor": 0
      },
      "text/plain": [
       "  0%|          | 0/404 [00:00<?, ?it/s]"
      ]
     },
     "metadata": {},
     "output_type": "display_data"
    },
    {
     "name": "stdout",
     "output_type": "stream",
     "text": [
      "[202/404] Loss0.25118, ACC:0.66468%\n",
      "[404/404] Loss0.22987, ACC:0.66350%\n",
      "Train_Loss: 0.23302171807182898,ACC:0.664%\n",
      "\u001b[66mHAM10000 ==> testing ...\u001b[0m\n"
     ]
    },
    {
     "data": {
      "application/vnd.jupyter.widget-view+json": {
       "model_id": "3e2e96da31ab4b368abc4701c4a9b770",
       "version_major": 2,
       "version_minor": 0
      },
      "text/plain": [
       "  0%|          | 0/27 [00:00<?, ?it/s]"
      ]
     },
     "metadata": {},
     "output_type": "display_data"
    },
    {
     "name": "stdout",
     "output_type": "stream",
     "text": [
      "Test_Acc:\u001b[1;32m86.473%\u001b[0m\n",
      "Best_ACC[\u001b[1;32m89.855%\u001b[0m]\n",
      "Epoch: [25] HAM10000 ==> Training ...\n"
     ]
    },
    {
     "data": {
      "application/vnd.jupyter.widget-view+json": {
       "model_id": "394e2c8117d6481d82fbb9d9e62b9eb3",
       "version_major": 2,
       "version_minor": 0
      },
      "text/plain": [
       "  0%|          | 0/404 [00:00<?, ?it/s]"
      ]
     },
     "metadata": {},
     "output_type": "display_data"
    },
    {
     "name": "stdout",
     "output_type": "stream",
     "text": [
      "[202/404] Loss0.19855, ACC:0.67574%\n",
      "[404/404] Loss0.19323, ACC:0.67619%\n",
      "Train_Loss: 0.2262090728203259,ACC:0.676%\n",
      "\u001b[66mHAM10000 ==> testing ...\u001b[0m\n"
     ]
    },
    {
     "data": {
      "application/vnd.jupyter.widget-view+json": {
       "model_id": "3060fdc9fdaf4134a53f08d06f15c801",
       "version_major": 2,
       "version_minor": 0
      },
      "text/plain": [
       "  0%|          | 0/27 [00:00<?, ?it/s]"
      ]
     },
     "metadata": {},
     "output_type": "display_data"
    },
    {
     "name": "stdout",
     "output_type": "stream",
     "text": [
      "Test_Acc:\u001b[1;32m87.198%\u001b[0m\n",
      "Best_ACC[\u001b[1;32m89.855%\u001b[0m]\n",
      "Epoch: [26] HAM10000 ==> Training ...\n"
     ]
    },
    {
     "data": {
      "application/vnd.jupyter.widget-view+json": {
       "model_id": "75201eb862044a13a564d7d69f954448",
       "version_major": 2,
       "version_minor": 0
      },
      "text/plain": [
       "  0%|          | 0/404 [00:00<?, ?it/s]"
      ]
     },
     "metadata": {},
     "output_type": "display_data"
    },
    {
     "name": "stdout",
     "output_type": "stream",
     "text": [
      "[202/404] Loss0.23862, ACC:0.67064%\n",
      "[404/404] Loss0.22288, ACC:0.67180%\n",
      "Train_Loss: 0.22679969908134773,ACC:0.672%\n",
      "\u001b[66mHAM10000 ==> testing ...\u001b[0m\n"
     ]
    },
    {
     "data": {
      "application/vnd.jupyter.widget-view+json": {
       "model_id": "84d0fc0938814b4fab10e12de248c8f4",
       "version_major": 2,
       "version_minor": 0
      },
      "text/plain": [
       "  0%|          | 0/27 [00:00<?, ?it/s]"
      ]
     },
     "metadata": {},
     "output_type": "display_data"
    },
    {
     "name": "stdout",
     "output_type": "stream",
     "text": [
      "Test_Acc:\u001b[1;32m86.957%\u001b[0m\n",
      "Best_ACC[\u001b[1;32m89.855%\u001b[0m]\n",
      "Epoch: [27] HAM10000 ==> Training ...\n"
     ]
    },
    {
     "data": {
      "application/vnd.jupyter.widget-view+json": {
       "model_id": "cfd04fdc60cf40ce903b7798b4c61dbe",
       "version_major": 2,
       "version_minor": 0
      },
      "text/plain": [
       "  0%|          | 0/404 [00:00<?, ?it/s]"
      ]
     },
     "metadata": {},
     "output_type": "display_data"
    },
    {
     "name": "stdout",
     "output_type": "stream",
     "text": [
      "[202/404] Loss0.22795, ACC:0.66781%\n",
      "[404/404] Loss0.21337, ACC:0.67336%\n",
      "Train_Loss: 0.22642608997550343,ACC:0.674%\n",
      "\u001b[66mHAM10000 ==> testing ...\u001b[0m\n"
     ]
    },
    {
     "data": {
      "application/vnd.jupyter.widget-view+json": {
       "model_id": "afce81e40b754655a02d16dbe8a93ac5",
       "version_major": 2,
       "version_minor": 0
      },
      "text/plain": [
       "  0%|          | 0/27 [00:00<?, ?it/s]"
      ]
     },
     "metadata": {},
     "output_type": "display_data"
    },
    {
     "name": "stdout",
     "output_type": "stream",
     "text": [
      "Test_Acc:\u001b[1;32m87.44%\u001b[0m\n",
      "Best_ACC[\u001b[1;32m89.855%\u001b[0m]\n",
      "Epoch: [28] HAM10000 ==> Training ...\n"
     ]
    },
    {
     "data": {
      "application/vnd.jupyter.widget-view+json": {
       "model_id": "b3737e79e33943b0839451c08862fd2f",
       "version_major": 2,
       "version_minor": 0
      },
      "text/plain": [
       "  0%|          | 0/404 [00:00<?, ?it/s]"
      ]
     },
     "metadata": {},
     "output_type": "display_data"
    },
    {
     "name": "stdout",
     "output_type": "stream",
     "text": [
      "[202/404] Loss0.22101, ACC:0.66720%\n",
      "[404/404] Loss0.23850, ACC:0.66710%\n",
      "Train_Loss: 0.22969662925541992,ACC:0.667%\n",
      "\u001b[66mHAM10000 ==> testing ...\u001b[0m\n"
     ]
    },
    {
     "data": {
      "application/vnd.jupyter.widget-view+json": {
       "model_id": "840426494b8e415cafe212503281b2aa",
       "version_major": 2,
       "version_minor": 0
      },
      "text/plain": [
       "  0%|          | 0/27 [00:00<?, ?it/s]"
      ]
     },
     "metadata": {},
     "output_type": "display_data"
    },
    {
     "name": "stdout",
     "output_type": "stream",
     "text": [
      "Test_Acc:\u001b[1;32m84.179%\u001b[0m\n",
      "Best_ACC[\u001b[1;32m89.855%\u001b[0m]\n",
      "Epoch: [29] HAM10000 ==> Training ...\n"
     ]
    },
    {
     "data": {
      "application/vnd.jupyter.widget-view+json": {
       "model_id": "1fde37f032c24d2a91fc1dcdead3213e",
       "version_major": 2,
       "version_minor": 0
      },
      "text/plain": [
       "  0%|          | 0/404 [00:00<?, ?it/s]"
      ]
     },
     "metadata": {},
     "output_type": "display_data"
    },
    {
     "name": "stdout",
     "output_type": "stream",
     "text": [
      "[202/404] Loss0.21119, ACC:0.65884%\n",
      "[404/404] Loss0.23247, ACC:0.65954%\n",
      "Train_Loss: 0.2354687606491665,ACC:0.66%\n",
      "\u001b[66mHAM10000 ==> testing ...\u001b[0m\n"
     ]
    },
    {
     "data": {
      "application/vnd.jupyter.widget-view+json": {
       "model_id": "f04c80f857e04cf99816dc3f8b00aeb6",
       "version_major": 2,
       "version_minor": 0
      },
      "text/plain": [
       "  0%|          | 0/27 [00:00<?, ?it/s]"
      ]
     },
     "metadata": {},
     "output_type": "display_data"
    },
    {
     "name": "stdout",
     "output_type": "stream",
     "text": [
      "Test_Acc:\u001b[1;32m86.353%\u001b[0m\n",
      "Best_ACC[\u001b[1;32m89.855%\u001b[0m]\n",
      "Epoch: [30] HAM10000 ==> Training ...\n"
     ]
    },
    {
     "data": {
      "application/vnd.jupyter.widget-view+json": {
       "model_id": "3360b01b10b8424eacbddab2b054049d",
       "version_major": 2,
       "version_minor": 0
      },
      "text/plain": [
       "  0%|          | 0/404 [00:00<?, ?it/s]"
      ]
     },
     "metadata": {},
     "output_type": "display_data"
    },
    {
     "name": "stdout",
     "output_type": "stream",
     "text": [
      "[202/404] Loss0.26010, ACC:0.65671%\n",
      "[404/404] Loss0.22725, ACC:0.65524%\n",
      "Train_Loss: 0.23891105484401826,ACC:0.655%\n",
      "\u001b[66mHAM10000 ==> testing ...\u001b[0m\n"
     ]
    },
    {
     "data": {
      "application/vnd.jupyter.widget-view+json": {
       "model_id": "c7c44b788e1846e3bacd81235b10e080",
       "version_major": 2,
       "version_minor": 0
      },
      "text/plain": [
       "  0%|          | 0/27 [00:00<?, ?it/s]"
      ]
     },
     "metadata": {},
     "output_type": "display_data"
    },
    {
     "name": "stdout",
     "output_type": "stream",
     "text": [
      "Test_Acc:\u001b[1;32m82.609%\u001b[0m\n",
      "Best_ACC[\u001b[1;32m89.855%\u001b[0m]\n",
      "Epoch: [31] HAM10000 ==> Training ...\n"
     ]
    },
    {
     "data": {
      "application/vnd.jupyter.widget-view+json": {
       "model_id": "0de9410330b24e7eabbe700f56885751",
       "version_major": 2,
       "version_minor": 0
      },
      "text/plain": [
       "  0%|          | 0/404 [00:00<?, ?it/s]"
      ]
     },
     "metadata": {},
     "output_type": "display_data"
    },
    {
     "name": "stdout",
     "output_type": "stream",
     "text": [
      "[202/404] Loss0.29687, ACC:0.65633%\n",
      "[404/404] Loss0.24830, ACC:0.65890%\n",
      "Train_Loss: 0.23677591326655728,ACC:0.659%\n",
      "\u001b[66mHAM10000 ==> testing ...\u001b[0m\n"
     ]
    },
    {
     "data": {
      "application/vnd.jupyter.widget-view+json": {
       "model_id": "030fcc8bfcf6484f9225bc29bb3925b6",
       "version_major": 2,
       "version_minor": 0
      },
      "text/plain": [
       "  0%|          | 0/27 [00:00<?, ?it/s]"
      ]
     },
     "metadata": {},
     "output_type": "display_data"
    },
    {
     "name": "stdout",
     "output_type": "stream",
     "text": [
      "Test_Acc:\u001b[1;32m86.836%\u001b[0m\n",
      "Best_ACC[\u001b[1;32m89.855%\u001b[0m]\n",
      "Epoch: [32] HAM10000 ==> Training ...\n"
     ]
    },
    {
     "data": {
      "application/vnd.jupyter.widget-view+json": {
       "model_id": "d08fa4bf20e344118ff83eba728f1a56",
       "version_major": 2,
       "version_minor": 0
      },
      "text/plain": [
       "  0%|          | 0/404 [00:00<?, ?it/s]"
      ]
     },
     "metadata": {},
     "output_type": "display_data"
    },
    {
     "name": "stdout",
     "output_type": "stream",
     "text": [
      "[202/404] Loss0.23173, ACC:0.66433%\n",
      "[404/404] Loss0.25445, ACC:0.66341%\n",
      "Train_Loss: 0.2336277924478054,ACC:0.664%\n",
      "\u001b[66mHAM10000 ==> testing ...\u001b[0m\n"
     ]
    },
    {
     "data": {
      "application/vnd.jupyter.widget-view+json": {
       "model_id": "0bd95afc0932499f8d745d45b3bd323b",
       "version_major": 2,
       "version_minor": 0
      },
      "text/plain": [
       "  0%|          | 0/27 [00:00<?, ?it/s]"
      ]
     },
     "metadata": {},
     "output_type": "display_data"
    },
    {
     "name": "stdout",
     "output_type": "stream",
     "text": [
      "Test_Acc:\u001b[1;32m83.092%\u001b[0m\n",
      "Best_ACC[\u001b[1;32m89.855%\u001b[0m]\n",
      "Epoch: [33] HAM10000 ==> Training ...\n"
     ]
    },
    {
     "data": {
      "application/vnd.jupyter.widget-view+json": {
       "model_id": "50284c7c399d4b6c85fecf9e37ca70cf",
       "version_major": 2,
       "version_minor": 0
      },
      "text/plain": [
       "  0%|          | 0/404 [00:00<?, ?it/s]"
      ]
     },
     "metadata": {},
     "output_type": "display_data"
    },
    {
     "name": "stdout",
     "output_type": "stream",
     "text": [
      "[202/404] Loss0.19631, ACC:0.66820%\n",
      "[404/404] Loss0.21344, ACC:0.67275%\n",
      "Train_Loss: 0.2276795097801945,ACC:0.673%\n",
      "\u001b[66mHAM10000 ==> testing ...\u001b[0m\n"
     ]
    },
    {
     "data": {
      "application/vnd.jupyter.widget-view+json": {
       "model_id": "371f23b3f7c4437093f0358a285dceb5",
       "version_major": 2,
       "version_minor": 0
      },
      "text/plain": [
       "  0%|          | 0/27 [00:00<?, ?it/s]"
      ]
     },
     "metadata": {},
     "output_type": "display_data"
    },
    {
     "name": "stdout",
     "output_type": "stream",
     "text": [
      "Test_Acc:\u001b[1;32m21.135%\u001b[0m\n",
      "Best_ACC[\u001b[1;32m89.855%\u001b[0m]\n",
      "Epoch: [34] HAM10000 ==> Training ...\n"
     ]
    },
    {
     "data": {
      "application/vnd.jupyter.widget-view+json": {
       "model_id": "af29c47f1b0845cbafaeed3f93fb2427",
       "version_major": 2,
       "version_minor": 0
      },
      "text/plain": [
       "  0%|          | 0/404 [00:00<?, ?it/s]"
      ]
     },
     "metadata": {},
     "output_type": "display_data"
    },
    {
     "name": "stdout",
     "output_type": "stream",
     "text": [
      "[202/404] Loss0.24410, ACC:0.68328%\n",
      "[404/404] Loss0.22496, ACC:0.68675%\n",
      "Train_Loss: 0.22024697378867925,ACC:0.687%\n",
      "\u001b[66mHAM10000 ==> testing ...\u001b[0m\n"
     ]
    },
    {
     "data": {
      "application/vnd.jupyter.widget-view+json": {
       "model_id": "69ae7f5d9b87410b83d906d3f6d5c41c",
       "version_major": 2,
       "version_minor": 0
      },
      "text/plain": [
       "  0%|          | 0/27 [00:00<?, ?it/s]"
      ]
     },
     "metadata": {},
     "output_type": "display_data"
    },
    {
     "name": "stdout",
     "output_type": "stream",
     "text": [
      "Test_Acc:\u001b[1;32m79.589%\u001b[0m\n",
      "Best_ACC[\u001b[1;32m89.855%\u001b[0m]\n",
      "Epoch: [35] HAM10000 ==> Training ...\n"
     ]
    },
    {
     "data": {
      "application/vnd.jupyter.widget-view+json": {
       "model_id": "1346d78e0aab4f4f8be911a6ff86f721",
       "version_major": 2,
       "version_minor": 0
      },
      "text/plain": [
       "  0%|          | 0/404 [00:00<?, ?it/s]"
      ]
     },
     "metadata": {},
     "output_type": "display_data"
    },
    {
     "name": "stdout",
     "output_type": "stream",
     "text": [
      "[202/404] Loss0.19473, ACC:0.69210%\n",
      "[404/404] Loss0.20850, ACC:0.69355%\n",
      "Train_Loss: 0.2141322677604633,ACC:0.694%\n",
      "\u001b[66mHAM10000 ==> testing ...\u001b[0m\n"
     ]
    },
    {
     "data": {
      "application/vnd.jupyter.widget-view+json": {
       "model_id": "0e814f8dbf1a4da9a47a4ee109252c97",
       "version_major": 2,
       "version_minor": 0
      },
      "text/plain": [
       "  0%|          | 0/27 [00:00<?, ?it/s]"
      ]
     },
     "metadata": {},
     "output_type": "display_data"
    },
    {
     "name": "stdout",
     "output_type": "stream",
     "text": [
      "Test_Acc:\u001b[1;32m92.391%\u001b[0m\n",
      "Best_ACC[\u001b[1;32m92.391%\u001b[0m]\n",
      "Epoch: [36] HAM10000 ==> Training ...\n"
     ]
    },
    {
     "data": {
      "application/vnd.jupyter.widget-view+json": {
       "model_id": "88e6012553754d84b5e353b27c1d2a92",
       "version_major": 2,
       "version_minor": 0
      },
      "text/plain": [
       "  0%|          | 0/404 [00:00<?, ?it/s]"
      ]
     },
     "metadata": {},
     "output_type": "display_data"
    },
    {
     "name": "stdout",
     "output_type": "stream",
     "text": [
      "[202/404] Loss0.21095, ACC:0.69094%\n",
      "[404/404] Loss0.21751, ACC:0.69353%\n",
      "Train_Loss: 0.2137482770082384,ACC:0.694%\n",
      "\u001b[66mHAM10000 ==> testing ...\u001b[0m\n"
     ]
    },
    {
     "data": {
      "application/vnd.jupyter.widget-view+json": {
       "model_id": "1d3d73f8d1ad429ca5220aa7070a1614",
       "version_major": 2,
       "version_minor": 0
      },
      "text/plain": [
       "  0%|          | 0/27 [00:00<?, ?it/s]"
      ]
     },
     "metadata": {},
     "output_type": "display_data"
    },
    {
     "name": "stdout",
     "output_type": "stream",
     "text": [
      "Test_Acc:\u001b[1;32m91.546%\u001b[0m\n",
      "Best_ACC[\u001b[1;32m92.391%\u001b[0m]\n",
      "Epoch: [37] HAM10000 ==> Training ...\n"
     ]
    },
    {
     "data": {
      "application/vnd.jupyter.widget-view+json": {
       "model_id": "9f2ffd8559eb4efb87ecca4f2f967694",
       "version_major": 2,
       "version_minor": 0
      },
      "text/plain": [
       "  0%|          | 0/404 [00:00<?, ?it/s]"
      ]
     },
     "metadata": {},
     "output_type": "display_data"
    },
    {
     "name": "stdout",
     "output_type": "stream",
     "text": [
      "[202/404] Loss0.19747, ACC:0.69957%\n",
      "[404/404] Loss0.21408, ACC:0.69843%\n",
      "Train_Loss: 0.21314099947414775,ACC:0.699%\n",
      "\u001b[66mHAM10000 ==> testing ...\u001b[0m\n"
     ]
    },
    {
     "data": {
      "application/vnd.jupyter.widget-view+json": {
       "model_id": "4d15353c00bc4f5a89bd0992db38c97e",
       "version_major": 2,
       "version_minor": 0
      },
      "text/plain": [
       "  0%|          | 0/27 [00:00<?, ?it/s]"
      ]
     },
     "metadata": {},
     "output_type": "display_data"
    },
    {
     "name": "stdout",
     "output_type": "stream",
     "text": [
      "Test_Acc:\u001b[1;32m87.923%\u001b[0m\n",
      "Best_ACC[\u001b[1;32m92.391%\u001b[0m]\n",
      "Epoch: [38] HAM10000 ==> Training ...\n"
     ]
    },
    {
     "data": {
      "application/vnd.jupyter.widget-view+json": {
       "model_id": "cffbada470334989be004fbaaced8617",
       "version_major": 2,
       "version_minor": 0
      },
      "text/plain": [
       "  0%|          | 0/404 [00:00<?, ?it/s]"
      ]
     },
     "metadata": {},
     "output_type": "display_data"
    },
    {
     "name": "stdout",
     "output_type": "stream",
     "text": [
      "[202/404] Loss0.22979, ACC:0.68839%\n",
      "[404/404] Loss0.19480, ACC:0.68791%\n",
      "Train_Loss: 0.21839461612081765,ACC:0.688%\n",
      "\u001b[66mHAM10000 ==> testing ...\u001b[0m\n"
     ]
    },
    {
     "data": {
      "application/vnd.jupyter.widget-view+json": {
       "model_id": "743a73e4289a4d5cbfe27980fe91d5fd",
       "version_major": 2,
       "version_minor": 0
      },
      "text/plain": [
       "  0%|          | 0/27 [00:00<?, ?it/s]"
      ]
     },
     "metadata": {},
     "output_type": "display_data"
    },
    {
     "name": "stdout",
     "output_type": "stream",
     "text": [
      "Test_Acc:\u001b[1;32m90.217%\u001b[0m\n",
      "Best_ACC[\u001b[1;32m92.391%\u001b[0m]\n",
      "Epoch: [39] HAM10000 ==> Training ...\n"
     ]
    },
    {
     "data": {
      "application/vnd.jupyter.widget-view+json": {
       "model_id": "f834f2599a7f4306abe37dda3ea1c109",
       "version_major": 2,
       "version_minor": 0
      },
      "text/plain": [
       "  0%|          | 0/404 [00:00<?, ?it/s]"
      ]
     },
     "metadata": {},
     "output_type": "display_data"
    },
    {
     "name": "stdout",
     "output_type": "stream",
     "text": [
      "[202/404] Loss0.21882, ACC:0.68143%\n",
      "[404/404] Loss0.21528, ACC:0.68062%\n",
      "Train_Loss: 0.22381144846872528,ACC:0.681%\n",
      "\u001b[66mHAM10000 ==> testing ...\u001b[0m\n"
     ]
    },
    {
     "data": {
      "application/vnd.jupyter.widget-view+json": {
       "model_id": "55585de890924717b079037d8d029a51",
       "version_major": 2,
       "version_minor": 0
      },
      "text/plain": [
       "  0%|          | 0/27 [00:00<?, ?it/s]"
      ]
     },
     "metadata": {},
     "output_type": "display_data"
    },
    {
     "name": "stdout",
     "output_type": "stream",
     "text": [
      "Test_Acc:\u001b[1;32m89.493%\u001b[0m\n",
      "Best_ACC[\u001b[1;32m92.391%\u001b[0m]\n",
      "Epoch: [40] HAM10000 ==> Training ...\n"
     ]
    },
    {
     "data": {
      "application/vnd.jupyter.widget-view+json": {
       "model_id": "b410fbbd2f8749b4a124c5b1fb932d29",
       "version_major": 2,
       "version_minor": 0
      },
      "text/plain": [
       "  0%|          | 0/404 [00:00<?, ?it/s]"
      ]
     },
     "metadata": {},
     "output_type": "display_data"
    },
    {
     "name": "stdout",
     "output_type": "stream",
     "text": [
      "[202/404] Loss0.25401, ACC:0.67617%\n",
      "[404/404] Loss0.24950, ACC:0.67582%\n",
      "Train_Loss: 0.22706989401785455,ACC:0.676%\n",
      "\u001b[66mHAM10000 ==> testing ...\u001b[0m\n"
     ]
    },
    {
     "data": {
      "application/vnd.jupyter.widget-view+json": {
       "model_id": "1e0585b6cc304dab9c3207257e3fc362",
       "version_major": 2,
       "version_minor": 0
      },
      "text/plain": [
       "  0%|          | 0/27 [00:00<?, ?it/s]"
      ]
     },
     "metadata": {},
     "output_type": "display_data"
    },
    {
     "name": "stdout",
     "output_type": "stream",
     "text": [
      "Test_Acc:\u001b[1;32m83.454%\u001b[0m\n",
      "Best_ACC[\u001b[1;32m92.391%\u001b[0m]\n",
      "Epoch: [41] HAM10000 ==> Training ...\n"
     ]
    },
    {
     "data": {
      "application/vnd.jupyter.widget-view+json": {
       "model_id": "182ce8b9ee5e4d91b015e75e27e6cae1",
       "version_major": 2,
       "version_minor": 0
      },
      "text/plain": [
       "  0%|          | 0/404 [00:00<?, ?it/s]"
      ]
     },
     "metadata": {},
     "output_type": "display_data"
    },
    {
     "name": "stdout",
     "output_type": "stream",
     "text": [
      "[202/404] Loss0.21919, ACC:0.67787%\n",
      "[404/404] Loss0.27366, ACC:0.67746%\n",
      "Train_Loss: 0.22657021304758468,ACC:0.678%\n",
      "\u001b[66mHAM10000 ==> testing ...\u001b[0m\n"
     ]
    },
    {
     "data": {
      "application/vnd.jupyter.widget-view+json": {
       "model_id": "291c31d0e9444d259a51229b3b1fdb46",
       "version_major": 2,
       "version_minor": 0
      },
      "text/plain": [
       "  0%|          | 0/27 [00:00<?, ?it/s]"
      ]
     },
     "metadata": {},
     "output_type": "display_data"
    },
    {
     "name": "stdout",
     "output_type": "stream",
     "text": [
      "Test_Acc:\u001b[1;32m90.58%\u001b[0m\n",
      "Best_ACC[\u001b[1;32m92.391%\u001b[0m]\n",
      "Epoch: [42] HAM10000 ==> Training ...\n"
     ]
    },
    {
     "data": {
      "application/vnd.jupyter.widget-view+json": {
       "model_id": "1179cffcada942f389df9d06e275c49f",
       "version_major": 2,
       "version_minor": 0
      },
      "text/plain": [
       "  0%|          | 0/404 [00:00<?, ?it/s]"
      ]
     },
     "metadata": {},
     "output_type": "display_data"
    },
    {
     "name": "stdout",
     "output_type": "stream",
     "text": [
      "[202/404] Loss0.23470, ACC:0.67787%\n",
      "[404/404] Loss0.19132, ACC:0.67947%\n",
      "Train_Loss: 0.22414532432904338,ACC:0.68%\n",
      "\u001b[66mHAM10000 ==> testing ...\u001b[0m\n"
     ]
    },
    {
     "data": {
      "application/vnd.jupyter.widget-view+json": {
       "model_id": "fe4a7bc494e64995b4ea83b38e620202",
       "version_major": 2,
       "version_minor": 0
      },
      "text/plain": [
       "  0%|          | 0/27 [00:00<?, ?it/s]"
      ]
     },
     "metadata": {},
     "output_type": "display_data"
    },
    {
     "name": "stdout",
     "output_type": "stream",
     "text": [
      "Test_Acc:\u001b[1;32m38.527%\u001b[0m\n",
      "Best_ACC[\u001b[1;32m92.391%\u001b[0m]\n",
      "Epoch: [43] HAM10000 ==> Training ...\n"
     ]
    },
    {
     "data": {
      "application/vnd.jupyter.widget-view+json": {
       "model_id": "89dcebead9fa429bbaa3c9c84f51f937",
       "version_major": 2,
       "version_minor": 0
      },
      "text/plain": [
       "  0%|          | 0/404 [00:00<?, ?it/s]"
      ]
     },
     "metadata": {},
     "output_type": "display_data"
    },
    {
     "name": "stdout",
     "output_type": "stream",
     "text": [
      "[202/404] Loss0.20502, ACC:0.69040%\n",
      "[404/404] Loss0.23558, ACC:0.69264%\n",
      "Train_Loss: 0.21675269449553866,ACC:0.693%\n",
      "\u001b[66mHAM10000 ==> testing ...\u001b[0m\n"
     ]
    },
    {
     "data": {
      "application/vnd.jupyter.widget-view+json": {
       "model_id": "725e2db15a1345fabd2225bd1de532a4",
       "version_major": 2,
       "version_minor": 0
      },
      "text/plain": [
       "  0%|          | 0/27 [00:00<?, ?it/s]"
      ]
     },
     "metadata": {},
     "output_type": "display_data"
    },
    {
     "name": "stdout",
     "output_type": "stream",
     "text": [
      "Test_Acc:\u001b[1;32m92.633%\u001b[0m\n",
      "Best_ACC[\u001b[1;32m92.633%\u001b[0m]\n",
      "Epoch: [44] HAM10000 ==> Training ...\n"
     ]
    },
    {
     "data": {
      "application/vnd.jupyter.widget-view+json": {
       "model_id": "0021c0c536f6447782d068ad2a2e220a",
       "version_major": 2,
       "version_minor": 0
      },
      "text/plain": [
       "  0%|          | 0/404 [00:00<?, ?it/s]"
      ]
     },
     "metadata": {},
     "output_type": "display_data"
    },
    {
     "name": "stdout",
     "output_type": "stream",
     "text": [
      "[202/404] Loss0.18350, ACC:0.70239%\n",
      "[404/404] Loss0.23868, ACC:0.70369%\n",
      "Train_Loss: 0.21026866049459664,ACC:0.704%\n",
      "\u001b[66mHAM10000 ==> testing ...\u001b[0m\n"
     ]
    },
    {
     "data": {
      "application/vnd.jupyter.widget-view+json": {
       "model_id": "3cc316a863694badb7a43accbc90cbb2",
       "version_major": 2,
       "version_minor": 0
      },
      "text/plain": [
       "  0%|          | 0/27 [00:00<?, ?it/s]"
      ]
     },
     "metadata": {},
     "output_type": "display_data"
    },
    {
     "name": "stdout",
     "output_type": "stream",
     "text": [
      "Test_Acc:\u001b[1;32m91.063%\u001b[0m\n",
      "Best_ACC[\u001b[1;32m92.633%\u001b[0m]\n",
      "Epoch: [45] HAM10000 ==> Training ...\n"
     ]
    },
    {
     "data": {
      "application/vnd.jupyter.widget-view+json": {
       "model_id": "3c9a4ac6d306450188b72e2a014a46bf",
       "version_major": 2,
       "version_minor": 0
      },
      "text/plain": [
       "  0%|          | 0/404 [00:00<?, ?it/s]"
      ]
     },
     "metadata": {},
     "output_type": "display_data"
    },
    {
     "name": "stdout",
     "output_type": "stream",
     "text": [
      "[202/404] Loss0.22227, ACC:0.71020%\n",
      "[404/404] Loss0.21986, ACC:0.71185%\n",
      "Train_Loss: 0.2054684762612428,ACC:0.712%\n",
      "\u001b[66mHAM10000 ==> testing ...\u001b[0m\n"
     ]
    },
    {
     "data": {
      "application/vnd.jupyter.widget-view+json": {
       "model_id": "b13d8fe8012247ee9703c3bd2ca144cf",
       "version_major": 2,
       "version_minor": 0
      },
      "text/plain": [
       "  0%|          | 0/27 [00:00<?, ?it/s]"
      ]
     },
     "metadata": {},
     "output_type": "display_data"
    },
    {
     "name": "stdout",
     "output_type": "stream",
     "text": [
      "Test_Acc:\u001b[1;32m89.614%\u001b[0m\n",
      "Best_ACC[\u001b[1;32m92.633%\u001b[0m]\n",
      "Epoch: [46] HAM10000 ==> Training ...\n"
     ]
    },
    {
     "data": {
      "application/vnd.jupyter.widget-view+json": {
       "model_id": "16476acfcbe9489680f0bf3a4452f715",
       "version_major": 2,
       "version_minor": 0
      },
      "text/plain": [
       "  0%|          | 0/404 [00:00<?, ?it/s]"
      ]
     },
     "metadata": {},
     "output_type": "display_data"
    },
    {
     "name": "stdout",
     "output_type": "stream",
     "text": [
      "[202/404] Loss0.19827, ACC:0.71229%\n",
      "[404/404] Loss0.21196, ACC:0.71424%\n",
      "Train_Loss: 0.2037228446564462,ACC:0.714%\n",
      "\u001b[66mHAM10000 ==> testing ...\u001b[0m\n"
     ]
    },
    {
     "data": {
      "application/vnd.jupyter.widget-view+json": {
       "model_id": "3da966bc926b4212a496e9a1809fd581",
       "version_major": 2,
       "version_minor": 0
      },
      "text/plain": [
       "  0%|          | 0/27 [00:00<?, ?it/s]"
      ]
     },
     "metadata": {},
     "output_type": "display_data"
    },
    {
     "name": "stdout",
     "output_type": "stream",
     "text": [
      "Test_Acc:\u001b[1;32m89.372%\u001b[0m\n",
      "Best_ACC[\u001b[1;32m92.633%\u001b[0m]\n",
      "Epoch: [47] HAM10000 ==> Training ...\n"
     ]
    },
    {
     "data": {
      "application/vnd.jupyter.widget-view+json": {
       "model_id": "53d0dc5c43f14a29bced466891f17f41",
       "version_major": 2,
       "version_minor": 0
      },
      "text/plain": [
       "  0%|          | 0/404 [00:00<?, ?it/s]"
      ]
     },
     "metadata": {},
     "output_type": "display_data"
    },
    {
     "name": "stdout",
     "output_type": "stream",
     "text": [
      "[202/404] Loss0.21842, ACC:0.71291%\n",
      "[404/404] Loss0.22716, ACC:0.71281%\n",
      "Train_Loss: 0.20400277064135758,ACC:0.713%\n",
      "\u001b[66mHAM10000 ==> testing ...\u001b[0m\n"
     ]
    },
    {
     "data": {
      "application/vnd.jupyter.widget-view+json": {
       "model_id": "177dcea41ab646f29e907f51b6cf33eb",
       "version_major": 2,
       "version_minor": 0
      },
      "text/plain": [
       "  0%|          | 0/27 [00:00<?, ?it/s]"
      ]
     },
     "metadata": {},
     "output_type": "display_data"
    },
    {
     "name": "stdout",
     "output_type": "stream",
     "text": [
      "Test_Acc:\u001b[1;32m89.01%\u001b[0m\n",
      "Best_ACC[\u001b[1;32m92.633%\u001b[0m]\n",
      "Epoch: [48] HAM10000 ==> Training ...\n"
     ]
    },
    {
     "data": {
      "application/vnd.jupyter.widget-view+json": {
       "model_id": "411d819f0f9041ea8757548a3aa5f8c5",
       "version_major": 2,
       "version_minor": 0
      },
      "text/plain": [
       "  0%|          | 0/404 [00:00<?, ?it/s]"
      ]
     },
     "metadata": {},
     "output_type": "display_data"
    },
    {
     "name": "stdout",
     "output_type": "stream",
     "text": [
      "[202/404] Loss0.18481, ACC:0.70796%\n",
      "[404/404] Loss0.20531, ACC:0.70802%\n",
      "Train_Loss: 0.2085089234653676,ACC:0.708%\n",
      "\u001b[66mHAM10000 ==> testing ...\u001b[0m\n"
     ]
    },
    {
     "data": {
      "application/vnd.jupyter.widget-view+json": {
       "model_id": "31ef31c94c3444e0a82484e33ca01f37",
       "version_major": 2,
       "version_minor": 0
      },
      "text/plain": [
       "  0%|          | 0/27 [00:00<?, ?it/s]"
      ]
     },
     "metadata": {},
     "output_type": "display_data"
    },
    {
     "name": "stdout",
     "output_type": "stream",
     "text": [
      "Test_Acc:\u001b[1;32m85.024%\u001b[0m\n",
      "Best_ACC[\u001b[1;32m92.633%\u001b[0m]\n",
      "Epoch: [49] HAM10000 ==> Training ...\n"
     ]
    },
    {
     "data": {
      "application/vnd.jupyter.widget-view+json": {
       "model_id": "edd9ea7e08d542d3a29abb090e465025",
       "version_major": 2,
       "version_minor": 0
      },
      "text/plain": [
       "  0%|          | 0/404 [00:00<?, ?it/s]"
      ]
     },
     "metadata": {},
     "output_type": "display_data"
    },
    {
     "name": "stdout",
     "output_type": "stream",
     "text": [
      "[202/404] Loss0.20977, ACC:0.69879%\n",
      "[404/404] Loss0.21103, ACC:0.69804%\n",
      "Train_Loss: 0.2148578278720379,ACC:0.698%\n",
      "\u001b[66mHAM10000 ==> testing ...\u001b[0m\n"
     ]
    },
    {
     "data": {
      "application/vnd.jupyter.widget-view+json": {
       "model_id": "b03115d17d0149fdb8b1b839877749ed",
       "version_major": 2,
       "version_minor": 0
      },
      "text/plain": [
       "  0%|          | 0/27 [00:00<?, ?it/s]"
      ]
     },
     "metadata": {},
     "output_type": "display_data"
    },
    {
     "name": "stdout",
     "output_type": "stream",
     "text": [
      "Test_Acc:\u001b[1;32m89.01%\u001b[0m\n",
      "Best_ACC[\u001b[1;32m92.633%\u001b[0m]\n",
      "Epoch: [50] HAM10000 ==> Training ...\n"
     ]
    },
    {
     "data": {
      "application/vnd.jupyter.widget-view+json": {
       "model_id": "5522508a59504880b3efbc283c85094e",
       "version_major": 2,
       "version_minor": 0
      },
      "text/plain": [
       "  0%|          | 0/404 [00:00<?, ?it/s]"
      ]
     },
     "metadata": {},
     "output_type": "display_data"
    },
    {
     "name": "stdout",
     "output_type": "stream",
     "text": [
      "[202/404] Loss0.23607, ACC:0.68928%\n",
      "[404/404] Loss0.21594, ACC:0.69199%\n",
      "Train_Loss: 0.21766023050145347,ACC:0.692%\n",
      "\u001b[66mHAM10000 ==> testing ...\u001b[0m\n"
     ]
    },
    {
     "data": {
      "application/vnd.jupyter.widget-view+json": {
       "model_id": "39348e42775b40278810376ac46996f8",
       "version_major": 2,
       "version_minor": 0
      },
      "text/plain": [
       "  0%|          | 0/27 [00:00<?, ?it/s]"
      ]
     },
     "metadata": {},
     "output_type": "display_data"
    },
    {
     "name": "stdout",
     "output_type": "stream",
     "text": [
      "Test_Acc:\u001b[1;32m88.406%\u001b[0m\n",
      "Best_ACC[\u001b[1;32m92.633%\u001b[0m]\n",
      "Epoch: [51] HAM10000 ==> Training ...\n"
     ]
    },
    {
     "data": {
      "application/vnd.jupyter.widget-view+json": {
       "model_id": "49d06998f9664b42b53cb1053ab5b9e0",
       "version_major": 2,
       "version_minor": 0
      },
      "text/plain": [
       "  0%|          | 0/404 [00:00<?, ?it/s]"
      ]
     },
     "metadata": {},
     "output_type": "display_data"
    },
    {
     "name": "stdout",
     "output_type": "stream",
     "text": [
      "[202/404] Loss0.19909, ACC:0.69059%\n",
      "[404/404] Loss0.22245, ACC:0.68967%\n",
      "Train_Loss: 0.21944259638243382,ACC:0.69%\n",
      "\u001b[66mHAM10000 ==> testing ...\u001b[0m\n"
     ]
    },
    {
     "data": {
      "application/vnd.jupyter.widget-view+json": {
       "model_id": "ab0d735d063d483b9fa5234832a461da",
       "version_major": 2,
       "version_minor": 0
      },
      "text/plain": [
       "  0%|          | 0/27 [00:00<?, ?it/s]"
      ]
     },
     "metadata": {},
     "output_type": "display_data"
    },
    {
     "name": "stdout",
     "output_type": "stream",
     "text": [
      "Test_Acc:\u001b[1;32m86.957%\u001b[0m\n",
      "Best_ACC[\u001b[1;32m92.633%\u001b[0m]\n",
      "Epoch: [52] HAM10000 ==> Training ...\n"
     ]
    },
    {
     "data": {
      "application/vnd.jupyter.widget-view+json": {
       "model_id": "0bf59de02b2c48cd92f1ccc28a8c9039",
       "version_major": 2,
       "version_minor": 0
      },
      "text/plain": [
       "  0%|          | 0/404 [00:00<?, ?it/s]"
      ]
     },
     "metadata": {},
     "output_type": "display_data"
    },
    {
     "name": "stdout",
     "output_type": "stream",
     "text": [
      "[202/404] Loss0.21817, ACC:0.69500%\n",
      "[404/404] Loss0.21699, ACC:0.69628%\n",
      "Train_Loss: 0.2158413151334418,ACC:0.696%\n",
      "\u001b[66mHAM10000 ==> testing ...\u001b[0m\n"
     ]
    },
    {
     "data": {
      "application/vnd.jupyter.widget-view+json": {
       "model_id": "f0b2d990165242efb411584301062cc5",
       "version_major": 2,
       "version_minor": 0
      },
      "text/plain": [
       "  0%|          | 0/27 [00:00<?, ?it/s]"
      ]
     },
     "metadata": {},
     "output_type": "display_data"
    },
    {
     "name": "stdout",
     "output_type": "stream",
     "text": [
      "Test_Acc:\u001b[1;32m87.802%\u001b[0m\n",
      "Best_ACC[\u001b[1;32m92.633%\u001b[0m]\n",
      "Epoch: [53] HAM10000 ==> Training ...\n"
     ]
    },
    {
     "data": {
      "application/vnd.jupyter.widget-view+json": {
       "model_id": "5a33c17629cb4d9eb270ec38b9a764b2",
       "version_major": 2,
       "version_minor": 0
      },
      "text/plain": [
       "  0%|          | 0/404 [00:00<?, ?it/s]"
      ]
     },
     "metadata": {},
     "output_type": "display_data"
    },
    {
     "name": "stdout",
     "output_type": "stream",
     "text": [
      "[202/404] Loss0.21948, ACC:0.70108%\n",
      "[404/404] Loss0.19661, ACC:0.70345%\n",
      "Train_Loss: 0.21006946291516324,ACC:0.704%\n",
      "\u001b[66mHAM10000 ==> testing ...\u001b[0m\n"
     ]
    },
    {
     "data": {
      "application/vnd.jupyter.widget-view+json": {
       "model_id": "b75056b5685f4fffa5d482a6907a3d40",
       "version_major": 2,
       "version_minor": 0
      },
      "text/plain": [
       "  0%|          | 0/27 [00:00<?, ?it/s]"
      ]
     },
     "metadata": {},
     "output_type": "display_data"
    },
    {
     "name": "stdout",
     "output_type": "stream",
     "text": [
      "Test_Acc:\u001b[1;32m82.367%\u001b[0m\n",
      "Best_ACC[\u001b[1;32m92.633%\u001b[0m]\n",
      "Epoch: [54] HAM10000 ==> Training ...\n"
     ]
    },
    {
     "data": {
      "application/vnd.jupyter.widget-view+json": {
       "model_id": "2043d53750b84a1f8390fe33eb4d4854",
       "version_major": 2,
       "version_minor": 0
      },
      "text/plain": [
       "  0%|          | 0/404 [00:00<?, ?it/s]"
      ]
     },
     "metadata": {},
     "output_type": "display_data"
    },
    {
     "name": "stdout",
     "output_type": "stream",
     "text": [
      "[202/404] Loss0.18150, ACC:0.71577%\n",
      "[404/404] Loss0.19154, ACC:0.71771%\n",
      "Train_Loss: 0.20335692890209728,ACC:0.718%\n",
      "\u001b[66mHAM10000 ==> testing ...\u001b[0m\n"
     ]
    },
    {
     "data": {
      "application/vnd.jupyter.widget-view+json": {
       "model_id": "dd677ef848704bbc87f25533a5b043e2",
       "version_major": 2,
       "version_minor": 0
      },
      "text/plain": [
       "  0%|          | 0/27 [00:00<?, ?it/s]"
      ]
     },
     "metadata": {},
     "output_type": "display_data"
    },
    {
     "name": "stdout",
     "output_type": "stream",
     "text": [
      "Test_Acc:\u001b[1;32m90.942%\u001b[0m\n",
      "Best_ACC[\u001b[1;32m92.633%\u001b[0m]\n",
      "Epoch: [55] HAM10000 ==> Training ...\n"
     ]
    },
    {
     "data": {
      "application/vnd.jupyter.widget-view+json": {
       "model_id": "5f3c55ed4a714e5bb0bc55df1521a541",
       "version_major": 2,
       "version_minor": 0
      },
      "text/plain": [
       "  0%|          | 0/404 [00:00<?, ?it/s]"
      ]
     },
     "metadata": {},
     "output_type": "display_data"
    },
    {
     "name": "stdout",
     "output_type": "stream",
     "text": [
      "[202/404] Loss0.21086, ACC:0.72656%\n",
      "[404/404] Loss0.18224, ACC:0.72610%\n",
      "Train_Loss: 0.19792350499641778,ACC:0.726%\n",
      "\u001b[66mHAM10000 ==> testing ...\u001b[0m\n"
     ]
    },
    {
     "data": {
      "application/vnd.jupyter.widget-view+json": {
       "model_id": "1b9d1d762e6e42f2bc6da1f982cbcc2b",
       "version_major": 2,
       "version_minor": 0
      },
      "text/plain": [
       "  0%|          | 0/27 [00:00<?, ?it/s]"
      ]
     },
     "metadata": {},
     "output_type": "display_data"
    },
    {
     "name": "stdout",
     "output_type": "stream",
     "text": [
      "Test_Acc:\u001b[1;32m91.425%\u001b[0m\n",
      "Best_ACC[\u001b[1;32m92.633%\u001b[0m]\n",
      "Epoch: [56] HAM10000 ==> Training ...\n"
     ]
    },
    {
     "data": {
      "application/vnd.jupyter.widget-view+json": {
       "model_id": "295d868cd35c4ebfb9a5b59487cc6c67",
       "version_major": 2,
       "version_minor": 0
      },
      "text/plain": [
       "  0%|          | 0/404 [00:00<?, ?it/s]"
      ]
     },
     "metadata": {},
     "output_type": "display_data"
    },
    {
     "name": "stdout",
     "output_type": "stream",
     "text": [
      "[202/404] Loss0.17244, ACC:0.72973%\n",
      "[404/404] Loss0.17407, ACC:0.72763%\n",
      "Train_Loss: 0.19721980743331485,ACC:0.728%\n",
      "\u001b[66mHAM10000 ==> testing ...\u001b[0m\n"
     ]
    },
    {
     "data": {
      "application/vnd.jupyter.widget-view+json": {
       "model_id": "bd66f8ea877a47b684e8ce2f2aee9598",
       "version_major": 2,
       "version_minor": 0
      },
      "text/plain": [
       "  0%|          | 0/27 [00:00<?, ?it/s]"
      ]
     },
     "metadata": {},
     "output_type": "display_data"
    },
    {
     "name": "stdout",
     "output_type": "stream",
     "text": [
      "Test_Acc:\u001b[1;32m90.338%\u001b[0m\n",
      "Best_ACC[\u001b[1;32m92.633%\u001b[0m]\n",
      "Epoch: [57] HAM10000 ==> Training ...\n"
     ]
    },
    {
     "data": {
      "application/vnd.jupyter.widget-view+json": {
       "model_id": "1cdc69d3c1e145e9a658213b3f66b4ec",
       "version_major": 2,
       "version_minor": 0
      },
      "text/plain": [
       "  0%|          | 0/404 [00:00<?, ?it/s]"
      ]
     },
     "metadata": {},
     "output_type": "display_data"
    },
    {
     "name": "stdout",
     "output_type": "stream",
     "text": [
      "[202/404] Loss0.21091, ACC:0.72819%\n",
      "[404/404] Loss0.18862, ACC:0.72705%\n",
      "Train_Loss: 0.19714185001678985,ACC:0.727%\n",
      "\u001b[66mHAM10000 ==> testing ...\u001b[0m\n"
     ]
    },
    {
     "data": {
      "application/vnd.jupyter.widget-view+json": {
       "model_id": "5549c6d022a944e2b6293d04e2b4b0b3",
       "version_major": 2,
       "version_minor": 0
      },
      "text/plain": [
       "  0%|          | 0/27 [00:00<?, ?it/s]"
      ]
     },
     "metadata": {},
     "output_type": "display_data"
    },
    {
     "name": "stdout",
     "output_type": "stream",
     "text": [
      "Test_Acc:\u001b[1;32m91.546%\u001b[0m\n",
      "Best_ACC[\u001b[1;32m92.633%\u001b[0m]\n",
      "Epoch: [58] HAM10000 ==> Training ...\n"
     ]
    },
    {
     "data": {
      "application/vnd.jupyter.widget-view+json": {
       "model_id": "6e00cbb9650041aca7d57d0ba79fc0b0",
       "version_major": 2,
       "version_minor": 0
      },
      "text/plain": [
       "  0%|          | 0/404 [00:00<?, ?it/s]"
      ]
     },
     "metadata": {},
     "output_type": "display_data"
    },
    {
     "name": "stdout",
     "output_type": "stream",
     "text": [
      "[202/404] Loss0.20541, ACC:0.72266%\n",
      "[404/404] Loss0.19060, ACC:0.72026%\n",
      "Train_Loss: 0.20130428579626697,ACC:0.72%\n",
      "\u001b[66mHAM10000 ==> testing ...\u001b[0m\n"
     ]
    },
    {
     "data": {
      "application/vnd.jupyter.widget-view+json": {
       "model_id": "578131edfe2f429a934fde626696cc5c",
       "version_major": 2,
       "version_minor": 0
      },
      "text/plain": [
       "  0%|          | 0/27 [00:00<?, ?it/s]"
      ]
     },
     "metadata": {},
     "output_type": "display_data"
    },
    {
     "name": "stdout",
     "output_type": "stream",
     "text": [
      "Test_Acc:\u001b[1;32m76.812%\u001b[0m\n",
      "Best_ACC[\u001b[1;32m92.633%\u001b[0m]\n",
      "Epoch: [59] HAM10000 ==> Training ...\n"
     ]
    },
    {
     "data": {
      "application/vnd.jupyter.widget-view+json": {
       "model_id": "533be3cf58954951b1a1abfcabd8c520",
       "version_major": 2,
       "version_minor": 0
      },
      "text/plain": [
       "  0%|          | 0/404 [00:00<?, ?it/s]"
      ]
     },
     "metadata": {},
     "output_type": "display_data"
    },
    {
     "name": "stdout",
     "output_type": "stream",
     "text": [
      "[202/404] Loss0.22704, ACC:0.71245%\n",
      "[404/404] Loss0.20518, ACC:0.71036%\n",
      "Train_Loss: 0.20750622307457547,ACC:0.711%\n",
      "\u001b[66mHAM10000 ==> testing ...\u001b[0m\n"
     ]
    },
    {
     "data": {
      "application/vnd.jupyter.widget-view+json": {
       "model_id": "aec46b98246247c9bb0566751033d414",
       "version_major": 2,
       "version_minor": 0
      },
      "text/plain": [
       "  0%|          | 0/27 [00:00<?, ?it/s]"
      ]
     },
     "metadata": {},
     "output_type": "display_data"
    },
    {
     "name": "stdout",
     "output_type": "stream",
     "text": [
      "Test_Acc:\u001b[1;32m90.942%\u001b[0m\n",
      "Best_ACC[\u001b[1;32m92.633%\u001b[0m]\n",
      "Epoch: [60] HAM10000 ==> Training ...\n"
     ]
    },
    {
     "data": {
      "application/vnd.jupyter.widget-view+json": {
       "model_id": "3db76025fd514a8bb09e29e8fc3f11d5",
       "version_major": 2,
       "version_minor": 0
      },
      "text/plain": [
       "  0%|          | 0/404 [00:00<?, ?it/s]"
      ]
     },
     "metadata": {},
     "output_type": "display_data"
    },
    {
     "name": "stdout",
     "output_type": "stream",
     "text": [
      "[202/404] Loss0.22227, ACC:0.70050%\n",
      "[404/404] Loss0.19878, ACC:0.70166%\n",
      "Train_Loss: 0.2118965862779924,ACC:0.702%\n",
      "\u001b[66mHAM10000 ==> testing ...\u001b[0m\n"
     ]
    },
    {
     "data": {
      "application/vnd.jupyter.widget-view+json": {
       "model_id": "d0f42fffeed7474fa1d1a5e9218fea7c",
       "version_major": 2,
       "version_minor": 0
      },
      "text/plain": [
       "  0%|          | 0/27 [00:00<?, ?it/s]"
      ]
     },
     "metadata": {},
     "output_type": "display_data"
    },
    {
     "name": "stdout",
     "output_type": "stream",
     "text": [
      "Test_Acc:\u001b[1;32m70.411%\u001b[0m\n",
      "Best_ACC[\u001b[1;32m92.633%\u001b[0m]\n",
      "Epoch: [61] HAM10000 ==> Training ...\n"
     ]
    },
    {
     "data": {
      "application/vnd.jupyter.widget-view+json": {
       "model_id": "3578adbdd4264f3b937bcdc860c6a234",
       "version_major": 2,
       "version_minor": 0
      },
      "text/plain": [
       "  0%|          | 0/404 [00:00<?, ?it/s]"
      ]
     },
     "metadata": {},
     "output_type": "display_data"
    },
    {
     "name": "stdout",
     "output_type": "stream",
     "text": [
      "[202/404] Loss0.23526, ACC:0.70185%\n",
      "[404/404] Loss0.21746, ACC:0.70289%\n",
      "Train_Loss: 0.213358718533032,ACC:0.703%\n",
      "\u001b[66mHAM10000 ==> testing ...\u001b[0m\n"
     ]
    },
    {
     "data": {
      "application/vnd.jupyter.widget-view+json": {
       "model_id": "d2d5bb118f9c40dba8b18ef2e4eaa42c",
       "version_major": 2,
       "version_minor": 0
      },
      "text/plain": [
       "  0%|          | 0/27 [00:00<?, ?it/s]"
      ]
     },
     "metadata": {},
     "output_type": "display_data"
    },
    {
     "name": "stdout",
     "output_type": "stream",
     "text": [
      "Test_Acc:\u001b[1;32m92.029%\u001b[0m\n",
      "Best_ACC[\u001b[1;32m92.633%\u001b[0m]\n",
      "Epoch: [62] HAM10000 ==> Training ...\n"
     ]
    },
    {
     "data": {
      "application/vnd.jupyter.widget-view+json": {
       "model_id": "8464cf216eb746e5afd3e41989101960",
       "version_major": 2,
       "version_minor": 0
      },
      "text/plain": [
       "  0%|          | 0/404 [00:00<?, ?it/s]"
      ]
     },
     "metadata": {},
     "output_type": "display_data"
    },
    {
     "name": "stdout",
     "output_type": "stream",
     "text": [
      "[202/404] Loss0.18686, ACC:0.70514%\n",
      "[404/404] Loss0.24903, ACC:0.70645%\n",
      "Train_Loss: 0.20926108901010881,ACC:0.707%\n",
      "\u001b[66mHAM10000 ==> testing ...\u001b[0m\n"
     ]
    },
    {
     "data": {
      "application/vnd.jupyter.widget-view+json": {
       "model_id": "d259cc4536dd406a965f57b62f2e2fb8",
       "version_major": 2,
       "version_minor": 0
      },
      "text/plain": [
       "  0%|          | 0/27 [00:00<?, ?it/s]"
      ]
     },
     "metadata": {},
     "output_type": "display_data"
    },
    {
     "name": "stdout",
     "output_type": "stream",
     "text": [
      "Test_Acc:\u001b[1;32m89.372%\u001b[0m\n",
      "Best_ACC[\u001b[1;32m92.633%\u001b[0m]\n",
      "Epoch: [63] HAM10000 ==> Training ...\n"
     ]
    },
    {
     "data": {
      "application/vnd.jupyter.widget-view+json": {
       "model_id": "52d946bd2749440aab7df6ad63373f66",
       "version_major": 2,
       "version_minor": 0
      },
      "text/plain": [
       "  0%|          | 0/404 [00:00<?, ?it/s]"
      ]
     },
     "metadata": {},
     "output_type": "display_data"
    },
    {
     "name": "stdout",
     "output_type": "stream",
     "text": [
      "[202/404] Loss0.21951, ACC:0.71221%\n",
      "[404/404] Loss0.21995, ACC:0.71618%\n",
      "Train_Loss: 0.20424710177253969,ACC:0.716%\n",
      "\u001b[66mHAM10000 ==> testing ...\u001b[0m\n"
     ]
    },
    {
     "data": {
      "application/vnd.jupyter.widget-view+json": {
       "model_id": "4d93f14e38804962b4d109b7ee19ea7d",
       "version_major": 2,
       "version_minor": 0
      },
      "text/plain": [
       "  0%|          | 0/27 [00:00<?, ?it/s]"
      ]
     },
     "metadata": {},
     "output_type": "display_data"
    },
    {
     "name": "stdout",
     "output_type": "stream",
     "text": [
      "Test_Acc:\u001b[1;32m89.372%\u001b[0m\n",
      "Best_ACC[\u001b[1;32m92.633%\u001b[0m]\n",
      "Epoch: [64] HAM10000 ==> Training ...\n"
     ]
    },
    {
     "data": {
      "application/vnd.jupyter.widget-view+json": {
       "model_id": "87cffc026115464b9d464bf68071f6c7",
       "version_major": 2,
       "version_minor": 0
      },
      "text/plain": [
       "  0%|          | 0/404 [00:00<?, ?it/s]"
      ]
     },
     "metadata": {},
     "output_type": "display_data"
    },
    {
     "name": "stdout",
     "output_type": "stream",
     "text": [
      "[202/404] Loss0.20052, ACC:0.72679%\n",
      "[404/404] Loss0.17960, ACC:0.72567%\n",
      "Train_Loss: 0.19736403673149572,ACC:0.726%\n",
      "\u001b[66mHAM10000 ==> testing ...\u001b[0m\n"
     ]
    },
    {
     "data": {
      "application/vnd.jupyter.widget-view+json": {
       "model_id": "37ac1c6047c24bc7968d81997c0fecea",
       "version_major": 2,
       "version_minor": 0
      },
      "text/plain": [
       "  0%|          | 0/27 [00:00<?, ?it/s]"
      ]
     },
     "metadata": {},
     "output_type": "display_data"
    },
    {
     "name": "stdout",
     "output_type": "stream",
     "text": [
      "Test_Acc:\u001b[1;32m93.357%\u001b[0m\n",
      "Best_ACC[\u001b[1;32m93.357%\u001b[0m]\n",
      "Epoch: [65] HAM10000 ==> Training ...\n"
     ]
    },
    {
     "data": {
      "application/vnd.jupyter.widget-view+json": {
       "model_id": "b50192b3a8484bfb829660b3b1c29c6a",
       "version_major": 2,
       "version_minor": 0
      },
      "text/plain": [
       "  0%|          | 0/404 [00:00<?, ?it/s]"
      ]
     },
     "metadata": {},
     "output_type": "display_data"
    },
    {
     "name": "stdout",
     "output_type": "stream",
     "text": [
      "[202/404] Loss0.18965, ACC:0.73426%\n",
      "[404/404] Loss0.19490, ACC:0.73383%\n",
      "Train_Loss: 0.19251765229619375,ACC:0.734%\n",
      "\u001b[66mHAM10000 ==> testing ...\u001b[0m\n"
     ]
    },
    {
     "data": {
      "application/vnd.jupyter.widget-view+json": {
       "model_id": "8e1e32eb4d7f4350946a1774f8b5fff0",
       "version_major": 2,
       "version_minor": 0
      },
      "text/plain": [
       "  0%|          | 0/27 [00:00<?, ?it/s]"
      ]
     },
     "metadata": {},
     "output_type": "display_data"
    },
    {
     "name": "stdout",
     "output_type": "stream",
     "text": [
      "Test_Acc:\u001b[1;32m93.841%\u001b[0m\n",
      "Best_ACC[\u001b[1;32m93.841%\u001b[0m]\n",
      "Epoch: [66] HAM10000 ==> Training ...\n"
     ]
    },
    {
     "data": {
      "application/vnd.jupyter.widget-view+json": {
       "model_id": "7d673d6d05274d028e0933d08b001e77",
       "version_major": 2,
       "version_minor": 0
      },
      "text/plain": [
       "  0%|          | 0/404 [00:00<?, ?it/s]"
      ]
     },
     "metadata": {},
     "output_type": "display_data"
    },
    {
     "name": "stdout",
     "output_type": "stream",
     "text": [
      "[202/404] Loss0.24207, ACC:0.73693%\n",
      "[404/404] Loss0.17653, ACC:0.73424%\n",
      "Train_Loss: 0.19270339501228664,ACC:0.734%\n",
      "\u001b[66mHAM10000 ==> testing ...\u001b[0m\n"
     ]
    },
    {
     "data": {
      "application/vnd.jupyter.widget-view+json": {
       "model_id": "1ddbc4cbc011495bbb84ffd7777b4785",
       "version_major": 2,
       "version_minor": 0
      },
      "text/plain": [
       "  0%|          | 0/27 [00:00<?, ?it/s]"
      ]
     },
     "metadata": {},
     "output_type": "display_data"
    },
    {
     "name": "stdout",
     "output_type": "stream",
     "text": [
      "Test_Acc:\u001b[1;32m92.271%\u001b[0m\n",
      "Best_ACC[\u001b[1;32m93.841%\u001b[0m]\n",
      "Epoch: [67] HAM10000 ==> Training ...\n"
     ]
    },
    {
     "data": {
      "application/vnd.jupyter.widget-view+json": {
       "model_id": "0987dd8af8fb4486b02511cb7cfbb580",
       "version_major": 2,
       "version_minor": 0
      },
      "text/plain": [
       "  0%|          | 0/404 [00:00<?, ?it/s]"
      ]
     },
     "metadata": {},
     "output_type": "display_data"
    },
    {
     "name": "stdout",
     "output_type": "stream",
     "text": [
      "[202/404] Loss0.21500, ACC:0.73217%\n",
      "[404/404] Loss0.21016, ACC:0.73372%\n",
      "Train_Loss: 0.1927790597523793,ACC:0.734%\n",
      "\u001b[66mHAM10000 ==> testing ...\u001b[0m\n"
     ]
    },
    {
     "data": {
      "application/vnd.jupyter.widget-view+json": {
       "model_id": "76be32870f124b3b92e7fa84e30eb2db",
       "version_major": 2,
       "version_minor": 0
      },
      "text/plain": [
       "  0%|          | 0/27 [00:00<?, ?it/s]"
      ]
     },
     "metadata": {},
     "output_type": "display_data"
    },
    {
     "name": "stdout",
     "output_type": "stream",
     "text": [
      "Test_Acc:\u001b[1;32m92.995%\u001b[0m\n",
      "Best_ACC[\u001b[1;32m93.841%\u001b[0m]\n",
      "Epoch: [68] HAM10000 ==> Training ...\n"
     ]
    },
    {
     "data": {
      "application/vnd.jupyter.widget-view+json": {
       "model_id": "75be1e32a3254877b8f62b637da93273",
       "version_major": 2,
       "version_minor": 0
      },
      "text/plain": [
       "  0%|          | 0/404 [00:00<?, ?it/s]"
      ]
     },
     "metadata": {},
     "output_type": "display_data"
    },
    {
     "name": "stdout",
     "output_type": "stream",
     "text": [
      "[202/404] Loss0.19521, ACC:0.72765%\n",
      "[404/404] Loss0.21241, ACC:0.72737%\n",
      "Train_Loss: 0.1967119868512791,ACC:0.728%\n",
      "\u001b[66mHAM10000 ==> testing ...\u001b[0m\n"
     ]
    },
    {
     "data": {
      "application/vnd.jupyter.widget-view+json": {
       "model_id": "f29650c4b0244ed084f35835ad3fbd59",
       "version_major": 2,
       "version_minor": 0
      },
      "text/plain": [
       "  0%|          | 0/27 [00:00<?, ?it/s]"
      ]
     },
     "metadata": {},
     "output_type": "display_data"
    },
    {
     "name": "stdout",
     "output_type": "stream",
     "text": [
      "Test_Acc:\u001b[1;32m92.15%\u001b[0m\n",
      "Best_ACC[\u001b[1;32m93.841%\u001b[0m]\n",
      "Epoch: [69] HAM10000 ==> Training ...\n"
     ]
    },
    {
     "data": {
      "application/vnd.jupyter.widget-view+json": {
       "model_id": "2af63690049c4021bf2f527129ef10fc",
       "version_major": 2,
       "version_minor": 0
      },
      "text/plain": [
       "  0%|          | 0/404 [00:00<?, ?it/s]"
      ]
     },
     "metadata": {},
     "output_type": "display_data"
    },
    {
     "name": "stdout",
     "output_type": "stream",
     "text": [
      "[202/404] Loss0.21698, ACC:0.71937%\n",
      "[404/404] Loss0.23316, ACC:0.71716%\n",
      "Train_Loss: 0.2029387226494232,ACC:0.717%\n",
      "\u001b[66mHAM10000 ==> testing ...\u001b[0m\n"
     ]
    },
    {
     "data": {
      "application/vnd.jupyter.widget-view+json": {
       "model_id": "2f1fe26922d647899bbde96fd7290588",
       "version_major": 2,
       "version_minor": 0
      },
      "text/plain": [
       "  0%|          | 0/27 [00:00<?, ?it/s]"
      ]
     },
     "metadata": {},
     "output_type": "display_data"
    },
    {
     "name": "stdout",
     "output_type": "stream",
     "text": [
      "Test_Acc:\u001b[1;32m89.734%\u001b[0m\n",
      "Best_ACC[\u001b[1;32m93.841%\u001b[0m]\n",
      "Epoch: [70] HAM10000 ==> Training ...\n"
     ]
    },
    {
     "data": {
      "application/vnd.jupyter.widget-view+json": {
       "model_id": "23defacb1d6e461ea5a18431daca5b6c",
       "version_major": 2,
       "version_minor": 0
      },
      "text/plain": [
       "  0%|          | 0/404 [00:00<?, ?it/s]"
      ]
     },
     "metadata": {},
     "output_type": "display_data"
    },
    {
     "name": "stdout",
     "output_type": "stream",
     "text": [
      "[202/404] Loss0.20610, ACC:0.71113%\n",
      "[404/404] Loss0.22567, ACC:0.71098%\n",
      "Train_Loss: 0.20728331343224732,ACC:0.711%\n",
      "\u001b[66mHAM10000 ==> testing ...\u001b[0m\n"
     ]
    },
    {
     "data": {
      "application/vnd.jupyter.widget-view+json": {
       "model_id": "978bebbd247e4fa8a72569eb62231412",
       "version_major": 2,
       "version_minor": 0
      },
      "text/plain": [
       "  0%|          | 0/27 [00:00<?, ?it/s]"
      ]
     },
     "metadata": {},
     "output_type": "display_data"
    },
    {
     "name": "stdout",
     "output_type": "stream",
     "text": [
      "Test_Acc:\u001b[1;32m51.691%\u001b[0m\n",
      "Best_ACC[\u001b[1;32m93.841%\u001b[0m]\n",
      "Epoch: [71] HAM10000 ==> Training ...\n"
     ]
    },
    {
     "data": {
      "application/vnd.jupyter.widget-view+json": {
       "model_id": "49b064a38fae4e3fbdc0d55d51e2f285",
       "version_major": 2,
       "version_minor": 0
      },
      "text/plain": [
       "  0%|          | 0/404 [00:00<?, ?it/s]"
      ]
     },
     "metadata": {},
     "output_type": "display_data"
    },
    {
     "name": "stdout",
     "output_type": "stream",
     "text": [
      "[202/404] Loss0.19457, ACC:0.71450%\n",
      "[404/404] Loss0.20008, ACC:0.71189%\n",
      "Train_Loss: 0.20701223903215757,ACC:0.712%\n",
      "\u001b[66mHAM10000 ==> testing ...\u001b[0m\n"
     ]
    },
    {
     "data": {
      "application/vnd.jupyter.widget-view+json": {
       "model_id": "38a38bd011914e9080559d0ff53ce32a",
       "version_major": 2,
       "version_minor": 0
      },
      "text/plain": [
       "  0%|          | 0/27 [00:00<?, ?it/s]"
      ]
     },
     "metadata": {},
     "output_type": "display_data"
    },
    {
     "name": "stdout",
     "output_type": "stream",
     "text": [
      "Test_Acc:\u001b[1;32m45.29%\u001b[0m\n",
      "Best_ACC[\u001b[1;32m93.841%\u001b[0m]\n",
      "Epoch: [72] HAM10000 ==> Training ...\n"
     ]
    },
    {
     "data": {
      "application/vnd.jupyter.widget-view+json": {
       "model_id": "a0f4578cae6d4554a3abf3e004c689d8",
       "version_major": 2,
       "version_minor": 0
      },
      "text/plain": [
       "  0%|          | 0/404 [00:00<?, ?it/s]"
      ]
     },
     "metadata": {},
     "output_type": "display_data"
    },
    {
     "name": "stdout",
     "output_type": "stream",
     "text": [
      "[202/404] Loss0.18863, ACC:0.71446%\n",
      "[404/404] Loss0.21642, ACC:0.71525%\n",
      "Train_Loss: 0.2049879057720156,ACC:0.715%\n",
      "\u001b[66mHAM10000 ==> testing ...\u001b[0m\n"
     ]
    },
    {
     "data": {
      "application/vnd.jupyter.widget-view+json": {
       "model_id": "d59ab7f184bb4295905cda8d23dd3df9",
       "version_major": 2,
       "version_minor": 0
      },
      "text/plain": [
       "  0%|          | 0/27 [00:00<?, ?it/s]"
      ]
     },
     "metadata": {},
     "output_type": "display_data"
    },
    {
     "name": "stdout",
     "output_type": "stream",
     "text": [
      "Test_Acc:\u001b[1;32m73.309%\u001b[0m\n",
      "Best_ACC[\u001b[1;32m93.841%\u001b[0m]\n",
      "Epoch: [73] HAM10000 ==> Training ...\n"
     ]
    },
    {
     "data": {
      "application/vnd.jupyter.widget-view+json": {
       "model_id": "34f009a70db348e2847313b194c2230d",
       "version_major": 2,
       "version_minor": 0
      },
      "text/plain": [
       "  0%|          | 0/404 [00:00<?, ?it/s]"
      ]
     },
     "metadata": {},
     "output_type": "display_data"
    },
    {
     "name": "stdout",
     "output_type": "stream",
     "text": [
      "[202/404] Loss0.20555, ACC:0.72714%\n",
      "[404/404] Loss0.19598, ACC:0.72488%\n",
      "Train_Loss: 0.1992209061685175,ACC:0.725%\n",
      "\u001b[66mHAM10000 ==> testing ...\u001b[0m\n"
     ]
    },
    {
     "data": {
      "application/vnd.jupyter.widget-view+json": {
       "model_id": "8f612f9b015b43eabfbad9b7cff0b0c9",
       "version_major": 2,
       "version_minor": 0
      },
      "text/plain": [
       "  0%|          | 0/27 [00:00<?, ?it/s]"
      ]
     },
     "metadata": {},
     "output_type": "display_data"
    },
    {
     "name": "stdout",
     "output_type": "stream",
     "text": [
      "Test_Acc:\u001b[1;32m91.667%\u001b[0m\n",
      "Best_ACC[\u001b[1;32m93.841%\u001b[0m]\n",
      "Epoch: [74] HAM10000 ==> Training ...\n"
     ]
    },
    {
     "data": {
      "application/vnd.jupyter.widget-view+json": {
       "model_id": "6a0ab01f3ec74684bc8ce676864a652b",
       "version_major": 2,
       "version_minor": 0
      },
      "text/plain": [
       "  0%|          | 0/404 [00:00<?, ?it/s]"
      ]
     },
     "metadata": {},
     "output_type": "display_data"
    },
    {
     "name": "stdout",
     "output_type": "stream",
     "text": [
      "[202/404] Loss0.17711, ACC:0.73395%\n",
      "[404/404] Loss0.18655, ACC:0.73281%\n",
      "Train_Loss: 0.1938228665454553,ACC:0.733%\n",
      "\u001b[66mHAM10000 ==> testing ...\u001b[0m\n"
     ]
    },
    {
     "data": {
      "application/vnd.jupyter.widget-view+json": {
       "model_id": "3a370384f46941ada7eac654d66c902b",
       "version_major": 2,
       "version_minor": 0
      },
      "text/plain": [
       "  0%|          | 0/27 [00:00<?, ?it/s]"
      ]
     },
     "metadata": {},
     "output_type": "display_data"
    },
    {
     "name": "stdout",
     "output_type": "stream",
     "text": [
      "Test_Acc:\u001b[1;32m91.184%\u001b[0m\n",
      "Best_ACC[\u001b[1;32m93.841%\u001b[0m]\n",
      "Epoch: [75] HAM10000 ==> Training ...\n"
     ]
    },
    {
     "data": {
      "application/vnd.jupyter.widget-view+json": {
       "model_id": "e2d03a1d75704c1a81fa7cca2b8406df",
       "version_major": 2,
       "version_minor": 0
      },
      "text/plain": [
       "  0%|          | 0/404 [00:00<?, ?it/s]"
      ]
     },
     "metadata": {},
     "output_type": "display_data"
    },
    {
     "name": "stdout",
     "output_type": "stream",
     "text": [
      "[202/404] Loss0.19318, ACC:0.74176%\n",
      "[404/404] Loss0.20534, ACC:0.73890%\n",
      "Train_Loss: 0.1890788253138561,ACC:0.739%\n",
      "\u001b[66mHAM10000 ==> testing ...\u001b[0m\n"
     ]
    },
    {
     "data": {
      "application/vnd.jupyter.widget-view+json": {
       "model_id": "071bc94538ec421eb635597e9c082015",
       "version_major": 2,
       "version_minor": 0
      },
      "text/plain": [
       "  0%|          | 0/27 [00:00<?, ?it/s]"
      ]
     },
     "metadata": {},
     "output_type": "display_data"
    },
    {
     "name": "stdout",
     "output_type": "stream",
     "text": [
      "Test_Acc:\u001b[1;32m93.599%\u001b[0m\n",
      "Best_ACC[\u001b[1;32m93.841%\u001b[0m]\n",
      "Epoch: [76] HAM10000 ==> Training ...\n"
     ]
    },
    {
     "data": {
      "application/vnd.jupyter.widget-view+json": {
       "model_id": "8d390616240c4a55a7ae5c0747aa025d",
       "version_major": 2,
       "version_minor": 0
      },
      "text/plain": [
       "  0%|          | 0/404 [00:00<?, ?it/s]"
      ]
     },
     "metadata": {},
     "output_type": "display_data"
    },
    {
     "name": "stdout",
     "output_type": "stream",
     "text": [
      "[202/404] Loss0.17044, ACC:0.74532%\n",
      "[404/404] Loss0.21066, ACC:0.74377%\n",
      "Train_Loss: 0.18813551335346582,ACC:0.744%\n",
      "\u001b[66mHAM10000 ==> testing ...\u001b[0m\n"
     ]
    },
    {
     "data": {
      "application/vnd.jupyter.widget-view+json": {
       "model_id": "b8360a51148c45cb948a3ea0f239e7b1",
       "version_major": 2,
       "version_minor": 0
      },
      "text/plain": [
       "  0%|          | 0/27 [00:00<?, ?it/s]"
      ]
     },
     "metadata": {},
     "output_type": "display_data"
    },
    {
     "name": "stdout",
     "output_type": "stream",
     "text": [
      "Test_Acc:\u001b[1;32m93.478%\u001b[0m\n",
      "Best_ACC[\u001b[1;32m93.841%\u001b[0m]\n",
      "Epoch: [77] HAM10000 ==> Training ...\n"
     ]
    },
    {
     "data": {
      "application/vnd.jupyter.widget-view+json": {
       "model_id": "85c3b6de9ae54001a51c93245e8ea855",
       "version_major": 2,
       "version_minor": 0
      },
      "text/plain": [
       "  0%|          | 0/404 [00:00<?, ?it/s]"
      ]
     },
     "metadata": {},
     "output_type": "display_data"
    },
    {
     "name": "stdout",
     "output_type": "stream",
     "text": [
      "[202/404] Loss0.17916, ACC:0.74513%\n",
      "[404/404] Loss0.17298, ACC:0.74337%\n",
      "Train_Loss: 0.18870839598302794,ACC:0.744%\n",
      "\u001b[66mHAM10000 ==> testing ...\u001b[0m\n"
     ]
    },
    {
     "data": {
      "application/vnd.jupyter.widget-view+json": {
       "model_id": "21e0baefc35a4a84a36f992a91939c0e",
       "version_major": 2,
       "version_minor": 0
      },
      "text/plain": [
       "  0%|          | 0/27 [00:00<?, ?it/s]"
      ]
     },
     "metadata": {},
     "output_type": "display_data"
    },
    {
     "name": "stdout",
     "output_type": "stream",
     "text": [
      "Test_Acc:\u001b[1;32m93.72%\u001b[0m\n",
      "Best_ACC[\u001b[1;32m93.841%\u001b[0m]\n",
      "Epoch: [78] HAM10000 ==> Training ...\n"
     ]
    },
    {
     "data": {
      "application/vnd.jupyter.widget-view+json": {
       "model_id": "703a8cdd1cff4c6db1426e1fb108cff8",
       "version_major": 2,
       "version_minor": 0
      },
      "text/plain": [
       "  0%|          | 0/404 [00:00<?, ?it/s]"
      ]
     },
     "metadata": {},
     "output_type": "display_data"
    },
    {
     "name": "stdout",
     "output_type": "stream",
     "text": [
      "[202/404] Loss0.20353, ACC:0.73097%\n",
      "[404/404] Loss0.16670, ACC:0.73441%\n",
      "Train_Loss: 0.19355974099276088,ACC:0.735%\n",
      "\u001b[66mHAM10000 ==> testing ...\u001b[0m\n"
     ]
    },
    {
     "data": {
      "application/vnd.jupyter.widget-view+json": {
       "model_id": "b6ce8ba1dd7843ef87d5c5e63b021882",
       "version_major": 2,
       "version_minor": 0
      },
      "text/plain": [
       "  0%|          | 0/27 [00:00<?, ?it/s]"
      ]
     },
     "metadata": {},
     "output_type": "display_data"
    },
    {
     "name": "stdout",
     "output_type": "stream",
     "text": [
      "Test_Acc:\u001b[1;32m87.923%\u001b[0m\n",
      "Best_ACC[\u001b[1;32m93.841%\u001b[0m]\n",
      "Epoch: [79] HAM10000 ==> Training ...\n"
     ]
    },
    {
     "data": {
      "application/vnd.jupyter.widget-view+json": {
       "model_id": "5813d529b7114824bd95c9734e72c7a5",
       "version_major": 2,
       "version_minor": 0
      },
      "text/plain": [
       "  0%|          | 0/404 [00:00<?, ?it/s]"
      ]
     },
     "metadata": {},
     "output_type": "display_data"
    },
    {
     "name": "stdout",
     "output_type": "stream",
     "text": [
      "[202/404] Loss0.19145, ACC:0.72258%\n",
      "[404/404] Loss0.21191, ACC:0.72623%\n",
      "Train_Loss: 0.19848184626881438,ACC:0.726%\n",
      "\u001b[66mHAM10000 ==> testing ...\u001b[0m\n"
     ]
    },
    {
     "data": {
      "application/vnd.jupyter.widget-view+json": {
       "model_id": "67783dd78292421db384ad99bcc07c29",
       "version_major": 2,
       "version_minor": 0
      },
      "text/plain": [
       "  0%|          | 0/27 [00:00<?, ?it/s]"
      ]
     },
     "metadata": {},
     "output_type": "display_data"
    },
    {
     "name": "stdout",
     "output_type": "stream",
     "text": [
      "Test_Acc:\u001b[1;32m90.459%\u001b[0m\n",
      "Best_ACC[\u001b[1;32m93.841%\u001b[0m]\n",
      "Epoch: [80] HAM10000 ==> Training ...\n"
     ]
    },
    {
     "data": {
      "application/vnd.jupyter.widget-view+json": {
       "model_id": "95e3650d7d4548628ed494b8144b1cc7",
       "version_major": 2,
       "version_minor": 0
      },
      "text/plain": [
       "  0%|          | 0/404 [00:00<?, ?it/s]"
      ]
     },
     "metadata": {},
     "output_type": "display_data"
    },
    {
     "name": "stdout",
     "output_type": "stream",
     "text": [
      "[202/404] Loss0.17778, ACC:0.72034%\n",
      "[404/404] Loss0.20995, ACC:0.72039%\n",
      "Train_Loss: 0.20186762271983788,ACC:0.721%\n",
      "\u001b[66mHAM10000 ==> testing ...\u001b[0m\n"
     ]
    },
    {
     "data": {
      "application/vnd.jupyter.widget-view+json": {
       "model_id": "6a3989c32e504aeaae074c795224cd12",
       "version_major": 2,
       "version_minor": 0
      },
      "text/plain": [
       "  0%|          | 0/27 [00:00<?, ?it/s]"
      ]
     },
     "metadata": {},
     "output_type": "display_data"
    },
    {
     "name": "stdout",
     "output_type": "stream",
     "text": [
      "Test_Acc:\u001b[1;32m91.425%\u001b[0m\n",
      "Best_ACC[\u001b[1;32m93.841%\u001b[0m]\n",
      "Epoch: [81] HAM10000 ==> Training ...\n"
     ]
    },
    {
     "data": {
      "application/vnd.jupyter.widget-view+json": {
       "model_id": "d82a291f5e1e4de9b92ad8024c5c59c5",
       "version_major": 2,
       "version_minor": 0
      },
      "text/plain": [
       "  0%|          | 0/404 [00:00<?, ?it/s]"
      ]
     },
     "metadata": {},
     "output_type": "display_data"
    },
    {
     "name": "stdout",
     "output_type": "stream",
     "text": [
      "[202/404] Loss0.20964, ACC:0.72269%\n",
      "[404/404] Loss0.17703, ACC:0.72076%\n",
      "Train_Loss: 0.20229976159511226,ACC:0.721%\n",
      "\u001b[66mHAM10000 ==> testing ...\u001b[0m\n"
     ]
    },
    {
     "data": {
      "application/vnd.jupyter.widget-view+json": {
       "model_id": "fff468adde4f40fe86e615d79200d4fa",
       "version_major": 2,
       "version_minor": 0
      },
      "text/plain": [
       "  0%|          | 0/27 [00:00<?, ?it/s]"
      ]
     },
     "metadata": {},
     "output_type": "display_data"
    },
    {
     "name": "stdout",
     "output_type": "stream",
     "text": [
      "Test_Acc:\u001b[1;32m94.082%\u001b[0m\n",
      "Best_ACC[\u001b[1;32m94.082%\u001b[0m]\n",
      "Epoch: [82] HAM10000 ==> Training ...\n"
     ]
    },
    {
     "data": {
      "application/vnd.jupyter.widget-view+json": {
       "model_id": "51adb8c68084432b9f049b2a860ef6a8",
       "version_major": 2,
       "version_minor": 0
      },
      "text/plain": [
       "  0%|          | 0/404 [00:00<?, ?it/s]"
      ]
     },
     "metadata": {},
     "output_type": "display_data"
    },
    {
     "name": "stdout",
     "output_type": "stream",
     "text": [
      "[202/404] Loss0.20786, ACC:0.72095%\n",
      "[404/404] Loss0.21715, ACC:0.72258%\n",
      "Train_Loss: 0.20104894610029636,ACC:0.723%\n",
      "\u001b[66mHAM10000 ==> testing ...\u001b[0m\n"
     ]
    },
    {
     "data": {
      "application/vnd.jupyter.widget-view+json": {
       "model_id": "e4af06d695b34fbab7f2646089e3bf5f",
       "version_major": 2,
       "version_minor": 0
      },
      "text/plain": [
       "  0%|          | 0/27 [00:00<?, ?it/s]"
      ]
     },
     "metadata": {},
     "output_type": "display_data"
    },
    {
     "name": "stdout",
     "output_type": "stream",
     "text": [
      "Test_Acc:\u001b[1;32m90.097%\u001b[0m\n",
      "Best_ACC[\u001b[1;32m94.082%\u001b[0m]\n",
      "Epoch: [83] HAM10000 ==> Training ...\n"
     ]
    },
    {
     "data": {
      "application/vnd.jupyter.widget-view+json": {
       "model_id": "81349e50a46143a0b96eb2a901379aff",
       "version_major": 2,
       "version_minor": 0
      },
      "text/plain": [
       "  0%|          | 0/404 [00:00<?, ?it/s]"
      ]
     },
     "metadata": {},
     "output_type": "display_data"
    },
    {
     "name": "stdout",
     "output_type": "stream",
     "text": [
      "[202/404] Loss0.17766, ACC:0.72997%\n",
      "[404/404] Loss0.20725, ACC:0.73161%\n",
      "Train_Loss: 0.19604192209420818,ACC:0.732%\n",
      "\u001b[66mHAM10000 ==> testing ...\u001b[0m\n"
     ]
    },
    {
     "data": {
      "application/vnd.jupyter.widget-view+json": {
       "model_id": "cdd27e8a6e2840d992488808797240c5",
       "version_major": 2,
       "version_minor": 0
      },
      "text/plain": [
       "  0%|          | 0/27 [00:00<?, ?it/s]"
      ]
     },
     "metadata": {},
     "output_type": "display_data"
    },
    {
     "name": "stdout",
     "output_type": "stream",
     "text": [
      "Test_Acc:\u001b[1;32m90.338%\u001b[0m\n",
      "Best_ACC[\u001b[1;32m94.082%\u001b[0m]\n",
      "Epoch: [84] HAM10000 ==> Training ...\n"
     ]
    },
    {
     "data": {
      "application/vnd.jupyter.widget-view+json": {
       "model_id": "25557ccbd84a4b259312d2d53b0bcc37",
       "version_major": 2,
       "version_minor": 0
      },
      "text/plain": [
       "  0%|          | 0/404 [00:00<?, ?it/s]"
      ]
     },
     "metadata": {},
     "output_type": "display_data"
    },
    {
     "name": "stdout",
     "output_type": "stream",
     "text": [
      "[202/404] Loss0.17702, ACC:0.74114%\n",
      "[404/404] Loss0.19430, ACC:0.74027%\n",
      "Train_Loss: 0.1894705145813451,ACC:0.74%\n",
      "\u001b[66mHAM10000 ==> testing ...\u001b[0m\n"
     ]
    },
    {
     "data": {
      "application/vnd.jupyter.widget-view+json": {
       "model_id": "451b288ccca54d8f81f509e7f9763521",
       "version_major": 2,
       "version_minor": 0
      },
      "text/plain": [
       "  0%|          | 0/27 [00:00<?, ?it/s]"
      ]
     },
     "metadata": {},
     "output_type": "display_data"
    },
    {
     "name": "stdout",
     "output_type": "stream",
     "text": [
      "Test_Acc:\u001b[1;32m94.807%\u001b[0m\n",
      "Best_ACC[\u001b[1;32m94.807%\u001b[0m]\n",
      "Epoch: [85] HAM10000 ==> Training ...\n"
     ]
    },
    {
     "data": {
      "application/vnd.jupyter.widget-view+json": {
       "model_id": "f74e19119e6e45b7aeecccf7eb4cb4d6",
       "version_major": 2,
       "version_minor": 0
      },
      "text/plain": [
       "  0%|          | 0/404 [00:00<?, ?it/s]"
      ]
     },
     "metadata": {},
     "output_type": "display_data"
    },
    {
     "name": "stdout",
     "output_type": "stream",
     "text": [
      "[202/404] Loss0.19003, ACC:0.75015%\n",
      "[404/404] Loss0.19677, ACC:0.74882%\n",
      "Train_Loss: 0.1842463369859327,ACC:0.749%\n",
      "\u001b[66mHAM10000 ==> testing ...\u001b[0m\n"
     ]
    },
    {
     "data": {
      "application/vnd.jupyter.widget-view+json": {
       "model_id": "27ad0bd37a0c4053a2bc167fbf0206a2",
       "version_major": 2,
       "version_minor": 0
      },
      "text/plain": [
       "  0%|          | 0/27 [00:00<?, ?it/s]"
      ]
     },
     "metadata": {},
     "output_type": "display_data"
    },
    {
     "name": "stdout",
     "output_type": "stream",
     "text": [
      "Test_Acc:\u001b[1;32m93.841%\u001b[0m\n",
      "Best_ACC[\u001b[1;32m94.807%\u001b[0m]\n",
      "Epoch: [86] HAM10000 ==> Training ...\n"
     ]
    },
    {
     "data": {
      "application/vnd.jupyter.widget-view+json": {
       "model_id": "298fa371e79f478d8f73a15213ce194d",
       "version_major": 2,
       "version_minor": 0
      },
      "text/plain": [
       "  0%|          | 0/404 [00:00<?, ?it/s]"
      ]
     },
     "metadata": {},
     "output_type": "display_data"
    },
    {
     "name": "stdout",
     "output_type": "stream",
     "text": [
      "[202/404] Loss0.18777, ACC:0.74830%\n",
      "[404/404] Loss0.18217, ACC:0.74841%\n",
      "Train_Loss: 0.18435173149746242,ACC:0.749%\n",
      "\u001b[66mHAM10000 ==> testing ...\u001b[0m\n"
     ]
    },
    {
     "data": {
      "application/vnd.jupyter.widget-view+json": {
       "model_id": "01937826bd0d482497f3526a1e5b5ac2",
       "version_major": 2,
       "version_minor": 0
      },
      "text/plain": [
       "  0%|          | 0/27 [00:00<?, ?it/s]"
      ]
     },
     "metadata": {},
     "output_type": "display_data"
    },
    {
     "name": "stdout",
     "output_type": "stream",
     "text": [
      "Test_Acc:\u001b[1;32m93.841%\u001b[0m\n",
      "Best_ACC[\u001b[1;32m94.807%\u001b[0m]\n",
      "Epoch: [87] HAM10000 ==> Training ...\n"
     ]
    },
    {
     "data": {
      "application/vnd.jupyter.widget-view+json": {
       "model_id": "e6d9564d66c24ab6a3c74f2217119a4c",
       "version_major": 2,
       "version_minor": 0
      },
      "text/plain": [
       "  0%|          | 0/404 [00:00<?, ?it/s]"
      ]
     },
     "metadata": {},
     "output_type": "display_data"
    },
    {
     "name": "stdout",
     "output_type": "stream",
     "text": [
      "[202/404] Loss0.19595, ACC:0.74927%\n",
      "[404/404] Loss0.17027, ACC:0.74766%\n",
      "Train_Loss: 0.18444050287846292,ACC:0.748%\n",
      "\u001b[66mHAM10000 ==> testing ...\u001b[0m\n"
     ]
    },
    {
     "data": {
      "application/vnd.jupyter.widget-view+json": {
       "model_id": "e119cbcd4df740ff9a99c456487eab65",
       "version_major": 2,
       "version_minor": 0
      },
      "text/plain": [
       "  0%|          | 0/27 [00:00<?, ?it/s]"
      ]
     },
     "metadata": {},
     "output_type": "display_data"
    },
    {
     "name": "stdout",
     "output_type": "stream",
     "text": [
      "Test_Acc:\u001b[1;32m93.357%\u001b[0m\n",
      "Best_ACC[\u001b[1;32m94.807%\u001b[0m]\n",
      "Epoch: [88] HAM10000 ==> Training ...\n"
     ]
    },
    {
     "data": {
      "application/vnd.jupyter.widget-view+json": {
       "model_id": "d6530c446efe4629907f19dfc1840ee9",
       "version_major": 2,
       "version_minor": 0
      },
      "text/plain": [
       "  0%|          | 0/404 [00:00<?, ?it/s]"
      ]
     },
     "metadata": {},
     "output_type": "display_data"
    },
    {
     "name": "stdout",
     "output_type": "stream",
     "text": [
      "[202/404] Loss0.20100, ACC:0.74354%\n",
      "[404/404] Loss0.18714, ACC:0.74254%\n",
      "Train_Loss: 0.18856521153656564,ACC:0.743%\n",
      "\u001b[66mHAM10000 ==> testing ...\u001b[0m\n"
     ]
    },
    {
     "data": {
      "application/vnd.jupyter.widget-view+json": {
       "model_id": "433b0a66a65742b0bc4d0e6637a969fe",
       "version_major": 2,
       "version_minor": 0
      },
      "text/plain": [
       "  0%|          | 0/27 [00:00<?, ?it/s]"
      ]
     },
     "metadata": {},
     "output_type": "display_data"
    },
    {
     "name": "stdout",
     "output_type": "stream",
     "text": [
      "Test_Acc:\u001b[1;32m93.357%\u001b[0m\n",
      "Best_ACC[\u001b[1;32m94.807%\u001b[0m]\n",
      "Epoch: [89] HAM10000 ==> Training ...\n"
     ]
    },
    {
     "data": {
      "application/vnd.jupyter.widget-view+json": {
       "model_id": "d7761d1fc29a40528303c36a4c2c9a93",
       "version_major": 2,
       "version_minor": 0
      },
      "text/plain": [
       "  0%|          | 0/404 [00:00<?, ?it/s]"
      ]
     },
     "metadata": {},
     "output_type": "display_data"
    },
    {
     "name": "stdout",
     "output_type": "stream",
     "text": [
      "[202/404] Loss0.17739, ACC:0.73519%\n",
      "[404/404] Loss0.17854, ACC:0.73397%\n",
      "Train_Loss: 0.19412447146997594,ACC:0.734%\n",
      "\u001b[66mHAM10000 ==> testing ...\u001b[0m\n"
     ]
    },
    {
     "data": {
      "application/vnd.jupyter.widget-view+json": {
       "model_id": "ad7d5b724cf142a098fa4dba378367f6",
       "version_major": 2,
       "version_minor": 0
      },
      "text/plain": [
       "  0%|          | 0/27 [00:00<?, ?it/s]"
      ]
     },
     "metadata": {},
     "output_type": "display_data"
    },
    {
     "name": "stdout",
     "output_type": "stream",
     "text": [
      "Test_Acc:\u001b[1;32m90.459%\u001b[0m\n",
      "Best_ACC[\u001b[1;32m94.807%\u001b[0m]\n",
      "Epoch: [90] HAM10000 ==> Training ...\n"
     ]
    },
    {
     "data": {
      "application/vnd.jupyter.widget-view+json": {
       "model_id": "d496064dc60d456183985c37a1f8ca85",
       "version_major": 2,
       "version_minor": 0
      },
      "text/plain": [
       "  0%|          | 0/404 [00:00<?, ?it/s]"
      ]
     },
     "metadata": {},
     "output_type": "display_data"
    },
    {
     "name": "stdout",
     "output_type": "stream",
     "text": [
      "[202/404] Loss0.21667, ACC:0.73097%\n",
      "[404/404] Loss0.20612, ACC:0.72925%\n",
      "Train_Loss: 0.19824858902409526,ACC:0.729%\n",
      "\u001b[66mHAM10000 ==> testing ...\u001b[0m\n"
     ]
    },
    {
     "data": {
      "application/vnd.jupyter.widget-view+json": {
       "model_id": "d517fd69b83b40d7bd271ec091e20961",
       "version_major": 2,
       "version_minor": 0
      },
      "text/plain": [
       "  0%|          | 0/27 [00:00<?, ?it/s]"
      ]
     },
     "metadata": {},
     "output_type": "display_data"
    },
    {
     "name": "stdout",
     "output_type": "stream",
     "text": [
      "Test_Acc:\u001b[1;32m87.44%\u001b[0m\n",
      "Best_ACC[\u001b[1;32m94.807%\u001b[0m]\n",
      "Epoch: [91] HAM10000 ==> Training ...\n"
     ]
    },
    {
     "data": {
      "application/vnd.jupyter.widget-view+json": {
       "model_id": "12329adec2e941ffbe80f9bd94092611",
       "version_major": 2,
       "version_minor": 0
      },
      "text/plain": [
       "  0%|          | 0/404 [00:00<?, ?it/s]"
      ]
     },
     "metadata": {},
     "output_type": "display_data"
    },
    {
     "name": "stdout",
     "output_type": "stream",
     "text": [
      "[202/404] Loss0.21468, ACC:0.72610%\n",
      "[404/404] Loss0.17308, ACC:0.72538%\n",
      "Train_Loss: 0.20059389875519393,ACC:0.726%\n",
      "\u001b[66mHAM10000 ==> testing ...\u001b[0m\n"
     ]
    },
    {
     "data": {
      "application/vnd.jupyter.widget-view+json": {
       "model_id": "74533fb9d24c49e99cb7421920dce521",
       "version_major": 2,
       "version_minor": 0
      },
      "text/plain": [
       "  0%|          | 0/27 [00:00<?, ?it/s]"
      ]
     },
     "metadata": {},
     "output_type": "display_data"
    },
    {
     "name": "stdout",
     "output_type": "stream",
     "text": [
      "Test_Acc:\u001b[1;32m94.203%\u001b[0m\n",
      "Best_ACC[\u001b[1;32m94.807%\u001b[0m]\n",
      "Epoch: [92] HAM10000 ==> Training ...\n"
     ]
    },
    {
     "data": {
      "application/vnd.jupyter.widget-view+json": {
       "model_id": "7d2303cd22d241af8d487e00b7dcd604",
       "version_major": 2,
       "version_minor": 0
      },
      "text/plain": [
       "  0%|          | 0/404 [00:00<?, ?it/s]"
      ]
     },
     "metadata": {},
     "output_type": "display_data"
    },
    {
     "name": "stdout",
     "output_type": "stream",
     "text": [
      "[202/404] Loss0.14689, ACC:0.72842%\n",
      "[404/404] Loss0.18222, ACC:0.72532%\n",
      "Train_Loss: 0.1984940124399001,ACC:0.726%\n",
      "\u001b[66mHAM10000 ==> testing ...\u001b[0m\n"
     ]
    },
    {
     "data": {
      "application/vnd.jupyter.widget-view+json": {
       "model_id": "3d2efc61f0b946b19ee607c41fc9d534",
       "version_major": 2,
       "version_minor": 0
      },
      "text/plain": [
       "  0%|          | 0/27 [00:00<?, ?it/s]"
      ]
     },
     "metadata": {},
     "output_type": "display_data"
    },
    {
     "name": "stdout",
     "output_type": "stream",
     "text": [
      "Test_Acc:\u001b[1;32m88.889%\u001b[0m\n",
      "Best_ACC[\u001b[1;32m94.807%\u001b[0m]\n",
      "Epoch: [93] HAM10000 ==> Training ...\n"
     ]
    },
    {
     "data": {
      "application/vnd.jupyter.widget-view+json": {
       "model_id": "e66a90d40e5e4a63adcfd41ada2a31dd",
       "version_major": 2,
       "version_minor": 0
      },
      "text/plain": [
       "  0%|          | 0/404 [00:00<?, ?it/s]"
      ]
     },
     "metadata": {},
     "output_type": "display_data"
    },
    {
     "name": "stdout",
     "output_type": "stream",
     "text": [
      "[202/404] Loss0.18748, ACC:0.73654%\n",
      "[404/404] Loss0.17911, ACC:0.73619%\n",
      "Train_Loss: 0.19309189425099013,ACC:0.736%\n",
      "\u001b[66mHAM10000 ==> testing ...\u001b[0m\n"
     ]
    },
    {
     "data": {
      "application/vnd.jupyter.widget-view+json": {
       "model_id": "49f654f1b8324b27889f7c41e2066393",
       "version_major": 2,
       "version_minor": 0
      },
      "text/plain": [
       "  0%|          | 0/27 [00:00<?, ?it/s]"
      ]
     },
     "metadata": {},
     "output_type": "display_data"
    },
    {
     "name": "stdout",
     "output_type": "stream",
     "text": [
      "Test_Acc:\u001b[1;32m90.338%\u001b[0m\n",
      "Best_ACC[\u001b[1;32m94.807%\u001b[0m]\n",
      "Epoch: [94] HAM10000 ==> Training ...\n"
     ]
    },
    {
     "data": {
      "application/vnd.jupyter.widget-view+json": {
       "model_id": "60113eba3f9a40ab9e5e70eadb15129b",
       "version_major": 2,
       "version_minor": 0
      },
      "text/plain": [
       "  0%|          | 0/404 [00:00<?, ?it/s]"
      ]
     },
     "metadata": {},
     "output_type": "display_data"
    },
    {
     "name": "stdout",
     "output_type": "stream",
     "text": [
      "[202/404] Loss0.18077, ACC:0.75089%\n",
      "[404/404] Loss0.20850, ACC:0.74745%\n",
      "Train_Loss: 0.1868575736142621,ACC:0.748%\n",
      "\u001b[66mHAM10000 ==> testing ...\u001b[0m\n"
     ]
    },
    {
     "data": {
      "application/vnd.jupyter.widget-view+json": {
       "model_id": "54da9311993040cb8fed69fa47a37b06",
       "version_major": 2,
       "version_minor": 0
      },
      "text/plain": [
       "  0%|          | 0/27 [00:00<?, ?it/s]"
      ]
     },
     "metadata": {},
     "output_type": "display_data"
    },
    {
     "name": "stdout",
     "output_type": "stream",
     "text": [
      "Test_Acc:\u001b[1;32m94.444%\u001b[0m\n",
      "Best_ACC[\u001b[1;32m94.807%\u001b[0m]\n",
      "Epoch: [95] HAM10000 ==> Training ...\n"
     ]
    },
    {
     "data": {
      "application/vnd.jupyter.widget-view+json": {
       "model_id": "e44ad441835149ca9a70bd417b1fefdc",
       "version_major": 2,
       "version_minor": 0
      },
      "text/plain": [
       "  0%|          | 0/404 [00:00<?, ?it/s]"
      ]
     },
     "metadata": {},
     "output_type": "display_data"
    },
    {
     "name": "stdout",
     "output_type": "stream",
     "text": [
      "[202/404] Loss0.16170, ACC:0.75232%\n",
      "[404/404] Loss0.16545, ACC:0.75309%\n",
      "Train_Loss: 0.18183232331187418,ACC:0.753%\n",
      "\u001b[66mHAM10000 ==> testing ...\u001b[0m\n"
     ]
    },
    {
     "data": {
      "application/vnd.jupyter.widget-view+json": {
       "model_id": "5728c139f61c49538b3ae46510201c81",
       "version_major": 2,
       "version_minor": 0
      },
      "text/plain": [
       "  0%|          | 0/27 [00:00<?, ?it/s]"
      ]
     },
     "metadata": {},
     "output_type": "display_data"
    },
    {
     "name": "stdout",
     "output_type": "stream",
     "text": [
      "Test_Acc:\u001b[1;32m94.928%\u001b[0m\n",
      "Best_ACC[\u001b[1;32m94.928%\u001b[0m]\n",
      "Epoch: [96] HAM10000 ==> Training ...\n"
     ]
    },
    {
     "data": {
      "application/vnd.jupyter.widget-view+json": {
       "model_id": "360241408065458bb99134458046e4c1",
       "version_major": 2,
       "version_minor": 0
      },
      "text/plain": [
       "  0%|          | 0/404 [00:00<?, ?it/s]"
      ]
     },
     "metadata": {},
     "output_type": "display_data"
    },
    {
     "name": "stdout",
     "output_type": "stream",
     "text": [
      "[202/404] Loss0.20051, ACC:0.75085%\n",
      "[404/404] Loss0.19243, ACC:0.75412%\n",
      "Train_Loss: 0.18155841920340415,ACC:0.754%\n",
      "\u001b[66mHAM10000 ==> testing ...\u001b[0m\n"
     ]
    },
    {
     "data": {
      "application/vnd.jupyter.widget-view+json": {
       "model_id": "47c10c316956434da0dad18494ffb59f",
       "version_major": 2,
       "version_minor": 0
      },
      "text/plain": [
       "  0%|          | 0/27 [00:00<?, ?it/s]"
      ]
     },
     "metadata": {},
     "output_type": "display_data"
    },
    {
     "name": "stdout",
     "output_type": "stream",
     "text": [
      "Test_Acc:\u001b[1;32m94.203%\u001b[0m\n",
      "Best_ACC[\u001b[1;32m94.928%\u001b[0m]\n",
      "Epoch: [97] HAM10000 ==> Training ...\n"
     ]
    },
    {
     "data": {
      "application/vnd.jupyter.widget-view+json": {
       "model_id": "193f832615ba47a1a987575e7a792cc4",
       "version_major": 2,
       "version_minor": 0
      },
      "text/plain": [
       "  0%|          | 0/404 [00:00<?, ?it/s]"
      ]
     },
     "metadata": {},
     "output_type": "display_data"
    },
    {
     "name": "stdout",
     "output_type": "stream",
     "text": [
      "[202/404] Loss0.17508, ACC:0.75418%\n",
      "[404/404] Loss0.17474, ACC:0.75306%\n",
      "Train_Loss: 0.18200835777391303,ACC:0.753%\n",
      "\u001b[66mHAM10000 ==> testing ...\u001b[0m\n"
     ]
    },
    {
     "data": {
      "application/vnd.jupyter.widget-view+json": {
       "model_id": "b6c015e2e860445783105f9974860f23",
       "version_major": 2,
       "version_minor": 0
      },
      "text/plain": [
       "  0%|          | 0/27 [00:00<?, ?it/s]"
      ]
     },
     "metadata": {},
     "output_type": "display_data"
    },
    {
     "name": "stdout",
     "output_type": "stream",
     "text": [
      "Test_Acc:\u001b[1;32m95.894%\u001b[0m\n",
      "Best_ACC[\u001b[1;32m95.894%\u001b[0m]\n",
      "Epoch: [98] HAM10000 ==> Training ...\n"
     ]
    },
    {
     "data": {
      "application/vnd.jupyter.widget-view+json": {
       "model_id": "ac232e9dea984f43a9445ebd97e163a1",
       "version_major": 2,
       "version_minor": 0
      },
      "text/plain": [
       "  0%|          | 0/404 [00:00<?, ?it/s]"
      ]
     },
     "metadata": {},
     "output_type": "display_data"
    },
    {
     "name": "stdout",
     "output_type": "stream",
     "text": [
      "[202/404] Loss0.19235, ACC:0.74656%\n",
      "[404/404] Loss0.17041, ACC:0.74633%\n",
      "Train_Loss: 0.1860285724079845,ACC:0.747%\n",
      "\u001b[66mHAM10000 ==> testing ...\u001b[0m\n"
     ]
    },
    {
     "data": {
      "application/vnd.jupyter.widget-view+json": {
       "model_id": "62012e8f14d54f96adab337508cbc8ac",
       "version_major": 2,
       "version_minor": 0
      },
      "text/plain": [
       "  0%|          | 0/27 [00:00<?, ?it/s]"
      ]
     },
     "metadata": {},
     "output_type": "display_data"
    },
    {
     "name": "stdout",
     "output_type": "stream",
     "text": [
      "Test_Acc:\u001b[1;32m93.478%\u001b[0m\n",
      "Best_ACC[\u001b[1;32m95.894%\u001b[0m]\n",
      "Epoch: [99] HAM10000 ==> Training ...\n"
     ]
    },
    {
     "data": {
      "application/vnd.jupyter.widget-view+json": {
       "model_id": "85f9220a525e4800a52c26958ab181e8",
       "version_major": 2,
       "version_minor": 0
      },
      "text/plain": [
       "  0%|          | 0/404 [00:00<?, ?it/s]"
      ]
     },
     "metadata": {},
     "output_type": "display_data"
    },
    {
     "name": "stdout",
     "output_type": "stream",
     "text": [
      "[202/404] Loss0.21461, ACC:0.73526%\n",
      "[404/404] Loss0.19183, ACC:0.73878%\n",
      "Train_Loss: 0.1916426109647987,ACC:0.739%\n",
      "\u001b[66mHAM10000 ==> testing ...\u001b[0m\n"
     ]
    },
    {
     "data": {
      "application/vnd.jupyter.widget-view+json": {
       "model_id": "1487f6fc17b249e494eb439ea8c637ae",
       "version_major": 2,
       "version_minor": 0
      },
      "text/plain": [
       "  0%|          | 0/27 [00:00<?, ?it/s]"
      ]
     },
     "metadata": {},
     "output_type": "display_data"
    },
    {
     "name": "stdout",
     "output_type": "stream",
     "text": [
      "Test_Acc:\u001b[1;32m91.184%\u001b[0m\n",
      "Best_ACC[\u001b[1;32m95.894%\u001b[0m]\n",
      "Epoch: [100] HAM10000 ==> Training ...\n"
     ]
    },
    {
     "data": {
      "application/vnd.jupyter.widget-view+json": {
       "model_id": "da8339d2e9a442809f16c89604195f45",
       "version_major": 2,
       "version_minor": 0
      },
      "text/plain": [
       "  0%|          | 0/404 [00:00<?, ?it/s]"
      ]
     },
     "metadata": {},
     "output_type": "display_data"
    },
    {
     "name": "stdout",
     "output_type": "stream",
     "text": [
      "[202/404] Loss0.16442, ACC:0.73097%\n",
      "[404/404] Loss0.20235, ACC:0.73097%\n",
      "Train_Loss: 0.19595591757114572,ACC:0.731%\n",
      "\u001b[66mHAM10000 ==> testing ...\u001b[0m\n"
     ]
    },
    {
     "data": {
      "application/vnd.jupyter.widget-view+json": {
       "model_id": "60c0fdade58a44c681676b941300db08",
       "version_major": 2,
       "version_minor": 0
      },
      "text/plain": [
       "  0%|          | 0/27 [00:00<?, ?it/s]"
      ]
     },
     "metadata": {},
     "output_type": "display_data"
    },
    {
     "name": "stdout",
     "output_type": "stream",
     "text": [
      "Test_Acc:\u001b[1;32m93.478%\u001b[0m\n",
      "Best_ACC[\u001b[1;32m95.894%\u001b[0m]\n",
      "Finished Training\n"
     ]
    }
   ],
   "source": [
    "for epoch in range(1, num_epochs + 1):\n",
    "    train(epoch)\n",
    "    test()\n",
    "print('Finished Training')"
   ]
  },
  {
   "cell_type": "code",
   "execution_count": 16,
   "metadata": {
    "execution": {
     "iopub.execute_input": "2022-04-28T19:59:35.138118Z",
     "iopub.status.busy": "2022-04-28T19:59:35.138118Z",
     "iopub.status.idle": "2022-04-28T19:59:35.201144Z",
     "shell.execute_reply": "2022-04-28T19:59:35.201144Z",
     "shell.execute_reply.started": "2022-04-28T19:59:35.138118Z"
    },
    "tags": []
   },
   "outputs": [
    {
     "name": "stdout",
     "output_type": "stream",
     "text": [
      "\u001b[31m=================Conclusion====================\u001b[0m\n",
      "Dataset:[\u001b[1;31mHAM10000\u001b[0m]\n",
      "Best_Epoch [\u001b[1;31m97\u001b[0m]\n",
      "[Test]  \u001b[32mACC:95.89%\u001b[0m.\n"
     ]
    }
   ],
   "source": [
    "show.conclusion(img_title=img_title)"
   ]
  },
  {
   "cell_type": "code",
   "execution_count": 17,
   "metadata": {
    "execution": {
     "iopub.execute_input": "2022-04-28T19:59:35.202087Z",
     "iopub.status.busy": "2022-04-28T19:59:35.202087Z",
     "iopub.status.idle": "2022-04-28T19:59:35.425112Z",
     "shell.execute_reply": "2022-04-28T19:59:35.424116Z",
     "shell.execute_reply.started": "2022-04-28T19:59:35.202087Z"
    },
    "tags": []
   },
   "outputs": [
    {
     "data": {
      "image/png": "[encoded data removed]",
      "text/plain": [
       "<Figure size 432x288 with 1 Axes>"
      ]
     },
     "metadata": {
      "needs_background": "light"
     },
     "output_type": "display_data"
    }
   ],
   "source": [
    "plt.clf()#clear photo\n",
    "show.train(write=True,custom_path='./tmp',img_title=img_title,suf=suf)"
   ]
  },
  {
   "cell_type": "code",
   "execution_count": 18,
   "metadata": {
    "execution": {
     "iopub.execute_input": "2022-04-28T19:59:35.425112Z",
     "iopub.status.busy": "2022-04-28T19:59:35.425112Z",
     "iopub.status.idle": "2022-04-28T19:59:35.632997Z",
     "shell.execute_reply": "2022-04-28T19:59:35.631057Z",
     "shell.execute_reply.started": "2022-04-28T19:59:35.425112Z"
    },
    "tags": []
   },
   "outputs": [
    {
     "data": {
      "image/png": "[encoded data removed]",
      "text/plain": [
       "<Figure size 576x396 with 1 Axes>"
      ]
     },
     "metadata": {},
     "output_type": "display_data"
    }
   ],
   "source": [
    "show.test(write=True,custom_path='./tmp',img_title=img_title,suf=suf)"
   ]
  },
  {
   "cell_type": "code",
   "execution_count": 19,
   "metadata": {
    "execution": {
     "iopub.execute_input": "2022-04-28T19:59:35.634978Z",
     "iopub.status.busy": "2022-04-28T19:59:35.633987Z",
     "iopub.status.idle": "2022-04-28T19:59:35.696011Z",
     "shell.execute_reply": "2022-04-28T19:59:35.695044Z",
     "shell.execute_reply.started": "2022-04-28T19:59:35.634978Z"
    },
    "tags": []
   },
   "outputs": [
    {
     "name": "stdout",
     "output_type": "stream",
     "text": [
      "+--------+-----------+--------+-------+----------+\n",
      "|  Type  | Precision | Recall |   F1  | Accuracy |\n",
      "+--------+-----------+--------+-------+----------+\n",
      "| akiec  |   0.7778  | 0.913  |  0.84 |          |\n",
      "|  bcc   |   0.8077  | 0.808  | 0.808 |          |\n",
      "|  bkl   |   0.9219  | 0.894  | 0.908 |          |\n",
      "|   df   |   0.4545  | 0.833  | 0.588 |          |\n",
      "|  mel   |   0.9062  | 0.853  | 0.879 |          |\n",
      "|   nv   |   0.9864  | 0.983  | 0.985 |          |\n",
      "|  vasc  |    1.0    |  0.7   | 0.824 |          |\n",
      "| Total: |           |        |       |  0.9589  |\n",
      "+--------+-----------+--------+-------+----------+\n"
     ]
    }
   ],
   "source": [
    "self_scores()"
   ]
  },
  {
   "cell_type": "code",
   "execution_count": 20,
   "metadata": {
    "execution": {
     "iopub.execute_input": "2022-04-28T19:59:35.699016Z",
     "iopub.status.busy": "2022-04-28T19:59:35.698009Z",
     "iopub.status.idle": "2022-04-28T19:59:36.092778Z",
     "shell.execute_reply": "2022-04-28T19:59:36.092778Z",
     "shell.execute_reply.started": "2022-04-28T19:59:35.699016Z"
    },
    "tags": []
   },
   "outputs": [
    {
     "data": {
      "image/png": "[encoded data removed]",
      "text/plain": [
       "<Figure size 576x396 with 2 Axes>"
      ]
     },
     "metadata": {},
     "output_type": "display_data"
    }
   ],
   "source": [
    "confusion_matrix(evl_result)"
   ]
  },
  {
   "cell_type": "code",
   "execution_count": 21,
   "metadata": {
    "execution": {
     "iopub.execute_input": "2022-04-28T19:59:36.093685Z",
     "iopub.status.busy": "2022-04-28T19:59:36.093685Z",
     "iopub.status.idle": "2022-04-28T19:59:50.738668Z",
     "shell.execute_reply": "2022-04-28T19:59:50.738668Z",
     "shell.execute_reply.started": "2022-04-28T19:59:36.093685Z"
    },
    "tags": []
   },
   "outputs": [
    {
     "name": "stdout",
     "output_type": "stream",
     "text": [
      "\u001b[66mHAM10000 ==> testing ...\u001b[0m\n"
     ]
    },
    {
     "data": {
      "application/vnd.jupyter.widget-view+json": {
       "model_id": "6239da5baf15433099778b92a80bc6ad",
       "version_major": 2,
       "version_minor": 0
      },
      "text/plain": [
       "  0%|          | 0/27 [00:00<?, ?it/s]"
      ]
     },
     "metadata": {},
     "output_type": "display_data"
    },
    {
     "name": "stdout",
     "output_type": "stream",
     "text": [
      "Test_Acc:\u001b[1;32m95.894%\u001b[0m\n",
      "Best_ACC[\u001b[1;32m95.894%\u001b[0m]\n",
      "\u001b[66mHAM10000 ==> testing ...\u001b[0m\n"
     ]
    },
    {
     "data": {
      "application/vnd.jupyter.widget-view+json": {
       "model_id": "7e2bfb932b914fab98be75f7fc7894d7",
       "version_major": 2,
       "version_minor": 0
      },
      "text/plain": [
       "  0%|          | 0/27 [00:00<?, ?it/s]"
      ]
     },
     "metadata": {},
     "output_type": "display_data"
    },
    {
     "name": "stdout",
     "output_type": "stream",
     "text": [
      "Test_Acc:\u001b[1;32m95.894%\u001b[0m\n",
      "Best_ACC[\u001b[1;32m95.894%\u001b[0m]\n",
      "\u001b[66mHAM10000 ==> testing ...\u001b[0m\n"
     ]
    },
    {
     "data": {
      "application/vnd.jupyter.widget-view+json": {
       "model_id": "d2698d47758e407fa2aafd5deae22b3f",
       "version_major": 2,
       "version_minor": 0
      },
      "text/plain": [
       "  0%|          | 0/27 [00:00<?, ?it/s]"
      ]
     },
     "metadata": {},
     "output_type": "display_data"
    },
    {
     "name": "stdout",
     "output_type": "stream",
     "text": [
      "Test_Acc:\u001b[1;32m95.894%\u001b[0m\n",
      "Best_ACC[\u001b[1;32m95.894%\u001b[0m]\n",
      "\u001b[66mHAM10000 ==> testing ...\u001b[0m\n"
     ]
    },
    {
     "data": {
      "application/vnd.jupyter.widget-view+json": {
       "model_id": "784316149c014c9bb76b133a7f04c7d8",
       "version_major": 2,
       "version_minor": 0
      },
      "text/plain": [
       "  0%|          | 0/27 [00:00<?, ?it/s]"
      ]
     },
     "metadata": {},
     "output_type": "display_data"
    },
    {
     "name": "stdout",
     "output_type": "stream",
     "text": [
      "Test_Acc:\u001b[1;32m95.894%\u001b[0m\n",
      "Best_ACC[\u001b[1;32m95.894%\u001b[0m]\n",
      "\u001b[66mHAM10000 ==> testing ...\u001b[0m\n"
     ]
    },
    {
     "data": {
      "application/vnd.jupyter.widget-view+json": {
       "model_id": "aaeea1a3da074a4b99a2a9d2e6074bec",
       "version_major": 2,
       "version_minor": 0
      },
      "text/plain": [
       "  0%|          | 0/27 [00:00<?, ?it/s]"
      ]
     },
     "metadata": {},
     "output_type": "display_data"
    },
    {
     "name": "stdout",
     "output_type": "stream",
     "text": [
      "Test_Acc:\u001b[1;32m95.894%\u001b[0m\n",
      "Best_ACC[\u001b[1;32m95.894%\u001b[0m]\n"
     ]
    }
   ],
   "source": [
    "network.load_state_dict(torch.load(save_PATH))\n",
    "for i in range(5):\n",
    "    test()"
   ]
  },
  {
   "cell_type": "code",
   "execution_count": 23,
   "metadata": {
    "execution": {
     "iopub.execute_input": "2022-04-28T19:59:50.947681Z",
     "iopub.status.busy": "2022-04-28T19:59:50.947681Z",
     "iopub.status.idle": "2022-04-28T19:59:51.013711Z",
     "shell.execute_reply": "2022-04-28T19:59:51.010693Z",
     "shell.execute_reply.started": "2022-04-28T19:59:50.947681Z"
    },
    "tags": []
   },
   "outputs": [
    {
     "name": "stdout",
     "output_type": "stream",
     "text": [
      "+--------+-----------+--------+-------+----------+\n",
      "|  Type  | Precision | Recall |   F1  | Accuracy |\n",
      "+--------+-----------+--------+-------+----------+\n",
      "| akiec  |   0.7778  | 0.913  |  0.84 |          |\n",
      "|  bcc   |   0.8077  | 0.808  | 0.808 |          |\n",
      "|  bkl   |   0.9219  | 0.894  | 0.908 |          |\n",
      "|   df   |   0.4545  | 0.833  | 0.588 |          |\n",
      "|  mel   |   0.9062  | 0.853  | 0.879 |          |\n",
      "|   nv   |   0.9864  | 0.983  | 0.985 |          |\n",
      "|  vasc  |    1.0    |  0.7   | 0.824 |          |\n",
      "| Total: |           |        |       |  0.9589  |\n",
      "+--------+-----------+--------+-------+----------+\n"
     ]
    }
   ],
   "source": [
    "self_scores()"
   ]
  },
  {
   "cell_type": "code",
   "execution_count": 24,
   "metadata": {
    "execution": {
     "iopub.execute_input": "2022-04-28T19:59:51.018690Z",
     "iopub.status.busy": "2022-04-28T19:59:51.017701Z",
     "iopub.status.idle": "2022-04-28T19:59:51.394773Z",
     "shell.execute_reply": "2022-04-28T19:59:51.394773Z",
     "shell.execute_reply.started": "2022-04-28T19:59:51.017701Z"
    },
    "tags": []
   },
   "outputs": [
    {
     "data": {
      "image/png": "[encoded data removed]",
      "text/plain": [
       "<Figure size 576x396 with 2 Axes>"
      ]
     },
     "metadata": {},
     "output_type": "display_data"
    }
   ],
   "source": [
    "confusion_matrix(evl_result)"
   ]
  },
  {
   "cell_type": "code",
   "execution_count": 25,
   "metadata": {
    "execution": {
     "iopub.execute_input": "2022-04-28T19:59:51.395695Z",
     "iopub.status.busy": "2022-04-28T19:59:51.395695Z",
     "iopub.status.idle": "2022-04-28T19:59:51.458667Z",
     "shell.execute_reply": "2022-04-28T19:59:51.458667Z",
     "shell.execute_reply.started": "2022-04-28T19:59:51.395695Z"
    },
    "tags": []
   },
   "outputs": [],
   "source": [
    "# #save\n",
    "s1 = np.array(test_acc_list)\n",
    "np.save(f'./tmp/{img_title}/{suf}/{img_title}_test_acc_{suf}.npy', s1)\n",
    "s2 = np.array(train_loss_list)\n",
    "np.save(f'./tmp/{img_title}/{suf}/{img_title}_train_loss_{suf}.npy', s2)"
   ]
  },
  {
   "cell_type": "code",
   "execution_count": null,
   "metadata": {},
   "outputs": [],
   "source": [
    "torch.cuda.memory.empty_cache()"
   ]
  },
  {
   "cell_type": "raw",
   "metadata": {
    "execution": {
     "iopub.execute_input": "2022-04-22T16:17:23.519658Z",
     "iopub.status.busy": "2022-04-22T16:17:23.518635Z",
     "iopub.status.idle": "2022-04-22T16:17:23.581698Z",
     "shell.execute_reply": "2022-04-22T16:17:23.581698Z",
     "shell.execute_reply.started": "2022-04-22T16:17:23.519658Z"
    },
    "tags": []
   },
   "source": [
    "+--------+-----------+--------+-------+----------+\n",
    "|  Type  | Precision | Recall |   F1  | Accuracy |\n",
    "+--------+-----------+--------+-------+----------+\n",
    "| akiec  |   0.8571  | 0.783  | 0.818 |          |\n",
    "|  bcc   |   0.6667  | 0.923  | 0.774 |          |\n",
    "|  bkl   |    0.8    | 0.848  | 0.824 |          |\n",
    "|   df   |    0.5    | 0.333  |  0.4  |          |\n",
    "|  mel   |   0.8571  | 0.706  | 0.774 |          |\n",
    "|   nv   |   0.9909  | 0.986  | 0.989 |          |\n",
    "|  vasc  |   0.8889  |  0.8   | 0.842 |          |\n",
    "| Total: |           |        |       |  0.9493  |\n",
    "+--------+-----------+--------+-------+----------+"
   ]
  },
  {
   "cell_type": "raw",
   "metadata": {},
   "source": [
    "+--------+-----------+--------+-------+----------+\n",
    "|  Type  | Precision | Recall |   F1  | Accuracy |\n",
    "+--------+-----------+--------+-------+----------+\n",
    "| akiec  |   0.7778  | 0.913  |  0.84 |          |\n",
    "|  bcc   |   0.8077  | 0.808  | 0.808 |          |\n",
    "|  bkl   |   0.9219  | 0.894  | 0.908 |          |\n",
    "|   df   |   0.4545  | 0.833  | 0.588 |          |\n",
    "|  mel   |   0.9062  | 0.853  | 0.879 |          |\n",
    "|   nv   |   0.9864  | 0.983  | 0.985 |          |\n",
    "|  vasc  |    1.0    |  0.7   | 0.824 |          |\n",
    "| Total: |           |        |       |  0.9589  |\n",
    "+--------+-----------+--------+-------+----------+"
   ]
  }
 ],
 "metadata": {
  "kernelspec": {
   "display_name": "torch1.8",
   "language": "python",
   "name": "woodman"
  },
  "language_info": {
   "codemirror_mode": {
    "name": "ipython",
    "version": 3
   },
   "file_extension": ".py",
   "mimetype": "text/x-python",
   "name": "python",
   "nbconvert_exporter": "python",
   "pygments_lexer": "ipython3",
   "version": "3.8.11"
  },
  "toc-autonumbering": true,
  "toc-showmarkdowntxt": true
 },
 "nbformat": 4,
 "nbformat_minor": 4
}
