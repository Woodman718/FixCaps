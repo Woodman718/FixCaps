{
 "cells": [
  {
   "cell_type": "code",
   "execution_count": 1,
   "id": "4dbaf23f-72e3-48c8-aaba-0f8ac68f6b59",
   "metadata": {
    "execution": {
     "iopub.execute_input": "2022-05-31T02:02:46.110018Z",
     "iopub.status.busy": "2022-05-31T02:02:46.109639Z",
     "iopub.status.idle": "2022-05-31T02:02:49.301305Z",
     "shell.execute_reply": "2022-05-31T02:02:49.300246Z",
     "shell.execute_reply.started": "2022-05-31T02:02:46.109943Z"
    },
    "tags": []
   },
   "outputs": [],
   "source": [
    "import matplotlib.pyplot as plt\n",
    "from PIL import Image\n",
    "import numpy as np\n",
    "import pandas as pd\n",
    "import os\n",
    "from shutil import copy, rmtree \n",
    "import tensorflow as tf\n",
    "# import cv2"
   ]
  },
  {
   "cell_type": "raw",
   "id": "c7987d2f-48f4-4807-a093-feac7fa99252",
   "metadata": {},
   "source": [
    "lesion_type_dict = {\n",
    "    'nv': 'Melanocytic_nevi',\n",
    "    'mel': 'melanoma',\n",
    "    'bkl': 'Benign_keratosis-like_lesions',\n",
    "    'bcc': 'Basal_cell_carcinoma',\n",
    "    'akiec': 'Actinic_keratoses',\n",
    "    'vasc': 'Vascular_lesions',\n",
    "    'df': 'Dermatofibroma'\n",
    "}"
   ]
  },
  {
   "cell_type": "raw",
   "id": "114f8d5d-0e0c-4686-8073-683b2a42c363",
   "metadata": {},
   "source": [
    "lesion_danger = {\n",
    "    'nv': 0, # 0 for benign\n",
    "    'mel': 1, # 1 for malignant\n",
    "    'bkl': 0, # 0 for benign\n",
    "    'bcc': 1, # 1 for malignant\n",
    "    'akiec': 1, # 1 for malignant\n",
    "    'vasc': 0,\n",
    "    'df': 0\n",
    "}"
   ]
  },
  {
   "cell_type": "code",
   "execution_count": 2,
   "id": "03a1f5a6-3ec3-4649-b43c-ef18a2315f19",
   "metadata": {
    "execution": {
     "iopub.execute_input": "2022-05-31T02:02:49.302894Z",
     "iopub.status.busy": "2022-05-31T02:02:49.302644Z",
     "iopub.status.idle": "2022-05-31T02:02:49.306669Z",
     "shell.execute_reply": "2022-05-31T02:02:49.305872Z",
     "shell.execute_reply.started": "2022-05-31T02:02:49.302858Z"
    },
    "tags": []
   },
   "outputs": [],
   "source": [
    "# targetnames = ['akiec', 'bcc', 'bkl', 'df', 'mel', 'nv', 'vasc']\n",
    "# # To rename documents before action.\n",
    "# # targetnames = ['AKIEC', 'BCC', 'BKL', 'DF', 'MEL', 'NV', 'VASC']\n",
    "# train_dir = \"train50per/\""
   ]
  },
  {
   "cell_type": "code",
   "execution_count": 3,
   "id": "54d21b4c-dd4b-462e-9eeb-9669deeb10ce",
   "metadata": {
    "execution": {
     "iopub.execute_input": "2022-05-31T02:02:49.308973Z",
     "iopub.status.busy": "2022-05-31T02:02:49.308749Z",
     "iopub.status.idle": "2022-05-31T02:02:49.313189Z",
     "shell.execute_reply": "2022-05-31T02:02:49.312531Z",
     "shell.execute_reply.started": "2022-05-31T02:02:49.308946Z"
    },
    "tags": []
   },
   "outputs": [],
   "source": [
    "def mk_file(file_path: str):\n",
    "    if os.path.exists(file_path):\n",
    "        rmtree(file_path)\n",
    "    os.makedirs(file_path)"
   ]
  },
  {
   "cell_type": "code",
   "execution_count": 4,
   "id": "6d040e2e-b273-4be1-bd4b-525966d96268",
   "metadata": {
    "execution": {
     "iopub.execute_input": "2022-05-31T02:02:49.314359Z",
     "iopub.status.busy": "2022-05-31T02:02:49.314096Z",
     "iopub.status.idle": "2022-05-31T02:02:49.319050Z",
     "shell.execute_reply": "2022-05-31T02:02:49.318263Z",
     "shell.execute_reply.started": "2022-05-31T02:02:49.314331Z"
    },
    "tags": []
   },
   "outputs": [],
   "source": [
    "# source directory\n",
    "cwd = os.getcwd()\n",
    "data_root = os.path.abspath(os.path.join(cwd))\n",
    "origin_data_path = os.path.join(data_root, \"train501\")\n",
    "assert os.path.exists(origin_data_path), \"path '{}' does not exist.\".format(origin_data_path)"
   ]
  },
  {
   "cell_type": "code",
   "execution_count": 5,
   "id": "d19ee805-f401-4968-bf36-56356a0c80b7",
   "metadata": {
    "execution": {
     "iopub.execute_input": "2022-05-31T02:02:49.320199Z",
     "iopub.status.busy": "2022-05-31T02:02:49.319982Z",
     "iopub.status.idle": "2022-05-31T02:02:49.329803Z",
     "shell.execute_reply": "2022-05-31T02:02:49.329076Z",
     "shell.execute_reply.started": "2022-05-31T02:02:49.320172Z"
    },
    "tags": []
   },
   "outputs": [
    {
     "data": {
      "text/plain": [
       "['vasc', 'nv', 'bkl', 'akiec', 'mel', 'df', 'bcc']"
      ]
     },
     "execution_count": 5,
     "metadata": {},
     "output_type": "execute_result"
    }
   ],
   "source": [
    "data_class = [cla for cla in os.listdir(origin_data_path)\n",
    "                if os.path.isdir(os.path.join(origin_data_path, cla))]\n",
    "data_class"
   ]
  },
  {
   "cell_type": "code",
   "execution_count": 6,
   "id": "983a34fe-2136-4b00-86e8-92f116ef7752",
   "metadata": {
    "execution": {
     "iopub.execute_input": "2022-05-31T02:02:49.331247Z",
     "iopub.status.busy": "2022-05-31T02:02:49.330969Z",
     "iopub.status.idle": "2022-05-31T02:02:49.335501Z",
     "shell.execute_reply": "2022-05-31T02:02:49.334533Z",
     "shell.execute_reply.started": "2022-05-31T02:02:49.331219Z"
    },
    "tags": []
   },
   "outputs": [],
   "source": [
    "# Augmentation directory\n",
    "train_root = os.path.join(data_root,\"train501\")\n",
    "# mk_file(train_root)\n",
    "# for cla in data_class:\n",
    "#     mk_file(os.path.join(train_root, cla))\n",
    "# !ls {train_root}"
   ]
  },
  {
   "cell_type": "code",
   "execution_count": 7,
   "id": "e1fea013-50e9-455d-b9b3-d6af837a5919",
   "metadata": {
    "execution": {
     "iopub.execute_input": "2022-05-31T02:02:49.336689Z",
     "iopub.status.busy": "2022-05-31T02:02:49.336433Z",
     "iopub.status.idle": "2022-05-31T02:02:49.341671Z",
     "shell.execute_reply": "2022-05-31T02:02:49.341033Z",
     "shell.execute_reply.started": "2022-05-31T02:02:49.336661Z"
    },
    "tags": []
   },
   "outputs": [
    {
     "data": {
      "text/plain": [
       "'/home/woodman/Jupyter/songbai/data/train501'"
      ]
     },
     "execution_count": 7,
     "metadata": {},
     "output_type": "execute_result"
    }
   ],
   "source": [
    "origin_data_path"
   ]
  },
  {
   "cell_type": "code",
   "execution_count": 8,
   "id": "77db4a9c-0ab5-453f-93b1-cbb39a20754c",
   "metadata": {
    "execution": {
     "iopub.execute_input": "2022-05-31T02:02:49.342795Z",
     "iopub.status.busy": "2022-05-31T02:02:49.342583Z",
     "iopub.status.idle": "2022-05-31T02:02:49.347681Z",
     "shell.execute_reply": "2022-05-31T02:02:49.346799Z",
     "shell.execute_reply.started": "2022-05-31T02:02:49.342769Z"
    },
    "tags": []
   },
   "outputs": [
    {
     "data": {
      "text/plain": [
       "'/home/woodman/Jupyter/songbai/data/train501'"
      ]
     },
     "execution_count": 8,
     "metadata": {},
     "output_type": "execute_result"
    }
   ],
   "source": [
    "train_root"
   ]
  },
  {
   "cell_type": "code",
   "execution_count": 9,
   "id": "79071a00-2a79-4e62-ba0a-e43ecfe18f0a",
   "metadata": {
    "execution": {
     "iopub.execute_input": "2022-05-31T02:02:49.348990Z",
     "iopub.status.busy": "2022-05-31T02:02:49.348689Z",
     "iopub.status.idle": "2022-05-31T02:29:38.139825Z",
     "shell.execute_reply": "2022-05-31T02:29:38.138707Z",
     "shell.execute_reply.started": "2022-05-31T02:02:49.348963Z"
    },
    "tags": []
   },
   "outputs": [
    {
     "name": "stdout",
     "output_type": "stream",
     "text": [
      "Found 132 images belonging to 1 classes.\n",
      "Found 6042 images belonging to 1 classes.\n",
      "Found 1033 images belonging to 1 classes.\n",
      "Found 304 images belonging to 1 classes.\n",
      "Found 1079 images belonging to 1 classes.\n",
      "Found 109 images belonging to 1 classes.\n",
      "Found 488 images belonging to 1 classes.\n"
     ]
    }
   ],
   "source": [
    "# Augmenting images and storing them in temporary directories \n",
    "for img_class in data_class:\n",
    "\n",
    "    #creating temporary directories\n",
    "    # creating a base directory\n",
    "    aug_dir = \"aug_dir\"   \n",
    "    # creating a subdirectory inside the base directory for images of the same class\n",
    "    img_dir = os.path.join(aug_dir, 'img_dir')\n",
    "\n",
    "    mk_file(img_dir)\n",
    "    \n",
    "    cla_path = os.path.join(origin_data_path,img_class)\n",
    "    img_list = os.listdir(cla_path)\n",
    "\n",
    "    # Copy images from the class train dir to the img_dir \n",
    "    for index, image in enumerate(img_list):\n",
    "        # path of source image in training directory\n",
    "        image_path = os.path.join(cla_path,image)\n",
    "        # creating a target directory to send images \n",
    "        tag_path = os.path.join(data_root,img_dir,image)\n",
    "        # copying the image from the source to target file\n",
    "        copy(image_path, tag_path)\n",
    "        \n",
    "    # Temporary augumented dataset directory.\n",
    "    source_path = os.path.join(data_root,aug_dir)\n",
    "    # Augmented images will be saved to training directory\n",
    "    save_path = os.path.join(train_root,img_class)\n",
    "\n",
    "    # Creating Image Data Generator to augment images\n",
    "    datagen = tf.keras.preprocessing.image.ImageDataGenerator(\n",
    "        rotation_range=180,\n",
    "        width_shift_range=0.1,\n",
    "        height_shift_range=0.1,\n",
    "        zoom_range=0.1,\n",
    "        horizontal_flip=True,\n",
    "        vertical_flip=True,\n",
    "        fill_mode='nearest'\n",
    "    )\n",
    "\n",
    "    batch_size = 50\n",
    "\n",
    "    aug_datagen = datagen.flow_from_directory(source_path,save_to_dir=save_path,save_format='jpg',save_prefix='trans_',target_size=(299, 299),batch_size=batch_size)\n",
    "\n",
    "    # Generate the augmented images. Default:8000->51699\n",
    "    aug_images = 8000 #29263\n",
    "    \n",
    "    num_files = len(img_list)\n",
    "    num_batches = int(np.ceil((aug_images - num_files) / batch_size))\n",
    "\n",
    "    # creating 8000 augmented images per class\n",
    "    for i in range(0, num_batches):\n",
    "        images, labels = next(aug_datagen)\n",
    "\n",
    "    # delete temporary directory \n",
    "    rmtree(aug_dir)"
   ]
  },
  {
   "cell_type": "code",
   "execution_count": 10,
   "id": "4272c0de-7957-44db-9e84-7321d24b3e0c",
   "metadata": {
    "execution": {
     "iopub.execute_input": "2022-05-31T02:29:38.141711Z",
     "iopub.status.busy": "2022-05-31T02:29:38.141456Z",
     "iopub.status.idle": "2022-05-31T02:29:38.146556Z",
     "shell.execute_reply": "2022-05-31T02:29:38.145710Z",
     "shell.execute_reply.started": "2022-05-31T02:29:38.141676Z"
    },
    "tags": []
   },
   "outputs": [],
   "source": [
    "# # copy origin_data_path(9187) to train_root().\n",
    "# total_num = 0\n",
    "# for cla in data_class:\n",
    "\n",
    "#     cla_path = os.path.join(origin_data_path, cla)\n",
    "#     images = os.listdir(cla_path)\n",
    "#     num = len(images)\n",
    "#     total_num += num\n",
    "#     for index, image in enumerate(images):\n",
    "#         image_path = os.path.join(cla_path, image)\n",
    "#         img_name = image_path.split('/')[-1].split(\".\")[0]\n",
    "#         savepath = os.path.join(train_root, cla,img_name + \".jpg\")\n",
    "\n",
    "#         img = Image.open(image_path)\n",
    "#         img = img.resize((299, 299))#, resample=Image.LANCZOS)\n",
    "#         img.save(savepath,quality=100)\n",
    "#         # png\n",
    "#         # cv2.imwrite(savepath,img, [int(cv2.IMWRITE_PNG_COMPRESSION), 1])\n",
    "#         # cv2.resize()\n",
    "#         # jpg\n",
    "#         # cv2.imwrite(savepath,img,[int(cv2.IMWRITE_JPEG_QUALITY),100])\n",
    "\n",
    "#         print(\"\\r[{}] processing [{}/{}]\".format(cla, index+1, num), end=\"\")  # processing bar\n",
    "#     # break\n",
    "#     print()\n",
    "\n",
    "# print(f\"processing {total_num} done!\")"
   ]
  },
  {
   "cell_type": "code",
   "execution_count": 11,
   "id": "0597e9e5-3398-4705-b1a3-48d96ca10387",
   "metadata": {
    "execution": {
     "iopub.execute_input": "2022-05-31T02:29:38.147816Z",
     "iopub.status.busy": "2022-05-31T02:29:38.147544Z",
     "iopub.status.idle": "2022-05-31T02:29:45.523348Z",
     "shell.execute_reply": "2022-05-31T02:29:45.518208Z",
     "shell.execute_reply.started": "2022-05-31T02:29:38.147784Z"
    },
    "tags": []
   },
   "outputs": [
    {
     "name": "stdout",
     "output_type": "stream",
     "text": [
      "[vasc] processing [7096/7096]\n",
      "[nv] processing [8042/8042]\n",
      "[bkl] processing [7931/7931]\n",
      "[akiec] processing [6992/6992]\n",
      "[mel] processing [7903/7903]\n",
      "[df] processing [5877/5877]\n",
      "[bcc] processing [7858/7858]\n",
      "processing 51699 done!\n"
     ]
    }
   ],
   "source": [
    "# detect \n",
    "total_num = 0\n",
    "for cla in data_class:\n",
    "    cla_path = os.path.join(train_root, cla)\n",
    "    images = os.listdir(cla_path)\n",
    "    num = len(images)\n",
    "    total_num += num\n",
    "    for index, image in enumerate(images):\n",
    " \n",
    "        print(\"\\r[{}] processing [{}/{}]\".format(cla, index+1, num), end=\"\")  # processing bar\n",
    "    # break\n",
    "    print()\n",
    "\n",
    "print(f\"processing {total_num} done!\")"
   ]
  },
  {
   "cell_type": "code",
   "execution_count": null,
   "id": "4702e902-58b4-410d-a672-00e16cf6f7c5",
   "metadata": {},
   "outputs": [],
   "source": []
  }
 ],
 "metadata": {
  "kernelspec": {
   "display_name": "Python 3 (ipykernel)",
   "language": "python",
   "name": "python3"
  },
  "language_info": {
   "codemirror_mode": {
    "name": "ipython",
    "version": 3
   },
   "file_extension": ".py",
   "mimetype": "text/x-python",
   "name": "python",
   "nbconvert_exporter": "python",
   "pygments_lexer": "ipython3",
   "version": "3.8.11"
  }
 },
 "nbformat": 4,
 "nbformat_minor": 5
}
