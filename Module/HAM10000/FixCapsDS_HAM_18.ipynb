{
 "cells": [
  {
   "cell_type": "code",
   "execution_count": 1,
   "metadata": {
    "tags": []
   },
   "outputs": [],
   "source": [
    "%load_ext autoreload\n",
    "%autoreload 2"
   ]
  },
  {
   "cell_type": "code",
   "execution_count": 2,
   "metadata": {
    "tags": [],
    "uuid": "5cde640c-432f-4f8a-9f00-017bf8c65e34"
   },
   "outputs": [],
   "source": [
    "import torch\n",
    "import sys, os\n",
    "import json\n",
    "import torch.nn as nn  \n",
    "import numpy as np\n",
    "import matplotlib.pyplot as plt\n",
    "\n",
    "import torch.nn.functional as F\n",
    "import torch.optim as optim\n",
    "\n",
    "import prettytable\n",
    "import time\n",
    "sys.setrecursionlimit(15000)\n",
    "from thop.profile import profile\n",
    "\n",
    "from PIL import Image\n",
    "from torch.optim import lr_scheduler\n",
    "from torch.autograd import Variable\n",
    "from torch.utils.data import DataLoader\n",
    "from torchvision import datasets, transforms\n",
    "from torchsummary import summary\n",
    "from tqdm import tqdm\n",
    "import seaborn as sns\n",
    "\n",
    "from utils import ImageShow,draw_size_acc,one_hot\n",
    "from utils import confusion_matrix,metrics_scores\n",
    "from model import FixCapsNet"
   ]
  },
  {
   "cell_type": "code",
   "execution_count": 3,
   "metadata": {
    "tags": [],
    "uuid": "a391afe8-e37b-4ef6-ab2e-c0bdbb7849ee"
   },
   "outputs": [],
   "source": [
    "# Settings.\n",
    "sys.path.append(os.pardir)\n",
    "device = torch.device('cuda' if torch.cuda.is_available() else \"cpu\")\n",
    "img_title = \"HAM10000\"#\"COVID-19\"#\"ISIC2019\"#\"skin_lesion\"#\n",
    "best_acc = 0.\n",
    "eval_acc = 0.\n",
    "best_train = 0.\n",
    "#defined \n",
    "try:\n",
    "    print(len(train_acc_list))\n",
    "except NameError:\n",
    "    train_loss_list = []\n",
    "    train_acc_list = []\n",
    "    test_loss_list = []\n",
    "    test_acc_list = []\n",
    "    test_auc_list = []\n",
    "    val_loss_list = []\n",
    "    val_acc_list = []\n",
    "#activate ImageShow\n",
    "show = ImageShow(train_loss_list = train_loss_list,\n",
    "                 train_acc_list = train_acc_list,\n",
    "                test_loss_list = test_loss_list,\n",
    "                test_acc_list = test_acc_list,\n",
    "                test_auc_list = test_auc_list,\n",
    "                val_loss_list = val_loss_list,\n",
    "                val_acc_list = val_acc_list,\n",
    "                )"
   ]
  },
  {
   "cell_type": "code",
   "execution_count": 4,
   "metadata": {
    "tags": []
   },
   "outputs": [],
   "source": [
    "def get_data(trans_size='308'):\n",
    "    global test_dataset,train_loader,val_loader,test_loader,train_num,val_num,test_num,n_classes,cla_dict\n",
    "    data_transform = {\n",
    "        \"train\": transforms.Compose([transforms.RandomResizedCrop((299, 299)),\n",
    "                                     transforms.RandomVerticalFlip(),\n",
    "                                     transforms.ToTensor(),\n",
    "                                     transforms.Normalize((0.5, 0.5, 0.5), (0.5, 0.5, 0.5))]),\n",
    "        \"val\": transforms.Compose([transforms.Resize((308, 308)),\n",
    "                                   transforms.CenterCrop((299, 299)),\n",
    "                                   transforms.ToTensor(),\n",
    "                                   transforms.Normalize((0.5, 0.5, 0.5), (0.5, 0.5, 0.5))\n",
    "                                  ]),\n",
    "        \"test\": transforms.Compose([transforms.Resize((trans_size, trans_size)),\n",
    "                                   transforms.CenterCrop((299, 299)),\n",
    "                                   transforms.ToTensor(),\n",
    "                                   transforms.Normalize((0.5, 0.5, 0.5), (0.5, 0.5, 0.5))\n",
    "                                  ])\n",
    "        }\n",
    "\n",
    "    data_root = os.path.abspath(os.path.join(os.getcwd()))  # get data root path\n",
    "    image_path = os.path.join(data_root, \"datasets\",\"HAM10000\")#\n",
    "    assert os.path.exists(image_path), \"{} path does not exist.\".format(image_path)\n",
    "\n",
    "    train_dataset = datasets.ImageFolder(root=os.path.join(image_path,train_doc),#\n",
    "                                         transform=data_transform[\"train\"])\n",
    "    val_dataset = datasets.ImageFolder(root=os.path.join(image_path,val_doc),\n",
    "                                            transform=data_transform[\"val\"])\n",
    "    test_dataset = datasets.ImageFolder(root=os.path.join(image_path,test_doc),\n",
    "                                            transform=data_transform[\"test\"])\n",
    "\n",
    "    train_num = len(train_dataset)\n",
    "    val_num = len(val_dataset)\n",
    "    test_num = len(test_dataset)\n",
    "\n",
    "    data_list = train_dataset.class_to_idx\n",
    "    cla_dict = dict((val, key) for key, val in data_list.items())\n",
    "    n_classes  = len(data_list)\n",
    "    print(f'Using {n_classes } classes.')\n",
    "    # write dict into json file\n",
    "    json_str = json.dumps(cla_dict, indent=4)\n",
    "    with open(f'{img_title}.json', 'w') as json_file:#class_indices\n",
    "        json_file.write(json_str)\n",
    "\n",
    "    pin_memory = True\n",
    "    train_loader = DataLoader(train_dataset,batch_size=BatchSize,\n",
    "                                               pin_memory=pin_memory,\n",
    "                                               shuffle=True,num_workers=nw)\n",
    "    val_loader = DataLoader(val_dataset,batch_size=V_size,\n",
    "                                               pin_memory=pin_memory,\n",
    "                                               shuffle=False,num_workers=nw)\n",
    "    test_loader = DataLoader(test_dataset,batch_size=T_size,\n",
    "                                              pin_memory=pin_memory,\n",
    "                                              shuffle=False,num_workers=nw)\n",
    "\n",
    "    print(\"using {} images for training, {} images for validation, {} images for testing.\".format(train_num,\n",
    "                                                                                                  val_num,\n",
    "                                                                                                  test_num))"
   ]
  },
  {
   "cell_type": "code",
   "execution_count": 5,
   "metadata": {},
   "outputs": [
    {
     "name": "stdout",
     "output_type": "stream",
     "text": [
      "Using 4 dataloader workers every process.\n",
      "Using 7 classes.\n",
      "using 52911 images for training, 1006 images for validation, 828 images for testing.\n"
     ]
    }
   ],
   "source": [
    "BatchSize = 128#128#188\n",
    "V_size = 31\n",
    "T_size = 31\n",
    "learning_rate = 0.123\n",
    "train_doc = \"train525e384png\"\n",
    "val_doc = \"val525e384png\"\n",
    "test_doc = \"test525png384\"\n",
    "nw = min([os.cpu_count(), BatchSize if BatchSize > 1 else 0, 4]) \n",
    "print(f'Using {nw} dataloader workers every process.')\n",
    "get_data()"
   ]
  },
  {
   "cell_type": "code",
   "execution_count": 6,
   "metadata": {
    "scrolled": true,
    "tags": []
   },
   "outputs": [
    {
     "name": "stdout",
     "output_type": "stream",
     "text": [
      "----------------------------------------------------------------\n",
      "        Layer (type)               Output Shape         Param #\n",
      "================================================================\n",
      "            Conv2d-1          [-1, 3, 141, 141]             972\n",
      "            Conv2d-2          [-1, 128, 71, 71]             384\n",
      "       BatchNorm2d-3          [-1, 128, 71, 71]             256\n",
      "              ReLU-4          [-1, 128, 71, 71]               0\n",
      "FractionalMaxPool2d-5          [-1, 128, 20, 20]               0\n",
      "            Conv2d-6          [-1, 128, 20, 20]          16,384\n",
      "       BatchNorm2d-7          [-1, 128, 20, 20]             256\n",
      "         Hardswish-8          [-1, 128, 20, 20]               0\n",
      " AdaptiveAvgPool2d-9            [-1, 128, 1, 1]               0\n",
      "           Conv2d-10            [-1, 128, 1, 1]          16,512\n",
      "             ReLU-11            [-1, 128, 1, 1]               0\n",
      "           Conv2d-12            [-1, 128, 1, 1]          16,512\n",
      "AdaptiveMaxPool2d-13            [-1, 128, 1, 1]               0\n",
      "           Conv2d-14            [-1, 128, 1, 1]          16,512\n",
      "             ReLU-15            [-1, 128, 1, 1]               0\n",
      "           Conv2d-16            [-1, 128, 1, 1]          16,512\n",
      "          Sigmoid-17            [-1, 128, 1, 1]               0\n",
      " ChannelAttention-18            [-1, 128, 1, 1]               0\n",
      "           Conv2d-19            [-1, 1, 20, 20]              19\n",
      "          Sigmoid-20            [-1, 1, 20, 20]               0\n",
      " SpatialAttention-21            [-1, 1, 20, 20]               0\n",
      "        Conv_CBAM-22          [-1, 128, 20, 20]               0\n",
      "           Conv2d-23             [-1, 16, 6, 6]          10,368\n",
      "         ConvUnit-24             [-1, 16, 6, 6]               0\n",
      "           Conv2d-25             [-1, 16, 6, 6]          10,368\n",
      "         ConvUnit-26             [-1, 16, 6, 6]               0\n",
      "           Conv2d-27             [-1, 16, 6, 6]          10,368\n",
      "         ConvUnit-28             [-1, 16, 6, 6]               0\n",
      "           Conv2d-29             [-1, 16, 6, 6]          10,368\n",
      "         ConvUnit-30             [-1, 16, 6, 6]               0\n",
      "           Conv2d-31             [-1, 16, 6, 6]          10,368\n",
      "         ConvUnit-32             [-1, 16, 6, 6]               0\n",
      "           Conv2d-33             [-1, 16, 6, 6]          10,368\n",
      "         ConvUnit-34             [-1, 16, 6, 6]               0\n",
      "           Conv2d-35             [-1, 16, 6, 6]          10,368\n",
      "         ConvUnit-36             [-1, 16, 6, 6]               0\n",
      "           Conv2d-37             [-1, 16, 6, 6]          10,368\n",
      "         ConvUnit-38             [-1, 16, 6, 6]               0\n",
      "     Primary_Caps-39               [-1, 8, 576]               0\n",
      "      Digits_Caps-40             [-1, 7, 16, 1]               0\n",
      "================================================================\n",
      "Total params: 167,263\n",
      "Trainable params: 167,263\n",
      "Non-trainable params: 0\n",
      "----------------------------------------------------------------\n",
      "Input size (MB): 1.02\n",
      "Forward/backward pass size (MB): 17.30\n",
      "Params size (MB): 0.64\n",
      "Estimated Total Size (MB): 18.96\n",
      "----------------------------------------------------------------\n"
     ]
    }
   ],
   "source": [
    "# Create capsule network.\n",
    "n_channels = 3\n",
    "conv_outputs = 128 #Feature_map\n",
    "num_primary_units = 8\n",
    "primary_unit_size = 16 * 6 * 6  # fixme get from conv2d\n",
    "output_unit_size = 16\n",
    "img_size = 299\n",
    "mode='DS'\n",
    "network = FixCapsNet(conv_inputs=n_channels,\n",
    "                     conv_outputs=conv_outputs,\n",
    "                     primary_units=num_primary_units,\n",
    "                     primary_unit_size=primary_unit_size,\n",
    "                     num_classes=n_classes,\n",
    "                     output_unit_size=16,\n",
    "                     init_weights=True,\n",
    "                     mode=mode)\n",
    "network = network.to(device)\n",
    "summary(network,(n_channels,img_size,img_size))"
   ]
  },
  {
   "cell_type": "code",
   "execution_count": 7,
   "metadata": {
    "tags": []
   },
   "outputs": [
    {
     "name": "stdout",
     "output_type": "stream",
     "text": [
      "Model | Params(M) | FLOPs(G)\n",
      "---|---|---\n",
      "FixCaps | 0.13 | 0.03\n"
     ]
    }
   ],
   "source": [
    "print(\"%s | %s | %s\" % (\"Model\", \"Params(M)\", \"FLOPs(G)\"))\n",
    "print(\"---|---|---\")\n",
    "name = \"FixCaps\"\n",
    "dsize = (1, 3, 299, 299)\n",
    "inputs = torch.randn(dsize).to(device)\n",
    "total_ops, total_params = profile(network, (inputs,), verbose=False)\n",
    "print(\n",
    "    \"%s | %.2f | %.2f\" % (name, total_params / (1000 ** 2), total_ops / (1000 ** 3))\n",
    "    )\n",
    "#FLOPs(G)--> 0.07(0.08)."
   ]
  },
  {
   "cell_type": "code",
   "execution_count": 8,
   "metadata": {
    "tags": []
   },
   "outputs": [
    {
     "data": {
      "text/plain": [
       "Sequential(\n",
       "  (0): Conv2d(3, 3, kernel_size=(18, 18), stride=(2, 2), groups=3, bias=False)\n",
       "  (1): Conv2d(3, 128, kernel_size=(1, 1), stride=(2, 2), bias=False)\n",
       "  (2): BatchNorm2d(128, eps=1e-05, momentum=0.1, affine=True, track_running_stats=True)\n",
       "  (3): ReLU(inplace=True)\n",
       "  (4): FractionalMaxPool2d()\n",
       ")"
      ]
     },
     "execution_count": 8,
     "metadata": {},
     "output_type": "execute_result"
    }
   ],
   "source": [
    "network.Convolution"
   ]
  },
  {
   "cell_type": "code",
   "execution_count": 9,
   "metadata": {
    "tags": [],
    "uuid": "86f92f63-16e2-4ca6-b5da-d848546a391e"
   },
   "outputs": [],
   "source": [
    "def train(epoch):\n",
    "    network.train()\n",
    "    global best_train,train_evl_result#,evl_tmp_result\n",
    "    running_loss,r_pre = 0., 0.\n",
    "    print_step = len(train_loader)//2\n",
    "    steps_num = len(train_loader)\n",
    "    tmp_size = BatchSize\n",
    "    print(f'\\033[1;32m[Train Epoch:[{epoch}]{img_title} ==> Training]\\033[0m ...')\n",
    "    optimizer.zero_grad()\n",
    "    train_tmp_result = torch.zeros(n_classes,n_classes)\n",
    "    # scaler = torch.cuda.amp.GradScaler()\n",
    "    \n",
    "    for batch_idx, (data, target) in enumerate(tqdm(train_loader)):        \n",
    "\n",
    "        batch_idx += 1\n",
    "        target_indices = target\n",
    "        target_one_hot = one_hot(target, length=n_classes)\n",
    "        data, target = Variable(data).to(device), Variable(target_one_hot).to(device)\n",
    "        # data, target =data.to(device), target_one_hot.to(device)\n",
    "        # with torch.cuda.amp.autocast():\n",
    "        output = network(data)\n",
    "        loss = network.loss(output, target, size_average=True)       \n",
    "        loss.backward()\n",
    "        # scaler.scale(loss).backward()\n",
    "        # scaler.step(optimizer)\n",
    "        # scaler.update()        \n",
    "        optimizer.step()\n",
    "        optimizer.zero_grad()\n",
    "        # scheduler.step()#AdamW            \n",
    "        running_loss += loss.item()\n",
    "        \n",
    "        v_mag = torch.sqrt(torch.sum(output**2, dim=2, keepdim=True)) \n",
    "        pred = v_mag.data.max(1, keepdim=True)[1].cpu().squeeze()\n",
    "        r_pre += pred.eq(target_indices.view_as(pred)).squeeze().sum()\n",
    "        tmp_pre = r_pre/(batch_idx*BatchSize)\n",
    "        \n",
    "        if batch_idx % print_step == 0:\n",
    "            print(\"[{}/{}] Loss{:.5f},ACC:{:.5f}\".format(batch_idx,len(train_loader),\n",
    "                                                         loss,tmp_pre))\n",
    "        if batch_idx % steps_num == 0 and train_num % tmp_size != 0:\n",
    "            tmp_size = train_num % tmp_size\n",
    "                          \n",
    "        for i in range(tmp_size):\n",
    "            pred_x = pred.numpy()\n",
    "            train_tmp_result[target_indices[i]][pred_x[i]] +=1\n",
    "\n",
    "        if best_train < tmp_pre and tmp_pre >= 80:\n",
    "            torch.save(network.state_dict(), iter_path)\n",
    "        \n",
    "    epoch_acc = r_pre / train_num\n",
    "    epoch_loss = running_loss / len(train_loader)  \n",
    "    train_loss_list.append(epoch_loss)\n",
    "    train_acc_list.append(epoch_acc) \n",
    "    scheduler.step()\n",
    "    if best_train < epoch_acc:\n",
    "        best_train = epoch_acc\n",
    "        train_evl_result = train_tmp_result.clone()\n",
    "        torch.save(network.state_dict(), last_path)\n",
    "        torch.save(train_evl_result, f'./tmp/{img_title}/{suf}/train_evl_result.pth')\n",
    "    \n",
    "    print(\"Train Epoch:[{}] Loss:{:.5f},Acc:{:.5f},Best_train:{:.5f}\".format(epoch,epoch_loss,\n",
    "                                                                     epoch_acc,best_train))"
   ]
  },
  {
   "cell_type": "code",
   "execution_count": 10,
   "metadata": {
    "tags": [],
    "uuid": "f010e769-677f-416b-8ce8-9f4186dce054"
   },
   "outputs": [],
   "source": [
    "def test(split=\"test\"):\n",
    "    network.eval()\n",
    "    global test_acc,eval_acc,best_acc,test_evl_result,val_evl_result,evl_tmp_result,net_parameters\n",
    "    cor_loss,correct,Auc, Acc= 0, 0, 0, 0\n",
    "    evl_tmp_result = torch.zeros(n_classes,n_classes)\n",
    "    \n",
    "    if split == 'val':\n",
    "        data_loader = val_loader\n",
    "        tmp_size = V_size\n",
    "        data_num = val_num\n",
    "    else:\n",
    "        data_loader = test_loader\n",
    "        tmp_size = T_size\n",
    "        data_num = test_num\n",
    "        \n",
    "    steps_num = len(data_loader)\n",
    "    print(f'\\033[35m{img_title} ==> {split} ...\\033[0m')\n",
    "    \n",
    "    with torch.no_grad():\n",
    "        for batch_idx, (data, target) in enumerate(tqdm(data_loader)):\n",
    "            batch_idx +=1\n",
    "            target_indices = target#torch.Size([batch, 7])  \n",
    "            target_one_hot = one_hot(target, length=n_classes)            \n",
    "            data, target = Variable(data).to(device), Variable(target_one_hot).to(device)\n",
    "\n",
    "            output= network(data)#torch.Size([batch_size, 7, 16, 1])         \n",
    "            v_mag = torch.sqrt(torch.sum(output**2, dim=2, keepdim=True))\n",
    "            pred = v_mag.data.max(1, keepdim=True)[1].cpu()#[9, 2, 1, 1, 6,..., 1, 4, 6, 5, 7,]\n",
    "            \n",
    "            if batch_idx % steps_num == 0 and test_num % tmp_size != 0:\n",
    "                tmp_size = data_num % tmp_size\n",
    "                          \n",
    "            for i in range(tmp_size):\n",
    "                pred_y = pred.numpy()\n",
    "                evl_tmp_result[target_indices[i]][pred_y[i]] +=1 \n",
    "\n",
    "    diag_sum = torch.sum(evl_tmp_result.diagonal())\n",
    "    all_sum = torch.sum(evl_tmp_result) \n",
    "    test_acc = 100. * float(torch.div(diag_sum,all_sum)) \n",
    "    print(f\"{split}_Acc:\\033[1;32m{round(float(test_acc),3)}%\\033[0m\")\n",
    "    \n",
    "    if split == 'val':\n",
    "        val_acc_list.append(test_acc)\n",
    "        if test_acc > best_acc:\n",
    "            best_acc = test_acc\n",
    "            val_evl_result = evl_tmp_result.clone()#copy.deepcopy(input)\n",
    "            torch.save(network.state_dict(), save_PATH)\n",
    "            torch.save(val_evl_result, f'./tmp/{img_title}/{suf}/best_evl_result.pth')\n",
    "        print(f\"Best_val:\\033[1;32m[{round(float(best_acc),3)}%]\\033[0m\")\n",
    "    else:\n",
    "        test_acc_list.append(test_acc)\n",
    "        if test_acc > eval_acc:\n",
    "            eval_acc = test_acc\n",
    "            test_evl_result = evl_tmp_result.clone()#copy.deepcopy(input)\n",
    "            torch.save(network.state_dict(), f'./tmp/{img_title}/{suf}/{split}_best_{img_title}_{suf}.pth')\n",
    "            torch.save(test_evl_result, f'./tmp/{img_title}/{suf}/{split}_evl_result.pth')\n",
    "        print(f\"Best_eval:\\033[1;32m[{round(float(eval_acc),3)}%]\\033[0m\")  "
   ]
  },
  {
   "cell_type": "code",
   "execution_count": 11,
   "metadata": {
    "tags": []
   },
   "outputs": [
    {
     "name": "stdout",
     "output_type": "stream",
     "text": [
      "suf:0624_234723\n",
      "./tmp/HAM10000/0624_234723/best_HAM10000_0624_234723.pth\n"
     ]
    }
   ],
   "source": [
    "#create store\n",
    "try:\n",
    "    print(f\"suf:{suf}\")\n",
    "except NameError:\n",
    "    suf = time.strftime(\"%m%d_%H%M%S\", time.localtime())\n",
    "    print(f\"suf:{suf}\")   \n",
    "if os.path.exists(f'./tmp/{img_title}/{suf}'):\n",
    "    print (f'Store: \"./tmp/{img_title}/{suf}\"')\n",
    "else:\n",
    "    os.mkdir(f\"./tmp/{img_title}/{suf}\")\n",
    "iter_path = f'./tmp/{img_title}/{suf}/train_{img_title}_{suf}.pth'\n",
    "save_PATH = f'./tmp/{img_title}/{suf}/best_{img_title}_{suf}.pth'\n",
    "last_path = f'./tmp/{img_title}/{suf}/last_{img_title}_{suf}.pth'\n",
    "print(save_PATH)"
   ]
  },
  {
   "cell_type": "code",
   "execution_count": 12,
   "metadata": {
    "scrolled": true,
    "tags": [],
    "uuid": "edaf3774-de76-44a5-aabd-fb52532ea36e"
   },
   "outputs": [],
   "source": [
    "num_epochs = 125"
   ]
  },
  {
   "cell_type": "code",
   "execution_count": 13,
   "metadata": {
    "tags": []
   },
   "outputs": [],
   "source": [
    "# learning_rate = 0.123\n",
    "def_betas=(0.9, 0.999)\n",
    "optimizer = optim.Adam(network.parameters(), lr=learning_rate)\n",
    "# optimizer = optim.AdamW(network.parameters(), lr=learning_rate, weight_decay=0.01)\n",
    "scheduler = lr_scheduler.CosineAnnealingLR(optimizer, 5, eta_min=1e-8, last_epoch=-1)\n",
    "\n",
    "#base_momentum=0.85, max_momentum=0.95, div_factor=25.0, final_div_factor=10000.0,\n",
    "# scheduler = lr_scheduler.OneCycleLR(optimizer, max_lr=learning_rate,\n",
    "#                         steps_per_epoch=len(train_loader),\n",
    "#                         epochs=num_epochs)"
   ]
  },
  {
   "cell_type": "code",
   "execution_count": null,
   "metadata": {
    "tags": [],
    "uuid": "edaf3774-de76-44a5-aabd-fb52532ea36e"
   },
   "outputs": [
    {
     "name": "stdout",
     "output_type": "stream",
     "text": [
      "\u001b[1;32m[Train Epoch:[1]HAM10000 ==> Training]\u001b[0m ...\n"
     ]
    },
    {
     "data": {
      "application/vnd.jupyter.widget-view+json": {
       "model_id": "a947cc6b47ce4d13acccf60e51255760",
       "version_major": 2,
       "version_minor": 0
      },
      "text/plain": [
       "  0%|          | 0/414 [00:00<?, ?it/s]"
      ]
     },
     "metadata": {},
     "output_type": "display_data"
    }
   ],
   "source": [
    "for epoch in range(1, num_epochs + 1): \n",
    "    train(epoch)\n",
    "    test('val')\n",
    "\n",
    "print('Finished Training')"
   ]
  },
  {
   "cell_type": "code",
   "execution_count": 86,
   "metadata": {
    "scrolled": true,
    "tags": []
   },
   "outputs": [
    {
     "name": "stdout",
     "output_type": "stream",
     "text": [
      "size:24\n",
      "Using 7 classes.\n",
      "using 52911 images for training, 1006 images for validation, 828 images for testing.\n",
      "\u001b[35mHAM10000 ==> test ...\u001b[0m\n"
     ]
    },
    {
     "data": {
      "application/vnd.jupyter.widget-view+json": {
       "model_id": "af104b6d0dab4e8b99f87ebb961fa723",
       "version_major": 2,
       "version_minor": 0
      },
      "text/plain": [
       "  0%|          | 0/35 [00:00<?, ?it/s]"
      ]
     },
     "metadata": {},
     "output_type": "display_data"
    },
    {
     "name": "stdout",
     "output_type": "stream",
     "text": [
      "test_Acc:\u001b[1;32m94.807%\u001b[0m\n",
      "Best_eval:\u001b[1;32m[95.894%]\u001b[0m\n",
      "\u001b[35mHAM10000 ==> test ...\u001b[0m\n"
     ]
    },
    {
     "data": {
      "application/vnd.jupyter.widget-view+json": {
       "model_id": "f75dea4faaa64d42995632d706bed743",
       "version_major": 2,
       "version_minor": 0
      },
      "text/plain": [
       "  0%|          | 0/35 [00:00<?, ?it/s]"
      ]
     },
     "metadata": {},
     "output_type": "display_data"
    },
    {
     "name": "stdout",
     "output_type": "stream",
     "text": [
      "test_Acc:\u001b[1;32m94.686%\u001b[0m\n",
      "Best_eval:\u001b[1;32m[95.894%]\u001b[0m\n",
      "\u001b[35mHAM10000 ==> test ...\u001b[0m\n"
     ]
    },
    {
     "data": {
      "application/vnd.jupyter.widget-view+json": {
       "model_id": "3a4673ebb37d421683a854befd1b2098",
       "version_major": 2,
       "version_minor": 0
      },
      "text/plain": [
       "  0%|          | 0/35 [00:00<?, ?it/s]"
      ]
     },
     "metadata": {},
     "output_type": "display_data"
    },
    {
     "name": "stdout",
     "output_type": "stream",
     "text": [
      "test_Acc:\u001b[1;32m94.686%\u001b[0m\n",
      "Best_eval:\u001b[1;32m[95.894%]\u001b[0m\n",
      "\u001b[35mHAM10000 ==> test ...\u001b[0m\n"
     ]
    },
    {
     "data": {
      "application/vnd.jupyter.widget-view+json": {
       "model_id": "d60cd84220c64eadaed56f35b71f3299",
       "version_major": 2,
       "version_minor": 0
      },
      "text/plain": [
       "  0%|          | 0/35 [00:00<?, ?it/s]"
      ]
     },
     "metadata": {},
     "output_type": "display_data"
    },
    {
     "name": "stdout",
     "output_type": "stream",
     "text": [
      "test_Acc:\u001b[1;32m94.082%\u001b[0m\n",
      "Best_eval:\u001b[1;32m[95.894%]\u001b[0m\n",
      "\u001b[35mHAM10000 ==> test ...\u001b[0m\n"
     ]
    },
    {
     "data": {
      "application/vnd.jupyter.widget-view+json": {
       "model_id": "f1579ecdba34443a9ecc257ee2194b27",
       "version_major": 2,
       "version_minor": 0
      },
      "text/plain": [
       "  0%|          | 0/35 [00:00<?, ?it/s]"
      ]
     },
     "metadata": {},
     "output_type": "display_data"
    },
    {
     "name": "stdout",
     "output_type": "stream",
     "text": [
      "test_Acc:\u001b[1;32m94.444%\u001b[0m\n",
      "Best_eval:\u001b[1;32m[95.894%]\u001b[0m\n",
      "Using 7 classes.\n",
      "using 52911 images for training, 1006 images for validation, 828 images for testing.\n",
      "\u001b[35mHAM10000 ==> test ...\u001b[0m\n"
     ]
    },
    {
     "data": {
      "application/vnd.jupyter.widget-view+json": {
       "model_id": "3d02769c416441719ff2a6baed3e1f23",
       "version_major": 2,
       "version_minor": 0
      },
      "text/plain": [
       "  0%|          | 0/35 [00:00<?, ?it/s]"
      ]
     },
     "metadata": {},
     "output_type": "display_data"
    },
    {
     "name": "stdout",
     "output_type": "stream",
     "text": [
      "test_Acc:\u001b[1;32m95.169%\u001b[0m\n",
      "Best_eval:\u001b[1;32m[95.894%]\u001b[0m\n",
      "\u001b[35mHAM10000 ==> test ...\u001b[0m\n"
     ]
    },
    {
     "data": {
      "application/vnd.jupyter.widget-view+json": {
       "model_id": "6e99dd8a2ddf40688d9457f69e68004c",
       "version_major": 2,
       "version_minor": 0
      },
      "text/plain": [
       "  0%|          | 0/35 [00:00<?, ?it/s]"
      ]
     },
     "metadata": {},
     "output_type": "display_data"
    },
    {
     "name": "stdout",
     "output_type": "stream",
     "text": [
      "test_Acc:\u001b[1;32m94.324%\u001b[0m\n",
      "Best_eval:\u001b[1;32m[95.894%]\u001b[0m\n",
      "\u001b[35mHAM10000 ==> test ...\u001b[0m\n"
     ]
    },
    {
     "data": {
      "application/vnd.jupyter.widget-view+json": {
       "model_id": "df2d6e3d433a417ab06abcc1877fdc94",
       "version_major": 2,
       "version_minor": 0
      },
      "text/plain": [
       "  0%|          | 0/35 [00:00<?, ?it/s]"
      ]
     },
     "metadata": {},
     "output_type": "display_data"
    },
    {
     "name": "stdout",
     "output_type": "stream",
     "text": [
      "test_Acc:\u001b[1;32m94.686%\u001b[0m\n",
      "Best_eval:\u001b[1;32m[95.894%]\u001b[0m\n",
      "\u001b[35mHAM10000 ==> test ...\u001b[0m\n"
     ]
    },
    {
     "data": {
      "application/vnd.jupyter.widget-view+json": {
       "model_id": "a1ef9fc5d6944a19be1aa3f62e3e3a86",
       "version_major": 2,
       "version_minor": 0
      },
      "text/plain": [
       "  0%|          | 0/35 [00:00<?, ?it/s]"
      ]
     },
     "metadata": {},
     "output_type": "display_data"
    },
    {
     "name": "stdout",
     "output_type": "stream",
     "text": [
      "test_Acc:\u001b[1;32m94.928%\u001b[0m\n",
      "Best_eval:\u001b[1;32m[95.894%]\u001b[0m\n",
      "\u001b[35mHAM10000 ==> test ...\u001b[0m\n"
     ]
    },
    {
     "data": {
      "application/vnd.jupyter.widget-view+json": {
       "model_id": "168aa8e961fa44c2a119111604b1f1b4",
       "version_major": 2,
       "version_minor": 0
      },
      "text/plain": [
       "  0%|          | 0/35 [00:00<?, ?it/s]"
      ]
     },
     "metadata": {},
     "output_type": "display_data"
    },
    {
     "name": "stdout",
     "output_type": "stream",
     "text": [
      "test_Acc:\u001b[1;32m95.048%\u001b[0m\n",
      "Best_eval:\u001b[1;32m[95.894%]\u001b[0m\n",
      "Using 7 classes.\n",
      "using 52911 images for training, 1006 images for validation, 828 images for testing.\n",
      "\u001b[35mHAM10000 ==> test ...\u001b[0m\n"
     ]
    },
    {
     "data": {
      "application/vnd.jupyter.widget-view+json": {
       "model_id": "679e15610962479c94c611dc2439c694",
       "version_major": 2,
       "version_minor": 0
      },
      "text/plain": [
       "  0%|          | 0/35 [00:00<?, ?it/s]"
      ]
     },
     "metadata": {},
     "output_type": "display_data"
    },
    {
     "name": "stdout",
     "output_type": "stream",
     "text": [
      "test_Acc:\u001b[1;32m94.807%\u001b[0m\n",
      "Best_eval:\u001b[1;32m[95.894%]\u001b[0m\n",
      "\u001b[35mHAM10000 ==> test ...\u001b[0m\n"
     ]
    },
    {
     "data": {
      "application/vnd.jupyter.widget-view+json": {
       "model_id": "ef1508e847d14a81bea064715e6bf86b",
       "version_major": 2,
       "version_minor": 0
      },
      "text/plain": [
       "  0%|          | 0/35 [00:00<?, ?it/s]"
      ]
     },
     "metadata": {},
     "output_type": "display_data"
    },
    {
     "name": "stdout",
     "output_type": "stream",
     "text": [
      "test_Acc:\u001b[1;32m95.169%\u001b[0m\n",
      "Best_eval:\u001b[1;32m[95.894%]\u001b[0m\n",
      "\u001b[35mHAM10000 ==> test ...\u001b[0m\n"
     ]
    },
    {
     "data": {
      "application/vnd.jupyter.widget-view+json": {
       "model_id": "3f333461d45f4fc0bb35c783c5bc7cf2",
       "version_major": 2,
       "version_minor": 0
      },
      "text/plain": [
       "  0%|          | 0/35 [00:00<?, ?it/s]"
      ]
     },
     "metadata": {},
     "output_type": "display_data"
    },
    {
     "name": "stdout",
     "output_type": "stream",
     "text": [
      "test_Acc:\u001b[1;32m94.928%\u001b[0m\n",
      "Best_eval:\u001b[1;32m[95.894%]\u001b[0m\n",
      "\u001b[35mHAM10000 ==> test ...\u001b[0m\n"
     ]
    },
    {
     "data": {
      "application/vnd.jupyter.widget-view+json": {
       "model_id": "ba35bfb3e152479f89aa56dddaa37fda",
       "version_major": 2,
       "version_minor": 0
      },
      "text/plain": [
       "  0%|          | 0/35 [00:00<?, ?it/s]"
      ]
     },
     "metadata": {},
     "output_type": "display_data"
    },
    {
     "name": "stdout",
     "output_type": "stream",
     "text": [
      "test_Acc:\u001b[1;32m95.29%\u001b[0m\n",
      "Best_eval:\u001b[1;32m[95.894%]\u001b[0m\n",
      "\u001b[35mHAM10000 ==> test ...\u001b[0m\n"
     ]
    },
    {
     "data": {
      "application/vnd.jupyter.widget-view+json": {
       "model_id": "62a4a4914a084940a904ca0ed48301cf",
       "version_major": 2,
       "version_minor": 0
      },
      "text/plain": [
       "  0%|          | 0/35 [00:00<?, ?it/s]"
      ]
     },
     "metadata": {},
     "output_type": "display_data"
    },
    {
     "name": "stdout",
     "output_type": "stream",
     "text": [
      "test_Acc:\u001b[1;32m95.411%\u001b[0m\n",
      "Best_eval:\u001b[1;32m[95.894%]\u001b[0m\n",
      "Using 7 classes.\n",
      "using 52911 images for training, 1006 images for validation, 828 images for testing.\n",
      "\u001b[35mHAM10000 ==> test ...\u001b[0m\n"
     ]
    },
    {
     "data": {
      "application/vnd.jupyter.widget-view+json": {
       "model_id": "ce4caa780b424e36bfca984e800ffacf",
       "version_major": 2,
       "version_minor": 0
      },
      "text/plain": [
       "  0%|          | 0/35 [00:00<?, ?it/s]"
      ]
     },
     "metadata": {},
     "output_type": "display_data"
    },
    {
     "name": "stdout",
     "output_type": "stream",
     "text": [
      "test_Acc:\u001b[1;32m94.807%\u001b[0m\n",
      "Best_eval:\u001b[1;32m[95.894%]\u001b[0m\n",
      "\u001b[35mHAM10000 ==> test ...\u001b[0m\n"
     ]
    },
    {
     "data": {
      "application/vnd.jupyter.widget-view+json": {
       "model_id": "f7420ad4702f48a69536b824f199bed8",
       "version_major": 2,
       "version_minor": 0
      },
      "text/plain": [
       "  0%|          | 0/35 [00:00<?, ?it/s]"
      ]
     },
     "metadata": {},
     "output_type": "display_data"
    },
    {
     "name": "stdout",
     "output_type": "stream",
     "text": [
      "test_Acc:\u001b[1;32m94.807%\u001b[0m\n",
      "Best_eval:\u001b[1;32m[95.894%]\u001b[0m\n",
      "\u001b[35mHAM10000 ==> test ...\u001b[0m\n"
     ]
    },
    {
     "data": {
      "application/vnd.jupyter.widget-view+json": {
       "model_id": "d5ba8086000940718d241212577e79cf",
       "version_major": 2,
       "version_minor": 0
      },
      "text/plain": [
       "  0%|          | 0/35 [00:00<?, ?it/s]"
      ]
     },
     "metadata": {},
     "output_type": "display_data"
    },
    {
     "name": "stdout",
     "output_type": "stream",
     "text": [
      "test_Acc:\u001b[1;32m95.169%\u001b[0m\n",
      "Best_eval:\u001b[1;32m[95.894%]\u001b[0m\n",
      "\u001b[35mHAM10000 ==> test ...\u001b[0m\n"
     ]
    },
    {
     "data": {
      "application/vnd.jupyter.widget-view+json": {
       "model_id": "db062bad22d6434b976f234b8b82f8e7",
       "version_major": 2,
       "version_minor": 0
      },
      "text/plain": [
       "  0%|          | 0/35 [00:00<?, ?it/s]"
      ]
     },
     "metadata": {},
     "output_type": "display_data"
    },
    {
     "name": "stdout",
     "output_type": "stream",
     "text": [
      "test_Acc:\u001b[1;32m95.169%\u001b[0m\n",
      "Best_eval:\u001b[1;32m[95.894%]\u001b[0m\n",
      "\u001b[35mHAM10000 ==> test ...\u001b[0m\n"
     ]
    },
    {
     "data": {
      "application/vnd.jupyter.widget-view+json": {
       "model_id": "c6f5990713d7412b9f390762fe0edaf2",
       "version_major": 2,
       "version_minor": 0
      },
      "text/plain": [
       "  0%|          | 0/35 [00:00<?, ?it/s]"
      ]
     },
     "metadata": {},
     "output_type": "display_data"
    },
    {
     "name": "stdout",
     "output_type": "stream",
     "text": [
      "test_Acc:\u001b[1;32m95.29%\u001b[0m\n",
      "Best_eval:\u001b[1;32m[95.894%]\u001b[0m\n",
      "size:25\n",
      "Using 7 classes.\n",
      "using 52911 images for training, 1006 images for validation, 828 images for testing.\n",
      "\u001b[35mHAM10000 ==> test ...\u001b[0m\n"
     ]
    },
    {
     "data": {
      "application/vnd.jupyter.widget-view+json": {
       "model_id": "457c821a6954484ca016f3ccaf30156c",
       "version_major": 2,
       "version_minor": 0
      },
      "text/plain": [
       "  0%|          | 0/34 [00:00<?, ?it/s]"
      ]
     },
     "metadata": {},
     "output_type": "display_data"
    },
    {
     "name": "stdout",
     "output_type": "stream",
     "text": [
      "test_Acc:\u001b[1;32m93.961%\u001b[0m\n",
      "Best_eval:\u001b[1;32m[95.894%]\u001b[0m\n",
      "\u001b[35mHAM10000 ==> test ...\u001b[0m\n"
     ]
    },
    {
     "data": {
      "application/vnd.jupyter.widget-view+json": {
       "model_id": "8499cdd82e4d4816bc4e17064fa89034",
       "version_major": 2,
       "version_minor": 0
      },
      "text/plain": [
       "  0%|          | 0/34 [00:00<?, ?it/s]"
      ]
     },
     "metadata": {},
     "output_type": "display_data"
    },
    {
     "name": "stdout",
     "output_type": "stream",
     "text": [
      "test_Acc:\u001b[1;32m94.928%\u001b[0m\n",
      "Best_eval:\u001b[1;32m[95.894%]\u001b[0m\n",
      "\u001b[35mHAM10000 ==> test ...\u001b[0m\n"
     ]
    },
    {
     "data": {
      "application/vnd.jupyter.widget-view+json": {
       "model_id": "0e3b58a4060b4d499046b03185851989",
       "version_major": 2,
       "version_minor": 0
      },
      "text/plain": [
       "  0%|          | 0/34 [00:00<?, ?it/s]"
      ]
     },
     "metadata": {},
     "output_type": "display_data"
    },
    {
     "name": "stdout",
     "output_type": "stream",
     "text": [
      "test_Acc:\u001b[1;32m94.928%\u001b[0m\n",
      "Best_eval:\u001b[1;32m[95.894%]\u001b[0m\n",
      "\u001b[35mHAM10000 ==> test ...\u001b[0m\n"
     ]
    },
    {
     "data": {
      "application/vnd.jupyter.widget-view+json": {
       "model_id": "292ffd994ec04d5098d6fa4b0fe7cfa1",
       "version_major": 2,
       "version_minor": 0
      },
      "text/plain": [
       "  0%|          | 0/34 [00:00<?, ?it/s]"
      ]
     },
     "metadata": {},
     "output_type": "display_data"
    },
    {
     "name": "stdout",
     "output_type": "stream",
     "text": [
      "test_Acc:\u001b[1;32m94.565%\u001b[0m\n",
      "Best_eval:\u001b[1;32m[95.894%]\u001b[0m\n",
      "\u001b[35mHAM10000 ==> test ...\u001b[0m\n"
     ]
    },
    {
     "data": {
      "application/vnd.jupyter.widget-view+json": {
       "model_id": "3fb69076476e462aa671e2d1fabc3846",
       "version_major": 2,
       "version_minor": 0
      },
      "text/plain": [
       "  0%|          | 0/34 [00:00<?, ?it/s]"
      ]
     },
     "metadata": {},
     "output_type": "display_data"
    },
    {
     "name": "stdout",
     "output_type": "stream",
     "text": [
      "test_Acc:\u001b[1;32m95.411%\u001b[0m\n",
      "Best_eval:\u001b[1;32m[95.894%]\u001b[0m\n",
      "Using 7 classes.\n",
      "using 52911 images for training, 1006 images for validation, 828 images for testing.\n",
      "\u001b[35mHAM10000 ==> test ...\u001b[0m\n"
     ]
    },
    {
     "data": {
      "application/vnd.jupyter.widget-view+json": {
       "model_id": "e068feb82fe94bda9d6391b74d163139",
       "version_major": 2,
       "version_minor": 0
      },
      "text/plain": [
       "  0%|          | 0/34 [00:00<?, ?it/s]"
      ]
     },
     "metadata": {},
     "output_type": "display_data"
    },
    {
     "name": "stdout",
     "output_type": "stream",
     "text": [
      "test_Acc:\u001b[1;32m95.169%\u001b[0m\n",
      "Best_eval:\u001b[1;32m[95.894%]\u001b[0m\n",
      "\u001b[35mHAM10000 ==> test ...\u001b[0m\n"
     ]
    },
    {
     "data": {
      "application/vnd.jupyter.widget-view+json": {
       "model_id": "f59df00e68d7421084ea85eea2da608b",
       "version_major": 2,
       "version_minor": 0
      },
      "text/plain": [
       "  0%|          | 0/34 [00:00<?, ?it/s]"
      ]
     },
     "metadata": {},
     "output_type": "display_data"
    },
    {
     "name": "stdout",
     "output_type": "stream",
     "text": [
      "test_Acc:\u001b[1;32m94.565%\u001b[0m\n",
      "Best_eval:\u001b[1;32m[95.894%]\u001b[0m\n",
      "\u001b[35mHAM10000 ==> test ...\u001b[0m\n"
     ]
    },
    {
     "data": {
      "application/vnd.jupyter.widget-view+json": {
       "model_id": "9ee9d986938846f3ac03e8d10532d8d4",
       "version_major": 2,
       "version_minor": 0
      },
      "text/plain": [
       "  0%|          | 0/34 [00:00<?, ?it/s]"
      ]
     },
     "metadata": {},
     "output_type": "display_data"
    },
    {
     "name": "stdout",
     "output_type": "stream",
     "text": [
      "test_Acc:\u001b[1;32m94.565%\u001b[0m\n",
      "Best_eval:\u001b[1;32m[95.894%]\u001b[0m\n",
      "\u001b[35mHAM10000 ==> test ...\u001b[0m\n"
     ]
    },
    {
     "data": {
      "application/vnd.jupyter.widget-view+json": {
       "model_id": "3981cd49408f40318fe3faf16297641f",
       "version_major": 2,
       "version_minor": 0
      },
      "text/plain": [
       "  0%|          | 0/34 [00:00<?, ?it/s]"
      ]
     },
     "metadata": {},
     "output_type": "display_data"
    },
    {
     "name": "stdout",
     "output_type": "stream",
     "text": [
      "test_Acc:\u001b[1;32m94.686%\u001b[0m\n",
      "Best_eval:\u001b[1;32m[95.894%]\u001b[0m\n",
      "\u001b[35mHAM10000 ==> test ...\u001b[0m\n"
     ]
    },
    {
     "data": {
      "application/vnd.jupyter.widget-view+json": {
       "model_id": "aa6f162d1eef49edb9112d978cec78ef",
       "version_major": 2,
       "version_minor": 0
      },
      "text/plain": [
       "  0%|          | 0/34 [00:00<?, ?it/s]"
      ]
     },
     "metadata": {},
     "output_type": "display_data"
    },
    {
     "name": "stdout",
     "output_type": "stream",
     "text": [
      "test_Acc:\u001b[1;32m94.686%\u001b[0m\n",
      "Best_eval:\u001b[1;32m[95.894%]\u001b[0m\n",
      "Using 7 classes.\n",
      "using 52911 images for training, 1006 images for validation, 828 images for testing.\n",
      "\u001b[35mHAM10000 ==> test ...\u001b[0m\n"
     ]
    },
    {
     "data": {
      "application/vnd.jupyter.widget-view+json": {
       "model_id": "7121348eaa8049d7b71c94c5ab318bdf",
       "version_major": 2,
       "version_minor": 0
      },
      "text/plain": [
       "  0%|          | 0/34 [00:00<?, ?it/s]"
      ]
     },
     "metadata": {},
     "output_type": "display_data"
    },
    {
     "name": "stdout",
     "output_type": "stream",
     "text": [
      "test_Acc:\u001b[1;32m94.324%\u001b[0m\n",
      "Best_eval:\u001b[1;32m[95.894%]\u001b[0m\n",
      "\u001b[35mHAM10000 ==> test ...\u001b[0m\n"
     ]
    },
    {
     "data": {
      "application/vnd.jupyter.widget-view+json": {
       "model_id": "af2ed83d114b42a6ae840c3a9a28ac6a",
       "version_major": 2,
       "version_minor": 0
      },
      "text/plain": [
       "  0%|          | 0/34 [00:00<?, ?it/s]"
      ]
     },
     "metadata": {},
     "output_type": "display_data"
    },
    {
     "name": "stdout",
     "output_type": "stream",
     "text": [
      "test_Acc:\u001b[1;32m94.807%\u001b[0m\n",
      "Best_eval:\u001b[1;32m[95.894%]\u001b[0m\n",
      "\u001b[35mHAM10000 ==> test ...\u001b[0m\n"
     ]
    },
    {
     "data": {
      "application/vnd.jupyter.widget-view+json": {
       "model_id": "35d275b0f12142b59984ecebbe25ad89",
       "version_major": 2,
       "version_minor": 0
      },
      "text/plain": [
       "  0%|          | 0/34 [00:00<?, ?it/s]"
      ]
     },
     "metadata": {},
     "output_type": "display_data"
    },
    {
     "name": "stdout",
     "output_type": "stream",
     "text": [
      "test_Acc:\u001b[1;32m95.894%\u001b[0m\n",
      "Best_eval:\u001b[1;32m[95.894%]\u001b[0m\n",
      "\u001b[35mHAM10000 ==> test ...\u001b[0m\n"
     ]
    },
    {
     "data": {
      "application/vnd.jupyter.widget-view+json": {
       "model_id": "7dd5f1cb4ca34548b6d8a608f6990785",
       "version_major": 2,
       "version_minor": 0
      },
      "text/plain": [
       "  0%|          | 0/34 [00:00<?, ?it/s]"
      ]
     },
     "metadata": {},
     "output_type": "display_data"
    },
    {
     "name": "stdout",
     "output_type": "stream",
     "text": [
      "test_Acc:\u001b[1;32m94.565%\u001b[0m\n",
      "Best_eval:\u001b[1;32m[95.894%]\u001b[0m\n",
      "\u001b[35mHAM10000 ==> test ...\u001b[0m\n"
     ]
    },
    {
     "data": {
      "application/vnd.jupyter.widget-view+json": {
       "model_id": "77adb1ecee614aca9567479df30bbeee",
       "version_major": 2,
       "version_minor": 0
      },
      "text/plain": [
       "  0%|          | 0/34 [00:00<?, ?it/s]"
      ]
     },
     "metadata": {},
     "output_type": "display_data"
    },
    {
     "name": "stdout",
     "output_type": "stream",
     "text": [
      "test_Acc:\u001b[1;32m94.928%\u001b[0m\n",
      "Best_eval:\u001b[1;32m[95.894%]\u001b[0m\n",
      "Using 7 classes.\n",
      "using 52911 images for training, 1006 images for validation, 828 images for testing.\n",
      "\u001b[35mHAM10000 ==> test ...\u001b[0m\n"
     ]
    },
    {
     "data": {
      "application/vnd.jupyter.widget-view+json": {
       "model_id": "c56b9af60b4f4be29f0129054fa2bda6",
       "version_major": 2,
       "version_minor": 0
      },
      "text/plain": [
       "  0%|          | 0/34 [00:00<?, ?it/s]"
      ]
     },
     "metadata": {},
     "output_type": "display_data"
    },
    {
     "name": "stdout",
     "output_type": "stream",
     "text": [
      "test_Acc:\u001b[1;32m94.686%\u001b[0m\n",
      "Best_eval:\u001b[1;32m[95.894%]\u001b[0m\n",
      "\u001b[35mHAM10000 ==> test ...\u001b[0m\n"
     ]
    },
    {
     "data": {
      "application/vnd.jupyter.widget-view+json": {
       "model_id": "aa3d04f467a54b1caf9ec83d5783c9b2",
       "version_major": 2,
       "version_minor": 0
      },
      "text/plain": [
       "  0%|          | 0/34 [00:00<?, ?it/s]"
      ]
     },
     "metadata": {},
     "output_type": "display_data"
    },
    {
     "name": "stdout",
     "output_type": "stream",
     "text": [
      "test_Acc:\u001b[1;32m95.048%\u001b[0m\n",
      "Best_eval:\u001b[1;32m[95.894%]\u001b[0m\n",
      "\u001b[35mHAM10000 ==> test ...\u001b[0m\n"
     ]
    },
    {
     "data": {
      "application/vnd.jupyter.widget-view+json": {
       "model_id": "3bff9eb5e16c4cd4a1f1348eba7ae744",
       "version_major": 2,
       "version_minor": 0
      },
      "text/plain": [
       "  0%|          | 0/34 [00:00<?, ?it/s]"
      ]
     },
     "metadata": {},
     "output_type": "display_data"
    },
    {
     "name": "stdout",
     "output_type": "stream",
     "text": [
      "test_Acc:\u001b[1;32m94.203%\u001b[0m\n",
      "Best_eval:\u001b[1;32m[95.894%]\u001b[0m\n",
      "\u001b[35mHAM10000 ==> test ...\u001b[0m\n"
     ]
    },
    {
     "data": {
      "application/vnd.jupyter.widget-view+json": {
       "model_id": "7fd907c5631c4a4a9aff458cf53f9ae8",
       "version_major": 2,
       "version_minor": 0
      },
      "text/plain": [
       "  0%|          | 0/34 [00:00<?, ?it/s]"
      ]
     },
     "metadata": {},
     "output_type": "display_data"
    },
    {
     "name": "stdout",
     "output_type": "stream",
     "text": [
      "test_Acc:\u001b[1;32m94.444%\u001b[0m\n",
      "Best_eval:\u001b[1;32m[95.894%]\u001b[0m\n",
      "\u001b[35mHAM10000 ==> test ...\u001b[0m\n"
     ]
    },
    {
     "data": {
      "application/vnd.jupyter.widget-view+json": {
       "model_id": "7a0f61f3d8a14df3b2e9fbffb4ebf2db",
       "version_major": 2,
       "version_minor": 0
      },
      "text/plain": [
       "  0%|          | 0/34 [00:00<?, ?it/s]"
      ]
     },
     "metadata": {},
     "output_type": "display_data"
    },
    {
     "name": "stdout",
     "output_type": "stream",
     "text": [
      "test_Acc:\u001b[1;32m94.686%\u001b[0m\n",
      "Best_eval:\u001b[1;32m[95.894%]\u001b[0m\n"
     ]
    }
   ],
   "source": [
    "network.load_state_dict(torch.load(save_PATH))\n",
    "dict_size ={}\n",
    "dict_test = {}\n",
    "for j in range(21,31):\n",
    "    print(f\"size:{j}\")\n",
    "    T_size = j\n",
    "\n",
    "    for i in range(300,325):      \n",
    "        get_data(i)\n",
    "        for k in range(5):\n",
    "            test()\n",
    "            if dict_test.get(i) is None or dict_test[i] < test_acc:\n",
    "                dict_test[i] = test_acc\n",
    "                \n",
    "                if dict_size.get(j) is None or dict_size[j] < test_acc:\n",
    "                    dict_size[j] = test_acc\n",
    "                    \n",
    "            elif dict_size.get(j) is None or dict_size[j] < test_acc:\n",
    "                    dict_size[j] = test_acc"
   ]
  },
  {
   "cell_type": "code",
   "execution_count": 89,
   "metadata": {},
   "outputs": [
    {
     "name": "stdout",
     "output_type": "stream",
     "text": [
      "\u001b[31m=================Conclusion====================\u001b[0m\n",
      "Dataset:[\u001b[1;31mHAM10000\u001b[0m]\n",
      "Best_Epoch [\u001b[1;31m3788\u001b[0m]\n",
      "[Test] \u001b[31mACC:95.89%\u001b[0m.\n"
     ]
    },
    {
     "data": {
      "text/plain": [
       "[(25, 95.89372277259827), (24, 95.41062712669373)]"
      ]
     },
     "execution_count": 89,
     "metadata": {},
     "output_type": "execute_result"
    }
   ],
   "source": [
    "show.conclusion(img_title=img_title)\n",
    "sorted(dict_size.items(), key=lambda x: x[1], reverse=True)[0:9]"
   ]
  },
  {
   "cell_type": "code",
   "execution_count": 90,
   "metadata": {},
   "outputs": [
    {
     "data": {
      "text/plain": [
       "[(302, 95.89372277259827),\n",
       " (300, 95.41062712669373),\n",
       " (303, 95.28985619544983),\n",
       " (301, 95.16907930374146)]"
      ]
     },
     "execution_count": 90,
     "metadata": {},
     "output_type": "execute_result"
    }
   ],
   "source": [
    "sorted(dict_test.items(), key=lambda x: x[1], reverse=True)[0:9]"
   ]
  },
  {
   "cell_type": "code",
   "execution_count": 91,
   "metadata": {},
   "outputs": [
    {
     "data": {
      "image/png": "[encoded data removed]",
      "text/plain": [
       "<Figure size 576x396 with 1 Axes>"
      ]
     },
     "metadata": {},
     "output_type": "display_data"
    }
   ],
   "source": [
    "draw_size_acc(dict_test,custom_path='./tmp',img_title=img_title,suf=suf)"
   ]
  },
  {
   "cell_type": "code",
   "execution_count": 74,
   "metadata": {},
   "outputs": [
    {
     "name": "stdout",
     "output_type": "stream",
     "text": [
      "+--------+-----------+--------+-------+----------+\n",
      "|  Type  | Precision | Recall |   F1  | Accuracy |\n",
      "+--------+-----------+--------+-------+----------+\n",
      "| akiec  |    0.8    |  0.87  | 0.833 |          |\n",
      "|  bcc   |    0.88   | 0.846  | 0.863 |          |\n",
      "|  bkl   |   0.8939  | 0.894  | 0.894 |          |\n",
      "|   df   |    0.5    |  0.5   |  0.5  |          |\n",
      "|  mel   |   0.9565  | 0.647  | 0.772 |          |\n",
      "|   nv   |   0.9792  | 0.992  | 0.986 |          |\n",
      "|  vasc  |   0.9091  |  1.0   | 0.952 |          |\n",
      "| Total: |           |        |       |  0.9589  |\n",
      "+--------+-----------+--------+-------+----------+\n"
     ]
    }
   ],
   "source": [
    "metrics_scores(test_evl_result,n_classes,cla_dict)"
   ]
  },
  {
   "cell_type": "code",
   "execution_count": 26,
   "metadata": {
    "tags": []
   },
   "outputs": [
    {
     "data": {
      "image/png": "[encoded data removed]",
      "text/plain": [
       "<Figure size 432x288 with 1 Axes>"
      ]
     },
     "metadata": {
      "needs_background": "light"
     },
     "output_type": "display_data"
    }
   ],
   "source": [
    "plt.clf()#clear photo\n",
    "show.train(write=True,custom_path='./tmp',img_title=img_title,suf=suf)"
   ]
  },
  {
   "cell_type": "code",
   "execution_count": 27,
   "metadata": {
    "tags": []
   },
   "outputs": [
    {
     "data": {
      "image/png": "[encoded data removed]",
      "text/plain": [
       "<Figure size 576x396 with 1 Axes>"
      ]
     },
     "metadata": {},
     "output_type": "display_data"
    }
   ],
   "source": [
    "show.train(opt='Acc',write=True,custom_path='./tmp',img_title=img_title,suf=suf)"
   ]
  },
  {
   "cell_type": "code",
   "execution_count": 29,
   "metadata": {
    "tags": []
   },
   "outputs": [],
   "source": [
    "# #save\n",
    "s0 = np.array(train_acc_list)\n",
    "np.save(f'./tmp/{img_title}/{suf}/{img_title}_train_acc_{suf}.npy', s0)\n",
    "s1 = np.array(train_loss_list)\n",
    "np.save(f'./tmp/{img_title}/{suf}/{img_title}_train_loss_{suf}.npy', s1)\n",
    "s2 = np.array(val_acc_list)\n",
    "np.save(f'./tmp/{img_title}/{suf}/{img_title}_val_acc_{suf}.npy', s2)\n",
    "s3 = np.array(test_acc_list)\n",
    "np.save(f'./tmp/{img_title}/{suf}/{img_title}_test_acc_{suf}.npy', s2)"
   ]
  },
  {
   "cell_type": "code",
   "execution_count": 30,
   "metadata": {
    "tags": []
   },
   "outputs": [],
   "source": [
    "torch.cuda.memory.empty_cache()"
   ]
  },
  {
   "cell_type": "code",
   "execution_count": 69,
   "metadata": {
    "scrolled": true,
    "tags": []
   },
   "outputs": [
    {
     "name": "stdout",
     "output_type": "stream",
     "text": [
      "size:24\n",
      "Using 7 classes.\n",
      "using 52911 images for training, 1006 images for validation, 828 images for testing.\n",
      "\u001b[35mHAM10000 ==> test ...\u001b[0m\n"
     ]
    },
    {
     "data": {
      "application/vnd.jupyter.widget-view+json": {
       "model_id": "9fff7b96009d4ae694e583628e7da74e",
       "version_major": 2,
       "version_minor": 0
      },
      "text/plain": [
       "  0%|          | 0/35 [00:00<?, ?it/s]"
      ]
     },
     "metadata": {},
     "output_type": "display_data"
    },
    {
     "name": "stdout",
     "output_type": "stream",
     "text": [
      "test_Acc:\u001b[1;32m94.686%\u001b[0m\n",
      "Best_eval:\u001b[1;32m[95.652%]\u001b[0m\n",
      "\u001b[35mHAM10000 ==> test ...\u001b[0m\n"
     ]
    },
    {
     "data": {
      "application/vnd.jupyter.widget-view+json": {
       "model_id": "1309056b7fc548c5bce59106fabf37bf",
       "version_major": 2,
       "version_minor": 0
      },
      "text/plain": [
       "  0%|          | 0/35 [00:00<?, ?it/s]"
      ]
     },
     "metadata": {},
     "output_type": "display_data"
    },
    {
     "name": "stdout",
     "output_type": "stream",
     "text": [
      "test_Acc:\u001b[1;32m95.048%\u001b[0m\n",
      "Best_eval:\u001b[1;32m[95.652%]\u001b[0m\n",
      "\u001b[35mHAM10000 ==> test ...\u001b[0m\n"
     ]
    },
    {
     "data": {
      "application/vnd.jupyter.widget-view+json": {
       "model_id": "3c01f5409d0d43909791051bc8880f63",
       "version_major": 2,
       "version_minor": 0
      },
      "text/plain": [
       "  0%|          | 0/35 [00:00<?, ?it/s]"
      ]
     },
     "metadata": {},
     "output_type": "display_data"
    },
    {
     "name": "stdout",
     "output_type": "stream",
     "text": [
      "test_Acc:\u001b[1;32m94.444%\u001b[0m\n",
      "Best_eval:\u001b[1;32m[95.652%]\u001b[0m\n",
      "\u001b[35mHAM10000 ==> test ...\u001b[0m\n"
     ]
    },
    {
     "data": {
      "application/vnd.jupyter.widget-view+json": {
       "model_id": "ed1b461329884da592cfd8c4700b62a4",
       "version_major": 2,
       "version_minor": 0
      },
      "text/plain": [
       "  0%|          | 0/35 [00:00<?, ?it/s]"
      ]
     },
     "metadata": {},
     "output_type": "display_data"
    },
    {
     "name": "stdout",
     "output_type": "stream",
     "text": [
      "test_Acc:\u001b[1;32m95.652%\u001b[0m\n",
      "Best_eval:\u001b[1;32m[95.652%]\u001b[0m\n",
      "\u001b[35mHAM10000 ==> test ...\u001b[0m\n"
     ]
    },
    {
     "data": {
      "application/vnd.jupyter.widget-view+json": {
       "model_id": "fa479fd293864018b5ca106606b385da",
       "version_major": 2,
       "version_minor": 0
      },
      "text/plain": [
       "  0%|          | 0/35 [00:00<?, ?it/s]"
      ]
     },
     "metadata": {},
     "output_type": "display_data"
    },
    {
     "name": "stdout",
     "output_type": "stream",
     "text": [
      "test_Acc:\u001b[1;32m94.928%\u001b[0m\n",
      "Best_eval:\u001b[1;32m[95.652%]\u001b[0m\n",
      "Using 7 classes.\n",
      "using 52911 images for training, 1006 images for validation, 828 images for testing.\n",
      "\u001b[35mHAM10000 ==> test ...\u001b[0m\n"
     ]
    },
    {
     "data": {
      "application/vnd.jupyter.widget-view+json": {
       "model_id": "2d96546181ce4b3c85b75eaaa3dd97c1",
       "version_major": 2,
       "version_minor": 0
      },
      "text/plain": [
       "  0%|          | 0/35 [00:00<?, ?it/s]"
      ]
     },
     "metadata": {},
     "output_type": "display_data"
    },
    {
     "name": "stdout",
     "output_type": "stream",
     "text": [
      "test_Acc:\u001b[1;32m95.048%\u001b[0m\n",
      "Best_eval:\u001b[1;32m[95.652%]\u001b[0m\n",
      "\u001b[35mHAM10000 ==> test ...\u001b[0m\n"
     ]
    },
    {
     "data": {
      "application/vnd.jupyter.widget-view+json": {
       "model_id": "97a29c6a7e554f0ca94e706d8423e657",
       "version_major": 2,
       "version_minor": 0
      },
      "text/plain": [
       "  0%|          | 0/35 [00:00<?, ?it/s]"
      ]
     },
     "metadata": {},
     "output_type": "display_data"
    },
    {
     "name": "stdout",
     "output_type": "stream",
     "text": [
      "test_Acc:\u001b[1;32m93.961%\u001b[0m\n",
      "Best_eval:\u001b[1;32m[95.652%]\u001b[0m\n",
      "\u001b[35mHAM10000 ==> test ...\u001b[0m\n"
     ]
    },
    {
     "data": {
      "application/vnd.jupyter.widget-view+json": {
       "model_id": "83d0409ed6ba473eb88e596cc00bfe5c",
       "version_major": 2,
       "version_minor": 0
      },
      "text/plain": [
       "  0%|          | 0/35 [00:00<?, ?it/s]"
      ]
     },
     "metadata": {},
     "output_type": "display_data"
    },
    {
     "name": "stdout",
     "output_type": "stream",
     "text": [
      "test_Acc:\u001b[1;32m94.686%\u001b[0m\n",
      "Best_eval:\u001b[1;32m[95.652%]\u001b[0m\n",
      "\u001b[35mHAM10000 ==> test ...\u001b[0m\n"
     ]
    },
    {
     "data": {
      "application/vnd.jupyter.widget-view+json": {
       "model_id": "04df85314b824cc1bf4efcc7b04a698b",
       "version_major": 2,
       "version_minor": 0
      },
      "text/plain": [
       "  0%|          | 0/35 [00:00<?, ?it/s]"
      ]
     },
     "metadata": {},
     "output_type": "display_data"
    },
    {
     "name": "stdout",
     "output_type": "stream",
     "text": [
      "test_Acc:\u001b[1;32m94.807%\u001b[0m\n",
      "Best_eval:\u001b[1;32m[95.652%]\u001b[0m\n",
      "\u001b[35mHAM10000 ==> test ...\u001b[0m\n"
     ]
    },
    {
     "data": {
      "application/vnd.jupyter.widget-view+json": {
       "model_id": "3e9225ed068c4e70840058d5dc07477f",
       "version_major": 2,
       "version_minor": 0
      },
      "text/plain": [
       "  0%|          | 0/35 [00:00<?, ?it/s]"
      ]
     },
     "metadata": {},
     "output_type": "display_data"
    },
    {
     "name": "stdout",
     "output_type": "stream",
     "text": [
      "test_Acc:\u001b[1;32m94.686%\u001b[0m\n",
      "Best_eval:\u001b[1;32m[95.652%]\u001b[0m\n",
      "Using 7 classes.\n",
      "using 52911 images for training, 1006 images for validation, 828 images for testing.\n",
      "\u001b[35mHAM10000 ==> test ...\u001b[0m\n"
     ]
    },
    {
     "data": {
      "application/vnd.jupyter.widget-view+json": {
       "model_id": "b14076db0c0946e5820a09c4c5ecff0d",
       "version_major": 2,
       "version_minor": 0
      },
      "text/plain": [
       "  0%|          | 0/35 [00:00<?, ?it/s]"
      ]
     },
     "metadata": {},
     "output_type": "display_data"
    },
    {
     "name": "stdout",
     "output_type": "stream",
     "text": [
      "test_Acc:\u001b[1;32m95.29%\u001b[0m\n",
      "Best_eval:\u001b[1;32m[95.652%]\u001b[0m\n",
      "\u001b[35mHAM10000 ==> test ...\u001b[0m\n"
     ]
    },
    {
     "data": {
      "application/vnd.jupyter.widget-view+json": {
       "model_id": "949d5a5d4b7e4851979154f95f1b21de",
       "version_major": 2,
       "version_minor": 0
      },
      "text/plain": [
       "  0%|          | 0/35 [00:00<?, ?it/s]"
      ]
     },
     "metadata": {},
     "output_type": "display_data"
    },
    {
     "name": "stdout",
     "output_type": "stream",
     "text": [
      "test_Acc:\u001b[1;32m94.444%\u001b[0m\n",
      "Best_eval:\u001b[1;32m[95.652%]\u001b[0m\n",
      "\u001b[35mHAM10000 ==> test ...\u001b[0m\n"
     ]
    },
    {
     "data": {
      "application/vnd.jupyter.widget-view+json": {
       "model_id": "6bd0cca49bcc481f9365041791abfa9e",
       "version_major": 2,
       "version_minor": 0
      },
      "text/plain": [
       "  0%|          | 0/35 [00:00<?, ?it/s]"
      ]
     },
     "metadata": {},
     "output_type": "display_data"
    },
    {
     "name": "stdout",
     "output_type": "stream",
     "text": [
      "test_Acc:\u001b[1;32m95.169%\u001b[0m\n",
      "Best_eval:\u001b[1;32m[95.652%]\u001b[0m\n",
      "\u001b[35mHAM10000 ==> test ...\u001b[0m\n"
     ]
    },
    {
     "data": {
      "application/vnd.jupyter.widget-view+json": {
       "model_id": "c2881b51113544e890dabfb74f5ba6cc",
       "version_major": 2,
       "version_minor": 0
      },
      "text/plain": [
       "  0%|          | 0/35 [00:00<?, ?it/s]"
      ]
     },
     "metadata": {},
     "output_type": "display_data"
    },
    {
     "name": "stdout",
     "output_type": "stream",
     "text": [
      "test_Acc:\u001b[1;32m95.048%\u001b[0m\n",
      "Best_eval:\u001b[1;32m[95.652%]\u001b[0m\n",
      "\u001b[35mHAM10000 ==> test ...\u001b[0m\n"
     ]
    },
    {
     "data": {
      "application/vnd.jupyter.widget-view+json": {
       "model_id": "33f435ccef444ee0b59620107cc82fcd",
       "version_major": 2,
       "version_minor": 0
      },
      "text/plain": [
       "  0%|          | 0/35 [00:00<?, ?it/s]"
      ]
     },
     "metadata": {},
     "output_type": "display_data"
    },
    {
     "name": "stdout",
     "output_type": "stream",
     "text": [
      "test_Acc:\u001b[1;32m95.048%\u001b[0m\n",
      "Best_eval:\u001b[1;32m[95.652%]\u001b[0m\n",
      "Using 7 classes.\n",
      "using 52911 images for training, 1006 images for validation, 828 images for testing.\n",
      "\u001b[35mHAM10000 ==> test ...\u001b[0m\n"
     ]
    },
    {
     "data": {
      "application/vnd.jupyter.widget-view+json": {
       "model_id": "463c139c8a3145c7a3d9164dfadb122c",
       "version_major": 2,
       "version_minor": 0
      },
      "text/plain": [
       "  0%|          | 0/35 [00:00<?, ?it/s]"
      ]
     },
     "metadata": {},
     "output_type": "display_data"
    },
    {
     "name": "stdout",
     "output_type": "stream",
     "text": [
      "test_Acc:\u001b[1;32m94.928%\u001b[0m\n",
      "Best_eval:\u001b[1;32m[95.652%]\u001b[0m\n",
      "\u001b[35mHAM10000 ==> test ...\u001b[0m\n"
     ]
    },
    {
     "data": {
      "application/vnd.jupyter.widget-view+json": {
       "model_id": "0b3f336b32364f0b883b73241c2332aa",
       "version_major": 2,
       "version_minor": 0
      },
      "text/plain": [
       "  0%|          | 0/35 [00:00<?, ?it/s]"
      ]
     },
     "metadata": {},
     "output_type": "display_data"
    },
    {
     "name": "stdout",
     "output_type": "stream",
     "text": [
      "test_Acc:\u001b[1;32m94.807%\u001b[0m\n",
      "Best_eval:\u001b[1;32m[95.652%]\u001b[0m\n",
      "\u001b[35mHAM10000 ==> test ...\u001b[0m\n"
     ]
    },
    {
     "data": {
      "application/vnd.jupyter.widget-view+json": {
       "model_id": "cbd8f383d9ce4209955fefcd01885e61",
       "version_major": 2,
       "version_minor": 0
      },
      "text/plain": [
       "  0%|          | 0/35 [00:00<?, ?it/s]"
      ]
     },
     "metadata": {},
     "output_type": "display_data"
    },
    {
     "name": "stdout",
     "output_type": "stream",
     "text": [
      "test_Acc:\u001b[1;32m94.928%\u001b[0m\n",
      "Best_eval:\u001b[1;32m[95.652%]\u001b[0m\n",
      "\u001b[35mHAM10000 ==> test ...\u001b[0m\n"
     ]
    },
    {
     "data": {
      "application/vnd.jupyter.widget-view+json": {
       "model_id": "78ddda46b4da4520826ad9daca7ec37b",
       "version_major": 2,
       "version_minor": 0
      },
      "text/plain": [
       "  0%|          | 0/35 [00:00<?, ?it/s]"
      ]
     },
     "metadata": {},
     "output_type": "display_data"
    },
    {
     "name": "stdout",
     "output_type": "stream",
     "text": [
      "test_Acc:\u001b[1;32m94.686%\u001b[0m\n",
      "Best_eval:\u001b[1;32m[95.652%]\u001b[0m\n",
      "\u001b[35mHAM10000 ==> test ...\u001b[0m\n"
     ]
    },
    {
     "data": {
      "application/vnd.jupyter.widget-view+json": {
       "model_id": "b0ae5af4053b4d40b2b0719590f6437c",
       "version_major": 2,
       "version_minor": 0
      },
      "text/plain": [
       "  0%|          | 0/35 [00:00<?, ?it/s]"
      ]
     },
     "metadata": {},
     "output_type": "display_data"
    },
    {
     "name": "stdout",
     "output_type": "stream",
     "text": [
      "test_Acc:\u001b[1;32m94.324%\u001b[0m\n",
      "Best_eval:\u001b[1;32m[95.652%]\u001b[0m\n",
      "size:25\n",
      "Using 7 classes.\n",
      "using 52911 images for training, 1006 images for validation, 828 images for testing.\n",
      "\u001b[35mHAM10000 ==> test ...\u001b[0m\n"
     ]
    },
    {
     "data": {
      "application/vnd.jupyter.widget-view+json": {
       "model_id": "92523ca57d6d4bf4a85f4ef2b828f75e",
       "version_major": 2,
       "version_minor": 0
      },
      "text/plain": [
       "  0%|          | 0/34 [00:00<?, ?it/s]"
      ]
     },
     "metadata": {},
     "output_type": "display_data"
    },
    {
     "name": "stdout",
     "output_type": "stream",
     "text": [
      "test_Acc:\u001b[1;32m94.807%\u001b[0m\n",
      "Best_eval:\u001b[1;32m[95.652%]\u001b[0m\n",
      "\u001b[35mHAM10000 ==> test ...\u001b[0m\n"
     ]
    },
    {
     "data": {
      "application/vnd.jupyter.widget-view+json": {
       "model_id": "b96954881cf4452db30c95b84e74a05f",
       "version_major": 2,
       "version_minor": 0
      },
      "text/plain": [
       "  0%|          | 0/34 [00:00<?, ?it/s]"
      ]
     },
     "metadata": {},
     "output_type": "display_data"
    },
    {
     "name": "stdout",
     "output_type": "stream",
     "text": [
      "test_Acc:\u001b[1;32m95.411%\u001b[0m\n",
      "Best_eval:\u001b[1;32m[95.652%]\u001b[0m\n",
      "\u001b[35mHAM10000 ==> test ...\u001b[0m\n"
     ]
    },
    {
     "data": {
      "application/vnd.jupyter.widget-view+json": {
       "model_id": "8577b02da1cc4261a55674651ec554b1",
       "version_major": 2,
       "version_minor": 0
      },
      "text/plain": [
       "  0%|          | 0/34 [00:00<?, ?it/s]"
      ]
     },
     "metadata": {},
     "output_type": "display_data"
    },
    {
     "name": "stdout",
     "output_type": "stream",
     "text": [
      "test_Acc:\u001b[1;32m95.048%\u001b[0m\n",
      "Best_eval:\u001b[1;32m[95.652%]\u001b[0m\n",
      "\u001b[35mHAM10000 ==> test ...\u001b[0m\n"
     ]
    },
    {
     "data": {
      "application/vnd.jupyter.widget-view+json": {
       "model_id": "8e145f81c6ce4b92b3c0431bb2508795",
       "version_major": 2,
       "version_minor": 0
      },
      "text/plain": [
       "  0%|          | 0/34 [00:00<?, ?it/s]"
      ]
     },
     "metadata": {},
     "output_type": "display_data"
    },
    {
     "name": "stdout",
     "output_type": "stream",
     "text": [
      "test_Acc:\u001b[1;32m95.048%\u001b[0m\n",
      "Best_eval:\u001b[1;32m[95.652%]\u001b[0m\n",
      "\u001b[35mHAM10000 ==> test ...\u001b[0m\n"
     ]
    },
    {
     "data": {
      "application/vnd.jupyter.widget-view+json": {
       "model_id": "e058c094b0864684afdb7c1b3143d424",
       "version_major": 2,
       "version_minor": 0
      },
      "text/plain": [
       "  0%|          | 0/34 [00:00<?, ?it/s]"
      ]
     },
     "metadata": {},
     "output_type": "display_data"
    },
    {
     "name": "stdout",
     "output_type": "stream",
     "text": [
      "test_Acc:\u001b[1;32m94.686%\u001b[0m\n",
      "Best_eval:\u001b[1;32m[95.652%]\u001b[0m\n",
      "Using 7 classes.\n",
      "using 52911 images for training, 1006 images for validation, 828 images for testing.\n",
      "\u001b[35mHAM10000 ==> test ...\u001b[0m\n"
     ]
    },
    {
     "data": {
      "application/vnd.jupyter.widget-view+json": {
       "model_id": "5769aac4ef4041768c06a7f1355527ff",
       "version_major": 2,
       "version_minor": 0
      },
      "text/plain": [
       "  0%|          | 0/34 [00:00<?, ?it/s]"
      ]
     },
     "metadata": {},
     "output_type": "display_data"
    },
    {
     "name": "stdout",
     "output_type": "stream",
     "text": [
      "test_Acc:\u001b[1;32m94.928%\u001b[0m\n",
      "Best_eval:\u001b[1;32m[95.652%]\u001b[0m\n",
      "\u001b[35mHAM10000 ==> test ...\u001b[0m\n"
     ]
    },
    {
     "data": {
      "application/vnd.jupyter.widget-view+json": {
       "model_id": "4b64eb402b664f5db740ee0684bffd07",
       "version_major": 2,
       "version_minor": 0
      },
      "text/plain": [
       "  0%|          | 0/34 [00:00<?, ?it/s]"
      ]
     },
     "metadata": {},
     "output_type": "display_data"
    },
    {
     "name": "stdout",
     "output_type": "stream",
     "text": [
      "test_Acc:\u001b[1;32m94.444%\u001b[0m\n",
      "Best_eval:\u001b[1;32m[95.652%]\u001b[0m\n",
      "\u001b[35mHAM10000 ==> test ...\u001b[0m\n"
     ]
    },
    {
     "data": {
      "application/vnd.jupyter.widget-view+json": {
       "model_id": "f6ba6439417148138aab2db37d1a0f00",
       "version_major": 2,
       "version_minor": 0
      },
      "text/plain": [
       "  0%|          | 0/34 [00:00<?, ?it/s]"
      ]
     },
     "metadata": {},
     "output_type": "display_data"
    },
    {
     "name": "stdout",
     "output_type": "stream",
     "text": [
      "test_Acc:\u001b[1;32m94.686%\u001b[0m\n",
      "Best_eval:\u001b[1;32m[95.652%]\u001b[0m\n",
      "\u001b[35mHAM10000 ==> test ...\u001b[0m\n"
     ]
    },
    {
     "data": {
      "application/vnd.jupyter.widget-view+json": {
       "model_id": "c97cec75cb704c328aeffcae8e32b95f",
       "version_major": 2,
       "version_minor": 0
      },
      "text/plain": [
       "  0%|          | 0/34 [00:00<?, ?it/s]"
      ]
     },
     "metadata": {},
     "output_type": "display_data"
    },
    {
     "name": "stdout",
     "output_type": "stream",
     "text": [
      "test_Acc:\u001b[1;32m94.686%\u001b[0m\n",
      "Best_eval:\u001b[1;32m[95.652%]\u001b[0m\n",
      "\u001b[35mHAM10000 ==> test ...\u001b[0m\n"
     ]
    },
    {
     "data": {
      "application/vnd.jupyter.widget-view+json": {
       "model_id": "1c04e5115a8a4f148640dead0aaadb5a",
       "version_major": 2,
       "version_minor": 0
      },
      "text/plain": [
       "  0%|          | 0/34 [00:00<?, ?it/s]"
      ]
     },
     "metadata": {},
     "output_type": "display_data"
    },
    {
     "name": "stdout",
     "output_type": "stream",
     "text": [
      "test_Acc:\u001b[1;32m95.169%\u001b[0m\n",
      "Best_eval:\u001b[1;32m[95.652%]\u001b[0m\n",
      "Using 7 classes.\n",
      "using 52911 images for training, 1006 images for validation, 828 images for testing.\n",
      "\u001b[35mHAM10000 ==> test ...\u001b[0m\n"
     ]
    },
    {
     "data": {
      "application/vnd.jupyter.widget-view+json": {
       "model_id": "c2e801f6b4f4448291e79bb2186c4995",
       "version_major": 2,
       "version_minor": 0
      },
      "text/plain": [
       "  0%|          | 0/34 [00:00<?, ?it/s]"
      ]
     },
     "metadata": {},
     "output_type": "display_data"
    },
    {
     "name": "stdout",
     "output_type": "stream",
     "text": [
      "test_Acc:\u001b[1;32m95.048%\u001b[0m\n",
      "Best_eval:\u001b[1;32m[95.652%]\u001b[0m\n",
      "\u001b[35mHAM10000 ==> test ...\u001b[0m\n"
     ]
    },
    {
     "data": {
      "application/vnd.jupyter.widget-view+json": {
       "model_id": "6aa6d8eec1e446ef9fa4dc67e32976a2",
       "version_major": 2,
       "version_minor": 0
      },
      "text/plain": [
       "  0%|          | 0/34 [00:00<?, ?it/s]"
      ]
     },
     "metadata": {},
     "output_type": "display_data"
    },
    {
     "name": "stdout",
     "output_type": "stream",
     "text": [
      "test_Acc:\u001b[1;32m94.928%\u001b[0m\n",
      "Best_eval:\u001b[1;32m[95.652%]\u001b[0m\n",
      "\u001b[35mHAM10000 ==> test ...\u001b[0m\n"
     ]
    },
    {
     "data": {
      "application/vnd.jupyter.widget-view+json": {
       "model_id": "c83303512b034981be6c76ea65840bec",
       "version_major": 2,
       "version_minor": 0
      },
      "text/plain": [
       "  0%|          | 0/34 [00:00<?, ?it/s]"
      ]
     },
     "metadata": {},
     "output_type": "display_data"
    },
    {
     "name": "stdout",
     "output_type": "stream",
     "text": [
      "test_Acc:\u001b[1;32m94.203%\u001b[0m\n",
      "Best_eval:\u001b[1;32m[95.652%]\u001b[0m\n",
      "\u001b[35mHAM10000 ==> test ...\u001b[0m\n"
     ]
    },
    {
     "data": {
      "application/vnd.jupyter.widget-view+json": {
       "model_id": "e21d557cfacd40bf8f6cbdbe47471b06",
       "version_major": 2,
       "version_minor": 0
      },
      "text/plain": [
       "  0%|          | 0/34 [00:00<?, ?it/s]"
      ]
     },
     "metadata": {},
     "output_type": "display_data"
    },
    {
     "name": "stdout",
     "output_type": "stream",
     "text": [
      "test_Acc:\u001b[1;32m95.048%\u001b[0m\n",
      "Best_eval:\u001b[1;32m[95.652%]\u001b[0m\n",
      "\u001b[35mHAM10000 ==> test ...\u001b[0m\n"
     ]
    },
    {
     "data": {
      "application/vnd.jupyter.widget-view+json": {
       "model_id": "879c5912d8a34c009ebe23e9af9d9682",
       "version_major": 2,
       "version_minor": 0
      },
      "text/plain": [
       "  0%|          | 0/34 [00:00<?, ?it/s]"
      ]
     },
     "metadata": {},
     "output_type": "display_data"
    },
    {
     "name": "stdout",
     "output_type": "stream",
     "text": [
      "test_Acc:\u001b[1;32m94.444%\u001b[0m\n",
      "Best_eval:\u001b[1;32m[95.652%]\u001b[0m\n",
      "Using 7 classes.\n",
      "using 52911 images for training, 1006 images for validation, 828 images for testing.\n",
      "\u001b[35mHAM10000 ==> test ...\u001b[0m\n"
     ]
    },
    {
     "data": {
      "application/vnd.jupyter.widget-view+json": {
       "model_id": "24b4090bec124511b92d57cd99993503",
       "version_major": 2,
       "version_minor": 0
      },
      "text/plain": [
       "  0%|          | 0/34 [00:00<?, ?it/s]"
      ]
     },
     "metadata": {},
     "output_type": "display_data"
    },
    {
     "name": "stdout",
     "output_type": "stream",
     "text": [
      "test_Acc:\u001b[1;32m95.169%\u001b[0m\n",
      "Best_eval:\u001b[1;32m[95.652%]\u001b[0m\n",
      "\u001b[35mHAM10000 ==> test ...\u001b[0m\n"
     ]
    },
    {
     "data": {
      "application/vnd.jupyter.widget-view+json": {
       "model_id": "131f585d3e994066bf0e10dfe985ac2c",
       "version_major": 2,
       "version_minor": 0
      },
      "text/plain": [
       "  0%|          | 0/34 [00:00<?, ?it/s]"
      ]
     },
     "metadata": {},
     "output_type": "display_data"
    },
    {
     "name": "stdout",
     "output_type": "stream",
     "text": [
      "test_Acc:\u001b[1;32m95.169%\u001b[0m\n",
      "Best_eval:\u001b[1;32m[95.652%]\u001b[0m\n",
      "\u001b[35mHAM10000 ==> test ...\u001b[0m\n"
     ]
    },
    {
     "data": {
      "application/vnd.jupyter.widget-view+json": {
       "model_id": "89fdff030eb54bdb88da793c9f47e4c1",
       "version_major": 2,
       "version_minor": 0
      },
      "text/plain": [
       "  0%|          | 0/34 [00:00<?, ?it/s]"
      ]
     },
     "metadata": {},
     "output_type": "display_data"
    },
    {
     "name": "stdout",
     "output_type": "stream",
     "text": [
      "test_Acc:\u001b[1;32m95.411%\u001b[0m\n",
      "Best_eval:\u001b[1;32m[95.652%]\u001b[0m\n",
      "\u001b[35mHAM10000 ==> test ...\u001b[0m\n"
     ]
    },
    {
     "data": {
      "application/vnd.jupyter.widget-view+json": {
       "model_id": "b5313a6c02eb4b76adef3bc7b9d98930",
       "version_major": 2,
       "version_minor": 0
      },
      "text/plain": [
       "  0%|          | 0/34 [00:00<?, ?it/s]"
      ]
     },
     "metadata": {},
     "output_type": "display_data"
    },
    {
     "name": "stdout",
     "output_type": "stream",
     "text": [
      "test_Acc:\u001b[1;32m95.894%\u001b[0m\n",
      "Best_eval:\u001b[1;32m[95.894%]\u001b[0m\n",
      "\u001b[35mHAM10000 ==> test ...\u001b[0m\n"
     ]
    },
    {
     "data": {
      "application/vnd.jupyter.widget-view+json": {
       "model_id": "4843f1aaa5b84c02af343ecf303ebf06",
       "version_major": 2,
       "version_minor": 0
      },
      "text/plain": [
       "  0%|          | 0/34 [00:00<?, ?it/s]"
      ]
     },
     "metadata": {},
     "output_type": "display_data"
    },
    {
     "name": "stdout",
     "output_type": "stream",
     "text": [
      "test_Acc:\u001b[1;32m94.324%\u001b[0m\n",
      "Best_eval:\u001b[1;32m[95.894%]\u001b[0m\n"
     ]
    }
   ],
   "source": [
    "# network.load_state_dict(torch.load(save_PATH))\n",
    "# dict_batch ={}\n",
    "# dict_img = {}\n",
    "# for j in range(24,26):\n",
    "#     print(f\"size:{j}\")\n",
    "#     T_size = j\n",
    "\n",
    "#     for i in range(300,304):      \n",
    "#         get_data(i)\n",
    "#         for k in range(5):\n",
    "#             test()\n",
    "#             if dict_img.get(i) is None or dict_img[i] < test_acc:\n",
    "#                 dict_img[i] = test_acc\n",
    "                \n",
    "#                 if dict_batch.get(j) is None or dict_batch[j] < test_acc:\n",
    "#                     dict_batch[j] = test_acc"
   ]
  },
  {
   "cell_type": "code",
   "execution_count": 72,
   "metadata": {},
   "outputs": [
    {
     "name": "stdout",
     "output_type": "stream",
     "text": [
      "\u001b[31m=================Conclusion====================\u001b[0m\n",
      "Dataset:[\u001b[1;31mHAM10000\u001b[0m]\n",
      "Best_Epoch [\u001b[1;31m3788\u001b[0m]\n",
      "[Test] \u001b[31mACC:95.89%\u001b[0m.\n"
     ]
    },
    {
     "data": {
      "text/plain": [
       "[(25, 95.89372277259827), (24, 95.652174949646)]"
      ]
     },
     "execution_count": 72,
     "metadata": {},
     "output_type": "execute_result"
    }
   ],
   "source": [
    "# show.conclusion(img_title=img_title)\n",
    "# sorted(dict_batch.items(), key=lambda x: x[1], reverse=True)[0:9]"
   ]
  },
  {
   "cell_type": "code",
   "execution_count": 73,
   "metadata": {},
   "outputs": [
    {
     "data": {
      "text/plain": [
       "[(303, 95.89372277259827),\n",
       " (300, 95.652174949646),\n",
       " (302, 95.28985619544983),\n",
       " (301, 95.16907930374146)]"
      ]
     },
     "execution_count": 73,
     "metadata": {},
     "output_type": "execute_result"
    }
   ],
   "source": [
    "# sorted(dict_img.items(), key=lambda x: x[1], reverse=True)[0:9]"
   ]
  },
  {
   "cell_type": "code",
   "execution_count": null,
   "metadata": {
    "tags": []
   },
   "outputs": [],
   "source": [
    "# show.conclusion(img_title=img_title)\n",
    "# sorted(test_dict.items(), key=lambda x: x[1], reverse=True)[0:9]"
   ]
  },
  {
   "cell_type": "code",
   "execution_count": 92,
   "metadata": {},
   "outputs": [
    {
     "name": "stdout",
     "output_type": "stream",
     "text": [
      "+--------+-----------+--------+-------+----------+\n",
      "|  Type  | Precision | Recall |   F1  | Accuracy |\n",
      "+--------+-----------+--------+-------+----------+\n",
      "| akiec  |    0.8    |  0.87  | 0.833 |          |\n",
      "|  bcc   |    0.88   | 0.846  | 0.863 |          |\n",
      "|  bkl   |   0.8939  | 0.894  | 0.894 |          |\n",
      "|   df   |    0.5    |  0.5   |  0.5  |          |\n",
      "|  mel   |   0.9565  | 0.647  | 0.772 |          |\n",
      "|   nv   |   0.9792  | 0.992  | 0.986 |          |\n",
      "|  vasc  |   0.9091  |  1.0   | 0.952 |          |\n",
      "| Total: |           |        |       |  0.9589  |\n",
      "+--------+-----------+--------+-------+----------+\n"
     ]
    }
   ],
   "source": [
    "metrics_scores(test_evl_result,n_classes,cla_dict)"
   ]
  },
  {
   "cell_type": "code",
   "execution_count": null,
   "metadata": {},
   "outputs": [],
   "source": [
    "# confusion_matrix(test_evl_result,n_classes,cla_dict,test_dataset,img_title=img_title,suf=suf)"
   ]
  }
 ],
 "metadata": {
  "kernelspec": {
   "display_name": "PyTorch 1.8",
   "language": "python",
   "name": "torch1.8"
  },
  "language_info": {
   "codemirror_mode": {
    "name": "ipython",
    "version": 3
   },
   "file_extension": ".py",
   "mimetype": "text/x-python",
   "name": "python",
   "nbconvert_exporter": "python",
   "pygments_lexer": "ipython3",
   "version": "3.9.7"
  },
  "toc-autonumbering": true,
  "toc-showmarkdowntxt": true
 },
 "nbformat": 4,
 "nbformat_minor": 4
}
