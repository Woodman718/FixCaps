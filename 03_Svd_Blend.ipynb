{
 "cells": [
  {
   "cell_type": "code",
   "execution_count": 1,
   "id": "dcdc5fb4-c6f4-421a-ba5e-7066b5813532",
   "metadata": {
    "execution": {
     "iopub.execute_input": "2022-05-29T23:21:35.356660Z",
     "iopub.status.busy": "2022-05-29T23:21:35.355997Z",
     "iopub.status.idle": "2022-05-29T23:21:37.378533Z",
     "shell.execute_reply": "2022-05-29T23:21:37.376785Z",
     "shell.execute_reply.started": "2022-05-29T23:21:35.356492Z"
    },
    "tags": []
   },
   "outputs": [],
   "source": [
    "import matplotlib.pyplot as plt\n",
    "import numpy as np\n",
    "import pandas as pd\n",
    "from PIL import Image\n",
    "from pathlib import Path\n",
    "import os\n",
    "from shutil import copy, rmtree, move\n",
    "import random\n",
    "import cv2"
   ]
  },
  {
   "cell_type": "code",
   "execution_count": 2,
   "id": "e8c7c76b-7fec-45bf-bb2a-e1b518eb65f4",
   "metadata": {
    "execution": {
     "iopub.execute_input": "2022-05-29T23:21:37.382475Z",
     "iopub.status.busy": "2022-05-29T23:21:37.381986Z",
     "iopub.status.idle": "2022-05-29T23:21:37.389432Z",
     "shell.execute_reply": "2022-05-29T23:21:37.388765Z",
     "shell.execute_reply.started": "2022-05-29T23:21:37.382414Z"
    },
    "tags": []
   },
   "outputs": [],
   "source": [
    "def display(image):\n",
    "    fig=plt.figure(figsize=(4,3))\n",
    "    ax=fig.add_subplot(111)\n",
    "    ax.imshow(image)"
   ]
  },
  {
   "cell_type": "code",
   "execution_count": 3,
   "id": "986b8f03-cddc-4018-8797-fa3e3a8cb522",
   "metadata": {
    "execution": {
     "iopub.execute_input": "2022-05-29T23:21:37.390967Z",
     "iopub.status.busy": "2022-05-29T23:21:37.390502Z",
     "iopub.status.idle": "2022-05-29T23:21:37.395251Z",
     "shell.execute_reply": "2022-05-29T23:21:37.394534Z",
     "shell.execute_reply.started": "2022-05-29T23:21:37.390939Z"
    },
    "tags": []
   },
   "outputs": [],
   "source": [
    "def img_bgr(image):\n",
    "    (B,G,R) = cv2.split(image)\n",
    "    return B,G,R"
   ]
  },
  {
   "cell_type": "code",
   "execution_count": 4,
   "id": "2964b2c8-35c2-418a-8a8b-cb725347668f",
   "metadata": {
    "execution": {
     "iopub.execute_input": "2022-05-29T23:21:40.998591Z",
     "iopub.status.busy": "2022-05-29T23:21:40.998088Z",
     "iopub.status.idle": "2022-05-29T23:21:41.007056Z",
     "shell.execute_reply": "2022-05-29T23:21:41.005372Z",
     "shell.execute_reply.started": "2022-05-29T23:21:40.998532Z"
    },
    "tags": []
   },
   "outputs": [],
   "source": [
    "def img_rotate(img,ro=15,savepath=\"Rotated.jpg\"):\n",
    "    rotated = imutils.rotate_bound(img, ro)\n",
    "    cv2.imwrite(savepath,rotated)"
   ]
  },
  {
   "cell_type": "code",
   "execution_count": 5,
   "id": "79a1f51b-7008-4766-b526-31c4a280cffd",
   "metadata": {
    "execution": {
     "iopub.execute_input": "2022-05-29T23:21:41.229360Z",
     "iopub.status.busy": "2022-05-29T23:21:41.228870Z",
     "iopub.status.idle": "2022-05-29T23:21:41.236964Z",
     "shell.execute_reply": "2022-05-29T23:21:41.235217Z",
     "shell.execute_reply.started": "2022-05-29T23:21:41.229303Z"
    },
    "tags": []
   },
   "outputs": [],
   "source": [
    "def img_rgb(image):\n",
    "    image = cv2.cvtColor(image,cv2.COLOR_BGR2RGB)\n",
    "    return image"
   ]
  },
  {
   "cell_type": "code",
   "execution_count": 6,
   "id": "33a57f40-fca3-4516-8074-378adf342c71",
   "metadata": {
    "execution": {
     "iopub.execute_input": "2022-05-29T23:21:41.420706Z",
     "iopub.status.busy": "2022-05-29T23:21:41.420228Z",
     "iopub.status.idle": "2022-05-29T23:21:41.430098Z",
     "shell.execute_reply": "2022-05-29T23:21:41.428743Z",
     "shell.execute_reply.started": "2022-05-29T23:21:41.420649Z"
    },
    "tags": []
   },
   "outputs": [],
   "source": [
    "def img_svd(img,k=90):\n",
    "    u,s,v = np.linalg.svd(img,full_matrices=0)\n",
    "    img = np.dot(u[:,:k]*s[:k],v[:k,:]).astype(np.uint8)\n",
    "    return img"
   ]
  },
  {
   "cell_type": "code",
   "execution_count": 7,
   "id": "1c6f7ce3-b7aa-4ff9-b743-bde331e8bc09",
   "metadata": {
    "execution": {
     "iopub.execute_input": "2022-05-29T23:21:41.676972Z",
     "iopub.status.busy": "2022-05-29T23:21:41.676496Z",
     "iopub.status.idle": "2022-05-29T23:21:41.684519Z",
     "shell.execute_reply": "2022-05-29T23:21:41.682971Z",
     "shell.execute_reply.started": "2022-05-29T23:21:41.676917Z"
    },
    "tags": []
   },
   "outputs": [],
   "source": [
    "def img_merged(B,G,R):\n",
    "    merged = cv2.merge([B,G,R])\n",
    "    return merged"
   ]
  },
  {
   "cell_type": "code",
   "execution_count": 8,
   "id": "215b13da-8500-4192-ba55-ef13a28fa51e",
   "metadata": {
    "execution": {
     "iopub.execute_input": "2022-05-29T23:21:43.774142Z",
     "iopub.status.busy": "2022-05-29T23:21:43.773539Z",
     "iopub.status.idle": "2022-05-29T23:21:43.782999Z",
     "shell.execute_reply": "2022-05-29T23:21:43.781394Z",
     "shell.execute_reply.started": "2022-05-29T23:21:43.774078Z"
    },
    "tags": []
   },
   "outputs": [],
   "source": [
    "def mk_file(file_path: str):\n",
    "    if os.path.exists(file_path):\n",
    "        # 如果文件夹存在，则先删除原文件夹在重新创建\n",
    "        rmtree(file_path)\n",
    "    os.makedirs(file_path)"
   ]
  },
  {
   "cell_type": "code",
   "execution_count": 9,
   "id": "0396d905-e9fc-4c50-99e0-1a8d04c58cc0",
   "metadata": {
    "execution": {
     "iopub.execute_input": "2022-05-29T23:21:59.975769Z",
     "iopub.status.busy": "2022-05-29T23:21:59.975223Z",
     "iopub.status.idle": "2022-05-29T23:21:59.985509Z",
     "shell.execute_reply": "2022-05-29T23:21:59.984012Z",
     "shell.execute_reply.started": "2022-05-29T23:21:59.975707Z"
    },
    "tags": []
   },
   "outputs": [],
   "source": [
    "# 指向源图的文件夹\n",
    "cwd = os.getcwd()\n",
    "data_root = os.path.abspath(os.path.join(cwd))\n",
    "origin_data_path = os.path.join(data_root, \"test525\")\n",
    "assert os.path.exists(origin_data_path), \"path '{}' does not exist.\".format(origin_data_path)"
   ]
  },
  {
   "cell_type": "code",
   "execution_count": 11,
   "id": "df34e0c8-6a5b-4868-8b91-a1117fdba7db",
   "metadata": {
    "execution": {
     "iopub.execute_input": "2022-05-29T23:22:37.608059Z",
     "iopub.status.busy": "2022-05-29T23:22:37.607561Z",
     "iopub.status.idle": "2022-05-29T23:22:37.616488Z",
     "shell.execute_reply": "2022-05-29T23:22:37.614945Z",
     "shell.execute_reply.started": "2022-05-29T23:22:37.607999Z"
    },
    "tags": []
   },
   "outputs": [],
   "source": [
    "data_class = [cla for cla in os.listdir(origin_data_path)\n",
    "                if os.path.isdir(os.path.join(origin_data_path, cla))]"
   ]
  },
  {
   "cell_type": "code",
   "execution_count": 12,
   "id": "0c256778-3e68-4857-b0f0-b58320abd8fb",
   "metadata": {
    "execution": {
     "iopub.execute_input": "2022-05-29T23:22:38.012615Z",
     "iopub.status.busy": "2022-05-29T23:22:38.012134Z",
     "iopub.status.idle": "2022-05-29T23:22:38.022713Z",
     "shell.execute_reply": "2022-05-29T23:22:38.021606Z",
     "shell.execute_reply.started": "2022-05-29T23:22:38.012558Z"
    },
    "tags": []
   },
   "outputs": [],
   "source": [
    "# 建立保存的文件夹\n",
    "train_root = os.path.join(data_root,\"r90_test525\")\n",
    "mk_file(train_root)\n",
    "for cla in data_class:\n",
    "    # 建立每个类别对应的文件夹\n",
    "    mk_file(os.path.join(train_root, cla))"
   ]
  },
  {
   "cell_type": "code",
   "execution_count": 13,
   "id": "f1eb1a97-2414-4057-94ce-3257d9a98133",
   "metadata": {
    "execution": {
     "iopub.execute_input": "2022-05-29T23:22:50.478696Z",
     "iopub.status.busy": "2022-05-29T23:22:50.478218Z",
     "iopub.status.idle": "2022-05-29T23:26:28.887221Z",
     "shell.execute_reply": "2022-05-29T23:26:28.886319Z",
     "shell.execute_reply.started": "2022-05-29T23:22:50.478640Z"
    },
    "scrolled": true,
    "tags": []
   },
   "outputs": [
    {
     "name": "stdout",
     "output_type": "stream",
     "text": [
      "[vasc] processing [10/10]\n",
      "[nv] processing [663/663]\n",
      "[bkl] processing [66/66]\n",
      "[akiec] processing [23/23]\n",
      "[mel] processing [34/34]\n",
      "[df] processing [6/6]\n",
      "[bcc] processing [26/26]\n",
      "processing 828 done!\n"
     ]
    }
   ],
   "source": [
    "#SVD\n",
    "total_num = 0\n",
    "for cla in data_class:\n",
    "    cla_path = os.path.join(origin_data_path, cla)\n",
    "    images = os.listdir(cla_path)\n",
    "    num = len(images)\n",
    "    total_num += num\n",
    "    for index, image in enumerate(images):\n",
    "        image_path = os.path.join(cla_path, image)\n",
    "        img_name = image_path.split('/')[-1].split(\".\")[0]\n",
    "        savepath = os.path.join(train_root, cla,img_name + \".jpg\")\n",
    "\n",
    "        img = cv2.imread(image_path)\n",
    "        B,G,R = img_bgr(img)\n",
    "        b = img_svd(B)\n",
    "        g = img_svd(G)\n",
    "        r = img_svd(R)\n",
    "        img = img_merged(b,g,r)\n",
    "        #png\n",
    "        # cv2.imwrite(savepath,img, [int(cv2.IMWRITE_PNG_COMPRESSION), 1])\n",
    "        #jpg\n",
    "        cv2.imwrite(savepath,img,[int(cv2.IMWRITE_JPEG_QUALITY),100])\n",
    " \n",
    " \n",
    "        print(\"\\r[{}] processing [{}/{}]\".format(cla, index+1, num), end=\"\")  # processing bar\n",
    "    # break\n",
    "    print()\n",
    "\n",
    "print(f\"processing {total_num} done!\")"
   ]
  },
  {
   "cell_type": "code",
   "execution_count": 6,
   "id": "16a18bad-ca83-422e-a81d-1fa90ee55ad1",
   "metadata": {
    "execution": {
     "iopub.execute_input": "2022-04-16T03:29:10.338009Z",
     "iopub.status.busy": "2022-04-16T03:29:10.337501Z",
     "iopub.status.idle": "2022-04-16T03:29:10.353932Z",
     "shell.execute_reply": "2022-04-16T03:29:10.353015Z",
     "shell.execute_reply.started": "2022-04-16T03:29:10.337948Z"
    }
   },
   "outputs": [],
   "source": [
    "# # Image segmentation\n",
    "# ham = os.listdir(\"HAM10000/\")\n",
    "# ham_dir = \"./HAM10000\""
   ]
  },
  {
   "cell_type": "code",
   "execution_count": null,
   "id": "c90d3492-01ed-4538-a825-0839c60d4107",
   "metadata": {
    "tags": []
   },
   "outputs": [],
   "source": [
    "# for cla in data_class:\n",
    "#     cla_path = os.path.join(origin_data_path, cla)\n",
    "#     images = os.listdir(cla_path)\n",
    "#     num = len(images)\n",
    "\n",
    "#     for index, image in enumerate(images):\n",
    "#         image_path = os.path.join(cla_path, image)\n",
    "#         img_name = image_path.split('/')[-1].split(\".\")[0]\n",
    "#         seg_name = img_name + \"_segmentation.png\"\n",
    "#         seg_file = os.path.join(ham_dir,seg_name)\n",
    "#         img1 = Image.open(seg_file)\n",
    "#         img1 = img1.convert('RGB')\n",
    "#         img2 = Image.open(image_path)\n",
    "#         img2 = img2.convert('RGB')\n",
    "#         img = Image.blend(img1, img2, 1.36)\n",
    "#         new_path = os.path.join(train_root, cla,image_path.split('/')[-1])\n",
    "#         img.save(new_path)\n",
    "        \n",
    "#         print(\"\\r[{}] processing [{}/{}]\".format(cla, index+1, num), end=\"\")  # processing bar\n",
    "#     print()\n",
    "\n",
    "# print(\"processing done!\")"
   ]
  },
  {
   "cell_type": "code",
   "execution_count": null,
   "id": "ddaacae6-0c83-4283-9e13-402e1712d63b",
   "metadata": {},
   "outputs": [],
   "source": []
  }
 ],
 "metadata": {
  "kernelspec": {
   "display_name": "Python 3 (ipykernel)",
   "language": "python",
   "name": "python3"
  },
  "language_info": {
   "codemirror_mode": {
    "name": "ipython",
    "version": 3
   },
   "file_extension": ".py",
   "mimetype": "text/x-python",
   "name": "python",
   "nbconvert_exporter": "python",
   "pygments_lexer": "ipython3",
   "version": "3.8.11"
  }
 },
 "nbformat": 4,
 "nbformat_minor": 5
}
