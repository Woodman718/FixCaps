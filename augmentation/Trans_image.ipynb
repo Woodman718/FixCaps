{
 "cells": [
  {
   "cell_type": "code",
   "execution_count": 1,
   "id": "dcdc5fb4-c6f4-421a-ba5e-7066b5813532",
   "metadata": {
    "execution": {
     "iopub.execute_input": "2022-06-19T09:36:49.791205Z",
     "iopub.status.busy": "2022-06-19T09:36:49.790340Z",
     "iopub.status.idle": "2022-06-19T09:36:50.726308Z",
     "shell.execute_reply": "2022-06-19T09:36:50.725409Z",
     "shell.execute_reply.started": "2022-06-19T09:36:49.791103Z"
    },
    "tags": []
   },
   "outputs": [],
   "source": [
    "import matplotlib.pyplot as plt\n",
    "import numpy as np\n",
    "import pandas as pd\n",
    "from PIL import Image\n",
    "from pathlib import Path\n",
    "import os\n",
    "from shutil import copy, rmtree, move\n",
    "import random\n",
    "import cv2"
   ]
  },
  {
   "cell_type": "code",
   "execution_count": 2,
   "id": "215b13da-8500-4192-ba55-ef13a28fa51e",
   "metadata": {
    "execution": {
     "iopub.execute_input": "2022-06-19T09:36:50.727774Z",
     "iopub.status.busy": "2022-06-19T09:36:50.727545Z",
     "iopub.status.idle": "2022-06-19T09:36:50.732818Z",
     "shell.execute_reply": "2022-06-19T09:36:50.731987Z",
     "shell.execute_reply.started": "2022-06-19T09:36:50.727745Z"
    },
    "tags": []
   },
   "outputs": [],
   "source": [
    "def mk_file(file_path: str):\n",
    "    if os.path.exists(file_path):\n",
    "        #Note: 如果文件夹存在，则先删除原文件夹,再重新创建\n",
    "        rmtree(file_path)\n",
    "    os.makedirs(file_path)"
   ]
  },
  {
   "cell_type": "code",
   "execution_count": 3,
   "id": "0396d905-e9fc-4c50-99e0-1a8d04c58cc0",
   "metadata": {
    "execution": {
     "iopub.execute_input": "2022-06-19T09:36:55.486917Z",
     "iopub.status.busy": "2022-06-19T09:36:55.486407Z",
     "iopub.status.idle": "2022-06-19T09:36:55.496438Z",
     "shell.execute_reply": "2022-06-19T09:36:55.494698Z",
     "shell.execute_reply.started": "2022-06-19T09:36:55.486832Z"
    },
    "tags": []
   },
   "outputs": [],
   "source": [
    "# 指向sou的文件夹\n",
    "cwd = os.getcwd()\n",
    "data_root = os.path.abspath(os.path.join(cwd))\n",
    "origin_data_path = os.path.join(data_root, \"val525e8\")\n",
    "assert os.path.exists(origin_data_path), \"path '{}' does not exist.\".format(origin_data_path)"
   ]
  },
  {
   "cell_type": "code",
   "execution_count": 4,
   "id": "df34e0c8-6a5b-4868-8b91-a1117fdba7db",
   "metadata": {
    "execution": {
     "iopub.execute_input": "2022-06-19T09:36:56.244156Z",
     "iopub.status.busy": "2022-06-19T09:36:56.243676Z",
     "iopub.status.idle": "2022-06-19T09:36:56.261795Z",
     "shell.execute_reply": "2022-06-19T09:36:56.260531Z",
     "shell.execute_reply.started": "2022-06-19T09:36:56.244098Z"
    },
    "tags": []
   },
   "outputs": [
    {
     "data": {
      "text/plain": [
       "['vasc', 'nv', 'bkl', 'akiec', 'mel', 'df', 'bcc']"
      ]
     },
     "execution_count": 4,
     "metadata": {},
     "output_type": "execute_result"
    }
   ],
   "source": [
    "data_class = [cla for cla in os.listdir(origin_data_path)\n",
    "                if os.path.isdir(os.path.join(origin_data_path, cla))]\n",
    "data_class"
   ]
  },
  {
   "cell_type": "code",
   "execution_count": 5,
   "id": "0c256778-3e68-4857-b0f0-b58320abd8fb",
   "metadata": {
    "execution": {
     "iopub.execute_input": "2022-06-19T09:37:24.351281Z",
     "iopub.status.busy": "2022-06-19T09:37:24.350640Z",
     "iopub.status.idle": "2022-06-19T09:37:24.361774Z",
     "shell.execute_reply": "2022-06-19T09:37:24.360657Z",
     "shell.execute_reply.started": "2022-06-19T09:37:24.351214Z"
    },
    "tags": []
   },
   "outputs": [],
   "source": [
    "# 建立des的文件夹\n",
    "train_root = os.path.join(data_root,\"val525e384png\")\n",
    "# mk_file(train_root)\n",
    "# for cla in data_class:\n",
    "#     # 建立每个类别对应的文件夹\n",
    "#     mk_file(os.path.join(train_root, cla))"
   ]
  },
  {
   "cell_type": "code",
   "execution_count": 6,
   "id": "34f1fe0e-171a-42dc-9ceb-f4e83b233e27",
   "metadata": {
    "execution": {
     "iopub.execute_input": "2022-06-19T09:37:31.800391Z",
     "iopub.status.busy": "2022-06-19T09:37:31.799837Z",
     "iopub.status.idle": "2022-06-19T09:37:31.811580Z",
     "shell.execute_reply": "2022-06-19T09:37:31.810083Z",
     "shell.execute_reply.started": "2022-06-19T09:37:31.800326Z"
    },
    "tags": []
   },
   "outputs": [
    {
     "data": {
      "text/plain": [
       "'/home/woodman/Jupyter/songbai/data/HAM614/val525e8'"
      ]
     },
     "execution_count": 6,
     "metadata": {},
     "output_type": "execute_result"
    }
   ],
   "source": [
    "origin_data_path"
   ]
  },
  {
   "cell_type": "code",
   "execution_count": 7,
   "id": "e4584388-3ade-42bf-9449-05b38d9de9b6",
   "metadata": {
    "execution": {
     "iopub.execute_input": "2022-06-19T09:37:32.068583Z",
     "iopub.status.busy": "2022-06-19T09:37:32.068087Z",
     "iopub.status.idle": "2022-06-19T09:37:32.077035Z",
     "shell.execute_reply": "2022-06-19T09:37:32.075933Z",
     "shell.execute_reply.started": "2022-06-19T09:37:32.068522Z"
    },
    "tags": []
   },
   "outputs": [
    {
     "data": {
      "text/plain": [
       "'/home/woodman/Jupyter/songbai/data/HAM614/val525e384png'"
      ]
     },
     "execution_count": 7,
     "metadata": {},
     "output_type": "execute_result"
    }
   ],
   "source": [
    "train_root"
   ]
  },
  {
   "cell_type": "code",
   "execution_count": 8,
   "id": "f1eb1a97-2414-4057-94ce-3257d9a98133",
   "metadata": {
    "execution": {
     "iopub.execute_input": "2022-06-19T09:37:38.409403Z",
     "iopub.status.busy": "2022-06-19T09:37:38.408983Z",
     "iopub.status.idle": "2022-06-19T09:38:08.659198Z",
     "shell.execute_reply": "2022-06-19T09:38:08.658252Z",
     "shell.execute_reply.started": "2022-06-19T09:37:38.409354Z"
    },
    "scrolled": true,
    "tags": []
   },
   "outputs": [
    {
     "name": "stdout",
     "output_type": "stream",
     "text": [
      "[vasc] processing [14/14]\n",
      "[nv] processing [664/664]\n",
      "[bkl] processing [113/113]\n",
      "[akiec] processing [33/33]\n",
      "[mel] processing [118/118]\n",
      "[df] processing [11/11]\n",
      "[bcc] processing [53/53]\n",
      "processing 1006 done!\n"
     ]
    }
   ],
   "source": [
    "#detect\n",
    "\n",
    "total_num = 0\n",
    "for cla in data_class:\n",
    "    cla_path = os.path.join(origin_data_path, cla)\n",
    "    images = os.listdir(cla_path)\n",
    "    num = len(images)\n",
    "    total_num += num\n",
    "    for index, image in enumerate(images):\n",
    "        image_path = os.path.join(cla_path, image)\n",
    "        img_name = image_path.split('/')[-1].split(\".\")[0]\n",
    "        savepath = os.path.join(train_root, cla,img_name + \".png\")\n",
    "               \n",
    "        # img = Image.open(image_path)\n",
    "        # img = img.resize((384, 384), resample=Image.LANCZOS)\n",
    "        # img.save(savepath,quality=100, optimize=True)#,format=\"PNG\"\n",
    "        \n",
    "        img = cv2.imread(image_path)       \n",
    "        img = cv2.resize(img,(384,384),\n",
    "                         interpolation=cv2.INTER_AREA)\n",
    "        \n",
    "        # PNG\n",
    "        cv2.imwrite(savepath,img, [int(cv2.IMWRITE_PNG_COMPRESSION), 0])        \n",
    "        # JPG\n",
    "        # cv2.imwrite(savepath,img,[int(cv2.IMWRITE_JPEG_QUALITY),100])\n",
    " \n",
    " \n",
    "        print(\"\\r[{}] processing [{}/{}]\".format(cla, index+1, num), end=\"\")  # processing bar\n",
    "    # break\n",
    "    print()\n",
    "\n",
    "print(f\"processing {total_num} done!\")"
   ]
  },
  {
   "cell_type": "code",
   "execution_count": null,
   "id": "26300531-f3cb-4556-8359-f11672a35055",
   "metadata": {
    "tags": []
   },
   "outputs": [],
   "source": [
    "total_num = 0\n",
    "\n",
    "for cla in data_class:\n",
    "    cla_path = os.path.join(origin_data_path, cla)\n",
    "    images = os.listdir(cla_path)\n",
    "    num = len(images)   \n",
    "    # sou_path = os.path.join(data_root,\"train530\",cla)\n",
    "    \n",
    "    # total_num += num\n",
    "    for index, image in enumerate(images):\n",
    "        image_path = os.path.join(cla_path, image)\n",
    "        img_name = image_path.split('/')[-1]\n",
    "        savepath = os.path.join(train_root, cla,image)\n",
    "        \n",
    "        # sou_img = os.path.join(sou_path,image)\n",
    "        fix = image.split(\"_\")[0]\n",
    "        \n",
    "        if fix == 'ISIC':\n",
    "            total_num += 1\n",
    "            # break\n",
    "            move(image_path,savepath)\n",
    "            # move(image_path,sou_img)\n",
    "            # img = Image.open(sou_img)\n",
    "            # img = img.resize((299, 299), resample=Image.LANCZOS)\n",
    "            # img.save(savepath,quality=100)\n",
    "        else:\n",
    "            pass\n",
    "        \n",
    "        print(\"\\r[{}] processing [{}/{}]\".format(cla, index+1, num), end=\"\")\n",
    "    print()\n",
    "    # break\n",
    "print(f\"processing {total_num} done!\")"
   ]
  },
  {
   "cell_type": "code",
   "execution_count": null,
   "id": "13947322-eb3c-4289-9d23-878fc405f4e4",
   "metadata": {
    "tags": []
   },
   "outputs": [],
   "source": [
    "total_num = 0\n",
    "\n",
    "for cla in data_class:\n",
    "    cla_path = os.path.join(origin_data_path, cla)\n",
    "    images = os.listdir(cla_path)\n",
    "    num = len(images)   \n",
    "    # sou_path = os.path.join(data_root,\"back_train\",cla)\n",
    "    \n",
    "    total_num += num\n",
    "    for index, image in enumerate(images):\n",
    "        image_path = os.path.join(cla_path, image)\n",
    "        # img_name = image_path.split('/')[-1]\n",
    "        savepath = os.path.join(train_root, cla,image)\n",
    "        \n",
    "        # sou_img = os.path.join(sou_path,image)\n",
    "        # fix = image.split(\"_\")[0]\n",
    "        # copy(image_path,savepath)\n",
    "        # if fix == 'trans':\n",
    "        #     total_num += 1\n",
    "        #     # break\n",
    "        #     move(image_path,savepath)\n",
    "        #     # move(image_path,sou_img)\n",
    "        img = Image.open(image_path)\n",
    "        img = img.resize((384, 384), resample=Image.LANCZOS)\n",
    "        img.save(savepath,format=\"PNG\",quality=100, optimize=True)\n",
    "        # else:\n",
    "        #     pass\n",
    "        \n",
    "        print(\"\\r[{}] processing [{}/{}]\".format(cla, index+1, num), end=\"\")\n",
    "    print()\n",
    "    # break\n",
    "print(f\"processing {total_num} done!\")"
   ]
  },
  {
   "cell_type": "code",
   "execution_count": null,
   "id": "60b47401-aa9b-48fa-a393-4c9aee1c797b",
   "metadata": {
    "tags": []
   },
   "outputs": [],
   "source": [
    "total_num = 0\n",
    "\n",
    "for cla in data_class:\n",
    "    cla_path = os.path.join(origin_data_path, cla)\n",
    "    images = os.listdir(cla_path)\n",
    "    num = len(images)   \n",
    "    sou_path = os.path.join(origin_data_path,cla)\n",
    "    \n",
    "    # total_num += num\n",
    "    for index, image in enumerate(images):\n",
    "        image_path = os.path.join(cla_path, image)\n",
    "        img_name = image_path.split('/')[-1]\n",
    "        savepath = os.path.join(train_root, cla,image)\n",
    "        \n",
    "        sou_img = os.path.join(sou_path,image)\n",
    "        fix = image.split(\"_\")[0]\n",
    "        \n",
    "        if fix == 'trans':\n",
    "            total_num += 1\n",
    "            # break\n",
    "            move(image_path,savepath)\n",
    "            # move(image_path,sou_img)\n",
    "            # img = Image.open(sou_img)\n",
    "            # img = img.resize((299, 299), resample=Image.LANCZOS)\n",
    "            # img.save(savepath,quality=100)\n",
    "        else:\n",
    "            pass\n",
    "        \n",
    "        print(\"\\r[{}] processing [{}/{}]\".format(cla, index+1, num), end=\"\")\n",
    "    print()\n",
    "    # break\n",
    "print(f\"processing {total_num} done!\")"
   ]
  },
  {
   "cell_type": "code",
   "execution_count": null,
   "id": "c90d3492-01ed-4538-a825-0839c60d4107",
   "metadata": {
    "scrolled": true,
    "tags": []
   },
   "outputs": [],
   "source": [
    "total_num = 0\n",
    "for cla in data_class:\n",
    "    cla_path = os.path.join(origin_data_path, cla)\n",
    "    images = os.listdir(cla_path)\n",
    "    num = len(images)   \n",
    "    sou_path = os.path.join(data_root,\"train525\",cla)\n",
    "    \n",
    "    # total_num += num\n",
    "    for index, image in enumerate(images):\n",
    "        image_path = os.path.join(cla_path, image)\n",
    "        # img_name = image_path.split('/')[-1]\n",
    "        savepath = os.path.join(data_root,\"back_train\", cla,image)\n",
    "        \n",
    "        sou_img = os.path.join(sou_path,image)\n",
    "        fix = image.split(\".\")[-1]\n",
    "        \n",
    "        if fix == 'jpg':\n",
    "            total_num += 1\n",
    "            # break\n",
    "            copy(image_path,savepath)\n",
    "            # move(image_path,sou_img)\n",
    "            # img = Image.open(sou_img)\n",
    "            # img = img.resize((299, 299), resample=Image.LANCZOS)\n",
    "            # img.save(savepath,quality=100)\n",
    "        else:\n",
    "            pass\n",
    "        \n",
    "        print(\"\\r[{}] processing [{}/{}]\".format(cla, index+1, num), end=\"\")\n",
    "    print()\n",
    "    # break\n",
    "print(f\"processing {total_num} done!\")"
   ]
  },
  {
   "cell_type": "code",
   "execution_count": null,
   "id": "d174b89b-fc6d-41ad-86ae-7b9a69011d45",
   "metadata": {
    "tags": []
   },
   "outputs": [],
   "source": [
    "# 建立des的文件夹\n",
    "train_root = os.path.join(data_root,\"299_train\")\n",
    "mk_file(train_root)\n",
    "for cla in data_class:\n",
    "    mk_file(os.path.join(train_root, cla))"
   ]
  },
  {
   "cell_type": "code",
   "execution_count": null,
   "id": "d1b168c2-2bb8-4db8-a10f-fbde91cf7644",
   "metadata": {
    "scrolled": true,
    "tags": []
   },
   "outputs": [],
   "source": [
    "total_num = 0\n",
    "for cla in data_class:\n",
    "    cla_path = os.path.join(data_root,\"train525\", cla)\n",
    "    des_path = os.path.join(data_root,\"bach_train\",cla)\n",
    "    images = os.listdir(cla_path)\n",
    "    num = len(images)   \n",
    " \n",
    "    total_num += num\n",
    "    for index, image in enumerate(images):\n",
    "        image_path = os.path.join(cla_path, image)\n",
    "        savepath = os.path.join(des_path,image)\n",
    "              \n",
    "        copy(image_path,savepath)\n",
    "        \n",
    "        print(\"\\r[{}] processing [{}/{}]\".format(cla, index+1, num), end=\"\")\n",
    "    print()\n",
    "\n",
    "print(f\"processing {total_num} done!\")"
   ]
  },
  {
   "cell_type": "code",
   "execution_count": null,
   "id": "7675cb90-22d0-4611-b588-87cb69b448f4",
   "metadata": {
    "tags": []
   },
   "outputs": [],
   "source": [
    "# 指向detect的文件夹\n",
    "cwd = os.getcwd()\n",
    "data_root = os.path.abspath(os.path.join(cwd))\n",
    "origin_data_path = os.path.join(data_root, \"train\")\n",
    "assert os.path.exists(origin_data_path), \"path '{}' does not exist.\".format(origin_data_path)"
   ]
  },
  {
   "cell_type": "code",
   "execution_count": null,
   "id": "22917c29-7c6d-4a8d-a848-2aff89459b4e",
   "metadata": {
    "tags": []
   },
   "outputs": [],
   "source": [
    "# 建立des的文件夹\n",
    "train_root = os.path.join(data_root,\"png_test\")\n",
    "mk_file(train_root)\n",
    "for cla in data_class:\n",
    "    # 建立每个类别对应的文件夹\n",
    "    mk_file(os.path.join(train_root, cla))"
   ]
  },
  {
   "cell_type": "code",
   "execution_count": null,
   "id": "c8fc2125-eec1-4389-ae7c-a03c6712540d",
   "metadata": {
    "scrolled": true,
    "tags": []
   },
   "outputs": [],
   "source": [
    "total_num = 0\n",
    "for cla in data_class:\n",
    "    cla_path = os.path.join(data_root,\"test\", cla)\n",
    "    des_path = os.path.join(data_root,\"png_test\",cla)\n",
    "    images = os.listdir(cla_path)\n",
    "    num = len(images)   \n",
    "    \n",
    "    total_num += num\n",
    "    for index, image in enumerate(images):\n",
    "        image_path = os.path.join(cla_path, image)\n",
    "        img_name = image_path.split('/')[-1]\n",
    "        savepath = os.path.join(des_path,img_name.split('.')[0] + '.png')\n",
    "\n",
    "        img = Image.open(image_path)\n",
    "        # img = img.resize((299, 299), resample=Image.LANCZOS)\n",
    "        img.save(savepath,quality=100)\n",
    "        \n",
    "        print(\"\\r[{}] processing [{}/{}]\".format(cla, index+1, num), end=\"\")\n",
    "    print()\n",
    "    # break\n",
    "print(f\"processing {total_num} done!\")"
   ]
  },
  {
   "cell_type": "raw",
   "id": "683c97fd-1676-48ff-bc0c-c6994ece3289",
   "metadata": {},
   "source": [
    "#test\n",
    "[mel] processing [34/34]\n",
    "[nv] processing [663/663]\n",
    "[vasc] processing [10/10]\n",
    "[akiec] processing [23/23]\n",
    "[bcc] processing [26/26]\n",
    "[bkl] processing [66/66]\n",
    "[df] processing [6/6]\n",
    "processing 828 done!"
   ]
  },
  {
   "cell_type": "code",
   "execution_count": null,
   "id": "a29f6bc4-3498-4520-87fe-748054197dff",
   "metadata": {
    "tags": []
   },
   "outputs": [],
   "source": [
    "#在jupyterlab打开图像后会产生一个checkpoint，干掉它。\n",
    "!find png_test/ -type f |grep .*point"
   ]
  }
 ],
 "metadata": {
  "kernelspec": {
   "display_name": "Python 3 (ipykernel)",
   "language": "python",
   "name": "python3"
  },
  "language_info": {
   "codemirror_mode": {
    "name": "ipython",
    "version": 3
   },
   "file_extension": ".py",
   "mimetype": "text/x-python",
   "name": "python",
   "nbconvert_exporter": "python",
   "pygments_lexer": "ipython3",
   "version": "3.8.11"
  }
 },
 "nbformat": 4,
 "nbformat_minor": 5
}
